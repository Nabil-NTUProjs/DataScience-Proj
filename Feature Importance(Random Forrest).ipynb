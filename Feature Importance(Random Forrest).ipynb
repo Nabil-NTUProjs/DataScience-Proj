{
 "cells": [
  {
   "cell_type": "markdown",
   "id": "c02348a3",
   "metadata": {},
   "source": [
    "# INTRODUCTION"
   ]
  },
  {
   "cell_type": "markdown",
   "id": "3e06beaa",
   "metadata": {},
   "source": []
  },
  {
   "cell_type": "markdown",
   "id": "66eb9819",
   "metadata": {},
   "source": [
    "### Data Preparation"
   ]
  },
  {
   "cell_type": "code",
   "execution_count": 35,
   "id": "2bf3bfa2",
   "metadata": {},
   "outputs": [],
   "source": [
    "# Basic Libraries\n",
    "import numpy as np\n",
    "import pandas as pd\n",
    "import seaborn as sb\n",
    "import matplotlib.pyplot as plt # we only need pyplot\n",
    "sb.set() # set the default Seaborn style for graphics\n",
    "from scipy import stats\n",
    "from sklearn.tree import DecisionTreeClassifier\n",
    "from sklearn.model_selection import train_test_split\n",
    "from collections import Counter"
   ]
  },
  {
   "cell_type": "code",
   "execution_count": 36,
   "id": "8fcf16db",
   "metadata": {},
   "outputs": [],
   "source": [
    "txtdata=\"aluminium - dangerous if greater than 2.8 ammonia - dangerous if greater than 32.5 arsenic - dangerous if greater than 0.01 barium - dangerous if greater than 2 cadmium - dangerous if greater than 0.005chloramine - dangerous if greater than 4 chromium - dangerous if greater than 0.1 copper - dangerous if greater than 1.3 flouride - dangerous if greater than 1.5 bacteria - dangerous if greater than 0 viruses - dangerous if greater than 0 lead - dangerous if greater than 0.015 nitrates - dangerous if greater than 10 nitrites - dangerous if greater than 1 mercury - dangerous if greater than 0.002 perchlorate - dangerous if greater than 56 radium - dangerous if greater than 5 selenium - dangerous if greater than 0.5 silver - dangerous if greater than 0.1 uranium - dangerous if greater than 0.3 is_safe - class attribute {0 - not safe, 1 - safe} \""
   ]
  },
  {
   "cell_type": "code",
   "execution_count": 37,
   "id": "e93d7747",
   "metadata": {},
   "outputs": [
    {
     "name": "stdout",
     "output_type": "stream",
     "text": [
      "['2.8', '32.5', '0.01', '2', '0.005', '4', '0.1', '1.3', '1.5', '0', '0', '0.015', '10', '1', '0.002', '56', '5', '0.5', '0.1', '0.3', '0', '1']\n"
     ]
    }
   ],
   "source": [
    "#print(txtdata)\n",
    "#res = [float(i) for i in txtdata.split() if isinstance(i, float)]\n",
    "import re\n",
    "result = re.findall(r\"[-+]?\\d*\\.\\d+|\\d+\", txtdata)\n",
    "print (result)\n",
    "\n",
    "#print(str(res))"
   ]
  },
  {
   "cell_type": "code",
   "execution_count": 38,
   "id": "d19fb475",
   "metadata": {},
   "outputs": [
    {
     "data": {
      "text/html": [
       "<div>\n",
       "<style scoped>\n",
       "    .dataframe tbody tr th:only-of-type {\n",
       "        vertical-align: middle;\n",
       "    }\n",
       "\n",
       "    .dataframe tbody tr th {\n",
       "        vertical-align: top;\n",
       "    }\n",
       "\n",
       "    .dataframe thead th {\n",
       "        text-align: right;\n",
       "    }\n",
       "</style>\n",
       "<table border=\"1\" class=\"dataframe\">\n",
       "  <thead>\n",
       "    <tr style=\"text-align: right;\">\n",
       "      <th></th>\n",
       "      <th>aluminium</th>\n",
       "      <th>ammonia</th>\n",
       "      <th>arsenic</th>\n",
       "      <th>barium</th>\n",
       "      <th>cadmium</th>\n",
       "      <th>chloramine</th>\n",
       "      <th>chromium</th>\n",
       "      <th>copper</th>\n",
       "      <th>flouride</th>\n",
       "      <th>bacteria</th>\n",
       "      <th>...</th>\n",
       "      <th>lead</th>\n",
       "      <th>nitrates</th>\n",
       "      <th>nitrites</th>\n",
       "      <th>mercury</th>\n",
       "      <th>perchlorate</th>\n",
       "      <th>radium</th>\n",
       "      <th>selenium</th>\n",
       "      <th>silver</th>\n",
       "      <th>uranium</th>\n",
       "      <th>is_safe</th>\n",
       "    </tr>\n",
       "  </thead>\n",
       "  <tbody>\n",
       "    <tr>\n",
       "      <th>0</th>\n",
       "      <td>1.65</td>\n",
       "      <td>9.08</td>\n",
       "      <td>0.04</td>\n",
       "      <td>2.85</td>\n",
       "      <td>0.007</td>\n",
       "      <td>0.35</td>\n",
       "      <td>0.83</td>\n",
       "      <td>0.17</td>\n",
       "      <td>0.05</td>\n",
       "      <td>0.20</td>\n",
       "      <td>...</td>\n",
       "      <td>0.054</td>\n",
       "      <td>16.08</td>\n",
       "      <td>1.13</td>\n",
       "      <td>0.007</td>\n",
       "      <td>37.75</td>\n",
       "      <td>6.78</td>\n",
       "      <td>0.08</td>\n",
       "      <td>0.34</td>\n",
       "      <td>0.02</td>\n",
       "      <td>1</td>\n",
       "    </tr>\n",
       "    <tr>\n",
       "      <th>1</th>\n",
       "      <td>2.32</td>\n",
       "      <td>21.16</td>\n",
       "      <td>0.01</td>\n",
       "      <td>3.31</td>\n",
       "      <td>0.002</td>\n",
       "      <td>5.28</td>\n",
       "      <td>0.68</td>\n",
       "      <td>0.66</td>\n",
       "      <td>0.90</td>\n",
       "      <td>0.65</td>\n",
       "      <td>...</td>\n",
       "      <td>0.100</td>\n",
       "      <td>2.01</td>\n",
       "      <td>1.93</td>\n",
       "      <td>0.003</td>\n",
       "      <td>32.26</td>\n",
       "      <td>3.21</td>\n",
       "      <td>0.08</td>\n",
       "      <td>0.27</td>\n",
       "      <td>0.05</td>\n",
       "      <td>1</td>\n",
       "    </tr>\n",
       "    <tr>\n",
       "      <th>2</th>\n",
       "      <td>1.01</td>\n",
       "      <td>14.02</td>\n",
       "      <td>0.04</td>\n",
       "      <td>0.58</td>\n",
       "      <td>0.008</td>\n",
       "      <td>4.24</td>\n",
       "      <td>0.53</td>\n",
       "      <td>0.02</td>\n",
       "      <td>0.99</td>\n",
       "      <td>0.05</td>\n",
       "      <td>...</td>\n",
       "      <td>0.078</td>\n",
       "      <td>14.16</td>\n",
       "      <td>1.11</td>\n",
       "      <td>0.006</td>\n",
       "      <td>50.28</td>\n",
       "      <td>7.07</td>\n",
       "      <td>0.07</td>\n",
       "      <td>0.44</td>\n",
       "      <td>0.01</td>\n",
       "      <td>0</td>\n",
       "    </tr>\n",
       "    <tr>\n",
       "      <th>3</th>\n",
       "      <td>1.36</td>\n",
       "      <td>11.33</td>\n",
       "      <td>0.04</td>\n",
       "      <td>2.96</td>\n",
       "      <td>0.001</td>\n",
       "      <td>7.23</td>\n",
       "      <td>0.03</td>\n",
       "      <td>1.66</td>\n",
       "      <td>1.08</td>\n",
       "      <td>0.71</td>\n",
       "      <td>...</td>\n",
       "      <td>0.016</td>\n",
       "      <td>1.41</td>\n",
       "      <td>1.29</td>\n",
       "      <td>0.004</td>\n",
       "      <td>9.12</td>\n",
       "      <td>1.72</td>\n",
       "      <td>0.02</td>\n",
       "      <td>0.45</td>\n",
       "      <td>0.05</td>\n",
       "      <td>1</td>\n",
       "    </tr>\n",
       "    <tr>\n",
       "      <th>4</th>\n",
       "      <td>0.92</td>\n",
       "      <td>24.33</td>\n",
       "      <td>0.03</td>\n",
       "      <td>0.20</td>\n",
       "      <td>0.006</td>\n",
       "      <td>2.67</td>\n",
       "      <td>0.69</td>\n",
       "      <td>0.57</td>\n",
       "      <td>0.61</td>\n",
       "      <td>0.13</td>\n",
       "      <td>...</td>\n",
       "      <td>0.117</td>\n",
       "      <td>6.74</td>\n",
       "      <td>1.11</td>\n",
       "      <td>0.003</td>\n",
       "      <td>16.90</td>\n",
       "      <td>2.41</td>\n",
       "      <td>0.02</td>\n",
       "      <td>0.06</td>\n",
       "      <td>0.02</td>\n",
       "      <td>1</td>\n",
       "    </tr>\n",
       "    <tr>\n",
       "      <th>...</th>\n",
       "      <td>...</td>\n",
       "      <td>...</td>\n",
       "      <td>...</td>\n",
       "      <td>...</td>\n",
       "      <td>...</td>\n",
       "      <td>...</td>\n",
       "      <td>...</td>\n",
       "      <td>...</td>\n",
       "      <td>...</td>\n",
       "      <td>...</td>\n",
       "      <td>...</td>\n",
       "      <td>...</td>\n",
       "      <td>...</td>\n",
       "      <td>...</td>\n",
       "      <td>...</td>\n",
       "      <td>...</td>\n",
       "      <td>...</td>\n",
       "      <td>...</td>\n",
       "      <td>...</td>\n",
       "      <td>...</td>\n",
       "      <td>...</td>\n",
       "    </tr>\n",
       "    <tr>\n",
       "      <th>7994</th>\n",
       "      <td>0.05</td>\n",
       "      <td>7.78</td>\n",
       "      <td>0.00</td>\n",
       "      <td>1.95</td>\n",
       "      <td>0.040</td>\n",
       "      <td>0.10</td>\n",
       "      <td>0.03</td>\n",
       "      <td>0.03</td>\n",
       "      <td>1.37</td>\n",
       "      <td>0.00</td>\n",
       "      <td>...</td>\n",
       "      <td>0.197</td>\n",
       "      <td>14.29</td>\n",
       "      <td>1.00</td>\n",
       "      <td>0.005</td>\n",
       "      <td>3.57</td>\n",
       "      <td>2.13</td>\n",
       "      <td>0.09</td>\n",
       "      <td>0.06</td>\n",
       "      <td>0.03</td>\n",
       "      <td>1</td>\n",
       "    </tr>\n",
       "    <tr>\n",
       "      <th>7995</th>\n",
       "      <td>0.05</td>\n",
       "      <td>24.22</td>\n",
       "      <td>0.02</td>\n",
       "      <td>0.59</td>\n",
       "      <td>0.010</td>\n",
       "      <td>0.45</td>\n",
       "      <td>0.02</td>\n",
       "      <td>0.02</td>\n",
       "      <td>1.48</td>\n",
       "      <td>0.00</td>\n",
       "      <td>...</td>\n",
       "      <td>0.031</td>\n",
       "      <td>10.27</td>\n",
       "      <td>1.00</td>\n",
       "      <td>0.001</td>\n",
       "      <td>1.48</td>\n",
       "      <td>1.11</td>\n",
       "      <td>0.09</td>\n",
       "      <td>0.10</td>\n",
       "      <td>0.08</td>\n",
       "      <td>1</td>\n",
       "    </tr>\n",
       "    <tr>\n",
       "      <th>7996</th>\n",
       "      <td>0.09</td>\n",
       "      <td>6.85</td>\n",
       "      <td>0.00</td>\n",
       "      <td>0.61</td>\n",
       "      <td>0.030</td>\n",
       "      <td>0.05</td>\n",
       "      <td>0.05</td>\n",
       "      <td>0.02</td>\n",
       "      <td>0.91</td>\n",
       "      <td>0.00</td>\n",
       "      <td>...</td>\n",
       "      <td>0.182</td>\n",
       "      <td>15.92</td>\n",
       "      <td>1.00</td>\n",
       "      <td>0.000</td>\n",
       "      <td>1.35</td>\n",
       "      <td>4.84</td>\n",
       "      <td>0.00</td>\n",
       "      <td>0.04</td>\n",
       "      <td>0.05</td>\n",
       "      <td>1</td>\n",
       "    </tr>\n",
       "    <tr>\n",
       "      <th>7997</th>\n",
       "      <td>0.01</td>\n",
       "      <td>10</td>\n",
       "      <td>0.01</td>\n",
       "      <td>2.00</td>\n",
       "      <td>0.000</td>\n",
       "      <td>2.00</td>\n",
       "      <td>0.00</td>\n",
       "      <td>0.09</td>\n",
       "      <td>0.00</td>\n",
       "      <td>0.00</td>\n",
       "      <td>...</td>\n",
       "      <td>0.000</td>\n",
       "      <td>0.00</td>\n",
       "      <td>0.00</td>\n",
       "      <td>0.000</td>\n",
       "      <td>0.00</td>\n",
       "      <td>0.00</td>\n",
       "      <td>0.00</td>\n",
       "      <td>0.00</td>\n",
       "      <td>0.00</td>\n",
       "      <td>1</td>\n",
       "    </tr>\n",
       "    <tr>\n",
       "      <th>7998</th>\n",
       "      <td>0.04</td>\n",
       "      <td>6.85</td>\n",
       "      <td>0.01</td>\n",
       "      <td>0.70</td>\n",
       "      <td>0.030</td>\n",
       "      <td>0.05</td>\n",
       "      <td>0.01</td>\n",
       "      <td>0.03</td>\n",
       "      <td>1.00</td>\n",
       "      <td>0.00</td>\n",
       "      <td>...</td>\n",
       "      <td>0.182</td>\n",
       "      <td>15.92</td>\n",
       "      <td>1.00</td>\n",
       "      <td>0.000</td>\n",
       "      <td>1.35</td>\n",
       "      <td>4.84</td>\n",
       "      <td>0.00</td>\n",
       "      <td>0.04</td>\n",
       "      <td>0.05</td>\n",
       "      <td>1</td>\n",
       "    </tr>\n",
       "  </tbody>\n",
       "</table>\n",
       "<p>7999 rows × 21 columns</p>\n",
       "</div>"
      ],
      "text/plain": [
       "      aluminium ammonia  arsenic  barium  cadmium  chloramine  chromium  \\\n",
       "0          1.65    9.08     0.04    2.85    0.007        0.35      0.83   \n",
       "1          2.32   21.16     0.01    3.31    0.002        5.28      0.68   \n",
       "2          1.01   14.02     0.04    0.58    0.008        4.24      0.53   \n",
       "3          1.36   11.33     0.04    2.96    0.001        7.23      0.03   \n",
       "4          0.92   24.33     0.03    0.20    0.006        2.67      0.69   \n",
       "...         ...     ...      ...     ...      ...         ...       ...   \n",
       "7994       0.05    7.78     0.00    1.95    0.040        0.10      0.03   \n",
       "7995       0.05   24.22     0.02    0.59    0.010        0.45      0.02   \n",
       "7996       0.09    6.85     0.00    0.61    0.030        0.05      0.05   \n",
       "7997       0.01      10     0.01    2.00    0.000        2.00      0.00   \n",
       "7998       0.04    6.85     0.01    0.70    0.030        0.05      0.01   \n",
       "\n",
       "      copper  flouride  bacteria  ...   lead  nitrates  nitrites  mercury  \\\n",
       "0       0.17      0.05      0.20  ...  0.054     16.08      1.13    0.007   \n",
       "1       0.66      0.90      0.65  ...  0.100      2.01      1.93    0.003   \n",
       "2       0.02      0.99      0.05  ...  0.078     14.16      1.11    0.006   \n",
       "3       1.66      1.08      0.71  ...  0.016      1.41      1.29    0.004   \n",
       "4       0.57      0.61      0.13  ...  0.117      6.74      1.11    0.003   \n",
       "...      ...       ...       ...  ...    ...       ...       ...      ...   \n",
       "7994    0.03      1.37      0.00  ...  0.197     14.29      1.00    0.005   \n",
       "7995    0.02      1.48      0.00  ...  0.031     10.27      1.00    0.001   \n",
       "7996    0.02      0.91      0.00  ...  0.182     15.92      1.00    0.000   \n",
       "7997    0.09      0.00      0.00  ...  0.000      0.00      0.00    0.000   \n",
       "7998    0.03      1.00      0.00  ...  0.182     15.92      1.00    0.000   \n",
       "\n",
       "      perchlorate  radium  selenium  silver  uranium  is_safe  \n",
       "0           37.75    6.78      0.08    0.34     0.02        1  \n",
       "1           32.26    3.21      0.08    0.27     0.05        1  \n",
       "2           50.28    7.07      0.07    0.44     0.01        0  \n",
       "3            9.12    1.72      0.02    0.45     0.05        1  \n",
       "4           16.90    2.41      0.02    0.06     0.02        1  \n",
       "...           ...     ...       ...     ...      ...      ...  \n",
       "7994         3.57    2.13      0.09    0.06     0.03        1  \n",
       "7995         1.48    1.11      0.09    0.10     0.08        1  \n",
       "7996         1.35    4.84      0.00    0.04     0.05        1  \n",
       "7997         0.00    0.00      0.00    0.00     0.00        1  \n",
       "7998         1.35    4.84      0.00    0.04     0.05        1  \n",
       "\n",
       "[7999 rows x 21 columns]"
      ]
     },
     "execution_count": 38,
     "metadata": {},
     "output_type": "execute_result"
    }
   ],
   "source": [
    "Data=pd.read_csv('waterQuality1.csv')\n",
    "Data"
   ]
  },
  {
   "cell_type": "code",
   "execution_count": 39,
   "id": "c2049a1a",
   "metadata": {},
   "outputs": [
    {
     "name": "stdout",
     "output_type": "stream",
     "text": [
      "<class 'pandas.core.frame.DataFrame'>\n",
      "RangeIndex: 7999 entries, 0 to 7998\n",
      "Data columns (total 21 columns):\n",
      " #   Column       Non-Null Count  Dtype  \n",
      "---  ------       --------------  -----  \n",
      " 0   aluminium    7999 non-null   float64\n",
      " 1   ammonia      7999 non-null   float64\n",
      " 2   arsenic      7999 non-null   float64\n",
      " 3   barium       7999 non-null   float64\n",
      " 4   cadmium      7999 non-null   float64\n",
      " 5   chloramine   7999 non-null   float64\n",
      " 6   chromium     7999 non-null   float64\n",
      " 7   copper       7999 non-null   float64\n",
      " 8   flouride     7999 non-null   float64\n",
      " 9   bacteria     7999 non-null   float64\n",
      " 10  viruses      7999 non-null   float64\n",
      " 11  lead         7999 non-null   float64\n",
      " 12  nitrates     7999 non-null   float64\n",
      " 13  nitrites     7999 non-null   float64\n",
      " 14  mercury      7999 non-null   float64\n",
      " 15  perchlorate  7999 non-null   float64\n",
      " 16  radium       7999 non-null   float64\n",
      " 17  selenium     7999 non-null   float64\n",
      " 18  silver       7999 non-null   float64\n",
      " 19  uranium      7999 non-null   float64\n",
      " 20  is_safe      7999 non-null   object \n",
      "dtypes: float64(20), object(1)\n",
      "memory usage: 1.3+ MB\n"
     ]
    }
   ],
   "source": [
    "AmmoniaData=[]\n",
    "for i in range(len(Data)):\n",
    "    k=Data.loc[i,'ammonia']\n",
    "    if k=='#NUM!':\n",
    "        AmmoniaData+=[0]\n",
    "    else:\n",
    "        AmmoniaData+=[float(k)]\n",
    "Data['ammonia']=AmmoniaData\n",
    "\n",
    "Data.info()"
   ]
  },
  {
   "cell_type": "code",
   "execution_count": 40,
   "id": "1848796f",
   "metadata": {},
   "outputs": [],
   "source": [
    "OriginalDataForLDA=Data.copy()\n",
    "OriginalData=Data.copy()"
   ]
  },
  {
   "cell_type": "code",
   "execution_count": 41,
   "id": "a4773213",
   "metadata": {},
   "outputs": [],
   "source": [
    "indexNames = OriginalDataForLDA[OriginalDataForLDA['is_safe'] == \"#NUM!\" ].index\n",
    "#Delete these row indexes from dataFrame\n",
    "OriginalDataForLDA.drop(indexNames , inplace=True)"
   ]
  },
  {
   "cell_type": "code",
   "execution_count": 42,
   "id": "bf2ec5d4",
   "metadata": {},
   "outputs": [],
   "source": [
    "# separate safe and not safe data\n",
    "data_0 = OriginalDataForLDA[OriginalDataForLDA['is_safe'] == '0']\n",
    "data_1 = OriginalDataForLDA[OriginalDataForLDA['is_safe'] == '1']"
   ]
  },
  {
   "cell_type": "code",
   "execution_count": 43,
   "id": "8ba153f2",
   "metadata": {},
   "outputs": [],
   "source": [
    "data_0 = data_0.sample(n=7084)"
   ]
  },
  {
   "cell_type": "code",
   "execution_count": 44,
   "id": "8cad3015",
   "metadata": {},
   "outputs": [
    {
     "data": {
      "text/plain": [
       "0    7084\n",
       "1     912\n",
       "Name: is_safe, dtype: int64"
      ]
     },
     "execution_count": 44,
     "metadata": {},
     "output_type": "execute_result"
    }
   ],
   "source": [
    "#put the issafe column together again\n",
    "data_isSafe = data_1.append(data_0)\n",
    "data_isSafe.is_safe.value_counts()"
   ]
  },
  {
   "cell_type": "code",
   "execution_count": 45,
   "id": "a7678f07",
   "metadata": {},
   "outputs": [],
   "source": [
    "u = data_isSafe.iloc[:, :-1]\n",
    "v = data_isSafe.iloc[:, -1]"
   ]
  },
  {
   "cell_type": "markdown",
   "id": "968a8b23",
   "metadata": {},
   "source": [
    "### Resampling"
   ]
  },
  {
   "cell_type": "code",
   "execution_count": 46,
   "id": "c085b894",
   "metadata": {},
   "outputs": [
    {
     "name": "stdout",
     "output_type": "stream",
     "text": [
      "original dataset shape: Counter({'0': 7084, '1': 912})\n",
      "Resample dataset shape Counter({'0': 912, '1': 912})\n"
     ]
    }
   ],
   "source": [
    "# import library\n",
    "import imblearn\n",
    "# import library\n",
    "from imblearn.under_sampling import RandomUnderSampler\n",
    "\n",
    "rus = RandomUnderSampler(random_state=42, replacement=True)\n",
    "\n",
    "# fit predictor and target varialbe\n",
    "u_rus, v_rus = rus.fit_resample(u, v)\n",
    "\n",
    "print('original dataset shape:', Counter(v))\n",
    "print('Resample dataset shape', Counter(v_rus))"
   ]
  },
  {
   "cell_type": "code",
   "execution_count": 47,
   "id": "d3ce0807",
   "metadata": {},
   "outputs": [],
   "source": [
    "resampled=v_rus\n",
    "resampled_variable=u_rus"
   ]
  },
  {
   "cell_type": "code",
   "execution_count": 48,
   "id": "a12c7932",
   "metadata": {},
   "outputs": [],
   "source": [
    "resampled = resampled.to_frame(name=\"is_safe\")"
   ]
  },
  {
   "cell_type": "code",
   "execution_count": 49,
   "id": "7e106e10",
   "metadata": {},
   "outputs": [
    {
     "data": {
      "text/plain": [
       "<seaborn.axisgrid.FacetGrid at 0x25b64703b80>"
      ]
     },
     "execution_count": 49,
     "metadata": {},
     "output_type": "execute_result"
    },
    {
     "data": {
      "image/png": "[encoded data removed]",
      "text/plain": [
       "<Figure size 360x360 with 1 Axes>"
      ]
     },
     "metadata": {},
     "output_type": "display_data"
    }
   ],
   "source": [
    "sb.catplot(y = 'is_safe', data = resampled, kind = \"count\")"
   ]
  },
  {
   "cell_type": "markdown",
   "id": "2aae74a9",
   "metadata": {},
   "source": [
    "The number of safe data and not safe data are now equal"
   ]
  },
  {
   "cell_type": "code",
   "execution_count": 50,
   "id": "71768144",
   "metadata": {},
   "outputs": [
    {
     "data": {
      "text/html": [
       "<div>\n",
       "<style scoped>\n",
       "    .dataframe tbody tr th:only-of-type {\n",
       "        vertical-align: middle;\n",
       "    }\n",
       "\n",
       "    .dataframe tbody tr th {\n",
       "        vertical-align: top;\n",
       "    }\n",
       "\n",
       "    .dataframe thead th {\n",
       "        text-align: right;\n",
       "    }\n",
       "</style>\n",
       "<table border=\"1\" class=\"dataframe\">\n",
       "  <thead>\n",
       "    <tr style=\"text-align: right;\">\n",
       "      <th></th>\n",
       "      <th>aluminium</th>\n",
       "      <th>ammonia</th>\n",
       "      <th>arsenic</th>\n",
       "      <th>barium</th>\n",
       "      <th>cadmium</th>\n",
       "      <th>chloramine</th>\n",
       "      <th>chromium</th>\n",
       "      <th>copper</th>\n",
       "      <th>flouride</th>\n",
       "      <th>bacteria</th>\n",
       "      <th>...</th>\n",
       "      <th>lead</th>\n",
       "      <th>nitrates</th>\n",
       "      <th>nitrites</th>\n",
       "      <th>mercury</th>\n",
       "      <th>perchlorate</th>\n",
       "      <th>radium</th>\n",
       "      <th>selenium</th>\n",
       "      <th>silver</th>\n",
       "      <th>uranium</th>\n",
       "      <th>is_safe</th>\n",
       "    </tr>\n",
       "  </thead>\n",
       "  <tbody>\n",
       "    <tr>\n",
       "      <th>0</th>\n",
       "      <td>0.02</td>\n",
       "      <td>1.82</td>\n",
       "      <td>0.07</td>\n",
       "      <td>1.96</td>\n",
       "      <td>0.07</td>\n",
       "      <td>0.12</td>\n",
       "      <td>0.00</td>\n",
       "      <td>0.38</td>\n",
       "      <td>0.02</td>\n",
       "      <td>0.76</td>\n",
       "      <td>...</td>\n",
       "      <td>0.121</td>\n",
       "      <td>7.89</td>\n",
       "      <td>1.61</td>\n",
       "      <td>0.008</td>\n",
       "      <td>6.60</td>\n",
       "      <td>0.24</td>\n",
       "      <td>0.07</td>\n",
       "      <td>0.06</td>\n",
       "      <td>0.09</td>\n",
       "      <td>0</td>\n",
       "    </tr>\n",
       "    <tr>\n",
       "      <th>1</th>\n",
       "      <td>2.29</td>\n",
       "      <td>21.66</td>\n",
       "      <td>0.58</td>\n",
       "      <td>1.61</td>\n",
       "      <td>0.08</td>\n",
       "      <td>5.31</td>\n",
       "      <td>0.13</td>\n",
       "      <td>1.68</td>\n",
       "      <td>0.76</td>\n",
       "      <td>0.00</td>\n",
       "      <td>...</td>\n",
       "      <td>0.163</td>\n",
       "      <td>5.69</td>\n",
       "      <td>1.76</td>\n",
       "      <td>0.002</td>\n",
       "      <td>11.79</td>\n",
       "      <td>4.05</td>\n",
       "      <td>0.03</td>\n",
       "      <td>0.12</td>\n",
       "      <td>0.08</td>\n",
       "      <td>0</td>\n",
       "    </tr>\n",
       "    <tr>\n",
       "      <th>2</th>\n",
       "      <td>0.08</td>\n",
       "      <td>13.90</td>\n",
       "      <td>0.86</td>\n",
       "      <td>1.04</td>\n",
       "      <td>0.11</td>\n",
       "      <td>2.39</td>\n",
       "      <td>0.29</td>\n",
       "      <td>0.99</td>\n",
       "      <td>0.31</td>\n",
       "      <td>0.01</td>\n",
       "      <td>...</td>\n",
       "      <td>0.190</td>\n",
       "      <td>11.30</td>\n",
       "      <td>1.44</td>\n",
       "      <td>0.003</td>\n",
       "      <td>35.07</td>\n",
       "      <td>3.41</td>\n",
       "      <td>0.04</td>\n",
       "      <td>0.09</td>\n",
       "      <td>0.04</td>\n",
       "      <td>0</td>\n",
       "    </tr>\n",
       "    <tr>\n",
       "      <th>3</th>\n",
       "      <td>0.20</td>\n",
       "      <td>3.72</td>\n",
       "      <td>0.14</td>\n",
       "      <td>1.46</td>\n",
       "      <td>0.06</td>\n",
       "      <td>0.97</td>\n",
       "      <td>0.10</td>\n",
       "      <td>1.60</td>\n",
       "      <td>0.83</td>\n",
       "      <td>0.68</td>\n",
       "      <td>...</td>\n",
       "      <td>0.153</td>\n",
       "      <td>5.65</td>\n",
       "      <td>1.81</td>\n",
       "      <td>0.009</td>\n",
       "      <td>25.80</td>\n",
       "      <td>7.22</td>\n",
       "      <td>0.05</td>\n",
       "      <td>0.49</td>\n",
       "      <td>0.05</td>\n",
       "      <td>0</td>\n",
       "    </tr>\n",
       "    <tr>\n",
       "      <th>4</th>\n",
       "      <td>0.01</td>\n",
       "      <td>28.30</td>\n",
       "      <td>0.07</td>\n",
       "      <td>1.52</td>\n",
       "      <td>0.10</td>\n",
       "      <td>0.10</td>\n",
       "      <td>0.02</td>\n",
       "      <td>0.04</td>\n",
       "      <td>0.59</td>\n",
       "      <td>0.00</td>\n",
       "      <td>...</td>\n",
       "      <td>0.025</td>\n",
       "      <td>0.86</td>\n",
       "      <td>0.21</td>\n",
       "      <td>0.001</td>\n",
       "      <td>8.13</td>\n",
       "      <td>6.36</td>\n",
       "      <td>0.03</td>\n",
       "      <td>0.00</td>\n",
       "      <td>0.08</td>\n",
       "      <td>0</td>\n",
       "    </tr>\n",
       "    <tr>\n",
       "      <th>...</th>\n",
       "      <td>...</td>\n",
       "      <td>...</td>\n",
       "      <td>...</td>\n",
       "      <td>...</td>\n",
       "      <td>...</td>\n",
       "      <td>...</td>\n",
       "      <td>...</td>\n",
       "      <td>...</td>\n",
       "      <td>...</td>\n",
       "      <td>...</td>\n",
       "      <td>...</td>\n",
       "      <td>...</td>\n",
       "      <td>...</td>\n",
       "      <td>...</td>\n",
       "      <td>...</td>\n",
       "      <td>...</td>\n",
       "      <td>...</td>\n",
       "      <td>...</td>\n",
       "      <td>...</td>\n",
       "      <td>...</td>\n",
       "      <td>...</td>\n",
       "    </tr>\n",
       "    <tr>\n",
       "      <th>1819</th>\n",
       "      <td>0.05</td>\n",
       "      <td>7.78</td>\n",
       "      <td>0.00</td>\n",
       "      <td>1.95</td>\n",
       "      <td>0.04</td>\n",
       "      <td>0.10</td>\n",
       "      <td>0.03</td>\n",
       "      <td>0.03</td>\n",
       "      <td>1.37</td>\n",
       "      <td>0.00</td>\n",
       "      <td>...</td>\n",
       "      <td>0.197</td>\n",
       "      <td>14.29</td>\n",
       "      <td>1.00</td>\n",
       "      <td>0.005</td>\n",
       "      <td>3.57</td>\n",
       "      <td>2.13</td>\n",
       "      <td>0.09</td>\n",
       "      <td>0.06</td>\n",
       "      <td>0.03</td>\n",
       "      <td>1</td>\n",
       "    </tr>\n",
       "    <tr>\n",
       "      <th>1820</th>\n",
       "      <td>0.05</td>\n",
       "      <td>24.22</td>\n",
       "      <td>0.02</td>\n",
       "      <td>0.59</td>\n",
       "      <td>0.01</td>\n",
       "      <td>0.45</td>\n",
       "      <td>0.02</td>\n",
       "      <td>0.02</td>\n",
       "      <td>1.48</td>\n",
       "      <td>0.00</td>\n",
       "      <td>...</td>\n",
       "      <td>0.031</td>\n",
       "      <td>10.27</td>\n",
       "      <td>1.00</td>\n",
       "      <td>0.001</td>\n",
       "      <td>1.48</td>\n",
       "      <td>1.11</td>\n",
       "      <td>0.09</td>\n",
       "      <td>0.10</td>\n",
       "      <td>0.08</td>\n",
       "      <td>1</td>\n",
       "    </tr>\n",
       "    <tr>\n",
       "      <th>1821</th>\n",
       "      <td>0.09</td>\n",
       "      <td>6.85</td>\n",
       "      <td>0.00</td>\n",
       "      <td>0.61</td>\n",
       "      <td>0.03</td>\n",
       "      <td>0.05</td>\n",
       "      <td>0.05</td>\n",
       "      <td>0.02</td>\n",
       "      <td>0.91</td>\n",
       "      <td>0.00</td>\n",
       "      <td>...</td>\n",
       "      <td>0.182</td>\n",
       "      <td>15.92</td>\n",
       "      <td>1.00</td>\n",
       "      <td>0.000</td>\n",
       "      <td>1.35</td>\n",
       "      <td>4.84</td>\n",
       "      <td>0.00</td>\n",
       "      <td>0.04</td>\n",
       "      <td>0.05</td>\n",
       "      <td>1</td>\n",
       "    </tr>\n",
       "    <tr>\n",
       "      <th>1822</th>\n",
       "      <td>0.01</td>\n",
       "      <td>10.00</td>\n",
       "      <td>0.01</td>\n",
       "      <td>2.00</td>\n",
       "      <td>0.00</td>\n",
       "      <td>2.00</td>\n",
       "      <td>0.00</td>\n",
       "      <td>0.09</td>\n",
       "      <td>0.00</td>\n",
       "      <td>0.00</td>\n",
       "      <td>...</td>\n",
       "      <td>0.000</td>\n",
       "      <td>0.00</td>\n",
       "      <td>0.00</td>\n",
       "      <td>0.000</td>\n",
       "      <td>0.00</td>\n",
       "      <td>0.00</td>\n",
       "      <td>0.00</td>\n",
       "      <td>0.00</td>\n",
       "      <td>0.00</td>\n",
       "      <td>1</td>\n",
       "    </tr>\n",
       "    <tr>\n",
       "      <th>1823</th>\n",
       "      <td>0.04</td>\n",
       "      <td>6.85</td>\n",
       "      <td>0.01</td>\n",
       "      <td>0.70</td>\n",
       "      <td>0.03</td>\n",
       "      <td>0.05</td>\n",
       "      <td>0.01</td>\n",
       "      <td>0.03</td>\n",
       "      <td>1.00</td>\n",
       "      <td>0.00</td>\n",
       "      <td>...</td>\n",
       "      <td>0.182</td>\n",
       "      <td>15.92</td>\n",
       "      <td>1.00</td>\n",
       "      <td>0.000</td>\n",
       "      <td>1.35</td>\n",
       "      <td>4.84</td>\n",
       "      <td>0.00</td>\n",
       "      <td>0.04</td>\n",
       "      <td>0.05</td>\n",
       "      <td>1</td>\n",
       "    </tr>\n",
       "  </tbody>\n",
       "</table>\n",
       "<p>1824 rows × 21 columns</p>\n",
       "</div>"
      ],
      "text/plain": [
       "      aluminium  ammonia  arsenic  barium  cadmium  chloramine  chromium  \\\n",
       "0          0.02     1.82     0.07    1.96     0.07        0.12      0.00   \n",
       "1          2.29    21.66     0.58    1.61     0.08        5.31      0.13   \n",
       "2          0.08    13.90     0.86    1.04     0.11        2.39      0.29   \n",
       "3          0.20     3.72     0.14    1.46     0.06        0.97      0.10   \n",
       "4          0.01    28.30     0.07    1.52     0.10        0.10      0.02   \n",
       "...         ...      ...      ...     ...      ...         ...       ...   \n",
       "1819       0.05     7.78     0.00    1.95     0.04        0.10      0.03   \n",
       "1820       0.05    24.22     0.02    0.59     0.01        0.45      0.02   \n",
       "1821       0.09     6.85     0.00    0.61     0.03        0.05      0.05   \n",
       "1822       0.01    10.00     0.01    2.00     0.00        2.00      0.00   \n",
       "1823       0.04     6.85     0.01    0.70     0.03        0.05      0.01   \n",
       "\n",
       "      copper  flouride  bacteria  ...   lead  nitrates  nitrites  mercury  \\\n",
       "0       0.38      0.02      0.76  ...  0.121      7.89      1.61    0.008   \n",
       "1       1.68      0.76      0.00  ...  0.163      5.69      1.76    0.002   \n",
       "2       0.99      0.31      0.01  ...  0.190     11.30      1.44    0.003   \n",
       "3       1.60      0.83      0.68  ...  0.153      5.65      1.81    0.009   \n",
       "4       0.04      0.59      0.00  ...  0.025      0.86      0.21    0.001   \n",
       "...      ...       ...       ...  ...    ...       ...       ...      ...   \n",
       "1819    0.03      1.37      0.00  ...  0.197     14.29      1.00    0.005   \n",
       "1820    0.02      1.48      0.00  ...  0.031     10.27      1.00    0.001   \n",
       "1821    0.02      0.91      0.00  ...  0.182     15.92      1.00    0.000   \n",
       "1822    0.09      0.00      0.00  ...  0.000      0.00      0.00    0.000   \n",
       "1823    0.03      1.00      0.00  ...  0.182     15.92      1.00    0.000   \n",
       "\n",
       "      perchlorate  radium  selenium  silver  uranium  is_safe  \n",
       "0            6.60    0.24      0.07    0.06     0.09        0  \n",
       "1           11.79    4.05      0.03    0.12     0.08        0  \n",
       "2           35.07    3.41      0.04    0.09     0.04        0  \n",
       "3           25.80    7.22      0.05    0.49     0.05        0  \n",
       "4            8.13    6.36      0.03    0.00     0.08        0  \n",
       "...           ...     ...       ...     ...      ...      ...  \n",
       "1819         3.57    2.13      0.09    0.06     0.03        1  \n",
       "1820         1.48    1.11      0.09    0.10     0.08        1  \n",
       "1821         1.35    4.84      0.00    0.04     0.05        1  \n",
       "1822         0.00    0.00      0.00    0.00     0.00        1  \n",
       "1823         1.35    4.84      0.00    0.04     0.05        1  \n",
       "\n",
       "[1824 rows x 21 columns]"
      ]
     },
     "execution_count": 50,
     "metadata": {},
     "output_type": "execute_result"
    }
   ],
   "source": [
    "# combine the data together again\n",
    "OriginalDataForLDA=resampled_variable\n",
    "OriginalDataForLDA[\"is_safe\"]=resampled\n",
    "OriginalDataForLDA"
   ]
  },
  {
   "cell_type": "code",
   "execution_count": 51,
   "id": "0c466bd7",
   "metadata": {},
   "outputs": [],
   "source": [
    "DescribeFrame=Data.describe()"
   ]
  },
  {
   "cell_type": "code",
   "execution_count": 52,
   "id": "ccbb0c7d",
   "metadata": {},
   "outputs": [
    {
     "name": "stdout",
     "output_type": "stream",
     "text": [
      "['aluminium', 'ammonia', 'arsenic', 'barium', 'cadmium', 'chloramine', 'chromium', 'copper', 'flouride', 'bacteria', 'viruses', 'lead', 'nitrates', 'nitrites', 'mercury', 'perchlorate', 'radium', 'selenium', 'silver', 'uranium', 'is_safe']\n",
      "[5.05, 29.84, 1.05, 4.94, 0.13, 8.68, 0.9, 2.0, 1.5, 1.0, 1.0, 0.2, 19.83, 2.93, 0.01, 60.01, 7.99, 0.1, 0.5, 0.09]\n",
      "['2.8', '32.5', '0.01', '2', '0.005', '4', '0.1', '1.3', '1.5', '0', '0', '0.015', '10', '1', '0.002', '56', '5', '0.5', '0.1', '0.3', '0', '1']\n"
     ]
    }
   ],
   "source": [
    "ColList=list(Data.columns)\n",
    "print(ColList)\n",
    "MaxCount=DescribeFrame.iloc[7]\n",
    "Max_list =MaxCount.tolist()\n",
    "print(Max_list)\n",
    "print (result)"
   ]
  },
  {
   "cell_type": "code",
   "execution_count": 53,
   "id": "06c12029",
   "metadata": {},
   "outputs": [],
   "source": [
    "for j in range (19):\n",
    "    if float(Max_list[j])<=float(result[j]):\n",
    "        OriginalDataForLDA[str(ColList[j]+'_bin')]= pd.cut(Data.iloc[:,j],\n",
    "                           [-0.001, float(result[j]), 100.00],\n",
    "                           labels=['Safe', 'Dangerous'])\n",
    "    else:\n",
    "        OriginalDataForLDA[str(ColList[j]+'_bin')]= pd.cut(Data.iloc[:,j],\n",
    "                           [-0.001, float(result[j]), float(Max_list[j])],\n",
    "                           labels=['Safe', 'Dangerous'])"
   ]
  },
  {
   "cell_type": "code",
   "execution_count": 54,
   "id": "646194c6",
   "metadata": {},
   "outputs": [
    {
     "data": {
      "text/html": [
       "<div>\n",
       "<style scoped>\n",
       "    .dataframe tbody tr th:only-of-type {\n",
       "        vertical-align: middle;\n",
       "    }\n",
       "\n",
       "    .dataframe tbody tr th {\n",
       "        vertical-align: top;\n",
       "    }\n",
       "\n",
       "    .dataframe thead th {\n",
       "        text-align: right;\n",
       "    }\n",
       "</style>\n",
       "<table border=\"1\" class=\"dataframe\">\n",
       "  <thead>\n",
       "    <tr style=\"text-align: right;\">\n",
       "      <th></th>\n",
       "      <th>aluminium</th>\n",
       "      <th>ammonia</th>\n",
       "      <th>arsenic</th>\n",
       "      <th>barium</th>\n",
       "      <th>cadmium</th>\n",
       "      <th>chloramine</th>\n",
       "      <th>chromium</th>\n",
       "      <th>copper</th>\n",
       "      <th>flouride</th>\n",
       "      <th>bacteria</th>\n",
       "      <th>...</th>\n",
       "      <th>bacteria_bin</th>\n",
       "      <th>viruses_bin</th>\n",
       "      <th>lead_bin</th>\n",
       "      <th>nitrates_bin</th>\n",
       "      <th>nitrites_bin</th>\n",
       "      <th>mercury_bin</th>\n",
       "      <th>perchlorate_bin</th>\n",
       "      <th>radium_bin</th>\n",
       "      <th>selenium_bin</th>\n",
       "      <th>silver_bin</th>\n",
       "    </tr>\n",
       "  </thead>\n",
       "  <tbody>\n",
       "    <tr>\n",
       "      <th>0</th>\n",
       "      <td>0.02</td>\n",
       "      <td>1.82</td>\n",
       "      <td>0.07</td>\n",
       "      <td>1.96</td>\n",
       "      <td>0.07</td>\n",
       "      <td>0.12</td>\n",
       "      <td>0.00</td>\n",
       "      <td>0.38</td>\n",
       "      <td>0.02</td>\n",
       "      <td>0.76</td>\n",
       "      <td>...</td>\n",
       "      <td>Dangerous</td>\n",
       "      <td>Safe</td>\n",
       "      <td>Dangerous</td>\n",
       "      <td>Dangerous</td>\n",
       "      <td>Dangerous</td>\n",
       "      <td>Dangerous</td>\n",
       "      <td>Safe</td>\n",
       "      <td>Dangerous</td>\n",
       "      <td>Safe</td>\n",
       "      <td>Dangerous</td>\n",
       "    </tr>\n",
       "    <tr>\n",
       "      <th>1</th>\n",
       "      <td>2.29</td>\n",
       "      <td>21.66</td>\n",
       "      <td>0.58</td>\n",
       "      <td>1.61</td>\n",
       "      <td>0.08</td>\n",
       "      <td>5.31</td>\n",
       "      <td>0.13</td>\n",
       "      <td>1.68</td>\n",
       "      <td>0.76</td>\n",
       "      <td>0.00</td>\n",
       "      <td>...</td>\n",
       "      <td>Dangerous</td>\n",
       "      <td>Dangerous</td>\n",
       "      <td>Dangerous</td>\n",
       "      <td>Safe</td>\n",
       "      <td>Dangerous</td>\n",
       "      <td>Dangerous</td>\n",
       "      <td>Safe</td>\n",
       "      <td>Safe</td>\n",
       "      <td>Safe</td>\n",
       "      <td>Dangerous</td>\n",
       "    </tr>\n",
       "    <tr>\n",
       "      <th>2</th>\n",
       "      <td>0.08</td>\n",
       "      <td>13.90</td>\n",
       "      <td>0.86</td>\n",
       "      <td>1.04</td>\n",
       "      <td>0.11</td>\n",
       "      <td>2.39</td>\n",
       "      <td>0.29</td>\n",
       "      <td>0.99</td>\n",
       "      <td>0.31</td>\n",
       "      <td>0.01</td>\n",
       "      <td>...</td>\n",
       "      <td>Dangerous</td>\n",
       "      <td>Dangerous</td>\n",
       "      <td>Dangerous</td>\n",
       "      <td>Dangerous</td>\n",
       "      <td>Dangerous</td>\n",
       "      <td>Dangerous</td>\n",
       "      <td>Safe</td>\n",
       "      <td>Dangerous</td>\n",
       "      <td>Safe</td>\n",
       "      <td>Dangerous</td>\n",
       "    </tr>\n",
       "    <tr>\n",
       "      <th>3</th>\n",
       "      <td>0.20</td>\n",
       "      <td>3.72</td>\n",
       "      <td>0.14</td>\n",
       "      <td>1.46</td>\n",
       "      <td>0.06</td>\n",
       "      <td>0.97</td>\n",
       "      <td>0.10</td>\n",
       "      <td>1.60</td>\n",
       "      <td>0.83</td>\n",
       "      <td>0.68</td>\n",
       "      <td>...</td>\n",
       "      <td>Dangerous</td>\n",
       "      <td>Dangerous</td>\n",
       "      <td>Dangerous</td>\n",
       "      <td>Safe</td>\n",
       "      <td>Dangerous</td>\n",
       "      <td>Dangerous</td>\n",
       "      <td>Safe</td>\n",
       "      <td>Safe</td>\n",
       "      <td>Safe</td>\n",
       "      <td>Dangerous</td>\n",
       "    </tr>\n",
       "    <tr>\n",
       "      <th>4</th>\n",
       "      <td>0.01</td>\n",
       "      <td>28.30</td>\n",
       "      <td>0.07</td>\n",
       "      <td>1.52</td>\n",
       "      <td>0.10</td>\n",
       "      <td>0.10</td>\n",
       "      <td>0.02</td>\n",
       "      <td>0.04</td>\n",
       "      <td>0.59</td>\n",
       "      <td>0.00</td>\n",
       "      <td>...</td>\n",
       "      <td>Dangerous</td>\n",
       "      <td>Dangerous</td>\n",
       "      <td>Dangerous</td>\n",
       "      <td>Safe</td>\n",
       "      <td>Dangerous</td>\n",
       "      <td>Dangerous</td>\n",
       "      <td>Safe</td>\n",
       "      <td>Safe</td>\n",
       "      <td>Safe</td>\n",
       "      <td>Safe</td>\n",
       "    </tr>\n",
       "    <tr>\n",
       "      <th>...</th>\n",
       "      <td>...</td>\n",
       "      <td>...</td>\n",
       "      <td>...</td>\n",
       "      <td>...</td>\n",
       "      <td>...</td>\n",
       "      <td>...</td>\n",
       "      <td>...</td>\n",
       "      <td>...</td>\n",
       "      <td>...</td>\n",
       "      <td>...</td>\n",
       "      <td>...</td>\n",
       "      <td>...</td>\n",
       "      <td>...</td>\n",
       "      <td>...</td>\n",
       "      <td>...</td>\n",
       "      <td>...</td>\n",
       "      <td>...</td>\n",
       "      <td>...</td>\n",
       "      <td>...</td>\n",
       "      <td>...</td>\n",
       "      <td>...</td>\n",
       "    </tr>\n",
       "    <tr>\n",
       "      <th>1819</th>\n",
       "      <td>0.05</td>\n",
       "      <td>7.78</td>\n",
       "      <td>0.00</td>\n",
       "      <td>1.95</td>\n",
       "      <td>0.04</td>\n",
       "      <td>0.10</td>\n",
       "      <td>0.03</td>\n",
       "      <td>0.03</td>\n",
       "      <td>1.37</td>\n",
       "      <td>0.00</td>\n",
       "      <td>...</td>\n",
       "      <td>Dangerous</td>\n",
       "      <td>Dangerous</td>\n",
       "      <td>Dangerous</td>\n",
       "      <td>Dangerous</td>\n",
       "      <td>Dangerous</td>\n",
       "      <td>Safe</td>\n",
       "      <td>Dangerous</td>\n",
       "      <td>Dangerous</td>\n",
       "      <td>Safe</td>\n",
       "      <td>Dangerous</td>\n",
       "    </tr>\n",
       "    <tr>\n",
       "      <th>1820</th>\n",
       "      <td>0.05</td>\n",
       "      <td>24.22</td>\n",
       "      <td>0.02</td>\n",
       "      <td>0.59</td>\n",
       "      <td>0.01</td>\n",
       "      <td>0.45</td>\n",
       "      <td>0.02</td>\n",
       "      <td>0.02</td>\n",
       "      <td>1.48</td>\n",
       "      <td>0.00</td>\n",
       "      <td>...</td>\n",
       "      <td>Dangerous</td>\n",
       "      <td>Dangerous</td>\n",
       "      <td>Dangerous</td>\n",
       "      <td>Safe</td>\n",
       "      <td>Dangerous</td>\n",
       "      <td>Dangerous</td>\n",
       "      <td>Safe</td>\n",
       "      <td>Safe</td>\n",
       "      <td>Safe</td>\n",
       "      <td>Dangerous</td>\n",
       "    </tr>\n",
       "    <tr>\n",
       "      <th>1821</th>\n",
       "      <td>0.09</td>\n",
       "      <td>6.85</td>\n",
       "      <td>0.00</td>\n",
       "      <td>0.61</td>\n",
       "      <td>0.03</td>\n",
       "      <td>0.05</td>\n",
       "      <td>0.05</td>\n",
       "      <td>0.02</td>\n",
       "      <td>0.91</td>\n",
       "      <td>0.00</td>\n",
       "      <td>...</td>\n",
       "      <td>Dangerous</td>\n",
       "      <td>Dangerous</td>\n",
       "      <td>Dangerous</td>\n",
       "      <td>Safe</td>\n",
       "      <td>Dangerous</td>\n",
       "      <td>Dangerous</td>\n",
       "      <td>Safe</td>\n",
       "      <td>Safe</td>\n",
       "      <td>Safe</td>\n",
       "      <td>Dangerous</td>\n",
       "    </tr>\n",
       "    <tr>\n",
       "      <th>1822</th>\n",
       "      <td>0.01</td>\n",
       "      <td>10.00</td>\n",
       "      <td>0.01</td>\n",
       "      <td>2.00</td>\n",
       "      <td>0.00</td>\n",
       "      <td>2.00</td>\n",
       "      <td>0.00</td>\n",
       "      <td>0.09</td>\n",
       "      <td>0.00</td>\n",
       "      <td>0.00</td>\n",
       "      <td>...</td>\n",
       "      <td>Dangerous</td>\n",
       "      <td>Dangerous</td>\n",
       "      <td>Dangerous</td>\n",
       "      <td>Dangerous</td>\n",
       "      <td>Dangerous</td>\n",
       "      <td>Safe</td>\n",
       "      <td>Safe</td>\n",
       "      <td>Safe</td>\n",
       "      <td>Safe</td>\n",
       "      <td>Dangerous</td>\n",
       "    </tr>\n",
       "    <tr>\n",
       "      <th>1823</th>\n",
       "      <td>0.04</td>\n",
       "      <td>6.85</td>\n",
       "      <td>0.01</td>\n",
       "      <td>0.70</td>\n",
       "      <td>0.03</td>\n",
       "      <td>0.05</td>\n",
       "      <td>0.01</td>\n",
       "      <td>0.03</td>\n",
       "      <td>1.00</td>\n",
       "      <td>0.00</td>\n",
       "      <td>...</td>\n",
       "      <td>Dangerous</td>\n",
       "      <td>Dangerous</td>\n",
       "      <td>Dangerous</td>\n",
       "      <td>Safe</td>\n",
       "      <td>Dangerous</td>\n",
       "      <td>Dangerous</td>\n",
       "      <td>Safe</td>\n",
       "      <td>Dangerous</td>\n",
       "      <td>Safe</td>\n",
       "      <td>Safe</td>\n",
       "    </tr>\n",
       "  </tbody>\n",
       "</table>\n",
       "<p>1824 rows × 40 columns</p>\n",
       "</div>"
      ],
      "text/plain": [
       "      aluminium  ammonia  arsenic  barium  cadmium  chloramine  chromium  \\\n",
       "0          0.02     1.82     0.07    1.96     0.07        0.12      0.00   \n",
       "1          2.29    21.66     0.58    1.61     0.08        5.31      0.13   \n",
       "2          0.08    13.90     0.86    1.04     0.11        2.39      0.29   \n",
       "3          0.20     3.72     0.14    1.46     0.06        0.97      0.10   \n",
       "4          0.01    28.30     0.07    1.52     0.10        0.10      0.02   \n",
       "...         ...      ...      ...     ...      ...         ...       ...   \n",
       "1819       0.05     7.78     0.00    1.95     0.04        0.10      0.03   \n",
       "1820       0.05    24.22     0.02    0.59     0.01        0.45      0.02   \n",
       "1821       0.09     6.85     0.00    0.61     0.03        0.05      0.05   \n",
       "1822       0.01    10.00     0.01    2.00     0.00        2.00      0.00   \n",
       "1823       0.04     6.85     0.01    0.70     0.03        0.05      0.01   \n",
       "\n",
       "      copper  flouride  bacteria  ...  bacteria_bin  viruses_bin   lead_bin  \\\n",
       "0       0.38      0.02      0.76  ...     Dangerous         Safe  Dangerous   \n",
       "1       1.68      0.76      0.00  ...     Dangerous    Dangerous  Dangerous   \n",
       "2       0.99      0.31      0.01  ...     Dangerous    Dangerous  Dangerous   \n",
       "3       1.60      0.83      0.68  ...     Dangerous    Dangerous  Dangerous   \n",
       "4       0.04      0.59      0.00  ...     Dangerous    Dangerous  Dangerous   \n",
       "...      ...       ...       ...  ...           ...          ...        ...   \n",
       "1819    0.03      1.37      0.00  ...     Dangerous    Dangerous  Dangerous   \n",
       "1820    0.02      1.48      0.00  ...     Dangerous    Dangerous  Dangerous   \n",
       "1821    0.02      0.91      0.00  ...     Dangerous    Dangerous  Dangerous   \n",
       "1822    0.09      0.00      0.00  ...     Dangerous    Dangerous  Dangerous   \n",
       "1823    0.03      1.00      0.00  ...     Dangerous    Dangerous  Dangerous   \n",
       "\n",
       "      nitrates_bin  nitrites_bin  mercury_bin  perchlorate_bin  radium_bin  \\\n",
       "0        Dangerous     Dangerous    Dangerous             Safe   Dangerous   \n",
       "1             Safe     Dangerous    Dangerous             Safe        Safe   \n",
       "2        Dangerous     Dangerous    Dangerous             Safe   Dangerous   \n",
       "3             Safe     Dangerous    Dangerous             Safe        Safe   \n",
       "4             Safe     Dangerous    Dangerous             Safe        Safe   \n",
       "...            ...           ...          ...              ...         ...   \n",
       "1819     Dangerous     Dangerous         Safe        Dangerous   Dangerous   \n",
       "1820          Safe     Dangerous    Dangerous             Safe        Safe   \n",
       "1821          Safe     Dangerous    Dangerous             Safe        Safe   \n",
       "1822     Dangerous     Dangerous         Safe             Safe        Safe   \n",
       "1823          Safe     Dangerous    Dangerous             Safe   Dangerous   \n",
       "\n",
       "      selenium_bin  silver_bin  \n",
       "0             Safe   Dangerous  \n",
       "1             Safe   Dangerous  \n",
       "2             Safe   Dangerous  \n",
       "3             Safe   Dangerous  \n",
       "4             Safe        Safe  \n",
       "...            ...         ...  \n",
       "1819          Safe   Dangerous  \n",
       "1820          Safe   Dangerous  \n",
       "1821          Safe   Dangerous  \n",
       "1822          Safe   Dangerous  \n",
       "1823          Safe        Safe  \n",
       "\n",
       "[1824 rows x 40 columns]"
      ]
     },
     "execution_count": 54,
     "metadata": {},
     "output_type": "execute_result"
    }
   ],
   "source": [
    "OriginalDataForLDA"
   ]
  },
  {
   "cell_type": "markdown",
   "id": "cd40da5c",
   "metadata": {},
   "source": [
    "Through Random Forrest, we use the top 3 feature importance, which is `aluminium`, `cadmium` and `perchlorate`. We will now apply this to LDA and Random Forrest to compare accuracy."
   ]
  },
  {
   "cell_type": "markdown",
   "id": "64090afa",
   "metadata": {},
   "source": [
    "### Random Forest"
   ]
  },
  {
   "cell_type": "code",
   "execution_count": 55,
   "id": "47cccaba",
   "metadata": {},
   "outputs": [],
   "source": [
    "# Extract Response and Predictors\n",
    "y = pd.DataFrame(OriginalDataForLDA[\"is_safe\"])\n",
    "X = pd.DataFrame(OriginalDataForLDA[[\"aluminium\",\"cadmium\",\"perchlorate\"]])"
   ]
  },
  {
   "cell_type": "code",
   "execution_count": 56,
   "id": "20103e6d",
   "metadata": {},
   "outputs": [],
   "source": [
    "# necessary imports\n",
    "from sklearn.tree import DecisionTreeClassifier\n",
    "from sklearn.model_selection import train_test_split\n",
    "from sklearn.metrics import confusion_matrix\n",
    "from sklearn.metrics import classification_report\n",
    "from sklearn.ensemble import RandomForestClassifier"
   ]
  },
  {
   "cell_type": "code",
   "execution_count": 57,
   "id": "1a7c21ee",
   "metadata": {},
   "outputs": [],
   "source": [
    "X_train, X_test, y_train, y_test = train_test_split(X, y, test_size = 0.25)"
   ]
  },
  {
   "cell_type": "code",
   "execution_count": 58,
   "id": "66d06700",
   "metadata": {},
   "outputs": [
    {
     "name": "stdout",
     "output_type": "stream",
     "text": [
      "Train Accuracy: 1.0\n",
      "Test Accuracy: 0.7828947368421053\n"
     ]
    }
   ],
   "source": [
    "#Create a Gaussian Classifier\n",
    "clf=RandomForestClassifier(n_estimators=100)\n",
    "\n",
    "#Train the model using the training sets y_pred=clf.predict(X_test)\n",
    "clf.fit(X_train,y_train.values.ravel())\n",
    "\n",
    "# prediction on test set\n",
    "y_pred=clf.predict(X_test)\n",
    "\n",
    "#Import scikit-learn metrics module for accuracy calculation\n",
    "from sklearn import metrics\n",
    "# Model Accuracy, how often is the classifier correct?\n",
    "y_pred_train= clf.predict(X_train)\n",
    "y_pred_test=clf.predict(X_test)\n",
    "print(\"Train Accuracy:\",metrics.accuracy_score(y_train, y_pred_train))\n",
    "print(\"Test Accuracy:\",metrics.accuracy_score(y_test, y_pred))"
   ]
  },
  {
   "cell_type": "code",
   "execution_count": 59,
   "id": "9f6d606e",
   "metadata": {},
   "outputs": [
    {
     "name": "stdout",
     "output_type": "stream",
     "text": [
      "[[379 310]\n",
      " [395 284]]\n"
     ]
    }
   ],
   "source": [
    "print(confusion_matrix(y_train, y_train_pred))"
   ]
  },
  {
   "cell_type": "markdown",
   "id": "29af3d3a",
   "metadata": {},
   "source": [
    "### LDA"
   ]
  },
  {
   "cell_type": "code",
   "execution_count": 60,
   "id": "c3874bec",
   "metadata": {},
   "outputs": [],
   "source": [
    "import plotly.express as px # for data visualization\n",
    "\n",
    "# Skleran\n",
    "from sklearn.preprocessing import StandardScaler # for data standardization\n",
    "from sklearn.metrics import classification_report # for model evaluation metrics\n",
    "from sklearn.tree import DecisionTreeClassifier # for decision tree models\n",
    "\n",
    "# Sklearn dimensionality reduction\n",
    "from sklearn.discriminant_analysis import LinearDiscriminantAnalysis as LDA # for LDA analysis\n",
    "from sklearn.decomposition import PCA # for PCA analysis\""
   ]
  },
  {
   "cell_type": "code",
   "execution_count": 61,
   "id": "37702da1",
   "metadata": {},
   "outputs": [
    {
     "data": {
      "application/vnd.plotly.v1+json": {
       "config": {
        "plotlyServerURL": "https://plot.ly"
       },
       "data": [
        {
         "customdata": [
          [
           0.12,
           "0"
          ],
          [
           5.31,
           "0"
          ],
          [
           2.39,
           "0"
          ],
          [
           0.97,
           "0"
          ],
          [
           0.1,
           "0"
          ],
          [
           0.46,
           "0"
          ],
          [
           0.04,
           "0"
          ],
          [
           3.78,
           "0"
          ],
          [
           0.08,
           "0"
          ],
          [
           0.33,
           "0"
          ],
          [
           0.04,
           "0"
          ],
          [
           1.89,
           "0"
          ],
          [
           6.12,
           "0"
          ],
          [
           0.17,
           "0"
          ],
          [
           0.01,
           "0"
          ],
          [
           2.37,
           "0"
          ],
          [
           0.01,
           "0"
          ],
          [
           4.68,
           "0"
          ],
          [
           1.07,
           "0"
          ],
          [
           4.58,
           "0"
          ],
          [
           0.09,
           "0"
          ],
          [
           0.57,
           "0"
          ],
          [
           0.49,
           "0"
          ],
          [
           3.61,
           "0"
          ],
          [
           0.57,
           "0"
          ],
          [
           6.34,
           "0"
          ],
          [
           4.66,
           "0"
          ],
          [
           4.44,
           "0"
          ],
          [
           1.13,
           "0"
          ],
          [
           4.98,
           "0"
          ],
          [
           8.19,
           "0"
          ],
          [
           0.09,
           "0"
          ],
          [
           0.05,
           "0"
          ],
          [
           0.06,
           "0"
          ],
          [
           0.14,
           "0"
          ],
          [
           0.2,
           "0"
          ],
          [
           0.44,
           "0"
          ],
          [
           4.5,
           "0"
          ],
          [
           3.48,
           "0"
          ],
          [
           3.8,
           "0"
          ],
          [
           3.66,
           "0"
          ],
          [
           0.29,
           "0"
          ],
          [
           2.5,
           "0"
          ],
          [
           1.43,
           "0"
          ],
          [
           0.06,
           "0"
          ],
          [
           0.28,
           "0"
          ],
          [
           8.33,
           "0"
          ],
          [
           1.54,
           "0"
          ],
          [
           0.36,
           "0"
          ],
          [
           0.17,
           "0"
          ],
          [
           5.72,
           "0"
          ],
          [
           4.74,
           "0"
          ],
          [
           6.24,
           "0"
          ],
          [
           3.58,
           "0"
          ],
          [
           0.24,
           "0"
          ],
          [
           0.05,
           "0"
          ],
          [
           7.36,
           "0"
          ],
          [
           1.33,
           "0"
          ],
          [
           0.1,
           "0"
          ],
          [
           4.26,
           "0"
          ],
          [
           0.09,
           "0"
          ],
          [
           3.95,
           "0"
          ],
          [
           0.3,
           "0"
          ],
          [
           0.19,
           "0"
          ],
          [
           0.17,
           "0"
          ],
          [
           5.71,
           "0"
          ],
          [
           3.43,
           "0"
          ],
          [
           0.09,
           "0"
          ],
          [
           0.22,
           "0"
          ],
          [
           4.8,
           "0"
          ],
          [
           7.38,
           "0"
          ],
          [
           8.1,
           "0"
          ],
          [
           1.9,
           "0"
          ],
          [
           7.78,
           "0"
          ],
          [
           5.12,
           "0"
          ],
          [
           5.68,
           "0"
          ],
          [
           0.4,
           "0"
          ],
          [
           5.98,
           "0"
          ],
          [
           0.01,
           "0"
          ],
          [
           0.48,
           "0"
          ],
          [
           0.3,
           "0"
          ],
          [
           0.09,
           "0"
          ],
          [
           0.24,
           "0"
          ],
          [
           0.14,
           "0"
          ],
          [
           0.46,
           "0"
          ],
          [
           0.65,
           "0"
          ],
          [
           0.65,
           "0"
          ],
          [
           2.21,
           "0"
          ],
          [
           5.49,
           "0"
          ],
          [
           0.08,
           "0"
          ],
          [
           0.11,
           "0"
          ],
          [
           3.49,
           "0"
          ],
          [
           0.9,
           "0"
          ],
          [
           0.58,
           "0"
          ],
          [
           0.05,
           "0"
          ],
          [
           0.32,
           "0"
          ],
          [
           0.45,
           "0"
          ],
          [
           3.43,
           "0"
          ],
          [
           0.07,
           "0"
          ],
          [
           2.63,
           "0"
          ],
          [
           6.27,
           "0"
          ],
          [
           0.25,
           "0"
          ],
          [
           0.27,
           "0"
          ],
          [
           0.19,
           "0"
          ],
          [
           1.93,
           "0"
          ],
          [
           0.17,
           "0"
          ],
          [
           0.29,
           "0"
          ],
          [
           5.81,
           "0"
          ],
          [
           0.13,
           "0"
          ],
          [
           6.34,
           "0"
          ],
          [
           7.81,
           "0"
          ],
          [
           0.01,
           "0"
          ],
          [
           2.22,
           "0"
          ],
          [
           8.24,
           "0"
          ],
          [
           2.38,
           "0"
          ],
          [
           0.01,
           "0"
          ],
          [
           2.13,
           "0"
          ],
          [
           0.05,
           "0"
          ],
          [
           0.09,
           "0"
          ],
          [
           1.51,
           "0"
          ],
          [
           6.06,
           "0"
          ],
          [
           3.1,
           "0"
          ],
          [
           4.37,
           "0"
          ],
          [
           0.02,
           "0"
          ],
          [
           0.04,
           "0"
          ],
          [
           2.78,
           "0"
          ],
          [
           4.88,
           "0"
          ],
          [
           0.29,
           "0"
          ],
          [
           0.24,
           "0"
          ],
          [
           0.01,
           "0"
          ],
          [
           5.23,
           "0"
          ],
          [
           0.39,
           "0"
          ],
          [
           0.06,
           "0"
          ],
          [
           0.53,
           "0"
          ],
          [
           0.01,
           "0"
          ],
          [
           0.04,
           "0"
          ],
          [
           4.78,
           "0"
          ],
          [
           0.06,
           "0"
          ],
          [
           0.08,
           "0"
          ],
          [
           7.49,
           "0"
          ],
          [
           2.4,
           "0"
          ],
          [
           4.07,
           "0"
          ],
          [
           0.34,
           "0"
          ],
          [
           1.39,
           "0"
          ],
          [
           7.35,
           "0"
          ],
          [
           0.16,
           "0"
          ],
          [
           0.49,
           "0"
          ],
          [
           0.69,
           "0"
          ],
          [
           2.57,
           "0"
          ],
          [
           5.88,
           "0"
          ],
          [
           0.03,
           "0"
          ],
          [
           5.31,
           "0"
          ],
          [
           7.75,
           "0"
          ],
          [
           0.53,
           "0"
          ],
          [
           5.38,
           "0"
          ],
          [
           6.61,
           "0"
          ],
          [
           4.11,
           "0"
          ],
          [
           6.52,
           "0"
          ],
          [
           0.15,
           "0"
          ],
          [
           2.06,
           "0"
          ],
          [
           6.53,
           "0"
          ],
          [
           0.1,
           "0"
          ],
          [
           3.74,
           "0"
          ],
          [
           4.84,
           "0"
          ],
          [
           0.04,
           "0"
          ],
          [
           0.5,
           "0"
          ],
          [
           2.03,
           "0"
          ],
          [
           6.63,
           "0"
          ],
          [
           3.34,
           "0"
          ],
          [
           0.26,
           "0"
          ],
          [
           0.55,
           "0"
          ],
          [
           0.2,
           "0"
          ],
          [
           0.35,
           "0"
          ],
          [
           7.21,
           "0"
          ],
          [
           0.49,
           "0"
          ],
          [
           0.29,
           "0"
          ],
          [
           0.15,
           "0"
          ],
          [
           1.6,
           "0"
          ],
          [
           1.62,
           "0"
          ],
          [
           6.48,
           "0"
          ],
          [
           0.49,
           "0"
          ],
          [
           0.34,
           "0"
          ],
          [
           3.22,
           "0"
          ],
          [
           0.32,
           "0"
          ],
          [
           3.42,
           "0"
          ],
          [
           6.9,
           "0"
          ],
          [
           0.03,
           "0"
          ],
          [
           6.15,
           "0"
          ],
          [
           0.44,
           "0"
          ],
          [
           4.1,
           "0"
          ],
          [
           0,
           "0"
          ],
          [
           0.7,
           "0"
          ],
          [
           0.01,
           "0"
          ],
          [
           4.43,
           "0"
          ],
          [
           0.07,
           "0"
          ],
          [
           5.68,
           "0"
          ],
          [
           4.77,
           "0"
          ],
          [
           6.26,
           "0"
          ],
          [
           5.71,
           "0"
          ],
          [
           3.49,
           "0"
          ],
          [
           0.12,
           "0"
          ],
          [
           7.95,
           "0"
          ],
          [
           0.04,
           "0"
          ],
          [
           0.58,
           "0"
          ],
          [
           0.13,
           "0"
          ],
          [
           7.41,
           "0"
          ],
          [
           0.09,
           "0"
          ],
          [
           0.07,
           "0"
          ],
          [
           0.05,
           "0"
          ],
          [
           0.89,
           "0"
          ],
          [
           6.35,
           "0"
          ],
          [
           0.09,
           "0"
          ],
          [
           4.3,
           "0"
          ],
          [
           0.04,
           "0"
          ],
          [
           0.03,
           "0"
          ],
          [
           6.62,
           "0"
          ],
          [
           4.16,
           "0"
          ],
          [
           1.56,
           "0"
          ],
          [
           0.03,
           "0"
          ],
          [
           3.13,
           "0"
          ],
          [
           3.32,
           "0"
          ],
          [
           0.07,
           "0"
          ],
          [
           8.12,
           "0"
          ],
          [
           0,
           "0"
          ],
          [
           0.12,
           "0"
          ],
          [
           5.99,
           "0"
          ],
          [
           5.3,
           "0"
          ],
          [
           3.8,
           "0"
          ],
          [
           0.02,
           "0"
          ],
          [
           3.1,
           "0"
          ],
          [
           2.36,
           "0"
          ],
          [
           0.28,
           "0"
          ],
          [
           0.09,
           "0"
          ],
          [
           0.25,
           "0"
          ],
          [
           0.06,
           "0"
          ],
          [
           0.5,
           "0"
          ],
          [
           0.03,
           "0"
          ],
          [
           0.63,
           "0"
          ],
          [
           1.57,
           "0"
          ],
          [
           3.83,
           "0"
          ],
          [
           2.44,
           "0"
          ],
          [
           4.24,
           "0"
          ],
          [
           4.49,
           "0"
          ],
          [
           5.12,
           "0"
          ],
          [
           3.14,
           "0"
          ],
          [
           0.46,
           "0"
          ],
          [
           0.37,
           "0"
          ],
          [
           0.16,
           "0"
          ],
          [
           0.05,
           "0"
          ],
          [
           1.62,
           "0"
          ],
          [
           0.12,
           "0"
          ],
          [
           0.51,
           "0"
          ],
          [
           0.25,
           "0"
          ],
          [
           6.23,
           "0"
          ],
          [
           0.1,
           "0"
          ],
          [
           0.07,
           "0"
          ],
          [
           0.7,
           "0"
          ],
          [
           6.52,
           "0"
          ],
          [
           2.91,
           "0"
          ],
          [
           7.18,
           "0"
          ],
          [
           4.9,
           "0"
          ],
          [
           0,
           "0"
          ],
          [
           0.17,
           "0"
          ],
          [
           4.8,
           "0"
          ],
          [
           6.98,
           "0"
          ],
          [
           0.23,
           "0"
          ],
          [
           7.3,
           "0"
          ],
          [
           0.07,
           "0"
          ],
          [
           5.81,
           "0"
          ],
          [
           0.25,
           "0"
          ],
          [
           6.09,
           "0"
          ],
          [
           7.51,
           "0"
          ],
          [
           0.08,
           "0"
          ],
          [
           6.25,
           "0"
          ],
          [
           0.02,
           "0"
          ],
          [
           0.59,
           "0"
          ],
          [
           0.03,
           "0"
          ],
          [
           0.39,
           "0"
          ],
          [
           0.15,
           "0"
          ],
          [
           0.05,
           "0"
          ],
          [
           0.07,
           "0"
          ],
          [
           0.6,
           "0"
          ],
          [
           5.47,
           "0"
          ],
          [
           3.89,
           "0"
          ],
          [
           1.83,
           "0"
          ],
          [
           0.42,
           "0"
          ],
          [
           4.18,
           "0"
          ],
          [
           0.01,
           "0"
          ],
          [
           2.85,
           "0"
          ],
          [
           0.5,
           "0"
          ],
          [
           4.87,
           "0"
          ],
          [
           0.29,
           "0"
          ],
          [
           0.59,
           "0"
          ],
          [
           0.13,
           "0"
          ],
          [
           0.24,
           "0"
          ],
          [
           4.49,
           "0"
          ],
          [
           7.08,
           "0"
          ],
          [
           5.17,
           "0"
          ],
          [
           2.37,
           "0"
          ],
          [
           4.69,
           "0"
          ],
          [
           0.04,
           "0"
          ],
          [
           0.18,
           "0"
          ],
          [
           0.1,
           "0"
          ],
          [
           2.37,
           "0"
          ],
          [
           0.09,
           "0"
          ],
          [
           5.57,
           "0"
          ],
          [
           0.01,
           "0"
          ],
          [
           0.94,
           "0"
          ],
          [
           0.01,
           "0"
          ],
          [
           6.25,
           "0"
          ],
          [
           0.02,
           "0"
          ],
          [
           0.17,
           "0"
          ],
          [
           0.04,
           "0"
          ],
          [
           1.13,
           "0"
          ],
          [
           0.19,
           "0"
          ],
          [
           0.39,
           "0"
          ],
          [
           0,
           "0"
          ],
          [
           0.47,
           "0"
          ],
          [
           2.63,
           "0"
          ],
          [
           0.3,
           "0"
          ],
          [
           2.86,
           "0"
          ],
          [
           4,
           "0"
          ],
          [
           0.06,
           "0"
          ],
          [
           0.1,
           "0"
          ],
          [
           4.57,
           "0"
          ],
          [
           0.21,
           "0"
          ],
          [
           7.37,
           "0"
          ],
          [
           3.61,
           "0"
          ],
          [
           0.32,
           "0"
          ],
          [
           0.88,
           "0"
          ],
          [
           0.65,
           "0"
          ],
          [
           0.05,
           "0"
          ],
          [
           4.42,
           "0"
          ],
          [
           0.15,
           "0"
          ],
          [
           0.21,
           "0"
          ],
          [
           0.06,
           "0"
          ],
          [
           0.08,
           "0"
          ],
          [
           3.91,
           "0"
          ],
          [
           2.74,
           "0"
          ],
          [
           0.24,
           "0"
          ],
          [
           0.23,
           "0"
          ],
          [
           0.05,
           "0"
          ],
          [
           0.03,
           "0"
          ],
          [
           0.14,
           "0"
          ],
          [
           0.12,
           "0"
          ],
          [
           1.07,
           "0"
          ],
          [
           0.05,
           "0"
          ],
          [
           7.73,
           "0"
          ],
          [
           0.08,
           "0"
          ],
          [
           0.88,
           "0"
          ],
          [
           0.34,
           "0"
          ],
          [
           7.79,
           "0"
          ],
          [
           0.13,
           "0"
          ],
          [
           2.73,
           "0"
          ],
          [
           0.21,
           "0"
          ],
          [
           0.04,
           "0"
          ],
          [
           1.33,
           "0"
          ],
          [
           0.06,
           "0"
          ],
          [
           7.52,
           "0"
          ],
          [
           0,
           "0"
          ],
          [
           2.84,
           "0"
          ],
          [
           0.68,
           "0"
          ],
          [
           4.37,
           "0"
          ],
          [
           0.01,
           "0"
          ],
          [
           0.21,
           "0"
          ],
          [
           0.01,
           "0"
          ],
          [
           0.08,
           "0"
          ],
          [
           7,
           "0"
          ],
          [
           7.02,
           "0"
          ],
          [
           0.6,
           "0"
          ],
          [
           2.06,
           "0"
          ],
          [
           0.06,
           "0"
          ],
          [
           0.05,
           "0"
          ],
          [
           1.34,
           "0"
          ],
          [
           6.12,
           "0"
          ],
          [
           0.06,
           "0"
          ],
          [
           4.82,
           "0"
          ],
          [
           0.32,
           "0"
          ],
          [
           0.02,
           "0"
          ],
          [
           5.81,
           "0"
          ],
          [
           5.3,
           "0"
          ],
          [
           2.4,
           "0"
          ],
          [
           0.17,
           "0"
          ],
          [
           4.44,
           "0"
          ],
          [
           7.54,
           "0"
          ],
          [
           2.03,
           "0"
          ],
          [
           0.09,
           "0"
          ],
          [
           1.74,
           "0"
          ],
          [
           0.43,
           "0"
          ],
          [
           7.16,
           "0"
          ],
          [
           0.37,
           "0"
          ],
          [
           3.88,
           "0"
          ],
          [
           4.4,
           "0"
          ],
          [
           2.74,
           "0"
          ],
          [
           7.59,
           "0"
          ],
          [
           0.16,
           "0"
          ],
          [
           0.5,
           "0"
          ],
          [
           0.1,
           "0"
          ],
          [
           1.61,
           "0"
          ],
          [
           1.02,
           "0"
          ],
          [
           0.35,
           "0"
          ],
          [
           0.06,
           "0"
          ],
          [
           4.55,
           "0"
          ],
          [
           4.76,
           "0"
          ],
          [
           7.37,
           "0"
          ],
          [
           0.19,
           "0"
          ],
          [
           3.29,
           "0"
          ],
          [
           0.01,
           "0"
          ],
          [
           4.43,
           "0"
          ],
          [
           3.61,
           "0"
          ],
          [
           0.07,
           "0"
          ],
          [
           7.06,
           "0"
          ],
          [
           0.11,
           "0"
          ],
          [
           0.04,
           "0"
          ],
          [
           0.05,
           "0"
          ],
          [
           0.1,
           "0"
          ],
          [
           0.17,
           "0"
          ],
          [
           3.93,
           "0"
          ],
          [
           0.49,
           "0"
          ],
          [
           0.03,
           "0"
          ],
          [
           0.07,
           "0"
          ],
          [
           7.51,
           "0"
          ],
          [
           3.37,
           "0"
          ],
          [
           7.74,
           "0"
          ],
          [
           1.03,
           "0"
          ],
          [
           0.23,
           "0"
          ],
          [
           6.99,
           "0"
          ],
          [
           0.05,
           "0"
          ],
          [
           5.22,
           "0"
          ],
          [
           7.88,
           "0"
          ],
          [
           5.14,
           "0"
          ],
          [
           0.05,
           "0"
          ],
          [
           0.52,
           "0"
          ],
          [
           4.74,
           "0"
          ],
          [
           4.46,
           "0"
          ],
          [
           4.77,
           "0"
          ],
          [
           4.66,
           "0"
          ],
          [
           0.55,
           "0"
          ],
          [
           0.07,
           "0"
          ],
          [
           5.38,
           "0"
          ],
          [
           0.2,
           "0"
          ],
          [
           5.8,
           "0"
          ],
          [
           0.24,
           "0"
          ],
          [
           0.03,
           "0"
          ],
          [
           0.11,
           "0"
          ],
          [
           0.05,
           "0"
          ],
          [
           5.3,
           "0"
          ],
          [
           6.55,
           "0"
          ],
          [
           3.99,
           "0"
          ],
          [
           3.3,
           "0"
          ],
          [
           8.1,
           "0"
          ],
          [
           3.55,
           "0"
          ],
          [
           6.69,
           "0"
          ],
          [
           7.67,
           "0"
          ],
          [
           0.12,
           "0"
          ],
          [
           4.96,
           "0"
          ],
          [
           5.81,
           "0"
          ],
          [
           3.25,
           "0"
          ],
          [
           0.02,
           "0"
          ],
          [
           0.05,
           "0"
          ],
          [
           3.93,
           "0"
          ],
          [
           3.03,
           "0"
          ],
          [
           0.34,
           "0"
          ],
          [
           0.08,
           "0"
          ],
          [
           0.22,
           "0"
          ],
          [
           0.13,
           "0"
          ],
          [
           0.03,
           "0"
          ],
          [
           8.04,
           "0"
          ],
          [
           2.61,
           "0"
          ],
          [
           0.16,
           "0"
          ],
          [
           0.23,
           "0"
          ],
          [
           0.01,
           "0"
          ],
          [
           0.11,
           "0"
          ],
          [
           6.24,
           "0"
          ],
          [
           3.73,
           "0"
          ],
          [
           0.08,
           "0"
          ],
          [
           7.17,
           "0"
          ],
          [
           6.24,
           "0"
          ],
          [
           1.36,
           "0"
          ],
          [
           0.05,
           "0"
          ],
          [
           2.84,
           "0"
          ],
          [
           0.24,
           "0"
          ],
          [
           0.05,
           "0"
          ],
          [
           3.69,
           "0"
          ],
          [
           4.57,
           "0"
          ],
          [
           7.14,
           "0"
          ],
          [
           0.08,
           "0"
          ],
          [
           4.95,
           "0"
          ],
          [
           0.37,
           "0"
          ],
          [
           1.33,
           "0"
          ],
          [
           1.54,
           "0"
          ],
          [
           4.85,
           "0"
          ],
          [
           0.08,
           "0"
          ],
          [
           5.34,
           "0"
          ],
          [
           0.21,
           "0"
          ],
          [
           7.09,
           "0"
          ],
          [
           0.1,
           "0"
          ],
          [
           3.23,
           "0"
          ],
          [
           0.02,
           "0"
          ],
          [
           0.15,
           "0"
          ],
          [
           0.03,
           "0"
          ],
          [
           2.23,
           "0"
          ],
          [
           5.33,
           "0"
          ],
          [
           4.96,
           "0"
          ],
          [
           7.65,
           "0"
          ],
          [
           0.19,
           "0"
          ],
          [
           0.17,
           "0"
          ],
          [
           5.42,
           "0"
          ],
          [
           7.82,
           "0"
          ],
          [
           2.66,
           "0"
          ],
          [
           4.02,
           "0"
          ],
          [
           0.1,
           "0"
          ],
          [
           0.47,
           "0"
          ],
          [
           0.01,
           "0"
          ],
          [
           0.14,
           "0"
          ],
          [
           0.19,
           "0"
          ],
          [
           6.77,
           "0"
          ],
          [
           1.59,
           "0"
          ],
          [
           1.66,
           "0"
          ],
          [
           0.43,
           "0"
          ],
          [
           4.87,
           "0"
          ],
          [
           0.02,
           "0"
          ],
          [
           0.03,
           "0"
          ],
          [
           6.52,
           "0"
          ],
          [
           2.92,
           "0"
          ],
          [
           1.92,
           "0"
          ],
          [
           0.32,
           "0"
          ],
          [
           0.24,
           "0"
          ],
          [
           7.16,
           "0"
          ],
          [
           4.42,
           "0"
          ],
          [
           0.14,
           "0"
          ],
          [
           0.07,
           "0"
          ],
          [
           0.68,
           "0"
          ],
          [
           5.33,
           "0"
          ],
          [
           0.07,
           "0"
          ],
          [
           3.11,
           "0"
          ],
          [
           0.35,
           "0"
          ],
          [
           0.5,
           "0"
          ],
          [
           0.64,
           "0"
          ],
          [
           0.04,
           "0"
          ],
          [
           0.01,
           "0"
          ],
          [
           4.83,
           "0"
          ],
          [
           1.46,
           "0"
          ],
          [
           6.43,
           "0"
          ],
          [
           0.07,
           "0"
          ],
          [
           6.49,
           "0"
          ],
          [
           1.28,
           "0"
          ],
          [
           0.1,
           "0"
          ],
          [
           0.15,
           "0"
          ],
          [
           4.24,
           "0"
          ],
          [
           6.37,
           "0"
          ],
          [
           0.5,
           "0"
          ],
          [
           0.16,
           "0"
          ],
          [
           0.4,
           "0"
          ],
          [
           1.68,
           "0"
          ],
          [
           0.44,
           "0"
          ],
          [
           0.1,
           "0"
          ],
          [
           0.01,
           "0"
          ],
          [
           0.14,
           "0"
          ],
          [
           0.36,
           "0"
          ],
          [
           0.13,
           "0"
          ],
          [
           6.23,
           "0"
          ],
          [
           0.44,
           "0"
          ],
          [
           5.8,
           "0"
          ],
          [
           3.09,
           "0"
          ],
          [
           0.23,
           "0"
          ],
          [
           5.4,
           "0"
          ],
          [
           0.07,
           "0"
          ],
          [
           0.15,
           "0"
          ],
          [
           6.29,
           "0"
          ],
          [
           0.09,
           "0"
          ],
          [
           6.53,
           "0"
          ],
          [
           4,
           "0"
          ],
          [
           0.11,
           "0"
          ],
          [
           0.2,
           "0"
          ],
          [
           3.41,
           "0"
          ],
          [
           1.6,
           "0"
          ],
          [
           0.03,
           "0"
          ],
          [
           0.16,
           "0"
          ],
          [
           4.96,
           "0"
          ],
          [
           0.04,
           "0"
          ],
          [
           7.37,
           "0"
          ],
          [
           3.76,
           "0"
          ],
          [
           0.04,
           "0"
          ],
          [
           6.9,
           "0"
          ],
          [
           0.48,
           "0"
          ],
          [
           2.46,
           "0"
          ],
          [
           2.25,
           "0"
          ],
          [
           0.14,
           "0"
          ],
          [
           4.07,
           "0"
          ],
          [
           0.09,
           "0"
          ],
          [
           0.49,
           "0"
          ],
          [
           6.27,
           "0"
          ],
          [
           0.07,
           "0"
          ],
          [
           0.2,
           "0"
          ],
          [
           0.39,
           "0"
          ],
          [
           0.19,
           "0"
          ],
          [
           4.24,
           "0"
          ],
          [
           0.48,
           "0"
          ],
          [
           7.81,
           "0"
          ],
          [
           0,
           "0"
          ],
          [
           0,
           "0"
          ],
          [
           0.17,
           "0"
          ],
          [
           0.26,
           "0"
          ],
          [
           0.29,
           "0"
          ],
          [
           2.69,
           "0"
          ],
          [
           3.21,
           "0"
          ],
          [
           0.01,
           "0"
          ],
          [
           2.97,
           "0"
          ],
          [
           0.02,
           "0"
          ],
          [
           2.03,
           "0"
          ],
          [
           4.42,
           "0"
          ],
          [
           5.63,
           "0"
          ],
          [
           0.11,
           "0"
          ],
          [
           0.02,
           "0"
          ],
          [
           1.63,
           "0"
          ],
          [
           1.81,
           "0"
          ],
          [
           0.08,
           "0"
          ],
          [
           6.43,
           "0"
          ],
          [
           2.7,
           "0"
          ],
          [
           0.48,
           "0"
          ],
          [
           4.6,
           "0"
          ],
          [
           0.37,
           "0"
          ],
          [
           4.12,
           "0"
          ],
          [
           0.24,
           "0"
          ],
          [
           0.08,
           "0"
          ],
          [
           0,
           "0"
          ],
          [
           3.8,
           "0"
          ],
          [
           0.02,
           "0"
          ],
          [
           2.87,
           "0"
          ],
          [
           0.89,
           "0"
          ],
          [
           0.02,
           "0"
          ],
          [
           0.3,
           "0"
          ],
          [
           0.09,
           "0"
          ],
          [
           2.28,
           "0"
          ],
          [
           0,
           "0"
          ],
          [
           6.81,
           "0"
          ],
          [
           0.01,
           "0"
          ],
          [
           0.09,
           "0"
          ],
          [
           3.23,
           "0"
          ],
          [
           0.87,
           "0"
          ],
          [
           0.05,
           "0"
          ],
          [
           0.37,
           "0"
          ],
          [
           6.9,
           "0"
          ],
          [
           0.04,
           "0"
          ],
          [
           7.38,
           "0"
          ],
          [
           1.05,
           "0"
          ],
          [
           0.03,
           "0"
          ],
          [
           0.01,
           "0"
          ],
          [
           0.52,
           "0"
          ],
          [
           0.21,
           "0"
          ],
          [
           0.09,
           "0"
          ],
          [
           0.32,
           "0"
          ],
          [
           0.05,
           "0"
          ],
          [
           0.62,
           "0"
          ],
          [
           0.41,
           "0"
          ],
          [
           0.18,
           "0"
          ],
          [
           7.02,
           "0"
          ],
          [
           0.43,
           "0"
          ],
          [
           0.48,
           "0"
          ],
          [
           0.54,
           "0"
          ],
          [
           0.63,
           "0"
          ],
          [
           1.68,
           "0"
          ],
          [
           0.42,
           "0"
          ],
          [
           1.49,
           "0"
          ],
          [
           5.1,
           "0"
          ],
          [
           5.24,
           "0"
          ],
          [
           0.03,
           "0"
          ],
          [
           6.28,
           "0"
          ],
          [
           6.69,
           "0"
          ],
          [
           0.06,
           "0"
          ],
          [
           0,
           "0"
          ],
          [
           1.17,
           "0"
          ],
          [
           1.6,
           "0"
          ],
          [
           0.03,
           "0"
          ],
          [
           0.08,
           "0"
          ],
          [
           8.01,
           "0"
          ],
          [
           1.01,
           "0"
          ],
          [
           0.45,
           "0"
          ],
          [
           0.01,
           "0"
          ],
          [
           0.65,
           "0"
          ],
          [
           0.42,
           "0"
          ],
          [
           7.02,
           "0"
          ],
          [
           5.81,
           "0"
          ],
          [
           6.12,
           "0"
          ],
          [
           0.18,
           "0"
          ],
          [
           5.71,
           "0"
          ],
          [
           7.24,
           "0"
          ],
          [
           4.06,
           "0"
          ],
          [
           4.8,
           "0"
          ],
          [
           0.57,
           "0"
          ],
          [
           5.53,
           "0"
          ],
          [
           0.48,
           "0"
          ],
          [
           0.96,
           "0"
          ],
          [
           2.03,
           "0"
          ],
          [
           3.14,
           "0"
          ],
          [
           0.08,
           "0"
          ],
          [
           7.44,
           "0"
          ],
          [
           5.23,
           "0"
          ],
          [
           0.57,
           "0"
          ],
          [
           0.07,
           "0"
          ],
          [
           6.36,
           "0"
          ],
          [
           0.18,
           "0"
          ],
          [
           0.13,
           "0"
          ],
          [
           2.22,
           "0"
          ],
          [
           0.32,
           "0"
          ],
          [
           4.05,
           "0"
          ],
          [
           0.03,
           "0"
          ],
          [
           0.09,
           "0"
          ],
          [
           4.66,
           "0"
          ],
          [
           5.34,
           "0"
          ],
          [
           0.15,
           "0"
          ],
          [
           0.05,
           "0"
          ],
          [
           0.1,
           "0"
          ],
          [
           0.13,
           "0"
          ],
          [
           1.55,
           "0"
          ],
          [
           0.03,
           "0"
          ],
          [
           6.58,
           "0"
          ],
          [
           6.36,
           "0"
          ],
          [
           0.26,
           "0"
          ],
          [
           0.14,
           "0"
          ],
          [
           0.32,
           "0"
          ],
          [
           4.22,
           "0"
          ],
          [
           0.08,
           "0"
          ],
          [
           0.15,
           "0"
          ],
          [
           0.07,
           "0"
          ],
          [
           0.1,
           "0"
          ],
          [
           0.08,
           "0"
          ],
          [
           0.33,
           "0"
          ],
          [
           0.04,
           "0"
          ],
          [
           0.06,
           "0"
          ],
          [
           6.29,
           "0"
          ],
          [
           0.45,
           "0"
          ],
          [
           0.02,
           "0"
          ],
          [
           6.2,
           "0"
          ],
          [
           2.66,
           "0"
          ],
          [
           2.73,
           "0"
          ],
          [
           0.04,
           "0"
          ],
          [
           7.36,
           "0"
          ],
          [
           6.64,
           "0"
          ],
          [
           1.21,
           "0"
          ],
          [
           0.02,
           "0"
          ],
          [
           0.02,
           "0"
          ],
          [
           7.94,
           "0"
          ],
          [
           8.5,
           "0"
          ],
          [
           0.05,
           "0"
          ],
          [
           0.1,
           "0"
          ],
          [
           5.28,
           "0"
          ],
          [
           0.23,
           "0"
          ],
          [
           3.84,
           "0"
          ],
          [
           7.12,
           "0"
          ],
          [
           0.08,
           "0"
          ],
          [
           8.02,
           "0"
          ],
          [
           1.37,
           "0"
          ],
          [
           0.24,
           "0"
          ],
          [
           5.27,
           "0"
          ],
          [
           0.12,
           "0"
          ],
          [
           0.26,
           "0"
          ],
          [
           0.96,
           "0"
          ],
          [
           0.05,
           "0"
          ],
          [
           5.73,
           "0"
          ],
          [
           0.04,
           "0"
          ],
          [
           7.41,
           "0"
          ],
          [
           0.02,
           "0"
          ],
          [
           0.52,
           "0"
          ],
          [
           0.04,
           "0"
          ],
          [
           0.05,
           "0"
          ],
          [
           0.02,
           "0"
          ],
          [
           1.56,
           "0"
          ],
          [
           0.57,
           "0"
          ],
          [
           5.05,
           "0"
          ],
          [
           3.79,
           "0"
          ],
          [
           0.05,
           "0"
          ],
          [
           0.59,
           "0"
          ],
          [
           4.79,
           "0"
          ],
          [
           0.5,
           "0"
          ],
          [
           0.12,
           "0"
          ],
          [
           6.22,
           "0"
          ],
          [
           2.38,
           "0"
          ],
          [
           4.36,
           "0"
          ],
          [
           0.05,
           "0"
          ],
          [
           0.07,
           "0"
          ],
          [
           0.11,
           "0"
          ],
          [
           0.23,
           "0"
          ],
          [
           1.28,
           "0"
          ],
          [
           2.16,
           "0"
          ],
          [
           4.44,
           "0"
          ],
          [
           2.95,
           "0"
          ],
          [
           4.85,
           "0"
          ],
          [
           0.07,
           "0"
          ],
          [
           0.07,
           "0"
          ],
          [
           0.02,
           "0"
          ],
          [
           6.19,
           "0"
          ],
          [
           0,
           "0"
          ],
          [
           0,
           "0"
          ],
          [
           0.07,
           "0"
          ],
          [
           0.02,
           "0"
          ],
          [
           4.46,
           "0"
          ],
          [
           0.08,
           "0"
          ],
          [
           0.14,
           "0"
          ],
          [
           0.01,
           "0"
          ],
          [
           0.5,
           "0"
          ],
          [
           0.04,
           "0"
          ],
          [
           5.03,
           "0"
          ],
          [
           2.58,
           "0"
          ],
          [
           0.05,
           "0"
          ],
          [
           4.92,
           "0"
          ],
          [
           6.26,
           "0"
          ],
          [
           3.73,
           "0"
          ],
          [
           0.11,
           "0"
          ],
          [
           3.03,
           "0"
          ],
          [
           0.09,
           "0"
          ],
          [
           7.29,
           "0"
          ],
          [
           7.43,
           "0"
          ],
          [
           6.44,
           "0"
          ],
          [
           0.09,
           "0"
          ],
          [
           0.02,
           "0"
          ],
          [
           3.74,
           "0"
          ],
          [
           4.18,
           "0"
          ],
          [
           0.3,
           "0"
          ],
          [
           0.15,
           "0"
          ],
          [
           6.47,
           "0"
          ],
          [
           0.45,
           "0"
          ],
          [
           4.93,
           "0"
          ],
          [
           0.06,
           "0"
          ],
          [
           3.3,
           "0"
          ],
          [
           0.24,
           "0"
          ],
          [
           8.33,
           "0"
          ],
          [
           7.64,
           "0"
          ],
          [
           0.04,
           "0"
          ],
          [
           0.02,
           "0"
          ],
          [
           3.86,
           "0"
          ],
          [
           0.17,
           "0"
          ],
          [
           0.43,
           "0"
          ],
          [
           0.12,
           "0"
          ],
          [
           0.01,
           "0"
          ],
          [
           0.06,
           "0"
          ],
          [
           7.17,
           "0"
          ],
          [
           4.81,
           "0"
          ],
          [
           0.04,
           "0"
          ],
          [
           0.09,
           "0"
          ],
          [
           0.23,
           "0"
          ],
          [
           1.11,
           "0"
          ],
          [
           3.48,
           "0"
          ],
          [
           0.11,
           "0"
          ],
          [
           0.09,
           "0"
          ],
          [
           0.11,
           "0"
          ],
          [
           0.07,
           "0"
          ],
          [
           5.3,
           "0"
          ],
          [
           0.53,
           "0"
          ],
          [
           0.04,
           "0"
          ],
          [
           0.24,
           "0"
          ],
          [
           0.11,
           "0"
          ],
          [
           0.06,
           "0"
          ],
          [
           3.14,
           "0"
          ],
          [
           1.57,
           "0"
          ],
          [
           6.5,
           "0"
          ],
          [
           0.56,
           "0"
          ],
          [
           7.46,
           "0"
          ],
          [
           0.02,
           "0"
          ],
          [
           0.45,
           "0"
          ],
          [
           0.15,
           "0"
          ],
          [
           0.15,
           "0"
          ],
          [
           3.67,
           "0"
          ],
          [
           6.52,
           "0"
          ],
          [
           3.14,
           "0"
          ],
          [
           0.03,
           "0"
          ],
          [
           3.48,
           "0"
          ],
          [
           4.57,
           "0"
          ],
          [
           7.57,
           "0"
          ],
          [
           0.04,
           "0"
          ],
          [
           1.36,
           "0"
          ],
          [
           0.17,
           "0"
          ],
          [
           1.59,
           "0"
          ],
          [
           6.86,
           "0"
          ],
          [
           5.54,
           "0"
          ],
          [
           0.46,
           "0"
          ],
          [
           5.07,
           "0"
          ],
          [
           3.76,
           "0"
          ],
          [
           0.13,
           "0"
          ],
          [
           0.07,
           "0"
          ],
          [
           0.29,
           "0"
          ],
          [
           0.02,
           "0"
          ],
          [
           1.63,
           "0"
          ],
          [
           0.29,
           "0"
          ],
          [
           6.45,
           "0"
          ],
          [
           2.89,
           "0"
          ],
          [
           2.92,
           "0"
          ],
          [
           0.05,
           "0"
          ],
          [
           6.77,
           "0"
          ],
          [
           0.09,
           "0"
          ],
          [
           0.08,
           "0"
          ],
          [
           6.06,
           "0"
          ],
          [
           0.02,
           "0"
          ],
          [
           0.46,
           "0"
          ],
          [
           5.81,
           "0"
          ],
          [
           0.02,
           "0"
          ],
          [
           6.12,
           "0"
          ],
          [
           0.1,
           "0"
          ],
          [
           3.49,
           "0"
          ],
          [
           7.71,
           "0"
          ],
          [
           4.12,
           "0"
          ],
          [
           3.03,
           "0"
          ],
          [
           6.21,
           "0"
          ],
          [
           0.04,
           "0"
          ],
          [
           0,
           "0"
          ],
          [
           0.48,
           "0"
          ],
          [
           0.02,
           "0"
          ],
          [
           0.15,
           "0"
          ],
          [
           0.05,
           "0"
          ],
          [
           0.15,
           "0"
          ],
          [
           3.98,
           "0"
          ]
         ],
         "hovertemplate": "is_safe=%{customdata[1]}<br>aluminium=%{x}<br>cadmium=%{y}<br>perchlorate=%{z}<br>chloramine=%{customdata[0]}<extra></extra>",
         "legendgroup": "0",
         "marker": {
          "color": "#636EFA",
          "size": 2,
          "symbol": "circle"
         },
         "mode": "markers",
         "name": "0",
         "scene": "scene",
         "showlegend": true,
         "type": "scatter3d",
         "x": [
          0.02,
          2.29,
          0.08,
          0.2,
          0.01,
          0.05,
          0.07,
          0.09,
          0.06,
          0.01,
          0.02,
          0.02,
          0.1,
          0.06,
          0.07,
          0.01,
          0.08,
          0.07,
          0.12,
          0.04,
          0.03,
          0.02,
          0.02,
          3.08,
          0,
          0,
          1.13,
          0.05,
          1.16,
          2.69,
          0.92,
          0.1,
          0.09,
          0.02,
          0.1,
          0.07,
          0.08,
          0.82,
          0.06,
          0.02,
          0.08,
          0.05,
          0.01,
          4.72,
          0.07,
          0.03,
          1.33,
          4.49,
          0.08,
          0.05,
          0.06,
          0.01,
          0.17,
          0.31,
          0.01,
          0.08,
          0.57,
          4.56,
          0.07,
          4.12,
          0.01,
          0.08,
          0.08,
          0.06,
          0.04,
          0.28,
          4.38,
          0,
          0.04,
          3.61,
          0,
          0.08,
          0.98,
          0.15,
          0.01,
          0.18,
          0.21,
          0.03,
          0.02,
          0.1,
          0.1,
          0.01,
          0.83,
          0.1,
          0.02,
          0.08,
          0.1,
          0.1,
          0.21,
          0.03,
          0.04,
          0.06,
          0.08,
          0.05,
          0.03,
          0.05,
          0.09,
          0.84,
          0.09,
          3.05,
          4.37,
          0.01,
          0.05,
          0.09,
          3.36,
          0.01,
          0.09,
          1.08,
          0.06,
          2.66,
          0.12,
          0.07,
          0.54,
          0.2,
          0.1,
          0.02,
          0.04,
          0.05,
          0.05,
          0.04,
          0.04,
          0.2,
          0.09,
          0.07,
          0.02,
          0.05,
          0.16,
          0.05,
          0.08,
          0.07,
          4.08,
          0.09,
          0.1,
          0.1,
          0.09,
          0.02,
          0.07,
          0.01,
          0,
          0.17,
          0.05,
          0.13,
          0.02,
          0.04,
          2.34,
          0.08,
          0.04,
          0.07,
          0.1,
          2.41,
          0.06,
          0.25,
          1.9,
          0.02,
          0.94,
          1.19,
          0,
          0.17,
          0.06,
          0.06,
          2.96,
          0.09,
          2.26,
          3.75,
          0.07,
          4.18,
          0.11,
          0.05,
          3.41,
          0.06,
          0.06,
          0.02,
          0.04,
          0.07,
          0.09,
          0.09,
          0.03,
          3.93,
          3.08,
          0.85,
          0.09,
          0.04,
          5.03,
          0.1,
          0.01,
          0.06,
          0.07,
          0.03,
          0,
          0.05,
          0.02,
          0.06,
          0.07,
          1.88,
          0.04,
          4.68,
          3.97,
          0.06,
          0.28,
          0.06,
          0.06,
          0.01,
          0.03,
          0.01,
          0.09,
          4.36,
          0.07,
          0.03,
          0,
          4.98,
          1.17,
          0.09,
          0.07,
          0.06,
          0.08,
          0.37,
          2.13,
          0.18,
          0.07,
          4.93,
          2.66,
          0.07,
          0.08,
          0.01,
          0.07,
          0.01,
          0.03,
          0.07,
          0.1,
          0.2,
          0.35,
          0.04,
          0.08,
          0.1,
          0.04,
          0.02,
          0.05,
          0.08,
          0.08,
          0.01,
          4.26,
          0.02,
          0.07,
          0.01,
          0.1,
          1.75,
          0.08,
          0.02,
          0.03,
          0.24,
          3.76,
          0.09,
          0.07,
          0.63,
          0.04,
          0.03,
          0.06,
          0.18,
          0.06,
          0.01,
          0.09,
          0.01,
          0.08,
          0.09,
          0.37,
          0.09,
          1.82,
          0.01,
          0.07,
          0.02,
          0.12,
          0.12,
          0.05,
          0.17,
          0.09,
          0.01,
          0.03,
          0.02,
          0.04,
          0.07,
          0.01,
          0.01,
          0.81,
          3.8,
          4.18,
          0.04,
          0.01,
          0.01,
          0.19,
          0.03,
          2.1,
          0.09,
          2.62,
          0.06,
          0.1,
          2.88,
          0.05,
          0.31,
          0.23,
          0.06,
          0.05,
          0.03,
          0.04,
          0.01,
          0.02,
          1.59,
          0.01,
          4.4,
          0.02,
          0.05,
          0.05,
          0.04,
          0.02,
          0.09,
          0.05,
          0.02,
          0.07,
          0.02,
          3.05,
          0.02,
          1.86,
          0.02,
          0.04,
          0.08,
          0.14,
          0.08,
          0.02,
          0.04,
          0.1,
          0.11,
          0.09,
          0.09,
          0.01,
          0.04,
          0.08,
          0.09,
          0.09,
          1.73,
          2.99,
          0.03,
          0.05,
          0.05,
          0.05,
          0.04,
          0.05,
          3.57,
          0.08,
          2.29,
          0.04,
          0.03,
          0.06,
          0.17,
          0.09,
          1.21,
          0.02,
          0.02,
          0.34,
          0.05,
          3.36,
          0.08,
          2.52,
          1.8,
          3.09,
          0.02,
          0.01,
          0.04,
          0.02,
          4.56,
          0.05,
          0.05,
          0.06,
          0.06,
          0.03,
          2.67,
          1.06,
          0.05,
          0.29,
          0.03,
          0.06,
          0.07,
          0.05,
          0.05,
          0.1,
          0.05,
          0.44,
          0.04,
          0.05,
          0,
          0.06,
          0.02,
          0.1,
          0.26,
          0.07,
          0.06,
          0.13,
          0.01,
          0.06,
          0.1,
          0.09,
          0.4,
          0.05,
          0.05,
          0.1,
          3.14,
          0.02,
          0.03,
          0.03,
          0.04,
          0.06,
          3.08,
          0.05,
          0.39,
          0.09,
          0.07,
          0.06,
          0.01,
          0.06,
          3.87,
          0.04,
          0.08,
          0.08,
          0.12,
          0.07,
          1.56,
          0.04,
          0.1,
          4.99,
          0.09,
          0.08,
          4.84,
          4.3,
          0.08,
          3.13,
          0.78,
          2.22,
          0.05,
          1.13,
          0.04,
          0.06,
          2.34,
          0.1,
          0.07,
          0.09,
          0.04,
          0.03,
          0.04,
          0.01,
          0.11,
          0.1,
          0.15,
          0.08,
          0.43,
          4.58,
          0.03,
          0.1,
          0.04,
          1.46,
          0.25,
          0.08,
          0.03,
          0.09,
          0.2,
          0.02,
          0.09,
          0.09,
          0.03,
          0.09,
          0.03,
          0.03,
          0.09,
          0.01,
          0.08,
          0.03,
          1.91,
          0.08,
          0.06,
          0.11,
          4.56,
          0.06,
          0.08,
          2.64,
          0.02,
          0.04,
          2.78,
          0.05,
          2.59,
          0.02,
          0.08,
          0.06,
          2.25,
          0.04,
          3.49,
          0.09,
          0.36,
          0.01,
          4.19,
          0.08,
          0.74,
          0.09,
          0.09,
          0.07,
          0,
          1.74,
          2.79,
          0.05,
          0.05,
          0.05,
          1.37,
          0.01,
          1.72,
          0.03,
          0.06,
          0.04,
          0.08,
          0.01,
          0,
          1.39,
          0.01,
          0,
          0.09,
          0.05,
          0.01,
          0.06,
          0.39,
          0.07,
          0,
          0.08,
          0.83,
          0.02,
          0.01,
          0.04,
          0.07,
          0.04,
          0.05,
          0.07,
          3.51,
          0.01,
          0.03,
          0.07,
          0.03,
          0.07,
          0.04,
          4.11,
          0.04,
          0.03,
          0.11,
          2.36,
          0.04,
          0.09,
          1.01,
          0.08,
          0.07,
          0.02,
          0.07,
          0.01,
          0.08,
          0.08,
          0.1,
          0.05,
          0.01,
          0.02,
          0.06,
          0.07,
          0.04,
          0.21,
          0.04,
          1.13,
          0.08,
          0.04,
          0.09,
          0.07,
          0.03,
          0.13,
          0.09,
          0.07,
          0.12,
          2.28,
          0.05,
          0.05,
          0.07,
          0.08,
          0.02,
          3.07,
          0.05,
          0.01,
          0.04,
          0.38,
          0.37,
          0.09,
          0.03,
          0.07,
          0.09,
          0.05,
          0.01,
          0.02,
          0.01,
          0.02,
          1.01,
          0.08,
          3.03,
          0.05,
          0.01,
          0.01,
          0.1,
          0.08,
          0.05,
          0.01,
          0.09,
          0.01,
          0.06,
          0.27,
          2.01,
          0.08,
          0.03,
          0.06,
          1.8,
          0.22,
          0.06,
          0.04,
          0.77,
          0.01,
          0.08,
          0.07,
          1.57,
          0.07,
          0.09,
          0.08,
          0.1,
          0.08,
          0.01,
          0.07,
          0.1,
          4.69,
          0.07,
          3.3,
          0.07,
          0.29,
          0.1,
          0.02,
          1.84,
          0.04,
          0.07,
          0.06,
          0.06,
          0.07,
          0,
          0.94,
          0.01,
          0.01,
          0,
          0.06,
          0.08,
          0.04,
          0.08,
          0.04,
          0.07,
          0.04,
          0.01,
          0.06,
          1.75,
          0.07,
          0.28,
          3.42,
          0.06,
          0.05,
          0.25,
          0.22,
          0.09,
          0.11,
          3.11,
          0.05,
          0.06,
          0.08,
          2.28,
          0.04,
          0.06,
          4.41,
          0.03,
          0.08,
          0.01,
          0.31,
          0.06,
          3.63,
          1.08,
          1.53,
          0.09,
          0.07,
          0.03,
          0.03,
          1.37,
          0.14,
          0.29,
          1.75,
          0.18,
          3.04,
          0.1,
          0.09,
          0,
          0.18,
          0.1,
          0.06,
          3.08,
          0.06,
          0.07,
          0.02,
          0.21,
          0.06,
          0.07,
          0,
          0.1,
          2.45,
          0.09,
          0.01,
          0.04,
          0.05,
          3.65,
          0.05,
          0.01,
          4.46,
          0.01,
          0.09,
          0.06,
          0,
          0.02,
          0.07,
          0.02,
          0.04,
          0.06,
          0.01,
          0,
          0.02,
          0.03,
          0.08,
          0.06,
          0.02,
          0.07,
          1.95,
          0.01,
          0.07,
          3.68,
          1.74,
          0,
          0.06,
          0.1,
          0.05,
          0.08,
          0.09,
          3.53,
          0.07,
          0.02,
          0.03,
          0.03,
          0.39,
          0.08,
          0.04,
          0.18,
          0.05,
          0.06,
          0.18,
          0.04,
          0.05,
          0.03,
          0.09,
          0,
          0.04,
          0.1,
          0.07,
          0.07,
          0.07,
          0.1,
          0.18,
          0.01,
          0.07,
          0.1,
          0.06,
          4.18,
          0.1,
          0.01,
          4.23,
          0.06,
          0.1,
          0.07,
          0.09,
          0.04,
          2.36,
          0.01,
          0.09,
          0.18,
          0.06,
          0.07,
          0.08,
          0.02,
          0.07,
          0.04,
          0.04,
          0.09,
          0.05,
          1.27,
          0.01,
          0.01,
          0.01,
          0.04,
          0.01,
          0.03,
          0.99,
          0.1,
          4.77,
          0.06,
          0.08,
          0.06,
          0.05,
          0.09,
          0.07,
          4.37,
          0.34,
          0.08,
          0.05,
          0.04,
          0.01,
          0.02,
          0.02,
          2.9,
          0,
          0.83,
          0.04,
          0.06,
          0.05,
          0.03,
          0.99,
          0.02,
          0.07,
          0.14,
          0.02,
          0.11,
          0.08,
          0.1,
          0.04,
          0.29,
          0.06,
          0.06,
          0.02,
          0.1,
          3.76,
          0.02,
          0.07,
          0.02,
          0.03,
          0.07,
          0.09,
          0.09,
          0.07,
          0.04,
          0.08,
          0.09,
          0.05,
          3.07,
          0.14,
          0.3,
          4.84,
          0.04,
          0.01,
          0.05,
          0.1,
          0.06,
          0.04,
          0.05,
          0.03,
          2.77,
          0.02,
          1.51,
          0.01,
          4.2,
          0.08,
          0,
          4.04,
          2.74,
          0.1,
          0.35,
          0.04,
          0,
          0.03,
          0.08,
          0.05,
          0.09,
          0.08,
          0.06,
          0.21,
          0.06,
          0.01,
          0.59,
          0.02,
          0.09,
          1.48,
          0.04,
          0.03,
          0.02,
          0.02,
          0.05,
          0.09,
          0.18,
          0.09,
          1.57,
          0.03,
          0.04,
          0.03,
          0.09,
          0.05,
          0.01,
          0.1,
          0.08,
          0.02,
          0.32
         ],
         "y": [
          0.07,
          0.08,
          0.11,
          0.06,
          0.1,
          0.004,
          0.06,
          0.06,
          0.05,
          0.13,
          0.03,
          0.08,
          0.07,
          0,
          0.07,
          0.003,
          0.1,
          0.07,
          0.11,
          0.13,
          0.09,
          0.07,
          0.04,
          0.004,
          0.01,
          0.1,
          0.03,
          0.04,
          0.007,
          0.03,
          0.05,
          0.04,
          0.02,
          0.1,
          0.04,
          0.05,
          0.01,
          0.01,
          0.001,
          0.01,
          0.001,
          0.06,
          0.002,
          0.08,
          0.05,
          0.05,
          0.07,
          0.12,
          0.09,
          0.02,
          0.06,
          0.003,
          0.002,
          0.03,
          0.08,
          0,
          0.06,
          0.008,
          0.02,
          0.002,
          0.07,
          0.005,
          0.03,
          0.09,
          0.04,
          0.07,
          0.1,
          0.02,
          0.09,
          0.05,
          0.09,
          0.04,
          0.07,
          0.007,
          0.008,
          0.12,
          0.001,
          0.005,
          0,
          0.1,
          0.09,
          0.01,
          0.001,
          0.04,
          0.03,
          0.01,
          0,
          0.05,
          0.12,
          0.07,
          0.04,
          0.005,
          0.008,
          0.06,
          0.07,
          0.01,
          0.06,
          0.09,
          0.01,
          0.03,
          0.13,
          0.09,
          0.06,
          0.09,
          0.01,
          0.06,
          0.01,
          0.003,
          0.03,
          0.01,
          0.005,
          0.02,
          0.11,
          0.02,
          0.004,
          0.07,
          0.09,
          0.09,
          0.06,
          0.12,
          0.005,
          0.009,
          0.05,
          0.02,
          0.05,
          0.002,
          0.09,
          0.05,
          0.07,
          0.07,
          0.007,
          0.07,
          0.09,
          0.06,
          0.09,
          0.1,
          0.05,
          0.05,
          0.03,
          0.008,
          0.001,
          0.003,
          0.03,
          0.08,
          0,
          0.09,
          0.01,
          0.07,
          0.005,
          0.04,
          0.05,
          0.04,
          0.12,
          0.02,
          0.008,
          0.07,
          0.08,
          0.04,
          0.04,
          0.08,
          0.001,
          0,
          0.06,
          0.002,
          0.05,
          0.003,
          0.002,
          0.04,
          0.02,
          0.03,
          0.1,
          0.03,
          0.06,
          0.001,
          0.01,
          0.01,
          0,
          0.004,
          0.001,
          0.05,
          0.09,
          0.1,
          0.04,
          0.06,
          0.03,
          0.07,
          0.09,
          0.12,
          0.01,
          0.007,
          0.08,
          0.03,
          0.05,
          0.12,
          0.1,
          0.001,
          0.08,
          0.005,
          0.07,
          0.005,
          0.02,
          0.001,
          0.07,
          0.09,
          0.03,
          0.04,
          0.01,
          0.05,
          0.02,
          0.09,
          0.04,
          0.08,
          0.06,
          0.02,
          0.09,
          0.1,
          0.04,
          0.004,
          0.03,
          0.002,
          0.005,
          0.05,
          0.06,
          0.02,
          0.09,
          0.008,
          0.12,
          0.07,
          0.01,
          0.009,
          0.06,
          0.1,
          0.05,
          0.04,
          0.07,
          0.003,
          0.05,
          0.02,
          0.003,
          0.005,
          0.12,
          0.009,
          0.005,
          0.008,
          0.11,
          0.005,
          0.11,
          0.06,
          0.09,
          0.04,
          0.04,
          0.006,
          0.06,
          0.12,
          0.03,
          0.04,
          0.008,
          0.12,
          0.007,
          0.008,
          0.01,
          0.03,
          0.06,
          0.001,
          0.002,
          0.09,
          0.01,
          0.06,
          0.003,
          0.05,
          0.13,
          0.001,
          0.09,
          0.03,
          0.04,
          0.1,
          0.07,
          0.01,
          0.04,
          0.01,
          0.08,
          0.04,
          0.02,
          0.1,
          0.01,
          0.03,
          0.001,
          0,
          0.13,
          0.005,
          0.09,
          0.05,
          0.006,
          0.03,
          0.05,
          0.05,
          0.09,
          0.009,
          0.004,
          0.05,
          0.08,
          0.02,
          0.09,
          0.003,
          0.08,
          0.06,
          0.1,
          0.03,
          0.03,
          0.006,
          0.09,
          0.09,
          0.01,
          0.003,
          0.06,
          0.01,
          0.06,
          0.06,
          0.03,
          0.01,
          0.11,
          0.006,
          0.01,
          0.09,
          0.1,
          0.04,
          0.006,
          0.01,
          0.06,
          0.001,
          0.1,
          0.06,
          0.002,
          0.03,
          0.06,
          0.03,
          0.07,
          0.002,
          0.06,
          0.03,
          0.06,
          0.1,
          0.03,
          0.04,
          0.08,
          0.07,
          0.05,
          0.02,
          0,
          0.005,
          0.05,
          0.005,
          0.03,
          0.06,
          0.02,
          0.09,
          0.007,
          0.08,
          0.02,
          0.004,
          0.04,
          0.09,
          0.002,
          0.05,
          0.09,
          0.08,
          0.03,
          0.008,
          0.05,
          0.01,
          0.08,
          0.01,
          0.07,
          0.12,
          0.01,
          0.08,
          0.02,
          0,
          0.04,
          0.003,
          0.05,
          0.001,
          0.06,
          0.04,
          0.03,
          0.01,
          0.1,
          0.005,
          0.07,
          0.003,
          0.06,
          0.001,
          0.008,
          0.08,
          0.004,
          0.07,
          0.09,
          0.05,
          0.01,
          0.01,
          0.08,
          0.05,
          0.005,
          0.05,
          0.006,
          0.09,
          0.03,
          0.06,
          0.02,
          0.004,
          0.03,
          0.007,
          0.07,
          0.02,
          0.02,
          0.06,
          0,
          0.06,
          0.01,
          0.09,
          0.06,
          0.001,
          0.001,
          0.09,
          0.001,
          0.05,
          0.01,
          0.06,
          0.005,
          0.004,
          0.008,
          0.07,
          0.1,
          0.003,
          0.09,
          0.002,
          0.03,
          0.06,
          0.06,
          0.08,
          0.09,
          0.04,
          0,
          0.09,
          0.04,
          0.06,
          0.01,
          0.08,
          0.007,
          0.007,
          0.04,
          0.005,
          0.008,
          0.07,
          0.08,
          0.07,
          0.08,
          0.006,
          0.02,
          0.09,
          0.008,
          0.09,
          0.05,
          0.05,
          0.09,
          0.05,
          0.02,
          0.05,
          0.02,
          0.09,
          0.04,
          0.07,
          0.03,
          0.008,
          0.07,
          0.07,
          0.007,
          0.003,
          0.002,
          0,
          0.11,
          0.06,
          0.02,
          0.11,
          0.004,
          0.009,
          0.03,
          0.001,
          0.02,
          0.001,
          0.02,
          0.13,
          0.06,
          0.002,
          0.07,
          0.006,
          0.02,
          0.002,
          0.04,
          0.06,
          0.07,
          0.01,
          0.001,
          0.03,
          0.004,
          0.03,
          0.09,
          0.002,
          0.005,
          0.07,
          0.02,
          0.1,
          0.02,
          0.09,
          0.01,
          0.001,
          0.005,
          0.01,
          0.03,
          0.02,
          0.004,
          0.09,
          0.04,
          0.07,
          0.007,
          0.09,
          0.08,
          0.001,
          0.003,
          0.002,
          0.07,
          0.07,
          0.002,
          0.05,
          0.05,
          0.003,
          0.07,
          0.005,
          0.09,
          0.06,
          0.04,
          0.11,
          0.008,
          0.08,
          0.08,
          0.003,
          0.004,
          0.08,
          0.04,
          0.008,
          0.003,
          0.05,
          0.03,
          0.04,
          0.001,
          0.09,
          0.02,
          0.07,
          0.03,
          0.05,
          0.02,
          0.008,
          0.02,
          0.02,
          0.006,
          0.08,
          0.02,
          0.03,
          0.04,
          0.002,
          0.04,
          0.009,
          0.1,
          0.07,
          0.07,
          0.003,
          0.11,
          0.06,
          0.06,
          0.005,
          0.02,
          0.006,
          0.12,
          0.08,
          0.003,
          0.05,
          0.002,
          0.05,
          0.02,
          0.001,
          0.04,
          0.01,
          0.005,
          0.07,
          0.09,
          0.04,
          0.06,
          0.008,
          0.09,
          0.005,
          0.01,
          0.07,
          0.08,
          0.06,
          0.05,
          0.008,
          0.007,
          0.08,
          0.002,
          0.09,
          0.01,
          0.002,
          0.05,
          0.07,
          0.01,
          0.13,
          0.005,
          0.01,
          0.08,
          0.002,
          0.06,
          0.05,
          0.01,
          0.03,
          0.02,
          0.08,
          0.07,
          0.06,
          0.07,
          0.003,
          0.002,
          0.09,
          0.08,
          0.06,
          0.13,
          0.04,
          0.001,
          0.02,
          0.1,
          0.07,
          0.01,
          0.05,
          0.02,
          0.007,
          0.01,
          0.09,
          0.04,
          0,
          0.02,
          0,
          0.04,
          0.08,
          0.02,
          0,
          0.09,
          0.03,
          0.07,
          0.02,
          0,
          0.12,
          0.07,
          0.06,
          0.13,
          0.02,
          0.08,
          0.004,
          0.005,
          0.02,
          0.1,
          0.06,
          0.04,
          0.06,
          0.08,
          0.11,
          0.07,
          0.01,
          0.02,
          0.001,
          0.07,
          0.03,
          0.007,
          0.09,
          0.008,
          0.003,
          0.06,
          0.02,
          0.12,
          0.001,
          0.006,
          0.11,
          0.003,
          0.05,
          0.12,
          0.08,
          0.11,
          0.11,
          0.02,
          0.09,
          0.03,
          0.08,
          0.09,
          0.12,
          0,
          0.1,
          0.04,
          0.001,
          0.01,
          0.07,
          0.02,
          0.1,
          0.07,
          0.05,
          0.04,
          0.09,
          0,
          0.02,
          0.09,
          0.004,
          0.05,
          0.1,
          0.09,
          0.04,
          0.01,
          0.07,
          0.06,
          0.02,
          0.08,
          0.02,
          0.13,
          0.05,
          0.05,
          0.004,
          0.003,
          0.03,
          0.07,
          0.1,
          0,
          0.05,
          0.006,
          0.004,
          0.05,
          0.09,
          0.01,
          0.1,
          0.07,
          0.03,
          0,
          0.005,
          0.05,
          0.11,
          0.03,
          0.02,
          0.07,
          0.03,
          0,
          0.009,
          0.07,
          0.05,
          0.08,
          0.08,
          0.07,
          0.02,
          0.09,
          0.03,
          0.05,
          0.07,
          0.05,
          0,
          0.11,
          0.08,
          0.03,
          0.007,
          0.02,
          0.01,
          0.004,
          0.003,
          0.06,
          0.001,
          0.11,
          0.001,
          0,
          0.02,
          0.07,
          0.08,
          0.004,
          0.06,
          0.05,
          0.008,
          0.1,
          0.09,
          0.01,
          0.06,
          0.09,
          0.06,
          0.06,
          0.1,
          0.03,
          0.07,
          0.02,
          0.06,
          0.03,
          0.09,
          0.05,
          0.1,
          0.008,
          0.09,
          0.11,
          0.005,
          0.07,
          0.1,
          0.04,
          0.08,
          0.01,
          0.05,
          0.02,
          0,
          0.02,
          0.09,
          0.001,
          0.06,
          0.07,
          0.003,
          0.08,
          0.07,
          0.05,
          0.01,
          0.04,
          0.03,
          0.007,
          0.05,
          0,
          0.03,
          0.08,
          0.08,
          0.04,
          0.09,
          0.04,
          0.12,
          0.005,
          0.09,
          0,
          0.1,
          0.002,
          0.009,
          0.07,
          0.06,
          0.06,
          0.08,
          0.09,
          0.03,
          0.01,
          0,
          0.09,
          0.08,
          0.03,
          0.001,
          0.01,
          0.03,
          0.13,
          0.09,
          0.09,
          0.09,
          0.03,
          0.05,
          0.04,
          0.03,
          0.07,
          0.06,
          0.003,
          0.007,
          0.05,
          0.002,
          0.06,
          0.03,
          0.02,
          0.13,
          0.07,
          0.008,
          0.11,
          0.05,
          0.03,
          0.09,
          0.03,
          0.12,
          0.05,
          0.002,
          0.001,
          0.04,
          0.09,
          0.05,
          0.07,
          0.02,
          0.005,
          0.1,
          0.07,
          0.03,
          0.02,
          0.006,
          0,
          0.005,
          0.02,
          0.03,
          0.004,
          0.001,
          0.02,
          0.03,
          0.03,
          0.09,
          0.07,
          0.06,
          0.08,
          0.006
         ],
         "z": [
          6.6,
          11.79,
          35.07,
          25.8,
          8.13,
          27.85,
          1.77,
          50.97,
          0.47,
          7.41,
          10.85,
          51.71,
          16.55,
          1.8,
          4.82,
          54.96,
          3.49,
          9.99,
          27.52,
          32.69,
          1.9,
          0.13,
          4.16,
          51.83,
          5.23,
          17.87,
          10.55,
          39.24,
          44.45,
          41.07,
          27.45,
          5.97,
          0.02,
          7.12,
          2.43,
          0.41,
          2.89,
          31.79,
          29.51,
          51.07,
          14.24,
          4.59,
          31.62,
          15.27,
          0.81,
          11.27,
          24.15,
          11.63,
          3.09,
          2.52,
          19.51,
          30.91,
          37.72,
          26.23,
          8.53,
          0.09,
          26.29,
          31.89,
          3.06,
          56.24,
          4.27,
          22.76,
          2.22,
          0.42,
          3.56,
          53.09,
          57.08,
          2.1,
          3.23,
          24.15,
          36.99,
          8.27,
          33.05,
          23.26,
          30.09,
          0.41,
          4.51,
          24.13,
          2.34,
          1.88,
          0.4,
          1.45,
          44.91,
          0.52,
          4.65,
          4.49,
          0.14,
          6.6,
          35.04,
          0.4,
          0.06,
          57.74,
          13.9,
          1.7,
          3.21,
          3.7,
          0.44,
          10.72,
          2.15,
          36.25,
          37.51,
          0.65,
          1.1,
          0.84,
          12.35,
          5.17,
          0.41,
          53.85,
          1.13,
          12.99,
          35.13,
          0.48,
          33.81,
          3.06,
          33.95,
          10.7,
          19.06,
          1.88,
          0.31,
          13.78,
          58.17,
          17.89,
          37.65,
          5.36,
          7.48,
          36.57,
          25.74,
          2.57,
          6.51,
          3.36,
          56.44,
          0.68,
          1.24,
          25.1,
          0.78,
          0.08,
          55.99,
          0.42,
          0.18,
          26.54,
          15.47,
          56.32,
          3.58,
          3.23,
          36.58,
          2.78,
          0.31,
          3.79,
          51.58,
          30.39,
          1.53,
          21.01,
          0.37,
          5.39,
          43.79,
          41.22,
          58.27,
          2.62,
          0.75,
          45.68,
          44.08,
          3.09,
          46.17,
          31.08,
          0.71,
          46.26,
          14.67,
          28.74,
          29.68,
          6.14,
          8.67,
          9.12,
          4.5,
          15.26,
          2.02,
          7.38,
          0.86,
          55.41,
          46.12,
          43.72,
          0.24,
          1.64,
          47.79,
          1.85,
          9.24,
          16.14,
          1.11,
          7.7,
          0.17,
          28.03,
          3.19,
          6.16,
          2.49,
          16.78,
          7.84,
          41.09,
          11.68,
          10.24,
          53.09,
          57.74,
          0.15,
          40.33,
          0.45,
          3.42,
          2.56,
          5.93,
          5.25,
          1.47,
          0.28,
          17.75,
          3.92,
          3.21,
          51.13,
          3.78,
          7.38,
          19.71,
          41.22,
          52.76,
          0.38,
          56.99,
          30.98,
          1.04,
          10.24,
          3.18,
          0.3,
          17.54,
          48.8,
          32.94,
          1.83,
          17.89,
          42.8,
          0.76,
          3.11,
          13.47,
          0.19,
          46.26,
          0.61,
          0.02,
          13.32,
          13.93,
          53.9,
          7.69,
          22,
          30.09,
          36.84,
          57.87,
          15.35,
          5.16,
          0.55,
          14.94,
          27.71,
          32.51,
          0.98,
          23.38,
          5.06,
          4.71,
          26.8,
          30.22,
          30.36,
          6.7,
          11.06,
          2.81,
          2.46,
          58.4,
          48.66,
          2.08,
          33.08,
          7.14,
          53.85,
          0.31,
          3.66,
          6.36,
          2.98,
          23.39,
          7.59,
          1.64,
          1.54,
          4.3,
          2.65,
          4.06,
          1.43,
          0.6,
          52.77,
          29.52,
          45.18,
          0.28,
          42.49,
          8.49,
          23.92,
          21.38,
          25.34,
          0.47,
          35.48,
          3.56,
          2.58,
          31.16,
          10.53,
          31.78,
          23.35,
          2.62,
          0.38,
          0.24,
          7.07,
          54.96,
          0.45,
          5.79,
          11.09,
          46.31,
          0.18,
          48.88,
          2.31,
          9.95,
          2.29,
          55.81,
          2.03,
          4.3,
          0.83,
          6.9,
          36.25,
          0.5,
          33.56,
          14.16,
          0.13,
          0.9,
          13.1,
          1.64,
          33.02,
          43.09,
          1.85,
          29.85,
          0.39,
          0.08,
          56.76,
          0.4,
          0.12,
          4.06,
          5.73,
          59.31,
          18.24,
          1.24,
          0.2,
          2.11,
          1.43,
          3.31,
          0.18,
          20.16,
          1.85,
          40.71,
          0.31,
          0.54,
          2.17,
          3.43,
          2.56,
          46.96,
          5.03,
          0.11,
          22.9,
          12.95,
          44.89,
          23.58,
          15.93,
          8.13,
          56.34,
          5.42,
          0.31,
          3.74,
          0.39,
          53.06,
          0.59,
          3.28,
          45.68,
          4.93,
          3.21,
          7.64,
          48.79,
          12.95,
          48.79,
          3.36,
          0.13,
          53.85,
          33.74,
          15.47,
          2.12,
          39.24,
          50.05,
          49.41,
          10.22,
          14.49,
          0.78,
          55.86,
          0.4,
          57.49,
          29.55,
          0.47,
          20.28,
          1.41,
          5.18,
          1.47,
          31.21,
          34.36,
          10.62,
          2.63,
          36.52,
          48.89,
          33.02,
          0.9,
          32.79,
          0.18,
          38.45,
          51.83,
          8.09,
          52.36,
          1.09,
          0.49,
          4.84,
          12.12,
          1.8,
          40.54,
          0.31,
          7.38,
          1.34,
          6.36,
          54.7,
          55.13,
          6.02,
          3.35,
          27.53,
          0.08,
          6.87,
          57.4,
          50.04,
          3.69,
          14.26,
          30.91,
          40.35,
          28.76,
          10.55,
          1.24,
          4.04,
          18.77,
          7.84,
          1.99,
          3.42,
          2.53,
          10.26,
          2.57,
          50.29,
          41.47,
          33.56,
          27.63,
          8.27,
          52.7,
          25.62,
          58.29,
          0.46,
          14.08,
          58.27,
          19.09,
          2.03,
          4.97,
          49.97,
          53.95,
          10.6,
          7.51,
          0.48,
          3.5,
          2.03,
          58.78,
          55.88,
          10.61,
          4.87,
          0.25,
          0.74,
          40,
          59.41,
          11.15,
          15.81,
          31.67,
          53.92,
          2.19,
          48.06,
          2.21,
          0.04,
          57.56,
          11.39,
          38.05,
          0.24,
          25.15,
          0.11,
          49.83,
          33.84,
          10.74,
          0.17,
          28.71,
          2.77,
          29.38,
          5.6,
          49.41,
          4.97,
          0.42,
          1.48,
          0.19,
          58.18,
          23.68,
          27.56,
          3.58,
          0.58,
          43.63,
          42.34,
          0.5,
          51.04,
          0.86,
          0.26,
          9.41,
          0.18,
          8.65,
          55.57,
          4.97,
          51.39,
          8.7,
          40.12,
          0.34,
          8.36,
          24.97,
          0.77,
          39.5,
          0.04,
          44.91,
          55.86,
          56.76,
          0.49,
          9.71,
          28.03,
          25.85,
          0.1,
          23.36,
          0.63,
          21.38,
          6.93,
          1.74,
          10.56,
          25.27,
          50.19,
          1.18,
          9.47,
          47.74,
          45.34,
          0.28,
          1.44,
          50.28,
          24.09,
          0.13,
          0.42,
          13.14,
          44.54,
          9.47,
          4.94,
          6.12,
          0.21,
          3.99,
          1.41,
          12.9,
          5.14,
          6.26,
          9.67,
          2.55,
          51.32,
          3.49,
          1.76,
          46.36,
          2.59,
          3.13,
          19.98,
          1.09,
          2.56,
          32.08,
          47.65,
          2.04,
          10.4,
          44.05,
          3.41,
          33.02,
          46.55,
          0.15,
          15.52,
          1.66,
          5.61,
          22.3,
          0.34,
          38.6,
          0.95,
          2.02,
          44.92,
          2.33,
          3.33,
          4.49,
          0.46,
          50.28,
          7.39,
          48.78,
          0.05,
          0.3,
          6.62,
          4.94,
          1.41,
          13.74,
          22.42,
          2.05,
          51.47,
          0.22,
          47.29,
          56.76,
          36.78,
          2.74,
          0.96,
          57.2,
          11.97,
          4.62,
          1.18,
          36.42,
          2.52,
          53.03,
          4.39,
          26.73,
          8.77,
          3.01,
          7.81,
          33.48,
          0.25,
          55.27,
          35.76,
          3.71,
          33.27,
          0.62,
          36.6,
          4.06,
          37.64,
          5.62,
          6.23,
          45.48,
          48.97,
          5.76,
          0.11,
          26.43,
          11.14,
          36.99,
          49.1,
          0.23,
          1.95,
          0.63,
          3.07,
          5.7,
          4.8,
          9.77,
          4.64,
          7.36,
          3.85,
          35.23,
          0.13,
          1.48,
          3.22,
          7.25,
          51.66,
          6.6,
          31.42,
          47.56,
          14.78,
          9.05,
          49.56,
          42.57,
          0.38,
          0.17,
          53.45,
          47.65,
          1.69,
          4.62,
          23.1,
          31.48,
          2.66,
          0.3,
          30.95,
          2.24,
          39.03,
          53.85,
          38.93,
          0.1,
          54.75,
          7.24,
          0.8,
          48.62,
          27.31,
          17.64,
          1.48,
          55.59,
          31.88,
          36.84,
          0.09,
          12.31,
          16.31,
          5.29,
          1.4,
          33.39,
          0.77,
          0.05,
          53.96,
          30.79,
          37.78,
          5.31,
          2.1,
          40.78,
          17.64,
          0.4,
          10.31,
          0.09,
          3.18,
          22.86,
          1.25,
          21.68,
          8.05,
          0.22,
          5.34,
          0.4,
          59.56,
          0.71,
          4.6,
          7.29,
          0.28,
          0.87,
          7.41,
          9.62,
          2.04,
          38.74,
          13.3,
          3.5,
          10.59,
          8.15,
          44.72,
          1.49,
          30.29,
          58.63,
          46.5,
          5.36,
          0.18,
          57.75,
          31.67,
          0.99,
          3.09,
          49.23,
          1.43,
          8.7,
          3.19,
          4.6,
          36.53,
          40.83,
          6.73,
          27.48,
          3.1,
          7.06,
          55.59,
          4.51,
          17.88,
          0.35,
          9.01,
          11.3,
          1.36,
          2.04,
          9.67,
          2.56,
          11.17,
          5.29,
          41.09,
          33.01,
          0.39,
          0.16,
          29.45,
          46.26,
          0.36,
          53.35,
          35.04,
          51.02,
          3.5,
          3.8,
          1.09,
          3.84,
          45.34,
          54.1,
          0.5,
          41.04,
          37.91,
          0.92,
          3.3,
          2.93,
          36.61,
          3.07,
          7.95,
          4.93,
          0.16,
          6.05,
          2.7,
          1.02,
          0.3,
          2.03,
          1.72,
          3.29,
          44.03,
          2.27,
          32.6,
          10.24,
          59.41,
          10.42,
          43.97,
          2.61,
          33.99,
          56.52,
          27.35,
          1.85,
          6.68,
          29.86,
          42.49,
          0.39,
          8.19,
          54.05,
          0.62,
          57.54,
          0.1,
          40.8,
          0.66,
          45.08,
          57.11,
          1.4,
          2.56,
          26.21,
          4.37,
          32.97,
          3.79,
          2.24,
          1.18,
          55.8,
          25.89,
          0.33,
          3.16,
          2.69,
          32.4,
          48.67,
          7.57,
          0.34,
          1.41,
          0.07,
          50.47,
          8.62,
          11.14,
          6.73,
          5.08,
          6.64,
          48.11,
          49.24,
          4.62,
          31.82,
          29.26,
          3.82,
          0.26,
          2.54,
          5.77,
          38.52,
          38.73,
          48.11,
          1.54,
          55.98,
          36.55,
          37.78,
          1.49,
          53.92,
          7.08,
          11.43,
          18.85,
          20.83,
          0.82,
          21.38,
          53.97,
          1.61,
          1.45,
          3.66,
          3.95,
          13.86,
          1.41,
          46.13,
          41.37,
          18.68,
          0.15,
          18.81,
          1.23,
          0.09,
          58.17,
          0.29,
          1.95,
          12.52,
          6.28,
          13.03,
          3.09,
          57.74,
          11.43,
          26.73,
          48.83,
          7.51,
          0.35,
          2.61,
          0.62,
          0.34,
          4.18,
          0.42,
          2.1,
          26.53
         ]
        },
        {
         "customdata": [
          [
           0.35,
           "1"
          ],
          [
           5.28,
           "1"
          ],
          [
           7.23,
           "1"
          ],
          [
           2.67,
           "1"
          ],
          [
           0.8,
           "1"
          ],
          [
           3.14,
           "1"
          ],
          [
           6.4,
           "1"
          ],
          [
           0.1,
           "1"
          ],
          [
           0.05,
           "1"
          ],
          [
           0.7,
           "1"
          ],
          [
           5.99,
           "1"
          ],
          [
           1.94,
           "1"
          ],
          [
           5.29,
           "1"
          ],
          [
           7.78,
           "1"
          ],
          [
           0.01,
           "1"
          ],
          [
           4.57,
           "1"
          ],
          [
           3.47,
           "1"
          ],
          [
           3.74,
           "1"
          ],
          [
           7.22,
           "1"
          ],
          [
           2.55,
           "1"
          ],
          [
           6.63,
           "1"
          ],
          [
           5.87,
           "1"
          ],
          [
           2.86,
           "1"
          ],
          [
           4,
           "1"
          ],
          [
           4.55,
           "1"
          ],
          [
           4.94,
           "1"
          ],
          [
           0.64,
           "1"
          ],
          [
           2.9,
           "1"
          ],
          [
           5.71,
           "1"
          ],
          [
           0.22,
           "1"
          ],
          [
           6.11,
           "1"
          ],
          [
           0.68,
           "1"
          ],
          [
           7.7,
           "1"
          ],
          [
           7.97,
           "1"
          ],
          [
           6.19,
           "1"
          ],
          [
           0.9,
           "1"
          ],
          [
           4.5,
           "1"
          ],
          [
           0.88,
           "1"
          ],
          [
           1.13,
           "1"
          ],
          [
           3.85,
           "1"
          ],
          [
           6.16,
           "1"
          ],
          [
           7.06,
           "1"
          ],
          [
           4.4,
           "1"
          ],
          [
           4.89,
           "1"
          ],
          [
           6.57,
           "1"
          ],
          [
           2.15,
           "1"
          ],
          [
           2.38,
           "1"
          ],
          [
           4.77,
           "1"
          ],
          [
           1.97,
           "1"
          ],
          [
           3.4,
           "1"
          ],
          [
           5.27,
           "1"
          ],
          [
           3.35,
           "1"
          ],
          [
           7.56,
           "1"
          ],
          [
           0.13,
           "1"
          ],
          [
           7.52,
           "1"
          ],
          [
           3.57,
           "1"
          ],
          [
           6.02,
           "1"
          ],
          [
           1.12,
           "1"
          ],
          [
           0.19,
           "1"
          ],
          [
           1.85,
           "1"
          ],
          [
           4.25,
           "1"
          ],
          [
           2.38,
           "1"
          ],
          [
           1.89,
           "1"
          ],
          [
           4.59,
           "1"
          ],
          [
           6.25,
           "1"
          ],
          [
           5.22,
           "1"
          ],
          [
           1.86,
           "1"
          ],
          [
           7.37,
           "1"
          ],
          [
           3.07,
           "1"
          ],
          [
           2.89,
           "1"
          ],
          [
           3.58,
           "1"
          ],
          [
           6.75,
           "1"
          ],
          [
           7.97,
           "1"
          ],
          [
           1.33,
           "1"
          ],
          [
           0.63,
           "1"
          ],
          [
           5.07,
           "1"
          ],
          [
           4.13,
           "1"
          ],
          [
           2.52,
           "1"
          ],
          [
           3.71,
           "1"
          ],
          [
           1.87,
           "1"
          ],
          [
           4.3,
           "1"
          ],
          [
           2.26,
           "1"
          ],
          [
           3.42,
           "1"
          ],
          [
           5.65,
           "1"
          ],
          [
           5.72,
           "1"
          ],
          [
           0.89,
           "1"
          ],
          [
           1.57,
           "1"
          ],
          [
           2.74,
           "1"
          ],
          [
           0.79,
           "1"
          ],
          [
           1.69,
           "1"
          ],
          [
           6.21,
           "1"
          ],
          [
           1.07,
           "1"
          ],
          [
           3.95,
           "1"
          ],
          [
           7.59,
           "1"
          ],
          [
           0.98,
           "1"
          ],
          [
           4.95,
           "1"
          ],
          [
           0.8,
           "1"
          ],
          [
           2.45,
           "1"
          ],
          [
           1.36,
           "1"
          ],
          [
           6.5,
           "1"
          ],
          [
           6.75,
           "1"
          ],
          [
           3.61,
           "1"
          ],
          [
           0.81,
           "1"
          ],
          [
           4.06,
           "1"
          ],
          [
           4.42,
           "1"
          ],
          [
           0.09,
           "1"
          ],
          [
           3.26,
           "1"
          ],
          [
           0.85,
           "1"
          ],
          [
           7.12,
           "1"
          ],
          [
           3.69,
           "1"
          ],
          [
           3.41,
           "1"
          ],
          [
           3.1,
           "1"
          ],
          [
           1.53,
           "1"
          ],
          [
           2.4,
           "1"
          ],
          [
           3.08,
           "1"
          ],
          [
           7.91,
           "1"
          ],
          [
           0.07,
           "1"
          ],
          [
           5.48,
           "1"
          ],
          [
           0.67,
           "1"
          ],
          [
           3.91,
           "1"
          ],
          [
           4.95,
           "1"
          ],
          [
           0.4,
           "1"
          ],
          [
           4.69,
           "1"
          ],
          [
           1.49,
           "1"
          ],
          [
           2.91,
           "1"
          ],
          [
           0.88,
           "1"
          ],
          [
           6.8,
           "1"
          ],
          [
           7.51,
           "1"
          ],
          [
           5.92,
           "1"
          ],
          [
           5.83,
           "1"
          ],
          [
           5.17,
           "1"
          ],
          [
           6.13,
           "1"
          ],
          [
           4.36,
           "1"
          ],
          [
           5.25,
           "1"
          ],
          [
           7.24,
           "1"
          ],
          [
           4.54,
           "1"
          ],
          [
           1.44,
           "1"
          ],
          [
           0,
           "1"
          ],
          [
           7.33,
           "1"
          ],
          [
           5.99,
           "1"
          ],
          [
           4.62,
           "1"
          ],
          [
           3.62,
           "1"
          ],
          [
           5.23,
           "1"
          ],
          [
           4.57,
           "1"
          ],
          [
           6.69,
           "1"
          ],
          [
           6.52,
           "1"
          ],
          [
           0.83,
           "1"
          ],
          [
           6.93,
           "1"
          ],
          [
           5.34,
           "1"
          ],
          [
           2.84,
           "1"
          ],
          [
           6.11,
           "1"
          ],
          [
           3.45,
           "1"
          ],
          [
           3.71,
           "1"
          ],
          [
           2.1,
           "1"
          ],
          [
           1.83,
           "1"
          ],
          [
           6.81,
           "1"
          ],
          [
           7.02,
           "1"
          ],
          [
           7.96,
           "1"
          ],
          [
           7.07,
           "1"
          ],
          [
           6.55,
           "1"
          ],
          [
           6.76,
           "1"
          ],
          [
           3.5,
           "1"
          ],
          [
           6.99,
           "1"
          ],
          [
           1.37,
           "1"
          ],
          [
           3.47,
           "1"
          ],
          [
           7.17,
           "1"
          ],
          [
           6.68,
           "1"
          ],
          [
           1.48,
           "1"
          ],
          [
           1.09,
           "1"
          ],
          [
           1.87,
           "1"
          ],
          [
           4.6,
           "1"
          ],
          [
           5.67,
           "1"
          ],
          [
           3.74,
           "1"
          ],
          [
           5.06,
           "1"
          ],
          [
           0.75,
           "1"
          ],
          [
           0.76,
           "1"
          ],
          [
           1.77,
           "1"
          ],
          [
           3.61,
           "1"
          ],
          [
           1.63,
           "1"
          ],
          [
           5.61,
           "1"
          ],
          [
           3.33,
           "1"
          ],
          [
           6.56,
           "1"
          ],
          [
           3.04,
           "1"
          ],
          [
           1.26,
           "1"
          ],
          [
           5.95,
           "1"
          ],
          [
           4.38,
           "1"
          ],
          [
           7.43,
           "1"
          ],
          [
           0.71,
           "1"
          ],
          [
           6.03,
           "1"
          ],
          [
           3,
           "1"
          ],
          [
           3.25,
           "1"
          ],
          [
           4.79,
           "1"
          ],
          [
           5.23,
           "1"
          ],
          [
           3.49,
           "1"
          ],
          [
           3.48,
           "1"
          ],
          [
           6.66,
           "1"
          ],
          [
           6.84,
           "1"
          ],
          [
           7.58,
           "1"
          ],
          [
           3.95,
           "1"
          ],
          [
           2.2,
           "1"
          ],
          [
           2.11,
           "1"
          ],
          [
           4.78,
           "1"
          ],
          [
           2.37,
           "1"
          ],
          [
           0.19,
           "1"
          ],
          [
           4.22,
           "1"
          ],
          [
           1.91,
           "1"
          ],
          [
           5.4,
           "1"
          ],
          [
           2.21,
           "1"
          ],
          [
           1.42,
           "1"
          ],
          [
           4.84,
           "1"
          ],
          [
           3.7,
           "1"
          ],
          [
           6.89,
           "1"
          ],
          [
           7.18,
           "1"
          ],
          [
           4.02,
           "1"
          ],
          [
           6.12,
           "1"
          ],
          [
           7.12,
           "1"
          ],
          [
           0.1,
           "1"
          ],
          [
           1.27,
           "1"
          ],
          [
           0.83,
           "1"
          ],
          [
           7.65,
           "1"
          ],
          [
           3.67,
           "1"
          ],
          [
           2.13,
           "1"
          ],
          [
           2.5,
           "1"
          ],
          [
           5.98,
           "1"
          ],
          [
           4.76,
           "1"
          ],
          [
           6.98,
           "1"
          ],
          [
           3.23,
           "1"
          ],
          [
           1.87,
           "1"
          ],
          [
           7.18,
           "1"
          ],
          [
           4.93,
           "1"
          ],
          [
           3.03,
           "1"
          ],
          [
           5.6,
           "1"
          ],
          [
           1.8,
           "1"
          ],
          [
           3.05,
           "1"
          ],
          [
           1.7,
           "1"
          ],
          [
           7.51,
           "1"
          ],
          [
           0.73,
           "1"
          ],
          [
           7.44,
           "1"
          ],
          [
           6.37,
           "1"
          ],
          [
           4.52,
           "1"
          ],
          [
           4.99,
           "1"
          ],
          [
           4.41,
           "1"
          ],
          [
           5.66,
           "1"
          ],
          [
           6.17,
           "1"
          ],
          [
           1.54,
           "1"
          ],
          [
           4.34,
           "1"
          ],
          [
           3.31,
           "1"
          ],
          [
           2.2,
           "1"
          ],
          [
           7.38,
           "1"
          ],
          [
           4.86,
           "1"
          ],
          [
           4.78,
           "1"
          ],
          [
           4.16,
           "1"
          ],
          [
           1.1,
           "1"
          ],
          [
           2.05,
           "1"
          ],
          [
           1.68,
           "1"
          ],
          [
           1.75,
           "1"
          ],
          [
           5.23,
           "1"
          ],
          [
           7.93,
           "1"
          ],
          [
           3.09,
           "1"
          ],
          [
           7.24,
           "1"
          ],
          [
           1.41,
           "1"
          ],
          [
           3.01,
           "1"
          ],
          [
           6.9,
           "1"
          ],
          [
           3.15,
           "1"
          ],
          [
           6.06,
           "1"
          ],
          [
           5.3,
           "1"
          ],
          [
           4.33,
           "1"
          ],
          [
           3.23,
           "1"
          ],
          [
           0.26,
           "1"
          ],
          [
           7.25,
           "1"
          ],
          [
           4.62,
           "1"
          ],
          [
           5.98,
           "1"
          ],
          [
           3.67,
           "1"
          ],
          [
           4.49,
           "1"
          ],
          [
           1.19,
           "1"
          ],
          [
           3.66,
           "1"
          ],
          [
           7.17,
           "1"
          ],
          [
           2.2,
           "1"
          ],
          [
           6.12,
           "1"
          ],
          [
           4.91,
           "1"
          ],
          [
           5.38,
           "1"
          ],
          [
           7.83,
           "1"
          ],
          [
           6.44,
           "1"
          ],
          [
           5.61,
           "1"
          ],
          [
           2.59,
           "1"
          ],
          [
           2.99,
           "1"
          ],
          [
           1.64,
           "1"
          ],
          [
           5.42,
           "1"
          ],
          [
           4.86,
           "1"
          ],
          [
           0.63,
           "1"
          ],
          [
           5.17,
           "1"
          ],
          [
           0.45,
           "1"
          ],
          [
           4.08,
           "1"
          ],
          [
           4.81,
           "1"
          ],
          [
           0.17,
           "1"
          ],
          [
           6.1,
           "1"
          ],
          [
           1.77,
           "1"
          ],
          [
           6.42,
           "1"
          ],
          [
           0.88,
           "1"
          ],
          [
           4.27,
           "1"
          ],
          [
           6.95,
           "1"
          ],
          [
           3.99,
           "1"
          ],
          [
           7.96,
           "1"
          ],
          [
           2.38,
           "1"
          ],
          [
           2.83,
           "1"
          ],
          [
           2.46,
           "1"
          ],
          [
           7.78,
           "1"
          ],
          [
           2.16,
           "1"
          ],
          [
           2.83,
           "1"
          ],
          [
           3.54,
           "1"
          ],
          [
           4.57,
           "1"
          ],
          [
           3.15,
           "1"
          ],
          [
           4.71,
           "1"
          ],
          [
           6.48,
           "1"
          ],
          [
           2.73,
           "1"
          ],
          [
           0.06,
           "1"
          ],
          [
           4.36,
           "1"
          ],
          [
           7.79,
           "1"
          ],
          [
           1.43,
           "1"
          ],
          [
           1.73,
           "1"
          ],
          [
           6.89,
           "1"
          ],
          [
           0.81,
           "1"
          ],
          [
           6.93,
           "1"
          ],
          [
           5.85,
           "1"
          ],
          [
           5.14,
           "1"
          ],
          [
           6.71,
           "1"
          ],
          [
           1.78,
           "1"
          ],
          [
           5.24,
           "1"
          ],
          [
           5.89,
           "1"
          ],
          [
           1.23,
           "1"
          ],
          [
           5.47,
           "1"
          ],
          [
           3.29,
           "1"
          ],
          [
           4.07,
           "1"
          ],
          [
           7.59,
           "1"
          ],
          [
           4.18,
           "1"
          ],
          [
           0.81,
           "1"
          ],
          [
           0.71,
           "1"
          ],
          [
           5.57,
           "1"
          ],
          [
           7.3,
           "1"
          ],
          [
           4.16,
           "1"
          ],
          [
           4.11,
           "1"
          ],
          [
           3.42,
           "1"
          ],
          [
           3.51,
           "1"
          ],
          [
           7.21,
           "1"
          ],
          [
           6.26,
           "1"
          ],
          [
           4.51,
           "1"
          ],
          [
           1.74,
           "1"
          ],
          [
           4.75,
           "1"
          ],
          [
           6.81,
           "1"
          ],
          [
           0.12,
           "1"
          ],
          [
           2.4,
           "1"
          ],
          [
           4.52,
           "1"
          ],
          [
           6.99,
           "1"
          ],
          [
           7.17,
           "1"
          ],
          [
           1.22,
           "1"
          ],
          [
           6.13,
           "1"
          ],
          [
           4.1,
           "1"
          ],
          [
           1.04,
           "1"
          ],
          [
           2.29,
           "1"
          ],
          [
           5.67,
           "1"
          ],
          [
           3.31,
           "1"
          ],
          [
           4.74,
           "1"
          ],
          [
           0.21,
           "1"
          ],
          [
           0.6,
           "1"
          ],
          [
           2.16,
           "1"
          ],
          [
           0.4,
           "1"
          ],
          [
           1.67,
           "1"
          ],
          [
           0.2,
           "1"
          ],
          [
           5.35,
           "1"
          ],
          [
           1.09,
           "1"
          ],
          [
           3.41,
           "1"
          ],
          [
           3.04,
           "1"
          ],
          [
           2.14,
           "1"
          ],
          [
           6.16,
           "1"
          ],
          [
           6,
           "1"
          ],
          [
           1.84,
           "1"
          ],
          [
           0.23,
           "1"
          ],
          [
           4.02,
           "1"
          ],
          [
           3.96,
           "1"
          ],
          [
           5.68,
           "1"
          ],
          [
           5.12,
           "1"
          ],
          [
           0.78,
           "1"
          ],
          [
           1.36,
           "1"
          ],
          [
           4.7,
           "1"
          ],
          [
           4.56,
           "1"
          ],
          [
           3.75,
           "1"
          ],
          [
           5.1,
           "1"
          ],
          [
           1.84,
           "1"
          ],
          [
           7.43,
           "1"
          ],
          [
           7.81,
           "1"
          ],
          [
           1.8,
           "1"
          ],
          [
           1.58,
           "1"
          ],
          [
           3.05,
           "1"
          ],
          [
           2.5,
           "1"
          ],
          [
           7.24,
           "1"
          ],
          [
           6.85,
           "1"
          ],
          [
           1.81,
           "1"
          ],
          [
           4.26,
           "1"
          ],
          [
           4.85,
           "1"
          ],
          [
           6.53,
           "1"
          ],
          [
           0,
           "1"
          ],
          [
           2.71,
           "1"
          ],
          [
           2.98,
           "1"
          ],
          [
           2.83,
           "1"
          ],
          [
           6.13,
           "1"
          ],
          [
           2.34,
           "1"
          ],
          [
           3.41,
           "1"
          ],
          [
           5,
           "1"
          ],
          [
           0.08,
           "1"
          ],
          [
           5.21,
           "1"
          ],
          [
           1.51,
           "1"
          ],
          [
           3.96,
           "1"
          ],
          [
           2.52,
           "1"
          ],
          [
           3.78,
           "1"
          ],
          [
           0.32,
           "1"
          ],
          [
           1.57,
           "1"
          ],
          [
           3.17,
           "1"
          ],
          [
           3.21,
           "1"
          ],
          [
           4.58,
           "1"
          ],
          [
           2.41,
           "1"
          ],
          [
           5.73,
           "1"
          ],
          [
           6.21,
           "1"
          ],
          [
           6.07,
           "1"
          ],
          [
           0.64,
           "1"
          ],
          [
           1.53,
           "1"
          ],
          [
           0.48,
           "1"
          ],
          [
           5.88,
           "1"
          ],
          [
           4.55,
           "1"
          ],
          [
           2.94,
           "1"
          ],
          [
           6.12,
           "1"
          ],
          [
           2.01,
           "1"
          ],
          [
           2.55,
           "1"
          ],
          [
           3.33,
           "1"
          ],
          [
           3.29,
           "1"
          ],
          [
           7.85,
           "1"
          ],
          [
           6.2,
           "1"
          ],
          [
           7.99,
           "1"
          ],
          [
           2.12,
           "1"
          ],
          [
           6.86,
           "1"
          ],
          [
           4.77,
           "1"
          ],
          [
           0.1,
           "1"
          ],
          [
           5.42,
           "1"
          ],
          [
           4.54,
           "1"
          ],
          [
           4.43,
           "1"
          ],
          [
           7.12,
           "1"
          ],
          [
           0.73,
           "1"
          ],
          [
           2.8,
           "1"
          ],
          [
           2.51,
           "1"
          ],
          [
           3.1,
           "1"
          ],
          [
           6.5,
           "1"
          ],
          [
           5.33,
           "1"
          ],
          [
           7.78,
           "1"
          ],
          [
           6.68,
           "1"
          ],
          [
           5.21,
           "1"
          ],
          [
           5.17,
           "1"
          ],
          [
           2.37,
           "1"
          ],
          [
           3.01,
           "1"
          ],
          [
           3.16,
           "1"
          ],
          [
           4.54,
           "1"
          ],
          [
           4.24,
           "1"
          ],
          [
           4.63,
           "1"
          ],
          [
           7.86,
           "1"
          ],
          [
           0.96,
           "1"
          ],
          [
           6.78,
           "1"
          ],
          [
           0.34,
           "1"
          ],
          [
           6.07,
           "1"
          ],
          [
           2.19,
           "1"
          ],
          [
           2.35,
           "1"
          ],
          [
           5.23,
           "1"
          ],
          [
           4.24,
           "1"
          ],
          [
           6.23,
           "1"
          ],
          [
           4.39,
           "1"
          ],
          [
           5.65,
           "1"
          ],
          [
           6.26,
           "1"
          ],
          [
           7.54,
           "1"
          ],
          [
           3.33,
           "1"
          ],
          [
           6.32,
           "1"
          ],
          [
           6.83,
           "1"
          ],
          [
           5.67,
           "1"
          ],
          [
           2.03,
           "1"
          ],
          [
           1.82,
           "1"
          ],
          [
           6.25,
           "1"
          ],
          [
           2.92,
           "1"
          ],
          [
           7.52,
           "1"
          ],
          [
           1.39,
           "1"
          ],
          [
           6.92,
           "1"
          ],
          [
           0.5,
           "1"
          ],
          [
           6.36,
           "1"
          ],
          [
           3.53,
           "1"
          ],
          [
           6.5,
           "1"
          ],
          [
           2.77,
           "1"
          ],
          [
           1.9,
           "1"
          ],
          [
           1.49,
           "1"
          ],
          [
           0.7,
           "1"
          ],
          [
           6.81,
           "1"
          ],
          [
           3.82,
           "1"
          ],
          [
           3.08,
           "1"
          ],
          [
           5.71,
           "1"
          ],
          [
           0.17,
           "1"
          ],
          [
           4.93,
           "1"
          ],
          [
           6.28,
           "1"
          ],
          [
           3.98,
           "1"
          ],
          [
           1.39,
           "1"
          ],
          [
           2.32,
           "1"
          ],
          [
           7.15,
           "1"
          ],
          [
           6.79,
           "1"
          ],
          [
           0.51,
           "1"
          ],
          [
           1.55,
           "1"
          ],
          [
           6.56,
           "1"
          ],
          [
           5.68,
           "1"
          ],
          [
           3.02,
           "1"
          ],
          [
           3.21,
           "1"
          ],
          [
           6.58,
           "1"
          ],
          [
           6.14,
           "1"
          ],
          [
           4.05,
           "1"
          ],
          [
           1.65,
           "1"
          ],
          [
           6.69,
           "1"
          ],
          [
           7.74,
           "1"
          ],
          [
           4.59,
           "1"
          ],
          [
           1.45,
           "1"
          ],
          [
           7.17,
           "1"
          ],
          [
           1.41,
           "1"
          ],
          [
           6.1,
           "1"
          ],
          [
           5.79,
           "1"
          ],
          [
           6.76,
           "1"
          ],
          [
           3.07,
           "1"
          ],
          [
           3.76,
           "1"
          ],
          [
           6.97,
           "1"
          ],
          [
           0.14,
           "1"
          ],
          [
           5.1,
           "1"
          ],
          [
           0.4,
           "1"
          ],
          [
           1.11,
           "1"
          ],
          [
           3.33,
           "1"
          ],
          [
           6.09,
           "1"
          ],
          [
           2.56,
           "1"
          ],
          [
           5.6,
           "1"
          ],
          [
           4.14,
           "1"
          ],
          [
           4.47,
           "1"
          ],
          [
           1.1,
           "1"
          ],
          [
           2.56,
           "1"
          ],
          [
           4.05,
           "1"
          ],
          [
           6.43,
           "1"
          ],
          [
           6.3,
           "1"
          ],
          [
           7.34,
           "1"
          ],
          [
           1.07,
           "1"
          ],
          [
           3.09,
           "1"
          ],
          [
           5.98,
           "1"
          ],
          [
           0.57,
           "1"
          ],
          [
           7.49,
           "1"
          ],
          [
           7.37,
           "1"
          ],
          [
           1.03,
           "1"
          ],
          [
           7.72,
           "1"
          ],
          [
           2.25,
           "1"
          ],
          [
           5.64,
           "1"
          ],
          [
           0.83,
           "1"
          ],
          [
           0.11,
           "1"
          ],
          [
           3.84,
           "1"
          ],
          [
           5.66,
           "1"
          ],
          [
           1.82,
           "1"
          ],
          [
           5.54,
           "1"
          ],
          [
           2.92,
           "1"
          ],
          [
           1.02,
           "1"
          ],
          [
           0.65,
           "1"
          ],
          [
           1.77,
           "1"
          ],
          [
           2.14,
           "1"
          ],
          [
           1.45,
           "1"
          ],
          [
           1.51,
           "1"
          ],
          [
           2.54,
           "1"
          ],
          [
           1.58,
           "1"
          ],
          [
           1.36,
           "1"
          ],
          [
           1.35,
           "1"
          ],
          [
           5.83,
           "1"
          ],
          [
           7.85,
           "1"
          ],
          [
           4.96,
           "1"
          ],
          [
           7.18,
           "1"
          ],
          [
           5.87,
           "1"
          ],
          [
           1.99,
           "1"
          ],
          [
           0.51,
           "1"
          ],
          [
           4.47,
           "1"
          ],
          [
           7.93,
           "1"
          ],
          [
           3.83,
           "1"
          ],
          [
           1.96,
           "1"
          ],
          [
           6.26,
           "1"
          ],
          [
           1.18,
           "1"
          ],
          [
           4.79,
           "1"
          ],
          [
           3.7,
           "1"
          ],
          [
           6.25,
           "1"
          ],
          [
           4.37,
           "1"
          ],
          [
           2.81,
           "1"
          ],
          [
           7.66,
           "1"
          ],
          [
           0.26,
           "1"
          ],
          [
           1.9,
           "1"
          ],
          [
           3.49,
           "1"
          ],
          [
           3.35,
           "1"
          ],
          [
           4.98,
           "1"
          ],
          [
           0.41,
           "1"
          ],
          [
           0.38,
           "1"
          ],
          [
           4.49,
           "1"
          ],
          [
           3.37,
           "1"
          ],
          [
           7.67,
           "1"
          ],
          [
           4.97,
           "1"
          ],
          [
           6.39,
           "1"
          ],
          [
           1.79,
           "1"
          ],
          [
           5.42,
           "1"
          ],
          [
           5.18,
           "1"
          ],
          [
           2.47,
           "1"
          ],
          [
           6.12,
           "1"
          ],
          [
           4.08,
           "1"
          ],
          [
           4.13,
           "1"
          ],
          [
           1.89,
           "1"
          ],
          [
           0.65,
           "1"
          ],
          [
           6.6,
           "1"
          ],
          [
           1.87,
           "1"
          ],
          [
           1.78,
           "1"
          ],
          [
           1.99,
           "1"
          ],
          [
           7.42,
           "1"
          ],
          [
           4.27,
           "1"
          ],
          [
           2.96,
           "1"
          ],
          [
           1.87,
           "1"
          ],
          [
           4.4,
           "1"
          ],
          [
           6.9,
           "1"
          ],
          [
           4.01,
           "1"
          ],
          [
           7.78,
           "1"
          ],
          [
           7.93,
           "1"
          ],
          [
           3.53,
           "1"
          ],
          [
           3.16,
           "1"
          ],
          [
           5.06,
           "1"
          ],
          [
           1.19,
           "1"
          ],
          [
           4.06,
           "1"
          ],
          [
           4.18,
           "1"
          ],
          [
           0.63,
           "1"
          ],
          [
           0.46,
           "1"
          ],
          [
           2.35,
           "1"
          ],
          [
           5.09,
           "1"
          ],
          [
           3.9,
           "1"
          ],
          [
           7.43,
           "1"
          ],
          [
           3.7,
           "1"
          ],
          [
           3.53,
           "1"
          ],
          [
           5.43,
           "1"
          ],
          [
           6.15,
           "1"
          ],
          [
           1.01,
           "1"
          ],
          [
           3.02,
           "1"
          ],
          [
           4.43,
           "1"
          ],
          [
           5.61,
           "1"
          ],
          [
           2.69,
           "1"
          ],
          [
           5.37,
           "1"
          ],
          [
           7.87,
           "1"
          ],
          [
           6.54,
           "1"
          ],
          [
           3.63,
           "1"
          ],
          [
           5.22,
           "1"
          ],
          [
           2.46,
           "1"
          ],
          [
           2.91,
           "1"
          ],
          [
           3.17,
           "1"
          ],
          [
           5.79,
           "1"
          ],
          [
           7.89,
           "1"
          ],
          [
           6.24,
           "1"
          ],
          [
           4.64,
           "1"
          ],
          [
           2.58,
           "1"
          ],
          [
           0.94,
           "1"
          ],
          [
           6.39,
           "1"
          ],
          [
           0.85,
           "1"
          ],
          [
           6.51,
           "1"
          ],
          [
           3.28,
           "1"
          ],
          [
           4.15,
           "1"
          ],
          [
           7.89,
           "1"
          ],
          [
           3.75,
           "1"
          ],
          [
           1.43,
           "1"
          ],
          [
           1.45,
           "1"
          ],
          [
           5.08,
           "1"
          ],
          [
           4.83,
           "1"
          ],
          [
           0.45,
           "1"
          ],
          [
           3.17,
           "1"
          ],
          [
           8.13,
           "1"
          ],
          [
           5.79,
           "1"
          ],
          [
           2.03,
           "1"
          ],
          [
           1.3,
           "1"
          ],
          [
           2.32,
           "1"
          ],
          [
           2.77,
           "1"
          ],
          [
           5.64,
           "1"
          ],
          [
           6.13,
           "1"
          ],
          [
           7.18,
           "1"
          ],
          [
           3.7,
           "1"
          ],
          [
           2.06,
           "1"
          ],
          [
           1.16,
           "1"
          ],
          [
           4.09,
           "1"
          ],
          [
           4.65,
           "1"
          ],
          [
           1.6,
           "1"
          ],
          [
           4.7,
           "1"
          ],
          [
           4.09,
           "1"
          ],
          [
           5.93,
           "1"
          ],
          [
           8.33,
           "1"
          ],
          [
           2.11,
           "1"
          ],
          [
           8.66,
           "1"
          ],
          [
           7.02,
           "1"
          ],
          [
           2.03,
           "1"
          ],
          [
           0.4,
           "1"
          ],
          [
           3.21,
           "1"
          ],
          [
           4.17,
           "1"
          ],
          [
           5.36,
           "1"
          ],
          [
           4.54,
           "1"
          ],
          [
           2.67,
           "1"
          ],
          [
           2.99,
           "1"
          ],
          [
           5.71,
           "1"
          ],
          [
           7.52,
           "1"
          ],
          [
           1.12,
           "1"
          ],
          [
           4.43,
           "1"
          ],
          [
           2.52,
           "1"
          ],
          [
           0.79,
           "1"
          ],
          [
           6.21,
           "1"
          ],
          [
           7.91,
           "1"
          ],
          [
           0.54,
           "1"
          ],
          [
           6.29,
           "1"
          ],
          [
           5.25,
           "1"
          ],
          [
           2.84,
           "1"
          ],
          [
           3.45,
           "1"
          ],
          [
           7.43,
           "1"
          ],
          [
           3.67,
           "1"
          ],
          [
           0.71,
           "1"
          ],
          [
           1.27,
           "1"
          ],
          [
           4.99,
           "1"
          ],
          [
           4.78,
           "1"
          ],
          [
           0.17,
           "1"
          ],
          [
           2.83,
           "1"
          ],
          [
           7.57,
           "1"
          ],
          [
           5.47,
           "1"
          ],
          [
           1.22,
           "1"
          ],
          [
           2.16,
           "1"
          ],
          [
           2.71,
           "1"
          ],
          [
           5.59,
           "1"
          ],
          [
           5.88,
           "1"
          ],
          [
           6.2,
           "1"
          ],
          [
           3.65,
           "1"
          ],
          [
           2.03,
           "1"
          ],
          [
           0.96,
           "1"
          ],
          [
           4.05,
           "1"
          ],
          [
           4.62,
           "1"
          ],
          [
           1.11,
           "1"
          ],
          [
           4.47,
           "1"
          ],
          [
           4.05,
           "1"
          ],
          [
           5.66,
           "1"
          ],
          [
           7.85,
           "1"
          ],
          [
           1.99,
           "1"
          ],
          [
           7.93,
           "1"
          ],
          [
           6.6,
           "1"
          ],
          [
           0.21,
           "1"
          ],
          [
           3.16,
           "1"
          ],
          [
           4,
           "1"
          ],
          [
           5.09,
           "1"
          ],
          [
           4.43,
           "1"
          ],
          [
           2.77,
           "1"
          ],
          [
           3.8,
           "1"
          ],
          [
           5.73,
           "1"
          ],
          [
           7.54,
           "1"
          ],
          [
           6.25,
           "1"
          ],
          [
           4.55,
           "1"
          ],
          [
           2.72,
           "1"
          ],
          [
           0.94,
           "1"
          ],
          [
           6.22,
           "1"
          ],
          [
           0.84,
           "1"
          ],
          [
           6.78,
           "1"
          ],
          [
           3.34,
           "1"
          ],
          [
           3.52,
           "1"
          ],
          [
           7.45,
           "1"
          ],
          [
           3.7,
           "1"
          ],
          [
           0.88,
           "1"
          ],
          [
           1.37,
           "1"
          ],
          [
           5.07,
           "1"
          ],
          [
           4.81,
           "1"
          ],
          [
           0.52,
           "1"
          ],
          [
           2.92,
           "1"
          ],
          [
           7.59,
           "1"
          ],
          [
           5.57,
           "1"
          ],
          [
           1.21,
           "1"
          ],
          [
           1.3,
           "1"
          ],
          [
           2.23,
           "1"
          ],
          [
           2.91,
           "1"
          ],
          [
           5.72,
           "1"
          ],
          [
           6.86,
           "1"
          ],
          [
           6.26,
           "1"
          ],
          [
           4.01,
           "1"
          ],
          [
           2.04,
           "1"
          ],
          [
           1.18,
           "1"
          ],
          [
           4.85,
           "1"
          ],
          [
           4.7,
           "1"
          ],
          [
           1.29,
           "1"
          ],
          [
           4.62,
           "1"
          ],
          [
           4.25,
           "1"
          ],
          [
           6.2,
           "1"
          ],
          [
           8.05,
           "1"
          ],
          [
           2.16,
           "1"
          ],
          [
           8.13,
           "1"
          ],
          [
           6.7,
           "1"
          ],
          [
           2.89,
           "1"
          ],
          [
           0.32,
           "1"
          ],
          [
           3.19,
           "1"
          ],
          [
           4.21,
           "1"
          ],
          [
           5.14,
           "1"
          ],
          [
           4.94,
           "1"
          ],
          [
           0.02,
           "1"
          ],
          [
           0.21,
           "1"
          ],
          [
           0.49,
           "1"
          ],
          [
           0.38,
           "1"
          ],
          [
           0.09,
           "1"
          ],
          [
           0.3,
           "1"
          ],
          [
           0.2,
           "1"
          ],
          [
           0.23,
           "1"
          ],
          [
           0.2,
           "1"
          ],
          [
           0.02,
           "1"
          ],
          [
           0.07,
           "1"
          ],
          [
           0.02,
           "1"
          ],
          [
           0.06,
           "1"
          ],
          [
           0.7,
           "1"
          ],
          [
           0.3,
           "1"
          ],
          [
           0.01,
           "1"
          ],
          [
           0.2,
           "1"
          ],
          [
           0.03,
           "1"
          ],
          [
           0.52,
           "1"
          ],
          [
           0.23,
           "1"
          ],
          [
           0.17,
           "1"
          ],
          [
           0.25,
           "1"
          ],
          [
           0.32,
           "1"
          ],
          [
           0.55,
           "1"
          ],
          [
           0.08,
           "1"
          ],
          [
           0.05,
           "1"
          ],
          [
           0.01,
           "1"
          ],
          [
           0.2,
           "1"
          ],
          [
           0.04,
           "1"
          ],
          [
           0.08,
           "1"
          ],
          [
           0.12,
           "1"
          ],
          [
           0.56,
           "1"
          ],
          [
           0.46,
           "1"
          ],
          [
           0.32,
           "1"
          ],
          [
           0.04,
           "1"
          ],
          [
           0.35,
           "1"
          ],
          [
           0.02,
           "1"
          ],
          [
           0.47,
           "1"
          ],
          [
           0.01,
           "1"
          ],
          [
           0.27,
           "1"
          ],
          [
           0.23,
           "1"
          ],
          [
           0.05,
           "1"
          ],
          [
           0.08,
           "1"
          ],
          [
           0.06,
           "1"
          ],
          [
           0.49,
           "1"
          ],
          [
           0.08,
           "1"
          ],
          [
           0.06,
           "1"
          ],
          [
           0.42,
           "1"
          ],
          [
           0.15,
           "1"
          ],
          [
           0.04,
           "1"
          ],
          [
           0.67,
           "1"
          ],
          [
           0,
           "1"
          ],
          [
           0.01,
           "1"
          ],
          [
           0.09,
           "1"
          ],
          [
           0.44,
           "1"
          ],
          [
           0.04,
           "1"
          ],
          [
           0.17,
           "1"
          ],
          [
           0.01,
           "1"
          ],
          [
           0.02,
           "1"
          ],
          [
           0.32,
           "1"
          ],
          [
           0.04,
           "1"
          ],
          [
           0.04,
           "1"
          ],
          [
           0.07,
           "1"
          ],
          [
           0.1,
           "1"
          ],
          [
           0.07,
           "1"
          ],
          [
           0.06,
           "1"
          ],
          [
           0.16,
           "1"
          ],
          [
           0.11,
           "1"
          ],
          [
           0.01,
           "1"
          ],
          [
           0.09,
           "1"
          ],
          [
           0.12,
           "1"
          ],
          [
           0.5,
           "1"
          ],
          [
           0.27,
           "1"
          ],
          [
           0.59,
           "1"
          ],
          [
           0.09,
           "1"
          ],
          [
           0.12,
           "1"
          ],
          [
           0.26,
           "1"
          ],
          [
           0.1,
           "1"
          ],
          [
           0.01,
           "1"
          ],
          [
           0.72,
           "1"
          ],
          [
           0.34,
           "1"
          ],
          [
           0.49,
           "1"
          ],
          [
           0.16,
           "1"
          ],
          [
           0.06,
           "1"
          ],
          [
           0.54,
           "1"
          ],
          [
           0.2,
           "1"
          ],
          [
           0.13,
           "1"
          ],
          [
           0.1,
           "1"
          ],
          [
           0.08,
           "1"
          ],
          [
           0.22,
           "1"
          ],
          [
           0.05,
           "1"
          ],
          [
           0.45,
           "1"
          ],
          [
           0.07,
           "1"
          ],
          [
           0,
           "1"
          ],
          [
           0.18,
           "1"
          ],
          [
           0.02,
           "1"
          ],
          [
           0.01,
           "1"
          ],
          [
           0.28,
           "1"
          ],
          [
           0.32,
           "1"
          ],
          [
           0.06,
           "1"
          ],
          [
           0.09,
           "1"
          ],
          [
           0.48,
           "1"
          ],
          [
           0.03,
           "1"
          ],
          [
           0.08,
           "1"
          ],
          [
           0.04,
           "1"
          ],
          [
           0.01,
           "1"
          ],
          [
           0.22,
           "1"
          ],
          [
           0.08,
           "1"
          ],
          [
           0.57,
           "1"
          ],
          [
           0.1,
           "1"
          ],
          [
           0.45,
           "1"
          ],
          [
           0.05,
           "1"
          ],
          [
           2,
           "1"
          ],
          [
           0.05,
           "1"
          ]
         ],
         "hovertemplate": "is_safe=%{customdata[1]}<br>aluminium=%{x}<br>cadmium=%{y}<br>perchlorate=%{z}<br>chloramine=%{customdata[0]}<extra></extra>",
         "legendgroup": "1",
         "marker": {
          "color": "#EF553B",
          "size": 2,
          "symbol": "circle"
         },
         "mode": "markers",
         "name": "1",
         "scene": "scene",
         "showlegend": true,
         "type": "scatter3d",
         "x": [
          1.65,
          2.32,
          1.36,
          0.92,
          0.94,
          0.6,
          0.22,
          1.35,
          1.88,
          4.93,
          2.89,
          0.61,
          3.47,
          2.11,
          4.12,
          0.68,
          1.15,
          0.27,
          3.31,
          1.82,
          4.41,
          1.69,
          1.87,
          2.71,
          4.49,
          3.52,
          4.35,
          3.37,
          1.51,
          2.68,
          0.3,
          0.23,
          2.55,
          4.32,
          0.24,
          0.42,
          0.77,
          0.6,
          0.58,
          3.82,
          2.78,
          3.62,
          4.64,
          2.25,
          0.54,
          4.62,
          2.5,
          3.08,
          2.73,
          3.02,
          2.35,
          2.45,
          3.3,
          1.19,
          0.85,
          0.5,
          1.89,
          3.75,
          1.75,
          0.94,
          2.76,
          0.43,
          2.63,
          0.88,
          3.03,
          4.91,
          1.15,
          4.8,
          1.62,
          2.68,
          0.09,
          4.66,
          2.74,
          3.52,
          1.82,
          2.91,
          3.53,
          3.04,
          2.21,
          1.92,
          2.12,
          4.21,
          2.56,
          3.94,
          1.22,
          0.8,
          3.31,
          2.59,
          3.9,
          0.18,
          0.07,
          2.71,
          4.34,
          0.92,
          2.39,
          0.9,
          0.89,
          4.91,
          3.37,
          3.69,
          4.71,
          4.5,
          2.69,
          4.3,
          2.17,
          5,
          2.6,
          0.35,
          3.83,
          2.9,
          1.56,
          4.34,
          2.23,
          3.81,
          1.12,
          4,
          1.55,
          2.56,
          2.99,
          1.36,
          3.83,
          0.47,
          0.01,
          3.62,
          2.82,
          1.05,
          1.21,
          3.35,
          1.75,
          1.86,
          0.54,
          0.29,
          3.29,
          0.22,
          2.35,
          4.04,
          3.6,
          3.71,
          0.61,
          3.05,
          0.84,
          1.98,
          4.18,
          3.27,
          0.59,
          0.36,
          1.4,
          1.46,
          0.93,
          0.78,
          4.48,
          0.71,
          0.87,
          2.69,
          1.21,
          4.36,
          0.57,
          2.14,
          0.15,
          2.01,
          1.72,
          4.38,
          3.73,
          2.97,
          2.32,
          3.95,
          2.22,
          3.84,
          3.97,
          3.73,
          2.71,
          3.24,
          3.85,
          2.91,
          3.44,
          2.2,
          1.14,
          0,
          1.14,
          0.09,
          2.9,
          4.07,
          1.44,
          3.89,
          2.09,
          4.79,
          0.19,
          4.77,
          3.81,
          0.76,
          3.36,
          4.27,
          1.9,
          1.44,
          4.26,
          3.19,
          1.24,
          3.36,
          3.29,
          2.94,
          0.49,
          2.82,
          4.19,
          2.26,
          3.05,
          0.78,
          3.67,
          2.94,
          0.93,
          3.59,
          3.46,
          2.79,
          1.77,
          0.39,
          1.07,
          0.62,
          4.64,
          1.09,
          2.5,
          3.96,
          3.49,
          3.46,
          2.89,
          0.27,
          0.9,
          0.83,
          0.72,
          3.12,
          3.98,
          4.39,
          1.09,
          4.44,
          0.78,
          2.06,
          0.95,
          2.24,
          4,
          0.39,
          2.33,
          2.54,
          1.93,
          3.91,
          3.09,
          4.53,
          4.71,
          1.81,
          4.62,
          4.18,
          1.12,
          0.14,
          3.01,
          3.51,
          1.4,
          1.77,
          1.99,
          0.84,
          2.14,
          3.93,
          4.73,
          3.69,
          3.01,
          1.15,
          4.66,
          4.73,
          2.33,
          1.34,
          3.62,
          1.82,
          1.79,
          0.18,
          3.01,
          2.04,
          2.8,
          3.34,
          1.92,
          0.93,
          2.46,
          1.36,
          1.77,
          2.92,
          1.38,
          1.55,
          2.78,
          0.63,
          0.24,
          3.79,
          3,
          4.79,
          2.64,
          1.36,
          0.65,
          0.24,
          2.65,
          4.84,
          4.29,
          4.3,
          4.13,
          2.01,
          2.02,
          3.81,
          4.35,
          4.39,
          0.99,
          3.38,
          1.66,
          0.33,
          1.65,
          3.25,
          3.72,
          4.04,
          0.35,
          4.15,
          1.54,
          1.71,
          0.15,
          4.76,
          0.7,
          0.87,
          2.99,
          4.96,
          2.79,
          3.13,
          4.7,
          0.36,
          3.57,
          0.01,
          2.06,
          4.05,
          4.98,
          4.55,
          2.77,
          1.52,
          4.95,
          0.19,
          1.45,
          2.69,
          2.45,
          0.5,
          3.52,
          2.24,
          0.95,
          1.65,
          2.08,
          1.49,
          1.08,
          4.11,
          3.36,
          2.1,
          4.85,
          0.71,
          4.77,
          2.2,
          0.11,
          2.22,
          2.08,
          2.88,
          2.21,
          2.1,
          1.08,
          4.08,
          4.5,
          2.05,
          1.55,
          0.41,
          0.97,
          4.25,
          1.19,
          0.96,
          4.65,
          2.78,
          3.97,
          0.46,
          3,
          1.87,
          3.59,
          4.03,
          1.06,
          1.22,
          4.03,
          2.67,
          2.24,
          2.63,
          4.38,
          3.59,
          2.01,
          3.15,
          3.25,
          4.06,
          4.49,
          1.88,
          1.39,
          1.92,
          3.38,
          1.03,
          0.92,
          4.93,
          1.48,
          3.69,
          3.85,
          3.61,
          3.18,
          3.74,
          4.82,
          4.98,
          2.38,
          0.92,
          3.01,
          3.62,
          0.71,
          0.25,
          0.53,
          3.79,
          2.47,
          1.82,
          4.35,
          3.99,
          0.21,
          1.93,
          0.55,
          1.08,
          0.41,
          0.54,
          0.92,
          2.97,
          0.32,
          2.91,
          1.37,
          4.72,
          0.31,
          1.37,
          2.33,
          4.74,
          4.61,
          1.2,
          1.28,
          3.48,
          1.79,
          3.62,
          1.19,
          3.48,
          1.35,
          2.63,
          3.14,
          3.54,
          0.43,
          0.56,
          1.81,
          4.1,
          3.47,
          4.27,
          0.76,
          0.69,
          3.85,
          0.36,
          4.59,
          0.93,
          0.26,
          2.04,
          1.54,
          1.4,
          1.08,
          0.81,
          0.94,
          0.43,
          0.32,
          0.58,
          0.16,
          0.45,
          0.45,
          3.2,
          1.27,
          4.39,
          1.86,
          2.41,
          1.51,
          3.13,
          2.85,
          0.23,
          2.25,
          2.54,
          2.45,
          3.13,
          4.39,
          1.55,
          2.56,
          0.42,
          2.13,
          4.75,
          3.93,
          0.86,
          2.06,
          4.78,
          3.43,
          4.81,
          0.48,
          2.67,
          3.21,
          3.83,
          1.14,
          0.17,
          2.27,
          1.32,
          2.89,
          4.2,
          2.29,
          0.43,
          2.99,
          1.75,
          1.25,
          1.01,
          1.95,
          4.35,
          3.2,
          0.85,
          0.05,
          2.93,
          3.99,
          1.4,
          0.31,
          4.36,
          2.46,
          3.6,
          3.88,
          1.41,
          1.01,
          2.91,
          0.42,
          0.29,
          1.7,
          4.36,
          3.18,
          0.19,
          2.73,
          3.65,
          2.91,
          2.24,
          1.86,
          0.53,
          4.98,
          1.16,
          1.06,
          1.27,
          4.13,
          3.82,
          3.52,
          4.19,
          3.47,
          0.5,
          0.03,
          0.31,
          0.49,
          4.76,
          3.42,
          3.79,
          0.06,
          1.72,
          0.6,
          4.55,
          2.25,
          0.67,
          4.27,
          2.16,
          3.47,
          2.66,
          4.87,
          3.88,
          0.34,
          0.02,
          0.93,
          3.67,
          2.74,
          2.36,
          2.72,
          3.54,
          0.52,
          2.46,
          0.18,
          2.5,
          2.36,
          2.48,
          0.68,
          3.72,
          4.76,
          2.54,
          0.91,
          0.42,
          4.32,
          0.44,
          3.5,
          0.75,
          3.26,
          2.76,
          0.75,
          4.55,
          1.12,
          0.99,
          3.71,
          3.56,
          1.5,
          0.56,
          1.05,
          4.96,
          0.22,
          3.28,
          3.92,
          4.19,
          2.75,
          2.82,
          1.34,
          3.45,
          2.58,
          2.64,
          2.72,
          4.69,
          3.51,
          3.73,
          2.17,
          0.36,
          3.68,
          3.62,
          0.15,
          2.1,
          1.34,
          1.74,
          3.68,
          3.87,
          1.32,
          2.54,
          0,
          0.16,
          3.57,
          4.39,
          2.59,
          0.47,
          4.7,
          1.13,
          0.28,
          4.4,
          0.8,
          3.59,
          1.69,
          4.51,
          4.91,
          3.94,
          0.05,
          2.72,
          4.57,
          1.14,
          2.47,
          2.26,
          4.33,
          0.97,
          0.34,
          1.56,
          0.9,
          3.37,
          4.2,
          3.09,
          3.95,
          0.12,
          4.47,
          2.16,
          0.83,
          0.76,
          0.24,
          3.41,
          2.75,
          1.14,
          1.98,
          3.06,
          4.34,
          3.77,
          1.56,
          2.82,
          0.24,
          2.13,
          1.02,
          3.79,
          3.4,
          1.42,
          3.53,
          2.02,
          2.71,
          0.99,
          0.1,
          2.03,
          0.24,
          0.58,
          1.11,
          4.6,
          2.77,
          0.23,
          2.53,
          2.69,
          3.56,
          4.95,
          3.92,
          0.98,
          0.52,
          4.96,
          0.09,
          0.01,
          0.06,
          0.07,
          0.17,
          0.27,
          0.06,
          0.1,
          0.08,
          0.09,
          0.08,
          0.03,
          0.07,
          0.24,
          0.02,
          0.34,
          0.03,
          0.12,
          0.16,
          0.24,
          0.05,
          0.17,
          0.01,
          0.05,
          0.03,
          0.1,
          0.29,
          0.01,
          0.05,
          0.1,
          0.07,
          0.28,
          0.01,
          0.05,
          0.18,
          0.08,
          0.03,
          0.07,
          0.09,
          0.29,
          0.1,
          0.09,
          0.04,
          0.13,
          0.16,
          0.09,
          0.02,
          0.05,
          0,
          0.04,
          0.02,
          0.09,
          0.09,
          0.06,
          0.05,
          0.13,
          0.27,
          0.09,
          0.14,
          0.03,
          0.22,
          0.07,
          0.13,
          0.12,
          0.18,
          0.12,
          0.39,
          0.01,
          0.11,
          0.05,
          0.03,
          0.04,
          0.33,
          0.03,
          0.03,
          0.05,
          0.12,
          0.26,
          0.02,
          0.02,
          0.03,
          0.07,
          0.16,
          0.05,
          0.19,
          0.05,
          0.08,
          0.06,
          0.09,
          0.2,
          0.06,
          0.19,
          0.02,
          0.22,
          0.01,
          0.06,
          0.39,
          0.02,
          0.06,
          0.06,
          0.05,
          0.1,
          0.07,
          0.07,
          0.06,
          0.05,
          0.07,
          0.02,
          0.07,
          0.03,
          0.02,
          0.05,
          0.06,
          0.06,
          0.01,
          0.09,
          0.05,
          0.03,
          0.1,
          0.03,
          0.08,
          0.02,
          0.04,
          0.09,
          0.04,
          0.05,
          0.08,
          0.04,
          0.03,
          0.09,
          0.04,
          0.01,
          0.07,
          0.08,
          0.06,
          0,
          0.04,
          0.07,
          0.09,
          0.01,
          0.06,
          0.02,
          0.02,
          0.04,
          0.06,
          0.03,
          0.03,
          0.03,
          0.06,
          0.05,
          0.06,
          0.04,
          0.06,
          0.03,
          0.05,
          0.06,
          0.09,
          0,
          0.03,
          0.01,
          0.07,
          0.04,
          0.05,
          0.08,
          0.06,
          0.04,
          0.08,
          0.01,
          0.07,
          0.09,
          0.1,
          0.06,
          0.04,
          0.01,
          0.02,
          0.06,
          0.01,
          0.1,
          0.04,
          0.01,
          0.07,
          0.09,
          0.08,
          0.07,
          0.08,
          0.08,
          0.01,
          0.09,
          0,
          0.04,
          0.03,
          0.09,
          0.05,
          0.07,
          0.08,
          0.09,
          0.02,
          0.09,
          0.1,
          0.05,
          0.02,
          0.03,
          0.04,
          0.07,
          0.03,
          0.04,
          0.02,
          0.05,
          0.05,
          0.09,
          0.01,
          0.04
         ],
         "y": [
          0.007,
          0.002,
          0.001,
          0.006,
          0.003,
          0.005,
          0.007,
          0.002,
          0.008,
          0.008,
          0.008,
          0.002,
          0.001,
          0.009,
          0.006,
          0.006,
          0.007,
          0.001,
          0.001,
          0.006,
          0.007,
          0.002,
          0.008,
          0.006,
          0.005,
          0.006,
          0.004,
          0.003,
          0.003,
          0.002,
          0.007,
          0.002,
          0.004,
          0.001,
          0.008,
          0.008,
          0.006,
          0.002,
          0.007,
          0.001,
          0.009,
          0.003,
          0.008,
          0.002,
          0.001,
          0.005,
          0.004,
          0.003,
          0.005,
          0.004,
          0.009,
          0.004,
          0.008,
          0.008,
          0.006,
          0.004,
          0.001,
          0.006,
          0.001,
          0.005,
          0.005,
          0.001,
          0.007,
          0.009,
          0.006,
          0.005,
          0.005,
          0.006,
          0.001,
          0.007,
          0.001,
          0.001,
          0.005,
          0.007,
          0.009,
          0.008,
          0.002,
          0.001,
          0.008,
          0.008,
          0.003,
          0.008,
          0.003,
          0.006,
          0.001,
          0.002,
          0.002,
          0.003,
          0.008,
          0.006,
          0.002,
          0.003,
          0.005,
          0.004,
          0.005,
          0.001,
          0.008,
          0.001,
          0.004,
          0.008,
          0.003,
          0.009,
          0.005,
          0.004,
          0.002,
          0.005,
          0.003,
          0.004,
          0.003,
          0.005,
          0.008,
          0.005,
          0.001,
          0.003,
          0.003,
          0.001,
          0.006,
          0.004,
          0.007,
          0.005,
          0.003,
          0.001,
          0.009,
          0.004,
          0.007,
          0.005,
          0.007,
          0.006,
          0.001,
          0.006,
          0.003,
          0.007,
          0.006,
          0.006,
          0.005,
          0.004,
          0.003,
          0.004,
          0.002,
          0.005,
          0.003,
          0.005,
          0.004,
          0.005,
          0.007,
          0.003,
          0.008,
          0.002,
          0.002,
          0.008,
          0.008,
          0.003,
          0.003,
          0.005,
          0.007,
          0.008,
          0.001,
          0.008,
          0.002,
          0.004,
          0.004,
          0.003,
          0.004,
          0.008,
          0.009,
          0.007,
          0.009,
          0.004,
          0.008,
          0.008,
          0.005,
          0.003,
          0.007,
          0.007,
          0.001,
          0.006,
          0.007,
          0.007,
          0.003,
          0.007,
          0.003,
          0.004,
          0.006,
          0.008,
          0.004,
          0.003,
          0.001,
          0.002,
          0.005,
          0.002,
          0.006,
          0.004,
          0.005,
          0.008,
          0.002,
          0.006,
          0.004,
          0.008,
          0.008,
          0.004,
          0.005,
          0.004,
          0.004,
          0.003,
          0.001,
          0.005,
          0.002,
          0.001,
          0.004,
          0.007,
          0.006,
          0.005,
          0.001,
          0.005,
          0.006,
          0.003,
          0.005,
          0.003,
          0.003,
          0.004,
          0.003,
          0.001,
          0.002,
          0.001,
          0.008,
          0.001,
          0.001,
          0.006,
          0.001,
          0.005,
          0.002,
          0.003,
          0.006,
          0.006,
          0.003,
          0.001,
          0.003,
          0.006,
          0.008,
          0.002,
          0.009,
          0.002,
          0.006,
          0.001,
          0.007,
          0.001,
          0.002,
          0.002,
          0.001,
          0.007,
          0.004,
          0.001,
          0.009,
          0.007,
          0.001,
          0.005,
          0.007,
          0.001,
          0.006,
          0.009,
          0.008,
          0.005,
          0.003,
          0.003,
          0.006,
          0.003,
          0.009,
          0.001,
          0.001,
          0.004,
          0.002,
          0.005,
          0.006,
          0.005,
          0.001,
          0.001,
          0.002,
          0.005,
          0.007,
          0.001,
          0.008,
          0.002,
          0.008,
          0.003,
          0.001,
          0.005,
          0.001,
          0.007,
          0.005,
          0.008,
          0.001,
          0.003,
          0.007,
          0.005,
          0.002,
          0.001,
          0.001,
          0.006,
          0.001,
          0.002,
          0.005,
          0.007,
          0.002,
          0.003,
          0.009,
          0.005,
          0.007,
          0.005,
          0.002,
          0.003,
          0.004,
          0.007,
          0.004,
          0.006,
          0.002,
          0.001,
          0.008,
          0.005,
          0.008,
          0.001,
          0.005,
          0.002,
          0.005,
          0.006,
          0.001,
          0.002,
          0.007,
          0.005,
          0.001,
          0.001,
          0.002,
          0.006,
          0.001,
          0.008,
          0.005,
          0.001,
          0.006,
          0.002,
          0.001,
          0.003,
          0.007,
          0.002,
          0.002,
          0.001,
          0.008,
          0.007,
          0.005,
          0.008,
          0.001,
          0.002,
          0.001,
          0.003,
          0.001,
          0.007,
          0.003,
          0.002,
          0.007,
          0.005,
          0.006,
          0.005,
          0.005,
          0.005,
          0.006,
          0.005,
          0.006,
          0.008,
          0.002,
          0.006,
          0.008,
          0.006,
          0.001,
          0.001,
          0.001,
          0.008,
          0.004,
          0.008,
          0.006,
          0.007,
          0.005,
          0.006,
          0.008,
          0.007,
          0.009,
          0.004,
          0.005,
          0.003,
          0.001,
          0.003,
          0.002,
          0.008,
          0.007,
          0.008,
          0.009,
          0.005,
          0.001,
          0.005,
          0.005,
          0.004,
          0.001,
          0.009,
          0.008,
          0.005,
          0.007,
          0.007,
          0.002,
          0.007,
          0.003,
          0.003,
          0.006,
          0.005,
          0.001,
          0.001,
          0.002,
          0.001,
          0.001,
          0.003,
          0.005,
          0.006,
          0.006,
          0.001,
          0.005,
          0.001,
          0.005,
          0.001,
          0.002,
          0.009,
          0.001,
          0.005,
          0.007,
          0.002,
          0.003,
          0.001,
          0.001,
          0.006,
          0.009,
          0.002,
          0.001,
          0.004,
          0.007,
          0.002,
          0.006,
          0.005,
          0.008,
          0.006,
          0.002,
          0.006,
          0.002,
          0.004,
          0.009,
          0.006,
          0.001,
          0.007,
          0.005,
          0.001,
          0.009,
          0.007,
          0.005,
          0.002,
          0.002,
          0.009,
          0.009,
          0.007,
          0.002,
          0.003,
          0.008,
          0.006,
          0.004,
          0.003,
          0.006,
          0.002,
          0.008,
          0.008,
          0.001,
          0.008,
          0.001,
          0.006,
          0.002,
          0.002,
          0.009,
          0.002,
          0.001,
          0.008,
          0.003,
          0.007,
          0.001,
          0.008,
          0.005,
          0.001,
          0.004,
          0.008,
          0.004,
          0.008,
          0.008,
          0.005,
          0.003,
          0.002,
          0.006,
          0.003,
          0.001,
          0.004,
          0.004,
          0.006,
          0.005,
          0.004,
          0.003,
          0.006,
          0.006,
          0.009,
          0.008,
          0.002,
          0.001,
          0.007,
          0.006,
          0.003,
          0.005,
          0.008,
          0.007,
          0.007,
          0.004,
          0.003,
          0.001,
          0.004,
          0.005,
          0.001,
          0.003,
          0.005,
          0.004,
          0.005,
          0.008,
          0.001,
          0.008,
          0.004,
          0.003,
          0.004,
          0.003,
          0.006,
          0.003,
          0.008,
          0.003,
          0.002,
          0.007,
          0.008,
          0.001,
          0.004,
          0.003,
          0.003,
          0.007,
          0.008,
          0.004,
          0.009,
          0.001,
          0.005,
          0.001,
          0.008,
          0.008,
          0.007,
          0.003,
          0.004,
          0.009,
          0.004,
          0.007,
          0.009,
          0.001,
          0.005,
          0.004,
          0.008,
          0.002,
          0.003,
          0.004,
          0.007,
          0.001,
          0.001,
          0.001,
          0.008,
          0.008,
          0.008,
          0.005,
          0.003,
          0.006,
          0.006,
          0.005,
          0.002,
          0.005,
          0.005,
          0.005,
          0.009,
          0.006,
          0.008,
          0.004,
          0.005,
          0.006,
          0.009,
          0.006,
          0.007,
          0.008,
          0.004,
          0.004,
          0.007,
          0.004,
          0.007,
          0.001,
          0.002,
          0.001,
          0.006,
          0.008,
          0.004,
          0.004,
          0.001,
          0.004,
          0.004,
          0.007,
          0.002,
          0.006,
          0.003,
          0.005,
          0.001,
          0.003,
          0.008,
          0.006,
          0.001,
          0.007,
          0.005,
          0.009,
          0.008,
          0.007,
          0.001,
          0.009,
          0.001,
          0.006,
          0.001,
          0.002,
          0.001,
          0.001,
          0.006,
          0.002,
          0.006,
          0.003,
          0.006,
          0.006,
          0.007,
          0.001,
          0.002,
          0.007,
          0.006,
          0.008,
          0.005,
          0.001,
          0.001,
          0.002,
          0.006,
          0.002,
          0.04,
          0.02,
          0.12,
          0.09,
          0.12,
          0.12,
          0.02,
          0.05,
          0.02,
          0.08,
          0.01,
          0.13,
          0.06,
          0.1,
          0.05,
          0.13,
          0.04,
          0.07,
          0.06,
          0.11,
          0.03,
          0.12,
          0.11,
          0.1,
          0.12,
          0.11,
          0.1,
          0.05,
          0.05,
          0.12,
          0.12,
          0.07,
          0.1,
          0.13,
          0.11,
          0.03,
          0.11,
          0.11,
          0.09,
          0.1,
          0.11,
          0.03,
          0.06,
          0.04,
          0.04,
          0.03,
          0.01,
          0.04,
          0.04,
          0.006,
          0.007,
          0.003,
          0.006,
          0.006,
          0.006,
          0.001,
          0.008,
          0.002,
          0.001,
          0.003,
          0.002,
          0.006,
          0.008,
          0.003,
          0.001,
          0.001,
          0.007,
          0.003,
          0.009,
          0.004,
          0.002,
          0.002,
          0.007,
          0.002,
          0.003,
          0.006,
          0.005,
          0.006,
          0.001,
          0.002,
          0.006,
          0.004,
          0.002,
          0.005,
          0.004,
          0.004,
          0.008,
          0.007,
          0.004,
          0.001,
          0.005,
          0.006,
          0.002,
          0.007,
          0.001,
          0.004,
          0.006,
          0.007,
          0.05,
          0.11,
          0.07,
          0.07,
          0.03,
          0.04,
          0.02,
          0.05,
          0.04,
          0.06,
          0.07,
          0.02,
          0.08,
          0.06,
          0.05,
          0.01,
          0.03,
          0.03,
          0.04,
          0.04,
          0.03,
          0.1,
          0.09,
          0.12,
          0.06,
          0.02,
          0.05,
          0.13,
          0.11,
          0.04,
          0.11,
          0.1,
          0.11,
          0.09,
          0.08,
          0.09,
          0.03,
          0.09,
          0.02,
          0.09,
          0.08,
          0.07,
          0.03,
          0.03,
          0.09,
          0.02,
          0.12,
          0.12,
          0.08,
          0.04,
          0.01,
          0.06,
          0.03,
          0.06,
          0.05,
          0.01,
          0.02,
          0,
          0.09,
          0.01,
          0.08,
          0.05,
          0.08,
          0.07,
          0.01,
          0.01,
          0.06,
          0.09,
          0,
          0.04,
          0.06,
          0,
          0.02,
          0.03,
          0.06,
          0.08,
          0.09,
          0.06,
          0.03,
          0.06,
          0.07,
          0.05,
          0.04,
          0.04,
          0.06,
          0.09,
          0.03,
          0.07,
          0.02,
          0.05,
          0.09,
          0.04,
          0.05,
          0.06,
          0.03,
          0.07,
          0.08,
          0.06,
          0.01,
          0.04,
          0.03,
          0.05,
          0.07,
          0.03,
          0.09,
          0.08,
          0.08,
          0.09,
          0.03,
          0.08,
          0.08,
          0.06,
          0.02,
          0.03,
          0.05,
          0.02,
          0.02,
          0.04,
          0.07,
          0.03,
          0.06,
          0.09,
          0.05,
          0.02,
          0.02,
          0.02,
          0.06,
          0.03,
          0.05,
          0.04,
          0.05,
          0.03,
          0.06,
          0.02,
          0.05,
          0.01,
          0.08,
          0.09,
          0.03,
          0.09,
          0.04,
          0.08,
          0.09,
          0.06,
          0.02,
          0.09,
          0.01,
          0.06,
          0.02,
          0.05,
          0.08,
          0.07,
          0.09,
          0.09,
          0.01,
          0.08,
          0.04,
          0.02,
          0.04,
          0.01,
          0.03,
          0,
          0.03
         ],
         "z": [
          37.75,
          32.26,
          9.12,
          16.9,
          27.17,
          23.43,
          30.42,
          21.52,
          22.12,
          26.8,
          17.54,
          11.16,
          0.18,
          19.4,
          24.29,
          21.79,
          14.6,
          34.64,
          39.4,
          44.76,
          24.91,
          24.61,
          20.32,
          14.16,
          36.52,
          24.84,
          0.73,
          23.6,
          17.24,
          21.79,
          16.99,
          28.03,
          11,
          5.2,
          10.21,
          13.9,
          30.41,
          31.6,
          2.75,
          14.98,
          40.47,
          23.25,
          29.55,
          34.47,
          29.48,
          18.61,
          33.95,
          3.77,
          25.97,
          8.33,
          27.48,
          15.08,
          3.26,
          38.31,
          6.24,
          21.89,
          21.87,
          5.73,
          8.65,
          46.24,
          34.48,
          10.88,
          39.05,
          10.75,
          31.57,
          6.87,
          10.62,
          33.02,
          3.47,
          28.47,
          32.48,
          25.77,
          33.97,
          22.9,
          33.24,
          21.38,
          37.15,
          14.55,
          4.28,
          15.3,
          0.91,
          1.02,
          42.15,
          6.89,
          49.49,
          35.76,
          8.41,
          11.49,
          47.93,
          53.23,
          18.68,
          17.62,
          22.76,
          20.28,
          21.22,
          25.15,
          16.42,
          17.53,
          19.33,
          14.24,
          19.6,
          15.98,
          20.14,
          44.88,
          10.72,
          18.43,
          1.25,
          22.58,
          33.89,
          53.46,
          4.72,
          21.12,
          3.24,
          47.47,
          16,
          4.59,
          27.95,
          15.96,
          34.97,
          32.94,
          33.8,
          4.51,
          40.53,
          37.89,
          30.36,
          0.54,
          30.86,
          19.55,
          6.22,
          21.46,
          48.75,
          26.27,
          30.49,
          42.85,
          25.81,
          24.01,
          32.55,
          23.58,
          27.53,
          28.79,
          40.52,
          47.78,
          1.89,
          8.3,
          2.43,
          47.92,
          29.73,
          5.44,
          28.71,
          22.15,
          30.91,
          35.17,
          36.59,
          16.9,
          5.67,
          26.88,
          16.39,
          30.25,
          7.96,
          14.91,
          12.99,
          24.76,
          27.75,
          0.58,
          13.09,
          2.43,
          22.17,
          13.46,
          4.89,
          40.92,
          10.82,
          6.7,
          29.96,
          1.09,
          1.17,
          25.43,
          11.2,
          17.72,
          32.91,
          8.7,
          0.31,
          19.37,
          21.67,
          51.76,
          24.8,
          35.86,
          38.2,
          14.31,
          25.55,
          33.34,
          19.09,
          29.45,
          13.86,
          48.1,
          27.89,
          21.92,
          19.99,
          29.4,
          24.98,
          0.34,
          18.2,
          30.01,
          23.35,
          31.36,
          13.89,
          13.01,
          12.9,
          27.88,
          12.94,
          27.6,
          18.51,
          31.13,
          3.49,
          36.04,
          13.03,
          2.63,
          7.62,
          33.17,
          44.16,
          27.56,
          14.7,
          50.82,
          31.62,
          1.12,
          36.46,
          29.81,
          30.21,
          40.27,
          32.35,
          8.56,
          41.01,
          3.3,
          42.43,
          15.21,
          46.85,
          6.36,
          40.62,
          25.23,
          9.33,
          4.32,
          16.21,
          30.24,
          43.27,
          51.54,
          6.92,
          11.04,
          10,
          5.87,
          34.99,
          17.68,
          43.22,
          32.15,
          39.65,
          6.17,
          44.54,
          0.4,
          6.97,
          1.05,
          9.67,
          50.04,
          36.36,
          13.75,
          15.52,
          5.72,
          12.48,
          3.99,
          29.35,
          37.41,
          10.01,
          15.29,
          47.83,
          24.13,
          24.98,
          22,
          26.22,
          14.24,
          8.62,
          12.93,
          10.44,
          11.36,
          27.25,
          21.94,
          29.98,
          28.58,
          39.12,
          9.33,
          41.93,
          16.55,
          5.91,
          3.23,
          16.85,
          13.3,
          9.72,
          25.89,
          1.22,
          7.63,
          38.32,
          3.17,
          29.85,
          4.27,
          16.75,
          33.56,
          8.75,
          47.83,
          26.42,
          4.51,
          23.26,
          20.86,
          36.49,
          38.53,
          11.39,
          36.32,
          15.73,
          5.74,
          38.53,
          19.53,
          33.11,
          3.43,
          27.25,
          31.08,
          16.31,
          18.64,
          23.22,
          26.57,
          3.3,
          1.87,
          31.24,
          14.78,
          20.9,
          0.74,
          25.95,
          29,
          26.15,
          56.89,
          2.08,
          0.33,
          37.13,
          3.14,
          6.43,
          18.77,
          20.55,
          38.27,
          15.84,
          15.26,
          29.3,
          24.73,
          14.49,
          34.68,
          22.43,
          23.36,
          15.47,
          18.03,
          14.71,
          15.81,
          18.52,
          51.29,
          28.03,
          15.42,
          40.75,
          2.88,
          18.88,
          21.35,
          25.24,
          6.86,
          0.48,
          15.8,
          17.72,
          0.9,
          7.6,
          28.44,
          53.36,
          42.98,
          17.04,
          36.11,
          6.39,
          17.62,
          2.16,
          24.43,
          5.89,
          5.35,
          30.09,
          11.52,
          17.71,
          24.82,
          10.95,
          34.91,
          9.55,
          9.01,
          45.28,
          8.02,
          45.85,
          24.53,
          44.5,
          19.33,
          7.24,
          34.7,
          11.97,
          30.09,
          7.88,
          3.13,
          10.48,
          13.59,
          1.49,
          55.45,
          47.49,
          10.16,
          32.08,
          5.01,
          31.84,
          7.01,
          29.27,
          19.26,
          22.35,
          20.7,
          30.79,
          13.32,
          16.74,
          39.45,
          11.1,
          7.3,
          16.24,
          7.51,
          10.5,
          33.87,
          24.65,
          22.24,
          13.29,
          41.66,
          32.32,
          21.31,
          31.59,
          28.2,
          25.23,
          26.68,
          9.13,
          11.3,
          28.26,
          3.98,
          3.38,
          28.76,
          8,
          9.66,
          1.95,
          9.82,
          4.14,
          1.35,
          19.72,
          18.38,
          17.89,
          14.92,
          36.9,
          16.17,
          1.7,
          1.56,
          31.78,
          10.93,
          23.72,
          30.05,
          11.83,
          7.69,
          22.03,
          10.49,
          44.62,
          13.14,
          20.36,
          29,
          23.22,
          28.46,
          9.06,
          25.84,
          12.9,
          7.82,
          39.06,
          1.88,
          19.46,
          16.35,
          2.87,
          16.47,
          26.12,
          14.67,
          4.79,
          15.09,
          4.79,
          19.77,
          11.39,
          25.83,
          21.38,
          9.56,
          22.88,
          32.6,
          13.88,
          41.91,
          36.15,
          2.72,
          27.84,
          42.42,
          28.19,
          16.54,
          10.45,
          4.8,
          51.03,
          26.53,
          14.49,
          16.41,
          14.45,
          18.48,
          32.51,
          25.03,
          26.65,
          8.04,
          15.84,
          22.42,
          22.12,
          16.61,
          24.25,
          15.13,
          25.05,
          18.56,
          25.36,
          14.95,
          6.99,
          5.85,
          22.66,
          36.39,
          24.1,
          34.01,
          36.76,
          38.55,
          9.71,
          1.19,
          15.45,
          21.2,
          11.27,
          13.01,
          2.55,
          12.64,
          12.17,
          34.44,
          13.7,
          3.18,
          46.81,
          41.53,
          21,
          31.54,
          12.23,
          19.88,
          43.75,
          33.36,
          15.5,
          13.04,
          6.02,
          16.15,
          2.61,
          41.33,
          46,
          13.79,
          37.48,
          21.86,
          10.56,
          12.85,
          0.77,
          26.8,
          34.59,
          27.97,
          2.59,
          34.36,
          27.45,
          18.24,
          7.93,
          9.83,
          24.43,
          28.19,
          41.23,
          12.48,
          6.7,
          26.27,
          27.44,
          22.13,
          15.06,
          2.64,
          13.93,
          14.97,
          10.24,
          39.38,
          11.52,
          19.19,
          4.4,
          12.7,
          44.67,
          7.51,
          16.91,
          34.35,
          18.51,
          38.44,
          37.35,
          1.01,
          32.92,
          7,
          23.89,
          0.07,
          11.12,
          21.71,
          30.27,
          0.13,
          12.71,
          24.83,
          12.21,
          43.79,
          28.73,
          28.21,
          30.95,
          33.77,
          22.73,
          42.56,
          57,
          15.32,
          16.62,
          22.59,
          22.62,
          8.76,
          26.43,
          38.03,
          14.42,
          55.72,
          4.46,
          5.54,
          46.47,
          43.04,
          0.8,
          4.06,
          6.85,
          28.11,
          16.34,
          23.76,
          28.9,
          30.52,
          16.09,
          2.35,
          38.71,
          21.54,
          31.48,
          10.49,
          11.36,
          20.38,
          13.74,
          22.32,
          4.77,
          37.2,
          11.55,
          16.06,
          5.61,
          27.28,
          17.27,
          44.68,
          48.31,
          8.68,
          36.11,
          4.39,
          37.84,
          17.69,
          47.49,
          30.1,
          30.96,
          43.67,
          14.52,
          53.77,
          39.43,
          45.06,
          46.97,
          24.79,
          42.6,
          38.67,
          38.76,
          29.2,
          15.98,
          51.78,
          15.87,
          1.6,
          31.45,
          41.84,
          28.6,
          31.93,
          30.22,
          13.21,
          18.12,
          25.24,
          11.37,
          40.49,
          41.73,
          40.7,
          12.73,
          22.15,
          14.03,
          22.91,
          16.22,
          8.79,
          46.3,
          46.58,
          29.05,
          37.47,
          16.9,
          39.31,
          17.24,
          6.24,
          5.73,
          50.87,
          14.55,
          47.93,
          18.68,
          4.59,
          36.15,
          27.45,
          42.85,
          22.15,
          35.17,
          38.2,
          41.46,
          33.01,
          33.17,
          16.21,
          43.22,
          1.22,
          36.49,
          37.78,
          25.95,
          18.52,
          0.48,
          13.59,
          48.98,
          13.29,
          11.3,
          45.83,
          54.13,
          44.62,
          24.25,
          32.54,
          21.2,
          34.44,
          46.81,
          21.86,
          41.23,
          27.44,
          2.64,
          33.77,
          48.37,
          5.54,
          46.27,
          23.76,
          11.36,
          27.38,
          17.3,
          44.74,
          48.55,
          8.68,
          35.54,
          4.5,
          37.97,
          17.68,
          48.07,
          29.57,
          31,
          43.03,
          14.44,
          53.73,
          39.78,
          44.59,
          46.86,
          24.29,
          42.68,
          38.03,
          39.3,
          29.09,
          15.64,
          51.42,
          16.05,
          1.65,
          31.6,
          41.78,
          28.51,
          32.03,
          30.34,
          13.35,
          18.02,
          25.22,
          11.32,
          39.67,
          41.75,
          40.75,
          12.54,
          22.17,
          14,
          23.36,
          15.68,
          8.81,
          47.08,
          46.78,
          29.06,
          37.26,
          0.38,
          0.44,
          2.57,
          0.04,
          8.02,
          4.12,
          6.18,
          0.23,
          0.02,
          0.4,
          2.74,
          2.17,
          0.17,
          7.39,
          0.22,
          0.84,
          0.04,
          2.03,
          0.52,
          0.12,
          1.18,
          11.23,
          8.47,
          0.44,
          6.92,
          3.17,
          7.45,
          10.06,
          8.49,
          0.45,
          1.32,
          0.52,
          6.08,
          2.35,
          0.08,
          0.42,
          2.62,
          9.71,
          4.38,
          0.09,
          2.72,
          3.4,
          1.8,
          1.64,
          3.88,
          0.43,
          3.03,
          4.81,
          2.43,
          1.72,
          0.28,
          0.37,
          0.38,
          8.53,
          1.19,
          2.62,
          1.51,
          6.28,
          2.35,
          4.61,
          0.22,
          7.07,
          11.08,
          1.35,
          2.08,
          3.51,
          7.89,
          1.83,
          5.61,
          0.14,
          1.36,
          0.01,
          6.56,
          11.84,
          3.45,
          1.53,
          0.67,
          10.85,
          2.7,
          0.21,
          3.82,
          2.4,
          1.28,
          0.07,
          0.35,
          3.63,
          2.29,
          9.02,
          0.09,
          1.44,
          4.74,
          3.13,
          2.97,
          5.89,
          0.04,
          8.45,
          8.12,
          0.14,
          8.77,
          0.7,
          0.55,
          0.01,
          4.64,
          3.15,
          0.99,
          1.5,
          7.18,
          0.34,
          1.68,
          3.57,
          1.48,
          1.35,
          0,
          1.35
         ]
        }
       ],
       "layout": {
        "height": 900,
        "legend": {
         "orientation": "h",
         "title": {
          "text": "is_safe"
         },
         "tracegroupgap": 0,
         "x": 0.5,
         "xanchor": "center",
         "y": 0,
         "yanchor": "top"
        },
        "margin": {
         "b": 0,
         "l": 0,
         "r": 0,
         "t": 0
        },
        "scene": {
         "camera": {
          "center": {
           "x": 0,
           "y": 0,
           "z": -0.2
          },
          "eye": {
           "x": -1.5,
           "y": 1.5,
           "z": 0.5
          },
          "up": {
           "x": 0,
           "y": 0,
           "z": 1
          }
         },
         "domain": {
          "x": [
           0,
           1
          ],
          "y": [
           0,
           1
          ]
         },
         "xaxis": {
          "backgroundcolor": "white",
          "color": "black",
          "gridcolor": "#f0f0f0",
          "tickfont": {
           "size": 10
          },
          "title": {
           "font": {
            "size": 10
           },
           "text": "aluminium"
          }
         },
         "yaxis": {
          "backgroundcolor": "white",
          "color": "black",
          "gridcolor": "#f0f0f0",
          "tickfont": {
           "size": 10
          },
          "title": {
           "font": {
            "size": 10
           },
           "text": "cadmium"
          }
         },
         "zaxis": {
          "backgroundcolor": "lightgrey",
          "color": "black",
          "gridcolor": "#f0f0f0",
          "tickfont": {
           "size": 10
          },
          "title": {
           "font": {
            "size": 10
           },
           "text": "perchlorate"
          }
         }
        },
        "showlegend": true,
        "template": {
         "data": {
          "bar": [
           {
            "error_x": {
             "color": "#2a3f5f"
            },
            "error_y": {
             "color": "#2a3f5f"
            },
            "marker": {
             "line": {
              "color": "#E5ECF6",
              "width": 0.5
             },
             "pattern": {
              "fillmode": "overlay",
              "size": 10,
              "solidity": 0.2
             }
            },
            "type": "bar"
           }
          ],
          "barpolar": [
           {
            "marker": {
             "line": {
              "color": "#E5ECF6",
              "width": 0.5
             },
             "pattern": {
              "fillmode": "overlay",
              "size": 10,
              "solidity": 0.2
             }
            },
            "type": "barpolar"
           }
          ],
          "carpet": [
           {
            "aaxis": {
             "endlinecolor": "#2a3f5f",
             "gridcolor": "white",
             "linecolor": "white",
             "minorgridcolor": "white",
             "startlinecolor": "#2a3f5f"
            },
            "baxis": {
             "endlinecolor": "#2a3f5f",
             "gridcolor": "white",
             "linecolor": "white",
             "minorgridcolor": "white",
             "startlinecolor": "#2a3f5f"
            },
            "type": "carpet"
           }
          ],
          "choropleth": [
           {
            "colorbar": {
             "outlinewidth": 0,
             "ticks": ""
            },
            "type": "choropleth"
           }
          ],
          "contour": [
           {
            "colorbar": {
             "outlinewidth": 0,
             "ticks": ""
            },
            "colorscale": [
             [
              0,
              "#0d0887"
             ],
             [
              0.1111111111111111,
              "#46039f"
             ],
             [
              0.2222222222222222,
              "#7201a8"
             ],
             [
              0.3333333333333333,
              "#9c179e"
             ],
             [
              0.4444444444444444,
              "#bd3786"
             ],
             [
              0.5555555555555556,
              "#d8576b"
             ],
             [
              0.6666666666666666,
              "#ed7953"
             ],
             [
              0.7777777777777778,
              "#fb9f3a"
             ],
             [
              0.8888888888888888,
              "#fdca26"
             ],
             [
              1,
              "#f0f921"
             ]
            ],
            "type": "contour"
           }
          ],
          "contourcarpet": [
           {
            "colorbar": {
             "outlinewidth": 0,
             "ticks": ""
            },
            "type": "contourcarpet"
           }
          ],
          "heatmap": [
           {
            "colorbar": {
             "outlinewidth": 0,
             "ticks": ""
            },
            "colorscale": [
             [
              0,
              "#0d0887"
             ],
             [
              0.1111111111111111,
              "#46039f"
             ],
             [
              0.2222222222222222,
              "#7201a8"
             ],
             [
              0.3333333333333333,
              "#9c179e"
             ],
             [
              0.4444444444444444,
              "#bd3786"
             ],
             [
              0.5555555555555556,
              "#d8576b"
             ],
             [
              0.6666666666666666,
              "#ed7953"
             ],
             [
              0.7777777777777778,
              "#fb9f3a"
             ],
             [
              0.8888888888888888,
              "#fdca26"
             ],
             [
              1,
              "#f0f921"
             ]
            ],
            "type": "heatmap"
           }
          ],
          "heatmapgl": [
           {
            "colorbar": {
             "outlinewidth": 0,
             "ticks": ""
            },
            "colorscale": [
             [
              0,
              "#0d0887"
             ],
             [
              0.1111111111111111,
              "#46039f"
             ],
             [
              0.2222222222222222,
              "#7201a8"
             ],
             [
              0.3333333333333333,
              "#9c179e"
             ],
             [
              0.4444444444444444,
              "#bd3786"
             ],
             [
              0.5555555555555556,
              "#d8576b"
             ],
             [
              0.6666666666666666,
              "#ed7953"
             ],
             [
              0.7777777777777778,
              "#fb9f3a"
             ],
             [
              0.8888888888888888,
              "#fdca26"
             ],
             [
              1,
              "#f0f921"
             ]
            ],
            "type": "heatmapgl"
           }
          ],
          "histogram": [
           {
            "marker": {
             "pattern": {
              "fillmode": "overlay",
              "size": 10,
              "solidity": 0.2
             }
            },
            "type": "histogram"
           }
          ],
          "histogram2d": [
           {
            "colorbar": {
             "outlinewidth": 0,
             "ticks": ""
            },
            "colorscale": [
             [
              0,
              "#0d0887"
             ],
             [
              0.1111111111111111,
              "#46039f"
             ],
             [
              0.2222222222222222,
              "#7201a8"
             ],
             [
              0.3333333333333333,
              "#9c179e"
             ],
             [
              0.4444444444444444,
              "#bd3786"
             ],
             [
              0.5555555555555556,
              "#d8576b"
             ],
             [
              0.6666666666666666,
              "#ed7953"
             ],
             [
              0.7777777777777778,
              "#fb9f3a"
             ],
             [
              0.8888888888888888,
              "#fdca26"
             ],
             [
              1,
              "#f0f921"
             ]
            ],
            "type": "histogram2d"
           }
          ],
          "histogram2dcontour": [
           {
            "colorbar": {
             "outlinewidth": 0,
             "ticks": ""
            },
            "colorscale": [
             [
              0,
              "#0d0887"
             ],
             [
              0.1111111111111111,
              "#46039f"
             ],
             [
              0.2222222222222222,
              "#7201a8"
             ],
             [
              0.3333333333333333,
              "#9c179e"
             ],
             [
              0.4444444444444444,
              "#bd3786"
             ],
             [
              0.5555555555555556,
              "#d8576b"
             ],
             [
              0.6666666666666666,
              "#ed7953"
             ],
             [
              0.7777777777777778,
              "#fb9f3a"
             ],
             [
              0.8888888888888888,
              "#fdca26"
             ],
             [
              1,
              "#f0f921"
             ]
            ],
            "type": "histogram2dcontour"
           }
          ],
          "mesh3d": [
           {
            "colorbar": {
             "outlinewidth": 0,
             "ticks": ""
            },
            "type": "mesh3d"
           }
          ],
          "parcoords": [
           {
            "line": {
             "colorbar": {
              "outlinewidth": 0,
              "ticks": ""
             }
            },
            "type": "parcoords"
           }
          ],
          "pie": [
           {
            "automargin": true,
            "type": "pie"
           }
          ],
          "scatter": [
           {
            "marker": {
             "colorbar": {
              "outlinewidth": 0,
              "ticks": ""
             }
            },
            "type": "scatter"
           }
          ],
          "scatter3d": [
           {
            "line": {
             "colorbar": {
              "outlinewidth": 0,
              "ticks": ""
             }
            },
            "marker": {
             "colorbar": {
              "outlinewidth": 0,
              "ticks": ""
             }
            },
            "type": "scatter3d"
           }
          ],
          "scattercarpet": [
           {
            "marker": {
             "colorbar": {
              "outlinewidth": 0,
              "ticks": ""
             }
            },
            "type": "scattercarpet"
           }
          ],
          "scattergeo": [
           {
            "marker": {
             "colorbar": {
              "outlinewidth": 0,
              "ticks": ""
             }
            },
            "type": "scattergeo"
           }
          ],
          "scattergl": [
           {
            "marker": {
             "colorbar": {
              "outlinewidth": 0,
              "ticks": ""
             }
            },
            "type": "scattergl"
           }
          ],
          "scattermapbox": [
           {
            "marker": {
             "colorbar": {
              "outlinewidth": 0,
              "ticks": ""
             }
            },
            "type": "scattermapbox"
           }
          ],
          "scatterpolar": [
           {
            "marker": {
             "colorbar": {
              "outlinewidth": 0,
              "ticks": ""
             }
            },
            "type": "scatterpolar"
           }
          ],
          "scatterpolargl": [
           {
            "marker": {
             "colorbar": {
              "outlinewidth": 0,
              "ticks": ""
             }
            },
            "type": "scatterpolargl"
           }
          ],
          "scatterternary": [
           {
            "marker": {
             "colorbar": {
              "outlinewidth": 0,
              "ticks": ""
             }
            },
            "type": "scatterternary"
           }
          ],
          "surface": [
           {
            "colorbar": {
             "outlinewidth": 0,
             "ticks": ""
            },
            "colorscale": [
             [
              0,
              "#0d0887"
             ],
             [
              0.1111111111111111,
              "#46039f"
             ],
             [
              0.2222222222222222,
              "#7201a8"
             ],
             [
              0.3333333333333333,
              "#9c179e"
             ],
             [
              0.4444444444444444,
              "#bd3786"
             ],
             [
              0.5555555555555556,
              "#d8576b"
             ],
             [
              0.6666666666666666,
              "#ed7953"
             ],
             [
              0.7777777777777778,
              "#fb9f3a"
             ],
             [
              0.8888888888888888,
              "#fdca26"
             ],
             [
              1,
              "#f0f921"
             ]
            ],
            "type": "surface"
           }
          ],
          "table": [
           {
            "cells": {
             "fill": {
              "color": "#EBF0F8"
             },
             "line": {
              "color": "white"
             }
            },
            "header": {
             "fill": {
              "color": "#C8D4E3"
             },
             "line": {
              "color": "white"
             }
            },
            "type": "table"
           }
          ]
         },
         "layout": {
          "annotationdefaults": {
           "arrowcolor": "#2a3f5f",
           "arrowhead": 0,
           "arrowwidth": 1
          },
          "autotypenumbers": "strict",
          "coloraxis": {
           "colorbar": {
            "outlinewidth": 0,
            "ticks": ""
           }
          },
          "colorscale": {
           "diverging": [
            [
             0,
             "#8e0152"
            ],
            [
             0.1,
             "#c51b7d"
            ],
            [
             0.2,
             "#de77ae"
            ],
            [
             0.3,
             "#f1b6da"
            ],
            [
             0.4,
             "#fde0ef"
            ],
            [
             0.5,
             "#f7f7f7"
            ],
            [
             0.6,
             "#e6f5d0"
            ],
            [
             0.7,
             "#b8e186"
            ],
            [
             0.8,
             "#7fbc41"
            ],
            [
             0.9,
             "#4d9221"
            ],
            [
             1,
             "#276419"
            ]
           ],
           "sequential": [
            [
             0,
             "#0d0887"
            ],
            [
             0.1111111111111111,
             "#46039f"
            ],
            [
             0.2222222222222222,
             "#7201a8"
            ],
            [
             0.3333333333333333,
             "#9c179e"
            ],
            [
             0.4444444444444444,
             "#bd3786"
            ],
            [
             0.5555555555555556,
             "#d8576b"
            ],
            [
             0.6666666666666666,
             "#ed7953"
            ],
            [
             0.7777777777777778,
             "#fb9f3a"
            ],
            [
             0.8888888888888888,
             "#fdca26"
            ],
            [
             1,
             "#f0f921"
            ]
           ],
           "sequentialminus": [
            [
             0,
             "#0d0887"
            ],
            [
             0.1111111111111111,
             "#46039f"
            ],
            [
             0.2222222222222222,
             "#7201a8"
            ],
            [
             0.3333333333333333,
             "#9c179e"
            ],
            [
             0.4444444444444444,
             "#bd3786"
            ],
            [
             0.5555555555555556,
             "#d8576b"
            ],
            [
             0.6666666666666666,
             "#ed7953"
            ],
            [
             0.7777777777777778,
             "#fb9f3a"
            ],
            [
             0.8888888888888888,
             "#fdca26"
            ],
            [
             1,
             "#f0f921"
            ]
           ]
          },
          "colorway": [
           "#636efa",
           "#EF553B",
           "#00cc96",
           "#ab63fa",
           "#FFA15A",
           "#19d3f3",
           "#FF6692",
           "#B6E880",
           "#FF97FF",
           "#FECB52"
          ],
          "font": {
           "color": "#2a3f5f"
          },
          "geo": {
           "bgcolor": "white",
           "lakecolor": "white",
           "landcolor": "#E5ECF6",
           "showlakes": true,
           "showland": true,
           "subunitcolor": "white"
          },
          "hoverlabel": {
           "align": "left"
          },
          "hovermode": "closest",
          "mapbox": {
           "style": "light"
          },
          "paper_bgcolor": "white",
          "plot_bgcolor": "#E5ECF6",
          "polar": {
           "angularaxis": {
            "gridcolor": "white",
            "linecolor": "white",
            "ticks": ""
           },
           "bgcolor": "#E5ECF6",
           "radialaxis": {
            "gridcolor": "white",
            "linecolor": "white",
            "ticks": ""
           }
          },
          "scene": {
           "xaxis": {
            "backgroundcolor": "#E5ECF6",
            "gridcolor": "white",
            "gridwidth": 2,
            "linecolor": "white",
            "showbackground": true,
            "ticks": "",
            "zerolinecolor": "white"
           },
           "yaxis": {
            "backgroundcolor": "#E5ECF6",
            "gridcolor": "white",
            "gridwidth": 2,
            "linecolor": "white",
            "showbackground": true,
            "ticks": "",
            "zerolinecolor": "white"
           },
           "zaxis": {
            "backgroundcolor": "#E5ECF6",
            "gridcolor": "white",
            "gridwidth": 2,
            "linecolor": "white",
            "showbackground": true,
            "ticks": "",
            "zerolinecolor": "white"
           }
          },
          "shapedefaults": {
           "line": {
            "color": "#2a3f5f"
           }
          },
          "ternary": {
           "aaxis": {
            "gridcolor": "white",
            "linecolor": "white",
            "ticks": ""
           },
           "baxis": {
            "gridcolor": "white",
            "linecolor": "white",
            "ticks": ""
           },
           "bgcolor": "#E5ECF6",
           "caxis": {
            "gridcolor": "white",
            "linecolor": "white",
            "ticks": ""
           }
          },
          "title": {
           "x": 0.05
          },
          "xaxis": {
           "automargin": true,
           "gridcolor": "white",
           "linecolor": "white",
           "ticks": "",
           "title": {
            "standoff": 15
           },
           "zerolinecolor": "white",
           "zerolinewidth": 2
          },
          "yaxis": {
           "automargin": true,
           "gridcolor": "white",
           "linecolor": "white",
           "ticks": "",
           "title": {
            "standoff": 15
           },
           "zerolinecolor": "white",
           "zerolinewidth": 2
          }
         }
        },
        "width": 900
       }
      },
      "text/html": [
       "<div>                            <div id=\"aa39796c-c7f3-4037-a297-6eeea0d8c25c\" class=\"plotly-graph-div\" style=\"height:900px; width:900px;\"></div>            <script type=\"text/javascript\">                require([\"plotly\"], function(Plotly) {                    window.PLOTLYENV=window.PLOTLYENV || {};                                    if (document.getElementById(\"aa39796c-c7f3-4037-a297-6eeea0d8c25c\")) {                    Plotly.newPlot(                        \"aa39796c-c7f3-4037-a297-6eeea0d8c25c\",                        [{\"customdata\":[[0.12,\"0\"],[5.31,\"0\"],[2.39,\"0\"],[0.97,\"0\"],[0.1,\"0\"],[0.46,\"0\"],[0.04,\"0\"],[3.78,\"0\"],[0.08,\"0\"],[0.33,\"0\"],[0.04,\"0\"],[1.89,\"0\"],[6.12,\"0\"],[0.17,\"0\"],[0.01,\"0\"],[2.37,\"0\"],[0.01,\"0\"],[4.68,\"0\"],[1.07,\"0\"],[4.58,\"0\"],[0.09,\"0\"],[0.57,\"0\"],[0.49,\"0\"],[3.61,\"0\"],[0.57,\"0\"],[6.34,\"0\"],[4.66,\"0\"],[4.44,\"0\"],[1.13,\"0\"],[4.98,\"0\"],[8.19,\"0\"],[0.09,\"0\"],[0.05,\"0\"],[0.06,\"0\"],[0.14,\"0\"],[0.2,\"0\"],[0.44,\"0\"],[4.5,\"0\"],[3.48,\"0\"],[3.8,\"0\"],[3.66,\"0\"],[0.29,\"0\"],[2.5,\"0\"],[1.43,\"0\"],[0.06,\"0\"],[0.28,\"0\"],[8.33,\"0\"],[1.54,\"0\"],[0.36,\"0\"],[0.17,\"0\"],[5.72,\"0\"],[4.74,\"0\"],[6.24,\"0\"],[3.58,\"0\"],[0.24,\"0\"],[0.05,\"0\"],[7.36,\"0\"],[1.33,\"0\"],[0.1,\"0\"],[4.26,\"0\"],[0.09,\"0\"],[3.95,\"0\"],[0.3,\"0\"],[0.19,\"0\"],[0.17,\"0\"],[5.71,\"0\"],[3.43,\"0\"],[0.09,\"0\"],[0.22,\"0\"],[4.8,\"0\"],[7.38,\"0\"],[8.1,\"0\"],[1.9,\"0\"],[7.78,\"0\"],[5.12,\"0\"],[5.68,\"0\"],[0.4,\"0\"],[5.98,\"0\"],[0.01,\"0\"],[0.48,\"0\"],[0.3,\"0\"],[0.09,\"0\"],[0.24,\"0\"],[0.14,\"0\"],[0.46,\"0\"],[0.65,\"0\"],[0.65,\"0\"],[2.21,\"0\"],[5.49,\"0\"],[0.08,\"0\"],[0.11,\"0\"],[3.49,\"0\"],[0.9,\"0\"],[0.58,\"0\"],[0.05,\"0\"],[0.32,\"0\"],[0.45,\"0\"],[3.43,\"0\"],[0.07,\"0\"],[2.63,\"0\"],[6.27,\"0\"],[0.25,\"0\"],[0.27,\"0\"],[0.19,\"0\"],[1.93,\"0\"],[0.17,\"0\"],[0.29,\"0\"],[5.81,\"0\"],[0.13,\"0\"],[6.34,\"0\"],[7.81,\"0\"],[0.01,\"0\"],[2.22,\"0\"],[8.24,\"0\"],[2.38,\"0\"],[0.01,\"0\"],[2.13,\"0\"],[0.05,\"0\"],[0.09,\"0\"],[1.51,\"0\"],[6.06,\"0\"],[3.1,\"0\"],[4.37,\"0\"],[0.02,\"0\"],[0.04,\"0\"],[2.78,\"0\"],[4.88,\"0\"],[0.29,\"0\"],[0.24,\"0\"],[0.01,\"0\"],[5.23,\"0\"],[0.39,\"0\"],[0.06,\"0\"],[0.53,\"0\"],[0.01,\"0\"],[0.04,\"0\"],[4.78,\"0\"],[0.06,\"0\"],[0.08,\"0\"],[7.49,\"0\"],[2.4,\"0\"],[4.07,\"0\"],[0.34,\"0\"],[1.39,\"0\"],[7.35,\"0\"],[0.16,\"0\"],[0.49,\"0\"],[0.69,\"0\"],[2.57,\"0\"],[5.88,\"0\"],[0.03,\"0\"],[5.31,\"0\"],[7.75,\"0\"],[0.53,\"0\"],[5.38,\"0\"],[6.61,\"0\"],[4.11,\"0\"],[6.52,\"0\"],[0.15,\"0\"],[2.06,\"0\"],[6.53,\"0\"],[0.1,\"0\"],[3.74,\"0\"],[4.84,\"0\"],[0.04,\"0\"],[0.5,\"0\"],[2.03,\"0\"],[6.63,\"0\"],[3.34,\"0\"],[0.26,\"0\"],[0.55,\"0\"],[0.2,\"0\"],[0.35,\"0\"],[7.21,\"0\"],[0.49,\"0\"],[0.29,\"0\"],[0.15,\"0\"],[1.6,\"0\"],[1.62,\"0\"],[6.48,\"0\"],[0.49,\"0\"],[0.34,\"0\"],[3.22,\"0\"],[0.32,\"0\"],[3.42,\"0\"],[6.9,\"0\"],[0.03,\"0\"],[6.15,\"0\"],[0.44,\"0\"],[4.1,\"0\"],[0.0,\"0\"],[0.7,\"0\"],[0.01,\"0\"],[4.43,\"0\"],[0.07,\"0\"],[5.68,\"0\"],[4.77,\"0\"],[6.26,\"0\"],[5.71,\"0\"],[3.49,\"0\"],[0.12,\"0\"],[7.95,\"0\"],[0.04,\"0\"],[0.58,\"0\"],[0.13,\"0\"],[7.41,\"0\"],[0.09,\"0\"],[0.07,\"0\"],[0.05,\"0\"],[0.89,\"0\"],[6.35,\"0\"],[0.09,\"0\"],[4.3,\"0\"],[0.04,\"0\"],[0.03,\"0\"],[6.62,\"0\"],[4.16,\"0\"],[1.56,\"0\"],[0.03,\"0\"],[3.13,\"0\"],[3.32,\"0\"],[0.07,\"0\"],[8.12,\"0\"],[0.0,\"0\"],[0.12,\"0\"],[5.99,\"0\"],[5.3,\"0\"],[3.8,\"0\"],[0.02,\"0\"],[3.1,\"0\"],[2.36,\"0\"],[0.28,\"0\"],[0.09,\"0\"],[0.25,\"0\"],[0.06,\"0\"],[0.5,\"0\"],[0.03,\"0\"],[0.63,\"0\"],[1.57,\"0\"],[3.83,\"0\"],[2.44,\"0\"],[4.24,\"0\"],[4.49,\"0\"],[5.12,\"0\"],[3.14,\"0\"],[0.46,\"0\"],[0.37,\"0\"],[0.16,\"0\"],[0.05,\"0\"],[1.62,\"0\"],[0.12,\"0\"],[0.51,\"0\"],[0.25,\"0\"],[6.23,\"0\"],[0.1,\"0\"],[0.07,\"0\"],[0.7,\"0\"],[6.52,\"0\"],[2.91,\"0\"],[7.18,\"0\"],[4.9,\"0\"],[0.0,\"0\"],[0.17,\"0\"],[4.8,\"0\"],[6.98,\"0\"],[0.23,\"0\"],[7.3,\"0\"],[0.07,\"0\"],[5.81,\"0\"],[0.25,\"0\"],[6.09,\"0\"],[7.51,\"0\"],[0.08,\"0\"],[6.25,\"0\"],[0.02,\"0\"],[0.59,\"0\"],[0.03,\"0\"],[0.39,\"0\"],[0.15,\"0\"],[0.05,\"0\"],[0.07,\"0\"],[0.6,\"0\"],[5.47,\"0\"],[3.89,\"0\"],[1.83,\"0\"],[0.42,\"0\"],[4.18,\"0\"],[0.01,\"0\"],[2.85,\"0\"],[0.5,\"0\"],[4.87,\"0\"],[0.29,\"0\"],[0.59,\"0\"],[0.13,\"0\"],[0.24,\"0\"],[4.49,\"0\"],[7.08,\"0\"],[5.17,\"0\"],[2.37,\"0\"],[4.69,\"0\"],[0.04,\"0\"],[0.18,\"0\"],[0.1,\"0\"],[2.37,\"0\"],[0.09,\"0\"],[5.57,\"0\"],[0.01,\"0\"],[0.94,\"0\"],[0.01,\"0\"],[6.25,\"0\"],[0.02,\"0\"],[0.17,\"0\"],[0.04,\"0\"],[1.13,\"0\"],[0.19,\"0\"],[0.39,\"0\"],[0.0,\"0\"],[0.47,\"0\"],[2.63,\"0\"],[0.3,\"0\"],[2.86,\"0\"],[4.0,\"0\"],[0.06,\"0\"],[0.1,\"0\"],[4.57,\"0\"],[0.21,\"0\"],[7.37,\"0\"],[3.61,\"0\"],[0.32,\"0\"],[0.88,\"0\"],[0.65,\"0\"],[0.05,\"0\"],[4.42,\"0\"],[0.15,\"0\"],[0.21,\"0\"],[0.06,\"0\"],[0.08,\"0\"],[3.91,\"0\"],[2.74,\"0\"],[0.24,\"0\"],[0.23,\"0\"],[0.05,\"0\"],[0.03,\"0\"],[0.14,\"0\"],[0.12,\"0\"],[1.07,\"0\"],[0.05,\"0\"],[7.73,\"0\"],[0.08,\"0\"],[0.88,\"0\"],[0.34,\"0\"],[7.79,\"0\"],[0.13,\"0\"],[2.73,\"0\"],[0.21,\"0\"],[0.04,\"0\"],[1.33,\"0\"],[0.06,\"0\"],[7.52,\"0\"],[0.0,\"0\"],[2.84,\"0\"],[0.68,\"0\"],[4.37,\"0\"],[0.01,\"0\"],[0.21,\"0\"],[0.01,\"0\"],[0.08,\"0\"],[7.0,\"0\"],[7.02,\"0\"],[0.6,\"0\"],[2.06,\"0\"],[0.06,\"0\"],[0.05,\"0\"],[1.34,\"0\"],[6.12,\"0\"],[0.06,\"0\"],[4.82,\"0\"],[0.32,\"0\"],[0.02,\"0\"],[5.81,\"0\"],[5.3,\"0\"],[2.4,\"0\"],[0.17,\"0\"],[4.44,\"0\"],[7.54,\"0\"],[2.03,\"0\"],[0.09,\"0\"],[1.74,\"0\"],[0.43,\"0\"],[7.16,\"0\"],[0.37,\"0\"],[3.88,\"0\"],[4.4,\"0\"],[2.74,\"0\"],[7.59,\"0\"],[0.16,\"0\"],[0.5,\"0\"],[0.1,\"0\"],[1.61,\"0\"],[1.02,\"0\"],[0.35,\"0\"],[0.06,\"0\"],[4.55,\"0\"],[4.76,\"0\"],[7.37,\"0\"],[0.19,\"0\"],[3.29,\"0\"],[0.01,\"0\"],[4.43,\"0\"],[3.61,\"0\"],[0.07,\"0\"],[7.06,\"0\"],[0.11,\"0\"],[0.04,\"0\"],[0.05,\"0\"],[0.1,\"0\"],[0.17,\"0\"],[3.93,\"0\"],[0.49,\"0\"],[0.03,\"0\"],[0.07,\"0\"],[7.51,\"0\"],[3.37,\"0\"],[7.74,\"0\"],[1.03,\"0\"],[0.23,\"0\"],[6.99,\"0\"],[0.05,\"0\"],[5.22,\"0\"],[7.88,\"0\"],[5.14,\"0\"],[0.05,\"0\"],[0.52,\"0\"],[4.74,\"0\"],[4.46,\"0\"],[4.77,\"0\"],[4.66,\"0\"],[0.55,\"0\"],[0.07,\"0\"],[5.38,\"0\"],[0.2,\"0\"],[5.8,\"0\"],[0.24,\"0\"],[0.03,\"0\"],[0.11,\"0\"],[0.05,\"0\"],[5.3,\"0\"],[6.55,\"0\"],[3.99,\"0\"],[3.3,\"0\"],[8.1,\"0\"],[3.55,\"0\"],[6.69,\"0\"],[7.67,\"0\"],[0.12,\"0\"],[4.96,\"0\"],[5.81,\"0\"],[3.25,\"0\"],[0.02,\"0\"],[0.05,\"0\"],[3.93,\"0\"],[3.03,\"0\"],[0.34,\"0\"],[0.08,\"0\"],[0.22,\"0\"],[0.13,\"0\"],[0.03,\"0\"],[8.04,\"0\"],[2.61,\"0\"],[0.16,\"0\"],[0.23,\"0\"],[0.01,\"0\"],[0.11,\"0\"],[6.24,\"0\"],[3.73,\"0\"],[0.08,\"0\"],[7.17,\"0\"],[6.24,\"0\"],[1.36,\"0\"],[0.05,\"0\"],[2.84,\"0\"],[0.24,\"0\"],[0.05,\"0\"],[3.69,\"0\"],[4.57,\"0\"],[7.14,\"0\"],[0.08,\"0\"],[4.95,\"0\"],[0.37,\"0\"],[1.33,\"0\"],[1.54,\"0\"],[4.85,\"0\"],[0.08,\"0\"],[5.34,\"0\"],[0.21,\"0\"],[7.09,\"0\"],[0.1,\"0\"],[3.23,\"0\"],[0.02,\"0\"],[0.15,\"0\"],[0.03,\"0\"],[2.23,\"0\"],[5.33,\"0\"],[4.96,\"0\"],[7.65,\"0\"],[0.19,\"0\"],[0.17,\"0\"],[5.42,\"0\"],[7.82,\"0\"],[2.66,\"0\"],[4.02,\"0\"],[0.1,\"0\"],[0.47,\"0\"],[0.01,\"0\"],[0.14,\"0\"],[0.19,\"0\"],[6.77,\"0\"],[1.59,\"0\"],[1.66,\"0\"],[0.43,\"0\"],[4.87,\"0\"],[0.02,\"0\"],[0.03,\"0\"],[6.52,\"0\"],[2.92,\"0\"],[1.92,\"0\"],[0.32,\"0\"],[0.24,\"0\"],[7.16,\"0\"],[4.42,\"0\"],[0.14,\"0\"],[0.07,\"0\"],[0.68,\"0\"],[5.33,\"0\"],[0.07,\"0\"],[3.11,\"0\"],[0.35,\"0\"],[0.5,\"0\"],[0.64,\"0\"],[0.04,\"0\"],[0.01,\"0\"],[4.83,\"0\"],[1.46,\"0\"],[6.43,\"0\"],[0.07,\"0\"],[6.49,\"0\"],[1.28,\"0\"],[0.1,\"0\"],[0.15,\"0\"],[4.24,\"0\"],[6.37,\"0\"],[0.5,\"0\"],[0.16,\"0\"],[0.4,\"0\"],[1.68,\"0\"],[0.44,\"0\"],[0.1,\"0\"],[0.01,\"0\"],[0.14,\"0\"],[0.36,\"0\"],[0.13,\"0\"],[6.23,\"0\"],[0.44,\"0\"],[5.8,\"0\"],[3.09,\"0\"],[0.23,\"0\"],[5.4,\"0\"],[0.07,\"0\"],[0.15,\"0\"],[6.29,\"0\"],[0.09,\"0\"],[6.53,\"0\"],[4.0,\"0\"],[0.11,\"0\"],[0.2,\"0\"],[3.41,\"0\"],[1.6,\"0\"],[0.03,\"0\"],[0.16,\"0\"],[4.96,\"0\"],[0.04,\"0\"],[7.37,\"0\"],[3.76,\"0\"],[0.04,\"0\"],[6.9,\"0\"],[0.48,\"0\"],[2.46,\"0\"],[2.25,\"0\"],[0.14,\"0\"],[4.07,\"0\"],[0.09,\"0\"],[0.49,\"0\"],[6.27,\"0\"],[0.07,\"0\"],[0.2,\"0\"],[0.39,\"0\"],[0.19,\"0\"],[4.24,\"0\"],[0.48,\"0\"],[7.81,\"0\"],[0.0,\"0\"],[0.0,\"0\"],[0.17,\"0\"],[0.26,\"0\"],[0.29,\"0\"],[2.69,\"0\"],[3.21,\"0\"],[0.01,\"0\"],[2.97,\"0\"],[0.02,\"0\"],[2.03,\"0\"],[4.42,\"0\"],[5.63,\"0\"],[0.11,\"0\"],[0.02,\"0\"],[1.63,\"0\"],[1.81,\"0\"],[0.08,\"0\"],[6.43,\"0\"],[2.7,\"0\"],[0.48,\"0\"],[4.6,\"0\"],[0.37,\"0\"],[4.12,\"0\"],[0.24,\"0\"],[0.08,\"0\"],[0.0,\"0\"],[3.8,\"0\"],[0.02,\"0\"],[2.87,\"0\"],[0.89,\"0\"],[0.02,\"0\"],[0.3,\"0\"],[0.09,\"0\"],[2.28,\"0\"],[0.0,\"0\"],[6.81,\"0\"],[0.01,\"0\"],[0.09,\"0\"],[3.23,\"0\"],[0.87,\"0\"],[0.05,\"0\"],[0.37,\"0\"],[6.9,\"0\"],[0.04,\"0\"],[7.38,\"0\"],[1.05,\"0\"],[0.03,\"0\"],[0.01,\"0\"],[0.52,\"0\"],[0.21,\"0\"],[0.09,\"0\"],[0.32,\"0\"],[0.05,\"0\"],[0.62,\"0\"],[0.41,\"0\"],[0.18,\"0\"],[7.02,\"0\"],[0.43,\"0\"],[0.48,\"0\"],[0.54,\"0\"],[0.63,\"0\"],[1.68,\"0\"],[0.42,\"0\"],[1.49,\"0\"],[5.1,\"0\"],[5.24,\"0\"],[0.03,\"0\"],[6.28,\"0\"],[6.69,\"0\"],[0.06,\"0\"],[0.0,\"0\"],[1.17,\"0\"],[1.6,\"0\"],[0.03,\"0\"],[0.08,\"0\"],[8.01,\"0\"],[1.01,\"0\"],[0.45,\"0\"],[0.01,\"0\"],[0.65,\"0\"],[0.42,\"0\"],[7.02,\"0\"],[5.81,\"0\"],[6.12,\"0\"],[0.18,\"0\"],[5.71,\"0\"],[7.24,\"0\"],[4.06,\"0\"],[4.8,\"0\"],[0.57,\"0\"],[5.53,\"0\"],[0.48,\"0\"],[0.96,\"0\"],[2.03,\"0\"],[3.14,\"0\"],[0.08,\"0\"],[7.44,\"0\"],[5.23,\"0\"],[0.57,\"0\"],[0.07,\"0\"],[6.36,\"0\"],[0.18,\"0\"],[0.13,\"0\"],[2.22,\"0\"],[0.32,\"0\"],[4.05,\"0\"],[0.03,\"0\"],[0.09,\"0\"],[4.66,\"0\"],[5.34,\"0\"],[0.15,\"0\"],[0.05,\"0\"],[0.1,\"0\"],[0.13,\"0\"],[1.55,\"0\"],[0.03,\"0\"],[6.58,\"0\"],[6.36,\"0\"],[0.26,\"0\"],[0.14,\"0\"],[0.32,\"0\"],[4.22,\"0\"],[0.08,\"0\"],[0.15,\"0\"],[0.07,\"0\"],[0.1,\"0\"],[0.08,\"0\"],[0.33,\"0\"],[0.04,\"0\"],[0.06,\"0\"],[6.29,\"0\"],[0.45,\"0\"],[0.02,\"0\"],[6.2,\"0\"],[2.66,\"0\"],[2.73,\"0\"],[0.04,\"0\"],[7.36,\"0\"],[6.64,\"0\"],[1.21,\"0\"],[0.02,\"0\"],[0.02,\"0\"],[7.94,\"0\"],[8.5,\"0\"],[0.05,\"0\"],[0.1,\"0\"],[5.28,\"0\"],[0.23,\"0\"],[3.84,\"0\"],[7.12,\"0\"],[0.08,\"0\"],[8.02,\"0\"],[1.37,\"0\"],[0.24,\"0\"],[5.27,\"0\"],[0.12,\"0\"],[0.26,\"0\"],[0.96,\"0\"],[0.05,\"0\"],[5.73,\"0\"],[0.04,\"0\"],[7.41,\"0\"],[0.02,\"0\"],[0.52,\"0\"],[0.04,\"0\"],[0.05,\"0\"],[0.02,\"0\"],[1.56,\"0\"],[0.57,\"0\"],[5.05,\"0\"],[3.79,\"0\"],[0.05,\"0\"],[0.59,\"0\"],[4.79,\"0\"],[0.5,\"0\"],[0.12,\"0\"],[6.22,\"0\"],[2.38,\"0\"],[4.36,\"0\"],[0.05,\"0\"],[0.07,\"0\"],[0.11,\"0\"],[0.23,\"0\"],[1.28,\"0\"],[2.16,\"0\"],[4.44,\"0\"],[2.95,\"0\"],[4.85,\"0\"],[0.07,\"0\"],[0.07,\"0\"],[0.02,\"0\"],[6.19,\"0\"],[0.0,\"0\"],[0.0,\"0\"],[0.07,\"0\"],[0.02,\"0\"],[4.46,\"0\"],[0.08,\"0\"],[0.14,\"0\"],[0.01,\"0\"],[0.5,\"0\"],[0.04,\"0\"],[5.03,\"0\"],[2.58,\"0\"],[0.05,\"0\"],[4.92,\"0\"],[6.26,\"0\"],[3.73,\"0\"],[0.11,\"0\"],[3.03,\"0\"],[0.09,\"0\"],[7.29,\"0\"],[7.43,\"0\"],[6.44,\"0\"],[0.09,\"0\"],[0.02,\"0\"],[3.74,\"0\"],[4.18,\"0\"],[0.3,\"0\"],[0.15,\"0\"],[6.47,\"0\"],[0.45,\"0\"],[4.93,\"0\"],[0.06,\"0\"],[3.3,\"0\"],[0.24,\"0\"],[8.33,\"0\"],[7.64,\"0\"],[0.04,\"0\"],[0.02,\"0\"],[3.86,\"0\"],[0.17,\"0\"],[0.43,\"0\"],[0.12,\"0\"],[0.01,\"0\"],[0.06,\"0\"],[7.17,\"0\"],[4.81,\"0\"],[0.04,\"0\"],[0.09,\"0\"],[0.23,\"0\"],[1.11,\"0\"],[3.48,\"0\"],[0.11,\"0\"],[0.09,\"0\"],[0.11,\"0\"],[0.07,\"0\"],[5.3,\"0\"],[0.53,\"0\"],[0.04,\"0\"],[0.24,\"0\"],[0.11,\"0\"],[0.06,\"0\"],[3.14,\"0\"],[1.57,\"0\"],[6.5,\"0\"],[0.56,\"0\"],[7.46,\"0\"],[0.02,\"0\"],[0.45,\"0\"],[0.15,\"0\"],[0.15,\"0\"],[3.67,\"0\"],[6.52,\"0\"],[3.14,\"0\"],[0.03,\"0\"],[3.48,\"0\"],[4.57,\"0\"],[7.57,\"0\"],[0.04,\"0\"],[1.36,\"0\"],[0.17,\"0\"],[1.59,\"0\"],[6.86,\"0\"],[5.54,\"0\"],[0.46,\"0\"],[5.07,\"0\"],[3.76,\"0\"],[0.13,\"0\"],[0.07,\"0\"],[0.29,\"0\"],[0.02,\"0\"],[1.63,\"0\"],[0.29,\"0\"],[6.45,\"0\"],[2.89,\"0\"],[2.92,\"0\"],[0.05,\"0\"],[6.77,\"0\"],[0.09,\"0\"],[0.08,\"0\"],[6.06,\"0\"],[0.02,\"0\"],[0.46,\"0\"],[5.81,\"0\"],[0.02,\"0\"],[6.12,\"0\"],[0.1,\"0\"],[3.49,\"0\"],[7.71,\"0\"],[4.12,\"0\"],[3.03,\"0\"],[6.21,\"0\"],[0.04,\"0\"],[0.0,\"0\"],[0.48,\"0\"],[0.02,\"0\"],[0.15,\"0\"],[0.05,\"0\"],[0.15,\"0\"],[3.98,\"0\"]],\"hovertemplate\":\"is_safe=%{customdata[1]}<br>aluminium=%{x}<br>cadmium=%{y}<br>perchlorate=%{z}<br>chloramine=%{customdata[0]}<extra></extra>\",\"legendgroup\":\"0\",\"marker\":{\"color\":\"#636EFA\",\"symbol\":\"circle\",\"size\":2},\"mode\":\"markers\",\"name\":\"0\",\"scene\":\"scene\",\"showlegend\":true,\"x\":[0.02,2.29,0.08,0.2,0.01,0.05,0.07,0.09,0.06,0.01,0.02,0.02,0.1,0.06,0.07,0.01,0.08,0.07,0.12,0.04,0.03,0.02,0.02,3.08,0.0,0.0,1.13,0.05,1.16,2.69,0.92,0.1,0.09,0.02,0.1,0.07,0.08,0.82,0.06,0.02,0.08,0.05,0.01,4.72,0.07,0.03,1.33,4.49,0.08,0.05,0.06,0.01,0.17,0.31,0.01,0.08,0.57,4.56,0.07,4.12,0.01,0.08,0.08,0.06,0.04,0.28,4.38,0.0,0.04,3.61,0.0,0.08,0.98,0.15,0.01,0.18,0.21,0.03,0.02,0.1,0.1,0.01,0.83,0.1,0.02,0.08,0.1,0.1,0.21,0.03,0.04,0.06,0.08,0.05,0.03,0.05,0.09,0.84,0.09,3.05,4.37,0.01,0.05,0.09,3.36,0.01,0.09,1.08,0.06,2.66,0.12,0.07,0.54,0.2,0.1,0.02,0.04,0.05,0.05,0.04,0.04,0.2,0.09,0.07,0.02,0.05,0.16,0.05,0.08,0.07,4.08,0.09,0.1,0.1,0.09,0.02,0.07,0.01,0.0,0.17,0.05,0.13,0.02,0.04,2.34,0.08,0.04,0.07,0.1,2.41,0.06,0.25,1.9,0.02,0.94,1.19,0.0,0.17,0.06,0.06,2.96,0.09,2.26,3.75,0.07,4.18,0.11,0.05,3.41,0.06,0.06,0.02,0.04,0.07,0.09,0.09,0.03,3.93,3.08,0.85,0.09,0.04,5.03,0.1,0.01,0.06,0.07,0.03,0.0,0.05,0.02,0.06,0.07,1.88,0.04,4.68,3.97,0.06,0.28,0.06,0.06,0.01,0.03,0.01,0.09,4.36,0.07,0.03,0.0,4.98,1.17,0.09,0.07,0.06,0.08,0.37,2.13,0.18,0.07,4.93,2.66,0.07,0.08,0.01,0.07,0.01,0.03,0.07,0.1,0.2,0.35,0.04,0.08,0.1,0.04,0.02,0.05,0.08,0.08,0.01,4.26,0.02,0.07,0.01,0.1,1.75,0.08,0.02,0.03,0.24,3.76,0.09,0.07,0.63,0.04,0.03,0.06,0.18,0.06,0.01,0.09,0.01,0.08,0.09,0.37,0.09,1.82,0.01,0.07,0.02,0.12,0.12,0.05,0.17,0.09,0.01,0.03,0.02,0.04,0.07,0.01,0.01,0.81,3.8,4.18,0.04,0.01,0.01,0.19,0.03,2.1,0.09,2.62,0.06,0.1,2.88,0.05,0.31,0.23,0.06,0.05,0.03,0.04,0.01,0.02,1.59,0.01,4.4,0.02,0.05,0.05,0.04,0.02,0.09,0.05,0.02,0.07,0.02,3.05,0.02,1.86,0.02,0.04,0.08,0.14,0.08,0.02,0.04,0.1,0.11,0.09,0.09,0.01,0.04,0.08,0.09,0.09,1.73,2.99,0.03,0.05,0.05,0.05,0.04,0.05,3.57,0.08,2.29,0.04,0.03,0.06,0.17,0.09,1.21,0.02,0.02,0.34,0.05,3.36,0.08,2.52,1.8,3.09,0.02,0.01,0.04,0.02,4.56,0.05,0.05,0.06,0.06,0.03,2.67,1.06,0.05,0.29,0.03,0.06,0.07,0.05,0.05,0.1,0.05,0.44,0.04,0.05,0.0,0.06,0.02,0.1,0.26,0.07,0.06,0.13,0.01,0.06,0.1,0.09,0.4,0.05,0.05,0.1,3.14,0.02,0.03,0.03,0.04,0.06,3.08,0.05,0.39,0.09,0.07,0.06,0.01,0.06,3.87,0.04,0.08,0.08,0.12,0.07,1.56,0.04,0.1,4.99,0.09,0.08,4.84,4.3,0.08,3.13,0.78,2.22,0.05,1.13,0.04,0.06,2.34,0.1,0.07,0.09,0.04,0.03,0.04,0.01,0.11,0.1,0.15,0.08,0.43,4.58,0.03,0.1,0.04,1.46,0.25,0.08,0.03,0.09,0.2,0.02,0.09,0.09,0.03,0.09,0.03,0.03,0.09,0.01,0.08,0.03,1.91,0.08,0.06,0.11,4.56,0.06,0.08,2.64,0.02,0.04,2.78,0.05,2.59,0.02,0.08,0.06,2.25,0.04,3.49,0.09,0.36,0.01,4.19,0.08,0.74,0.09,0.09,0.07,0.0,1.74,2.79,0.05,0.05,0.05,1.37,0.01,1.72,0.03,0.06,0.04,0.08,0.01,0.0,1.39,0.01,0.0,0.09,0.05,0.01,0.06,0.39,0.07,0.0,0.08,0.83,0.02,0.01,0.04,0.07,0.04,0.05,0.07,3.51,0.01,0.03,0.07,0.03,0.07,0.04,4.11,0.04,0.03,0.11,2.36,0.04,0.09,1.01,0.08,0.07,0.02,0.07,0.01,0.08,0.08,0.1,0.05,0.01,0.02,0.06,0.07,0.04,0.21,0.04,1.13,0.08,0.04,0.09,0.07,0.03,0.13,0.09,0.07,0.12,2.28,0.05,0.05,0.07,0.08,0.02,3.07,0.05,0.01,0.04,0.38,0.37,0.09,0.03,0.07,0.09,0.05,0.01,0.02,0.01,0.02,1.01,0.08,3.03,0.05,0.01,0.01,0.1,0.08,0.05,0.01,0.09,0.01,0.06,0.27,2.01,0.08,0.03,0.06,1.8,0.22,0.06,0.04,0.77,0.01,0.08,0.07,1.57,0.07,0.09,0.08,0.1,0.08,0.01,0.07,0.1,4.69,0.07,3.3,0.07,0.29,0.1,0.02,1.84,0.04,0.07,0.06,0.06,0.07,0.0,0.94,0.01,0.01,0.0,0.06,0.08,0.04,0.08,0.04,0.07,0.04,0.01,0.06,1.75,0.07,0.28,3.42,0.06,0.05,0.25,0.22,0.09,0.11,3.11,0.05,0.06,0.08,2.28,0.04,0.06,4.41,0.03,0.08,0.01,0.31,0.06,3.63,1.08,1.53,0.09,0.07,0.03,0.03,1.37,0.14,0.29,1.75,0.18,3.04,0.1,0.09,0.0,0.18,0.1,0.06,3.08,0.06,0.07,0.02,0.21,0.06,0.07,0.0,0.1,2.45,0.09,0.01,0.04,0.05,3.65,0.05,0.01,4.46,0.01,0.09,0.06,0.0,0.02,0.07,0.02,0.04,0.06,0.01,0.0,0.02,0.03,0.08,0.06,0.02,0.07,1.95,0.01,0.07,3.68,1.74,0.0,0.06,0.1,0.05,0.08,0.09,3.53,0.07,0.02,0.03,0.03,0.39,0.08,0.04,0.18,0.05,0.06,0.18,0.04,0.05,0.03,0.09,0.0,0.04,0.1,0.07,0.07,0.07,0.1,0.18,0.01,0.07,0.1,0.06,4.18,0.1,0.01,4.23,0.06,0.1,0.07,0.09,0.04,2.36,0.01,0.09,0.18,0.06,0.07,0.08,0.02,0.07,0.04,0.04,0.09,0.05,1.27,0.01,0.01,0.01,0.04,0.01,0.03,0.99,0.1,4.77,0.06,0.08,0.06,0.05,0.09,0.07,4.37,0.34,0.08,0.05,0.04,0.01,0.02,0.02,2.9,0.0,0.83,0.04,0.06,0.05,0.03,0.99,0.02,0.07,0.14,0.02,0.11,0.08,0.1,0.04,0.29,0.06,0.06,0.02,0.1,3.76,0.02,0.07,0.02,0.03,0.07,0.09,0.09,0.07,0.04,0.08,0.09,0.05,3.07,0.14,0.3,4.84,0.04,0.01,0.05,0.1,0.06,0.04,0.05,0.03,2.77,0.02,1.51,0.01,4.2,0.08,0.0,4.04,2.74,0.1,0.35,0.04,0.0,0.03,0.08,0.05,0.09,0.08,0.06,0.21,0.06,0.01,0.59,0.02,0.09,1.48,0.04,0.03,0.02,0.02,0.05,0.09,0.18,0.09,1.57,0.03,0.04,0.03,0.09,0.05,0.01,0.1,0.08,0.02,0.32],\"y\":[0.07,0.08,0.11,0.06,0.1,0.004,0.06,0.06,0.05,0.13,0.03,0.08,0.07,0.0,0.07,0.003,0.1,0.07,0.11,0.13,0.09,0.07,0.04,0.004,0.01,0.1,0.03,0.04,0.007,0.03,0.05,0.04,0.02,0.1,0.04,0.05,0.01,0.01,0.001,0.01,0.001,0.06,0.002,0.08,0.05,0.05,0.07,0.12,0.09,0.02,0.06,0.003,0.002,0.03,0.08,0.0,0.06,0.008,0.02,0.002,0.07,0.005,0.03,0.09,0.04,0.07,0.1,0.02,0.09,0.05,0.09,0.04,0.07,0.007,0.008,0.12,0.001,0.005,0.0,0.1,0.09,0.01,0.001,0.04,0.03,0.01,0.0,0.05,0.12,0.07,0.04,0.005,0.008,0.06,0.07,0.01,0.06,0.09,0.01,0.03,0.13,0.09,0.06,0.09,0.01,0.06,0.01,0.003,0.03,0.01,0.005,0.02,0.11,0.02,0.004,0.07,0.09,0.09,0.06,0.12,0.005,0.009,0.05,0.02,0.05,0.002,0.09,0.05,0.07,0.07,0.007,0.07,0.09,0.06,0.09,0.1,0.05,0.05,0.03,0.008,0.001,0.003,0.03,0.08,0.0,0.09,0.01,0.07,0.005,0.04,0.05,0.04,0.12,0.02,0.008,0.07,0.08,0.04,0.04,0.08,0.001,0.0,0.06,0.002,0.05,0.003,0.002,0.04,0.02,0.03,0.1,0.03,0.06,0.001,0.01,0.01,0.0,0.004,0.001,0.05,0.09,0.1,0.04,0.06,0.03,0.07,0.09,0.12,0.01,0.007,0.08,0.03,0.05,0.12,0.1,0.001,0.08,0.005,0.07,0.005,0.02,0.001,0.07,0.09,0.03,0.04,0.01,0.05,0.02,0.09,0.04,0.08,0.06,0.02,0.09,0.1,0.04,0.004,0.03,0.002,0.005,0.05,0.06,0.02,0.09,0.008,0.12,0.07,0.01,0.009,0.06,0.1,0.05,0.04,0.07,0.003,0.05,0.02,0.003,0.005,0.12,0.009,0.005,0.008,0.11,0.005,0.11,0.06,0.09,0.04,0.04,0.006,0.06,0.12,0.03,0.04,0.008,0.12,0.007,0.008,0.01,0.03,0.06,0.001,0.002,0.09,0.01,0.06,0.003,0.05,0.13,0.001,0.09,0.03,0.04,0.1,0.07,0.01,0.04,0.01,0.08,0.04,0.02,0.1,0.01,0.03,0.001,0.0,0.13,0.005,0.09,0.05,0.006,0.03,0.05,0.05,0.09,0.009,0.004,0.05,0.08,0.02,0.09,0.003,0.08,0.06,0.1,0.03,0.03,0.006,0.09,0.09,0.01,0.003,0.06,0.01,0.06,0.06,0.03,0.01,0.11,0.006,0.01,0.09,0.1,0.04,0.006,0.01,0.06,0.001,0.1,0.06,0.002,0.03,0.06,0.03,0.07,0.002,0.06,0.03,0.06,0.1,0.03,0.04,0.08,0.07,0.05,0.02,0.0,0.005,0.05,0.005,0.03,0.06,0.02,0.09,0.007,0.08,0.02,0.004,0.04,0.09,0.002,0.05,0.09,0.08,0.03,0.008,0.05,0.01,0.08,0.01,0.07,0.12,0.01,0.08,0.02,0.0,0.04,0.003,0.05,0.001,0.06,0.04,0.03,0.01,0.1,0.005,0.07,0.003,0.06,0.001,0.008,0.08,0.004,0.07,0.09,0.05,0.01,0.01,0.08,0.05,0.005,0.05,0.006,0.09,0.03,0.06,0.02,0.004,0.03,0.007,0.07,0.02,0.02,0.06,0.0,0.06,0.01,0.09,0.06,0.001,0.001,0.09,0.001,0.05,0.01,0.06,0.005,0.004,0.008,0.07,0.1,0.003,0.09,0.002,0.03,0.06,0.06,0.08,0.09,0.04,0.0,0.09,0.04,0.06,0.01,0.08,0.007,0.007,0.04,0.005,0.008,0.07,0.08,0.07,0.08,0.006,0.02,0.09,0.008,0.09,0.05,0.05,0.09,0.05,0.02,0.05,0.02,0.09,0.04,0.07,0.03,0.008,0.07,0.07,0.007,0.003,0.002,0.0,0.11,0.06,0.02,0.11,0.004,0.009,0.03,0.001,0.02,0.001,0.02,0.13,0.06,0.002,0.07,0.006,0.02,0.002,0.04,0.06,0.07,0.01,0.001,0.03,0.004,0.03,0.09,0.002,0.005,0.07,0.02,0.1,0.02,0.09,0.01,0.001,0.005,0.01,0.03,0.02,0.004,0.09,0.04,0.07,0.007,0.09,0.08,0.001,0.003,0.002,0.07,0.07,0.002,0.05,0.05,0.003,0.07,0.005,0.09,0.06,0.04,0.11,0.008,0.08,0.08,0.003,0.004,0.08,0.04,0.008,0.003,0.05,0.03,0.04,0.001,0.09,0.02,0.07,0.03,0.05,0.02,0.008,0.02,0.02,0.006,0.08,0.02,0.03,0.04,0.002,0.04,0.009,0.1,0.07,0.07,0.003,0.11,0.06,0.06,0.005,0.02,0.006,0.12,0.08,0.003,0.05,0.002,0.05,0.02,0.001,0.04,0.01,0.005,0.07,0.09,0.04,0.06,0.008,0.09,0.005,0.01,0.07,0.08,0.06,0.05,0.008,0.007,0.08,0.002,0.09,0.01,0.002,0.05,0.07,0.01,0.13,0.005,0.01,0.08,0.002,0.06,0.05,0.01,0.03,0.02,0.08,0.07,0.06,0.07,0.003,0.002,0.09,0.08,0.06,0.13,0.04,0.001,0.02,0.1,0.07,0.01,0.05,0.02,0.007,0.01,0.09,0.04,0.0,0.02,0.0,0.04,0.08,0.02,0.0,0.09,0.03,0.07,0.02,0.0,0.12,0.07,0.06,0.13,0.02,0.08,0.004,0.005,0.02,0.1,0.06,0.04,0.06,0.08,0.11,0.07,0.01,0.02,0.001,0.07,0.03,0.007,0.09,0.008,0.003,0.06,0.02,0.12,0.001,0.006,0.11,0.003,0.05,0.12,0.08,0.11,0.11,0.02,0.09,0.03,0.08,0.09,0.12,0.0,0.1,0.04,0.001,0.01,0.07,0.02,0.1,0.07,0.05,0.04,0.09,0.0,0.02,0.09,0.004,0.05,0.1,0.09,0.04,0.01,0.07,0.06,0.02,0.08,0.02,0.13,0.05,0.05,0.004,0.003,0.03,0.07,0.1,0.0,0.05,0.006,0.004,0.05,0.09,0.01,0.1,0.07,0.03,0.0,0.005,0.05,0.11,0.03,0.02,0.07,0.03,0.0,0.009,0.07,0.05,0.08,0.08,0.07,0.02,0.09,0.03,0.05,0.07,0.05,0.0,0.11,0.08,0.03,0.007,0.02,0.01,0.004,0.003,0.06,0.001,0.11,0.001,0.0,0.02,0.07,0.08,0.004,0.06,0.05,0.008,0.1,0.09,0.01,0.06,0.09,0.06,0.06,0.1,0.03,0.07,0.02,0.06,0.03,0.09,0.05,0.1,0.008,0.09,0.11,0.005,0.07,0.1,0.04,0.08,0.01,0.05,0.02,0.0,0.02,0.09,0.001,0.06,0.07,0.003,0.08,0.07,0.05,0.01,0.04,0.03,0.007,0.05,0.0,0.03,0.08,0.08,0.04,0.09,0.04,0.12,0.005,0.09,0.0,0.1,0.002,0.009,0.07,0.06,0.06,0.08,0.09,0.03,0.01,0.0,0.09,0.08,0.03,0.001,0.01,0.03,0.13,0.09,0.09,0.09,0.03,0.05,0.04,0.03,0.07,0.06,0.003,0.007,0.05,0.002,0.06,0.03,0.02,0.13,0.07,0.008,0.11,0.05,0.03,0.09,0.03,0.12,0.05,0.002,0.001,0.04,0.09,0.05,0.07,0.02,0.005,0.1,0.07,0.03,0.02,0.006,0.0,0.005,0.02,0.03,0.004,0.001,0.02,0.03,0.03,0.09,0.07,0.06,0.08,0.006],\"z\":[6.6,11.79,35.07,25.8,8.13,27.85,1.77,50.97,0.47,7.41,10.85,51.71,16.55,1.8,4.82,54.96,3.49,9.99,27.52,32.69,1.9,0.13,4.16,51.83,5.23,17.87,10.55,39.24,44.45,41.07,27.45,5.97,0.02,7.12,2.43,0.41,2.89,31.79,29.51,51.07,14.24,4.59,31.62,15.27,0.81,11.27,24.15,11.63,3.09,2.52,19.51,30.91,37.72,26.23,8.53,0.09,26.29,31.89,3.06,56.24,4.27,22.76,2.22,0.42,3.56,53.09,57.08,2.1,3.23,24.15,36.99,8.27,33.05,23.26,30.09,0.41,4.51,24.13,2.34,1.88,0.4,1.45,44.91,0.52,4.65,4.49,0.14,6.6,35.04,0.4,0.06,57.74,13.9,1.7,3.21,3.7,0.44,10.72,2.15,36.25,37.51,0.65,1.1,0.84,12.35,5.17,0.41,53.85,1.13,12.99,35.13,0.48,33.81,3.06,33.95,10.7,19.06,1.88,0.31,13.78,58.17,17.89,37.65,5.36,7.48,36.57,25.74,2.57,6.51,3.36,56.44,0.68,1.24,25.1,0.78,0.08,55.99,0.42,0.18,26.54,15.47,56.32,3.58,3.23,36.58,2.78,0.31,3.79,51.58,30.39,1.53,21.01,0.37,5.39,43.79,41.22,58.27,2.62,0.75,45.68,44.08,3.09,46.17,31.08,0.71,46.26,14.67,28.74,29.68,6.14,8.67,9.12,4.5,15.26,2.02,7.38,0.86,55.41,46.12,43.72,0.24,1.64,47.79,1.85,9.24,16.14,1.11,7.7,0.17,28.03,3.19,6.16,2.49,16.78,7.84,41.09,11.68,10.24,53.09,57.74,0.15,40.33,0.45,3.42,2.56,5.93,5.25,1.47,0.28,17.75,3.92,3.21,51.13,3.78,7.38,19.71,41.22,52.76,0.38,56.99,30.98,1.04,10.24,3.18,0.3,17.54,48.8,32.94,1.83,17.89,42.8,0.76,3.11,13.47,0.19,46.26,0.61,0.02,13.32,13.93,53.9,7.69,22.0,30.09,36.84,57.87,15.35,5.16,0.55,14.94,27.71,32.51,0.98,23.38,5.06,4.71,26.8,30.22,30.36,6.7,11.06,2.81,2.46,58.4,48.66,2.08,33.08,7.14,53.85,0.31,3.66,6.36,2.98,23.39,7.59,1.64,1.54,4.3,2.65,4.06,1.43,0.6,52.77,29.52,45.18,0.28,42.49,8.49,23.92,21.38,25.34,0.47,35.48,3.56,2.58,31.16,10.53,31.78,23.35,2.62,0.38,0.24,7.07,54.96,0.45,5.79,11.09,46.31,0.18,48.88,2.31,9.95,2.29,55.81,2.03,4.3,0.83,6.9,36.25,0.5,33.56,14.16,0.13,0.9,13.1,1.64,33.02,43.09,1.85,29.85,0.39,0.08,56.76,0.4,0.12,4.06,5.73,59.31,18.24,1.24,0.2,2.11,1.43,3.31,0.18,20.16,1.85,40.71,0.31,0.54,2.17,3.43,2.56,46.96,5.03,0.11,22.9,12.95,44.89,23.58,15.93,8.13,56.34,5.42,0.31,3.74,0.39,53.06,0.59,3.28,45.68,4.93,3.21,7.64,48.79,12.95,48.79,3.36,0.13,53.85,33.74,15.47,2.12,39.24,50.05,49.41,10.22,14.49,0.78,55.86,0.4,57.49,29.55,0.47,20.28,1.41,5.18,1.47,31.21,34.36,10.62,2.63,36.52,48.89,33.02,0.9,32.79,0.18,38.45,51.83,8.09,52.36,1.09,0.49,4.84,12.12,1.8,40.54,0.31,7.38,1.34,6.36,54.7,55.13,6.02,3.35,27.53,0.08,6.87,57.4,50.04,3.69,14.26,30.91,40.35,28.76,10.55,1.24,4.04,18.77,7.84,1.99,3.42,2.53,10.26,2.57,50.29,41.47,33.56,27.63,8.27,52.7,25.62,58.29,0.46,14.08,58.27,19.09,2.03,4.97,49.97,53.95,10.6,7.51,0.48,3.5,2.03,58.78,55.88,10.61,4.87,0.25,0.74,40.0,59.41,11.15,15.81,31.67,53.92,2.19,48.06,2.21,0.04,57.56,11.39,38.05,0.24,25.15,0.11,49.83,33.84,10.74,0.17,28.71,2.77,29.38,5.6,49.41,4.97,0.42,1.48,0.19,58.18,23.68,27.56,3.58,0.58,43.63,42.34,0.5,51.04,0.86,0.26,9.41,0.18,8.65,55.57,4.97,51.39,8.7,40.12,0.34,8.36,24.97,0.77,39.5,0.04,44.91,55.86,56.76,0.49,9.71,28.03,25.85,0.1,23.36,0.63,21.38,6.93,1.74,10.56,25.27,50.19,1.18,9.47,47.74,45.34,0.28,1.44,50.28,24.09,0.13,0.42,13.14,44.54,9.47,4.94,6.12,0.21,3.99,1.41,12.9,5.14,6.26,9.67,2.55,51.32,3.49,1.76,46.36,2.59,3.13,19.98,1.09,2.56,32.08,47.65,2.04,10.4,44.05,3.41,33.02,46.55,0.15,15.52,1.66,5.61,22.3,0.34,38.6,0.95,2.02,44.92,2.33,3.33,4.49,0.46,50.28,7.39,48.78,0.05,0.3,6.62,4.94,1.41,13.74,22.42,2.05,51.47,0.22,47.29,56.76,36.78,2.74,0.96,57.2,11.97,4.62,1.18,36.42,2.52,53.03,4.39,26.73,8.77,3.01,7.81,33.48,0.25,55.27,35.76,3.71,33.27,0.62,36.6,4.06,37.64,5.62,6.23,45.48,48.97,5.76,0.11,26.43,11.14,36.99,49.1,0.23,1.95,0.63,3.07,5.7,4.8,9.77,4.64,7.36,3.85,35.23,0.13,1.48,3.22,7.25,51.66,6.6,31.42,47.56,14.78,9.05,49.56,42.57,0.38,0.17,53.45,47.65,1.69,4.62,23.1,31.48,2.66,0.3,30.95,2.24,39.03,53.85,38.93,0.1,54.75,7.24,0.8,48.62,27.31,17.64,1.48,55.59,31.88,36.84,0.09,12.31,16.31,5.29,1.4,33.39,0.77,0.05,53.96,30.79,37.78,5.31,2.1,40.78,17.64,0.4,10.31,0.09,3.18,22.86,1.25,21.68,8.05,0.22,5.34,0.4,59.56,0.71,4.6,7.29,0.28,0.87,7.41,9.62,2.04,38.74,13.3,3.5,10.59,8.15,44.72,1.49,30.29,58.63,46.5,5.36,0.18,57.75,31.67,0.99,3.09,49.23,1.43,8.7,3.19,4.6,36.53,40.83,6.73,27.48,3.1,7.06,55.59,4.51,17.88,0.35,9.01,11.3,1.36,2.04,9.67,2.56,11.17,5.29,41.09,33.01,0.39,0.16,29.45,46.26,0.36,53.35,35.04,51.02,3.5,3.8,1.09,3.84,45.34,54.1,0.5,41.04,37.91,0.92,3.3,2.93,36.61,3.07,7.95,4.93,0.16,6.05,2.7,1.02,0.3,2.03,1.72,3.29,44.03,2.27,32.6,10.24,59.41,10.42,43.97,2.61,33.99,56.52,27.35,1.85,6.68,29.86,42.49,0.39,8.19,54.05,0.62,57.54,0.1,40.8,0.66,45.08,57.11,1.4,2.56,26.21,4.37,32.97,3.79,2.24,1.18,55.8,25.89,0.33,3.16,2.69,32.4,48.67,7.57,0.34,1.41,0.07,50.47,8.62,11.14,6.73,5.08,6.64,48.11,49.24,4.62,31.82,29.26,3.82,0.26,2.54,5.77,38.52,38.73,48.11,1.54,55.98,36.55,37.78,1.49,53.92,7.08,11.43,18.85,20.83,0.82,21.38,53.97,1.61,1.45,3.66,3.95,13.86,1.41,46.13,41.37,18.68,0.15,18.81,1.23,0.09,58.17,0.29,1.95,12.52,6.28,13.03,3.09,57.74,11.43,26.73,48.83,7.51,0.35,2.61,0.62,0.34,4.18,0.42,2.1,26.53],\"type\":\"scatter3d\"},{\"customdata\":[[0.35,\"1\"],[5.28,\"1\"],[7.23,\"1\"],[2.67,\"1\"],[0.8,\"1\"],[3.14,\"1\"],[6.4,\"1\"],[0.1,\"1\"],[0.05,\"1\"],[0.7,\"1\"],[5.99,\"1\"],[1.94,\"1\"],[5.29,\"1\"],[7.78,\"1\"],[0.01,\"1\"],[4.57,\"1\"],[3.47,\"1\"],[3.74,\"1\"],[7.22,\"1\"],[2.55,\"1\"],[6.63,\"1\"],[5.87,\"1\"],[2.86,\"1\"],[4.0,\"1\"],[4.55,\"1\"],[4.94,\"1\"],[0.64,\"1\"],[2.9,\"1\"],[5.71,\"1\"],[0.22,\"1\"],[6.11,\"1\"],[0.68,\"1\"],[7.7,\"1\"],[7.97,\"1\"],[6.19,\"1\"],[0.9,\"1\"],[4.5,\"1\"],[0.88,\"1\"],[1.13,\"1\"],[3.85,\"1\"],[6.16,\"1\"],[7.06,\"1\"],[4.4,\"1\"],[4.89,\"1\"],[6.57,\"1\"],[2.15,\"1\"],[2.38,\"1\"],[4.77,\"1\"],[1.97,\"1\"],[3.4,\"1\"],[5.27,\"1\"],[3.35,\"1\"],[7.56,\"1\"],[0.13,\"1\"],[7.52,\"1\"],[3.57,\"1\"],[6.02,\"1\"],[1.12,\"1\"],[0.19,\"1\"],[1.85,\"1\"],[4.25,\"1\"],[2.38,\"1\"],[1.89,\"1\"],[4.59,\"1\"],[6.25,\"1\"],[5.22,\"1\"],[1.86,\"1\"],[7.37,\"1\"],[3.07,\"1\"],[2.89,\"1\"],[3.58,\"1\"],[6.75,\"1\"],[7.97,\"1\"],[1.33,\"1\"],[0.63,\"1\"],[5.07,\"1\"],[4.13,\"1\"],[2.52,\"1\"],[3.71,\"1\"],[1.87,\"1\"],[4.3,\"1\"],[2.26,\"1\"],[3.42,\"1\"],[5.65,\"1\"],[5.72,\"1\"],[0.89,\"1\"],[1.57,\"1\"],[2.74,\"1\"],[0.79,\"1\"],[1.69,\"1\"],[6.21,\"1\"],[1.07,\"1\"],[3.95,\"1\"],[7.59,\"1\"],[0.98,\"1\"],[4.95,\"1\"],[0.8,\"1\"],[2.45,\"1\"],[1.36,\"1\"],[6.5,\"1\"],[6.75,\"1\"],[3.61,\"1\"],[0.81,\"1\"],[4.06,\"1\"],[4.42,\"1\"],[0.09,\"1\"],[3.26,\"1\"],[0.85,\"1\"],[7.12,\"1\"],[3.69,\"1\"],[3.41,\"1\"],[3.1,\"1\"],[1.53,\"1\"],[2.4,\"1\"],[3.08,\"1\"],[7.91,\"1\"],[0.07,\"1\"],[5.48,\"1\"],[0.67,\"1\"],[3.91,\"1\"],[4.95,\"1\"],[0.4,\"1\"],[4.69,\"1\"],[1.49,\"1\"],[2.91,\"1\"],[0.88,\"1\"],[6.8,\"1\"],[7.51,\"1\"],[5.92,\"1\"],[5.83,\"1\"],[5.17,\"1\"],[6.13,\"1\"],[4.36,\"1\"],[5.25,\"1\"],[7.24,\"1\"],[4.54,\"1\"],[1.44,\"1\"],[0.0,\"1\"],[7.33,\"1\"],[5.99,\"1\"],[4.62,\"1\"],[3.62,\"1\"],[5.23,\"1\"],[4.57,\"1\"],[6.69,\"1\"],[6.52,\"1\"],[0.83,\"1\"],[6.93,\"1\"],[5.34,\"1\"],[2.84,\"1\"],[6.11,\"1\"],[3.45,\"1\"],[3.71,\"1\"],[2.1,\"1\"],[1.83,\"1\"],[6.81,\"1\"],[7.02,\"1\"],[7.96,\"1\"],[7.07,\"1\"],[6.55,\"1\"],[6.76,\"1\"],[3.5,\"1\"],[6.99,\"1\"],[1.37,\"1\"],[3.47,\"1\"],[7.17,\"1\"],[6.68,\"1\"],[1.48,\"1\"],[1.09,\"1\"],[1.87,\"1\"],[4.6,\"1\"],[5.67,\"1\"],[3.74,\"1\"],[5.06,\"1\"],[0.75,\"1\"],[0.76,\"1\"],[1.77,\"1\"],[3.61,\"1\"],[1.63,\"1\"],[5.61,\"1\"],[3.33,\"1\"],[6.56,\"1\"],[3.04,\"1\"],[1.26,\"1\"],[5.95,\"1\"],[4.38,\"1\"],[7.43,\"1\"],[0.71,\"1\"],[6.03,\"1\"],[3.0,\"1\"],[3.25,\"1\"],[4.79,\"1\"],[5.23,\"1\"],[3.49,\"1\"],[3.48,\"1\"],[6.66,\"1\"],[6.84,\"1\"],[7.58,\"1\"],[3.95,\"1\"],[2.2,\"1\"],[2.11,\"1\"],[4.78,\"1\"],[2.37,\"1\"],[0.19,\"1\"],[4.22,\"1\"],[1.91,\"1\"],[5.4,\"1\"],[2.21,\"1\"],[1.42,\"1\"],[4.84,\"1\"],[3.7,\"1\"],[6.89,\"1\"],[7.18,\"1\"],[4.02,\"1\"],[6.12,\"1\"],[7.12,\"1\"],[0.1,\"1\"],[1.27,\"1\"],[0.83,\"1\"],[7.65,\"1\"],[3.67,\"1\"],[2.13,\"1\"],[2.5,\"1\"],[5.98,\"1\"],[4.76,\"1\"],[6.98,\"1\"],[3.23,\"1\"],[1.87,\"1\"],[7.18,\"1\"],[4.93,\"1\"],[3.03,\"1\"],[5.6,\"1\"],[1.8,\"1\"],[3.05,\"1\"],[1.7,\"1\"],[7.51,\"1\"],[0.73,\"1\"],[7.44,\"1\"],[6.37,\"1\"],[4.52,\"1\"],[4.99,\"1\"],[4.41,\"1\"],[5.66,\"1\"],[6.17,\"1\"],[1.54,\"1\"],[4.34,\"1\"],[3.31,\"1\"],[2.2,\"1\"],[7.38,\"1\"],[4.86,\"1\"],[4.78,\"1\"],[4.16,\"1\"],[1.1,\"1\"],[2.05,\"1\"],[1.68,\"1\"],[1.75,\"1\"],[5.23,\"1\"],[7.93,\"1\"],[3.09,\"1\"],[7.24,\"1\"],[1.41,\"1\"],[3.01,\"1\"],[6.9,\"1\"],[3.15,\"1\"],[6.06,\"1\"],[5.3,\"1\"],[4.33,\"1\"],[3.23,\"1\"],[0.26,\"1\"],[7.25,\"1\"],[4.62,\"1\"],[5.98,\"1\"],[3.67,\"1\"],[4.49,\"1\"],[1.19,\"1\"],[3.66,\"1\"],[7.17,\"1\"],[2.2,\"1\"],[6.12,\"1\"],[4.91,\"1\"],[5.38,\"1\"],[7.83,\"1\"],[6.44,\"1\"],[5.61,\"1\"],[2.59,\"1\"],[2.99,\"1\"],[1.64,\"1\"],[5.42,\"1\"],[4.86,\"1\"],[0.63,\"1\"],[5.17,\"1\"],[0.45,\"1\"],[4.08,\"1\"],[4.81,\"1\"],[0.17,\"1\"],[6.1,\"1\"],[1.77,\"1\"],[6.42,\"1\"],[0.88,\"1\"],[4.27,\"1\"],[6.95,\"1\"],[3.99,\"1\"],[7.96,\"1\"],[2.38,\"1\"],[2.83,\"1\"],[2.46,\"1\"],[7.78,\"1\"],[2.16,\"1\"],[2.83,\"1\"],[3.54,\"1\"],[4.57,\"1\"],[3.15,\"1\"],[4.71,\"1\"],[6.48,\"1\"],[2.73,\"1\"],[0.06,\"1\"],[4.36,\"1\"],[7.79,\"1\"],[1.43,\"1\"],[1.73,\"1\"],[6.89,\"1\"],[0.81,\"1\"],[6.93,\"1\"],[5.85,\"1\"],[5.14,\"1\"],[6.71,\"1\"],[1.78,\"1\"],[5.24,\"1\"],[5.89,\"1\"],[1.23,\"1\"],[5.47,\"1\"],[3.29,\"1\"],[4.07,\"1\"],[7.59,\"1\"],[4.18,\"1\"],[0.81,\"1\"],[0.71,\"1\"],[5.57,\"1\"],[7.3,\"1\"],[4.16,\"1\"],[4.11,\"1\"],[3.42,\"1\"],[3.51,\"1\"],[7.21,\"1\"],[6.26,\"1\"],[4.51,\"1\"],[1.74,\"1\"],[4.75,\"1\"],[6.81,\"1\"],[0.12,\"1\"],[2.4,\"1\"],[4.52,\"1\"],[6.99,\"1\"],[7.17,\"1\"],[1.22,\"1\"],[6.13,\"1\"],[4.1,\"1\"],[1.04,\"1\"],[2.29,\"1\"],[5.67,\"1\"],[3.31,\"1\"],[4.74,\"1\"],[0.21,\"1\"],[0.6,\"1\"],[2.16,\"1\"],[0.4,\"1\"],[1.67,\"1\"],[0.2,\"1\"],[5.35,\"1\"],[1.09,\"1\"],[3.41,\"1\"],[3.04,\"1\"],[2.14,\"1\"],[6.16,\"1\"],[6.0,\"1\"],[1.84,\"1\"],[0.23,\"1\"],[4.02,\"1\"],[3.96,\"1\"],[5.68,\"1\"],[5.12,\"1\"],[0.78,\"1\"],[1.36,\"1\"],[4.7,\"1\"],[4.56,\"1\"],[3.75,\"1\"],[5.1,\"1\"],[1.84,\"1\"],[7.43,\"1\"],[7.81,\"1\"],[1.8,\"1\"],[1.58,\"1\"],[3.05,\"1\"],[2.5,\"1\"],[7.24,\"1\"],[6.85,\"1\"],[1.81,\"1\"],[4.26,\"1\"],[4.85,\"1\"],[6.53,\"1\"],[0.0,\"1\"],[2.71,\"1\"],[2.98,\"1\"],[2.83,\"1\"],[6.13,\"1\"],[2.34,\"1\"],[3.41,\"1\"],[5.0,\"1\"],[0.08,\"1\"],[5.21,\"1\"],[1.51,\"1\"],[3.96,\"1\"],[2.52,\"1\"],[3.78,\"1\"],[0.32,\"1\"],[1.57,\"1\"],[3.17,\"1\"],[3.21,\"1\"],[4.58,\"1\"],[2.41,\"1\"],[5.73,\"1\"],[6.21,\"1\"],[6.07,\"1\"],[0.64,\"1\"],[1.53,\"1\"],[0.48,\"1\"],[5.88,\"1\"],[4.55,\"1\"],[2.94,\"1\"],[6.12,\"1\"],[2.01,\"1\"],[2.55,\"1\"],[3.33,\"1\"],[3.29,\"1\"],[7.85,\"1\"],[6.2,\"1\"],[7.99,\"1\"],[2.12,\"1\"],[6.86,\"1\"],[4.77,\"1\"],[0.1,\"1\"],[5.42,\"1\"],[4.54,\"1\"],[4.43,\"1\"],[7.12,\"1\"],[0.73,\"1\"],[2.8,\"1\"],[2.51,\"1\"],[3.1,\"1\"],[6.5,\"1\"],[5.33,\"1\"],[7.78,\"1\"],[6.68,\"1\"],[5.21,\"1\"],[5.17,\"1\"],[2.37,\"1\"],[3.01,\"1\"],[3.16,\"1\"],[4.54,\"1\"],[4.24,\"1\"],[4.63,\"1\"],[7.86,\"1\"],[0.96,\"1\"],[6.78,\"1\"],[0.34,\"1\"],[6.07,\"1\"],[2.19,\"1\"],[2.35,\"1\"],[5.23,\"1\"],[4.24,\"1\"],[6.23,\"1\"],[4.39,\"1\"],[5.65,\"1\"],[6.26,\"1\"],[7.54,\"1\"],[3.33,\"1\"],[6.32,\"1\"],[6.83,\"1\"],[5.67,\"1\"],[2.03,\"1\"],[1.82,\"1\"],[6.25,\"1\"],[2.92,\"1\"],[7.52,\"1\"],[1.39,\"1\"],[6.92,\"1\"],[0.5,\"1\"],[6.36,\"1\"],[3.53,\"1\"],[6.5,\"1\"],[2.77,\"1\"],[1.9,\"1\"],[1.49,\"1\"],[0.7,\"1\"],[6.81,\"1\"],[3.82,\"1\"],[3.08,\"1\"],[5.71,\"1\"],[0.17,\"1\"],[4.93,\"1\"],[6.28,\"1\"],[3.98,\"1\"],[1.39,\"1\"],[2.32,\"1\"],[7.15,\"1\"],[6.79,\"1\"],[0.51,\"1\"],[1.55,\"1\"],[6.56,\"1\"],[5.68,\"1\"],[3.02,\"1\"],[3.21,\"1\"],[6.58,\"1\"],[6.14,\"1\"],[4.05,\"1\"],[1.65,\"1\"],[6.69,\"1\"],[7.74,\"1\"],[4.59,\"1\"],[1.45,\"1\"],[7.17,\"1\"],[1.41,\"1\"],[6.1,\"1\"],[5.79,\"1\"],[6.76,\"1\"],[3.07,\"1\"],[3.76,\"1\"],[6.97,\"1\"],[0.14,\"1\"],[5.1,\"1\"],[0.4,\"1\"],[1.11,\"1\"],[3.33,\"1\"],[6.09,\"1\"],[2.56,\"1\"],[5.6,\"1\"],[4.14,\"1\"],[4.47,\"1\"],[1.1,\"1\"],[2.56,\"1\"],[4.05,\"1\"],[6.43,\"1\"],[6.3,\"1\"],[7.34,\"1\"],[1.07,\"1\"],[3.09,\"1\"],[5.98,\"1\"],[0.57,\"1\"],[7.49,\"1\"],[7.37,\"1\"],[1.03,\"1\"],[7.72,\"1\"],[2.25,\"1\"],[5.64,\"1\"],[0.83,\"1\"],[0.11,\"1\"],[3.84,\"1\"],[5.66,\"1\"],[1.82,\"1\"],[5.54,\"1\"],[2.92,\"1\"],[1.02,\"1\"],[0.65,\"1\"],[1.77,\"1\"],[2.14,\"1\"],[1.45,\"1\"],[1.51,\"1\"],[2.54,\"1\"],[1.58,\"1\"],[1.36,\"1\"],[1.35,\"1\"],[5.83,\"1\"],[7.85,\"1\"],[4.96,\"1\"],[7.18,\"1\"],[5.87,\"1\"],[1.99,\"1\"],[0.51,\"1\"],[4.47,\"1\"],[7.93,\"1\"],[3.83,\"1\"],[1.96,\"1\"],[6.26,\"1\"],[1.18,\"1\"],[4.79,\"1\"],[3.7,\"1\"],[6.25,\"1\"],[4.37,\"1\"],[2.81,\"1\"],[7.66,\"1\"],[0.26,\"1\"],[1.9,\"1\"],[3.49,\"1\"],[3.35,\"1\"],[4.98,\"1\"],[0.41,\"1\"],[0.38,\"1\"],[4.49,\"1\"],[3.37,\"1\"],[7.67,\"1\"],[4.97,\"1\"],[6.39,\"1\"],[1.79,\"1\"],[5.42,\"1\"],[5.18,\"1\"],[2.47,\"1\"],[6.12,\"1\"],[4.08,\"1\"],[4.13,\"1\"],[1.89,\"1\"],[0.65,\"1\"],[6.6,\"1\"],[1.87,\"1\"],[1.78,\"1\"],[1.99,\"1\"],[7.42,\"1\"],[4.27,\"1\"],[2.96,\"1\"],[1.87,\"1\"],[4.4,\"1\"],[6.9,\"1\"],[4.01,\"1\"],[7.78,\"1\"],[7.93,\"1\"],[3.53,\"1\"],[3.16,\"1\"],[5.06,\"1\"],[1.19,\"1\"],[4.06,\"1\"],[4.18,\"1\"],[0.63,\"1\"],[0.46,\"1\"],[2.35,\"1\"],[5.09,\"1\"],[3.9,\"1\"],[7.43,\"1\"],[3.7,\"1\"],[3.53,\"1\"],[5.43,\"1\"],[6.15,\"1\"],[1.01,\"1\"],[3.02,\"1\"],[4.43,\"1\"],[5.61,\"1\"],[2.69,\"1\"],[5.37,\"1\"],[7.87,\"1\"],[6.54,\"1\"],[3.63,\"1\"],[5.22,\"1\"],[2.46,\"1\"],[2.91,\"1\"],[3.17,\"1\"],[5.79,\"1\"],[7.89,\"1\"],[6.24,\"1\"],[4.64,\"1\"],[2.58,\"1\"],[0.94,\"1\"],[6.39,\"1\"],[0.85,\"1\"],[6.51,\"1\"],[3.28,\"1\"],[4.15,\"1\"],[7.89,\"1\"],[3.75,\"1\"],[1.43,\"1\"],[1.45,\"1\"],[5.08,\"1\"],[4.83,\"1\"],[0.45,\"1\"],[3.17,\"1\"],[8.13,\"1\"],[5.79,\"1\"],[2.03,\"1\"],[1.3,\"1\"],[2.32,\"1\"],[2.77,\"1\"],[5.64,\"1\"],[6.13,\"1\"],[7.18,\"1\"],[3.7,\"1\"],[2.06,\"1\"],[1.16,\"1\"],[4.09,\"1\"],[4.65,\"1\"],[1.6,\"1\"],[4.7,\"1\"],[4.09,\"1\"],[5.93,\"1\"],[8.33,\"1\"],[2.11,\"1\"],[8.66,\"1\"],[7.02,\"1\"],[2.03,\"1\"],[0.4,\"1\"],[3.21,\"1\"],[4.17,\"1\"],[5.36,\"1\"],[4.54,\"1\"],[2.67,\"1\"],[2.99,\"1\"],[5.71,\"1\"],[7.52,\"1\"],[1.12,\"1\"],[4.43,\"1\"],[2.52,\"1\"],[0.79,\"1\"],[6.21,\"1\"],[7.91,\"1\"],[0.54,\"1\"],[6.29,\"1\"],[5.25,\"1\"],[2.84,\"1\"],[3.45,\"1\"],[7.43,\"1\"],[3.67,\"1\"],[0.71,\"1\"],[1.27,\"1\"],[4.99,\"1\"],[4.78,\"1\"],[0.17,\"1\"],[2.83,\"1\"],[7.57,\"1\"],[5.47,\"1\"],[1.22,\"1\"],[2.16,\"1\"],[2.71,\"1\"],[5.59,\"1\"],[5.88,\"1\"],[6.2,\"1\"],[3.65,\"1\"],[2.03,\"1\"],[0.96,\"1\"],[4.05,\"1\"],[4.62,\"1\"],[1.11,\"1\"],[4.47,\"1\"],[4.05,\"1\"],[5.66,\"1\"],[7.85,\"1\"],[1.99,\"1\"],[7.93,\"1\"],[6.6,\"1\"],[0.21,\"1\"],[3.16,\"1\"],[4.0,\"1\"],[5.09,\"1\"],[4.43,\"1\"],[2.77,\"1\"],[3.8,\"1\"],[5.73,\"1\"],[7.54,\"1\"],[6.25,\"1\"],[4.55,\"1\"],[2.72,\"1\"],[0.94,\"1\"],[6.22,\"1\"],[0.84,\"1\"],[6.78,\"1\"],[3.34,\"1\"],[3.52,\"1\"],[7.45,\"1\"],[3.7,\"1\"],[0.88,\"1\"],[1.37,\"1\"],[5.07,\"1\"],[4.81,\"1\"],[0.52,\"1\"],[2.92,\"1\"],[7.59,\"1\"],[5.57,\"1\"],[1.21,\"1\"],[1.3,\"1\"],[2.23,\"1\"],[2.91,\"1\"],[5.72,\"1\"],[6.86,\"1\"],[6.26,\"1\"],[4.01,\"1\"],[2.04,\"1\"],[1.18,\"1\"],[4.85,\"1\"],[4.7,\"1\"],[1.29,\"1\"],[4.62,\"1\"],[4.25,\"1\"],[6.2,\"1\"],[8.05,\"1\"],[2.16,\"1\"],[8.13,\"1\"],[6.7,\"1\"],[2.89,\"1\"],[0.32,\"1\"],[3.19,\"1\"],[4.21,\"1\"],[5.14,\"1\"],[4.94,\"1\"],[0.02,\"1\"],[0.21,\"1\"],[0.49,\"1\"],[0.38,\"1\"],[0.09,\"1\"],[0.3,\"1\"],[0.2,\"1\"],[0.23,\"1\"],[0.2,\"1\"],[0.02,\"1\"],[0.07,\"1\"],[0.02,\"1\"],[0.06,\"1\"],[0.7,\"1\"],[0.3,\"1\"],[0.01,\"1\"],[0.2,\"1\"],[0.03,\"1\"],[0.52,\"1\"],[0.23,\"1\"],[0.17,\"1\"],[0.25,\"1\"],[0.32,\"1\"],[0.55,\"1\"],[0.08,\"1\"],[0.05,\"1\"],[0.01,\"1\"],[0.2,\"1\"],[0.04,\"1\"],[0.08,\"1\"],[0.12,\"1\"],[0.56,\"1\"],[0.46,\"1\"],[0.32,\"1\"],[0.04,\"1\"],[0.35,\"1\"],[0.02,\"1\"],[0.47,\"1\"],[0.01,\"1\"],[0.27,\"1\"],[0.23,\"1\"],[0.05,\"1\"],[0.08,\"1\"],[0.06,\"1\"],[0.49,\"1\"],[0.08,\"1\"],[0.06,\"1\"],[0.42,\"1\"],[0.15,\"1\"],[0.04,\"1\"],[0.67,\"1\"],[0.0,\"1\"],[0.01,\"1\"],[0.09,\"1\"],[0.44,\"1\"],[0.04,\"1\"],[0.17,\"1\"],[0.01,\"1\"],[0.02,\"1\"],[0.32,\"1\"],[0.04,\"1\"],[0.04,\"1\"],[0.07,\"1\"],[0.1,\"1\"],[0.07,\"1\"],[0.06,\"1\"],[0.16,\"1\"],[0.11,\"1\"],[0.01,\"1\"],[0.09,\"1\"],[0.12,\"1\"],[0.5,\"1\"],[0.27,\"1\"],[0.59,\"1\"],[0.09,\"1\"],[0.12,\"1\"],[0.26,\"1\"],[0.1,\"1\"],[0.01,\"1\"],[0.72,\"1\"],[0.34,\"1\"],[0.49,\"1\"],[0.16,\"1\"],[0.06,\"1\"],[0.54,\"1\"],[0.2,\"1\"],[0.13,\"1\"],[0.1,\"1\"],[0.08,\"1\"],[0.22,\"1\"],[0.05,\"1\"],[0.45,\"1\"],[0.07,\"1\"],[0.0,\"1\"],[0.18,\"1\"],[0.02,\"1\"],[0.01,\"1\"],[0.28,\"1\"],[0.32,\"1\"],[0.06,\"1\"],[0.09,\"1\"],[0.48,\"1\"],[0.03,\"1\"],[0.08,\"1\"],[0.04,\"1\"],[0.01,\"1\"],[0.22,\"1\"],[0.08,\"1\"],[0.57,\"1\"],[0.1,\"1\"],[0.45,\"1\"],[0.05,\"1\"],[2.0,\"1\"],[0.05,\"1\"]],\"hovertemplate\":\"is_safe=%{customdata[1]}<br>aluminium=%{x}<br>cadmium=%{y}<br>perchlorate=%{z}<br>chloramine=%{customdata[0]}<extra></extra>\",\"legendgroup\":\"1\",\"marker\":{\"color\":\"#EF553B\",\"symbol\":\"circle\",\"size\":2},\"mode\":\"markers\",\"name\":\"1\",\"scene\":\"scene\",\"showlegend\":true,\"x\":[1.65,2.32,1.36,0.92,0.94,0.6,0.22,1.35,1.88,4.93,2.89,0.61,3.47,2.11,4.12,0.68,1.15,0.27,3.31,1.82,4.41,1.69,1.87,2.71,4.49,3.52,4.35,3.37,1.51,2.68,0.3,0.23,2.55,4.32,0.24,0.42,0.77,0.6,0.58,3.82,2.78,3.62,4.64,2.25,0.54,4.62,2.5,3.08,2.73,3.02,2.35,2.45,3.3,1.19,0.85,0.5,1.89,3.75,1.75,0.94,2.76,0.43,2.63,0.88,3.03,4.91,1.15,4.8,1.62,2.68,0.09,4.66,2.74,3.52,1.82,2.91,3.53,3.04,2.21,1.92,2.12,4.21,2.56,3.94,1.22,0.8,3.31,2.59,3.9,0.18,0.07,2.71,4.34,0.92,2.39,0.9,0.89,4.91,3.37,3.69,4.71,4.5,2.69,4.3,2.17,5.0,2.6,0.35,3.83,2.9,1.56,4.34,2.23,3.81,1.12,4.0,1.55,2.56,2.99,1.36,3.83,0.47,0.01,3.62,2.82,1.05,1.21,3.35,1.75,1.86,0.54,0.29,3.29,0.22,2.35,4.04,3.6,3.71,0.61,3.05,0.84,1.98,4.18,3.27,0.59,0.36,1.4,1.46,0.93,0.78,4.48,0.71,0.87,2.69,1.21,4.36,0.57,2.14,0.15,2.01,1.72,4.38,3.73,2.97,2.32,3.95,2.22,3.84,3.97,3.73,2.71,3.24,3.85,2.91,3.44,2.2,1.14,0.0,1.14,0.09,2.9,4.07,1.44,3.89,2.09,4.79,0.19,4.77,3.81,0.76,3.36,4.27,1.9,1.44,4.26,3.19,1.24,3.36,3.29,2.94,0.49,2.82,4.19,2.26,3.05,0.78,3.67,2.94,0.93,3.59,3.46,2.79,1.77,0.39,1.07,0.62,4.64,1.09,2.5,3.96,3.49,3.46,2.89,0.27,0.9,0.83,0.72,3.12,3.98,4.39,1.09,4.44,0.78,2.06,0.95,2.24,4.0,0.39,2.33,2.54,1.93,3.91,3.09,4.53,4.71,1.81,4.62,4.18,1.12,0.14,3.01,3.51,1.4,1.77,1.99,0.84,2.14,3.93,4.73,3.69,3.01,1.15,4.66,4.73,2.33,1.34,3.62,1.82,1.79,0.18,3.01,2.04,2.8,3.34,1.92,0.93,2.46,1.36,1.77,2.92,1.38,1.55,2.78,0.63,0.24,3.79,3.0,4.79,2.64,1.36,0.65,0.24,2.65,4.84,4.29,4.3,4.13,2.01,2.02,3.81,4.35,4.39,0.99,3.38,1.66,0.33,1.65,3.25,3.72,4.04,0.35,4.15,1.54,1.71,0.15,4.76,0.7,0.87,2.99,4.96,2.79,3.13,4.7,0.36,3.57,0.01,2.06,4.05,4.98,4.55,2.77,1.52,4.95,0.19,1.45,2.69,2.45,0.5,3.52,2.24,0.95,1.65,2.08,1.49,1.08,4.11,3.36,2.1,4.85,0.71,4.77,2.2,0.11,2.22,2.08,2.88,2.21,2.1,1.08,4.08,4.5,2.05,1.55,0.41,0.97,4.25,1.19,0.96,4.65,2.78,3.97,0.46,3.0,1.87,3.59,4.03,1.06,1.22,4.03,2.67,2.24,2.63,4.38,3.59,2.01,3.15,3.25,4.06,4.49,1.88,1.39,1.92,3.38,1.03,0.92,4.93,1.48,3.69,3.85,3.61,3.18,3.74,4.82,4.98,2.38,0.92,3.01,3.62,0.71,0.25,0.53,3.79,2.47,1.82,4.35,3.99,0.21,1.93,0.55,1.08,0.41,0.54,0.92,2.97,0.32,2.91,1.37,4.72,0.31,1.37,2.33,4.74,4.61,1.2,1.28,3.48,1.79,3.62,1.19,3.48,1.35,2.63,3.14,3.54,0.43,0.56,1.81,4.1,3.47,4.27,0.76,0.69,3.85,0.36,4.59,0.93,0.26,2.04,1.54,1.4,1.08,0.81,0.94,0.43,0.32,0.58,0.16,0.45,0.45,3.2,1.27,4.39,1.86,2.41,1.51,3.13,2.85,0.23,2.25,2.54,2.45,3.13,4.39,1.55,2.56,0.42,2.13,4.75,3.93,0.86,2.06,4.78,3.43,4.81,0.48,2.67,3.21,3.83,1.14,0.17,2.27,1.32,2.89,4.2,2.29,0.43,2.99,1.75,1.25,1.01,1.95,4.35,3.2,0.85,0.05,2.93,3.99,1.4,0.31,4.36,2.46,3.6,3.88,1.41,1.01,2.91,0.42,0.29,1.7,4.36,3.18,0.19,2.73,3.65,2.91,2.24,1.86,0.53,4.98,1.16,1.06,1.27,4.13,3.82,3.52,4.19,3.47,0.5,0.03,0.31,0.49,4.76,3.42,3.79,0.06,1.72,0.6,4.55,2.25,0.67,4.27,2.16,3.47,2.66,4.87,3.88,0.34,0.02,0.93,3.67,2.74,2.36,2.72,3.54,0.52,2.46,0.18,2.5,2.36,2.48,0.68,3.72,4.76,2.54,0.91,0.42,4.32,0.44,3.5,0.75,3.26,2.76,0.75,4.55,1.12,0.99,3.71,3.56,1.5,0.56,1.05,4.96,0.22,3.28,3.92,4.19,2.75,2.82,1.34,3.45,2.58,2.64,2.72,4.69,3.51,3.73,2.17,0.36,3.68,3.62,0.15,2.1,1.34,1.74,3.68,3.87,1.32,2.54,0.0,0.16,3.57,4.39,2.59,0.47,4.7,1.13,0.28,4.4,0.8,3.59,1.69,4.51,4.91,3.94,0.05,2.72,4.57,1.14,2.47,2.26,4.33,0.97,0.34,1.56,0.9,3.37,4.2,3.09,3.95,0.12,4.47,2.16,0.83,0.76,0.24,3.41,2.75,1.14,1.98,3.06,4.34,3.77,1.56,2.82,0.24,2.13,1.02,3.79,3.4,1.42,3.53,2.02,2.71,0.99,0.1,2.03,0.24,0.58,1.11,4.6,2.77,0.23,2.53,2.69,3.56,4.95,3.92,0.98,0.52,4.96,0.09,0.01,0.06,0.07,0.17,0.27,0.06,0.1,0.08,0.09,0.08,0.03,0.07,0.24,0.02,0.34,0.03,0.12,0.16,0.24,0.05,0.17,0.01,0.05,0.03,0.1,0.29,0.01,0.05,0.1,0.07,0.28,0.01,0.05,0.18,0.08,0.03,0.07,0.09,0.29,0.1,0.09,0.04,0.13,0.16,0.09,0.02,0.05,0.0,0.04,0.02,0.09,0.09,0.06,0.05,0.13,0.27,0.09,0.14,0.03,0.22,0.07,0.13,0.12,0.18,0.12,0.39,0.01,0.11,0.05,0.03,0.04,0.33,0.03,0.03,0.05,0.12,0.26,0.02,0.02,0.03,0.07,0.16,0.05,0.19,0.05,0.08,0.06,0.09,0.2,0.06,0.19,0.02,0.22,0.01,0.06,0.39,0.02,0.06,0.06,0.05,0.1,0.07,0.07,0.06,0.05,0.07,0.02,0.07,0.03,0.02,0.05,0.06,0.06,0.01,0.09,0.05,0.03,0.1,0.03,0.08,0.02,0.04,0.09,0.04,0.05,0.08,0.04,0.03,0.09,0.04,0.01,0.07,0.08,0.06,0.0,0.04,0.07,0.09,0.01,0.06,0.02,0.02,0.04,0.06,0.03,0.03,0.03,0.06,0.05,0.06,0.04,0.06,0.03,0.05,0.06,0.09,0.0,0.03,0.01,0.07,0.04,0.05,0.08,0.06,0.04,0.08,0.01,0.07,0.09,0.1,0.06,0.04,0.01,0.02,0.06,0.01,0.1,0.04,0.01,0.07,0.09,0.08,0.07,0.08,0.08,0.01,0.09,0.0,0.04,0.03,0.09,0.05,0.07,0.08,0.09,0.02,0.09,0.1,0.05,0.02,0.03,0.04,0.07,0.03,0.04,0.02,0.05,0.05,0.09,0.01,0.04],\"y\":[0.007,0.002,0.001,0.006,0.003,0.005,0.007,0.002,0.008,0.008,0.008,0.002,0.001,0.009,0.006,0.006,0.007,0.001,0.001,0.006,0.007,0.002,0.008,0.006,0.005,0.006,0.004,0.003,0.003,0.002,0.007,0.002,0.004,0.001,0.008,0.008,0.006,0.002,0.007,0.001,0.009,0.003,0.008,0.002,0.001,0.005,0.004,0.003,0.005,0.004,0.009,0.004,0.008,0.008,0.006,0.004,0.001,0.006,0.001,0.005,0.005,0.001,0.007,0.009,0.006,0.005,0.005,0.006,0.001,0.007,0.001,0.001,0.005,0.007,0.009,0.008,0.002,0.001,0.008,0.008,0.003,0.008,0.003,0.006,0.001,0.002,0.002,0.003,0.008,0.006,0.002,0.003,0.005,0.004,0.005,0.001,0.008,0.001,0.004,0.008,0.003,0.009,0.005,0.004,0.002,0.005,0.003,0.004,0.003,0.005,0.008,0.005,0.001,0.003,0.003,0.001,0.006,0.004,0.007,0.005,0.003,0.001,0.009,0.004,0.007,0.005,0.007,0.006,0.001,0.006,0.003,0.007,0.006,0.006,0.005,0.004,0.003,0.004,0.002,0.005,0.003,0.005,0.004,0.005,0.007,0.003,0.008,0.002,0.002,0.008,0.008,0.003,0.003,0.005,0.007,0.008,0.001,0.008,0.002,0.004,0.004,0.003,0.004,0.008,0.009,0.007,0.009,0.004,0.008,0.008,0.005,0.003,0.007,0.007,0.001,0.006,0.007,0.007,0.003,0.007,0.003,0.004,0.006,0.008,0.004,0.003,0.001,0.002,0.005,0.002,0.006,0.004,0.005,0.008,0.002,0.006,0.004,0.008,0.008,0.004,0.005,0.004,0.004,0.003,0.001,0.005,0.002,0.001,0.004,0.007,0.006,0.005,0.001,0.005,0.006,0.003,0.005,0.003,0.003,0.004,0.003,0.001,0.002,0.001,0.008,0.001,0.001,0.006,0.001,0.005,0.002,0.003,0.006,0.006,0.003,0.001,0.003,0.006,0.008,0.002,0.009,0.002,0.006,0.001,0.007,0.001,0.002,0.002,0.001,0.007,0.004,0.001,0.009,0.007,0.001,0.005,0.007,0.001,0.006,0.009,0.008,0.005,0.003,0.003,0.006,0.003,0.009,0.001,0.001,0.004,0.002,0.005,0.006,0.005,0.001,0.001,0.002,0.005,0.007,0.001,0.008,0.002,0.008,0.003,0.001,0.005,0.001,0.007,0.005,0.008,0.001,0.003,0.007,0.005,0.002,0.001,0.001,0.006,0.001,0.002,0.005,0.007,0.002,0.003,0.009,0.005,0.007,0.005,0.002,0.003,0.004,0.007,0.004,0.006,0.002,0.001,0.008,0.005,0.008,0.001,0.005,0.002,0.005,0.006,0.001,0.002,0.007,0.005,0.001,0.001,0.002,0.006,0.001,0.008,0.005,0.001,0.006,0.002,0.001,0.003,0.007,0.002,0.002,0.001,0.008,0.007,0.005,0.008,0.001,0.002,0.001,0.003,0.001,0.007,0.003,0.002,0.007,0.005,0.006,0.005,0.005,0.005,0.006,0.005,0.006,0.008,0.002,0.006,0.008,0.006,0.001,0.001,0.001,0.008,0.004,0.008,0.006,0.007,0.005,0.006,0.008,0.007,0.009,0.004,0.005,0.003,0.001,0.003,0.002,0.008,0.007,0.008,0.009,0.005,0.001,0.005,0.005,0.004,0.001,0.009,0.008,0.005,0.007,0.007,0.002,0.007,0.003,0.003,0.006,0.005,0.001,0.001,0.002,0.001,0.001,0.003,0.005,0.006,0.006,0.001,0.005,0.001,0.005,0.001,0.002,0.009,0.001,0.005,0.007,0.002,0.003,0.001,0.001,0.006,0.009,0.002,0.001,0.004,0.007,0.002,0.006,0.005,0.008,0.006,0.002,0.006,0.002,0.004,0.009,0.006,0.001,0.007,0.005,0.001,0.009,0.007,0.005,0.002,0.002,0.009,0.009,0.007,0.002,0.003,0.008,0.006,0.004,0.003,0.006,0.002,0.008,0.008,0.001,0.008,0.001,0.006,0.002,0.002,0.009,0.002,0.001,0.008,0.003,0.007,0.001,0.008,0.005,0.001,0.004,0.008,0.004,0.008,0.008,0.005,0.003,0.002,0.006,0.003,0.001,0.004,0.004,0.006,0.005,0.004,0.003,0.006,0.006,0.009,0.008,0.002,0.001,0.007,0.006,0.003,0.005,0.008,0.007,0.007,0.004,0.003,0.001,0.004,0.005,0.001,0.003,0.005,0.004,0.005,0.008,0.001,0.008,0.004,0.003,0.004,0.003,0.006,0.003,0.008,0.003,0.002,0.007,0.008,0.001,0.004,0.003,0.003,0.007,0.008,0.004,0.009,0.001,0.005,0.001,0.008,0.008,0.007,0.003,0.004,0.009,0.004,0.007,0.009,0.001,0.005,0.004,0.008,0.002,0.003,0.004,0.007,0.001,0.001,0.001,0.008,0.008,0.008,0.005,0.003,0.006,0.006,0.005,0.002,0.005,0.005,0.005,0.009,0.006,0.008,0.004,0.005,0.006,0.009,0.006,0.007,0.008,0.004,0.004,0.007,0.004,0.007,0.001,0.002,0.001,0.006,0.008,0.004,0.004,0.001,0.004,0.004,0.007,0.002,0.006,0.003,0.005,0.001,0.003,0.008,0.006,0.001,0.007,0.005,0.009,0.008,0.007,0.001,0.009,0.001,0.006,0.001,0.002,0.001,0.001,0.006,0.002,0.006,0.003,0.006,0.006,0.007,0.001,0.002,0.007,0.006,0.008,0.005,0.001,0.001,0.002,0.006,0.002,0.04,0.02,0.12,0.09,0.12,0.12,0.02,0.05,0.02,0.08,0.01,0.13,0.06,0.1,0.05,0.13,0.04,0.07,0.06,0.11,0.03,0.12,0.11,0.1,0.12,0.11,0.1,0.05,0.05,0.12,0.12,0.07,0.1,0.13,0.11,0.03,0.11,0.11,0.09,0.1,0.11,0.03,0.06,0.04,0.04,0.03,0.01,0.04,0.04,0.006,0.007,0.003,0.006,0.006,0.006,0.001,0.008,0.002,0.001,0.003,0.002,0.006,0.008,0.003,0.001,0.001,0.007,0.003,0.009,0.004,0.002,0.002,0.007,0.002,0.003,0.006,0.005,0.006,0.001,0.002,0.006,0.004,0.002,0.005,0.004,0.004,0.008,0.007,0.004,0.001,0.005,0.006,0.002,0.007,0.001,0.004,0.006,0.007,0.05,0.11,0.07,0.07,0.03,0.04,0.02,0.05,0.04,0.06,0.07,0.02,0.08,0.06,0.05,0.01,0.03,0.03,0.04,0.04,0.03,0.1,0.09,0.12,0.06,0.02,0.05,0.13,0.11,0.04,0.11,0.1,0.11,0.09,0.08,0.09,0.03,0.09,0.02,0.09,0.08,0.07,0.03,0.03,0.09,0.02,0.12,0.12,0.08,0.04,0.01,0.06,0.03,0.06,0.05,0.01,0.02,0.0,0.09,0.01,0.08,0.05,0.08,0.07,0.01,0.01,0.06,0.09,0.0,0.04,0.06,0.0,0.02,0.03,0.06,0.08,0.09,0.06,0.03,0.06,0.07,0.05,0.04,0.04,0.06,0.09,0.03,0.07,0.02,0.05,0.09,0.04,0.05,0.06,0.03,0.07,0.08,0.06,0.01,0.04,0.03,0.05,0.07,0.03,0.09,0.08,0.08,0.09,0.03,0.08,0.08,0.06,0.02,0.03,0.05,0.02,0.02,0.04,0.07,0.03,0.06,0.09,0.05,0.02,0.02,0.02,0.06,0.03,0.05,0.04,0.05,0.03,0.06,0.02,0.05,0.01,0.08,0.09,0.03,0.09,0.04,0.08,0.09,0.06,0.02,0.09,0.01,0.06,0.02,0.05,0.08,0.07,0.09,0.09,0.01,0.08,0.04,0.02,0.04,0.01,0.03,0.0,0.03],\"z\":[37.75,32.26,9.12,16.9,27.17,23.43,30.42,21.52,22.12,26.8,17.54,11.16,0.18,19.4,24.29,21.79,14.6,34.64,39.4,44.76,24.91,24.61,20.32,14.16,36.52,24.84,0.73,23.6,17.24,21.79,16.99,28.03,11.0,5.2,10.21,13.9,30.41,31.6,2.75,14.98,40.47,23.25,29.55,34.47,29.48,18.61,33.95,3.77,25.97,8.33,27.48,15.08,3.26,38.31,6.24,21.89,21.87,5.73,8.65,46.24,34.48,10.88,39.05,10.75,31.57,6.87,10.62,33.02,3.47,28.47,32.48,25.77,33.97,22.9,33.24,21.38,37.15,14.55,4.28,15.3,0.91,1.02,42.15,6.89,49.49,35.76,8.41,11.49,47.93,53.23,18.68,17.62,22.76,20.28,21.22,25.15,16.42,17.53,19.33,14.24,19.6,15.98,20.14,44.88,10.72,18.43,1.25,22.58,33.89,53.46,4.72,21.12,3.24,47.47,16.0,4.59,27.95,15.96,34.97,32.94,33.8,4.51,40.53,37.89,30.36,0.54,30.86,19.55,6.22,21.46,48.75,26.27,30.49,42.85,25.81,24.01,32.55,23.58,27.53,28.79,40.52,47.78,1.89,8.3,2.43,47.92,29.73,5.44,28.71,22.15,30.91,35.17,36.59,16.9,5.67,26.88,16.39,30.25,7.96,14.91,12.99,24.76,27.75,0.58,13.09,2.43,22.17,13.46,4.89,40.92,10.82,6.7,29.96,1.09,1.17,25.43,11.2,17.72,32.91,8.7,0.31,19.37,21.67,51.76,24.8,35.86,38.2,14.31,25.55,33.34,19.09,29.45,13.86,48.1,27.89,21.92,19.99,29.4,24.98,0.34,18.2,30.01,23.35,31.36,13.89,13.01,12.9,27.88,12.94,27.6,18.51,31.13,3.49,36.04,13.03,2.63,7.62,33.17,44.16,27.56,14.7,50.82,31.62,1.12,36.46,29.81,30.21,40.27,32.35,8.56,41.01,3.3,42.43,15.21,46.85,6.36,40.62,25.23,9.33,4.32,16.21,30.24,43.27,51.54,6.92,11.04,10.0,5.87,34.99,17.68,43.22,32.15,39.65,6.17,44.54,0.4,6.97,1.05,9.67,50.04,36.36,13.75,15.52,5.72,12.48,3.99,29.35,37.41,10.01,15.29,47.83,24.13,24.98,22.0,26.22,14.24,8.62,12.93,10.44,11.36,27.25,21.94,29.98,28.58,39.12,9.33,41.93,16.55,5.91,3.23,16.85,13.3,9.72,25.89,1.22,7.63,38.32,3.17,29.85,4.27,16.75,33.56,8.75,47.83,26.42,4.51,23.26,20.86,36.49,38.53,11.39,36.32,15.73,5.74,38.53,19.53,33.11,3.43,27.25,31.08,16.31,18.64,23.22,26.57,3.3,1.87,31.24,14.78,20.9,0.74,25.95,29.0,26.15,56.89,2.08,0.33,37.13,3.14,6.43,18.77,20.55,38.27,15.84,15.26,29.3,24.73,14.49,34.68,22.43,23.36,15.47,18.03,14.71,15.81,18.52,51.29,28.03,15.42,40.75,2.88,18.88,21.35,25.24,6.86,0.48,15.8,17.72,0.9,7.6,28.44,53.36,42.98,17.04,36.11,6.39,17.62,2.16,24.43,5.89,5.35,30.09,11.52,17.71,24.82,10.95,34.91,9.55,9.01,45.28,8.02,45.85,24.53,44.5,19.33,7.24,34.7,11.97,30.09,7.88,3.13,10.48,13.59,1.49,55.45,47.49,10.16,32.08,5.01,31.84,7.01,29.27,19.26,22.35,20.7,30.79,13.32,16.74,39.45,11.1,7.3,16.24,7.51,10.5,33.87,24.65,22.24,13.29,41.66,32.32,21.31,31.59,28.2,25.23,26.68,9.13,11.3,28.26,3.98,3.38,28.76,8.0,9.66,1.95,9.82,4.14,1.35,19.72,18.38,17.89,14.92,36.9,16.17,1.7,1.56,31.78,10.93,23.72,30.05,11.83,7.69,22.03,10.49,44.62,13.14,20.36,29.0,23.22,28.46,9.06,25.84,12.9,7.82,39.06,1.88,19.46,16.35,2.87,16.47,26.12,14.67,4.79,15.09,4.79,19.77,11.39,25.83,21.38,9.56,22.88,32.6,13.88,41.91,36.15,2.72,27.84,42.42,28.19,16.54,10.45,4.8,51.03,26.53,14.49,16.41,14.45,18.48,32.51,25.03,26.65,8.04,15.84,22.42,22.12,16.61,24.25,15.13,25.05,18.56,25.36,14.95,6.99,5.85,22.66,36.39,24.1,34.01,36.76,38.55,9.71,1.19,15.45,21.2,11.27,13.01,2.55,12.64,12.17,34.44,13.7,3.18,46.81,41.53,21.0,31.54,12.23,19.88,43.75,33.36,15.5,13.04,6.02,16.15,2.61,41.33,46.0,13.79,37.48,21.86,10.56,12.85,0.77,26.8,34.59,27.97,2.59,34.36,27.45,18.24,7.93,9.83,24.43,28.19,41.23,12.48,6.7,26.27,27.44,22.13,15.06,2.64,13.93,14.97,10.24,39.38,11.52,19.19,4.4,12.7,44.67,7.51,16.91,34.35,18.51,38.44,37.35,1.01,32.92,7.0,23.89,0.07,11.12,21.71,30.27,0.13,12.71,24.83,12.21,43.79,28.73,28.21,30.95,33.77,22.73,42.56,57.0,15.32,16.62,22.59,22.62,8.76,26.43,38.03,14.42,55.72,4.46,5.54,46.47,43.04,0.8,4.06,6.85,28.11,16.34,23.76,28.9,30.52,16.09,2.35,38.71,21.54,31.48,10.49,11.36,20.38,13.74,22.32,4.77,37.2,11.55,16.06,5.61,27.28,17.27,44.68,48.31,8.68,36.11,4.39,37.84,17.69,47.49,30.1,30.96,43.67,14.52,53.77,39.43,45.06,46.97,24.79,42.6,38.67,38.76,29.2,15.98,51.78,15.87,1.6,31.45,41.84,28.6,31.93,30.22,13.21,18.12,25.24,11.37,40.49,41.73,40.7,12.73,22.15,14.03,22.91,16.22,8.79,46.3,46.58,29.05,37.47,16.9,39.31,17.24,6.24,5.73,50.87,14.55,47.93,18.68,4.59,36.15,27.45,42.85,22.15,35.17,38.2,41.46,33.01,33.17,16.21,43.22,1.22,36.49,37.78,25.95,18.52,0.48,13.59,48.98,13.29,11.3,45.83,54.13,44.62,24.25,32.54,21.2,34.44,46.81,21.86,41.23,27.44,2.64,33.77,48.37,5.54,46.27,23.76,11.36,27.38,17.3,44.74,48.55,8.68,35.54,4.5,37.97,17.68,48.07,29.57,31.0,43.03,14.44,53.73,39.78,44.59,46.86,24.29,42.68,38.03,39.3,29.09,15.64,51.42,16.05,1.65,31.6,41.78,28.51,32.03,30.34,13.35,18.02,25.22,11.32,39.67,41.75,40.75,12.54,22.17,14.0,23.36,15.68,8.81,47.08,46.78,29.06,37.26,0.38,0.44,2.57,0.04,8.02,4.12,6.18,0.23,0.02,0.4,2.74,2.17,0.17,7.39,0.22,0.84,0.04,2.03,0.52,0.12,1.18,11.23,8.47,0.44,6.92,3.17,7.45,10.06,8.49,0.45,1.32,0.52,6.08,2.35,0.08,0.42,2.62,9.71,4.38,0.09,2.72,3.4,1.8,1.64,3.88,0.43,3.03,4.81,2.43,1.72,0.28,0.37,0.38,8.53,1.19,2.62,1.51,6.28,2.35,4.61,0.22,7.07,11.08,1.35,2.08,3.51,7.89,1.83,5.61,0.14,1.36,0.01,6.56,11.84,3.45,1.53,0.67,10.85,2.7,0.21,3.82,2.4,1.28,0.07,0.35,3.63,2.29,9.02,0.09,1.44,4.74,3.13,2.97,5.89,0.04,8.45,8.12,0.14,8.77,0.7,0.55,0.01,4.64,3.15,0.99,1.5,7.18,0.34,1.68,3.57,1.48,1.35,0.0,1.35],\"type\":\"scatter3d\"}],                        {\"template\":{\"data\":{\"bar\":[{\"error_x\":{\"color\":\"#2a3f5f\"},\"error_y\":{\"color\":\"#2a3f5f\"},\"marker\":{\"line\":{\"color\":\"#E5ECF6\",\"width\":0.5},\"pattern\":{\"fillmode\":\"overlay\",\"size\":10,\"solidity\":0.2}},\"type\":\"bar\"}],\"barpolar\":[{\"marker\":{\"line\":{\"color\":\"#E5ECF6\",\"width\":0.5},\"pattern\":{\"fillmode\":\"overlay\",\"size\":10,\"solidity\":0.2}},\"type\":\"barpolar\"}],\"carpet\":[{\"aaxis\":{\"endlinecolor\":\"#2a3f5f\",\"gridcolor\":\"white\",\"linecolor\":\"white\",\"minorgridcolor\":\"white\",\"startlinecolor\":\"#2a3f5f\"},\"baxis\":{\"endlinecolor\":\"#2a3f5f\",\"gridcolor\":\"white\",\"linecolor\":\"white\",\"minorgridcolor\":\"white\",\"startlinecolor\":\"#2a3f5f\"},\"type\":\"carpet\"}],\"choropleth\":[{\"colorbar\":{\"outlinewidth\":0,\"ticks\":\"\"},\"type\":\"choropleth\"}],\"contour\":[{\"colorbar\":{\"outlinewidth\":0,\"ticks\":\"\"},\"colorscale\":[[0.0,\"#0d0887\"],[0.1111111111111111,\"#46039f\"],[0.2222222222222222,\"#7201a8\"],[0.3333333333333333,\"#9c179e\"],[0.4444444444444444,\"#bd3786\"],[0.5555555555555556,\"#d8576b\"],[0.6666666666666666,\"#ed7953\"],[0.7777777777777778,\"#fb9f3a\"],[0.8888888888888888,\"#fdca26\"],[1.0,\"#f0f921\"]],\"type\":\"contour\"}],\"contourcarpet\":[{\"colorbar\":{\"outlinewidth\":0,\"ticks\":\"\"},\"type\":\"contourcarpet\"}],\"heatmap\":[{\"colorbar\":{\"outlinewidth\":0,\"ticks\":\"\"},\"colorscale\":[[0.0,\"#0d0887\"],[0.1111111111111111,\"#46039f\"],[0.2222222222222222,\"#7201a8\"],[0.3333333333333333,\"#9c179e\"],[0.4444444444444444,\"#bd3786\"],[0.5555555555555556,\"#d8576b\"],[0.6666666666666666,\"#ed7953\"],[0.7777777777777778,\"#fb9f3a\"],[0.8888888888888888,\"#fdca26\"],[1.0,\"#f0f921\"]],\"type\":\"heatmap\"}],\"heatmapgl\":[{\"colorbar\":{\"outlinewidth\":0,\"ticks\":\"\"},\"colorscale\":[[0.0,\"#0d0887\"],[0.1111111111111111,\"#46039f\"],[0.2222222222222222,\"#7201a8\"],[0.3333333333333333,\"#9c179e\"],[0.4444444444444444,\"#bd3786\"],[0.5555555555555556,\"#d8576b\"],[0.6666666666666666,\"#ed7953\"],[0.7777777777777778,\"#fb9f3a\"],[0.8888888888888888,\"#fdca26\"],[1.0,\"#f0f921\"]],\"type\":\"heatmapgl\"}],\"histogram\":[{\"marker\":{\"pattern\":{\"fillmode\":\"overlay\",\"size\":10,\"solidity\":0.2}},\"type\":\"histogram\"}],\"histogram2d\":[{\"colorbar\":{\"outlinewidth\":0,\"ticks\":\"\"},\"colorscale\":[[0.0,\"#0d0887\"],[0.1111111111111111,\"#46039f\"],[0.2222222222222222,\"#7201a8\"],[0.3333333333333333,\"#9c179e\"],[0.4444444444444444,\"#bd3786\"],[0.5555555555555556,\"#d8576b\"],[0.6666666666666666,\"#ed7953\"],[0.7777777777777778,\"#fb9f3a\"],[0.8888888888888888,\"#fdca26\"],[1.0,\"#f0f921\"]],\"type\":\"histogram2d\"}],\"histogram2dcontour\":[{\"colorbar\":{\"outlinewidth\":0,\"ticks\":\"\"},\"colorscale\":[[0.0,\"#0d0887\"],[0.1111111111111111,\"#46039f\"],[0.2222222222222222,\"#7201a8\"],[0.3333333333333333,\"#9c179e\"],[0.4444444444444444,\"#bd3786\"],[0.5555555555555556,\"#d8576b\"],[0.6666666666666666,\"#ed7953\"],[0.7777777777777778,\"#fb9f3a\"],[0.8888888888888888,\"#fdca26\"],[1.0,\"#f0f921\"]],\"type\":\"histogram2dcontour\"}],\"mesh3d\":[{\"colorbar\":{\"outlinewidth\":0,\"ticks\":\"\"},\"type\":\"mesh3d\"}],\"parcoords\":[{\"line\":{\"colorbar\":{\"outlinewidth\":0,\"ticks\":\"\"}},\"type\":\"parcoords\"}],\"pie\":[{\"automargin\":true,\"type\":\"pie\"}],\"scatter\":[{\"marker\":{\"colorbar\":{\"outlinewidth\":0,\"ticks\":\"\"}},\"type\":\"scatter\"}],\"scatter3d\":[{\"line\":{\"colorbar\":{\"outlinewidth\":0,\"ticks\":\"\"}},\"marker\":{\"colorbar\":{\"outlinewidth\":0,\"ticks\":\"\"}},\"type\":\"scatter3d\"}],\"scattercarpet\":[{\"marker\":{\"colorbar\":{\"outlinewidth\":0,\"ticks\":\"\"}},\"type\":\"scattercarpet\"}],\"scattergeo\":[{\"marker\":{\"colorbar\":{\"outlinewidth\":0,\"ticks\":\"\"}},\"type\":\"scattergeo\"}],\"scattergl\":[{\"marker\":{\"colorbar\":{\"outlinewidth\":0,\"ticks\":\"\"}},\"type\":\"scattergl\"}],\"scattermapbox\":[{\"marker\":{\"colorbar\":{\"outlinewidth\":0,\"ticks\":\"\"}},\"type\":\"scattermapbox\"}],\"scatterpolar\":[{\"marker\":{\"colorbar\":{\"outlinewidth\":0,\"ticks\":\"\"}},\"type\":\"scatterpolar\"}],\"scatterpolargl\":[{\"marker\":{\"colorbar\":{\"outlinewidth\":0,\"ticks\":\"\"}},\"type\":\"scatterpolargl\"}],\"scatterternary\":[{\"marker\":{\"colorbar\":{\"outlinewidth\":0,\"ticks\":\"\"}},\"type\":\"scatterternary\"}],\"surface\":[{\"colorbar\":{\"outlinewidth\":0,\"ticks\":\"\"},\"colorscale\":[[0.0,\"#0d0887\"],[0.1111111111111111,\"#46039f\"],[0.2222222222222222,\"#7201a8\"],[0.3333333333333333,\"#9c179e\"],[0.4444444444444444,\"#bd3786\"],[0.5555555555555556,\"#d8576b\"],[0.6666666666666666,\"#ed7953\"],[0.7777777777777778,\"#fb9f3a\"],[0.8888888888888888,\"#fdca26\"],[1.0,\"#f0f921\"]],\"type\":\"surface\"}],\"table\":[{\"cells\":{\"fill\":{\"color\":\"#EBF0F8\"},\"line\":{\"color\":\"white\"}},\"header\":{\"fill\":{\"color\":\"#C8D4E3\"},\"line\":{\"color\":\"white\"}},\"type\":\"table\"}]},\"layout\":{\"annotationdefaults\":{\"arrowcolor\":\"#2a3f5f\",\"arrowhead\":0,\"arrowwidth\":1},\"autotypenumbers\":\"strict\",\"coloraxis\":{\"colorbar\":{\"outlinewidth\":0,\"ticks\":\"\"}},\"colorscale\":{\"diverging\":[[0,\"#8e0152\"],[0.1,\"#c51b7d\"],[0.2,\"#de77ae\"],[0.3,\"#f1b6da\"],[0.4,\"#fde0ef\"],[0.5,\"#f7f7f7\"],[0.6,\"#e6f5d0\"],[0.7,\"#b8e186\"],[0.8,\"#7fbc41\"],[0.9,\"#4d9221\"],[1,\"#276419\"]],\"sequential\":[[0.0,\"#0d0887\"],[0.1111111111111111,\"#46039f\"],[0.2222222222222222,\"#7201a8\"],[0.3333333333333333,\"#9c179e\"],[0.4444444444444444,\"#bd3786\"],[0.5555555555555556,\"#d8576b\"],[0.6666666666666666,\"#ed7953\"],[0.7777777777777778,\"#fb9f3a\"],[0.8888888888888888,\"#fdca26\"],[1.0,\"#f0f921\"]],\"sequentialminus\":[[0.0,\"#0d0887\"],[0.1111111111111111,\"#46039f\"],[0.2222222222222222,\"#7201a8\"],[0.3333333333333333,\"#9c179e\"],[0.4444444444444444,\"#bd3786\"],[0.5555555555555556,\"#d8576b\"],[0.6666666666666666,\"#ed7953\"],[0.7777777777777778,\"#fb9f3a\"],[0.8888888888888888,\"#fdca26\"],[1.0,\"#f0f921\"]]},\"colorway\":[\"#636efa\",\"#EF553B\",\"#00cc96\",\"#ab63fa\",\"#FFA15A\",\"#19d3f3\",\"#FF6692\",\"#B6E880\",\"#FF97FF\",\"#FECB52\"],\"font\":{\"color\":\"#2a3f5f\"},\"geo\":{\"bgcolor\":\"white\",\"lakecolor\":\"white\",\"landcolor\":\"#E5ECF6\",\"showlakes\":true,\"showland\":true,\"subunitcolor\":\"white\"},\"hoverlabel\":{\"align\":\"left\"},\"hovermode\":\"closest\",\"mapbox\":{\"style\":\"light\"},\"paper_bgcolor\":\"white\",\"plot_bgcolor\":\"#E5ECF6\",\"polar\":{\"angularaxis\":{\"gridcolor\":\"white\",\"linecolor\":\"white\",\"ticks\":\"\"},\"bgcolor\":\"#E5ECF6\",\"radialaxis\":{\"gridcolor\":\"white\",\"linecolor\":\"white\",\"ticks\":\"\"}},\"scene\":{\"xaxis\":{\"backgroundcolor\":\"#E5ECF6\",\"gridcolor\":\"white\",\"gridwidth\":2,\"linecolor\":\"white\",\"showbackground\":true,\"ticks\":\"\",\"zerolinecolor\":\"white\"},\"yaxis\":{\"backgroundcolor\":\"#E5ECF6\",\"gridcolor\":\"white\",\"gridwidth\":2,\"linecolor\":\"white\",\"showbackground\":true,\"ticks\":\"\",\"zerolinecolor\":\"white\"},\"zaxis\":{\"backgroundcolor\":\"#E5ECF6\",\"gridcolor\":\"white\",\"gridwidth\":2,\"linecolor\":\"white\",\"showbackground\":true,\"ticks\":\"\",\"zerolinecolor\":\"white\"}},\"shapedefaults\":{\"line\":{\"color\":\"#2a3f5f\"}},\"ternary\":{\"aaxis\":{\"gridcolor\":\"white\",\"linecolor\":\"white\",\"ticks\":\"\"},\"baxis\":{\"gridcolor\":\"white\",\"linecolor\":\"white\",\"ticks\":\"\"},\"bgcolor\":\"#E5ECF6\",\"caxis\":{\"gridcolor\":\"white\",\"linecolor\":\"white\",\"ticks\":\"\"}},\"title\":{\"x\":0.05},\"xaxis\":{\"automargin\":true,\"gridcolor\":\"white\",\"linecolor\":\"white\",\"ticks\":\"\",\"title\":{\"standoff\":15},\"zerolinecolor\":\"white\",\"zerolinewidth\":2},\"yaxis\":{\"automargin\":true,\"gridcolor\":\"white\",\"linecolor\":\"white\",\"ticks\":\"\",\"title\":{\"standoff\":15},\"zerolinecolor\":\"white\",\"zerolinewidth\":2}}},\"scene\":{\"domain\":{\"x\":[0.0,1.0],\"y\":[0.0,1.0]},\"xaxis\":{\"title\":{\"text\":\"aluminium\",\"font\":{\"size\":10}},\"tickfont\":{\"size\":10},\"backgroundcolor\":\"white\",\"color\":\"black\",\"gridcolor\":\"#f0f0f0\"},\"yaxis\":{\"title\":{\"text\":\"cadmium\",\"font\":{\"size\":10}},\"tickfont\":{\"size\":10},\"backgroundcolor\":\"white\",\"color\":\"black\",\"gridcolor\":\"#f0f0f0\"},\"zaxis\":{\"title\":{\"text\":\"perchlorate\",\"font\":{\"size\":10}},\"tickfont\":{\"size\":10},\"backgroundcolor\":\"lightgrey\",\"color\":\"black\",\"gridcolor\":\"#f0f0f0\"},\"camera\":{\"up\":{\"x\":0,\"y\":0,\"z\":1},\"center\":{\"x\":0,\"y\":0,\"z\":-0.2},\"eye\":{\"x\":-1.5,\"y\":1.5,\"z\":0.5}}},\"legend\":{\"title\":{\"text\":\"is_safe\"},\"tracegroupgap\":0,\"orientation\":\"h\",\"yanchor\":\"top\",\"y\":0,\"xanchor\":\"center\",\"x\":0.5},\"margin\":{\"t\":0,\"l\":0,\"r\":0,\"b\":0},\"height\":900,\"width\":900,\"showlegend\":true},                        {\"responsive\": true}                    ).then(function(){\n",
       "                            \n",
       "var gd = document.getElementById('aa39796c-c7f3-4037-a297-6eeea0d8c25c');\n",
       "var x = new MutationObserver(function (mutations, observer) {{\n",
       "        var display = window.getComputedStyle(gd).display;\n",
       "        if (!display || display === 'none') {{\n",
       "            console.log([gd, 'removed!']);\n",
       "            Plotly.purge(gd);\n",
       "            observer.disconnect();\n",
       "        }}\n",
       "}});\n",
       "\n",
       "// Listen for the removal of the full notebook cells\n",
       "var notebookContainer = gd.closest('#notebook-container');\n",
       "if (notebookContainer) {{\n",
       "    x.observe(notebookContainer, {childList: true});\n",
       "}}\n",
       "\n",
       "// Listen for the clearing of the current output cell\n",
       "var outputEl = gd.closest('.output');\n",
       "if (outputEl) {{\n",
       "    x.observe(outputEl, {childList: true});\n",
       "}}\n",
       "\n",
       "                        })                };                });            </script>        </div>"
      ]
     },
     "metadata": {},
     "output_type": "display_data"
    }
   ],
   "source": [
    "fig = px.scatter_3d(OriginalDataForLDA, \n",
    "                    x=OriginalDataForLDA['aluminium'], y=OriginalDataForLDA['cadmium'], z=OriginalDataForLDA['perchlorate'],\n",
    "                    color=OriginalDataForLDA['is_safe'],\n",
    "                    color_discrete_sequence=['#636EFA','#EF553B','#00CC96'], \n",
    "                    hover_data=['chloramine','aluminium', 'cadmium','is_safe'],\n",
    "                    height=900, width=900\n",
    "                   )\n",
    "\n",
    "# Update chart looks\n",
    "fig.update_layout(#title_text=\"Scatter 3D Plot\",\n",
    "                  showlegend=True,\n",
    "                  legend=dict(orientation=\"h\", yanchor=\"top\", y=0, xanchor=\"center\", x=0.5),\n",
    "                  scene_camera=dict(up=dict(x=0, y=0, z=1), \n",
    "                                        center=dict(x=0, y=0, z=-0.2),\n",
    "                                        eye=dict(x=-1.5, y=1.5, z=0.5)),\n",
    "                                        margin=dict(l=0, r=0, b=0, t=0),\n",
    "                  scene = dict(xaxis=dict(backgroundcolor='white',\n",
    "                                          color='black',\n",
    "                                          gridcolor='#f0f0f0',\n",
    "                                          title_font=dict(size=10),\n",
    "                                          tickfont=dict(size=10),\n",
    "                                         ),\n",
    "                               yaxis=dict(backgroundcolor='white',\n",
    "                                          color='black',\n",
    "                                          gridcolor='#f0f0f0',\n",
    "                                          title_font=dict(size=10),\n",
    "                                          tickfont=dict(size=10),\n",
    "                                          ),\n",
    "                               zaxis=dict(backgroundcolor='lightgrey',\n",
    "                                          color='black', \n",
    "                                          gridcolor='#f0f0f0',\n",
    "                                          title_font=dict(size=10),\n",
    "                                          tickfont=dict(size=10),\n",
    "                                         )))\n",
    "\n",
    "# Update marker size\n",
    "fig.update_traces(marker=dict(size=2))\n",
    "\n",
    "fig.show()"
   ]
  },
  {
   "cell_type": "code",
   "execution_count": 62,
   "id": "cbf560ff",
   "metadata": {},
   "outputs": [],
   "source": [
    "# Select features\n",
    "X=OriginalDataForLDA[['aluminium', 'cadmium', 'perchlorate']]\n",
    "# Select target\n",
    "y=OriginalDataForLDA['is_safe'].astype('category')\n",
    "X_train, X_test, y_train, y_test = train_test_split(X, y, test_size = 0.25)\n",
    "# Get scaler\n",
    "scaler=StandardScaler()\n",
    "# Perform standard scaling on model features\n",
    "X_std_train=scaler.fit_transform(X_train)"
   ]
  },
  {
   "cell_type": "code",
   "execution_count": 63,
   "id": "c8d9fcd6",
   "metadata": {},
   "outputs": [
    {
     "name": "stdout",
     "output_type": "stream",
     "text": [
      "*************** PCA Summary ***************\n",
      "No. of features:  3\n",
      "No. of samples:  1368\n",
      "No. of components:  2\n",
      "Explained variance ratio:  [0.48638142 0.27859203]\n"
     ]
    }
   ],
   "source": [
    "# Select the model and its parameters\n",
    "pca = PCA(n_components=2) # reducing from 3 dimensions to 2\n",
    "\n",
    "# Fit the model\n",
    "X_trans_pca_train=pca.fit_transform(X_std_train)\n",
    "\n",
    "# Print the results\n",
    "print('*************** PCA Summary ***************')\n",
    "print('No. of features: ', pca.n_features_)\n",
    "print('No. of samples: ', pca.n_samples_)\n",
    "print('No. of components: ', pca.n_components_)\n",
    "print('Explained variance ratio: ', pca.explained_variance_ratio_)"
   ]
  },
  {
   "cell_type": "code",
   "execution_count": 64,
   "id": "10b939a0",
   "metadata": {},
   "outputs": [
    {
     "data": {
      "application/vnd.plotly.v1+json": {
       "config": {
        "plotlyServerURL": "https://plot.ly"
       },
       "data": [
        {
         "hovertemplate": "is_safe=0<br>PC1=%{x}<br>PC2=%{y}<extra></extra>",
         "legendgroup": "0",
         "marker": {
          "color": "#636efa",
          "opacity": 1,
          "size": 3,
          "symbol": "circle"
         },
         "mode": "markers",
         "name": "0",
         "showlegend": true,
         "type": "scattergl",
         "x": [
          -2.0602650494084456,
          -1.8378160465146562,
          -1.0550012999185632,
          -0.283563747434411,
          -1.1704666179008878,
          -1.36178716531186,
          1.5085928768239738,
          0.5702665914330448,
          -1.941821261151182,
          -1.9815518070861946,
          -0.27528323612257555,
          -0.761511059367828,
          -0.1788236604962479,
          -1.5370885089336062,
          -2.0399868660372524,
          -1.5203276988118695,
          1.3099956045791268,
          -1.0996641537846807,
          0.07185782478647595,
          -0.807097735908436,
          -1.1521426852020438,
          -0.6700487860989404,
          0.28535535848409294,
          -1.8398321009162149,
          -0.3820699161912022,
          -1.078511023552049,
          -2.113639250021427,
          -1.099480877468435,
          -1.0862796068368776,
          -0.5714772992991449,
          0.37526812370677937,
          -0.35399330778246824,
          0.20045589512453663,
          -1.6653365773400266,
          -1.6195575099012989,
          -0.6695646088960729,
          -1.766491190330501,
          -1.3597100188048863,
          -0.9488111057279873,
          -1.9899927668039172,
          -1.0697747828376765,
          -1.9739355982530058,
          -0.7427201771083927,
          0.747341010150412,
          -1.755137412221337,
          -0.5030026914362856,
          1.0610637337583055,
          0.3789955481346991,
          -0.3388876389416605,
          -0.7394218901683401,
          0.7007852522445412,
          -0.7362194453525923,
          -0.9021616462316131,
          1.0532585643284416,
          -1.2656274352969217,
          0.4314435310122116,
          -0.7130088160500432,
          1.9774163393734832,
          2.694499674369476,
          -0.9466626826108865,
          -0.29498454153374193,
          -0.29297202120549154,
          1.8571387325409066,
          -0.11648569563191821,
          -0.9069370497787099,
          -0.982143805031443,
          1.2058331322338365,
          -1.8142395762034125,
          -0.721261228049644,
          -1.3952251746462503,
          -1.9233713010615088,
          -0.5294354179659247,
          -0.06467499068031426,
          -1.375762274252962,
          -0.8863246388872259,
          -1.4595303918876146,
          -0.42051295334918404,
          -1.6468711663180506,
          -1.193431092260857,
          -0.30927915830852065,
          -1.5332895091503163,
          2.147769815248048,
          0.9231811778462401,
          -0.8271399488417595,
          -0.7541241263230378,
          -1.759026972778485,
          -0.2849369186676938,
          0.8093306758669241,
          1.2950942729282693,
          1.3109643322067583,
          1.1561216903510199,
          -2.0834089569046603,
          -1.0948845487585448,
          -1.3606569539002502,
          -1.7347223053308087,
          1.3025875809525467,
          1.4113941978465103,
          -0.8837931422824936,
          -2.4571684895091024,
          -1.1306380949701822,
          -0.8086597985112767,
          -1.9053795342495925,
          -0.6932860913285062,
          -0.5911083833754166,
          -1.9924975630230828,
          -0.336150116873135,
          -0.4193732838418894,
          -1.3727329212487482,
          -0.2675153498139381,
          -0.5088777628294274,
          -1.701289209099254,
          -1.305164520410976,
          -1.1754453084746137,
          0.8060123139636572,
          -0.011419788968200333,
          -0.7251662395390949,
          -1.0445028162594978,
          1.1581774026247669,
          -1.6923696920686364,
          0.6052930203796574,
          -0.6341635633112923,
          1.0454489540904663,
          0.06972304120933334,
          0.13520446933446034,
          -0.7875824996925666,
          -0.5755764931819205,
          -0.6379162003491036,
          -0.7858722641171251,
          0.45512672976532337,
          0.4472257777649521,
          1.0644476978022155,
          0.6806804891382132,
          -0.501256640893403,
          -1.8062873583032975,
          1.0680437196655674,
          -0.6985706007283486,
          -0.9169938858865844,
          -0.7532586473682275,
          -1.2108322970794745,
          -1.3707983229877432,
          -0.31620413420886767,
          -1.7558705224606055,
          -1.5332895091503163,
          3.1888110140322987,
          0.06972304120933334,
          -0.5482182854120335,
          -0.6273415568227865,
          -1.641693390196736,
          -0.17908707320206615,
          -1.3351100703605603,
          -0.6339090103849194,
          -1.9921615539561561,
          2.3184488268881536,
          -0.9082199939410003,
          -1.3614511562449336,
          -1.5175887137014692,
          1.8736765590066076,
          1.1728985592569932,
          -1.9812312489515715,
          0.15675440655559952,
          0.13577261602070287,
          -0.8075302987234637,
          0.8563042028374296,
          0.15299896696541745,
          -1.4947759021693439,
          0.23111946765441188,
          -1.2332789093038643,
          -0.7910138669719579,
          0.7892076891216336,
          0.8785429585837914,
          -1.4206653249074128,
          0.21541347486746523,
          -0.20692309681534066,
          -0.7961814585885609,
          -0.7472866689022293,
          -0.8980175327480922,
          -1.928101063435494,
          3.1325742354980988,
          -0.04458990983103946,
          0.31791276665995,
          -1.3872631305404637,
          -1.530448703864224,
          0.9291785274111293,
          -1.356564106316474,
          -0.9228007575086641,
          -2.2034453513303283,
          -1.2286207818390475,
          -0.5619468562400893,
          1.4931434684758034,
          0.2845909137421508,
          -1.1946325802825943,
          0.47582579855924534,
          0.25818952171518583,
          0.5887147401303732,
          -1.4357811830895923,
          1.3936860893560832,
          -2.0222089240814327,
          1.1123499063834106,
          -0.22260562896856836,
          -1.765192412065441,
          -0.1661343625226386,
          1.0040850095263152,
          -0.7659504538479984,
          -1.4988385595123108,
          -0.6723158840873643,
          -0.18708872571244034,
          -1.672270230209896,
          -1.0338214394546534,
          -1.7025925172966832,
          0.4029835152753552,
          -1.9938212352556501,
          -0.7636342053469547,
          0.9781793485631368,
          -0.9583415487870428,
          -2.188569306766015,
          -1.3531832933130301,
          1.1614469278211388,
          -0.9928651982827679,
          -1.550161244081049,
          -0.7412388590223093,
          1.0587843307661344,
          -2.009206385672709,
          -0.6460720784977438,
          -1.0081836567392055,
          -1.8656489883145813,
          -0.8061851925329206,
          -0.7958454495216343,
          1.1396379273631483,
          -1.9603628618861217,
          -0.8653533617232467,
          -1.8682401537771351,
          -0.47337461780797596,
          -0.134645994614914,
          0.07302805761885128,
          1.8843723017604372,
          0.17498631598921274,
          -0.8304491319103204,
          -0.3073273518895039,
          -0.37679102668133185,
          -1.3796363838778076,
          -0.9266955894676885,
          -2.015896023445672,
          -0.6704423779317747,
          -0.11810464886113503,
          0.3591348397819328,
          2.599873917180838,
          -1.6853594961610492,
          2.1932009568984805,
          -0.0015273578913932613,
          -0.6259518793819685,
          2.693043638395652,
          -1.9405383169888926,
          -1.5056349305638022,
          -2.0390399309418887,
          0.06024286805333611,
          1.264309974530404,
          -0.4860196684232302,
          -1.7879595824244543,
          2.173498213179241,
          -0.39807161252667067,
          0.2245671807893175,
          -0.5767365315610135,
          0.8377545281482434,
          2.0980573280385686,
          0.6214908810156266,
          -1.1682560327555347,
          -0.32450104781875105,
          -1.2019282309811594,
          0.3991866159563339,
          -1.5952324784184837,
          -0.88578007636608,
          1.2217010610647199,
          -1.6838880042806368,
          -0.18148680438178116,
          0.3433199340765031,
          -2.4476938721278714,
          -1.6617317599500612,
          -1.3805833189731715,
          1.264309974530404,
          -0.37679102668133185,
          -0.39082160783787734,
          -1.3730282022453977,
          -0.20629285221605176,
          0.15079226410621724,
          -1.5299504941399868,
          0.3815379065984447,
          -0.7162719996464509,
          0.40831433809070095,
          -1.860043920780115,
          -0.4763459605201243,
          -1.5166775935735468,
          -1.6806655487545055,
          -1.3509126859850988,
          -1.7429905265617531,
          -1.4664900335192539,
          -0.42372139100154993,
          0.45918447400545526,
          0.43772939742191436,
          -0.4763459605201243,
          -0.8314775231462379,
          -1.1985425048748806,
          -1.9410066947713611,
          -1.7009026457563796,
          -1.1606040089549046,
          0.2791941353237811,
          -1.8618110519562177,
          -0.8916842680771937,
          0.7653959746439228,
          -1.860557939735696,
          -1.627621732481818,
          0.38355676368999975,
          -0.7214241403307511,
          -1.9531030261549973,
          -1.4753126434770147,
          0.2942495837291318,
          -0.7352823314886139,
          -1.16962079135742,
          -0.39082160783787734,
          -1.2299455488658777,
          1.7552668483882192,
          1.636085395087895,
          -1.634392826395335,
          -0.3431922106420136,
          -0.6088663195951395,
          -1.5131289551861604,
          0.7328486469256643,
          -1.5983278366309486,
          -1.078368117007039,
          -1.3890551805554998,
          0.8047806804696777,
          0.07992836906981857,
          -0.6817399521669331,
          -1.0780321079401127,
          -0.8938937832997098,
          -1.5361506784715462,
          -1.0262052306214644,
          -0.20566156215247575,
          -1.8672728546466333,
          -0.661739139821528,
          -2.0345598083914416,
          -0.8694529039564926,
          -0.7828274601806081,
          -1.1127277842988195,
          -2.5301741324973976,
          1.9896316692451121,
          -1.650160338676229,
          -1.3164617363470936,
          0.669287142418743,
          -1.064713924499601,
          -0.25198659587567823,
          1.3293468436681966,
          -0.42250938504748664,
          1.1496153239200164,
          -1.199057235454258,
          -1.3978932414455638,
          -1.339569828875869,
          1.7292164639629004,
          -1.2234377343158565,
          2.3784951036537074,
          1.958107879213733,
          -2.071067898800323,
          -0.7129842505358658,
          -1.8711216871335044,
          0.006926235558656298,
          1.6160747117682523,
          0.5412578069969687,
          0.8383502872043913,
          -0.9138812404780462,
          0.1388349569814377,
          -1.3399669300482107,
          0.26217879189756144,
          0.18215207165840167,
          1.486022696522567,
          0.21464771051216763,
          -0.9707127971321904,
          -1.3538349474117446,
          1.1526664496969823,
          0.7182732292365296,
          0.6382205101494038,
          -1.2292211650637326,
          0.44593300739699077,
          -0.5029166804919375,
          -1.8609599540108732,
          -1.6804924519686872,
          -0.5236460188399806,
          1.5256921105578822,
          -0.5288855840429023,
          -1.1802350930311762,
          -1.401808079140686,
          0.5477578072318323,
          0.7908922990710054,
          -1.1384428515214933,
          0.8931598856069916,
          1.6047017042124943,
          -1.8846487823272766,
          -0.9034242263587654,
          -1.3089726248275708,
          1.253454470398309,
          0.3433199340765031,
          -0.6045199890078272,
          0.3991866159563339,
          -1.5837878011335618,
          -1.7473888346726056,
          0.5600015452471359,
          -0.13390937503613845,
          -1.2149153184575803,
          -2.18377353918378,
          -0.5337428020295939,
          -1.3613289720341033,
          -0.9157498335308002,
          -1.305144156375838,
          1.926928938682086,
          0.8445568675778024,
          -1.6617317599500612,
          -1.7219897707807608,
          -0.29297202120549154,
          -2.0916817329393993,
          -0.21080921726009785,
          1.9301611954048363,
          1.1561216903510199,
          -0.16508590129779177,
          0.6500939023703202,
          -0.6471050096146005,
          0.5028179306903986,
          -1.056232236711602,
          -1.5172934327048198,
          -1.6923696920686364,
          -0.47491135352999037,
          -0.7778400133240485,
          0.3067588255164536,
          -0.9077892574411732,
          0.21464771051216763,
          2.1554053278668577,
          -1.9354472684100072,
          -0.6142982903437862,
          -0.7450364256094364,
          -0.8916842680771937,
          -1.141665307047624,
          -2.1737339902719786,
          0.322848299695299,
          -0.5013226461016537,
          -0.11464421584328333,
          -2.4571684895091024,
          -1.853995399276399,
          -1.0704566271772005,
          -1.1650181262971013,
          -1.6195575099012989,
          0.4781898877704975,
          -0.5909609220266121,
          -1.4949233635181485,
          0.16857371540154506,
          -0.9636618731543268,
          -0.9888980247650643,
          1.5137962735970738,
          1.3363310707111538,
          0.25982111351338966,
          1.1284183097399814,
          -1.5366088717493032,
          -0.6441160361925676,
          0.41161336622501044,
          0.4472257777649521,
          -1.8482274194608255,
          0.28681135991317147,
          -1.4622897410331528,
          -0.733586835221679,
          2.8311139313292153,
          -1.0952654873747871,
          1.0903239152436275,
          -0.5770890963030764,
          0.8751400292937855,
          0.34575933805126197,
          -1.8443122234666627,
          -0.6103170891413726,
          0.6118636347932019,
          0.356088283593992,
          0.7726757864030587,
          -1.1313101131040353,
          -1.9930986628458498,
          -0.7491194469875421,
          -1.672270230209896,
          -1.3468858436095728,
          1.0305901027613096,
          -1.186242886464616,
          -2.0000323157157185,
          -1.49764198459341,
          -0.42696421056281914,
          1.172230821777867,
          1.4254398717739432,
          -0.24733794115415159,
          1.0695240022359342,
          -1.6861789756437067,
          0.01331919838258716,
          -1.7082537638337287,
          1.079818104074108,
          -1.4892621169811024,
          -0.6545091751383271,
          -1.0226060379581303,
          -0.7344937787419883,
          1.0836420079111009,
          -1.3386025297453668,
          -0.4592807647684336,
          -0.6062340677632669,
          0.2223453754859103,
          0.5028393500007693,
          -1.594346635428535,
          -0.46592967447112,
          -1.7846349484235906,
          -1.0846620868038241,
          -0.7740708554310974,
          -1.5178636306629807,
          -1.9419536298667248,
          0.13428813708320775,
          -1.4074285976074552,
          -1.4986500117941888,
          -1.4564002886305452,
          -0.37348184361277115,
          1.1086653899409749,
          -2.1459572274746344,
          -1.0662921496585411,
          1.486022696522567,
          1.7292164639629004,
          0.26066833400924094,
          -0.44131708745780684,
          -1.7323856927946266,
          0.46719077016863075,
          -1.5539489844625054,
          0.17498631598921274,
          -0.717550030705906,
          -1.1482587493715275,
          1.090616299589364,
          -0.6885261387137119,
          0.6176583003467369,
          -1.7965887315612579,
          1.023359745371948,
          -0.5043056511456189,
          -1.0944407364902533,
          0.0828674901663805,
          -0.3153599756292258,
          -0.8863246388872259,
          1.3836304418657641,
          -1.4641941490533483,
          -1.8624974510995367,
          -1.8398321009162149,
          -1.584755100264064,
          -2.02925493495646,
          0.27776758764028947,
          -1.3434341122950433,
          -0.7408923121259156,
          -1.3212216889618877,
          -1.6746732062533698,
          -1.8190402568884834,
          -1.1926689014978984,
          -1.6617317599500612,
          -1.871010040752142,
          0.46107268962383985,
          -1.3351100703605603,
          -0.8422909103675839,
          -0.9116920892906686,
          -2.162330041057334,
          -0.49256604135214305,
          -0.6199138957077195,
          -0.7001691899224269,
          2.330429963031889,
          -1.616299239407727,
          -1.488233725745185,
          0.6303827609425376,
          -0.8876216107342263,
          1.008137188593612,
          0.2509254698574176,
          -1.9733246722245679,
          -2.0214912647744674,
          -1.6846211145199048,
          -2.126998161532215,
          2.5248104463940457,
          -1.9584486276602548,
          0.5348264907160983,
          -1.3193685468414367,
          -0.9582551795436537,
          -0.1445577394259124,
          -2.014969452385447,
          -0.10812022865096672,
          -1.123418987309335,
          0.2897237802112906,
          -0.9548490894022363,
          -0.6704423779317747,
          -1.6853594961610492,
          0.3291847252176093,
          1.0695240022359342,
          -1.7233338070484667,
          -0.2749205905100379,
          1.9849668765636612,
          -1.4056161835572805,
          -1.5152724652004261,
          -0.21867359292637945,
          -0.8811977753408996,
          -0.16677545392045964,
          -2.0450371865458608,
          -1.7208999291403873,
          0.8489302568497217,
          -2.0421760172246306,
          0.1863358579369669,
          0.2298074429684305,
          -1.2345832874241305,
          1.0919733971155539,
          2.2309800498768566,
          -1.5600736956791847,
          -1.4881929976749078,
          -1.9168242115345149,
          -1.3422438787008553,
          -0.8900962167125824,
          1.942440837924715,
          1.294834513128103,
          -1.7917522359087459,
          -0.6273415568227865,
          1.2990544479393498,
          -1.9735181330455263,
          -1.526681327517906,
          -0.5080439073115897,
          -0.7507180361816206,
          -1.2240388341386228,
          -0.49000015302756217,
          -0.9991412140282493,
          0.7585837447558617,
          -0.5196096939102197,
          1.2976907296898414,
          -0.6760892434593547,
          -0.8307802278744112,
          -1.9158112712309001,
          2.2309800498768566,
          1.079818104074108,
          -0.5996104351985544,
          2.0988434564290044,
          -0.7653191637844223,
          0.34333783423642095,
          -1.1089554948496665,
          2.740770634666278,
          -0.9740423442358894,
          -0.6646498326020239,
          -1.7196577130483737,
          -0.10812022865096672,
          -1.884709874432692,
          0.21076376487070622,
          -0.8873059657024384,
          -1.0666281587254676,
          -1.7396715471332325,
          -1.0582942905853137,
          -0.690786208212176,
          0.5301386009495058,
          -1.6027468670759804,
          -1.5425246712127219,
          -1.078368117007039,
          -0.26961882873411813,
          -1.9511276998237157,
          -1.5507518060743484,
          -1.623579439173989,
          -2.203150070333679,
          -0.25312525418818077,
          -1.1704666179008878,
          2.1842406820895004,
          -1.3541913205138096,
          1.870871543954156,
          -0.003934893575321429,
          -1.203867742345,
          -0.5821481382745219,
          0.27925170827874385,
          0.5600571215096922,
          -1.8909413189278983,
          -0.97889920392354,
          -0.9567429595929644,
          0.7279820256980503,
          -0.350130457421832,
          0.11901532518704372,
          -0.8794352039428768,
          1.1123499063834106,
          -1.6593287839065878,
          0.9856902278811261,
          -0.05430961223201316,
          -0.3861280089194297,
          -1.3733642113123241,
          -1.2814504149565988,
          -1.9902676837654285,
          -1.5160512166128064,
          -0.8904624160203183
         ],
         "xaxis": "x",
         "y": [
          1.4356010029597592,
          0.1096724687031124,
          0.5451109935714217,
          0.22887414050965948,
          2.2846218534334506,
          -0.376784864557989,
          0.16268286579936114,
          0.20912439866926444,
          0.42827816062455737,
          0.35905140882693043,
          -0.6640891663171793,
          -1.1658597816746774,
          -0.5244606608136839,
          1.8340909753174033,
          0.2887948900059062,
          -0.2570185692384993,
          0.6537437894219041,
          -0.4643345036321661,
          0.21641048256891882,
          2.046990931459306,
          -0.513353691736579,
          -1.196893823708853,
          -0.03104103556345755,
          0.14512900731926562,
          -1.0547780832957425,
          -0.018986482705774656,
          0.5355654092867247,
          -0.5215558049183504,
          -0.8031263044040402,
          -1.3175197183942466,
          0.6290941052135424,
          -0.9484461948278399,
          2.7445703697551194,
          0.8275214368865969,
          0.05559876688927345,
          -1.2115489003737177,
          0.792805211792149,
          -0.4313151702695373,
          -0.658892504163957,
          0.32151023928054057,
          0.025361108468186098,
          0.357099546395213,
          -0.7749631337688538,
          0.7480646793361841,
          0.23353719782736507,
          -1.213837456079767,
          1.055818076322827,
          0.07389532546103533,
          -0.9742599172461508,
          0.8525686060365592,
          0.6057818893098763,
          0.3268639264831924,
          -0.9887394165704843,
          1.4773397995389104,
          -0.3040203124277296,
          0.03345510119116642,
          -0.7455200478298138,
          1.1213802363966219,
          0.9957865054424815,
          -0.6366792422314865,
          -0.7738636498889613,
          -0.3976323799907927,
          1.2392077921138835,
          -0.6556802060293379,
          -0.9827510607768118,
          3.0058220176435095,
          0.9589147779341644,
          0.5903980955546774,
          -1.1597637542659276,
          -0.4306837087416962,
          0.40978566129012084,
          -1.276943083585202,
          2.57802944690413,
          -0.051605907041257046,
          1.9344176165870193,
          -0.1323106773969066,
          -1.0685112286630782,
          0.387372444844077,
          -0.5911808622115345,
          -1.0867220825734953,
          -0.2690491166333829,
          -0.019870763816955,
          3.0114529251911537,
          -0.8502069802842505,
          -0.7783932624864088,
          0.2599448185037503,
          -0.5960251141522604,
          0.7735252718315995,
          -0.1595456628482219,
          0.483631605677559,
          1.3225133018300672,
          1.434650168627337,
          1.612527914654054,
          -0.4326606680568553,
          0.2944792617115836,
          1.3462096208038312,
          0.1589892010175118,
          -0.9818002264443939,
          1.331641456972311,
          -0.49557158662096357,
          -0.04446026129791425,
          0.43535011924916656,
          -0.6664012153750798,
          -1.3262529055700947,
          0.3115643228158939,
          0.8127298606636737,
          1.531010759014229,
          -0.42427195056902595,
          -0.5904314218134887,
          -1.260506476256905,
          -0.06692046444766096,
          -0.3346510307721272,
          1.4214170350879902,
          0.1036934473244937,
          -0.2227283288070502,
          -0.7116996408814583,
          0.05488312709820604,
          0.7046608717036901,
          -0.0797941745598843,
          0.7570682575924993,
          -1.0296200354675231,
          0.8445946741815101,
          2.6544693902849845,
          1.9680234751075267,
          -0.8259341843049843,
          0.36351538158601665,
          0.20453576204692894,
          -0.031242081497672748,
          2.185703122947762,
          1.3438935007008728,
          1.0747211834283539,
          -0.32318599077211524,
          -0.8471597683456705,
          0.5825368100202677,
          1.3317063058791396,
          -0.6994573922970757,
          1.2974453915746438,
          -0.7516160752385646,
          -0.6031324769154378,
          -0.43429679972465246,
          1.103515607931191,
          0.26442981112814457,
          -0.2690491166333829,
          0.9776855890342349,
          2.6544693902849845,
          2.0446860715514985,
          -0.981605517503067,
          0.036919663248779065,
          2.4672856913578842,
          -0.3899743054341328,
          -1.010097769109689,
          0.3056548997132016,
          0.7578215416575778,
          -0.9781871354614379,
          -0.38269428766068103,
          -0.22119246405088683,
          0.779801578378193,
          0.4143807732644872,
          0.7747984784323224,
          -0.24695230717299826,
          -0.045517284335951085,
          1.5672161389401598,
          0.9437806895280444,
          0.5233094624946698,
          0.2009663637271756,
          2.653870309721898,
          -0.20696150947541925,
          -0.843583520922081,
          0.9902754076746585,
          0.9063724525909646,
          -0.08986111284712445,
          -0.048640342524462955,
          0.3569332283778269,
          -0.39731340458736963,
          -1.1520352372300366,
          -0.9956247708890352,
          0.8183567426964828,
          1.0370415509067472,
          0.6578474945505618,
          1.4670138135336372,
          0.3920521464097981,
          -0.2650126232714279,
          0.8378095432859329,
          0.410124885405893,
          -0.9797443344382554,
          0.45905499767498964,
          0.04250364742069154,
          -1.32313850761646,
          0.207241665830447,
          1.5800675479039934,
          -0.6120486263566868,
          1.986062589432109,
          -0.06325404976811366,
          3.0725605616914486,
          1.1281487112195092,
          2.785540461888629,
          0.2821212368768542,
          1.2040845637734163,
          -0.7387067336097469,
          0.6217679470419937,
          0.5751446698617991,
          -0.7967258836814675,
          -1.1657808489836974,
          0.18242002858520023,
          -1.0966042909529532,
          1.2348595896928076,
          -0.019300609938105315,
          -0.7477491939344958,
          -0.055998616767155535,
          0.13227899815834515,
          0.328844092861531,
          -0.7791323956293276,
          1.0441280283537218,
          -0.6532737149417439,
          0.4674186182793778,
          -0.390107073932652,
          1.3428536340217994,
          2.153617979669535,
          -0.24831412098674946,
          -0.32563245528804674,
          0.7129005481552282,
          0.2814359395414745,
          -0.5159940961431791,
          -0.15508053335969704,
          0.5045768710467933,
          -0.8587535631540404,
          -0.40322282769006174,
          1.1981500437872832,
          0.376385014680107,
          -0.8981174686742857,
          0.10476407369972039,
          0.9309956143005856,
          -0.6661410880610794,
          2.013363629920688,
          -0.12213902944273254,
          2.573527462031564,
          -0.9060038510921368,
          -0.6342264841505888,
          -1.057481709367495,
          -0.4468547790729557,
          -0.6338554781583312,
          0.29109122212564204,
          -1.087555373013185,
          -0.6452068576112716,
          0.09933948130788711,
          0.2596472583252258,
          0.3262976124613396,
          0.7100907017138705,
          -0.402847252347297,
          -0.6026604843011467,
          1.1533890667834545,
          0.42371423530918356,
          -0.1914336473479269,
          0.2901403877932241,
          -0.2473919820897692,
          0.9921577232730098,
          0.299014883080337,
          0.6021918448766203,
          1.8554368218523989,
          -1.1452009604995583,
          -0.03563386391372046,
          -0.9416352473384221,
          0.7474747513403487,
          0.7640106725187796,
          1.8481474439122438,
          -0.11457066141290453,
          0.6562534520143777,
          -0.19434969431957735,
          0.3048324206856872,
          0.08377528773197498,
          2.280227540175963,
          0.8587171365879434,
          -0.05496884974375754,
          -0.4234856666116132,
          0.2340431551594258,
          0.8276226073979953,
          -0.04264766846839517,
          -0.44820027686027364,
          0.9921577232730098,
          -1.057481709367495,
          -0.6774691817616199,
          -0.4310783721965967,
          -0.7078928888891569,
          -0.10595684903940003,
          1.3457667784417673,
          0.14401858345116705,
          -1.1335139989715024,
          1.7744430468995078,
          0.9533801175741812,
          -1.220668974590779,
          0.20816744880964697,
          0.34574094612819334,
          -0.406041346190971,
          1.0366718539300457,
          0.27947883153751074,
          2.5342477347745453,
          1.7889508877467852,
          0.23531352640721176,
          -1.220668974590779,
          -0.8819176594189284,
          -0.5792830833151698,
          0.371953857863252,
          0.7450514084052878,
          -0.5445369389178374,
          0.035598586123162766,
          2.062619964098198,
          -0.9930127080053793,
          0.507967320852044,
          0.49903701451555976,
          -0.0005676704900720388,
          2.058462100913494,
          -1.1089003753448745,
          0.38670049771621284,
          -0.1547356405188763,
          1.9251788872780138,
          -0.30439512457143514,
          0.6502047593094872,
          -0.6774691817616199,
          1.4721524679299671,
          1.2669034327293918,
          1.1550405120759255,
          0.03451930155462198,
          -0.8078581947570499,
          -0.5911573688596826,
          -0.22762931910699832,
          -0.5940965375336806,
          0.06021652801218611,
          -0.7982717452081868,
          0.357571539009504,
          1.0405197914541953,
          -0.26919463625114914,
          0.02730326273304492,
          -0.8041811683108792,
          -0.9961522028424551,
          -0.2667276876302056,
          -0.7497010563662136,
          -0.7069958903642779,
          0.0997516491219069,
          -1.241320183463003,
          0.2773456103719809,
          1.9136826209403857,
          -0.8255646177335254,
          -0.44457543920139175,
          1.157652482069924,
          0.34940888123278446,
          1.2579900494615088,
          0.04542779902761195,
          1.4103325114307543,
          -0.8044179663838193,
          -0.6118264538012695,
          -0.3599637132697789,
          0.9261900684928277,
          1.0769546912840906,
          0.63392601736315,
          0.34501355966120073,
          -0.383537450378021,
          0.6269545648528738,
          -0.6274303697781449,
          0.6324477747266601,
          -0.3021346652732936,
          0.6088286544463054,
          1.330972803884947,
          0.11344342506802892,
          1.1271776775757403,
          -0.18886650900955862,
          0.6533070625870391,
          0.4437295377959643,
          -0.9926180445504789,
          2.157963354691574,
          -0.35855426017993425,
          -0.07285582476632509,
          0.026770029607771428,
          1.0580284249606322,
          0.13938090774982506,
          -0.6516914190814855,
          -0.3846461500923991,
          1.226866627080521,
          0.568747877313646,
          0.04499407552724952,
          -0.6037137446763962,
          0.5178602853303427,
          -0.08919076925085033,
          0.1087216343706948,
          0.3906949019465542,
          -0.909658867095915,
          -0.43761179089801494,
          -1.2506143955997973,
          -0.553270126093685,
          -0.037519467640234935,
          2.6307159592001916,
          1.0207858239068621,
          -0.11691718729952263,
          0.8351562750918543,
          0.5483311116083875,
          0.49674068239582425,
          -0.9905334136202416,
          -0.333675099556268,
          1.2780907482273642,
          0.2340431551594258,
          2.6734824606443306,
          0.3048324206856872,
          0.07448957171926657,
          0.2892551359442714,
          0.808843922850718,
          -0.6126784408642777,
          -0.6153208896922816,
          0.45507234012057446,
          -0.48441454439910747,
          -0.42084182185147084,
          -0.5863683921472943,
          -0.3410089531372589,
          1.181197492139481,
          1.5123292688645116,
          -0.04264766846839517,
          0.6959281907264535,
          -0.3976323799907927,
          1.0267643845563548,
          2.1538179084314586,
          -0.06346455875415156,
          1.3225133018300672,
          -0.604634028953675,
          0.4718720366267372,
          -1.048008505227538,
          0.3686881391199967,
          -0.7795926415676929,
          -0.2143860424233158,
          -0.0797941745598843,
          1.22841098796077,
          3.270569350981271,
          0.729012758572391,
          1.7895385438824536,
          0.13938090774982506,
          -0.20187541170584683,
          0.41817437877795083,
          -0.9950066595687098,
          -1.1616115871232242,
          -0.9930127080053793,
          -0.5176269831714737,
          0.4884980836140295,
          0.2522323901162668,
          -1.2433845715932281,
          1.90710122495818,
          1.331641456972311,
          0.11223069577922996,
          -0.7934171860123339,
          -0.13551735824903693,
          0.05559876688927345,
          0.34654085115980726,
          -0.9554597917830634,
          -0.16982675005985573,
          -0.028275241670871427,
          -0.2583154767905244,
          -0.7158519104937601,
          0.37841917893521226,
          2.0967099968863985,
          0.1307429258027304,
          1.1132008850316282,
          -0.22267073033672402,
          -1.0527176654277566,
          -0.04963392243165897,
          1.3438935007008728,
          0.5101705633855649,
          1.397420316651251,
          -0.16177886021938764,
          -0.75559873279298,
          0.986770132578259,
          -0.45169759159288314,
          1.1000360487065513,
          0.5023145352480751,
          1.026777985851982,
          3.1363963971505764,
          0.1579237847405094,
          -0.9510286349662082,
          0.5146747310994145,
          0.2074776691010803,
          1.544755164637453,
          -0.4837527404155793,
          1.1349065426117877,
          -1.173799999900068,
          -0.019300609938105315,
          0.04051940402421993,
          0.70477372562378,
          0.2751634509710025,
          0.2880844957870854,
          -0.21201077761259957,
          2.1398958612677252,
          1.2189137783580144,
          1.578106014881739,
          -0.6397248071498166,
          1.1112990522560016,
          -0.03267665512030707,
          -0.31024818102514806,
          -0.0704295258561964,
          1.1642470621072913,
          -0.15539584097081477,
          3.0560656817126475,
          -0.3676165283272177,
          -0.0920708307934139,
          1.096855676780636,
          -0.3885498749558345,
          -1.2028079367841835,
          -0.9388402221893648,
          0.11199735585758092,
          0.33803248800294866,
          0.10419455261468848,
          -1.2058684989302786,
          0.23633222297642273,
          2.1255195709638572,
          -0.787574948924696,
          -0.23435680804358922,
          0.37060836007593356,
          -0.22396218471705195,
          -0.06466622145953824,
          -0.19428250830452315,
          1.8655656769330973,
          -1.001684838559609,
          1.4978562706438572,
          0.527966018708696,
          -0.8066604626960163,
          1.0580284249606322,
          0.6269545648528738,
          -0.08271001393208413,
          -0.9600573101059646,
          0.6747697927008224,
          0.3052918777340822,
          -0.25369611213602217,
          2.573527462031564,
          -0.7136515033131763,
          0.7124923209810237,
          1.3391072821472125,
          -0.25073307846066833,
          0.36448512014120443,
          0.20657340627346243,
          0.21423760818199647,
          -0.847674569801974,
          -0.41220455961477537,
          -0.18331042336847497,
          -0.8232238297515271,
          1.9344176165870193,
          -0.014803032346818141,
          0.672485207257012,
          0.0937632933282347,
          0.14512900731926562,
          0.07950199629708037,
          0.30404386492884544,
          0.10896569674637421,
          0.05181081827618497,
          -1.168496941441775,
          -0.3702403378867996,
          -0.061036138228409864,
          0.18744580337052902,
          1.0205570177402217,
          -0.04264766846839517,
          0.9122509539282762,
          1.8559399656516584,
          -0.3899743054341328,
          -0.8717349448813415,
          -0.983120627348271,
          0.49192821233158446,
          -1.2053949027843989,
          -0.6068548430450617,
          -0.6953419662441409,
          1.2479834341585117,
          0.028294147688009513,
          -0.17948203264402315,
          0.6215212569128288,
          -0.9744663728634038,
          0.9486805884073509,
          0.22161397404740282,
          0.36435446728522325,
          0.6728851162841589,
          -0.02407623644297837,
          0.5485180520899282,
          0.5541135792090891,
          0.3727180878896114,
          0.530226313896046,
          -0.35483349758189997,
          -0.2634068340593184,
          -0.7019545627515755,
          0.29879464227809177,
          -0.39969909727534403,
          -0.4725402588545941,
          -0.04854979566510049,
          -0.6546981454200423,
          -1.087555373013185,
          0.3262976124613396,
          -0.01604132509978319,
          1.1112990522560016,
          0.7195658831372223,
          2.7459701265027796,
          0.48446683378275784,
          -0.03654353642437559,
          0.1654559893034836,
          1.1963675858140002,
          1.5008633449825708,
          0.7336134898708085,
          0.28161890180687577,
          -0.08201157398864041,
          1.1160255329259734,
          0.2792974728036987,
          0.03146655931087287,
          1.015803741784736,
          2.206292347888518,
          0.38705174528693315,
          0.8800554855298363,
          0.09541117167195791,
          -0.19219787737428656,
          0.44463583526187467,
          2.379193257365355,
          -0.16017307100727748,
          1.250515643014412,
          1.228310972137249,
          0.1815112833843956,
          -0.981605517503067,
          0.5662563498325465,
          0.32575843383199465,
          -0.25327270975702404,
          0.8811507164561303,
          -1.1696845738471329,
          0.19591185001774872,
          -1.2145227534151464,
          -0.6856984303358994,
          0.7966300533656021,
          -1.2757554511798443,
          0.7127562662711456,
          0.8786892348731216,
          -0.48479585764649236,
          0.8422061362967501,
          0.8800554855298363,
          1.1642470621072913,
          -1.3447203080210897,
          0.5696314998793602,
          -1.1648838504588181,
          1.2090530880885755,
          -0.01753695534403517,
          1.08840135697003,
          -0.7011303675242402,
          1.3868773463079107,
          -0.07385965457375089,
          -0.39969909727534403,
          0.5158144494912191,
          0.003555739576000336,
          -0.9740178736009643,
          -0.8007510395933242,
          0.7351103143600846,
          -0.41193902261773735,
          -1.0717538692533852,
          1.4936384185480909,
          0.053937538338034684,
          -0.2566239057835988,
          -0.7982717452081868,
          -0.9205440353278451,
          0.36395980383032256,
          -0.26192696424189116,
          0.024336587017034846,
          0.4658614193025605,
          2.4124506443323575,
          2.2846218534334506,
          1.0337307337243007,
          -0.37237880462457523,
          0.8437937389549263,
          -0.3066477205393081,
          -0.5996234155069028,
          -1.3518424604125807,
          1.0221904030739657,
          0.45383669678961724,
          0.48141277478190486,
          -0.6697103222700411,
          -0.6573891409946784,
          1.1806300610060745,
          3.0413307885356136,
          2.52593270440545,
          -0.9564474696748478,
          1.2040845637734163,
          -0.0009121401780903027,
          0.9896105172500818,
          2.707721024399438,
          -1.0132668866920533,
          -0.4251689490939045,
          -0.3137294308194359,
          0.3083458952878379,
          -0.2062341230084266,
          -0.9785028662253581
         ],
         "yaxis": "y"
        },
        {
         "hovertemplate": "is_safe=1<br>PC1=%{x}<br>PC2=%{y}<extra></extra>",
         "legendgroup": "1",
         "marker": {
          "color": "#EF553B",
          "opacity": 1,
          "size": 3,
          "symbol": "circle"
         },
         "mode": "markers",
         "name": "1",
         "showlegend": true,
         "type": "scattergl",
         "x": [
          -0.6068702709296782,
          0.41760500193901057,
          0.22174565441742017,
          0.5261777636446053,
          -1.37586900753149,
          -0.12580549458343018,
          1.141750117384719,
          1.524341399124972,
          1.5063394577569145,
          1.047218534494185,
          0.7277474287649228,
          0.8349930485550996,
          1.2406997550336165,
          0.31718703823539773,
          0.9392756441659825,
          0.9465775818850004,
          1.6283866400189235,
          1.7524575922000731,
          -1.2536940161943926,
          -1.032854140324151,
          0.5522600605788213,
          -0.44503144565295666,
          0.9607103615510447,
          0.8656794043643921,
          0.6886478640620476,
          -1.5785032917337194,
          1.0027227346967917,
          -0.3055490006929724,
          -1.3327274583522248,
          1.1479577084024204,
          1.727032927691209,
          1.9453191756096755,
          0.8373925202333511,
          -0.6073621735986972,
          -0.6360525203991849,
          -1.8202270056017138,
          0.8224248101523463,
          -1.1707250140072591,
          -1.364739975278356,
          2.1079202708250433,
          0.05887179258528757,
          -1.3756769848809807,
          -0.028344895512482714,
          1.0735732943256366,
          -0.03575289937954774,
          -1.3552818737779793,
          0.6124847105063552,
          -1.419123273014955,
          -1.033532853107473,
          0.7498345516667779,
          0.15696470714933228,
          0.5149560454195442,
          1.1498968762524506,
          -0.3972398479374073,
          -1.471738727951655,
          0.6228002167320439,
          0.6214098325040894,
          0.23660135981802113,
          0.6146050391478807,
          0.957978021760138,
          1.4350251048574807,
          0.48334972904952295,
          2.8678667336735684,
          1.6135920615437347,
          0.5945347369885181,
          -0.8570398576182309,
          -0.7297836439079199,
          1.8938915100138336,
          0.36540698747599015,
          0.12536966537925176,
          0.6770866125076969,
          1.4381984347424175,
          0.7317058366017238,
          0.04772905653936402,
          0.6224010199320934,
          0.6745537367358121,
          0.5028189760170605,
          1.6677063859630894,
          1.0098400520276576,
          1.3339158341572495,
          0.5199273588775885,
          1.5748252855025768,
          0.6099051382861256,
          1.1350243410276448,
          -0.7854698915429069,
          0.7716365085743273,
          0.006415735753527844,
          0.8148721922574146,
          0.33654076123445337,
          0.3766957960302456,
          1.6099254302007353,
          0.36498497271425123,
          -0.4562191159472305,
          -0.8573162077759053,
          1.2726374710872574,
          0.5840608482764654,
          -0.05307581885759338,
          -1.0093945877961463,
          -2.046931056736589,
          0.7564314885449586,
          -1.724708033556982,
          0.9823630751502804,
          0.714663115435636,
          0.5465815959351932,
          1.1030546826193959,
          -0.6940108334296924,
          0.29096110295998423,
          2.4480883296858513,
          -1.3889997280995723,
          1.1914321356429116,
          1.1529820798059145,
          0.5901666041956191,
          1.0664243434716023,
          1.9286486170174812,
          0.5706352446674305,
          1.317908483111813,
          0.5663882706558409,
          1.2558532104179976,
          1.0926057275315066,
          -0.34413213189502256,
          0.26827679250485253,
          1.1467214606884748,
          2.0427650156126007,
          -1.526681327517906,
          0.8511088650957216,
          -0.10276059462433926,
          -0.8724299211381251,
          1.5990790503238352,
          1.4487410469274942,
          2.313143938530318,
          1.2359436751692814,
          0.11889839745523399,
          1.8269701787628954,
          0.4353025480037947,
          0.03536132748229438,
          -1.1152122164828469,
          0.041382098024246236,
          0.6349780490248006,
          0.5399916926588834,
          -1.8127069922175854,
          0.84267806998557,
          -0.02209420139829103,
          -1.2666052722568917,
          -0.2356443358071141,
          1.7960380557428997,
          -0.14031286104193172,
          1.7389368286576945,
          2.09052607473687,
          1.1662426357119515,
          -0.42933065517839525,
          -0.0245673346614532,
          2.163524708994721,
          -1.4475106035416967,
          -2.0819989154287044,
          0.4592803356140246,
          1.3534542123644528,
          1.0274933009912353,
          0.33816457312461906,
          1.102361260098028,
          0.497443856375759,
          1.649681979957999,
          0.2799363698182436,
          -1.533605154182104,
          -0.9037602354256916,
          0.39419737263028537,
          -0.13001525483853565,
          1.5115446265409527,
          3.080659226873691,
          0.9537468670660878,
          0.6732799118544305,
          1.752231487211656,
          0.1460509035156225,
          -0.31065268286655895,
          0.8573020057392152,
          -0.2849369186676938,
          1.062870468227085,
          -1.6662884255382264,
          2.399378224915753,
          0.07239572692764785,
          -0.9485579810234926,
          1.4371057507553915,
          1.0635379565661947,
          -2.0061517555305213,
          1.8957309632643504,
          1.7756580271869644,
          1.881625581235315,
          0.722144864899959,
          2.3664258015218436,
          0.5038090584269802,
          -0.4814580847579441,
          -1.0422167579992636,
          1.2440960141327033,
          1.1481715481813723,
          0.06073966392804969,
          -0.25806987223494376,
          0.0196570127453699,
          0.21708788538926968,
          0.9813743865551182,
          1.0809742596165464,
          0.5379584450221685,
          0.7342197670246541,
          1.2775396383827802,
          0.9501479731479973,
          2.0136533457770303,
          -0.045275283407211604,
          0.857094861022609,
          -0.12730786856893303,
          0.6561827836967021,
          0.22201146702087798,
          0.019434053685509274,
          -0.7030876081690746,
          0.7832237440537886,
          -0.15970625683603193,
          0.4714229505674527,
          -0.8703629541615779,
          -0.15787701254877662,
          0.3437328197463874,
          -0.14302024233724922,
          1.7651943478510497,
          1.5467746809160936,
          1.2784426795821708,
          0.17288636105614538,
          0.9695403335640064,
          1.0019352323887385,
          0.9940791650314912,
          0.3071927621114725,
          0.29582605649902266,
          -0.2349442281719715,
          0.4191537388076179,
          0.5077674614271209,
          0.7286817649479564,
          -1.3399058379427957,
          -1.7015641260607652,
          0.6899581959127766,
          -1.6108472629229822,
          0.8155880893643854,
          0.9515734854533977,
          1.3196018738025685,
          0.5128539702626923,
          0.2531890535320488,
          -1.2250566875450732,
          1.1560198552524714,
          -0.24631236725583516,
          1.1716834170476935,
          -0.5724477642553443,
          1.3024292379852138,
          0.7859683788998716,
          1.63351137809193,
          -0.33506023073944513,
          -1.825292065418828,
          0.24920223741394834,
          2.128210017730474,
          -1.5188920218988982,
          0.8498044966487753,
          1.6998014192792914,
          0.5929157837593013,
          -1.0026133093779175,
          -0.709232325121851,
          2.2177499678963923,
          -0.17127205808226686,
          -1.7157379622504163,
          0.7598146865231857,
          1.6908158823928188,
          0.5344863248010745,
          -0.740731211237153,
          0.09490272944460161,
          -1.7874553896745442,
          1.9335981925227705,
          1.1277044141620767,
          0.36820954362750635,
          0.8331816649087314,
          -0.12089982775934506,
          1.0695050071441272,
          1.0728819525090225,
          -1.2896368217479486,
          -1.6209629965734602,
          -0.857380779787993,
          1.2543585270786497,
          0.724949481859088,
          1.7815162438844754,
          0.1402506231840257,
          0.22167193369158852,
          0.9970242694289764,
          2.244466760514163,
          -0.43364541138345997,
          0.6443933166034701,
          0.5298411893676256,
          -1.9042798664035485,
          0.48990597765170835,
          0.29698680152762713,
          1.6864663761688636,
          1.240345840970112,
          1.4751211580983221,
          0.21185323328918354,
          1.4753304083911079,
          0.8142215685625066,
          1.5485747750396661,
          0.14533920761243985,
          0.1647722811758698,
          0.8111883428078335,
          0.6080519812428186,
          0.4213397042721578,
          1.5478641393860013,
          1.142276087881666,
          -1.5758713982008874,
          2.1345590768474865,
          1.372820583881066,
          1.6241112081208078,
          -1.830866942712485,
          0.7257921526630552,
          1.1348038857749112,
          1.9303434313687053,
          0.1863527026840276,
          -1.0612621931850716,
          1.9939927584875703,
          0.8546206332404342,
          1.3185689179519111,
          1.5957698622809886,
          -0.703982207441857,
          2.345867106032969,
          0.9094094398064878,
          1.850524911121384,
          1.4080899177945896,
          1.5675812591404217,
          -0.48033278161251,
          1.5939202543714714,
          -1.2441797356914364,
          1.5992872751870997,
          1.952333224232955,
          -1.551047087070998,
          0.7438190475524171,
          2.3818969826427656,
          0.37935718282769504,
          1.5245959421027744,
          1.5947471058578988,
          0.21208849237850586,
          -0.8711793568051702,
          -0.6559634345398032,
          -0.17643446230934054,
          0.11829099043962359,
          -0.9464488577547906,
          -0.6951034184815161,
          0.7631924029280488,
          -0.6681177513440787,
          -0.07510670320307138,
          0.3362173658650881,
          1.3979759612669607,
          -1.9426052839654395,
          0.12224516736455,
          0.7360739892917637,
          0.6912874731124605,
          1.7963164671210623,
          0.6243774015386071,
          -0.7659300898128601,
          2.178175683948709,
          0.4678445049720985,
          0.6155077368334608,
          0.2669664855255496,
          2.08098402848692,
          0.9923549071585005,
          2.2856340237145223,
          2.2396414747958837,
          0.2157143608312313,
          0.7413788279067483,
          0.5407325134414475,
          0.2255685328248924,
          0.3792672694248022,
          1.9900263113788939,
          0.4248037455647194,
          2.6943841603495646,
          1.9510604596010914,
          0.1916463313647791,
          -1.6128678721283354,
          -1.924288045916064,
          0.5181124808145686,
          -1.0201672469472154,
          1.1356082278557398,
          0.8281155599025805,
          1.8352085733016072,
          1.421082286621456,
          0.5354448531387636,
          0.6495057446984439,
          1.4787856341222896,
          -0.7932388331267769,
          2.1068988733967147,
          0.7271783157900806,
          -0.48135871380986706,
          0.3139129434500011,
          0.4525397454717908,
          -0.43289438619904347,
          0.005289018758569919,
          0.5627237349404511,
          -0.6660437115218809,
          1.4671113524580137,
          1.170910609141955,
          2.5554575176906704,
          -0.8876012466990879,
          2.0353376980113445,
          -0.24111669608651254,
          1.1144803648125112,
          -1.049461142798085,
          1.418181778070422,
          -0.06322630722599559,
          -0.32040363092119994,
          0.8445744141377143,
          1.5353436974753911,
          -0.5344460656794885,
          1.8283050907754068,
          -0.27626318363301,
          2.121944500433054,
          1.5887340408849577,
          1.9018595124114916,
          -1.0618934832486477,
          1.9871855060928016,
          -0.16729437119364596,
          -1.6850898506014145,
          0.740077625285499,
          0.7156157002666834,
          0.7300222670047286,
          0.9741879230617302,
          0.023636113345889324,
          -0.9095029381032907,
          1.1350492497803824,
          -1.269160622752005,
          0.05303742936528203,
          0.7097135946474841,
          1.209345562397119,
          1.378223713435094,
          0.33690616960508074,
          0.6466670847828131,
          0.7713718059632391,
          -1.3989925509925683,
          2.140636728342494,
          -0.588782308668702,
          1.291354642569431,
          1.2800886720117302,
          -0.313334796972473,
          0.10041017303287868,
          1.4419738601715566,
          1.2318901321329379,
          -1.220892210026414,
          0.8548787054548846,
          2.015292653092815,
          0.6983039857485855,
          1.3634969072048095,
          -1.2878602226652156,
          0.5777093649408893,
          1.0691482706311108,
          0.7768813551276957,
          2.108058229584846,
          1.4148950646131784,
          -0.8725317413138173,
          1.1043899232228624,
          0.9356813347597728,
          0.6763808750340117,
          -1.2187030588390362,
          0.9821724219936038,
          0.7189452423960974,
          -0.7046542255757101,
          0.9015421923607186,
          0.565836291637608,
          -0.1569377734867289,
          0.6615568032942046,
          0.6174107511765236,
          1.0070002472996609,
          0.10203474117778255,
          1.5743242685269339,
          -1.905110246988999,
          1.1486851937774314,
          -0.5064863945382585,
          0.5906125322639107,
          -0.3299488131511366,
          -1.6797235267619772,
          0.5509985456754719,
          0.1375832680085084,
          0.40699068050573844,
          0.048759553351461225,
          0.3854467659669286,
          -0.2908541268687255,
          0.9567888287935775,
          1.0290423714250831,
          0.25950295500115483,
          0.3870745049118143,
          0.4564440700712462,
          1.6048038330820007,
          -1.435755194327822,
          0.8321862663283687,
          2.2725591583947247,
          1.5519756236249178,
          1.3752302201668885,
          1.1437321238554905,
          0.9193085609713544,
          0.46908672603839724,
          1.9328471723126386,
          1.103085584621627,
          2.0703946506263815,
          0.20596096368660038,
          0.3988326918066338,
          -0.2349916363817378,
          1.4423821812267013,
          0.2500111839037981,
          1.0522270119658619,
          0.13446579350948137,
          1.7789423164256433,
          0.7881732897133666,
          0.9662978823879737,
          0.28916027220356444,
          0.3849759490430402,
          0.5861492594348093,
          1.6107533419366813,
          1.9799347846683015,
          -0.6701232878133108,
          1.318318954511704,
          -1.1739832845008311,
          1.0597719591117791,
          -0.8999317669739587,
          -0.2828994598786202,
          1.3247224305689271,
          0.20563759318866093,
          0.9918447211590969,
          0.5585470071351821,
          1.2659524029033191,
          1.837392124496153,
          -0.1074267912067432,
          0.25245838243420027,
          1.7969488273827265,
          1.4627860383887152,
          0.6975154182167298,
          1.2972139443878854,
          1.6639312891249052,
          -0.9022431023721666,
          2.618333006499991,
          1.2131561159037036,
          -1.4838554233704293,
          -1.4567721176391981,
          -0.20189069138950633,
          -1.9588253647974583,
          1.0244309851771773,
          1.0031377508142816,
          1.0444423057815897,
          0.44736060040714437,
          1.4274292650337155,
          -1.1191892162062211,
          0.3328397337478224,
          -1.0635282457092081,
          -1.2155466085211564,
          0.8443107021361508,
          0.8695353102474149,
          1.5777587767605958,
          0.02721879966406278,
          -0.06432844405917112,
          0.9657866261904818,
          1.8277995091850243,
          0.6583856337025843,
          -0.02044358521307068,
          1.2359819541495685,
          0.5154254685286747,
          0.6452451116626317,
          1.1319335474299201,
          1.4067244721650833,
          0.6401203339329693,
          -0.806246284638336,
          1.0375873265346702,
          1.3038888031956863,
          -0.10986242620290626,
          0.623447341036015,
          1.112347765987235,
          1.1673545886646024,
          1.8717047420148334,
          -0.3321344649475773,
          0.24925665435415925,
          0.028953271887476168,
          1.80143242942697,
          0.49206666100398927,
          1.1645387070541036,
          1.148758954297545,
          1.4374926525001652,
          -0.403216739506241,
          0.4270855678011689,
          -1.5785440198039955,
          0.8284740186836835,
          1.5109983019574378,
          0.35741966139556985,
          1.696262601985666,
          -0.5814964841758076,
          -0.3667943163902723,
          -0.01911430801338693,
          1.0146333158027663,
          -0.009473960875821908,
          2.0838466065457637,
          0.2815542627979429,
          1.0619259822217113,
          0.17293023505497832,
          -1.1369917236762195,
          0.7843076224280051,
          1.1814388799742226,
          0.558541740707591,
          -1.352592731319731,
          0.6171561684044395,
          1.2886212872975737,
          -0.22412277197066344,
          0.5281488837978136,
          -0.5515052930531115,
          2.1921704600863836,
          1.7128471348482817,
          1.2988655368102764,
          0.9433010429838988,
          0.1485114722735741,
          0.47746098868358816,
          0.69400928985913,
          0.7827272966671709,
          0.4671963701614618,
          1.9238381102643647,
          -0.4535096241014485,
          -1.670605635807567,
          -1.076897695049464,
          0.7914284391498085,
          1.6668170485564888,
          -1.6419226659851343,
          -0.6578523916276956,
          -1.6569314375640312,
          0.7603649330495098,
          0.1728793324285602,
          0.053445785240423385,
          2.5147041854868575,
          -0.49008021535335833,
          0.9117411292912638,
          1.3728135502791954,
          1.9815762323802617,
          1.816250911122516,
          0.34439009373507407,
          1.7418071421312602,
          -0.0670119420312723,
          0.5945112220505384,
          1.8911830585204281,
          -0.07616669825407166,
          1.098056663526249,
          -1.0141398011024338,
          -0.027557383255859328,
          -1.5354990243728321,
          -1.63969278672748,
          2.3144721704033397,
          -1.6482619136817056,
          1.0811894882359705,
          -0.316565748867098,
          2.570231722182151,
          2.4371415184737306,
          1.2809587205555655,
          -0.2899595722268845,
          2.6377457060797123,
          0.607255703167667,
          1.4719917071865036,
          0.12905558572264111,
          -0.1662965185490081,
          0.4247812759534016,
          1.2627394549404747,
          0.6475711613602949,
          -0.4126572940338295,
          0.7374577033287992,
          -0.05808435602069234,
          -1.8726388201870297,
          -0.25751336812100234,
          0.6434698815232303,
          0.5479912889230539,
          1.6685336108090387,
          1.221392414814806,
          1.8956937395592954,
          0.5160784965450061,
          1.836474652819696,
          1.7657350823903035,
          -0.29203280176533397,
          1.2084902579984507,
          1.1785029396262128,
          0.9028963783131397,
          0.8095964088818187,
          -0.6341028295049179,
          1.4561621021044737,
          -0.8792213790867808,
          0.8620524905850044,
          0.9192962261218969,
          -1.2909148528074035,
          -1.0226924072015193,
          1.0146119064409655,
          1.0538424757527116,
          -1.1943274730802733
         ],
         "xaxis": "x",
         "y": [
          -1.3550357910571917,
          -0.0768722394390592,
          -1.2096861019526421,
          -0.04270355665123736,
          -0.4351148655585514,
          -1.1389078949951552,
          -1.478759603619738,
          -0.42543617272907835,
          -0.1508327817396202,
          1.1320212532947271,
          -0.09039624020998552,
          -0.02536834135413451,
          -0.8910822726047983,
          -0.35617629450464944,
          0.1738284836545373,
          -0.6855841192579999,
          -0.17922635018762453,
          -0.8498898872937412,
          -0.26790357335963777,
          -0.7527616185123092,
          -0.5662927013067349,
          -1.1352837829590092,
          0.4458103309715056,
          -1.3997214774107012,
          -0.41603232556004793,
          0.10754574864126297,
          -0.22134795087752382,
          -0.9779110638312474,
          -0.34188085477869634,
          -0.7303848996670387,
          0.455224358800457,
          0.12677392683810054,
          0.13000451828254805,
          -1.1295524680382887,
          -0.6170124606992075,
          1.412473750254233,
          -0.93870770682052,
          -0.5525309929507662,
          -0.4448490808336989,
          0.6681271996962939,
          -0.22885844155570143,
          2.344607799836682,
          -0.5917404042630225,
          0.5129434633824356,
          -0.593310233736956,
          2.073113163827459,
          -0.7682011561788714,
          1.0751756044847784,
          2.9136428707704947,
          0.09251321428145776,
          -0.8930472321143572,
          0.3169279257848562,
          -0.4823596252330421,
          -1.1349899993702477,
          -0.18159176045770087,
          -1.3398865729765048,
          -1.3392928388292218,
          -0.20500159976332935,
          -0.7267943173711857,
          -0.7665092510380256,
          -0.0848566743240124,
          -0.8788639780406551,
          0.7362404668756842,
          0.18296352343537794,
          -0.43479400393217876,
          -0.5029475293335673,
          -1.1718732343517912,
          -0.0012848328084838132,
          -0.8689376479328547,
          -0.6313713870446613,
          -0.7288244560507184,
          0.8188780946574621,
          -0.6447563515037519,
          -0.795282005205465,
          -0.6723301497427103,
          -0.12559902010827476,
          -0.05159477331983677,
          -0.46318159527286346,
          1.0214285397782548,
          0.4216886778048316,
          0.2601960008499512,
          -0.7676012808134771,
          -0.5432607170972005,
          -0.4063679853398494,
          -0.3757065072992987,
          -0.9214566756989804,
          -0.33283100952907807,
          0.9347567043609265,
          -0.07327525688308399,
          0.3313134951904439,
          -0.6282386405286023,
          1.1823297366482701,
          -0.99782281133897,
          2.423007350459694,
          -1.5431906502232713,
          -1.138135819375537,
          -0.755792943489596,
          -0.751362284917452,
          0.2789279062322393,
          -0.16122257667363918,
          -0.08103564277278111,
          -1.3270865440706783,
          -0.7175707691793112,
          -1.4392292416622263,
          0.22132285374688682,
          2.1442448031777745,
          -1.1497321074490245,
          0.055500997113530855,
          0.9967736297762216,
          0.815781017173582,
          0.6333373508110841,
          -0.9519492791290556,
          -0.496944233727765,
          -0.4207084741039959,
          -0.3498988450948536,
          -1.0904421453004425,
          0.3070516253331471,
          0.8230394159934575,
          -0.23032676047198017,
          0.6475202648385301,
          -0.8637965892295527,
          -0.34753597749089143,
          0.1220813673972379,
          -0.25327270975702404,
          0.27847939310356307,
          1.2397177909293176,
          -0.9656542529965758,
          -0.42018314392687717,
          1.9884767363112574,
          0.13714551156883817,
          -0.27317633489246607,
          1.6506212274608247,
          -0.9483945755671339,
          0.1155806599844577,
          -0.31335926515970874,
          -0.46087927803116985,
          -0.9780666633261155,
          0.40186842430563435,
          -0.42280515418009185,
          0.19005786625418544,
          -0.4552148090792474,
          3.028714087632354,
          0.5379471752011199,
          -0.8632406516423977,
          0.3693029108695991,
          -0.7163318001438687,
          -0.6123790024774417,
          0.42890092229963506,
          -1.045403746264507,
          -1.285419722220472,
          -0.48418315600920453,
          0.8301645598947771,
          0.293672942553611,
          1.8072372794641254,
          0.27613958978631264,
          -0.011651235234208452,
          -1.2336690786930484,
          1.125643511221649,
          0.8577751266011946,
          -1.1692972834924285,
          0.2623603592734755,
          -0.07317155553024542,
          -0.2694976158958221,
          -0.9846239905175495,
          -0.31539511014061367,
          -0.777021121638957,
          0.05705221898302903,
          0.9965310541807748,
          0.6159961326550129,
          -0.39690521498948805,
          -0.3353721000855441,
          -0.5201315959057407,
          -0.978848939444966,
          -0.7537056492711138,
          -0.5960251141522604,
          -1.3277301437632614,
          0.410877368756327,
          -0.2040685980723521,
          -0.34126992078379,
          2.4977415778237986,
          -0.45101690322589666,
          -0.013658378806601082,
          0.31771054399152643,
          0.03194200410338022,
          -0.9280703518023825,
          -0.3431220719642196,
          0.06337339272001356,
          0.2563133827684057,
          -1.3402602739209948,
          0.4587810080425257,
          -0.3827076378681969,
          -0.8249572882636901,
          -0.10416901304706534,
          -0.8495471021415577,
          -0.6549737820727558,
          -0.8415563619277024,
          -0.7079250365635484,
          -0.103462917312066,
          -0.44616759551462654,
          -0.25589128761059665,
          -0.3167027797038169,
          -0.9332912329301923,
          -1.390773275226281,
          0.2263661882046696,
          -1.0372564278033731,
          -0.57648909427342,
          -0.6083641082297516,
          -0.04319860763990304,
          -0.32667386223147604,
          -1.1919021283510878,
          2.1436838098808138,
          -0.5792626645796929,
          -1.0108147217870866,
          0.6825452706887667,
          -0.9180093016035791,
          2.3946499058606574,
          -0.45133326468133317,
          -0.6869962217091152,
          -0.5456318732865352,
          -0.05256092127692814,
          -0.8463367041568634,
          -0.05026417191672684,
          -0.28002225745531273,
          0.8300434629802755,
          -1.2095705847443063,
          -1.1342307183585376,
          -0.2447689930841436,
          -1.0922456665669558,
          0.009605707590898497,
          -0.606606948827024,
          -0.1955863598916048,
          -0.37762802727532885,
          -0.0800848084403637,
          -0.06025106040143361,
          1.160565321978396,
          0.24335105163765514,
          -0.6478722897217424,
          -1.2950577041741964,
          0.3177586221158713,
          -0.16102341105003637,
          -0.6169570213600786,
          0.7603251381238489,
          -0.23567677396998937,
          0.3112751204023132,
          -1.239614107560685,
          -1.3168889331488831,
          0.6802787946654194,
          -1.158162939820116,
          -1.1552886339191832,
          0.1594020510263464,
          -0.04276864680232812,
          0.4441248003391325,
          -0.210270616370381,
          0.11570637769202613,
          -0.21195019558634454,
          -0.4243206555141127,
          -0.6906319222227326,
          1.7643692101074349,
          -0.32163288267966855,
          -0.7896866084915463,
          0.7239719430706364,
          2.3193262803486756,
          1.782732992209837,
          -1.2507877387172226,
          1.662568341993792,
          -0.178983296126041,
          0.2259378072493369,
          0.3859297645446101,
          1.858192144379066,
          0.2464306386286523,
          -1.0677517143610062,
          0.6453676273392827,
          0.06265214155879467,
          -0.08715527233083986,
          -0.3317483340079918,
          0.8330900323419276,
          -0.9123366765738272,
          -0.2431931865028908,
          -0.8497796966618966,
          -0.7906881487625326,
          1.2782968321343744,
          -0.9990974751582403,
          -0.13870775473872027,
          0.6667225196856328,
          -1.2148353344707845,
          0.20712250658145556,
          -0.7425489411831773,
          0.48800749521997683,
          0.46405681048617947,
          -0.8051631597406038,
          -0.31899280649465056,
          -0.5721693460435193,
          0.29021038734107873,
          -0.6335819947244782,
          -0.13359421700440532,
          -0.07404305977052948,
          -1.0616230726971396,
          -0.7178872255659678,
          -0.21382982805713846,
          -0.7349510908695046,
          -1.1526453329339756,
          -0.6999740563269804,
          -1.0856838392653239,
          -1.1344430700788646,
          0.4946427012580719,
          0.18232881726803407,
          0.8717053100641837,
          -0.4523011170135719,
          0.5348380228197316,
          -0.5293123926105003,
          1.3318651559258472,
          0.49758964424345575,
          -0.45523180723975637,
          -0.7931265521318546,
          -0.29210932378529264,
          0.2949947690120492,
          -1.331029044246653,
          -0.6739726065787218,
          -1.1096646053712342,
          0.8581522797239,
          0.14166897703583722,
          0.39570121486794163,
          -1.3635003113670343,
          -0.44834703427246253,
          -1.3004068021870294,
          0.384938772833752,
          1.8156863338631732,
          0.3682655315433058,
          -0.7115366071214614,
          -0.2687333858694624,
          0.23974678500036753,
          0.7343325620615179,
          0.8321675889334512,
          -0.8018990900591618,
          -0.02014883637988935,
          -0.038021759221552626,
          1.0302807042945537,
          -1.0542085622107098,
          1.9152523238191133,
          -0.8483053057070782,
          -0.6044411311433889,
          -1.109822470753195,
          -0.09413429161378811,
          2.4748316692811763,
          -0.48316966152357954,
          -0.8528584690112745,
          -0.014828293341050612,
          0.3760692839161864,
          -0.21545365744940204,
          0.6643692910689591,
          -0.6357488029851978,
          -0.12715526017199308,
          -0.7193685723805163,
          -1.172138771348829,
          0.5367778715796117,
          -0.9367200546737541,
          -0.7970882353511852,
          -0.2296148951683745,
          -0.5862187085948126,
          -0.2616999257783701,
          0.16442172006758704,
          -0.4246513025015534,
          -0.600051893435019,
          -0.6948805972818859,
          -1.2585037893667883,
          -0.06482420746362995,
          -1.0280026953542651,
          0.01778010994124227,
          -0.047482989307558295,
          0.8474035220311451,
          -0.8091479389106322,
          -0.6980457505143478,
          0.045943484305105906,
          1.2326793818235755,
          -0.27256485712262546,
          -0.7538954151101284,
          -0.40421721632654006,
          -0.41453447291736434,
          -0.07960154374551004,
          -0.8660251679099519,
          -0.6246890045011609,
          -1.4130137358184935,
          -0.631925317786735,
          -0.42506652305107284,
          -0.12903904685512882,
          -0.4327152117501195,
          -0.9696750294203655,
          -1.2524191804123816,
          -1.3812473523903384,
          -1.1627462675422333,
          -0.7865777210645064,
          -1.1467237716665408,
          -1.0749184609739022,
          0.20350810862450572,
          -0.6593771095383533,
          1.107360332479825,
          -0.9808242952285353,
          -0.09542086030743858,
          -1.2951182427117913,
          -0.8366097729630281,
          -0.8146796136123865,
          -1.1140223598630163,
          -0.4815589549608061,
          -1.2149229273966415,
          0.4480995431207198,
          0.13689738997277417,
          -1.2725371877625797,
          -0.8941547396252738,
          0.22647377881550224,
          -0.35806932277391923,
          -0.35824005194335834,
          -0.6695393479855656,
          -0.7940235506567334,
          0.01374361657928789,
          -1.028056436230584,
          0.6589431920575809,
          -0.9305467989491712,
          0.5074900826655068,
          -1.2935422720197471,
          -0.6796080657398611,
          -0.35299769613345167,
          -0.9736232101460636,
          -1.1446387433351508,
          -0.2898800372191681,
          -1.080213673838937,
          0.6537095024556264,
          -1.1860419401021796,
          -1.3956598179857345,
          2.2167373290319903,
          -0.07969754377657004,
          0.3491518661114813,
          -0.4424236222561005,
          -0.008276249298185824,
          -0.10900731152982011,
          -0.5457201918351287,
          -0.8517059006982283,
          -0.9365578967203095,
          -0.7855443120004523,
          -0.014932158804680804,
          -0.7655853820749878,
          -0.6302002980437615,
          0.794857479555381,
          -0.18645026626644476,
          -0.9694211640073455,
          -0.8430890453723355,
          0.12438876610038604,
          0.2029627255098159,
          -0.8742993271025445,
          -0.5039971991107202,
          -0.4263987478250848,
          -1.4227652023838242,
          -0.9338646411709179,
          -0.16116663908979978,
          -0.9809130251052577,
          -0.9315644278078263,
          -0.6207028808415542,
          0.7822100703985309,
          0.3589364392643032,
          -1.0978457591658504,
          0.4064464254512601,
          1.915382308407255,
          -0.6632388836293177,
          -0.6831316953110217,
          -0.08030440075334377,
          -1.1848241926191594,
          -0.9582504492687284,
          -0.06825524575402458,
          1.5027755047918985,
          -0.995029907805525,
          2.020516124767867,
          0.14472743740563224,
          -0.9691938209715897,
          -0.06821212642744057,
          -0.19639924342049137,
          0.3864418968003312,
          -0.5863114639863701,
          -1.065956246226464,
          -0.26043441452635085,
          -1.1589141912884653,
          -0.7401551379475967,
          -1.385927868597679,
          0.6177423916266821,
          -0.3080411462064166,
          -0.6578023310497698,
          -0.7121581963716516,
          -0.13046284453961027,
          -1.2415383047519364,
          0.310653770354822,
          0.05452240260942622,
          0.3309251370644456,
          -1.2920456314198365,
          0.5669899032692988,
          -0.7305755434149064,
          0.5318332894600182,
          0.8640158965624144,
          -0.44798054822971456,
          -0.7467862787922326,
          -1.2582458646726462,
          -1.2889844879224839,
          -0.7603661103911045,
          -0.1348527525573826,
          -1.1997002871515658,
          -0.316943288996985,
          0.45997505253267995,
          -0.9605799769948375,
          0.4728372750109894,
          -0.9490867397433608,
          0.1731299943100963,
          -0.1311835598797953,
          -0.8596313866502016,
          -0.4704345784973648,
          0.88136277747046,
          -0.3005308196390301,
          -0.5252263737495023,
          -0.6844179416954265,
          -0.9919578440985403,
          -1.256115079417337,
          -0.5928626440473563,
          -0.5364065317006304,
          -1.2664096889619152,
          0.6012309543771871,
          -1.27548524404948,
          0.6861064378387824,
          -0.44217359459777594,
          -0.6154555840316358,
          0.4434217851328451,
          -1.1669288361823003,
          -0.2897172050855472,
          0.7553198335165567,
          -0.06610067058926745,
          -0.9633077271099576,
          0.3612698224821188,
          -1.2763574739125003,
          -0.16048719823960864,
          2.101496923265047,
          -1.2048784918841686,
          0.3913433557225671,
          0.5248252979626099,
          -0.16334946084628027,
          0.2033032941151659,
          0.024210262267298093,
          0.1087298575865326,
          1.5779934714462207,
          1.9544641078350933,
          0.37288609641590764,
          -0.6162178882171604,
          -0.8794933377921952,
          0.9332157779218816,
          -1.1134620546124687,
          -1.0109649748661513,
          -1.236847095712989,
          -1.1015525349525153,
          -0.25486623631148625,
          0.344463996643257,
          -0.48471058796262423,
          -0.19655257702826756,
          -0.051594609209045156,
          0.4497122822802229,
          -0.36986921331397365,
          -0.9132217841513011,
          1.3307141653927421,
          -0.8396797960586456,
          1.1451319255906827,
          -0.5981658666164404,
          0.9612329504731648,
          -0.019456885654712725,
          0.06472447021349752,
          -1.3415096767460322,
          0.8868975327616642,
          -1.2903211613641337,
          -0.07330448813955592,
          -0.6750627480289229,
          -0.6729732828545684,
          -0.8524561932534784,
          -1.4898391525714125,
          0.3783222001517416,
          -1.1657952036952723,
          -1.1498694077217273,
          -0.9818606147981728,
          0.12026159337152587,
          -1.4653602351088129,
          0.11507879149520443,
          -0.8126007146744328,
          -0.6295549070594493,
          -1.3573033842528335,
          -0.9627446636399442,
          -1.060208330546388,
          -1.079496646069631,
          -0.557218755663097,
          -0.05960423590865995,
          -0.25733976704035433,
          -1.4184152441450417,
          -0.927843570278572,
          -0.491825727139488,
          -0.06420465081016906,
          -1.372519278339932,
          1.1187047818246842,
          -0.3764942306775099,
          -1.2877822181749292,
          -0.14980131034107555,
          -1.1560081807052558,
          0.6257244400024121,
          -0.8993973839781391,
          0.9807649427348695,
          -0.31469094024644934,
          -0.006259927406893615,
          -1.294494810727312,
          -0.18583991152049456,
          -0.11574263423499469,
          0.5214975893755492,
          0.378133494069383,
          -0.4509186866480035,
          -0.16825187874235353,
          -1.0757538472775552,
          0.3728087672565177,
          1.222793802270147,
          0.8669419166552734,
          0.026021654878718374,
          0.4263380448687651,
          -0.6416009874423938,
          1.0950844296622444,
          -0.6692244120239529,
          -0.6149598765998052,
          -0.43969948251765084,
          0.5040017998172795,
          -1.254132937797166,
          -0.2893242460057937,
          0.10901701353714686,
          0.25610906059143956,
          0.23078973271862904,
          -0.42103438552783723,
          0.09939240754258588,
          -0.7335289954578694,
          0.23843488022057632,
          -0.5416293011536905,
          -0.5242451534727374,
          0.0342138898705027,
          0.07886528919699315,
          -1.247146634432905,
          -0.27218861147045864,
          0.42311961734070935,
          -0.018069318575093113,
          2.410759421325588,
          -0.08298617458115795,
          2.6232197400663044,
          0.35554319753403724,
          0.032311639854410254,
          -0.5668785898607605,
          1.798506925599652,
          0.47569995866816295,
          0.3318646478737402,
          -1.2931111881582822,
          0.8918062441619645,
          -0.7456168565901569,
          0.20546298240536404,
          -0.012883386769063478,
          -0.8090111111309908,
          -0.2740432934315908,
          0.8503060745238017,
          -0.7999825051708059,
          0.09212716166043756,
          -0.8151756116894764,
          -1.0614296508904937,
          -1.4218831694227252,
          0.47693479333057576,
          0.23500879094483168,
          -0.06897948251273457,
          -0.914067774267678,
          -0.38943746988608885,
          0.5485373022712915,
          -1.2754794803932112,
          -1.512986976298528,
          -0.9373189019464785,
          -0.9073220751278047,
          -1.5113439579505712,
          -0.3139139966164274,
          0.6656435376477634,
          -0.9242093585867504,
          -0.4174084307574022,
          -1.0641727087179509,
          0.08811416165033417,
          -0.7574834092096434,
          -0.6528558112646662,
          -0.5025585286913787,
          0.22535493595678832
         ],
         "yaxis": "y"
        }
       ],
       "layout": {
        "legend": {
         "title": {
          "text": "is_safe"
         },
         "tracegroupgap": 0
        },
        "margin": {
         "t": 60
        },
        "plot_bgcolor": "white",
        "template": {
         "data": {
          "bar": [
           {
            "error_x": {
             "color": "#2a3f5f"
            },
            "error_y": {
             "color": "#2a3f5f"
            },
            "marker": {
             "line": {
              "color": "#E5ECF6",
              "width": 0.5
             },
             "pattern": {
              "fillmode": "overlay",
              "size": 10,
              "solidity": 0.2
             }
            },
            "type": "bar"
           }
          ],
          "barpolar": [
           {
            "marker": {
             "line": {
              "color": "#E5ECF6",
              "width": 0.5
             },
             "pattern": {
              "fillmode": "overlay",
              "size": 10,
              "solidity": 0.2
             }
            },
            "type": "barpolar"
           }
          ],
          "carpet": [
           {
            "aaxis": {
             "endlinecolor": "#2a3f5f",
             "gridcolor": "white",
             "linecolor": "white",
             "minorgridcolor": "white",
             "startlinecolor": "#2a3f5f"
            },
            "baxis": {
             "endlinecolor": "#2a3f5f",
             "gridcolor": "white",
             "linecolor": "white",
             "minorgridcolor": "white",
             "startlinecolor": "#2a3f5f"
            },
            "type": "carpet"
           }
          ],
          "choropleth": [
           {
            "colorbar": {
             "outlinewidth": 0,
             "ticks": ""
            },
            "type": "choropleth"
           }
          ],
          "contour": [
           {
            "colorbar": {
             "outlinewidth": 0,
             "ticks": ""
            },
            "colorscale": [
             [
              0,
              "#0d0887"
             ],
             [
              0.1111111111111111,
              "#46039f"
             ],
             [
              0.2222222222222222,
              "#7201a8"
             ],
             [
              0.3333333333333333,
              "#9c179e"
             ],
             [
              0.4444444444444444,
              "#bd3786"
             ],
             [
              0.5555555555555556,
              "#d8576b"
             ],
             [
              0.6666666666666666,
              "#ed7953"
             ],
             [
              0.7777777777777778,
              "#fb9f3a"
             ],
             [
              0.8888888888888888,
              "#fdca26"
             ],
             [
              1,
              "#f0f921"
             ]
            ],
            "type": "contour"
           }
          ],
          "contourcarpet": [
           {
            "colorbar": {
             "outlinewidth": 0,
             "ticks": ""
            },
            "type": "contourcarpet"
           }
          ],
          "heatmap": [
           {
            "colorbar": {
             "outlinewidth": 0,
             "ticks": ""
            },
            "colorscale": [
             [
              0,
              "#0d0887"
             ],
             [
              0.1111111111111111,
              "#46039f"
             ],
             [
              0.2222222222222222,
              "#7201a8"
             ],
             [
              0.3333333333333333,
              "#9c179e"
             ],
             [
              0.4444444444444444,
              "#bd3786"
             ],
             [
              0.5555555555555556,
              "#d8576b"
             ],
             [
              0.6666666666666666,
              "#ed7953"
             ],
             [
              0.7777777777777778,
              "#fb9f3a"
             ],
             [
              0.8888888888888888,
              "#fdca26"
             ],
             [
              1,
              "#f0f921"
             ]
            ],
            "type": "heatmap"
           }
          ],
          "heatmapgl": [
           {
            "colorbar": {
             "outlinewidth": 0,
             "ticks": ""
            },
            "colorscale": [
             [
              0,
              "#0d0887"
             ],
             [
              0.1111111111111111,
              "#46039f"
             ],
             [
              0.2222222222222222,
              "#7201a8"
             ],
             [
              0.3333333333333333,
              "#9c179e"
             ],
             [
              0.4444444444444444,
              "#bd3786"
             ],
             [
              0.5555555555555556,
              "#d8576b"
             ],
             [
              0.6666666666666666,
              "#ed7953"
             ],
             [
              0.7777777777777778,
              "#fb9f3a"
             ],
             [
              0.8888888888888888,
              "#fdca26"
             ],
             [
              1,
              "#f0f921"
             ]
            ],
            "type": "heatmapgl"
           }
          ],
          "histogram": [
           {
            "marker": {
             "pattern": {
              "fillmode": "overlay",
              "size": 10,
              "solidity": 0.2
             }
            },
            "type": "histogram"
           }
          ],
          "histogram2d": [
           {
            "colorbar": {
             "outlinewidth": 0,
             "ticks": ""
            },
            "colorscale": [
             [
              0,
              "#0d0887"
             ],
             [
              0.1111111111111111,
              "#46039f"
             ],
             [
              0.2222222222222222,
              "#7201a8"
             ],
             [
              0.3333333333333333,
              "#9c179e"
             ],
             [
              0.4444444444444444,
              "#bd3786"
             ],
             [
              0.5555555555555556,
              "#d8576b"
             ],
             [
              0.6666666666666666,
              "#ed7953"
             ],
             [
              0.7777777777777778,
              "#fb9f3a"
             ],
             [
              0.8888888888888888,
              "#fdca26"
             ],
             [
              1,
              "#f0f921"
             ]
            ],
            "type": "histogram2d"
           }
          ],
          "histogram2dcontour": [
           {
            "colorbar": {
             "outlinewidth": 0,
             "ticks": ""
            },
            "colorscale": [
             [
              0,
              "#0d0887"
             ],
             [
              0.1111111111111111,
              "#46039f"
             ],
             [
              0.2222222222222222,
              "#7201a8"
             ],
             [
              0.3333333333333333,
              "#9c179e"
             ],
             [
              0.4444444444444444,
              "#bd3786"
             ],
             [
              0.5555555555555556,
              "#d8576b"
             ],
             [
              0.6666666666666666,
              "#ed7953"
             ],
             [
              0.7777777777777778,
              "#fb9f3a"
             ],
             [
              0.8888888888888888,
              "#fdca26"
             ],
             [
              1,
              "#f0f921"
             ]
            ],
            "type": "histogram2dcontour"
           }
          ],
          "mesh3d": [
           {
            "colorbar": {
             "outlinewidth": 0,
             "ticks": ""
            },
            "type": "mesh3d"
           }
          ],
          "parcoords": [
           {
            "line": {
             "colorbar": {
              "outlinewidth": 0,
              "ticks": ""
             }
            },
            "type": "parcoords"
           }
          ],
          "pie": [
           {
            "automargin": true,
            "type": "pie"
           }
          ],
          "scatter": [
           {
            "marker": {
             "colorbar": {
              "outlinewidth": 0,
              "ticks": ""
             }
            },
            "type": "scatter"
           }
          ],
          "scatter3d": [
           {
            "line": {
             "colorbar": {
              "outlinewidth": 0,
              "ticks": ""
             }
            },
            "marker": {
             "colorbar": {
              "outlinewidth": 0,
              "ticks": ""
             }
            },
            "type": "scatter3d"
           }
          ],
          "scattercarpet": [
           {
            "marker": {
             "colorbar": {
              "outlinewidth": 0,
              "ticks": ""
             }
            },
            "type": "scattercarpet"
           }
          ],
          "scattergeo": [
           {
            "marker": {
             "colorbar": {
              "outlinewidth": 0,
              "ticks": ""
             }
            },
            "type": "scattergeo"
           }
          ],
          "scattergl": [
           {
            "marker": {
             "colorbar": {
              "outlinewidth": 0,
              "ticks": ""
             }
            },
            "type": "scattergl"
           }
          ],
          "scattermapbox": [
           {
            "marker": {
             "colorbar": {
              "outlinewidth": 0,
              "ticks": ""
             }
            },
            "type": "scattermapbox"
           }
          ],
          "scatterpolar": [
           {
            "marker": {
             "colorbar": {
              "outlinewidth": 0,
              "ticks": ""
             }
            },
            "type": "scatterpolar"
           }
          ],
          "scatterpolargl": [
           {
            "marker": {
             "colorbar": {
              "outlinewidth": 0,
              "ticks": ""
             }
            },
            "type": "scatterpolargl"
           }
          ],
          "scatterternary": [
           {
            "marker": {
             "colorbar": {
              "outlinewidth": 0,
              "ticks": ""
             }
            },
            "type": "scatterternary"
           }
          ],
          "surface": [
           {
            "colorbar": {
             "outlinewidth": 0,
             "ticks": ""
            },
            "colorscale": [
             [
              0,
              "#0d0887"
             ],
             [
              0.1111111111111111,
              "#46039f"
             ],
             [
              0.2222222222222222,
              "#7201a8"
             ],
             [
              0.3333333333333333,
              "#9c179e"
             ],
             [
              0.4444444444444444,
              "#bd3786"
             ],
             [
              0.5555555555555556,
              "#d8576b"
             ],
             [
              0.6666666666666666,
              "#ed7953"
             ],
             [
              0.7777777777777778,
              "#fb9f3a"
             ],
             [
              0.8888888888888888,
              "#fdca26"
             ],
             [
              1,
              "#f0f921"
             ]
            ],
            "type": "surface"
           }
          ],
          "table": [
           {
            "cells": {
             "fill": {
              "color": "#EBF0F8"
             },
             "line": {
              "color": "white"
             }
            },
            "header": {
             "fill": {
              "color": "#C8D4E3"
             },
             "line": {
              "color": "white"
             }
            },
            "type": "table"
           }
          ]
         },
         "layout": {
          "annotationdefaults": {
           "arrowcolor": "#2a3f5f",
           "arrowhead": 0,
           "arrowwidth": 1
          },
          "autotypenumbers": "strict",
          "coloraxis": {
           "colorbar": {
            "outlinewidth": 0,
            "ticks": ""
           }
          },
          "colorscale": {
           "diverging": [
            [
             0,
             "#8e0152"
            ],
            [
             0.1,
             "#c51b7d"
            ],
            [
             0.2,
             "#de77ae"
            ],
            [
             0.3,
             "#f1b6da"
            ],
            [
             0.4,
             "#fde0ef"
            ],
            [
             0.5,
             "#f7f7f7"
            ],
            [
             0.6,
             "#e6f5d0"
            ],
            [
             0.7,
             "#b8e186"
            ],
            [
             0.8,
             "#7fbc41"
            ],
            [
             0.9,
             "#4d9221"
            ],
            [
             1,
             "#276419"
            ]
           ],
           "sequential": [
            [
             0,
             "#0d0887"
            ],
            [
             0.1111111111111111,
             "#46039f"
            ],
            [
             0.2222222222222222,
             "#7201a8"
            ],
            [
             0.3333333333333333,
             "#9c179e"
            ],
            [
             0.4444444444444444,
             "#bd3786"
            ],
            [
             0.5555555555555556,
             "#d8576b"
            ],
            [
             0.6666666666666666,
             "#ed7953"
            ],
            [
             0.7777777777777778,
             "#fb9f3a"
            ],
            [
             0.8888888888888888,
             "#fdca26"
            ],
            [
             1,
             "#f0f921"
            ]
           ],
           "sequentialminus": [
            [
             0,
             "#0d0887"
            ],
            [
             0.1111111111111111,
             "#46039f"
            ],
            [
             0.2222222222222222,
             "#7201a8"
            ],
            [
             0.3333333333333333,
             "#9c179e"
            ],
            [
             0.4444444444444444,
             "#bd3786"
            ],
            [
             0.5555555555555556,
             "#d8576b"
            ],
            [
             0.6666666666666666,
             "#ed7953"
            ],
            [
             0.7777777777777778,
             "#fb9f3a"
            ],
            [
             0.8888888888888888,
             "#fdca26"
            ],
            [
             1,
             "#f0f921"
            ]
           ]
          },
          "colorway": [
           "#636efa",
           "#EF553B",
           "#00cc96",
           "#ab63fa",
           "#FFA15A",
           "#19d3f3",
           "#FF6692",
           "#B6E880",
           "#FF97FF",
           "#FECB52"
          ],
          "font": {
           "color": "#2a3f5f"
          },
          "geo": {
           "bgcolor": "white",
           "lakecolor": "white",
           "landcolor": "#E5ECF6",
           "showlakes": true,
           "showland": true,
           "subunitcolor": "white"
          },
          "hoverlabel": {
           "align": "left"
          },
          "hovermode": "closest",
          "mapbox": {
           "style": "light"
          },
          "paper_bgcolor": "white",
          "plot_bgcolor": "#E5ECF6",
          "polar": {
           "angularaxis": {
            "gridcolor": "white",
            "linecolor": "white",
            "ticks": ""
           },
           "bgcolor": "#E5ECF6",
           "radialaxis": {
            "gridcolor": "white",
            "linecolor": "white",
            "ticks": ""
           }
          },
          "scene": {
           "xaxis": {
            "backgroundcolor": "#E5ECF6",
            "gridcolor": "white",
            "gridwidth": 2,
            "linecolor": "white",
            "showbackground": true,
            "ticks": "",
            "zerolinecolor": "white"
           },
           "yaxis": {
            "backgroundcolor": "#E5ECF6",
            "gridcolor": "white",
            "gridwidth": 2,
            "linecolor": "white",
            "showbackground": true,
            "ticks": "",
            "zerolinecolor": "white"
           },
           "zaxis": {
            "backgroundcolor": "#E5ECF6",
            "gridcolor": "white",
            "gridwidth": 2,
            "linecolor": "white",
            "showbackground": true,
            "ticks": "",
            "zerolinecolor": "white"
           }
          },
          "shapedefaults": {
           "line": {
            "color": "#2a3f5f"
           }
          },
          "ternary": {
           "aaxis": {
            "gridcolor": "white",
            "linecolor": "white",
            "ticks": ""
           },
           "baxis": {
            "gridcolor": "white",
            "linecolor": "white",
            "ticks": ""
           },
           "bgcolor": "#E5ECF6",
           "caxis": {
            "gridcolor": "white",
            "linecolor": "white",
            "ticks": ""
           }
          },
          "title": {
           "x": 0.05
          },
          "xaxis": {
           "automargin": true,
           "gridcolor": "white",
           "linecolor": "white",
           "ticks": "",
           "title": {
            "standoff": 15
           },
           "zerolinecolor": "white",
           "zerolinewidth": 2
          },
          "yaxis": {
           "automargin": true,
           "gridcolor": "white",
           "linecolor": "white",
           "ticks": "",
           "title": {
            "standoff": 15
           },
           "zerolinecolor": "white",
           "zerolinewidth": 2
          }
         }
        },
        "title": {
         "text": "PCA scatter plot"
        },
        "xaxis": {
         "anchor": "y",
         "domain": [
          0,
          1
         ],
         "gridcolor": "lightgrey",
         "gridwidth": 1,
         "linecolor": "black",
         "linewidth": 1,
         "showgrid": true,
         "showline": true,
         "title": {
          "text": "PC1"
         },
         "zeroline": true,
         "zerolinecolor": "lightgrey",
         "zerolinewidth": 1
        },
        "yaxis": {
         "anchor": "x",
         "domain": [
          0,
          1
         ],
         "gridcolor": "lightgrey",
         "gridwidth": 1,
         "linecolor": "black",
         "linewidth": 1,
         "showgrid": true,
         "showline": true,
         "title": {
          "text": "PC2"
         },
         "zeroline": true,
         "zerolinecolor": "lightgrey",
         "zerolinewidth": 1
        }
       }
      },
      "text/html": [
       "<div>                            <div id=\"12449f26-8be8-4354-a0d0-09b01256c208\" class=\"plotly-graph-div\" style=\"height:525px; width:100%;\"></div>            <script type=\"text/javascript\">                require([\"plotly\"], function(Plotly) {                    window.PLOTLYENV=window.PLOTLYENV || {};                                    if (document.getElementById(\"12449f26-8be8-4354-a0d0-09b01256c208\")) {                    Plotly.newPlot(                        \"12449f26-8be8-4354-a0d0-09b01256c208\",                        [{\"hovertemplate\":\"is_safe=0<br>PC1=%{x}<br>PC2=%{y}<extra></extra>\",\"legendgroup\":\"0\",\"marker\":{\"color\":\"#636efa\",\"opacity\":1,\"symbol\":\"circle\",\"size\":3},\"mode\":\"markers\",\"name\":\"0\",\"showlegend\":true,\"x\":[-2.0602650494084456,-1.8378160465146562,-1.0550012999185632,-0.283563747434411,-1.1704666179008878,-1.36178716531186,1.5085928768239738,0.5702665914330448,-1.941821261151182,-1.9815518070861946,-0.27528323612257555,-0.761511059367828,-0.1788236604962479,-1.5370885089336062,-2.0399868660372524,-1.5203276988118695,1.3099956045791268,-1.0996641537846807,0.07185782478647595,-0.807097735908436,-1.1521426852020438,-0.6700487860989404,0.28535535848409294,-1.8398321009162149,-0.3820699161912022,-1.078511023552049,-2.113639250021427,-1.099480877468435,-1.0862796068368776,-0.5714772992991449,0.37526812370677937,-0.35399330778246824,0.20045589512453663,-1.6653365773400266,-1.6195575099012989,-0.6695646088960729,-1.766491190330501,-1.3597100188048863,-0.9488111057279873,-1.9899927668039172,-1.0697747828376765,-1.9739355982530058,-0.7427201771083927,0.747341010150412,-1.755137412221337,-0.5030026914362856,1.0610637337583055,0.3789955481346991,-0.3388876389416605,-0.7394218901683401,0.7007852522445412,-0.7362194453525923,-0.9021616462316131,1.0532585643284416,-1.2656274352969217,0.4314435310122116,-0.7130088160500432,1.9774163393734832,2.694499674369476,-0.9466626826108865,-0.29498454153374193,-0.29297202120549154,1.8571387325409066,-0.11648569563191821,-0.9069370497787099,-0.982143805031443,1.2058331322338365,-1.8142395762034125,-0.721261228049644,-1.3952251746462503,-1.9233713010615088,-0.5294354179659247,-0.06467499068031426,-1.375762274252962,-0.8863246388872259,-1.4595303918876146,-0.42051295334918404,-1.6468711663180506,-1.193431092260857,-0.30927915830852065,-1.5332895091503163,2.147769815248048,0.9231811778462401,-0.8271399488417595,-0.7541241263230378,-1.759026972778485,-0.2849369186676938,0.8093306758669241,1.2950942729282693,1.3109643322067583,1.1561216903510199,-2.0834089569046603,-1.0948845487585448,-1.3606569539002502,-1.7347223053308087,1.3025875809525467,1.4113941978465103,-0.8837931422824936,-2.4571684895091024,-1.1306380949701822,-0.8086597985112767,-1.9053795342495925,-0.6932860913285062,-0.5911083833754166,-1.9924975630230828,-0.336150116873135,-0.4193732838418894,-1.3727329212487482,-0.2675153498139381,-0.5088777628294274,-1.701289209099254,-1.305164520410976,-1.1754453084746137,0.8060123139636572,-0.011419788968200333,-0.7251662395390949,-1.0445028162594978,1.1581774026247669,-1.6923696920686364,0.6052930203796574,-0.6341635633112923,1.0454489540904663,0.06972304120933334,0.13520446933446034,-0.7875824996925666,-0.5755764931819205,-0.6379162003491036,-0.7858722641171251,0.45512672976532337,0.4472257777649521,1.0644476978022155,0.6806804891382132,-0.501256640893403,-1.8062873583032975,1.0680437196655674,-0.6985706007283486,-0.9169938858865844,-0.7532586473682275,-1.2108322970794745,-1.3707983229877432,-0.31620413420886767,-1.7558705224606055,-1.5332895091503163,3.1888110140322987,0.06972304120933334,-0.5482182854120335,-0.6273415568227865,-1.641693390196736,-0.17908707320206615,-1.3351100703605603,-0.6339090103849194,-1.9921615539561561,2.3184488268881536,-0.9082199939410003,-1.3614511562449336,-1.5175887137014692,1.8736765590066076,1.1728985592569932,-1.9812312489515715,0.15675440655559952,0.13577261602070287,-0.8075302987234637,0.8563042028374296,0.15299896696541745,-1.4947759021693439,0.23111946765441188,-1.2332789093038643,-0.7910138669719579,0.7892076891216336,0.8785429585837914,-1.4206653249074128,0.21541347486746523,-0.20692309681534066,-0.7961814585885609,-0.7472866689022293,-0.8980175327480922,-1.928101063435494,3.1325742354980988,-0.04458990983103946,0.31791276665995,-1.3872631305404637,-1.530448703864224,0.9291785274111293,-1.356564106316474,-0.9228007575086641,-2.2034453513303283,-1.2286207818390475,-0.5619468562400893,1.4931434684758034,0.2845909137421508,-1.1946325802825943,0.47582579855924534,0.25818952171518583,0.5887147401303732,-1.4357811830895923,1.3936860893560832,-2.0222089240814327,1.1123499063834106,-0.22260562896856836,-1.765192412065441,-0.1661343625226386,1.0040850095263152,-0.7659504538479984,-1.4988385595123108,-0.6723158840873643,-0.18708872571244034,-1.672270230209896,-1.0338214394546534,-1.7025925172966832,0.4029835152753552,-1.9938212352556501,-0.7636342053469547,0.9781793485631368,-0.9583415487870428,-2.188569306766015,-1.3531832933130301,1.1614469278211388,-0.9928651982827679,-1.550161244081049,-0.7412388590223093,1.0587843307661344,-2.009206385672709,-0.6460720784977438,-1.0081836567392055,-1.8656489883145813,-0.8061851925329206,-0.7958454495216343,1.1396379273631483,-1.9603628618861217,-0.8653533617232467,-1.8682401537771351,-0.47337461780797596,-0.134645994614914,0.07302805761885128,1.8843723017604372,0.17498631598921274,-0.8304491319103204,-0.3073273518895039,-0.37679102668133185,-1.3796363838778076,-0.9266955894676885,-2.015896023445672,-0.6704423779317747,-0.11810464886113503,0.3591348397819328,2.599873917180838,-1.6853594961610492,2.1932009568984805,-0.0015273578913932613,-0.6259518793819685,2.693043638395652,-1.9405383169888926,-1.5056349305638022,-2.0390399309418887,0.06024286805333611,1.264309974530404,-0.4860196684232302,-1.7879595824244543,2.173498213179241,-0.39807161252667067,0.2245671807893175,-0.5767365315610135,0.8377545281482434,2.0980573280385686,0.6214908810156266,-1.1682560327555347,-0.32450104781875105,-1.2019282309811594,0.3991866159563339,-1.5952324784184837,-0.88578007636608,1.2217010610647199,-1.6838880042806368,-0.18148680438178116,0.3433199340765031,-2.4476938721278714,-1.6617317599500612,-1.3805833189731715,1.264309974530404,-0.37679102668133185,-0.39082160783787734,-1.3730282022453977,-0.20629285221605176,0.15079226410621724,-1.5299504941399868,0.3815379065984447,-0.7162719996464509,0.40831433809070095,-1.860043920780115,-0.4763459605201243,-1.5166775935735468,-1.6806655487545055,-1.3509126859850988,-1.7429905265617531,-1.4664900335192539,-0.42372139100154993,0.45918447400545526,0.43772939742191436,-0.4763459605201243,-0.8314775231462379,-1.1985425048748806,-1.9410066947713611,-1.7009026457563796,-1.1606040089549046,0.2791941353237811,-1.8618110519562177,-0.8916842680771937,0.7653959746439228,-1.860557939735696,-1.627621732481818,0.38355676368999975,-0.7214241403307511,-1.9531030261549973,-1.4753126434770147,0.2942495837291318,-0.7352823314886139,-1.16962079135742,-0.39082160783787734,-1.2299455488658777,1.7552668483882192,1.636085395087895,-1.634392826395335,-0.3431922106420136,-0.6088663195951395,-1.5131289551861604,0.7328486469256643,-1.5983278366309486,-1.078368117007039,-1.3890551805554998,0.8047806804696777,0.07992836906981857,-0.6817399521669331,-1.0780321079401127,-0.8938937832997098,-1.5361506784715462,-1.0262052306214644,-0.20566156215247575,-1.8672728546466333,-0.661739139821528,-2.0345598083914416,-0.8694529039564926,-0.7828274601806081,-1.1127277842988195,-2.5301741324973976,1.9896316692451121,-1.650160338676229,-1.3164617363470936,0.669287142418743,-1.064713924499601,-0.25198659587567823,1.3293468436681966,-0.42250938504748664,1.1496153239200164,-1.199057235454258,-1.3978932414455638,-1.339569828875869,1.7292164639629004,-1.2234377343158565,2.3784951036537074,1.958107879213733,-2.071067898800323,-0.7129842505358658,-1.8711216871335044,0.006926235558656298,1.6160747117682523,0.5412578069969687,0.8383502872043913,-0.9138812404780462,0.1388349569814377,-1.3399669300482107,0.26217879189756144,0.18215207165840167,1.486022696522567,0.21464771051216763,-0.9707127971321904,-1.3538349474117446,1.1526664496969823,0.7182732292365296,0.6382205101494038,-1.2292211650637326,0.44593300739699077,-0.5029166804919375,-1.8609599540108732,-1.6804924519686872,-0.5236460188399806,1.5256921105578822,-0.5288855840429023,-1.1802350930311762,-1.401808079140686,0.5477578072318323,0.7908922990710054,-1.1384428515214933,0.8931598856069916,1.6047017042124943,-1.8846487823272766,-0.9034242263587654,-1.3089726248275708,1.253454470398309,0.3433199340765031,-0.6045199890078272,0.3991866159563339,-1.5837878011335618,-1.7473888346726056,0.5600015452471359,-0.13390937503613845,-1.2149153184575803,-2.18377353918378,-0.5337428020295939,-1.3613289720341033,-0.9157498335308002,-1.305144156375838,1.926928938682086,0.8445568675778024,-1.6617317599500612,-1.7219897707807608,-0.29297202120549154,-2.0916817329393993,-0.21080921726009785,1.9301611954048363,1.1561216903510199,-0.16508590129779177,0.6500939023703202,-0.6471050096146005,0.5028179306903986,-1.056232236711602,-1.5172934327048198,-1.6923696920686364,-0.47491135352999037,-0.7778400133240485,0.3067588255164536,-0.9077892574411732,0.21464771051216763,2.1554053278668577,-1.9354472684100072,-0.6142982903437862,-0.7450364256094364,-0.8916842680771937,-1.141665307047624,-2.1737339902719786,0.322848299695299,-0.5013226461016537,-0.11464421584328333,-2.4571684895091024,-1.853995399276399,-1.0704566271772005,-1.1650181262971013,-1.6195575099012989,0.4781898877704975,-0.5909609220266121,-1.4949233635181485,0.16857371540154506,-0.9636618731543268,-0.9888980247650643,1.5137962735970738,1.3363310707111538,0.25982111351338966,1.1284183097399814,-1.5366088717493032,-0.6441160361925676,0.41161336622501044,0.4472257777649521,-1.8482274194608255,0.28681135991317147,-1.4622897410331528,-0.733586835221679,2.8311139313292153,-1.0952654873747871,1.0903239152436275,-0.5770890963030764,0.8751400292937855,0.34575933805126197,-1.8443122234666627,-0.6103170891413726,0.6118636347932019,0.356088283593992,0.7726757864030587,-1.1313101131040353,-1.9930986628458498,-0.7491194469875421,-1.672270230209896,-1.3468858436095728,1.0305901027613096,-1.186242886464616,-2.0000323157157185,-1.49764198459341,-0.42696421056281914,1.172230821777867,1.4254398717739432,-0.24733794115415159,1.0695240022359342,-1.6861789756437067,0.01331919838258716,-1.7082537638337287,1.079818104074108,-1.4892621169811024,-0.6545091751383271,-1.0226060379581303,-0.7344937787419883,1.0836420079111009,-1.3386025297453668,-0.4592807647684336,-0.6062340677632669,0.2223453754859103,0.5028393500007693,-1.594346635428535,-0.46592967447112,-1.7846349484235906,-1.0846620868038241,-0.7740708554310974,-1.5178636306629807,-1.9419536298667248,0.13428813708320775,-1.4074285976074552,-1.4986500117941888,-1.4564002886305452,-0.37348184361277115,1.1086653899409749,-2.1459572274746344,-1.0662921496585411,1.486022696522567,1.7292164639629004,0.26066833400924094,-0.44131708745780684,-1.7323856927946266,0.46719077016863075,-1.5539489844625054,0.17498631598921274,-0.717550030705906,-1.1482587493715275,1.090616299589364,-0.6885261387137119,0.6176583003467369,-1.7965887315612579,1.023359745371948,-0.5043056511456189,-1.0944407364902533,0.0828674901663805,-0.3153599756292258,-0.8863246388872259,1.3836304418657641,-1.4641941490533483,-1.8624974510995367,-1.8398321009162149,-1.584755100264064,-2.02925493495646,0.27776758764028947,-1.3434341122950433,-0.7408923121259156,-1.3212216889618877,-1.6746732062533698,-1.8190402568884834,-1.1926689014978984,-1.6617317599500612,-1.871010040752142,0.46107268962383985,-1.3351100703605603,-0.8422909103675839,-0.9116920892906686,-2.162330041057334,-0.49256604135214305,-0.6199138957077195,-0.7001691899224269,2.330429963031889,-1.616299239407727,-1.488233725745185,0.6303827609425376,-0.8876216107342263,1.008137188593612,0.2509254698574176,-1.9733246722245679,-2.0214912647744674,-1.6846211145199048,-2.126998161532215,2.5248104463940457,-1.9584486276602548,0.5348264907160983,-1.3193685468414367,-0.9582551795436537,-0.1445577394259124,-2.014969452385447,-0.10812022865096672,-1.123418987309335,0.2897237802112906,-0.9548490894022363,-0.6704423779317747,-1.6853594961610492,0.3291847252176093,1.0695240022359342,-1.7233338070484667,-0.2749205905100379,1.9849668765636612,-1.4056161835572805,-1.5152724652004261,-0.21867359292637945,-0.8811977753408996,-0.16677545392045964,-2.0450371865458608,-1.7208999291403873,0.8489302568497217,-2.0421760172246306,0.1863358579369669,0.2298074429684305,-1.2345832874241305,1.0919733971155539,2.2309800498768566,-1.5600736956791847,-1.4881929976749078,-1.9168242115345149,-1.3422438787008553,-0.8900962167125824,1.942440837924715,1.294834513128103,-1.7917522359087459,-0.6273415568227865,1.2990544479393498,-1.9735181330455263,-1.526681327517906,-0.5080439073115897,-0.7507180361816206,-1.2240388341386228,-0.49000015302756217,-0.9991412140282493,0.7585837447558617,-0.5196096939102197,1.2976907296898414,-0.6760892434593547,-0.8307802278744112,-1.9158112712309001,2.2309800498768566,1.079818104074108,-0.5996104351985544,2.0988434564290044,-0.7653191637844223,0.34333783423642095,-1.1089554948496665,2.740770634666278,-0.9740423442358894,-0.6646498326020239,-1.7196577130483737,-0.10812022865096672,-1.884709874432692,0.21076376487070622,-0.8873059657024384,-1.0666281587254676,-1.7396715471332325,-1.0582942905853137,-0.690786208212176,0.5301386009495058,-1.6027468670759804,-1.5425246712127219,-1.078368117007039,-0.26961882873411813,-1.9511276998237157,-1.5507518060743484,-1.623579439173989,-2.203150070333679,-0.25312525418818077,-1.1704666179008878,2.1842406820895004,-1.3541913205138096,1.870871543954156,-0.003934893575321429,-1.203867742345,-0.5821481382745219,0.27925170827874385,0.5600571215096922,-1.8909413189278983,-0.97889920392354,-0.9567429595929644,0.7279820256980503,-0.350130457421832,0.11901532518704372,-0.8794352039428768,1.1123499063834106,-1.6593287839065878,0.9856902278811261,-0.05430961223201316,-0.3861280089194297,-1.3733642113123241,-1.2814504149565988,-1.9902676837654285,-1.5160512166128064,-0.8904624160203183],\"xaxis\":\"x\",\"y\":[1.4356010029597592,0.1096724687031124,0.5451109935714217,0.22887414050965948,2.2846218534334506,-0.376784864557989,0.16268286579936114,0.20912439866926444,0.42827816062455737,0.35905140882693043,-0.6640891663171793,-1.1658597816746774,-0.5244606608136839,1.8340909753174033,0.2887948900059062,-0.2570185692384993,0.6537437894219041,-0.4643345036321661,0.21641048256891882,2.046990931459306,-0.513353691736579,-1.196893823708853,-0.03104103556345755,0.14512900731926562,-1.0547780832957425,-0.018986482705774656,0.5355654092867247,-0.5215558049183504,-0.8031263044040402,-1.3175197183942466,0.6290941052135424,-0.9484461948278399,2.7445703697551194,0.8275214368865969,0.05559876688927345,-1.2115489003737177,0.792805211792149,-0.4313151702695373,-0.658892504163957,0.32151023928054057,0.025361108468186098,0.357099546395213,-0.7749631337688538,0.7480646793361841,0.23353719782736507,-1.213837456079767,1.055818076322827,0.07389532546103533,-0.9742599172461508,0.8525686060365592,0.6057818893098763,0.3268639264831924,-0.9887394165704843,1.4773397995389104,-0.3040203124277296,0.03345510119116642,-0.7455200478298138,1.1213802363966219,0.9957865054424815,-0.6366792422314865,-0.7738636498889613,-0.3976323799907927,1.2392077921138835,-0.6556802060293379,-0.9827510607768118,3.0058220176435095,0.9589147779341644,0.5903980955546774,-1.1597637542659276,-0.4306837087416962,0.40978566129012084,-1.276943083585202,2.57802944690413,-0.051605907041257046,1.9344176165870193,-0.1323106773969066,-1.0685112286630782,0.387372444844077,-0.5911808622115345,-1.0867220825734953,-0.2690491166333829,-0.019870763816955,3.0114529251911537,-0.8502069802842505,-0.7783932624864088,0.2599448185037503,-0.5960251141522604,0.7735252718315995,-0.1595456628482219,0.483631605677559,1.3225133018300672,1.434650168627337,1.612527914654054,-0.4326606680568553,0.2944792617115836,1.3462096208038312,0.1589892010175118,-0.9818002264443939,1.331641456972311,-0.49557158662096357,-0.04446026129791425,0.43535011924916656,-0.6664012153750798,-1.3262529055700947,0.3115643228158939,0.8127298606636737,1.531010759014229,-0.42427195056902595,-0.5904314218134887,-1.260506476256905,-0.06692046444766096,-0.3346510307721272,1.4214170350879902,0.1036934473244937,-0.2227283288070502,-0.7116996408814583,0.05488312709820604,0.7046608717036901,-0.0797941745598843,0.7570682575924993,-1.0296200354675231,0.8445946741815101,2.6544693902849845,1.9680234751075267,-0.8259341843049843,0.36351538158601665,0.20453576204692894,-0.031242081497672748,2.185703122947762,1.3438935007008728,1.0747211834283539,-0.32318599077211524,-0.8471597683456705,0.5825368100202677,1.3317063058791396,-0.6994573922970757,1.2974453915746438,-0.7516160752385646,-0.6031324769154378,-0.43429679972465246,1.103515607931191,0.26442981112814457,-0.2690491166333829,0.9776855890342349,2.6544693902849845,2.0446860715514985,-0.981605517503067,0.036919663248779065,2.4672856913578842,-0.3899743054341328,-1.010097769109689,0.3056548997132016,0.7578215416575778,-0.9781871354614379,-0.38269428766068103,-0.22119246405088683,0.779801578378193,0.4143807732644872,0.7747984784323224,-0.24695230717299826,-0.045517284335951085,1.5672161389401598,0.9437806895280444,0.5233094624946698,0.2009663637271756,2.653870309721898,-0.20696150947541925,-0.843583520922081,0.9902754076746585,0.9063724525909646,-0.08986111284712445,-0.048640342524462955,0.3569332283778269,-0.39731340458736963,-1.1520352372300366,-0.9956247708890352,0.8183567426964828,1.0370415509067472,0.6578474945505618,1.4670138135336372,0.3920521464097981,-0.2650126232714279,0.8378095432859329,0.410124885405893,-0.9797443344382554,0.45905499767498964,0.04250364742069154,-1.32313850761646,0.207241665830447,1.5800675479039934,-0.6120486263566868,1.986062589432109,-0.06325404976811366,3.0725605616914486,1.1281487112195092,2.785540461888629,0.2821212368768542,1.2040845637734163,-0.7387067336097469,0.6217679470419937,0.5751446698617991,-0.7967258836814675,-1.1657808489836974,0.18242002858520023,-1.0966042909529532,1.2348595896928076,-0.019300609938105315,-0.7477491939344958,-0.055998616767155535,0.13227899815834515,0.328844092861531,-0.7791323956293276,1.0441280283537218,-0.6532737149417439,0.4674186182793778,-0.390107073932652,1.3428536340217994,2.153617979669535,-0.24831412098674946,-0.32563245528804674,0.7129005481552282,0.2814359395414745,-0.5159940961431791,-0.15508053335969704,0.5045768710467933,-0.8587535631540404,-0.40322282769006174,1.1981500437872832,0.376385014680107,-0.8981174686742857,0.10476407369972039,0.9309956143005856,-0.6661410880610794,2.013363629920688,-0.12213902944273254,2.573527462031564,-0.9060038510921368,-0.6342264841505888,-1.057481709367495,-0.4468547790729557,-0.6338554781583312,0.29109122212564204,-1.087555373013185,-0.6452068576112716,0.09933948130788711,0.2596472583252258,0.3262976124613396,0.7100907017138705,-0.402847252347297,-0.6026604843011467,1.1533890667834545,0.42371423530918356,-0.1914336473479269,0.2901403877932241,-0.2473919820897692,0.9921577232730098,0.299014883080337,0.6021918448766203,1.8554368218523989,-1.1452009604995583,-0.03563386391372046,-0.9416352473384221,0.7474747513403487,0.7640106725187796,1.8481474439122438,-0.11457066141290453,0.6562534520143777,-0.19434969431957735,0.3048324206856872,0.08377528773197498,2.280227540175963,0.8587171365879434,-0.05496884974375754,-0.4234856666116132,0.2340431551594258,0.8276226073979953,-0.04264766846839517,-0.44820027686027364,0.9921577232730098,-1.057481709367495,-0.6774691817616199,-0.4310783721965967,-0.7078928888891569,-0.10595684903940003,1.3457667784417673,0.14401858345116705,-1.1335139989715024,1.7744430468995078,0.9533801175741812,-1.220668974590779,0.20816744880964697,0.34574094612819334,-0.406041346190971,1.0366718539300457,0.27947883153751074,2.5342477347745453,1.7889508877467852,0.23531352640721176,-1.220668974590779,-0.8819176594189284,-0.5792830833151698,0.371953857863252,0.7450514084052878,-0.5445369389178374,0.035598586123162766,2.062619964098198,-0.9930127080053793,0.507967320852044,0.49903701451555976,-0.0005676704900720388,2.058462100913494,-1.1089003753448745,0.38670049771621284,-0.1547356405188763,1.9251788872780138,-0.30439512457143514,0.6502047593094872,-0.6774691817616199,1.4721524679299671,1.2669034327293918,1.1550405120759255,0.03451930155462198,-0.8078581947570499,-0.5911573688596826,-0.22762931910699832,-0.5940965375336806,0.06021652801218611,-0.7982717452081868,0.357571539009504,1.0405197914541953,-0.26919463625114914,0.02730326273304492,-0.8041811683108792,-0.9961522028424551,-0.2667276876302056,-0.7497010563662136,-0.7069958903642779,0.0997516491219069,-1.241320183463003,0.2773456103719809,1.9136826209403857,-0.8255646177335254,-0.44457543920139175,1.157652482069924,0.34940888123278446,1.2579900494615088,0.04542779902761195,1.4103325114307543,-0.8044179663838193,-0.6118264538012695,-0.3599637132697789,0.9261900684928277,1.0769546912840906,0.63392601736315,0.34501355966120073,-0.383537450378021,0.6269545648528738,-0.6274303697781449,0.6324477747266601,-0.3021346652732936,0.6088286544463054,1.330972803884947,0.11344342506802892,1.1271776775757403,-0.18886650900955862,0.6533070625870391,0.4437295377959643,-0.9926180445504789,2.157963354691574,-0.35855426017993425,-0.07285582476632509,0.026770029607771428,1.0580284249606322,0.13938090774982506,-0.6516914190814855,-0.3846461500923991,1.226866627080521,0.568747877313646,0.04499407552724952,-0.6037137446763962,0.5178602853303427,-0.08919076925085033,0.1087216343706948,0.3906949019465542,-0.909658867095915,-0.43761179089801494,-1.2506143955997973,-0.553270126093685,-0.037519467640234935,2.6307159592001916,1.0207858239068621,-0.11691718729952263,0.8351562750918543,0.5483311116083875,0.49674068239582425,-0.9905334136202416,-0.333675099556268,1.2780907482273642,0.2340431551594258,2.6734824606443306,0.3048324206856872,0.07448957171926657,0.2892551359442714,0.808843922850718,-0.6126784408642777,-0.6153208896922816,0.45507234012057446,-0.48441454439910747,-0.42084182185147084,-0.5863683921472943,-0.3410089531372589,1.181197492139481,1.5123292688645116,-0.04264766846839517,0.6959281907264535,-0.3976323799907927,1.0267643845563548,2.1538179084314586,-0.06346455875415156,1.3225133018300672,-0.604634028953675,0.4718720366267372,-1.048008505227538,0.3686881391199967,-0.7795926415676929,-0.2143860424233158,-0.0797941745598843,1.22841098796077,3.270569350981271,0.729012758572391,1.7895385438824536,0.13938090774982506,-0.20187541170584683,0.41817437877795083,-0.9950066595687098,-1.1616115871232242,-0.9930127080053793,-0.5176269831714737,0.4884980836140295,0.2522323901162668,-1.2433845715932281,1.90710122495818,1.331641456972311,0.11223069577922996,-0.7934171860123339,-0.13551735824903693,0.05559876688927345,0.34654085115980726,-0.9554597917830634,-0.16982675005985573,-0.028275241670871427,-0.2583154767905244,-0.7158519104937601,0.37841917893521226,2.0967099968863985,0.1307429258027304,1.1132008850316282,-0.22267073033672402,-1.0527176654277566,-0.04963392243165897,1.3438935007008728,0.5101705633855649,1.397420316651251,-0.16177886021938764,-0.75559873279298,0.986770132578259,-0.45169759159288314,1.1000360487065513,0.5023145352480751,1.026777985851982,3.1363963971505764,0.1579237847405094,-0.9510286349662082,0.5146747310994145,0.2074776691010803,1.544755164637453,-0.4837527404155793,1.1349065426117877,-1.173799999900068,-0.019300609938105315,0.04051940402421993,0.70477372562378,0.2751634509710025,0.2880844957870854,-0.21201077761259957,2.1398958612677252,1.2189137783580144,1.578106014881739,-0.6397248071498166,1.1112990522560016,-0.03267665512030707,-0.31024818102514806,-0.0704295258561964,1.1642470621072913,-0.15539584097081477,3.0560656817126475,-0.3676165283272177,-0.0920708307934139,1.096855676780636,-0.3885498749558345,-1.2028079367841835,-0.9388402221893648,0.11199735585758092,0.33803248800294866,0.10419455261468848,-1.2058684989302786,0.23633222297642273,2.1255195709638572,-0.787574948924696,-0.23435680804358922,0.37060836007593356,-0.22396218471705195,-0.06466622145953824,-0.19428250830452315,1.8655656769330973,-1.001684838559609,1.4978562706438572,0.527966018708696,-0.8066604626960163,1.0580284249606322,0.6269545648528738,-0.08271001393208413,-0.9600573101059646,0.6747697927008224,0.3052918777340822,-0.25369611213602217,2.573527462031564,-0.7136515033131763,0.7124923209810237,1.3391072821472125,-0.25073307846066833,0.36448512014120443,0.20657340627346243,0.21423760818199647,-0.847674569801974,-0.41220455961477537,-0.18331042336847497,-0.8232238297515271,1.9344176165870193,-0.014803032346818141,0.672485207257012,0.0937632933282347,0.14512900731926562,0.07950199629708037,0.30404386492884544,0.10896569674637421,0.05181081827618497,-1.168496941441775,-0.3702403378867996,-0.061036138228409864,0.18744580337052902,1.0205570177402217,-0.04264766846839517,0.9122509539282762,1.8559399656516584,-0.3899743054341328,-0.8717349448813415,-0.983120627348271,0.49192821233158446,-1.2053949027843989,-0.6068548430450617,-0.6953419662441409,1.2479834341585117,0.028294147688009513,-0.17948203264402315,0.6215212569128288,-0.9744663728634038,0.9486805884073509,0.22161397404740282,0.36435446728522325,0.6728851162841589,-0.02407623644297837,0.5485180520899282,0.5541135792090891,0.3727180878896114,0.530226313896046,-0.35483349758189997,-0.2634068340593184,-0.7019545627515755,0.29879464227809177,-0.39969909727534403,-0.4725402588545941,-0.04854979566510049,-0.6546981454200423,-1.087555373013185,0.3262976124613396,-0.01604132509978319,1.1112990522560016,0.7195658831372223,2.7459701265027796,0.48446683378275784,-0.03654353642437559,0.1654559893034836,1.1963675858140002,1.5008633449825708,0.7336134898708085,0.28161890180687577,-0.08201157398864041,1.1160255329259734,0.2792974728036987,0.03146655931087287,1.015803741784736,2.206292347888518,0.38705174528693315,0.8800554855298363,0.09541117167195791,-0.19219787737428656,0.44463583526187467,2.379193257365355,-0.16017307100727748,1.250515643014412,1.228310972137249,0.1815112833843956,-0.981605517503067,0.5662563498325465,0.32575843383199465,-0.25327270975702404,0.8811507164561303,-1.1696845738471329,0.19591185001774872,-1.2145227534151464,-0.6856984303358994,0.7966300533656021,-1.2757554511798443,0.7127562662711456,0.8786892348731216,-0.48479585764649236,0.8422061362967501,0.8800554855298363,1.1642470621072913,-1.3447203080210897,0.5696314998793602,-1.1648838504588181,1.2090530880885755,-0.01753695534403517,1.08840135697003,-0.7011303675242402,1.3868773463079107,-0.07385965457375089,-0.39969909727534403,0.5158144494912191,0.003555739576000336,-0.9740178736009643,-0.8007510395933242,0.7351103143600846,-0.41193902261773735,-1.0717538692533852,1.4936384185480909,0.053937538338034684,-0.2566239057835988,-0.7982717452081868,-0.9205440353278451,0.36395980383032256,-0.26192696424189116,0.024336587017034846,0.4658614193025605,2.4124506443323575,2.2846218534334506,1.0337307337243007,-0.37237880462457523,0.8437937389549263,-0.3066477205393081,-0.5996234155069028,-1.3518424604125807,1.0221904030739657,0.45383669678961724,0.48141277478190486,-0.6697103222700411,-0.6573891409946784,1.1806300610060745,3.0413307885356136,2.52593270440545,-0.9564474696748478,1.2040845637734163,-0.0009121401780903027,0.9896105172500818,2.707721024399438,-1.0132668866920533,-0.4251689490939045,-0.3137294308194359,0.3083458952878379,-0.2062341230084266,-0.9785028662253581],\"yaxis\":\"y\",\"type\":\"scattergl\"},{\"hovertemplate\":\"is_safe=1<br>PC1=%{x}<br>PC2=%{y}<extra></extra>\",\"legendgroup\":\"1\",\"marker\":{\"color\":\"#EF553B\",\"opacity\":1,\"symbol\":\"circle\",\"size\":3},\"mode\":\"markers\",\"name\":\"1\",\"showlegend\":true,\"x\":[-0.6068702709296782,0.41760500193901057,0.22174565441742017,0.5261777636446053,-1.37586900753149,-0.12580549458343018,1.141750117384719,1.524341399124972,1.5063394577569145,1.047218534494185,0.7277474287649228,0.8349930485550996,1.2406997550336165,0.31718703823539773,0.9392756441659825,0.9465775818850004,1.6283866400189235,1.7524575922000731,-1.2536940161943926,-1.032854140324151,0.5522600605788213,-0.44503144565295666,0.9607103615510447,0.8656794043643921,0.6886478640620476,-1.5785032917337194,1.0027227346967917,-0.3055490006929724,-1.3327274583522248,1.1479577084024204,1.727032927691209,1.9453191756096755,0.8373925202333511,-0.6073621735986972,-0.6360525203991849,-1.8202270056017138,0.8224248101523463,-1.1707250140072591,-1.364739975278356,2.1079202708250433,0.05887179258528757,-1.3756769848809807,-0.028344895512482714,1.0735732943256366,-0.03575289937954774,-1.3552818737779793,0.6124847105063552,-1.419123273014955,-1.033532853107473,0.7498345516667779,0.15696470714933228,0.5149560454195442,1.1498968762524506,-0.3972398479374073,-1.471738727951655,0.6228002167320439,0.6214098325040894,0.23660135981802113,0.6146050391478807,0.957978021760138,1.4350251048574807,0.48334972904952295,2.8678667336735684,1.6135920615437347,0.5945347369885181,-0.8570398576182309,-0.7297836439079199,1.8938915100138336,0.36540698747599015,0.12536966537925176,0.6770866125076969,1.4381984347424175,0.7317058366017238,0.04772905653936402,0.6224010199320934,0.6745537367358121,0.5028189760170605,1.6677063859630894,1.0098400520276576,1.3339158341572495,0.5199273588775885,1.5748252855025768,0.6099051382861256,1.1350243410276448,-0.7854698915429069,0.7716365085743273,0.006415735753527844,0.8148721922574146,0.33654076123445337,0.3766957960302456,1.6099254302007353,0.36498497271425123,-0.4562191159472305,-0.8573162077759053,1.2726374710872574,0.5840608482764654,-0.05307581885759338,-1.0093945877961463,-2.046931056736589,0.7564314885449586,-1.724708033556982,0.9823630751502804,0.714663115435636,0.5465815959351932,1.1030546826193959,-0.6940108334296924,0.29096110295998423,2.4480883296858513,-1.3889997280995723,1.1914321356429116,1.1529820798059145,0.5901666041956191,1.0664243434716023,1.9286486170174812,0.5706352446674305,1.317908483111813,0.5663882706558409,1.2558532104179976,1.0926057275315066,-0.34413213189502256,0.26827679250485253,1.1467214606884748,2.0427650156126007,-1.526681327517906,0.8511088650957216,-0.10276059462433926,-0.8724299211381251,1.5990790503238352,1.4487410469274942,2.313143938530318,1.2359436751692814,0.11889839745523399,1.8269701787628954,0.4353025480037947,0.03536132748229438,-1.1152122164828469,0.041382098024246236,0.6349780490248006,0.5399916926588834,-1.8127069922175854,0.84267806998557,-0.02209420139829103,-1.2666052722568917,-0.2356443358071141,1.7960380557428997,-0.14031286104193172,1.7389368286576945,2.09052607473687,1.1662426357119515,-0.42933065517839525,-0.0245673346614532,2.163524708994721,-1.4475106035416967,-2.0819989154287044,0.4592803356140246,1.3534542123644528,1.0274933009912353,0.33816457312461906,1.102361260098028,0.497443856375759,1.649681979957999,0.2799363698182436,-1.533605154182104,-0.9037602354256916,0.39419737263028537,-0.13001525483853565,1.5115446265409527,3.080659226873691,0.9537468670660878,0.6732799118544305,1.752231487211656,0.1460509035156225,-0.31065268286655895,0.8573020057392152,-0.2849369186676938,1.062870468227085,-1.6662884255382264,2.399378224915753,0.07239572692764785,-0.9485579810234926,1.4371057507553915,1.0635379565661947,-2.0061517555305213,1.8957309632643504,1.7756580271869644,1.881625581235315,0.722144864899959,2.3664258015218436,0.5038090584269802,-0.4814580847579441,-1.0422167579992636,1.2440960141327033,1.1481715481813723,0.06073966392804969,-0.25806987223494376,0.0196570127453699,0.21708788538926968,0.9813743865551182,1.0809742596165464,0.5379584450221685,0.7342197670246541,1.2775396383827802,0.9501479731479973,2.0136533457770303,-0.045275283407211604,0.857094861022609,-0.12730786856893303,0.6561827836967021,0.22201146702087798,0.019434053685509274,-0.7030876081690746,0.7832237440537886,-0.15970625683603193,0.4714229505674527,-0.8703629541615779,-0.15787701254877662,0.3437328197463874,-0.14302024233724922,1.7651943478510497,1.5467746809160936,1.2784426795821708,0.17288636105614538,0.9695403335640064,1.0019352323887385,0.9940791650314912,0.3071927621114725,0.29582605649902266,-0.2349442281719715,0.4191537388076179,0.5077674614271209,0.7286817649479564,-1.3399058379427957,-1.7015641260607652,0.6899581959127766,-1.6108472629229822,0.8155880893643854,0.9515734854533977,1.3196018738025685,0.5128539702626923,0.2531890535320488,-1.2250566875450732,1.1560198552524714,-0.24631236725583516,1.1716834170476935,-0.5724477642553443,1.3024292379852138,0.7859683788998716,1.63351137809193,-0.33506023073944513,-1.825292065418828,0.24920223741394834,2.128210017730474,-1.5188920218988982,0.8498044966487753,1.6998014192792914,0.5929157837593013,-1.0026133093779175,-0.709232325121851,2.2177499678963923,-0.17127205808226686,-1.7157379622504163,0.7598146865231857,1.6908158823928188,0.5344863248010745,-0.740731211237153,0.09490272944460161,-1.7874553896745442,1.9335981925227705,1.1277044141620767,0.36820954362750635,0.8331816649087314,-0.12089982775934506,1.0695050071441272,1.0728819525090225,-1.2896368217479486,-1.6209629965734602,-0.857380779787993,1.2543585270786497,0.724949481859088,1.7815162438844754,0.1402506231840257,0.22167193369158852,0.9970242694289764,2.244466760514163,-0.43364541138345997,0.6443933166034701,0.5298411893676256,-1.9042798664035485,0.48990597765170835,0.29698680152762713,1.6864663761688636,1.240345840970112,1.4751211580983221,0.21185323328918354,1.4753304083911079,0.8142215685625066,1.5485747750396661,0.14533920761243985,0.1647722811758698,0.8111883428078335,0.6080519812428186,0.4213397042721578,1.5478641393860013,1.142276087881666,-1.5758713982008874,2.1345590768474865,1.372820583881066,1.6241112081208078,-1.830866942712485,0.7257921526630552,1.1348038857749112,1.9303434313687053,0.1863527026840276,-1.0612621931850716,1.9939927584875703,0.8546206332404342,1.3185689179519111,1.5957698622809886,-0.703982207441857,2.345867106032969,0.9094094398064878,1.850524911121384,1.4080899177945896,1.5675812591404217,-0.48033278161251,1.5939202543714714,-1.2441797356914364,1.5992872751870997,1.952333224232955,-1.551047087070998,0.7438190475524171,2.3818969826427656,0.37935718282769504,1.5245959421027744,1.5947471058578988,0.21208849237850586,-0.8711793568051702,-0.6559634345398032,-0.17643446230934054,0.11829099043962359,-0.9464488577547906,-0.6951034184815161,0.7631924029280488,-0.6681177513440787,-0.07510670320307138,0.3362173658650881,1.3979759612669607,-1.9426052839654395,0.12224516736455,0.7360739892917637,0.6912874731124605,1.7963164671210623,0.6243774015386071,-0.7659300898128601,2.178175683948709,0.4678445049720985,0.6155077368334608,0.2669664855255496,2.08098402848692,0.9923549071585005,2.2856340237145223,2.2396414747958837,0.2157143608312313,0.7413788279067483,0.5407325134414475,0.2255685328248924,0.3792672694248022,1.9900263113788939,0.4248037455647194,2.6943841603495646,1.9510604596010914,0.1916463313647791,-1.6128678721283354,-1.924288045916064,0.5181124808145686,-1.0201672469472154,1.1356082278557398,0.8281155599025805,1.8352085733016072,1.421082286621456,0.5354448531387636,0.6495057446984439,1.4787856341222896,-0.7932388331267769,2.1068988733967147,0.7271783157900806,-0.48135871380986706,0.3139129434500011,0.4525397454717908,-0.43289438619904347,0.005289018758569919,0.5627237349404511,-0.6660437115218809,1.4671113524580137,1.170910609141955,2.5554575176906704,-0.8876012466990879,2.0353376980113445,-0.24111669608651254,1.1144803648125112,-1.049461142798085,1.418181778070422,-0.06322630722599559,-0.32040363092119994,0.8445744141377143,1.5353436974753911,-0.5344460656794885,1.8283050907754068,-0.27626318363301,2.121944500433054,1.5887340408849577,1.9018595124114916,-1.0618934832486477,1.9871855060928016,-0.16729437119364596,-1.6850898506014145,0.740077625285499,0.7156157002666834,0.7300222670047286,0.9741879230617302,0.023636113345889324,-0.9095029381032907,1.1350492497803824,-1.269160622752005,0.05303742936528203,0.7097135946474841,1.209345562397119,1.378223713435094,0.33690616960508074,0.6466670847828131,0.7713718059632391,-1.3989925509925683,2.140636728342494,-0.588782308668702,1.291354642569431,1.2800886720117302,-0.313334796972473,0.10041017303287868,1.4419738601715566,1.2318901321329379,-1.220892210026414,0.8548787054548846,2.015292653092815,0.6983039857485855,1.3634969072048095,-1.2878602226652156,0.5777093649408893,1.0691482706311108,0.7768813551276957,2.108058229584846,1.4148950646131784,-0.8725317413138173,1.1043899232228624,0.9356813347597728,0.6763808750340117,-1.2187030588390362,0.9821724219936038,0.7189452423960974,-0.7046542255757101,0.9015421923607186,0.565836291637608,-0.1569377734867289,0.6615568032942046,0.6174107511765236,1.0070002472996609,0.10203474117778255,1.5743242685269339,-1.905110246988999,1.1486851937774314,-0.5064863945382585,0.5906125322639107,-0.3299488131511366,-1.6797235267619772,0.5509985456754719,0.1375832680085084,0.40699068050573844,0.048759553351461225,0.3854467659669286,-0.2908541268687255,0.9567888287935775,1.0290423714250831,0.25950295500115483,0.3870745049118143,0.4564440700712462,1.6048038330820007,-1.435755194327822,0.8321862663283687,2.2725591583947247,1.5519756236249178,1.3752302201668885,1.1437321238554905,0.9193085609713544,0.46908672603839724,1.9328471723126386,1.103085584621627,2.0703946506263815,0.20596096368660038,0.3988326918066338,-0.2349916363817378,1.4423821812267013,0.2500111839037981,1.0522270119658619,0.13446579350948137,1.7789423164256433,0.7881732897133666,0.9662978823879737,0.28916027220356444,0.3849759490430402,0.5861492594348093,1.6107533419366813,1.9799347846683015,-0.6701232878133108,1.318318954511704,-1.1739832845008311,1.0597719591117791,-0.8999317669739587,-0.2828994598786202,1.3247224305689271,0.20563759318866093,0.9918447211590969,0.5585470071351821,1.2659524029033191,1.837392124496153,-0.1074267912067432,0.25245838243420027,1.7969488273827265,1.4627860383887152,0.6975154182167298,1.2972139443878854,1.6639312891249052,-0.9022431023721666,2.618333006499991,1.2131561159037036,-1.4838554233704293,-1.4567721176391981,-0.20189069138950633,-1.9588253647974583,1.0244309851771773,1.0031377508142816,1.0444423057815897,0.44736060040714437,1.4274292650337155,-1.1191892162062211,0.3328397337478224,-1.0635282457092081,-1.2155466085211564,0.8443107021361508,0.8695353102474149,1.5777587767605958,0.02721879966406278,-0.06432844405917112,0.9657866261904818,1.8277995091850243,0.6583856337025843,-0.02044358521307068,1.2359819541495685,0.5154254685286747,0.6452451116626317,1.1319335474299201,1.4067244721650833,0.6401203339329693,-0.806246284638336,1.0375873265346702,1.3038888031956863,-0.10986242620290626,0.623447341036015,1.112347765987235,1.1673545886646024,1.8717047420148334,-0.3321344649475773,0.24925665435415925,0.028953271887476168,1.80143242942697,0.49206666100398927,1.1645387070541036,1.148758954297545,1.4374926525001652,-0.403216739506241,0.4270855678011689,-1.5785440198039955,0.8284740186836835,1.5109983019574378,0.35741966139556985,1.696262601985666,-0.5814964841758076,-0.3667943163902723,-0.01911430801338693,1.0146333158027663,-0.009473960875821908,2.0838466065457637,0.2815542627979429,1.0619259822217113,0.17293023505497832,-1.1369917236762195,0.7843076224280051,1.1814388799742226,0.558541740707591,-1.352592731319731,0.6171561684044395,1.2886212872975737,-0.22412277197066344,0.5281488837978136,-0.5515052930531115,2.1921704600863836,1.7128471348482817,1.2988655368102764,0.9433010429838988,0.1485114722735741,0.47746098868358816,0.69400928985913,0.7827272966671709,0.4671963701614618,1.9238381102643647,-0.4535096241014485,-1.670605635807567,-1.076897695049464,0.7914284391498085,1.6668170485564888,-1.6419226659851343,-0.6578523916276956,-1.6569314375640312,0.7603649330495098,0.1728793324285602,0.053445785240423385,2.5147041854868575,-0.49008021535335833,0.9117411292912638,1.3728135502791954,1.9815762323802617,1.816250911122516,0.34439009373507407,1.7418071421312602,-0.0670119420312723,0.5945112220505384,1.8911830585204281,-0.07616669825407166,1.098056663526249,-1.0141398011024338,-0.027557383255859328,-1.5354990243728321,-1.63969278672748,2.3144721704033397,-1.6482619136817056,1.0811894882359705,-0.316565748867098,2.570231722182151,2.4371415184737306,1.2809587205555655,-0.2899595722268845,2.6377457060797123,0.607255703167667,1.4719917071865036,0.12905558572264111,-0.1662965185490081,0.4247812759534016,1.2627394549404747,0.6475711613602949,-0.4126572940338295,0.7374577033287992,-0.05808435602069234,-1.8726388201870297,-0.25751336812100234,0.6434698815232303,0.5479912889230539,1.6685336108090387,1.221392414814806,1.8956937395592954,0.5160784965450061,1.836474652819696,1.7657350823903035,-0.29203280176533397,1.2084902579984507,1.1785029396262128,0.9028963783131397,0.8095964088818187,-0.6341028295049179,1.4561621021044737,-0.8792213790867808,0.8620524905850044,0.9192962261218969,-1.2909148528074035,-1.0226924072015193,1.0146119064409655,1.0538424757527116,-1.1943274730802733],\"xaxis\":\"x\",\"y\":[-1.3550357910571917,-0.0768722394390592,-1.2096861019526421,-0.04270355665123736,-0.4351148655585514,-1.1389078949951552,-1.478759603619738,-0.42543617272907835,-0.1508327817396202,1.1320212532947271,-0.09039624020998552,-0.02536834135413451,-0.8910822726047983,-0.35617629450464944,0.1738284836545373,-0.6855841192579999,-0.17922635018762453,-0.8498898872937412,-0.26790357335963777,-0.7527616185123092,-0.5662927013067349,-1.1352837829590092,0.4458103309715056,-1.3997214774107012,-0.41603232556004793,0.10754574864126297,-0.22134795087752382,-0.9779110638312474,-0.34188085477869634,-0.7303848996670387,0.455224358800457,0.12677392683810054,0.13000451828254805,-1.1295524680382887,-0.6170124606992075,1.412473750254233,-0.93870770682052,-0.5525309929507662,-0.4448490808336989,0.6681271996962939,-0.22885844155570143,2.344607799836682,-0.5917404042630225,0.5129434633824356,-0.593310233736956,2.073113163827459,-0.7682011561788714,1.0751756044847784,2.9136428707704947,0.09251321428145776,-0.8930472321143572,0.3169279257848562,-0.4823596252330421,-1.1349899993702477,-0.18159176045770087,-1.3398865729765048,-1.3392928388292218,-0.20500159976332935,-0.7267943173711857,-0.7665092510380256,-0.0848566743240124,-0.8788639780406551,0.7362404668756842,0.18296352343537794,-0.43479400393217876,-0.5029475293335673,-1.1718732343517912,-0.0012848328084838132,-0.8689376479328547,-0.6313713870446613,-0.7288244560507184,0.8188780946574621,-0.6447563515037519,-0.795282005205465,-0.6723301497427103,-0.12559902010827476,-0.05159477331983677,-0.46318159527286346,1.0214285397782548,0.4216886778048316,0.2601960008499512,-0.7676012808134771,-0.5432607170972005,-0.4063679853398494,-0.3757065072992987,-0.9214566756989804,-0.33283100952907807,0.9347567043609265,-0.07327525688308399,0.3313134951904439,-0.6282386405286023,1.1823297366482701,-0.99782281133897,2.423007350459694,-1.5431906502232713,-1.138135819375537,-0.755792943489596,-0.751362284917452,0.2789279062322393,-0.16122257667363918,-0.08103564277278111,-1.3270865440706783,-0.7175707691793112,-1.4392292416622263,0.22132285374688682,2.1442448031777745,-1.1497321074490245,0.055500997113530855,0.9967736297762216,0.815781017173582,0.6333373508110841,-0.9519492791290556,-0.496944233727765,-0.4207084741039959,-0.3498988450948536,-1.0904421453004425,0.3070516253331471,0.8230394159934575,-0.23032676047198017,0.6475202648385301,-0.8637965892295527,-0.34753597749089143,0.1220813673972379,-0.25327270975702404,0.27847939310356307,1.2397177909293176,-0.9656542529965758,-0.42018314392687717,1.9884767363112574,0.13714551156883817,-0.27317633489246607,1.6506212274608247,-0.9483945755671339,0.1155806599844577,-0.31335926515970874,-0.46087927803116985,-0.9780666633261155,0.40186842430563435,-0.42280515418009185,0.19005786625418544,-0.4552148090792474,3.028714087632354,0.5379471752011199,-0.8632406516423977,0.3693029108695991,-0.7163318001438687,-0.6123790024774417,0.42890092229963506,-1.045403746264507,-1.285419722220472,-0.48418315600920453,0.8301645598947771,0.293672942553611,1.8072372794641254,0.27613958978631264,-0.011651235234208452,-1.2336690786930484,1.125643511221649,0.8577751266011946,-1.1692972834924285,0.2623603592734755,-0.07317155553024542,-0.2694976158958221,-0.9846239905175495,-0.31539511014061367,-0.777021121638957,0.05705221898302903,0.9965310541807748,0.6159961326550129,-0.39690521498948805,-0.3353721000855441,-0.5201315959057407,-0.978848939444966,-0.7537056492711138,-0.5960251141522604,-1.3277301437632614,0.410877368756327,-0.2040685980723521,-0.34126992078379,2.4977415778237986,-0.45101690322589666,-0.013658378806601082,0.31771054399152643,0.03194200410338022,-0.9280703518023825,-0.3431220719642196,0.06337339272001356,0.2563133827684057,-1.3402602739209948,0.4587810080425257,-0.3827076378681969,-0.8249572882636901,-0.10416901304706534,-0.8495471021415577,-0.6549737820727558,-0.8415563619277024,-0.7079250365635484,-0.103462917312066,-0.44616759551462654,-0.25589128761059665,-0.3167027797038169,-0.9332912329301923,-1.390773275226281,0.2263661882046696,-1.0372564278033731,-0.57648909427342,-0.6083641082297516,-0.04319860763990304,-0.32667386223147604,-1.1919021283510878,2.1436838098808138,-0.5792626645796929,-1.0108147217870866,0.6825452706887667,-0.9180093016035791,2.3946499058606574,-0.45133326468133317,-0.6869962217091152,-0.5456318732865352,-0.05256092127692814,-0.8463367041568634,-0.05026417191672684,-0.28002225745531273,0.8300434629802755,-1.2095705847443063,-1.1342307183585376,-0.2447689930841436,-1.0922456665669558,0.009605707590898497,-0.606606948827024,-0.1955863598916048,-0.37762802727532885,-0.0800848084403637,-0.06025106040143361,1.160565321978396,0.24335105163765514,-0.6478722897217424,-1.2950577041741964,0.3177586221158713,-0.16102341105003637,-0.6169570213600786,0.7603251381238489,-0.23567677396998937,0.3112751204023132,-1.239614107560685,-1.3168889331488831,0.6802787946654194,-1.158162939820116,-1.1552886339191832,0.1594020510263464,-0.04276864680232812,0.4441248003391325,-0.210270616370381,0.11570637769202613,-0.21195019558634454,-0.4243206555141127,-0.6906319222227326,1.7643692101074349,-0.32163288267966855,-0.7896866084915463,0.7239719430706364,2.3193262803486756,1.782732992209837,-1.2507877387172226,1.662568341993792,-0.178983296126041,0.2259378072493369,0.3859297645446101,1.858192144379066,0.2464306386286523,-1.0677517143610062,0.6453676273392827,0.06265214155879467,-0.08715527233083986,-0.3317483340079918,0.8330900323419276,-0.9123366765738272,-0.2431931865028908,-0.8497796966618966,-0.7906881487625326,1.2782968321343744,-0.9990974751582403,-0.13870775473872027,0.6667225196856328,-1.2148353344707845,0.20712250658145556,-0.7425489411831773,0.48800749521997683,0.46405681048617947,-0.8051631597406038,-0.31899280649465056,-0.5721693460435193,0.29021038734107873,-0.6335819947244782,-0.13359421700440532,-0.07404305977052948,-1.0616230726971396,-0.7178872255659678,-0.21382982805713846,-0.7349510908695046,-1.1526453329339756,-0.6999740563269804,-1.0856838392653239,-1.1344430700788646,0.4946427012580719,0.18232881726803407,0.8717053100641837,-0.4523011170135719,0.5348380228197316,-0.5293123926105003,1.3318651559258472,0.49758964424345575,-0.45523180723975637,-0.7931265521318546,-0.29210932378529264,0.2949947690120492,-1.331029044246653,-0.6739726065787218,-1.1096646053712342,0.8581522797239,0.14166897703583722,0.39570121486794163,-1.3635003113670343,-0.44834703427246253,-1.3004068021870294,0.384938772833752,1.8156863338631732,0.3682655315433058,-0.7115366071214614,-0.2687333858694624,0.23974678500036753,0.7343325620615179,0.8321675889334512,-0.8018990900591618,-0.02014883637988935,-0.038021759221552626,1.0302807042945537,-1.0542085622107098,1.9152523238191133,-0.8483053057070782,-0.6044411311433889,-1.109822470753195,-0.09413429161378811,2.4748316692811763,-0.48316966152357954,-0.8528584690112745,-0.014828293341050612,0.3760692839161864,-0.21545365744940204,0.6643692910689591,-0.6357488029851978,-0.12715526017199308,-0.7193685723805163,-1.172138771348829,0.5367778715796117,-0.9367200546737541,-0.7970882353511852,-0.2296148951683745,-0.5862187085948126,-0.2616999257783701,0.16442172006758704,-0.4246513025015534,-0.600051893435019,-0.6948805972818859,-1.2585037893667883,-0.06482420746362995,-1.0280026953542651,0.01778010994124227,-0.047482989307558295,0.8474035220311451,-0.8091479389106322,-0.6980457505143478,0.045943484305105906,1.2326793818235755,-0.27256485712262546,-0.7538954151101284,-0.40421721632654006,-0.41453447291736434,-0.07960154374551004,-0.8660251679099519,-0.6246890045011609,-1.4130137358184935,-0.631925317786735,-0.42506652305107284,-0.12903904685512882,-0.4327152117501195,-0.9696750294203655,-1.2524191804123816,-1.3812473523903384,-1.1627462675422333,-0.7865777210645064,-1.1467237716665408,-1.0749184609739022,0.20350810862450572,-0.6593771095383533,1.107360332479825,-0.9808242952285353,-0.09542086030743858,-1.2951182427117913,-0.8366097729630281,-0.8146796136123865,-1.1140223598630163,-0.4815589549608061,-1.2149229273966415,0.4480995431207198,0.13689738997277417,-1.2725371877625797,-0.8941547396252738,0.22647377881550224,-0.35806932277391923,-0.35824005194335834,-0.6695393479855656,-0.7940235506567334,0.01374361657928789,-1.028056436230584,0.6589431920575809,-0.9305467989491712,0.5074900826655068,-1.2935422720197471,-0.6796080657398611,-0.35299769613345167,-0.9736232101460636,-1.1446387433351508,-0.2898800372191681,-1.080213673838937,0.6537095024556264,-1.1860419401021796,-1.3956598179857345,2.2167373290319903,-0.07969754377657004,0.3491518661114813,-0.4424236222561005,-0.008276249298185824,-0.10900731152982011,-0.5457201918351287,-0.8517059006982283,-0.9365578967203095,-0.7855443120004523,-0.014932158804680804,-0.7655853820749878,-0.6302002980437615,0.794857479555381,-0.18645026626644476,-0.9694211640073455,-0.8430890453723355,0.12438876610038604,0.2029627255098159,-0.8742993271025445,-0.5039971991107202,-0.4263987478250848,-1.4227652023838242,-0.9338646411709179,-0.16116663908979978,-0.9809130251052577,-0.9315644278078263,-0.6207028808415542,0.7822100703985309,0.3589364392643032,-1.0978457591658504,0.4064464254512601,1.915382308407255,-0.6632388836293177,-0.6831316953110217,-0.08030440075334377,-1.1848241926191594,-0.9582504492687284,-0.06825524575402458,1.5027755047918985,-0.995029907805525,2.020516124767867,0.14472743740563224,-0.9691938209715897,-0.06821212642744057,-0.19639924342049137,0.3864418968003312,-0.5863114639863701,-1.065956246226464,-0.26043441452635085,-1.1589141912884653,-0.7401551379475967,-1.385927868597679,0.6177423916266821,-0.3080411462064166,-0.6578023310497698,-0.7121581963716516,-0.13046284453961027,-1.2415383047519364,0.310653770354822,0.05452240260942622,0.3309251370644456,-1.2920456314198365,0.5669899032692988,-0.7305755434149064,0.5318332894600182,0.8640158965624144,-0.44798054822971456,-0.7467862787922326,-1.2582458646726462,-1.2889844879224839,-0.7603661103911045,-0.1348527525573826,-1.1997002871515658,-0.316943288996985,0.45997505253267995,-0.9605799769948375,0.4728372750109894,-0.9490867397433608,0.1731299943100963,-0.1311835598797953,-0.8596313866502016,-0.4704345784973648,0.88136277747046,-0.3005308196390301,-0.5252263737495023,-0.6844179416954265,-0.9919578440985403,-1.256115079417337,-0.5928626440473563,-0.5364065317006304,-1.2664096889619152,0.6012309543771871,-1.27548524404948,0.6861064378387824,-0.44217359459777594,-0.6154555840316358,0.4434217851328451,-1.1669288361823003,-0.2897172050855472,0.7553198335165567,-0.06610067058926745,-0.9633077271099576,0.3612698224821188,-1.2763574739125003,-0.16048719823960864,2.101496923265047,-1.2048784918841686,0.3913433557225671,0.5248252979626099,-0.16334946084628027,0.2033032941151659,0.024210262267298093,0.1087298575865326,1.5779934714462207,1.9544641078350933,0.37288609641590764,-0.6162178882171604,-0.8794933377921952,0.9332157779218816,-1.1134620546124687,-1.0109649748661513,-1.236847095712989,-1.1015525349525153,-0.25486623631148625,0.344463996643257,-0.48471058796262423,-0.19655257702826756,-0.051594609209045156,0.4497122822802229,-0.36986921331397365,-0.9132217841513011,1.3307141653927421,-0.8396797960586456,1.1451319255906827,-0.5981658666164404,0.9612329504731648,-0.019456885654712725,0.06472447021349752,-1.3415096767460322,0.8868975327616642,-1.2903211613641337,-0.07330448813955592,-0.6750627480289229,-0.6729732828545684,-0.8524561932534784,-1.4898391525714125,0.3783222001517416,-1.1657952036952723,-1.1498694077217273,-0.9818606147981728,0.12026159337152587,-1.4653602351088129,0.11507879149520443,-0.8126007146744328,-0.6295549070594493,-1.3573033842528335,-0.9627446636399442,-1.060208330546388,-1.079496646069631,-0.557218755663097,-0.05960423590865995,-0.25733976704035433,-1.4184152441450417,-0.927843570278572,-0.491825727139488,-0.06420465081016906,-1.372519278339932,1.1187047818246842,-0.3764942306775099,-1.2877822181749292,-0.14980131034107555,-1.1560081807052558,0.6257244400024121,-0.8993973839781391,0.9807649427348695,-0.31469094024644934,-0.006259927406893615,-1.294494810727312,-0.18583991152049456,-0.11574263423499469,0.5214975893755492,0.378133494069383,-0.4509186866480035,-0.16825187874235353,-1.0757538472775552,0.3728087672565177,1.222793802270147,0.8669419166552734,0.026021654878718374,0.4263380448687651,-0.6416009874423938,1.0950844296622444,-0.6692244120239529,-0.6149598765998052,-0.43969948251765084,0.5040017998172795,-1.254132937797166,-0.2893242460057937,0.10901701353714686,0.25610906059143956,0.23078973271862904,-0.42103438552783723,0.09939240754258588,-0.7335289954578694,0.23843488022057632,-0.5416293011536905,-0.5242451534727374,0.0342138898705027,0.07886528919699315,-1.247146634432905,-0.27218861147045864,0.42311961734070935,-0.018069318575093113,2.410759421325588,-0.08298617458115795,2.6232197400663044,0.35554319753403724,0.032311639854410254,-0.5668785898607605,1.798506925599652,0.47569995866816295,0.3318646478737402,-1.2931111881582822,0.8918062441619645,-0.7456168565901569,0.20546298240536404,-0.012883386769063478,-0.8090111111309908,-0.2740432934315908,0.8503060745238017,-0.7999825051708059,0.09212716166043756,-0.8151756116894764,-1.0614296508904937,-1.4218831694227252,0.47693479333057576,0.23500879094483168,-0.06897948251273457,-0.914067774267678,-0.38943746988608885,0.5485373022712915,-1.2754794803932112,-1.512986976298528,-0.9373189019464785,-0.9073220751278047,-1.5113439579505712,-0.3139139966164274,0.6656435376477634,-0.9242093585867504,-0.4174084307574022,-1.0641727087179509,0.08811416165033417,-0.7574834092096434,-0.6528558112646662,-0.5025585286913787,0.22535493595678832],\"yaxis\":\"y\",\"type\":\"scattergl\"}],                        {\"template\":{\"data\":{\"bar\":[{\"error_x\":{\"color\":\"#2a3f5f\"},\"error_y\":{\"color\":\"#2a3f5f\"},\"marker\":{\"line\":{\"color\":\"#E5ECF6\",\"width\":0.5},\"pattern\":{\"fillmode\":\"overlay\",\"size\":10,\"solidity\":0.2}},\"type\":\"bar\"}],\"barpolar\":[{\"marker\":{\"line\":{\"color\":\"#E5ECF6\",\"width\":0.5},\"pattern\":{\"fillmode\":\"overlay\",\"size\":10,\"solidity\":0.2}},\"type\":\"barpolar\"}],\"carpet\":[{\"aaxis\":{\"endlinecolor\":\"#2a3f5f\",\"gridcolor\":\"white\",\"linecolor\":\"white\",\"minorgridcolor\":\"white\",\"startlinecolor\":\"#2a3f5f\"},\"baxis\":{\"endlinecolor\":\"#2a3f5f\",\"gridcolor\":\"white\",\"linecolor\":\"white\",\"minorgridcolor\":\"white\",\"startlinecolor\":\"#2a3f5f\"},\"type\":\"carpet\"}],\"choropleth\":[{\"colorbar\":{\"outlinewidth\":0,\"ticks\":\"\"},\"type\":\"choropleth\"}],\"contour\":[{\"colorbar\":{\"outlinewidth\":0,\"ticks\":\"\"},\"colorscale\":[[0.0,\"#0d0887\"],[0.1111111111111111,\"#46039f\"],[0.2222222222222222,\"#7201a8\"],[0.3333333333333333,\"#9c179e\"],[0.4444444444444444,\"#bd3786\"],[0.5555555555555556,\"#d8576b\"],[0.6666666666666666,\"#ed7953\"],[0.7777777777777778,\"#fb9f3a\"],[0.8888888888888888,\"#fdca26\"],[1.0,\"#f0f921\"]],\"type\":\"contour\"}],\"contourcarpet\":[{\"colorbar\":{\"outlinewidth\":0,\"ticks\":\"\"},\"type\":\"contourcarpet\"}],\"heatmap\":[{\"colorbar\":{\"outlinewidth\":0,\"ticks\":\"\"},\"colorscale\":[[0.0,\"#0d0887\"],[0.1111111111111111,\"#46039f\"],[0.2222222222222222,\"#7201a8\"],[0.3333333333333333,\"#9c179e\"],[0.4444444444444444,\"#bd3786\"],[0.5555555555555556,\"#d8576b\"],[0.6666666666666666,\"#ed7953\"],[0.7777777777777778,\"#fb9f3a\"],[0.8888888888888888,\"#fdca26\"],[1.0,\"#f0f921\"]],\"type\":\"heatmap\"}],\"heatmapgl\":[{\"colorbar\":{\"outlinewidth\":0,\"ticks\":\"\"},\"colorscale\":[[0.0,\"#0d0887\"],[0.1111111111111111,\"#46039f\"],[0.2222222222222222,\"#7201a8\"],[0.3333333333333333,\"#9c179e\"],[0.4444444444444444,\"#bd3786\"],[0.5555555555555556,\"#d8576b\"],[0.6666666666666666,\"#ed7953\"],[0.7777777777777778,\"#fb9f3a\"],[0.8888888888888888,\"#fdca26\"],[1.0,\"#f0f921\"]],\"type\":\"heatmapgl\"}],\"histogram\":[{\"marker\":{\"pattern\":{\"fillmode\":\"overlay\",\"size\":10,\"solidity\":0.2}},\"type\":\"histogram\"}],\"histogram2d\":[{\"colorbar\":{\"outlinewidth\":0,\"ticks\":\"\"},\"colorscale\":[[0.0,\"#0d0887\"],[0.1111111111111111,\"#46039f\"],[0.2222222222222222,\"#7201a8\"],[0.3333333333333333,\"#9c179e\"],[0.4444444444444444,\"#bd3786\"],[0.5555555555555556,\"#d8576b\"],[0.6666666666666666,\"#ed7953\"],[0.7777777777777778,\"#fb9f3a\"],[0.8888888888888888,\"#fdca26\"],[1.0,\"#f0f921\"]],\"type\":\"histogram2d\"}],\"histogram2dcontour\":[{\"colorbar\":{\"outlinewidth\":0,\"ticks\":\"\"},\"colorscale\":[[0.0,\"#0d0887\"],[0.1111111111111111,\"#46039f\"],[0.2222222222222222,\"#7201a8\"],[0.3333333333333333,\"#9c179e\"],[0.4444444444444444,\"#bd3786\"],[0.5555555555555556,\"#d8576b\"],[0.6666666666666666,\"#ed7953\"],[0.7777777777777778,\"#fb9f3a\"],[0.8888888888888888,\"#fdca26\"],[1.0,\"#f0f921\"]],\"type\":\"histogram2dcontour\"}],\"mesh3d\":[{\"colorbar\":{\"outlinewidth\":0,\"ticks\":\"\"},\"type\":\"mesh3d\"}],\"parcoords\":[{\"line\":{\"colorbar\":{\"outlinewidth\":0,\"ticks\":\"\"}},\"type\":\"parcoords\"}],\"pie\":[{\"automargin\":true,\"type\":\"pie\"}],\"scatter\":[{\"marker\":{\"colorbar\":{\"outlinewidth\":0,\"ticks\":\"\"}},\"type\":\"scatter\"}],\"scatter3d\":[{\"line\":{\"colorbar\":{\"outlinewidth\":0,\"ticks\":\"\"}},\"marker\":{\"colorbar\":{\"outlinewidth\":0,\"ticks\":\"\"}},\"type\":\"scatter3d\"}],\"scattercarpet\":[{\"marker\":{\"colorbar\":{\"outlinewidth\":0,\"ticks\":\"\"}},\"type\":\"scattercarpet\"}],\"scattergeo\":[{\"marker\":{\"colorbar\":{\"outlinewidth\":0,\"ticks\":\"\"}},\"type\":\"scattergeo\"}],\"scattergl\":[{\"marker\":{\"colorbar\":{\"outlinewidth\":0,\"ticks\":\"\"}},\"type\":\"scattergl\"}],\"scattermapbox\":[{\"marker\":{\"colorbar\":{\"outlinewidth\":0,\"ticks\":\"\"}},\"type\":\"scattermapbox\"}],\"scatterpolar\":[{\"marker\":{\"colorbar\":{\"outlinewidth\":0,\"ticks\":\"\"}},\"type\":\"scatterpolar\"}],\"scatterpolargl\":[{\"marker\":{\"colorbar\":{\"outlinewidth\":0,\"ticks\":\"\"}},\"type\":\"scatterpolargl\"}],\"scatterternary\":[{\"marker\":{\"colorbar\":{\"outlinewidth\":0,\"ticks\":\"\"}},\"type\":\"scatterternary\"}],\"surface\":[{\"colorbar\":{\"outlinewidth\":0,\"ticks\":\"\"},\"colorscale\":[[0.0,\"#0d0887\"],[0.1111111111111111,\"#46039f\"],[0.2222222222222222,\"#7201a8\"],[0.3333333333333333,\"#9c179e\"],[0.4444444444444444,\"#bd3786\"],[0.5555555555555556,\"#d8576b\"],[0.6666666666666666,\"#ed7953\"],[0.7777777777777778,\"#fb9f3a\"],[0.8888888888888888,\"#fdca26\"],[1.0,\"#f0f921\"]],\"type\":\"surface\"}],\"table\":[{\"cells\":{\"fill\":{\"color\":\"#EBF0F8\"},\"line\":{\"color\":\"white\"}},\"header\":{\"fill\":{\"color\":\"#C8D4E3\"},\"line\":{\"color\":\"white\"}},\"type\":\"table\"}]},\"layout\":{\"annotationdefaults\":{\"arrowcolor\":\"#2a3f5f\",\"arrowhead\":0,\"arrowwidth\":1},\"autotypenumbers\":\"strict\",\"coloraxis\":{\"colorbar\":{\"outlinewidth\":0,\"ticks\":\"\"}},\"colorscale\":{\"diverging\":[[0,\"#8e0152\"],[0.1,\"#c51b7d\"],[0.2,\"#de77ae\"],[0.3,\"#f1b6da\"],[0.4,\"#fde0ef\"],[0.5,\"#f7f7f7\"],[0.6,\"#e6f5d0\"],[0.7,\"#b8e186\"],[0.8,\"#7fbc41\"],[0.9,\"#4d9221\"],[1,\"#276419\"]],\"sequential\":[[0.0,\"#0d0887\"],[0.1111111111111111,\"#46039f\"],[0.2222222222222222,\"#7201a8\"],[0.3333333333333333,\"#9c179e\"],[0.4444444444444444,\"#bd3786\"],[0.5555555555555556,\"#d8576b\"],[0.6666666666666666,\"#ed7953\"],[0.7777777777777778,\"#fb9f3a\"],[0.8888888888888888,\"#fdca26\"],[1.0,\"#f0f921\"]],\"sequentialminus\":[[0.0,\"#0d0887\"],[0.1111111111111111,\"#46039f\"],[0.2222222222222222,\"#7201a8\"],[0.3333333333333333,\"#9c179e\"],[0.4444444444444444,\"#bd3786\"],[0.5555555555555556,\"#d8576b\"],[0.6666666666666666,\"#ed7953\"],[0.7777777777777778,\"#fb9f3a\"],[0.8888888888888888,\"#fdca26\"],[1.0,\"#f0f921\"]]},\"colorway\":[\"#636efa\",\"#EF553B\",\"#00cc96\",\"#ab63fa\",\"#FFA15A\",\"#19d3f3\",\"#FF6692\",\"#B6E880\",\"#FF97FF\",\"#FECB52\"],\"font\":{\"color\":\"#2a3f5f\"},\"geo\":{\"bgcolor\":\"white\",\"lakecolor\":\"white\",\"landcolor\":\"#E5ECF6\",\"showlakes\":true,\"showland\":true,\"subunitcolor\":\"white\"},\"hoverlabel\":{\"align\":\"left\"},\"hovermode\":\"closest\",\"mapbox\":{\"style\":\"light\"},\"paper_bgcolor\":\"white\",\"plot_bgcolor\":\"#E5ECF6\",\"polar\":{\"angularaxis\":{\"gridcolor\":\"white\",\"linecolor\":\"white\",\"ticks\":\"\"},\"bgcolor\":\"#E5ECF6\",\"radialaxis\":{\"gridcolor\":\"white\",\"linecolor\":\"white\",\"ticks\":\"\"}},\"scene\":{\"xaxis\":{\"backgroundcolor\":\"#E5ECF6\",\"gridcolor\":\"white\",\"gridwidth\":2,\"linecolor\":\"white\",\"showbackground\":true,\"ticks\":\"\",\"zerolinecolor\":\"white\"},\"yaxis\":{\"backgroundcolor\":\"#E5ECF6\",\"gridcolor\":\"white\",\"gridwidth\":2,\"linecolor\":\"white\",\"showbackground\":true,\"ticks\":\"\",\"zerolinecolor\":\"white\"},\"zaxis\":{\"backgroundcolor\":\"#E5ECF6\",\"gridcolor\":\"white\",\"gridwidth\":2,\"linecolor\":\"white\",\"showbackground\":true,\"ticks\":\"\",\"zerolinecolor\":\"white\"}},\"shapedefaults\":{\"line\":{\"color\":\"#2a3f5f\"}},\"ternary\":{\"aaxis\":{\"gridcolor\":\"white\",\"linecolor\":\"white\",\"ticks\":\"\"},\"baxis\":{\"gridcolor\":\"white\",\"linecolor\":\"white\",\"ticks\":\"\"},\"bgcolor\":\"#E5ECF6\",\"caxis\":{\"gridcolor\":\"white\",\"linecolor\":\"white\",\"ticks\":\"\"}},\"title\":{\"x\":0.05},\"xaxis\":{\"automargin\":true,\"gridcolor\":\"white\",\"linecolor\":\"white\",\"ticks\":\"\",\"title\":{\"standoff\":15},\"zerolinecolor\":\"white\",\"zerolinewidth\":2},\"yaxis\":{\"automargin\":true,\"gridcolor\":\"white\",\"linecolor\":\"white\",\"ticks\":\"\",\"title\":{\"standoff\":15},\"zerolinecolor\":\"white\",\"zerolinewidth\":2}}},\"xaxis\":{\"anchor\":\"y\",\"domain\":[0.0,1.0],\"title\":{\"text\":\"PC1\"},\"showgrid\":true,\"gridwidth\":1,\"gridcolor\":\"lightgrey\",\"zeroline\":true,\"zerolinewidth\":1,\"zerolinecolor\":\"lightgrey\",\"showline\":true,\"linewidth\":1,\"linecolor\":\"black\"},\"yaxis\":{\"anchor\":\"x\",\"domain\":[0.0,1.0],\"title\":{\"text\":\"PC2\"},\"showgrid\":true,\"gridwidth\":1,\"gridcolor\":\"lightgrey\",\"zeroline\":true,\"zerolinewidth\":1,\"zerolinecolor\":\"lightgrey\",\"showline\":true,\"linewidth\":1,\"linecolor\":\"black\"},\"legend\":{\"title\":{\"text\":\"is_safe\"},\"tracegroupgap\":0},\"margin\":{\"t\":60},\"plot_bgcolor\":\"white\",\"title\":{\"text\":\"PCA scatter plot\"}},                        {\"responsive\": true}                    ).then(function(){\n",
       "                            \n",
       "var gd = document.getElementById('12449f26-8be8-4354-a0d0-09b01256c208');\n",
       "var x = new MutationObserver(function (mutations, observer) {{\n",
       "        var display = window.getComputedStyle(gd).display;\n",
       "        if (!display || display === 'none') {{\n",
       "            console.log([gd, 'removed!']);\n",
       "            Plotly.purge(gd);\n",
       "            observer.disconnect();\n",
       "        }}\n",
       "}});\n",
       "\n",
       "// Listen for the removal of the full notebook cells\n",
       "var notebookContainer = gd.closest('#notebook-container');\n",
       "if (notebookContainer) {{\n",
       "    x.observe(notebookContainer, {childList: true});\n",
       "}}\n",
       "\n",
       "// Listen for the clearing of the current output cell\n",
       "var outputEl = gd.closest('.output');\n",
       "if (outputEl) {{\n",
       "    x.observe(outputEl, {childList: true});\n",
       "}}\n",
       "\n",
       "                        })                };                });            </script>        </div>"
      ]
     },
     "metadata": {},
     "output_type": "display_data"
    }
   ],
   "source": [
    "# Create a scatter plot\n",
    "fig = px.scatter(OriginalDataForLDA, x=X_trans_pca_train[:,0], y=X_trans_pca_train[:,1], \n",
    "                 labels={\n",
    "                     \"x\": \"PC1\",\n",
    "                     \"y\": \"PC2\",\n",
    "                     \"color\" : \"is_safe\"\n",
    "                 },\n",
    "                 opacity=1, color=y_train)\n",
    "\n",
    "# Change chart background color\n",
    "fig.update_layout(dict(plot_bgcolor = 'white'))\n",
    "\n",
    "# Update axes lines\n",
    "fig.update_xaxes(showgrid=True, gridwidth=1, gridcolor='lightgrey', \n",
    "                 zeroline=True, zerolinewidth=1, zerolinecolor='lightgrey', \n",
    "                 showline=True, linewidth=1, linecolor='black')\n",
    "\n",
    "fig.update_yaxes(showgrid=True, gridwidth=1, gridcolor='lightgrey', \n",
    "                 zeroline=True, zerolinewidth=1, zerolinecolor='lightgrey', \n",
    "                 showline=True, linewidth=1, linecolor='black')\n",
    "\n",
    "# Set figure title\n",
    "fig.update_layout(title_text=\"PCA scatter plot\")\n",
    "\n",
    "# Update marker size\n",
    "fig.update_traces(marker=dict(size=3))\n",
    "\n",
    "fig.show()"
   ]
  },
  {
   "cell_type": "code",
   "execution_count": 65,
   "id": "c6a16c73",
   "metadata": {},
   "outputs": [
    {
     "name": "stdout",
     "output_type": "stream",
     "text": [
      "*************** PCA Summary ***************\n",
      "No. of features:  3\n",
      "No. of samples:  1368\n",
      "No. of components:  2\n",
      "Explained variance ratio:  [0.48638142 0.27859203]\n"
     ]
    }
   ],
   "source": [
    "pca = PCA(n_components=2)                       \n",
    "\n",
    "# Fit the model\n",
    "X_trans_pca_train=pca.fit_transform(X_std_train)\n",
    "\n",
    "# Print the results\n",
    "print('*************** PCA Summary ***************')\n",
    "print('No. of features: ', pca.n_features_)\n",
    "print('No. of samples: ', pca.n_samples_)\n",
    "print('No. of components: ', pca.n_components_)\n",
    "print('Explained variance ratio: ', pca.explained_variance_ratio_)"
   ]
  },
  {
   "cell_type": "code",
   "execution_count": 66,
   "id": "ea64c3d9",
   "metadata": {},
   "outputs": [
    {
     "name": "stdout",
     "output_type": "stream",
     "text": [
      "Goodness of Fit of Model for PCA with ALL variables \tTrain Dataset\n",
      "Classification Accuracy \t: 0.7989766081871345\n",
      "\n",
      "RECALL==TRUE POSITIVE RATE\n",
      "              precision    recall  f1-score   support\n",
      "\n",
      "           0       0.74      0.93      0.82       683\n",
      "           1       0.90      0.67      0.77       685\n",
      "\n",
      "    accuracy                           0.80      1368\n",
      "   macro avg       0.82      0.80      0.80      1368\n",
      "weighted avg       0.82      0.80      0.80      1368\n",
      "\n"
     ]
    }
   ],
   "source": [
    "# Decision Tree using Train Data\n",
    "dectree = DecisionTreeClassifier(max_depth = 4)  # create the decision tree object\n",
    "dectree.fit(X_trans_pca_train, y_train)                    # train the decision tree model\n",
    "\n",
    "# Predict Response corresponding to Predictors\n",
    "y_train_pred = dectree.predict(X_trans_pca_train)\n",
    "\n",
    "\n",
    "print(\"Goodness of Fit of Model for PCA with ALL variables \\tTrain Dataset\")\n",
    "print(\"Classification Accuracy \\t:\", dectree.score(X_trans_pca_train, y_train))\n",
    "print()\n",
    "print(\"RECALL==TRUE POSITIVE RATE\")\n",
    "\n",
    "print(classification_report(y_train, y_train_pred))"
   ]
  },
  {
   "cell_type": "code",
   "execution_count": null,
   "id": "c5e5598d",
   "metadata": {},
   "outputs": [],
   "source": [
    "    "
   ]
  }
 ],
 "metadata": {
  "kernelspec": {
   "display_name": "Python 3 (ipykernel)",
   "language": "python",
   "name": "python3"
  },
  "language_info": {
   "codemirror_mode": {
    "name": "ipython",
    "version": 3
   },
   "file_extension": ".py",
   "mimetype": "text/x-python",
   "name": "python",
   "nbconvert_exporter": "python",
   "pygments_lexer": "ipython3",
   "version": "3.9.7"
  }
 },
 "nbformat": 4,
 "nbformat_minor": 5
}
