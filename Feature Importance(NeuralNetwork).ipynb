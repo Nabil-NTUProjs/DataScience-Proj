{
 "cells": [
  {
   "cell_type": "markdown",
   "id": "c02348a3",
   "metadata": {},
   "source": [
    "# INTRODUCTION"
   ]
  },
  {
   "cell_type": "markdown",
   "id": "3e06beaa",
   "metadata": {},
   "source": []
  },
  {
   "cell_type": "markdown",
   "id": "66eb9819",
   "metadata": {},
   "source": [
    "### Data Preparation"
   ]
  },
  {
   "cell_type": "code",
   "execution_count": 36,
   "id": "2bf3bfa2",
   "metadata": {},
   "outputs": [],
   "source": [
    "# Basic Libraries\n",
    "import numpy as np\n",
    "import pandas as pd\n",
    "import seaborn as sb\n",
    "import matplotlib.pyplot as plt # we only need pyplot\n",
    "sb.set() # set the default Seaborn style for graphics\n",
    "from scipy import stats\n",
    "from sklearn.tree import DecisionTreeClassifier\n",
    "from sklearn.model_selection import train_test_split\n",
    "from collections import Counter"
   ]
  },
  {
   "cell_type": "code",
   "execution_count": 37,
   "id": "8fcf16db",
   "metadata": {},
   "outputs": [],
   "source": [
    "txtdata=\"aluminium - dangerous if greater than 2.8 ammonia - dangerous if greater than 32.5 arsenic - dangerous if greater than 0.01 barium - dangerous if greater than 2 cadmium - dangerous if greater than 0.005chloramine - dangerous if greater than 4 chromium - dangerous if greater than 0.1 copper - dangerous if greater than 1.3 flouride - dangerous if greater than 1.5 bacteria - dangerous if greater than 0 viruses - dangerous if greater than 0 lead - dangerous if greater than 0.015 nitrates - dangerous if greater than 10 nitrites - dangerous if greater than 1 mercury - dangerous if greater than 0.002 perchlorate - dangerous if greater than 56 radium - dangerous if greater than 5 selenium - dangerous if greater than 0.5 silver - dangerous if greater than 0.1 uranium - dangerous if greater than 0.3 is_safe - class attribute {0 - not safe, 1 - safe} \""
   ]
  },
  {
   "cell_type": "code",
   "execution_count": 38,
   "id": "e93d7747",
   "metadata": {},
   "outputs": [
    {
     "name": "stdout",
     "output_type": "stream",
     "text": [
      "['2.8', '32.5', '0.01', '2', '0.005', '4', '0.1', '1.3', '1.5', '0', '0', '0.015', '10', '1', '0.002', '56', '5', '0.5', '0.1', '0.3', '0', '1']\n"
     ]
    }
   ],
   "source": [
    "#print(txtdata)\n",
    "#res = [float(i) for i in txtdata.split() if isinstance(i, float)]\n",
    "import re\n",
    "result = re.findall(r\"[-+]?\\d*\\.\\d+|\\d+\", txtdata)\n",
    "print (result)\n",
    "\n",
    "#print(str(res))"
   ]
  },
  {
   "cell_type": "code",
   "execution_count": 39,
   "id": "d19fb475",
   "metadata": {},
   "outputs": [
    {
     "data": {
      "text/html": [
       "<div>\n",
       "<style scoped>\n",
       "    .dataframe tbody tr th:only-of-type {\n",
       "        vertical-align: middle;\n",
       "    }\n",
       "\n",
       "    .dataframe tbody tr th {\n",
       "        vertical-align: top;\n",
       "    }\n",
       "\n",
       "    .dataframe thead th {\n",
       "        text-align: right;\n",
       "    }\n",
       "</style>\n",
       "<table border=\"1\" class=\"dataframe\">\n",
       "  <thead>\n",
       "    <tr style=\"text-align: right;\">\n",
       "      <th></th>\n",
       "      <th>aluminium</th>\n",
       "      <th>ammonia</th>\n",
       "      <th>arsenic</th>\n",
       "      <th>barium</th>\n",
       "      <th>cadmium</th>\n",
       "      <th>chloramine</th>\n",
       "      <th>chromium</th>\n",
       "      <th>copper</th>\n",
       "      <th>flouride</th>\n",
       "      <th>bacteria</th>\n",
       "      <th>...</th>\n",
       "      <th>lead</th>\n",
       "      <th>nitrates</th>\n",
       "      <th>nitrites</th>\n",
       "      <th>mercury</th>\n",
       "      <th>perchlorate</th>\n",
       "      <th>radium</th>\n",
       "      <th>selenium</th>\n",
       "      <th>silver</th>\n",
       "      <th>uranium</th>\n",
       "      <th>is_safe</th>\n",
       "    </tr>\n",
       "  </thead>\n",
       "  <tbody>\n",
       "    <tr>\n",
       "      <th>0</th>\n",
       "      <td>1.65</td>\n",
       "      <td>9.08</td>\n",
       "      <td>0.04</td>\n",
       "      <td>2.85</td>\n",
       "      <td>0.007</td>\n",
       "      <td>0.35</td>\n",
       "      <td>0.83</td>\n",
       "      <td>0.17</td>\n",
       "      <td>0.05</td>\n",
       "      <td>0.20</td>\n",
       "      <td>...</td>\n",
       "      <td>0.054</td>\n",
       "      <td>16.08</td>\n",
       "      <td>1.13</td>\n",
       "      <td>0.007</td>\n",
       "      <td>37.75</td>\n",
       "      <td>6.78</td>\n",
       "      <td>0.08</td>\n",
       "      <td>0.34</td>\n",
       "      <td>0.02</td>\n",
       "      <td>1</td>\n",
       "    </tr>\n",
       "    <tr>\n",
       "      <th>1</th>\n",
       "      <td>2.32</td>\n",
       "      <td>21.16</td>\n",
       "      <td>0.01</td>\n",
       "      <td>3.31</td>\n",
       "      <td>0.002</td>\n",
       "      <td>5.28</td>\n",
       "      <td>0.68</td>\n",
       "      <td>0.66</td>\n",
       "      <td>0.90</td>\n",
       "      <td>0.65</td>\n",
       "      <td>...</td>\n",
       "      <td>0.100</td>\n",
       "      <td>2.01</td>\n",
       "      <td>1.93</td>\n",
       "      <td>0.003</td>\n",
       "      <td>32.26</td>\n",
       "      <td>3.21</td>\n",
       "      <td>0.08</td>\n",
       "      <td>0.27</td>\n",
       "      <td>0.05</td>\n",
       "      <td>1</td>\n",
       "    </tr>\n",
       "    <tr>\n",
       "      <th>2</th>\n",
       "      <td>1.01</td>\n",
       "      <td>14.02</td>\n",
       "      <td>0.04</td>\n",
       "      <td>0.58</td>\n",
       "      <td>0.008</td>\n",
       "      <td>4.24</td>\n",
       "      <td>0.53</td>\n",
       "      <td>0.02</td>\n",
       "      <td>0.99</td>\n",
       "      <td>0.05</td>\n",
       "      <td>...</td>\n",
       "      <td>0.078</td>\n",
       "      <td>14.16</td>\n",
       "      <td>1.11</td>\n",
       "      <td>0.006</td>\n",
       "      <td>50.28</td>\n",
       "      <td>7.07</td>\n",
       "      <td>0.07</td>\n",
       "      <td>0.44</td>\n",
       "      <td>0.01</td>\n",
       "      <td>0</td>\n",
       "    </tr>\n",
       "    <tr>\n",
       "      <th>3</th>\n",
       "      <td>1.36</td>\n",
       "      <td>11.33</td>\n",
       "      <td>0.04</td>\n",
       "      <td>2.96</td>\n",
       "      <td>0.001</td>\n",
       "      <td>7.23</td>\n",
       "      <td>0.03</td>\n",
       "      <td>1.66</td>\n",
       "      <td>1.08</td>\n",
       "      <td>0.71</td>\n",
       "      <td>...</td>\n",
       "      <td>0.016</td>\n",
       "      <td>1.41</td>\n",
       "      <td>1.29</td>\n",
       "      <td>0.004</td>\n",
       "      <td>9.12</td>\n",
       "      <td>1.72</td>\n",
       "      <td>0.02</td>\n",
       "      <td>0.45</td>\n",
       "      <td>0.05</td>\n",
       "      <td>1</td>\n",
       "    </tr>\n",
       "    <tr>\n",
       "      <th>4</th>\n",
       "      <td>0.92</td>\n",
       "      <td>24.33</td>\n",
       "      <td>0.03</td>\n",
       "      <td>0.20</td>\n",
       "      <td>0.006</td>\n",
       "      <td>2.67</td>\n",
       "      <td>0.69</td>\n",
       "      <td>0.57</td>\n",
       "      <td>0.61</td>\n",
       "      <td>0.13</td>\n",
       "      <td>...</td>\n",
       "      <td>0.117</td>\n",
       "      <td>6.74</td>\n",
       "      <td>1.11</td>\n",
       "      <td>0.003</td>\n",
       "      <td>16.90</td>\n",
       "      <td>2.41</td>\n",
       "      <td>0.02</td>\n",
       "      <td>0.06</td>\n",
       "      <td>0.02</td>\n",
       "      <td>1</td>\n",
       "    </tr>\n",
       "    <tr>\n",
       "      <th>...</th>\n",
       "      <td>...</td>\n",
       "      <td>...</td>\n",
       "      <td>...</td>\n",
       "      <td>...</td>\n",
       "      <td>...</td>\n",
       "      <td>...</td>\n",
       "      <td>...</td>\n",
       "      <td>...</td>\n",
       "      <td>...</td>\n",
       "      <td>...</td>\n",
       "      <td>...</td>\n",
       "      <td>...</td>\n",
       "      <td>...</td>\n",
       "      <td>...</td>\n",
       "      <td>...</td>\n",
       "      <td>...</td>\n",
       "      <td>...</td>\n",
       "      <td>...</td>\n",
       "      <td>...</td>\n",
       "      <td>...</td>\n",
       "      <td>...</td>\n",
       "    </tr>\n",
       "    <tr>\n",
       "      <th>7994</th>\n",
       "      <td>0.05</td>\n",
       "      <td>7.78</td>\n",
       "      <td>0.00</td>\n",
       "      <td>1.95</td>\n",
       "      <td>0.040</td>\n",
       "      <td>0.10</td>\n",
       "      <td>0.03</td>\n",
       "      <td>0.03</td>\n",
       "      <td>1.37</td>\n",
       "      <td>0.00</td>\n",
       "      <td>...</td>\n",
       "      <td>0.197</td>\n",
       "      <td>14.29</td>\n",
       "      <td>1.00</td>\n",
       "      <td>0.005</td>\n",
       "      <td>3.57</td>\n",
       "      <td>2.13</td>\n",
       "      <td>0.09</td>\n",
       "      <td>0.06</td>\n",
       "      <td>0.03</td>\n",
       "      <td>1</td>\n",
       "    </tr>\n",
       "    <tr>\n",
       "      <th>7995</th>\n",
       "      <td>0.05</td>\n",
       "      <td>24.22</td>\n",
       "      <td>0.02</td>\n",
       "      <td>0.59</td>\n",
       "      <td>0.010</td>\n",
       "      <td>0.45</td>\n",
       "      <td>0.02</td>\n",
       "      <td>0.02</td>\n",
       "      <td>1.48</td>\n",
       "      <td>0.00</td>\n",
       "      <td>...</td>\n",
       "      <td>0.031</td>\n",
       "      <td>10.27</td>\n",
       "      <td>1.00</td>\n",
       "      <td>0.001</td>\n",
       "      <td>1.48</td>\n",
       "      <td>1.11</td>\n",
       "      <td>0.09</td>\n",
       "      <td>0.10</td>\n",
       "      <td>0.08</td>\n",
       "      <td>1</td>\n",
       "    </tr>\n",
       "    <tr>\n",
       "      <th>7996</th>\n",
       "      <td>0.09</td>\n",
       "      <td>6.85</td>\n",
       "      <td>0.00</td>\n",
       "      <td>0.61</td>\n",
       "      <td>0.030</td>\n",
       "      <td>0.05</td>\n",
       "      <td>0.05</td>\n",
       "      <td>0.02</td>\n",
       "      <td>0.91</td>\n",
       "      <td>0.00</td>\n",
       "      <td>...</td>\n",
       "      <td>0.182</td>\n",
       "      <td>15.92</td>\n",
       "      <td>1.00</td>\n",
       "      <td>0.000</td>\n",
       "      <td>1.35</td>\n",
       "      <td>4.84</td>\n",
       "      <td>0.00</td>\n",
       "      <td>0.04</td>\n",
       "      <td>0.05</td>\n",
       "      <td>1</td>\n",
       "    </tr>\n",
       "    <tr>\n",
       "      <th>7997</th>\n",
       "      <td>0.01</td>\n",
       "      <td>10</td>\n",
       "      <td>0.01</td>\n",
       "      <td>2.00</td>\n",
       "      <td>0.000</td>\n",
       "      <td>2.00</td>\n",
       "      <td>0.00</td>\n",
       "      <td>0.09</td>\n",
       "      <td>0.00</td>\n",
       "      <td>0.00</td>\n",
       "      <td>...</td>\n",
       "      <td>0.000</td>\n",
       "      <td>0.00</td>\n",
       "      <td>0.00</td>\n",
       "      <td>0.000</td>\n",
       "      <td>0.00</td>\n",
       "      <td>0.00</td>\n",
       "      <td>0.00</td>\n",
       "      <td>0.00</td>\n",
       "      <td>0.00</td>\n",
       "      <td>1</td>\n",
       "    </tr>\n",
       "    <tr>\n",
       "      <th>7998</th>\n",
       "      <td>0.04</td>\n",
       "      <td>6.85</td>\n",
       "      <td>0.01</td>\n",
       "      <td>0.70</td>\n",
       "      <td>0.030</td>\n",
       "      <td>0.05</td>\n",
       "      <td>0.01</td>\n",
       "      <td>0.03</td>\n",
       "      <td>1.00</td>\n",
       "      <td>0.00</td>\n",
       "      <td>...</td>\n",
       "      <td>0.182</td>\n",
       "      <td>15.92</td>\n",
       "      <td>1.00</td>\n",
       "      <td>0.000</td>\n",
       "      <td>1.35</td>\n",
       "      <td>4.84</td>\n",
       "      <td>0.00</td>\n",
       "      <td>0.04</td>\n",
       "      <td>0.05</td>\n",
       "      <td>1</td>\n",
       "    </tr>\n",
       "  </tbody>\n",
       "</table>\n",
       "<p>7999 rows × 21 columns</p>\n",
       "</div>"
      ],
      "text/plain": [
       "      aluminium ammonia  arsenic  barium  cadmium  chloramine  chromium  \\\n",
       "0          1.65    9.08     0.04    2.85    0.007        0.35      0.83   \n",
       "1          2.32   21.16     0.01    3.31    0.002        5.28      0.68   \n",
       "2          1.01   14.02     0.04    0.58    0.008        4.24      0.53   \n",
       "3          1.36   11.33     0.04    2.96    0.001        7.23      0.03   \n",
       "4          0.92   24.33     0.03    0.20    0.006        2.67      0.69   \n",
       "...         ...     ...      ...     ...      ...         ...       ...   \n",
       "7994       0.05    7.78     0.00    1.95    0.040        0.10      0.03   \n",
       "7995       0.05   24.22     0.02    0.59    0.010        0.45      0.02   \n",
       "7996       0.09    6.85     0.00    0.61    0.030        0.05      0.05   \n",
       "7997       0.01      10     0.01    2.00    0.000        2.00      0.00   \n",
       "7998       0.04    6.85     0.01    0.70    0.030        0.05      0.01   \n",
       "\n",
       "      copper  flouride  bacteria  ...   lead  nitrates  nitrites  mercury  \\\n",
       "0       0.17      0.05      0.20  ...  0.054     16.08      1.13    0.007   \n",
       "1       0.66      0.90      0.65  ...  0.100      2.01      1.93    0.003   \n",
       "2       0.02      0.99      0.05  ...  0.078     14.16      1.11    0.006   \n",
       "3       1.66      1.08      0.71  ...  0.016      1.41      1.29    0.004   \n",
       "4       0.57      0.61      0.13  ...  0.117      6.74      1.11    0.003   \n",
       "...      ...       ...       ...  ...    ...       ...       ...      ...   \n",
       "7994    0.03      1.37      0.00  ...  0.197     14.29      1.00    0.005   \n",
       "7995    0.02      1.48      0.00  ...  0.031     10.27      1.00    0.001   \n",
       "7996    0.02      0.91      0.00  ...  0.182     15.92      1.00    0.000   \n",
       "7997    0.09      0.00      0.00  ...  0.000      0.00      0.00    0.000   \n",
       "7998    0.03      1.00      0.00  ...  0.182     15.92      1.00    0.000   \n",
       "\n",
       "      perchlorate  radium  selenium  silver  uranium  is_safe  \n",
       "0           37.75    6.78      0.08    0.34     0.02        1  \n",
       "1           32.26    3.21      0.08    0.27     0.05        1  \n",
       "2           50.28    7.07      0.07    0.44     0.01        0  \n",
       "3            9.12    1.72      0.02    0.45     0.05        1  \n",
       "4           16.90    2.41      0.02    0.06     0.02        1  \n",
       "...           ...     ...       ...     ...      ...      ...  \n",
       "7994         3.57    2.13      0.09    0.06     0.03        1  \n",
       "7995         1.48    1.11      0.09    0.10     0.08        1  \n",
       "7996         1.35    4.84      0.00    0.04     0.05        1  \n",
       "7997         0.00    0.00      0.00    0.00     0.00        1  \n",
       "7998         1.35    4.84      0.00    0.04     0.05        1  \n",
       "\n",
       "[7999 rows x 21 columns]"
      ]
     },
     "execution_count": 39,
     "metadata": {},
     "output_type": "execute_result"
    }
   ],
   "source": [
    "Data=pd.read_csv('waterQuality1.csv')\n",
    "Data"
   ]
  },
  {
   "cell_type": "code",
   "execution_count": 40,
   "id": "c2049a1a",
   "metadata": {},
   "outputs": [
    {
     "name": "stdout",
     "output_type": "stream",
     "text": [
      "<class 'pandas.core.frame.DataFrame'>\n",
      "RangeIndex: 7999 entries, 0 to 7998\n",
      "Data columns (total 21 columns):\n",
      " #   Column       Non-Null Count  Dtype  \n",
      "---  ------       --------------  -----  \n",
      " 0   aluminium    7999 non-null   float64\n",
      " 1   ammonia      7999 non-null   float64\n",
      " 2   arsenic      7999 non-null   float64\n",
      " 3   barium       7999 non-null   float64\n",
      " 4   cadmium      7999 non-null   float64\n",
      " 5   chloramine   7999 non-null   float64\n",
      " 6   chromium     7999 non-null   float64\n",
      " 7   copper       7999 non-null   float64\n",
      " 8   flouride     7999 non-null   float64\n",
      " 9   bacteria     7999 non-null   float64\n",
      " 10  viruses      7999 non-null   float64\n",
      " 11  lead         7999 non-null   float64\n",
      " 12  nitrates     7999 non-null   float64\n",
      " 13  nitrites     7999 non-null   float64\n",
      " 14  mercury      7999 non-null   float64\n",
      " 15  perchlorate  7999 non-null   float64\n",
      " 16  radium       7999 non-null   float64\n",
      " 17  selenium     7999 non-null   float64\n",
      " 18  silver       7999 non-null   float64\n",
      " 19  uranium      7999 non-null   float64\n",
      " 20  is_safe      7999 non-null   object \n",
      "dtypes: float64(20), object(1)\n",
      "memory usage: 1.3+ MB\n"
     ]
    }
   ],
   "source": [
    "AmmoniaData=[]\n",
    "for i in range(len(Data)):\n",
    "    k=Data.loc[i,'ammonia']\n",
    "    if k=='#NUM!':\n",
    "        AmmoniaData+=[0]\n",
    "    else:\n",
    "        AmmoniaData+=[float(k)]\n",
    "Data['ammonia']=AmmoniaData\n",
    "\n",
    "Data.info()"
   ]
  },
  {
   "cell_type": "code",
   "execution_count": 41,
   "id": "1848796f",
   "metadata": {},
   "outputs": [],
   "source": [
    "OriginalDataForLDA=Data.copy()\n",
    "OriginalData=Data.copy()"
   ]
  },
  {
   "cell_type": "code",
   "execution_count": 42,
   "id": "a4773213",
   "metadata": {},
   "outputs": [],
   "source": [
    "indexNames = OriginalDataForLDA[OriginalDataForLDA['is_safe'] == \"#NUM!\" ].index\n",
    "#Delete these row indexes from dataFrame\n",
    "OriginalDataForLDA.drop(indexNames , inplace=True)"
   ]
  },
  {
   "cell_type": "code",
   "execution_count": 43,
   "id": "bf2ec5d4",
   "metadata": {},
   "outputs": [],
   "source": [
    "# separate safe and not safe data\n",
    "data_0 = OriginalDataForLDA[OriginalDataForLDA['is_safe'] == '0']\n",
    "data_1 = OriginalDataForLDA[OriginalDataForLDA['is_safe'] == '1']"
   ]
  },
  {
   "cell_type": "code",
   "execution_count": 44,
   "id": "8ba153f2",
   "metadata": {},
   "outputs": [],
   "source": [
    "data_0 = data_0.sample(n=7084)"
   ]
  },
  {
   "cell_type": "code",
   "execution_count": 45,
   "id": "8cad3015",
   "metadata": {},
   "outputs": [
    {
     "data": {
      "text/plain": [
       "0    7084\n",
       "1     912\n",
       "Name: is_safe, dtype: int64"
      ]
     },
     "execution_count": 45,
     "metadata": {},
     "output_type": "execute_result"
    }
   ],
   "source": [
    "#put the issafe column together again\n",
    "data_isSafe = data_1.append(data_0)\n",
    "data_isSafe.is_safe.value_counts()"
   ]
  },
  {
   "cell_type": "code",
   "execution_count": 46,
   "id": "a7678f07",
   "metadata": {},
   "outputs": [],
   "source": [
    "u = data_isSafe.iloc[:, :-1]\n",
    "v = data_isSafe.iloc[:, -1]"
   ]
  },
  {
   "cell_type": "markdown",
   "id": "968a8b23",
   "metadata": {},
   "source": [
    "### Resampling"
   ]
  },
  {
   "cell_type": "code",
   "execution_count": 47,
   "id": "c085b894",
   "metadata": {},
   "outputs": [
    {
     "name": "stdout",
     "output_type": "stream",
     "text": [
      "original dataset shape: Counter({'0': 7084, '1': 912})\n",
      "Resample dataset shape Counter({'0': 912, '1': 912})\n"
     ]
    }
   ],
   "source": [
    "# import library\n",
    "import imblearn\n",
    "# import library\n",
    "from imblearn.under_sampling import RandomUnderSampler\n",
    "\n",
    "rus = RandomUnderSampler(random_state=42, replacement=True)\n",
    "\n",
    "# fit predictor and target varialbe\n",
    "u_rus, v_rus = rus.fit_resample(u, v)\n",
    "\n",
    "print('original dataset shape:', Counter(v))\n",
    "print('Resample dataset shape', Counter(v_rus))"
   ]
  },
  {
   "cell_type": "code",
   "execution_count": 48,
   "id": "d3ce0807",
   "metadata": {},
   "outputs": [],
   "source": [
    "resampled=v_rus\n",
    "resampled_variable=u_rus"
   ]
  },
  {
   "cell_type": "code",
   "execution_count": 49,
   "id": "a12c7932",
   "metadata": {},
   "outputs": [],
   "source": [
    "resampled = resampled.to_frame(name=\"is_safe\")"
   ]
  },
  {
   "cell_type": "code",
   "execution_count": 50,
   "id": "7e106e10",
   "metadata": {},
   "outputs": [
    {
     "data": {
      "text/plain": [
       "<seaborn.axisgrid.FacetGrid at 0x23fd3a987f0>"
      ]
     },
     "execution_count": 50,
     "metadata": {},
     "output_type": "execute_result"
    },
    {
     "data": {
      "image/png": "[encoded data removed]",
      "text/plain": [
       "<Figure size 360x360 with 1 Axes>"
      ]
     },
     "metadata": {},
     "output_type": "display_data"
    }
   ],
   "source": [
    "sb.catplot(y = 'is_safe', data = resampled, kind = \"count\")"
   ]
  },
  {
   "cell_type": "markdown",
   "id": "2aae74a9",
   "metadata": {},
   "source": [
    "The number of safe data and not safe data are now equal"
   ]
  },
  {
   "cell_type": "code",
   "execution_count": 51,
   "id": "71768144",
   "metadata": {},
   "outputs": [
    {
     "data": {
      "text/html": [
       "<div>\n",
       "<style scoped>\n",
       "    .dataframe tbody tr th:only-of-type {\n",
       "        vertical-align: middle;\n",
       "    }\n",
       "\n",
       "    .dataframe tbody tr th {\n",
       "        vertical-align: top;\n",
       "    }\n",
       "\n",
       "    .dataframe thead th {\n",
       "        text-align: right;\n",
       "    }\n",
       "</style>\n",
       "<table border=\"1\" class=\"dataframe\">\n",
       "  <thead>\n",
       "    <tr style=\"text-align: right;\">\n",
       "      <th></th>\n",
       "      <th>aluminium</th>\n",
       "      <th>ammonia</th>\n",
       "      <th>arsenic</th>\n",
       "      <th>barium</th>\n",
       "      <th>cadmium</th>\n",
       "      <th>chloramine</th>\n",
       "      <th>chromium</th>\n",
       "      <th>copper</th>\n",
       "      <th>flouride</th>\n",
       "      <th>bacteria</th>\n",
       "      <th>...</th>\n",
       "      <th>lead</th>\n",
       "      <th>nitrates</th>\n",
       "      <th>nitrites</th>\n",
       "      <th>mercury</th>\n",
       "      <th>perchlorate</th>\n",
       "      <th>radium</th>\n",
       "      <th>selenium</th>\n",
       "      <th>silver</th>\n",
       "      <th>uranium</th>\n",
       "      <th>is_safe</th>\n",
       "    </tr>\n",
       "  </thead>\n",
       "  <tbody>\n",
       "    <tr>\n",
       "      <th>0</th>\n",
       "      <td>0.07</td>\n",
       "      <td>0.49</td>\n",
       "      <td>0.05</td>\n",
       "      <td>0.07</td>\n",
       "      <td>0.04</td>\n",
       "      <td>0.31</td>\n",
       "      <td>0.03</td>\n",
       "      <td>1.29</td>\n",
       "      <td>0.83</td>\n",
       "      <td>0.00</td>\n",
       "      <td>...</td>\n",
       "      <td>0.152</td>\n",
       "      <td>13.34</td>\n",
       "      <td>1.95</td>\n",
       "      <td>0.005</td>\n",
       "      <td>0.35</td>\n",
       "      <td>4.38</td>\n",
       "      <td>0.08</td>\n",
       "      <td>0.08</td>\n",
       "      <td>0.09</td>\n",
       "      <td>0</td>\n",
       "    </tr>\n",
       "    <tr>\n",
       "      <th>1</th>\n",
       "      <td>0.07</td>\n",
       "      <td>0.43</td>\n",
       "      <td>0.05</td>\n",
       "      <td>3.71</td>\n",
       "      <td>0.07</td>\n",
       "      <td>0.62</td>\n",
       "      <td>0.84</td>\n",
       "      <td>0.00</td>\n",
       "      <td>1.31</td>\n",
       "      <td>0.42</td>\n",
       "      <td>...</td>\n",
       "      <td>0.001</td>\n",
       "      <td>2.46</td>\n",
       "      <td>1.77</td>\n",
       "      <td>0.001</td>\n",
       "      <td>13.32</td>\n",
       "      <td>7.18</td>\n",
       "      <td>0.03</td>\n",
       "      <td>0.24</td>\n",
       "      <td>0.08</td>\n",
       "      <td>0</td>\n",
       "    </tr>\n",
       "    <tr>\n",
       "      <th>2</th>\n",
       "      <td>0.07</td>\n",
       "      <td>5.91</td>\n",
       "      <td>0.02</td>\n",
       "      <td>0.54</td>\n",
       "      <td>0.02</td>\n",
       "      <td>0.44</td>\n",
       "      <td>0.08</td>\n",
       "      <td>1.04</td>\n",
       "      <td>0.63</td>\n",
       "      <td>0.09</td>\n",
       "      <td>...</td>\n",
       "      <td>0.179</td>\n",
       "      <td>8.13</td>\n",
       "      <td>0.65</td>\n",
       "      <td>0.001</td>\n",
       "      <td>5.14</td>\n",
       "      <td>0.77</td>\n",
       "      <td>0.04</td>\n",
       "      <td>0.02</td>\n",
       "      <td>0.09</td>\n",
       "      <td>0</td>\n",
       "    </tr>\n",
       "    <tr>\n",
       "      <th>3</th>\n",
       "      <td>0.10</td>\n",
       "      <td>9.19</td>\n",
       "      <td>0.03</td>\n",
       "      <td>0.71</td>\n",
       "      <td>0.08</td>\n",
       "      <td>0.09</td>\n",
       "      <td>0.08</td>\n",
       "      <td>0.07</td>\n",
       "      <td>0.87</td>\n",
       "      <td>0.00</td>\n",
       "      <td>...</td>\n",
       "      <td>0.180</td>\n",
       "      <td>11.22</td>\n",
       "      <td>0.26</td>\n",
       "      <td>0.003</td>\n",
       "      <td>5.61</td>\n",
       "      <td>0.05</td>\n",
       "      <td>0.07</td>\n",
       "      <td>0.04</td>\n",
       "      <td>0.01</td>\n",
       "      <td>0</td>\n",
       "    </tr>\n",
       "    <tr>\n",
       "      <th>4</th>\n",
       "      <td>0.03</td>\n",
       "      <td>5.28</td>\n",
       "      <td>0.77</td>\n",
       "      <td>4.47</td>\n",
       "      <td>0.03</td>\n",
       "      <td>6.59</td>\n",
       "      <td>0.01</td>\n",
       "      <td>0.00</td>\n",
       "      <td>1.14</td>\n",
       "      <td>0.77</td>\n",
       "      <td>...</td>\n",
       "      <td>0.174</td>\n",
       "      <td>9.59</td>\n",
       "      <td>1.18</td>\n",
       "      <td>0.006</td>\n",
       "      <td>30.27</td>\n",
       "      <td>0.22</td>\n",
       "      <td>0.04</td>\n",
       "      <td>0.06</td>\n",
       "      <td>0.09</td>\n",
       "      <td>0</td>\n",
       "    </tr>\n",
       "    <tr>\n",
       "      <th>...</th>\n",
       "      <td>...</td>\n",
       "      <td>...</td>\n",
       "      <td>...</td>\n",
       "      <td>...</td>\n",
       "      <td>...</td>\n",
       "      <td>...</td>\n",
       "      <td>...</td>\n",
       "      <td>...</td>\n",
       "      <td>...</td>\n",
       "      <td>...</td>\n",
       "      <td>...</td>\n",
       "      <td>...</td>\n",
       "      <td>...</td>\n",
       "      <td>...</td>\n",
       "      <td>...</td>\n",
       "      <td>...</td>\n",
       "      <td>...</td>\n",
       "      <td>...</td>\n",
       "      <td>...</td>\n",
       "      <td>...</td>\n",
       "      <td>...</td>\n",
       "    </tr>\n",
       "    <tr>\n",
       "      <th>1819</th>\n",
       "      <td>0.05</td>\n",
       "      <td>7.78</td>\n",
       "      <td>0.00</td>\n",
       "      <td>1.95</td>\n",
       "      <td>0.04</td>\n",
       "      <td>0.10</td>\n",
       "      <td>0.03</td>\n",
       "      <td>0.03</td>\n",
       "      <td>1.37</td>\n",
       "      <td>0.00</td>\n",
       "      <td>...</td>\n",
       "      <td>0.197</td>\n",
       "      <td>14.29</td>\n",
       "      <td>1.00</td>\n",
       "      <td>0.005</td>\n",
       "      <td>3.57</td>\n",
       "      <td>2.13</td>\n",
       "      <td>0.09</td>\n",
       "      <td>0.06</td>\n",
       "      <td>0.03</td>\n",
       "      <td>1</td>\n",
       "    </tr>\n",
       "    <tr>\n",
       "      <th>1820</th>\n",
       "      <td>0.05</td>\n",
       "      <td>24.22</td>\n",
       "      <td>0.02</td>\n",
       "      <td>0.59</td>\n",
       "      <td>0.01</td>\n",
       "      <td>0.45</td>\n",
       "      <td>0.02</td>\n",
       "      <td>0.02</td>\n",
       "      <td>1.48</td>\n",
       "      <td>0.00</td>\n",
       "      <td>...</td>\n",
       "      <td>0.031</td>\n",
       "      <td>10.27</td>\n",
       "      <td>1.00</td>\n",
       "      <td>0.001</td>\n",
       "      <td>1.48</td>\n",
       "      <td>1.11</td>\n",
       "      <td>0.09</td>\n",
       "      <td>0.10</td>\n",
       "      <td>0.08</td>\n",
       "      <td>1</td>\n",
       "    </tr>\n",
       "    <tr>\n",
       "      <th>1821</th>\n",
       "      <td>0.09</td>\n",
       "      <td>6.85</td>\n",
       "      <td>0.00</td>\n",
       "      <td>0.61</td>\n",
       "      <td>0.03</td>\n",
       "      <td>0.05</td>\n",
       "      <td>0.05</td>\n",
       "      <td>0.02</td>\n",
       "      <td>0.91</td>\n",
       "      <td>0.00</td>\n",
       "      <td>...</td>\n",
       "      <td>0.182</td>\n",
       "      <td>15.92</td>\n",
       "      <td>1.00</td>\n",
       "      <td>0.000</td>\n",
       "      <td>1.35</td>\n",
       "      <td>4.84</td>\n",
       "      <td>0.00</td>\n",
       "      <td>0.04</td>\n",
       "      <td>0.05</td>\n",
       "      <td>1</td>\n",
       "    </tr>\n",
       "    <tr>\n",
       "      <th>1822</th>\n",
       "      <td>0.01</td>\n",
       "      <td>10.00</td>\n",
       "      <td>0.01</td>\n",
       "      <td>2.00</td>\n",
       "      <td>0.00</td>\n",
       "      <td>2.00</td>\n",
       "      <td>0.00</td>\n",
       "      <td>0.09</td>\n",
       "      <td>0.00</td>\n",
       "      <td>0.00</td>\n",
       "      <td>...</td>\n",
       "      <td>0.000</td>\n",
       "      <td>0.00</td>\n",
       "      <td>0.00</td>\n",
       "      <td>0.000</td>\n",
       "      <td>0.00</td>\n",
       "      <td>0.00</td>\n",
       "      <td>0.00</td>\n",
       "      <td>0.00</td>\n",
       "      <td>0.00</td>\n",
       "      <td>1</td>\n",
       "    </tr>\n",
       "    <tr>\n",
       "      <th>1823</th>\n",
       "      <td>0.04</td>\n",
       "      <td>6.85</td>\n",
       "      <td>0.01</td>\n",
       "      <td>0.70</td>\n",
       "      <td>0.03</td>\n",
       "      <td>0.05</td>\n",
       "      <td>0.01</td>\n",
       "      <td>0.03</td>\n",
       "      <td>1.00</td>\n",
       "      <td>0.00</td>\n",
       "      <td>...</td>\n",
       "      <td>0.182</td>\n",
       "      <td>15.92</td>\n",
       "      <td>1.00</td>\n",
       "      <td>0.000</td>\n",
       "      <td>1.35</td>\n",
       "      <td>4.84</td>\n",
       "      <td>0.00</td>\n",
       "      <td>0.04</td>\n",
       "      <td>0.05</td>\n",
       "      <td>1</td>\n",
       "    </tr>\n",
       "  </tbody>\n",
       "</table>\n",
       "<p>1824 rows × 21 columns</p>\n",
       "</div>"
      ],
      "text/plain": [
       "      aluminium  ammonia  arsenic  barium  cadmium  chloramine  chromium  \\\n",
       "0          0.07     0.49     0.05    0.07     0.04        0.31      0.03   \n",
       "1          0.07     0.43     0.05    3.71     0.07        0.62      0.84   \n",
       "2          0.07     5.91     0.02    0.54     0.02        0.44      0.08   \n",
       "3          0.10     9.19     0.03    0.71     0.08        0.09      0.08   \n",
       "4          0.03     5.28     0.77    4.47     0.03        6.59      0.01   \n",
       "...         ...      ...      ...     ...      ...         ...       ...   \n",
       "1819       0.05     7.78     0.00    1.95     0.04        0.10      0.03   \n",
       "1820       0.05    24.22     0.02    0.59     0.01        0.45      0.02   \n",
       "1821       0.09     6.85     0.00    0.61     0.03        0.05      0.05   \n",
       "1822       0.01    10.00     0.01    2.00     0.00        2.00      0.00   \n",
       "1823       0.04     6.85     0.01    0.70     0.03        0.05      0.01   \n",
       "\n",
       "      copper  flouride  bacteria  ...   lead  nitrates  nitrites  mercury  \\\n",
       "0       1.29      0.83      0.00  ...  0.152     13.34      1.95    0.005   \n",
       "1       0.00      1.31      0.42  ...  0.001      2.46      1.77    0.001   \n",
       "2       1.04      0.63      0.09  ...  0.179      8.13      0.65    0.001   \n",
       "3       0.07      0.87      0.00  ...  0.180     11.22      0.26    0.003   \n",
       "4       0.00      1.14      0.77  ...  0.174      9.59      1.18    0.006   \n",
       "...      ...       ...       ...  ...    ...       ...       ...      ...   \n",
       "1819    0.03      1.37      0.00  ...  0.197     14.29      1.00    0.005   \n",
       "1820    0.02      1.48      0.00  ...  0.031     10.27      1.00    0.001   \n",
       "1821    0.02      0.91      0.00  ...  0.182     15.92      1.00    0.000   \n",
       "1822    0.09      0.00      0.00  ...  0.000      0.00      0.00    0.000   \n",
       "1823    0.03      1.00      0.00  ...  0.182     15.92      1.00    0.000   \n",
       "\n",
       "      perchlorate  radium  selenium  silver  uranium  is_safe  \n",
       "0            0.35    4.38      0.08    0.08     0.09        0  \n",
       "1           13.32    7.18      0.03    0.24     0.08        0  \n",
       "2            5.14    0.77      0.04    0.02     0.09        0  \n",
       "3            5.61    0.05      0.07    0.04     0.01        0  \n",
       "4           30.27    0.22      0.04    0.06     0.09        0  \n",
       "...           ...     ...       ...     ...      ...      ...  \n",
       "1819         3.57    2.13      0.09    0.06     0.03        1  \n",
       "1820         1.48    1.11      0.09    0.10     0.08        1  \n",
       "1821         1.35    4.84      0.00    0.04     0.05        1  \n",
       "1822         0.00    0.00      0.00    0.00     0.00        1  \n",
       "1823         1.35    4.84      0.00    0.04     0.05        1  \n",
       "\n",
       "[1824 rows x 21 columns]"
      ]
     },
     "execution_count": 51,
     "metadata": {},
     "output_type": "execute_result"
    }
   ],
   "source": [
    "# combine the data together again\n",
    "OriginalDataForLDA=resampled_variable\n",
    "OriginalDataForLDA[\"is_safe\"]=resampled\n",
    "OriginalDataForLDA"
   ]
  },
  {
   "cell_type": "code",
   "execution_count": 52,
   "id": "0c466bd7",
   "metadata": {},
   "outputs": [],
   "source": [
    "DescribeFrame=Data.describe()"
   ]
  },
  {
   "cell_type": "code",
   "execution_count": 53,
   "id": "ccbb0c7d",
   "metadata": {},
   "outputs": [
    {
     "name": "stdout",
     "output_type": "stream",
     "text": [
      "['aluminium', 'ammonia', 'arsenic', 'barium', 'cadmium', 'chloramine', 'chromium', 'copper', 'flouride', 'bacteria', 'viruses', 'lead', 'nitrates', 'nitrites', 'mercury', 'perchlorate', 'radium', 'selenium', 'silver', 'uranium', 'is_safe']\n",
      "[5.05, 29.84, 1.05, 4.94, 0.13, 8.68, 0.9, 2.0, 1.5, 1.0, 1.0, 0.2, 19.83, 2.93, 0.01, 60.01, 7.99, 0.1, 0.5, 0.09]\n",
      "['2.8', '32.5', '0.01', '2', '0.005', '4', '0.1', '1.3', '1.5', '0', '0', '0.015', '10', '1', '0.002', '56', '5', '0.5', '0.1', '0.3', '0', '1']\n"
     ]
    }
   ],
   "source": [
    "ColList=list(Data.columns)\n",
    "print(ColList)\n",
    "MaxCount=DescribeFrame.iloc[7]\n",
    "Max_list =MaxCount.tolist()\n",
    "print(Max_list)\n",
    "print (result)"
   ]
  },
  {
   "cell_type": "code",
   "execution_count": 54,
   "id": "06c12029",
   "metadata": {},
   "outputs": [],
   "source": [
    "for j in range (19):\n",
    "    if float(Max_list[j])<=float(result[j]):\n",
    "        OriginalDataForLDA[str(ColList[j]+'_bin')]= pd.cut(Data.iloc[:,j],\n",
    "                           [-0.001, float(result[j]), 100.00],\n",
    "                           labels=['Safe', 'Dangerous'])\n",
    "    else:\n",
    "        OriginalDataForLDA[str(ColList[j]+'_bin')]= pd.cut(Data.iloc[:,j],\n",
    "                           [-0.001, float(result[j]), float(Max_list[j])],\n",
    "                           labels=['Safe', 'Dangerous'])"
   ]
  },
  {
   "cell_type": "code",
   "execution_count": 55,
   "id": "646194c6",
   "metadata": {},
   "outputs": [
    {
     "data": {
      "text/html": [
       "<div>\n",
       "<style scoped>\n",
       "    .dataframe tbody tr th:only-of-type {\n",
       "        vertical-align: middle;\n",
       "    }\n",
       "\n",
       "    .dataframe tbody tr th {\n",
       "        vertical-align: top;\n",
       "    }\n",
       "\n",
       "    .dataframe thead th {\n",
       "        text-align: right;\n",
       "    }\n",
       "</style>\n",
       "<table border=\"1\" class=\"dataframe\">\n",
       "  <thead>\n",
       "    <tr style=\"text-align: right;\">\n",
       "      <th></th>\n",
       "      <th>aluminium</th>\n",
       "      <th>ammonia</th>\n",
       "      <th>arsenic</th>\n",
       "      <th>barium</th>\n",
       "      <th>cadmium</th>\n",
       "      <th>chloramine</th>\n",
       "      <th>chromium</th>\n",
       "      <th>copper</th>\n",
       "      <th>flouride</th>\n",
       "      <th>bacteria</th>\n",
       "      <th>...</th>\n",
       "      <th>bacteria_bin</th>\n",
       "      <th>viruses_bin</th>\n",
       "      <th>lead_bin</th>\n",
       "      <th>nitrates_bin</th>\n",
       "      <th>nitrites_bin</th>\n",
       "      <th>mercury_bin</th>\n",
       "      <th>perchlorate_bin</th>\n",
       "      <th>radium_bin</th>\n",
       "      <th>selenium_bin</th>\n",
       "      <th>silver_bin</th>\n",
       "    </tr>\n",
       "  </thead>\n",
       "  <tbody>\n",
       "    <tr>\n",
       "      <th>0</th>\n",
       "      <td>0.07</td>\n",
       "      <td>0.49</td>\n",
       "      <td>0.05</td>\n",
       "      <td>0.07</td>\n",
       "      <td>0.04</td>\n",
       "      <td>0.31</td>\n",
       "      <td>0.03</td>\n",
       "      <td>1.29</td>\n",
       "      <td>0.83</td>\n",
       "      <td>0.00</td>\n",
       "      <td>...</td>\n",
       "      <td>Dangerous</td>\n",
       "      <td>Safe</td>\n",
       "      <td>Dangerous</td>\n",
       "      <td>Dangerous</td>\n",
       "      <td>Dangerous</td>\n",
       "      <td>Dangerous</td>\n",
       "      <td>Safe</td>\n",
       "      <td>Dangerous</td>\n",
       "      <td>Safe</td>\n",
       "      <td>Dangerous</td>\n",
       "    </tr>\n",
       "    <tr>\n",
       "      <th>1</th>\n",
       "      <td>0.07</td>\n",
       "      <td>0.43</td>\n",
       "      <td>0.05</td>\n",
       "      <td>3.71</td>\n",
       "      <td>0.07</td>\n",
       "      <td>0.62</td>\n",
       "      <td>0.84</td>\n",
       "      <td>0.00</td>\n",
       "      <td>1.31</td>\n",
       "      <td>0.42</td>\n",
       "      <td>...</td>\n",
       "      <td>Dangerous</td>\n",
       "      <td>Dangerous</td>\n",
       "      <td>Dangerous</td>\n",
       "      <td>Safe</td>\n",
       "      <td>Dangerous</td>\n",
       "      <td>Dangerous</td>\n",
       "      <td>Safe</td>\n",
       "      <td>Safe</td>\n",
       "      <td>Safe</td>\n",
       "      <td>Dangerous</td>\n",
       "    </tr>\n",
       "    <tr>\n",
       "      <th>2</th>\n",
       "      <td>0.07</td>\n",
       "      <td>5.91</td>\n",
       "      <td>0.02</td>\n",
       "      <td>0.54</td>\n",
       "      <td>0.02</td>\n",
       "      <td>0.44</td>\n",
       "      <td>0.08</td>\n",
       "      <td>1.04</td>\n",
       "      <td>0.63</td>\n",
       "      <td>0.09</td>\n",
       "      <td>...</td>\n",
       "      <td>Dangerous</td>\n",
       "      <td>Dangerous</td>\n",
       "      <td>Dangerous</td>\n",
       "      <td>Dangerous</td>\n",
       "      <td>Dangerous</td>\n",
       "      <td>Dangerous</td>\n",
       "      <td>Safe</td>\n",
       "      <td>Dangerous</td>\n",
       "      <td>Safe</td>\n",
       "      <td>Dangerous</td>\n",
       "    </tr>\n",
       "    <tr>\n",
       "      <th>3</th>\n",
       "      <td>0.10</td>\n",
       "      <td>9.19</td>\n",
       "      <td>0.03</td>\n",
       "      <td>0.71</td>\n",
       "      <td>0.08</td>\n",
       "      <td>0.09</td>\n",
       "      <td>0.08</td>\n",
       "      <td>0.07</td>\n",
       "      <td>0.87</td>\n",
       "      <td>0.00</td>\n",
       "      <td>...</td>\n",
       "      <td>Dangerous</td>\n",
       "      <td>Dangerous</td>\n",
       "      <td>Dangerous</td>\n",
       "      <td>Safe</td>\n",
       "      <td>Dangerous</td>\n",
       "      <td>Dangerous</td>\n",
       "      <td>Safe</td>\n",
       "      <td>Safe</td>\n",
       "      <td>Safe</td>\n",
       "      <td>Dangerous</td>\n",
       "    </tr>\n",
       "    <tr>\n",
       "      <th>4</th>\n",
       "      <td>0.03</td>\n",
       "      <td>5.28</td>\n",
       "      <td>0.77</td>\n",
       "      <td>4.47</td>\n",
       "      <td>0.03</td>\n",
       "      <td>6.59</td>\n",
       "      <td>0.01</td>\n",
       "      <td>0.00</td>\n",
       "      <td>1.14</td>\n",
       "      <td>0.77</td>\n",
       "      <td>...</td>\n",
       "      <td>Dangerous</td>\n",
       "      <td>Dangerous</td>\n",
       "      <td>Dangerous</td>\n",
       "      <td>Safe</td>\n",
       "      <td>Dangerous</td>\n",
       "      <td>Dangerous</td>\n",
       "      <td>Safe</td>\n",
       "      <td>Safe</td>\n",
       "      <td>Safe</td>\n",
       "      <td>Safe</td>\n",
       "    </tr>\n",
       "    <tr>\n",
       "      <th>...</th>\n",
       "      <td>...</td>\n",
       "      <td>...</td>\n",
       "      <td>...</td>\n",
       "      <td>...</td>\n",
       "      <td>...</td>\n",
       "      <td>...</td>\n",
       "      <td>...</td>\n",
       "      <td>...</td>\n",
       "      <td>...</td>\n",
       "      <td>...</td>\n",
       "      <td>...</td>\n",
       "      <td>...</td>\n",
       "      <td>...</td>\n",
       "      <td>...</td>\n",
       "      <td>...</td>\n",
       "      <td>...</td>\n",
       "      <td>...</td>\n",
       "      <td>...</td>\n",
       "      <td>...</td>\n",
       "      <td>...</td>\n",
       "      <td>...</td>\n",
       "    </tr>\n",
       "    <tr>\n",
       "      <th>1819</th>\n",
       "      <td>0.05</td>\n",
       "      <td>7.78</td>\n",
       "      <td>0.00</td>\n",
       "      <td>1.95</td>\n",
       "      <td>0.04</td>\n",
       "      <td>0.10</td>\n",
       "      <td>0.03</td>\n",
       "      <td>0.03</td>\n",
       "      <td>1.37</td>\n",
       "      <td>0.00</td>\n",
       "      <td>...</td>\n",
       "      <td>Dangerous</td>\n",
       "      <td>Dangerous</td>\n",
       "      <td>Dangerous</td>\n",
       "      <td>Dangerous</td>\n",
       "      <td>Dangerous</td>\n",
       "      <td>Safe</td>\n",
       "      <td>Dangerous</td>\n",
       "      <td>Dangerous</td>\n",
       "      <td>Safe</td>\n",
       "      <td>Dangerous</td>\n",
       "    </tr>\n",
       "    <tr>\n",
       "      <th>1820</th>\n",
       "      <td>0.05</td>\n",
       "      <td>24.22</td>\n",
       "      <td>0.02</td>\n",
       "      <td>0.59</td>\n",
       "      <td>0.01</td>\n",
       "      <td>0.45</td>\n",
       "      <td>0.02</td>\n",
       "      <td>0.02</td>\n",
       "      <td>1.48</td>\n",
       "      <td>0.00</td>\n",
       "      <td>...</td>\n",
       "      <td>Dangerous</td>\n",
       "      <td>Dangerous</td>\n",
       "      <td>Dangerous</td>\n",
       "      <td>Safe</td>\n",
       "      <td>Dangerous</td>\n",
       "      <td>Dangerous</td>\n",
       "      <td>Safe</td>\n",
       "      <td>Safe</td>\n",
       "      <td>Safe</td>\n",
       "      <td>Dangerous</td>\n",
       "    </tr>\n",
       "    <tr>\n",
       "      <th>1821</th>\n",
       "      <td>0.09</td>\n",
       "      <td>6.85</td>\n",
       "      <td>0.00</td>\n",
       "      <td>0.61</td>\n",
       "      <td>0.03</td>\n",
       "      <td>0.05</td>\n",
       "      <td>0.05</td>\n",
       "      <td>0.02</td>\n",
       "      <td>0.91</td>\n",
       "      <td>0.00</td>\n",
       "      <td>...</td>\n",
       "      <td>Dangerous</td>\n",
       "      <td>Dangerous</td>\n",
       "      <td>Dangerous</td>\n",
       "      <td>Safe</td>\n",
       "      <td>Dangerous</td>\n",
       "      <td>Dangerous</td>\n",
       "      <td>Safe</td>\n",
       "      <td>Safe</td>\n",
       "      <td>Safe</td>\n",
       "      <td>Dangerous</td>\n",
       "    </tr>\n",
       "    <tr>\n",
       "      <th>1822</th>\n",
       "      <td>0.01</td>\n",
       "      <td>10.00</td>\n",
       "      <td>0.01</td>\n",
       "      <td>2.00</td>\n",
       "      <td>0.00</td>\n",
       "      <td>2.00</td>\n",
       "      <td>0.00</td>\n",
       "      <td>0.09</td>\n",
       "      <td>0.00</td>\n",
       "      <td>0.00</td>\n",
       "      <td>...</td>\n",
       "      <td>Dangerous</td>\n",
       "      <td>Dangerous</td>\n",
       "      <td>Dangerous</td>\n",
       "      <td>Dangerous</td>\n",
       "      <td>Dangerous</td>\n",
       "      <td>Safe</td>\n",
       "      <td>Safe</td>\n",
       "      <td>Safe</td>\n",
       "      <td>Safe</td>\n",
       "      <td>Dangerous</td>\n",
       "    </tr>\n",
       "    <tr>\n",
       "      <th>1823</th>\n",
       "      <td>0.04</td>\n",
       "      <td>6.85</td>\n",
       "      <td>0.01</td>\n",
       "      <td>0.70</td>\n",
       "      <td>0.03</td>\n",
       "      <td>0.05</td>\n",
       "      <td>0.01</td>\n",
       "      <td>0.03</td>\n",
       "      <td>1.00</td>\n",
       "      <td>0.00</td>\n",
       "      <td>...</td>\n",
       "      <td>Dangerous</td>\n",
       "      <td>Dangerous</td>\n",
       "      <td>Dangerous</td>\n",
       "      <td>Safe</td>\n",
       "      <td>Dangerous</td>\n",
       "      <td>Dangerous</td>\n",
       "      <td>Safe</td>\n",
       "      <td>Dangerous</td>\n",
       "      <td>Safe</td>\n",
       "      <td>Safe</td>\n",
       "    </tr>\n",
       "  </tbody>\n",
       "</table>\n",
       "<p>1824 rows × 40 columns</p>\n",
       "</div>"
      ],
      "text/plain": [
       "      aluminium  ammonia  arsenic  barium  cadmium  chloramine  chromium  \\\n",
       "0          0.07     0.49     0.05    0.07     0.04        0.31      0.03   \n",
       "1          0.07     0.43     0.05    3.71     0.07        0.62      0.84   \n",
       "2          0.07     5.91     0.02    0.54     0.02        0.44      0.08   \n",
       "3          0.10     9.19     0.03    0.71     0.08        0.09      0.08   \n",
       "4          0.03     5.28     0.77    4.47     0.03        6.59      0.01   \n",
       "...         ...      ...      ...     ...      ...         ...       ...   \n",
       "1819       0.05     7.78     0.00    1.95     0.04        0.10      0.03   \n",
       "1820       0.05    24.22     0.02    0.59     0.01        0.45      0.02   \n",
       "1821       0.09     6.85     0.00    0.61     0.03        0.05      0.05   \n",
       "1822       0.01    10.00     0.01    2.00     0.00        2.00      0.00   \n",
       "1823       0.04     6.85     0.01    0.70     0.03        0.05      0.01   \n",
       "\n",
       "      copper  flouride  bacteria  ...  bacteria_bin  viruses_bin   lead_bin  \\\n",
       "0       1.29      0.83      0.00  ...     Dangerous         Safe  Dangerous   \n",
       "1       0.00      1.31      0.42  ...     Dangerous    Dangerous  Dangerous   \n",
       "2       1.04      0.63      0.09  ...     Dangerous    Dangerous  Dangerous   \n",
       "3       0.07      0.87      0.00  ...     Dangerous    Dangerous  Dangerous   \n",
       "4       0.00      1.14      0.77  ...     Dangerous    Dangerous  Dangerous   \n",
       "...      ...       ...       ...  ...           ...          ...        ...   \n",
       "1819    0.03      1.37      0.00  ...     Dangerous    Dangerous  Dangerous   \n",
       "1820    0.02      1.48      0.00  ...     Dangerous    Dangerous  Dangerous   \n",
       "1821    0.02      0.91      0.00  ...     Dangerous    Dangerous  Dangerous   \n",
       "1822    0.09      0.00      0.00  ...     Dangerous    Dangerous  Dangerous   \n",
       "1823    0.03      1.00      0.00  ...     Dangerous    Dangerous  Dangerous   \n",
       "\n",
       "      nitrates_bin  nitrites_bin  mercury_bin  perchlorate_bin  radium_bin  \\\n",
       "0        Dangerous     Dangerous    Dangerous             Safe   Dangerous   \n",
       "1             Safe     Dangerous    Dangerous             Safe        Safe   \n",
       "2        Dangerous     Dangerous    Dangerous             Safe   Dangerous   \n",
       "3             Safe     Dangerous    Dangerous             Safe        Safe   \n",
       "4             Safe     Dangerous    Dangerous             Safe        Safe   \n",
       "...            ...           ...          ...              ...         ...   \n",
       "1819     Dangerous     Dangerous         Safe        Dangerous   Dangerous   \n",
       "1820          Safe     Dangerous    Dangerous             Safe        Safe   \n",
       "1821          Safe     Dangerous    Dangerous             Safe        Safe   \n",
       "1822     Dangerous     Dangerous         Safe             Safe        Safe   \n",
       "1823          Safe     Dangerous    Dangerous             Safe   Dangerous   \n",
       "\n",
       "      selenium_bin  silver_bin  \n",
       "0             Safe   Dangerous  \n",
       "1             Safe   Dangerous  \n",
       "2             Safe   Dangerous  \n",
       "3             Safe   Dangerous  \n",
       "4             Safe        Safe  \n",
       "...            ...         ...  \n",
       "1819          Safe   Dangerous  \n",
       "1820          Safe   Dangerous  \n",
       "1821          Safe   Dangerous  \n",
       "1822          Safe   Dangerous  \n",
       "1823          Safe        Safe  \n",
       "\n",
       "[1824 rows x 40 columns]"
      ]
     },
     "execution_count": 55,
     "metadata": {},
     "output_type": "execute_result"
    }
   ],
   "source": [
    "OriginalDataForLDA"
   ]
  },
  {
   "cell_type": "markdown",
   "id": "cd40da5c",
   "metadata": {},
   "source": [
    "Through Neural Network, we use the top 3 feature importance, which is `aluminium`, `perchlorate` and `silver`. We will now apply this to LDA and Random Forrest to compare accuracy."
   ]
  },
  {
   "cell_type": "markdown",
   "id": "c8b9a17a",
   "metadata": {},
   "source": [
    "### Random Forest"
   ]
  },
  {
   "cell_type": "code",
   "execution_count": 56,
   "id": "5f2f0ed4",
   "metadata": {},
   "outputs": [],
   "source": [
    "# Extract Response and Predictors\n",
    "y = pd.DataFrame(OriginalDataForLDA[\"is_safe\"])\n",
    "X = pd.DataFrame(OriginalDataForLDA[[\"aluminium\",\"silver\",\"perchlorate\"]])"
   ]
  },
  {
   "cell_type": "code",
   "execution_count": 57,
   "id": "c7a3dd42",
   "metadata": {},
   "outputs": [],
   "source": [
    "# necessary imports\n",
    "from sklearn.tree import DecisionTreeClassifier\n",
    "from sklearn.model_selection import train_test_split\n",
    "from sklearn.metrics import confusion_matrix\n",
    "from sklearn.metrics import classification_report\n",
    "from sklearn.ensemble import RandomForestClassifier"
   ]
  },
  {
   "cell_type": "code",
   "execution_count": 58,
   "id": "4c1e7ad8",
   "metadata": {},
   "outputs": [],
   "source": [
    "X_train, X_test, y_train, y_test = train_test_split(X, y, test_size = 0.25)"
   ]
  },
  {
   "cell_type": "code",
   "execution_count": 59,
   "id": "6768f243",
   "metadata": {},
   "outputs": [
    {
     "name": "stdout",
     "output_type": "stream",
     "text": [
      "Train Accuracy: 0.9992690058479532\n",
      "Test Accuracy: 0.7982456140350878\n"
     ]
    }
   ],
   "source": [
    "#Create a Gaussian Classifier\n",
    "clf=RandomForestClassifier(n_estimators=100)\n",
    "\n",
    "#Train the model using the training sets y_pred=clf.predict(X_test)\n",
    "clf.fit(X_train,y_train.values.ravel())\n",
    "\n",
    "# prediction on test set\n",
    "y_pred=clf.predict(X_test)\n",
    "\n",
    "#Import scikit-learn metrics module for accuracy calculation\n",
    "from sklearn import metrics\n",
    "# Model Accuracy, how often is the classifier correct?\n",
    "y_pred_train= clf.predict(X_train)\n",
    "y_pred_test=clf.predict(X_test)\n",
    "print(\"Train Accuracy:\",metrics.accuracy_score(y_train, y_pred_train))\n",
    "print(\"Test Accuracy:\",metrics.accuracy_score(y_test, y_pred))"
   ]
  },
  {
   "cell_type": "code",
   "execution_count": 60,
   "id": "fdec9d0a",
   "metadata": {},
   "outputs": [
    {
     "name": "stdout",
     "output_type": "stream",
     "text": [
      "[[304 385]\n",
      " [300 379]]\n"
     ]
    }
   ],
   "source": [
    "print(confusion_matrix(y_train, y_train_pred))"
   ]
  },
  {
   "cell_type": "markdown",
   "id": "713d9d37",
   "metadata": {},
   "source": [
    "### LDA"
   ]
  },
  {
   "cell_type": "code",
   "execution_count": 61,
   "id": "ef5c570a",
   "metadata": {},
   "outputs": [],
   "source": [
    "import plotly.express as px # for data visualization\n",
    "\n",
    "# Skleran\n",
    "from sklearn.preprocessing import StandardScaler # for data standardization\n",
    "from sklearn.metrics import classification_report # for model evaluation metrics\n",
    "from sklearn.tree import DecisionTreeClassifier # for decision tree models\n",
    "\n",
    "# Sklearn dimensionality reduction\n",
    "from sklearn.discriminant_analysis import LinearDiscriminantAnalysis as LDA # for LDA analysis\n",
    "from sklearn.decomposition import PCA # for PCA analysis\""
   ]
  },
  {
   "cell_type": "code",
   "execution_count": 62,
   "id": "28a9e778",
   "metadata": {},
   "outputs": [
    {
     "data": {
      "application/vnd.plotly.v1+json": {
       "config": {
        "plotlyServerURL": "https://plot.ly"
       },
       "data": [
        {
         "customdata": [
          [
           0.31,
           0.04,
           "0"
          ],
          [
           0.62,
           0.07,
           "0"
          ],
          [
           0.44,
           0.02,
           "0"
          ],
          [
           0.09,
           0.08,
           "0"
          ],
          [
           6.59,
           0.03,
           "0"
          ],
          [
           3.02,
           0.006,
           "0"
          ],
          [
           0.1,
           0.02,
           "0"
          ],
          [
           0.38,
           0.09,
           "0"
          ],
          [
           5.24,
           0.008,
           "0"
          ],
          [
           0.07,
           0.07,
           "0"
          ],
          [
           0.04,
           0.04,
           "0"
          ],
          [
           1.73,
           0.001,
           "0"
          ],
          [
           0.05,
           0.05,
           "0"
          ],
          [
           6.1,
           0.008,
           "0"
          ],
          [
           6.95,
           0.01,
           "0"
          ],
          [
           0.47,
           0,
           "0"
          ],
          [
           0.03,
           0.09,
           "0"
          ],
          [
           0.49,
           0.08,
           "0"
          ],
          [
           0.56,
           0,
           "0"
          ],
          [
           3.47,
           0.007,
           "0"
          ],
          [
           0.19,
           0.01,
           "0"
          ],
          [
           0.1,
           0.09,
           "0"
          ],
          [
           4.23,
           0.07,
           "0"
          ],
          [
           1.29,
           0.07,
           "0"
          ],
          [
           2.32,
           0.004,
           "0"
          ],
          [
           0.05,
           0.06,
           "0"
          ],
          [
           5.14,
           0.008,
           "0"
          ],
          [
           0.1,
           0.05,
           "0"
          ],
          [
           7.36,
           0.006,
           "0"
          ],
          [
           0.07,
           0.02,
           "0"
          ],
          [
           0.51,
           0.12,
           "0"
          ],
          [
           0.29,
           0.05,
           "0"
          ],
          [
           0.16,
           0.09,
           "0"
          ],
          [
           0.1,
           0.01,
           "0"
          ],
          [
           0.02,
           0.1,
           "0"
          ],
          [
           0.11,
           0.04,
           "0"
          ],
          [
           6.19,
           0.008,
           "0"
          ],
          [
           0.1,
           0.04,
           "0"
          ],
          [
           0.12,
           0.07,
           "0"
          ],
          [
           0.05,
           0.04,
           "0"
          ],
          [
           0.02,
           0.05,
           "0"
          ],
          [
           0,
           0.09,
           "0"
          ],
          [
           0.96,
           0.03,
           "0"
          ],
          [
           0.01,
           0.07,
           "0"
          ],
          [
           3.67,
           0.1,
           "0"
          ],
          [
           0.6,
           0.02,
           "0"
          ],
          [
           3.88,
           0.01,
           "0"
          ],
          [
           1.05,
           0.04,
           "0"
          ],
          [
           0.02,
           0,
           "0"
          ],
          [
           0.06,
           0.06,
           "0"
          ],
          [
           2.68,
           0.05,
           "0"
          ],
          [
           0.67,
           0.05,
           "0"
          ],
          [
           0.17,
           0.08,
           "0"
          ],
          [
           0.02,
           0.08,
           "0"
          ],
          [
           0.18,
           0.02,
           "0"
          ],
          [
           0.07,
           0,
           "0"
          ],
          [
           0.63,
           0.02,
           "0"
          ],
          [
           0.11,
           0.04,
           "0"
          ],
          [
           0.27,
           0.07,
           "0"
          ],
          [
           4.49,
           0.007,
           "0"
          ],
          [
           0.03,
           0.01,
           "0"
          ],
          [
           7.98,
           0.13,
           "0"
          ],
          [
           0.21,
           0.02,
           "0"
          ],
          [
           0.12,
           0.04,
           "0"
          ],
          [
           5.54,
           0.06,
           "0"
          ],
          [
           4.79,
           0.004,
           "0"
          ],
          [
           1.84,
           0.03,
           "0"
          ],
          [
           0.34,
           0.07,
           "0"
          ],
          [
           0.08,
           0.05,
           "0"
          ],
          [
           8,
           0.05,
           "0"
          ],
          [
           0.14,
           0.09,
           "0"
          ],
          [
           0.19,
           0.03,
           "0"
          ],
          [
           3.53,
           0.01,
           "0"
          ],
          [
           2.76,
           0.02,
           "0"
          ],
          [
           0.64,
           0.07,
           "0"
          ],
          [
           0.39,
           0.001,
           "0"
          ],
          [
           0.02,
           0.05,
           "0"
          ],
          [
           3.57,
           0.04,
           "0"
          ],
          [
           0.14,
           0.04,
           "0"
          ],
          [
           0.54,
           0.06,
           "0"
          ],
          [
           0.46,
           0.05,
           "0"
          ],
          [
           0.05,
           0.04,
           "0"
          ],
          [
           0.53,
           0.03,
           "0"
          ],
          [
           0.01,
           0.03,
           "0"
          ],
          [
           6.5,
           0.01,
           "0"
          ],
          [
           0.19,
           0.06,
           "0"
          ],
          [
           4.25,
           0.008,
           "0"
          ],
          [
           0.08,
           0.06,
           "0"
          ],
          [
           0.39,
           0.09,
           "0"
          ],
          [
           6.51,
           0.01,
           "0"
          ],
          [
           5.37,
           0.04,
           "0"
          ],
          [
           6.37,
           0.08,
           "0"
          ],
          [
           0.42,
           0.06,
           "0"
          ],
          [
           0.01,
           0.04,
           "0"
          ],
          [
           0.3,
           0.03,
           "0"
          ],
          [
           0.21,
           0.08,
           "0"
          ],
          [
           6.26,
           0.008,
           "0"
          ],
          [
           3.63,
           0.06,
           "0"
          ],
          [
           0.31,
           0.07,
           "0"
          ],
          [
           1.33,
           0.008,
           "0"
          ],
          [
           7.5,
           0.12,
           "0"
          ],
          [
           0.49,
           0.02,
           "0"
          ],
          [
           0.01,
           0.09,
           "0"
          ],
          [
           4.04,
           0.07,
           "0"
          ],
          [
           4.16,
           0.004,
           "0"
          ],
          [
           0.74,
           0.12,
           "0"
          ],
          [
           7.15,
           0.01,
           "0"
          ],
          [
           0.08,
           0.05,
           "0"
          ],
          [
           0.04,
           0.08,
           "0"
          ],
          [
           0.03,
           0.09,
           "0"
          ],
          [
           0.03,
           0.07,
           "0"
          ],
          [
           4.57,
           0.1,
           "0"
          ],
          [
           1.62,
           0.04,
           "0"
          ],
          [
           4.6,
           0.02,
           "0"
          ],
          [
           6.76,
           0.003,
           "0"
          ],
          [
           0,
           0.08,
           "0"
          ],
          [
           0.01,
           0.07,
           "0"
          ],
          [
           0.17,
           0.06,
           "0"
          ],
          [
           5.23,
           0.006,
           "0"
          ],
          [
           0.03,
           0.07,
           "0"
          ],
          [
           0.42,
           0.1,
           "0"
          ],
          [
           0.09,
           0.09,
           "0"
          ],
          [
           0.05,
           0.1,
           "0"
          ],
          [
           7.67,
           0.07,
           "0"
          ],
          [
           0.25,
           0.03,
           "0"
          ],
          [
           0.03,
           0.06,
           "0"
          ],
          [
           0.07,
           0.09,
           "0"
          ],
          [
           8.2,
           0.08,
           "0"
          ],
          [
           6.95,
           0.02,
           "0"
          ],
          [
           0.17,
           0.05,
           "0"
          ],
          [
           0.36,
           0,
           "0"
          ],
          [
           5.4,
           0.11,
           "0"
          ],
          [
           3.11,
           0.13,
           "0"
          ],
          [
           0.05,
           0.05,
           "0"
          ],
          [
           0.15,
           0.01,
           "0"
          ],
          [
           0.02,
           0.01,
           "0"
          ],
          [
           0.43,
           0,
           "0"
          ],
          [
           6.22,
           0.001,
           "0"
          ],
          [
           0.01,
           0.01,
           "0"
          ],
          [
           3.42,
           0.009,
           "0"
          ],
          [
           0.02,
           0.06,
           "0"
          ],
          [
           0.1,
           0.04,
           "0"
          ],
          [
           0.24,
           0.04,
           "0"
          ],
          [
           5.14,
           0.008,
           "0"
          ],
          [
           0.28,
           0.02,
           "0"
          ],
          [
           0.18,
           0.06,
           "0"
          ],
          [
           0.05,
           0.01,
           "0"
          ],
          [
           0.07,
           0.04,
           "0"
          ],
          [
           0.02,
           0.01,
           "0"
          ],
          [
           0.03,
           0.07,
           "0"
          ],
          [
           3.69,
           0.04,
           "0"
          ],
          [
           4.66,
           0.03,
           "0"
          ],
          [
           0.1,
           0.09,
           "0"
          ],
          [
           4.8,
           0.09,
           "0"
          ],
          [
           2.26,
           0.008,
           "0"
          ],
          [
           3.7,
           0.003,
           "0"
          ],
          [
           0.03,
           0.03,
           "0"
          ],
          [
           0.05,
           0.09,
           "0"
          ],
          [
           0.07,
           0.03,
           "0"
          ],
          [
           0.29,
           0.06,
           "0"
          ],
          [
           0.1,
           0.07,
           "0"
          ],
          [
           7.44,
           0.11,
           "0"
          ],
          [
           0.29,
           0.06,
           "0"
          ],
          [
           3.03,
           0.009,
           "0"
          ],
          [
           0.76,
           0.12,
           "0"
          ],
          [
           1.16,
           0.03,
           "0"
          ],
          [
           0.13,
           0.1,
           "0"
          ],
          [
           0.09,
           0.01,
           "0"
          ],
          [
           0.97,
           0.06,
           "0"
          ],
          [
           0.17,
           0,
           "0"
          ],
          [
           0.14,
           0.04,
           "0"
          ],
          [
           0.01,
           0.04,
           "0"
          ],
          [
           7.81,
           0.005,
           "0"
          ],
          [
           0.48,
           0.007,
           "0"
          ],
          [
           7.42,
           0.02,
           "0"
          ],
          [
           5.16,
           0.01,
           "0"
          ],
          [
           0.17,
           0.07,
           "0"
          ],
          [
           0.02,
           0.02,
           "0"
          ],
          [
           0.05,
           0.06,
           "0"
          ],
          [
           0.35,
           0.06,
           "0"
          ],
          [
           0.18,
           0.03,
           "0"
          ],
          [
           0.04,
           0.05,
           "0"
          ],
          [
           0.36,
           0.02,
           "0"
          ],
          [
           1.64,
           0.12,
           "0"
          ],
          [
           4.69,
           0.009,
           "0"
          ],
          [
           0.06,
           0.06,
           "0"
          ],
          [
           0.07,
           0.08,
           "0"
          ],
          [
           6.12,
           0.09,
           "0"
          ],
          [
           0.05,
           0.04,
           "0"
          ],
          [
           0.03,
           0.05,
           "0"
          ],
          [
           0.48,
           0.01,
           "0"
          ],
          [
           0.93,
           0.07,
           "0"
          ],
          [
           0.4,
           0.08,
           "0"
          ],
          [
           0.54,
           0.09,
           "0"
          ],
          [
           0.07,
           0.09,
           "0"
          ],
          [
           2.16,
           0.001,
           "0"
          ],
          [
           3.93,
           0.06,
           "0"
          ],
          [
           2.18,
           0.11,
           "0"
          ],
          [
           4.79,
           0.004,
           "0"
          ],
          [
           6.37,
           0.08,
           "0"
          ],
          [
           4.77,
           0.008,
           "0"
          ],
          [
           0.05,
           0.09,
           "0"
          ],
          [
           4.93,
           0.006,
           "0"
          ],
          [
           0.1,
           0.09,
           "0"
          ],
          [
           0.24,
           0,
           "0"
          ],
          [
           0.45,
           0.06,
           "0"
          ],
          [
           2.91,
           0.03,
           "0"
          ],
          [
           6.53,
           0.1,
           "0"
          ],
          [
           0.36,
           0,
           "0"
          ],
          [
           2.99,
           0.007,
           "0"
          ],
          [
           3.63,
           0.12,
           "0"
          ],
          [
           4.82,
           0.05,
           "0"
          ],
          [
           2.97,
           0.008,
           "0"
          ],
          [
           5.01,
           0.06,
           "0"
          ],
          [
           0.05,
           0.03,
           "0"
          ],
          [
           0.04,
           0.03,
           "0"
          ],
          [
           3.34,
           0.02,
           "0"
          ],
          [
           0.07,
           0.09,
           "0"
          ],
          [
           0.17,
           0.08,
           "0"
          ],
          [
           0.3,
           0.08,
           "0"
          ],
          [
           0.07,
           0.05,
           "0"
          ],
          [
           1.59,
           0.08,
           "0"
          ],
          [
           5.26,
           0.12,
           "0"
          ],
          [
           0.12,
           0.02,
           "0"
          ],
          [
           1.33,
           0.11,
           "0"
          ],
          [
           3.81,
           0.04,
           "0"
          ],
          [
           0.09,
           0.04,
           "0"
          ],
          [
           0.09,
           0.08,
           "0"
          ],
          [
           0.34,
           0.06,
           "0"
          ],
          [
           0.09,
           0.09,
           "0"
          ],
          [
           0.43,
           0.02,
           "0"
          ],
          [
           0.06,
           0.08,
           "0"
          ],
          [
           0.43,
           0.06,
           "0"
          ],
          [
           0,
           0.004,
           "0"
          ],
          [
           0.04,
           0.08,
           "0"
          ],
          [
           0.16,
           0.08,
           "0"
          ],
          [
           0.56,
           0.09,
           "0"
          ],
          [
           0.51,
           0.08,
           "0"
          ],
          [
           0.35,
           0.05,
           "0"
          ],
          [
           0.04,
           0.09,
           "0"
          ],
          [
           0.31,
           0.08,
           "0"
          ],
          [
           0.19,
           0.05,
           "0"
          ],
          [
           3.61,
           0.004,
           "0"
          ],
          [
           0.64,
           0.07,
           "0"
          ],
          [
           0.01,
           0.06,
           "0"
          ],
          [
           2.79,
           0.007,
           "0"
          ],
          [
           0.04,
           0.01,
           "0"
          ],
          [
           6.49,
           0.003,
           "0"
          ],
          [
           3.49,
           0.008,
           "0"
          ],
          [
           0.64,
           0.02,
           "0"
          ],
          [
           0.04,
           0.08,
           "0"
          ],
          [
           0.01,
           0.04,
           "0"
          ],
          [
           7.66,
           0.03,
           "0"
          ],
          [
           1.48,
           0.004,
           "0"
          ],
          [
           2.56,
           0.1,
           "0"
          ],
          [
           1.21,
           0.001,
           "0"
          ],
          [
           0.18,
           0.02,
           "0"
          ],
          [
           4.06,
           0.004,
           "0"
          ],
          [
           7.17,
           0.06,
           "0"
          ],
          [
           0.42,
           0.05,
           "0"
          ],
          [
           0.15,
           0.09,
           "0"
          ],
          [
           5.85,
           0.12,
           "0"
          ],
          [
           1.25,
           0.13,
           "0"
          ],
          [
           1.66,
           0.001,
           "0"
          ],
          [
           2.54,
           0.003,
           "0"
          ],
          [
           0.02,
           0.02,
           "0"
          ],
          [
           3.83,
           0.005,
           "0"
          ],
          [
           3.74,
           0.06,
           "0"
          ],
          [
           6.62,
           0.09,
           "0"
          ],
          [
           3.76,
           0.01,
           "0"
          ],
          [
           2.08,
           0.04,
           "0"
          ],
          [
           0.41,
           0.12,
           "0"
          ],
          [
           3.88,
           0.001,
           "0"
          ],
          [
           4.23,
           0.006,
           "0"
          ],
          [
           0.13,
           0.09,
           "0"
          ],
          [
           0.94,
           0.1,
           "0"
          ],
          [
           3.09,
           0.12,
           "0"
          ],
          [
           6.78,
           0.008,
           "0"
          ],
          [
           0.07,
           0.04,
           "0"
          ],
          [
           0.1,
           0,
           "0"
          ],
          [
           7.87,
           0.1,
           "0"
          ],
          [
           0.11,
           0.01,
           "0"
          ],
          [
           0.08,
           0.05,
           "0"
          ],
          [
           1.82,
           0.11,
           "0"
          ],
          [
           1.17,
           0.08,
           "0"
          ],
          [
           8.01,
           0.09,
           "0"
          ],
          [
           6.49,
           0.08,
           "0"
          ],
          [
           5.76,
           0.04,
           "0"
          ],
          [
           3.35,
           0.007,
           "0"
          ],
          [
           0.08,
           0,
           "0"
          ],
          [
           6.45,
           0.002,
           "0"
          ],
          [
           0.12,
           0.02,
           "0"
          ],
          [
           1.12,
           0.001,
           "0"
          ],
          [
           4.49,
           0.06,
           "0"
          ],
          [
           6.44,
           0.02,
           "0"
          ],
          [
           6.13,
           0.09,
           "0"
          ],
          [
           5.35,
           0.02,
           "0"
          ],
          [
           0.65,
           0.02,
           "0"
          ],
          [
           3.95,
           0.05,
           "0"
          ],
          [
           0.43,
           0.07,
           "0"
          ],
          [
           0.07,
           0,
           "0"
          ],
          [
           3.51,
           0.008,
           "0"
          ],
          [
           0.09,
           0.09,
           "0"
          ],
          [
           0.47,
           0,
           "0"
          ],
          [
           2.35,
           0.001,
           "0"
          ],
          [
           0.08,
           0,
           "0"
          ],
          [
           0.05,
           0.02,
           "0"
          ],
          [
           6.29,
           0.004,
           "0"
          ],
          [
           0.54,
           0.02,
           "0"
          ],
          [
           0.06,
           0.01,
           "0"
          ],
          [
           2.05,
           0.07,
           "0"
          ],
          [
           0.39,
           0.1,
           "0"
          ],
          [
           0.18,
           0.02,
           "0"
          ],
          [
           0.28,
           0.08,
           "0"
          ],
          [
           0.35,
           0.08,
           "0"
          ],
          [
           6.78,
           0.008,
           "0"
          ],
          [
           0.08,
           0.01,
           "0"
          ],
          [
           0.12,
           0.04,
           "0"
          ],
          [
           1.33,
           0.008,
           "0"
          ],
          [
           5.1,
           0.05,
           "0"
          ],
          [
           5.4,
           0.01,
           "0"
          ],
          [
           0,
           0.08,
           "0"
          ],
          [
           4.68,
           0.12,
           "0"
          ],
          [
           0,
           0.01,
           "0"
          ],
          [
           0.05,
           0.08,
           "0"
          ],
          [
           0.16,
           0.07,
           "0"
          ],
          [
           1.79,
           0.001,
           "0"
          ],
          [
           0.07,
           0.08,
           "0"
          ],
          [
           1.64,
           0.12,
           "0"
          ],
          [
           1.4,
           0.001,
           "0"
          ],
          [
           8,
           0.06,
           "0"
          ],
          [
           6.23,
           0.12,
           "0"
          ],
          [
           0.55,
           0.08,
           "0"
          ],
          [
           0.44,
           0,
           "0"
          ],
          [
           0.25,
           0.006,
           "0"
          ],
          [
           0.07,
           0.02,
           "0"
          ],
          [
           0.3,
           0.02,
           "0"
          ],
          [
           2.75,
           0.06,
           "0"
          ],
          [
           0.23,
           0.05,
           "0"
          ],
          [
           3.21,
           0.006,
           "0"
          ],
          [
           0.06,
           0.06,
           "0"
          ],
          [
           7.97,
           0.007,
           "0"
          ],
          [
           0.06,
           0.09,
           "0"
          ],
          [
           0.09,
           0.05,
           "0"
          ],
          [
           6.69,
           0.008,
           "0"
          ],
          [
           0.19,
           0.09,
           "0"
          ],
          [
           1.36,
           0.002,
           "0"
          ],
          [
           0.57,
           0.003,
           "0"
          ],
          [
           5.58,
           0.006,
           "0"
          ],
          [
           6.25,
           0.006,
           "0"
          ],
          [
           8.06,
           0.02,
           "0"
          ],
          [
           0.38,
           0.09,
           "0"
          ],
          [
           0.24,
           0,
           "0"
          ],
          [
           0.74,
           0.05,
           "0"
          ],
          [
           3.67,
           0.001,
           "0"
          ],
          [
           0.03,
           0.03,
           "0"
          ],
          [
           1.46,
           0.1,
           "0"
          ],
          [
           0.09,
           0.01,
           "0"
          ],
          [
           3.67,
           0.11,
           "0"
          ],
          [
           0.03,
           0.02,
           "0"
          ],
          [
           3.23,
           0.001,
           "0"
          ],
          [
           0.01,
           0.02,
           "0"
          ],
          [
           8.13,
           0.07,
           "0"
          ],
          [
           6.98,
           0.08,
           "0"
          ],
          [
           0,
           0.07,
           "0"
          ],
          [
           5.29,
           0.007,
           "0"
          ],
          [
           0.09,
           0,
           "0"
          ],
          [
           3.03,
           0.1,
           "0"
          ],
          [
           6.34,
           0.008,
           "0"
          ],
          [
           0.15,
           0.01,
           "0"
          ],
          [
           0.29,
           0.06,
           "0"
          ],
          [
           5.26,
           0.03,
           "0"
          ],
          [
           0.3,
           0.03,
           "0"
          ],
          [
           0.54,
           0.06,
           "0"
          ],
          [
           5.59,
           0.004,
           "0"
          ],
          [
           0.09,
           0.01,
           "0"
          ],
          [
           0.4,
           0.06,
           "0"
          ],
          [
           5.33,
           0.006,
           "0"
          ],
          [
           4.96,
           0.07,
           "0"
          ],
          [
           6.62,
           0.09,
           "0"
          ],
          [
           1.96,
           0.07,
           "0"
          ],
          [
           0.02,
           0.06,
           "0"
          ],
          [
           8.03,
           0.08,
           "0"
          ],
          [
           0.1,
           0.05,
           "0"
          ],
          [
           0.42,
           0.01,
           "0"
          ],
          [
           1.19,
           0.001,
           "0"
          ],
          [
           0.55,
           0.03,
           "0"
          ],
          [
           0.09,
           0.01,
           "0"
          ],
          [
           2.69,
           0.004,
           "0"
          ],
          [
           3.8,
           0.07,
           "0"
          ],
          [
           6.12,
           0.006,
           "0"
          ],
          [
           0.35,
           0.01,
           "0"
          ],
          [
           6.25,
           0.03,
           "0"
          ],
          [
           7.02,
           0.04,
           "0"
          ],
          [
           0.63,
           0.04,
           "0"
          ],
          [
           5,
           0.003,
           "0"
          ],
          [
           2.86,
           0.002,
           "0"
          ],
          [
           0.22,
           0.09,
           "0"
          ],
          [
           3.44,
           0.003,
           "0"
          ],
          [
           0.04,
           0.02,
           "0"
          ],
          [
           2.38,
           0.02,
           "0"
          ],
          [
           1.72,
           0.11,
           "0"
          ],
          [
           0.02,
           0.01,
           "0"
          ],
          [
           0.44,
           0.04,
           "0"
          ],
          [
           1.79,
           0.001,
           "0"
          ],
          [
           0.07,
           0.01,
           "0"
          ],
          [
           0.27,
           0.06,
           "0"
          ],
          [
           0.09,
           0.04,
           "0"
          ],
          [
           0.1,
           0.05,
           "0"
          ],
          [
           1.29,
           0.07,
           "0"
          ],
          [
           0.57,
           0.01,
           "0"
          ],
          [
           0.11,
           0.01,
           "0"
          ],
          [
           0.39,
           0.04,
           "0"
          ],
          [
           0.2,
           0.03,
           "0"
          ],
          [
           6.44,
           0.008,
           "0"
          ],
          [
           0.4,
           0.07,
           "0"
          ],
          [
           6.1,
           0.008,
           "0"
          ],
          [
           0.53,
           0.05,
           "0"
          ],
          [
           0.05,
           0.01,
           "0"
          ],
          [
           0.05,
           0.03,
           "0"
          ],
          [
           0.01,
           0.05,
           "0"
          ],
          [
           0.41,
           0.12,
           "0"
          ],
          [
           0.12,
           0.09,
           "0"
          ],
          [
           5.47,
           0.004,
           "0"
          ],
          [
           0.04,
           0.09,
           "0"
          ],
          [
           2.25,
           0.05,
           "0"
          ],
          [
           5.29,
           0.007,
           "0"
          ],
          [
           6.23,
           0.12,
           "0"
          ],
          [
           3.48,
           0.001,
           "0"
          ],
          [
           2.37,
           0.003,
           "0"
          ],
          [
           2.56,
           0.002,
           "0"
          ],
          [
           1.36,
           0.009,
           "0"
          ],
          [
           0.34,
           0.05,
           "0"
          ],
          [
           0.13,
           0.01,
           "0"
          ],
          [
           0.05,
           0.09,
           "0"
          ],
          [
           7.93,
           0.008,
           "0"
          ],
          [
           5.14,
           0.008,
           "0"
          ],
          [
           7.64,
           0.1,
           "0"
          ],
          [
           1.49,
           0.004,
           "0"
          ],
          [
           0.59,
           0.08,
           "0"
          ],
          [
           2.83,
           0.1,
           "0"
          ],
          [
           4.13,
           0.004,
           "0"
          ],
          [
           1.91,
           0.005,
           "0"
          ],
          [
           0.12,
           0.06,
           "0"
          ],
          [
           1.45,
           0.05,
           "0"
          ],
          [
           0.05,
           0.01,
           "0"
          ],
          [
           0.11,
           0.09,
           "0"
          ],
          [
           7.08,
           0.005,
           "0"
          ],
          [
           2.46,
           0.02,
           "0"
          ],
          [
           6.4,
           0.004,
           "0"
          ],
          [
           0.19,
           0.03,
           "0"
          ],
          [
           0.45,
           0.1,
           "0"
          ],
          [
           0.06,
           0.01,
           "0"
          ],
          [
           0.07,
           0.03,
           "0"
          ],
          [
           4.09,
           0.05,
           "0"
          ],
          [
           0.03,
           0.08,
           "0"
          ],
          [
           0.23,
           0.02,
           "0"
          ],
          [
           0.08,
           0.08,
           "0"
          ],
          [
           0.3,
           0.09,
           "0"
          ],
          [
           0,
           0.08,
           "0"
          ],
          [
           0.17,
           0.05,
           "0"
          ],
          [
           0.01,
           0.05,
           "0"
          ],
          [
           0.15,
           0.07,
           "0"
          ],
          [
           0.01,
           0.02,
           "0"
          ],
          [
           0.14,
           0.06,
           "0"
          ],
          [
           2.13,
           0.06,
           "0"
          ],
          [
           5.11,
           0.09,
           "0"
          ],
          [
           0.07,
           0.08,
           "0"
          ],
          [
           4.01,
           0.11,
           "0"
          ],
          [
           0.1,
           0.006,
           "0"
          ],
          [
           3.11,
           0.003,
           "0"
          ],
          [
           0.06,
           0.02,
           "0"
          ],
          [
           3.54,
           0.01,
           "0"
          ],
          [
           2.73,
           0.02,
           "0"
          ],
          [
           1.63,
           0.003,
           "0"
          ],
          [
           0.49,
           0.04,
           "0"
          ],
          [
           0.18,
           0.06,
           "0"
          ],
          [
           0,
           0.04,
           "0"
          ],
          [
           3.11,
           0.005,
           "0"
          ],
          [
           0.09,
           0.07,
           "0"
          ],
          [
           0.02,
           0.01,
           "0"
          ],
          [
           0.01,
           0.07,
           "0"
          ],
          [
           0.22,
           0.08,
           "0"
          ],
          [
           0.15,
           0.02,
           "0"
          ],
          [
           4.1,
           0.09,
           "0"
          ],
          [
           0.35,
           0.07,
           "0"
          ],
          [
           0.01,
           0,
           "0"
          ],
          [
           1,
           0.02,
           "0"
          ],
          [
           0.05,
           0.01,
           "0"
          ],
          [
           5.59,
           0.009,
           "0"
          ],
          [
           0.09,
           0.04,
           "0"
          ],
          [
           0.03,
           0,
           "0"
          ],
          [
           0.05,
           0,
           "0"
          ],
          [
           0.22,
           0.002,
           "0"
          ],
          [
           0.45,
           0.07,
           "0"
          ],
          [
           0.1,
           0.02,
           "0"
          ],
          [
           7.75,
           0.007,
           "0"
          ],
          [
           0.05,
           0.06,
           "0"
          ],
          [
           4.61,
           0.12,
           "0"
          ],
          [
           0.01,
           0.09,
           "0"
          ],
          [
           1.67,
           0.002,
           "0"
          ],
          [
           0.08,
           0.01,
           "0"
          ],
          [
           7.85,
           0.002,
           "0"
          ],
          [
           0.36,
           0.02,
           "0"
          ],
          [
           0.17,
           0.08,
           "0"
          ],
          [
           0.15,
           0.08,
           "0"
          ],
          [
           5.33,
           0.04,
           "0"
          ],
          [
           0.1,
           0.04,
           "0"
          ],
          [
           0.01,
           0.08,
           "0"
          ],
          [
           0.02,
           0.1,
           "0"
          ],
          [
           4.86,
           0.003,
           "0"
          ],
          [
           0.41,
           0.08,
           "0"
          ],
          [
           0.01,
           0.03,
           "0"
          ],
          [
           2.67,
           0.002,
           "0"
          ],
          [
           0.52,
           0.1,
           "0"
          ],
          [
           1.8,
           0.08,
           "0"
          ],
          [
           3.16,
           0.02,
           "0"
          ],
          [
           0.09,
           0.02,
           "0"
          ],
          [
           6.71,
           0.001,
           "0"
          ],
          [
           0.5,
           0.08,
           "0"
          ],
          [
           0.06,
           0.06,
           "0"
          ],
          [
           5.42,
           0.13,
           "0"
          ],
          [
           0.55,
           0.01,
           "0"
          ],
          [
           0.08,
           0.09,
           "0"
          ],
          [
           0.08,
           0.01,
           "0"
          ],
          [
           3.41,
           0.04,
           "0"
          ],
          [
           5.87,
           0.002,
           "0"
          ],
          [
           0.53,
           0.03,
           "0"
          ],
          [
           3.8,
           0.07,
           "0"
          ],
          [
           0.55,
           0.08,
           "0"
          ],
          [
           0.05,
           0.02,
           "0"
          ],
          [
           0,
           0.07,
           "0"
          ],
          [
           0.07,
           0.09,
           "0"
          ],
          [
           0.03,
           0.05,
           "0"
          ],
          [
           0.13,
           0.03,
           "0"
          ],
          [
           2.17,
           0.004,
           "0"
          ],
          [
           0.07,
           0.08,
           "0"
          ],
          [
           0.08,
           0,
           "0"
          ],
          [
           6.72,
           0.08,
           "0"
          ],
          [
           1.39,
           0.07,
           "0"
          ],
          [
           0.06,
           0.07,
           "0"
          ],
          [
           1.65,
           0.04,
           "0"
          ],
          [
           0.55,
           0.03,
           "0"
          ],
          [
           0.01,
           0.05,
           "0"
          ],
          [
           7.4,
           0.007,
           "0"
          ],
          [
           0.5,
           0.01,
           "0"
          ],
          [
           0.62,
           0.09,
           "0"
          ],
          [
           1.81,
           0.001,
           "0"
          ],
          [
           3.58,
           0.001,
           "0"
          ],
          [
           0.51,
           0.03,
           "0"
          ],
          [
           0.01,
           0.07,
           "0"
          ],
          [
           0.06,
           0.04,
           "0"
          ],
          [
           0.41,
           0.05,
           "0"
          ],
          [
           6.64,
           0.06,
           "0"
          ],
          [
           4.97,
           0.03,
           "0"
          ],
          [
           0.08,
           0.06,
           "0"
          ],
          [
           0.27,
           0.04,
           "0"
          ],
          [
           0.11,
           0.07,
           "0"
          ],
          [
           0.11,
           0.04,
           "0"
          ],
          [
           0.04,
           0.05,
           "0"
          ],
          [
           2.28,
           0.13,
           "0"
          ],
          [
           0.29,
           0.01,
           "0"
          ],
          [
           0.12,
           0.03,
           "0"
          ],
          [
           4.02,
           0.007,
           "0"
          ],
          [
           0.04,
           0.07,
           "0"
          ],
          [
           2.87,
           0.06,
           "0"
          ],
          [
           3.63,
           0.002,
           "0"
          ],
          [
           0.33,
           0.07,
           "0"
          ],
          [
           0.15,
           0.06,
           "0"
          ],
          [
           0.01,
           0.01,
           "0"
          ],
          [
           0.16,
           0.03,
           "0"
          ],
          [
           2.47,
           0.01,
           "0"
          ],
          [
           8.42,
           0.07,
           "0"
          ],
          [
           0.39,
           0.04,
           "0"
          ],
          [
           4.37,
           0.002,
           "0"
          ],
          [
           5.06,
           0.05,
           "0"
          ],
          [
           4.65,
           0.05,
           "0"
          ],
          [
           0.41,
           0.03,
           "0"
          ],
          [
           0.29,
           0.03,
           "0"
          ],
          [
           0.43,
           0.08,
           "0"
          ],
          [
           0.11,
           0.08,
           "0"
          ],
          [
           1.79,
           0.001,
           "0"
          ],
          [
           0,
           0.06,
           "0"
          ],
          [
           4.9,
           0.005,
           "0"
          ],
          [
           0.03,
           0.04,
           "0"
          ],
          [
           7.22,
           0.11,
           "0"
          ],
          [
           0.09,
           0.01,
           "0"
          ],
          [
           0.17,
           0.01,
           "0"
          ],
          [
           0.09,
           0,
           "0"
          ],
          [
           3.43,
           0.09,
           "0"
          ],
          [
           1.37,
           0.007,
           "0"
          ],
          [
           7.42,
           0.02,
           "0"
          ],
          [
           0.04,
           0.07,
           "0"
          ],
          [
           0.02,
           0.04,
           "0"
          ],
          [
           0.03,
           0.07,
           "0"
          ],
          [
           6.99,
           0.001,
           "0"
          ],
          [
           0.24,
           0.1,
           "0"
          ],
          [
           0.51,
           0.03,
           "0"
          ],
          [
           0.59,
           0.06,
           "0"
          ],
          [
           0.02,
           0.09,
           "0"
          ],
          [
           3.14,
           0.11,
           "0"
          ],
          [
           0.06,
           0.05,
           "0"
          ],
          [
           0.08,
           0.09,
           "0"
          ],
          [
           7.2,
           0.04,
           "0"
          ],
          [
           0.12,
           0.05,
           "0"
          ],
          [
           0.09,
           0.09,
           "0"
          ],
          [
           0.27,
           0.01,
           "0"
          ],
          [
           5.92,
           0.12,
           "0"
          ],
          [
           0.05,
           0.02,
           "0"
          ],
          [
           0.04,
           0.03,
           "0"
          ],
          [
           3.48,
           0.06,
           "0"
          ],
          [
           0.07,
           0.03,
           "0"
          ],
          [
           0.03,
           0.1,
           "0"
          ],
          [
           7.95,
           0.001,
           "0"
          ],
          [
           6.27,
           0.004,
           "0"
          ],
          [
           6.64,
           0.001,
           "0"
          ],
          [
           0.15,
           0.06,
           "0"
          ],
          [
           0.09,
           0.02,
           "0"
          ],
          [
           0.01,
           0.05,
           "0"
          ],
          [
           1.66,
           0.12,
           "0"
          ],
          [
           1.84,
           0.008,
           "0"
          ],
          [
           4.68,
           0.04,
           "0"
          ],
          [
           0.04,
           0.05,
           "0"
          ],
          [
           0.64,
           0.08,
           "0"
          ],
          [
           7.79,
           0.07,
           "0"
          ],
          [
           1.68,
           0.001,
           "0"
          ],
          [
           3.95,
           0.005,
           "0"
          ],
          [
           3.35,
           0.04,
           "0"
          ],
          [
           0.04,
           0.02,
           "0"
          ],
          [
           4.14,
           0.02,
           "0"
          ],
          [
           0.52,
           0.01,
           "0"
          ],
          [
           0.09,
           0.005,
           "0"
          ],
          [
           0.5,
           0.01,
           "0"
          ],
          [
           6.97,
           0.07,
           "0"
          ],
          [
           0.04,
           0.08,
           "0"
          ],
          [
           0.02,
           0.06,
           "0"
          ],
          [
           6.81,
           0.003,
           "0"
          ],
          [
           0.01,
           0.08,
           "0"
          ],
          [
           4.02,
           0.001,
           "0"
          ],
          [
           6.71,
           0.002,
           "0"
          ],
          [
           0.5,
           0.07,
           "0"
          ],
          [
           0.64,
           0.09,
           "0"
          ],
          [
           0.05,
           0.01,
           "0"
          ],
          [
           0.05,
           0.07,
           "0"
          ],
          [
           5.65,
           0.006,
           "0"
          ],
          [
           0.14,
           0.09,
           "0"
          ],
          [
           6.83,
           0.002,
           "0"
          ],
          [
           0,
           0,
           "0"
          ],
          [
           0.26,
           0.1,
           "0"
          ],
          [
           0.07,
           0.08,
           "0"
          ],
          [
           6.42,
           0.006,
           "0"
          ],
          [
           4.34,
           0.05,
           "0"
          ],
          [
           0.3,
           0.01,
           "0"
          ],
          [
           0.16,
           0.01,
           "0"
          ],
          [
           1.78,
           0.006,
           "0"
          ],
          [
           4.15,
           0.004,
           "0"
          ],
          [
           0.25,
           0.006,
           "0"
          ],
          [
           6.69,
           0.007,
           "0"
          ],
          [
           0.64,
           0.06,
           "0"
          ],
          [
           0.11,
           0.04,
           "0"
          ],
          [
           6.2,
           0.03,
           "0"
          ],
          [
           0.07,
           0.09,
           "0"
          ],
          [
           5.25,
           0.1,
           "0"
          ],
          [
           1.75,
           0.07,
           "0"
          ],
          [
           0.19,
           0.1,
           "0"
          ],
          [
           0.02,
           0.02,
           "0"
          ],
          [
           0,
           0.06,
           "0"
          ],
          [
           0.36,
           0.03,
           "0"
          ],
          [
           0.05,
           0.03,
           "0"
          ],
          [
           0.03,
           0.09,
           "0"
          ],
          [
           0.03,
           0.1,
           "0"
          ],
          [
           3.27,
           0.04,
           "0"
          ],
          [
           3.42,
           0.03,
           "0"
          ],
          [
           4.65,
           0.05,
           "0"
          ],
          [
           0.5,
           0.08,
           "0"
          ],
          [
           0.09,
           0.02,
           "0"
          ],
          [
           3.28,
           0.02,
           "0"
          ],
          [
           0.3,
           0.07,
           "0"
          ],
          [
           1.38,
           0.12,
           "0"
          ],
          [
           0.29,
           0.06,
           "0"
          ],
          [
           6.6,
           0.006,
           "0"
          ],
          [
           7.2,
           0.11,
           "0"
          ],
          [
           0.57,
           0.07,
           "0"
          ],
          [
           0.08,
           0.05,
           "0"
          ],
          [
           3.17,
           0.005,
           "0"
          ],
          [
           6.04,
           0.002,
           "0"
          ],
          [
           0.16,
           0.04,
           "0"
          ],
          [
           0.09,
           0.04,
           "0"
          ],
          [
           0.78,
           0.12,
           "0"
          ],
          [
           5.54,
           0.13,
           "0"
          ],
          [
           3.02,
           0.002,
           "0"
          ],
          [
           0.89,
           0.09,
           "0"
          ],
          [
           0.11,
           0.04,
           "0"
          ],
          [
           6.52,
           0.1,
           "0"
          ],
          [
           0.02,
           0.07,
           "0"
          ],
          [
           0.01,
           0.06,
           "0"
          ],
          [
           0.02,
           0.04,
           "0"
          ],
          [
           0.15,
           0.03,
           "0"
          ],
          [
           1.38,
           0.04,
           "0"
          ],
          [
           0.19,
           0.05,
           "0"
          ],
          [
           7.93,
           0.001,
           "0"
          ],
          [
           0.09,
           0.04,
           "0"
          ],
          [
           7.12,
           0.005,
           "0"
          ],
          [
           8.04,
           0.05,
           "0"
          ],
          [
           0.01,
           0.04,
           "0"
          ],
          [
           3.43,
           0.09,
           "0"
          ],
          [
           0.13,
           0.02,
           "0"
          ],
          [
           0.09,
           0.03,
           "0"
          ],
          [
           0.34,
           0.07,
           "0"
          ],
          [
           0.04,
           0.08,
           "0"
          ],
          [
           0.68,
           0.11,
           "0"
          ],
          [
           0.43,
           0.07,
           "0"
          ],
          [
           1.13,
           0.003,
           "0"
          ],
          [
           0.06,
           0.05,
           "0"
          ],
          [
           0.35,
           0.09,
           "0"
          ],
          [
           4.23,
           0.006,
           "0"
          ],
          [
           0.29,
           0,
           "0"
          ],
          [
           0.03,
           0.06,
           "0"
          ],
          [
           2.73,
           0,
           "0"
          ],
          [
           0.21,
           0.06,
           "0"
          ],
          [
           1.37,
           0.007,
           "0"
          ],
          [
           5.92,
           0.04,
           "0"
          ],
          [
           0.06,
           0.02,
           "0"
          ],
          [
           6.78,
           0.08,
           "0"
          ],
          [
           0.95,
           0.07,
           "0"
          ],
          [
           0.01,
           0.03,
           "0"
          ],
          [
           1.81,
           0.001,
           "0"
          ],
          [
           0.19,
           0.03,
           "0"
          ],
          [
           0.07,
           0.07,
           "0"
          ],
          [
           5.42,
           0.005,
           "0"
          ],
          [
           0.04,
           0,
           "0"
          ],
          [
           0.8,
           0.005,
           "0"
          ],
          [
           0.69,
           0.1,
           "0"
          ],
          [
           7.97,
           0.001,
           "0"
          ],
          [
           0.15,
           0.08,
           "0"
          ],
          [
           2.02,
           0.06,
           "0"
          ],
          [
           0.1,
           0.08,
           "0"
          ],
          [
           3.3,
           0.007,
           "0"
          ],
          [
           0.44,
           0.04,
           "0"
          ],
          [
           0.3,
           0.06,
           "0"
          ],
          [
           0.02,
           0.05,
           "0"
          ],
          [
           0.07,
           0.05,
           "0"
          ],
          [
           1.63,
           0.09,
           "0"
          ],
          [
           0.1,
           0.1,
           "0"
          ],
          [
           6.62,
           0.007,
           "0"
          ],
          [
           0.23,
           0.03,
           "0"
          ],
          [
           7.44,
           0.11,
           "0"
          ],
          [
           0.09,
           0.06,
           "0"
          ],
          [
           0.35,
           0.01,
           "0"
          ],
          [
           0.41,
           0.08,
           "0"
          ],
          [
           6.06,
           0.005,
           "0"
          ],
          [
           0.14,
           0.05,
           "0"
          ],
          [
           5.75,
           0.06,
           "0"
          ],
          [
           4.68,
           0.11,
           "0"
          ],
          [
           0.2,
           0.03,
           "0"
          ],
          [
           0.13,
           0,
           "0"
          ],
          [
           0.01,
           0.1,
           "0"
          ],
          [
           3.61,
           0.009,
           "0"
          ],
          [
           6.52,
           0.1,
           "0"
          ],
          [
           0.02,
           0.01,
           "0"
          ],
          [
           4.74,
           0.07,
           "0"
          ],
          [
           7.3,
           0.01,
           "0"
          ],
          [
           0.17,
           0.02,
           "0"
          ],
          [
           1.11,
           0.002,
           "0"
          ],
          [
           6.3,
           0.03,
           "0"
          ],
          [
           3.14,
           0.1,
           "0"
          ],
          [
           0.08,
           0.07,
           "0"
          ],
          [
           0.02,
           0.1,
           "0"
          ],
          [
           4.37,
           0.006,
           "0"
          ],
          [
           0.19,
           0.05,
           "0"
          ],
          [
           0.12,
           0.03,
           "0"
          ],
          [
           0.07,
           0.03,
           "0"
          ],
          [
           6.02,
           0.001,
           "0"
          ],
          [
           4.27,
           0.002,
           "0"
          ],
          [
           0.06,
           0.01,
           "0"
          ],
          [
           1.16,
           0.03,
           "0"
          ],
          [
           0.08,
           0.02,
           "0"
          ],
          [
           0.23,
           0.08,
           "0"
          ],
          [
           0.11,
           0,
           "0"
          ],
          [
           7.22,
           0.004,
           "0"
          ],
          [
           0.44,
           0,
           "0"
          ],
          [
           0.74,
           0.08,
           "0"
          ],
          [
           0.39,
           0.04,
           "0"
          ],
          [
           0.05,
           0.07,
           "0"
          ],
          [
           0.62,
           0.09,
           "0"
          ],
          [
           0.3,
           0.04,
           "0"
          ],
          [
           3.09,
           0.003,
           "0"
          ],
          [
           2.23,
           0.01,
           "0"
          ],
          [
           0.06,
           0.06,
           "0"
          ],
          [
           0.65,
           0.04,
           "0"
          ],
          [
           0.11,
           0.09,
           "0"
          ],
          [
           0.19,
           0.08,
           "0"
          ],
          [
           3.81,
           0.04,
           "0"
          ],
          [
           0.5,
           0,
           "0"
          ],
          [
           0.08,
           0.06,
           "0"
          ],
          [
           0.08,
           0.01,
           "0"
          ],
          [
           0.11,
           0.03,
           "0"
          ],
          [
           0.5,
           0.01,
           "0"
          ],
          [
           1.18,
           0.005,
           "0"
          ],
          [
           0.6,
           0.04,
           "0"
          ],
          [
           0.29,
           0.06,
           "0"
          ],
          [
           3.44,
           0.11,
           "0"
          ],
          [
           0.95,
           0.008,
           "0"
          ],
          [
           0.03,
           0.08,
           "0"
          ],
          [
           0.11,
           0.04,
           "0"
          ],
          [
           1.12,
           0.001,
           "0"
          ],
          [
           0,
           0.01,
           "0"
          ],
          [
           2.18,
           0.11,
           "0"
          ],
          [
           1.63,
           0.003,
           "0"
          ],
          [
           0.04,
           0.02,
           "0"
          ],
          [
           0.53,
           0.05,
           "0"
          ],
          [
           0.08,
           0.02,
           "0"
          ],
          [
           6.38,
           0.08,
           "0"
          ],
          [
           0.05,
           0.05,
           "0"
          ],
          [
           3.32,
           0.005,
           "0"
          ],
          [
           0.03,
           0.02,
           "0"
          ],
          [
           1.93,
           0.02,
           "0"
          ],
          [
           0.11,
           0.01,
           "0"
          ],
          [
           6.49,
           0.08,
           "0"
          ],
          [
           0.3,
           0.1,
           "0"
          ],
          [
           0.18,
           0.04,
           "0"
          ],
          [
           0.04,
           0.08,
           "0"
          ],
          [
           0.38,
           0.03,
           "0"
          ],
          [
           0.1,
           0.06,
           "0"
          ],
          [
           6.55,
           0.004,
           "0"
          ],
          [
           2.83,
           0.007,
           "0"
          ],
          [
           0.03,
           0.08,
           "0"
          ],
          [
           5.06,
           0.007,
           "0"
          ],
          [
           0.04,
           0.02,
           "0"
          ],
          [
           0.02,
           0.06,
           "0"
          ],
          [
           0.02,
           0.1,
           "0"
          ],
          [
           2.36,
           0.01,
           "0"
          ],
          [
           2.8,
           0.13,
           "0"
          ],
          [
           0.27,
           0.03,
           "0"
          ],
          [
           0.03,
           0.05,
           "0"
          ],
          [
           0.68,
           0.002,
           "0"
          ],
          [
           2.85,
           0.01,
           "0"
          ],
          [
           0.03,
           0.02,
           "0"
          ],
          [
           0.09,
           0.04,
           "0"
          ],
          [
           0.08,
           0.08,
           "0"
          ],
          [
           0.25,
           0.05,
           "0"
          ],
          [
           4.24,
           0.1,
           "0"
          ],
          [
           3.55,
           0.005,
           "0"
          ],
          [
           0.24,
           0.07,
           "0"
          ],
          [
           2.8,
           0.01,
           "0"
          ],
          [
           7.06,
           0.12,
           "0"
          ],
          [
           6.86,
           0.1,
           "0"
          ],
          [
           0,
           0.1,
           "0"
          ],
          [
           4.4,
           0.001,
           "0"
          ],
          [
           0.03,
           0,
           "0"
          ],
          [
           5.65,
           0.006,
           "0"
          ],
          [
           0.2,
           0.03,
           "0"
          ],
          [
           0.28,
           0.03,
           "0"
          ],
          [
           0.23,
           0.01,
           "0"
          ],
          [
           0.01,
           0.1,
           "0"
          ],
          [
           7.32,
           0,
           "0"
          ],
          [
           0.06,
           0.04,
           "0"
          ],
          [
           1.35,
           0.03,
           "0"
          ],
          [
           4.49,
           0.005,
           "0"
          ],
          [
           0.08,
           0,
           "0"
          ],
          [
           3.46,
           0.12,
           "0"
          ],
          [
           0.08,
           0.1,
           "0"
          ],
          [
           0.01,
           0.02,
           "0"
          ],
          [
           0.09,
           0.06,
           "0"
          ],
          [
           2.63,
           0.09,
           "0"
          ],
          [
           0.01,
           0.1,
           "0"
          ],
          [
           3.09,
           0.12,
           "0"
          ],
          [
           0.19,
           0.06,
           "0"
          ],
          [
           4.17,
           0.1,
           "0"
          ],
          [
           6.37,
           0.008,
           "0"
          ],
          [
           3.3,
           0.007,
           "0"
          ],
          [
           0,
           0.05,
           "0"
          ],
          [
           2.63,
           0.003,
           "0"
          ],
          [
           7.11,
           0.02,
           "0"
          ],
          [
           0,
           0.04,
           "0"
          ],
          [
           0.22,
           0.05,
           "0"
          ],
          [
           0.34,
           0.02,
           "0"
          ],
          [
           0.16,
           0.07,
           "0"
          ],
          [
           0.1,
           0.09,
           "0"
          ],
          [
           0.03,
           0.01,
           "0"
          ],
          [
           0.29,
           0.07,
           "0"
          ],
          [
           0.13,
           0.05,
           "0"
          ],
          [
           0.03,
           0.03,
           "0"
          ],
          [
           5.69,
           0.006,
           "0"
          ],
          [
           0.12,
           0.05,
           "0"
          ],
          [
           1.4,
           0.12,
           "0"
          ],
          [
           0.59,
           0.06,
           "0"
          ],
          [
           0.06,
           0.05,
           "0"
          ],
          [
           0.23,
           0.08,
           "0"
          ],
          [
           0.01,
           0.09,
           "0"
          ],
          [
           0.02,
           0.1,
           "0"
          ],
          [
           0.02,
           0.04,
           "0"
          ],
          [
           7.95,
           0.001,
           "0"
          ],
          [
           1.33,
           0.01,
           "0"
          ],
          [
           0.09,
           0.06,
           "0"
          ],
          [
           0.27,
           0.05,
           "0"
          ],
          [
           0.01,
           0.06,
           "0"
          ],
          [
           4.3,
           0.003,
           "0"
          ],
          [
           7.44,
           0.11,
           "0"
          ],
          [
           0.4,
           0.09,
           "0"
          ],
          [
           0.07,
           0.03,
           "0"
          ],
          [
           0.64,
           0.08,
           "0"
          ],
          [
           7.28,
           0.03,
           "0"
          ],
          [
           0.32,
           0.09,
           "0"
          ],
          [
           7.3,
           0.01,
           "0"
          ],
          [
           0.23,
           0.08,
           "0"
          ],
          [
           7.02,
           0.001,
           "0"
          ],
          [
           5.42,
           0.13,
           "0"
          ],
          [
           6.35,
           0.13,
           "0"
          ],
          [
           0.1,
           0.04,
           "0"
          ],
          [
           5.34,
           0.06,
           "0"
          ],
          [
           7.07,
           0.1,
           "0"
          ]
         ],
         "hovertemplate": "is_safe=%{customdata[2]}<br>aluminium=%{x}<br>silver=%{y}<br>perchlorate=%{z}<br>chloramine=%{customdata[0]}<br>cadmium=%{customdata[1]}<extra></extra>",
         "legendgroup": "0",
         "marker": {
          "color": "#636EFA",
          "size": 2,
          "symbol": "circle"
         },
         "mode": "markers",
         "name": "0",
         "scene": "scene",
         "showlegend": true,
         "type": "scatter3d",
         "x": [
          0.07,
          0.07,
          0.07,
          0.1,
          0.03,
          4.44,
          0.04,
          0.05,
          0.01,
          0.07,
          0.08,
          0.02,
          0.08,
          0.07,
          0.05,
          0.05,
          0.08,
          0.09,
          0.08,
          0,
          0.04,
          0.08,
          0.1,
          0.11,
          0.01,
          0.02,
          0.13,
          0.09,
          0.07,
          0.03,
          2.15,
          0.09,
          0.03,
          0.09,
          0.09,
          0.07,
          0.21,
          0.03,
          0.07,
          0.09,
          0.04,
          0.02,
          0.05,
          0.05,
          0.8,
          0.1,
          0.13,
          0.94,
          0.02,
          0.07,
          0.02,
          0.03,
          0.02,
          0.03,
          0,
          0.02,
          0.08,
          4.17,
          0.01,
          0.06,
          0.08,
          1.6,
          0.08,
          3.76,
          0.07,
          0.06,
          4.11,
          0.08,
          0.09,
          0.03,
          0.03,
          0,
          0.01,
          0.07,
          0.01,
          4.87,
          0.06,
          0.11,
          0.09,
          0.06,
          0.06,
          0.04,
          0.09,
          0.02,
          0.14,
          0.06,
          0.07,
          0.07,
          0.1,
          2.59,
          4.1,
          1.32,
          0.1,
          0.08,
          0.02,
          0.09,
          0.24,
          2.37,
          0.08,
          4.56,
          1,
          0.05,
          0.08,
          0.07,
          0.4,
          0.03,
          0.07,
          0.04,
          0.03,
          0.05,
          0.1,
          3.36,
          0.24,
          0.08,
          0.07,
          0,
          0.09,
          0.05,
          0.09,
          0.08,
          0.07,
          0.06,
          0.04,
          0.03,
          0.06,
          0.05,
          0.02,
          0.09,
          0.05,
          0.02,
          0.09,
          0.11,
          0.05,
          0.05,
          0.05,
          0.09,
          0.06,
          0.01,
          0.07,
          0.15,
          0.07,
          0.05,
          0.09,
          4.3,
          0.05,
          0.02,
          0.05,
          0.03,
          0.04,
          0.1,
          0.1,
          0.16,
          0.06,
          1.59,
          0.02,
          0.09,
          0.09,
          0.07,
          0.07,
          0.04,
          0.08,
          0.5,
          0.03,
          0.01,
          0.05,
          0.12,
          0.02,
          0.05,
          0.2,
          0.1,
          0.03,
          0.03,
          0.12,
          0.06,
          0.05,
          4.35,
          0.04,
          0.05,
          0.09,
          0.05,
          0.04,
          0,
          0.1,
          0.17,
          0.28,
          0.06,
          0.08,
          0.07,
          0.06,
          0.04,
          0,
          0.99,
          0.05,
          0.06,
          0.09,
          0.15,
          3.87,
          0.36,
          0.06,
          1.32,
          0.1,
          0.01,
          0.34,
          0.04,
          0.06,
          0.09,
          3.43,
          2.83,
          0.02,
          0.29,
          3.73,
          0.01,
          2.78,
          2.58,
          0.03,
          0.06,
          3.41,
          0.05,
          0,
          0.08,
          0.05,
          0.01,
          0.06,
          0.06,
          0.17,
          0.04,
          0.07,
          0.09,
          0.04,
          0.06,
          0.09,
          0.01,
          0.09,
          0.08,
          0.08,
          0.08,
          0.02,
          0.09,
          0.05,
          0.02,
          0.06,
          0.06,
          3.08,
          0.01,
          0.01,
          0.08,
          0.04,
          0.11,
          0.06,
          0.06,
          0.02,
          0.06,
          0.03,
          0.02,
          4.82,
          0.1,
          0.09,
          0.07,
          3.68,
          0.06,
          0.1,
          0.13,
          0.85,
          0.24,
          0.06,
          0.04,
          0.01,
          2.26,
          2.96,
          4.55,
          0.99,
          0.05,
          0.26,
          0.57,
          0.02,
          4.05,
          4.58,
          0.07,
          0.04,
          0.07,
          0,
          0.02,
          0.08,
          0.26,
          0.08,
          0.86,
          4.8,
          4.74,
          0.07,
          0.06,
          0.06,
          0.01,
          4.52,
          2.41,
          0.34,
          0.09,
          0.11,
          0,
          0.16,
          0.1,
          0.03,
          0.02,
          0.02,
          0.05,
          0.02,
          0.05,
          0.04,
          0.03,
          0.06,
          0.06,
          1.26,
          0.02,
          0.03,
          0.07,
          0.05,
          0.07,
          0.01,
          0.03,
          4.56,
          0.28,
          0.01,
          0.08,
          2.25,
          0.09,
          0.09,
          0.03,
          0.02,
          0.06,
          0.17,
          3.11,
          2.08,
          3.64,
          0.03,
          0.1,
          1.37,
          0.08,
          0.02,
          0.04,
          0.1,
          0.05,
          0.07,
          0.01,
          0.02,
          0.08,
          4.58,
          0.09,
          4.2,
          0.14,
          1.51,
          0.05,
          0.06,
          0.09,
          0.06,
          0.01,
          3.36,
          0.07,
          2.51,
          0.02,
          0.09,
          0.05,
          0.06,
          0.06,
          0.03,
          0.19,
          0.09,
          1.08,
          0.08,
          4.32,
          4.07,
          0.02,
          0.04,
          2.96,
          0.02,
          0.06,
          1.1,
          0.02,
          0.01,
          0.73,
          0.04,
          2.96,
          1.97,
          0.07,
          0.05,
          0.09,
          0.01,
          0.11,
          0.09,
          0.07,
          0.01,
          0.07,
          0.05,
          0.04,
          0.17,
          1.51,
          0.1,
          0.08,
          2.51,
          0.01,
          4.35,
          0.1,
          2.78,
          0.02,
          0.1,
          1.11,
          0.02,
          0.06,
          0.06,
          0.03,
          0.1,
          0.11,
          0,
          0.08,
          0.01,
          0.09,
          0,
          0.08,
          0.07,
          0.01,
          0.05,
          0.03,
          0.09,
          0.05,
          0.03,
          1.25,
          0.01,
          0.37,
          0.06,
          3.64,
          0.06,
          0.01,
          0.07,
          0.25,
          0.1,
          0.09,
          0.06,
          0.07,
          0.13,
          0.12,
          0.06,
          0.09,
          0.01,
          0.27,
          0.07,
          0.05,
          0.04,
          0.08,
          0.02,
          2.17,
          0.31,
          0.02,
          0,
          0.09,
          0.09,
          0.08,
          0.08,
          0.1,
          0.03,
          0,
          0.1,
          0.05,
          0.04,
          0.05,
          0.01,
          0.08,
          0.01,
          2.5,
          0.05,
          0.07,
          1.61,
          0.12,
          3.51,
          0.07,
          0.65,
          0.04,
          0.02,
          0.09,
          0.06,
          0.05,
          0,
          0.07,
          0,
          0.07,
          0.06,
          0.04,
          2.41,
          0.07,
          0.04,
          0.42,
          0.02,
          0.02,
          0.02,
          0.04,
          0.08,
          0.05,
          0.06,
          0.08,
          0.12,
          0.06,
          4.17,
          0,
          0.11,
          0.03,
          0.18,
          0.1,
          0.06,
          0.08,
          0.05,
          0.03,
          0.08,
          0.03,
          0.06,
          0.03,
          0.09,
          4.53,
          0.08,
          3.13,
          2.72,
          0,
          0.27,
          0.04,
          0.06,
          0.06,
          0.02,
          0.07,
          0.09,
          0.26,
          0.1,
          0.09,
          0.07,
          0.03,
          0.09,
          0.06,
          0.07,
          0.01,
          0.09,
          2.92,
          0.05,
          0.06,
          0.03,
          4.25,
          0.01,
          3.98,
          0.06,
          0.05,
          4.79,
          0.02,
          0.04,
          0.05,
          0.03,
          0.02,
          0.01,
          0.05,
          0.09,
          2.9,
          3.64,
          0.01,
          0.06,
          0.06,
          0.03,
          0.01,
          3.3,
          0.05,
          0.04,
          0.23,
          0.05,
          3.55,
          0.02,
          0.06,
          0.07,
          0.09,
          0.05,
          0.34,
          3.4,
          0.01,
          0.09,
          0.05,
          2.95,
          0.07,
          0.07,
          0.11,
          0.1,
          0.02,
          0.06,
          2.02,
          0.02,
          3.78,
          0.08,
          0.06,
          0.06,
          0.84,
          0.14,
          0.05,
          0.09,
          0.06,
          0.01,
          0.19,
          0.09,
          0.02,
          0.04,
          0.05,
          0.1,
          0.01,
          0.01,
          0.12,
          0.09,
          0.08,
          0,
          2.51,
          0.09,
          0.02,
          2.77,
          0.03,
          0.03,
          0.01,
          1.22,
          0.02,
          0.08,
          0.07,
          0.05,
          0.01,
          0.01,
          4.45,
          0,
          0,
          4.98,
          0.01,
          0.08,
          3.18,
          0.08,
          0.44,
          0.08,
          0.09,
          0.06,
          0.19,
          0.09,
          0.1,
          0.09,
          0,
          0.07,
          0.21,
          0.02,
          0.07,
          0.02,
          0.1,
          0.01,
          0.03,
          0.15,
          0.06,
          0.06,
          0.01,
          0.01,
          0.2,
          0.07,
          0.06,
          0.01,
          0.07,
          0.09,
          0.03,
          4.92,
          0.03,
          3.72,
          0.09,
          1.95,
          0.01,
          0.08,
          0.05,
          0.07,
          0.1,
          0.1,
          0.03,
          0.08,
          0.79,
          0.04,
          2.95,
          0.02,
          0.07,
          0.07,
          0.06,
          0.84,
          0.1,
          3.78,
          0.09,
          0.06,
          0.04,
          0.29,
          0.01,
          0,
          0.05,
          0.28,
          2.74,
          0.03,
          4.98,
          0.03,
          0.01,
          0.09,
          0.01,
          0.01,
          0.06,
          0.26,
          0.05,
          0.11,
          0.07,
          2.41,
          0.03,
          0.04,
          0.06,
          0.02,
          0.04,
          0.08,
          0.04,
          0.07,
          0.08,
          1.57,
          0.05,
          0.01,
          0.14,
          0.03,
          0.03,
          1.95,
          0,
          0.15,
          0,
          0.04,
          1.32,
          0.28,
          0.1,
          0.05,
          0.04,
          0.07,
          0.01,
          0.07,
          0.03,
          0.05,
          0.02,
          0.07,
          0.36,
          0.09,
          0.15,
          0.06,
          0.08,
          0.01,
          0.04,
          0.26,
          0.04,
          0.15,
          0.03,
          0.5,
          0.02,
          0.02,
          0.07,
          1.48,
          0.08,
          2.31,
          0.01,
          0.04,
          0.09,
          0.07,
          0.02,
          0.01,
          0.05,
          0.03,
          1.82,
          0.05,
          0.1,
          2.43,
          1.49,
          0.08,
          0.06,
          0.04,
          0.05,
          0.04,
          0.07,
          0.08,
          0.39,
          0.09,
          0.12,
          0.03,
          0.03,
          0.01,
          0.14,
          0.05,
          0.46,
          0.01,
          0.06,
          0.04,
          0.1,
          0.03,
          0.11,
          0.07,
          0.05,
          0.1,
          0.1,
          0.02,
          0.03,
          0.08,
          0.05,
          0.01,
          1.8,
          0.02,
          0.01,
          0.1,
          0.1,
          0.09,
          0.05,
          0.04,
          0.2,
          0.09,
          0.36,
          0.02,
          0.04,
          0.01,
          0.01,
          4.12,
          0.07,
          2.66,
          0.01,
          4.57,
          0.03,
          4.8,
          0.05,
          0.09,
          0.07,
          0.02,
          0.07,
          0,
          0.01,
          0.08,
          0.04,
          0.03,
          0.02,
          0.06,
          2.99,
          0.4,
          0.1,
          0.09,
          0.04,
          3.7,
          0.08,
          0.08,
          0.08,
          0.06,
          0.05,
          0.07,
          0.03,
          0.03,
          0.19,
          0.07,
          0.1,
          3.31,
          0.06,
          0.01,
          0.04,
          0.09,
          0.03,
          0.08,
          2.51,
          0.07,
          0.07,
          0.07,
          0.05,
          4.6,
          0.06,
          0.08,
          0.06,
          0.29,
          0.08,
          4.58,
          0.04,
          4.86,
          0.04,
          0.15,
          0.03,
          0.09,
          0.06,
          0.08,
          0.07,
          0.07,
          0.03,
          0.08,
          0.04,
          0.07,
          0.02,
          0.07,
          3.5,
          0.09,
          0.14,
          0.03,
          0.07,
          0.04,
          0.09,
          0.04,
          0.01,
          1.32,
          0.47,
          0.08,
          0,
          0.03,
          0.06,
          0.5,
          0.07,
          0.09,
          0,
          0.1,
          0.09,
          1.82,
          0.04,
          0.18,
          0.06,
          0.04,
          0.02,
          3.58,
          1.06
         ],
         "y": [
          0.08,
          0.24,
          0.02,
          0.04,
          0.06,
          0.46,
          0.06,
          0.02,
          0.46,
          0,
          0.08,
          0.32,
          0.1,
          0.08,
          0.06,
          0.02,
          0.06,
          0.08,
          0.02,
          0.01,
          0.07,
          0.1,
          0.3,
          0.27,
          0.13,
          0.04,
          0.11,
          0.05,
          0.34,
          0.01,
          0.2,
          0.08,
          0.08,
          0.02,
          0.03,
          0.03,
          0.24,
          0.02,
          0.01,
          0.1,
          0.03,
          0.06,
          0.47,
          0.07,
          0.36,
          0,
          0.39,
          0.03,
          0.03,
          0.04,
          0.23,
          0.09,
          0,
          0.09,
          0.09,
          0.05,
          0.05,
          0.1,
          0.07,
          0.19,
          0.01,
          0.27,
          0.01,
          0.08,
          0.29,
          0.31,
          0.38,
          0.02,
          0.09,
          0.41,
          0.08,
          0.07,
          0.33,
          0.5,
          0.06,
          0.07,
          0.03,
          0.28,
          0.08,
          0.01,
          0.06,
          0.04,
          0.03,
          0.1,
          0.13,
          0.01,
          0.44,
          0.03,
          0.05,
          0.06,
          0.44,
          0.21,
          0.01,
          0.07,
          0.08,
          0.01,
          0.18,
          0.19,
          0.02,
          0.4,
          0.42,
          0.04,
          0.09,
          0.29,
          0.44,
          0.03,
          0.33,
          0.07,
          0.05,
          0.02,
          0.04,
          0.44,
          0.31,
          0.43,
          0.26,
          0.05,
          0.01,
          0.05,
          0.4,
          0.06,
          0.03,
          0.06,
          0.08,
          0.2,
          0.05,
          0.06,
          0.08,
          0.3,
          0.24,
          0.06,
          0.07,
          0.49,
          0.2,
          0.03,
          0.04,
          0.08,
          0.09,
          0.08,
          0.01,
          0.12,
          0.07,
          0,
          0.02,
          0.11,
          0.06,
          0.05,
          0.02,
          0.02,
          0.08,
          0,
          0.25,
          0.33,
          0.07,
          0.34,
          0.28,
          0.45,
          0,
          0.07,
          0.05,
          0.1,
          0.03,
          0.37,
          0.09,
          0.28,
          0.22,
          0.13,
          0.01,
          0,
          0.49,
          0.05,
          0.04,
          0.01,
          0.11,
          0.16,
          0.47,
          0.11,
          0.06,
          0.1,
          0.01,
          0.02,
          0.02,
          0.08,
          0.1,
          0.03,
          0.01,
          0.08,
          0,
          0.03,
          0.04,
          0.07,
          0.1,
          0.19,
          0.06,
          0.09,
          0.02,
          0.01,
          0.48,
          0.42,
          0.31,
          0.21,
          0.38,
          0.05,
          0.37,
          0.05,
          0.07,
          0.01,
          0.24,
          0.09,
          0.06,
          0.01,
          0.13,
          0.37,
          0.36,
          0.16,
          0.03,
          0.01,
          0.39,
          0.07,
          0,
          0.02,
          0.04,
          0.33,
          0.19,
          0.03,
          0.18,
          0.22,
          0.09,
          0.08,
          0.09,
          0.06,
          0.04,
          0.1,
          0.05,
          0.08,
          0.09,
          0.02,
          0.01,
          0,
          0.03,
          0.02,
          0.02,
          0.07,
          0.16,
          0.06,
          0.09,
          0.12,
          0.08,
          0.21,
          0.15,
          0.07,
          0.04,
          0.09,
          0.47,
          0.38,
          0.21,
          0.41,
          0.04,
          0.24,
          0.25,
          0.06,
          0.06,
          0.03,
          0.15,
          0.28,
          0.45,
          0.08,
          0.11,
          0.5,
          0.09,
          0.3,
          0.14,
          0.08,
          0.41,
          0.3,
          0.05,
          0.29,
          0.23,
          0.24,
          0.01,
          0.03,
          0.12,
          0.1,
          0.03,
          0.31,
          0.5,
          0.07,
          0.17,
          0.13,
          0.24,
          0.05,
          0.31,
          0.02,
          0.03,
          0.29,
          0.13,
          0.01,
          0.22,
          0.25,
          0.18,
          0.04,
          0.05,
          0.49,
          0.01,
          0.02,
          0.42,
          0,
          0.08,
          0.38,
          0.01,
          0.1,
          0.12,
          0.04,
          0.01,
          0.07,
          0.08,
          0.24,
          0.04,
          0.06,
          0.4,
          0.37,
          0.21,
          0.01,
          0.4,
          0.06,
          0.1,
          0.03,
          0.29,
          0.07,
          0.03,
          0.31,
          0.11,
          0.35,
          0.06,
          0.09,
          0.16,
          0.09,
          0.02,
          0.45,
          0.09,
          0.16,
          0.07,
          0.46,
          0.07,
          0,
          0.16,
          0.03,
          0.34,
          0.32,
          0.15,
          0.09,
          0.08,
          0.04,
          0.07,
          0.29,
          0.1,
          0.06,
          0.46,
          0.07,
          0.43,
          0.08,
          0.43,
          0.09,
          0.27,
          0.19,
          0.08,
          0.29,
          0.09,
          0.29,
          0.35,
          0.02,
          0.1,
          0.38,
          0.08,
          0.09,
          0.17,
          0.07,
          0.09,
          0.24,
          0.31,
          0.09,
          0.46,
          0.07,
          0.22,
          0.05,
          0.03,
          0.18,
          0.03,
          0.08,
          0.34,
          0.27,
          0.1,
          0.08,
          0.17,
          0.33,
          0.28,
          0.15,
          0.04,
          0.09,
          0.09,
          0.04,
          0.17,
          0.02,
          0.01,
          0.49,
          0.29,
          0.01,
          0.04,
          0.04,
          0.02,
          0.27,
          0.05,
          0.01,
          0.02,
          0.1,
          0.09,
          0.08,
          0.08,
          0.06,
          0.02,
          0.03,
          0.03,
          0.08,
          0.1,
          0.45,
          0.04,
          0.09,
          0.29,
          0.35,
          0.16,
          0.22,
          0.5,
          0.02,
          0.01,
          0,
          0.03,
          0.04,
          0.11,
          0.35,
          0.07,
          0.04,
          0.13,
          0.13,
          0.12,
          0.01,
          0.08,
          0.02,
          0,
          0.15,
          0.35,
          0.46,
          0.07,
          0.03,
          0,
          0.07,
          0.16,
          0.04,
          0.08,
          0.08,
          0.04,
          0.05,
          0.07,
          0.07,
          0.01,
          0.05,
          0.08,
          0.23,
          0.12,
          0.09,
          0.42,
          0.27,
          0.41,
          0.09,
          0.25,
          0.4,
          0.16,
          0.1,
          0.04,
          0.04,
          0.29,
          0.08,
          0.06,
          0.05,
          0.08,
          0.01,
          0.5,
          0.05,
          0.06,
          0.31,
          0.02,
          0.22,
          0.09,
          0.04,
          0.08,
          0.43,
          0.01,
          0.08,
          0.3,
          0.01,
          0.3,
          0.06,
          0.45,
          0.03,
          0.26,
          0.02,
          0,
          0.04,
          0.03,
          0,
          0.02,
          0.02,
          0.16,
          0.09,
          0.09,
          0.23,
          0.16,
          0.2,
          0.34,
          0.08,
          0.39,
          0.09,
          0.01,
          0.37,
          0.11,
          0.01,
          0.05,
          0.11,
          0.11,
          0.03,
          0.27,
          0.06,
          0.08,
          0.09,
          0.01,
          0.07,
          0.02,
          0.27,
          0.02,
          0.05,
          0.05,
          0.34,
          0.04,
          0.04,
          0.08,
          0.01,
          0.24,
          0.04,
          0.01,
          0.32,
          0.47,
          0.04,
          0.02,
          0.09,
          0.09,
          0.33,
          0.39,
          0.02,
          0.04,
          0.01,
          0.09,
          0.03,
          0.27,
          0.03,
          0.09,
          0.18,
          0.06,
          0.26,
          0.05,
          0.05,
          0.07,
          0,
          0.05,
          0.05,
          0.02,
          0.02,
          0.33,
          0.42,
          0.48,
          0.08,
          0.06,
          0.34,
          0.07,
          0.29,
          0.07,
          0.27,
          0.04,
          0.05,
          0.09,
          0.09,
          0.05,
          0.35,
          0.37,
          0.47,
          0.03,
          0.03,
          0.04,
          0.28,
          0.02,
          0.04,
          0.01,
          0.06,
          0.17,
          0.09,
          0.03,
          0.25,
          0.03,
          0.04,
          0.05,
          0.11,
          0.07,
          0.07,
          0.12,
          0.06,
          0.06,
          0.3,
          0.25,
          0.18,
          0.06,
          0.04,
          0.01,
          0.01,
          0.11,
          0.18,
          0,
          0.05,
          0.47,
          0.13,
          0.16,
          0.25,
          0.02,
          0.2,
          0.05,
          0.05,
          0.08,
          0.36,
          0.01,
          0.03,
          0.17,
          0.09,
          0.17,
          0.08,
          0.2,
          0.02,
          0.02,
          0.09,
          0.46,
          0.08,
          0.06,
          0.06,
          0.06,
          0.04,
          0.32,
          0.44,
          0.08,
          0.04,
          0.11,
          0.46,
          0.16,
          0.16,
          0.07,
          0.06,
          0.38,
          0.06,
          0.27,
          0.13,
          0.01,
          0.09,
          0.05,
          0.06,
          0.1,
          0.06,
          0.04,
          0.5,
          0.35,
          0.48,
          0.02,
          0.04,
          0.45,
          0.07,
          0.27,
          0.06,
          0.38,
          0.09,
          0,
          0.07,
          0.11,
          0.1,
          0.01,
          0.01,
          0.03,
          0.13,
          0.07,
          0.38,
          0.06,
          0.21,
          0.03,
          0.09,
          0,
          0.07,
          0.49,
          0.09,
          0.17,
          0.06,
          0.13,
          0.04,
          0.03,
          0.27,
          0.09,
          0.08,
          0.02,
          0.09,
          0.4,
          0,
          0.39,
          0.08,
          0.06,
          0.3,
          0.01,
          0.02,
          0.47,
          0.02,
          0.37,
          0.11,
          0.02,
          0.22,
          0.34,
          0.08,
          0.32,
          0.02,
          0,
          0.41,
          0.03,
          0.18,
          0.02,
          0.12,
          0.1,
          0.12,
          0.07,
          0.27,
          0.08,
          0.01,
          0.05,
          0.09,
          0.28,
          0.01,
          0.4,
          0.09,
          0.37,
          0.01,
          0.01,
          0.1,
          0.18,
          0.08,
          0.14,
          0.08,
          0.06,
          0.05,
          0.07,
          0.02,
          0.21,
          0.06,
          0.16,
          0.24,
          0.05,
          0.42,
          0.07,
          0.4,
          0.03,
          0.06,
          0.12,
          0.09,
          0.01,
          0.06,
          0.26,
          0.33,
          0.06,
          0.13,
          0.08,
          0.02,
          0.09,
          0.28,
          0.07,
          0.42,
          0.02,
          0.03,
          0.01,
          0.07,
          0.17,
          0.31,
          0.03,
          0.04,
          0.04,
          0.05,
          0.5,
          0.09,
          0.02,
          0.09,
          0.07,
          0.15,
          0.34,
          0.03,
          0.06,
          0.12,
          0.34,
          0.03,
          0.06,
          0.03,
          0,
          0.42,
          0.16,
          0.07,
          0.37,
          0.09,
          0.35,
          0.08,
          0.32,
          0.01,
          0.03,
          0.1,
          0.17,
          0.08,
          0.08,
          0.06,
          0.02,
          0.1,
          0.17,
          0.32,
          0.06,
          0.04,
          0.06,
          0.04,
          0.06,
          0.24,
          0.49,
          0.07,
          0.09,
          0.03,
          0.28,
          0.08,
          0.06,
          0.07,
          0.08,
          0.33,
          0.06,
          0.09,
          0.17,
          0.06,
          0.31,
          0.09,
          0.44,
          0.08,
          0.46,
          0.06,
          0.09,
          0.07,
          0.04,
          0.37,
          0.03,
          0.33,
          0.31,
          0.06,
          0.24,
          0.04,
          0.07,
          0.04,
          0.39,
          0.04,
          0.23,
          0.09,
          0.04,
          0.13,
          0.27,
          0.05,
          0.48,
          0.32,
          0.05,
          0.03,
          0.06,
          0.05,
          0.01,
          0.02,
          0.03,
          0.09,
          0.1,
          0.26,
          0.03,
          0.04,
          0.05,
          0.01,
          0.03,
          0.01,
          0.05,
          0,
          0.3,
          0.21,
          0.04,
          0.04,
          0.04,
          0.2,
          0.37,
          0.01,
          0.08,
          0.05,
          0.46,
          0.09,
          0.24,
          0.08,
          0.49,
          0.37,
          0.11,
          0.07,
          0.36,
          0.26
         ],
         "z": [
          0.35,
          13.32,
          5.14,
          5.61,
          30.27,
          40.82,
          8.31,
          0.32,
          46.97,
          0.45,
          0.29,
          31.08,
          2.39,
          59.03,
          26.32,
          0.62,
          7.38,
          2.12,
          3.54,
          14.6,
          0.24,
          0.48,
          21.13,
          13.79,
          16.41,
          6.12,
          50.04,
          2.44,
          30.29,
          8.78,
          36.09,
          0.47,
          1.23,
          3.13,
          1.12,
          4.34,
          10.21,
          0.69,
          1.22,
          2.5,
          0.48,
          0.2,
          5.5,
          6.15,
          38.49,
          0.44,
          30.81,
          49.1,
          1.43,
          3.96,
          36.48,
          3.29,
          2.04,
          9.58,
          2.88,
          5.04,
          0.02,
          22.44,
          1.96,
          7,
          2.72,
          30.67,
          1.29,
          27.71,
          51.01,
          29.45,
          27.21,
          5.22,
          11.64,
          25.71,
          0.11,
          13.72,
          16.02,
          46.95,
          2.3,
          36.12,
          0.03,
          38.88,
          5.47,
          0.18,
          1.55,
          8.25,
          8.62,
          0.18,
          4.62,
          3.56,
          58.15,
          0.14,
          4.92,
          25.44,
          21.01,
          38.65,
          2.11,
          0.39,
          3.3,
          5.75,
          29.3,
          3.22,
          1.69,
          31.89,
          45.45,
          0.23,
          9.41,
          56.05,
          35.93,
          11.22,
          55.08,
          2.39,
          2.11,
          0.55,
          0.15,
          13.06,
          14.94,
          26.52,
          24.1,
          2.61,
          5.06,
          0.25,
          9.06,
          2.42,
          0.38,
          1.28,
          0.4,
          58.29,
          4.18,
          2.04,
          3.6,
          46.22,
          21.79,
          5.07,
          0.56,
          36.7,
          22.68,
          9.91,
          4.76,
          3.21,
          0.13,
          53.35,
          7.59,
          39.6,
          9.72,
          5,
          3.7,
          50.04,
          0.15,
          2.93,
          0.16,
          0.05,
          0.27,
          0.18,
          10.19,
          47.2,
          0.67,
          48.4,
          1.02,
          16.09,
          3.62,
          1.57,
          0.28,
          0.13,
          2.5,
          3.19,
          0.9,
          41.5,
          28.76,
          45.08,
          4.36,
          2.89,
          25.8,
          0.77,
          5.4,
          1.1,
          35.13,
          50.02,
          18.74,
          58.7,
          0.04,
          7.45,
          6.03,
          0.75,
          2.81,
          2.32,
          2.32,
          30.44,
          40.53,
          9.37,
          4.29,
          13.02,
          0.12,
          0.73,
          3.86,
          45.67,
          10.46,
          5.5,
          2.06,
          53.73,
          40.54,
          14.96,
          29.45,
          38.65,
          55.9,
          0.91,
          50.59,
          0.09,
          4.08,
          0.44,
          26.59,
          51.46,
          0.2,
          39.31,
          5.86,
          32.39,
          55.65,
          49.99,
          5.22,
          3.27,
          29.68,
          8.27,
          0.47,
          7.71,
          14.05,
          43.76,
          8.67,
          0.15,
          15.09,
          44.57,
          0.95,
          2.61,
          0.32,
          1.28,
          8.7,
          0.16,
          0.37,
          23.58,
          10.77,
          7.87,
          3.18,
          6.7,
          1.86,
          0.11,
          6.72,
          7.09,
          51.83,
          2.3,
          3.7,
          55.21,
          0.8,
          47.74,
          48.1,
          4.03,
          2.82,
          0.04,
          7.03,
          13.46,
          18.07,
          56.7,
          12.14,
          44.88,
          48.93,
          12.14,
          1.23,
          14.74,
          8.8,
          34.46,
          18.24,
          3.78,
          13.93,
          46.17,
          44.09,
          21.77,
          31.37,
          21.35,
          57.49,
          53.72,
          2.36,
          25.28,
          36.06,
          29.28,
          0.53,
          3,
          55.22,
          7.82,
          0.76,
          44.21,
          53.45,
          44.71,
          49.63,
          29.15,
          38.44,
          2.55,
          46.13,
          11.63,
          46.84,
          51.65,
          27.35,
          31.38,
          1.07,
          16.39,
          33.9,
          1.6,
          1,
          44.28,
          1.75,
          0.62,
          16.34,
          1.65,
          2.75,
          38.74,
          6.75,
          0.27,
          26.95,
          3.2,
          0.74,
          2.64,
          10.62,
          29.28,
          0.25,
          6.89,
          31.89,
          0.98,
          52.83,
          0.08,
          15.67,
          1.75,
          2.55,
          0.43,
          30.27,
          5.34,
          30.44,
          28.45,
          27.31,
          57.25,
          5.1,
          5.49,
          58.29,
          1.86,
          1.35,
          8.16,
          3.35,
          39.45,
          0.45,
          55.54,
          0.59,
          0.64,
          25.62,
          0.84,
          53.92,
          27.31,
          38.36,
          48.88,
          4.03,
          2.4,
          4.08,
          25.29,
          41.46,
          0.02,
          38.59,
          8.19,
          37.98,
          9.66,
          30.21,
          4.98,
          30.15,
          42.79,
          0.07,
          37.23,
          1.85,
          27,
          29.22,
          0.02,
          0.13,
          50.23,
          3.3,
          0.82,
          47.28,
          8.19,
          3.56,
          56.14,
          14.08,
          44.09,
          45.16,
          9.72,
          56.4,
          2.44,
          0.09,
          26.22,
          3.67,
          2.36,
          36.31,
          32.94,
          13.03,
          0.06,
          23.39,
          54.37,
          9.62,
          5.01,
          46.3,
          4.09,
          39.41,
          1.27,
          8.39,
          25.26,
          1.83,
          24.59,
          30.27,
          0.26,
          3.56,
          7.11,
          2.56,
          13.79,
          5.23,
          1.73,
          4.49,
          0.14,
          29.98,
          7.23,
          59.03,
          0.84,
          0.16,
          5.22,
          3.46,
          21.35,
          6.05,
          51.38,
          1.73,
          22.3,
          37.23,
          57.25,
          29.51,
          54.96,
          3.18,
          17.71,
          3.24,
          1.33,
          7.25,
          55.72,
          50.04,
          17.07,
          37.89,
          0.53,
          14.49,
          28.73,
          13.01,
          0.15,
          6.22,
          1.47,
          5.39,
          37.96,
          32.54,
          20.46,
          13.72,
          10.6,
          1.45,
          3.49,
          20.73,
          7.19,
          2,
          0.24,
          0.4,
          0.3,
          8.13,
          6.57,
          4.16,
          0.21,
          1.02,
          15.41,
          49.44,
          0.07,
          21.16,
          8,
          23.36,
          0.39,
          30.43,
          30.22,
          32.91,
          0.53,
          2.55,
          0.9,
          45.37,
          1.59,
          0.05,
          1.18,
          3.91,
          0.97,
          39.48,
          4.12,
          5.28,
          27.61,
          0.08,
          33.71,
          2.73,
          0.14,
          9.77,
          21.79,
          0.74,
          2.02,
          43.09,
          0.06,
          33.35,
          1.05,
          17.72,
          7.22,
          57.96,
          1.94,
          1.71,
          2.88,
          59.74,
          6.73,
          9.2,
          4.95,
          46.47,
          3.7,
          6.71,
          36.62,
          13.01,
          32.57,
          54.41,
          1.07,
          55.11,
          9.14,
          8.43,
          8.12,
          37.23,
          0.11,
          3.15,
          52.04,
          24.61,
          8.62,
          32.94,
          5.1,
          1.82,
          5.78,
          6.31,
          0.16,
          2.56,
          56.76,
          3.93,
          2.55,
          35.04,
          33.99,
          0.3,
          19.5,
          2.13,
          2.68,
          46.91,
          4.67,
          4.64,
          52.71,
          41.01,
          2.4,
          9.19,
          0.11,
          7.99,
          16.52,
          18.71,
          1.05,
          2.69,
          1.18,
          3.42,
          1.49,
          36.6,
          1.49,
          0.1,
          24.43,
          0.34,
          7.74,
          11.55,
          1.09,
          4.6,
          5.39,
          1.68,
          57.08,
          46.43,
          4.49,
          56.34,
          35.75,
          5.04,
          7.36,
          0.46,
          32.97,
          3.94,
          30.27,
          2.74,
          35.64,
          0.46,
          0.69,
          4.61,
          6,
          7.54,
          10.72,
          47.65,
          18.74,
          2.97,
          7.46,
          1.84,
          14.71,
          2.03,
          2.4,
          1.77,
          0.85,
          36.84,
          5.33,
          6.74,
          48.89,
          0.24,
          1.36,
          2.27,
          27.61,
          0.02,
          4.64,
          55.98,
          5.46,
          0.14,
          40.33,
          38.04,
          33.07,
          1.77,
          10.12,
          2.68,
          32.62,
          17.62,
          13.14,
          8.79,
          12.05,
          7.05,
          44.54,
          22.76,
          55.78,
          3.41,
          13.27,
          7.5,
          18.43,
          0.74,
          13.51,
          2.65,
          0.08,
          27.84,
          5.81,
          55.8,
          1.87,
          36,
          6.93,
          0.08,
          5.84,
          6.89,
          0.11,
          16.47,
          0.02,
          2.65,
          0.27,
          3.17,
          40.86,
          0.92,
          8.06,
          49.53,
          55.52,
          58.29,
          25.05,
          12.87,
          10.52,
          28,
          4.38,
          48.89,
          0.7,
          0.34,
          4.24,
          0.83,
          0.05,
          1.6,
          5.51,
          5.09,
          48.53,
          1.66,
          5.04,
          4.15,
          10.12,
          3.73,
          3.08,
          37.88,
          1.55,
          35.36,
          10.27,
          0.47,
          2.39,
          16.74,
          38.64,
          1.21,
          6.05,
          11.24,
          20.83,
          10.49,
          17.75,
          10.52,
          13.99,
          1.08,
          3.7,
          9.84,
          0,
          18.22,
          0.43,
          1.05,
          2.59,
          44.82,
          58.78,
          0.24,
          40.8,
          1.41,
          0.04,
          5.22,
          3.39,
          21.6,
          0.74,
          55.81,
          3.74,
          2.66,
          53.72,
          5.58,
          0.24,
          44.72,
          0.16,
          47.65,
          27.82,
          5.74,
          21.36,
          18.58,
          0.92,
          52.71,
          1.31,
          0.45,
          9.66,
          0.15,
          55.9,
          9.54,
          5.2,
          6.81,
          27.62,
          9.81,
          27.63,
          3.21,
          1.95,
          1.09,
          4.38,
          19.26,
          0.09,
          41,
          4.61,
          3.19,
          6.38,
          3.78,
          2.35,
          58.17,
          1.35,
          5.61,
          7.7,
          1.94,
          3.06,
          0.68,
          15.98,
          13.99,
          0.05,
          7.05,
          33.08,
          1.8,
          32.4,
          10.32,
          52,
          3.43,
          0.13,
          55.07,
          0.43,
          2.28,
          7.29,
          21.87,
          4.27,
          0.06,
          45.08,
          0.45,
          10.42,
          1.23,
          48.15,
          7.98,
          0.57,
          4.49,
          6.74,
          4.64,
          1.27,
          19.88,
          34.09,
          0.25,
          0.2,
          3.46,
          0.02,
          46.16,
          0.61,
          0.38,
          0.4,
          0.35,
          46.35,
          39.38,
          0.6,
          1.55,
          45.42,
          25.8,
          0.45,
          0.06,
          46.84,
          4.64,
          14.96,
          32.91,
          5,
          42.15,
          0.31,
          9.87,
          10.55,
          30.98,
          1.3,
          30.24,
          0.56,
          49.63,
          0.72,
          0.99,
          0.17,
          3.65,
          1.57,
          14.91,
          55.45,
          9.96,
          1.09,
          1.28,
          0.35,
          0.13,
          12.99,
          2.76,
          4.81,
          0.3,
          28.03,
          23.91,
          2.9,
          0.97,
          0.07,
          0.94,
          23.11,
          52.7,
          13.88,
          16.37,
          28.8,
          29.41,
          7.95,
          50.17,
          1.2,
          6.89,
          1.94,
          0.09,
          7.32,
          2.85,
          5.91,
          4.13,
          26.2,
          22,
          12.11,
          37.95,
          11.27,
          4.19,
          3.21,
          9.35,
          2.85,
          36.06,
          1.75,
          31.19,
          9.33,
          27.63,
          7.43,
          55.04,
          52.92,
          2.63,
          3.69,
          0.16,
          5.2,
          4.4,
          2.76,
          8.05,
          0.04,
          0.35,
          33.83,
          0.24,
          50.4,
          6.25,
          1.08,
          3.84,
          4.87,
          0.29,
          9.84,
          40.33,
          30.54,
          0.32,
          12.74,
          1.85,
          0.91,
          3.19,
          0.48,
          2.63,
          12.05,
          34.45,
          9.13,
          33.08,
          2.55,
          16.39,
          8.12,
          41.66,
          8.13,
          50.49,
          34.05
         ]
        },
        {
         "customdata": [
          [
           0.35,
           0.007,
           "1"
          ],
          [
           5.28,
           0.002,
           "1"
          ],
          [
           7.23,
           0.001,
           "1"
          ],
          [
           2.67,
           0.006,
           "1"
          ],
          [
           0.8,
           0.003,
           "1"
          ],
          [
           3.14,
           0.005,
           "1"
          ],
          [
           6.4,
           0.007,
           "1"
          ],
          [
           0.1,
           0.002,
           "1"
          ],
          [
           0.05,
           0.008,
           "1"
          ],
          [
           0.7,
           0.008,
           "1"
          ],
          [
           5.99,
           0.008,
           "1"
          ],
          [
           1.94,
           0.002,
           "1"
          ],
          [
           5.29,
           0.001,
           "1"
          ],
          [
           7.78,
           0.009,
           "1"
          ],
          [
           0.01,
           0.006,
           "1"
          ],
          [
           4.57,
           0.006,
           "1"
          ],
          [
           3.47,
           0.007,
           "1"
          ],
          [
           3.74,
           0.001,
           "1"
          ],
          [
           7.22,
           0.001,
           "1"
          ],
          [
           2.55,
           0.006,
           "1"
          ],
          [
           6.63,
           0.007,
           "1"
          ],
          [
           5.87,
           0.002,
           "1"
          ],
          [
           2.86,
           0.008,
           "1"
          ],
          [
           4,
           0.006,
           "1"
          ],
          [
           4.55,
           0.005,
           "1"
          ],
          [
           4.94,
           0.006,
           "1"
          ],
          [
           0.64,
           0.004,
           "1"
          ],
          [
           2.9,
           0.003,
           "1"
          ],
          [
           5.71,
           0.003,
           "1"
          ],
          [
           0.22,
           0.002,
           "1"
          ],
          [
           6.11,
           0.007,
           "1"
          ],
          [
           0.68,
           0.002,
           "1"
          ],
          [
           7.7,
           0.004,
           "1"
          ],
          [
           7.97,
           0.001,
           "1"
          ],
          [
           6.19,
           0.008,
           "1"
          ],
          [
           0.9,
           0.008,
           "1"
          ],
          [
           4.5,
           0.006,
           "1"
          ],
          [
           0.88,
           0.002,
           "1"
          ],
          [
           1.13,
           0.007,
           "1"
          ],
          [
           3.85,
           0.001,
           "1"
          ],
          [
           6.16,
           0.009,
           "1"
          ],
          [
           7.06,
           0.003,
           "1"
          ],
          [
           4.4,
           0.008,
           "1"
          ],
          [
           4.89,
           0.002,
           "1"
          ],
          [
           6.57,
           0.001,
           "1"
          ],
          [
           2.15,
           0.005,
           "1"
          ],
          [
           2.38,
           0.004,
           "1"
          ],
          [
           4.77,
           0.003,
           "1"
          ],
          [
           1.97,
           0.005,
           "1"
          ],
          [
           3.4,
           0.004,
           "1"
          ],
          [
           5.27,
           0.009,
           "1"
          ],
          [
           3.35,
           0.004,
           "1"
          ],
          [
           7.56,
           0.008,
           "1"
          ],
          [
           0.13,
           0.008,
           "1"
          ],
          [
           7.52,
           0.006,
           "1"
          ],
          [
           3.57,
           0.004,
           "1"
          ],
          [
           6.02,
           0.001,
           "1"
          ],
          [
           1.12,
           0.006,
           "1"
          ],
          [
           0.19,
           0.001,
           "1"
          ],
          [
           1.85,
           0.005,
           "1"
          ],
          [
           4.25,
           0.005,
           "1"
          ],
          [
           2.38,
           0.001,
           "1"
          ],
          [
           1.89,
           0.007,
           "1"
          ],
          [
           4.59,
           0.009,
           "1"
          ],
          [
           6.25,
           0.006,
           "1"
          ],
          [
           5.22,
           0.005,
           "1"
          ],
          [
           1.86,
           0.005,
           "1"
          ],
          [
           7.37,
           0.006,
           "1"
          ],
          [
           3.07,
           0.001,
           "1"
          ],
          [
           2.89,
           0.007,
           "1"
          ],
          [
           3.58,
           0.001,
           "1"
          ],
          [
           6.75,
           0.001,
           "1"
          ],
          [
           7.97,
           0.005,
           "1"
          ],
          [
           1.33,
           0.007,
           "1"
          ],
          [
           0.63,
           0.009,
           "1"
          ],
          [
           5.07,
           0.008,
           "1"
          ],
          [
           4.13,
           0.002,
           "1"
          ],
          [
           2.52,
           0.001,
           "1"
          ],
          [
           3.71,
           0.008,
           "1"
          ],
          [
           1.87,
           0.008,
           "1"
          ],
          [
           4.3,
           0.003,
           "1"
          ],
          [
           2.26,
           0.008,
           "1"
          ],
          [
           3.42,
           0.003,
           "1"
          ],
          [
           5.65,
           0.006,
           "1"
          ],
          [
           5.72,
           0.001,
           "1"
          ],
          [
           0.89,
           0.002,
           "1"
          ],
          [
           1.57,
           0.002,
           "1"
          ],
          [
           2.74,
           0.003,
           "1"
          ],
          [
           0.79,
           0.008,
           "1"
          ],
          [
           1.69,
           0.006,
           "1"
          ],
          [
           6.21,
           0.002,
           "1"
          ],
          [
           1.07,
           0.003,
           "1"
          ],
          [
           3.95,
           0.005,
           "1"
          ],
          [
           7.59,
           0.004,
           "1"
          ],
          [
           0.98,
           0.005,
           "1"
          ],
          [
           4.95,
           0.001,
           "1"
          ],
          [
           0.8,
           0.008,
           "1"
          ],
          [
           2.45,
           0.001,
           "1"
          ],
          [
           1.36,
           0.004,
           "1"
          ],
          [
           6.5,
           0.008,
           "1"
          ],
          [
           6.75,
           0.003,
           "1"
          ],
          [
           3.61,
           0.009,
           "1"
          ],
          [
           0.81,
           0.005,
           "1"
          ],
          [
           4.06,
           0.004,
           "1"
          ],
          [
           4.42,
           0.002,
           "1"
          ],
          [
           0.09,
           0.005,
           "1"
          ],
          [
           3.26,
           0.003,
           "1"
          ],
          [
           0.85,
           0.004,
           "1"
          ],
          [
           7.12,
           0.003,
           "1"
          ],
          [
           3.69,
           0.005,
           "1"
          ],
          [
           3.41,
           0.008,
           "1"
          ],
          [
           3.1,
           0.005,
           "1"
          ],
          [
           1.53,
           0.001,
           "1"
          ],
          [
           2.4,
           0.003,
           "1"
          ],
          [
           3.08,
           0.003,
           "1"
          ],
          [
           7.91,
           0.001,
           "1"
          ],
          [
           0.07,
           0.006,
           "1"
          ],
          [
           5.48,
           0.004,
           "1"
          ],
          [
           0.67,
           0.007,
           "1"
          ],
          [
           3.91,
           0.005,
           "1"
          ],
          [
           4.95,
           0.003,
           "1"
          ],
          [
           0.4,
           0.001,
           "1"
          ],
          [
           4.69,
           0.009,
           "1"
          ],
          [
           1.49,
           0.004,
           "1"
          ],
          [
           2.91,
           0.007,
           "1"
          ],
          [
           0.88,
           0.005,
           "1"
          ],
          [
           6.8,
           0.007,
           "1"
          ],
          [
           7.51,
           0.006,
           "1"
          ],
          [
           5.92,
           0.001,
           "1"
          ],
          [
           5.83,
           0.006,
           "1"
          ],
          [
           5.17,
           0.003,
           "1"
          ],
          [
           6.13,
           0.007,
           "1"
          ],
          [
           4.36,
           0.006,
           "1"
          ],
          [
           5.25,
           0.006,
           "1"
          ],
          [
           7.24,
           0.005,
           "1"
          ],
          [
           4.54,
           0.004,
           "1"
          ],
          [
           1.44,
           0.003,
           "1"
          ],
          [
           0,
           0.004,
           "1"
          ],
          [
           7.33,
           0.002,
           "1"
          ],
          [
           5.99,
           0.005,
           "1"
          ],
          [
           4.62,
           0.003,
           "1"
          ],
          [
           3.62,
           0.005,
           "1"
          ],
          [
           5.23,
           0.004,
           "1"
          ],
          [
           4.57,
           0.005,
           "1"
          ],
          [
           6.69,
           0.007,
           "1"
          ],
          [
           6.52,
           0.003,
           "1"
          ],
          [
           0.83,
           0.008,
           "1"
          ],
          [
           6.93,
           0.002,
           "1"
          ],
          [
           5.34,
           0.002,
           "1"
          ],
          [
           2.84,
           0.008,
           "1"
          ],
          [
           6.11,
           0.008,
           "1"
          ],
          [
           3.45,
           0.003,
           "1"
          ],
          [
           3.71,
           0.003,
           "1"
          ],
          [
           2.1,
           0.005,
           "1"
          ],
          [
           1.83,
           0.007,
           "1"
          ],
          [
           6.81,
           0.008,
           "1"
          ],
          [
           7.02,
           0.001,
           "1"
          ],
          [
           7.96,
           0.008,
           "1"
          ],
          [
           7.07,
           0.002,
           "1"
          ],
          [
           6.55,
           0.004,
           "1"
          ],
          [
           6.76,
           0.004,
           "1"
          ],
          [
           3.5,
           0.003,
           "1"
          ],
          [
           6.99,
           0.004,
           "1"
          ],
          [
           1.37,
           0.008,
           "1"
          ],
          [
           3.47,
           0.009,
           "1"
          ],
          [
           7.17,
           0.007,
           "1"
          ],
          [
           6.68,
           0.009,
           "1"
          ],
          [
           1.48,
           0.004,
           "1"
          ],
          [
           1.09,
           0.008,
           "1"
          ],
          [
           1.87,
           0.008,
           "1"
          ],
          [
           4.6,
           0.005,
           "1"
          ],
          [
           5.67,
           0.003,
           "1"
          ],
          [
           3.74,
           0.007,
           "1"
          ],
          [
           5.06,
           0.007,
           "1"
          ],
          [
           0.75,
           0.001,
           "1"
          ],
          [
           0.76,
           0.006,
           "1"
          ],
          [
           1.77,
           0.007,
           "1"
          ],
          [
           3.61,
           0.007,
           "1"
          ],
          [
           1.63,
           0.003,
           "1"
          ],
          [
           5.61,
           0.007,
           "1"
          ],
          [
           3.33,
           0.003,
           "1"
          ],
          [
           6.56,
           0.004,
           "1"
          ],
          [
           3.04,
           0.006,
           "1"
          ],
          [
           1.26,
           0.008,
           "1"
          ],
          [
           5.95,
           0.004,
           "1"
          ],
          [
           4.38,
           0.003,
           "1"
          ],
          [
           7.43,
           0.001,
           "1"
          ],
          [
           0.71,
           0.002,
           "1"
          ],
          [
           6.03,
           0.005,
           "1"
          ],
          [
           3,
           0.002,
           "1"
          ],
          [
           3.25,
           0.006,
           "1"
          ],
          [
           4.79,
           0.004,
           "1"
          ],
          [
           5.23,
           0.005,
           "1"
          ],
          [
           3.49,
           0.008,
           "1"
          ],
          [
           3.48,
           0.002,
           "1"
          ],
          [
           6.66,
           0.006,
           "1"
          ],
          [
           6.84,
           0.004,
           "1"
          ],
          [
           7.58,
           0.008,
           "1"
          ],
          [
           3.95,
           0.008,
           "1"
          ],
          [
           2.2,
           0.004,
           "1"
          ],
          [
           2.11,
           0.005,
           "1"
          ],
          [
           4.78,
           0.004,
           "1"
          ],
          [
           2.37,
           0.004,
           "1"
          ],
          [
           0.19,
           0.003,
           "1"
          ],
          [
           4.22,
           0.001,
           "1"
          ],
          [
           1.91,
           0.005,
           "1"
          ],
          [
           5.4,
           0.002,
           "1"
          ],
          [
           2.21,
           0.001,
           "1"
          ],
          [
           1.42,
           0.004,
           "1"
          ],
          [
           4.84,
           0.007,
           "1"
          ],
          [
           3.7,
           0.006,
           "1"
          ],
          [
           6.89,
           0.005,
           "1"
          ],
          [
           7.18,
           0.001,
           "1"
          ],
          [
           4.02,
           0.005,
           "1"
          ],
          [
           6.12,
           0.006,
           "1"
          ],
          [
           7.12,
           0.003,
           "1"
          ],
          [
           0.1,
           0.005,
           "1"
          ],
          [
           1.27,
           0.003,
           "1"
          ],
          [
           0.83,
           0.003,
           "1"
          ],
          [
           7.65,
           0.004,
           "1"
          ],
          [
           3.67,
           0.003,
           "1"
          ],
          [
           2.13,
           0.001,
           "1"
          ],
          [
           2.5,
           0.002,
           "1"
          ],
          [
           5.98,
           0.001,
           "1"
          ],
          [
           4.76,
           0.008,
           "1"
          ],
          [
           6.98,
           0.001,
           "1"
          ],
          [
           3.23,
           0.001,
           "1"
          ],
          [
           1.87,
           0.006,
           "1"
          ],
          [
           7.18,
           0.001,
           "1"
          ],
          [
           4.93,
           0.005,
           "1"
          ],
          [
           3.03,
           0.002,
           "1"
          ],
          [
           5.6,
           0.003,
           "1"
          ],
          [
           1.8,
           0.006,
           "1"
          ],
          [
           3.05,
           0.006,
           "1"
          ],
          [
           1.7,
           0.003,
           "1"
          ],
          [
           7.51,
           0.001,
           "1"
          ],
          [
           0.73,
           0.003,
           "1"
          ],
          [
           7.44,
           0.006,
           "1"
          ],
          [
           6.37,
           0.008,
           "1"
          ],
          [
           4.52,
           0.002,
           "1"
          ],
          [
           4.99,
           0.009,
           "1"
          ],
          [
           4.41,
           0.002,
           "1"
          ],
          [
           5.66,
           0.006,
           "1"
          ],
          [
           6.17,
           0.001,
           "1"
          ],
          [
           1.54,
           0.007,
           "1"
          ],
          [
           4.34,
           0.001,
           "1"
          ],
          [
           3.31,
           0.002,
           "1"
          ],
          [
           2.2,
           0.002,
           "1"
          ],
          [
           7.38,
           0.001,
           "1"
          ],
          [
           4.86,
           0.007,
           "1"
          ],
          [
           4.78,
           0.004,
           "1"
          ],
          [
           4.16,
           0.001,
           "1"
          ],
          [
           1.1,
           0.009,
           "1"
          ],
          [
           2.05,
           0.007,
           "1"
          ],
          [
           1.68,
           0.001,
           "1"
          ],
          [
           1.75,
           0.005,
           "1"
          ],
          [
           5.23,
           0.007,
           "1"
          ],
          [
           7.93,
           0.001,
           "1"
          ],
          [
           3.09,
           0.006,
           "1"
          ],
          [
           7.24,
           0.009,
           "1"
          ],
          [
           1.41,
           0.008,
           "1"
          ],
          [
           3.01,
           0.005,
           "1"
          ],
          [
           6.9,
           0.003,
           "1"
          ],
          [
           3.15,
           0.003,
           "1"
          ],
          [
           6.06,
           0.006,
           "1"
          ],
          [
           5.3,
           0.003,
           "1"
          ],
          [
           4.33,
           0.009,
           "1"
          ],
          [
           3.23,
           0.001,
           "1"
          ],
          [
           0.26,
           0.001,
           "1"
          ],
          [
           7.25,
           0.004,
           "1"
          ],
          [
           4.62,
           0.002,
           "1"
          ],
          [
           5.98,
           0.005,
           "1"
          ],
          [
           3.67,
           0.006,
           "1"
          ],
          [
           4.49,
           0.005,
           "1"
          ],
          [
           1.19,
           0.001,
           "1"
          ],
          [
           3.66,
           0.001,
           "1"
          ],
          [
           7.17,
           0.002,
           "1"
          ],
          [
           2.2,
           0.005,
           "1"
          ],
          [
           6.12,
           0.007,
           "1"
          ],
          [
           4.91,
           0.001,
           "1"
          ],
          [
           5.38,
           0.008,
           "1"
          ],
          [
           7.83,
           0.002,
           "1"
          ],
          [
           6.44,
           0.008,
           "1"
          ],
          [
           5.61,
           0.003,
           "1"
          ],
          [
           2.59,
           0.001,
           "1"
          ],
          [
           2.99,
           0.005,
           "1"
          ],
          [
           1.64,
           0.001,
           "1"
          ],
          [
           5.42,
           0.007,
           "1"
          ],
          [
           4.86,
           0.005,
           "1"
          ],
          [
           0.63,
           0.008,
           "1"
          ],
          [
           5.17,
           0.001,
           "1"
          ],
          [
           0.45,
           0.003,
           "1"
          ],
          [
           4.08,
           0.007,
           "1"
          ],
          [
           4.81,
           0.005,
           "1"
          ],
          [
           0.17,
           0.002,
           "1"
          ],
          [
           6.1,
           0.001,
           "1"
          ],
          [
           1.77,
           0.001,
           "1"
          ],
          [
           6.42,
           0.006,
           "1"
          ],
          [
           0.88,
           0.001,
           "1"
          ],
          [
           4.27,
           0.002,
           "1"
          ],
          [
           6.95,
           0.005,
           "1"
          ],
          [
           3.99,
           0.007,
           "1"
          ],
          [
           7.96,
           0.002,
           "1"
          ],
          [
           2.38,
           0.003,
           "1"
          ],
          [
           2.83,
           0.009,
           "1"
          ],
          [
           2.46,
           0.005,
           "1"
          ],
          [
           7.78,
           0.007,
           "1"
          ],
          [
           2.16,
           0.005,
           "1"
          ],
          [
           2.83,
           0.002,
           "1"
          ],
          [
           3.54,
           0.003,
           "1"
          ],
          [
           4.57,
           0.004,
           "1"
          ],
          [
           3.15,
           0.007,
           "1"
          ],
          [
           4.71,
           0.004,
           "1"
          ],
          [
           6.48,
           0.006,
           "1"
          ],
          [
           2.73,
           0.002,
           "1"
          ],
          [
           0.06,
           0.001,
           "1"
          ],
          [
           4.36,
           0.008,
           "1"
          ],
          [
           7.79,
           0.005,
           "1"
          ],
          [
           1.43,
           0.008,
           "1"
          ],
          [
           1.73,
           0.001,
           "1"
          ],
          [
           6.89,
           0.005,
           "1"
          ],
          [
           0.81,
           0.002,
           "1"
          ],
          [
           6.93,
           0.005,
           "1"
          ],
          [
           5.85,
           0.006,
           "1"
          ],
          [
           5.14,
           0.001,
           "1"
          ],
          [
           6.71,
           0.002,
           "1"
          ],
          [
           1.78,
           0.007,
           "1"
          ],
          [
           5.24,
           0.005,
           "1"
          ],
          [
           5.89,
           0.001,
           "1"
          ],
          [
           1.23,
           0.001,
           "1"
          ],
          [
           5.47,
           0.002,
           "1"
          ],
          [
           3.29,
           0.006,
           "1"
          ],
          [
           4.07,
           0.001,
           "1"
          ],
          [
           7.59,
           0.008,
           "1"
          ],
          [
           4.18,
           0.005,
           "1"
          ],
          [
           0.81,
           0.001,
           "1"
          ],
          [
           0.71,
           0.006,
           "1"
          ],
          [
           5.57,
           0.002,
           "1"
          ],
          [
           7.3,
           0.001,
           "1"
          ],
          [
           4.16,
           0.003,
           "1"
          ],
          [
           4.11,
           0.007,
           "1"
          ],
          [
           3.42,
           0.002,
           "1"
          ],
          [
           3.51,
           0.002,
           "1"
          ],
          [
           7.21,
           0.001,
           "1"
          ],
          [
           6.26,
           0.008,
           "1"
          ],
          [
           4.51,
           0.007,
           "1"
          ],
          [
           1.74,
           0.005,
           "1"
          ],
          [
           4.75,
           0.008,
           "1"
          ],
          [
           6.81,
           0.001,
           "1"
          ],
          [
           0.12,
           0.002,
           "1"
          ],
          [
           2.4,
           0.001,
           "1"
          ],
          [
           4.52,
           0.003,
           "1"
          ],
          [
           6.99,
           0.001,
           "1"
          ],
          [
           7.17,
           0.007,
           "1"
          ],
          [
           1.22,
           0.003,
           "1"
          ],
          [
           6.13,
           0.002,
           "1"
          ],
          [
           4.1,
           0.007,
           "1"
          ],
          [
           1.04,
           0.005,
           "1"
          ],
          [
           2.29,
           0.006,
           "1"
          ],
          [
           5.67,
           0.005,
           "1"
          ],
          [
           3.31,
           0.005,
           "1"
          ],
          [
           4.74,
           0.005,
           "1"
          ],
          [
           0.21,
           0.006,
           "1"
          ],
          [
           0.6,
           0.005,
           "1"
          ],
          [
           2.16,
           0.006,
           "1"
          ],
          [
           0.4,
           0.008,
           "1"
          ],
          [
           1.67,
           0.002,
           "1"
          ],
          [
           0.2,
           0.006,
           "1"
          ],
          [
           5.35,
           0.008,
           "1"
          ],
          [
           1.09,
           0.006,
           "1"
          ],
          [
           3.41,
           0.001,
           "1"
          ],
          [
           3.04,
           0.001,
           "1"
          ],
          [
           2.14,
           0.001,
           "1"
          ],
          [
           6.16,
           0.008,
           "1"
          ],
          [
           6,
           0.004,
           "1"
          ],
          [
           1.84,
           0.008,
           "1"
          ],
          [
           0.23,
           0.006,
           "1"
          ],
          [
           4.02,
           0.007,
           "1"
          ],
          [
           3.96,
           0.005,
           "1"
          ],
          [
           5.68,
           0.006,
           "1"
          ],
          [
           5.12,
           0.008,
           "1"
          ],
          [
           0.78,
           0.007,
           "1"
          ],
          [
           1.36,
           0.009,
           "1"
          ],
          [
           4.7,
           0.004,
           "1"
          ],
          [
           4.56,
           0.005,
           "1"
          ],
          [
           3.75,
           0.003,
           "1"
          ],
          [
           5.1,
           0.001,
           "1"
          ],
          [
           1.84,
           0.003,
           "1"
          ],
          [
           7.43,
           0.002,
           "1"
          ],
          [
           7.81,
           0.008,
           "1"
          ],
          [
           1.8,
           0.007,
           "1"
          ],
          [
           1.58,
           0.008,
           "1"
          ],
          [
           3.05,
           0.009,
           "1"
          ],
          [
           2.5,
           0.005,
           "1"
          ],
          [
           7.24,
           0.001,
           "1"
          ],
          [
           6.85,
           0.005,
           "1"
          ],
          [
           1.81,
           0.005,
           "1"
          ],
          [
           4.26,
           0.004,
           "1"
          ],
          [
           4.85,
           0.001,
           "1"
          ],
          [
           6.53,
           0.009,
           "1"
          ],
          [
           0,
           0.008,
           "1"
          ],
          [
           2.71,
           0.005,
           "1"
          ],
          [
           2.98,
           0.007,
           "1"
          ],
          [
           2.83,
           0.007,
           "1"
          ],
          [
           6.13,
           0.002,
           "1"
          ],
          [
           2.34,
           0.007,
           "1"
          ],
          [
           3.41,
           0.003,
           "1"
          ],
          [
           5,
           0.003,
           "1"
          ],
          [
           0.08,
           0.006,
           "1"
          ],
          [
           5.21,
           0.005,
           "1"
          ],
          [
           1.51,
           0.001,
           "1"
          ],
          [
           3.96,
           0.001,
           "1"
          ],
          [
           2.52,
           0.002,
           "1"
          ],
          [
           3.78,
           0.001,
           "1"
          ],
          [
           0.32,
           0.001,
           "1"
          ],
          [
           1.57,
           0.003,
           "1"
          ],
          [
           3.17,
           0.005,
           "1"
          ],
          [
           3.21,
           0.006,
           "1"
          ],
          [
           4.58,
           0.006,
           "1"
          ],
          [
           2.41,
           0.001,
           "1"
          ],
          [
           5.73,
           0.005,
           "1"
          ],
          [
           6.21,
           0.001,
           "1"
          ],
          [
           6.07,
           0.005,
           "1"
          ],
          [
           0.64,
           0.001,
           "1"
          ],
          [
           1.53,
           0.002,
           "1"
          ],
          [
           0.48,
           0.009,
           "1"
          ],
          [
           5.88,
           0.001,
           "1"
          ],
          [
           4.55,
           0.005,
           "1"
          ],
          [
           2.94,
           0.007,
           "1"
          ],
          [
           6.12,
           0.002,
           "1"
          ],
          [
           2.01,
           0.003,
           "1"
          ],
          [
           2.55,
           0.001,
           "1"
          ],
          [
           3.33,
           0.001,
           "1"
          ],
          [
           3.29,
           0.006,
           "1"
          ],
          [
           7.85,
           0.009,
           "1"
          ],
          [
           6.2,
           0.002,
           "1"
          ],
          [
           7.99,
           0.001,
           "1"
          ],
          [
           2.12,
           0.004,
           "1"
          ],
          [
           6.86,
           0.007,
           "1"
          ],
          [
           4.77,
           0.002,
           "1"
          ],
          [
           0.1,
           0.006,
           "1"
          ],
          [
           5.42,
           0.005,
           "1"
          ],
          [
           4.54,
           0.008,
           "1"
          ],
          [
           4.43,
           0.006,
           "1"
          ],
          [
           7.12,
           0.002,
           "1"
          ],
          [
           0.73,
           0.006,
           "1"
          ],
          [
           2.8,
           0.002,
           "1"
          ],
          [
           2.51,
           0.004,
           "1"
          ],
          [
           3.1,
           0.009,
           "1"
          ],
          [
           6.5,
           0.006,
           "1"
          ],
          [
           5.33,
           0.001,
           "1"
          ],
          [
           7.78,
           0.007,
           "1"
          ],
          [
           6.68,
           0.005,
           "1"
          ],
          [
           5.21,
           0.001,
           "1"
          ],
          [
           5.17,
           0.009,
           "1"
          ],
          [
           2.37,
           0.007,
           "1"
          ],
          [
           3.01,
           0.005,
           "1"
          ],
          [
           3.16,
           0.002,
           "1"
          ],
          [
           4.54,
           0.002,
           "1"
          ],
          [
           4.24,
           0.009,
           "1"
          ],
          [
           4.63,
           0.009,
           "1"
          ],
          [
           7.86,
           0.007,
           "1"
          ],
          [
           0.96,
           0.002,
           "1"
          ],
          [
           6.78,
           0.003,
           "1"
          ],
          [
           0.34,
           0.008,
           "1"
          ],
          [
           6.07,
           0.006,
           "1"
          ],
          [
           2.19,
           0.004,
           "1"
          ],
          [
           2.35,
           0.003,
           "1"
          ],
          [
           5.23,
           0.006,
           "1"
          ],
          [
           4.24,
           0.002,
           "1"
          ],
          [
           6.23,
           0.008,
           "1"
          ],
          [
           4.39,
           0.008,
           "1"
          ],
          [
           5.65,
           0.001,
           "1"
          ],
          [
           6.26,
           0.008,
           "1"
          ],
          [
           7.54,
           0.001,
           "1"
          ],
          [
           3.33,
           0.006,
           "1"
          ],
          [
           6.32,
           0.002,
           "1"
          ],
          [
           6.83,
           0.002,
           "1"
          ],
          [
           5.67,
           0.009,
           "1"
          ],
          [
           2.03,
           0.002,
           "1"
          ],
          [
           1.82,
           0.001,
           "1"
          ],
          [
           6.25,
           0.008,
           "1"
          ],
          [
           2.92,
           0.003,
           "1"
          ],
          [
           7.52,
           0.007,
           "1"
          ],
          [
           1.39,
           0.001,
           "1"
          ],
          [
           6.92,
           0.008,
           "1"
          ],
          [
           0.5,
           0.005,
           "1"
          ],
          [
           6.36,
           0.001,
           "1"
          ],
          [
           3.53,
           0.004,
           "1"
          ],
          [
           6.5,
           0.008,
           "1"
          ],
          [
           2.77,
           0.004,
           "1"
          ],
          [
           1.9,
           0.008,
           "1"
          ],
          [
           1.49,
           0.008,
           "1"
          ],
          [
           0.7,
           0.005,
           "1"
          ],
          [
           6.81,
           0.003,
           "1"
          ],
          [
           3.82,
           0.002,
           "1"
          ],
          [
           3.08,
           0.006,
           "1"
          ],
          [
           5.71,
           0.003,
           "1"
          ],
          [
           0.17,
           0.001,
           "1"
          ],
          [
           4.93,
           0.004,
           "1"
          ],
          [
           6.28,
           0.004,
           "1"
          ],
          [
           3.98,
           0.006,
           "1"
          ],
          [
           1.39,
           0.005,
           "1"
          ],
          [
           2.32,
           0.004,
           "1"
          ],
          [
           7.15,
           0.003,
           "1"
          ],
          [
           6.79,
           0.006,
           "1"
          ],
          [
           0.51,
           0.006,
           "1"
          ],
          [
           1.55,
           0.009,
           "1"
          ],
          [
           6.56,
           0.008,
           "1"
          ],
          [
           5.68,
           0.002,
           "1"
          ],
          [
           3.02,
           0.001,
           "1"
          ],
          [
           3.21,
           0.007,
           "1"
          ],
          [
           6.58,
           0.006,
           "1"
          ],
          [
           6.14,
           0.003,
           "1"
          ],
          [
           4.05,
           0.005,
           "1"
          ],
          [
           1.65,
           0.008,
           "1"
          ],
          [
           6.69,
           0.007,
           "1"
          ],
          [
           7.74,
           0.007,
           "1"
          ],
          [
           4.59,
           0.004,
           "1"
          ],
          [
           1.45,
           0.003,
           "1"
          ],
          [
           7.17,
           0.001,
           "1"
          ],
          [
           1.41,
           0.004,
           "1"
          ],
          [
           6.1,
           0.005,
           "1"
          ],
          [
           5.79,
           0.001,
           "1"
          ],
          [
           6.76,
           0.003,
           "1"
          ],
          [
           3.07,
           0.005,
           "1"
          ],
          [
           3.76,
           0.004,
           "1"
          ],
          [
           6.97,
           0.005,
           "1"
          ],
          [
           0.14,
           0.008,
           "1"
          ],
          [
           5.1,
           0.001,
           "1"
          ],
          [
           0.4,
           0.008,
           "1"
          ],
          [
           1.11,
           0.004,
           "1"
          ],
          [
           3.33,
           0.003,
           "1"
          ],
          [
           6.09,
           0.004,
           "1"
          ],
          [
           2.56,
           0.003,
           "1"
          ],
          [
           5.6,
           0.006,
           "1"
          ],
          [
           4.14,
           0.003,
           "1"
          ],
          [
           4.47,
           0.008,
           "1"
          ],
          [
           1.1,
           0.003,
           "1"
          ],
          [
           2.56,
           0.002,
           "1"
          ],
          [
           4.05,
           0.007,
           "1"
          ],
          [
           6.43,
           0.008,
           "1"
          ],
          [
           6.3,
           0.001,
           "1"
          ],
          [
           7.34,
           0.004,
           "1"
          ],
          [
           1.07,
           0.003,
           "1"
          ],
          [
           3.09,
           0.003,
           "1"
          ],
          [
           5.98,
           0.007,
           "1"
          ],
          [
           0.57,
           0.008,
           "1"
          ],
          [
           7.49,
           0.004,
           "1"
          ],
          [
           7.37,
           0.009,
           "1"
          ],
          [
           1.03,
           0.001,
           "1"
          ],
          [
           7.72,
           0.005,
           "1"
          ],
          [
           2.25,
           0.001,
           "1"
          ],
          [
           5.64,
           0.008,
           "1"
          ],
          [
           0.83,
           0.008,
           "1"
          ],
          [
           0.11,
           0.007,
           "1"
          ],
          [
           3.84,
           0.003,
           "1"
          ],
          [
           5.66,
           0.004,
           "1"
          ],
          [
           1.82,
           0.009,
           "1"
          ],
          [
           5.54,
           0.004,
           "1"
          ],
          [
           2.92,
           0.007,
           "1"
          ],
          [
           1.02,
           0.009,
           "1"
          ],
          [
           0.65,
           0.001,
           "1"
          ],
          [
           1.77,
           0.005,
           "1"
          ],
          [
           2.14,
           0.004,
           "1"
          ],
          [
           1.45,
           0.008,
           "1"
          ],
          [
           1.51,
           0.002,
           "1"
          ],
          [
           2.54,
           0.003,
           "1"
          ],
          [
           1.58,
           0.004,
           "1"
          ],
          [
           1.36,
           0.007,
           "1"
          ],
          [
           1.35,
           0.001,
           "1"
          ],
          [
           5.83,
           0.001,
           "1"
          ],
          [
           7.85,
           0.001,
           "1"
          ],
          [
           4.96,
           0.008,
           "1"
          ],
          [
           7.18,
           0.008,
           "1"
          ],
          [
           5.87,
           0.008,
           "1"
          ],
          [
           1.99,
           0.005,
           "1"
          ],
          [
           0.51,
           0.003,
           "1"
          ],
          [
           4.47,
           0.006,
           "1"
          ],
          [
           7.93,
           0.006,
           "1"
          ],
          [
           3.83,
           0.005,
           "1"
          ],
          [
           1.96,
           0.002,
           "1"
          ],
          [
           6.26,
           0.005,
           "1"
          ],
          [
           1.18,
           0.005,
           "1"
          ],
          [
           4.79,
           0.005,
           "1"
          ],
          [
           3.7,
           0.009,
           "1"
          ],
          [
           6.25,
           0.006,
           "1"
          ],
          [
           4.37,
           0.008,
           "1"
          ],
          [
           2.81,
           0.004,
           "1"
          ],
          [
           7.66,
           0.005,
           "1"
          ],
          [
           0.26,
           0.006,
           "1"
          ],
          [
           1.9,
           0.009,
           "1"
          ],
          [
           3.49,
           0.006,
           "1"
          ],
          [
           3.35,
           0.007,
           "1"
          ],
          [
           4.98,
           0.008,
           "1"
          ],
          [
           0.41,
           0.004,
           "1"
          ],
          [
           0.38,
           0.004,
           "1"
          ],
          [
           4.49,
           0.007,
           "1"
          ],
          [
           3.37,
           0.004,
           "1"
          ],
          [
           7.67,
           0.007,
           "1"
          ],
          [
           4.97,
           0.001,
           "1"
          ],
          [
           6.39,
           0.002,
           "1"
          ],
          [
           1.79,
           0.001,
           "1"
          ],
          [
           5.42,
           0.006,
           "1"
          ],
          [
           5.18,
           0.008,
           "1"
          ],
          [
           2.47,
           0.004,
           "1"
          ],
          [
           6.12,
           0.004,
           "1"
          ],
          [
           4.08,
           0.001,
           "1"
          ],
          [
           4.13,
           0.004,
           "1"
          ],
          [
           1.89,
           0.004,
           "1"
          ],
          [
           0.65,
           0.007,
           "1"
          ],
          [
           6.6,
           0.002,
           "1"
          ],
          [
           1.87,
           0.006,
           "1"
          ],
          [
           1.78,
           0.003,
           "1"
          ],
          [
           1.99,
           0.005,
           "1"
          ],
          [
           7.42,
           0.001,
           "1"
          ],
          [
           4.27,
           0.003,
           "1"
          ],
          [
           2.96,
           0.008,
           "1"
          ],
          [
           1.87,
           0.006,
           "1"
          ],
          [
           4.4,
           0.001,
           "1"
          ],
          [
           6.9,
           0.007,
           "1"
          ],
          [
           4.01,
           0.005,
           "1"
          ],
          [
           7.78,
           0.009,
           "1"
          ],
          [
           7.93,
           0.008,
           "1"
          ],
          [
           3.53,
           0.007,
           "1"
          ],
          [
           3.16,
           0.001,
           "1"
          ],
          [
           5.06,
           0.009,
           "1"
          ],
          [
           1.19,
           0.001,
           "1"
          ],
          [
           4.06,
           0.006,
           "1"
          ],
          [
           4.18,
           0.001,
           "1"
          ],
          [
           0.63,
           0.002,
           "1"
          ],
          [
           0.46,
           0.001,
           "1"
          ],
          [
           2.35,
           0.001,
           "1"
          ],
          [
           5.09,
           0.006,
           "1"
          ],
          [
           3.9,
           0.002,
           "1"
          ],
          [
           7.43,
           0.006,
           "1"
          ],
          [
           3.7,
           0.003,
           "1"
          ],
          [
           3.53,
           0.006,
           "1"
          ],
          [
           5.43,
           0.006,
           "1"
          ],
          [
           6.15,
           0.007,
           "1"
          ],
          [
           1.01,
           0.001,
           "1"
          ],
          [
           3.02,
           0.002,
           "1"
          ],
          [
           4.43,
           0.007,
           "1"
          ],
          [
           5.61,
           0.006,
           "1"
          ],
          [
           2.69,
           0.008,
           "1"
          ],
          [
           5.37,
           0.005,
           "1"
          ],
          [
           7.87,
           0.001,
           "1"
          ],
          [
           6.54,
           0.001,
           "1"
          ],
          [
           3.63,
           0.002,
           "1"
          ],
          [
           5.22,
           0.006,
           "1"
          ],
          [
           2.46,
           0.002,
           "1"
          ],
          [
           2.91,
           0.04,
           "1"
          ],
          [
           3.17,
           0.02,
           "1"
          ],
          [
           5.79,
           0.12,
           "1"
          ],
          [
           7.89,
           0.09,
           "1"
          ],
          [
           6.24,
           0.12,
           "1"
          ],
          [
           4.64,
           0.12,
           "1"
          ],
          [
           2.58,
           0.02,
           "1"
          ],
          [
           0.94,
           0.05,
           "1"
          ],
          [
           6.39,
           0.02,
           "1"
          ],
          [
           0.85,
           0.08,
           "1"
          ],
          [
           6.51,
           0.01,
           "1"
          ],
          [
           3.28,
           0.13,
           "1"
          ],
          [
           4.15,
           0.06,
           "1"
          ],
          [
           7.89,
           0.1,
           "1"
          ],
          [
           3.75,
           0.05,
           "1"
          ],
          [
           1.43,
           0.13,
           "1"
          ],
          [
           1.45,
           0.04,
           "1"
          ],
          [
           5.08,
           0.07,
           "1"
          ],
          [
           4.83,
           0.06,
           "1"
          ],
          [
           0.45,
           0.11,
           "1"
          ],
          [
           3.17,
           0.03,
           "1"
          ],
          [
           8.13,
           0.12,
           "1"
          ],
          [
           5.79,
           0.11,
           "1"
          ],
          [
           2.03,
           0.1,
           "1"
          ],
          [
           1.3,
           0.12,
           "1"
          ],
          [
           2.32,
           0.11,
           "1"
          ],
          [
           2.77,
           0.1,
           "1"
          ],
          [
           5.64,
           0.05,
           "1"
          ],
          [
           6.13,
           0.05,
           "1"
          ],
          [
           7.18,
           0.12,
           "1"
          ],
          [
           3.7,
           0.12,
           "1"
          ],
          [
           2.06,
           0.07,
           "1"
          ],
          [
           1.16,
           0.1,
           "1"
          ],
          [
           4.09,
           0.13,
           "1"
          ],
          [
           4.65,
           0.11,
           "1"
          ],
          [
           1.6,
           0.03,
           "1"
          ],
          [
           4.7,
           0.11,
           "1"
          ],
          [
           4.09,
           0.11,
           "1"
          ],
          [
           5.93,
           0.09,
           "1"
          ],
          [
           8.33,
           0.1,
           "1"
          ],
          [
           2.11,
           0.11,
           "1"
          ],
          [
           8.66,
           0.03,
           "1"
          ],
          [
           7.02,
           0.06,
           "1"
          ],
          [
           2.03,
           0.04,
           "1"
          ],
          [
           0.4,
           0.04,
           "1"
          ],
          [
           3.21,
           0.03,
           "1"
          ],
          [
           4.17,
           0.01,
           "1"
          ],
          [
           5.36,
           0.04,
           "1"
          ],
          [
           4.54,
           0.04,
           "1"
          ],
          [
           2.67,
           0.006,
           "1"
          ],
          [
           2.99,
           0.007,
           "1"
          ],
          [
           5.71,
           0.003,
           "1"
          ],
          [
           7.52,
           0.006,
           "1"
          ],
          [
           1.12,
           0.006,
           "1"
          ],
          [
           4.43,
           0.006,
           "1"
          ],
          [
           2.52,
           0.001,
           "1"
          ],
          [
           0.79,
           0.008,
           "1"
          ],
          [
           6.21,
           0.002,
           "1"
          ],
          [
           7.91,
           0.001,
           "1"
          ],
          [
           0.54,
           0.003,
           "1"
          ],
          [
           6.29,
           0.002,
           "1"
          ],
          [
           5.25,
           0.006,
           "1"
          ],
          [
           2.84,
           0.008,
           "1"
          ],
          [
           3.45,
           0.003,
           "1"
          ],
          [
           7.43,
           0.001,
           "1"
          ],
          [
           3.67,
           0.001,
           "1"
          ],
          [
           0.71,
           0.007,
           "1"
          ],
          [
           1.27,
           0.003,
           "1"
          ],
          [
           4.99,
           0.009,
           "1"
          ],
          [
           4.78,
           0.004,
           "1"
          ],
          [
           0.17,
           0.002,
           "1"
          ],
          [
           2.83,
           0.002,
           "1"
          ],
          [
           7.57,
           0.007,
           "1"
          ],
          [
           5.47,
           0.002,
           "1"
          ],
          [
           1.22,
           0.003,
           "1"
          ],
          [
           2.16,
           0.006,
           "1"
          ],
          [
           2.71,
           0.005,
           "1"
          ],
          [
           5.59,
           0.006,
           "1"
          ],
          [
           5.88,
           0.001,
           "1"
          ],
          [
           6.2,
           0.002,
           "1"
          ],
          [
           3.65,
           0.006,
           "1"
          ],
          [
           2.03,
           0.004,
           "1"
          ],
          [
           0.96,
           0.002,
           "1"
          ],
          [
           4.05,
           0.005,
           "1"
          ],
          [
           4.62,
           0.004,
           "1"
          ],
          [
           1.11,
           0.004,
           "1"
          ],
          [
           4.47,
           0.008,
           "1"
          ],
          [
           4.05,
           0.007,
           "1"
          ],
          [
           5.66,
           0.004,
           "1"
          ],
          [
           7.85,
           0.001,
           "1"
          ],
          [
           1.99,
           0.005,
           "1"
          ],
          [
           7.93,
           0.006,
           "1"
          ],
          [
           6.6,
           0.002,
           "1"
          ],
          [
           0.21,
           0.007,
           "1"
          ],
          [
           3.16,
           0.001,
           "1"
          ],
          [
           4,
           0.004,
           "1"
          ],
          [
           5.09,
           0.006,
           "1"
          ],
          [
           4.43,
           0.007,
           "1"
          ],
          [
           2.77,
           0.05,
           "1"
          ],
          [
           3.8,
           0.11,
           "1"
          ],
          [
           5.73,
           0.07,
           "1"
          ],
          [
           7.54,
           0.07,
           "1"
          ],
          [
           6.25,
           0.03,
           "1"
          ],
          [
           4.55,
           0.04,
           "1"
          ],
          [
           2.72,
           0.02,
           "1"
          ],
          [
           0.94,
           0.05,
           "1"
          ],
          [
           6.22,
           0.04,
           "1"
          ],
          [
           0.84,
           0.06,
           "1"
          ],
          [
           6.78,
           0.07,
           "1"
          ],
          [
           3.34,
           0.02,
           "1"
          ],
          [
           3.52,
           0.08,
           "1"
          ],
          [
           7.45,
           0.06,
           "1"
          ],
          [
           3.7,
           0.05,
           "1"
          ],
          [
           0.88,
           0.01,
           "1"
          ],
          [
           1.37,
           0.03,
           "1"
          ],
          [
           5.07,
           0.03,
           "1"
          ],
          [
           4.81,
           0.04,
           "1"
          ],
          [
           0.52,
           0.04,
           "1"
          ],
          [
           2.92,
           0.03,
           "1"
          ],
          [
           7.59,
           0.1,
           "1"
          ],
          [
           5.57,
           0.09,
           "1"
          ],
          [
           1.21,
           0.12,
           "1"
          ],
          [
           1.3,
           0.06,
           "1"
          ],
          [
           2.23,
           0.02,
           "1"
          ],
          [
           2.91,
           0.05,
           "1"
          ],
          [
           5.72,
           0.13,
           "1"
          ],
          [
           6.86,
           0.11,
           "1"
          ],
          [
           6.26,
           0.04,
           "1"
          ],
          [
           4.01,
           0.11,
           "1"
          ],
          [
           2.04,
           0.1,
           "1"
          ],
          [
           1.18,
           0.11,
           "1"
          ],
          [
           4.85,
           0.09,
           "1"
          ],
          [
           4.7,
           0.08,
           "1"
          ],
          [
           1.29,
           0.09,
           "1"
          ],
          [
           4.62,
           0.03,
           "1"
          ],
          [
           4.25,
           0.09,
           "1"
          ],
          [
           6.2,
           0.02,
           "1"
          ],
          [
           8.05,
           0.09,
           "1"
          ],
          [
           2.16,
           0.08,
           "1"
          ],
          [
           8.13,
           0.07,
           "1"
          ],
          [
           6.7,
           0.03,
           "1"
          ],
          [
           2.89,
           0.03,
           "1"
          ],
          [
           0.32,
           0.09,
           "1"
          ],
          [
           3.19,
           0.02,
           "1"
          ],
          [
           4.21,
           0.12,
           "1"
          ],
          [
           5.14,
           0.12,
           "1"
          ],
          [
           4.94,
           0.08,
           "1"
          ],
          [
           0.02,
           0.04,
           "1"
          ],
          [
           0.21,
           0.01,
           "1"
          ],
          [
           0.49,
           0.06,
           "1"
          ],
          [
           0.38,
           0.03,
           "1"
          ],
          [
           0.09,
           0.06,
           "1"
          ],
          [
           0.3,
           0.05,
           "1"
          ],
          [
           0.2,
           0.01,
           "1"
          ],
          [
           0.23,
           0.02,
           "1"
          ],
          [
           0.2,
           0,
           "1"
          ],
          [
           0.02,
           0.09,
           "1"
          ],
          [
           0.07,
           0.01,
           "1"
          ],
          [
           0.02,
           0.08,
           "1"
          ],
          [
           0.06,
           0.05,
           "1"
          ],
          [
           0.7,
           0.08,
           "1"
          ],
          [
           0.3,
           0.07,
           "1"
          ],
          [
           0.01,
           0.01,
           "1"
          ],
          [
           0.2,
           0.01,
           "1"
          ],
          [
           0.03,
           0.06,
           "1"
          ],
          [
           0.52,
           0.09,
           "1"
          ],
          [
           0.23,
           0,
           "1"
          ],
          [
           0.17,
           0.04,
           "1"
          ],
          [
           0.25,
           0.06,
           "1"
          ],
          [
           0.32,
           0,
           "1"
          ],
          [
           0.55,
           0.02,
           "1"
          ],
          [
           0.08,
           0.03,
           "1"
          ],
          [
           0.05,
           0.06,
           "1"
          ],
          [
           0.01,
           0.08,
           "1"
          ],
          [
           0.2,
           0.09,
           "1"
          ],
          [
           0.04,
           0.06,
           "1"
          ],
          [
           0.08,
           0.03,
           "1"
          ],
          [
           0.12,
           0.06,
           "1"
          ],
          [
           0.56,
           0.07,
           "1"
          ],
          [
           0.46,
           0.05,
           "1"
          ],
          [
           0.32,
           0.04,
           "1"
          ],
          [
           0.04,
           0.04,
           "1"
          ],
          [
           0.35,
           0.06,
           "1"
          ],
          [
           0.02,
           0.09,
           "1"
          ],
          [
           0.47,
           0.03,
           "1"
          ],
          [
           0.01,
           0.07,
           "1"
          ],
          [
           0.27,
           0.02,
           "1"
          ],
          [
           0.23,
           0.05,
           "1"
          ],
          [
           0.05,
           0.09,
           "1"
          ],
          [
           0.08,
           0.04,
           "1"
          ],
          [
           0.06,
           0.05,
           "1"
          ],
          [
           0.49,
           0.06,
           "1"
          ],
          [
           0.08,
           0.03,
           "1"
          ],
          [
           0.06,
           0.07,
           "1"
          ],
          [
           0.42,
           0.08,
           "1"
          ],
          [
           0.15,
           0.06,
           "1"
          ],
          [
           0.04,
           0.01,
           "1"
          ],
          [
           0.67,
           0.04,
           "1"
          ],
          [
           0,
           0.03,
           "1"
          ],
          [
           0.01,
           0.05,
           "1"
          ],
          [
           0.09,
           0.07,
           "1"
          ],
          [
           0.44,
           0.03,
           "1"
          ],
          [
           0.04,
           0.09,
           "1"
          ],
          [
           0.17,
           0.08,
           "1"
          ],
          [
           0.01,
           0.08,
           "1"
          ],
          [
           0.02,
           0.09,
           "1"
          ],
          [
           0.32,
           0.03,
           "1"
          ],
          [
           0.04,
           0.08,
           "1"
          ],
          [
           0.04,
           0.08,
           "1"
          ],
          [
           0.07,
           0.06,
           "1"
          ],
          [
           0.1,
           0.02,
           "1"
          ],
          [
           0.07,
           0.03,
           "1"
          ],
          [
           0.06,
           0.05,
           "1"
          ],
          [
           0.16,
           0.02,
           "1"
          ],
          [
           0.11,
           0.02,
           "1"
          ],
          [
           0.01,
           0.04,
           "1"
          ],
          [
           0.09,
           0.07,
           "1"
          ],
          [
           0.12,
           0.03,
           "1"
          ],
          [
           0.5,
           0.06,
           "1"
          ],
          [
           0.27,
           0.09,
           "1"
          ],
          [
           0.59,
           0.05,
           "1"
          ],
          [
           0.09,
           0.02,
           "1"
          ],
          [
           0.12,
           0.02,
           "1"
          ],
          [
           0.26,
           0.02,
           "1"
          ],
          [
           0.1,
           0.06,
           "1"
          ],
          [
           0.01,
           0.03,
           "1"
          ],
          [
           0.72,
           0.05,
           "1"
          ],
          [
           0.34,
           0.04,
           "1"
          ],
          [
           0.49,
           0.05,
           "1"
          ],
          [
           0.16,
           0.03,
           "1"
          ],
          [
           0.06,
           0.06,
           "1"
          ],
          [
           0.54,
           0.02,
           "1"
          ],
          [
           0.2,
           0.05,
           "1"
          ],
          [
           0.13,
           0.01,
           "1"
          ],
          [
           0.1,
           0.08,
           "1"
          ],
          [
           0.08,
           0.09,
           "1"
          ],
          [
           0.22,
           0.03,
           "1"
          ],
          [
           0.05,
           0.09,
           "1"
          ],
          [
           0.45,
           0.04,
           "1"
          ],
          [
           0.07,
           0.08,
           "1"
          ],
          [
           0,
           0.09,
           "1"
          ],
          [
           0.18,
           0.06,
           "1"
          ],
          [
           0.02,
           0.02,
           "1"
          ],
          [
           0.01,
           0.09,
           "1"
          ],
          [
           0.28,
           0.01,
           "1"
          ],
          [
           0.32,
           0.06,
           "1"
          ],
          [
           0.06,
           0.02,
           "1"
          ],
          [
           0.09,
           0.05,
           "1"
          ],
          [
           0.48,
           0.08,
           "1"
          ],
          [
           0.03,
           0.07,
           "1"
          ],
          [
           0.08,
           0.09,
           "1"
          ],
          [
           0.04,
           0.09,
           "1"
          ],
          [
           0.01,
           0.01,
           "1"
          ],
          [
           0.22,
           0.08,
           "1"
          ],
          [
           0.08,
           0.04,
           "1"
          ],
          [
           0.57,
           0.02,
           "1"
          ],
          [
           0.1,
           0.04,
           "1"
          ],
          [
           0.45,
           0.01,
           "1"
          ],
          [
           0.05,
           0.03,
           "1"
          ],
          [
           2,
           0,
           "1"
          ],
          [
           0.05,
           0.03,
           "1"
          ]
         ],
         "hovertemplate": "is_safe=%{customdata[2]}<br>aluminium=%{x}<br>silver=%{y}<br>perchlorate=%{z}<br>chloramine=%{customdata[0]}<br>cadmium=%{customdata[1]}<extra></extra>",
         "legendgroup": "1",
         "marker": {
          "color": "#EF553B",
          "size": 2,
          "symbol": "circle"
         },
         "mode": "markers",
         "name": "1",
         "scene": "scene",
         "showlegend": true,
         "type": "scatter3d",
         "x": [
          1.65,
          2.32,
          1.36,
          0.92,
          0.94,
          0.6,
          0.22,
          1.35,
          1.88,
          4.93,
          2.89,
          0.61,
          3.47,
          2.11,
          4.12,
          0.68,
          1.15,
          0.27,
          3.31,
          1.82,
          4.41,
          1.69,
          1.87,
          2.71,
          4.49,
          3.52,
          4.35,
          3.37,
          1.51,
          2.68,
          0.3,
          0.23,
          2.55,
          4.32,
          0.24,
          0.42,
          0.77,
          0.6,
          0.58,
          3.82,
          2.78,
          3.62,
          4.64,
          2.25,
          0.54,
          4.62,
          2.5,
          3.08,
          2.73,
          3.02,
          2.35,
          2.45,
          3.3,
          1.19,
          0.85,
          0.5,
          1.89,
          3.75,
          1.75,
          0.94,
          2.76,
          0.43,
          2.63,
          0.88,
          3.03,
          4.91,
          1.15,
          4.8,
          1.62,
          2.68,
          0.09,
          4.66,
          2.74,
          3.52,
          1.82,
          2.91,
          3.53,
          3.04,
          2.21,
          1.92,
          2.12,
          4.21,
          2.56,
          3.94,
          1.22,
          0.8,
          3.31,
          2.59,
          3.9,
          0.18,
          0.07,
          2.71,
          4.34,
          0.92,
          2.39,
          0.9,
          0.89,
          4.91,
          3.37,
          3.69,
          4.71,
          4.5,
          2.69,
          4.3,
          2.17,
          5,
          2.6,
          0.35,
          3.83,
          2.9,
          1.56,
          4.34,
          2.23,
          3.81,
          1.12,
          4,
          1.55,
          2.56,
          2.99,
          1.36,
          3.83,
          0.47,
          0.01,
          3.62,
          2.82,
          1.05,
          1.21,
          3.35,
          1.75,
          1.86,
          0.54,
          0.29,
          3.29,
          0.22,
          2.35,
          4.04,
          3.6,
          3.71,
          0.61,
          3.05,
          0.84,
          1.98,
          4.18,
          3.27,
          0.59,
          0.36,
          1.4,
          1.46,
          0.93,
          0.78,
          4.48,
          0.71,
          0.87,
          2.69,
          1.21,
          4.36,
          0.57,
          2.14,
          0.15,
          2.01,
          1.72,
          4.38,
          3.73,
          2.97,
          2.32,
          3.95,
          2.22,
          3.84,
          3.97,
          3.73,
          2.71,
          3.24,
          3.85,
          2.91,
          3.44,
          2.2,
          1.14,
          0,
          1.14,
          0.09,
          2.9,
          4.07,
          1.44,
          3.89,
          2.09,
          4.79,
          0.19,
          4.77,
          3.81,
          0.76,
          3.36,
          4.27,
          1.9,
          1.44,
          4.26,
          3.19,
          1.24,
          3.36,
          3.29,
          2.94,
          0.49,
          2.82,
          4.19,
          2.26,
          3.05,
          0.78,
          3.67,
          2.94,
          0.93,
          3.59,
          3.46,
          2.79,
          1.77,
          0.39,
          1.07,
          0.62,
          4.64,
          1.09,
          2.5,
          3.96,
          3.49,
          3.46,
          2.89,
          0.27,
          0.9,
          0.83,
          0.72,
          3.12,
          3.98,
          4.39,
          1.09,
          4.44,
          0.78,
          2.06,
          0.95,
          2.24,
          4,
          0.39,
          2.33,
          2.54,
          1.93,
          3.91,
          3.09,
          4.53,
          4.71,
          1.81,
          4.62,
          4.18,
          1.12,
          0.14,
          3.01,
          3.51,
          1.4,
          1.77,
          1.99,
          0.84,
          2.14,
          3.93,
          4.73,
          3.69,
          3.01,
          1.15,
          4.66,
          4.73,
          2.33,
          1.34,
          3.62,
          1.82,
          1.79,
          0.18,
          3.01,
          2.04,
          2.8,
          3.34,
          1.92,
          0.93,
          2.46,
          1.36,
          1.77,
          2.92,
          1.38,
          1.55,
          2.78,
          0.63,
          0.24,
          3.79,
          3,
          4.79,
          2.64,
          1.36,
          0.65,
          0.24,
          2.65,
          4.84,
          4.29,
          4.3,
          4.13,
          2.01,
          2.02,
          3.81,
          4.35,
          4.39,
          0.99,
          3.38,
          1.66,
          0.33,
          1.65,
          3.25,
          3.72,
          4.04,
          0.35,
          4.15,
          1.54,
          1.71,
          0.15,
          4.76,
          0.7,
          0.87,
          2.99,
          4.96,
          2.79,
          3.13,
          4.7,
          0.36,
          3.57,
          0.01,
          2.06,
          4.05,
          4.98,
          4.55,
          2.77,
          1.52,
          4.95,
          0.19,
          1.45,
          2.69,
          2.45,
          0.5,
          3.52,
          2.24,
          0.95,
          1.65,
          2.08,
          1.49,
          1.08,
          4.11,
          3.36,
          2.1,
          4.85,
          0.71,
          4.77,
          2.2,
          0.11,
          2.22,
          2.08,
          2.88,
          2.21,
          2.1,
          1.08,
          4.08,
          4.5,
          2.05,
          1.55,
          0.41,
          0.97,
          4.25,
          1.19,
          0.96,
          4.65,
          2.78,
          3.97,
          0.46,
          3,
          1.87,
          3.59,
          4.03,
          1.06,
          1.22,
          4.03,
          2.67,
          2.24,
          2.63,
          4.38,
          3.59,
          2.01,
          3.15,
          3.25,
          4.06,
          4.49,
          1.88,
          1.39,
          1.92,
          3.38,
          1.03,
          0.92,
          4.93,
          1.48,
          3.69,
          3.85,
          3.61,
          3.18,
          3.74,
          4.82,
          4.98,
          2.38,
          0.92,
          3.01,
          3.62,
          0.71,
          0.25,
          0.53,
          3.79,
          2.47,
          1.82,
          4.35,
          3.99,
          0.21,
          1.93,
          0.55,
          1.08,
          0.41,
          0.54,
          0.92,
          2.97,
          0.32,
          2.91,
          1.37,
          4.72,
          0.31,
          1.37,
          2.33,
          4.74,
          4.61,
          1.2,
          1.28,
          3.48,
          1.79,
          3.62,
          1.19,
          3.48,
          1.35,
          2.63,
          3.14,
          3.54,
          0.43,
          0.56,
          1.81,
          4.1,
          3.47,
          4.27,
          0.76,
          0.69,
          3.85,
          0.36,
          4.59,
          0.93,
          0.26,
          2.04,
          1.54,
          1.4,
          1.08,
          0.81,
          0.94,
          0.43,
          0.32,
          0.58,
          0.16,
          0.45,
          0.45,
          3.2,
          1.27,
          4.39,
          1.86,
          2.41,
          1.51,
          3.13,
          2.85,
          0.23,
          2.25,
          2.54,
          2.45,
          3.13,
          4.39,
          1.55,
          2.56,
          0.42,
          2.13,
          4.75,
          3.93,
          0.86,
          2.06,
          4.78,
          3.43,
          4.81,
          0.48,
          2.67,
          3.21,
          3.83,
          1.14,
          0.17,
          2.27,
          1.32,
          2.89,
          4.2,
          2.29,
          0.43,
          2.99,
          1.75,
          1.25,
          1.01,
          1.95,
          4.35,
          3.2,
          0.85,
          0.05,
          2.93,
          3.99,
          1.4,
          0.31,
          4.36,
          2.46,
          3.6,
          3.88,
          1.41,
          1.01,
          2.91,
          0.42,
          0.29,
          1.7,
          4.36,
          3.18,
          0.19,
          2.73,
          3.65,
          2.91,
          2.24,
          1.86,
          0.53,
          4.98,
          1.16,
          1.06,
          1.27,
          4.13,
          3.82,
          3.52,
          4.19,
          3.47,
          0.5,
          0.03,
          0.31,
          0.49,
          4.76,
          3.42,
          3.79,
          0.06,
          1.72,
          0.6,
          4.55,
          2.25,
          0.67,
          4.27,
          2.16,
          3.47,
          2.66,
          4.87,
          3.88,
          0.34,
          0.02,
          0.93,
          3.67,
          2.74,
          2.36,
          2.72,
          3.54,
          0.52,
          2.46,
          0.18,
          2.5,
          2.36,
          2.48,
          0.68,
          3.72,
          4.76,
          2.54,
          0.91,
          0.42,
          4.32,
          0.44,
          3.5,
          0.75,
          3.26,
          2.76,
          0.75,
          4.55,
          1.12,
          0.99,
          3.71,
          3.56,
          1.5,
          0.56,
          1.05,
          4.96,
          0.22,
          3.28,
          3.92,
          4.19,
          2.75,
          2.82,
          1.34,
          3.45,
          2.58,
          2.64,
          2.72,
          4.69,
          3.51,
          3.73,
          2.17,
          0.36,
          3.68,
          3.62,
          0.15,
          2.1,
          1.34,
          1.74,
          3.68,
          3.87,
          1.32,
          2.54,
          0,
          0.16,
          3.57,
          4.39,
          2.59,
          0.47,
          4.7,
          1.13,
          0.28,
          4.4,
          0.8,
          3.59,
          1.69,
          4.51,
          4.91,
          3.94,
          0.05,
          2.72,
          4.57,
          1.14,
          2.47,
          2.26,
          4.33,
          0.97,
          0.34,
          1.56,
          0.9,
          3.37,
          4.2,
          3.09,
          3.95,
          0.12,
          4.47,
          2.16,
          0.83,
          0.76,
          0.24,
          3.41,
          2.75,
          1.14,
          1.98,
          3.06,
          4.34,
          3.77,
          1.56,
          2.82,
          0.24,
          2.13,
          1.02,
          3.79,
          3.4,
          1.42,
          3.53,
          2.02,
          2.71,
          0.99,
          0.1,
          2.03,
          0.24,
          0.58,
          1.11,
          4.6,
          2.77,
          0.23,
          2.53,
          2.69,
          3.56,
          4.95,
          3.92,
          0.98,
          0.52,
          4.96,
          0.09,
          0.01,
          0.06,
          0.07,
          0.17,
          0.27,
          0.06,
          0.1,
          0.08,
          0.09,
          0.08,
          0.03,
          0.07,
          0.24,
          0.02,
          0.34,
          0.03,
          0.12,
          0.16,
          0.24,
          0.05,
          0.17,
          0.01,
          0.05,
          0.03,
          0.1,
          0.29,
          0.01,
          0.05,
          0.1,
          0.07,
          0.28,
          0.01,
          0.05,
          0.18,
          0.08,
          0.03,
          0.07,
          0.09,
          0.29,
          0.1,
          0.09,
          0.04,
          0.13,
          0.16,
          0.09,
          0.02,
          0.05,
          0,
          0.04,
          0.02,
          0.09,
          0.09,
          0.06,
          0.05,
          0.13,
          0.27,
          0.09,
          0.14,
          0.03,
          0.22,
          0.07,
          0.13,
          0.12,
          0.18,
          0.12,
          0.39,
          0.01,
          0.11,
          0.05,
          0.03,
          0.04,
          0.33,
          0.03,
          0.03,
          0.05,
          0.12,
          0.26,
          0.02,
          0.02,
          0.03,
          0.07,
          0.16,
          0.05,
          0.19,
          0.05,
          0.08,
          0.06,
          0.09,
          0.2,
          0.06,
          0.19,
          0.02,
          0.22,
          0.01,
          0.06,
          0.39,
          0.02,
          0.06,
          0.06,
          0.05,
          0.1,
          0.07,
          0.07,
          0.06,
          0.05,
          0.07,
          0.02,
          0.07,
          0.03,
          0.02,
          0.05,
          0.06,
          0.06,
          0.01,
          0.09,
          0.05,
          0.03,
          0.1,
          0.03,
          0.08,
          0.02,
          0.04,
          0.09,
          0.04,
          0.05,
          0.08,
          0.04,
          0.03,
          0.09,
          0.04,
          0.01,
          0.07,
          0.08,
          0.06,
          0,
          0.04,
          0.07,
          0.09,
          0.01,
          0.06,
          0.02,
          0.02,
          0.04,
          0.06,
          0.03,
          0.03,
          0.03,
          0.06,
          0.05,
          0.06,
          0.04,
          0.06,
          0.03,
          0.05,
          0.06,
          0.09,
          0,
          0.03,
          0.01,
          0.07,
          0.04,
          0.05,
          0.08,
          0.06,
          0.04,
          0.08,
          0.01,
          0.07,
          0.09,
          0.1,
          0.06,
          0.04,
          0.01,
          0.02,
          0.06,
          0.01,
          0.1,
          0.04,
          0.01,
          0.07,
          0.09,
          0.08,
          0.07,
          0.08,
          0.08,
          0.01,
          0.09,
          0,
          0.04,
          0.03,
          0.09,
          0.05,
          0.07,
          0.08,
          0.09,
          0.02,
          0.09,
          0.1,
          0.05,
          0.02,
          0.03,
          0.04,
          0.07,
          0.03,
          0.04,
          0.02,
          0.05,
          0.05,
          0.09,
          0.01,
          0.04
         ],
         "y": [
          0.34,
          0.27,
          0.45,
          0.06,
          0.19,
          0.25,
          0.31,
          0.48,
          0.06,
          0.38,
          0.05,
          0.47,
          0.12,
          0.4,
          0.1,
          0.13,
          0.01,
          0.16,
          0.47,
          0.26,
          0.2,
          0.11,
          0.48,
          0.05,
          0.16,
          0.37,
          0.35,
          0.46,
          0,
          0.43,
          0.42,
          0.03,
          0.27,
          0.12,
          0.24,
          0.21,
          0.35,
          0.24,
          0.18,
          0.48,
          0.17,
          0.33,
          0.26,
          0.02,
          0.43,
          0.31,
          0.37,
          0.21,
          0.17,
          0.32,
          0.41,
          0.09,
          0.08,
          0.32,
          0.1,
          0.12,
          0.26,
          0.03,
          0.15,
          0.14,
          0.21,
          0.11,
          0.38,
          0.27,
          0.17,
          0.03,
          0.38,
          0.42,
          0.47,
          0.12,
          0.31,
          0.1,
          0.05,
          0.03,
          0.4,
          0.38,
          0.01,
          0.09,
          0.5,
          0.41,
          0.2,
          0.28,
          0.11,
          0.46,
          0.34,
          0.15,
          0.32,
          0.11,
          0.01,
          0.44,
          0,
          0.4,
          0.16,
          0.41,
          0.44,
          0.44,
          0.03,
          0.31,
          0.18,
          0.44,
          0.27,
          0.02,
          0.13,
          0.24,
          0.33,
          0.05,
          0.04,
          0.42,
          0.11,
          0.48,
          0.42,
          0.15,
          0.4,
          0.36,
          0.42,
          0.04,
          0.23,
          0.14,
          0.25,
          0.03,
          0.15,
          0.2,
          0.01,
          0.07,
          0.09,
          0.42,
          0.03,
          0.02,
          0.12,
          0.08,
          0.15,
          0.13,
          0.33,
          0.03,
          0.3,
          0.37,
          0.04,
          0.08,
          0.08,
          0.24,
          0.04,
          0.29,
          0.19,
          0.34,
          0.48,
          0.11,
          0.47,
          0.33,
          0.04,
          0.07,
          0.49,
          0.05,
          0.44,
          0.44,
          0.12,
          0.07,
          0.49,
          0.35,
          0.43,
          0.17,
          0.33,
          0.05,
          0.05,
          0.49,
          0.19,
          0.47,
          0.36,
          0.38,
          0.22,
          0.07,
          0.4,
          0.32,
          0.19,
          0.04,
          0.02,
          0.33,
          0.15,
          0.27,
          0.16,
          0.07,
          0.06,
          0.38,
          0.4,
          0.49,
          0.17,
          0.12,
          0.06,
          0.49,
          0.4,
          0.47,
          0.39,
          0.31,
          0.27,
          0.15,
          0.27,
          0.16,
          0.27,
          0.2,
          0.42,
          0.01,
          0.37,
          0.5,
          0.11,
          0.04,
          0.18,
          0.12,
          0.38,
          0.24,
          0.03,
          0.39,
          0.18,
          0.32,
          0.24,
          0.2,
          0.1,
          0.17,
          0.15,
          0.1,
          0.23,
          0.1,
          0.18,
          0.28,
          0.48,
          0.02,
          0.07,
          0.24,
          0.43,
          0.35,
          0.21,
          0.29,
          0.45,
          0.35,
          0.12,
          0.47,
          0.45,
          0.26,
          0.29,
          0.23,
          0.13,
          0.15,
          0.02,
          0.41,
          0.36,
          0.06,
          0.44,
          0.48,
          0.26,
          0.09,
          0.04,
          0.45,
          0.01,
          0.09,
          0.08,
          0.37,
          0.13,
          0.14,
          0.12,
          0.17,
          0.31,
          0.45,
          0.23,
          0.12,
          0.41,
          0.08,
          0.38,
          0.3,
          0.45,
          0.25,
          0.3,
          0.29,
          0.27,
          0.36,
          0.45,
          0.31,
          0.18,
          0.45,
          0.08,
          0.2,
          0.07,
          0.39,
          0.42,
          0.27,
          0.09,
          0.37,
          0.39,
          0.27,
          0.47,
          0.22,
          0.18,
          0.42,
          0.21,
          0.29,
          0.42,
          0.21,
          0.05,
          0.29,
          0.32,
          0.32,
          0.39,
          0.33,
          0.42,
          0.23,
          0.18,
          0.24,
          0.04,
          0.12,
          0.06,
          0.27,
          0.1,
          0.16,
          0.41,
          0.33,
          0.49,
          0.49,
          0.27,
          0.48,
          0.45,
          0.26,
          0.25,
          0.32,
          0.19,
          0.02,
          0.23,
          0.15,
          0.06,
          0.08,
          0.42,
          0.44,
          0.26,
          0.33,
          0.06,
          0.25,
          0.16,
          0.18,
          0.07,
          0.06,
          0.3,
          0.41,
          0.03,
          0.1,
          0.1,
          0.45,
          0.34,
          0.48,
          0.18,
          0.49,
          0.47,
          0.24,
          0.2,
          0.39,
          0.21,
          0.4,
          0.28,
          0.47,
          0.05,
          0.03,
          0.33,
          0.03,
          0.42,
          0.02,
          0.3,
          0.23,
          0.27,
          0.42,
          0.09,
          0.42,
          0.45,
          0.43,
          0.35,
          0.5,
          0.38,
          0.27,
          0.42,
          0.33,
          0.11,
          0.11,
          0.49,
          0.18,
          0.41,
          0.36,
          0.12,
          0.19,
          0.02,
          0.25,
          0.44,
          0.21,
          0.22,
          0.38,
          0.4,
          0.17,
          0.31,
          0.46,
          0.21,
          0.41,
          0.01,
          0.19,
          0.31,
          0.43,
          0.49,
          0.46,
          0.35,
          0.05,
          0.22,
          0.32,
          0.07,
          0.15,
          0.26,
          0.15,
          0.39,
          0.41,
          0.28,
          0.48,
          0.11,
          0.39,
          0.24,
          0.33,
          0.11,
          0.16,
          0.08,
          0.17,
          0.36,
          0.13,
          0.21,
          0.22,
          0.09,
          0.2,
          0.05,
          0.37,
          0.33,
          0.12,
          0.28,
          0.42,
          0.17,
          0.48,
          0.21,
          0.08,
          0.08,
          0.18,
          0.41,
          0.1,
          0.27,
          0.41,
          0.18,
          0.23,
          0.22,
          0.03,
          0.04,
          0.21,
          0.25,
          0.21,
          0.09,
          0.4,
          0.32,
          0.41,
          0.5,
          0.28,
          0.32,
          0.29,
          0.34,
          0.18,
          0.45,
          0.07,
          0.05,
          0.47,
          0.36,
          0.37,
          0.1,
          0.4,
          0.4,
          0.42,
          0.21,
          0.14,
          0.4,
          0.09,
          0.13,
          0.25,
          0.33,
          0.06,
          0.03,
          0.03,
          0.23,
          0.39,
          0.45,
          0.26,
          0.43,
          0.08,
          0.28,
          0.17,
          0.31,
          0.05,
          0.47,
          0.34,
          0.48,
          0.22,
          0.17,
          0.03,
          0.22,
          0.29,
          0.01,
          0.21,
          0.28,
          0.11,
          0.04,
          0.13,
          0.03,
          0.31,
          0.43,
          0.2,
          0.18,
          0.47,
          0.49,
          0.06,
          0.24,
          0.24,
          0.06,
          0.01,
          0.16,
          0.41,
          0.11,
          0.42,
          0.37,
          0.16,
          0,
          0.39,
          0.26,
          0.17,
          0.31,
          0.37,
          0.34,
          0.43,
          0.08,
          0,
          0.11,
          0.1,
          0.49,
          0.34,
          0.11,
          0.05,
          0.49,
          0.5,
          0.03,
          0.22,
          0.37,
          0.12,
          0.23,
          0.17,
          0.44,
          0.46,
          0.39,
          0.02,
          0.19,
          0.2,
          0.08,
          0.49,
          0.27,
          0.18,
          0.13,
          0.04,
          0.45,
          0.47,
          0.29,
          0.19,
          0.23,
          0.21,
          0.3,
          0.23,
          0.19,
          0.45,
          0.04,
          0.07,
          0.05,
          0.38,
          0.09,
          0.42,
          0.38,
          0.11,
          0.04,
          0.41,
          0.29,
          0.03,
          0.11,
          0.13,
          0.47,
          0.34,
          0.36,
          0.21,
          0.43,
          0.33,
          0.26,
          0.2,
          0.07,
          0.16,
          0.36,
          0.24,
          0.37,
          0.19,
          0.46,
          0.19,
          0.41,
          0.13,
          0.26,
          0.06,
          0.29,
          0.07,
          0.23,
          0.37,
          0.49,
          0.21,
          0.13,
          0.14,
          0.42,
          0.01,
          0.02,
          0.48,
          0.04,
          0.35,
          0.3,
          0.2,
          0.24,
          0.43,
          0.3,
          0.05,
          0.44,
          0.04,
          0.13,
          0.06,
          0.13,
          0.06,
          0.37,
          0.01,
          0.13,
          0.25,
          0.42,
          0.07,
          0.12,
          0.06,
          0.45,
          0.42,
          0.27,
          0.35,
          0.24,
          0.07,
          0.07,
          0.19,
          0.49,
          0.01,
          0.46,
          0.24,
          0.05,
          0.14,
          0.05,
          0.06,
          0.01,
          0,
          0.1,
          0.08,
          0.02,
          0.09,
          0.01,
          0,
          0.03,
          0.1,
          0.07,
          0.05,
          0.06,
          0.1,
          0.05,
          0.1,
          0.02,
          0.01,
          0.05,
          0.1,
          0.03,
          0.06,
          0.07,
          0.05,
          0.09,
          0.05,
          0.07,
          0.05,
          0.08,
          0.05,
          0.08,
          0.05,
          0.06,
          0.1,
          0,
          0.05,
          0.03,
          0.04,
          0.09,
          0.04,
          0.03,
          0.01,
          0.04,
          0.04,
          0.06,
          0.03,
          0.07,
          0.07,
          0.06,
          0.01,
          0,
          0.1,
          0.03,
          0.02,
          0.09,
          0.01,
          0,
          0.04,
          0.03,
          0.1,
          0.03,
          0.07,
          0.05,
          0.06,
          0.1,
          0.05,
          0.1,
          0.02,
          0.01,
          0.05,
          0.1,
          0.03,
          0.06,
          0.05,
          0.09,
          0.05,
          0.07,
          0.05,
          0.08,
          0.05,
          0.08,
          0.05,
          0.06,
          0.1,
          0,
          0.05,
          0.03,
          0.04,
          0.09,
          0.04,
          0.03,
          0.01,
          0.04,
          0.06,
          0.03,
          0.07,
          0.07,
          0.06,
          0.01,
          0,
          0.1,
          0.08,
          0.02,
          0.09,
          0.01,
          0,
          0.03,
          0.1,
          0.07,
          0.05,
          0.06,
          0.1,
          0.05,
          0.1,
          0.02,
          0.01,
          0.05,
          0.1,
          0.03,
          0.06,
          0.07,
          0.05,
          0.09,
          0.05,
          0.07,
          0.05,
          0.08,
          0.05,
          0.08,
          0.05,
          0.06,
          0.1,
          0,
          0.05,
          0.03,
          0.04,
          0.09,
          0.04,
          0.03,
          0.01,
          0.04,
          0.04,
          0.06,
          0.03,
          0.07,
          0.07,
          0.04,
          0.01,
          0.04,
          0.02,
          0.09,
          0.01,
          0,
          0.07,
          0,
          0.05,
          0.08,
          0.05,
          0.04,
          0.08,
          0.05,
          0.02,
          0.03,
          0.06,
          0.01,
          0.02,
          0.09,
          0.03,
          0.01,
          0.06,
          0.07,
          0.02,
          0.07,
          0,
          0.1,
          0.03,
          0.09,
          0.07,
          0.06,
          0.04,
          0.03,
          0.03,
          0.01,
          0.02,
          0.01,
          0.04,
          0.08,
          0.07,
          0.07,
          0.01,
          0.02,
          0.04,
          0.04,
          0.04,
          0.01,
          0.1,
          0.01,
          0.06,
          0.02,
          0.07,
          0.08,
          0.05,
          0.05,
          0.01,
          0.05,
          0.03,
          0.09,
          0.08,
          0.08,
          0.01,
          0.09,
          0.04,
          0.04,
          0.03,
          0.02,
          0.05,
          0.06,
          0.04,
          0.09,
          0.05,
          0.03,
          0.09,
          0.06,
          0.02,
          0.02,
          0.04,
          0.04,
          0.03,
          0.03,
          0.01,
          0.08,
          0.05,
          0,
          0.1,
          0.03,
          0.01,
          0.02,
          0.09,
          0.04,
          0.1,
          0.04,
          0.05,
          0.04,
          0.02,
          0.06,
          0.03,
          0.08,
          0.02,
          0.03,
          0,
          0.08,
          0.09,
          0.04,
          0.03,
          0.07,
          0.06,
          0.1,
          0.04,
          0,
          0.04
         ],
         "z": [
          37.75,
          32.26,
          9.12,
          16.9,
          27.17,
          23.43,
          30.42,
          21.52,
          22.12,
          26.8,
          17.54,
          11.16,
          0.18,
          19.4,
          24.29,
          21.79,
          14.6,
          34.64,
          39.4,
          44.76,
          24.91,
          24.61,
          20.32,
          14.16,
          36.52,
          24.84,
          0.73,
          23.6,
          17.24,
          21.79,
          16.99,
          28.03,
          11,
          5.2,
          10.21,
          13.9,
          30.41,
          31.6,
          2.75,
          14.98,
          40.47,
          23.25,
          29.55,
          34.47,
          29.48,
          18.61,
          33.95,
          3.77,
          25.97,
          8.33,
          27.48,
          15.08,
          3.26,
          38.31,
          6.24,
          21.89,
          21.87,
          5.73,
          8.65,
          46.24,
          34.48,
          10.88,
          39.05,
          10.75,
          31.57,
          6.87,
          10.62,
          33.02,
          3.47,
          28.47,
          32.48,
          25.77,
          33.97,
          22.9,
          33.24,
          21.38,
          37.15,
          14.55,
          4.28,
          15.3,
          0.91,
          1.02,
          42.15,
          6.89,
          49.49,
          35.76,
          8.41,
          11.49,
          47.93,
          53.23,
          18.68,
          17.62,
          22.76,
          20.28,
          21.22,
          25.15,
          16.42,
          17.53,
          19.33,
          14.24,
          19.6,
          15.98,
          20.14,
          44.88,
          10.72,
          18.43,
          1.25,
          22.58,
          33.89,
          53.46,
          4.72,
          21.12,
          3.24,
          47.47,
          16,
          4.59,
          27.95,
          15.96,
          34.97,
          32.94,
          33.8,
          4.51,
          40.53,
          37.89,
          30.36,
          0.54,
          30.86,
          19.55,
          6.22,
          21.46,
          48.75,
          26.27,
          30.49,
          42.85,
          25.81,
          24.01,
          32.55,
          23.58,
          27.53,
          28.79,
          40.52,
          47.78,
          1.89,
          8.3,
          2.43,
          47.92,
          29.73,
          5.44,
          28.71,
          22.15,
          30.91,
          35.17,
          36.59,
          16.9,
          5.67,
          26.88,
          16.39,
          30.25,
          7.96,
          14.91,
          12.99,
          24.76,
          27.75,
          0.58,
          13.09,
          2.43,
          22.17,
          13.46,
          4.89,
          40.92,
          10.82,
          6.7,
          29.96,
          1.09,
          1.17,
          25.43,
          11.2,
          17.72,
          32.91,
          8.7,
          0.31,
          19.37,
          21.67,
          51.76,
          24.8,
          35.86,
          38.2,
          14.31,
          25.55,
          33.34,
          19.09,
          29.45,
          13.86,
          48.1,
          27.89,
          21.92,
          19.99,
          29.4,
          24.98,
          0.34,
          18.2,
          30.01,
          23.35,
          31.36,
          13.89,
          13.01,
          12.9,
          27.88,
          12.94,
          27.6,
          18.51,
          31.13,
          3.49,
          36.04,
          13.03,
          2.63,
          7.62,
          33.17,
          44.16,
          27.56,
          14.7,
          50.82,
          31.62,
          1.12,
          36.46,
          29.81,
          30.21,
          40.27,
          32.35,
          8.56,
          41.01,
          3.3,
          42.43,
          15.21,
          46.85,
          6.36,
          40.62,
          25.23,
          9.33,
          4.32,
          16.21,
          30.24,
          43.27,
          51.54,
          6.92,
          11.04,
          10,
          5.87,
          34.99,
          17.68,
          43.22,
          32.15,
          39.65,
          6.17,
          44.54,
          0.4,
          6.97,
          1.05,
          9.67,
          50.04,
          36.36,
          13.75,
          15.52,
          5.72,
          12.48,
          3.99,
          29.35,
          37.41,
          10.01,
          15.29,
          47.83,
          24.13,
          24.98,
          22,
          26.22,
          14.24,
          8.62,
          12.93,
          10.44,
          11.36,
          27.25,
          21.94,
          29.98,
          28.58,
          39.12,
          9.33,
          41.93,
          16.55,
          5.91,
          3.23,
          16.85,
          13.3,
          9.72,
          25.89,
          1.22,
          7.63,
          38.32,
          3.17,
          29.85,
          4.27,
          16.75,
          33.56,
          8.75,
          47.83,
          26.42,
          4.51,
          23.26,
          20.86,
          36.49,
          38.53,
          11.39,
          36.32,
          15.73,
          5.74,
          38.53,
          19.53,
          33.11,
          3.43,
          27.25,
          31.08,
          16.31,
          18.64,
          23.22,
          26.57,
          3.3,
          1.87,
          31.24,
          14.78,
          20.9,
          0.74,
          25.95,
          29,
          26.15,
          56.89,
          2.08,
          0.33,
          37.13,
          3.14,
          6.43,
          18.77,
          20.55,
          38.27,
          15.84,
          15.26,
          29.3,
          24.73,
          14.49,
          34.68,
          22.43,
          23.36,
          15.47,
          18.03,
          14.71,
          15.81,
          18.52,
          51.29,
          28.03,
          15.42,
          40.75,
          2.88,
          18.88,
          21.35,
          25.24,
          6.86,
          0.48,
          15.8,
          17.72,
          0.9,
          7.6,
          28.44,
          53.36,
          42.98,
          17.04,
          36.11,
          6.39,
          17.62,
          2.16,
          24.43,
          5.89,
          5.35,
          30.09,
          11.52,
          17.71,
          24.82,
          10.95,
          34.91,
          9.55,
          9.01,
          45.28,
          8.02,
          45.85,
          24.53,
          44.5,
          19.33,
          7.24,
          34.7,
          11.97,
          30.09,
          7.88,
          3.13,
          10.48,
          13.59,
          1.49,
          55.45,
          47.49,
          10.16,
          32.08,
          5.01,
          31.84,
          7.01,
          29.27,
          19.26,
          22.35,
          20.7,
          30.79,
          13.32,
          16.74,
          39.45,
          11.1,
          7.3,
          16.24,
          7.51,
          10.5,
          33.87,
          24.65,
          22.24,
          13.29,
          41.66,
          32.32,
          21.31,
          31.59,
          28.2,
          25.23,
          26.68,
          9.13,
          11.3,
          28.26,
          3.98,
          3.38,
          28.76,
          8,
          9.66,
          1.95,
          9.82,
          4.14,
          1.35,
          19.72,
          18.38,
          17.89,
          14.92,
          36.9,
          16.17,
          1.7,
          1.56,
          31.78,
          10.93,
          23.72,
          30.05,
          11.83,
          7.69,
          22.03,
          10.49,
          44.62,
          13.14,
          20.36,
          29,
          23.22,
          28.46,
          9.06,
          25.84,
          12.9,
          7.82,
          39.06,
          1.88,
          19.46,
          16.35,
          2.87,
          16.47,
          26.12,
          14.67,
          4.79,
          15.09,
          4.79,
          19.77,
          11.39,
          25.83,
          21.38,
          9.56,
          22.88,
          32.6,
          13.88,
          41.91,
          36.15,
          2.72,
          27.84,
          42.42,
          28.19,
          16.54,
          10.45,
          4.8,
          51.03,
          26.53,
          14.49,
          16.41,
          14.45,
          18.48,
          32.51,
          25.03,
          26.65,
          8.04,
          15.84,
          22.42,
          22.12,
          16.61,
          24.25,
          15.13,
          25.05,
          18.56,
          25.36,
          14.95,
          6.99,
          5.85,
          22.66,
          36.39,
          24.1,
          34.01,
          36.76,
          38.55,
          9.71,
          1.19,
          15.45,
          21.2,
          11.27,
          13.01,
          2.55,
          12.64,
          12.17,
          34.44,
          13.7,
          3.18,
          46.81,
          41.53,
          21,
          31.54,
          12.23,
          19.88,
          43.75,
          33.36,
          15.5,
          13.04,
          6.02,
          16.15,
          2.61,
          41.33,
          46,
          13.79,
          37.48,
          21.86,
          10.56,
          12.85,
          0.77,
          26.8,
          34.59,
          27.97,
          2.59,
          34.36,
          27.45,
          18.24,
          7.93,
          9.83,
          24.43,
          28.19,
          41.23,
          12.48,
          6.7,
          26.27,
          27.44,
          22.13,
          15.06,
          2.64,
          13.93,
          14.97,
          10.24,
          39.38,
          11.52,
          19.19,
          4.4,
          12.7,
          44.67,
          7.51,
          16.91,
          34.35,
          18.51,
          38.44,
          37.35,
          1.01,
          32.92,
          7,
          23.89,
          0.07,
          11.12,
          21.71,
          30.27,
          0.13,
          12.71,
          24.83,
          12.21,
          43.79,
          28.73,
          28.21,
          30.95,
          33.77,
          22.73,
          42.56,
          57,
          15.32,
          16.62,
          22.59,
          22.62,
          8.76,
          26.43,
          38.03,
          14.42,
          55.72,
          4.46,
          5.54,
          46.47,
          43.04,
          0.8,
          4.06,
          6.85,
          28.11,
          16.34,
          23.76,
          28.9,
          30.52,
          16.09,
          2.35,
          38.71,
          21.54,
          31.48,
          10.49,
          11.36,
          20.38,
          13.74,
          22.32,
          4.77,
          37.2,
          11.55,
          16.06,
          5.61,
          27.28,
          17.27,
          44.68,
          48.31,
          8.68,
          36.11,
          4.39,
          37.84,
          17.69,
          47.49,
          30.1,
          30.96,
          43.67,
          14.52,
          53.77,
          39.43,
          45.06,
          46.97,
          24.79,
          42.6,
          38.67,
          38.76,
          29.2,
          15.98,
          51.78,
          15.87,
          1.6,
          31.45,
          41.84,
          28.6,
          31.93,
          30.22,
          13.21,
          18.12,
          25.24,
          11.37,
          40.49,
          41.73,
          40.7,
          12.73,
          22.15,
          14.03,
          22.91,
          16.22,
          8.79,
          46.3,
          46.58,
          29.05,
          37.47,
          16.9,
          39.31,
          17.24,
          6.24,
          5.73,
          50.87,
          14.55,
          47.93,
          18.68,
          4.59,
          36.15,
          27.45,
          42.85,
          22.15,
          35.17,
          38.2,
          41.46,
          33.01,
          33.17,
          16.21,
          43.22,
          1.22,
          36.49,
          37.78,
          25.95,
          18.52,
          0.48,
          13.59,
          48.98,
          13.29,
          11.3,
          45.83,
          54.13,
          44.62,
          24.25,
          32.54,
          21.2,
          34.44,
          46.81,
          21.86,
          41.23,
          27.44,
          2.64,
          33.77,
          48.37,
          5.54,
          46.27,
          23.76,
          11.36,
          27.38,
          17.3,
          44.74,
          48.55,
          8.68,
          35.54,
          4.5,
          37.97,
          17.68,
          48.07,
          29.57,
          31,
          43.03,
          14.44,
          53.73,
          39.78,
          44.59,
          46.86,
          24.29,
          42.68,
          38.03,
          39.3,
          29.09,
          15.64,
          51.42,
          16.05,
          1.65,
          31.6,
          41.78,
          28.51,
          32.03,
          30.34,
          13.35,
          18.02,
          25.22,
          11.32,
          39.67,
          41.75,
          40.75,
          12.54,
          22.17,
          14,
          23.36,
          15.68,
          8.81,
          47.08,
          46.78,
          29.06,
          37.26,
          0.38,
          0.44,
          2.57,
          0.04,
          8.02,
          4.12,
          6.18,
          0.23,
          0.02,
          0.4,
          2.74,
          2.17,
          0.17,
          7.39,
          0.22,
          0.84,
          0.04,
          2.03,
          0.52,
          0.12,
          1.18,
          11.23,
          8.47,
          0.44,
          6.92,
          3.17,
          7.45,
          10.06,
          8.49,
          0.45,
          1.32,
          0.52,
          6.08,
          2.35,
          0.08,
          0.42,
          2.62,
          9.71,
          4.38,
          0.09,
          2.72,
          3.4,
          1.8,
          1.64,
          3.88,
          0.43,
          3.03,
          4.81,
          2.43,
          1.72,
          0.28,
          0.37,
          0.38,
          8.53,
          1.19,
          2.62,
          1.51,
          6.28,
          2.35,
          4.61,
          0.22,
          7.07,
          11.08,
          1.35,
          2.08,
          3.51,
          7.89,
          1.83,
          5.61,
          0.14,
          1.36,
          0.01,
          6.56,
          11.84,
          3.45,
          1.53,
          0.67,
          10.85,
          2.7,
          0.21,
          3.82,
          2.4,
          1.28,
          0.07,
          0.35,
          3.63,
          2.29,
          9.02,
          0.09,
          1.44,
          4.74,
          3.13,
          2.97,
          5.89,
          0.04,
          8.45,
          8.12,
          0.14,
          8.77,
          0.7,
          0.55,
          0.01,
          4.64,
          3.15,
          0.99,
          1.5,
          7.18,
          0.34,
          1.68,
          3.57,
          1.48,
          1.35,
          0,
          1.35
         ]
        }
       ],
       "layout": {
        "height": 900,
        "legend": {
         "orientation": "h",
         "title": {
          "text": "is_safe"
         },
         "tracegroupgap": 0,
         "x": 0.5,
         "xanchor": "center",
         "y": 0,
         "yanchor": "top"
        },
        "margin": {
         "b": 0,
         "l": 0,
         "r": 0,
         "t": 0
        },
        "scene": {
         "camera": {
          "center": {
           "x": 0,
           "y": 0,
           "z": -0.2
          },
          "eye": {
           "x": -1.5,
           "y": 1.5,
           "z": 0.5
          },
          "up": {
           "x": 0,
           "y": 0,
           "z": 1
          }
         },
         "domain": {
          "x": [
           0,
           1
          ],
          "y": [
           0,
           1
          ]
         },
         "xaxis": {
          "backgroundcolor": "white",
          "color": "black",
          "gridcolor": "#f0f0f0",
          "tickfont": {
           "size": 10
          },
          "title": {
           "font": {
            "size": 10
           },
           "text": "aluminium"
          }
         },
         "yaxis": {
          "backgroundcolor": "white",
          "color": "black",
          "gridcolor": "#f0f0f0",
          "tickfont": {
           "size": 10
          },
          "title": {
           "font": {
            "size": 10
           },
           "text": "silver"
          }
         },
         "zaxis": {
          "backgroundcolor": "lightgrey",
          "color": "black",
          "gridcolor": "#f0f0f0",
          "tickfont": {
           "size": 10
          },
          "title": {
           "font": {
            "size": 10
           },
           "text": "perchlorate"
          }
         }
        },
        "showlegend": true,
        "template": {
         "data": {
          "bar": [
           {
            "error_x": {
             "color": "#2a3f5f"
            },
            "error_y": {
             "color": "#2a3f5f"
            },
            "marker": {
             "line": {
              "color": "#E5ECF6",
              "width": 0.5
             },
             "pattern": {
              "fillmode": "overlay",
              "size": 10,
              "solidity": 0.2
             }
            },
            "type": "bar"
           }
          ],
          "barpolar": [
           {
            "marker": {
             "line": {
              "color": "#E5ECF6",
              "width": 0.5
             },
             "pattern": {
              "fillmode": "overlay",
              "size": 10,
              "solidity": 0.2
             }
            },
            "type": "barpolar"
           }
          ],
          "carpet": [
           {
            "aaxis": {
             "endlinecolor": "#2a3f5f",
             "gridcolor": "white",
             "linecolor": "white",
             "minorgridcolor": "white",
             "startlinecolor": "#2a3f5f"
            },
            "baxis": {
             "endlinecolor": "#2a3f5f",
             "gridcolor": "white",
             "linecolor": "white",
             "minorgridcolor": "white",
             "startlinecolor": "#2a3f5f"
            },
            "type": "carpet"
           }
          ],
          "choropleth": [
           {
            "colorbar": {
             "outlinewidth": 0,
             "ticks": ""
            },
            "type": "choropleth"
           }
          ],
          "contour": [
           {
            "colorbar": {
             "outlinewidth": 0,
             "ticks": ""
            },
            "colorscale": [
             [
              0,
              "#0d0887"
             ],
             [
              0.1111111111111111,
              "#46039f"
             ],
             [
              0.2222222222222222,
              "#7201a8"
             ],
             [
              0.3333333333333333,
              "#9c179e"
             ],
             [
              0.4444444444444444,
              "#bd3786"
             ],
             [
              0.5555555555555556,
              "#d8576b"
             ],
             [
              0.6666666666666666,
              "#ed7953"
             ],
             [
              0.7777777777777778,
              "#fb9f3a"
             ],
             [
              0.8888888888888888,
              "#fdca26"
             ],
             [
              1,
              "#f0f921"
             ]
            ],
            "type": "contour"
           }
          ],
          "contourcarpet": [
           {
            "colorbar": {
             "outlinewidth": 0,
             "ticks": ""
            },
            "type": "contourcarpet"
           }
          ],
          "heatmap": [
           {
            "colorbar": {
             "outlinewidth": 0,
             "ticks": ""
            },
            "colorscale": [
             [
              0,
              "#0d0887"
             ],
             [
              0.1111111111111111,
              "#46039f"
             ],
             [
              0.2222222222222222,
              "#7201a8"
             ],
             [
              0.3333333333333333,
              "#9c179e"
             ],
             [
              0.4444444444444444,
              "#bd3786"
             ],
             [
              0.5555555555555556,
              "#d8576b"
             ],
             [
              0.6666666666666666,
              "#ed7953"
             ],
             [
              0.7777777777777778,
              "#fb9f3a"
             ],
             [
              0.8888888888888888,
              "#fdca26"
             ],
             [
              1,
              "#f0f921"
             ]
            ],
            "type": "heatmap"
           }
          ],
          "heatmapgl": [
           {
            "colorbar": {
             "outlinewidth": 0,
             "ticks": ""
            },
            "colorscale": [
             [
              0,
              "#0d0887"
             ],
             [
              0.1111111111111111,
              "#46039f"
             ],
             [
              0.2222222222222222,
              "#7201a8"
             ],
             [
              0.3333333333333333,
              "#9c179e"
             ],
             [
              0.4444444444444444,
              "#bd3786"
             ],
             [
              0.5555555555555556,
              "#d8576b"
             ],
             [
              0.6666666666666666,
              "#ed7953"
             ],
             [
              0.7777777777777778,
              "#fb9f3a"
             ],
             [
              0.8888888888888888,
              "#fdca26"
             ],
             [
              1,
              "#f0f921"
             ]
            ],
            "type": "heatmapgl"
           }
          ],
          "histogram": [
           {
            "marker": {
             "pattern": {
              "fillmode": "overlay",
              "size": 10,
              "solidity": 0.2
             }
            },
            "type": "histogram"
           }
          ],
          "histogram2d": [
           {
            "colorbar": {
             "outlinewidth": 0,
             "ticks": ""
            },
            "colorscale": [
             [
              0,
              "#0d0887"
             ],
             [
              0.1111111111111111,
              "#46039f"
             ],
             [
              0.2222222222222222,
              "#7201a8"
             ],
             [
              0.3333333333333333,
              "#9c179e"
             ],
             [
              0.4444444444444444,
              "#bd3786"
             ],
             [
              0.5555555555555556,
              "#d8576b"
             ],
             [
              0.6666666666666666,
              "#ed7953"
             ],
             [
              0.7777777777777778,
              "#fb9f3a"
             ],
             [
              0.8888888888888888,
              "#fdca26"
             ],
             [
              1,
              "#f0f921"
             ]
            ],
            "type": "histogram2d"
           }
          ],
          "histogram2dcontour": [
           {
            "colorbar": {
             "outlinewidth": 0,
             "ticks": ""
            },
            "colorscale": [
             [
              0,
              "#0d0887"
             ],
             [
              0.1111111111111111,
              "#46039f"
             ],
             [
              0.2222222222222222,
              "#7201a8"
             ],
             [
              0.3333333333333333,
              "#9c179e"
             ],
             [
              0.4444444444444444,
              "#bd3786"
             ],
             [
              0.5555555555555556,
              "#d8576b"
             ],
             [
              0.6666666666666666,
              "#ed7953"
             ],
             [
              0.7777777777777778,
              "#fb9f3a"
             ],
             [
              0.8888888888888888,
              "#fdca26"
             ],
             [
              1,
              "#f0f921"
             ]
            ],
            "type": "histogram2dcontour"
           }
          ],
          "mesh3d": [
           {
            "colorbar": {
             "outlinewidth": 0,
             "ticks": ""
            },
            "type": "mesh3d"
           }
          ],
          "parcoords": [
           {
            "line": {
             "colorbar": {
              "outlinewidth": 0,
              "ticks": ""
             }
            },
            "type": "parcoords"
           }
          ],
          "pie": [
           {
            "automargin": true,
            "type": "pie"
           }
          ],
          "scatter": [
           {
            "marker": {
             "colorbar": {
              "outlinewidth": 0,
              "ticks": ""
             }
            },
            "type": "scatter"
           }
          ],
          "scatter3d": [
           {
            "line": {
             "colorbar": {
              "outlinewidth": 0,
              "ticks": ""
             }
            },
            "marker": {
             "colorbar": {
              "outlinewidth": 0,
              "ticks": ""
             }
            },
            "type": "scatter3d"
           }
          ],
          "scattercarpet": [
           {
            "marker": {
             "colorbar": {
              "outlinewidth": 0,
              "ticks": ""
             }
            },
            "type": "scattercarpet"
           }
          ],
          "scattergeo": [
           {
            "marker": {
             "colorbar": {
              "outlinewidth": 0,
              "ticks": ""
             }
            },
            "type": "scattergeo"
           }
          ],
          "scattergl": [
           {
            "marker": {
             "colorbar": {
              "outlinewidth": 0,
              "ticks": ""
             }
            },
            "type": "scattergl"
           }
          ],
          "scattermapbox": [
           {
            "marker": {
             "colorbar": {
              "outlinewidth": 0,
              "ticks": ""
             }
            },
            "type": "scattermapbox"
           }
          ],
          "scatterpolar": [
           {
            "marker": {
             "colorbar": {
              "outlinewidth": 0,
              "ticks": ""
             }
            },
            "type": "scatterpolar"
           }
          ],
          "scatterpolargl": [
           {
            "marker": {
             "colorbar": {
              "outlinewidth": 0,
              "ticks": ""
             }
            },
            "type": "scatterpolargl"
           }
          ],
          "scatterternary": [
           {
            "marker": {
             "colorbar": {
              "outlinewidth": 0,
              "ticks": ""
             }
            },
            "type": "scatterternary"
           }
          ],
          "surface": [
           {
            "colorbar": {
             "outlinewidth": 0,
             "ticks": ""
            },
            "colorscale": [
             [
              0,
              "#0d0887"
             ],
             [
              0.1111111111111111,
              "#46039f"
             ],
             [
              0.2222222222222222,
              "#7201a8"
             ],
             [
              0.3333333333333333,
              "#9c179e"
             ],
             [
              0.4444444444444444,
              "#bd3786"
             ],
             [
              0.5555555555555556,
              "#d8576b"
             ],
             [
              0.6666666666666666,
              "#ed7953"
             ],
             [
              0.7777777777777778,
              "#fb9f3a"
             ],
             [
              0.8888888888888888,
              "#fdca26"
             ],
             [
              1,
              "#f0f921"
             ]
            ],
            "type": "surface"
           }
          ],
          "table": [
           {
            "cells": {
             "fill": {
              "color": "#EBF0F8"
             },
             "line": {
              "color": "white"
             }
            },
            "header": {
             "fill": {
              "color": "#C8D4E3"
             },
             "line": {
              "color": "white"
             }
            },
            "type": "table"
           }
          ]
         },
         "layout": {
          "annotationdefaults": {
           "arrowcolor": "#2a3f5f",
           "arrowhead": 0,
           "arrowwidth": 1
          },
          "autotypenumbers": "strict",
          "coloraxis": {
           "colorbar": {
            "outlinewidth": 0,
            "ticks": ""
           }
          },
          "colorscale": {
           "diverging": [
            [
             0,
             "#8e0152"
            ],
            [
             0.1,
             "#c51b7d"
            ],
            [
             0.2,
             "#de77ae"
            ],
            [
             0.3,
             "#f1b6da"
            ],
            [
             0.4,
             "#fde0ef"
            ],
            [
             0.5,
             "#f7f7f7"
            ],
            [
             0.6,
             "#e6f5d0"
            ],
            [
             0.7,
             "#b8e186"
            ],
            [
             0.8,
             "#7fbc41"
            ],
            [
             0.9,
             "#4d9221"
            ],
            [
             1,
             "#276419"
            ]
           ],
           "sequential": [
            [
             0,
             "#0d0887"
            ],
            [
             0.1111111111111111,
             "#46039f"
            ],
            [
             0.2222222222222222,
             "#7201a8"
            ],
            [
             0.3333333333333333,
             "#9c179e"
            ],
            [
             0.4444444444444444,
             "#bd3786"
            ],
            [
             0.5555555555555556,
             "#d8576b"
            ],
            [
             0.6666666666666666,
             "#ed7953"
            ],
            [
             0.7777777777777778,
             "#fb9f3a"
            ],
            [
             0.8888888888888888,
             "#fdca26"
            ],
            [
             1,
             "#f0f921"
            ]
           ],
           "sequentialminus": [
            [
             0,
             "#0d0887"
            ],
            [
             0.1111111111111111,
             "#46039f"
            ],
            [
             0.2222222222222222,
             "#7201a8"
            ],
            [
             0.3333333333333333,
             "#9c179e"
            ],
            [
             0.4444444444444444,
             "#bd3786"
            ],
            [
             0.5555555555555556,
             "#d8576b"
            ],
            [
             0.6666666666666666,
             "#ed7953"
            ],
            [
             0.7777777777777778,
             "#fb9f3a"
            ],
            [
             0.8888888888888888,
             "#fdca26"
            ],
            [
             1,
             "#f0f921"
            ]
           ]
          },
          "colorway": [
           "#636efa",
           "#EF553B",
           "#00cc96",
           "#ab63fa",
           "#FFA15A",
           "#19d3f3",
           "#FF6692",
           "#B6E880",
           "#FF97FF",
           "#FECB52"
          ],
          "font": {
           "color": "#2a3f5f"
          },
          "geo": {
           "bgcolor": "white",
           "lakecolor": "white",
           "landcolor": "#E5ECF6",
           "showlakes": true,
           "showland": true,
           "subunitcolor": "white"
          },
          "hoverlabel": {
           "align": "left"
          },
          "hovermode": "closest",
          "mapbox": {
           "style": "light"
          },
          "paper_bgcolor": "white",
          "plot_bgcolor": "#E5ECF6",
          "polar": {
           "angularaxis": {
            "gridcolor": "white",
            "linecolor": "white",
            "ticks": ""
           },
           "bgcolor": "#E5ECF6",
           "radialaxis": {
            "gridcolor": "white",
            "linecolor": "white",
            "ticks": ""
           }
          },
          "scene": {
           "xaxis": {
            "backgroundcolor": "#E5ECF6",
            "gridcolor": "white",
            "gridwidth": 2,
            "linecolor": "white",
            "showbackground": true,
            "ticks": "",
            "zerolinecolor": "white"
           },
           "yaxis": {
            "backgroundcolor": "#E5ECF6",
            "gridcolor": "white",
            "gridwidth": 2,
            "linecolor": "white",
            "showbackground": true,
            "ticks": "",
            "zerolinecolor": "white"
           },
           "zaxis": {
            "backgroundcolor": "#E5ECF6",
            "gridcolor": "white",
            "gridwidth": 2,
            "linecolor": "white",
            "showbackground": true,
            "ticks": "",
            "zerolinecolor": "white"
           }
          },
          "shapedefaults": {
           "line": {
            "color": "#2a3f5f"
           }
          },
          "ternary": {
           "aaxis": {
            "gridcolor": "white",
            "linecolor": "white",
            "ticks": ""
           },
           "baxis": {
            "gridcolor": "white",
            "linecolor": "white",
            "ticks": ""
           },
           "bgcolor": "#E5ECF6",
           "caxis": {
            "gridcolor": "white",
            "linecolor": "white",
            "ticks": ""
           }
          },
          "title": {
           "x": 0.05
          },
          "xaxis": {
           "automargin": true,
           "gridcolor": "white",
           "linecolor": "white",
           "ticks": "",
           "title": {
            "standoff": 15
           },
           "zerolinecolor": "white",
           "zerolinewidth": 2
          },
          "yaxis": {
           "automargin": true,
           "gridcolor": "white",
           "linecolor": "white",
           "ticks": "",
           "title": {
            "standoff": 15
           },
           "zerolinecolor": "white",
           "zerolinewidth": 2
          }
         }
        },
        "width": 900
       }
      },
      "text/html": [
       "<div>                            <div id=\"ddf69c1d-8ad7-4aa6-8046-dc9bc9abc0a6\" class=\"plotly-graph-div\" style=\"height:900px; width:900px;\"></div>            <script type=\"text/javascript\">                require([\"plotly\"], function(Plotly) {                    window.PLOTLYENV=window.PLOTLYENV || {};                                    if (document.getElementById(\"ddf69c1d-8ad7-4aa6-8046-dc9bc9abc0a6\")) {                    Plotly.newPlot(                        \"ddf69c1d-8ad7-4aa6-8046-dc9bc9abc0a6\",                        [{\"customdata\":[[0.31,0.04,\"0\"],[0.62,0.07,\"0\"],[0.44,0.02,\"0\"],[0.09,0.08,\"0\"],[6.59,0.03,\"0\"],[3.02,0.006,\"0\"],[0.1,0.02,\"0\"],[0.38,0.09,\"0\"],[5.24,0.008,\"0\"],[0.07,0.07,\"0\"],[0.04,0.04,\"0\"],[1.73,0.001,\"0\"],[0.05,0.05,\"0\"],[6.1,0.008,\"0\"],[6.95,0.01,\"0\"],[0.47,0.0,\"0\"],[0.03,0.09,\"0\"],[0.49,0.08,\"0\"],[0.56,0.0,\"0\"],[3.47,0.007,\"0\"],[0.19,0.01,\"0\"],[0.1,0.09,\"0\"],[4.23,0.07,\"0\"],[1.29,0.07,\"0\"],[2.32,0.004,\"0\"],[0.05,0.06,\"0\"],[5.14,0.008,\"0\"],[0.1,0.05,\"0\"],[7.36,0.006,\"0\"],[0.07,0.02,\"0\"],[0.51,0.12,\"0\"],[0.29,0.05,\"0\"],[0.16,0.09,\"0\"],[0.1,0.01,\"0\"],[0.02,0.1,\"0\"],[0.11,0.04,\"0\"],[6.19,0.008,\"0\"],[0.1,0.04,\"0\"],[0.12,0.07,\"0\"],[0.05,0.04,\"0\"],[0.02,0.05,\"0\"],[0.0,0.09,\"0\"],[0.96,0.03,\"0\"],[0.01,0.07,\"0\"],[3.67,0.1,\"0\"],[0.6,0.02,\"0\"],[3.88,0.01,\"0\"],[1.05,0.04,\"0\"],[0.02,0.0,\"0\"],[0.06,0.06,\"0\"],[2.68,0.05,\"0\"],[0.67,0.05,\"0\"],[0.17,0.08,\"0\"],[0.02,0.08,\"0\"],[0.18,0.02,\"0\"],[0.07,0.0,\"0\"],[0.63,0.02,\"0\"],[0.11,0.04,\"0\"],[0.27,0.07,\"0\"],[4.49,0.007,\"0\"],[0.03,0.01,\"0\"],[7.98,0.13,\"0\"],[0.21,0.02,\"0\"],[0.12,0.04,\"0\"],[5.54,0.06,\"0\"],[4.79,0.004,\"0\"],[1.84,0.03,\"0\"],[0.34,0.07,\"0\"],[0.08,0.05,\"0\"],[8.0,0.05,\"0\"],[0.14,0.09,\"0\"],[0.19,0.03,\"0\"],[3.53,0.01,\"0\"],[2.76,0.02,\"0\"],[0.64,0.07,\"0\"],[0.39,0.001,\"0\"],[0.02,0.05,\"0\"],[3.57,0.04,\"0\"],[0.14,0.04,\"0\"],[0.54,0.06,\"0\"],[0.46,0.05,\"0\"],[0.05,0.04,\"0\"],[0.53,0.03,\"0\"],[0.01,0.03,\"0\"],[6.5,0.01,\"0\"],[0.19,0.06,\"0\"],[4.25,0.008,\"0\"],[0.08,0.06,\"0\"],[0.39,0.09,\"0\"],[6.51,0.01,\"0\"],[5.37,0.04,\"0\"],[6.37,0.08,\"0\"],[0.42,0.06,\"0\"],[0.01,0.04,\"0\"],[0.3,0.03,\"0\"],[0.21,0.08,\"0\"],[6.26,0.008,\"0\"],[3.63,0.06,\"0\"],[0.31,0.07,\"0\"],[1.33,0.008,\"0\"],[7.5,0.12,\"0\"],[0.49,0.02,\"0\"],[0.01,0.09,\"0\"],[4.04,0.07,\"0\"],[4.16,0.004,\"0\"],[0.74,0.12,\"0\"],[7.15,0.01,\"0\"],[0.08,0.05,\"0\"],[0.04,0.08,\"0\"],[0.03,0.09,\"0\"],[0.03,0.07,\"0\"],[4.57,0.1,\"0\"],[1.62,0.04,\"0\"],[4.6,0.02,\"0\"],[6.76,0.003,\"0\"],[0.0,0.08,\"0\"],[0.01,0.07,\"0\"],[0.17,0.06,\"0\"],[5.23,0.006,\"0\"],[0.03,0.07,\"0\"],[0.42,0.1,\"0\"],[0.09,0.09,\"0\"],[0.05,0.1,\"0\"],[7.67,0.07,\"0\"],[0.25,0.03,\"0\"],[0.03,0.06,\"0\"],[0.07,0.09,\"0\"],[8.2,0.08,\"0\"],[6.95,0.02,\"0\"],[0.17,0.05,\"0\"],[0.36,0.0,\"0\"],[5.4,0.11,\"0\"],[3.11,0.13,\"0\"],[0.05,0.05,\"0\"],[0.15,0.01,\"0\"],[0.02,0.01,\"0\"],[0.43,0.0,\"0\"],[6.22,0.001,\"0\"],[0.01,0.01,\"0\"],[3.42,0.009,\"0\"],[0.02,0.06,\"0\"],[0.1,0.04,\"0\"],[0.24,0.04,\"0\"],[5.14,0.008,\"0\"],[0.28,0.02,\"0\"],[0.18,0.06,\"0\"],[0.05,0.01,\"0\"],[0.07,0.04,\"0\"],[0.02,0.01,\"0\"],[0.03,0.07,\"0\"],[3.69,0.04,\"0\"],[4.66,0.03,\"0\"],[0.1,0.09,\"0\"],[4.8,0.09,\"0\"],[2.26,0.008,\"0\"],[3.7,0.003,\"0\"],[0.03,0.03,\"0\"],[0.05,0.09,\"0\"],[0.07,0.03,\"0\"],[0.29,0.06,\"0\"],[0.1,0.07,\"0\"],[7.44,0.11,\"0\"],[0.29,0.06,\"0\"],[3.03,0.009,\"0\"],[0.76,0.12,\"0\"],[1.16,0.03,\"0\"],[0.13,0.1,\"0\"],[0.09,0.01,\"0\"],[0.97,0.06,\"0\"],[0.17,0.0,\"0\"],[0.14,0.04,\"0\"],[0.01,0.04,\"0\"],[7.81,0.005,\"0\"],[0.48,0.007,\"0\"],[7.42,0.02,\"0\"],[5.16,0.01,\"0\"],[0.17,0.07,\"0\"],[0.02,0.02,\"0\"],[0.05,0.06,\"0\"],[0.35,0.06,\"0\"],[0.18,0.03,\"0\"],[0.04,0.05,\"0\"],[0.36,0.02,\"0\"],[1.64,0.12,\"0\"],[4.69,0.009,\"0\"],[0.06,0.06,\"0\"],[0.07,0.08,\"0\"],[6.12,0.09,\"0\"],[0.05,0.04,\"0\"],[0.03,0.05,\"0\"],[0.48,0.01,\"0\"],[0.93,0.07,\"0\"],[0.4,0.08,\"0\"],[0.54,0.09,\"0\"],[0.07,0.09,\"0\"],[2.16,0.001,\"0\"],[3.93,0.06,\"0\"],[2.18,0.11,\"0\"],[4.79,0.004,\"0\"],[6.37,0.08,\"0\"],[4.77,0.008,\"0\"],[0.05,0.09,\"0\"],[4.93,0.006,\"0\"],[0.1,0.09,\"0\"],[0.24,0.0,\"0\"],[0.45,0.06,\"0\"],[2.91,0.03,\"0\"],[6.53,0.1,\"0\"],[0.36,0.0,\"0\"],[2.99,0.007,\"0\"],[3.63,0.12,\"0\"],[4.82,0.05,\"0\"],[2.97,0.008,\"0\"],[5.01,0.06,\"0\"],[0.05,0.03,\"0\"],[0.04,0.03,\"0\"],[3.34,0.02,\"0\"],[0.07,0.09,\"0\"],[0.17,0.08,\"0\"],[0.3,0.08,\"0\"],[0.07,0.05,\"0\"],[1.59,0.08,\"0\"],[5.26,0.12,\"0\"],[0.12,0.02,\"0\"],[1.33,0.11,\"0\"],[3.81,0.04,\"0\"],[0.09,0.04,\"0\"],[0.09,0.08,\"0\"],[0.34,0.06,\"0\"],[0.09,0.09,\"0\"],[0.43,0.02,\"0\"],[0.06,0.08,\"0\"],[0.43,0.06,\"0\"],[0.0,0.004,\"0\"],[0.04,0.08,\"0\"],[0.16,0.08,\"0\"],[0.56,0.09,\"0\"],[0.51,0.08,\"0\"],[0.35,0.05,\"0\"],[0.04,0.09,\"0\"],[0.31,0.08,\"0\"],[0.19,0.05,\"0\"],[3.61,0.004,\"0\"],[0.64,0.07,\"0\"],[0.01,0.06,\"0\"],[2.79,0.007,\"0\"],[0.04,0.01,\"0\"],[6.49,0.003,\"0\"],[3.49,0.008,\"0\"],[0.64,0.02,\"0\"],[0.04,0.08,\"0\"],[0.01,0.04,\"0\"],[7.66,0.03,\"0\"],[1.48,0.004,\"0\"],[2.56,0.1,\"0\"],[1.21,0.001,\"0\"],[0.18,0.02,\"0\"],[4.06,0.004,\"0\"],[7.17,0.06,\"0\"],[0.42,0.05,\"0\"],[0.15,0.09,\"0\"],[5.85,0.12,\"0\"],[1.25,0.13,\"0\"],[1.66,0.001,\"0\"],[2.54,0.003,\"0\"],[0.02,0.02,\"0\"],[3.83,0.005,\"0\"],[3.74,0.06,\"0\"],[6.62,0.09,\"0\"],[3.76,0.01,\"0\"],[2.08,0.04,\"0\"],[0.41,0.12,\"0\"],[3.88,0.001,\"0\"],[4.23,0.006,\"0\"],[0.13,0.09,\"0\"],[0.94,0.1,\"0\"],[3.09,0.12,\"0\"],[6.78,0.008,\"0\"],[0.07,0.04,\"0\"],[0.1,0.0,\"0\"],[7.87,0.1,\"0\"],[0.11,0.01,\"0\"],[0.08,0.05,\"0\"],[1.82,0.11,\"0\"],[1.17,0.08,\"0\"],[8.01,0.09,\"0\"],[6.49,0.08,\"0\"],[5.76,0.04,\"0\"],[3.35,0.007,\"0\"],[0.08,0.0,\"0\"],[6.45,0.002,\"0\"],[0.12,0.02,\"0\"],[1.12,0.001,\"0\"],[4.49,0.06,\"0\"],[6.44,0.02,\"0\"],[6.13,0.09,\"0\"],[5.35,0.02,\"0\"],[0.65,0.02,\"0\"],[3.95,0.05,\"0\"],[0.43,0.07,\"0\"],[0.07,0.0,\"0\"],[3.51,0.008,\"0\"],[0.09,0.09,\"0\"],[0.47,0.0,\"0\"],[2.35,0.001,\"0\"],[0.08,0.0,\"0\"],[0.05,0.02,\"0\"],[6.29,0.004,\"0\"],[0.54,0.02,\"0\"],[0.06,0.01,\"0\"],[2.05,0.07,\"0\"],[0.39,0.1,\"0\"],[0.18,0.02,\"0\"],[0.28,0.08,\"0\"],[0.35,0.08,\"0\"],[6.78,0.008,\"0\"],[0.08,0.01,\"0\"],[0.12,0.04,\"0\"],[1.33,0.008,\"0\"],[5.1,0.05,\"0\"],[5.4,0.01,\"0\"],[0.0,0.08,\"0\"],[4.68,0.12,\"0\"],[0.0,0.01,\"0\"],[0.05,0.08,\"0\"],[0.16,0.07,\"0\"],[1.79,0.001,\"0\"],[0.07,0.08,\"0\"],[1.64,0.12,\"0\"],[1.4,0.001,\"0\"],[8.0,0.06,\"0\"],[6.23,0.12,\"0\"],[0.55,0.08,\"0\"],[0.44,0.0,\"0\"],[0.25,0.006,\"0\"],[0.07,0.02,\"0\"],[0.3,0.02,\"0\"],[2.75,0.06,\"0\"],[0.23,0.05,\"0\"],[3.21,0.006,\"0\"],[0.06,0.06,\"0\"],[7.97,0.007,\"0\"],[0.06,0.09,\"0\"],[0.09,0.05,\"0\"],[6.69,0.008,\"0\"],[0.19,0.09,\"0\"],[1.36,0.002,\"0\"],[0.57,0.003,\"0\"],[5.58,0.006,\"0\"],[6.25,0.006,\"0\"],[8.06,0.02,\"0\"],[0.38,0.09,\"0\"],[0.24,0.0,\"0\"],[0.74,0.05,\"0\"],[3.67,0.001,\"0\"],[0.03,0.03,\"0\"],[1.46,0.1,\"0\"],[0.09,0.01,\"0\"],[3.67,0.11,\"0\"],[0.03,0.02,\"0\"],[3.23,0.001,\"0\"],[0.01,0.02,\"0\"],[8.13,0.07,\"0\"],[6.98,0.08,\"0\"],[0.0,0.07,\"0\"],[5.29,0.007,\"0\"],[0.09,0.0,\"0\"],[3.03,0.1,\"0\"],[6.34,0.008,\"0\"],[0.15,0.01,\"0\"],[0.29,0.06,\"0\"],[5.26,0.03,\"0\"],[0.3,0.03,\"0\"],[0.54,0.06,\"0\"],[5.59,0.004,\"0\"],[0.09,0.01,\"0\"],[0.4,0.06,\"0\"],[5.33,0.006,\"0\"],[4.96,0.07,\"0\"],[6.62,0.09,\"0\"],[1.96,0.07,\"0\"],[0.02,0.06,\"0\"],[8.03,0.08,\"0\"],[0.1,0.05,\"0\"],[0.42,0.01,\"0\"],[1.19,0.001,\"0\"],[0.55,0.03,\"0\"],[0.09,0.01,\"0\"],[2.69,0.004,\"0\"],[3.8,0.07,\"0\"],[6.12,0.006,\"0\"],[0.35,0.01,\"0\"],[6.25,0.03,\"0\"],[7.02,0.04,\"0\"],[0.63,0.04,\"0\"],[5.0,0.003,\"0\"],[2.86,0.002,\"0\"],[0.22,0.09,\"0\"],[3.44,0.003,\"0\"],[0.04,0.02,\"0\"],[2.38,0.02,\"0\"],[1.72,0.11,\"0\"],[0.02,0.01,\"0\"],[0.44,0.04,\"0\"],[1.79,0.001,\"0\"],[0.07,0.01,\"0\"],[0.27,0.06,\"0\"],[0.09,0.04,\"0\"],[0.1,0.05,\"0\"],[1.29,0.07,\"0\"],[0.57,0.01,\"0\"],[0.11,0.01,\"0\"],[0.39,0.04,\"0\"],[0.2,0.03,\"0\"],[6.44,0.008,\"0\"],[0.4,0.07,\"0\"],[6.1,0.008,\"0\"],[0.53,0.05,\"0\"],[0.05,0.01,\"0\"],[0.05,0.03,\"0\"],[0.01,0.05,\"0\"],[0.41,0.12,\"0\"],[0.12,0.09,\"0\"],[5.47,0.004,\"0\"],[0.04,0.09,\"0\"],[2.25,0.05,\"0\"],[5.29,0.007,\"0\"],[6.23,0.12,\"0\"],[3.48,0.001,\"0\"],[2.37,0.003,\"0\"],[2.56,0.002,\"0\"],[1.36,0.009,\"0\"],[0.34,0.05,\"0\"],[0.13,0.01,\"0\"],[0.05,0.09,\"0\"],[7.93,0.008,\"0\"],[5.14,0.008,\"0\"],[7.64,0.1,\"0\"],[1.49,0.004,\"0\"],[0.59,0.08,\"0\"],[2.83,0.1,\"0\"],[4.13,0.004,\"0\"],[1.91,0.005,\"0\"],[0.12,0.06,\"0\"],[1.45,0.05,\"0\"],[0.05,0.01,\"0\"],[0.11,0.09,\"0\"],[7.08,0.005,\"0\"],[2.46,0.02,\"0\"],[6.4,0.004,\"0\"],[0.19,0.03,\"0\"],[0.45,0.1,\"0\"],[0.06,0.01,\"0\"],[0.07,0.03,\"0\"],[4.09,0.05,\"0\"],[0.03,0.08,\"0\"],[0.23,0.02,\"0\"],[0.08,0.08,\"0\"],[0.3,0.09,\"0\"],[0.0,0.08,\"0\"],[0.17,0.05,\"0\"],[0.01,0.05,\"0\"],[0.15,0.07,\"0\"],[0.01,0.02,\"0\"],[0.14,0.06,\"0\"],[2.13,0.06,\"0\"],[5.11,0.09,\"0\"],[0.07,0.08,\"0\"],[4.01,0.11,\"0\"],[0.1,0.006,\"0\"],[3.11,0.003,\"0\"],[0.06,0.02,\"0\"],[3.54,0.01,\"0\"],[2.73,0.02,\"0\"],[1.63,0.003,\"0\"],[0.49,0.04,\"0\"],[0.18,0.06,\"0\"],[0.0,0.04,\"0\"],[3.11,0.005,\"0\"],[0.09,0.07,\"0\"],[0.02,0.01,\"0\"],[0.01,0.07,\"0\"],[0.22,0.08,\"0\"],[0.15,0.02,\"0\"],[4.1,0.09,\"0\"],[0.35,0.07,\"0\"],[0.01,0.0,\"0\"],[1.0,0.02,\"0\"],[0.05,0.01,\"0\"],[5.59,0.009,\"0\"],[0.09,0.04,\"0\"],[0.03,0.0,\"0\"],[0.05,0.0,\"0\"],[0.22,0.002,\"0\"],[0.45,0.07,\"0\"],[0.1,0.02,\"0\"],[7.75,0.007,\"0\"],[0.05,0.06,\"0\"],[4.61,0.12,\"0\"],[0.01,0.09,\"0\"],[1.67,0.002,\"0\"],[0.08,0.01,\"0\"],[7.85,0.002,\"0\"],[0.36,0.02,\"0\"],[0.17,0.08,\"0\"],[0.15,0.08,\"0\"],[5.33,0.04,\"0\"],[0.1,0.04,\"0\"],[0.01,0.08,\"0\"],[0.02,0.1,\"0\"],[4.86,0.003,\"0\"],[0.41,0.08,\"0\"],[0.01,0.03,\"0\"],[2.67,0.002,\"0\"],[0.52,0.1,\"0\"],[1.8,0.08,\"0\"],[3.16,0.02,\"0\"],[0.09,0.02,\"0\"],[6.71,0.001,\"0\"],[0.5,0.08,\"0\"],[0.06,0.06,\"0\"],[5.42,0.13,\"0\"],[0.55,0.01,\"0\"],[0.08,0.09,\"0\"],[0.08,0.01,\"0\"],[3.41,0.04,\"0\"],[5.87,0.002,\"0\"],[0.53,0.03,\"0\"],[3.8,0.07,\"0\"],[0.55,0.08,\"0\"],[0.05,0.02,\"0\"],[0.0,0.07,\"0\"],[0.07,0.09,\"0\"],[0.03,0.05,\"0\"],[0.13,0.03,\"0\"],[2.17,0.004,\"0\"],[0.07,0.08,\"0\"],[0.08,0.0,\"0\"],[6.72,0.08,\"0\"],[1.39,0.07,\"0\"],[0.06,0.07,\"0\"],[1.65,0.04,\"0\"],[0.55,0.03,\"0\"],[0.01,0.05,\"0\"],[7.4,0.007,\"0\"],[0.5,0.01,\"0\"],[0.62,0.09,\"0\"],[1.81,0.001,\"0\"],[3.58,0.001,\"0\"],[0.51,0.03,\"0\"],[0.01,0.07,\"0\"],[0.06,0.04,\"0\"],[0.41,0.05,\"0\"],[6.64,0.06,\"0\"],[4.97,0.03,\"0\"],[0.08,0.06,\"0\"],[0.27,0.04,\"0\"],[0.11,0.07,\"0\"],[0.11,0.04,\"0\"],[0.04,0.05,\"0\"],[2.28,0.13,\"0\"],[0.29,0.01,\"0\"],[0.12,0.03,\"0\"],[4.02,0.007,\"0\"],[0.04,0.07,\"0\"],[2.87,0.06,\"0\"],[3.63,0.002,\"0\"],[0.33,0.07,\"0\"],[0.15,0.06,\"0\"],[0.01,0.01,\"0\"],[0.16,0.03,\"0\"],[2.47,0.01,\"0\"],[8.42,0.07,\"0\"],[0.39,0.04,\"0\"],[4.37,0.002,\"0\"],[5.06,0.05,\"0\"],[4.65,0.05,\"0\"],[0.41,0.03,\"0\"],[0.29,0.03,\"0\"],[0.43,0.08,\"0\"],[0.11,0.08,\"0\"],[1.79,0.001,\"0\"],[0.0,0.06,\"0\"],[4.9,0.005,\"0\"],[0.03,0.04,\"0\"],[7.22,0.11,\"0\"],[0.09,0.01,\"0\"],[0.17,0.01,\"0\"],[0.09,0.0,\"0\"],[3.43,0.09,\"0\"],[1.37,0.007,\"0\"],[7.42,0.02,\"0\"],[0.04,0.07,\"0\"],[0.02,0.04,\"0\"],[0.03,0.07,\"0\"],[6.99,0.001,\"0\"],[0.24,0.1,\"0\"],[0.51,0.03,\"0\"],[0.59,0.06,\"0\"],[0.02,0.09,\"0\"],[3.14,0.11,\"0\"],[0.06,0.05,\"0\"],[0.08,0.09,\"0\"],[7.2,0.04,\"0\"],[0.12,0.05,\"0\"],[0.09,0.09,\"0\"],[0.27,0.01,\"0\"],[5.92,0.12,\"0\"],[0.05,0.02,\"0\"],[0.04,0.03,\"0\"],[3.48,0.06,\"0\"],[0.07,0.03,\"0\"],[0.03,0.1,\"0\"],[7.95,0.001,\"0\"],[6.27,0.004,\"0\"],[6.64,0.001,\"0\"],[0.15,0.06,\"0\"],[0.09,0.02,\"0\"],[0.01,0.05,\"0\"],[1.66,0.12,\"0\"],[1.84,0.008,\"0\"],[4.68,0.04,\"0\"],[0.04,0.05,\"0\"],[0.64,0.08,\"0\"],[7.79,0.07,\"0\"],[1.68,0.001,\"0\"],[3.95,0.005,\"0\"],[3.35,0.04,\"0\"],[0.04,0.02,\"0\"],[4.14,0.02,\"0\"],[0.52,0.01,\"0\"],[0.09,0.005,\"0\"],[0.5,0.01,\"0\"],[6.97,0.07,\"0\"],[0.04,0.08,\"0\"],[0.02,0.06,\"0\"],[6.81,0.003,\"0\"],[0.01,0.08,\"0\"],[4.02,0.001,\"0\"],[6.71,0.002,\"0\"],[0.5,0.07,\"0\"],[0.64,0.09,\"0\"],[0.05,0.01,\"0\"],[0.05,0.07,\"0\"],[5.65,0.006,\"0\"],[0.14,0.09,\"0\"],[6.83,0.002,\"0\"],[0.0,0.0,\"0\"],[0.26,0.1,\"0\"],[0.07,0.08,\"0\"],[6.42,0.006,\"0\"],[4.34,0.05,\"0\"],[0.3,0.01,\"0\"],[0.16,0.01,\"0\"],[1.78,0.006,\"0\"],[4.15,0.004,\"0\"],[0.25,0.006,\"0\"],[6.69,0.007,\"0\"],[0.64,0.06,\"0\"],[0.11,0.04,\"0\"],[6.2,0.03,\"0\"],[0.07,0.09,\"0\"],[5.25,0.1,\"0\"],[1.75,0.07,\"0\"],[0.19,0.1,\"0\"],[0.02,0.02,\"0\"],[0.0,0.06,\"0\"],[0.36,0.03,\"0\"],[0.05,0.03,\"0\"],[0.03,0.09,\"0\"],[0.03,0.1,\"0\"],[3.27,0.04,\"0\"],[3.42,0.03,\"0\"],[4.65,0.05,\"0\"],[0.5,0.08,\"0\"],[0.09,0.02,\"0\"],[3.28,0.02,\"0\"],[0.3,0.07,\"0\"],[1.38,0.12,\"0\"],[0.29,0.06,\"0\"],[6.6,0.006,\"0\"],[7.2,0.11,\"0\"],[0.57,0.07,\"0\"],[0.08,0.05,\"0\"],[3.17,0.005,\"0\"],[6.04,0.002,\"0\"],[0.16,0.04,\"0\"],[0.09,0.04,\"0\"],[0.78,0.12,\"0\"],[5.54,0.13,\"0\"],[3.02,0.002,\"0\"],[0.89,0.09,\"0\"],[0.11,0.04,\"0\"],[6.52,0.1,\"0\"],[0.02,0.07,\"0\"],[0.01,0.06,\"0\"],[0.02,0.04,\"0\"],[0.15,0.03,\"0\"],[1.38,0.04,\"0\"],[0.19,0.05,\"0\"],[7.93,0.001,\"0\"],[0.09,0.04,\"0\"],[7.12,0.005,\"0\"],[8.04,0.05,\"0\"],[0.01,0.04,\"0\"],[3.43,0.09,\"0\"],[0.13,0.02,\"0\"],[0.09,0.03,\"0\"],[0.34,0.07,\"0\"],[0.04,0.08,\"0\"],[0.68,0.11,\"0\"],[0.43,0.07,\"0\"],[1.13,0.003,\"0\"],[0.06,0.05,\"0\"],[0.35,0.09,\"0\"],[4.23,0.006,\"0\"],[0.29,0.0,\"0\"],[0.03,0.06,\"0\"],[2.73,0.0,\"0\"],[0.21,0.06,\"0\"],[1.37,0.007,\"0\"],[5.92,0.04,\"0\"],[0.06,0.02,\"0\"],[6.78,0.08,\"0\"],[0.95,0.07,\"0\"],[0.01,0.03,\"0\"],[1.81,0.001,\"0\"],[0.19,0.03,\"0\"],[0.07,0.07,\"0\"],[5.42,0.005,\"0\"],[0.04,0.0,\"0\"],[0.8,0.005,\"0\"],[0.69,0.1,\"0\"],[7.97,0.001,\"0\"],[0.15,0.08,\"0\"],[2.02,0.06,\"0\"],[0.1,0.08,\"0\"],[3.3,0.007,\"0\"],[0.44,0.04,\"0\"],[0.3,0.06,\"0\"],[0.02,0.05,\"0\"],[0.07,0.05,\"0\"],[1.63,0.09,\"0\"],[0.1,0.1,\"0\"],[6.62,0.007,\"0\"],[0.23,0.03,\"0\"],[7.44,0.11,\"0\"],[0.09,0.06,\"0\"],[0.35,0.01,\"0\"],[0.41,0.08,\"0\"],[6.06,0.005,\"0\"],[0.14,0.05,\"0\"],[5.75,0.06,\"0\"],[4.68,0.11,\"0\"],[0.2,0.03,\"0\"],[0.13,0.0,\"0\"],[0.01,0.1,\"0\"],[3.61,0.009,\"0\"],[6.52,0.1,\"0\"],[0.02,0.01,\"0\"],[4.74,0.07,\"0\"],[7.3,0.01,\"0\"],[0.17,0.02,\"0\"],[1.11,0.002,\"0\"],[6.3,0.03,\"0\"],[3.14,0.1,\"0\"],[0.08,0.07,\"0\"],[0.02,0.1,\"0\"],[4.37,0.006,\"0\"],[0.19,0.05,\"0\"],[0.12,0.03,\"0\"],[0.07,0.03,\"0\"],[6.02,0.001,\"0\"],[4.27,0.002,\"0\"],[0.06,0.01,\"0\"],[1.16,0.03,\"0\"],[0.08,0.02,\"0\"],[0.23,0.08,\"0\"],[0.11,0.0,\"0\"],[7.22,0.004,\"0\"],[0.44,0.0,\"0\"],[0.74,0.08,\"0\"],[0.39,0.04,\"0\"],[0.05,0.07,\"0\"],[0.62,0.09,\"0\"],[0.3,0.04,\"0\"],[3.09,0.003,\"0\"],[2.23,0.01,\"0\"],[0.06,0.06,\"0\"],[0.65,0.04,\"0\"],[0.11,0.09,\"0\"],[0.19,0.08,\"0\"],[3.81,0.04,\"0\"],[0.5,0.0,\"0\"],[0.08,0.06,\"0\"],[0.08,0.01,\"0\"],[0.11,0.03,\"0\"],[0.5,0.01,\"0\"],[1.18,0.005,\"0\"],[0.6,0.04,\"0\"],[0.29,0.06,\"0\"],[3.44,0.11,\"0\"],[0.95,0.008,\"0\"],[0.03,0.08,\"0\"],[0.11,0.04,\"0\"],[1.12,0.001,\"0\"],[0.0,0.01,\"0\"],[2.18,0.11,\"0\"],[1.63,0.003,\"0\"],[0.04,0.02,\"0\"],[0.53,0.05,\"0\"],[0.08,0.02,\"0\"],[6.38,0.08,\"0\"],[0.05,0.05,\"0\"],[3.32,0.005,\"0\"],[0.03,0.02,\"0\"],[1.93,0.02,\"0\"],[0.11,0.01,\"0\"],[6.49,0.08,\"0\"],[0.3,0.1,\"0\"],[0.18,0.04,\"0\"],[0.04,0.08,\"0\"],[0.38,0.03,\"0\"],[0.1,0.06,\"0\"],[6.55,0.004,\"0\"],[2.83,0.007,\"0\"],[0.03,0.08,\"0\"],[5.06,0.007,\"0\"],[0.04,0.02,\"0\"],[0.02,0.06,\"0\"],[0.02,0.1,\"0\"],[2.36,0.01,\"0\"],[2.8,0.13,\"0\"],[0.27,0.03,\"0\"],[0.03,0.05,\"0\"],[0.68,0.002,\"0\"],[2.85,0.01,\"0\"],[0.03,0.02,\"0\"],[0.09,0.04,\"0\"],[0.08,0.08,\"0\"],[0.25,0.05,\"0\"],[4.24,0.1,\"0\"],[3.55,0.005,\"0\"],[0.24,0.07,\"0\"],[2.8,0.01,\"0\"],[7.06,0.12,\"0\"],[6.86,0.1,\"0\"],[0.0,0.1,\"0\"],[4.4,0.001,\"0\"],[0.03,0.0,\"0\"],[5.65,0.006,\"0\"],[0.2,0.03,\"0\"],[0.28,0.03,\"0\"],[0.23,0.01,\"0\"],[0.01,0.1,\"0\"],[7.32,0.0,\"0\"],[0.06,0.04,\"0\"],[1.35,0.03,\"0\"],[4.49,0.005,\"0\"],[0.08,0.0,\"0\"],[3.46,0.12,\"0\"],[0.08,0.1,\"0\"],[0.01,0.02,\"0\"],[0.09,0.06,\"0\"],[2.63,0.09,\"0\"],[0.01,0.1,\"0\"],[3.09,0.12,\"0\"],[0.19,0.06,\"0\"],[4.17,0.1,\"0\"],[6.37,0.008,\"0\"],[3.3,0.007,\"0\"],[0.0,0.05,\"0\"],[2.63,0.003,\"0\"],[7.11,0.02,\"0\"],[0.0,0.04,\"0\"],[0.22,0.05,\"0\"],[0.34,0.02,\"0\"],[0.16,0.07,\"0\"],[0.1,0.09,\"0\"],[0.03,0.01,\"0\"],[0.29,0.07,\"0\"],[0.13,0.05,\"0\"],[0.03,0.03,\"0\"],[5.69,0.006,\"0\"],[0.12,0.05,\"0\"],[1.4,0.12,\"0\"],[0.59,0.06,\"0\"],[0.06,0.05,\"0\"],[0.23,0.08,\"0\"],[0.01,0.09,\"0\"],[0.02,0.1,\"0\"],[0.02,0.04,\"0\"],[7.95,0.001,\"0\"],[1.33,0.01,\"0\"],[0.09,0.06,\"0\"],[0.27,0.05,\"0\"],[0.01,0.06,\"0\"],[4.3,0.003,\"0\"],[7.44,0.11,\"0\"],[0.4,0.09,\"0\"],[0.07,0.03,\"0\"],[0.64,0.08,\"0\"],[7.28,0.03,\"0\"],[0.32,0.09,\"0\"],[7.3,0.01,\"0\"],[0.23,0.08,\"0\"],[7.02,0.001,\"0\"],[5.42,0.13,\"0\"],[6.35,0.13,\"0\"],[0.1,0.04,\"0\"],[5.34,0.06,\"0\"],[7.07,0.1,\"0\"]],\"hovertemplate\":\"is_safe=%{customdata[2]}<br>aluminium=%{x}<br>silver=%{y}<br>perchlorate=%{z}<br>chloramine=%{customdata[0]}<br>cadmium=%{customdata[1]}<extra></extra>\",\"legendgroup\":\"0\",\"marker\":{\"color\":\"#636EFA\",\"symbol\":\"circle\",\"size\":2},\"mode\":\"markers\",\"name\":\"0\",\"scene\":\"scene\",\"showlegend\":true,\"x\":[0.07,0.07,0.07,0.1,0.03,4.44,0.04,0.05,0.01,0.07,0.08,0.02,0.08,0.07,0.05,0.05,0.08,0.09,0.08,0.0,0.04,0.08,0.1,0.11,0.01,0.02,0.13,0.09,0.07,0.03,2.15,0.09,0.03,0.09,0.09,0.07,0.21,0.03,0.07,0.09,0.04,0.02,0.05,0.05,0.8,0.1,0.13,0.94,0.02,0.07,0.02,0.03,0.02,0.03,0.0,0.02,0.08,4.17,0.01,0.06,0.08,1.6,0.08,3.76,0.07,0.06,4.11,0.08,0.09,0.03,0.03,0.0,0.01,0.07,0.01,4.87,0.06,0.11,0.09,0.06,0.06,0.04,0.09,0.02,0.14,0.06,0.07,0.07,0.1,2.59,4.1,1.32,0.1,0.08,0.02,0.09,0.24,2.37,0.08,4.56,1.0,0.05,0.08,0.07,0.4,0.03,0.07,0.04,0.03,0.05,0.1,3.36,0.24,0.08,0.07,0.0,0.09,0.05,0.09,0.08,0.07,0.06,0.04,0.03,0.06,0.05,0.02,0.09,0.05,0.02,0.09,0.11,0.05,0.05,0.05,0.09,0.06,0.01,0.07,0.15,0.07,0.05,0.09,4.3,0.05,0.02,0.05,0.03,0.04,0.1,0.1,0.16,0.06,1.59,0.02,0.09,0.09,0.07,0.07,0.04,0.08,0.5,0.03,0.01,0.05,0.12,0.02,0.05,0.2,0.1,0.03,0.03,0.12,0.06,0.05,4.35,0.04,0.05,0.09,0.05,0.04,0.0,0.1,0.17,0.28,0.06,0.08,0.07,0.06,0.04,0.0,0.99,0.05,0.06,0.09,0.15,3.87,0.36,0.06,1.32,0.1,0.01,0.34,0.04,0.06,0.09,3.43,2.83,0.02,0.29,3.73,0.01,2.78,2.58,0.03,0.06,3.41,0.05,0.0,0.08,0.05,0.01,0.06,0.06,0.17,0.04,0.07,0.09,0.04,0.06,0.09,0.01,0.09,0.08,0.08,0.08,0.02,0.09,0.05,0.02,0.06,0.06,3.08,0.01,0.01,0.08,0.04,0.11,0.06,0.06,0.02,0.06,0.03,0.02,4.82,0.1,0.09,0.07,3.68,0.06,0.1,0.13,0.85,0.24,0.06,0.04,0.01,2.26,2.96,4.55,0.99,0.05,0.26,0.57,0.02,4.05,4.58,0.07,0.04,0.07,0.0,0.02,0.08,0.26,0.08,0.86,4.8,4.74,0.07,0.06,0.06,0.01,4.52,2.41,0.34,0.09,0.11,0.0,0.16,0.1,0.03,0.02,0.02,0.05,0.02,0.05,0.04,0.03,0.06,0.06,1.26,0.02,0.03,0.07,0.05,0.07,0.01,0.03,4.56,0.28,0.01,0.08,2.25,0.09,0.09,0.03,0.02,0.06,0.17,3.11,2.08,3.64,0.03,0.1,1.37,0.08,0.02,0.04,0.1,0.05,0.07,0.01,0.02,0.08,4.58,0.09,4.2,0.14,1.51,0.05,0.06,0.09,0.06,0.01,3.36,0.07,2.51,0.02,0.09,0.05,0.06,0.06,0.03,0.19,0.09,1.08,0.08,4.32,4.07,0.02,0.04,2.96,0.02,0.06,1.1,0.02,0.01,0.73,0.04,2.96,1.97,0.07,0.05,0.09,0.01,0.11,0.09,0.07,0.01,0.07,0.05,0.04,0.17,1.51,0.1,0.08,2.51,0.01,4.35,0.1,2.78,0.02,0.1,1.11,0.02,0.06,0.06,0.03,0.1,0.11,0.0,0.08,0.01,0.09,0.0,0.08,0.07,0.01,0.05,0.03,0.09,0.05,0.03,1.25,0.01,0.37,0.06,3.64,0.06,0.01,0.07,0.25,0.1,0.09,0.06,0.07,0.13,0.12,0.06,0.09,0.01,0.27,0.07,0.05,0.04,0.08,0.02,2.17,0.31,0.02,0.0,0.09,0.09,0.08,0.08,0.1,0.03,0.0,0.1,0.05,0.04,0.05,0.01,0.08,0.01,2.5,0.05,0.07,1.61,0.12,3.51,0.07,0.65,0.04,0.02,0.09,0.06,0.05,0.0,0.07,0.0,0.07,0.06,0.04,2.41,0.07,0.04,0.42,0.02,0.02,0.02,0.04,0.08,0.05,0.06,0.08,0.12,0.06,4.17,0.0,0.11,0.03,0.18,0.1,0.06,0.08,0.05,0.03,0.08,0.03,0.06,0.03,0.09,4.53,0.08,3.13,2.72,0.0,0.27,0.04,0.06,0.06,0.02,0.07,0.09,0.26,0.1,0.09,0.07,0.03,0.09,0.06,0.07,0.01,0.09,2.92,0.05,0.06,0.03,4.25,0.01,3.98,0.06,0.05,4.79,0.02,0.04,0.05,0.03,0.02,0.01,0.05,0.09,2.9,3.64,0.01,0.06,0.06,0.03,0.01,3.3,0.05,0.04,0.23,0.05,3.55,0.02,0.06,0.07,0.09,0.05,0.34,3.4,0.01,0.09,0.05,2.95,0.07,0.07,0.11,0.1,0.02,0.06,2.02,0.02,3.78,0.08,0.06,0.06,0.84,0.14,0.05,0.09,0.06,0.01,0.19,0.09,0.02,0.04,0.05,0.1,0.01,0.01,0.12,0.09,0.08,0.0,2.51,0.09,0.02,2.77,0.03,0.03,0.01,1.22,0.02,0.08,0.07,0.05,0.01,0.01,4.45,0.0,0.0,4.98,0.01,0.08,3.18,0.08,0.44,0.08,0.09,0.06,0.19,0.09,0.1,0.09,0.0,0.07,0.21,0.02,0.07,0.02,0.1,0.01,0.03,0.15,0.06,0.06,0.01,0.01,0.2,0.07,0.06,0.01,0.07,0.09,0.03,4.92,0.03,3.72,0.09,1.95,0.01,0.08,0.05,0.07,0.1,0.1,0.03,0.08,0.79,0.04,2.95,0.02,0.07,0.07,0.06,0.84,0.1,3.78,0.09,0.06,0.04,0.29,0.01,0.0,0.05,0.28,2.74,0.03,4.98,0.03,0.01,0.09,0.01,0.01,0.06,0.26,0.05,0.11,0.07,2.41,0.03,0.04,0.06,0.02,0.04,0.08,0.04,0.07,0.08,1.57,0.05,0.01,0.14,0.03,0.03,1.95,0.0,0.15,0.0,0.04,1.32,0.28,0.1,0.05,0.04,0.07,0.01,0.07,0.03,0.05,0.02,0.07,0.36,0.09,0.15,0.06,0.08,0.01,0.04,0.26,0.04,0.15,0.03,0.5,0.02,0.02,0.07,1.48,0.08,2.31,0.01,0.04,0.09,0.07,0.02,0.01,0.05,0.03,1.82,0.05,0.1,2.43,1.49,0.08,0.06,0.04,0.05,0.04,0.07,0.08,0.39,0.09,0.12,0.03,0.03,0.01,0.14,0.05,0.46,0.01,0.06,0.04,0.1,0.03,0.11,0.07,0.05,0.1,0.1,0.02,0.03,0.08,0.05,0.01,1.8,0.02,0.01,0.1,0.1,0.09,0.05,0.04,0.2,0.09,0.36,0.02,0.04,0.01,0.01,4.12,0.07,2.66,0.01,4.57,0.03,4.8,0.05,0.09,0.07,0.02,0.07,0.0,0.01,0.08,0.04,0.03,0.02,0.06,2.99,0.4,0.1,0.09,0.04,3.7,0.08,0.08,0.08,0.06,0.05,0.07,0.03,0.03,0.19,0.07,0.1,3.31,0.06,0.01,0.04,0.09,0.03,0.08,2.51,0.07,0.07,0.07,0.05,4.6,0.06,0.08,0.06,0.29,0.08,4.58,0.04,4.86,0.04,0.15,0.03,0.09,0.06,0.08,0.07,0.07,0.03,0.08,0.04,0.07,0.02,0.07,3.5,0.09,0.14,0.03,0.07,0.04,0.09,0.04,0.01,1.32,0.47,0.08,0.0,0.03,0.06,0.5,0.07,0.09,0.0,0.1,0.09,1.82,0.04,0.18,0.06,0.04,0.02,3.58,1.06],\"y\":[0.08,0.24,0.02,0.04,0.06,0.46,0.06,0.02,0.46,0.0,0.08,0.32,0.1,0.08,0.06,0.02,0.06,0.08,0.02,0.01,0.07,0.1,0.3,0.27,0.13,0.04,0.11,0.05,0.34,0.01,0.2,0.08,0.08,0.02,0.03,0.03,0.24,0.02,0.01,0.1,0.03,0.06,0.47,0.07,0.36,0.0,0.39,0.03,0.03,0.04,0.23,0.09,0.0,0.09,0.09,0.05,0.05,0.1,0.07,0.19,0.01,0.27,0.01,0.08,0.29,0.31,0.38,0.02,0.09,0.41,0.08,0.07,0.33,0.5,0.06,0.07,0.03,0.28,0.08,0.01,0.06,0.04,0.03,0.1,0.13,0.01,0.44,0.03,0.05,0.06,0.44,0.21,0.01,0.07,0.08,0.01,0.18,0.19,0.02,0.4,0.42,0.04,0.09,0.29,0.44,0.03,0.33,0.07,0.05,0.02,0.04,0.44,0.31,0.43,0.26,0.05,0.01,0.05,0.4,0.06,0.03,0.06,0.08,0.2,0.05,0.06,0.08,0.3,0.24,0.06,0.07,0.49,0.2,0.03,0.04,0.08,0.09,0.08,0.01,0.12,0.07,0.0,0.02,0.11,0.06,0.05,0.02,0.02,0.08,0.0,0.25,0.33,0.07,0.34,0.28,0.45,0.0,0.07,0.05,0.1,0.03,0.37,0.09,0.28,0.22,0.13,0.01,0.0,0.49,0.05,0.04,0.01,0.11,0.16,0.47,0.11,0.06,0.1,0.01,0.02,0.02,0.08,0.1,0.03,0.01,0.08,0.0,0.03,0.04,0.07,0.1,0.19,0.06,0.09,0.02,0.01,0.48,0.42,0.31,0.21,0.38,0.05,0.37,0.05,0.07,0.01,0.24,0.09,0.06,0.01,0.13,0.37,0.36,0.16,0.03,0.01,0.39,0.07,0.0,0.02,0.04,0.33,0.19,0.03,0.18,0.22,0.09,0.08,0.09,0.06,0.04,0.1,0.05,0.08,0.09,0.02,0.01,0.0,0.03,0.02,0.02,0.07,0.16,0.06,0.09,0.12,0.08,0.21,0.15,0.07,0.04,0.09,0.47,0.38,0.21,0.41,0.04,0.24,0.25,0.06,0.06,0.03,0.15,0.28,0.45,0.08,0.11,0.5,0.09,0.3,0.14,0.08,0.41,0.3,0.05,0.29,0.23,0.24,0.01,0.03,0.12,0.1,0.03,0.31,0.5,0.07,0.17,0.13,0.24,0.05,0.31,0.02,0.03,0.29,0.13,0.01,0.22,0.25,0.18,0.04,0.05,0.49,0.01,0.02,0.42,0.0,0.08,0.38,0.01,0.1,0.12,0.04,0.01,0.07,0.08,0.24,0.04,0.06,0.4,0.37,0.21,0.01,0.4,0.06,0.1,0.03,0.29,0.07,0.03,0.31,0.11,0.35,0.06,0.09,0.16,0.09,0.02,0.45,0.09,0.16,0.07,0.46,0.07,0.0,0.16,0.03,0.34,0.32,0.15,0.09,0.08,0.04,0.07,0.29,0.1,0.06,0.46,0.07,0.43,0.08,0.43,0.09,0.27,0.19,0.08,0.29,0.09,0.29,0.35,0.02,0.1,0.38,0.08,0.09,0.17,0.07,0.09,0.24,0.31,0.09,0.46,0.07,0.22,0.05,0.03,0.18,0.03,0.08,0.34,0.27,0.1,0.08,0.17,0.33,0.28,0.15,0.04,0.09,0.09,0.04,0.17,0.02,0.01,0.49,0.29,0.01,0.04,0.04,0.02,0.27,0.05,0.01,0.02,0.1,0.09,0.08,0.08,0.06,0.02,0.03,0.03,0.08,0.1,0.45,0.04,0.09,0.29,0.35,0.16,0.22,0.5,0.02,0.01,0.0,0.03,0.04,0.11,0.35,0.07,0.04,0.13,0.13,0.12,0.01,0.08,0.02,0.0,0.15,0.35,0.46,0.07,0.03,0.0,0.07,0.16,0.04,0.08,0.08,0.04,0.05,0.07,0.07,0.01,0.05,0.08,0.23,0.12,0.09,0.42,0.27,0.41,0.09,0.25,0.4,0.16,0.1,0.04,0.04,0.29,0.08,0.06,0.05,0.08,0.01,0.5,0.05,0.06,0.31,0.02,0.22,0.09,0.04,0.08,0.43,0.01,0.08,0.3,0.01,0.3,0.06,0.45,0.03,0.26,0.02,0.0,0.04,0.03,0.0,0.02,0.02,0.16,0.09,0.09,0.23,0.16,0.2,0.34,0.08,0.39,0.09,0.01,0.37,0.11,0.01,0.05,0.11,0.11,0.03,0.27,0.06,0.08,0.09,0.01,0.07,0.02,0.27,0.02,0.05,0.05,0.34,0.04,0.04,0.08,0.01,0.24,0.04,0.01,0.32,0.47,0.04,0.02,0.09,0.09,0.33,0.39,0.02,0.04,0.01,0.09,0.03,0.27,0.03,0.09,0.18,0.06,0.26,0.05,0.05,0.07,0.0,0.05,0.05,0.02,0.02,0.33,0.42,0.48,0.08,0.06,0.34,0.07,0.29,0.07,0.27,0.04,0.05,0.09,0.09,0.05,0.35,0.37,0.47,0.03,0.03,0.04,0.28,0.02,0.04,0.01,0.06,0.17,0.09,0.03,0.25,0.03,0.04,0.05,0.11,0.07,0.07,0.12,0.06,0.06,0.3,0.25,0.18,0.06,0.04,0.01,0.01,0.11,0.18,0.0,0.05,0.47,0.13,0.16,0.25,0.02,0.2,0.05,0.05,0.08,0.36,0.01,0.03,0.17,0.09,0.17,0.08,0.2,0.02,0.02,0.09,0.46,0.08,0.06,0.06,0.06,0.04,0.32,0.44,0.08,0.04,0.11,0.46,0.16,0.16,0.07,0.06,0.38,0.06,0.27,0.13,0.01,0.09,0.05,0.06,0.1,0.06,0.04,0.5,0.35,0.48,0.02,0.04,0.45,0.07,0.27,0.06,0.38,0.09,0.0,0.07,0.11,0.1,0.01,0.01,0.03,0.13,0.07,0.38,0.06,0.21,0.03,0.09,0.0,0.07,0.49,0.09,0.17,0.06,0.13,0.04,0.03,0.27,0.09,0.08,0.02,0.09,0.4,0.0,0.39,0.08,0.06,0.3,0.01,0.02,0.47,0.02,0.37,0.11,0.02,0.22,0.34,0.08,0.32,0.02,0.0,0.41,0.03,0.18,0.02,0.12,0.1,0.12,0.07,0.27,0.08,0.01,0.05,0.09,0.28,0.01,0.4,0.09,0.37,0.01,0.01,0.1,0.18,0.08,0.14,0.08,0.06,0.05,0.07,0.02,0.21,0.06,0.16,0.24,0.05,0.42,0.07,0.4,0.03,0.06,0.12,0.09,0.01,0.06,0.26,0.33,0.06,0.13,0.08,0.02,0.09,0.28,0.07,0.42,0.02,0.03,0.01,0.07,0.17,0.31,0.03,0.04,0.04,0.05,0.5,0.09,0.02,0.09,0.07,0.15,0.34,0.03,0.06,0.12,0.34,0.03,0.06,0.03,0.0,0.42,0.16,0.07,0.37,0.09,0.35,0.08,0.32,0.01,0.03,0.1,0.17,0.08,0.08,0.06,0.02,0.1,0.17,0.32,0.06,0.04,0.06,0.04,0.06,0.24,0.49,0.07,0.09,0.03,0.28,0.08,0.06,0.07,0.08,0.33,0.06,0.09,0.17,0.06,0.31,0.09,0.44,0.08,0.46,0.06,0.09,0.07,0.04,0.37,0.03,0.33,0.31,0.06,0.24,0.04,0.07,0.04,0.39,0.04,0.23,0.09,0.04,0.13,0.27,0.05,0.48,0.32,0.05,0.03,0.06,0.05,0.01,0.02,0.03,0.09,0.1,0.26,0.03,0.04,0.05,0.01,0.03,0.01,0.05,0.0,0.3,0.21,0.04,0.04,0.04,0.2,0.37,0.01,0.08,0.05,0.46,0.09,0.24,0.08,0.49,0.37,0.11,0.07,0.36,0.26],\"z\":[0.35,13.32,5.14,5.61,30.27,40.82,8.31,0.32,46.97,0.45,0.29,31.08,2.39,59.03,26.32,0.62,7.38,2.12,3.54,14.6,0.24,0.48,21.13,13.79,16.41,6.12,50.04,2.44,30.29,8.78,36.09,0.47,1.23,3.13,1.12,4.34,10.21,0.69,1.22,2.5,0.48,0.2,5.5,6.15,38.49,0.44,30.81,49.1,1.43,3.96,36.48,3.29,2.04,9.58,2.88,5.04,0.02,22.44,1.96,7.0,2.72,30.67,1.29,27.71,51.01,29.45,27.21,5.22,11.64,25.71,0.11,13.72,16.02,46.95,2.3,36.12,0.03,38.88,5.47,0.18,1.55,8.25,8.62,0.18,4.62,3.56,58.15,0.14,4.92,25.44,21.01,38.65,2.11,0.39,3.3,5.75,29.3,3.22,1.69,31.89,45.45,0.23,9.41,56.05,35.93,11.22,55.08,2.39,2.11,0.55,0.15,13.06,14.94,26.52,24.1,2.61,5.06,0.25,9.06,2.42,0.38,1.28,0.4,58.29,4.18,2.04,3.6,46.22,21.79,5.07,0.56,36.7,22.68,9.91,4.76,3.21,0.13,53.35,7.59,39.6,9.72,5.0,3.7,50.04,0.15,2.93,0.16,0.05,0.27,0.18,10.19,47.2,0.67,48.4,1.02,16.09,3.62,1.57,0.28,0.13,2.5,3.19,0.9,41.5,28.76,45.08,4.36,2.89,25.8,0.77,5.4,1.1,35.13,50.02,18.74,58.7,0.04,7.45,6.03,0.75,2.81,2.32,2.32,30.44,40.53,9.37,4.29,13.02,0.12,0.73,3.86,45.67,10.46,5.5,2.06,53.73,40.54,14.96,29.45,38.65,55.9,0.91,50.59,0.09,4.08,0.44,26.59,51.46,0.2,39.31,5.86,32.39,55.65,49.99,5.22,3.27,29.68,8.27,0.47,7.71,14.05,43.76,8.67,0.15,15.09,44.57,0.95,2.61,0.32,1.28,8.7,0.16,0.37,23.58,10.77,7.87,3.18,6.7,1.86,0.11,6.72,7.09,51.83,2.3,3.7,55.21,0.8,47.74,48.1,4.03,2.82,0.04,7.03,13.46,18.07,56.7,12.14,44.88,48.93,12.14,1.23,14.74,8.8,34.46,18.24,3.78,13.93,46.17,44.09,21.77,31.37,21.35,57.49,53.72,2.36,25.28,36.06,29.28,0.53,3.0,55.22,7.82,0.76,44.21,53.45,44.71,49.63,29.15,38.44,2.55,46.13,11.63,46.84,51.65,27.35,31.38,1.07,16.39,33.9,1.6,1.0,44.28,1.75,0.62,16.34,1.65,2.75,38.74,6.75,0.27,26.95,3.2,0.74,2.64,10.62,29.28,0.25,6.89,31.89,0.98,52.83,0.08,15.67,1.75,2.55,0.43,30.27,5.34,30.44,28.45,27.31,57.25,5.1,5.49,58.29,1.86,1.35,8.16,3.35,39.45,0.45,55.54,0.59,0.64,25.62,0.84,53.92,27.31,38.36,48.88,4.03,2.4,4.08,25.29,41.46,0.02,38.59,8.19,37.98,9.66,30.21,4.98,30.15,42.79,0.07,37.23,1.85,27.0,29.22,0.02,0.13,50.23,3.3,0.82,47.28,8.19,3.56,56.14,14.08,44.09,45.16,9.72,56.4,2.44,0.09,26.22,3.67,2.36,36.31,32.94,13.03,0.06,23.39,54.37,9.62,5.01,46.3,4.09,39.41,1.27,8.39,25.26,1.83,24.59,30.27,0.26,3.56,7.11,2.56,13.79,5.23,1.73,4.49,0.14,29.98,7.23,59.03,0.84,0.16,5.22,3.46,21.35,6.05,51.38,1.73,22.3,37.23,57.25,29.51,54.96,3.18,17.71,3.24,1.33,7.25,55.72,50.04,17.07,37.89,0.53,14.49,28.73,13.01,0.15,6.22,1.47,5.39,37.96,32.54,20.46,13.72,10.6,1.45,3.49,20.73,7.19,2.0,0.24,0.4,0.3,8.13,6.57,4.16,0.21,1.02,15.41,49.44,0.07,21.16,8.0,23.36,0.39,30.43,30.22,32.91,0.53,2.55,0.9,45.37,1.59,0.05,1.18,3.91,0.97,39.48,4.12,5.28,27.61,0.08,33.71,2.73,0.14,9.77,21.79,0.74,2.02,43.09,0.06,33.35,1.05,17.72,7.22,57.96,1.94,1.71,2.88,59.74,6.73,9.2,4.95,46.47,3.7,6.71,36.62,13.01,32.57,54.41,1.07,55.11,9.14,8.43,8.12,37.23,0.11,3.15,52.04,24.61,8.62,32.94,5.1,1.82,5.78,6.31,0.16,2.56,56.76,3.93,2.55,35.04,33.99,0.3,19.5,2.13,2.68,46.91,4.67,4.64,52.71,41.01,2.4,9.19,0.11,7.99,16.52,18.71,1.05,2.69,1.18,3.42,1.49,36.6,1.49,0.1,24.43,0.34,7.74,11.55,1.09,4.6,5.39,1.68,57.08,46.43,4.49,56.34,35.75,5.04,7.36,0.46,32.97,3.94,30.27,2.74,35.64,0.46,0.69,4.61,6.0,7.54,10.72,47.65,18.74,2.97,7.46,1.84,14.71,2.03,2.4,1.77,0.85,36.84,5.33,6.74,48.89,0.24,1.36,2.27,27.61,0.02,4.64,55.98,5.46,0.14,40.33,38.04,33.07,1.77,10.12,2.68,32.62,17.62,13.14,8.79,12.05,7.05,44.54,22.76,55.78,3.41,13.27,7.5,18.43,0.74,13.51,2.65,0.08,27.84,5.81,55.8,1.87,36.0,6.93,0.08,5.84,6.89,0.11,16.47,0.02,2.65,0.27,3.17,40.86,0.92,8.06,49.53,55.52,58.29,25.05,12.87,10.52,28.0,4.38,48.89,0.7,0.34,4.24,0.83,0.05,1.6,5.51,5.09,48.53,1.66,5.04,4.15,10.12,3.73,3.08,37.88,1.55,35.36,10.27,0.47,2.39,16.74,38.64,1.21,6.05,11.24,20.83,10.49,17.75,10.52,13.99,1.08,3.7,9.84,0.0,18.22,0.43,1.05,2.59,44.82,58.78,0.24,40.8,1.41,0.04,5.22,3.39,21.6,0.74,55.81,3.74,2.66,53.72,5.58,0.24,44.72,0.16,47.65,27.82,5.74,21.36,18.58,0.92,52.71,1.31,0.45,9.66,0.15,55.9,9.54,5.2,6.81,27.62,9.81,27.63,3.21,1.95,1.09,4.38,19.26,0.09,41.0,4.61,3.19,6.38,3.78,2.35,58.17,1.35,5.61,7.7,1.94,3.06,0.68,15.98,13.99,0.05,7.05,33.08,1.8,32.4,10.32,52.0,3.43,0.13,55.07,0.43,2.28,7.29,21.87,4.27,0.06,45.08,0.45,10.42,1.23,48.15,7.98,0.57,4.49,6.74,4.64,1.27,19.88,34.09,0.25,0.2,3.46,0.02,46.16,0.61,0.38,0.4,0.35,46.35,39.38,0.6,1.55,45.42,25.8,0.45,0.06,46.84,4.64,14.96,32.91,5.0,42.15,0.31,9.87,10.55,30.98,1.3,30.24,0.56,49.63,0.72,0.99,0.17,3.65,1.57,14.91,55.45,9.96,1.09,1.28,0.35,0.13,12.99,2.76,4.81,0.3,28.03,23.91,2.9,0.97,0.07,0.94,23.11,52.7,13.88,16.37,28.8,29.41,7.95,50.17,1.2,6.89,1.94,0.09,7.32,2.85,5.91,4.13,26.2,22.0,12.11,37.95,11.27,4.19,3.21,9.35,2.85,36.06,1.75,31.19,9.33,27.63,7.43,55.04,52.92,2.63,3.69,0.16,5.2,4.4,2.76,8.05,0.04,0.35,33.83,0.24,50.4,6.25,1.08,3.84,4.87,0.29,9.84,40.33,30.54,0.32,12.74,1.85,0.91,3.19,0.48,2.63,12.05,34.45,9.13,33.08,2.55,16.39,8.12,41.66,8.13,50.49,34.05],\"type\":\"scatter3d\"},{\"customdata\":[[0.35,0.007,\"1\"],[5.28,0.002,\"1\"],[7.23,0.001,\"1\"],[2.67,0.006,\"1\"],[0.8,0.003,\"1\"],[3.14,0.005,\"1\"],[6.4,0.007,\"1\"],[0.1,0.002,\"1\"],[0.05,0.008,\"1\"],[0.7,0.008,\"1\"],[5.99,0.008,\"1\"],[1.94,0.002,\"1\"],[5.29,0.001,\"1\"],[7.78,0.009,\"1\"],[0.01,0.006,\"1\"],[4.57,0.006,\"1\"],[3.47,0.007,\"1\"],[3.74,0.001,\"1\"],[7.22,0.001,\"1\"],[2.55,0.006,\"1\"],[6.63,0.007,\"1\"],[5.87,0.002,\"1\"],[2.86,0.008,\"1\"],[4.0,0.006,\"1\"],[4.55,0.005,\"1\"],[4.94,0.006,\"1\"],[0.64,0.004,\"1\"],[2.9,0.003,\"1\"],[5.71,0.003,\"1\"],[0.22,0.002,\"1\"],[6.11,0.007,\"1\"],[0.68,0.002,\"1\"],[7.7,0.004,\"1\"],[7.97,0.001,\"1\"],[6.19,0.008,\"1\"],[0.9,0.008,\"1\"],[4.5,0.006,\"1\"],[0.88,0.002,\"1\"],[1.13,0.007,\"1\"],[3.85,0.001,\"1\"],[6.16,0.009,\"1\"],[7.06,0.003,\"1\"],[4.4,0.008,\"1\"],[4.89,0.002,\"1\"],[6.57,0.001,\"1\"],[2.15,0.005,\"1\"],[2.38,0.004,\"1\"],[4.77,0.003,\"1\"],[1.97,0.005,\"1\"],[3.4,0.004,\"1\"],[5.27,0.009,\"1\"],[3.35,0.004,\"1\"],[7.56,0.008,\"1\"],[0.13,0.008,\"1\"],[7.52,0.006,\"1\"],[3.57,0.004,\"1\"],[6.02,0.001,\"1\"],[1.12,0.006,\"1\"],[0.19,0.001,\"1\"],[1.85,0.005,\"1\"],[4.25,0.005,\"1\"],[2.38,0.001,\"1\"],[1.89,0.007,\"1\"],[4.59,0.009,\"1\"],[6.25,0.006,\"1\"],[5.22,0.005,\"1\"],[1.86,0.005,\"1\"],[7.37,0.006,\"1\"],[3.07,0.001,\"1\"],[2.89,0.007,\"1\"],[3.58,0.001,\"1\"],[6.75,0.001,\"1\"],[7.97,0.005,\"1\"],[1.33,0.007,\"1\"],[0.63,0.009,\"1\"],[5.07,0.008,\"1\"],[4.13,0.002,\"1\"],[2.52,0.001,\"1\"],[3.71,0.008,\"1\"],[1.87,0.008,\"1\"],[4.3,0.003,\"1\"],[2.26,0.008,\"1\"],[3.42,0.003,\"1\"],[5.65,0.006,\"1\"],[5.72,0.001,\"1\"],[0.89,0.002,\"1\"],[1.57,0.002,\"1\"],[2.74,0.003,\"1\"],[0.79,0.008,\"1\"],[1.69,0.006,\"1\"],[6.21,0.002,\"1\"],[1.07,0.003,\"1\"],[3.95,0.005,\"1\"],[7.59,0.004,\"1\"],[0.98,0.005,\"1\"],[4.95,0.001,\"1\"],[0.8,0.008,\"1\"],[2.45,0.001,\"1\"],[1.36,0.004,\"1\"],[6.5,0.008,\"1\"],[6.75,0.003,\"1\"],[3.61,0.009,\"1\"],[0.81,0.005,\"1\"],[4.06,0.004,\"1\"],[4.42,0.002,\"1\"],[0.09,0.005,\"1\"],[3.26,0.003,\"1\"],[0.85,0.004,\"1\"],[7.12,0.003,\"1\"],[3.69,0.005,\"1\"],[3.41,0.008,\"1\"],[3.1,0.005,\"1\"],[1.53,0.001,\"1\"],[2.4,0.003,\"1\"],[3.08,0.003,\"1\"],[7.91,0.001,\"1\"],[0.07,0.006,\"1\"],[5.48,0.004,\"1\"],[0.67,0.007,\"1\"],[3.91,0.005,\"1\"],[4.95,0.003,\"1\"],[0.4,0.001,\"1\"],[4.69,0.009,\"1\"],[1.49,0.004,\"1\"],[2.91,0.007,\"1\"],[0.88,0.005,\"1\"],[6.8,0.007,\"1\"],[7.51,0.006,\"1\"],[5.92,0.001,\"1\"],[5.83,0.006,\"1\"],[5.17,0.003,\"1\"],[6.13,0.007,\"1\"],[4.36,0.006,\"1\"],[5.25,0.006,\"1\"],[7.24,0.005,\"1\"],[4.54,0.004,\"1\"],[1.44,0.003,\"1\"],[0.0,0.004,\"1\"],[7.33,0.002,\"1\"],[5.99,0.005,\"1\"],[4.62,0.003,\"1\"],[3.62,0.005,\"1\"],[5.23,0.004,\"1\"],[4.57,0.005,\"1\"],[6.69,0.007,\"1\"],[6.52,0.003,\"1\"],[0.83,0.008,\"1\"],[6.93,0.002,\"1\"],[5.34,0.002,\"1\"],[2.84,0.008,\"1\"],[6.11,0.008,\"1\"],[3.45,0.003,\"1\"],[3.71,0.003,\"1\"],[2.1,0.005,\"1\"],[1.83,0.007,\"1\"],[6.81,0.008,\"1\"],[7.02,0.001,\"1\"],[7.96,0.008,\"1\"],[7.07,0.002,\"1\"],[6.55,0.004,\"1\"],[6.76,0.004,\"1\"],[3.5,0.003,\"1\"],[6.99,0.004,\"1\"],[1.37,0.008,\"1\"],[3.47,0.009,\"1\"],[7.17,0.007,\"1\"],[6.68,0.009,\"1\"],[1.48,0.004,\"1\"],[1.09,0.008,\"1\"],[1.87,0.008,\"1\"],[4.6,0.005,\"1\"],[5.67,0.003,\"1\"],[3.74,0.007,\"1\"],[5.06,0.007,\"1\"],[0.75,0.001,\"1\"],[0.76,0.006,\"1\"],[1.77,0.007,\"1\"],[3.61,0.007,\"1\"],[1.63,0.003,\"1\"],[5.61,0.007,\"1\"],[3.33,0.003,\"1\"],[6.56,0.004,\"1\"],[3.04,0.006,\"1\"],[1.26,0.008,\"1\"],[5.95,0.004,\"1\"],[4.38,0.003,\"1\"],[7.43,0.001,\"1\"],[0.71,0.002,\"1\"],[6.03,0.005,\"1\"],[3.0,0.002,\"1\"],[3.25,0.006,\"1\"],[4.79,0.004,\"1\"],[5.23,0.005,\"1\"],[3.49,0.008,\"1\"],[3.48,0.002,\"1\"],[6.66,0.006,\"1\"],[6.84,0.004,\"1\"],[7.58,0.008,\"1\"],[3.95,0.008,\"1\"],[2.2,0.004,\"1\"],[2.11,0.005,\"1\"],[4.78,0.004,\"1\"],[2.37,0.004,\"1\"],[0.19,0.003,\"1\"],[4.22,0.001,\"1\"],[1.91,0.005,\"1\"],[5.4,0.002,\"1\"],[2.21,0.001,\"1\"],[1.42,0.004,\"1\"],[4.84,0.007,\"1\"],[3.7,0.006,\"1\"],[6.89,0.005,\"1\"],[7.18,0.001,\"1\"],[4.02,0.005,\"1\"],[6.12,0.006,\"1\"],[7.12,0.003,\"1\"],[0.1,0.005,\"1\"],[1.27,0.003,\"1\"],[0.83,0.003,\"1\"],[7.65,0.004,\"1\"],[3.67,0.003,\"1\"],[2.13,0.001,\"1\"],[2.5,0.002,\"1\"],[5.98,0.001,\"1\"],[4.76,0.008,\"1\"],[6.98,0.001,\"1\"],[3.23,0.001,\"1\"],[1.87,0.006,\"1\"],[7.18,0.001,\"1\"],[4.93,0.005,\"1\"],[3.03,0.002,\"1\"],[5.6,0.003,\"1\"],[1.8,0.006,\"1\"],[3.05,0.006,\"1\"],[1.7,0.003,\"1\"],[7.51,0.001,\"1\"],[0.73,0.003,\"1\"],[7.44,0.006,\"1\"],[6.37,0.008,\"1\"],[4.52,0.002,\"1\"],[4.99,0.009,\"1\"],[4.41,0.002,\"1\"],[5.66,0.006,\"1\"],[6.17,0.001,\"1\"],[1.54,0.007,\"1\"],[4.34,0.001,\"1\"],[3.31,0.002,\"1\"],[2.2,0.002,\"1\"],[7.38,0.001,\"1\"],[4.86,0.007,\"1\"],[4.78,0.004,\"1\"],[4.16,0.001,\"1\"],[1.1,0.009,\"1\"],[2.05,0.007,\"1\"],[1.68,0.001,\"1\"],[1.75,0.005,\"1\"],[5.23,0.007,\"1\"],[7.93,0.001,\"1\"],[3.09,0.006,\"1\"],[7.24,0.009,\"1\"],[1.41,0.008,\"1\"],[3.01,0.005,\"1\"],[6.9,0.003,\"1\"],[3.15,0.003,\"1\"],[6.06,0.006,\"1\"],[5.3,0.003,\"1\"],[4.33,0.009,\"1\"],[3.23,0.001,\"1\"],[0.26,0.001,\"1\"],[7.25,0.004,\"1\"],[4.62,0.002,\"1\"],[5.98,0.005,\"1\"],[3.67,0.006,\"1\"],[4.49,0.005,\"1\"],[1.19,0.001,\"1\"],[3.66,0.001,\"1\"],[7.17,0.002,\"1\"],[2.2,0.005,\"1\"],[6.12,0.007,\"1\"],[4.91,0.001,\"1\"],[5.38,0.008,\"1\"],[7.83,0.002,\"1\"],[6.44,0.008,\"1\"],[5.61,0.003,\"1\"],[2.59,0.001,\"1\"],[2.99,0.005,\"1\"],[1.64,0.001,\"1\"],[5.42,0.007,\"1\"],[4.86,0.005,\"1\"],[0.63,0.008,\"1\"],[5.17,0.001,\"1\"],[0.45,0.003,\"1\"],[4.08,0.007,\"1\"],[4.81,0.005,\"1\"],[0.17,0.002,\"1\"],[6.1,0.001,\"1\"],[1.77,0.001,\"1\"],[6.42,0.006,\"1\"],[0.88,0.001,\"1\"],[4.27,0.002,\"1\"],[6.95,0.005,\"1\"],[3.99,0.007,\"1\"],[7.96,0.002,\"1\"],[2.38,0.003,\"1\"],[2.83,0.009,\"1\"],[2.46,0.005,\"1\"],[7.78,0.007,\"1\"],[2.16,0.005,\"1\"],[2.83,0.002,\"1\"],[3.54,0.003,\"1\"],[4.57,0.004,\"1\"],[3.15,0.007,\"1\"],[4.71,0.004,\"1\"],[6.48,0.006,\"1\"],[2.73,0.002,\"1\"],[0.06,0.001,\"1\"],[4.36,0.008,\"1\"],[7.79,0.005,\"1\"],[1.43,0.008,\"1\"],[1.73,0.001,\"1\"],[6.89,0.005,\"1\"],[0.81,0.002,\"1\"],[6.93,0.005,\"1\"],[5.85,0.006,\"1\"],[5.14,0.001,\"1\"],[6.71,0.002,\"1\"],[1.78,0.007,\"1\"],[5.24,0.005,\"1\"],[5.89,0.001,\"1\"],[1.23,0.001,\"1\"],[5.47,0.002,\"1\"],[3.29,0.006,\"1\"],[4.07,0.001,\"1\"],[7.59,0.008,\"1\"],[4.18,0.005,\"1\"],[0.81,0.001,\"1\"],[0.71,0.006,\"1\"],[5.57,0.002,\"1\"],[7.3,0.001,\"1\"],[4.16,0.003,\"1\"],[4.11,0.007,\"1\"],[3.42,0.002,\"1\"],[3.51,0.002,\"1\"],[7.21,0.001,\"1\"],[6.26,0.008,\"1\"],[4.51,0.007,\"1\"],[1.74,0.005,\"1\"],[4.75,0.008,\"1\"],[6.81,0.001,\"1\"],[0.12,0.002,\"1\"],[2.4,0.001,\"1\"],[4.52,0.003,\"1\"],[6.99,0.001,\"1\"],[7.17,0.007,\"1\"],[1.22,0.003,\"1\"],[6.13,0.002,\"1\"],[4.1,0.007,\"1\"],[1.04,0.005,\"1\"],[2.29,0.006,\"1\"],[5.67,0.005,\"1\"],[3.31,0.005,\"1\"],[4.74,0.005,\"1\"],[0.21,0.006,\"1\"],[0.6,0.005,\"1\"],[2.16,0.006,\"1\"],[0.4,0.008,\"1\"],[1.67,0.002,\"1\"],[0.2,0.006,\"1\"],[5.35,0.008,\"1\"],[1.09,0.006,\"1\"],[3.41,0.001,\"1\"],[3.04,0.001,\"1\"],[2.14,0.001,\"1\"],[6.16,0.008,\"1\"],[6.0,0.004,\"1\"],[1.84,0.008,\"1\"],[0.23,0.006,\"1\"],[4.02,0.007,\"1\"],[3.96,0.005,\"1\"],[5.68,0.006,\"1\"],[5.12,0.008,\"1\"],[0.78,0.007,\"1\"],[1.36,0.009,\"1\"],[4.7,0.004,\"1\"],[4.56,0.005,\"1\"],[3.75,0.003,\"1\"],[5.1,0.001,\"1\"],[1.84,0.003,\"1\"],[7.43,0.002,\"1\"],[7.81,0.008,\"1\"],[1.8,0.007,\"1\"],[1.58,0.008,\"1\"],[3.05,0.009,\"1\"],[2.5,0.005,\"1\"],[7.24,0.001,\"1\"],[6.85,0.005,\"1\"],[1.81,0.005,\"1\"],[4.26,0.004,\"1\"],[4.85,0.001,\"1\"],[6.53,0.009,\"1\"],[0.0,0.008,\"1\"],[2.71,0.005,\"1\"],[2.98,0.007,\"1\"],[2.83,0.007,\"1\"],[6.13,0.002,\"1\"],[2.34,0.007,\"1\"],[3.41,0.003,\"1\"],[5.0,0.003,\"1\"],[0.08,0.006,\"1\"],[5.21,0.005,\"1\"],[1.51,0.001,\"1\"],[3.96,0.001,\"1\"],[2.52,0.002,\"1\"],[3.78,0.001,\"1\"],[0.32,0.001,\"1\"],[1.57,0.003,\"1\"],[3.17,0.005,\"1\"],[3.21,0.006,\"1\"],[4.58,0.006,\"1\"],[2.41,0.001,\"1\"],[5.73,0.005,\"1\"],[6.21,0.001,\"1\"],[6.07,0.005,\"1\"],[0.64,0.001,\"1\"],[1.53,0.002,\"1\"],[0.48,0.009,\"1\"],[5.88,0.001,\"1\"],[4.55,0.005,\"1\"],[2.94,0.007,\"1\"],[6.12,0.002,\"1\"],[2.01,0.003,\"1\"],[2.55,0.001,\"1\"],[3.33,0.001,\"1\"],[3.29,0.006,\"1\"],[7.85,0.009,\"1\"],[6.2,0.002,\"1\"],[7.99,0.001,\"1\"],[2.12,0.004,\"1\"],[6.86,0.007,\"1\"],[4.77,0.002,\"1\"],[0.1,0.006,\"1\"],[5.42,0.005,\"1\"],[4.54,0.008,\"1\"],[4.43,0.006,\"1\"],[7.12,0.002,\"1\"],[0.73,0.006,\"1\"],[2.8,0.002,\"1\"],[2.51,0.004,\"1\"],[3.1,0.009,\"1\"],[6.5,0.006,\"1\"],[5.33,0.001,\"1\"],[7.78,0.007,\"1\"],[6.68,0.005,\"1\"],[5.21,0.001,\"1\"],[5.17,0.009,\"1\"],[2.37,0.007,\"1\"],[3.01,0.005,\"1\"],[3.16,0.002,\"1\"],[4.54,0.002,\"1\"],[4.24,0.009,\"1\"],[4.63,0.009,\"1\"],[7.86,0.007,\"1\"],[0.96,0.002,\"1\"],[6.78,0.003,\"1\"],[0.34,0.008,\"1\"],[6.07,0.006,\"1\"],[2.19,0.004,\"1\"],[2.35,0.003,\"1\"],[5.23,0.006,\"1\"],[4.24,0.002,\"1\"],[6.23,0.008,\"1\"],[4.39,0.008,\"1\"],[5.65,0.001,\"1\"],[6.26,0.008,\"1\"],[7.54,0.001,\"1\"],[3.33,0.006,\"1\"],[6.32,0.002,\"1\"],[6.83,0.002,\"1\"],[5.67,0.009,\"1\"],[2.03,0.002,\"1\"],[1.82,0.001,\"1\"],[6.25,0.008,\"1\"],[2.92,0.003,\"1\"],[7.52,0.007,\"1\"],[1.39,0.001,\"1\"],[6.92,0.008,\"1\"],[0.5,0.005,\"1\"],[6.36,0.001,\"1\"],[3.53,0.004,\"1\"],[6.5,0.008,\"1\"],[2.77,0.004,\"1\"],[1.9,0.008,\"1\"],[1.49,0.008,\"1\"],[0.7,0.005,\"1\"],[6.81,0.003,\"1\"],[3.82,0.002,\"1\"],[3.08,0.006,\"1\"],[5.71,0.003,\"1\"],[0.17,0.001,\"1\"],[4.93,0.004,\"1\"],[6.28,0.004,\"1\"],[3.98,0.006,\"1\"],[1.39,0.005,\"1\"],[2.32,0.004,\"1\"],[7.15,0.003,\"1\"],[6.79,0.006,\"1\"],[0.51,0.006,\"1\"],[1.55,0.009,\"1\"],[6.56,0.008,\"1\"],[5.68,0.002,\"1\"],[3.02,0.001,\"1\"],[3.21,0.007,\"1\"],[6.58,0.006,\"1\"],[6.14,0.003,\"1\"],[4.05,0.005,\"1\"],[1.65,0.008,\"1\"],[6.69,0.007,\"1\"],[7.74,0.007,\"1\"],[4.59,0.004,\"1\"],[1.45,0.003,\"1\"],[7.17,0.001,\"1\"],[1.41,0.004,\"1\"],[6.1,0.005,\"1\"],[5.79,0.001,\"1\"],[6.76,0.003,\"1\"],[3.07,0.005,\"1\"],[3.76,0.004,\"1\"],[6.97,0.005,\"1\"],[0.14,0.008,\"1\"],[5.1,0.001,\"1\"],[0.4,0.008,\"1\"],[1.11,0.004,\"1\"],[3.33,0.003,\"1\"],[6.09,0.004,\"1\"],[2.56,0.003,\"1\"],[5.6,0.006,\"1\"],[4.14,0.003,\"1\"],[4.47,0.008,\"1\"],[1.1,0.003,\"1\"],[2.56,0.002,\"1\"],[4.05,0.007,\"1\"],[6.43,0.008,\"1\"],[6.3,0.001,\"1\"],[7.34,0.004,\"1\"],[1.07,0.003,\"1\"],[3.09,0.003,\"1\"],[5.98,0.007,\"1\"],[0.57,0.008,\"1\"],[7.49,0.004,\"1\"],[7.37,0.009,\"1\"],[1.03,0.001,\"1\"],[7.72,0.005,\"1\"],[2.25,0.001,\"1\"],[5.64,0.008,\"1\"],[0.83,0.008,\"1\"],[0.11,0.007,\"1\"],[3.84,0.003,\"1\"],[5.66,0.004,\"1\"],[1.82,0.009,\"1\"],[5.54,0.004,\"1\"],[2.92,0.007,\"1\"],[1.02,0.009,\"1\"],[0.65,0.001,\"1\"],[1.77,0.005,\"1\"],[2.14,0.004,\"1\"],[1.45,0.008,\"1\"],[1.51,0.002,\"1\"],[2.54,0.003,\"1\"],[1.58,0.004,\"1\"],[1.36,0.007,\"1\"],[1.35,0.001,\"1\"],[5.83,0.001,\"1\"],[7.85,0.001,\"1\"],[4.96,0.008,\"1\"],[7.18,0.008,\"1\"],[5.87,0.008,\"1\"],[1.99,0.005,\"1\"],[0.51,0.003,\"1\"],[4.47,0.006,\"1\"],[7.93,0.006,\"1\"],[3.83,0.005,\"1\"],[1.96,0.002,\"1\"],[6.26,0.005,\"1\"],[1.18,0.005,\"1\"],[4.79,0.005,\"1\"],[3.7,0.009,\"1\"],[6.25,0.006,\"1\"],[4.37,0.008,\"1\"],[2.81,0.004,\"1\"],[7.66,0.005,\"1\"],[0.26,0.006,\"1\"],[1.9,0.009,\"1\"],[3.49,0.006,\"1\"],[3.35,0.007,\"1\"],[4.98,0.008,\"1\"],[0.41,0.004,\"1\"],[0.38,0.004,\"1\"],[4.49,0.007,\"1\"],[3.37,0.004,\"1\"],[7.67,0.007,\"1\"],[4.97,0.001,\"1\"],[6.39,0.002,\"1\"],[1.79,0.001,\"1\"],[5.42,0.006,\"1\"],[5.18,0.008,\"1\"],[2.47,0.004,\"1\"],[6.12,0.004,\"1\"],[4.08,0.001,\"1\"],[4.13,0.004,\"1\"],[1.89,0.004,\"1\"],[0.65,0.007,\"1\"],[6.6,0.002,\"1\"],[1.87,0.006,\"1\"],[1.78,0.003,\"1\"],[1.99,0.005,\"1\"],[7.42,0.001,\"1\"],[4.27,0.003,\"1\"],[2.96,0.008,\"1\"],[1.87,0.006,\"1\"],[4.4,0.001,\"1\"],[6.9,0.007,\"1\"],[4.01,0.005,\"1\"],[7.78,0.009,\"1\"],[7.93,0.008,\"1\"],[3.53,0.007,\"1\"],[3.16,0.001,\"1\"],[5.06,0.009,\"1\"],[1.19,0.001,\"1\"],[4.06,0.006,\"1\"],[4.18,0.001,\"1\"],[0.63,0.002,\"1\"],[0.46,0.001,\"1\"],[2.35,0.001,\"1\"],[5.09,0.006,\"1\"],[3.9,0.002,\"1\"],[7.43,0.006,\"1\"],[3.7,0.003,\"1\"],[3.53,0.006,\"1\"],[5.43,0.006,\"1\"],[6.15,0.007,\"1\"],[1.01,0.001,\"1\"],[3.02,0.002,\"1\"],[4.43,0.007,\"1\"],[5.61,0.006,\"1\"],[2.69,0.008,\"1\"],[5.37,0.005,\"1\"],[7.87,0.001,\"1\"],[6.54,0.001,\"1\"],[3.63,0.002,\"1\"],[5.22,0.006,\"1\"],[2.46,0.002,\"1\"],[2.91,0.04,\"1\"],[3.17,0.02,\"1\"],[5.79,0.12,\"1\"],[7.89,0.09,\"1\"],[6.24,0.12,\"1\"],[4.64,0.12,\"1\"],[2.58,0.02,\"1\"],[0.94,0.05,\"1\"],[6.39,0.02,\"1\"],[0.85,0.08,\"1\"],[6.51,0.01,\"1\"],[3.28,0.13,\"1\"],[4.15,0.06,\"1\"],[7.89,0.1,\"1\"],[3.75,0.05,\"1\"],[1.43,0.13,\"1\"],[1.45,0.04,\"1\"],[5.08,0.07,\"1\"],[4.83,0.06,\"1\"],[0.45,0.11,\"1\"],[3.17,0.03,\"1\"],[8.13,0.12,\"1\"],[5.79,0.11,\"1\"],[2.03,0.1,\"1\"],[1.3,0.12,\"1\"],[2.32,0.11,\"1\"],[2.77,0.1,\"1\"],[5.64,0.05,\"1\"],[6.13,0.05,\"1\"],[7.18,0.12,\"1\"],[3.7,0.12,\"1\"],[2.06,0.07,\"1\"],[1.16,0.1,\"1\"],[4.09,0.13,\"1\"],[4.65,0.11,\"1\"],[1.6,0.03,\"1\"],[4.7,0.11,\"1\"],[4.09,0.11,\"1\"],[5.93,0.09,\"1\"],[8.33,0.1,\"1\"],[2.11,0.11,\"1\"],[8.66,0.03,\"1\"],[7.02,0.06,\"1\"],[2.03,0.04,\"1\"],[0.4,0.04,\"1\"],[3.21,0.03,\"1\"],[4.17,0.01,\"1\"],[5.36,0.04,\"1\"],[4.54,0.04,\"1\"],[2.67,0.006,\"1\"],[2.99,0.007,\"1\"],[5.71,0.003,\"1\"],[7.52,0.006,\"1\"],[1.12,0.006,\"1\"],[4.43,0.006,\"1\"],[2.52,0.001,\"1\"],[0.79,0.008,\"1\"],[6.21,0.002,\"1\"],[7.91,0.001,\"1\"],[0.54,0.003,\"1\"],[6.29,0.002,\"1\"],[5.25,0.006,\"1\"],[2.84,0.008,\"1\"],[3.45,0.003,\"1\"],[7.43,0.001,\"1\"],[3.67,0.001,\"1\"],[0.71,0.007,\"1\"],[1.27,0.003,\"1\"],[4.99,0.009,\"1\"],[4.78,0.004,\"1\"],[0.17,0.002,\"1\"],[2.83,0.002,\"1\"],[7.57,0.007,\"1\"],[5.47,0.002,\"1\"],[1.22,0.003,\"1\"],[2.16,0.006,\"1\"],[2.71,0.005,\"1\"],[5.59,0.006,\"1\"],[5.88,0.001,\"1\"],[6.2,0.002,\"1\"],[3.65,0.006,\"1\"],[2.03,0.004,\"1\"],[0.96,0.002,\"1\"],[4.05,0.005,\"1\"],[4.62,0.004,\"1\"],[1.11,0.004,\"1\"],[4.47,0.008,\"1\"],[4.05,0.007,\"1\"],[5.66,0.004,\"1\"],[7.85,0.001,\"1\"],[1.99,0.005,\"1\"],[7.93,0.006,\"1\"],[6.6,0.002,\"1\"],[0.21,0.007,\"1\"],[3.16,0.001,\"1\"],[4.0,0.004,\"1\"],[5.09,0.006,\"1\"],[4.43,0.007,\"1\"],[2.77,0.05,\"1\"],[3.8,0.11,\"1\"],[5.73,0.07,\"1\"],[7.54,0.07,\"1\"],[6.25,0.03,\"1\"],[4.55,0.04,\"1\"],[2.72,0.02,\"1\"],[0.94,0.05,\"1\"],[6.22,0.04,\"1\"],[0.84,0.06,\"1\"],[6.78,0.07,\"1\"],[3.34,0.02,\"1\"],[3.52,0.08,\"1\"],[7.45,0.06,\"1\"],[3.7,0.05,\"1\"],[0.88,0.01,\"1\"],[1.37,0.03,\"1\"],[5.07,0.03,\"1\"],[4.81,0.04,\"1\"],[0.52,0.04,\"1\"],[2.92,0.03,\"1\"],[7.59,0.1,\"1\"],[5.57,0.09,\"1\"],[1.21,0.12,\"1\"],[1.3,0.06,\"1\"],[2.23,0.02,\"1\"],[2.91,0.05,\"1\"],[5.72,0.13,\"1\"],[6.86,0.11,\"1\"],[6.26,0.04,\"1\"],[4.01,0.11,\"1\"],[2.04,0.1,\"1\"],[1.18,0.11,\"1\"],[4.85,0.09,\"1\"],[4.7,0.08,\"1\"],[1.29,0.09,\"1\"],[4.62,0.03,\"1\"],[4.25,0.09,\"1\"],[6.2,0.02,\"1\"],[8.05,0.09,\"1\"],[2.16,0.08,\"1\"],[8.13,0.07,\"1\"],[6.7,0.03,\"1\"],[2.89,0.03,\"1\"],[0.32,0.09,\"1\"],[3.19,0.02,\"1\"],[4.21,0.12,\"1\"],[5.14,0.12,\"1\"],[4.94,0.08,\"1\"],[0.02,0.04,\"1\"],[0.21,0.01,\"1\"],[0.49,0.06,\"1\"],[0.38,0.03,\"1\"],[0.09,0.06,\"1\"],[0.3,0.05,\"1\"],[0.2,0.01,\"1\"],[0.23,0.02,\"1\"],[0.2,0.0,\"1\"],[0.02,0.09,\"1\"],[0.07,0.01,\"1\"],[0.02,0.08,\"1\"],[0.06,0.05,\"1\"],[0.7,0.08,\"1\"],[0.3,0.07,\"1\"],[0.01,0.01,\"1\"],[0.2,0.01,\"1\"],[0.03,0.06,\"1\"],[0.52,0.09,\"1\"],[0.23,0.0,\"1\"],[0.17,0.04,\"1\"],[0.25,0.06,\"1\"],[0.32,0.0,\"1\"],[0.55,0.02,\"1\"],[0.08,0.03,\"1\"],[0.05,0.06,\"1\"],[0.01,0.08,\"1\"],[0.2,0.09,\"1\"],[0.04,0.06,\"1\"],[0.08,0.03,\"1\"],[0.12,0.06,\"1\"],[0.56,0.07,\"1\"],[0.46,0.05,\"1\"],[0.32,0.04,\"1\"],[0.04,0.04,\"1\"],[0.35,0.06,\"1\"],[0.02,0.09,\"1\"],[0.47,0.03,\"1\"],[0.01,0.07,\"1\"],[0.27,0.02,\"1\"],[0.23,0.05,\"1\"],[0.05,0.09,\"1\"],[0.08,0.04,\"1\"],[0.06,0.05,\"1\"],[0.49,0.06,\"1\"],[0.08,0.03,\"1\"],[0.06,0.07,\"1\"],[0.42,0.08,\"1\"],[0.15,0.06,\"1\"],[0.04,0.01,\"1\"],[0.67,0.04,\"1\"],[0.0,0.03,\"1\"],[0.01,0.05,\"1\"],[0.09,0.07,\"1\"],[0.44,0.03,\"1\"],[0.04,0.09,\"1\"],[0.17,0.08,\"1\"],[0.01,0.08,\"1\"],[0.02,0.09,\"1\"],[0.32,0.03,\"1\"],[0.04,0.08,\"1\"],[0.04,0.08,\"1\"],[0.07,0.06,\"1\"],[0.1,0.02,\"1\"],[0.07,0.03,\"1\"],[0.06,0.05,\"1\"],[0.16,0.02,\"1\"],[0.11,0.02,\"1\"],[0.01,0.04,\"1\"],[0.09,0.07,\"1\"],[0.12,0.03,\"1\"],[0.5,0.06,\"1\"],[0.27,0.09,\"1\"],[0.59,0.05,\"1\"],[0.09,0.02,\"1\"],[0.12,0.02,\"1\"],[0.26,0.02,\"1\"],[0.1,0.06,\"1\"],[0.01,0.03,\"1\"],[0.72,0.05,\"1\"],[0.34,0.04,\"1\"],[0.49,0.05,\"1\"],[0.16,0.03,\"1\"],[0.06,0.06,\"1\"],[0.54,0.02,\"1\"],[0.2,0.05,\"1\"],[0.13,0.01,\"1\"],[0.1,0.08,\"1\"],[0.08,0.09,\"1\"],[0.22,0.03,\"1\"],[0.05,0.09,\"1\"],[0.45,0.04,\"1\"],[0.07,0.08,\"1\"],[0.0,0.09,\"1\"],[0.18,0.06,\"1\"],[0.02,0.02,\"1\"],[0.01,0.09,\"1\"],[0.28,0.01,\"1\"],[0.32,0.06,\"1\"],[0.06,0.02,\"1\"],[0.09,0.05,\"1\"],[0.48,0.08,\"1\"],[0.03,0.07,\"1\"],[0.08,0.09,\"1\"],[0.04,0.09,\"1\"],[0.01,0.01,\"1\"],[0.22,0.08,\"1\"],[0.08,0.04,\"1\"],[0.57,0.02,\"1\"],[0.1,0.04,\"1\"],[0.45,0.01,\"1\"],[0.05,0.03,\"1\"],[2.0,0.0,\"1\"],[0.05,0.03,\"1\"]],\"hovertemplate\":\"is_safe=%{customdata[2]}<br>aluminium=%{x}<br>silver=%{y}<br>perchlorate=%{z}<br>chloramine=%{customdata[0]}<br>cadmium=%{customdata[1]}<extra></extra>\",\"legendgroup\":\"1\",\"marker\":{\"color\":\"#EF553B\",\"symbol\":\"circle\",\"size\":2},\"mode\":\"markers\",\"name\":\"1\",\"scene\":\"scene\",\"showlegend\":true,\"x\":[1.65,2.32,1.36,0.92,0.94,0.6,0.22,1.35,1.88,4.93,2.89,0.61,3.47,2.11,4.12,0.68,1.15,0.27,3.31,1.82,4.41,1.69,1.87,2.71,4.49,3.52,4.35,3.37,1.51,2.68,0.3,0.23,2.55,4.32,0.24,0.42,0.77,0.6,0.58,3.82,2.78,3.62,4.64,2.25,0.54,4.62,2.5,3.08,2.73,3.02,2.35,2.45,3.3,1.19,0.85,0.5,1.89,3.75,1.75,0.94,2.76,0.43,2.63,0.88,3.03,4.91,1.15,4.8,1.62,2.68,0.09,4.66,2.74,3.52,1.82,2.91,3.53,3.04,2.21,1.92,2.12,4.21,2.56,3.94,1.22,0.8,3.31,2.59,3.9,0.18,0.07,2.71,4.34,0.92,2.39,0.9,0.89,4.91,3.37,3.69,4.71,4.5,2.69,4.3,2.17,5.0,2.6,0.35,3.83,2.9,1.56,4.34,2.23,3.81,1.12,4.0,1.55,2.56,2.99,1.36,3.83,0.47,0.01,3.62,2.82,1.05,1.21,3.35,1.75,1.86,0.54,0.29,3.29,0.22,2.35,4.04,3.6,3.71,0.61,3.05,0.84,1.98,4.18,3.27,0.59,0.36,1.4,1.46,0.93,0.78,4.48,0.71,0.87,2.69,1.21,4.36,0.57,2.14,0.15,2.01,1.72,4.38,3.73,2.97,2.32,3.95,2.22,3.84,3.97,3.73,2.71,3.24,3.85,2.91,3.44,2.2,1.14,0.0,1.14,0.09,2.9,4.07,1.44,3.89,2.09,4.79,0.19,4.77,3.81,0.76,3.36,4.27,1.9,1.44,4.26,3.19,1.24,3.36,3.29,2.94,0.49,2.82,4.19,2.26,3.05,0.78,3.67,2.94,0.93,3.59,3.46,2.79,1.77,0.39,1.07,0.62,4.64,1.09,2.5,3.96,3.49,3.46,2.89,0.27,0.9,0.83,0.72,3.12,3.98,4.39,1.09,4.44,0.78,2.06,0.95,2.24,4.0,0.39,2.33,2.54,1.93,3.91,3.09,4.53,4.71,1.81,4.62,4.18,1.12,0.14,3.01,3.51,1.4,1.77,1.99,0.84,2.14,3.93,4.73,3.69,3.01,1.15,4.66,4.73,2.33,1.34,3.62,1.82,1.79,0.18,3.01,2.04,2.8,3.34,1.92,0.93,2.46,1.36,1.77,2.92,1.38,1.55,2.78,0.63,0.24,3.79,3.0,4.79,2.64,1.36,0.65,0.24,2.65,4.84,4.29,4.3,4.13,2.01,2.02,3.81,4.35,4.39,0.99,3.38,1.66,0.33,1.65,3.25,3.72,4.04,0.35,4.15,1.54,1.71,0.15,4.76,0.7,0.87,2.99,4.96,2.79,3.13,4.7,0.36,3.57,0.01,2.06,4.05,4.98,4.55,2.77,1.52,4.95,0.19,1.45,2.69,2.45,0.5,3.52,2.24,0.95,1.65,2.08,1.49,1.08,4.11,3.36,2.1,4.85,0.71,4.77,2.2,0.11,2.22,2.08,2.88,2.21,2.1,1.08,4.08,4.5,2.05,1.55,0.41,0.97,4.25,1.19,0.96,4.65,2.78,3.97,0.46,3.0,1.87,3.59,4.03,1.06,1.22,4.03,2.67,2.24,2.63,4.38,3.59,2.01,3.15,3.25,4.06,4.49,1.88,1.39,1.92,3.38,1.03,0.92,4.93,1.48,3.69,3.85,3.61,3.18,3.74,4.82,4.98,2.38,0.92,3.01,3.62,0.71,0.25,0.53,3.79,2.47,1.82,4.35,3.99,0.21,1.93,0.55,1.08,0.41,0.54,0.92,2.97,0.32,2.91,1.37,4.72,0.31,1.37,2.33,4.74,4.61,1.2,1.28,3.48,1.79,3.62,1.19,3.48,1.35,2.63,3.14,3.54,0.43,0.56,1.81,4.1,3.47,4.27,0.76,0.69,3.85,0.36,4.59,0.93,0.26,2.04,1.54,1.4,1.08,0.81,0.94,0.43,0.32,0.58,0.16,0.45,0.45,3.2,1.27,4.39,1.86,2.41,1.51,3.13,2.85,0.23,2.25,2.54,2.45,3.13,4.39,1.55,2.56,0.42,2.13,4.75,3.93,0.86,2.06,4.78,3.43,4.81,0.48,2.67,3.21,3.83,1.14,0.17,2.27,1.32,2.89,4.2,2.29,0.43,2.99,1.75,1.25,1.01,1.95,4.35,3.2,0.85,0.05,2.93,3.99,1.4,0.31,4.36,2.46,3.6,3.88,1.41,1.01,2.91,0.42,0.29,1.7,4.36,3.18,0.19,2.73,3.65,2.91,2.24,1.86,0.53,4.98,1.16,1.06,1.27,4.13,3.82,3.52,4.19,3.47,0.5,0.03,0.31,0.49,4.76,3.42,3.79,0.06,1.72,0.6,4.55,2.25,0.67,4.27,2.16,3.47,2.66,4.87,3.88,0.34,0.02,0.93,3.67,2.74,2.36,2.72,3.54,0.52,2.46,0.18,2.5,2.36,2.48,0.68,3.72,4.76,2.54,0.91,0.42,4.32,0.44,3.5,0.75,3.26,2.76,0.75,4.55,1.12,0.99,3.71,3.56,1.5,0.56,1.05,4.96,0.22,3.28,3.92,4.19,2.75,2.82,1.34,3.45,2.58,2.64,2.72,4.69,3.51,3.73,2.17,0.36,3.68,3.62,0.15,2.1,1.34,1.74,3.68,3.87,1.32,2.54,0.0,0.16,3.57,4.39,2.59,0.47,4.7,1.13,0.28,4.4,0.8,3.59,1.69,4.51,4.91,3.94,0.05,2.72,4.57,1.14,2.47,2.26,4.33,0.97,0.34,1.56,0.9,3.37,4.2,3.09,3.95,0.12,4.47,2.16,0.83,0.76,0.24,3.41,2.75,1.14,1.98,3.06,4.34,3.77,1.56,2.82,0.24,2.13,1.02,3.79,3.4,1.42,3.53,2.02,2.71,0.99,0.1,2.03,0.24,0.58,1.11,4.6,2.77,0.23,2.53,2.69,3.56,4.95,3.92,0.98,0.52,4.96,0.09,0.01,0.06,0.07,0.17,0.27,0.06,0.1,0.08,0.09,0.08,0.03,0.07,0.24,0.02,0.34,0.03,0.12,0.16,0.24,0.05,0.17,0.01,0.05,0.03,0.1,0.29,0.01,0.05,0.1,0.07,0.28,0.01,0.05,0.18,0.08,0.03,0.07,0.09,0.29,0.1,0.09,0.04,0.13,0.16,0.09,0.02,0.05,0.0,0.04,0.02,0.09,0.09,0.06,0.05,0.13,0.27,0.09,0.14,0.03,0.22,0.07,0.13,0.12,0.18,0.12,0.39,0.01,0.11,0.05,0.03,0.04,0.33,0.03,0.03,0.05,0.12,0.26,0.02,0.02,0.03,0.07,0.16,0.05,0.19,0.05,0.08,0.06,0.09,0.2,0.06,0.19,0.02,0.22,0.01,0.06,0.39,0.02,0.06,0.06,0.05,0.1,0.07,0.07,0.06,0.05,0.07,0.02,0.07,0.03,0.02,0.05,0.06,0.06,0.01,0.09,0.05,0.03,0.1,0.03,0.08,0.02,0.04,0.09,0.04,0.05,0.08,0.04,0.03,0.09,0.04,0.01,0.07,0.08,0.06,0.0,0.04,0.07,0.09,0.01,0.06,0.02,0.02,0.04,0.06,0.03,0.03,0.03,0.06,0.05,0.06,0.04,0.06,0.03,0.05,0.06,0.09,0.0,0.03,0.01,0.07,0.04,0.05,0.08,0.06,0.04,0.08,0.01,0.07,0.09,0.1,0.06,0.04,0.01,0.02,0.06,0.01,0.1,0.04,0.01,0.07,0.09,0.08,0.07,0.08,0.08,0.01,0.09,0.0,0.04,0.03,0.09,0.05,0.07,0.08,0.09,0.02,0.09,0.1,0.05,0.02,0.03,0.04,0.07,0.03,0.04,0.02,0.05,0.05,0.09,0.01,0.04],\"y\":[0.34,0.27,0.45,0.06,0.19,0.25,0.31,0.48,0.06,0.38,0.05,0.47,0.12,0.4,0.1,0.13,0.01,0.16,0.47,0.26,0.2,0.11,0.48,0.05,0.16,0.37,0.35,0.46,0.0,0.43,0.42,0.03,0.27,0.12,0.24,0.21,0.35,0.24,0.18,0.48,0.17,0.33,0.26,0.02,0.43,0.31,0.37,0.21,0.17,0.32,0.41,0.09,0.08,0.32,0.1,0.12,0.26,0.03,0.15,0.14,0.21,0.11,0.38,0.27,0.17,0.03,0.38,0.42,0.47,0.12,0.31,0.1,0.05,0.03,0.4,0.38,0.01,0.09,0.5,0.41,0.2,0.28,0.11,0.46,0.34,0.15,0.32,0.11,0.01,0.44,0.0,0.4,0.16,0.41,0.44,0.44,0.03,0.31,0.18,0.44,0.27,0.02,0.13,0.24,0.33,0.05,0.04,0.42,0.11,0.48,0.42,0.15,0.4,0.36,0.42,0.04,0.23,0.14,0.25,0.03,0.15,0.2,0.01,0.07,0.09,0.42,0.03,0.02,0.12,0.08,0.15,0.13,0.33,0.03,0.3,0.37,0.04,0.08,0.08,0.24,0.04,0.29,0.19,0.34,0.48,0.11,0.47,0.33,0.04,0.07,0.49,0.05,0.44,0.44,0.12,0.07,0.49,0.35,0.43,0.17,0.33,0.05,0.05,0.49,0.19,0.47,0.36,0.38,0.22,0.07,0.4,0.32,0.19,0.04,0.02,0.33,0.15,0.27,0.16,0.07,0.06,0.38,0.4,0.49,0.17,0.12,0.06,0.49,0.4,0.47,0.39,0.31,0.27,0.15,0.27,0.16,0.27,0.2,0.42,0.01,0.37,0.5,0.11,0.04,0.18,0.12,0.38,0.24,0.03,0.39,0.18,0.32,0.24,0.2,0.1,0.17,0.15,0.1,0.23,0.1,0.18,0.28,0.48,0.02,0.07,0.24,0.43,0.35,0.21,0.29,0.45,0.35,0.12,0.47,0.45,0.26,0.29,0.23,0.13,0.15,0.02,0.41,0.36,0.06,0.44,0.48,0.26,0.09,0.04,0.45,0.01,0.09,0.08,0.37,0.13,0.14,0.12,0.17,0.31,0.45,0.23,0.12,0.41,0.08,0.38,0.3,0.45,0.25,0.3,0.29,0.27,0.36,0.45,0.31,0.18,0.45,0.08,0.2,0.07,0.39,0.42,0.27,0.09,0.37,0.39,0.27,0.47,0.22,0.18,0.42,0.21,0.29,0.42,0.21,0.05,0.29,0.32,0.32,0.39,0.33,0.42,0.23,0.18,0.24,0.04,0.12,0.06,0.27,0.1,0.16,0.41,0.33,0.49,0.49,0.27,0.48,0.45,0.26,0.25,0.32,0.19,0.02,0.23,0.15,0.06,0.08,0.42,0.44,0.26,0.33,0.06,0.25,0.16,0.18,0.07,0.06,0.3,0.41,0.03,0.1,0.1,0.45,0.34,0.48,0.18,0.49,0.47,0.24,0.2,0.39,0.21,0.4,0.28,0.47,0.05,0.03,0.33,0.03,0.42,0.02,0.3,0.23,0.27,0.42,0.09,0.42,0.45,0.43,0.35,0.5,0.38,0.27,0.42,0.33,0.11,0.11,0.49,0.18,0.41,0.36,0.12,0.19,0.02,0.25,0.44,0.21,0.22,0.38,0.4,0.17,0.31,0.46,0.21,0.41,0.01,0.19,0.31,0.43,0.49,0.46,0.35,0.05,0.22,0.32,0.07,0.15,0.26,0.15,0.39,0.41,0.28,0.48,0.11,0.39,0.24,0.33,0.11,0.16,0.08,0.17,0.36,0.13,0.21,0.22,0.09,0.2,0.05,0.37,0.33,0.12,0.28,0.42,0.17,0.48,0.21,0.08,0.08,0.18,0.41,0.1,0.27,0.41,0.18,0.23,0.22,0.03,0.04,0.21,0.25,0.21,0.09,0.4,0.32,0.41,0.5,0.28,0.32,0.29,0.34,0.18,0.45,0.07,0.05,0.47,0.36,0.37,0.1,0.4,0.4,0.42,0.21,0.14,0.4,0.09,0.13,0.25,0.33,0.06,0.03,0.03,0.23,0.39,0.45,0.26,0.43,0.08,0.28,0.17,0.31,0.05,0.47,0.34,0.48,0.22,0.17,0.03,0.22,0.29,0.01,0.21,0.28,0.11,0.04,0.13,0.03,0.31,0.43,0.2,0.18,0.47,0.49,0.06,0.24,0.24,0.06,0.01,0.16,0.41,0.11,0.42,0.37,0.16,0.0,0.39,0.26,0.17,0.31,0.37,0.34,0.43,0.08,0.0,0.11,0.1,0.49,0.34,0.11,0.05,0.49,0.5,0.03,0.22,0.37,0.12,0.23,0.17,0.44,0.46,0.39,0.02,0.19,0.2,0.08,0.49,0.27,0.18,0.13,0.04,0.45,0.47,0.29,0.19,0.23,0.21,0.3,0.23,0.19,0.45,0.04,0.07,0.05,0.38,0.09,0.42,0.38,0.11,0.04,0.41,0.29,0.03,0.11,0.13,0.47,0.34,0.36,0.21,0.43,0.33,0.26,0.2,0.07,0.16,0.36,0.24,0.37,0.19,0.46,0.19,0.41,0.13,0.26,0.06,0.29,0.07,0.23,0.37,0.49,0.21,0.13,0.14,0.42,0.01,0.02,0.48,0.04,0.35,0.3,0.2,0.24,0.43,0.3,0.05,0.44,0.04,0.13,0.06,0.13,0.06,0.37,0.01,0.13,0.25,0.42,0.07,0.12,0.06,0.45,0.42,0.27,0.35,0.24,0.07,0.07,0.19,0.49,0.01,0.46,0.24,0.05,0.14,0.05,0.06,0.01,0.0,0.1,0.08,0.02,0.09,0.01,0.0,0.03,0.1,0.07,0.05,0.06,0.1,0.05,0.1,0.02,0.01,0.05,0.1,0.03,0.06,0.07,0.05,0.09,0.05,0.07,0.05,0.08,0.05,0.08,0.05,0.06,0.1,0.0,0.05,0.03,0.04,0.09,0.04,0.03,0.01,0.04,0.04,0.06,0.03,0.07,0.07,0.06,0.01,0.0,0.1,0.03,0.02,0.09,0.01,0.0,0.04,0.03,0.1,0.03,0.07,0.05,0.06,0.1,0.05,0.1,0.02,0.01,0.05,0.1,0.03,0.06,0.05,0.09,0.05,0.07,0.05,0.08,0.05,0.08,0.05,0.06,0.1,0.0,0.05,0.03,0.04,0.09,0.04,0.03,0.01,0.04,0.06,0.03,0.07,0.07,0.06,0.01,0.0,0.1,0.08,0.02,0.09,0.01,0.0,0.03,0.1,0.07,0.05,0.06,0.1,0.05,0.1,0.02,0.01,0.05,0.1,0.03,0.06,0.07,0.05,0.09,0.05,0.07,0.05,0.08,0.05,0.08,0.05,0.06,0.1,0.0,0.05,0.03,0.04,0.09,0.04,0.03,0.01,0.04,0.04,0.06,0.03,0.07,0.07,0.04,0.01,0.04,0.02,0.09,0.01,0.0,0.07,0.0,0.05,0.08,0.05,0.04,0.08,0.05,0.02,0.03,0.06,0.01,0.02,0.09,0.03,0.01,0.06,0.07,0.02,0.07,0.0,0.1,0.03,0.09,0.07,0.06,0.04,0.03,0.03,0.01,0.02,0.01,0.04,0.08,0.07,0.07,0.01,0.02,0.04,0.04,0.04,0.01,0.1,0.01,0.06,0.02,0.07,0.08,0.05,0.05,0.01,0.05,0.03,0.09,0.08,0.08,0.01,0.09,0.04,0.04,0.03,0.02,0.05,0.06,0.04,0.09,0.05,0.03,0.09,0.06,0.02,0.02,0.04,0.04,0.03,0.03,0.01,0.08,0.05,0.0,0.1,0.03,0.01,0.02,0.09,0.04,0.1,0.04,0.05,0.04,0.02,0.06,0.03,0.08,0.02,0.03,0.0,0.08,0.09,0.04,0.03,0.07,0.06,0.1,0.04,0.0,0.04],\"z\":[37.75,32.26,9.12,16.9,27.17,23.43,30.42,21.52,22.12,26.8,17.54,11.16,0.18,19.4,24.29,21.79,14.6,34.64,39.4,44.76,24.91,24.61,20.32,14.16,36.52,24.84,0.73,23.6,17.24,21.79,16.99,28.03,11.0,5.2,10.21,13.9,30.41,31.6,2.75,14.98,40.47,23.25,29.55,34.47,29.48,18.61,33.95,3.77,25.97,8.33,27.48,15.08,3.26,38.31,6.24,21.89,21.87,5.73,8.65,46.24,34.48,10.88,39.05,10.75,31.57,6.87,10.62,33.02,3.47,28.47,32.48,25.77,33.97,22.9,33.24,21.38,37.15,14.55,4.28,15.3,0.91,1.02,42.15,6.89,49.49,35.76,8.41,11.49,47.93,53.23,18.68,17.62,22.76,20.28,21.22,25.15,16.42,17.53,19.33,14.24,19.6,15.98,20.14,44.88,10.72,18.43,1.25,22.58,33.89,53.46,4.72,21.12,3.24,47.47,16.0,4.59,27.95,15.96,34.97,32.94,33.8,4.51,40.53,37.89,30.36,0.54,30.86,19.55,6.22,21.46,48.75,26.27,30.49,42.85,25.81,24.01,32.55,23.58,27.53,28.79,40.52,47.78,1.89,8.3,2.43,47.92,29.73,5.44,28.71,22.15,30.91,35.17,36.59,16.9,5.67,26.88,16.39,30.25,7.96,14.91,12.99,24.76,27.75,0.58,13.09,2.43,22.17,13.46,4.89,40.92,10.82,6.7,29.96,1.09,1.17,25.43,11.2,17.72,32.91,8.7,0.31,19.37,21.67,51.76,24.8,35.86,38.2,14.31,25.55,33.34,19.09,29.45,13.86,48.1,27.89,21.92,19.99,29.4,24.98,0.34,18.2,30.01,23.35,31.36,13.89,13.01,12.9,27.88,12.94,27.6,18.51,31.13,3.49,36.04,13.03,2.63,7.62,33.17,44.16,27.56,14.7,50.82,31.62,1.12,36.46,29.81,30.21,40.27,32.35,8.56,41.01,3.3,42.43,15.21,46.85,6.36,40.62,25.23,9.33,4.32,16.21,30.24,43.27,51.54,6.92,11.04,10.0,5.87,34.99,17.68,43.22,32.15,39.65,6.17,44.54,0.4,6.97,1.05,9.67,50.04,36.36,13.75,15.52,5.72,12.48,3.99,29.35,37.41,10.01,15.29,47.83,24.13,24.98,22.0,26.22,14.24,8.62,12.93,10.44,11.36,27.25,21.94,29.98,28.58,39.12,9.33,41.93,16.55,5.91,3.23,16.85,13.3,9.72,25.89,1.22,7.63,38.32,3.17,29.85,4.27,16.75,33.56,8.75,47.83,26.42,4.51,23.26,20.86,36.49,38.53,11.39,36.32,15.73,5.74,38.53,19.53,33.11,3.43,27.25,31.08,16.31,18.64,23.22,26.57,3.3,1.87,31.24,14.78,20.9,0.74,25.95,29.0,26.15,56.89,2.08,0.33,37.13,3.14,6.43,18.77,20.55,38.27,15.84,15.26,29.3,24.73,14.49,34.68,22.43,23.36,15.47,18.03,14.71,15.81,18.52,51.29,28.03,15.42,40.75,2.88,18.88,21.35,25.24,6.86,0.48,15.8,17.72,0.9,7.6,28.44,53.36,42.98,17.04,36.11,6.39,17.62,2.16,24.43,5.89,5.35,30.09,11.52,17.71,24.82,10.95,34.91,9.55,9.01,45.28,8.02,45.85,24.53,44.5,19.33,7.24,34.7,11.97,30.09,7.88,3.13,10.48,13.59,1.49,55.45,47.49,10.16,32.08,5.01,31.84,7.01,29.27,19.26,22.35,20.7,30.79,13.32,16.74,39.45,11.1,7.3,16.24,7.51,10.5,33.87,24.65,22.24,13.29,41.66,32.32,21.31,31.59,28.2,25.23,26.68,9.13,11.3,28.26,3.98,3.38,28.76,8.0,9.66,1.95,9.82,4.14,1.35,19.72,18.38,17.89,14.92,36.9,16.17,1.7,1.56,31.78,10.93,23.72,30.05,11.83,7.69,22.03,10.49,44.62,13.14,20.36,29.0,23.22,28.46,9.06,25.84,12.9,7.82,39.06,1.88,19.46,16.35,2.87,16.47,26.12,14.67,4.79,15.09,4.79,19.77,11.39,25.83,21.38,9.56,22.88,32.6,13.88,41.91,36.15,2.72,27.84,42.42,28.19,16.54,10.45,4.8,51.03,26.53,14.49,16.41,14.45,18.48,32.51,25.03,26.65,8.04,15.84,22.42,22.12,16.61,24.25,15.13,25.05,18.56,25.36,14.95,6.99,5.85,22.66,36.39,24.1,34.01,36.76,38.55,9.71,1.19,15.45,21.2,11.27,13.01,2.55,12.64,12.17,34.44,13.7,3.18,46.81,41.53,21.0,31.54,12.23,19.88,43.75,33.36,15.5,13.04,6.02,16.15,2.61,41.33,46.0,13.79,37.48,21.86,10.56,12.85,0.77,26.8,34.59,27.97,2.59,34.36,27.45,18.24,7.93,9.83,24.43,28.19,41.23,12.48,6.7,26.27,27.44,22.13,15.06,2.64,13.93,14.97,10.24,39.38,11.52,19.19,4.4,12.7,44.67,7.51,16.91,34.35,18.51,38.44,37.35,1.01,32.92,7.0,23.89,0.07,11.12,21.71,30.27,0.13,12.71,24.83,12.21,43.79,28.73,28.21,30.95,33.77,22.73,42.56,57.0,15.32,16.62,22.59,22.62,8.76,26.43,38.03,14.42,55.72,4.46,5.54,46.47,43.04,0.8,4.06,6.85,28.11,16.34,23.76,28.9,30.52,16.09,2.35,38.71,21.54,31.48,10.49,11.36,20.38,13.74,22.32,4.77,37.2,11.55,16.06,5.61,27.28,17.27,44.68,48.31,8.68,36.11,4.39,37.84,17.69,47.49,30.1,30.96,43.67,14.52,53.77,39.43,45.06,46.97,24.79,42.6,38.67,38.76,29.2,15.98,51.78,15.87,1.6,31.45,41.84,28.6,31.93,30.22,13.21,18.12,25.24,11.37,40.49,41.73,40.7,12.73,22.15,14.03,22.91,16.22,8.79,46.3,46.58,29.05,37.47,16.9,39.31,17.24,6.24,5.73,50.87,14.55,47.93,18.68,4.59,36.15,27.45,42.85,22.15,35.17,38.2,41.46,33.01,33.17,16.21,43.22,1.22,36.49,37.78,25.95,18.52,0.48,13.59,48.98,13.29,11.3,45.83,54.13,44.62,24.25,32.54,21.2,34.44,46.81,21.86,41.23,27.44,2.64,33.77,48.37,5.54,46.27,23.76,11.36,27.38,17.3,44.74,48.55,8.68,35.54,4.5,37.97,17.68,48.07,29.57,31.0,43.03,14.44,53.73,39.78,44.59,46.86,24.29,42.68,38.03,39.3,29.09,15.64,51.42,16.05,1.65,31.6,41.78,28.51,32.03,30.34,13.35,18.02,25.22,11.32,39.67,41.75,40.75,12.54,22.17,14.0,23.36,15.68,8.81,47.08,46.78,29.06,37.26,0.38,0.44,2.57,0.04,8.02,4.12,6.18,0.23,0.02,0.4,2.74,2.17,0.17,7.39,0.22,0.84,0.04,2.03,0.52,0.12,1.18,11.23,8.47,0.44,6.92,3.17,7.45,10.06,8.49,0.45,1.32,0.52,6.08,2.35,0.08,0.42,2.62,9.71,4.38,0.09,2.72,3.4,1.8,1.64,3.88,0.43,3.03,4.81,2.43,1.72,0.28,0.37,0.38,8.53,1.19,2.62,1.51,6.28,2.35,4.61,0.22,7.07,11.08,1.35,2.08,3.51,7.89,1.83,5.61,0.14,1.36,0.01,6.56,11.84,3.45,1.53,0.67,10.85,2.7,0.21,3.82,2.4,1.28,0.07,0.35,3.63,2.29,9.02,0.09,1.44,4.74,3.13,2.97,5.89,0.04,8.45,8.12,0.14,8.77,0.7,0.55,0.01,4.64,3.15,0.99,1.5,7.18,0.34,1.68,3.57,1.48,1.35,0.0,1.35],\"type\":\"scatter3d\"}],                        {\"template\":{\"data\":{\"bar\":[{\"error_x\":{\"color\":\"#2a3f5f\"},\"error_y\":{\"color\":\"#2a3f5f\"},\"marker\":{\"line\":{\"color\":\"#E5ECF6\",\"width\":0.5},\"pattern\":{\"fillmode\":\"overlay\",\"size\":10,\"solidity\":0.2}},\"type\":\"bar\"}],\"barpolar\":[{\"marker\":{\"line\":{\"color\":\"#E5ECF6\",\"width\":0.5},\"pattern\":{\"fillmode\":\"overlay\",\"size\":10,\"solidity\":0.2}},\"type\":\"barpolar\"}],\"carpet\":[{\"aaxis\":{\"endlinecolor\":\"#2a3f5f\",\"gridcolor\":\"white\",\"linecolor\":\"white\",\"minorgridcolor\":\"white\",\"startlinecolor\":\"#2a3f5f\"},\"baxis\":{\"endlinecolor\":\"#2a3f5f\",\"gridcolor\":\"white\",\"linecolor\":\"white\",\"minorgridcolor\":\"white\",\"startlinecolor\":\"#2a3f5f\"},\"type\":\"carpet\"}],\"choropleth\":[{\"colorbar\":{\"outlinewidth\":0,\"ticks\":\"\"},\"type\":\"choropleth\"}],\"contour\":[{\"colorbar\":{\"outlinewidth\":0,\"ticks\":\"\"},\"colorscale\":[[0.0,\"#0d0887\"],[0.1111111111111111,\"#46039f\"],[0.2222222222222222,\"#7201a8\"],[0.3333333333333333,\"#9c179e\"],[0.4444444444444444,\"#bd3786\"],[0.5555555555555556,\"#d8576b\"],[0.6666666666666666,\"#ed7953\"],[0.7777777777777778,\"#fb9f3a\"],[0.8888888888888888,\"#fdca26\"],[1.0,\"#f0f921\"]],\"type\":\"contour\"}],\"contourcarpet\":[{\"colorbar\":{\"outlinewidth\":0,\"ticks\":\"\"},\"type\":\"contourcarpet\"}],\"heatmap\":[{\"colorbar\":{\"outlinewidth\":0,\"ticks\":\"\"},\"colorscale\":[[0.0,\"#0d0887\"],[0.1111111111111111,\"#46039f\"],[0.2222222222222222,\"#7201a8\"],[0.3333333333333333,\"#9c179e\"],[0.4444444444444444,\"#bd3786\"],[0.5555555555555556,\"#d8576b\"],[0.6666666666666666,\"#ed7953\"],[0.7777777777777778,\"#fb9f3a\"],[0.8888888888888888,\"#fdca26\"],[1.0,\"#f0f921\"]],\"type\":\"heatmap\"}],\"heatmapgl\":[{\"colorbar\":{\"outlinewidth\":0,\"ticks\":\"\"},\"colorscale\":[[0.0,\"#0d0887\"],[0.1111111111111111,\"#46039f\"],[0.2222222222222222,\"#7201a8\"],[0.3333333333333333,\"#9c179e\"],[0.4444444444444444,\"#bd3786\"],[0.5555555555555556,\"#d8576b\"],[0.6666666666666666,\"#ed7953\"],[0.7777777777777778,\"#fb9f3a\"],[0.8888888888888888,\"#fdca26\"],[1.0,\"#f0f921\"]],\"type\":\"heatmapgl\"}],\"histogram\":[{\"marker\":{\"pattern\":{\"fillmode\":\"overlay\",\"size\":10,\"solidity\":0.2}},\"type\":\"histogram\"}],\"histogram2d\":[{\"colorbar\":{\"outlinewidth\":0,\"ticks\":\"\"},\"colorscale\":[[0.0,\"#0d0887\"],[0.1111111111111111,\"#46039f\"],[0.2222222222222222,\"#7201a8\"],[0.3333333333333333,\"#9c179e\"],[0.4444444444444444,\"#bd3786\"],[0.5555555555555556,\"#d8576b\"],[0.6666666666666666,\"#ed7953\"],[0.7777777777777778,\"#fb9f3a\"],[0.8888888888888888,\"#fdca26\"],[1.0,\"#f0f921\"]],\"type\":\"histogram2d\"}],\"histogram2dcontour\":[{\"colorbar\":{\"outlinewidth\":0,\"ticks\":\"\"},\"colorscale\":[[0.0,\"#0d0887\"],[0.1111111111111111,\"#46039f\"],[0.2222222222222222,\"#7201a8\"],[0.3333333333333333,\"#9c179e\"],[0.4444444444444444,\"#bd3786\"],[0.5555555555555556,\"#d8576b\"],[0.6666666666666666,\"#ed7953\"],[0.7777777777777778,\"#fb9f3a\"],[0.8888888888888888,\"#fdca26\"],[1.0,\"#f0f921\"]],\"type\":\"histogram2dcontour\"}],\"mesh3d\":[{\"colorbar\":{\"outlinewidth\":0,\"ticks\":\"\"},\"type\":\"mesh3d\"}],\"parcoords\":[{\"line\":{\"colorbar\":{\"outlinewidth\":0,\"ticks\":\"\"}},\"type\":\"parcoords\"}],\"pie\":[{\"automargin\":true,\"type\":\"pie\"}],\"scatter\":[{\"marker\":{\"colorbar\":{\"outlinewidth\":0,\"ticks\":\"\"}},\"type\":\"scatter\"}],\"scatter3d\":[{\"line\":{\"colorbar\":{\"outlinewidth\":0,\"ticks\":\"\"}},\"marker\":{\"colorbar\":{\"outlinewidth\":0,\"ticks\":\"\"}},\"type\":\"scatter3d\"}],\"scattercarpet\":[{\"marker\":{\"colorbar\":{\"outlinewidth\":0,\"ticks\":\"\"}},\"type\":\"scattercarpet\"}],\"scattergeo\":[{\"marker\":{\"colorbar\":{\"outlinewidth\":0,\"ticks\":\"\"}},\"type\":\"scattergeo\"}],\"scattergl\":[{\"marker\":{\"colorbar\":{\"outlinewidth\":0,\"ticks\":\"\"}},\"type\":\"scattergl\"}],\"scattermapbox\":[{\"marker\":{\"colorbar\":{\"outlinewidth\":0,\"ticks\":\"\"}},\"type\":\"scattermapbox\"}],\"scatterpolar\":[{\"marker\":{\"colorbar\":{\"outlinewidth\":0,\"ticks\":\"\"}},\"type\":\"scatterpolar\"}],\"scatterpolargl\":[{\"marker\":{\"colorbar\":{\"outlinewidth\":0,\"ticks\":\"\"}},\"type\":\"scatterpolargl\"}],\"scatterternary\":[{\"marker\":{\"colorbar\":{\"outlinewidth\":0,\"ticks\":\"\"}},\"type\":\"scatterternary\"}],\"surface\":[{\"colorbar\":{\"outlinewidth\":0,\"ticks\":\"\"},\"colorscale\":[[0.0,\"#0d0887\"],[0.1111111111111111,\"#46039f\"],[0.2222222222222222,\"#7201a8\"],[0.3333333333333333,\"#9c179e\"],[0.4444444444444444,\"#bd3786\"],[0.5555555555555556,\"#d8576b\"],[0.6666666666666666,\"#ed7953\"],[0.7777777777777778,\"#fb9f3a\"],[0.8888888888888888,\"#fdca26\"],[1.0,\"#f0f921\"]],\"type\":\"surface\"}],\"table\":[{\"cells\":{\"fill\":{\"color\":\"#EBF0F8\"},\"line\":{\"color\":\"white\"}},\"header\":{\"fill\":{\"color\":\"#C8D4E3\"},\"line\":{\"color\":\"white\"}},\"type\":\"table\"}]},\"layout\":{\"annotationdefaults\":{\"arrowcolor\":\"#2a3f5f\",\"arrowhead\":0,\"arrowwidth\":1},\"autotypenumbers\":\"strict\",\"coloraxis\":{\"colorbar\":{\"outlinewidth\":0,\"ticks\":\"\"}},\"colorscale\":{\"diverging\":[[0,\"#8e0152\"],[0.1,\"#c51b7d\"],[0.2,\"#de77ae\"],[0.3,\"#f1b6da\"],[0.4,\"#fde0ef\"],[0.5,\"#f7f7f7\"],[0.6,\"#e6f5d0\"],[0.7,\"#b8e186\"],[0.8,\"#7fbc41\"],[0.9,\"#4d9221\"],[1,\"#276419\"]],\"sequential\":[[0.0,\"#0d0887\"],[0.1111111111111111,\"#46039f\"],[0.2222222222222222,\"#7201a8\"],[0.3333333333333333,\"#9c179e\"],[0.4444444444444444,\"#bd3786\"],[0.5555555555555556,\"#d8576b\"],[0.6666666666666666,\"#ed7953\"],[0.7777777777777778,\"#fb9f3a\"],[0.8888888888888888,\"#fdca26\"],[1.0,\"#f0f921\"]],\"sequentialminus\":[[0.0,\"#0d0887\"],[0.1111111111111111,\"#46039f\"],[0.2222222222222222,\"#7201a8\"],[0.3333333333333333,\"#9c179e\"],[0.4444444444444444,\"#bd3786\"],[0.5555555555555556,\"#d8576b\"],[0.6666666666666666,\"#ed7953\"],[0.7777777777777778,\"#fb9f3a\"],[0.8888888888888888,\"#fdca26\"],[1.0,\"#f0f921\"]]},\"colorway\":[\"#636efa\",\"#EF553B\",\"#00cc96\",\"#ab63fa\",\"#FFA15A\",\"#19d3f3\",\"#FF6692\",\"#B6E880\",\"#FF97FF\",\"#FECB52\"],\"font\":{\"color\":\"#2a3f5f\"},\"geo\":{\"bgcolor\":\"white\",\"lakecolor\":\"white\",\"landcolor\":\"#E5ECF6\",\"showlakes\":true,\"showland\":true,\"subunitcolor\":\"white\"},\"hoverlabel\":{\"align\":\"left\"},\"hovermode\":\"closest\",\"mapbox\":{\"style\":\"light\"},\"paper_bgcolor\":\"white\",\"plot_bgcolor\":\"#E5ECF6\",\"polar\":{\"angularaxis\":{\"gridcolor\":\"white\",\"linecolor\":\"white\",\"ticks\":\"\"},\"bgcolor\":\"#E5ECF6\",\"radialaxis\":{\"gridcolor\":\"white\",\"linecolor\":\"white\",\"ticks\":\"\"}},\"scene\":{\"xaxis\":{\"backgroundcolor\":\"#E5ECF6\",\"gridcolor\":\"white\",\"gridwidth\":2,\"linecolor\":\"white\",\"showbackground\":true,\"ticks\":\"\",\"zerolinecolor\":\"white\"},\"yaxis\":{\"backgroundcolor\":\"#E5ECF6\",\"gridcolor\":\"white\",\"gridwidth\":2,\"linecolor\":\"white\",\"showbackground\":true,\"ticks\":\"\",\"zerolinecolor\":\"white\"},\"zaxis\":{\"backgroundcolor\":\"#E5ECF6\",\"gridcolor\":\"white\",\"gridwidth\":2,\"linecolor\":\"white\",\"showbackground\":true,\"ticks\":\"\",\"zerolinecolor\":\"white\"}},\"shapedefaults\":{\"line\":{\"color\":\"#2a3f5f\"}},\"ternary\":{\"aaxis\":{\"gridcolor\":\"white\",\"linecolor\":\"white\",\"ticks\":\"\"},\"baxis\":{\"gridcolor\":\"white\",\"linecolor\":\"white\",\"ticks\":\"\"},\"bgcolor\":\"#E5ECF6\",\"caxis\":{\"gridcolor\":\"white\",\"linecolor\":\"white\",\"ticks\":\"\"}},\"title\":{\"x\":0.05},\"xaxis\":{\"automargin\":true,\"gridcolor\":\"white\",\"linecolor\":\"white\",\"ticks\":\"\",\"title\":{\"standoff\":15},\"zerolinecolor\":\"white\",\"zerolinewidth\":2},\"yaxis\":{\"automargin\":true,\"gridcolor\":\"white\",\"linecolor\":\"white\",\"ticks\":\"\",\"title\":{\"standoff\":15},\"zerolinecolor\":\"white\",\"zerolinewidth\":2}}},\"scene\":{\"domain\":{\"x\":[0.0,1.0],\"y\":[0.0,1.0]},\"xaxis\":{\"title\":{\"text\":\"aluminium\",\"font\":{\"size\":10}},\"tickfont\":{\"size\":10},\"backgroundcolor\":\"white\",\"color\":\"black\",\"gridcolor\":\"#f0f0f0\"},\"yaxis\":{\"title\":{\"text\":\"silver\",\"font\":{\"size\":10}},\"tickfont\":{\"size\":10},\"backgroundcolor\":\"white\",\"color\":\"black\",\"gridcolor\":\"#f0f0f0\"},\"zaxis\":{\"title\":{\"text\":\"perchlorate\",\"font\":{\"size\":10}},\"tickfont\":{\"size\":10},\"backgroundcolor\":\"lightgrey\",\"color\":\"black\",\"gridcolor\":\"#f0f0f0\"},\"camera\":{\"up\":{\"x\":0,\"y\":0,\"z\":1},\"center\":{\"x\":0,\"y\":0,\"z\":-0.2},\"eye\":{\"x\":-1.5,\"y\":1.5,\"z\":0.5}}},\"legend\":{\"title\":{\"text\":\"is_safe\"},\"tracegroupgap\":0,\"orientation\":\"h\",\"yanchor\":\"top\",\"y\":0,\"xanchor\":\"center\",\"x\":0.5},\"margin\":{\"t\":0,\"l\":0,\"r\":0,\"b\":0},\"height\":900,\"width\":900,\"showlegend\":true},                        {\"responsive\": true}                    ).then(function(){\n",
       "                            \n",
       "var gd = document.getElementById('ddf69c1d-8ad7-4aa6-8046-dc9bc9abc0a6');\n",
       "var x = new MutationObserver(function (mutations, observer) {{\n",
       "        var display = window.getComputedStyle(gd).display;\n",
       "        if (!display || display === 'none') {{\n",
       "            console.log([gd, 'removed!']);\n",
       "            Plotly.purge(gd);\n",
       "            observer.disconnect();\n",
       "        }}\n",
       "}});\n",
       "\n",
       "// Listen for the removal of the full notebook cells\n",
       "var notebookContainer = gd.closest('#notebook-container');\n",
       "if (notebookContainer) {{\n",
       "    x.observe(notebookContainer, {childList: true});\n",
       "}}\n",
       "\n",
       "// Listen for the clearing of the current output cell\n",
       "var outputEl = gd.closest('.output');\n",
       "if (outputEl) {{\n",
       "    x.observe(outputEl, {childList: true});\n",
       "}}\n",
       "\n",
       "                        })                };                });            </script>        </div>"
      ]
     },
     "metadata": {},
     "output_type": "display_data"
    }
   ],
   "source": [
    "fig = px.scatter_3d(OriginalDataForLDA, \n",
    "                    x=OriginalDataForLDA['aluminium'], y=OriginalDataForLDA['silver'], z=OriginalDataForLDA['perchlorate'],\n",
    "                    color=OriginalDataForLDA['is_safe'],\n",
    "                    color_discrete_sequence=['#636EFA','#EF553B','#00CC96'], \n",
    "                    hover_data=['chloramine','aluminium', 'cadmium','is_safe'],\n",
    "                    height=900, width=900\n",
    "                   )\n",
    "\n",
    "# Update chart looks\n",
    "fig.update_layout(#title_text=\"Scatter 3D Plot\",\n",
    "                  showlegend=True,\n",
    "                  legend=dict(orientation=\"h\", yanchor=\"top\", y=0, xanchor=\"center\", x=0.5),\n",
    "                  scene_camera=dict(up=dict(x=0, y=0, z=1), \n",
    "                                        center=dict(x=0, y=0, z=-0.2),\n",
    "                                        eye=dict(x=-1.5, y=1.5, z=0.5)),\n",
    "                                        margin=dict(l=0, r=0, b=0, t=0),\n",
    "                  scene = dict(xaxis=dict(backgroundcolor='white',\n",
    "                                          color='black',\n",
    "                                          gridcolor='#f0f0f0',\n",
    "                                          title_font=dict(size=10),\n",
    "                                          tickfont=dict(size=10),\n",
    "                                         ),\n",
    "                               yaxis=dict(backgroundcolor='white',\n",
    "                                          color='black',\n",
    "                                          gridcolor='#f0f0f0',\n",
    "                                          title_font=dict(size=10),\n",
    "                                          tickfont=dict(size=10),\n",
    "                                          ),\n",
    "                               zaxis=dict(backgroundcolor='lightgrey',\n",
    "                                          color='black', \n",
    "                                          gridcolor='#f0f0f0',\n",
    "                                          title_font=dict(size=10),\n",
    "                                          tickfont=dict(size=10),\n",
    "                                         )))\n",
    "\n",
    "# Update marker size\n",
    "fig.update_traces(marker=dict(size=2))\n",
    "\n",
    "fig.show()"
   ]
  },
  {
   "cell_type": "code",
   "execution_count": 63,
   "id": "e54df3b9",
   "metadata": {},
   "outputs": [],
   "source": [
    "# Select features\n",
    "X=OriginalDataForLDA[['aluminium', 'silver', 'perchlorate']]\n",
    "# Select target\n",
    "y=OriginalDataForLDA['is_safe'].astype('category')\n",
    "X_train, X_test, y_train, y_test = train_test_split(X, y, test_size = 0.25)\n",
    "# Get scaler\n",
    "scaler=StandardScaler()\n",
    "# Perform standard scaling on model features\n",
    "X_std_train=scaler.fit_transform(X_train)"
   ]
  },
  {
   "cell_type": "code",
   "execution_count": 64,
   "id": "386719d1",
   "metadata": {},
   "outputs": [
    {
     "name": "stdout",
     "output_type": "stream",
     "text": [
      "*************** PCA Summary ***************\n",
      "No. of features:  3\n",
      "No. of samples:  1368\n",
      "No. of components:  2\n",
      "Explained variance ratio:  [0.54757315 0.24841984]\n"
     ]
    }
   ],
   "source": [
    "# Select the model and its parameters\n",
    "pca = PCA(n_components=2) # reducing from 3 dimensions to 2\n",
    "\n",
    "# Fit the model\n",
    "X_trans_pca_train=pca.fit_transform(X_std_train)\n",
    "\n",
    "# Print the results\n",
    "print('*************** PCA Summary ***************')\n",
    "print('No. of features: ', pca.n_features_)\n",
    "print('No. of samples: ', pca.n_samples_)\n",
    "print('No. of components: ', pca.n_components_)\n",
    "print('Explained variance ratio: ', pca.explained_variance_ratio_)"
   ]
  },
  {
   "cell_type": "code",
   "execution_count": 65,
   "id": "58ed80b9",
   "metadata": {},
   "outputs": [
    {
     "data": {
      "application/vnd.plotly.v1+json": {
       "config": {
        "plotlyServerURL": "https://plot.ly"
       },
       "data": [
        {
         "hovertemplate": "is_safe=0<br>PC1=%{x}<br>PC2=%{y}<extra></extra>",
         "legendgroup": "0",
         "marker": {
          "color": "#636efa",
          "opacity": 1,
          "size": 3,
          "symbol": "circle"
         },
         "mode": "markers",
         "name": "0",
         "showlegend": true,
         "type": "scattergl",
         "x": [
          -1.2541641604708291,
          -1.497709182576137,
          1.1313417904744676,
          0.6042755724169262,
          1.63434733789999,
          -1.293175950159665,
          -1.4312153803229877,
          -0.7944212154881346,
          -1.437747668203235,
          -1.193380208817742,
          -1.258768104086689,
          -1.59542610586009,
          -1.2483352998762651,
          1.125035656010624,
          -1.4313396136056729,
          -1.1940697595948524,
          -1.52310529840334,
          -1.2663485946411726,
          -1.5604372103931534,
          -1.4976953060675668,
          -1.4645506386017992,
          -1.5036885169642835,
          -1.2918408478492003,
          -1.4489820639134905,
          1.7700697394418847,
          2.1703752515972092,
          1.3836247718934467,
          1.3941514814142801,
          -1.3503655563579153,
          -1.4411791758621717,
          0.515561554715994,
          -0.1576978047350111,
          -1.5805696116778545,
          -1.4177256236926488,
          2.7378183580845112,
          -1.173933818970579,
          -0.5852882025298142,
          0.9053947976161377,
          -1.3801066406242466,
          -0.7499954089055805,
          -1.2476056320796898,
          -1.421062677919366,
          -0.2667204236980392,
          -1.3037592281636687,
          -1.2794937473253158,
          -1.0389147635472789,
          1.3786464275835624,
          0.24333197716661023,
          0.755963014350115,
          -1.4787737738106446,
          -1.4697198997120817,
          -0.15940711939977772,
          -1.4305417328877732,
          2.5993016540519123,
          -1.2190545710607814,
          1.3863364008029968,
          0.9167352460591298,
          1.9138597947539002,
          -1.4696095429379668,
          -1.1810490116357535,
          -1.1270722263815358,
          3.079365409754035,
          -1.4166633730674827,
          -0.3969990476278312,
          0.7082562664121965,
          -1.2998064022540632,
          2.8165356659759424,
          -1.1186760963762912,
          -1.0418791179259403,
          -1.2195760607538102,
          -1.3182484172283868,
          0.9698252328611364,
          0.33272846696550895,
          -1.6067250037097387,
          -0.5962005240228366,
          1.8340579546483469,
          -1.101642791364295,
          0.3675770543655053,
          -1.3594194304564784,
          -0.17217180778728333,
          -1.3695758436420316,
          1.9659920373624997,
          -1.2334911696963533,
          -1.5478275953529688,
          -0.434234993679179,
          -1.2477577898218755,
          -1.5942956423136003,
          -1.5604494029531175,
          -1.2769982301755347,
          -1.1114000927485386,
          -1.3664767473693262,
          -1.4313396136056729,
          -1.1999370532602778,
          -1.3077420053661,
          -1.1402573246427845,
          0.2846570655628554,
          -1.3817567384728002,
          -1.6062840909403584,
          -0.9135831126382916,
          -1.2282047539825294,
          -1.601198946093297,
          -1.535343897544075,
          0.4105618920098635,
          -1.586632890886862,
          -0.28671774020397806,
          0.5891468502838282,
          1.2525794637727354,
          0.13536064792531305,
          -1.6379096916696845,
          -1.4141436422401328,
          -1.2552963079659283,
          -1.4909825931009142,
          -1.0684755941695645,
          0.04035702392189055,
          -1.3366535736731,
          3.099776743224012,
          -1.6662420659736887,
          -1.2318409004054398,
          -1.2976153720310128,
          1.6471355846706166,
          -1.0934604056354937,
          2.289127899459689,
          -1.1987541086919986,
          -1.1733703568671197,
          1.1605969476511302,
          2.4397525764406334,
          1.239525225181239,
          -1.274655213652659,
          -1.4438549466559982,
          -1.5610285969561128,
          -1.446360629532418,
          0.8857936299340173,
          -0.6181873190353464,
          -1.1761246777512695,
          -1.4296196188871884,
          -0.8620735771896348,
          -1.3175815676225984,
          -1.1839939233329475,
          1.0387037905702308,
          2.008653678540454,
          0.7048781928165796,
          0.5993508020527095,
          0.9820566123553585,
          0.46179982324209523,
          -1.6058291302200483,
          2.282341379158543,
          -0.39197672097155606,
          -1.287968255978524,
          0.9547394023852694,
          -1.5249513817954754,
          -1.0252726777323946,
          0.41578310515220956,
          -1.5179658171435237,
          -1.3030855807284543,
          -1.2969119447453323,
          -1.5223737752157993,
          -1.5293889482758571,
          -1.5494111642288035,
          -1.4177256236926488,
          -0.11291300337061196,
          -0.1991118277629336,
          -1.3806194770968832,
          -1.4993768677151929,
          1.2243457544323355,
          -1.0388903784273504,
          -1.2519854942501054,
          0.35757701045352275,
          -1.632122803485548,
          -1.2814219201473465,
          1.1293190548128604,
          -1.3750599288480434,
          -0.7104933124730733,
          -1.133546638509457,
          0.5879639057155494,
          -1.1016200901929725,
          3.0398454136212965,
          -1.6202166157310436,
          0.6816264089435322,
          -1.4830732304997716,
          1.9800182395406918,
          0.8603875705146311,
          -1.384376317462907,
          -1.3393291730245669,
          -1.4993768677151929,
          0.9456766731489634,
          -1.5918422690166087,
          -1.2456072195030092,
          -1.1398724322347644,
          0.7601451280959751,
          -1.4288461232892171,
          -1.2411275091698373,
          -1.3479962993241448,
          2.473737501954452,
          -0.17987855845777698,
          -1.152370006552228,
          -0.5133226790729768,
          0.2846601526103502,
          -1.1279364646297942,
          0.3269171936614442,
          0.8072429946904246,
          -1.366217943634958,
          -1.425071524190332,
          -1.5291965020718477,
          -1.586632890886862,
          -1.2604217412748147,
          -1.2914437628812163,
          1.5315566051171414,
          0.1745422446818355,
          1.1501059248036607,
          -0.7830071898682706,
          0.6042755724169262,
          0.3029969246913791,
          0.3363646133884195,
          -1.2916240165252622,
          -1.4328586803421146,
          -1.4912293757176782,
          -1.6147866954954269,
          -1.17250240783693,
          -1.5675749327872908,
          0.3351409280662388,
          0.5735969231001906,
          -1.4191080931440816,
          0.8996829506577433,
          0.7432207767592052,
          0.3264450843650835,
          1.3799653761774044,
          1.4279496058293542,
          -1.473690312912189,
          1.4740966072269104,
          -1.0271047131736,
          -1.2707565527134481,
          -0.06050388365033331,
          -1.1683290398214543,
          -1.2782547823956765,
          -1.582333434197735,
          -1.248349347827195,
          -1.270369804914462,
          1.5256498779669712,
          0.6089178419310032,
          -0.2586889640548947,
          0.28721413877190394,
          0.4372199096501091,
          0.5325674495955687,
          -1.4344403938269843,
          -0.13221774408694748,
          -1.5551875438015816,
          3.0207466527328224,
          -1.5951216189333597,
          -0.11940094912238418,
          -1.1801792072145978,
          -0.3299910058031565,
          1.1106899714676994,
          -1.3476934963460199,
          0.19913845295781343,
          2.4538798077460156,
          0.3576667380272775,
          -1.455787203479037,
          2.7641247833746907,
          1.2734783913836223,
          -1.184037751134344,
          1.6105176875102087,
          -0.16074446512356416,
          -1.6207538373236088,
          -1.4232115642896261,
          -1.2993775106022876,
          0.3439501557887212,
          -1.2646949574530468,
          -1.3838653363812363,
          -1.4821211652063608,
          1.6656425856364212,
          -1.522980893678295,
          -1.3206823478439096,
          -1.4232115642896261,
          -1.265067828743462,
          -1.40722443511854,
          -1.4771621090329499,
          -0.25603723549627705,
          -1.5224016996752996,
          1.7763433950301235,
          -1.137760123544397,
          0.14623768542997365,
          -1.1069347732510162,
          1.1537680500198324,
          0.8328181325051441,
          -0.04645049347417521,
          -0.9461749980543174,
          -1.6206575285004237,
          0.95069486720622,
          -1.3830674556633367,
          -1.4519288310016503,
          1.5818218903129786,
          0.39350682197071046,
          -1.0580585218586769,
          -1.4551817689651472,
          -1.643325563954371,
          -1.2062785788851214,
          0.3270091679682604,
          -1.4404776039674565,
          0.905050660624665,
          -1.5874605514552278,
          -1.4693873168834908,
          -1.5564806737016164,
          -1.4440734619285427,
          -1.4584611188818979,
          -1.3364330315672301,
          -1.53716205647671,
          2.686212216065587,
          -1.4666751398521307,
          -1.4670040118987904,
          -1.4266691410170969,
          0.6494366129689524,
          -1.259483723932334,
          0.03606887102091871,
          1.1762058108012634,
          1.9210533943073087,
          -1.2995980527081572,
          -1.0899222519843743,
          -1.2699568166045827,
          1.0556166351164753,
          -1.4720507236749936,
          -1.2123139336346282,
          0.02232182316245758,
          -1.461862846690368,
          -1.2445029964674132,
          2.3467771753393487,
          -1.5832836441001803,
          -1.3259355537750528,
          -1.3847771132128226,
          1.3114200588260683,
          0.5381569491372349,
          -1.515662917640112,
          -1.3933059582787852,
          -0.00878274016591636,
          -1.3658433883959364,
          -1.0243224678299494,
          -1.146777591405427,
          -1.1535827309709734,
          0.14431782294361578,
          -1.5159254321564126,
          -1.4223680003793646,
          0.52059304891974,
          2.157206661280209,
          -1.2204878375853967,
          -1.454370011738677,
          -1.1207340686539042,
          -1.3932377453574605,
          -1.694273321248175,
          -1.3665066986621526,
          -0.04154931305309062,
          -1.3189203807149947,
          -1.338956301734152,
          -0.32845789111578444,
          -1.6256727764775551,
          -1.2525646882531012,
          -1.3147189167976594,
          0.9335082212528854,
          -1.3664750634207206,
          -1.5772762138101737,
          0.15950672851208297,
          1.5393228343214815,
          -1.3009488869181585,
          2.45033652663645,
          0.3926385605307916,
          -1.3223779574424657,
          -1.2122159408628375,
          -1.0579745770378157,
          -1.0766317393874718,
          1.6574241196574415,
          -0.4458138218932703,
          -1.4133439061312671,
          0.6196694596340864,
          -1.4631034955686137,
          -0.9965956994821944,
          -0.9208256256336458,
          -1.3368477038257158,
          -0.3408891079028893,
          0.4686865999454593,
          -1.2576796129506291,
          -1.19958379609369,
          -0.9592059117400547,
          -1.3704194075522935,
          -1.2378080422336222,
          0.41322175946179457,
          -1.5309743725426581,
          -1.6211265371716643,
          2.4752580980945056,
          -1.543746825378746,
          0.31214896300409295,
          0.18271755173149276,
          -1.4009406138036629,
          1.1383608908964535,
          0.9205778866369806,
          -1.6018463530176172,
          2.1700848126214085,
          1.188778258221849,
          -0.06812470780427735,
          -1.1628150033226163,
          -1.5530491660426804,
          1.701116485626487,
          -1.3321511621686053,
          -0.2365327984544281,
          -1.1686579118681135,
          -1.1722801817824533,
          2.0848017375602375,
          2.255493754221775,
          0.570382075322833,
          -1.2220031935399074,
          -1.3621073938102692,
          0.2913081919952504,
          -1.6441112521123071,
          -1.4755066164538584,
          -0.9625202647954498,
          -1.5965547140156153,
          -1.4412912165848926,
          -1.4419667194110728,
          -1.4357231865580196,
          -1.5503210856694238,
          -0.8567558691190983,
          -1.352201302581052,
          1.6869438666411063,
          0.6675013285414794,
          -1.1323479620416417,
          -1.2774393143872749,
          -0.5857990742041274,
          0.37139283069802453,
          1.0679628615311956,
          -1.4759512400051702,
          -1.079098989193033,
          -0.9910975663252528,
          0.701835395520233,
          0.6030812304654792,
          -1.634824643347909,
          -0.4699748076427686,
          -1.0318593020253963,
          -1.2016521055403016,
          -1.1451342913862999,
          -1.490692154125113,
          -1.2535027055955816,
          -1.4349776154195493,
          -1.4811728106948816,
          -1.3346551610964192,
          2.2200356786412376,
          2.0241795668086215,
          -1.2541817477613337,
          -1.418936492720428,
          -1.4603351267335336,
          -1.6364363081256041,
          -1.3271762026532985,
          -1.4811027423825909,
          -1.1159217754921413,
          -1.636711015201869,
          -1.6194712160349325,
          0.34407781900362044,
          -1.2711273971705377,
          -1.098710072227065,
          -1.3085136455731055,
          0.2913081919952504,
          -1.3783829351238306,
          0.5867270770265931,
          1.866057643661971,
          -0.6589856324153825,
          0.17745675279412626,
          0.4308350536535829,
          -1.295646910747158,
          2.1211793408433186,
          1.4740791293437665,
          1.3323021469508933,
          1.3650874124803751,
          -1.4017684458143884,
          0.3110567610861012,
          1.07537576019104,
          -1.4418406307374216,
          0.20385972261957158,
          0.555084389756219,
          2.247905060504257,
          -1.306777747512725,
          -1.4000885681153687,
          -1.5422174214733058,
          -1.2052444241618157,
          0.5867075249377672,
          -1.6552457996598051,
          2.040272731815079,
          -1.1051303193845916,
          -1.0341359610179135,
          -1.6018463530176172,
          1.3737613839817358,
          -1.3573424677894748,
          -1.4440734619285427,
          -1.5036605925047826,
          -0.020499287914187942,
          -1.2224562988692516,
          -1.1016200901929725,
          -1.1907765331695315,
          0.5942545248598528,
          -1.5193428918644187,
          -1.5240309517434967,
          0.3859562827090532,
          -0.2868296094843393,
          -1.33816892962761,
          -1.3650839407488953,
          -1.449354763761546,
          0.5381569491372349,
          1.8498344401681104,
          -1.5196194543316492,
          -1.1067175990423583,
          2.3298689946165663,
          -1.2407967817322123,
          3.239616168667385,
          -1.1850212802268267,
          -1.3783829351238306,
          -1.2813257827665212,
          1.0005389157915063,
          0.4621427432396845,
          1.579568710771215,
          0.4507878250286758,
          -1.3120834344656567,
          1.3833147944064454,
          -1.501399665411802,
          -1.2062785788851214,
          0.3181079039039599,
          -1.5585070107377976,
          1.1094631990980244,
          -1.1810490116357535,
          -1.5527184386050545,
          -1.3221855112384557,
          -1.4370582888684846,
          -1.2109087630118731,
          -1.5604091144912933,
          -1.3573108325480425,
          -1.3855890418816523,
          2.081688764778963,
          -1.413826791311078,
          -1.422068908183171,
          -1.123955542818329,
          1.9307974124424288,
          1.2196497722399402,
          -0.649429882747618,
          -1.2782547823956765,
          -1.2390871241827264,
          -1.3216641929877868,
          1.6286884840557438,
          1.0067838517434475,
          -1.5604372103931534,
          -1.4045926635684696,
          -1.29135779122703,
          -1.6306897084032923,
          -0.9588927715929318,
          2.4390368020499937,
          1.8744051274973619,
          -1.6208360981958632,
          -1.5399583497712905,
          -1.2184875696177502,
          0.4507878250286758,
          -1.2711273971705377,
          0.07085498311484763,
          -1.547234353399043,
          -0.9625202647954498,
          2.0245231105406485,
          -1.2666654455702269,
          0.791077467266259,
          0.2075977440385641,
          -1.258768104086689,
          -1.4356409256857654,
          -1.3790024175886504,
          -1.393291910327855,
          -1.3099607886062912,
          -1.5697378671084805,
          -0.45568508142620273,
          1.8169424643767231,
          -1.2683451518268873,
          -1.2685394534218633,
          2.3981867080802535,
          1.0341744979230398,
          1.1438931079452395,
          -0.999091045189616,
          0.5668516861202963,
          0.9217953820518265,
          -1.2345969052381958,
          -1.6319706457433618,
          -1.6498578518346185,
          -1.4935041793192294,
          -1.2915820441148316,
          1.9148605039824438,
          -1.0585975988422074,
          1.5826966371725946,
          -1.323562585959351,
          -0.10223307365870422,
          -1.3317205865682236,
          0.9934954753872285,
          -1.3375513025537564,
          -1.0990005112028662,
          2.209269293423055,
          1.4048589927009694,
          -1.265067828743462,
          -0.22210245176119256,
          0.08507570346801185,
          0.45532753154251215,
          1.5711886533155062,
          -1.6130088250246162,
          -0.5689266895620666,
          0.9910414332181637,
          0.8710704745469359,
          -1.1045930977920266,
          -1.0476136965306482,
          0.3010485298234291,
          -1.6278653192068517,
          1.6075591327818064,
          -1.426254468758611,
          0.13536064792531305,
          1.3775467251693405,
          1.5219925259816192,
          -1.0360502573313737,
          2.1901363866077346,
          0.600207247612114,
          0.16554870964865614,
          -1.278252927004711,
          -1.1595761133100497,
          0.8477372734358073,
          -1.4167334413797732,
          1.3961327589925367,
          -1.5275709607855814,
          0.15874461563463363,
          0.6943196879548603,
          -0.5784964871807611,
          -1.5256426165211914,
          -0.8850126089379149,
          0.37139283069802453,
          -1.1592191453615306,
          -1.393704898637735,
          -0.9461186348082375,
          1.356956807341278,
          -0.0380420615016085,
          -0.36274998568410755,
          -1.4509523805883113,
          -1.252941098883088,
          1.239388895168322,
          0.32706810393475605,
          0.45532753154251215,
          0.9456766731489634,
          1.5850923512972557,
          -1.1864192007280787,
          -1.3790024175886504,
          2.34128864844433,
          2.65015563010531,
          -1.283009199805113,
          0.9567019884062374,
          -0.8410556395842412,
          1.579568710771215,
          0.2590856385300679,
          -1.4347851692155391,
          0.3938489772664938,
          -1.4422955914577322,
          -1.5737764932299128,
          -1.3355687933189715,
          -1.2342802257515009,
          -1.2700444722073752,
          -1.471413653919672,
          -1.4624560886442934,
          -1.3249398321226056,
          -1.5422174214733058,
          -1.3339430805903465,
          0.7589762314786264,
          -1.0211255502278132,
          -1.4257732675274066,
          -1.515538684357427,
          -1.1106319918811052,
          -1.1498467363853062,
          -1.5774285429947192,
          0.13536064792531305,
          -1.4730672911077973,
          -1.5161617061618187,
          0.5894856545797648,
          -1.6024815673819726,
          0.44732017616957875,
          -0.3231749053341748,
          2.3620759233548516,
          0.5149098911226517,
          -1.3140537511404775,
          -1.6685991304474952,
          -1.434594578402495,
          -1.3460660996687883,
          -1.3933059582787852,
          -1.2954228293017158,
          0.8511258442998763
         ],
         "xaxis": "x",
         "y": [
          -0.25175967527457505,
          -0.10847654977684013,
          0.4667496369201812,
          2.503250763920135,
          -1.720924052582808,
          -0.3633219334698398,
          -0.34826466330913725,
          -0.10104294414246426,
          -0.33923541279842345,
          -0.16044074176835715,
          -0.15779869194924004,
          -0.13478831962210297,
          -0.23385358297029737,
          1.5067402073661162,
          -0.3391238948914293,
          -0.053213285655656715,
          -0.14769050240183068,
          -0.06822037056719478,
          -0.15603949094707784,
          -0.028184436479121413,
          -0.3245786797934509,
          -0.21802033112271663,
          -0.2064949357634622,
          0.008066850706850677,
          2.0087301722675406,
          -0.4873422591150701,
          -0.07551093792393948,
          1.9384598232348187,
          -0.34678797780912785,
          -0.3349642687621381,
          2.339195065704493,
          0.8198606388733042,
          -0.21365346736501933,
          -0.19218855466505533,
          -0.8702615547318897,
          -0.2791661823421063,
          1.3170627752433066,
          0.7137353329928745,
          -0.0808563013343103,
          0.21814978309367877,
          -0.16001046832596247,
          -0.014269763401402884,
          0.0025964063621624896,
          -0.378904731490391,
          -0.14351740347541553,
          -0.06171700830652187,
          0.8770591820985068,
          -0.8659633760024879,
          0.8746025332795876,
          -0.13653822618526554,
          -0.1325310087731335,
          0.6306501772839287,
          -0.19241159047904408,
          0.20269237817901564,
          0.0014152580871429534,
          2.126611794749999,
          0.9089640747024577,
          -1.1529083810501517,
          -0.22196389048856008,
          0.16561731946248295,
          0.3178613866477154,
          0.4048969947725178,
          -0.3268383160308794,
          0.7826986266682135,
          0.32775163398617513,
          -0.10998065328989058,
          0.45043821732665335,
          -0.09706499771303889,
          0.08877947770400678,
          -0.1373871603574318,
          0.16508482255209372,
          1.383249678169058,
          -0.24200138769076462,
          -0.2783149227814814,
          1.2264059801285239,
          0.9253994664246492,
          -0.10927994947675944,
          0.14336154213697308,
          -0.3507951952212599,
          -0.5767741222550424,
          -0.2668304182323919,
          1.4519518134368237,
          -0.3332050748748108,
          -0.16544418598893934,
          1.0078030544864545,
          -0.17706112271148117,
          -0.1965688912198766,
          -0.3109186389008866,
          -0.3656521968040976,
          -0.08635182407391008,
          -0.19700149005072998,
          -0.3391238948914293,
          -0.32677698337304945,
          -0.3306475902536052,
          -0.07289902080975155,
          0.4037614558389431,
          -0.3668579866294126,
          -0.23286803826655472,
          0.17694244624387237,
          0.0327402318959451,
          -0.23470437011212922,
          -0.09112107795700329,
          2.6005182608444604,
          -0.2673787133283638,
          -0.10347776344801098,
          0.8072939392911446,
          1.0023219269057289,
          -0.698391142981858,
          -0.2887572007459159,
          -0.10482200965973264,
          -0.11539206902070186,
          -0.26275721738551266,
          0.11306394156482943,
          1.9155739916688435,
          -0.30977186345977803,
          -0.27613019645887665,
          -0.2856760483493624,
          -0.18159619337192032,
          -0.2318239515973985,
          -0.8011184414411864,
          0.16769248530762898,
          1.256430803596966,
          -0.1870006400521907,
          -0.16827303158879756,
          0.8202686021373674,
          0.16561074569887702,
          1.3842394143292658,
          -0.3360520369338754,
          -0.021678748829989762,
          -0.2931240645036132,
          -0.297795745695629,
          1.3727869714552992,
          0.3953971415269065,
          -0.29171568782680957,
          -0.05484005448436658,
          0.30872712197659075,
          -0.3264879641243136,
          -0.23053359657417255,
          0.3337712624770691,
          1.9925354139898934,
          -0.7058099214649185,
          0.06848037926610737,
          0.7588658004592004,
          -0.5258642490944323,
          -0.24152184424612025,
          -0.41389968162646523,
          0.21544639350189665,
          -0.29971199907703244,
          -0.06680643498139456,
          -0.21385373594288443,
          -0.02298304906913284,
          0.041491117934619,
          -0.1569497577770738,
          -0.22305165866029766,
          -0.25875929441238,
          -0.2828272262057971,
          -0.2913355925187444,
          -0.30398964685990115,
          -0.19218855466505533,
          0.8969461437663936,
          0.7754894445135341,
          0.21878730127931467,
          -0.05681067147305908,
          0.8706538447345282,
          0.24804128760109548,
          -0.3940893177436706,
          -0.06401990828376075,
          -0.24294184075038217,
          -0.36284194008223847,
          1.1539442550090624,
          -0.33835023859300983,
          -0.4886696956805903,
          0.03590084052436978,
          0.6675175959702857,
          0.2750653810869477,
          0.4488286414640696,
          -0.22541119297726195,
          -0.12738261153439634,
          -0.14286873788111437,
          -1.2490337592937921,
          -1.5688709655199466,
          -0.2699752286752337,
          -0.1308791473198413,
          -0.05681067147305908,
          0.8944741336065082,
          -0.2564016130650814,
          -0.21118938419160152,
          0.05455782189093353,
          1.2139326677644813,
          -0.21788604597959874,
          -0.29600959909921887,
          -0.2164093604795894,
          0.6650079296521035,
          -0.1346823902147771,
          -0.10005739943872169,
          1.1283081379100306,
          1.469146992242046,
          -0.11069994598102119,
          -0.5975750435939161,
          1.6377995519650794,
          0.14857595951596417,
          -0.20118388341614465,
          -0.22760717116840185,
          -0.2673787133283638,
          -0.1602335041399511,
          0.07584105489103159,
          -0.9185563236676313,
          0.03832820413091157,
          1.4560988973769065,
          0.9438492790485001,
          2.503250763920135,
          2.0055272922780785,
          -0.02766496242289925,
          0.16699178149449767,
          0.013159510902261518,
          -0.3190627152061868,
          -0.28086125287918684,
          -0.15767137585666308,
          -0.22999412349840714,
          1.1348333367989116,
          1.5457390238355748,
          0.17144042687252498,
          0.11887401900586878,
          -0.0032578332464169853,
          -1.0874648770448452,
          1.242185311196937,
          1.9363632718357522,
          -0.06378752337475023,
          1.5990902129334792,
          -0.14324697310467882,
          -0.19409783899591806,
          0.6475642211378706,
          0.06677974270519486,
          -0.08575101834031476,
          -0.2610482016325151,
          -0.17975289247580506,
          -0.27562083474353416,
          1.8175527876617943,
          0.016799592958307408,
          1.536883561612436,
          0.7420181922456228,
          0.1649105285342093,
          1.8976102797609122,
          -0.33436578841700143,
          0.8032560561157629,
          -0.12033882424553653,
          0.7679446960459226,
          -0.23507981464327724,
          0.26590787676090627,
          -0.03276086325368346,
          1.3832394815814841,
          1.62933439473592,
          -0.24211382084467375,
          0.2742024945840291,
          0.6898908738580625,
          0.8212030321153603,
          -0.2743806578546373,
          0.5852329732683141,
          0.38385685611414877,
          0.006355509565394328,
          -0.4177623888485645,
          -0.7507851693084928,
          -0.2355258862712545,
          -0.05472853657737234,
          -0.3538057205209841,
          -0.3410043877732137,
          -0.0657855583764837,
          -0.3606389928405577,
          -0.32247842132372284,
          0.2808075412708711,
          -0.29122407461175,
          -0.3217298576498858,
          -0.05472853657737234,
          0.09602955066885113,
          -0.32976705971027365,
          -0.10619414630328845,
          0.6450541381882483,
          -0.3090186490090237,
          1.5197306683979215,
          -0.36962084879452356,
          1.1477675812537624,
          0.15171425909738762,
          -1.4991410059412351,
          0.31149740313519947,
          0.7801406767430497,
          0.48915646149382347,
          -0.27085807749218876,
          0.824792983578264,
          -0.2139266884281726,
          -0.17910422688150393,
          -1.4321581234403928,
          1.74559806442637,
          0.16569677569435423,
          -0.1913967747925946,
          -0.2874078313384837,
          -0.1794322768559038,
          1.2683976553814567,
          -0.15291977312881827,
          2.2557186459343104,
          -0.23130260209567452,
          -0.34102388478329243,
          -0.30507508964318003,
          -0.32057843143185993,
          -0.1700749763707903,
          -0.3542448230984204,
          -0.1310928886948303,
          1.0044453632595158,
          -0.055279157061803176,
          -0.26474595794824657,
          -0.2856286537926143,
          2.2693470904557094,
          -0.28574249708806726,
          0.5209716454909767,
          1.199591899602493,
          1.432402688814305,
          -0.30933276088234163,
          0.4919481364525187,
          -0.2563653730318337,
          0.8585114003653139,
          -0.007252020689546838,
          -0.20696610001602167,
          0.07912385641632264,
          -0.3485922479795794,
          -0.3737484132486915,
          1.2762675455728412,
          -0.29041835663820764,
          -0.07386365124703646,
          -0.13435154243312522,
          -0.9133739559967529,
          1.0232915204513018,
          -0.3084201686638872,
          -0.2831232145050737,
          1.5109895218890295,
          -0.08782618418546066,
          0.006387105936559703,
          0.22540218144698182,
          -0.05704532711450606,
          1.635674673289561,
          -0.2360379413339791,
          -0.3538851767528553,
          1.807210442219742,
          1.8603859829455702,
          0.08890029005000068,
          0.03560764291750945,
          0.3196907494427492,
          -0.21025402473702332,
          -0.2337123216618033,
          0.1201797293865559,
          1.2874147483975438,
          -0.06535528493408914,
          -0.2926942563651762,
          0.9768553852933013,
          -0.27073959053465346,
          -0.37629474334639695,
          0.050894452638783956,
          1.0041071107140367,
          -0.27158852470681966,
          -0.289075956281316,
          1.4827094533286977,
          1.8129155066317002,
          -0.3374720334381371,
          0.15636353502869849,
          0.7344410130126344,
          -0.29625540214933105,
          -0.31688532589304597,
          0.10987824031182239,
          -0.0631300357602426,
          -0.10738095196366962,
          1.1399334384636568,
          -0.16708954369564843,
          2.3001075056789997,
          -0.3317715984585901,
          0.05471487427017489,
          -0.43451881993693336,
          -0.2989132501540309,
          1.1040891921799973,
          1.2586969720403187,
          -0.19166999585574773,
          0.19244811342101098,
          -0.22792593381863743,
          0.032326221943091045,
          -0.13626082676398796,
          2.5503132698551063,
          -0.2209012149414052,
          -0.20810358101813073,
          -0.38406950379337323,
          -0.32362055310274956,
          1.7652224800209753,
          0.8824343851240819,
          -0.3205147733855714,
          1.6252793174630824,
          1.132928230826173,
          -0.28977898548290604,
          -0.44115145458838856,
          0.6956953804230949,
          -1.0119090193636753,
          -0.17888165637147307,
          -0.3093462336794657,
          -0.3898456606061187,
          -0.01024674780368819,
          0.10094609718822835,
          -0.14268705818124847,
          -0.27673137015139515,
          2.063499504900041,
          -0.7597308267868925,
          2.0578896889220313,
          0.023224018947089402,
          -0.19238882324292042,
          0.8781381484632137,
          -0.27924098779706014,
          -0.3127391725608784,
          0.33433818800872206,
          -0.2819875864726304,
          -0.1709443523906212,
          -0.11781758677241327,
          -0.15524306741253496,
          -0.28668203490076993,
          0.5516897822383938,
          -0.04909222494807166,
          1.2888983482920708,
          0.8965126143276244,
          0.04698945869464663,
          -0.27670627752681287,
          0.32755973748555955,
          1.749892454101077,
          2.350052748402325,
          0.059773619820796986,
          -0.08358942721275682,
          0.07213400413630056,
          1.656106181425077,
          0.590857255553551,
          -0.16482758206976147,
          -0.31510244839135054,
          -0.006530875028750756,
          0.24534487417468942,
          -0.1360219927644166,
          -0.3089480219121943,
          -0.25078575039828094,
          -0.3444804817109938,
          -0.08412842786972922,
          -0.36095077932541725,
          -0.541332355195648,
          0.43168783564363156,
          0.08590788832431809,
          -0.35815632078914084,
          -0.2624296327150706,
          -0.19517166195173855,
          -0.057043001726047295,
          -0.22023907654997996,
          0.026377658524973126,
          -0.277668582575639,
          -0.2802558034835093,
          0.4464547726277586,
          -0.37565537219109546,
          0.13199181860608752,
          -0.37658143720667414,
          0.8781381484632137,
          -0.21453213782384992,
          -0.8137882333283983,
          -0.877875903474711,
          -0.14790518149957071,
          2.1006127491123467,
          0.9025657266021959,
          0.034178351974248226,
          1.026849828001853,
          0.8565909746092911,
          -0.7859686802274353,
          2.21107050322755,
          -0.1500458583606707,
          2.217053460824085,
          0.4009520952821532,
          -0.33593819363842226,
          0.6038416852575664,
          -0.4224470371073949,
          1.2707636590021576,
          -0.35537812574240485,
          -0.046832588710643386,
          -0.31204497249433044,
          -0.20588065723274285,
          0.813025970641857,
          -0.2508377886171111,
          1.455780114513495,
          -0.02299884725471554,
          0.24571799331737873,
          -0.28977898548290604,
          0.9180857758398681,
          0.03475406508326125,
          -0.32057843143185993,
          -0.1918289083194901,
          -0.7227578466521328,
          -0.17710201352164606,
          0.2750653810869477,
          0.005757029220257836,
          1.3241957418014878,
          -0.28586748779218557,
          -0.0016951652921172726,
          1.5179951663711289,
          -0.07385065086870565,
          -0.37544813456268955,
          -0.1967714851862004,
          0.035489155959974344,
          1.0232915204513018,
          1.8949040923618783,
          -0.1593845699677849,
          0.25641536877092486,
          -0.9058218836180176,
          -0.29552263666107675,
          -0.4561436790370949,
          0.4433406433091674,
          -0.21453213782384992,
          -0.2637813275109614,
          0.5304780915820398,
          -0.37049813870248127,
          -1.6567021448345645,
          -0.4320147836761014,
          -0.3090688342581882,
          1.084752864094882,
          -0.31539005151503735,
          -0.1794322768559038,
          -0.0675113171526504,
          -0.2800875965807674,
          1.7264471575546276,
          0.16561731946248295,
          -0.30885927124132356,
          -0.23252698079898848,
          -0.31207006511891283,
          -0.1862497509898948,
          -0.2642408719360627,
          -0.3570141890101146,
          -0.2269631563510181,
          1.91337846342066,
          -0.1846271605193093,
          0.038370039778662705,
          0.05002275123049418,
          1.1151782400800554,
          1.8811827259263192,
          0.6759446601965315,
          -0.08575101834031476,
          -0.3750977826561239,
          0.04066824143779727,
          1.2109077319448829,
          1.6330251820011104,
          -0.15603949094707784,
          -0.2717706697106434,
          -0.3233501227320128,
          -0.19603406892102848,
          0.11022859221838797,
          -0.5845400524356468,
          -0.02077088338898078,
          -0.25429438554481254,
          -0.22662627724157644,
          -0.1712584642639394,
          -0.4320147836761014,
          -0.37565537219109546,
          0.07213306641354966,
          -0.2373394508807054,
          0.33433818800872206,
          -0.8962912672641223,
          0.011584780292381752,
          1.7950089632531452,
          0.1559064039595942,
          -0.15779869194924004,
          -0.13647456813897701,
          -0.24341533039140018,
          -0.3372239049995662,
          -0.36938851854153515,
          -0.2163522061798839,
          0.5900873205554635,
          1.3518787105675563,
          -0.2260212931498569,
          -0.08076987605189817,
          1.1047442926351883,
          2.173412699449275,
          0.8279461447538493,
          0.1424568638066455,
          0.6289290763995149,
          2.0807146602489706,
          -0.23045181495384265,
          -0.22589118636486338,
          -0.27837858082776984,
          -0.27579368530835835,
          0.1390825138032317,
          1.123765126033453,
          0.3645619208486629,
          -0.7741306082017575,
          -0.3614447108141003,
          0.6084111429815875,
          -0.32865884969087145,
          0.7645639100502886,
          -0.13758510354683806,
          0.17818262313276914,
          -0.7197687686771876,
          1.9449018528376623,
          0.09602955066885113,
          1.6000771606639306,
          -1.2061229322884686,
          2.0096915620694524,
          2.089065501763884,
          -0.2875672091061834,
          0.9400149122011919,
          0.6053680502764307,
          0.5320049623312137,
          -0.012884153960723198,
          0.3789138364193169,
          -0.2904676266404573,
          -0.20870206136326722,
          -0.08282422384429079,
          -0.3409602267370037,
          -0.698391142981858,
          1.9756353153518689,
          2.03527659775425,
          0.10668557000827468,
          -0.5316744096508355,
          -0.8572269184342038,
          2.2920619397875277,
          -0.29473085678861605,
          -0.11248841796589003,
          0.9324409605052367,
          -0.19072766735062868,
          0.8759960614605693,
          -0.11697097798870588,
          0.44665781168486424,
          1.0219537637564924,
          0.17026576099958216,
          -0.03203924517409427,
          -0.20827922939020663,
          1.749892454101077,
          -0.01122299806843138,
          -0.3564793667112664,
          0.13836089572364252,
          -0.29848859965415114,
          -0.5600733615869669,
          0.1893525505045827,
          -0.04895561441649504,
          0.06908723880332891,
          0.6710754393482096,
          2.3861660373910127,
          2.0096915620694524,
          0.8944741336065082,
          1.0250074577136532,
          -0.2789022557179527,
          -0.24341533039140018,
          0.45790482235890323,
          -0.049480787415760806,
          -0.08342772405659803,
          -0.41827860205623724,
          0.039275190527783534,
          -1.6567021448345645,
          1.3121039277722208,
          -0.2807520603606512,
          2.2493611886442135,
          -0.32728438765885665,
          -0.22047791054955118,
          0.07431650953031638,
          -0.17586416202120808,
          0.2174128392473,
          -0.3160363917208798,
          -0.27669698308781326,
          -0.3559696370370008,
          -0.31204497249433044,
          0.05055989891780091,
          1.020055633949131,
          0.10068961203340868,
          -0.2488355752572532,
          -0.3175609370815949,
          0.24314889598354972,
          -0.1616079661719658,
          -0.1717338068746233,
          -0.698391142981858,
          -0.3184712039115909,
          -0.06287725654475443,
          0.7036313360332606,
          -0.18997445289987414,
          1.9997223084420777,
          0.5462007632453771,
          1.4370478552731851,
          0.8901435372100694,
          -0.36609129938153384,
          -0.2611755177250919,
          -0.008043800562007533,
          -0.3404574661132791,
          -0.2831232145050737,
          -0.29386148076878493,
          -1.0201046899283535
         ],
         "yaxis": "y"
        },
        {
         "hovertemplate": "is_safe=1<br>PC1=%{x}<br>PC2=%{y}<extra></extra>",
         "legendgroup": "1",
         "marker": {
          "color": "#EF553B",
          "opacity": 1,
          "size": 3,
          "symbol": "circle"
         },
         "mode": "markers",
         "name": "1",
         "showlegend": true,
         "type": "scattergl",
         "x": [
          0.6150678405986375,
          0.21174053702677692,
          1.738072923130479,
          1.4185938671315506,
          -1.255761777297597,
          1.5100446804611327,
          -0.17796574085583308,
          1.0239866683107701,
          -1.55503353066843,
          0.12269456023169062,
          1.2949477672671192,
          3.3395527019283384,
          0.8411659309849839,
          -1.2585634653227151,
          -1.5908081142933028,
          -1.4901024515107595,
          -0.5668445036068847,
          1.943778186584151,
          1.2907332704753864,
          -1.0618172176156662,
          2.2759740653148817,
          1.1555175742140562,
          1.5105728721538563,
          0.9699541299672837,
          -1.5289339875555472,
          -1.3958976128093912,
          0.30801398292183924,
          1.5104736341479104,
          1.305666706411966,
          -0.012270889685930736,
          2.671646568013593,
          0.4422132831927257,
          2.1646394864736087,
          0.0796759511052169,
          -0.5451509537679529,
          -0.13325712209843132,
          -0.7269340613005829,
          0.8596767183453475,
          0.46753477629153306,
          -1.587003906786311,
          -0.007776057610033656,
          -1.3958399084994246,
          -0.9299261021713716,
          -0.8654229954186762,
          0.5955590712751392,
          0.036504810876847815,
          1.7959967651190336,
          1.6910596871263293,
          -0.2598788778949599,
          1.2378456452293018,
          1.574328695579203,
          1.2226778358159187,
          1.2707198171501897,
          -0.5638545471144114,
          0.8151909471421399,
          1.2258059303399182,
          0.8595505202643389,
          1.7814917516447875,
          -0.17877508322662136,
          0.4901234044433587,
          0.5689753775311854,
          -0.5225587693791901,
          0.6865790891046032,
          -1.3326707964706683,
          2.3986684405359022,
          1.6855866868937568,
          1.4068098384540506,
          0.5163481812528142,
          1.1730296318068454,
          -1.432568069923954,
          1.3467987722421209,
          -0.020549305622918505,
          1.3211935139269344,
          -0.5376318162703662,
          0.2523872712614275,
          1.1000834497250236,
          0.41785433020395624,
          2.703698330894565,
          1.0754099703876074,
          -0.4375700210725708,
          -1.1679407795162222,
          1.1163345100889241,
          1.5852091934910688,
          -0.43525723445751874,
          -0.2534185757529707,
          0.5316695492725525,
          0.8146176148244051,
          0.2337316834530202,
          0.9665934553224439,
          1.5241028100733809,
          0.33916829777187235,
          -1.4006940026292583,
          1.8210848546799339,
          0.3348344785759037,
          -1.497513197032555,
          -1.4315496471001847,
          0.7879915301726743,
          1.858189396259461,
          -1.5540833207659854,
          0.0204961975283226,
          0.760194663037638,
          -0.8933783658332474,
          -0.7646041843268866,
          2.1861897201304723,
          0.9112740052265289,
          0.8013003811842595,
          0.9198507012855478,
          0.6312920705119373,
          1.1781366510884217,
          -1.3652203665915446,
          0.6053613667625667,
          1.3598963716802905,
          -0.4885684660321987,
          0.5178603069577412,
          1.4409973612358717,
          -0.14323013032272308,
          1.5621987861613418,
          2.136162159411287,
          1.7204627317985302,
          1.517445339188657,
          0.4717447219869012,
          0.23006993491629832,
          1.7527779284426028,
          0.729977150770922,
          2.7091244783132487,
          1.4493510045036075,
          1.9506492313879786,
          -0.19628283901275187,
          1.2432748965928455,
          -1.2138433375400686,
          0.41964571740125256,
          0.3386728940447432,
          2.8031873870340713,
          2.1729169662664316,
          -0.28396391674954186,
          -0.024689975948073366,
          0.4643116655508583,
          -0.39677530906710856,
          -1.3717142214009337,
          -0.0456796631066122,
          0.8680673159724254,
          0.3144392367875478,
          -1.4873273468812551,
          0.3673336734406839,
          -1.7060552757199938,
          -0.1717931052865978,
          0.5500464237104004,
          1.0517558929210438,
          -0.2945333351423404,
          -1.3048128255684424,
          -1.4635725042398535,
          2.155766397243536,
          -0.14627060303866118,
          2.006068776701637,
          0.9727906327913213,
          1.3008716125183493,
          2.4365397723939664,
          0.9905015632925561,
          0.9168864563142439,
          0.1965174708688176,
          -0.850017087083911,
          1.9591464547901345,
          -0.2729694606889879,
          -1.3531916295029618,
          1.6557195759887755,
          -1.5069397709791739,
          1.0137160950591777,
          0.8927063233956407,
          1.110854122087218,
          1.790868042845303,
          -1.5127686315737405,
          1.4815229154406022,
          0.45739758920745127,
          1.1130515452199738,
          -1.5328905242470838,
          0.22243585575350103,
          -0.17097211624293523,
          1.6683286935992467,
          -1.111125385672274,
          1.667866622639781,
          0.8209356778958603,
          -0.024392989517572822,
          0.31343560971914874,
          -1.0405719400749764,
          0.22938467128320078,
          1.0437669369127742,
          0.7875109559956462,
          -1.43613600342554,
          -0.2754310349142938,
          -0.30825408045490554,
          0.3006272627378873,
          1.3491103723382807,
          1.0036298426959074,
          0.9521669434811438,
          2.2459695303880847,
          -0.16815892142729183,
          1.8222859629007964,
          3.164808778130965,
          0.6280202967040442,
          0.43434131034563733,
          0.16810636145450505,
          -0.37134227267529374,
          1.1014665711511644,
          2.509834348136282,
          0.36947042928598184,
          0.5143795767668711,
          1.5738773362334664,
          2.0900775543874306,
          1.6294777904856186,
          -1.5772762138101737,
          0.16573086605602397,
          1.6728080746253253,
          0.7531314675421639,
          0.363102224435792,
          1.195809739543524,
          1.9201734579542447,
          0.4931258343455138,
          0.17304026780618187,
          -1.5586593399223425,
          0.9984351531488928,
          1.342741748990744,
          -1.2434867719193288,
          -1.2420812584118543,
          -0.32945378421059124,
          -0.9688010610978343,
          -1.5219467389549892,
          -1.5863984722724218,
          1.4103009531862751,
          -0.10815967665033528,
          1.3698770687405377,
          3.142049952654374,
          -1.636049560326619,
          -1.0823110454352591,
          -1.3286816263585322,
          -1.5755946521625481,
          1.751614145706074,
          -1.4823836797226606,
          -1.5052879891820143,
          1.8048805513001902,
          0.9767244683115364,
          0.9136834717897568,
          0.39666558735170576,
          -0.06515784274020175,
          -0.16933973198960675,
          0.8503808664208516,
          1.7833897532742562,
          0.672400156141884,
          0.5428333476807925,
          -0.06691767586315266,
          0.03517267154387418,
          2.48063722125694,
          -0.7523642441222644,
          0.017677031620060214,
          2.0162109253562646,
          -0.06662167071445449,
          2.1890653113198173,
          -0.04376790795355664,
          1.987259863764237,
          -1.0159757317989988,
          -1.357659318718529,
          2.995332311218034,
          1.260514912339778,
          0.17571224888571,
          0.36057120671765264,
          0.8695060844002168,
          0.7455752549349702,
          -0.7061216196709618,
          -1.587458867506622,
          -1.1367576040625234,
          0.7513053749533053,
          -1.0859919558037314,
          0.6317769656277084,
          -0.7229881426277617,
          -1.6307579213246168,
          0.2847932274531525,
          0.844186961019454,
          2.0893378618315857,
          0.024429175836738846,
          0.9592141567023553,
          1.2369260588114968,
          0.8449549829545203,
          0.59015459305388,
          1.232086931879393,
          2.3545823574960854,
          -0.860784158071532,
          0.7117212816008959,
          0.10588309325181433,
          0.9553613650605123,
          1.9514846564049275,
          0.6076280968255465,
          0.1806005058397549,
          0.23368756013926062,
          -0.047217362685079714,
          1.1498191683695203,
          -0.6064927393166026,
          0.8890527442272231,
          0.4993580803077772,
          1.8507951304416408,
          -1.0469258297021438,
          0.750729531950157,
          -1.5153462381534173,
          -1.460597641249834,
          0.8922364710902275,
          -1.257389173974828,
          1.1082141022364764,
          1.0696721479556914,
          -0.019343190693874697,
          -1.2013213781026764,
          1.2259975667044862,
          -1.0619207765603547,
          1.3132297055056799,
          1.3150103675116223,
          -0.9515982445305117,
          -1.4793930848331045,
          0.5935652549324599,
          -0.8269729838846961,
          2.2797358481193655,
          0.3682340675517486,
          0.9853330635643397,
          -1.1606400478838221,
          -0.1881862061234216,
          -1.2780464328497705,
          -0.21966817826095011,
          2.0456757731427198,
          -1.3138472569855377,
          -0.4536448678814511,
          0.5134530210772791,
          -1.064699311122073,
          0.5906563783478084,
          0.49765759030576245,
          2.809454478270245,
          -1.2933318186837823,
          0.6109349662820763,
          -1.500878175718773,
          2.4403544095799496,
          -0.6458427400419261,
          -0.02369977533088685,
          0.8939534103212285,
          2.29345506402832,
          0.5575098216963444,
          1.1063005085898203,
          -0.16374725257308456,
          1.8479752167289383,
          3.1621397882691986,
          1.4538146400525238,
          0.2011963327254337,
          0.12815508705458153,
          0.3086356805597095,
          -1.5128106039841713,
          -1.065683011656916,
          1.1086067117207228,
          1.539145419584923,
          0.07794209677552745,
          0.5385562041406327,
          0.9208461251909125,
          1.4292105883955961,
          -0.9742864873677324,
          1.0019519297952113,
          -1.4872484539062125,
          -1.5084429343737198,
          2.170608500590123,
          0.01632998712435812,
          -0.40508325224511615,
          0.7261906682020612,
          2.4767754808823415,
          -0.29318755277815794,
          0.9069791616687692,
          1.0263243995104665,
          0.9142816561821427,
          0.6518596943231176,
          0.7619298437685685,
          -0.12335120231157384,
          -0.39866023044982357,
          -0.7903057232249857,
          0.6699066342654175,
          0.3453455520269332,
          1.0629020115287893,
          1.1382138661671726,
          -1.194346322062083,
          3.137740501680969,
          2.263535238624189,
          -0.6373872691504647,
          -0.7974822215747007,
          2.3658908751852827,
          -1.6081861946938543,
          0.10185446141466117,
          2.2356262371714184,
          1.6022624724089762,
          0.4130444372352287,
          0.9558034779264102,
          -1.473412237938712,
          -1.4313956339670333,
          -1.0408309152517048,
          0.888838080703979,
          -0.4239157426977222,
          1.6199989238569363,
          1.3159000815689692,
          -0.3637286174757666,
          -0.8213120129318511,
          1.8209077974907406,
          -0.005629650365176599,
          -0.3596303865157654,
          1.1484463503176467,
          1.9739566894179277,
          -0.8838176432520315,
          0.6766606338730622,
          0.9653131699570822,
          -0.03652007916003144,
          0.114054501179815,
          -1.088200401874924,
          -1.6318743369201776,
          -0.8020458767287337,
          1.3857080485377888,
          0.8862367747738135,
          0.06880161039097554,
          1.6191848273874123,
          2.267544365744873,
          2.3905773591568242,
          0.7311675620407013,
          1.8117070961108088,
          1.6894924434094762,
          0.14327454804519502,
          -0.1739601079370849,
          1.3495251855641353,
          -0.18674748283326664,
          0.013598926876246122,
          0.10439587833680083,
          1.663610089167897,
          1.744998210752048,
          0.4637030661421272,
          0.9581891864238863,
          1.5374509344702574,
          -0.1888843932235588,
          0.5476791630349648,
          3.05271673333834,
          0.4364889932996401,
          1.0819744698713678,
          0.4787537829869717,
          -0.9332956183763286,
          0.9030194149447539,
          -0.021343160914438317,
          -1.3898604026689187,
          -0.08008064931515975,
          -0.9995463487946458,
          1.3845649570366219,
          -1.0780513008458765,
          1.016934465278742,
          -0.18419083144130471,
          2.109932628503096,
          0.2595723438991678,
          0.8181875751593162,
          1.4324931178698344,
          -0.36353454935815244,
          -0.563668648365101,
          -0.3157155610148819,
          -0.024989411028985817,
          1.864157504706798,
          1.3998942011470208,
          0.44681861524482563,
          1.6596074779419019,
          1.4502919205538578,
          1.3184340622645996,
          0.9589074094649374,
          -1.5079757810934458,
          0.10261453056141974,
          -0.9317330046882082,
          1.678598845033753,
          -0.41122112038778796,
          0.9812686187490991,
          1.827538187550137,
          2.063682908475284,
          1.3466749156388853,
          1.0190660452082176,
          -0.32603278516301293,
          -0.9620617647355677,
          1.4331826066119429,
          0.5231740707689845,
          -1.2505261586569554,
          1.4951586703807829,
          -0.3084572067126333,
          -1.3213316101591959,
          -1.2434322640642144,
          0.3490660312930606,
          -0.46233092253541763,
          1.3633603864551032,
          0.6789838479323858,
          1.3449621541445396,
          0.8996053231339601,
          0.6345140590034407,
          1.6156709043112267,
          0.4911656664999664,
          -1.1346735627163758,
          -1.3885655888202781,
          1.387418704266442,
          2.0840905931983307,
          0.06816047230635705,
          -0.3902626973456904,
          1.250501444211302,
          -1.3124141619032816,
          -1.6068072645819935,
          0.10484122145228186,
          1.4718384096340587,
          0.15804165530367573,
          -0.001339873315881018,
          2.0568031799760726,
          1.1355548705896863,
          -0.281495404812461,
          0.694156788123955,
          0.3119573909092466,
          0.40499294497090993,
          0.4032122040326009,
          0.5176565738629423,
          0.7432525698653715,
          -1.4170920932768987,
          -0.3236827993683507,
          0.5684619342214773,
          0.011419667396073576,
          -0.6007046194759372,
          2.9493525441677515,
          0.9834548475010582,
          1.362170380105045,
          -1.334173959865215,
          1.5662452218689926,
          -1.0946853226142033,
          1.987580549545227,
          1.1568609248251922,
          0.1090138078685863,
          -1.1548374278001494,
          1.6727321897654102,
          -0.06817167002552445,
          1.7112940874771172,
          -0.027378892343395012,
          2.1478064090115705,
          -0.5886880749473185,
          0.6446798901111922,
          0.7944297244027874,
          0.5090094214692765,
          0.07524234578149343,
          -0.014298632055719905,
          0.4842919090933743,
          0.07056677397474305,
          0.4028551887117254,
          -0.04621467176084623,
          0.03643460159718814,
          0.9905076099978019,
          -0.29304518408316155,
          3.2204450622585683,
          0.5457891898064313,
          0.6274228014008368,
          -0.43330219962487626,
          1.611853647032472,
          1.248642341522395,
          0.1672352159694624,
          -0.5884782128951663,
          0.1481751521041985,
          0.6286768407008452,
          0.4203503616808165,
          1.5718791119965105,
          -0.800313751485287,
          3.520311570089574,
          0.92848166840258,
          0.3547813555560252,
          -1.5943516626749599,
          -0.05069084275444646,
          0.29083124966778706,
          -0.8286281335790683,
          0.6577966513811125,
          0.33537933831232813,
          -1.5789298509983,
          0.7320297114206322,
          -0.8061658275782552,
          -1.4285292723601624,
          -0.9516730218039015,
          -1.4816540119260861,
          1.8054533975311173,
          1.6882878578840441,
          1.4779898451953117,
          1.7730429376153836,
          0.2895670424064205,
          -1.3572146951672175,
          -1.6106937329612403,
          0.08807460869324073,
          0.7346520176761488,
          1.6819421207278151,
          1.2536418407026246,
          1.0568557263508378,
          1.210975209713854,
          -1.4702972383241113,
          -0.176463406432814,
          -0.19105122666640564,
          -1.2774672388467756,
          -0.5531574824040788,
          -0.5320063154108884,
          0.7859240643602358,
          2.3934009362791024,
          0.12634796795774889,
          -0.545183679698545,
          2.5260454662428176,
          0.05846308817041084,
          -0.9973886377616337,
          0.39269250892118995,
          2.1367072221500814,
          -0.04508437965671536,
          0.15420095128387779,
          -0.43173267869997156,
          -0.7100058277395215,
          1.2736806942242818,
          0.6675705870143274,
          -0.08407875349740618,
          1.709133882656056,
          -1.4828545437848677,
          -1.1191188645366372,
          1.7735384202748792,
          0.09362824788446392,
          1.547851713182174,
          0.4495294174175682,
          1.5718048941878369,
          -0.24267448678638925,
          0.2925179251962333,
          2.1153501847363887,
          -1.4548650894784523,
          1.3527323783002683,
          -0.7748668385849018,
          -1.5078899808816186,
          1.36535393552569,
          -0.6766967005642461,
          0.12091977680837447,
          -0.9371928762166509,
          -0.3640315467586142,
          0.23582093118998085,
          -1.5400265626926155,
          -0.9815624909954851,
          1.0570715121232528,
          -0.5021077260441894,
          2.4532266180688014,
          3.47508696354232,
          1.7553650318768441,
          0.004292253930663341,
          0.047019813924524784,
          0.5130164123492768,
          0.3158375453111552,
          1.758670669676845,
          0.6174655364189874,
          2.1501074057516605,
          -0.713136278403941,
          0.9663247475790695,
          0.6458696156115324,
          -1.4271643901992317,
          -1.2074302310966878,
          0.12549330217668297,
          -1.3185317775250434,
          -1.2223039696847062,
          -0.06985956254785376,
          1.1500265648738948,
          2.01716444112092,
          1.8314117133302596,
          2.7673685086530795,
          -0.3491841727514939,
          1.541562263659397,
          0.6982046438278602,
          -1.353756946997387,
          0.9979884384945337,
          0.21371869708254695,
          0.9298784813173058,
          0.4542527477073825,
          3.1543267513886066,
          0.008454143395884703,
          1.1367601587819223,
          -0.013908173474802669,
          1.3653155813871989,
          1.7038891416055804,
          -1.0984231725908362,
          -1.0322898776257783,
          0.5947666135280487,
          1.8656268345842275,
          0.8385262855789724,
          1.706256652655742,
          0.25867428903115713,
          -1.3582945330828853,
          1.6979462134549663,
          2.900371392766837,
          1.3962486063269213,
          2.3733812614865615,
          -0.7336133930421957
         ],
         "xaxis": "x",
         "y": [
          0.07953644426061841,
          2.180883955258443,
          -0.41890450752924996,
          -2.2530438978020983,
          -0.33620444565103474,
          -0.6821039816187012,
          -1.5686553296176098,
          0.48881212668537705,
          -0.3122680083083191,
          0.7419759197532553,
          -0.367281804997741,
          0.20628600340106445,
          -1.5591567760701677,
          0.06080887735491126,
          -0.28284999344192074,
          -0.09727641369956924,
          0.9674102647452328,
          -1.440428121057726,
          -0.723046468351274,
          -0.11408591581189317,
          -1.7162858420761293,
          -1.4524269787299877,
          0.6715498917773293,
          -0.2832403815512639,
          -0.2999893984983099,
          -0.1600490337476688,
          0.09405517195347503,
          0.019844949281065,
          0.14243638638480388,
          -0.6476987575619197,
          -2.0142064979505108,
          0.37782369531793386,
          0.23080051966760354,
          0.1001268993027266,
          -0.43533523424485393,
          1.1878583442530828,
          -0.010778793639790356,
          -0.4621576786019684,
          1.1303307860027176,
          -0.31454344273133,
          0.10939730920147019,
          -0.316646026589517,
          -0.2664670719310005,
          0.4661595690786456,
          -1.2033652195157487,
          0.9793538353171249,
          -1.451519044403286,
          -1.4361611422812244,
          0.8840741625772879,
          -0.6901332578239517,
          -0.7909726099651511,
          0.11093852869966102,
          -1.3774213035573022,
          -0.5706773486910656,
          -1.0927619650943996,
          1.102975851850049,
          0.8361297301871116,
          -0.4552747600750557,
          -0.7054442022338816,
          1.382116382639909,
          -0.9943472274250071,
          -1.2237163074999615,
          -0.6381356022619333,
          -0.3580290046965639,
          0.037090735950397934,
          -0.7356191932777183,
          0.08959812830151728,
          -1.8800761904277328,
          -0.949533230531975,
          -0.16742409741663145,
          0.8058372101216664,
          1.6244159881320417,
          -1.1446012127916547,
          0.995417112242411,
          -0.4785833843190706,
          -0.8263889141783793,
          1.1883726973762552,
          -0.5645987485049772,
          -2.250566806004185,
          0.8423492035095945,
          0.04506251609370029,
          -0.5465783000601117,
          0.5824450398231266,
          -1.3246244064403134,
          0.27436140106426626,
          2.204189843466063,
          0.055248286427478824,
          0.35398810687584537,
          -0.7634769000211219,
          -1.773844025663392,
          0.5012900755966659,
          -0.12981647177268602,
          -1.0284467236527306,
          -1.2040431227812405,
          -0.32831500153088866,
          -0.06518475264288844,
          0.1279283621411646,
          -0.3537096317093187,
          -0.28289785330262646,
          -0.8273023954470677,
          1.4850522457538236,
          -0.19014547070820853,
          -0.1294693889608353,
          -1.6415422132299202,
          -1.3715768105933395,
          -0.6004731810182576,
          -0.8770985258759596,
          0.22871422064346322,
          -1.1644012161188093,
          -0.34250986472230127,
          -0.8907324840278291,
          -1.4357317721187344,
          -0.46026603831151874,
          -0.28641906022903774,
          -1.8207392743853827,
          -0.5364826658002513,
          -1.5058488293675683,
          -2.187069327241122,
          -1.9468272293240507,
          -0.760142982638751,
          1.8194193484260017,
          1.527242809033749,
          -0.29579172803862275,
          -1.0786568224767952,
          -1.1478631296411597,
          -1.8045779796782375,
          0.47282082522760666,
          1.8880127576105195,
          -0.9646118993449389,
          -0.21854168062444068,
          2.287344258819307,
          -0.15894087838428886,
          0.2163393842504027,
          -1.5585244084082537,
          -0.33345649262127264,
          -1.3113598008522742,
          -1.090690977607378,
          0.723444401509603,
          -0.0778230087984628,
          -0.5279022573967556,
          -1.7633441411936353,
          -1.6770890610727587,
          -0.32628258658040876,
          -1.5753176185716957,
          -0.26038373785263125,
          1.6609674490902506,
          -0.05007408392565913,
          1.3753932192171157,
          0.4878526194438028,
          0.19419105093363284,
          -0.269017101984532,
          -1.0241356325125357,
          -0.4890986076539579,
          1.060661659335032,
          -0.3302034273826459,
          -1.335506273630648,
          -0.42221102824308654,
          -1.3063433824500428,
          -1.806768841788502,
          -0.768887318520985,
          0.5522882625835305,
          0.5006195449148153,
          1.612735400478047,
          -0.25953295071079935,
          0.6942070881939678,
          -0.30489991368989733,
          1.4037364674214377,
          -0.9580021341268163,
          -0.5233165908392163,
          -1.1580122088674039,
          -0.32280600599416504,
          -1.8924807155662708,
          -0.9003328301821543,
          -0.6747224201866607,
          -0.15095379980220797,
          2.0324468369074773,
          -0.8593011203599181,
          0.33138100774083257,
          -0.0038549034500096353,
          -1.3079464414677027,
          -0.3719033271372733,
          -0.7649061434231964,
          -1.4252263133789793,
          0.21941505260715785,
          1.7591061750040733,
          -1.3465814118889656,
          -1.6914000929480828,
          -0.30889133291644655,
          -0.11483030824244111,
          1.0925572859593247,
          1.1981602844021029,
          -0.9331279797608779,
          1.0280235905948913,
          -0.789019644131707,
          -0.8951821206532993,
          -0.56386408024321,
          -0.6837423571765291,
          -0.997220287585768,
          0.036323658267759566,
          -1.651765154204862,
          -0.5554003320242648,
          0.9585101904115969,
          -0.21438951730898922,
          -0.6933617444144707,
          -0.7439639952186755,
          0.44728790149950653,
          -0.12011167895911652,
          -1.2047689607766359,
          1.1083482166420204,
          -0.289075956281316,
          -0.03400942531817023,
          0.0026051939395225526,
          1.2652300705876558,
          0.13881345686853228,
          1.1181116083396856,
          -0.3806705122396645,
          -1.2156516885578628,
          -0.3004773390855548,
          -0.16274544717407466,
          -1.2550450097239305,
          -0.2145977117419919,
          0.206256377557775,
          -0.041812881000520476,
          1.3933541748754765,
          0.444697439956263,
          -0.31767245498858926,
          -0.23155955966928718,
          -2.306190647078848,
          0.7552056741050847,
          -1.2491285150957714,
          0.42056343449789974,
          -0.2766946576993545,
          -0.2632084181927055,
          -0.43584867697328605,
          -0.26044972128737837,
          0.23234413230861645,
          -0.2500961939938147,
          -0.09348526305088493,
          -0.8581093101933668,
          -0.8635843566424553,
          -1.3836946276419293,
          0.36968335939481145,
          -0.6396155557253272,
          1.601134727245046,
          -1.044871485663577,
          -1.2428914048477109,
          1.2593451390191452,
          -0.5755381581671166,
          1.4087850223679907,
          -0.003635622247869469,
          -0.7156635132700204,
          0.008159759522670012,
          -1.1727883107653096,
          -0.5371834182858994,
          0.735654702496406,
          -0.7010778655509997,
          0.3576812195294949,
          -2.180723475548813,
          0.4552893430602753,
          0.11455921594283786,
          -0.4219712778652704,
          0.6007818708737465,
          -0.38497738346405275,
          0.5484691881914954,
          0.3047719083404423,
          -0.9835811051723086,
          0.17312572456830766,
          -0.3058896367517643,
          -0.004300975077986858,
          -1.2639585699530314,
          0.2421340802971003,
          0.6594789920145192,
          0.6908862269772801,
          -0.26890325868907894,
          1.0074596443024184,
          -1.059893432169277,
          -0.6419156661414797,
          -0.6887193057458203,
          -0.49529114136569835,
          -1.0615146409576601,
          -0.9195669134547692,
          0.8144599052472002,
          -0.6549757974655179,
          -0.11195461537382648,
          0.9114230642708362,
          -1.0338673993796947,
          -0.798457310112101,
          1.7542077105010556,
          -0.6679602473827092,
          -1.0737105385394232,
          -1.19738503951329,
          -1.1662779794540958,
          1.7250053315369935,
          -1.3746435666996888,
          -0.31871283571841397,
          -0.2124640028001027,
          -0.6214051315038743,
          -0.3052331617292056,
          0.3462734149627063,
          -0.6387382680800294,
          -0.2538325157312525,
          -0.19004740538516232,
          -0.7360248251698176,
          -0.23786080038242954,
          -0.3427706113506088,
          0.08028961828502514,
          0.042985455721206905,
          0.24583183661283178,
          -0.18727250789248243,
          0.6227728254100341,
          -0.17689996684331352,
          -0.8753755791367157,
          -0.6995156153594706,
          -0.2998142225450273,
          0.21686359219890639,
          0.39224164186452176,
          -0.37111761416677924,
          -0.6025074358400626,
          -1.2188341349458258,
          0.09674837805602385,
          0.4038427661718101,
          -0.2851031259327659,
          1.8181062332814877,
          -0.1888179877328314,
          -0.3564635685256839,
          0.64539194079077,
          -0.4371265373484906,
          0.05517906947219349,
          -1.7704450603063642,
          -0.5065623758272616,
          -0.1087047847870681,
          0.037587089041243825,
          -1.7458293047044382,
          -0.17658763307046282,
          -0.41361249626554925,
          -0.5406167006894861,
          0.735847523621432,
          0.697988480231025,
          -0.27902825303051504,
          0.24812861503208175,
          -1.775974046616466,
          -0.8559462887110889,
          -1.0589218600094623,
          0.7200908886407889,
          -1.4919248618508498,
          0.18101375256340427,
          1.1011144285112224,
          -1.1114268782996057,
          -0.29489673830289925,
          0.6265570070081776,
          0.7059220700263801,
          -0.8136442228851699,
          -1.0210488511899625,
          -1.631111526633603,
          0.8119548908372659,
          -0.8122683922692927,
          0.17897904666731212,
          -0.36433631942650807,
          -0.15834001799467118,
          -0.2156970368389998,
          -0.7801144821765373,
          -1.4297130588747549,
          -0.49518563457331805,
          -0.005824147002664856,
          -0.661765874930974,
          0.7397529959678676,
          -0.7654572232280795,
          -0.06920780381477985,
          -0.5991841945788937,
          -0.9328333993404847,
          -0.17128822900994523,
          1.4655477463401427,
          -0.2753648279910128,
          0.4143979710534528,
          -1.0770077112895675,
          0.37118976808314486,
          -0.7431002136820182,
          -2.1546728345204516,
          0.07326963216874371,
          -0.21841167118448182,
          0.1378599191838902,
          0.8392136875057522,
          0.35357134067342133,
          -1.282112812040376,
          -0.21702131362184993,
          -0.1699384204952361,
          -1.5018852803596772,
          -1.1361955221523194,
          -0.3998134647969272,
          0.8589049684705035,
          -0.1304646720630294,
          -0.25711393670567095,
          0.008230406832675216,
          0.20562483717523705,
          1.0359623107007925,
          0.03921378898426049,
          0.0023612247772302245,
          -0.21963041271561012,
          0.5217848049338533,
          -0.9520772625692328,
          1.8421811341254453,
          1.1212922552826754,
          -0.10958438359115392,
          0.3250277550055412,
          0.22076906567667223,
          -0.8019185447183794,
          0.1822943609420133,
          0.2874215728146563,
          1.3546011483577902,
          0.56725213841128,
          -0.2612233775857977,
          0.49421009096357027,
          0.09130158999769297,
          -0.5727311836383128,
          1.6140801191085619,
          -0.8449733821669319,
          -0.8897855665166502,
          -2.0773935861405866,
          -0.07242603803037297,
          1.316858750922263,
          -1.9173985383364502,
          -0.39908535606909545,
          -0.610360147294992,
          0.1464886467685444,
          0.7695850207871201,
          0.13038499899307338,
          0.7300388327147701,
          1.146738759711869,
          -1.6739674843013284,
          1.0562214062474302,
          -1.1901749480952009,
          -2.161952185582838,
          -0.6839755955615967,
          0.7455156597703131,
          -0.9869350620005748,
          -0.4266981641736217,
          -2.1087687238540473,
          0.6429306400636032,
          -0.29415701087893914,
          -0.08889915253389387,
          -1.6680151924680433,
          -0.341495049035852,
          0.859774358720005,
          0.41989627737063373,
          0.590555626361244,
          0.23903991329254523,
          1.3646187260184974,
          1.1874531634352703,
          -0.6722750527084008,
          -0.1684849342237918,
          -0.14665712031321845,
          -0.09177165942315767,
          -1.1762630241522172,
          -1.0995933892964829,
          1.5311487466841425,
          -1.4348294097993697,
          -2.1511758192013786,
          -1.2383646980183558,
          -1.5478795151329896,
          0.551913705971286,
          0.02629116435686782,
          -1.23345696640435,
          -0.86300819844266,
          -0.06947169486475685,
          1.9660856601770174,
          0.3312300829030854,
          -0.5039319267537573,
          -1.3488173360526843,
          -1.4033497030162794,
          -2.1511925408800416,
          0.48649252524265113,
          -0.9670072226208634,
          0.5281854570780677,
          1.1596168482292926,
          0.042117508924765526,
          -1.1447731136667176,
          -0.436877917409281,
          -0.2464030884550008,
          -0.878410227158085,
          0.933755485791295,
          -0.16782463457236155,
          0.06444065023589521,
          1.9632958453028226,
          0.7033307183015721,
          0.4679796089753385,
          0.7997144215713573,
          -1.1962178162410113,
          -0.2879027683042802,
          0.09520380747908441,
          -1.4816777303999003,
          -0.017822566698979764,
          -0.1858854609822474,
          -0.23134581829429832,
          0.474710624515401,
          1.169199009038719,
          -0.362105023563871,
          0.4496813587074252,
          -1.0358441023521994,
          -0.30955579669633027,
          -0.29708342205503935,
          -1.693244768411566,
          0.08510770193176136,
          2.0963555431771423,
          -1.5118921474563356,
          -0.5958614388348584,
          0.19528293569263716,
          -0.30797272958337774,
          -0.035944267577572915,
          0.2729302429216686,
          -1.4173075982761267,
          -0.9080061873256766,
          0.2815245561147299,
          -0.016677684653888705,
          -0.21740605259199736,
          1.7022500638138038,
          0.03204179170041504,
          0.48671885149586047,
          1.001467899128524,
          -0.9281050778252382,
          -1.2466504998047776,
          0.13873721507535353,
          -0.2688261278456665,
          -0.9040542914567602,
          0.055825409678035856,
          -0.7869403070432721,
          -1.534142350511848,
          -0.36379683923590744,
          0.013876012900975466,
          0.7108739604139358,
          0.18553535042671965,
          -0.14927087616740128,
          0.08643618553207696,
          -1.5545608653838676,
          0.9295656651862167,
          0.10128803772252287,
          -1.080133939969246,
          -1.5104312672567441,
          -0.3405332366189947,
          1.9656307594139986,
          -1.0501276555749557,
          1.8556734263043901,
          1.0166691928307954,
          1.9559324014613189,
          -0.019483715476436153,
          -0.823261715595764,
          -1.5234333410011727,
          0.28767426891478054,
          -0.029532465762033045,
          -1.5296165802739135,
          1.240447969298819,
          -0.9328994101032433,
          -1.8542634681520287,
          -0.5512207222364311,
          0.7900193267298872,
          -0.4344068711688276,
          1.3960068865861253,
          0.5630594926709389,
          -0.9599253636735965,
          -0.012400918806418275,
          0.2516483358164204,
          -1.091958572509316,
          1.3288162880545782,
          -0.11455893303411828,
          1.757185743264545,
          -1.5483241848655882,
          0.33000106053768924,
          -1.4723687408497794,
          -0.4618667921538961,
          -0.29151076847202717,
          -0.24626606129198345,
          -0.011473930297759484,
          -0.2976911968391754,
          -0.6084294702953732,
          -0.1762530793494798,
          0.8560324413680636,
          -1.0327620335774015,
          -0.22538246928254663,
          -2.3226274882376052,
          -1.2438848469472497,
          -0.2579535764388375,
          -0.2841584720391879,
          -0.5486093321970587,
          1.7476221215292707,
          -0.5770204452651347,
          -0.9690944331710737,
          -0.9204888132105637,
          -0.3401429316250149,
          -0.3237162728241611,
          1.4730794041992243,
          0.6386185992336477,
          -0.3028977003300393,
          0.15207249643273887,
          0.043140210040000654,
          0.021602310411902186,
          0.2842762352969991,
          0.1308305922187526,
          -0.1829841555290702,
          -0.9728730951552419,
          1.9981754611491969,
          0.7644082678125912,
          -0.7065700978513786,
          0.6358292009908937,
          2.0285446336557564,
          -1.87572884502462,
          1.433094120664273,
          0.6540592266822949,
          -0.2985769183325803,
          -0.5935748154455005,
          1.7137076156538098,
          -1.7731726130461432,
          0.021638140928544432,
          0.06646795622033538,
          -1.4732223329136984,
          -0.21002174914005758,
          0.4484875851278333,
          0.05686623323598227,
          0.43035616493263446,
          0.7454408745285356,
          -0.7976850557090602,
          -0.7482114567719227,
          -0.13680912185995991,
          -0.3411238588633565,
          0.3029569833932946,
          -0.33427006869558973,
          -0.2504308035021502,
          -0.5505720162157786,
          1.8140674123833547,
          0.703861362242296,
          1.6428406463604528,
          0.5708495099990117,
          -0.29949546700962687,
          0.16826587302818316,
          1.0159545235885712,
          1.327653276451941,
          -0.306225217294367,
          -0.48806667500191114,
          -0.08554200972627655,
          -1.6823503863600342,
          -0.023706554561234085,
          -1.1145373087937014,
          0.47874202528870596,
          -2.0320261507426953,
          -0.16707192698324677,
          0.5288893622315506,
          -0.23856105312127365,
          1.6630486462631868,
          1.6450900373377904,
          -0.3236526147778723,
          -0.4421912666857157,
          0.41452525981801874,
          -0.3558581191300063,
          -0.2944441629283388,
          1.1322456446035782,
          -0.3346060598861279,
          -1.6027613307232462,
          1.001115173160982,
          -1.1401158834209286,
          -0.4972329111179599,
          0.12040081601717482,
          0.9492230446045195,
          -0.161446263015807,
          2.243381021740096,
          1.3223756603471133,
          0.2474669479281195,
          -1.470066811906808,
          -0.19172957887245162,
          0.30862396078584503,
          -1.9835245810231652,
          1.46614808676978,
          -0.31691420757232314,
          -0.19586778500497531,
          0.36936788718379676,
          0.3118812268584322,
          0.6163493562258489,
          -1.3708449959261766,
          0.5677185972308998,
          -0.9366761311502066,
          -0.4841123635143368,
          0.21436374852586973,
          0.29361868130278557,
          -0.3994274261286107,
          -0.27340912725250466,
          -0.47492887266130424,
          0.7032126966479951
         ],
         "yaxis": "y"
        }
       ],
       "layout": {
        "legend": {
         "title": {
          "text": "is_safe"
         },
         "tracegroupgap": 0
        },
        "margin": {
         "t": 60
        },
        "plot_bgcolor": "white",
        "template": {
         "data": {
          "bar": [
           {
            "error_x": {
             "color": "#2a3f5f"
            },
            "error_y": {
             "color": "#2a3f5f"
            },
            "marker": {
             "line": {
              "color": "#E5ECF6",
              "width": 0.5
             },
             "pattern": {
              "fillmode": "overlay",
              "size": 10,
              "solidity": 0.2
             }
            },
            "type": "bar"
           }
          ],
          "barpolar": [
           {
            "marker": {
             "line": {
              "color": "#E5ECF6",
              "width": 0.5
             },
             "pattern": {
              "fillmode": "overlay",
              "size": 10,
              "solidity": 0.2
             }
            },
            "type": "barpolar"
           }
          ],
          "carpet": [
           {
            "aaxis": {
             "endlinecolor": "#2a3f5f",
             "gridcolor": "white",
             "linecolor": "white",
             "minorgridcolor": "white",
             "startlinecolor": "#2a3f5f"
            },
            "baxis": {
             "endlinecolor": "#2a3f5f",
             "gridcolor": "white",
             "linecolor": "white",
             "minorgridcolor": "white",
             "startlinecolor": "#2a3f5f"
            },
            "type": "carpet"
           }
          ],
          "choropleth": [
           {
            "colorbar": {
             "outlinewidth": 0,
             "ticks": ""
            },
            "type": "choropleth"
           }
          ],
          "contour": [
           {
            "colorbar": {
             "outlinewidth": 0,
             "ticks": ""
            },
            "colorscale": [
             [
              0,
              "#0d0887"
             ],
             [
              0.1111111111111111,
              "#46039f"
             ],
             [
              0.2222222222222222,
              "#7201a8"
             ],
             [
              0.3333333333333333,
              "#9c179e"
             ],
             [
              0.4444444444444444,
              "#bd3786"
             ],
             [
              0.5555555555555556,
              "#d8576b"
             ],
             [
              0.6666666666666666,
              "#ed7953"
             ],
             [
              0.7777777777777778,
              "#fb9f3a"
             ],
             [
              0.8888888888888888,
              "#fdca26"
             ],
             [
              1,
              "#f0f921"
             ]
            ],
            "type": "contour"
           }
          ],
          "contourcarpet": [
           {
            "colorbar": {
             "outlinewidth": 0,
             "ticks": ""
            },
            "type": "contourcarpet"
           }
          ],
          "heatmap": [
           {
            "colorbar": {
             "outlinewidth": 0,
             "ticks": ""
            },
            "colorscale": [
             [
              0,
              "#0d0887"
             ],
             [
              0.1111111111111111,
              "#46039f"
             ],
             [
              0.2222222222222222,
              "#7201a8"
             ],
             [
              0.3333333333333333,
              "#9c179e"
             ],
             [
              0.4444444444444444,
              "#bd3786"
             ],
             [
              0.5555555555555556,
              "#d8576b"
             ],
             [
              0.6666666666666666,
              "#ed7953"
             ],
             [
              0.7777777777777778,
              "#fb9f3a"
             ],
             [
              0.8888888888888888,
              "#fdca26"
             ],
             [
              1,
              "#f0f921"
             ]
            ],
            "type": "heatmap"
           }
          ],
          "heatmapgl": [
           {
            "colorbar": {
             "outlinewidth": 0,
             "ticks": ""
            },
            "colorscale": [
             [
              0,
              "#0d0887"
             ],
             [
              0.1111111111111111,
              "#46039f"
             ],
             [
              0.2222222222222222,
              "#7201a8"
             ],
             [
              0.3333333333333333,
              "#9c179e"
             ],
             [
              0.4444444444444444,
              "#bd3786"
             ],
             [
              0.5555555555555556,
              "#d8576b"
             ],
             [
              0.6666666666666666,
              "#ed7953"
             ],
             [
              0.7777777777777778,
              "#fb9f3a"
             ],
             [
              0.8888888888888888,
              "#fdca26"
             ],
             [
              1,
              "#f0f921"
             ]
            ],
            "type": "heatmapgl"
           }
          ],
          "histogram": [
           {
            "marker": {
             "pattern": {
              "fillmode": "overlay",
              "size": 10,
              "solidity": 0.2
             }
            },
            "type": "histogram"
           }
          ],
          "histogram2d": [
           {
            "colorbar": {
             "outlinewidth": 0,
             "ticks": ""
            },
            "colorscale": [
             [
              0,
              "#0d0887"
             ],
             [
              0.1111111111111111,
              "#46039f"
             ],
             [
              0.2222222222222222,
              "#7201a8"
             ],
             [
              0.3333333333333333,
              "#9c179e"
             ],
             [
              0.4444444444444444,
              "#bd3786"
             ],
             [
              0.5555555555555556,
              "#d8576b"
             ],
             [
              0.6666666666666666,
              "#ed7953"
             ],
             [
              0.7777777777777778,
              "#fb9f3a"
             ],
             [
              0.8888888888888888,
              "#fdca26"
             ],
             [
              1,
              "#f0f921"
             ]
            ],
            "type": "histogram2d"
           }
          ],
          "histogram2dcontour": [
           {
            "colorbar": {
             "outlinewidth": 0,
             "ticks": ""
            },
            "colorscale": [
             [
              0,
              "#0d0887"
             ],
             [
              0.1111111111111111,
              "#46039f"
             ],
             [
              0.2222222222222222,
              "#7201a8"
             ],
             [
              0.3333333333333333,
              "#9c179e"
             ],
             [
              0.4444444444444444,
              "#bd3786"
             ],
             [
              0.5555555555555556,
              "#d8576b"
             ],
             [
              0.6666666666666666,
              "#ed7953"
             ],
             [
              0.7777777777777778,
              "#fb9f3a"
             ],
             [
              0.8888888888888888,
              "#fdca26"
             ],
             [
              1,
              "#f0f921"
             ]
            ],
            "type": "histogram2dcontour"
           }
          ],
          "mesh3d": [
           {
            "colorbar": {
             "outlinewidth": 0,
             "ticks": ""
            },
            "type": "mesh3d"
           }
          ],
          "parcoords": [
           {
            "line": {
             "colorbar": {
              "outlinewidth": 0,
              "ticks": ""
             }
            },
            "type": "parcoords"
           }
          ],
          "pie": [
           {
            "automargin": true,
            "type": "pie"
           }
          ],
          "scatter": [
           {
            "marker": {
             "colorbar": {
              "outlinewidth": 0,
              "ticks": ""
             }
            },
            "type": "scatter"
           }
          ],
          "scatter3d": [
           {
            "line": {
             "colorbar": {
              "outlinewidth": 0,
              "ticks": ""
             }
            },
            "marker": {
             "colorbar": {
              "outlinewidth": 0,
              "ticks": ""
             }
            },
            "type": "scatter3d"
           }
          ],
          "scattercarpet": [
           {
            "marker": {
             "colorbar": {
              "outlinewidth": 0,
              "ticks": ""
             }
            },
            "type": "scattercarpet"
           }
          ],
          "scattergeo": [
           {
            "marker": {
             "colorbar": {
              "outlinewidth": 0,
              "ticks": ""
             }
            },
            "type": "scattergeo"
           }
          ],
          "scattergl": [
           {
            "marker": {
             "colorbar": {
              "outlinewidth": 0,
              "ticks": ""
             }
            },
            "type": "scattergl"
           }
          ],
          "scattermapbox": [
           {
            "marker": {
             "colorbar": {
              "outlinewidth": 0,
              "ticks": ""
             }
            },
            "type": "scattermapbox"
           }
          ],
          "scatterpolar": [
           {
            "marker": {
             "colorbar": {
              "outlinewidth": 0,
              "ticks": ""
             }
            },
            "type": "scatterpolar"
           }
          ],
          "scatterpolargl": [
           {
            "marker": {
             "colorbar": {
              "outlinewidth": 0,
              "ticks": ""
             }
            },
            "type": "scatterpolargl"
           }
          ],
          "scatterternary": [
           {
            "marker": {
             "colorbar": {
              "outlinewidth": 0,
              "ticks": ""
             }
            },
            "type": "scatterternary"
           }
          ],
          "surface": [
           {
            "colorbar": {
             "outlinewidth": 0,
             "ticks": ""
            },
            "colorscale": [
             [
              0,
              "#0d0887"
             ],
             [
              0.1111111111111111,
              "#46039f"
             ],
             [
              0.2222222222222222,
              "#7201a8"
             ],
             [
              0.3333333333333333,
              "#9c179e"
             ],
             [
              0.4444444444444444,
              "#bd3786"
             ],
             [
              0.5555555555555556,
              "#d8576b"
             ],
             [
              0.6666666666666666,
              "#ed7953"
             ],
             [
              0.7777777777777778,
              "#fb9f3a"
             ],
             [
              0.8888888888888888,
              "#fdca26"
             ],
             [
              1,
              "#f0f921"
             ]
            ],
            "type": "surface"
           }
          ],
          "table": [
           {
            "cells": {
             "fill": {
              "color": "#EBF0F8"
             },
             "line": {
              "color": "white"
             }
            },
            "header": {
             "fill": {
              "color": "#C8D4E3"
             },
             "line": {
              "color": "white"
             }
            },
            "type": "table"
           }
          ]
         },
         "layout": {
          "annotationdefaults": {
           "arrowcolor": "#2a3f5f",
           "arrowhead": 0,
           "arrowwidth": 1
          },
          "autotypenumbers": "strict",
          "coloraxis": {
           "colorbar": {
            "outlinewidth": 0,
            "ticks": ""
           }
          },
          "colorscale": {
           "diverging": [
            [
             0,
             "#8e0152"
            ],
            [
             0.1,
             "#c51b7d"
            ],
            [
             0.2,
             "#de77ae"
            ],
            [
             0.3,
             "#f1b6da"
            ],
            [
             0.4,
             "#fde0ef"
            ],
            [
             0.5,
             "#f7f7f7"
            ],
            [
             0.6,
             "#e6f5d0"
            ],
            [
             0.7,
             "#b8e186"
            ],
            [
             0.8,
             "#7fbc41"
            ],
            [
             0.9,
             "#4d9221"
            ],
            [
             1,
             "#276419"
            ]
           ],
           "sequential": [
            [
             0,
             "#0d0887"
            ],
            [
             0.1111111111111111,
             "#46039f"
            ],
            [
             0.2222222222222222,
             "#7201a8"
            ],
            [
             0.3333333333333333,
             "#9c179e"
            ],
            [
             0.4444444444444444,
             "#bd3786"
            ],
            [
             0.5555555555555556,
             "#d8576b"
            ],
            [
             0.6666666666666666,
             "#ed7953"
            ],
            [
             0.7777777777777778,
             "#fb9f3a"
            ],
            [
             0.8888888888888888,
             "#fdca26"
            ],
            [
             1,
             "#f0f921"
            ]
           ],
           "sequentialminus": [
            [
             0,
             "#0d0887"
            ],
            [
             0.1111111111111111,
             "#46039f"
            ],
            [
             0.2222222222222222,
             "#7201a8"
            ],
            [
             0.3333333333333333,
             "#9c179e"
            ],
            [
             0.4444444444444444,
             "#bd3786"
            ],
            [
             0.5555555555555556,
             "#d8576b"
            ],
            [
             0.6666666666666666,
             "#ed7953"
            ],
            [
             0.7777777777777778,
             "#fb9f3a"
            ],
            [
             0.8888888888888888,
             "#fdca26"
            ],
            [
             1,
             "#f0f921"
            ]
           ]
          },
          "colorway": [
           "#636efa",
           "#EF553B",
           "#00cc96",
           "#ab63fa",
           "#FFA15A",
           "#19d3f3",
           "#FF6692",
           "#B6E880",
           "#FF97FF",
           "#FECB52"
          ],
          "font": {
           "color": "#2a3f5f"
          },
          "geo": {
           "bgcolor": "white",
           "lakecolor": "white",
           "landcolor": "#E5ECF6",
           "showlakes": true,
           "showland": true,
           "subunitcolor": "white"
          },
          "hoverlabel": {
           "align": "left"
          },
          "hovermode": "closest",
          "mapbox": {
           "style": "light"
          },
          "paper_bgcolor": "white",
          "plot_bgcolor": "#E5ECF6",
          "polar": {
           "angularaxis": {
            "gridcolor": "white",
            "linecolor": "white",
            "ticks": ""
           },
           "bgcolor": "#E5ECF6",
           "radialaxis": {
            "gridcolor": "white",
            "linecolor": "white",
            "ticks": ""
           }
          },
          "scene": {
           "xaxis": {
            "backgroundcolor": "#E5ECF6",
            "gridcolor": "white",
            "gridwidth": 2,
            "linecolor": "white",
            "showbackground": true,
            "ticks": "",
            "zerolinecolor": "white"
           },
           "yaxis": {
            "backgroundcolor": "#E5ECF6",
            "gridcolor": "white",
            "gridwidth": 2,
            "linecolor": "white",
            "showbackground": true,
            "ticks": "",
            "zerolinecolor": "white"
           },
           "zaxis": {
            "backgroundcolor": "#E5ECF6",
            "gridcolor": "white",
            "gridwidth": 2,
            "linecolor": "white",
            "showbackground": true,
            "ticks": "",
            "zerolinecolor": "white"
           }
          },
          "shapedefaults": {
           "line": {
            "color": "#2a3f5f"
           }
          },
          "ternary": {
           "aaxis": {
            "gridcolor": "white",
            "linecolor": "white",
            "ticks": ""
           },
           "baxis": {
            "gridcolor": "white",
            "linecolor": "white",
            "ticks": ""
           },
           "bgcolor": "#E5ECF6",
           "caxis": {
            "gridcolor": "white",
            "linecolor": "white",
            "ticks": ""
           }
          },
          "title": {
           "x": 0.05
          },
          "xaxis": {
           "automargin": true,
           "gridcolor": "white",
           "linecolor": "white",
           "ticks": "",
           "title": {
            "standoff": 15
           },
           "zerolinecolor": "white",
           "zerolinewidth": 2
          },
          "yaxis": {
           "automargin": true,
           "gridcolor": "white",
           "linecolor": "white",
           "ticks": "",
           "title": {
            "standoff": 15
           },
           "zerolinecolor": "white",
           "zerolinewidth": 2
          }
         }
        },
        "title": {
         "text": "PCA scatter plot"
        },
        "xaxis": {
         "anchor": "y",
         "domain": [
          0,
          1
         ],
         "gridcolor": "lightgrey",
         "gridwidth": 1,
         "linecolor": "black",
         "linewidth": 1,
         "showgrid": true,
         "showline": true,
         "title": {
          "text": "PC1"
         },
         "zeroline": true,
         "zerolinecolor": "lightgrey",
         "zerolinewidth": 1
        },
        "yaxis": {
         "anchor": "x",
         "domain": [
          0,
          1
         ],
         "gridcolor": "lightgrey",
         "gridwidth": 1,
         "linecolor": "black",
         "linewidth": 1,
         "showgrid": true,
         "showline": true,
         "title": {
          "text": "PC2"
         },
         "zeroline": true,
         "zerolinecolor": "lightgrey",
         "zerolinewidth": 1
        }
       }
      },
      "text/html": [
       "<div>                            <div id=\"3f681566-5313-4de9-b100-478010bc6595\" class=\"plotly-graph-div\" style=\"height:525px; width:100%;\"></div>            <script type=\"text/javascript\">                require([\"plotly\"], function(Plotly) {                    window.PLOTLYENV=window.PLOTLYENV || {};                                    if (document.getElementById(\"3f681566-5313-4de9-b100-478010bc6595\")) {                    Plotly.newPlot(                        \"3f681566-5313-4de9-b100-478010bc6595\",                        [{\"hovertemplate\":\"is_safe=0<br>PC1=%{x}<br>PC2=%{y}<extra></extra>\",\"legendgroup\":\"0\",\"marker\":{\"color\":\"#636efa\",\"opacity\":1,\"symbol\":\"circle\",\"size\":3},\"mode\":\"markers\",\"name\":\"0\",\"showlegend\":true,\"x\":[-1.2541641604708291,-1.497709182576137,1.1313417904744676,0.6042755724169262,1.63434733789999,-1.293175950159665,-1.4312153803229877,-0.7944212154881346,-1.437747668203235,-1.193380208817742,-1.258768104086689,-1.59542610586009,-1.2483352998762651,1.125035656010624,-1.4313396136056729,-1.1940697595948524,-1.52310529840334,-1.2663485946411726,-1.5604372103931534,-1.4976953060675668,-1.4645506386017992,-1.5036885169642835,-1.2918408478492003,-1.4489820639134905,1.7700697394418847,2.1703752515972092,1.3836247718934467,1.3941514814142801,-1.3503655563579153,-1.4411791758621717,0.515561554715994,-0.1576978047350111,-1.5805696116778545,-1.4177256236926488,2.7378183580845112,-1.173933818970579,-0.5852882025298142,0.9053947976161377,-1.3801066406242466,-0.7499954089055805,-1.2476056320796898,-1.421062677919366,-0.2667204236980392,-1.3037592281636687,-1.2794937473253158,-1.0389147635472789,1.3786464275835624,0.24333197716661023,0.755963014350115,-1.4787737738106446,-1.4697198997120817,-0.15940711939977772,-1.4305417328877732,2.5993016540519123,-1.2190545710607814,1.3863364008029968,0.9167352460591298,1.9138597947539002,-1.4696095429379668,-1.1810490116357535,-1.1270722263815358,3.079365409754035,-1.4166633730674827,-0.3969990476278312,0.7082562664121965,-1.2998064022540632,2.8165356659759424,-1.1186760963762912,-1.0418791179259403,-1.2195760607538102,-1.3182484172283868,0.9698252328611364,0.33272846696550895,-1.6067250037097387,-0.5962005240228366,1.8340579546483469,-1.101642791364295,0.3675770543655053,-1.3594194304564784,-0.17217180778728333,-1.3695758436420316,1.9659920373624997,-1.2334911696963533,-1.5478275953529688,-0.434234993679179,-1.2477577898218755,-1.5942956423136003,-1.5604494029531175,-1.2769982301755347,-1.1114000927485386,-1.3664767473693262,-1.4313396136056729,-1.1999370532602778,-1.3077420053661,-1.1402573246427845,0.2846570655628554,-1.3817567384728002,-1.6062840909403584,-0.9135831126382916,-1.2282047539825294,-1.601198946093297,-1.535343897544075,0.4105618920098635,-1.586632890886862,-0.28671774020397806,0.5891468502838282,1.2525794637727354,0.13536064792531305,-1.6379096916696845,-1.4141436422401328,-1.2552963079659283,-1.4909825931009142,-1.0684755941695645,0.04035702392189055,-1.3366535736731,3.099776743224012,-1.6662420659736887,-1.2318409004054398,-1.2976153720310128,1.6471355846706166,-1.0934604056354937,2.289127899459689,-1.1987541086919986,-1.1733703568671197,1.1605969476511302,2.4397525764406334,1.239525225181239,-1.274655213652659,-1.4438549466559982,-1.5610285969561128,-1.446360629532418,0.8857936299340173,-0.6181873190353464,-1.1761246777512695,-1.4296196188871884,-0.8620735771896348,-1.3175815676225984,-1.1839939233329475,1.0387037905702308,2.008653678540454,0.7048781928165796,0.5993508020527095,0.9820566123553585,0.46179982324209523,-1.6058291302200483,2.282341379158543,-0.39197672097155606,-1.287968255978524,0.9547394023852694,-1.5249513817954754,-1.0252726777323946,0.41578310515220956,-1.5179658171435237,-1.3030855807284543,-1.2969119447453323,-1.5223737752157993,-1.5293889482758571,-1.5494111642288035,-1.4177256236926488,-0.11291300337061196,-0.1991118277629336,-1.3806194770968832,-1.4993768677151929,1.2243457544323355,-1.0388903784273504,-1.2519854942501054,0.35757701045352275,-1.632122803485548,-1.2814219201473465,1.1293190548128604,-1.3750599288480434,-0.7104933124730733,-1.133546638509457,0.5879639057155494,-1.1016200901929725,3.0398454136212965,-1.6202166157310436,0.6816264089435322,-1.4830732304997716,1.9800182395406918,0.8603875705146311,-1.384376317462907,-1.3393291730245669,-1.4993768677151929,0.9456766731489634,-1.5918422690166087,-1.2456072195030092,-1.1398724322347644,0.7601451280959751,-1.4288461232892171,-1.2411275091698373,-1.3479962993241448,2.473737501954452,-0.17987855845777698,-1.152370006552228,-0.5133226790729768,0.2846601526103502,-1.1279364646297942,0.3269171936614442,0.8072429946904246,-1.366217943634958,-1.425071524190332,-1.5291965020718477,-1.586632890886862,-1.2604217412748147,-1.2914437628812163,1.5315566051171414,0.1745422446818355,1.1501059248036607,-0.7830071898682706,0.6042755724169262,0.3029969246913791,0.3363646133884195,-1.2916240165252622,-1.4328586803421146,-1.4912293757176782,-1.6147866954954269,-1.17250240783693,-1.5675749327872908,0.3351409280662388,0.5735969231001906,-1.4191080931440816,0.8996829506577433,0.7432207767592052,0.3264450843650835,1.3799653761774044,1.4279496058293542,-1.473690312912189,1.4740966072269104,-1.0271047131736,-1.2707565527134481,-0.06050388365033331,-1.1683290398214543,-1.2782547823956765,-1.582333434197735,-1.248349347827195,-1.270369804914462,1.5256498779669712,0.6089178419310032,-0.2586889640548947,0.28721413877190394,0.4372199096501091,0.5325674495955687,-1.4344403938269843,-0.13221774408694748,-1.5551875438015816,3.0207466527328224,-1.5951216189333597,-0.11940094912238418,-1.1801792072145978,-0.3299910058031565,1.1106899714676994,-1.3476934963460199,0.19913845295781343,2.4538798077460156,0.3576667380272775,-1.455787203479037,2.7641247833746907,1.2734783913836223,-1.184037751134344,1.6105176875102087,-0.16074446512356416,-1.6207538373236088,-1.4232115642896261,-1.2993775106022876,0.3439501557887212,-1.2646949574530468,-1.3838653363812363,-1.4821211652063608,1.6656425856364212,-1.522980893678295,-1.3206823478439096,-1.4232115642896261,-1.265067828743462,-1.40722443511854,-1.4771621090329499,-0.25603723549627705,-1.5224016996752996,1.7763433950301235,-1.137760123544397,0.14623768542997365,-1.1069347732510162,1.1537680500198324,0.8328181325051441,-0.04645049347417521,-0.9461749980543174,-1.6206575285004237,0.95069486720622,-1.3830674556633367,-1.4519288310016503,1.5818218903129786,0.39350682197071046,-1.0580585218586769,-1.4551817689651472,-1.643325563954371,-1.2062785788851214,0.3270091679682604,-1.4404776039674565,0.905050660624665,-1.5874605514552278,-1.4693873168834908,-1.5564806737016164,-1.4440734619285427,-1.4584611188818979,-1.3364330315672301,-1.53716205647671,2.686212216065587,-1.4666751398521307,-1.4670040118987904,-1.4266691410170969,0.6494366129689524,-1.259483723932334,0.03606887102091871,1.1762058108012634,1.9210533943073087,-1.2995980527081572,-1.0899222519843743,-1.2699568166045827,1.0556166351164753,-1.4720507236749936,-1.2123139336346282,0.02232182316245758,-1.461862846690368,-1.2445029964674132,2.3467771753393487,-1.5832836441001803,-1.3259355537750528,-1.3847771132128226,1.3114200588260683,0.5381569491372349,-1.515662917640112,-1.3933059582787852,-0.00878274016591636,-1.3658433883959364,-1.0243224678299494,-1.146777591405427,-1.1535827309709734,0.14431782294361578,-1.5159254321564126,-1.4223680003793646,0.52059304891974,2.157206661280209,-1.2204878375853967,-1.454370011738677,-1.1207340686539042,-1.3932377453574605,-1.694273321248175,-1.3665066986621526,-0.04154931305309062,-1.3189203807149947,-1.338956301734152,-0.32845789111578444,-1.6256727764775551,-1.2525646882531012,-1.3147189167976594,0.9335082212528854,-1.3664750634207206,-1.5772762138101737,0.15950672851208297,1.5393228343214815,-1.3009488869181585,2.45033652663645,0.3926385605307916,-1.3223779574424657,-1.2122159408628375,-1.0579745770378157,-1.0766317393874718,1.6574241196574415,-0.4458138218932703,-1.4133439061312671,0.6196694596340864,-1.4631034955686137,-0.9965956994821944,-0.9208256256336458,-1.3368477038257158,-0.3408891079028893,0.4686865999454593,-1.2576796129506291,-1.19958379609369,-0.9592059117400547,-1.3704194075522935,-1.2378080422336222,0.41322175946179457,-1.5309743725426581,-1.6211265371716643,2.4752580980945056,-1.543746825378746,0.31214896300409295,0.18271755173149276,-1.4009406138036629,1.1383608908964535,0.9205778866369806,-1.6018463530176172,2.1700848126214085,1.188778258221849,-0.06812470780427735,-1.1628150033226163,-1.5530491660426804,1.701116485626487,-1.3321511621686053,-0.2365327984544281,-1.1686579118681135,-1.1722801817824533,2.0848017375602375,2.255493754221775,0.570382075322833,-1.2220031935399074,-1.3621073938102692,0.2913081919952504,-1.6441112521123071,-1.4755066164538584,-0.9625202647954498,-1.5965547140156153,-1.4412912165848926,-1.4419667194110728,-1.4357231865580196,-1.5503210856694238,-0.8567558691190983,-1.352201302581052,1.6869438666411063,0.6675013285414794,-1.1323479620416417,-1.2774393143872749,-0.5857990742041274,0.37139283069802453,1.0679628615311956,-1.4759512400051702,-1.079098989193033,-0.9910975663252528,0.701835395520233,0.6030812304654792,-1.634824643347909,-0.4699748076427686,-1.0318593020253963,-1.2016521055403016,-1.1451342913862999,-1.490692154125113,-1.2535027055955816,-1.4349776154195493,-1.4811728106948816,-1.3346551610964192,2.2200356786412376,2.0241795668086215,-1.2541817477613337,-1.418936492720428,-1.4603351267335336,-1.6364363081256041,-1.3271762026532985,-1.4811027423825909,-1.1159217754921413,-1.636711015201869,-1.6194712160349325,0.34407781900362044,-1.2711273971705377,-1.098710072227065,-1.3085136455731055,0.2913081919952504,-1.3783829351238306,0.5867270770265931,1.866057643661971,-0.6589856324153825,0.17745675279412626,0.4308350536535829,-1.295646910747158,2.1211793408433186,1.4740791293437665,1.3323021469508933,1.3650874124803751,-1.4017684458143884,0.3110567610861012,1.07537576019104,-1.4418406307374216,0.20385972261957158,0.555084389756219,2.247905060504257,-1.306777747512725,-1.4000885681153687,-1.5422174214733058,-1.2052444241618157,0.5867075249377672,-1.6552457996598051,2.040272731815079,-1.1051303193845916,-1.0341359610179135,-1.6018463530176172,1.3737613839817358,-1.3573424677894748,-1.4440734619285427,-1.5036605925047826,-0.020499287914187942,-1.2224562988692516,-1.1016200901929725,-1.1907765331695315,0.5942545248598528,-1.5193428918644187,-1.5240309517434967,0.3859562827090532,-0.2868296094843393,-1.33816892962761,-1.3650839407488953,-1.449354763761546,0.5381569491372349,1.8498344401681104,-1.5196194543316492,-1.1067175990423583,2.3298689946165663,-1.2407967817322123,3.239616168667385,-1.1850212802268267,-1.3783829351238306,-1.2813257827665212,1.0005389157915063,0.4621427432396845,1.579568710771215,0.4507878250286758,-1.3120834344656567,1.3833147944064454,-1.501399665411802,-1.2062785788851214,0.3181079039039599,-1.5585070107377976,1.1094631990980244,-1.1810490116357535,-1.5527184386050545,-1.3221855112384557,-1.4370582888684846,-1.2109087630118731,-1.5604091144912933,-1.3573108325480425,-1.3855890418816523,2.081688764778963,-1.413826791311078,-1.422068908183171,-1.123955542818329,1.9307974124424288,1.2196497722399402,-0.649429882747618,-1.2782547823956765,-1.2390871241827264,-1.3216641929877868,1.6286884840557438,1.0067838517434475,-1.5604372103931534,-1.4045926635684696,-1.29135779122703,-1.6306897084032923,-0.9588927715929318,2.4390368020499937,1.8744051274973619,-1.6208360981958632,-1.5399583497712905,-1.2184875696177502,0.4507878250286758,-1.2711273971705377,0.07085498311484763,-1.547234353399043,-0.9625202647954498,2.0245231105406485,-1.2666654455702269,0.791077467266259,0.2075977440385641,-1.258768104086689,-1.4356409256857654,-1.3790024175886504,-1.393291910327855,-1.3099607886062912,-1.5697378671084805,-0.45568508142620273,1.8169424643767231,-1.2683451518268873,-1.2685394534218633,2.3981867080802535,1.0341744979230398,1.1438931079452395,-0.999091045189616,0.5668516861202963,0.9217953820518265,-1.2345969052381958,-1.6319706457433618,-1.6498578518346185,-1.4935041793192294,-1.2915820441148316,1.9148605039824438,-1.0585975988422074,1.5826966371725946,-1.323562585959351,-0.10223307365870422,-1.3317205865682236,0.9934954753872285,-1.3375513025537564,-1.0990005112028662,2.209269293423055,1.4048589927009694,-1.265067828743462,-0.22210245176119256,0.08507570346801185,0.45532753154251215,1.5711886533155062,-1.6130088250246162,-0.5689266895620666,0.9910414332181637,0.8710704745469359,-1.1045930977920266,-1.0476136965306482,0.3010485298234291,-1.6278653192068517,1.6075591327818064,-1.426254468758611,0.13536064792531305,1.3775467251693405,1.5219925259816192,-1.0360502573313737,2.1901363866077346,0.600207247612114,0.16554870964865614,-1.278252927004711,-1.1595761133100497,0.8477372734358073,-1.4167334413797732,1.3961327589925367,-1.5275709607855814,0.15874461563463363,0.6943196879548603,-0.5784964871807611,-1.5256426165211914,-0.8850126089379149,0.37139283069802453,-1.1592191453615306,-1.393704898637735,-0.9461186348082375,1.356956807341278,-0.0380420615016085,-0.36274998568410755,-1.4509523805883113,-1.252941098883088,1.239388895168322,0.32706810393475605,0.45532753154251215,0.9456766731489634,1.5850923512972557,-1.1864192007280787,-1.3790024175886504,2.34128864844433,2.65015563010531,-1.283009199805113,0.9567019884062374,-0.8410556395842412,1.579568710771215,0.2590856385300679,-1.4347851692155391,0.3938489772664938,-1.4422955914577322,-1.5737764932299128,-1.3355687933189715,-1.2342802257515009,-1.2700444722073752,-1.471413653919672,-1.4624560886442934,-1.3249398321226056,-1.5422174214733058,-1.3339430805903465,0.7589762314786264,-1.0211255502278132,-1.4257732675274066,-1.515538684357427,-1.1106319918811052,-1.1498467363853062,-1.5774285429947192,0.13536064792531305,-1.4730672911077973,-1.5161617061618187,0.5894856545797648,-1.6024815673819726,0.44732017616957875,-0.3231749053341748,2.3620759233548516,0.5149098911226517,-1.3140537511404775,-1.6685991304474952,-1.434594578402495,-1.3460660996687883,-1.3933059582787852,-1.2954228293017158,0.8511258442998763],\"xaxis\":\"x\",\"y\":[-0.25175967527457505,-0.10847654977684013,0.4667496369201812,2.503250763920135,-1.720924052582808,-0.3633219334698398,-0.34826466330913725,-0.10104294414246426,-0.33923541279842345,-0.16044074176835715,-0.15779869194924004,-0.13478831962210297,-0.23385358297029737,1.5067402073661162,-0.3391238948914293,-0.053213285655656715,-0.14769050240183068,-0.06822037056719478,-0.15603949094707784,-0.028184436479121413,-0.3245786797934509,-0.21802033112271663,-0.2064949357634622,0.008066850706850677,2.0087301722675406,-0.4873422591150701,-0.07551093792393948,1.9384598232348187,-0.34678797780912785,-0.3349642687621381,2.339195065704493,0.8198606388733042,-0.21365346736501933,-0.19218855466505533,-0.8702615547318897,-0.2791661823421063,1.3170627752433066,0.7137353329928745,-0.0808563013343103,0.21814978309367877,-0.16001046832596247,-0.014269763401402884,0.0025964063621624896,-0.378904731490391,-0.14351740347541553,-0.06171700830652187,0.8770591820985068,-0.8659633760024879,0.8746025332795876,-0.13653822618526554,-0.1325310087731335,0.6306501772839287,-0.19241159047904408,0.20269237817901564,0.0014152580871429534,2.126611794749999,0.9089640747024577,-1.1529083810501517,-0.22196389048856008,0.16561731946248295,0.3178613866477154,0.4048969947725178,-0.3268383160308794,0.7826986266682135,0.32775163398617513,-0.10998065328989058,0.45043821732665335,-0.09706499771303889,0.08877947770400678,-0.1373871603574318,0.16508482255209372,1.383249678169058,-0.24200138769076462,-0.2783149227814814,1.2264059801285239,0.9253994664246492,-0.10927994947675944,0.14336154213697308,-0.3507951952212599,-0.5767741222550424,-0.2668304182323919,1.4519518134368237,-0.3332050748748108,-0.16544418598893934,1.0078030544864545,-0.17706112271148117,-0.1965688912198766,-0.3109186389008866,-0.3656521968040976,-0.08635182407391008,-0.19700149005072998,-0.3391238948914293,-0.32677698337304945,-0.3306475902536052,-0.07289902080975155,0.4037614558389431,-0.3668579866294126,-0.23286803826655472,0.17694244624387237,0.0327402318959451,-0.23470437011212922,-0.09112107795700329,2.6005182608444604,-0.2673787133283638,-0.10347776344801098,0.8072939392911446,1.0023219269057289,-0.698391142981858,-0.2887572007459159,-0.10482200965973264,-0.11539206902070186,-0.26275721738551266,0.11306394156482943,1.9155739916688435,-0.30977186345977803,-0.27613019645887665,-0.2856760483493624,-0.18159619337192032,-0.2318239515973985,-0.8011184414411864,0.16769248530762898,1.256430803596966,-0.1870006400521907,-0.16827303158879756,0.8202686021373674,0.16561074569887702,1.3842394143292658,-0.3360520369338754,-0.021678748829989762,-0.2931240645036132,-0.297795745695629,1.3727869714552992,0.3953971415269065,-0.29171568782680957,-0.05484005448436658,0.30872712197659075,-0.3264879641243136,-0.23053359657417255,0.3337712624770691,1.9925354139898934,-0.7058099214649185,0.06848037926610737,0.7588658004592004,-0.5258642490944323,-0.24152184424612025,-0.41389968162646523,0.21544639350189665,-0.29971199907703244,-0.06680643498139456,-0.21385373594288443,-0.02298304906913284,0.041491117934619,-0.1569497577770738,-0.22305165866029766,-0.25875929441238,-0.2828272262057971,-0.2913355925187444,-0.30398964685990115,-0.19218855466505533,0.8969461437663936,0.7754894445135341,0.21878730127931467,-0.05681067147305908,0.8706538447345282,0.24804128760109548,-0.3940893177436706,-0.06401990828376075,-0.24294184075038217,-0.36284194008223847,1.1539442550090624,-0.33835023859300983,-0.4886696956805903,0.03590084052436978,0.6675175959702857,0.2750653810869477,0.4488286414640696,-0.22541119297726195,-0.12738261153439634,-0.14286873788111437,-1.2490337592937921,-1.5688709655199466,-0.2699752286752337,-0.1308791473198413,-0.05681067147305908,0.8944741336065082,-0.2564016130650814,-0.21118938419160152,0.05455782189093353,1.2139326677644813,-0.21788604597959874,-0.29600959909921887,-0.2164093604795894,0.6650079296521035,-0.1346823902147771,-0.10005739943872169,1.1283081379100306,1.469146992242046,-0.11069994598102119,-0.5975750435939161,1.6377995519650794,0.14857595951596417,-0.20118388341614465,-0.22760717116840185,-0.2673787133283638,-0.1602335041399511,0.07584105489103159,-0.9185563236676313,0.03832820413091157,1.4560988973769065,0.9438492790485001,2.503250763920135,2.0055272922780785,-0.02766496242289925,0.16699178149449767,0.013159510902261518,-0.3190627152061868,-0.28086125287918684,-0.15767137585666308,-0.22999412349840714,1.1348333367989116,1.5457390238355748,0.17144042687252498,0.11887401900586878,-0.0032578332464169853,-1.0874648770448452,1.242185311196937,1.9363632718357522,-0.06378752337475023,1.5990902129334792,-0.14324697310467882,-0.19409783899591806,0.6475642211378706,0.06677974270519486,-0.08575101834031476,-0.2610482016325151,-0.17975289247580506,-0.27562083474353416,1.8175527876617943,0.016799592958307408,1.536883561612436,0.7420181922456228,0.1649105285342093,1.8976102797609122,-0.33436578841700143,0.8032560561157629,-0.12033882424553653,0.7679446960459226,-0.23507981464327724,0.26590787676090627,-0.03276086325368346,1.3832394815814841,1.62933439473592,-0.24211382084467375,0.2742024945840291,0.6898908738580625,0.8212030321153603,-0.2743806578546373,0.5852329732683141,0.38385685611414877,0.006355509565394328,-0.4177623888485645,-0.7507851693084928,-0.2355258862712545,-0.05472853657737234,-0.3538057205209841,-0.3410043877732137,-0.0657855583764837,-0.3606389928405577,-0.32247842132372284,0.2808075412708711,-0.29122407461175,-0.3217298576498858,-0.05472853657737234,0.09602955066885113,-0.32976705971027365,-0.10619414630328845,0.6450541381882483,-0.3090186490090237,1.5197306683979215,-0.36962084879452356,1.1477675812537624,0.15171425909738762,-1.4991410059412351,0.31149740313519947,0.7801406767430497,0.48915646149382347,-0.27085807749218876,0.824792983578264,-0.2139266884281726,-0.17910422688150393,-1.4321581234403928,1.74559806442637,0.16569677569435423,-0.1913967747925946,-0.2874078313384837,-0.1794322768559038,1.2683976553814567,-0.15291977312881827,2.2557186459343104,-0.23130260209567452,-0.34102388478329243,-0.30507508964318003,-0.32057843143185993,-0.1700749763707903,-0.3542448230984204,-0.1310928886948303,1.0044453632595158,-0.055279157061803176,-0.26474595794824657,-0.2856286537926143,2.2693470904557094,-0.28574249708806726,0.5209716454909767,1.199591899602493,1.432402688814305,-0.30933276088234163,0.4919481364525187,-0.2563653730318337,0.8585114003653139,-0.007252020689546838,-0.20696610001602167,0.07912385641632264,-0.3485922479795794,-0.3737484132486915,1.2762675455728412,-0.29041835663820764,-0.07386365124703646,-0.13435154243312522,-0.9133739559967529,1.0232915204513018,-0.3084201686638872,-0.2831232145050737,1.5109895218890295,-0.08782618418546066,0.006387105936559703,0.22540218144698182,-0.05704532711450606,1.635674673289561,-0.2360379413339791,-0.3538851767528553,1.807210442219742,1.8603859829455702,0.08890029005000068,0.03560764291750945,0.3196907494427492,-0.21025402473702332,-0.2337123216618033,0.1201797293865559,1.2874147483975438,-0.06535528493408914,-0.2926942563651762,0.9768553852933013,-0.27073959053465346,-0.37629474334639695,0.050894452638783956,1.0041071107140367,-0.27158852470681966,-0.289075956281316,1.4827094533286977,1.8129155066317002,-0.3374720334381371,0.15636353502869849,0.7344410130126344,-0.29625540214933105,-0.31688532589304597,0.10987824031182239,-0.0631300357602426,-0.10738095196366962,1.1399334384636568,-0.16708954369564843,2.3001075056789997,-0.3317715984585901,0.05471487427017489,-0.43451881993693336,-0.2989132501540309,1.1040891921799973,1.2586969720403187,-0.19166999585574773,0.19244811342101098,-0.22792593381863743,0.032326221943091045,-0.13626082676398796,2.5503132698551063,-0.2209012149414052,-0.20810358101813073,-0.38406950379337323,-0.32362055310274956,1.7652224800209753,0.8824343851240819,-0.3205147733855714,1.6252793174630824,1.132928230826173,-0.28977898548290604,-0.44115145458838856,0.6956953804230949,-1.0119090193636753,-0.17888165637147307,-0.3093462336794657,-0.3898456606061187,-0.01024674780368819,0.10094609718822835,-0.14268705818124847,-0.27673137015139515,2.063499504900041,-0.7597308267868925,2.0578896889220313,0.023224018947089402,-0.19238882324292042,0.8781381484632137,-0.27924098779706014,-0.3127391725608784,0.33433818800872206,-0.2819875864726304,-0.1709443523906212,-0.11781758677241327,-0.15524306741253496,-0.28668203490076993,0.5516897822383938,-0.04909222494807166,1.2888983482920708,0.8965126143276244,0.04698945869464663,-0.27670627752681287,0.32755973748555955,1.749892454101077,2.350052748402325,0.059773619820796986,-0.08358942721275682,0.07213400413630056,1.656106181425077,0.590857255553551,-0.16482758206976147,-0.31510244839135054,-0.006530875028750756,0.24534487417468942,-0.1360219927644166,-0.3089480219121943,-0.25078575039828094,-0.3444804817109938,-0.08412842786972922,-0.36095077932541725,-0.541332355195648,0.43168783564363156,0.08590788832431809,-0.35815632078914084,-0.2624296327150706,-0.19517166195173855,-0.057043001726047295,-0.22023907654997996,0.026377658524973126,-0.277668582575639,-0.2802558034835093,0.4464547726277586,-0.37565537219109546,0.13199181860608752,-0.37658143720667414,0.8781381484632137,-0.21453213782384992,-0.8137882333283983,-0.877875903474711,-0.14790518149957071,2.1006127491123467,0.9025657266021959,0.034178351974248226,1.026849828001853,0.8565909746092911,-0.7859686802274353,2.21107050322755,-0.1500458583606707,2.217053460824085,0.4009520952821532,-0.33593819363842226,0.6038416852575664,-0.4224470371073949,1.2707636590021576,-0.35537812574240485,-0.046832588710643386,-0.31204497249433044,-0.20588065723274285,0.813025970641857,-0.2508377886171111,1.455780114513495,-0.02299884725471554,0.24571799331737873,-0.28977898548290604,0.9180857758398681,0.03475406508326125,-0.32057843143185993,-0.1918289083194901,-0.7227578466521328,-0.17710201352164606,0.2750653810869477,0.005757029220257836,1.3241957418014878,-0.28586748779218557,-0.0016951652921172726,1.5179951663711289,-0.07385065086870565,-0.37544813456268955,-0.1967714851862004,0.035489155959974344,1.0232915204513018,1.8949040923618783,-0.1593845699677849,0.25641536877092486,-0.9058218836180176,-0.29552263666107675,-0.4561436790370949,0.4433406433091674,-0.21453213782384992,-0.2637813275109614,0.5304780915820398,-0.37049813870248127,-1.6567021448345645,-0.4320147836761014,-0.3090688342581882,1.084752864094882,-0.31539005151503735,-0.1794322768559038,-0.0675113171526504,-0.2800875965807674,1.7264471575546276,0.16561731946248295,-0.30885927124132356,-0.23252698079898848,-0.31207006511891283,-0.1862497509898948,-0.2642408719360627,-0.3570141890101146,-0.2269631563510181,1.91337846342066,-0.1846271605193093,0.038370039778662705,0.05002275123049418,1.1151782400800554,1.8811827259263192,0.6759446601965315,-0.08575101834031476,-0.3750977826561239,0.04066824143779727,1.2109077319448829,1.6330251820011104,-0.15603949094707784,-0.2717706697106434,-0.3233501227320128,-0.19603406892102848,0.11022859221838797,-0.5845400524356468,-0.02077088338898078,-0.25429438554481254,-0.22662627724157644,-0.1712584642639394,-0.4320147836761014,-0.37565537219109546,0.07213306641354966,-0.2373394508807054,0.33433818800872206,-0.8962912672641223,0.011584780292381752,1.7950089632531452,0.1559064039595942,-0.15779869194924004,-0.13647456813897701,-0.24341533039140018,-0.3372239049995662,-0.36938851854153515,-0.2163522061798839,0.5900873205554635,1.3518787105675563,-0.2260212931498569,-0.08076987605189817,1.1047442926351883,2.173412699449275,0.8279461447538493,0.1424568638066455,0.6289290763995149,2.0807146602489706,-0.23045181495384265,-0.22589118636486338,-0.27837858082776984,-0.27579368530835835,0.1390825138032317,1.123765126033453,0.3645619208486629,-0.7741306082017575,-0.3614447108141003,0.6084111429815875,-0.32865884969087145,0.7645639100502886,-0.13758510354683806,0.17818262313276914,-0.7197687686771876,1.9449018528376623,0.09602955066885113,1.6000771606639306,-1.2061229322884686,2.0096915620694524,2.089065501763884,-0.2875672091061834,0.9400149122011919,0.6053680502764307,0.5320049623312137,-0.012884153960723198,0.3789138364193169,-0.2904676266404573,-0.20870206136326722,-0.08282422384429079,-0.3409602267370037,-0.698391142981858,1.9756353153518689,2.03527659775425,0.10668557000827468,-0.5316744096508355,-0.8572269184342038,2.2920619397875277,-0.29473085678861605,-0.11248841796589003,0.9324409605052367,-0.19072766735062868,0.8759960614605693,-0.11697097798870588,0.44665781168486424,1.0219537637564924,0.17026576099958216,-0.03203924517409427,-0.20827922939020663,1.749892454101077,-0.01122299806843138,-0.3564793667112664,0.13836089572364252,-0.29848859965415114,-0.5600733615869669,0.1893525505045827,-0.04895561441649504,0.06908723880332891,0.6710754393482096,2.3861660373910127,2.0096915620694524,0.8944741336065082,1.0250074577136532,-0.2789022557179527,-0.24341533039140018,0.45790482235890323,-0.049480787415760806,-0.08342772405659803,-0.41827860205623724,0.039275190527783534,-1.6567021448345645,1.3121039277722208,-0.2807520603606512,2.2493611886442135,-0.32728438765885665,-0.22047791054955118,0.07431650953031638,-0.17586416202120808,0.2174128392473,-0.3160363917208798,-0.27669698308781326,-0.3559696370370008,-0.31204497249433044,0.05055989891780091,1.020055633949131,0.10068961203340868,-0.2488355752572532,-0.3175609370815949,0.24314889598354972,-0.1616079661719658,-0.1717338068746233,-0.698391142981858,-0.3184712039115909,-0.06287725654475443,0.7036313360332606,-0.18997445289987414,1.9997223084420777,0.5462007632453771,1.4370478552731851,0.8901435372100694,-0.36609129938153384,-0.2611755177250919,-0.008043800562007533,-0.3404574661132791,-0.2831232145050737,-0.29386148076878493,-1.0201046899283535],\"yaxis\":\"y\",\"type\":\"scattergl\"},{\"hovertemplate\":\"is_safe=1<br>PC1=%{x}<br>PC2=%{y}<extra></extra>\",\"legendgroup\":\"1\",\"marker\":{\"color\":\"#EF553B\",\"opacity\":1,\"symbol\":\"circle\",\"size\":3},\"mode\":\"markers\",\"name\":\"1\",\"showlegend\":true,\"x\":[0.6150678405986375,0.21174053702677692,1.738072923130479,1.4185938671315506,-1.255761777297597,1.5100446804611327,-0.17796574085583308,1.0239866683107701,-1.55503353066843,0.12269456023169062,1.2949477672671192,3.3395527019283384,0.8411659309849839,-1.2585634653227151,-1.5908081142933028,-1.4901024515107595,-0.5668445036068847,1.943778186584151,1.2907332704753864,-1.0618172176156662,2.2759740653148817,1.1555175742140562,1.5105728721538563,0.9699541299672837,-1.5289339875555472,-1.3958976128093912,0.30801398292183924,1.5104736341479104,1.305666706411966,-0.012270889685930736,2.671646568013593,0.4422132831927257,2.1646394864736087,0.0796759511052169,-0.5451509537679529,-0.13325712209843132,-0.7269340613005829,0.8596767183453475,0.46753477629153306,-1.587003906786311,-0.007776057610033656,-1.3958399084994246,-0.9299261021713716,-0.8654229954186762,0.5955590712751392,0.036504810876847815,1.7959967651190336,1.6910596871263293,-0.2598788778949599,1.2378456452293018,1.574328695579203,1.2226778358159187,1.2707198171501897,-0.5638545471144114,0.8151909471421399,1.2258059303399182,0.8595505202643389,1.7814917516447875,-0.17877508322662136,0.4901234044433587,0.5689753775311854,-0.5225587693791901,0.6865790891046032,-1.3326707964706683,2.3986684405359022,1.6855866868937568,1.4068098384540506,0.5163481812528142,1.1730296318068454,-1.432568069923954,1.3467987722421209,-0.020549305622918505,1.3211935139269344,-0.5376318162703662,0.2523872712614275,1.1000834497250236,0.41785433020395624,2.703698330894565,1.0754099703876074,-0.4375700210725708,-1.1679407795162222,1.1163345100889241,1.5852091934910688,-0.43525723445751874,-0.2534185757529707,0.5316695492725525,0.8146176148244051,0.2337316834530202,0.9665934553224439,1.5241028100733809,0.33916829777187235,-1.4006940026292583,1.8210848546799339,0.3348344785759037,-1.497513197032555,-1.4315496471001847,0.7879915301726743,1.858189396259461,-1.5540833207659854,0.0204961975283226,0.760194663037638,-0.8933783658332474,-0.7646041843268866,2.1861897201304723,0.9112740052265289,0.8013003811842595,0.9198507012855478,0.6312920705119373,1.1781366510884217,-1.3652203665915446,0.6053613667625667,1.3598963716802905,-0.4885684660321987,0.5178603069577412,1.4409973612358717,-0.14323013032272308,1.5621987861613418,2.136162159411287,1.7204627317985302,1.517445339188657,0.4717447219869012,0.23006993491629832,1.7527779284426028,0.729977150770922,2.7091244783132487,1.4493510045036075,1.9506492313879786,-0.19628283901275187,1.2432748965928455,-1.2138433375400686,0.41964571740125256,0.3386728940447432,2.8031873870340713,2.1729169662664316,-0.28396391674954186,-0.024689975948073366,0.4643116655508583,-0.39677530906710856,-1.3717142214009337,-0.0456796631066122,0.8680673159724254,0.3144392367875478,-1.4873273468812551,0.3673336734406839,-1.7060552757199938,-0.1717931052865978,0.5500464237104004,1.0517558929210438,-0.2945333351423404,-1.3048128255684424,-1.4635725042398535,2.155766397243536,-0.14627060303866118,2.006068776701637,0.9727906327913213,1.3008716125183493,2.4365397723939664,0.9905015632925561,0.9168864563142439,0.1965174708688176,-0.850017087083911,1.9591464547901345,-0.2729694606889879,-1.3531916295029618,1.6557195759887755,-1.5069397709791739,1.0137160950591777,0.8927063233956407,1.110854122087218,1.790868042845303,-1.5127686315737405,1.4815229154406022,0.45739758920745127,1.1130515452199738,-1.5328905242470838,0.22243585575350103,-0.17097211624293523,1.6683286935992467,-1.111125385672274,1.667866622639781,0.8209356778958603,-0.024392989517572822,0.31343560971914874,-1.0405719400749764,0.22938467128320078,1.0437669369127742,0.7875109559956462,-1.43613600342554,-0.2754310349142938,-0.30825408045490554,0.3006272627378873,1.3491103723382807,1.0036298426959074,0.9521669434811438,2.2459695303880847,-0.16815892142729183,1.8222859629007964,3.164808778130965,0.6280202967040442,0.43434131034563733,0.16810636145450505,-0.37134227267529374,1.1014665711511644,2.509834348136282,0.36947042928598184,0.5143795767668711,1.5738773362334664,2.0900775543874306,1.6294777904856186,-1.5772762138101737,0.16573086605602397,1.6728080746253253,0.7531314675421639,0.363102224435792,1.195809739543524,1.9201734579542447,0.4931258343455138,0.17304026780618187,-1.5586593399223425,0.9984351531488928,1.342741748990744,-1.2434867719193288,-1.2420812584118543,-0.32945378421059124,-0.9688010610978343,-1.5219467389549892,-1.5863984722724218,1.4103009531862751,-0.10815967665033528,1.3698770687405377,3.142049952654374,-1.636049560326619,-1.0823110454352591,-1.3286816263585322,-1.5755946521625481,1.751614145706074,-1.4823836797226606,-1.5052879891820143,1.8048805513001902,0.9767244683115364,0.9136834717897568,0.39666558735170576,-0.06515784274020175,-0.16933973198960675,0.8503808664208516,1.7833897532742562,0.672400156141884,0.5428333476807925,-0.06691767586315266,0.03517267154387418,2.48063722125694,-0.7523642441222644,0.017677031620060214,2.0162109253562646,-0.06662167071445449,2.1890653113198173,-0.04376790795355664,1.987259863764237,-1.0159757317989988,-1.357659318718529,2.995332311218034,1.260514912339778,0.17571224888571,0.36057120671765264,0.8695060844002168,0.7455752549349702,-0.7061216196709618,-1.587458867506622,-1.1367576040625234,0.7513053749533053,-1.0859919558037314,0.6317769656277084,-0.7229881426277617,-1.6307579213246168,0.2847932274531525,0.844186961019454,2.0893378618315857,0.024429175836738846,0.9592141567023553,1.2369260588114968,0.8449549829545203,0.59015459305388,1.232086931879393,2.3545823574960854,-0.860784158071532,0.7117212816008959,0.10588309325181433,0.9553613650605123,1.9514846564049275,0.6076280968255465,0.1806005058397549,0.23368756013926062,-0.047217362685079714,1.1498191683695203,-0.6064927393166026,0.8890527442272231,0.4993580803077772,1.8507951304416408,-1.0469258297021438,0.750729531950157,-1.5153462381534173,-1.460597641249834,0.8922364710902275,-1.257389173974828,1.1082141022364764,1.0696721479556914,-0.019343190693874697,-1.2013213781026764,1.2259975667044862,-1.0619207765603547,1.3132297055056799,1.3150103675116223,-0.9515982445305117,-1.4793930848331045,0.5935652549324599,-0.8269729838846961,2.2797358481193655,0.3682340675517486,0.9853330635643397,-1.1606400478838221,-0.1881862061234216,-1.2780464328497705,-0.21966817826095011,2.0456757731427198,-1.3138472569855377,-0.4536448678814511,0.5134530210772791,-1.064699311122073,0.5906563783478084,0.49765759030576245,2.809454478270245,-1.2933318186837823,0.6109349662820763,-1.500878175718773,2.4403544095799496,-0.6458427400419261,-0.02369977533088685,0.8939534103212285,2.29345506402832,0.5575098216963444,1.1063005085898203,-0.16374725257308456,1.8479752167289383,3.1621397882691986,1.4538146400525238,0.2011963327254337,0.12815508705458153,0.3086356805597095,-1.5128106039841713,-1.065683011656916,1.1086067117207228,1.539145419584923,0.07794209677552745,0.5385562041406327,0.9208461251909125,1.4292105883955961,-0.9742864873677324,1.0019519297952113,-1.4872484539062125,-1.5084429343737198,2.170608500590123,0.01632998712435812,-0.40508325224511615,0.7261906682020612,2.4767754808823415,-0.29318755277815794,0.9069791616687692,1.0263243995104665,0.9142816561821427,0.6518596943231176,0.7619298437685685,-0.12335120231157384,-0.39866023044982357,-0.7903057232249857,0.6699066342654175,0.3453455520269332,1.0629020115287893,1.1382138661671726,-1.194346322062083,3.137740501680969,2.263535238624189,-0.6373872691504647,-0.7974822215747007,2.3658908751852827,-1.6081861946938543,0.10185446141466117,2.2356262371714184,1.6022624724089762,0.4130444372352287,0.9558034779264102,-1.473412237938712,-1.4313956339670333,-1.0408309152517048,0.888838080703979,-0.4239157426977222,1.6199989238569363,1.3159000815689692,-0.3637286174757666,-0.8213120129318511,1.8209077974907406,-0.005629650365176599,-0.3596303865157654,1.1484463503176467,1.9739566894179277,-0.8838176432520315,0.6766606338730622,0.9653131699570822,-0.03652007916003144,0.114054501179815,-1.088200401874924,-1.6318743369201776,-0.8020458767287337,1.3857080485377888,0.8862367747738135,0.06880161039097554,1.6191848273874123,2.267544365744873,2.3905773591568242,0.7311675620407013,1.8117070961108088,1.6894924434094762,0.14327454804519502,-0.1739601079370849,1.3495251855641353,-0.18674748283326664,0.013598926876246122,0.10439587833680083,1.663610089167897,1.744998210752048,0.4637030661421272,0.9581891864238863,1.5374509344702574,-0.1888843932235588,0.5476791630349648,3.05271673333834,0.4364889932996401,1.0819744698713678,0.4787537829869717,-0.9332956183763286,0.9030194149447539,-0.021343160914438317,-1.3898604026689187,-0.08008064931515975,-0.9995463487946458,1.3845649570366219,-1.0780513008458765,1.016934465278742,-0.18419083144130471,2.109932628503096,0.2595723438991678,0.8181875751593162,1.4324931178698344,-0.36353454935815244,-0.563668648365101,-0.3157155610148819,-0.024989411028985817,1.864157504706798,1.3998942011470208,0.44681861524482563,1.6596074779419019,1.4502919205538578,1.3184340622645996,0.9589074094649374,-1.5079757810934458,0.10261453056141974,-0.9317330046882082,1.678598845033753,-0.41122112038778796,0.9812686187490991,1.827538187550137,2.063682908475284,1.3466749156388853,1.0190660452082176,-0.32603278516301293,-0.9620617647355677,1.4331826066119429,0.5231740707689845,-1.2505261586569554,1.4951586703807829,-0.3084572067126333,-1.3213316101591959,-1.2434322640642144,0.3490660312930606,-0.46233092253541763,1.3633603864551032,0.6789838479323858,1.3449621541445396,0.8996053231339601,0.6345140590034407,1.6156709043112267,0.4911656664999664,-1.1346735627163758,-1.3885655888202781,1.387418704266442,2.0840905931983307,0.06816047230635705,-0.3902626973456904,1.250501444211302,-1.3124141619032816,-1.6068072645819935,0.10484122145228186,1.4718384096340587,0.15804165530367573,-0.001339873315881018,2.0568031799760726,1.1355548705896863,-0.281495404812461,0.694156788123955,0.3119573909092466,0.40499294497090993,0.4032122040326009,0.5176565738629423,0.7432525698653715,-1.4170920932768987,-0.3236827993683507,0.5684619342214773,0.011419667396073576,-0.6007046194759372,2.9493525441677515,0.9834548475010582,1.362170380105045,-1.334173959865215,1.5662452218689926,-1.0946853226142033,1.987580549545227,1.1568609248251922,0.1090138078685863,-1.1548374278001494,1.6727321897654102,-0.06817167002552445,1.7112940874771172,-0.027378892343395012,2.1478064090115705,-0.5886880749473185,0.6446798901111922,0.7944297244027874,0.5090094214692765,0.07524234578149343,-0.014298632055719905,0.4842919090933743,0.07056677397474305,0.4028551887117254,-0.04621467176084623,0.03643460159718814,0.9905076099978019,-0.29304518408316155,3.2204450622585683,0.5457891898064313,0.6274228014008368,-0.43330219962487626,1.611853647032472,1.248642341522395,0.1672352159694624,-0.5884782128951663,0.1481751521041985,0.6286768407008452,0.4203503616808165,1.5718791119965105,-0.800313751485287,3.520311570089574,0.92848166840258,0.3547813555560252,-1.5943516626749599,-0.05069084275444646,0.29083124966778706,-0.8286281335790683,0.6577966513811125,0.33537933831232813,-1.5789298509983,0.7320297114206322,-0.8061658275782552,-1.4285292723601624,-0.9516730218039015,-1.4816540119260861,1.8054533975311173,1.6882878578840441,1.4779898451953117,1.7730429376153836,0.2895670424064205,-1.3572146951672175,-1.6106937329612403,0.08807460869324073,0.7346520176761488,1.6819421207278151,1.2536418407026246,1.0568557263508378,1.210975209713854,-1.4702972383241113,-0.176463406432814,-0.19105122666640564,-1.2774672388467756,-0.5531574824040788,-0.5320063154108884,0.7859240643602358,2.3934009362791024,0.12634796795774889,-0.545183679698545,2.5260454662428176,0.05846308817041084,-0.9973886377616337,0.39269250892118995,2.1367072221500814,-0.04508437965671536,0.15420095128387779,-0.43173267869997156,-0.7100058277395215,1.2736806942242818,0.6675705870143274,-0.08407875349740618,1.709133882656056,-1.4828545437848677,-1.1191188645366372,1.7735384202748792,0.09362824788446392,1.547851713182174,0.4495294174175682,1.5718048941878369,-0.24267448678638925,0.2925179251962333,2.1153501847363887,-1.4548650894784523,1.3527323783002683,-0.7748668385849018,-1.5078899808816186,1.36535393552569,-0.6766967005642461,0.12091977680837447,-0.9371928762166509,-0.3640315467586142,0.23582093118998085,-1.5400265626926155,-0.9815624909954851,1.0570715121232528,-0.5021077260441894,2.4532266180688014,3.47508696354232,1.7553650318768441,0.004292253930663341,0.047019813924524784,0.5130164123492768,0.3158375453111552,1.758670669676845,0.6174655364189874,2.1501074057516605,-0.713136278403941,0.9663247475790695,0.6458696156115324,-1.4271643901992317,-1.2074302310966878,0.12549330217668297,-1.3185317775250434,-1.2223039696847062,-0.06985956254785376,1.1500265648738948,2.01716444112092,1.8314117133302596,2.7673685086530795,-0.3491841727514939,1.541562263659397,0.6982046438278602,-1.353756946997387,0.9979884384945337,0.21371869708254695,0.9298784813173058,0.4542527477073825,3.1543267513886066,0.008454143395884703,1.1367601587819223,-0.013908173474802669,1.3653155813871989,1.7038891416055804,-1.0984231725908362,-1.0322898776257783,0.5947666135280487,1.8656268345842275,0.8385262855789724,1.706256652655742,0.25867428903115713,-1.3582945330828853,1.6979462134549663,2.900371392766837,1.3962486063269213,2.3733812614865615,-0.7336133930421957],\"xaxis\":\"x\",\"y\":[0.07953644426061841,2.180883955258443,-0.41890450752924996,-2.2530438978020983,-0.33620444565103474,-0.6821039816187012,-1.5686553296176098,0.48881212668537705,-0.3122680083083191,0.7419759197532553,-0.367281804997741,0.20628600340106445,-1.5591567760701677,0.06080887735491126,-0.28284999344192074,-0.09727641369956924,0.9674102647452328,-1.440428121057726,-0.723046468351274,-0.11408591581189317,-1.7162858420761293,-1.4524269787299877,0.6715498917773293,-0.2832403815512639,-0.2999893984983099,-0.1600490337476688,0.09405517195347503,0.019844949281065,0.14243638638480388,-0.6476987575619197,-2.0142064979505108,0.37782369531793386,0.23080051966760354,0.1001268993027266,-0.43533523424485393,1.1878583442530828,-0.010778793639790356,-0.4621576786019684,1.1303307860027176,-0.31454344273133,0.10939730920147019,-0.316646026589517,-0.2664670719310005,0.4661595690786456,-1.2033652195157487,0.9793538353171249,-1.451519044403286,-1.4361611422812244,0.8840741625772879,-0.6901332578239517,-0.7909726099651511,0.11093852869966102,-1.3774213035573022,-0.5706773486910656,-1.0927619650943996,1.102975851850049,0.8361297301871116,-0.4552747600750557,-0.7054442022338816,1.382116382639909,-0.9943472274250071,-1.2237163074999615,-0.6381356022619333,-0.3580290046965639,0.037090735950397934,-0.7356191932777183,0.08959812830151728,-1.8800761904277328,-0.949533230531975,-0.16742409741663145,0.8058372101216664,1.6244159881320417,-1.1446012127916547,0.995417112242411,-0.4785833843190706,-0.8263889141783793,1.1883726973762552,-0.5645987485049772,-2.250566806004185,0.8423492035095945,0.04506251609370029,-0.5465783000601117,0.5824450398231266,-1.3246244064403134,0.27436140106426626,2.204189843466063,0.055248286427478824,0.35398810687584537,-0.7634769000211219,-1.773844025663392,0.5012900755966659,-0.12981647177268602,-1.0284467236527306,-1.2040431227812405,-0.32831500153088866,-0.06518475264288844,0.1279283621411646,-0.3537096317093187,-0.28289785330262646,-0.8273023954470677,1.4850522457538236,-0.19014547070820853,-0.1294693889608353,-1.6415422132299202,-1.3715768105933395,-0.6004731810182576,-0.8770985258759596,0.22871422064346322,-1.1644012161188093,-0.34250986472230127,-0.8907324840278291,-1.4357317721187344,-0.46026603831151874,-0.28641906022903774,-1.8207392743853827,-0.5364826658002513,-1.5058488293675683,-2.187069327241122,-1.9468272293240507,-0.760142982638751,1.8194193484260017,1.527242809033749,-0.29579172803862275,-1.0786568224767952,-1.1478631296411597,-1.8045779796782375,0.47282082522760666,1.8880127576105195,-0.9646118993449389,-0.21854168062444068,2.287344258819307,-0.15894087838428886,0.2163393842504027,-1.5585244084082537,-0.33345649262127264,-1.3113598008522742,-1.090690977607378,0.723444401509603,-0.0778230087984628,-0.5279022573967556,-1.7633441411936353,-1.6770890610727587,-0.32628258658040876,-1.5753176185716957,-0.26038373785263125,1.6609674490902506,-0.05007408392565913,1.3753932192171157,0.4878526194438028,0.19419105093363284,-0.269017101984532,-1.0241356325125357,-0.4890986076539579,1.060661659335032,-0.3302034273826459,-1.335506273630648,-0.42221102824308654,-1.3063433824500428,-1.806768841788502,-0.768887318520985,0.5522882625835305,0.5006195449148153,1.612735400478047,-0.25953295071079935,0.6942070881939678,-0.30489991368989733,1.4037364674214377,-0.9580021341268163,-0.5233165908392163,-1.1580122088674039,-0.32280600599416504,-1.8924807155662708,-0.9003328301821543,-0.6747224201866607,-0.15095379980220797,2.0324468369074773,-0.8593011203599181,0.33138100774083257,-0.0038549034500096353,-1.3079464414677027,-0.3719033271372733,-0.7649061434231964,-1.4252263133789793,0.21941505260715785,1.7591061750040733,-1.3465814118889656,-1.6914000929480828,-0.30889133291644655,-0.11483030824244111,1.0925572859593247,1.1981602844021029,-0.9331279797608779,1.0280235905948913,-0.789019644131707,-0.8951821206532993,-0.56386408024321,-0.6837423571765291,-0.997220287585768,0.036323658267759566,-1.651765154204862,-0.5554003320242648,0.9585101904115969,-0.21438951730898922,-0.6933617444144707,-0.7439639952186755,0.44728790149950653,-0.12011167895911652,-1.2047689607766359,1.1083482166420204,-0.289075956281316,-0.03400942531817023,0.0026051939395225526,1.2652300705876558,0.13881345686853228,1.1181116083396856,-0.3806705122396645,-1.2156516885578628,-0.3004773390855548,-0.16274544717407466,-1.2550450097239305,-0.2145977117419919,0.206256377557775,-0.041812881000520476,1.3933541748754765,0.444697439956263,-0.31767245498858926,-0.23155955966928718,-2.306190647078848,0.7552056741050847,-1.2491285150957714,0.42056343449789974,-0.2766946576993545,-0.2632084181927055,-0.43584867697328605,-0.26044972128737837,0.23234413230861645,-0.2500961939938147,-0.09348526305088493,-0.8581093101933668,-0.8635843566424553,-1.3836946276419293,0.36968335939481145,-0.6396155557253272,1.601134727245046,-1.044871485663577,-1.2428914048477109,1.2593451390191452,-0.5755381581671166,1.4087850223679907,-0.003635622247869469,-0.7156635132700204,0.008159759522670012,-1.1727883107653096,-0.5371834182858994,0.735654702496406,-0.7010778655509997,0.3576812195294949,-2.180723475548813,0.4552893430602753,0.11455921594283786,-0.4219712778652704,0.6007818708737465,-0.38497738346405275,0.5484691881914954,0.3047719083404423,-0.9835811051723086,0.17312572456830766,-0.3058896367517643,-0.004300975077986858,-1.2639585699530314,0.2421340802971003,0.6594789920145192,0.6908862269772801,-0.26890325868907894,1.0074596443024184,-1.059893432169277,-0.6419156661414797,-0.6887193057458203,-0.49529114136569835,-1.0615146409576601,-0.9195669134547692,0.8144599052472002,-0.6549757974655179,-0.11195461537382648,0.9114230642708362,-1.0338673993796947,-0.798457310112101,1.7542077105010556,-0.6679602473827092,-1.0737105385394232,-1.19738503951329,-1.1662779794540958,1.7250053315369935,-1.3746435666996888,-0.31871283571841397,-0.2124640028001027,-0.6214051315038743,-0.3052331617292056,0.3462734149627063,-0.6387382680800294,-0.2538325157312525,-0.19004740538516232,-0.7360248251698176,-0.23786080038242954,-0.3427706113506088,0.08028961828502514,0.042985455721206905,0.24583183661283178,-0.18727250789248243,0.6227728254100341,-0.17689996684331352,-0.8753755791367157,-0.6995156153594706,-0.2998142225450273,0.21686359219890639,0.39224164186452176,-0.37111761416677924,-0.6025074358400626,-1.2188341349458258,0.09674837805602385,0.4038427661718101,-0.2851031259327659,1.8181062332814877,-0.1888179877328314,-0.3564635685256839,0.64539194079077,-0.4371265373484906,0.05517906947219349,-1.7704450603063642,-0.5065623758272616,-0.1087047847870681,0.037587089041243825,-1.7458293047044382,-0.17658763307046282,-0.41361249626554925,-0.5406167006894861,0.735847523621432,0.697988480231025,-0.27902825303051504,0.24812861503208175,-1.775974046616466,-0.8559462887110889,-1.0589218600094623,0.7200908886407889,-1.4919248618508498,0.18101375256340427,1.1011144285112224,-1.1114268782996057,-0.29489673830289925,0.6265570070081776,0.7059220700263801,-0.8136442228851699,-1.0210488511899625,-1.631111526633603,0.8119548908372659,-0.8122683922692927,0.17897904666731212,-0.36433631942650807,-0.15834001799467118,-0.2156970368389998,-0.7801144821765373,-1.4297130588747549,-0.49518563457331805,-0.005824147002664856,-0.661765874930974,0.7397529959678676,-0.7654572232280795,-0.06920780381477985,-0.5991841945788937,-0.9328333993404847,-0.17128822900994523,1.4655477463401427,-0.2753648279910128,0.4143979710534528,-1.0770077112895675,0.37118976808314486,-0.7431002136820182,-2.1546728345204516,0.07326963216874371,-0.21841167118448182,0.1378599191838902,0.8392136875057522,0.35357134067342133,-1.282112812040376,-0.21702131362184993,-0.1699384204952361,-1.5018852803596772,-1.1361955221523194,-0.3998134647969272,0.8589049684705035,-0.1304646720630294,-0.25711393670567095,0.008230406832675216,0.20562483717523705,1.0359623107007925,0.03921378898426049,0.0023612247772302245,-0.21963041271561012,0.5217848049338533,-0.9520772625692328,1.8421811341254453,1.1212922552826754,-0.10958438359115392,0.3250277550055412,0.22076906567667223,-0.8019185447183794,0.1822943609420133,0.2874215728146563,1.3546011483577902,0.56725213841128,-0.2612233775857977,0.49421009096357027,0.09130158999769297,-0.5727311836383128,1.6140801191085619,-0.8449733821669319,-0.8897855665166502,-2.0773935861405866,-0.07242603803037297,1.316858750922263,-1.9173985383364502,-0.39908535606909545,-0.610360147294992,0.1464886467685444,0.7695850207871201,0.13038499899307338,0.7300388327147701,1.146738759711869,-1.6739674843013284,1.0562214062474302,-1.1901749480952009,-2.161952185582838,-0.6839755955615967,0.7455156597703131,-0.9869350620005748,-0.4266981641736217,-2.1087687238540473,0.6429306400636032,-0.29415701087893914,-0.08889915253389387,-1.6680151924680433,-0.341495049035852,0.859774358720005,0.41989627737063373,0.590555626361244,0.23903991329254523,1.3646187260184974,1.1874531634352703,-0.6722750527084008,-0.1684849342237918,-0.14665712031321845,-0.09177165942315767,-1.1762630241522172,-1.0995933892964829,1.5311487466841425,-1.4348294097993697,-2.1511758192013786,-1.2383646980183558,-1.5478795151329896,0.551913705971286,0.02629116435686782,-1.23345696640435,-0.86300819844266,-0.06947169486475685,1.9660856601770174,0.3312300829030854,-0.5039319267537573,-1.3488173360526843,-1.4033497030162794,-2.1511925408800416,0.48649252524265113,-0.9670072226208634,0.5281854570780677,1.1596168482292926,0.042117508924765526,-1.1447731136667176,-0.436877917409281,-0.2464030884550008,-0.878410227158085,0.933755485791295,-0.16782463457236155,0.06444065023589521,1.9632958453028226,0.7033307183015721,0.4679796089753385,0.7997144215713573,-1.1962178162410113,-0.2879027683042802,0.09520380747908441,-1.4816777303999003,-0.017822566698979764,-0.1858854609822474,-0.23134581829429832,0.474710624515401,1.169199009038719,-0.362105023563871,0.4496813587074252,-1.0358441023521994,-0.30955579669633027,-0.29708342205503935,-1.693244768411566,0.08510770193176136,2.0963555431771423,-1.5118921474563356,-0.5958614388348584,0.19528293569263716,-0.30797272958337774,-0.035944267577572915,0.2729302429216686,-1.4173075982761267,-0.9080061873256766,0.2815245561147299,-0.016677684653888705,-0.21740605259199736,1.7022500638138038,0.03204179170041504,0.48671885149586047,1.001467899128524,-0.9281050778252382,-1.2466504998047776,0.13873721507535353,-0.2688261278456665,-0.9040542914567602,0.055825409678035856,-0.7869403070432721,-1.534142350511848,-0.36379683923590744,0.013876012900975466,0.7108739604139358,0.18553535042671965,-0.14927087616740128,0.08643618553207696,-1.5545608653838676,0.9295656651862167,0.10128803772252287,-1.080133939969246,-1.5104312672567441,-0.3405332366189947,1.9656307594139986,-1.0501276555749557,1.8556734263043901,1.0166691928307954,1.9559324014613189,-0.019483715476436153,-0.823261715595764,-1.5234333410011727,0.28767426891478054,-0.029532465762033045,-1.5296165802739135,1.240447969298819,-0.9328994101032433,-1.8542634681520287,-0.5512207222364311,0.7900193267298872,-0.4344068711688276,1.3960068865861253,0.5630594926709389,-0.9599253636735965,-0.012400918806418275,0.2516483358164204,-1.091958572509316,1.3288162880545782,-0.11455893303411828,1.757185743264545,-1.5483241848655882,0.33000106053768924,-1.4723687408497794,-0.4618667921538961,-0.29151076847202717,-0.24626606129198345,-0.011473930297759484,-0.2976911968391754,-0.6084294702953732,-0.1762530793494798,0.8560324413680636,-1.0327620335774015,-0.22538246928254663,-2.3226274882376052,-1.2438848469472497,-0.2579535764388375,-0.2841584720391879,-0.5486093321970587,1.7476221215292707,-0.5770204452651347,-0.9690944331710737,-0.9204888132105637,-0.3401429316250149,-0.3237162728241611,1.4730794041992243,0.6386185992336477,-0.3028977003300393,0.15207249643273887,0.043140210040000654,0.021602310411902186,0.2842762352969991,0.1308305922187526,-0.1829841555290702,-0.9728730951552419,1.9981754611491969,0.7644082678125912,-0.7065700978513786,0.6358292009908937,2.0285446336557564,-1.87572884502462,1.433094120664273,0.6540592266822949,-0.2985769183325803,-0.5935748154455005,1.7137076156538098,-1.7731726130461432,0.021638140928544432,0.06646795622033538,-1.4732223329136984,-0.21002174914005758,0.4484875851278333,0.05686623323598227,0.43035616493263446,0.7454408745285356,-0.7976850557090602,-0.7482114567719227,-0.13680912185995991,-0.3411238588633565,0.3029569833932946,-0.33427006869558973,-0.2504308035021502,-0.5505720162157786,1.8140674123833547,0.703861362242296,1.6428406463604528,0.5708495099990117,-0.29949546700962687,0.16826587302818316,1.0159545235885712,1.327653276451941,-0.306225217294367,-0.48806667500191114,-0.08554200972627655,-1.6823503863600342,-0.023706554561234085,-1.1145373087937014,0.47874202528870596,-2.0320261507426953,-0.16707192698324677,0.5288893622315506,-0.23856105312127365,1.6630486462631868,1.6450900373377904,-0.3236526147778723,-0.4421912666857157,0.41452525981801874,-0.3558581191300063,-0.2944441629283388,1.1322456446035782,-0.3346060598861279,-1.6027613307232462,1.001115173160982,-1.1401158834209286,-0.4972329111179599,0.12040081601717482,0.9492230446045195,-0.161446263015807,2.243381021740096,1.3223756603471133,0.2474669479281195,-1.470066811906808,-0.19172957887245162,0.30862396078584503,-1.9835245810231652,1.46614808676978,-0.31691420757232314,-0.19586778500497531,0.36936788718379676,0.3118812268584322,0.6163493562258489,-1.3708449959261766,0.5677185972308998,-0.9366761311502066,-0.4841123635143368,0.21436374852586973,0.29361868130278557,-0.3994274261286107,-0.27340912725250466,-0.47492887266130424,0.7032126966479951],\"yaxis\":\"y\",\"type\":\"scattergl\"}],                        {\"template\":{\"data\":{\"bar\":[{\"error_x\":{\"color\":\"#2a3f5f\"},\"error_y\":{\"color\":\"#2a3f5f\"},\"marker\":{\"line\":{\"color\":\"#E5ECF6\",\"width\":0.5},\"pattern\":{\"fillmode\":\"overlay\",\"size\":10,\"solidity\":0.2}},\"type\":\"bar\"}],\"barpolar\":[{\"marker\":{\"line\":{\"color\":\"#E5ECF6\",\"width\":0.5},\"pattern\":{\"fillmode\":\"overlay\",\"size\":10,\"solidity\":0.2}},\"type\":\"barpolar\"}],\"carpet\":[{\"aaxis\":{\"endlinecolor\":\"#2a3f5f\",\"gridcolor\":\"white\",\"linecolor\":\"white\",\"minorgridcolor\":\"white\",\"startlinecolor\":\"#2a3f5f\"},\"baxis\":{\"endlinecolor\":\"#2a3f5f\",\"gridcolor\":\"white\",\"linecolor\":\"white\",\"minorgridcolor\":\"white\",\"startlinecolor\":\"#2a3f5f\"},\"type\":\"carpet\"}],\"choropleth\":[{\"colorbar\":{\"outlinewidth\":0,\"ticks\":\"\"},\"type\":\"choropleth\"}],\"contour\":[{\"colorbar\":{\"outlinewidth\":0,\"ticks\":\"\"},\"colorscale\":[[0.0,\"#0d0887\"],[0.1111111111111111,\"#46039f\"],[0.2222222222222222,\"#7201a8\"],[0.3333333333333333,\"#9c179e\"],[0.4444444444444444,\"#bd3786\"],[0.5555555555555556,\"#d8576b\"],[0.6666666666666666,\"#ed7953\"],[0.7777777777777778,\"#fb9f3a\"],[0.8888888888888888,\"#fdca26\"],[1.0,\"#f0f921\"]],\"type\":\"contour\"}],\"contourcarpet\":[{\"colorbar\":{\"outlinewidth\":0,\"ticks\":\"\"},\"type\":\"contourcarpet\"}],\"heatmap\":[{\"colorbar\":{\"outlinewidth\":0,\"ticks\":\"\"},\"colorscale\":[[0.0,\"#0d0887\"],[0.1111111111111111,\"#46039f\"],[0.2222222222222222,\"#7201a8\"],[0.3333333333333333,\"#9c179e\"],[0.4444444444444444,\"#bd3786\"],[0.5555555555555556,\"#d8576b\"],[0.6666666666666666,\"#ed7953\"],[0.7777777777777778,\"#fb9f3a\"],[0.8888888888888888,\"#fdca26\"],[1.0,\"#f0f921\"]],\"type\":\"heatmap\"}],\"heatmapgl\":[{\"colorbar\":{\"outlinewidth\":0,\"ticks\":\"\"},\"colorscale\":[[0.0,\"#0d0887\"],[0.1111111111111111,\"#46039f\"],[0.2222222222222222,\"#7201a8\"],[0.3333333333333333,\"#9c179e\"],[0.4444444444444444,\"#bd3786\"],[0.5555555555555556,\"#d8576b\"],[0.6666666666666666,\"#ed7953\"],[0.7777777777777778,\"#fb9f3a\"],[0.8888888888888888,\"#fdca26\"],[1.0,\"#f0f921\"]],\"type\":\"heatmapgl\"}],\"histogram\":[{\"marker\":{\"pattern\":{\"fillmode\":\"overlay\",\"size\":10,\"solidity\":0.2}},\"type\":\"histogram\"}],\"histogram2d\":[{\"colorbar\":{\"outlinewidth\":0,\"ticks\":\"\"},\"colorscale\":[[0.0,\"#0d0887\"],[0.1111111111111111,\"#46039f\"],[0.2222222222222222,\"#7201a8\"],[0.3333333333333333,\"#9c179e\"],[0.4444444444444444,\"#bd3786\"],[0.5555555555555556,\"#d8576b\"],[0.6666666666666666,\"#ed7953\"],[0.7777777777777778,\"#fb9f3a\"],[0.8888888888888888,\"#fdca26\"],[1.0,\"#f0f921\"]],\"type\":\"histogram2d\"}],\"histogram2dcontour\":[{\"colorbar\":{\"outlinewidth\":0,\"ticks\":\"\"},\"colorscale\":[[0.0,\"#0d0887\"],[0.1111111111111111,\"#46039f\"],[0.2222222222222222,\"#7201a8\"],[0.3333333333333333,\"#9c179e\"],[0.4444444444444444,\"#bd3786\"],[0.5555555555555556,\"#d8576b\"],[0.6666666666666666,\"#ed7953\"],[0.7777777777777778,\"#fb9f3a\"],[0.8888888888888888,\"#fdca26\"],[1.0,\"#f0f921\"]],\"type\":\"histogram2dcontour\"}],\"mesh3d\":[{\"colorbar\":{\"outlinewidth\":0,\"ticks\":\"\"},\"type\":\"mesh3d\"}],\"parcoords\":[{\"line\":{\"colorbar\":{\"outlinewidth\":0,\"ticks\":\"\"}},\"type\":\"parcoords\"}],\"pie\":[{\"automargin\":true,\"type\":\"pie\"}],\"scatter\":[{\"marker\":{\"colorbar\":{\"outlinewidth\":0,\"ticks\":\"\"}},\"type\":\"scatter\"}],\"scatter3d\":[{\"line\":{\"colorbar\":{\"outlinewidth\":0,\"ticks\":\"\"}},\"marker\":{\"colorbar\":{\"outlinewidth\":0,\"ticks\":\"\"}},\"type\":\"scatter3d\"}],\"scattercarpet\":[{\"marker\":{\"colorbar\":{\"outlinewidth\":0,\"ticks\":\"\"}},\"type\":\"scattercarpet\"}],\"scattergeo\":[{\"marker\":{\"colorbar\":{\"outlinewidth\":0,\"ticks\":\"\"}},\"type\":\"scattergeo\"}],\"scattergl\":[{\"marker\":{\"colorbar\":{\"outlinewidth\":0,\"ticks\":\"\"}},\"type\":\"scattergl\"}],\"scattermapbox\":[{\"marker\":{\"colorbar\":{\"outlinewidth\":0,\"ticks\":\"\"}},\"type\":\"scattermapbox\"}],\"scatterpolar\":[{\"marker\":{\"colorbar\":{\"outlinewidth\":0,\"ticks\":\"\"}},\"type\":\"scatterpolar\"}],\"scatterpolargl\":[{\"marker\":{\"colorbar\":{\"outlinewidth\":0,\"ticks\":\"\"}},\"type\":\"scatterpolargl\"}],\"scatterternary\":[{\"marker\":{\"colorbar\":{\"outlinewidth\":0,\"ticks\":\"\"}},\"type\":\"scatterternary\"}],\"surface\":[{\"colorbar\":{\"outlinewidth\":0,\"ticks\":\"\"},\"colorscale\":[[0.0,\"#0d0887\"],[0.1111111111111111,\"#46039f\"],[0.2222222222222222,\"#7201a8\"],[0.3333333333333333,\"#9c179e\"],[0.4444444444444444,\"#bd3786\"],[0.5555555555555556,\"#d8576b\"],[0.6666666666666666,\"#ed7953\"],[0.7777777777777778,\"#fb9f3a\"],[0.8888888888888888,\"#fdca26\"],[1.0,\"#f0f921\"]],\"type\":\"surface\"}],\"table\":[{\"cells\":{\"fill\":{\"color\":\"#EBF0F8\"},\"line\":{\"color\":\"white\"}},\"header\":{\"fill\":{\"color\":\"#C8D4E3\"},\"line\":{\"color\":\"white\"}},\"type\":\"table\"}]},\"layout\":{\"annotationdefaults\":{\"arrowcolor\":\"#2a3f5f\",\"arrowhead\":0,\"arrowwidth\":1},\"autotypenumbers\":\"strict\",\"coloraxis\":{\"colorbar\":{\"outlinewidth\":0,\"ticks\":\"\"}},\"colorscale\":{\"diverging\":[[0,\"#8e0152\"],[0.1,\"#c51b7d\"],[0.2,\"#de77ae\"],[0.3,\"#f1b6da\"],[0.4,\"#fde0ef\"],[0.5,\"#f7f7f7\"],[0.6,\"#e6f5d0\"],[0.7,\"#b8e186\"],[0.8,\"#7fbc41\"],[0.9,\"#4d9221\"],[1,\"#276419\"]],\"sequential\":[[0.0,\"#0d0887\"],[0.1111111111111111,\"#46039f\"],[0.2222222222222222,\"#7201a8\"],[0.3333333333333333,\"#9c179e\"],[0.4444444444444444,\"#bd3786\"],[0.5555555555555556,\"#d8576b\"],[0.6666666666666666,\"#ed7953\"],[0.7777777777777778,\"#fb9f3a\"],[0.8888888888888888,\"#fdca26\"],[1.0,\"#f0f921\"]],\"sequentialminus\":[[0.0,\"#0d0887\"],[0.1111111111111111,\"#46039f\"],[0.2222222222222222,\"#7201a8\"],[0.3333333333333333,\"#9c179e\"],[0.4444444444444444,\"#bd3786\"],[0.5555555555555556,\"#d8576b\"],[0.6666666666666666,\"#ed7953\"],[0.7777777777777778,\"#fb9f3a\"],[0.8888888888888888,\"#fdca26\"],[1.0,\"#f0f921\"]]},\"colorway\":[\"#636efa\",\"#EF553B\",\"#00cc96\",\"#ab63fa\",\"#FFA15A\",\"#19d3f3\",\"#FF6692\",\"#B6E880\",\"#FF97FF\",\"#FECB52\"],\"font\":{\"color\":\"#2a3f5f\"},\"geo\":{\"bgcolor\":\"white\",\"lakecolor\":\"white\",\"landcolor\":\"#E5ECF6\",\"showlakes\":true,\"showland\":true,\"subunitcolor\":\"white\"},\"hoverlabel\":{\"align\":\"left\"},\"hovermode\":\"closest\",\"mapbox\":{\"style\":\"light\"},\"paper_bgcolor\":\"white\",\"plot_bgcolor\":\"#E5ECF6\",\"polar\":{\"angularaxis\":{\"gridcolor\":\"white\",\"linecolor\":\"white\",\"ticks\":\"\"},\"bgcolor\":\"#E5ECF6\",\"radialaxis\":{\"gridcolor\":\"white\",\"linecolor\":\"white\",\"ticks\":\"\"}},\"scene\":{\"xaxis\":{\"backgroundcolor\":\"#E5ECF6\",\"gridcolor\":\"white\",\"gridwidth\":2,\"linecolor\":\"white\",\"showbackground\":true,\"ticks\":\"\",\"zerolinecolor\":\"white\"},\"yaxis\":{\"backgroundcolor\":\"#E5ECF6\",\"gridcolor\":\"white\",\"gridwidth\":2,\"linecolor\":\"white\",\"showbackground\":true,\"ticks\":\"\",\"zerolinecolor\":\"white\"},\"zaxis\":{\"backgroundcolor\":\"#E5ECF6\",\"gridcolor\":\"white\",\"gridwidth\":2,\"linecolor\":\"white\",\"showbackground\":true,\"ticks\":\"\",\"zerolinecolor\":\"white\"}},\"shapedefaults\":{\"line\":{\"color\":\"#2a3f5f\"}},\"ternary\":{\"aaxis\":{\"gridcolor\":\"white\",\"linecolor\":\"white\",\"ticks\":\"\"},\"baxis\":{\"gridcolor\":\"white\",\"linecolor\":\"white\",\"ticks\":\"\"},\"bgcolor\":\"#E5ECF6\",\"caxis\":{\"gridcolor\":\"white\",\"linecolor\":\"white\",\"ticks\":\"\"}},\"title\":{\"x\":0.05},\"xaxis\":{\"automargin\":true,\"gridcolor\":\"white\",\"linecolor\":\"white\",\"ticks\":\"\",\"title\":{\"standoff\":15},\"zerolinecolor\":\"white\",\"zerolinewidth\":2},\"yaxis\":{\"automargin\":true,\"gridcolor\":\"white\",\"linecolor\":\"white\",\"ticks\":\"\",\"title\":{\"standoff\":15},\"zerolinecolor\":\"white\",\"zerolinewidth\":2}}},\"xaxis\":{\"anchor\":\"y\",\"domain\":[0.0,1.0],\"title\":{\"text\":\"PC1\"},\"showgrid\":true,\"gridwidth\":1,\"gridcolor\":\"lightgrey\",\"zeroline\":true,\"zerolinewidth\":1,\"zerolinecolor\":\"lightgrey\",\"showline\":true,\"linewidth\":1,\"linecolor\":\"black\"},\"yaxis\":{\"anchor\":\"x\",\"domain\":[0.0,1.0],\"title\":{\"text\":\"PC2\"},\"showgrid\":true,\"gridwidth\":1,\"gridcolor\":\"lightgrey\",\"zeroline\":true,\"zerolinewidth\":1,\"zerolinecolor\":\"lightgrey\",\"showline\":true,\"linewidth\":1,\"linecolor\":\"black\"},\"legend\":{\"title\":{\"text\":\"is_safe\"},\"tracegroupgap\":0},\"margin\":{\"t\":60},\"plot_bgcolor\":\"white\",\"title\":{\"text\":\"PCA scatter plot\"}},                        {\"responsive\": true}                    ).then(function(){\n",
       "                            \n",
       "var gd = document.getElementById('3f681566-5313-4de9-b100-478010bc6595');\n",
       "var x = new MutationObserver(function (mutations, observer) {{\n",
       "        var display = window.getComputedStyle(gd).display;\n",
       "        if (!display || display === 'none') {{\n",
       "            console.log([gd, 'removed!']);\n",
       "            Plotly.purge(gd);\n",
       "            observer.disconnect();\n",
       "        }}\n",
       "}});\n",
       "\n",
       "// Listen for the removal of the full notebook cells\n",
       "var notebookContainer = gd.closest('#notebook-container');\n",
       "if (notebookContainer) {{\n",
       "    x.observe(notebookContainer, {childList: true});\n",
       "}}\n",
       "\n",
       "// Listen for the clearing of the current output cell\n",
       "var outputEl = gd.closest('.output');\n",
       "if (outputEl) {{\n",
       "    x.observe(outputEl, {childList: true});\n",
       "}}\n",
       "\n",
       "                        })                };                });            </script>        </div>"
      ]
     },
     "metadata": {},
     "output_type": "display_data"
    }
   ],
   "source": [
    "# Create a scatter plot\n",
    "fig = px.scatter(OriginalDataForLDA, x=X_trans_pca_train[:,0], y=X_trans_pca_train[:,1], \n",
    "                 labels={\n",
    "                     \"x\": \"PC1\",\n",
    "                     \"y\": \"PC2\",\n",
    "                     \"color\" : \"is_safe\"\n",
    "                 },\n",
    "                 opacity=1, color=y_train)\n",
    "\n",
    "# Change chart background color\n",
    "fig.update_layout(dict(plot_bgcolor = 'white'))\n",
    "\n",
    "# Update axes lines\n",
    "fig.update_xaxes(showgrid=True, gridwidth=1, gridcolor='lightgrey', \n",
    "                 zeroline=True, zerolinewidth=1, zerolinecolor='lightgrey', \n",
    "                 showline=True, linewidth=1, linecolor='black')\n",
    "\n",
    "fig.update_yaxes(showgrid=True, gridwidth=1, gridcolor='lightgrey', \n",
    "                 zeroline=True, zerolinewidth=1, zerolinecolor='lightgrey', \n",
    "                 showline=True, linewidth=1, linecolor='black')\n",
    "\n",
    "# Set figure title\n",
    "fig.update_layout(title_text=\"PCA scatter plot\")\n",
    "\n",
    "# Update marker size\n",
    "fig.update_traces(marker=dict(size=3))\n",
    "\n",
    "fig.show()"
   ]
  },
  {
   "cell_type": "code",
   "execution_count": 66,
   "id": "25e924ac",
   "metadata": {},
   "outputs": [
    {
     "name": "stdout",
     "output_type": "stream",
     "text": [
      "*************** PCA Summary ***************\n",
      "No. of features:  3\n",
      "No. of samples:  1368\n",
      "No. of components:  2\n",
      "Explained variance ratio:  [0.54757315 0.24841984]\n"
     ]
    }
   ],
   "source": [
    "pca = PCA(n_components=2)                       \n",
    "\n",
    "# Fit the model\n",
    "X_trans_pca_train=pca.fit_transform(X_std_train)\n",
    "\n",
    "# Print the results\n",
    "print('*************** PCA Summary ***************')\n",
    "print('No. of features: ', pca.n_features_)\n",
    "print('No. of samples: ', pca.n_samples_)\n",
    "print('No. of components: ', pca.n_components_)\n",
    "print('Explained variance ratio: ', pca.explained_variance_ratio_)"
   ]
  },
  {
   "cell_type": "code",
   "execution_count": 67,
   "id": "0f7b34d0",
   "metadata": {},
   "outputs": [
    {
     "name": "stdout",
     "output_type": "stream",
     "text": [
      "Goodness of Fit of Model for PCA with ALL variables \tTrain Dataset\n",
      "Classification Accuracy \t: 0.7675438596491229\n",
      "\n",
      "RECALL==TRUE POSITIVE RATE\n",
      "              precision    recall  f1-score   support\n",
      "\n",
      "           0       0.75      0.80      0.77       684\n",
      "           1       0.78      0.74      0.76       684\n",
      "\n",
      "    accuracy                           0.77      1368\n",
      "   macro avg       0.77      0.77      0.77      1368\n",
      "weighted avg       0.77      0.77      0.77      1368\n",
      "\n"
     ]
    }
   ],
   "source": [
    "#Decision Tree using Train Data\n",
    "dectree = DecisionTreeClassifier(max_depth = 4)  # create the decision tree object\n",
    "dectree.fit(X_trans_pca_train, y_train)                    # train the decision tree model\n",
    "\n",
    "# Predict Response corresponding to Predictors\n",
    "y_train_pred = dectree.predict(X_trans_pca_train)\n",
    "\n",
    "\n",
    "print(\"Goodness of Fit of Model for PCA with ALL variables \\tTrain Dataset\")\n",
    "print(\"Classification Accuracy \\t:\", dectree.score(X_trans_pca_train, y_train))\n",
    "print()\n",
    "print(\"RECALL==TRUE POSITIVE RATE\")\n",
    "\n",
    "print(classification_report(y_train, y_train_pred))"
   ]
  },
  {
   "cell_type": "code",
   "execution_count": null,
   "id": "60518a1c",
   "metadata": {},
   "outputs": [],
   "source": []
  }
 ],
 "metadata": {
  "kernelspec": {
   "display_name": "Python 3 (ipykernel)",
   "language": "python",
   "name": "python3"
  },
  "language_info": {
   "codemirror_mode": {
    "name": "ipython",
    "version": 3
   },
   "file_extension": ".py",
   "mimetype": "text/x-python",
   "name": "python",
   "nbconvert_exporter": "python",
   "pygments_lexer": "ipython3",
   "version": "3.9.7"
  }
 },
 "nbformat": 4,
 "nbformat_minor": 5
}
