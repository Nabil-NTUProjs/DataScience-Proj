{
 "cells": [
  {
   "cell_type": "markdown",
   "id": "c02348a3",
   "metadata": {},
   "source": [
    "# INTRODUCTION"
   ]
  },
  {
   "cell_type": "markdown",
   "id": "3e06beaa",
   "metadata": {},
   "source": []
  },
  {
   "cell_type": "markdown",
   "id": "66eb9819",
   "metadata": {},
   "source": [
    "### Data Preparation"
   ]
  },
  {
   "cell_type": "code",
   "execution_count": 41,
   "id": "2bf3bfa2",
   "metadata": {},
   "outputs": [],
   "source": [
    "# Basic Libraries\n",
    "import numpy as np\n",
    "import pandas as pd\n",
    "import seaborn as sb\n",
    "import matplotlib.pyplot as plt # we only need pyplot\n",
    "sb.set() # set the default Seaborn style for graphics\n",
    "from scipy import stats\n",
    "from sklearn.tree import DecisionTreeClassifier\n",
    "from sklearn.model_selection import train_test_split\n",
    "from collections import Counter"
   ]
  },
  {
   "cell_type": "code",
   "execution_count": 42,
   "id": "8fcf16db",
   "metadata": {},
   "outputs": [],
   "source": [
    "txtdata=\"aluminium - dangerous if greater than 2.8 ammonia - dangerous if greater than 32.5 arsenic - dangerous if greater than 0.01 barium - dangerous if greater than 2 cadmium - dangerous if greater than 0.005chloramine - dangerous if greater than 4 chromium - dangerous if greater than 0.1 copper - dangerous if greater than 1.3 flouride - dangerous if greater than 1.5 bacteria - dangerous if greater than 0 viruses - dangerous if greater than 0 lead - dangerous if greater than 0.015 nitrates - dangerous if greater than 10 nitrites - dangerous if greater than 1 mercury - dangerous if greater than 0.002 perchlorate - dangerous if greater than 56 radium - dangerous if greater than 5 selenium - dangerous if greater than 0.5 silver - dangerous if greater than 0.1 uranium - dangerous if greater than 0.3 is_safe - class attribute {0 - not safe, 1 - safe} \""
   ]
  },
  {
   "cell_type": "code",
   "execution_count": 43,
   "id": "e93d7747",
   "metadata": {},
   "outputs": [
    {
     "name": "stdout",
     "output_type": "stream",
     "text": [
      "['2.8', '32.5', '0.01', '2', '0.005', '4', '0.1', '1.3', '1.5', '0', '0', '0.015', '10', '1', '0.002', '56', '5', '0.5', '0.1', '0.3', '0', '1']\n"
     ]
    }
   ],
   "source": [
    "#print(txtdata)\n",
    "#res = [float(i) for i in txtdata.split() if isinstance(i, float)]\n",
    "import re\n",
    "result = re.findall(r\"[-+]?\\d*\\.\\d+|\\d+\", txtdata)\n",
    "print (result)\n",
    "\n",
    "#print(str(res))"
   ]
  },
  {
   "cell_type": "code",
   "execution_count": 44,
   "id": "d19fb475",
   "metadata": {},
   "outputs": [
    {
     "data": {
      "text/html": [
       "<div>\n",
       "<style scoped>\n",
       "    .dataframe tbody tr th:only-of-type {\n",
       "        vertical-align: middle;\n",
       "    }\n",
       "\n",
       "    .dataframe tbody tr th {\n",
       "        vertical-align: top;\n",
       "    }\n",
       "\n",
       "    .dataframe thead th {\n",
       "        text-align: right;\n",
       "    }\n",
       "</style>\n",
       "<table border=\"1\" class=\"dataframe\">\n",
       "  <thead>\n",
       "    <tr style=\"text-align: right;\">\n",
       "      <th></th>\n",
       "      <th>aluminium</th>\n",
       "      <th>ammonia</th>\n",
       "      <th>arsenic</th>\n",
       "      <th>barium</th>\n",
       "      <th>cadmium</th>\n",
       "      <th>chloramine</th>\n",
       "      <th>chromium</th>\n",
       "      <th>copper</th>\n",
       "      <th>flouride</th>\n",
       "      <th>bacteria</th>\n",
       "      <th>...</th>\n",
       "      <th>lead</th>\n",
       "      <th>nitrates</th>\n",
       "      <th>nitrites</th>\n",
       "      <th>mercury</th>\n",
       "      <th>perchlorate</th>\n",
       "      <th>radium</th>\n",
       "      <th>selenium</th>\n",
       "      <th>silver</th>\n",
       "      <th>uranium</th>\n",
       "      <th>is_safe</th>\n",
       "    </tr>\n",
       "  </thead>\n",
       "  <tbody>\n",
       "    <tr>\n",
       "      <th>0</th>\n",
       "      <td>1.65</td>\n",
       "      <td>9.08</td>\n",
       "      <td>0.04</td>\n",
       "      <td>2.85</td>\n",
       "      <td>0.007</td>\n",
       "      <td>0.35</td>\n",
       "      <td>0.83</td>\n",
       "      <td>0.17</td>\n",
       "      <td>0.05</td>\n",
       "      <td>0.20</td>\n",
       "      <td>...</td>\n",
       "      <td>0.054</td>\n",
       "      <td>16.08</td>\n",
       "      <td>1.13</td>\n",
       "      <td>0.007</td>\n",
       "      <td>37.75</td>\n",
       "      <td>6.78</td>\n",
       "      <td>0.08</td>\n",
       "      <td>0.34</td>\n",
       "      <td>0.02</td>\n",
       "      <td>1</td>\n",
       "    </tr>\n",
       "    <tr>\n",
       "      <th>1</th>\n",
       "      <td>2.32</td>\n",
       "      <td>21.16</td>\n",
       "      <td>0.01</td>\n",
       "      <td>3.31</td>\n",
       "      <td>0.002</td>\n",
       "      <td>5.28</td>\n",
       "      <td>0.68</td>\n",
       "      <td>0.66</td>\n",
       "      <td>0.90</td>\n",
       "      <td>0.65</td>\n",
       "      <td>...</td>\n",
       "      <td>0.100</td>\n",
       "      <td>2.01</td>\n",
       "      <td>1.93</td>\n",
       "      <td>0.003</td>\n",
       "      <td>32.26</td>\n",
       "      <td>3.21</td>\n",
       "      <td>0.08</td>\n",
       "      <td>0.27</td>\n",
       "      <td>0.05</td>\n",
       "      <td>1</td>\n",
       "    </tr>\n",
       "    <tr>\n",
       "      <th>2</th>\n",
       "      <td>1.01</td>\n",
       "      <td>14.02</td>\n",
       "      <td>0.04</td>\n",
       "      <td>0.58</td>\n",
       "      <td>0.008</td>\n",
       "      <td>4.24</td>\n",
       "      <td>0.53</td>\n",
       "      <td>0.02</td>\n",
       "      <td>0.99</td>\n",
       "      <td>0.05</td>\n",
       "      <td>...</td>\n",
       "      <td>0.078</td>\n",
       "      <td>14.16</td>\n",
       "      <td>1.11</td>\n",
       "      <td>0.006</td>\n",
       "      <td>50.28</td>\n",
       "      <td>7.07</td>\n",
       "      <td>0.07</td>\n",
       "      <td>0.44</td>\n",
       "      <td>0.01</td>\n",
       "      <td>0</td>\n",
       "    </tr>\n",
       "    <tr>\n",
       "      <th>3</th>\n",
       "      <td>1.36</td>\n",
       "      <td>11.33</td>\n",
       "      <td>0.04</td>\n",
       "      <td>2.96</td>\n",
       "      <td>0.001</td>\n",
       "      <td>7.23</td>\n",
       "      <td>0.03</td>\n",
       "      <td>1.66</td>\n",
       "      <td>1.08</td>\n",
       "      <td>0.71</td>\n",
       "      <td>...</td>\n",
       "      <td>0.016</td>\n",
       "      <td>1.41</td>\n",
       "      <td>1.29</td>\n",
       "      <td>0.004</td>\n",
       "      <td>9.12</td>\n",
       "      <td>1.72</td>\n",
       "      <td>0.02</td>\n",
       "      <td>0.45</td>\n",
       "      <td>0.05</td>\n",
       "      <td>1</td>\n",
       "    </tr>\n",
       "    <tr>\n",
       "      <th>4</th>\n",
       "      <td>0.92</td>\n",
       "      <td>24.33</td>\n",
       "      <td>0.03</td>\n",
       "      <td>0.20</td>\n",
       "      <td>0.006</td>\n",
       "      <td>2.67</td>\n",
       "      <td>0.69</td>\n",
       "      <td>0.57</td>\n",
       "      <td>0.61</td>\n",
       "      <td>0.13</td>\n",
       "      <td>...</td>\n",
       "      <td>0.117</td>\n",
       "      <td>6.74</td>\n",
       "      <td>1.11</td>\n",
       "      <td>0.003</td>\n",
       "      <td>16.90</td>\n",
       "      <td>2.41</td>\n",
       "      <td>0.02</td>\n",
       "      <td>0.06</td>\n",
       "      <td>0.02</td>\n",
       "      <td>1</td>\n",
       "    </tr>\n",
       "    <tr>\n",
       "      <th>...</th>\n",
       "      <td>...</td>\n",
       "      <td>...</td>\n",
       "      <td>...</td>\n",
       "      <td>...</td>\n",
       "      <td>...</td>\n",
       "      <td>...</td>\n",
       "      <td>...</td>\n",
       "      <td>...</td>\n",
       "      <td>...</td>\n",
       "      <td>...</td>\n",
       "      <td>...</td>\n",
       "      <td>...</td>\n",
       "      <td>...</td>\n",
       "      <td>...</td>\n",
       "      <td>...</td>\n",
       "      <td>...</td>\n",
       "      <td>...</td>\n",
       "      <td>...</td>\n",
       "      <td>...</td>\n",
       "      <td>...</td>\n",
       "      <td>...</td>\n",
       "    </tr>\n",
       "    <tr>\n",
       "      <th>7994</th>\n",
       "      <td>0.05</td>\n",
       "      <td>7.78</td>\n",
       "      <td>0.00</td>\n",
       "      <td>1.95</td>\n",
       "      <td>0.040</td>\n",
       "      <td>0.10</td>\n",
       "      <td>0.03</td>\n",
       "      <td>0.03</td>\n",
       "      <td>1.37</td>\n",
       "      <td>0.00</td>\n",
       "      <td>...</td>\n",
       "      <td>0.197</td>\n",
       "      <td>14.29</td>\n",
       "      <td>1.00</td>\n",
       "      <td>0.005</td>\n",
       "      <td>3.57</td>\n",
       "      <td>2.13</td>\n",
       "      <td>0.09</td>\n",
       "      <td>0.06</td>\n",
       "      <td>0.03</td>\n",
       "      <td>1</td>\n",
       "    </tr>\n",
       "    <tr>\n",
       "      <th>7995</th>\n",
       "      <td>0.05</td>\n",
       "      <td>24.22</td>\n",
       "      <td>0.02</td>\n",
       "      <td>0.59</td>\n",
       "      <td>0.010</td>\n",
       "      <td>0.45</td>\n",
       "      <td>0.02</td>\n",
       "      <td>0.02</td>\n",
       "      <td>1.48</td>\n",
       "      <td>0.00</td>\n",
       "      <td>...</td>\n",
       "      <td>0.031</td>\n",
       "      <td>10.27</td>\n",
       "      <td>1.00</td>\n",
       "      <td>0.001</td>\n",
       "      <td>1.48</td>\n",
       "      <td>1.11</td>\n",
       "      <td>0.09</td>\n",
       "      <td>0.10</td>\n",
       "      <td>0.08</td>\n",
       "      <td>1</td>\n",
       "    </tr>\n",
       "    <tr>\n",
       "      <th>7996</th>\n",
       "      <td>0.09</td>\n",
       "      <td>6.85</td>\n",
       "      <td>0.00</td>\n",
       "      <td>0.61</td>\n",
       "      <td>0.030</td>\n",
       "      <td>0.05</td>\n",
       "      <td>0.05</td>\n",
       "      <td>0.02</td>\n",
       "      <td>0.91</td>\n",
       "      <td>0.00</td>\n",
       "      <td>...</td>\n",
       "      <td>0.182</td>\n",
       "      <td>15.92</td>\n",
       "      <td>1.00</td>\n",
       "      <td>0.000</td>\n",
       "      <td>1.35</td>\n",
       "      <td>4.84</td>\n",
       "      <td>0.00</td>\n",
       "      <td>0.04</td>\n",
       "      <td>0.05</td>\n",
       "      <td>1</td>\n",
       "    </tr>\n",
       "    <tr>\n",
       "      <th>7997</th>\n",
       "      <td>0.01</td>\n",
       "      <td>10</td>\n",
       "      <td>0.01</td>\n",
       "      <td>2.00</td>\n",
       "      <td>0.000</td>\n",
       "      <td>2.00</td>\n",
       "      <td>0.00</td>\n",
       "      <td>0.09</td>\n",
       "      <td>0.00</td>\n",
       "      <td>0.00</td>\n",
       "      <td>...</td>\n",
       "      <td>0.000</td>\n",
       "      <td>0.00</td>\n",
       "      <td>0.00</td>\n",
       "      <td>0.000</td>\n",
       "      <td>0.00</td>\n",
       "      <td>0.00</td>\n",
       "      <td>0.00</td>\n",
       "      <td>0.00</td>\n",
       "      <td>0.00</td>\n",
       "      <td>1</td>\n",
       "    </tr>\n",
       "    <tr>\n",
       "      <th>7998</th>\n",
       "      <td>0.04</td>\n",
       "      <td>6.85</td>\n",
       "      <td>0.01</td>\n",
       "      <td>0.70</td>\n",
       "      <td>0.030</td>\n",
       "      <td>0.05</td>\n",
       "      <td>0.01</td>\n",
       "      <td>0.03</td>\n",
       "      <td>1.00</td>\n",
       "      <td>0.00</td>\n",
       "      <td>...</td>\n",
       "      <td>0.182</td>\n",
       "      <td>15.92</td>\n",
       "      <td>1.00</td>\n",
       "      <td>0.000</td>\n",
       "      <td>1.35</td>\n",
       "      <td>4.84</td>\n",
       "      <td>0.00</td>\n",
       "      <td>0.04</td>\n",
       "      <td>0.05</td>\n",
       "      <td>1</td>\n",
       "    </tr>\n",
       "  </tbody>\n",
       "</table>\n",
       "<p>7999 rows × 21 columns</p>\n",
       "</div>"
      ],
      "text/plain": [
       "      aluminium ammonia  arsenic  barium  cadmium  chloramine  chromium  \\\n",
       "0          1.65    9.08     0.04    2.85    0.007        0.35      0.83   \n",
       "1          2.32   21.16     0.01    3.31    0.002        5.28      0.68   \n",
       "2          1.01   14.02     0.04    0.58    0.008        4.24      0.53   \n",
       "3          1.36   11.33     0.04    2.96    0.001        7.23      0.03   \n",
       "4          0.92   24.33     0.03    0.20    0.006        2.67      0.69   \n",
       "...         ...     ...      ...     ...      ...         ...       ...   \n",
       "7994       0.05    7.78     0.00    1.95    0.040        0.10      0.03   \n",
       "7995       0.05   24.22     0.02    0.59    0.010        0.45      0.02   \n",
       "7996       0.09    6.85     0.00    0.61    0.030        0.05      0.05   \n",
       "7997       0.01      10     0.01    2.00    0.000        2.00      0.00   \n",
       "7998       0.04    6.85     0.01    0.70    0.030        0.05      0.01   \n",
       "\n",
       "      copper  flouride  bacteria  ...   lead  nitrates  nitrites  mercury  \\\n",
       "0       0.17      0.05      0.20  ...  0.054     16.08      1.13    0.007   \n",
       "1       0.66      0.90      0.65  ...  0.100      2.01      1.93    0.003   \n",
       "2       0.02      0.99      0.05  ...  0.078     14.16      1.11    0.006   \n",
       "3       1.66      1.08      0.71  ...  0.016      1.41      1.29    0.004   \n",
       "4       0.57      0.61      0.13  ...  0.117      6.74      1.11    0.003   \n",
       "...      ...       ...       ...  ...    ...       ...       ...      ...   \n",
       "7994    0.03      1.37      0.00  ...  0.197     14.29      1.00    0.005   \n",
       "7995    0.02      1.48      0.00  ...  0.031     10.27      1.00    0.001   \n",
       "7996    0.02      0.91      0.00  ...  0.182     15.92      1.00    0.000   \n",
       "7997    0.09      0.00      0.00  ...  0.000      0.00      0.00    0.000   \n",
       "7998    0.03      1.00      0.00  ...  0.182     15.92      1.00    0.000   \n",
       "\n",
       "      perchlorate  radium  selenium  silver  uranium  is_safe  \n",
       "0           37.75    6.78      0.08    0.34     0.02        1  \n",
       "1           32.26    3.21      0.08    0.27     0.05        1  \n",
       "2           50.28    7.07      0.07    0.44     0.01        0  \n",
       "3            9.12    1.72      0.02    0.45     0.05        1  \n",
       "4           16.90    2.41      0.02    0.06     0.02        1  \n",
       "...           ...     ...       ...     ...      ...      ...  \n",
       "7994         3.57    2.13      0.09    0.06     0.03        1  \n",
       "7995         1.48    1.11      0.09    0.10     0.08        1  \n",
       "7996         1.35    4.84      0.00    0.04     0.05        1  \n",
       "7997         0.00    0.00      0.00    0.00     0.00        1  \n",
       "7998         1.35    4.84      0.00    0.04     0.05        1  \n",
       "\n",
       "[7999 rows x 21 columns]"
      ]
     },
     "execution_count": 44,
     "metadata": {},
     "output_type": "execute_result"
    }
   ],
   "source": [
    "Data=pd.read_csv('waterQuality1.csv')\n",
    "Data"
   ]
  },
  {
   "cell_type": "code",
   "execution_count": 45,
   "id": "c2049a1a",
   "metadata": {},
   "outputs": [
    {
     "name": "stdout",
     "output_type": "stream",
     "text": [
      "<class 'pandas.core.frame.DataFrame'>\n",
      "RangeIndex: 7999 entries, 0 to 7998\n",
      "Data columns (total 21 columns):\n",
      " #   Column       Non-Null Count  Dtype  \n",
      "---  ------       --------------  -----  \n",
      " 0   aluminium    7999 non-null   float64\n",
      " 1   ammonia      7999 non-null   float64\n",
      " 2   arsenic      7999 non-null   float64\n",
      " 3   barium       7999 non-null   float64\n",
      " 4   cadmium      7999 non-null   float64\n",
      " 5   chloramine   7999 non-null   float64\n",
      " 6   chromium     7999 non-null   float64\n",
      " 7   copper       7999 non-null   float64\n",
      " 8   flouride     7999 non-null   float64\n",
      " 9   bacteria     7999 non-null   float64\n",
      " 10  viruses      7999 non-null   float64\n",
      " 11  lead         7999 non-null   float64\n",
      " 12  nitrates     7999 non-null   float64\n",
      " 13  nitrites     7999 non-null   float64\n",
      " 14  mercury      7999 non-null   float64\n",
      " 15  perchlorate  7999 non-null   float64\n",
      " 16  radium       7999 non-null   float64\n",
      " 17  selenium     7999 non-null   float64\n",
      " 18  silver       7999 non-null   float64\n",
      " 19  uranium      7999 non-null   float64\n",
      " 20  is_safe      7999 non-null   object \n",
      "dtypes: float64(20), object(1)\n",
      "memory usage: 1.3+ MB\n"
     ]
    }
   ],
   "source": [
    "AmmoniaData=[]\n",
    "for i in range(len(Data)):\n",
    "    k=Data.loc[i,'ammonia']\n",
    "    if k=='#NUM!':\n",
    "        AmmoniaData+=[0]\n",
    "    else:\n",
    "        AmmoniaData+=[float(k)]\n",
    "Data['ammonia']=AmmoniaData\n",
    "\n",
    "Data.info()"
   ]
  },
  {
   "cell_type": "code",
   "execution_count": 46,
   "id": "1848796f",
   "metadata": {},
   "outputs": [],
   "source": [
    "OriginalDataForLDA=Data.copy()\n",
    "OriginalData=Data.copy()"
   ]
  },
  {
   "cell_type": "code",
   "execution_count": 47,
   "id": "a4773213",
   "metadata": {},
   "outputs": [],
   "source": [
    "indexNames = OriginalDataForLDA[OriginalDataForLDA['is_safe'] == \"#NUM!\" ].index\n",
    "#Delete these row indexes from dataFrame\n",
    "OriginalDataForLDA.drop(indexNames , inplace=True)"
   ]
  },
  {
   "cell_type": "code",
   "execution_count": 48,
   "id": "bf2ec5d4",
   "metadata": {},
   "outputs": [],
   "source": [
    "# separate safe and not safe data\n",
    "data_0 = OriginalDataForLDA[OriginalDataForLDA['is_safe'] == '0']\n",
    "data_1 = OriginalDataForLDA[OriginalDataForLDA['is_safe'] == '1']"
   ]
  },
  {
   "cell_type": "code",
   "execution_count": 49,
   "id": "8ba153f2",
   "metadata": {},
   "outputs": [],
   "source": [
    "data_0 = data_0.sample(n=7084)"
   ]
  },
  {
   "cell_type": "code",
   "execution_count": 50,
   "id": "8cad3015",
   "metadata": {},
   "outputs": [
    {
     "data": {
      "text/plain": [
       "0    7084\n",
       "1     912\n",
       "Name: is_safe, dtype: int64"
      ]
     },
     "execution_count": 50,
     "metadata": {},
     "output_type": "execute_result"
    }
   ],
   "source": [
    "#put the issafe column together again\n",
    "data_isSafe = data_1.append(data_0)\n",
    "data_isSafe.is_safe.value_counts()"
   ]
  },
  {
   "cell_type": "code",
   "execution_count": 51,
   "id": "a7678f07",
   "metadata": {},
   "outputs": [],
   "source": [
    "u = data_isSafe.iloc[:, :-1]\n",
    "v = data_isSafe.iloc[:, -1]"
   ]
  },
  {
   "cell_type": "markdown",
   "id": "968a8b23",
   "metadata": {},
   "source": [
    "### Resampling"
   ]
  },
  {
   "cell_type": "code",
   "execution_count": 52,
   "id": "c085b894",
   "metadata": {},
   "outputs": [
    {
     "name": "stdout",
     "output_type": "stream",
     "text": [
      "original dataset shape: Counter({'0': 7084, '1': 912})\n",
      "Resample dataset shape Counter({'0': 912, '1': 912})\n"
     ]
    }
   ],
   "source": [
    "# import library\n",
    "import imblearn\n",
    "# import library\n",
    "from imblearn.under_sampling import RandomUnderSampler\n",
    "\n",
    "rus = RandomUnderSampler(random_state=42, replacement=True)\n",
    "\n",
    "# fit predictor and target varialbe\n",
    "u_rus, v_rus = rus.fit_resample(u, v)\n",
    "\n",
    "print('original dataset shape:', Counter(v))\n",
    "print('Resample dataset shape', Counter(v_rus))"
   ]
  },
  {
   "cell_type": "code",
   "execution_count": 53,
   "id": "d3ce0807",
   "metadata": {},
   "outputs": [],
   "source": [
    "resampled=v_rus\n",
    "resampled_variable=u_rus"
   ]
  },
  {
   "cell_type": "code",
   "execution_count": 54,
   "id": "a12c7932",
   "metadata": {},
   "outputs": [],
   "source": [
    "resampled = resampled.to_frame(name=\"is_safe\")"
   ]
  },
  {
   "cell_type": "code",
   "execution_count": 55,
   "id": "7e106e10",
   "metadata": {},
   "outputs": [
    {
     "data": {
      "text/plain": [
       "<seaborn.axisgrid.FacetGrid at 0x2eeb2a36370>"
      ]
     },
     "execution_count": 55,
     "metadata": {},
     "output_type": "execute_result"
    },
    {
     "data": {
      "image/png": "[encoded data removed]",
      "text/plain": [
       "<Figure size 360x360 with 1 Axes>"
      ]
     },
     "metadata": {},
     "output_type": "display_data"
    }
   ],
   "source": [
    "sb.catplot(y = 'is_safe', data = resampled, kind = \"count\")"
   ]
  },
  {
   "cell_type": "markdown",
   "id": "2aae74a9",
   "metadata": {},
   "source": [
    "The number of safe data and not safe data are now equal"
   ]
  },
  {
   "cell_type": "code",
   "execution_count": 56,
   "id": "71768144",
   "metadata": {},
   "outputs": [
    {
     "data": {
      "text/html": [
       "<div>\n",
       "<style scoped>\n",
       "    .dataframe tbody tr th:only-of-type {\n",
       "        vertical-align: middle;\n",
       "    }\n",
       "\n",
       "    .dataframe tbody tr th {\n",
       "        vertical-align: top;\n",
       "    }\n",
       "\n",
       "    .dataframe thead th {\n",
       "        text-align: right;\n",
       "    }\n",
       "</style>\n",
       "<table border=\"1\" class=\"dataframe\">\n",
       "  <thead>\n",
       "    <tr style=\"text-align: right;\">\n",
       "      <th></th>\n",
       "      <th>aluminium</th>\n",
       "      <th>ammonia</th>\n",
       "      <th>arsenic</th>\n",
       "      <th>barium</th>\n",
       "      <th>cadmium</th>\n",
       "      <th>chloramine</th>\n",
       "      <th>chromium</th>\n",
       "      <th>copper</th>\n",
       "      <th>flouride</th>\n",
       "      <th>bacteria</th>\n",
       "      <th>...</th>\n",
       "      <th>lead</th>\n",
       "      <th>nitrates</th>\n",
       "      <th>nitrites</th>\n",
       "      <th>mercury</th>\n",
       "      <th>perchlorate</th>\n",
       "      <th>radium</th>\n",
       "      <th>selenium</th>\n",
       "      <th>silver</th>\n",
       "      <th>uranium</th>\n",
       "      <th>is_safe</th>\n",
       "    </tr>\n",
       "  </thead>\n",
       "  <tbody>\n",
       "    <tr>\n",
       "      <th>0</th>\n",
       "      <td>0.06</td>\n",
       "      <td>16.44</td>\n",
       "      <td>0.000</td>\n",
       "      <td>0.30</td>\n",
       "      <td>0.070</td>\n",
       "      <td>0.45</td>\n",
       "      <td>0.02</td>\n",
       "      <td>0.09</td>\n",
       "      <td>0.04</td>\n",
       "      <td>0.00</td>\n",
       "      <td>...</td>\n",
       "      <td>0.097</td>\n",
       "      <td>3.07</td>\n",
       "      <td>0.21</td>\n",
       "      <td>0.010</td>\n",
       "      <td>0.74</td>\n",
       "      <td>1.59</td>\n",
       "      <td>0.04</td>\n",
       "      <td>0.01</td>\n",
       "      <td>0.04</td>\n",
       "      <td>0</td>\n",
       "    </tr>\n",
       "    <tr>\n",
       "      <th>1</th>\n",
       "      <td>0.19</td>\n",
       "      <td>27.55</td>\n",
       "      <td>0.001</td>\n",
       "      <td>3.27</td>\n",
       "      <td>0.002</td>\n",
       "      <td>1.03</td>\n",
       "      <td>0.13</td>\n",
       "      <td>0.93</td>\n",
       "      <td>0.85</td>\n",
       "      <td>0.10</td>\n",
       "      <td>...</td>\n",
       "      <td>0.167</td>\n",
       "      <td>15.41</td>\n",
       "      <td>1.29</td>\n",
       "      <td>0.010</td>\n",
       "      <td>59.26</td>\n",
       "      <td>0.80</td>\n",
       "      <td>0.07</td>\n",
       "      <td>0.07</td>\n",
       "      <td>0.00</td>\n",
       "      <td>0</td>\n",
       "    </tr>\n",
       "    <tr>\n",
       "      <th>2</th>\n",
       "      <td>4.37</td>\n",
       "      <td>4.83</td>\n",
       "      <td>0.390</td>\n",
       "      <td>0.86</td>\n",
       "      <td>0.130</td>\n",
       "      <td>6.27</td>\n",
       "      <td>0.65</td>\n",
       "      <td>0.20</td>\n",
       "      <td>0.86</td>\n",
       "      <td>0.10</td>\n",
       "      <td>...</td>\n",
       "      <td>0.191</td>\n",
       "      <td>19.10</td>\n",
       "      <td>1.70</td>\n",
       "      <td>0.007</td>\n",
       "      <td>37.51</td>\n",
       "      <td>3.49</td>\n",
       "      <td>0.00</td>\n",
       "      <td>0.43</td>\n",
       "      <td>0.02</td>\n",
       "      <td>0</td>\n",
       "    </tr>\n",
       "    <tr>\n",
       "      <th>3</th>\n",
       "      <td>0.22</td>\n",
       "      <td>6.92</td>\n",
       "      <td>0.030</td>\n",
       "      <td>1.13</td>\n",
       "      <td>0.005</td>\n",
       "      <td>7.24</td>\n",
       "      <td>0.47</td>\n",
       "      <td>0.33</td>\n",
       "      <td>0.82</td>\n",
       "      <td>0.29</td>\n",
       "      <td>...</td>\n",
       "      <td>0.093</td>\n",
       "      <td>1.51</td>\n",
       "      <td>1.00</td>\n",
       "      <td>0.004</td>\n",
       "      <td>25.81</td>\n",
       "      <td>0.45</td>\n",
       "      <td>0.03</td>\n",
       "      <td>0.30</td>\n",
       "      <td>0.05</td>\n",
       "      <td>0</td>\n",
       "    </tr>\n",
       "    <tr>\n",
       "      <th>4</th>\n",
       "      <td>3.57</td>\n",
       "      <td>1.97</td>\n",
       "      <td>1.010</td>\n",
       "      <td>2.91</td>\n",
       "      <td>0.020</td>\n",
       "      <td>2.02</td>\n",
       "      <td>0.32</td>\n",
       "      <td>0.94</td>\n",
       "      <td>0.26</td>\n",
       "      <td>0.00</td>\n",
       "      <td>...</td>\n",
       "      <td>0.023</td>\n",
       "      <td>11.20</td>\n",
       "      <td>1.52</td>\n",
       "      <td>0.003</td>\n",
       "      <td>51.01</td>\n",
       "      <td>4.23</td>\n",
       "      <td>0.06</td>\n",
       "      <td>0.03</td>\n",
       "      <td>0.04</td>\n",
       "      <td>0</td>\n",
       "    </tr>\n",
       "    <tr>\n",
       "      <th>...</th>\n",
       "      <td>...</td>\n",
       "      <td>...</td>\n",
       "      <td>...</td>\n",
       "      <td>...</td>\n",
       "      <td>...</td>\n",
       "      <td>...</td>\n",
       "      <td>...</td>\n",
       "      <td>...</td>\n",
       "      <td>...</td>\n",
       "      <td>...</td>\n",
       "      <td>...</td>\n",
       "      <td>...</td>\n",
       "      <td>...</td>\n",
       "      <td>...</td>\n",
       "      <td>...</td>\n",
       "      <td>...</td>\n",
       "      <td>...</td>\n",
       "      <td>...</td>\n",
       "      <td>...</td>\n",
       "      <td>...</td>\n",
       "      <td>...</td>\n",
       "    </tr>\n",
       "    <tr>\n",
       "      <th>1819</th>\n",
       "      <td>0.05</td>\n",
       "      <td>7.78</td>\n",
       "      <td>0.000</td>\n",
       "      <td>1.95</td>\n",
       "      <td>0.040</td>\n",
       "      <td>0.10</td>\n",
       "      <td>0.03</td>\n",
       "      <td>0.03</td>\n",
       "      <td>1.37</td>\n",
       "      <td>0.00</td>\n",
       "      <td>...</td>\n",
       "      <td>0.197</td>\n",
       "      <td>14.29</td>\n",
       "      <td>1.00</td>\n",
       "      <td>0.005</td>\n",
       "      <td>3.57</td>\n",
       "      <td>2.13</td>\n",
       "      <td>0.09</td>\n",
       "      <td>0.06</td>\n",
       "      <td>0.03</td>\n",
       "      <td>1</td>\n",
       "    </tr>\n",
       "    <tr>\n",
       "      <th>1820</th>\n",
       "      <td>0.05</td>\n",
       "      <td>24.22</td>\n",
       "      <td>0.020</td>\n",
       "      <td>0.59</td>\n",
       "      <td>0.010</td>\n",
       "      <td>0.45</td>\n",
       "      <td>0.02</td>\n",
       "      <td>0.02</td>\n",
       "      <td>1.48</td>\n",
       "      <td>0.00</td>\n",
       "      <td>...</td>\n",
       "      <td>0.031</td>\n",
       "      <td>10.27</td>\n",
       "      <td>1.00</td>\n",
       "      <td>0.001</td>\n",
       "      <td>1.48</td>\n",
       "      <td>1.11</td>\n",
       "      <td>0.09</td>\n",
       "      <td>0.10</td>\n",
       "      <td>0.08</td>\n",
       "      <td>1</td>\n",
       "    </tr>\n",
       "    <tr>\n",
       "      <th>1821</th>\n",
       "      <td>0.09</td>\n",
       "      <td>6.85</td>\n",
       "      <td>0.000</td>\n",
       "      <td>0.61</td>\n",
       "      <td>0.030</td>\n",
       "      <td>0.05</td>\n",
       "      <td>0.05</td>\n",
       "      <td>0.02</td>\n",
       "      <td>0.91</td>\n",
       "      <td>0.00</td>\n",
       "      <td>...</td>\n",
       "      <td>0.182</td>\n",
       "      <td>15.92</td>\n",
       "      <td>1.00</td>\n",
       "      <td>0.000</td>\n",
       "      <td>1.35</td>\n",
       "      <td>4.84</td>\n",
       "      <td>0.00</td>\n",
       "      <td>0.04</td>\n",
       "      <td>0.05</td>\n",
       "      <td>1</td>\n",
       "    </tr>\n",
       "    <tr>\n",
       "      <th>1822</th>\n",
       "      <td>0.01</td>\n",
       "      <td>10.00</td>\n",
       "      <td>0.010</td>\n",
       "      <td>2.00</td>\n",
       "      <td>0.000</td>\n",
       "      <td>2.00</td>\n",
       "      <td>0.00</td>\n",
       "      <td>0.09</td>\n",
       "      <td>0.00</td>\n",
       "      <td>0.00</td>\n",
       "      <td>...</td>\n",
       "      <td>0.000</td>\n",
       "      <td>0.00</td>\n",
       "      <td>0.00</td>\n",
       "      <td>0.000</td>\n",
       "      <td>0.00</td>\n",
       "      <td>0.00</td>\n",
       "      <td>0.00</td>\n",
       "      <td>0.00</td>\n",
       "      <td>0.00</td>\n",
       "      <td>1</td>\n",
       "    </tr>\n",
       "    <tr>\n",
       "      <th>1823</th>\n",
       "      <td>0.04</td>\n",
       "      <td>6.85</td>\n",
       "      <td>0.010</td>\n",
       "      <td>0.70</td>\n",
       "      <td>0.030</td>\n",
       "      <td>0.05</td>\n",
       "      <td>0.01</td>\n",
       "      <td>0.03</td>\n",
       "      <td>1.00</td>\n",
       "      <td>0.00</td>\n",
       "      <td>...</td>\n",
       "      <td>0.182</td>\n",
       "      <td>15.92</td>\n",
       "      <td>1.00</td>\n",
       "      <td>0.000</td>\n",
       "      <td>1.35</td>\n",
       "      <td>4.84</td>\n",
       "      <td>0.00</td>\n",
       "      <td>0.04</td>\n",
       "      <td>0.05</td>\n",
       "      <td>1</td>\n",
       "    </tr>\n",
       "  </tbody>\n",
       "</table>\n",
       "<p>1824 rows × 21 columns</p>\n",
       "</div>"
      ],
      "text/plain": [
       "      aluminium  ammonia  arsenic  barium  cadmium  chloramine  chromium  \\\n",
       "0          0.06    16.44    0.000    0.30    0.070        0.45      0.02   \n",
       "1          0.19    27.55    0.001    3.27    0.002        1.03      0.13   \n",
       "2          4.37     4.83    0.390    0.86    0.130        6.27      0.65   \n",
       "3          0.22     6.92    0.030    1.13    0.005        7.24      0.47   \n",
       "4          3.57     1.97    1.010    2.91    0.020        2.02      0.32   \n",
       "...         ...      ...      ...     ...      ...         ...       ...   \n",
       "1819       0.05     7.78    0.000    1.95    0.040        0.10      0.03   \n",
       "1820       0.05    24.22    0.020    0.59    0.010        0.45      0.02   \n",
       "1821       0.09     6.85    0.000    0.61    0.030        0.05      0.05   \n",
       "1822       0.01    10.00    0.010    2.00    0.000        2.00      0.00   \n",
       "1823       0.04     6.85    0.010    0.70    0.030        0.05      0.01   \n",
       "\n",
       "      copper  flouride  bacteria  ...   lead  nitrates  nitrites  mercury  \\\n",
       "0       0.09      0.04      0.00  ...  0.097      3.07      0.21    0.010   \n",
       "1       0.93      0.85      0.10  ...  0.167     15.41      1.29    0.010   \n",
       "2       0.20      0.86      0.10  ...  0.191     19.10      1.70    0.007   \n",
       "3       0.33      0.82      0.29  ...  0.093      1.51      1.00    0.004   \n",
       "4       0.94      0.26      0.00  ...  0.023     11.20      1.52    0.003   \n",
       "...      ...       ...       ...  ...    ...       ...       ...      ...   \n",
       "1819    0.03      1.37      0.00  ...  0.197     14.29      1.00    0.005   \n",
       "1820    0.02      1.48      0.00  ...  0.031     10.27      1.00    0.001   \n",
       "1821    0.02      0.91      0.00  ...  0.182     15.92      1.00    0.000   \n",
       "1822    0.09      0.00      0.00  ...  0.000      0.00      0.00    0.000   \n",
       "1823    0.03      1.00      0.00  ...  0.182     15.92      1.00    0.000   \n",
       "\n",
       "      perchlorate  radium  selenium  silver  uranium  is_safe  \n",
       "0            0.74    1.59      0.04    0.01     0.04        0  \n",
       "1           59.26    0.80      0.07    0.07     0.00        0  \n",
       "2           37.51    3.49      0.00    0.43     0.02        0  \n",
       "3           25.81    0.45      0.03    0.30     0.05        0  \n",
       "4           51.01    4.23      0.06    0.03     0.04        0  \n",
       "...           ...     ...       ...     ...      ...      ...  \n",
       "1819         3.57    2.13      0.09    0.06     0.03        1  \n",
       "1820         1.48    1.11      0.09    0.10     0.08        1  \n",
       "1821         1.35    4.84      0.00    0.04     0.05        1  \n",
       "1822         0.00    0.00      0.00    0.00     0.00        1  \n",
       "1823         1.35    4.84      0.00    0.04     0.05        1  \n",
       "\n",
       "[1824 rows x 21 columns]"
      ]
     },
     "execution_count": 56,
     "metadata": {},
     "output_type": "execute_result"
    }
   ],
   "source": [
    "# combine the data together again\n",
    "OriginalDataForLDA=resampled_variable\n",
    "OriginalDataForLDA[\"is_safe\"]=resampled\n",
    "OriginalDataForLDA"
   ]
  },
  {
   "cell_type": "code",
   "execution_count": 57,
   "id": "0c466bd7",
   "metadata": {},
   "outputs": [],
   "source": [
    "DescribeFrame=Data.describe()"
   ]
  },
  {
   "cell_type": "code",
   "execution_count": 58,
   "id": "ccbb0c7d",
   "metadata": {},
   "outputs": [
    {
     "name": "stdout",
     "output_type": "stream",
     "text": [
      "['aluminium', 'ammonia', 'arsenic', 'barium', 'cadmium', 'chloramine', 'chromium', 'copper', 'flouride', 'bacteria', 'viruses', 'lead', 'nitrates', 'nitrites', 'mercury', 'perchlorate', 'radium', 'selenium', 'silver', 'uranium', 'is_safe']\n",
      "[5.05, 29.84, 1.05, 4.94, 0.13, 8.68, 0.9, 2.0, 1.5, 1.0, 1.0, 0.2, 19.83, 2.93, 0.01, 60.01, 7.99, 0.1, 0.5, 0.09]\n",
      "['2.8', '32.5', '0.01', '2', '0.005', '4', '0.1', '1.3', '1.5', '0', '0', '0.015', '10', '1', '0.002', '56', '5', '0.5', '0.1', '0.3', '0', '1']\n"
     ]
    }
   ],
   "source": [
    "ColList=list(Data.columns)\n",
    "print(ColList)\n",
    "MaxCount=DescribeFrame.iloc[7]\n",
    "Max_list =MaxCount.tolist()\n",
    "print(Max_list)\n",
    "print (result)"
   ]
  },
  {
   "cell_type": "code",
   "execution_count": 59,
   "id": "06c12029",
   "metadata": {},
   "outputs": [],
   "source": [
    "for j in range (19):\n",
    "    if float(Max_list[j])<=float(result[j]):\n",
    "        OriginalDataForLDA[str(ColList[j]+'_bin')]= pd.cut(Data.iloc[:,j],\n",
    "                           [-0.001, float(result[j]), 100.00],\n",
    "                           labels=['Safe', 'Dangerous'])\n",
    "    else:\n",
    "        OriginalDataForLDA[str(ColList[j]+'_bin')]= pd.cut(Data.iloc[:,j],\n",
    "                           [-0.001, float(result[j]), float(Max_list[j])],\n",
    "                           labels=['Safe', 'Dangerous'])"
   ]
  },
  {
   "cell_type": "code",
   "execution_count": 60,
   "id": "646194c6",
   "metadata": {},
   "outputs": [
    {
     "data": {
      "text/html": [
       "<div>\n",
       "<style scoped>\n",
       "    .dataframe tbody tr th:only-of-type {\n",
       "        vertical-align: middle;\n",
       "    }\n",
       "\n",
       "    .dataframe tbody tr th {\n",
       "        vertical-align: top;\n",
       "    }\n",
       "\n",
       "    .dataframe thead th {\n",
       "        text-align: right;\n",
       "    }\n",
       "</style>\n",
       "<table border=\"1\" class=\"dataframe\">\n",
       "  <thead>\n",
       "    <tr style=\"text-align: right;\">\n",
       "      <th></th>\n",
       "      <th>aluminium</th>\n",
       "      <th>ammonia</th>\n",
       "      <th>arsenic</th>\n",
       "      <th>barium</th>\n",
       "      <th>cadmium</th>\n",
       "      <th>chloramine</th>\n",
       "      <th>chromium</th>\n",
       "      <th>copper</th>\n",
       "      <th>flouride</th>\n",
       "      <th>bacteria</th>\n",
       "      <th>...</th>\n",
       "      <th>bacteria_bin</th>\n",
       "      <th>viruses_bin</th>\n",
       "      <th>lead_bin</th>\n",
       "      <th>nitrates_bin</th>\n",
       "      <th>nitrites_bin</th>\n",
       "      <th>mercury_bin</th>\n",
       "      <th>perchlorate_bin</th>\n",
       "      <th>radium_bin</th>\n",
       "      <th>selenium_bin</th>\n",
       "      <th>silver_bin</th>\n",
       "    </tr>\n",
       "  </thead>\n",
       "  <tbody>\n",
       "    <tr>\n",
       "      <th>0</th>\n",
       "      <td>0.06</td>\n",
       "      <td>16.44</td>\n",
       "      <td>0.000</td>\n",
       "      <td>0.30</td>\n",
       "      <td>0.070</td>\n",
       "      <td>0.45</td>\n",
       "      <td>0.02</td>\n",
       "      <td>0.09</td>\n",
       "      <td>0.04</td>\n",
       "      <td>0.00</td>\n",
       "      <td>...</td>\n",
       "      <td>Dangerous</td>\n",
       "      <td>Safe</td>\n",
       "      <td>Dangerous</td>\n",
       "      <td>Dangerous</td>\n",
       "      <td>Dangerous</td>\n",
       "      <td>Dangerous</td>\n",
       "      <td>Safe</td>\n",
       "      <td>Dangerous</td>\n",
       "      <td>Safe</td>\n",
       "      <td>Dangerous</td>\n",
       "    </tr>\n",
       "    <tr>\n",
       "      <th>1</th>\n",
       "      <td>0.19</td>\n",
       "      <td>27.55</td>\n",
       "      <td>0.001</td>\n",
       "      <td>3.27</td>\n",
       "      <td>0.002</td>\n",
       "      <td>1.03</td>\n",
       "      <td>0.13</td>\n",
       "      <td>0.93</td>\n",
       "      <td>0.85</td>\n",
       "      <td>0.10</td>\n",
       "      <td>...</td>\n",
       "      <td>Dangerous</td>\n",
       "      <td>Dangerous</td>\n",
       "      <td>Dangerous</td>\n",
       "      <td>Safe</td>\n",
       "      <td>Dangerous</td>\n",
       "      <td>Dangerous</td>\n",
       "      <td>Safe</td>\n",
       "      <td>Safe</td>\n",
       "      <td>Safe</td>\n",
       "      <td>Dangerous</td>\n",
       "    </tr>\n",
       "    <tr>\n",
       "      <th>2</th>\n",
       "      <td>4.37</td>\n",
       "      <td>4.83</td>\n",
       "      <td>0.390</td>\n",
       "      <td>0.86</td>\n",
       "      <td>0.130</td>\n",
       "      <td>6.27</td>\n",
       "      <td>0.65</td>\n",
       "      <td>0.20</td>\n",
       "      <td>0.86</td>\n",
       "      <td>0.10</td>\n",
       "      <td>...</td>\n",
       "      <td>Dangerous</td>\n",
       "      <td>Dangerous</td>\n",
       "      <td>Dangerous</td>\n",
       "      <td>Dangerous</td>\n",
       "      <td>Dangerous</td>\n",
       "      <td>Dangerous</td>\n",
       "      <td>Safe</td>\n",
       "      <td>Dangerous</td>\n",
       "      <td>Safe</td>\n",
       "      <td>Dangerous</td>\n",
       "    </tr>\n",
       "    <tr>\n",
       "      <th>3</th>\n",
       "      <td>0.22</td>\n",
       "      <td>6.92</td>\n",
       "      <td>0.030</td>\n",
       "      <td>1.13</td>\n",
       "      <td>0.005</td>\n",
       "      <td>7.24</td>\n",
       "      <td>0.47</td>\n",
       "      <td>0.33</td>\n",
       "      <td>0.82</td>\n",
       "      <td>0.29</td>\n",
       "      <td>...</td>\n",
       "      <td>Dangerous</td>\n",
       "      <td>Dangerous</td>\n",
       "      <td>Dangerous</td>\n",
       "      <td>Safe</td>\n",
       "      <td>Dangerous</td>\n",
       "      <td>Dangerous</td>\n",
       "      <td>Safe</td>\n",
       "      <td>Safe</td>\n",
       "      <td>Safe</td>\n",
       "      <td>Dangerous</td>\n",
       "    </tr>\n",
       "    <tr>\n",
       "      <th>4</th>\n",
       "      <td>3.57</td>\n",
       "      <td>1.97</td>\n",
       "      <td>1.010</td>\n",
       "      <td>2.91</td>\n",
       "      <td>0.020</td>\n",
       "      <td>2.02</td>\n",
       "      <td>0.32</td>\n",
       "      <td>0.94</td>\n",
       "      <td>0.26</td>\n",
       "      <td>0.00</td>\n",
       "      <td>...</td>\n",
       "      <td>Dangerous</td>\n",
       "      <td>Dangerous</td>\n",
       "      <td>Dangerous</td>\n",
       "      <td>Safe</td>\n",
       "      <td>Dangerous</td>\n",
       "      <td>Dangerous</td>\n",
       "      <td>Safe</td>\n",
       "      <td>Safe</td>\n",
       "      <td>Safe</td>\n",
       "      <td>Safe</td>\n",
       "    </tr>\n",
       "    <tr>\n",
       "      <th>...</th>\n",
       "      <td>...</td>\n",
       "      <td>...</td>\n",
       "      <td>...</td>\n",
       "      <td>...</td>\n",
       "      <td>...</td>\n",
       "      <td>...</td>\n",
       "      <td>...</td>\n",
       "      <td>...</td>\n",
       "      <td>...</td>\n",
       "      <td>...</td>\n",
       "      <td>...</td>\n",
       "      <td>...</td>\n",
       "      <td>...</td>\n",
       "      <td>...</td>\n",
       "      <td>...</td>\n",
       "      <td>...</td>\n",
       "      <td>...</td>\n",
       "      <td>...</td>\n",
       "      <td>...</td>\n",
       "      <td>...</td>\n",
       "      <td>...</td>\n",
       "    </tr>\n",
       "    <tr>\n",
       "      <th>1819</th>\n",
       "      <td>0.05</td>\n",
       "      <td>7.78</td>\n",
       "      <td>0.000</td>\n",
       "      <td>1.95</td>\n",
       "      <td>0.040</td>\n",
       "      <td>0.10</td>\n",
       "      <td>0.03</td>\n",
       "      <td>0.03</td>\n",
       "      <td>1.37</td>\n",
       "      <td>0.00</td>\n",
       "      <td>...</td>\n",
       "      <td>Dangerous</td>\n",
       "      <td>Dangerous</td>\n",
       "      <td>Dangerous</td>\n",
       "      <td>Dangerous</td>\n",
       "      <td>Dangerous</td>\n",
       "      <td>Safe</td>\n",
       "      <td>Dangerous</td>\n",
       "      <td>Dangerous</td>\n",
       "      <td>Safe</td>\n",
       "      <td>Dangerous</td>\n",
       "    </tr>\n",
       "    <tr>\n",
       "      <th>1820</th>\n",
       "      <td>0.05</td>\n",
       "      <td>24.22</td>\n",
       "      <td>0.020</td>\n",
       "      <td>0.59</td>\n",
       "      <td>0.010</td>\n",
       "      <td>0.45</td>\n",
       "      <td>0.02</td>\n",
       "      <td>0.02</td>\n",
       "      <td>1.48</td>\n",
       "      <td>0.00</td>\n",
       "      <td>...</td>\n",
       "      <td>Dangerous</td>\n",
       "      <td>Dangerous</td>\n",
       "      <td>Dangerous</td>\n",
       "      <td>Safe</td>\n",
       "      <td>Dangerous</td>\n",
       "      <td>Dangerous</td>\n",
       "      <td>Safe</td>\n",
       "      <td>Safe</td>\n",
       "      <td>Safe</td>\n",
       "      <td>Dangerous</td>\n",
       "    </tr>\n",
       "    <tr>\n",
       "      <th>1821</th>\n",
       "      <td>0.09</td>\n",
       "      <td>6.85</td>\n",
       "      <td>0.000</td>\n",
       "      <td>0.61</td>\n",
       "      <td>0.030</td>\n",
       "      <td>0.05</td>\n",
       "      <td>0.05</td>\n",
       "      <td>0.02</td>\n",
       "      <td>0.91</td>\n",
       "      <td>0.00</td>\n",
       "      <td>...</td>\n",
       "      <td>Dangerous</td>\n",
       "      <td>Dangerous</td>\n",
       "      <td>Dangerous</td>\n",
       "      <td>Safe</td>\n",
       "      <td>Dangerous</td>\n",
       "      <td>Dangerous</td>\n",
       "      <td>Safe</td>\n",
       "      <td>Safe</td>\n",
       "      <td>Safe</td>\n",
       "      <td>Dangerous</td>\n",
       "    </tr>\n",
       "    <tr>\n",
       "      <th>1822</th>\n",
       "      <td>0.01</td>\n",
       "      <td>10.00</td>\n",
       "      <td>0.010</td>\n",
       "      <td>2.00</td>\n",
       "      <td>0.000</td>\n",
       "      <td>2.00</td>\n",
       "      <td>0.00</td>\n",
       "      <td>0.09</td>\n",
       "      <td>0.00</td>\n",
       "      <td>0.00</td>\n",
       "      <td>...</td>\n",
       "      <td>Dangerous</td>\n",
       "      <td>Dangerous</td>\n",
       "      <td>Dangerous</td>\n",
       "      <td>Dangerous</td>\n",
       "      <td>Dangerous</td>\n",
       "      <td>Safe</td>\n",
       "      <td>Safe</td>\n",
       "      <td>Safe</td>\n",
       "      <td>Safe</td>\n",
       "      <td>Dangerous</td>\n",
       "    </tr>\n",
       "    <tr>\n",
       "      <th>1823</th>\n",
       "      <td>0.04</td>\n",
       "      <td>6.85</td>\n",
       "      <td>0.010</td>\n",
       "      <td>0.70</td>\n",
       "      <td>0.030</td>\n",
       "      <td>0.05</td>\n",
       "      <td>0.01</td>\n",
       "      <td>0.03</td>\n",
       "      <td>1.00</td>\n",
       "      <td>0.00</td>\n",
       "      <td>...</td>\n",
       "      <td>Dangerous</td>\n",
       "      <td>Dangerous</td>\n",
       "      <td>Dangerous</td>\n",
       "      <td>Safe</td>\n",
       "      <td>Dangerous</td>\n",
       "      <td>Dangerous</td>\n",
       "      <td>Safe</td>\n",
       "      <td>Dangerous</td>\n",
       "      <td>Safe</td>\n",
       "      <td>Safe</td>\n",
       "    </tr>\n",
       "  </tbody>\n",
       "</table>\n",
       "<p>1824 rows × 40 columns</p>\n",
       "</div>"
      ],
      "text/plain": [
       "      aluminium  ammonia  arsenic  barium  cadmium  chloramine  chromium  \\\n",
       "0          0.06    16.44    0.000    0.30    0.070        0.45      0.02   \n",
       "1          0.19    27.55    0.001    3.27    0.002        1.03      0.13   \n",
       "2          4.37     4.83    0.390    0.86    0.130        6.27      0.65   \n",
       "3          0.22     6.92    0.030    1.13    0.005        7.24      0.47   \n",
       "4          3.57     1.97    1.010    2.91    0.020        2.02      0.32   \n",
       "...         ...      ...      ...     ...      ...         ...       ...   \n",
       "1819       0.05     7.78    0.000    1.95    0.040        0.10      0.03   \n",
       "1820       0.05    24.22    0.020    0.59    0.010        0.45      0.02   \n",
       "1821       0.09     6.85    0.000    0.61    0.030        0.05      0.05   \n",
       "1822       0.01    10.00    0.010    2.00    0.000        2.00      0.00   \n",
       "1823       0.04     6.85    0.010    0.70    0.030        0.05      0.01   \n",
       "\n",
       "      copper  flouride  bacteria  ...  bacteria_bin  viruses_bin   lead_bin  \\\n",
       "0       0.09      0.04      0.00  ...     Dangerous         Safe  Dangerous   \n",
       "1       0.93      0.85      0.10  ...     Dangerous    Dangerous  Dangerous   \n",
       "2       0.20      0.86      0.10  ...     Dangerous    Dangerous  Dangerous   \n",
       "3       0.33      0.82      0.29  ...     Dangerous    Dangerous  Dangerous   \n",
       "4       0.94      0.26      0.00  ...     Dangerous    Dangerous  Dangerous   \n",
       "...      ...       ...       ...  ...           ...          ...        ...   \n",
       "1819    0.03      1.37      0.00  ...     Dangerous    Dangerous  Dangerous   \n",
       "1820    0.02      1.48      0.00  ...     Dangerous    Dangerous  Dangerous   \n",
       "1821    0.02      0.91      0.00  ...     Dangerous    Dangerous  Dangerous   \n",
       "1822    0.09      0.00      0.00  ...     Dangerous    Dangerous  Dangerous   \n",
       "1823    0.03      1.00      0.00  ...     Dangerous    Dangerous  Dangerous   \n",
       "\n",
       "      nitrates_bin  nitrites_bin  mercury_bin  perchlorate_bin  radium_bin  \\\n",
       "0        Dangerous     Dangerous    Dangerous             Safe   Dangerous   \n",
       "1             Safe     Dangerous    Dangerous             Safe        Safe   \n",
       "2        Dangerous     Dangerous    Dangerous             Safe   Dangerous   \n",
       "3             Safe     Dangerous    Dangerous             Safe        Safe   \n",
       "4             Safe     Dangerous    Dangerous             Safe        Safe   \n",
       "...            ...           ...          ...              ...         ...   \n",
       "1819     Dangerous     Dangerous         Safe        Dangerous   Dangerous   \n",
       "1820          Safe     Dangerous    Dangerous             Safe        Safe   \n",
       "1821          Safe     Dangerous    Dangerous             Safe        Safe   \n",
       "1822     Dangerous     Dangerous         Safe             Safe        Safe   \n",
       "1823          Safe     Dangerous    Dangerous             Safe   Dangerous   \n",
       "\n",
       "      selenium_bin  silver_bin  \n",
       "0             Safe   Dangerous  \n",
       "1             Safe   Dangerous  \n",
       "2             Safe   Dangerous  \n",
       "3             Safe   Dangerous  \n",
       "4             Safe        Safe  \n",
       "...            ...         ...  \n",
       "1819          Safe   Dangerous  \n",
       "1820          Safe   Dangerous  \n",
       "1821          Safe   Dangerous  \n",
       "1822          Safe   Dangerous  \n",
       "1823          Safe        Safe  \n",
       "\n",
       "[1824 rows x 40 columns]"
      ]
     },
     "execution_count": 60,
     "metadata": {},
     "output_type": "execute_result"
    }
   ],
   "source": [
    "OriginalDataForLDA"
   ]
  },
  {
   "cell_type": "markdown",
   "id": "29447670",
   "metadata": {},
   "source": [
    "Through EDA, we have identified that `Arsenic`, `Cadmium` and `Uranium` might be key in deciding if the water is safe. We will now apply this to LDA and Random Forrest to compare accuracy."
   ]
  },
  {
   "cell_type": "markdown",
   "id": "52896480",
   "metadata": {},
   "source": [
    "### Random Forest"
   ]
  },
  {
   "cell_type": "code",
   "execution_count": 61,
   "id": "e302bf18",
   "metadata": {},
   "outputs": [],
   "source": [
    "# Extract Response and Predictors\n",
    "y = pd.DataFrame(OriginalDataForLDA[\"is_safe\"])\n",
    "X = pd.DataFrame(OriginalDataForLDA[[\"aluminium\",\"cadmium\",\"uranium\"]])"
   ]
  },
  {
   "cell_type": "code",
   "execution_count": 62,
   "id": "47fed729",
   "metadata": {},
   "outputs": [],
   "source": [
    "# necessary imports\n",
    "from sklearn.tree import DecisionTreeClassifier\n",
    "from sklearn.model_selection import train_test_split\n",
    "from sklearn.metrics import confusion_matrix\n",
    "from sklearn.metrics import classification_report\n",
    "from sklearn.ensemble import RandomForestClassifier"
   ]
  },
  {
   "cell_type": "code",
   "execution_count": 63,
   "id": "b566a7db",
   "metadata": {},
   "outputs": [],
   "source": [
    "X_train, X_test, y_train, y_test = train_test_split(X, y, test_size = 0.25)"
   ]
  },
  {
   "cell_type": "code",
   "execution_count": 64,
   "id": "862c5dd9",
   "metadata": {},
   "outputs": [
    {
     "name": "stdout",
     "output_type": "stream",
     "text": [
      "Train Accuracy: 0.9751461988304093\n",
      "Test Accuracy: 0.7960526315789473\n"
     ]
    }
   ],
   "source": [
    "#Create a Gaussian Classifier\n",
    "clf=RandomForestClassifier(n_estimators=100)\n",
    "\n",
    "#Train the model using the training sets y_pred=clf.predict(X_test)\n",
    "clf.fit(X_train,y_train.values.ravel())\n",
    "\n",
    "# prediction on test set\n",
    "y_pred=clf.predict(X_test)\n",
    "\n",
    "#Import scikit-learn metrics module for accuracy calculation\n",
    "from sklearn import metrics\n",
    "# Model Accuracy, how often is the classifier correct?\n",
    "y_pred_train= clf.predict(X_train)\n",
    "y_pred_test=clf.predict(X_test)\n",
    "print(\"Train Accuracy:\",metrics.accuracy_score(y_train, y_pred_train))\n",
    "print(\"Test Accuracy:\",metrics.accuracy_score(y_test, y_pred))"
   ]
  },
  {
   "cell_type": "code",
   "execution_count": 65,
   "id": "0bf63561",
   "metadata": {},
   "outputs": [
    {
     "name": "stdout",
     "output_type": "stream",
     "text": [
      "[[374 330]\n",
      " [371 293]]\n"
     ]
    }
   ],
   "source": [
    "print(confusion_matrix(y_train, y_train_pred))"
   ]
  },
  {
   "cell_type": "code",
   "execution_count": null,
   "id": "d8ae257d",
   "metadata": {},
   "outputs": [],
   "source": []
  },
  {
   "cell_type": "markdown",
   "id": "78dc926b",
   "metadata": {},
   "source": [
    "### LDA"
   ]
  },
  {
   "cell_type": "code",
   "execution_count": 66,
   "id": "1183ff72",
   "metadata": {},
   "outputs": [],
   "source": [
    "import plotly.express as px # for data visualization\n",
    "\n",
    "# Skleran\n",
    "from sklearn.preprocessing import StandardScaler # for data standardization\n",
    "from sklearn.metrics import classification_report # for model evaluation metrics\n",
    "from sklearn.tree import DecisionTreeClassifier # for decision tree models\n",
    "\n",
    "# Sklearn dimensionality reduction\n",
    "from sklearn.discriminant_analysis import LinearDiscriminantAnalysis as LDA # for LDA analysis\n",
    "from sklearn.decomposition import PCA # for PCA analysis"
   ]
  },
  {
   "cell_type": "code",
   "execution_count": 67,
   "id": "0c2edcc5",
   "metadata": {},
   "outputs": [
    {
     "data": {
      "application/vnd.plotly.v1+json": {
       "config": {
        "plotlyServerURL": "https://plot.ly"
       },
       "data": [
        {
         "customdata": [
          [
           0.45,
           "0"
          ],
          [
           1.03,
           "0"
          ],
          [
           6.27,
           "0"
          ],
          [
           7.24,
           "0"
          ],
          [
           2.02,
           "0"
          ],
          [
           4.3,
           "0"
          ],
          [
           0.11,
           "0"
          ],
          [
           0.08,
           "0"
          ],
          [
           1.73,
           "0"
          ],
          [
           0.28,
           "0"
          ],
          [
           0.19,
           "0"
          ],
          [
           0.22,
           "0"
          ],
          [
           0.2,
           "0"
          ],
          [
           3.5,
           "0"
          ],
          [
           2.86,
           "0"
          ],
          [
           0.05,
           "0"
          ],
          [
           5.72,
           "0"
          ],
          [
           0.09,
           "0"
          ],
          [
           0.08,
           "0"
          ],
          [
           0.07,
           "0"
          ],
          [
           5.23,
           "0"
          ],
          [
           2.83,
           "0"
          ],
          [
           7.42,
           "0"
          ],
          [
           6.47,
           "0"
          ],
          [
           0.06,
           "0"
          ],
          [
           0.05,
           "0"
          ],
          [
           6.58,
           "0"
          ],
          [
           4.4,
           "0"
          ],
          [
           0.01,
           "0"
          ],
          [
           3.66,
           "0"
          ],
          [
           6.98,
           "0"
          ],
          [
           0.03,
           "0"
          ],
          [
           5.28,
           "0"
          ],
          [
           0.23,
           "0"
          ],
          [
           6.63,
           "0"
          ],
          [
           0.29,
           "0"
          ],
          [
           0.47,
           "0"
          ],
          [
           0.27,
           "0"
          ],
          [
           0.3,
           "0"
          ],
          [
           0.46,
           "0"
          ],
          [
           0.15,
           "0"
          ],
          [
           3.4,
           "0"
          ],
          [
           0.01,
           "0"
          ],
          [
           4.24,
           "0"
          ],
          [
           0.21,
           "0"
          ],
          [
           0.07,
           "0"
          ],
          [
           2.88,
           "0"
          ],
          [
           0.04,
           "0"
          ],
          [
           0.09,
           "0"
          ],
          [
           1.88,
           "0"
          ],
          [
           2.56,
           "0"
          ],
          [
           0.07,
           "0"
          ],
          [
           0.15,
           "0"
          ],
          [
           0.22,
           "0"
          ],
          [
           0.19,
           "0"
          ],
          [
           4.58,
           "0"
          ],
          [
           0.36,
           "0"
          ],
          [
           0.3,
           "0"
          ],
          [
           7.71,
           "0"
          ],
          [
           0.06,
           "0"
          ],
          [
           0.03,
           "0"
          ],
          [
           0.04,
           "0"
          ],
          [
           0,
           "0"
          ],
          [
           4.68,
           "0"
          ],
          [
           0.43,
           "0"
          ],
          [
           0.05,
           "0"
          ],
          [
           0.24,
           "0"
          ],
          [
           0.09,
           "0"
          ],
          [
           0.93,
           "0"
          ],
          [
           0.53,
           "0"
          ],
          [
           0.01,
           "0"
          ],
          [
           1.82,
           "0"
          ],
          [
           0.15,
           "0"
          ],
          [
           0.02,
           "0"
          ],
          [
           1.81,
           "0"
          ],
          [
           5.05,
           "0"
          ],
          [
           6.76,
           "0"
          ],
          [
           0.27,
           "0"
          ],
          [
           0.09,
           "0"
          ],
          [
           7.08,
           "0"
          ],
          [
           0.34,
           "0"
          ],
          [
           0.13,
           "0"
          ],
          [
           0.28,
           "0"
          ],
          [
           6.96,
           "0"
          ],
          [
           0.13,
           "0"
          ],
          [
           0.05,
           "0"
          ],
          [
           3.04,
           "0"
          ],
          [
           0.02,
           "0"
          ],
          [
           0.23,
           "0"
          ],
          [
           0.06,
           "0"
          ],
          [
           0.02,
           "0"
          ],
          [
           7.49,
           "0"
          ],
          [
           0,
           "0"
          ],
          [
           0.8,
           "0"
          ],
          [
           5.22,
           "0"
          ],
          [
           0.04,
           "0"
          ],
          [
           0.27,
           "0"
          ],
          [
           1.84,
           "0"
          ],
          [
           0.08,
           "0"
          ],
          [
           0.15,
           "0"
          ],
          [
           0.4,
           "0"
          ],
          [
           0.36,
           "0"
          ],
          [
           4.15,
           "0"
          ],
          [
           0.06,
           "0"
          ],
          [
           6.89,
           "0"
          ],
          [
           1.3,
           "0"
          ],
          [
           0.09,
           "0"
          ],
          [
           2.13,
           "0"
          ],
          [
           3.33,
           "0"
          ],
          [
           7.88,
           "0"
          ],
          [
           3.96,
           "0"
          ],
          [
           0.02,
           "0"
          ],
          [
           3.61,
           "0"
          ],
          [
           0.05,
           "0"
          ],
          [
           4.65,
           "0"
          ],
          [
           0.3,
           "0"
          ],
          [
           0.08,
           "0"
          ],
          [
           4.83,
           "0"
          ],
          [
           0.08,
           "0"
          ],
          [
           0.04,
           "0"
          ],
          [
           0.2,
           "0"
          ],
          [
           6.69,
           "0"
          ],
          [
           4.05,
           "0"
          ],
          [
           3.58,
           "0"
          ],
          [
           0.09,
           "0"
          ],
          [
           0.22,
           "0"
          ],
          [
           4.07,
           "0"
          ],
          [
           0.03,
           "0"
          ],
          [
           0.03,
           "0"
          ],
          [
           0.06,
           "0"
          ],
          [
           3.49,
           "0"
          ],
          [
           0.32,
           "0"
          ],
          [
           6.35,
           "0"
          ],
          [
           5.54,
           "0"
          ],
          [
           0.22,
           "0"
          ],
          [
           0.35,
           "0"
          ],
          [
           0.09,
           "0"
          ],
          [
           0.8,
           "0"
          ],
          [
           0.03,
           "0"
          ],
          [
           0.08,
           "0"
          ],
          [
           7.48,
           "0"
          ],
          [
           1.56,
           "0"
          ],
          [
           0.06,
           "0"
          ],
          [
           0.23,
           "0"
          ],
          [
           0.09,
           "0"
          ],
          [
           1.51,
           "0"
          ],
          [
           7.3,
           "0"
          ],
          [
           0.08,
           "0"
          ],
          [
           0.12,
           "0"
          ],
          [
           0.27,
           "0"
          ],
          [
           0.38,
           "0"
          ],
          [
           4.16,
           "0"
          ],
          [
           6.95,
           "0"
          ],
          [
           4.98,
           "0"
          ],
          [
           0.39,
           "0"
          ],
          [
           0.09,
           "0"
          ],
          [
           0.42,
           "0"
          ],
          [
           1.12,
           "0"
          ],
          [
           2.03,
           "0"
          ],
          [
           0,
           "0"
          ],
          [
           6.55,
           "0"
          ],
          [
           1.45,
           "0"
          ],
          [
           0.38,
           "0"
          ],
          [
           0.26,
           "0"
          ],
          [
           5.42,
           "0"
          ],
          [
           0.07,
           "0"
          ],
          [
           0.03,
           "0"
          ],
          [
           6.72,
           "0"
          ],
          [
           7.02,
           "0"
          ],
          [
           0.09,
           "0"
          ],
          [
           0.61,
           "0"
          ],
          [
           1.8,
           "0"
          ],
          [
           7.79,
           "0"
          ],
          [
           0.03,
           "0"
          ],
          [
           3.7,
           "0"
          ],
          [
           0.01,
           "0"
          ],
          [
           0.02,
           "0"
          ],
          [
           4.43,
           "0"
          ],
          [
           0.04,
           "0"
          ],
          [
           0.01,
           "0"
          ],
          [
           0.19,
           "0"
          ],
          [
           0.1,
           "0"
          ],
          [
           2.55,
           "0"
          ],
          [
           4.3,
           "0"
          ],
          [
           2.74,
           "0"
          ],
          [
           6.45,
           "0"
          ],
          [
           0.27,
           "0"
          ],
          [
           2.99,
           "0"
          ],
          [
           0.08,
           "0"
          ],
          [
           5.31,
           "0"
          ],
          [
           0.29,
           "0"
          ],
          [
           0.6,
           "0"
          ],
          [
           0.76,
           "0"
          ],
          [
           5.76,
           "0"
          ],
          [
           4.68,
           "0"
          ],
          [
           0.51,
           "0"
          ],
          [
           3.01,
           "0"
          ],
          [
           0.38,
           "0"
          ],
          [
           0.05,
           "0"
          ],
          [
           7.49,
           "0"
          ],
          [
           0.18,
           "0"
          ],
          [
           2.56,
           "0"
          ],
          [
           5.67,
           "0"
          ],
          [
           6.06,
           "0"
          ],
          [
           0.05,
           "0"
          ],
          [
           7.73,
           "0"
          ],
          [
           1.54,
           "0"
          ],
          [
           7.23,
           "0"
          ],
          [
           0.02,
           "0"
          ],
          [
           0.12,
           "0"
          ],
          [
           0.39,
           "0"
          ],
          [
           0.2,
           "0"
          ],
          [
           3.48,
           "0"
          ],
          [
           3.98,
           "0"
          ],
          [
           0.1,
           "0"
          ],
          [
           2.41,
           "0"
          ],
          [
           4.36,
           "0"
          ],
          [
           6.05,
           "0"
          ],
          [
           4.54,
           "0"
          ],
          [
           0.22,
           "0"
          ],
          [
           6.64,
           "0"
          ],
          [
           0.09,
           "0"
          ],
          [
           0.09,
           "0"
          ],
          [
           8.68,
           "0"
          ],
          [
           7.49,
           "0"
          ],
          [
           3.65,
           "0"
          ],
          [
           0.36,
           "0"
          ],
          [
           0.08,
           "0"
          ],
          [
           0.39,
           "0"
          ],
          [
           6.69,
           "0"
          ],
          [
           0.11,
           "0"
          ],
          [
           0.01,
           "0"
          ],
          [
           0.28,
           "0"
          ],
          [
           0.42,
           "0"
          ],
          [
           3.8,
           "0"
          ],
          [
           0.44,
           "0"
          ],
          [
           3.16,
           "0"
          ],
          [
           0.09,
           "0"
          ],
          [
           0.48,
           "0"
          ],
          [
           0.07,
           "0"
          ],
          [
           0.05,
           "0"
          ],
          [
           0.14,
           "0"
          ],
          [
           0.01,
           "0"
          ],
          [
           1.81,
           "0"
          ],
          [
           3.05,
           "0"
          ],
          [
           0.06,
           "0"
          ],
          [
           0.12,
           "0"
          ],
          [
           0.37,
           "0"
          ],
          [
           7.78,
           "0"
          ],
          [
           1.61,
           "0"
          ],
          [
           0.19,
           "0"
          ],
          [
           0.39,
           "0"
          ],
          [
           0.03,
           "0"
          ],
          [
           0.62,
           "0"
          ],
          [
           7.42,
           "0"
          ],
          [
           6.11,
           "0"
          ],
          [
           0.45,
           "0"
          ],
          [
           0.01,
           "0"
          ],
          [
           0.35,
           "0"
          ],
          [
           2.04,
           "0"
          ],
          [
           0.67,
           "0"
          ],
          [
           0.58,
           "0"
          ],
          [
           2.33,
           "0"
          ],
          [
           0.05,
           "0"
          ],
          [
           4.74,
           "0"
          ],
          [
           0.16,
           "0"
          ],
          [
           1.25,
           "0"
          ],
          [
           6.24,
           "0"
          ],
          [
           7.76,
           "0"
          ],
          [
           0.37,
           "0"
          ],
          [
           7.09,
           "0"
          ],
          [
           0.49,
           "0"
          ],
          [
           0.08,
           "0"
          ],
          [
           7.41,
           "0"
          ],
          [
           0.08,
           "0"
          ],
          [
           0.05,
           "0"
          ],
          [
           2.73,
           "0"
          ],
          [
           0.06,
           "0"
          ],
          [
           0.22,
           "0"
          ],
          [
           2.32,
           "0"
          ],
          [
           0.04,
           "0"
          ],
          [
           6.29,
           "0"
          ],
          [
           2.03,
           "0"
          ],
          [
           0.15,
           "0"
          ],
          [
           0.07,
           "0"
          ],
          [
           6.17,
           "0"
          ],
          [
           0.08,
           "0"
          ],
          [
           0.05,
           "0"
          ],
          [
           0.11,
           "0"
          ],
          [
           1.49,
           "0"
          ],
          [
           5.45,
           "0"
          ],
          [
           0.39,
           "0"
          ],
          [
           0.69,
           "0"
          ],
          [
           6.95,
           "0"
          ],
          [
           6.6,
           "0"
          ],
          [
           5.4,
           "0"
          ],
          [
           7.12,
           "0"
          ],
          [
           0.01,
           "0"
          ],
          [
           0.07,
           "0"
          ],
          [
           0.05,
           "0"
          ],
          [
           4.18,
           "0"
          ],
          [
           6.28,
           "0"
          ],
          [
           5.23,
           "0"
          ],
          [
           0.05,
           "0"
          ],
          [
           1.59,
           "0"
          ],
          [
           0.31,
           "0"
          ],
          [
           0.09,
           "0"
          ],
          [
           0.19,
           "0"
          ],
          [
           0.41,
           "0"
          ],
          [
           0.04,
           "0"
          ],
          [
           0.02,
           "0"
          ],
          [
           0.25,
           "0"
          ],
          [
           0.01,
           "0"
          ],
          [
           2.5,
           "0"
          ],
          [
           0.12,
           "0"
          ],
          [
           0.06,
           "0"
          ],
          [
           0.29,
           "0"
          ],
          [
           0.24,
           "0"
          ],
          [
           0.15,
           "0"
          ],
          [
           2.86,
           "0"
          ],
          [
           0.1,
           "0"
          ],
          [
           0.01,
           "0"
          ],
          [
           6.72,
           "0"
          ],
          [
           0.02,
           "0"
          ],
          [
           0.07,
           "0"
          ],
          [
           0.02,
           "0"
          ],
          [
           0.05,
           "0"
          ],
          [
           0.1,
           "0"
          ],
          [
           4.3,
           "0"
          ],
          [
           2.4,
           "0"
          ],
          [
           0.25,
           "0"
          ],
          [
           0.45,
           "0"
          ],
          [
           0.15,
           "0"
          ],
          [
           4.23,
           "0"
          ],
          [
           0.06,
           "0"
          ],
          [
           4.01,
           "0"
          ],
          [
           2.69,
           "0"
          ],
          [
           0.65,
           "0"
          ],
          [
           0.51,
           "0"
          ],
          [
           3.93,
           "0"
          ],
          [
           0.1,
           "0"
          ],
          [
           5.65,
           "0"
          ],
          [
           0.48,
           "0"
          ],
          [
           0.04,
           "0"
          ],
          [
           6.23,
           "0"
          ],
          [
           0.19,
           "0"
          ],
          [
           0.34,
           "0"
          ],
          [
           5.61,
           "0"
          ],
          [
           0.09,
           "0"
          ],
          [
           7.67,
           "0"
          ],
          [
           0.45,
           "0"
          ],
          [
           0.01,
           "0"
          ],
          [
           0.05,
           "0"
          ],
          [
           0.02,
           "0"
          ],
          [
           5.9,
           "0"
          ],
          [
           0.23,
           "0"
          ],
          [
           0.06,
           "0"
          ],
          [
           0.5,
           "0"
          ],
          [
           0.88,
           "0"
          ],
          [
           2.94,
           "0"
          ],
          [
           0.22,
           "0"
          ],
          [
           0.05,
           "0"
          ],
          [
           0,
           "0"
          ],
          [
           0.07,
           "0"
          ],
          [
           0.17,
           "0"
          ],
          [
           5.92,
           "0"
          ],
          [
           0.43,
           "0"
          ],
          [
           2.45,
           "0"
          ],
          [
           0.37,
           "0"
          ],
          [
           0.1,
           "0"
          ],
          [
           0,
           "0"
          ],
          [
           4.37,
           "0"
          ],
          [
           5.22,
           "0"
          ],
          [
           4.55,
           "0"
          ],
          [
           4.24,
           "0"
          ],
          [
           0.5,
           "0"
          ],
          [
           0.93,
           "0"
          ],
          [
           1.01,
           "0"
          ],
          [
           0,
           "0"
          ],
          [
           7.76,
           "0"
          ],
          [
           0.02,
           "0"
          ],
          [
           7.48,
           "0"
          ],
          [
           0.32,
           "0"
          ],
          [
           4.4,
           "0"
          ],
          [
           0.04,
           "0"
          ],
          [
           2.03,
           "0"
          ],
          [
           0.18,
           "0"
          ],
          [
           0.01,
           "0"
          ],
          [
           0.01,
           "0"
          ],
          [
           0.02,
           "0"
          ],
          [
           0.42,
           "0"
          ],
          [
           0.03,
           "0"
          ],
          [
           0.32,
           "0"
          ],
          [
           0.09,
           "0"
          ],
          [
           4.67,
           "0"
          ],
          [
           7.34,
           "0"
          ],
          [
           0.43,
           "0"
          ],
          [
           0.2,
           "0"
          ],
          [
           0.12,
           "0"
          ],
          [
           4.61,
           "0"
          ],
          [
           0.01,
           "0"
          ],
          [
           5.28,
           "0"
          ],
          [
           0.02,
           "0"
          ],
          [
           0.44,
           "0"
          ],
          [
           0.05,
           "0"
          ],
          [
           0.39,
           "0"
          ],
          [
           0.01,
           "0"
          ],
          [
           2.06,
           "0"
          ],
          [
           0.63,
           "0"
          ],
          [
           6.47,
           "0"
          ],
          [
           4.95,
           "0"
          ],
          [
           7.06,
           "0"
          ],
          [
           0.19,
           "0"
          ],
          [
           1.42,
           "0"
          ],
          [
           0.21,
           "0"
          ],
          [
           0.44,
           "0"
          ],
          [
           3.5,
           "0"
          ],
          [
           2.07,
           "0"
          ],
          [
           7.3,
           "0"
          ],
          [
           0.1,
           "0"
          ],
          [
           0.04,
           "0"
          ],
          [
           0.49,
           "0"
          ],
          [
           1.38,
           "0"
          ],
          [
           0.05,
           "0"
          ],
          [
           5.1,
           "0"
          ],
          [
           0.12,
           "0"
          ],
          [
           0.28,
           "0"
          ],
          [
           0.45,
           "0"
          ],
          [
           0.32,
           "0"
          ],
          [
           1.64,
           "0"
          ],
          [
           0.49,
           "0"
          ],
          [
           0.27,
           "0"
          ],
          [
           8,
           "0"
          ],
          [
           0.02,
           "0"
          ],
          [
           1.57,
           "0"
          ],
          [
           0.2,
           "0"
          ],
          [
           6.58,
           "0"
          ],
          [
           0.32,
           "0"
          ],
          [
           0.09,
           "0"
          ],
          [
           0.32,
           "0"
          ],
          [
           6.21,
           "0"
          ],
          [
           0.04,
           "0"
          ],
          [
           6.1,
           "0"
          ],
          [
           0.46,
           "0"
          ],
          [
           1.86,
           "0"
          ],
          [
           0.04,
           "0"
          ],
          [
           1.33,
           "0"
          ],
          [
           0.36,
           "0"
          ],
          [
           0.06,
           "0"
          ],
          [
           6.29,
           "0"
          ],
          [
           1.82,
           "0"
          ],
          [
           0.1,
           "0"
          ],
          [
           6.16,
           "0"
          ],
          [
           3.69,
           "0"
          ],
          [
           0.14,
           "0"
          ],
          [
           0.55,
           "0"
          ],
          [
           6.29,
           "0"
          ],
          [
           0.28,
           "0"
          ],
          [
           0.08,
           "0"
          ],
          [
           3.7,
           "0"
          ],
          [
           0.52,
           "0"
          ],
          [
           0.12,
           "0"
          ],
          [
           0.09,
           "0"
          ],
          [
           6.12,
           "0"
          ],
          [
           0.2,
           "0"
          ],
          [
           6.37,
           "0"
          ],
          [
           4.8,
           "0"
          ],
          [
           6.82,
           "0"
          ],
          [
           0.15,
           "0"
          ],
          [
           6.03,
           "0"
          ],
          [
           2.57,
           "0"
          ],
          [
           0.03,
           "0"
          ],
          [
           6.8,
           "0"
          ],
          [
           3.91,
           "0"
          ],
          [
           0.23,
           "0"
          ],
          [
           4.3,
           "0"
          ],
          [
           0.03,
           "0"
          ],
          [
           0.29,
           "0"
          ],
          [
           2.03,
           "0"
          ],
          [
           0.07,
           "0"
          ],
          [
           0.04,
           "0"
          ],
          [
           0.93,
           "0"
          ],
          [
           0.05,
           "0"
          ],
          [
           0.37,
           "0"
          ],
          [
           0.09,
           "0"
          ],
          [
           5.81,
           "0"
          ],
          [
           0.06,
           "0"
          ],
          [
           0.07,
           "0"
          ],
          [
           4.45,
           "0"
          ],
          [
           3.79,
           "0"
          ],
          [
           0.33,
           "0"
          ],
          [
           6.69,
           "0"
          ],
          [
           2.96,
           "0"
          ],
          [
           0.63,
           "0"
          ],
          [
           0.06,
           "0"
          ],
          [
           0.26,
           "0"
          ],
          [
           1.68,
           "0"
          ],
          [
           0.15,
           "0"
          ],
          [
           0.23,
           "0"
          ],
          [
           0.13,
           "0"
          ],
          [
           5.42,
           "0"
          ],
          [
           5.54,
           "0"
          ],
          [
           0.05,
           "0"
          ],
          [
           0.07,
           "0"
          ],
          [
           2.46,
           "0"
          ],
          [
           0.07,
           "0"
          ],
          [
           6.1,
           "0"
          ],
          [
           0.03,
           "0"
          ],
          [
           0.06,
           "0"
          ],
          [
           0.57,
           "0"
          ],
          [
           7.68,
           "0"
          ],
          [
           5.58,
           "0"
          ],
          [
           0.07,
           "0"
          ],
          [
           0.37,
           "0"
          ],
          [
           0.24,
           "0"
          ],
          [
           5.49,
           "0"
          ],
          [
           1.21,
           "0"
          ],
          [
           0.87,
           "0"
          ],
          [
           7.49,
           "0"
          ],
          [
           0.01,
           "0"
          ],
          [
           0.08,
           "0"
          ],
          [
           2.03,
           "0"
          ],
          [
           5.99,
           "0"
          ],
          [
           0.79,
           "0"
          ],
          [
           5.47,
           "0"
          ],
          [
           0.01,
           "0"
          ],
          [
           0.03,
           "0"
          ],
          [
           0.28,
           "0"
          ],
          [
           0.02,
           "0"
          ],
          [
           0.15,
           "0"
          ],
          [
           0,
           "0"
          ],
          [
           0.05,
           "0"
          ],
          [
           0.52,
           "0"
          ],
          [
           0.1,
           "0"
          ],
          [
           0.01,
           "0"
          ],
          [
           0.34,
           "0"
          ],
          [
           0.03,
           "0"
          ],
          [
           1.49,
           "0"
          ],
          [
           2.14,
           "0"
          ],
          [
           0.04,
           "0"
          ],
          [
           0.02,
           "0"
          ],
          [
           2.4,
           "0"
          ],
          [
           0.01,
           "0"
          ],
          [
           0.01,
           "0"
          ],
          [
           0.03,
           "0"
          ],
          [
           3.18,
           "0"
          ],
          [
           0.04,
           "0"
          ],
          [
           0.3,
           "0"
          ],
          [
           0.51,
           "0"
          ],
          [
           0.02,
           "0"
          ],
          [
           0.07,
           "0"
          ],
          [
           4.85,
           "0"
          ],
          [
           0.02,
           "0"
          ],
          [
           0.16,
           "0"
          ],
          [
           0.09,
           "0"
          ],
          [
           5.1,
           "0"
          ],
          [
           4.02,
           "0"
          ],
          [
           6.59,
           "0"
          ],
          [
           0.35,
           "0"
          ],
          [
           0.04,
           "0"
          ],
          [
           0.43,
           "0"
          ],
          [
           0.09,
           "0"
          ],
          [
           0.39,
           "0"
          ],
          [
           0.17,
           "0"
          ],
          [
           0.04,
           "0"
          ],
          [
           0.18,
           "0"
          ],
          [
           5.75,
           "0"
          ],
          [
           0.26,
           "0"
          ],
          [
           0.13,
           "0"
          ],
          [
           0.09,
           "0"
          ],
          [
           0.01,
           "0"
          ],
          [
           1.41,
           "0"
          ],
          [
           0.06,
           "0"
          ],
          [
           0.19,
           "0"
          ],
          [
           0.26,
           "0"
          ],
          [
           0.56,
           "0"
          ],
          [
           0.03,
           "0"
          ],
          [
           5.83,
           "0"
          ],
          [
           3.54,
           "0"
          ],
          [
           0.55,
           "0"
          ],
          [
           7.04,
           "0"
          ],
          [
           0.05,
           "0"
          ],
          [
           6.86,
           "0"
          ],
          [
           0.7,
           "0"
          ],
          [
           2.56,
           "0"
          ],
          [
           2.25,
           "0"
          ],
          [
           3.1,
           "0"
          ],
          [
           5.45,
           "0"
          ],
          [
           0.37,
           "0"
          ],
          [
           0.01,
           "0"
          ],
          [
           2.51,
           "0"
          ],
          [
           3.7,
           "0"
          ],
          [
           6.53,
           "0"
          ],
          [
           1.98,
           "0"
          ],
          [
           3.41,
           "0"
          ],
          [
           0.17,
           "0"
          ],
          [
           0.02,
           "0"
          ],
          [
           0.02,
           "0"
          ],
          [
           0.08,
           "0"
          ],
          [
           0.01,
           "0"
          ],
          [
           0.39,
           "0"
          ],
          [
           0.52,
           "0"
          ],
          [
           0.49,
           "0"
          ],
          [
           0.05,
           "0"
          ],
          [
           0.6,
           "0"
          ],
          [
           4.54,
           "0"
          ],
          [
           7.41,
           "0"
          ],
          [
           0.04,
           "0"
          ],
          [
           6.62,
           "0"
          ],
          [
           0.59,
           "0"
          ],
          [
           0.02,
           "0"
          ],
          [
           0.16,
           "0"
          ],
          [
           1.93,
           "0"
          ],
          [
           8.19,
           "0"
          ],
          [
           0.4,
           "0"
          ],
          [
           5.62,
           "0"
          ],
          [
           0.06,
           "0"
          ],
          [
           6.62,
           "0"
          ],
          [
           0.01,
           "0"
          ],
          [
           4.36,
           "0"
          ],
          [
           1.55,
           "0"
          ],
          [
           3.14,
           "0"
          ],
          [
           3.83,
           "0"
          ],
          [
           0.09,
           "0"
          ],
          [
           0.15,
           "0"
          ],
          [
           0.51,
           "0"
          ],
          [
           3.13,
           "0"
          ],
          [
           6.32,
           "0"
          ],
          [
           0.1,
           "0"
          ],
          [
           0.16,
           "0"
          ],
          [
           0.09,
           "0"
          ],
          [
           0.07,
           "0"
          ],
          [
           3.03,
           "0"
          ],
          [
           0.5,
           "0"
          ],
          [
           4.16,
           "0"
          ],
          [
           0.46,
           "0"
          ],
          [
           0.31,
           "0"
          ],
          [
           5.76,
           "0"
          ],
          [
           7.89,
           "0"
          ],
          [
           0.07,
           "0"
          ],
          [
           0,
           "0"
          ],
          [
           0.06,
           "0"
          ],
          [
           4.45,
           "0"
          ],
          [
           0.16,
           "0"
          ],
          [
           4.09,
           "0"
          ],
          [
           0.01,
           "0"
          ],
          [
           0.03,
           "0"
          ],
          [
           7.99,
           "0"
          ],
          [
           4.46,
           "0"
          ],
          [
           0.1,
           "0"
          ],
          [
           3.07,
           "0"
          ],
          [
           0.52,
           "0"
          ],
          [
           4.66,
           "0"
          ],
          [
           1.78,
           "0"
          ],
          [
           0.2,
           "0"
          ],
          [
           0.09,
           "0"
          ],
          [
           0.09,
           "0"
          ],
          [
           6.5,
           "0"
          ],
          [
           6.52,
           "0"
          ],
          [
           6.54,
           "0"
          ],
          [
           0.08,
           "0"
          ],
          [
           0.04,
           "0"
          ],
          [
           0.41,
           "0"
          ],
          [
           4.03,
           "0"
          ],
          [
           5.02,
           "0"
          ],
          [
           5.11,
           "0"
          ],
          [
           0.06,
           "0"
          ],
          [
           0.25,
           "0"
          ],
          [
           5.58,
           "0"
          ],
          [
           0.07,
           "0"
          ],
          [
           3.29,
           "0"
          ],
          [
           0.1,
           "0"
          ],
          [
           5.34,
           "0"
          ],
          [
           0.03,
           "0"
          ],
          [
           0.7,
           "0"
          ],
          [
           6.62,
           "0"
          ],
          [
           0.47,
           "0"
          ],
          [
           1.72,
           "0"
          ],
          [
           7.53,
           "0"
          ],
          [
           0.23,
           "0"
          ],
          [
           0.2,
           "0"
          ],
          [
           5.2,
           "0"
          ],
          [
           0.17,
           "0"
          ],
          [
           2.13,
           "0"
          ],
          [
           4.36,
           "0"
          ],
          [
           0.07,
           "0"
          ],
          [
           0.3,
           "0"
          ],
          [
           0.21,
           "0"
          ],
          [
           0.08,
           "0"
          ],
          [
           0.03,
           "0"
          ],
          [
           0.63,
           "0"
          ],
          [
           3.1,
           "0"
          ],
          [
           6.54,
           "0"
          ],
          [
           7.97,
           "0"
          ],
          [
           0.04,
           "0"
          ],
          [
           3.05,
           "0"
          ],
          [
           0.04,
           "0"
          ],
          [
           3.59,
           "0"
          ],
          [
           7.53,
           "0"
          ],
          [
           7.38,
           "0"
          ],
          [
           6.95,
           "0"
          ],
          [
           1.97,
           "0"
          ],
          [
           0.03,
           "0"
          ],
          [
           3.8,
           "0"
          ],
          [
           0.08,
           "0"
          ],
          [
           0.81,
           "0"
          ],
          [
           0.37,
           "0"
          ],
          [
           0.05,
           "0"
          ],
          [
           0.09,
           "0"
          ],
          [
           4.24,
           "0"
          ],
          [
           0.12,
           "0"
          ],
          [
           0.07,
           "0"
          ],
          [
           0.04,
           "0"
          ],
          [
           0.88,
           "0"
          ],
          [
           1.95,
           "0"
          ],
          [
           0.16,
           "0"
          ],
          [
           6.44,
           "0"
          ],
          [
           0.03,
           "0"
          ],
          [
           0.09,
           "0"
          ],
          [
           0.06,
           "0"
          ],
          [
           0.13,
           "0"
          ],
          [
           7.36,
           "0"
          ],
          [
           0.44,
           "0"
          ],
          [
           0.21,
           "0"
          ],
          [
           0.2,
           "0"
          ],
          [
           1.58,
           "0"
          ],
          [
           0.3,
           "0"
          ],
          [
           0.26,
           "0"
          ],
          [
           0.28,
           "0"
          ],
          [
           3.69,
           "0"
          ],
          [
           0.65,
           "0"
          ],
          [
           0.06,
           "0"
          ],
          [
           4.52,
           "0"
          ],
          [
           2.15,
           "0"
          ],
          [
           0.08,
           "0"
          ],
          [
           0.13,
           "0"
          ],
          [
           4.35,
           "0"
          ],
          [
           1.14,
           "0"
          ],
          [
           7.97,
           "0"
          ],
          [
           0.24,
           "0"
          ],
          [
           4.91,
           "0"
          ],
          [
           0.4,
           "0"
          ],
          [
           4.97,
           "0"
          ],
          [
           0.07,
           "0"
          ],
          [
           0.06,
           "0"
          ],
          [
           0.06,
           "0"
          ],
          [
           1.45,
           "0"
          ],
          [
           0.56,
           "0"
          ],
          [
           5.75,
           "0"
          ],
          [
           4.82,
           "0"
          ],
          [
           5.52,
           "0"
          ],
          [
           4.7,
           "0"
          ],
          [
           7.41,
           "0"
          ],
          [
           2.35,
           "0"
          ],
          [
           3.42,
           "0"
          ],
          [
           0.3,
           "0"
          ],
          [
           6.56,
           "0"
          ],
          [
           6.18,
           "0"
          ],
          [
           7.97,
           "0"
          ],
          [
           0.23,
           "0"
          ],
          [
           0.2,
           "0"
          ],
          [
           0.15,
           "0"
          ],
          [
           1.62,
           "0"
          ],
          [
           8.26,
           "0"
          ],
          [
           5.24,
           "0"
          ],
          [
           0.25,
           "0"
          ],
          [
           4.9,
           "0"
          ],
          [
           4.15,
           "0"
          ],
          [
           0.03,
           "0"
          ],
          [
           7.38,
           "0"
          ],
          [
           0.06,
           "0"
          ],
          [
           0.09,
           "0"
          ],
          [
           0.64,
           "0"
          ],
          [
           0.03,
           "0"
          ],
          [
           0.45,
           "0"
          ],
          [
           0.07,
           "0"
          ],
          [
           0.02,
           "0"
          ],
          [
           0.11,
           "0"
          ],
          [
           0.11,
           "0"
          ],
          [
           0.28,
           "0"
          ],
          [
           0,
           "0"
          ],
          [
           0.05,
           "0"
          ],
          [
           0.19,
           "0"
          ],
          [
           0.41,
           "0"
          ],
          [
           0.04,
           "0"
          ],
          [
           0.03,
           "0"
          ],
          [
           0.07,
           "0"
          ],
          [
           4.52,
           "0"
          ],
          [
           4.54,
           "0"
          ],
          [
           0.34,
           "0"
          ],
          [
           4.41,
           "0"
          ],
          [
           0.01,
           "0"
          ],
          [
           6.19,
           "0"
          ],
          [
           3.3,
           "0"
          ],
          [
           3.78,
           "0"
          ],
          [
           0.39,
           "0"
          ],
          [
           0.07,
           "0"
          ],
          [
           0.39,
           "0"
          ],
          [
           4.83,
           "0"
          ],
          [
           0.06,
           "0"
          ],
          [
           0.23,
           "0"
          ],
          [
           0.08,
           "0"
          ],
          [
           5.1,
           "0"
          ],
          [
           2.94,
           "0"
          ],
          [
           0.12,
           "0"
          ],
          [
           0.24,
           "0"
          ],
          [
           0.56,
           "0"
          ],
          [
           0.38,
           "0"
          ],
          [
           0.23,
           "0"
          ],
          [
           0.02,
           "0"
          ],
          [
           4.84,
           "0"
          ],
          [
           0.22,
           "0"
          ],
          [
           3.81,
           "0"
          ],
          [
           5.9,
           "0"
          ],
          [
           6.31,
           "0"
          ],
          [
           0.01,
           "0"
          ],
          [
           0.06,
           "0"
          ],
          [
           3.23,
           "0"
          ],
          [
           0.08,
           "0"
          ],
          [
           0.21,
           "0"
          ],
          [
           0.87,
           "0"
          ],
          [
           0.39,
           "0"
          ],
          [
           0.02,
           "0"
          ],
          [
           0.02,
           "0"
          ],
          [
           5.83,
           "0"
          ],
          [
           5.62,
           "0"
          ],
          [
           0.98,
           "0"
          ],
          [
           0.09,
           "0"
          ],
          [
           0.02,
           "0"
          ],
          [
           0.28,
           "0"
          ],
          [
           4.15,
           "0"
          ],
          [
           0.16,
           "0"
          ],
          [
           0.43,
           "0"
          ],
          [
           0.17,
           "0"
          ],
          [
           3.33,
           "0"
          ],
          [
           0.3,
           "0"
          ],
          [
           0.55,
           "0"
          ],
          [
           4.55,
           "0"
          ],
          [
           0.08,
           "0"
          ],
          [
           1.21,
           "0"
          ],
          [
           0.18,
           "0"
          ],
          [
           0.46,
           "0"
          ],
          [
           0.17,
           "0"
          ],
          [
           3.16,
           "0"
          ],
          [
           4.3,
           "0"
          ],
          [
           0.09,
           "0"
          ],
          [
           0.06,
           "0"
          ],
          [
           5.71,
           "0"
          ],
          [
           0.15,
           "0"
          ],
          [
           0.02,
           "0"
          ],
          [
           4.09,
           "0"
          ],
          [
           3.42,
           "0"
          ],
          [
           4.04,
           "0"
          ],
          [
           0.04,
           "0"
          ],
          [
           0.18,
           "0"
          ],
          [
           5.28,
           "0"
          ],
          [
           3.68,
           "0"
          ],
          [
           4.91,
           "0"
          ],
          [
           0.1,
           "0"
          ],
          [
           4.54,
           "0"
          ],
          [
           0.21,
           "0"
          ],
          [
           4.85,
           "0"
          ],
          [
           0.62,
           "0"
          ],
          [
           7.2,
           "0"
          ],
          [
           5.3,
           "0"
          ],
          [
           0.18,
           "0"
          ],
          [
           2.73,
           "0"
          ],
          [
           0.05,
           "0"
          ],
          [
           7.46,
           "0"
          ],
          [
           0.12,
           "0"
          ],
          [
           1.14,
           "0"
          ],
          [
           0,
           "0"
          ],
          [
           5.17,
           "0"
          ],
          [
           6.71,
           "0"
          ],
          [
           0.12,
           "0"
          ],
          [
           0,
           "0"
          ],
          [
           0.17,
           "0"
          ],
          [
           0.33,
           "0"
          ],
          [
           5.07,
           "0"
          ],
          [
           0.04,
           "0"
          ],
          [
           4.92,
           "0"
          ],
          [
           0.09,
           "0"
          ],
          [
           7.83,
           "0"
          ],
          [
           0.19,
           "0"
          ],
          [
           0.6,
           "0"
          ],
          [
           6.78,
           "0"
          ],
          [
           4.8,
           "0"
          ],
          [
           0.18,
           "0"
          ],
          [
           7.87,
           "0"
          ],
          [
           0.65,
           "0"
          ],
          [
           3.58,
           "0"
          ],
          [
           0.04,
           "0"
          ],
          [
           0.15,
           "0"
          ],
          [
           0.09,
           "0"
          ],
          [
           0.74,
           "0"
          ],
          [
           6.75,
           "0"
          ],
          [
           0,
           "0"
          ],
          [
           4.02,
           "0"
          ],
          [
           1.45,
           "0"
          ],
          [
           0.48,
           "0"
          ],
          [
           2.44,
           "0"
          ],
          [
           0.09,
           "0"
          ],
          [
           0.08,
           "0"
          ],
          [
           5.23,
           "0"
          ],
          [
           0.15,
           "0"
          ],
          [
           7.25,
           "0"
          ],
          [
           0.03,
           "0"
          ],
          [
           2.03,
           "0"
          ],
          [
           4.39,
           "0"
          ],
          [
           0.24,
           "0"
          ],
          [
           0.18,
           "0"
          ],
          [
           1.29,
           "0"
          ]
         ],
         "hovertemplate": "is_safe=%{customdata[1]}<br>aluminium=%{x}<br>cadmium=%{y}<br>uranium=%{z}<br>chloramine=%{customdata[0]}<extra></extra>",
         "legendgroup": "0",
         "marker": {
          "color": "#636EFA",
          "size": 2,
          "symbol": "circle"
         },
         "mode": "markers",
         "name": "0",
         "scene": "scene",
         "showlegend": true,
         "type": "scatter3d",
         "x": [
          0.06,
          0.19,
          4.37,
          0.22,
          3.57,
          0.06,
          0.08,
          0.05,
          0.02,
          0.09,
          0.03,
          0.03,
          0.09,
          4.66,
          0.13,
          0.05,
          0.06,
          0.07,
          0.07,
          0.04,
          0.18,
          0.06,
          0.36,
          0.06,
          0.06,
          0.08,
          4.94,
          0.07,
          0.07,
          2.95,
          0.37,
          0.09,
          0.14,
          0.04,
          0.05,
          3.49,
          0.05,
          0.07,
          0.08,
          0.07,
          0.1,
          4.2,
          0.05,
          0.19,
          0,
          0.09,
          4.5,
          0.05,
          0.05,
          4.08,
          0.04,
          0.08,
          0.04,
          0.08,
          0.04,
          0.04,
          0.01,
          0.06,
          4.46,
          0.07,
          0.07,
          0.03,
          0.07,
          0.05,
          0.06,
          0.08,
          0.01,
          0.08,
          0.99,
          0.04,
          0.01,
          0.06,
          0.02,
          0.09,
          3.41,
          0.18,
          0.03,
          0.08,
          0.03,
          4.4,
          0.02,
          0.09,
          0.03,
          0.48,
          0.03,
          0.03,
          0.04,
          0.01,
          0.1,
          0.04,
          0.03,
          0.04,
          0.09,
          0.03,
          3.62,
          0.03,
          0.05,
          4.11,
          0.04,
          0.09,
          3.24,
          0.08,
          3.44,
          0.07,
          0.03,
          4.13,
          0.04,
          0.03,
          0.02,
          0.24,
          0.07,
          0.08,
          0.02,
          0.03,
          0.89,
          0.02,
          0.04,
          3.64,
          0.09,
          0.08,
          0.02,
          2.04,
          0.06,
          4.4,
          0.01,
          0,
          0.48,
          0.04,
          0.09,
          0.05,
          0.77,
          0.06,
          1.17,
          4.7,
          0.04,
          0.04,
          0.1,
          0.08,
          0.07,
          0.04,
          3.57,
          0.09,
          0.05,
          0.08,
          0.03,
          0.02,
          0.44,
          0.09,
          0.09,
          0.05,
          0.01,
          0.6,
          0.05,
          0.07,
          0.01,
          0.1,
          0.06,
          0.19,
          2.66,
          0.09,
          0.41,
          0.04,
          0.08,
          0.01,
          0.05,
          0.02,
          0.06,
          3.12,
          0.01,
          0.08,
          0.04,
          0.08,
          0,
          0.04,
          0.01,
          0.02,
          0.09,
          1.88,
          0.04,
          0.01,
          0.05,
          0.04,
          3.69,
          2.22,
          0.12,
          0.06,
          0.01,
          0.15,
          0.03,
          2.69,
          1.42,
          0.29,
          0.09,
          0.72,
          0.07,
          0.07,
          0.06,
          0.03,
          0.08,
          0.04,
          0.21,
          0.37,
          0.04,
          1.48,
          0.02,
          0.23,
          2.44,
          0.02,
          0.04,
          0.1,
          0.05,
          0.03,
          2.5,
          0.32,
          0.04,
          0.06,
          2.94,
          2.14,
          4.84,
          0.1,
          0.02,
          0.01,
          0.03,
          0.03,
          0.17,
          3.98,
          0.1,
          0.05,
          0.03,
          2.04,
          0.04,
          0.07,
          0.02,
          0.1,
          0.02,
          1.11,
          0.14,
          0,
          0.18,
          0.02,
          0.07,
          0.09,
          0.1,
          3.41,
          0.07,
          0.05,
          0.03,
          0.95,
          0.07,
          0.09,
          0.03,
          0.1,
          0.07,
          0.06,
          0.04,
          0.08,
          0.04,
          0.09,
          0.09,
          1.53,
          0.02,
          0.05,
          0.15,
          0.06,
          0.03,
          0,
          0.26,
          2.69,
          1.6,
          0.09,
          0.12,
          0.09,
          0.02,
          0.09,
          0.03,
          0,
          1.95,
          0.07,
          0.05,
          0.02,
          0,
          2.11,
          2.69,
          0.02,
          0.03,
          0.35,
          0.08,
          0.08,
          0.06,
          4.05,
          1.5,
          0.09,
          0.02,
          0.02,
          3.78,
          0.14,
          0.02,
          0.03,
          0.03,
          0.08,
          3.44,
          0.13,
          1.48,
          0.05,
          3.67,
          0.04,
          0,
          0.06,
          0.04,
          0.02,
          0.07,
          0.07,
          0.02,
          0.01,
          0.04,
          0.07,
          0.09,
          0.02,
          0.09,
          0.08,
          0.04,
          0.08,
          0.04,
          0,
          0.09,
          0.04,
          0.09,
          0.1,
          2.22,
          0,
          0.07,
          0.09,
          4.81,
          0.1,
          0.05,
          0.1,
          2.67,
          0,
          0.07,
          1.41,
          0.08,
          0.01,
          0,
          0,
          0.59,
          0.09,
          0.07,
          0.26,
          0.08,
          0.25,
          0.06,
          0.06,
          0.02,
          0.08,
          2.99,
          0.06,
          0.04,
          0,
          0.06,
          2.7,
          0.01,
          0.03,
          0.03,
          0.01,
          0.09,
          0,
          0.06,
          0.08,
          0.04,
          0.04,
          0.09,
          0.17,
          3.62,
          0.01,
          5,
          0,
          0.09,
          0.08,
          0.02,
          1.6,
          0.01,
          3.57,
          0.05,
          0.07,
          0.03,
          0.07,
          0.02,
          0.09,
          0.09,
          0.06,
          0.06,
          0.03,
          0.03,
          0.02,
          0.19,
          3.88,
          0,
          0.08,
          0.01,
          0.93,
          0.04,
          3.53,
          0.01,
          0.03,
          0.09,
          0.09,
          0.03,
          3.73,
          0.04,
          0.06,
          0.24,
          0.07,
          0.01,
          0.08,
          0.06,
          0.02,
          4.66,
          0.06,
          0.44,
          0.04,
          0.05,
          0.09,
          0.26,
          0.07,
          3.56,
          0.05,
          0.03,
          0.09,
          0.03,
          0.17,
          0.02,
          0.08,
          2.08,
          0.06,
          3.07,
          0.06,
          4.94,
          0.03,
          0.01,
          0.08,
          0.04,
          0.04,
          2.61,
          0.03,
          0.15,
          0.02,
          0.03,
          0.06,
          0.1,
          0.03,
          0.06,
          0.05,
          0.06,
          2.61,
          0.04,
          0.09,
          2.32,
          0.08,
          0.02,
          0.07,
          0.05,
          0.09,
          0.02,
          0,
          0.15,
          0.3,
          0.09,
          0.2,
          0.05,
          0.01,
          0.03,
          0.12,
          0.09,
          0.1,
          0.04,
          0.73,
          0.1,
          0.05,
          0.27,
          0.04,
          0.02,
          3.09,
          0.06,
          0.09,
          0.05,
          0.03,
          0.02,
          0.05,
          1.45,
          0.33,
          0.01,
          0.91,
          0.08,
          0.29,
          0.04,
          0.03,
          3.42,
          0.04,
          0.05,
          0.03,
          0.06,
          0.07,
          0.02,
          0.03,
          0.38,
          0.07,
          0.15,
          0.01,
          0.09,
          0.02,
          2.27,
          3.64,
          0.02,
          0.07,
          0.02,
          0.19,
          1.74,
          0.17,
          0.95,
          0.08,
          0.05,
          3.04,
          0,
          0,
          0.01,
          0.02,
          0.07,
          0.03,
          0.06,
          4.81,
          0.16,
          0.04,
          0.37,
          0.07,
          0.1,
          0.09,
          0.08,
          4.05,
          2.74,
          0.07,
          0.05,
          3.45,
          0.03,
          0.04,
          0.03,
          2.97,
          0.04,
          0.1,
          0.02,
          0.05,
          0.01,
          3.49,
          0.05,
          0.1,
          0.07,
          0.28,
          0.07,
          0.08,
          0.01,
          0.03,
          0.02,
          0.05,
          0.06,
          0.06,
          0.04,
          0.04,
          2.31,
          0.08,
          0.05,
          0.02,
          0.02,
          4.04,
          0.01,
          0.01,
          0.1,
          0.3,
          0.09,
          1.15,
          0.25,
          0.07,
          0,
          0.09,
          0.07,
          0.06,
          0.07,
          2.11,
          0.01,
          4.62,
          0.01,
          0.03,
          0.08,
          0.01,
          2.96,
          0.07,
          0.28,
          0.01,
          0.08,
          0.05,
          0.06,
          0.09,
          0.04,
          4.12,
          0.02,
          0.01,
          0.04,
          0.05,
          0.19,
          0.06,
          0.15,
          0.11,
          0.09,
          0.04,
          4.57,
          1.39,
          0.05,
          0.08,
          0.09,
          1.76,
          0.04,
          0.07,
          0.11,
          0.05,
          0,
          0.05,
          0.07,
          0.27,
          0.02,
          0.01,
          0.03,
          0.01,
          0.07,
          0.07,
          0.41,
          0.02,
          3.56,
          0.01,
          0.07,
          1.56,
          0.05,
          0.02,
          0.02,
          0.07,
          1.45,
          0.04,
          0.53,
          0.01,
          0.01,
          0.11,
          1.86,
          0,
          0.1,
          0.04,
          1.13,
          0.12,
          0.08,
          0.08,
          0.04,
          0.03,
          0.01,
          3.23,
          0.01,
          0,
          0.07,
          4.44,
          3.1,
          0.81,
          0.01,
          0.08,
          2.63,
          0.03,
          0.37,
          0,
          0.36,
          0.09,
          0.02,
          1.76,
          0.08,
          4.43,
          1.77,
          0.03,
          0.06,
          4.89,
          0.1,
          0.03,
          0.06,
          0.03,
          0.01,
          0.03,
          0.05,
          0.03,
          0.04,
          0.03,
          3.23,
          2.16,
          0.08,
          0.07,
          0.1,
          2.14,
          0.06,
          0.02,
          4.9,
          0.23,
          0.02,
          3.02,
          0.03,
          0.07,
          0.04,
          0.05,
          0.08,
          0.06,
          0.06,
          0.01,
          0.02,
          0.11,
          2.23,
          0.1,
          0,
          0.09,
          0.04,
          0.06,
          0.02,
          0.47,
          0.1,
          0.07,
          0.08,
          0.14,
          0.1,
          0.06,
          0.09,
          2.78,
          0.08,
          0,
          0.06,
          0.04,
          0.03,
          0.05,
          0.06,
          0.09,
          0.01,
          0.01,
          0.09,
          0.07,
          0.17,
          0.1,
          0.04,
          0.06,
          0.04,
          0.01,
          0.68,
          4.08,
          0.09,
          0.08,
          0.11,
          0,
          0.1,
          0.06,
          0.09,
          0.28,
          2.16,
          0.03,
          0.06,
          0.07,
          4.09,
          0.13,
          0.6,
          0.08,
          2.02,
          3.51,
          0.09,
          0.02,
          0.21,
          0.05,
          0.06,
          0.09,
          0.02,
          0.02,
          0.08,
          0.02,
          0.01,
          0.05,
          0.01,
          0.07,
          0.01,
          0.07,
          0.04,
          0.04,
          0.01,
          0,
          0.03,
          0.04,
          0.08,
          0.09,
          1.92,
          0.06,
          0.32,
          4.87,
          0.04,
          0.09,
          0.36,
          0.03,
          0.03,
          0.02,
          0.02,
          0.01,
          0.03,
          0.09,
          0,
          0.03,
          0.04,
          0,
          3.75,
          0.07,
          0.92,
          1.13,
          0.06,
          0.05,
          0.07,
          0.05,
          0.08,
          0.09,
          0.04,
          0.04,
          0.06,
          0,
          0.46,
          3.33,
          0.08,
          0.02,
          0.02,
          0.09,
          3.51,
          0.03,
          0.06,
          0.05,
          0.07,
          0.09,
          0.06,
          3.48,
          0.05,
          4.88,
          0.09,
          0.02,
          0.03,
          0.08,
          2.34,
          0.1,
          0.04,
          0.05,
          0.1,
          0.1,
          0.53,
          0.1,
          0.07,
          0.03,
          0.04,
          0.2,
          0.28,
          2.27,
          0.03,
          0.25,
          0,
          0.14,
          0.04,
          0.12,
          0.01,
          0.04,
          1.95,
          0.02,
          4.84,
          0.05,
          0.09,
          0.04,
          0.31,
          0.27,
          0.07,
          0.03,
          0.06,
          0.03,
          2.29,
          0.06,
          0.3,
          0.07,
          3.2,
          0.08,
          0.04,
          3.9,
          3.61,
          0.04,
          0.01,
          0.01,
          2.67,
          0.1,
          0.01,
          0.09,
          0.03,
          0.07,
          0.02,
          0.21,
          0.04,
          0.04,
          2.66,
          0.05,
          0.06,
          0.09,
          0.07,
          0.04,
          0.08,
          3.04,
          0.04,
          0.02,
          0.01,
          4.02
         ],
         "y": [
          0.07,
          0.002,
          0.13,
          0.005,
          0.02,
          0.003,
          0.08,
          0.07,
          0.001,
          0.02,
          0.04,
          0,
          0.06,
          0.01,
          0.008,
          0.01,
          0.06,
          0.05,
          0.08,
          0.04,
          0.03,
          0.009,
          0.07,
          0.03,
          0.06,
          0.09,
          0.004,
          0.008,
          0.05,
          0.12,
          0.002,
          0.01,
          0.07,
          0.04,
          0.04,
          0.006,
          0.05,
          0.07,
          0.02,
          0.05,
          0.05,
          0.01,
          0.08,
          0.06,
          0.06,
          0.09,
          0.008,
          0.02,
          0.04,
          0.004,
          0.11,
          0.09,
          0.04,
          0.05,
          0.05,
          0.1,
          0.05,
          0.02,
          0.09,
          0.08,
          0.05,
          0.02,
          0.06,
          0.11,
          0,
          0.03,
          0.03,
          0.01,
          0.07,
          0.04,
          0,
          0.06,
          0.04,
          0.01,
          0.1,
          0.03,
          0.06,
          0.02,
          0.02,
          0.03,
          0.05,
          0.08,
          0.09,
          0.02,
          0.07,
          0.05,
          0.12,
          0.03,
          0.05,
          0.04,
          0.07,
          0.004,
          0.01,
          0.005,
          0.01,
          0,
          0.1,
          0.03,
          0.09,
          0.03,
          0.002,
          0.09,
          0.004,
          0.02,
          0.07,
          0.006,
          0.02,
          0.002,
          0.003,
          0.004,
          0.001,
          0.05,
          0.009,
          0.01,
          0.1,
          0.03,
          0,
          0.05,
          0.09,
          0,
          0.09,
          0.11,
          0.01,
          0.12,
          0.01,
          0.02,
          0.001,
          0.03,
          0.02,
          0.04,
          0.09,
          0.09,
          0.04,
          0.08,
          0.09,
          0.01,
          0.01,
          0.09,
          0.09,
          0.02,
          0.07,
          0.004,
          0.04,
          0.09,
          0.03,
          0.001,
          0.04,
          0.07,
          0.05,
          0.08,
          0.02,
          0.004,
          0.01,
          0.001,
          0.001,
          0.05,
          0.05,
          0.07,
          0.004,
          0.07,
          0.07,
          0.05,
          0.07,
          0.1,
          0.006,
          0.04,
          0.06,
          0.1,
          0.02,
          0.05,
          0.02,
          0.006,
          0.02,
          0.04,
          0.07,
          0.09,
          0.05,
          0.12,
          0.1,
          0.06,
          0.03,
          0.09,
          0.005,
          0.03,
          0.007,
          0.002,
          0.03,
          0.005,
          0.02,
          0.009,
          0.13,
          0.09,
          0.02,
          0.05,
          0.09,
          0.02,
          0.005,
          0.05,
          0.03,
          0.004,
          0.08,
          0.003,
          0.009,
          0.005,
          0.01,
          0.11,
          0.1,
          0.001,
          0.02,
          0.06,
          0,
          0.01,
          0.07,
          0.006,
          0.09,
          0.05,
          0.001,
          0.11,
          0.07,
          0.04,
          0.001,
          0.1,
          0,
          0.03,
          0.008,
          0.05,
          0.02,
          0.01,
          0.1,
          0.11,
          0.06,
          0.04,
          0.06,
          0.06,
          0.01,
          0.04,
          0.03,
          0.03,
          0.04,
          0.02,
          0.05,
          0.05,
          0.04,
          0.1,
          0.006,
          0.08,
          0.09,
          0.001,
          0.009,
          0.01,
          0,
          0.08,
          0.01,
          0.04,
          0.001,
          0.007,
          0.1,
          0.03,
          0.03,
          0.12,
          0.08,
          0.07,
          0.09,
          0.02,
          0.07,
          0.04,
          0.11,
          0.002,
          0.12,
          0.06,
          0.006,
          0.09,
          0.03,
          0.09,
          0,
          0,
          0,
          0.06,
          0.002,
          0.13,
          0.05,
          0.002,
          0.001,
          0.07,
          0.04,
          0.001,
          0.06,
          0,
          0.07,
          0.09,
          0.001,
          0.07,
          0.06,
          0.01,
          0.006,
          0.002,
          0.005,
          0.04,
          0.08,
          0.1,
          0.001,
          0.01,
          0.03,
          0.01,
          0.08,
          0.09,
          0.03,
          0.05,
          0.08,
          0.05,
          0.04,
          0.09,
          0.06,
          0.002,
          0.04,
          0.06,
          0.01,
          0.1,
          0.03,
          0.13,
          0.08,
          0.1,
          0.04,
          0.05,
          0.09,
          0.01,
          0.06,
          0.07,
          0.03,
          0.004,
          0.03,
          0.01,
          0.09,
          0.07,
          0.06,
          0.04,
          0.004,
          0.02,
          0.08,
          0.1,
          0.05,
          0.006,
          0.09,
          0.05,
          0.09,
          0.09,
          0.1,
          0.01,
          0.09,
          0.1,
          0.08,
          0.09,
          0.01,
          0.04,
          0.009,
          0.08,
          0.01,
          0.08,
          0.002,
          0.009,
          0.01,
          0.03,
          0,
          0.03,
          0.03,
          0.04,
          0.07,
          0.004,
          0.01,
          0.03,
          0.07,
          0.008,
          0.01,
          0.005,
          0.09,
          0.08,
          0.12,
          0.02,
          0.05,
          0.12,
          0.09,
          0.07,
          0.01,
          0.008,
          0.07,
          0.12,
          0.07,
          0.04,
          0.09,
          0.02,
          0.05,
          0.03,
          0.05,
          0.04,
          0.07,
          0.06,
          0.09,
          0.07,
          0.07,
          0.09,
          0.05,
          0.005,
          0.09,
          0.03,
          0.06,
          0.08,
          0.08,
          0.12,
          0.008,
          0.03,
          0.001,
          0.007,
          0.01,
          0.004,
          0.04,
          0.06,
          0.01,
          0.007,
          0.04,
          0.09,
          0.04,
          0.09,
          0.04,
          0.05,
          0.01,
          0.07,
          0.05,
          0.01,
          0.07,
          0.12,
          0.07,
          0.02,
          0.06,
          0.04,
          0.001,
          0.07,
          0.004,
          0.09,
          0.07,
          0.08,
          0.001,
          0.08,
          0.006,
          0.07,
          0.04,
          0.09,
          0.07,
          0.05,
          0.04,
          0.004,
          0.06,
          0.01,
          0.12,
          0.06,
          0.1,
          0.03,
          0.02,
          0.01,
          0.04,
          0.009,
          0.07,
          0.07,
          0.05,
          0.004,
          0.006,
          0.02,
          0.001,
          0.08,
          0.06,
          0.1,
          0.11,
          0.07,
          0.02,
          0.002,
          0.08,
          0.09,
          0.04,
          0.04,
          0.01,
          0.05,
          0.05,
          0.005,
          0.02,
          0.03,
          0.09,
          0.11,
          0.08,
          0.1,
          0.01,
          0.08,
          0.13,
          0.09,
          0.12,
          0.01,
          0.02,
          0.05,
          0.13,
          0.06,
          0.08,
          0.06,
          0.13,
          0.06,
          0.09,
          0.03,
          0.002,
          0.07,
          0.001,
          0.08,
          0.03,
          0.07,
          0.04,
          0.001,
          0.03,
          0.04,
          0.06,
          0.07,
          0.05,
          0.01,
          0.008,
          0.06,
          0.1,
          0.11,
          0.005,
          0.1,
          0.004,
          0,
          0,
          0.09,
          0.02,
          0.09,
          0.008,
          0.08,
          0.1,
          0.04,
          0.07,
          0.06,
          0.07,
          0.09,
          0.06,
          0.03,
          0.09,
          0.004,
          0.06,
          0.06,
          0.03,
          0.004,
          0,
          0.09,
          0.03,
          0.03,
          0.09,
          0.13,
          0.06,
          0.09,
          0.06,
          0.07,
          0.001,
          0.11,
          0.07,
          0.01,
          0.04,
          0.1,
          0.1,
          0,
          0.09,
          0,
          0.06,
          0.09,
          0.07,
          0.06,
          0.04,
          0.009,
          0.03,
          0.01,
          0.07,
          0.03,
          0.06,
          0.08,
          0.03,
          0.1,
          0.05,
          0.06,
          0.1,
          0.03,
          0.002,
          0.07,
          0.01,
          0.09,
          0.09,
          0.1,
          0.03,
          0.07,
          0.001,
          0.03,
          0.008,
          0.07,
          0.05,
          0.03,
          0.07,
          0.03,
          0,
          0.01,
          0.04,
          0.01,
          0.04,
          0.006,
          0.05,
          0.03,
          0.007,
          0.11,
          0,
          0.02,
          0.02,
          0.08,
          0.04,
          0.02,
          0.08,
          0.11,
          0.06,
          0.008,
          0.009,
          0.03,
          0.003,
          0.04,
          0.07,
          0.06,
          0.002,
          0.002,
          0.01,
          0.07,
          0.1,
          0.07,
          0.02,
          0.003,
          0.04,
          0.02,
          0.09,
          0.11,
          0.002,
          0.02,
          0.07,
          0.03,
          0.01,
          0.03,
          0.06,
          0,
          0.07,
          0.001,
          0.02,
          0.09,
          0.001,
          0.01,
          0.03,
          0.003,
          0.02,
          0.08,
          0.1,
          0.008,
          0.1,
          0.01,
          0.09,
          0.03,
          0.03,
          0.03,
          0.09,
          0.005,
          0.03,
          0.02,
          0.13,
          0.08,
          0.006,
          0.01,
          0.002,
          0.06,
          0,
          0.11,
          0.09,
          0.13,
          0.08,
          0.05,
          0.04,
          0.03,
          0.02,
          0.002,
          0.001,
          0.04,
          0.04,
          0.05,
          0.05,
          0.04,
          0.02,
          0.02,
          0.01,
          0.04,
          0.09,
          0.006,
          0.02,
          0.07,
          0.01,
          0.001,
          0.03,
          0.02,
          0.01,
          0.12,
          0.05,
          0.001,
          0,
          0.02,
          0.01,
          0.008,
          0.02,
          0.08,
          0.02,
          0.001,
          0.06,
          0.07,
          0.008,
          0.02,
          0.05,
          0.07,
          0.09,
          0.006,
          0,
          0.04,
          0.06,
          0.008,
          0.09,
          0.006,
          0.02,
          0.11,
          0.05,
          0.07,
          0.002,
          0.02,
          0.01,
          0.02,
          0.002,
          0.04,
          0.007,
          0.08,
          0.01,
          0.04,
          0.06,
          0.01,
          0.07,
          0.07,
          0.05,
          0.02,
          0.1,
          0.03,
          0.08,
          0.004,
          0.007,
          0.05,
          0.01,
          0.07,
          0.13,
          0.03,
          0.04,
          0.09,
          0.08,
          0.06,
          0.07,
          0.04,
          0.008,
          0.03,
          0.005,
          0.09,
          0.07,
          0.001,
          0.001,
          0.09,
          0.02,
          0.01,
          0.03,
          0.04,
          0.05,
          0.09,
          0.01,
          0.01,
          0.1,
          0.09,
          0.01,
          0.03,
          0,
          0.07,
          0.06,
          0.003,
          0.002,
          0.1,
          0.008,
          0.05,
          0.08,
          0.05,
          0.12,
          0.001,
          0.1,
          0.03,
          0.07,
          0.05,
          0.05,
          0.01,
          0.001,
          0.007,
          0.05,
          0.01,
          0.1,
          0.05,
          0.08,
          0.06,
          0.002,
          0.08,
          0.11,
          0.11,
          0.001,
          0.08,
          0.06,
          0.001,
          0.06,
          0.03,
          0.01,
          0.01,
          0.01,
          0.09,
          0.06,
          0.11,
          0.005,
          0.05,
          0.05,
          0.05,
          0.09,
          0.01,
          0.07,
          0.09,
          0.09,
          0.02,
          0.1,
          0.05,
          0,
          0.001,
          0.07,
          0.05,
          0.04,
          0.04,
          0.006,
          0.07,
          0.01,
          0.002,
          0.01,
          0.07,
          0.06,
          0.01,
          0.07,
          0.07,
          0.03,
          0.05,
          0.12,
          0.05,
          0.04,
          0.004,
          0.006,
          0.001,
          0.01,
          0.04,
          0.01,
          0.03,
          0,
          0.06,
          0.13,
          0.06,
          0.04,
          0,
          0.009,
          0.001,
          0.07,
          0.01,
          0.04,
          0.08,
          0.006,
          0.02,
          0.02,
          0.04,
          0.06,
          0.1,
          0.04,
          0.05,
          0.05,
          0.08,
          0.09,
          0.001,
          0.001,
          0.02,
          0.01,
          0.07,
          0.12,
          0.02,
          0.02,
          0.02,
          0.05,
          0.06,
          0.08,
          0.04,
          0.01,
          0.007,
          0.06,
          0.07,
          0.06,
          0.11,
          0.008,
          0.06,
          0.1,
          0.07
         ],
         "z": [
          0.04,
          0,
          0.02,
          0.05,
          0.04,
          0.03,
          0.07,
          0.05,
          0.05,
          0.04,
          0.01,
          0.04,
          0.05,
          0.01,
          0.04,
          0.05,
          0.06,
          0.06,
          0.02,
          0.07,
          0.07,
          0.04,
          0.05,
          0.03,
          0.08,
          0.06,
          0.03,
          0.09,
          0.03,
          0.07,
          0.06,
          0.09,
          0.01,
          0.07,
          0.01,
          0.05,
          0.01,
          0.01,
          0.07,
          0.08,
          0.02,
          0.06,
          0.05,
          0.03,
          0.07,
          0.03,
          0.03,
          0.08,
          0.06,
          0.03,
          0,
          0.09,
          0.03,
          0.07,
          0.09,
          0.01,
          0.08,
          0.02,
          0.03,
          0,
          0.04,
          0.09,
          0.06,
          0.03,
          0.02,
          0.07,
          0.08,
          0.05,
          0.02,
          0.09,
          0.04,
          0.07,
          0.03,
          0.02,
          0.07,
          0.08,
          0.04,
          0.03,
          0.02,
          0.07,
          0.04,
          0.02,
          0.01,
          0.06,
          0.09,
          0.08,
          0.02,
          0,
          0.03,
          0.08,
          0.01,
          0.06,
          0.07,
          0,
          0.05,
          0.07,
          0.05,
          0.05,
          0.08,
          0,
          0.08,
          0.09,
          0.07,
          0.08,
          0.08,
          0.06,
          0.04,
          0.09,
          0.06,
          0.06,
          0.01,
          0.07,
          0.08,
          0.06,
          0.04,
          0.02,
          0.05,
          0.01,
          0.06,
          0.07,
          0.04,
          0.09,
          0.06,
          0.07,
          0.05,
          0.01,
          0.09,
          0.08,
          0.07,
          0.08,
          0.04,
          0.02,
          0.02,
          0.05,
          0.05,
          0.06,
          0.02,
          0.03,
          0.08,
          0,
          0.05,
          0.05,
          0.01,
          0.05,
          0.01,
          0.06,
          0.08,
          0.08,
          0.06,
          0.04,
          0,
          0.03,
          0.04,
          0.01,
          0.05,
          0.03,
          0.01,
          0.02,
          0.03,
          0.05,
          0,
          0,
          0.04,
          0.03,
          0.06,
          0.03,
          0.05,
          0.07,
          0.04,
          0.03,
          0.03,
          0.09,
          0.06,
          0.04,
          0.02,
          0.04,
          0.09,
          0.01,
          0.02,
          0.02,
          0.07,
          0.07,
          0.03,
          0,
          0.08,
          0.06,
          0.02,
          0.07,
          0.06,
          0.03,
          0.03,
          0.04,
          0.03,
          0.05,
          0.09,
          0.07,
          0,
          0.08,
          0.07,
          0.06,
          0.06,
          0.06,
          0.09,
          0.08,
          0,
          0.03,
          0,
          0.05,
          0.07,
          0.09,
          0.01,
          0.04,
          0.03,
          0.08,
          0.01,
          0.02,
          0.03,
          0.02,
          0.06,
          0.02,
          0.07,
          0.06,
          0.03,
          0.01,
          0.06,
          0.08,
          0,
          0.07,
          0.02,
          0.09,
          0.07,
          0.08,
          0.01,
          0.08,
          0.02,
          0.08,
          0.06,
          0.05,
          0,
          0.09,
          0.02,
          0.04,
          0.03,
          0.07,
          0.01,
          0.01,
          0,
          0.05,
          0.01,
          0,
          0.06,
          0.01,
          0.03,
          0.05,
          0.02,
          0.01,
          0.06,
          0.05,
          0.06,
          0.08,
          0.03,
          0.07,
          0.08,
          0.02,
          0.05,
          0.08,
          0.05,
          0.05,
          0.02,
          0.05,
          0.02,
          0.01,
          0.01,
          0.08,
          0.08,
          0,
          0.08,
          0.03,
          0.09,
          0.07,
          0.06,
          0.02,
          0.04,
          0.07,
          0.07,
          0.04,
          0.04,
          0.05,
          0.04,
          0.05,
          0.07,
          0.01,
          0.03,
          0.01,
          0.02,
          0.09,
          0.07,
          0,
          0.04,
          0.08,
          0.09,
          0.05,
          0,
          0.05,
          0.06,
          0.03,
          0.03,
          0.04,
          0.05,
          0.07,
          0.03,
          0.08,
          0.07,
          0.02,
          0.04,
          0.03,
          0.01,
          0.07,
          0,
          0.06,
          0.04,
          0.08,
          0.07,
          0.05,
          0.02,
          0.07,
          0.02,
          0.05,
          0,
          0.07,
          0.08,
          0.08,
          0.03,
          0.04,
          0.07,
          0.06,
          0.05,
          0.03,
          0.08,
          0.08,
          0.02,
          0.03,
          0.08,
          0.08,
          0.08,
          0,
          0,
          0.07,
          0.08,
          0.06,
          0.08,
          0.04,
          0,
          0.05,
          0.03,
          0.07,
          0.02,
          0,
          0.08,
          0.02,
          0.05,
          0.06,
          0,
          0.02,
          0.03,
          0.02,
          0.04,
          0.04,
          0.03,
          0.05,
          0.05,
          0.05,
          0.05,
          0.05,
          0.08,
          0,
          0.02,
          0.06,
          0.06,
          0.02,
          0.04,
          0.05,
          0.01,
          0.09,
          0.04,
          0.06,
          0.04,
          0,
          0,
          0,
          0.01,
          0.03,
          0,
          0.09,
          0.01,
          0.03,
          0.01,
          0.09,
          0.02,
          0.02,
          0.05,
          0.04,
          0.07,
          0.05,
          0.02,
          0.02,
          0.09,
          0,
          0.02,
          0.03,
          0,
          0.08,
          0.03,
          0.05,
          0.05,
          0.08,
          0.01,
          0.05,
          0.08,
          0.01,
          0.08,
          0.01,
          0.09,
          0.08,
          0.02,
          0.09,
          0.01,
          0.08,
          0.03,
          0.02,
          0.07,
          0.07,
          0,
          0.03,
          0.03,
          0.06,
          0.03,
          0.07,
          0.08,
          0.02,
          0.08,
          0.06,
          0.03,
          0.03,
          0.07,
          0.09,
          0.06,
          0.06,
          0.05,
          0.01,
          0.07,
          0.05,
          0.08,
          0.07,
          0,
          0.04,
          0.03,
          0.03,
          0.03,
          0.03,
          0.05,
          0,
          0.04,
          0,
          0.03,
          0.06,
          0.04,
          0.08,
          0.02,
          0.02,
          0.09,
          0.08,
          0.06,
          0.02,
          0.04,
          0.04,
          0.05,
          0.01,
          0.06,
          0.02,
          0,
          0.07,
          0,
          0.08,
          0.01,
          0.06,
          0.05,
          0.08,
          0.03,
          0.07,
          0.03,
          0.01,
          0.08,
          0.07,
          0.08,
          0.04,
          0.04,
          0.01,
          0.06,
          0,
          0.05,
          0.04,
          0.06,
          0.06,
          0.05,
          0.07,
          0.07,
          0.01,
          0.03,
          0.06,
          0.07,
          0.06,
          0.07,
          0.03,
          0.03,
          0.09,
          0.02,
          0.04,
          0.06,
          0.07,
          0.09,
          0,
          0.05,
          0,
          0.01,
          0.01,
          0.05,
          0.01,
          0,
          0.03,
          0,
          0.03,
          0.02,
          0.01,
          0,
          0.06,
          0.03,
          0.05,
          0.08,
          0.06,
          0.08,
          0.07,
          0.07,
          0.02,
          0.03,
          0.06,
          0.03,
          0,
          0.05,
          0.04,
          0.08,
          0.07,
          0.03,
          0.06,
          0.02,
          0.09,
          0.03,
          0.09,
          0.08,
          0.09,
          0.02,
          0.06,
          0.05,
          0.01,
          0.05,
          0.07,
          0.08,
          0.07,
          0.08,
          0.03,
          0.08,
          0.06,
          0,
          0.03,
          0.08,
          0,
          0.01,
          0,
          0.06,
          0.06,
          0.09,
          0.02,
          0.04,
          0.07,
          0.08,
          0.05,
          0.04,
          0.06,
          0.02,
          0.07,
          0.02,
          0.02,
          0.05,
          0,
          0.07,
          0.06,
          0.06,
          0.04,
          0.02,
          0.04,
          0.05,
          0.05,
          0.05,
          0.07,
          0.02,
          0.05,
          0.04,
          0.08,
          0.05,
          0.08,
          0.03,
          0.03,
          0.02,
          0.01,
          0.05,
          0.09,
          0.02,
          0.04,
          0.02,
          0.02,
          0.06,
          0.05,
          0.05,
          0.01,
          0.06,
          0.08,
          0.04,
          0.05,
          0.02,
          0.06,
          0.05,
          0.06,
          0.09,
          0.07,
          0.05,
          0.07,
          0.03,
          0.07,
          0.09,
          0.06,
          0.03,
          0.02,
          0.03,
          0.04,
          0.09,
          0.04,
          0.06,
          0.04,
          0.09,
          0.03,
          0.01,
          0.05,
          0.06,
          0.07,
          0.05,
          0.03,
          0.05,
          0.01,
          0.03,
          0.02,
          0.09,
          0.03,
          0.01,
          0.08,
          0,
          0.08,
          0.07,
          0.04,
          0.06,
          0.03,
          0.07,
          0.02,
          0.07,
          0.01,
          0.07,
          0.04,
          0.01,
          0.06,
          0.03,
          0.07,
          0.06,
          0.03,
          0,
          0.09,
          0.03,
          0.07,
          0,
          0.02,
          0.05,
          0.08,
          0.06,
          0.04,
          0.02,
          0.01,
          0.02,
          0.01,
          0.02,
          0.01,
          0,
          0.04,
          0.04,
          0.05,
          0.08,
          0.05,
          0.07,
          0.08,
          0.05,
          0.04,
          0.05,
          0.01,
          0.08,
          0.08,
          0.07,
          0,
          0.02,
          0.04,
          0.08,
          0,
          0.06,
          0.07,
          0.07,
          0.06,
          0.01,
          0.03,
          0.08,
          0.01,
          0,
          0.07,
          0.04,
          0.06,
          0,
          0.05,
          0.01,
          0.03,
          0.01,
          0.05,
          0.01,
          0.05,
          0.07,
          0.07,
          0.08,
          0.08,
          0.05,
          0.02,
          0.02,
          0.08,
          0,
          0.06,
          0.06,
          0.07,
          0.03,
          0.01,
          0.03,
          0,
          0.07,
          0.04,
          0.09,
          0.05,
          0.01,
          0.03,
          0.05,
          0.08,
          0.06,
          0.03,
          0.05,
          0.04,
          0,
          0.05,
          0,
          0.04,
          0.03,
          0.03,
          0.01,
          0.06,
          0.09,
          0.03,
          0.03,
          0.08,
          0,
          0.02,
          0.09,
          0.01,
          0.03,
          0.04,
          0.03,
          0.05,
          0.05,
          0.01,
          0.06,
          0.06,
          0.04,
          0,
          0.07,
          0.05,
          0.05,
          0.07,
          0.09,
          0.07,
          0,
          0.01,
          0.07,
          0.06,
          0.03,
          0.08,
          0.08,
          0.03,
          0.04,
          0.08,
          0.04,
          0.04,
          0.07,
          0.04,
          0.03,
          0.08,
          0,
          0.03,
          0.03,
          0.04,
          0.04,
          0.04,
          0.02,
          0.03,
          0.06,
          0,
          0.04,
          0.06,
          0,
          0.01,
          0.01,
          0.09,
          0.05,
          0.06,
          0.03,
          0.07,
          0.04,
          0.05,
          0.01,
          0.02,
          0.05,
          0.05,
          0.08,
          0.05,
          0.07,
          0.02,
          0.05,
          0.02,
          0.03,
          0.01,
          0.09,
          0.05,
          0.09,
          0.07,
          0.06,
          0.07,
          0.01,
          0.07,
          0.04,
          0.05,
          0,
          0.02,
          0.05,
          0.07,
          0.05,
          0.08,
          0.04,
          0.01,
          0.08,
          0.03,
          0.02,
          0.01,
          0.05,
          0.08,
          0.09,
          0.04,
          0.07,
          0.05,
          0.06,
          0.06,
          0.08,
          0.03,
          0.03,
          0.06,
          0.01,
          0.03,
          0.02,
          0.07,
          0,
          0.08,
          0.01,
          0.03,
          0.05,
          0.02,
          0.08,
          0.04,
          0.08,
          0.04,
          0,
          0,
          0,
          0.07,
          0.02,
          0.01,
          0.05,
          0.02,
          0.08,
          0.01,
          0.05,
          0,
          0.07,
          0.05,
          0.07,
          0.02
         ]
        },
        {
         "customdata": [
          [
           0.35,
           "1"
          ],
          [
           5.28,
           "1"
          ],
          [
           7.23,
           "1"
          ],
          [
           2.67,
           "1"
          ],
          [
           0.8,
           "1"
          ],
          [
           3.14,
           "1"
          ],
          [
           6.4,
           "1"
          ],
          [
           0.1,
           "1"
          ],
          [
           0.05,
           "1"
          ],
          [
           0.7,
           "1"
          ],
          [
           5.99,
           "1"
          ],
          [
           1.94,
           "1"
          ],
          [
           5.29,
           "1"
          ],
          [
           7.78,
           "1"
          ],
          [
           0.01,
           "1"
          ],
          [
           4.57,
           "1"
          ],
          [
           3.47,
           "1"
          ],
          [
           3.74,
           "1"
          ],
          [
           7.22,
           "1"
          ],
          [
           2.55,
           "1"
          ],
          [
           6.63,
           "1"
          ],
          [
           5.87,
           "1"
          ],
          [
           2.86,
           "1"
          ],
          [
           4,
           "1"
          ],
          [
           4.55,
           "1"
          ],
          [
           4.94,
           "1"
          ],
          [
           0.64,
           "1"
          ],
          [
           2.9,
           "1"
          ],
          [
           5.71,
           "1"
          ],
          [
           0.22,
           "1"
          ],
          [
           6.11,
           "1"
          ],
          [
           0.68,
           "1"
          ],
          [
           7.7,
           "1"
          ],
          [
           7.97,
           "1"
          ],
          [
           6.19,
           "1"
          ],
          [
           0.9,
           "1"
          ],
          [
           4.5,
           "1"
          ],
          [
           0.88,
           "1"
          ],
          [
           1.13,
           "1"
          ],
          [
           3.85,
           "1"
          ],
          [
           6.16,
           "1"
          ],
          [
           7.06,
           "1"
          ],
          [
           4.4,
           "1"
          ],
          [
           4.89,
           "1"
          ],
          [
           6.57,
           "1"
          ],
          [
           2.15,
           "1"
          ],
          [
           2.38,
           "1"
          ],
          [
           4.77,
           "1"
          ],
          [
           1.97,
           "1"
          ],
          [
           3.4,
           "1"
          ],
          [
           5.27,
           "1"
          ],
          [
           3.35,
           "1"
          ],
          [
           7.56,
           "1"
          ],
          [
           0.13,
           "1"
          ],
          [
           7.52,
           "1"
          ],
          [
           3.57,
           "1"
          ],
          [
           6.02,
           "1"
          ],
          [
           1.12,
           "1"
          ],
          [
           0.19,
           "1"
          ],
          [
           1.85,
           "1"
          ],
          [
           4.25,
           "1"
          ],
          [
           2.38,
           "1"
          ],
          [
           1.89,
           "1"
          ],
          [
           4.59,
           "1"
          ],
          [
           6.25,
           "1"
          ],
          [
           5.22,
           "1"
          ],
          [
           1.86,
           "1"
          ],
          [
           7.37,
           "1"
          ],
          [
           3.07,
           "1"
          ],
          [
           2.89,
           "1"
          ],
          [
           3.58,
           "1"
          ],
          [
           6.75,
           "1"
          ],
          [
           7.97,
           "1"
          ],
          [
           1.33,
           "1"
          ],
          [
           0.63,
           "1"
          ],
          [
           5.07,
           "1"
          ],
          [
           4.13,
           "1"
          ],
          [
           2.52,
           "1"
          ],
          [
           3.71,
           "1"
          ],
          [
           1.87,
           "1"
          ],
          [
           4.3,
           "1"
          ],
          [
           2.26,
           "1"
          ],
          [
           3.42,
           "1"
          ],
          [
           5.65,
           "1"
          ],
          [
           5.72,
           "1"
          ],
          [
           0.89,
           "1"
          ],
          [
           1.57,
           "1"
          ],
          [
           2.74,
           "1"
          ],
          [
           0.79,
           "1"
          ],
          [
           1.69,
           "1"
          ],
          [
           6.21,
           "1"
          ],
          [
           1.07,
           "1"
          ],
          [
           3.95,
           "1"
          ],
          [
           7.59,
           "1"
          ],
          [
           0.98,
           "1"
          ],
          [
           4.95,
           "1"
          ],
          [
           0.8,
           "1"
          ],
          [
           2.45,
           "1"
          ],
          [
           1.36,
           "1"
          ],
          [
           6.5,
           "1"
          ],
          [
           6.75,
           "1"
          ],
          [
           3.61,
           "1"
          ],
          [
           0.81,
           "1"
          ],
          [
           4.06,
           "1"
          ],
          [
           4.42,
           "1"
          ],
          [
           0.09,
           "1"
          ],
          [
           3.26,
           "1"
          ],
          [
           0.85,
           "1"
          ],
          [
           7.12,
           "1"
          ],
          [
           3.69,
           "1"
          ],
          [
           3.41,
           "1"
          ],
          [
           3.1,
           "1"
          ],
          [
           1.53,
           "1"
          ],
          [
           2.4,
           "1"
          ],
          [
           3.08,
           "1"
          ],
          [
           7.91,
           "1"
          ],
          [
           0.07,
           "1"
          ],
          [
           5.48,
           "1"
          ],
          [
           0.67,
           "1"
          ],
          [
           3.91,
           "1"
          ],
          [
           4.95,
           "1"
          ],
          [
           0.4,
           "1"
          ],
          [
           4.69,
           "1"
          ],
          [
           1.49,
           "1"
          ],
          [
           2.91,
           "1"
          ],
          [
           0.88,
           "1"
          ],
          [
           6.8,
           "1"
          ],
          [
           7.51,
           "1"
          ],
          [
           5.92,
           "1"
          ],
          [
           5.83,
           "1"
          ],
          [
           5.17,
           "1"
          ],
          [
           6.13,
           "1"
          ],
          [
           4.36,
           "1"
          ],
          [
           5.25,
           "1"
          ],
          [
           7.24,
           "1"
          ],
          [
           4.54,
           "1"
          ],
          [
           1.44,
           "1"
          ],
          [
           0,
           "1"
          ],
          [
           7.33,
           "1"
          ],
          [
           5.99,
           "1"
          ],
          [
           4.62,
           "1"
          ],
          [
           3.62,
           "1"
          ],
          [
           5.23,
           "1"
          ],
          [
           4.57,
           "1"
          ],
          [
           6.69,
           "1"
          ],
          [
           6.52,
           "1"
          ],
          [
           0.83,
           "1"
          ],
          [
           6.93,
           "1"
          ],
          [
           5.34,
           "1"
          ],
          [
           2.84,
           "1"
          ],
          [
           6.11,
           "1"
          ],
          [
           3.45,
           "1"
          ],
          [
           3.71,
           "1"
          ],
          [
           2.1,
           "1"
          ],
          [
           1.83,
           "1"
          ],
          [
           6.81,
           "1"
          ],
          [
           7.02,
           "1"
          ],
          [
           7.96,
           "1"
          ],
          [
           7.07,
           "1"
          ],
          [
           6.55,
           "1"
          ],
          [
           6.76,
           "1"
          ],
          [
           3.5,
           "1"
          ],
          [
           6.99,
           "1"
          ],
          [
           1.37,
           "1"
          ],
          [
           3.47,
           "1"
          ],
          [
           7.17,
           "1"
          ],
          [
           6.68,
           "1"
          ],
          [
           1.48,
           "1"
          ],
          [
           1.09,
           "1"
          ],
          [
           1.87,
           "1"
          ],
          [
           4.6,
           "1"
          ],
          [
           5.67,
           "1"
          ],
          [
           3.74,
           "1"
          ],
          [
           5.06,
           "1"
          ],
          [
           0.75,
           "1"
          ],
          [
           0.76,
           "1"
          ],
          [
           1.77,
           "1"
          ],
          [
           3.61,
           "1"
          ],
          [
           1.63,
           "1"
          ],
          [
           5.61,
           "1"
          ],
          [
           3.33,
           "1"
          ],
          [
           6.56,
           "1"
          ],
          [
           3.04,
           "1"
          ],
          [
           1.26,
           "1"
          ],
          [
           5.95,
           "1"
          ],
          [
           4.38,
           "1"
          ],
          [
           7.43,
           "1"
          ],
          [
           0.71,
           "1"
          ],
          [
           6.03,
           "1"
          ],
          [
           3,
           "1"
          ],
          [
           3.25,
           "1"
          ],
          [
           4.79,
           "1"
          ],
          [
           5.23,
           "1"
          ],
          [
           3.49,
           "1"
          ],
          [
           3.48,
           "1"
          ],
          [
           6.66,
           "1"
          ],
          [
           6.84,
           "1"
          ],
          [
           7.58,
           "1"
          ],
          [
           3.95,
           "1"
          ],
          [
           2.2,
           "1"
          ],
          [
           2.11,
           "1"
          ],
          [
           4.78,
           "1"
          ],
          [
           2.37,
           "1"
          ],
          [
           0.19,
           "1"
          ],
          [
           4.22,
           "1"
          ],
          [
           1.91,
           "1"
          ],
          [
           5.4,
           "1"
          ],
          [
           2.21,
           "1"
          ],
          [
           1.42,
           "1"
          ],
          [
           4.84,
           "1"
          ],
          [
           3.7,
           "1"
          ],
          [
           6.89,
           "1"
          ],
          [
           7.18,
           "1"
          ],
          [
           4.02,
           "1"
          ],
          [
           6.12,
           "1"
          ],
          [
           7.12,
           "1"
          ],
          [
           0.1,
           "1"
          ],
          [
           1.27,
           "1"
          ],
          [
           0.83,
           "1"
          ],
          [
           7.65,
           "1"
          ],
          [
           3.67,
           "1"
          ],
          [
           2.13,
           "1"
          ],
          [
           2.5,
           "1"
          ],
          [
           5.98,
           "1"
          ],
          [
           4.76,
           "1"
          ],
          [
           6.98,
           "1"
          ],
          [
           3.23,
           "1"
          ],
          [
           1.87,
           "1"
          ],
          [
           7.18,
           "1"
          ],
          [
           4.93,
           "1"
          ],
          [
           3.03,
           "1"
          ],
          [
           5.6,
           "1"
          ],
          [
           1.8,
           "1"
          ],
          [
           3.05,
           "1"
          ],
          [
           1.7,
           "1"
          ],
          [
           7.51,
           "1"
          ],
          [
           0.73,
           "1"
          ],
          [
           7.44,
           "1"
          ],
          [
           6.37,
           "1"
          ],
          [
           4.52,
           "1"
          ],
          [
           4.99,
           "1"
          ],
          [
           4.41,
           "1"
          ],
          [
           5.66,
           "1"
          ],
          [
           6.17,
           "1"
          ],
          [
           1.54,
           "1"
          ],
          [
           4.34,
           "1"
          ],
          [
           3.31,
           "1"
          ],
          [
           2.2,
           "1"
          ],
          [
           7.38,
           "1"
          ],
          [
           4.86,
           "1"
          ],
          [
           4.78,
           "1"
          ],
          [
           4.16,
           "1"
          ],
          [
           1.1,
           "1"
          ],
          [
           2.05,
           "1"
          ],
          [
           1.68,
           "1"
          ],
          [
           1.75,
           "1"
          ],
          [
           5.23,
           "1"
          ],
          [
           7.93,
           "1"
          ],
          [
           3.09,
           "1"
          ],
          [
           7.24,
           "1"
          ],
          [
           1.41,
           "1"
          ],
          [
           3.01,
           "1"
          ],
          [
           6.9,
           "1"
          ],
          [
           3.15,
           "1"
          ],
          [
           6.06,
           "1"
          ],
          [
           5.3,
           "1"
          ],
          [
           4.33,
           "1"
          ],
          [
           3.23,
           "1"
          ],
          [
           0.26,
           "1"
          ],
          [
           7.25,
           "1"
          ],
          [
           4.62,
           "1"
          ],
          [
           5.98,
           "1"
          ],
          [
           3.67,
           "1"
          ],
          [
           4.49,
           "1"
          ],
          [
           1.19,
           "1"
          ],
          [
           3.66,
           "1"
          ],
          [
           7.17,
           "1"
          ],
          [
           2.2,
           "1"
          ],
          [
           6.12,
           "1"
          ],
          [
           4.91,
           "1"
          ],
          [
           5.38,
           "1"
          ],
          [
           7.83,
           "1"
          ],
          [
           6.44,
           "1"
          ],
          [
           5.61,
           "1"
          ],
          [
           2.59,
           "1"
          ],
          [
           2.99,
           "1"
          ],
          [
           1.64,
           "1"
          ],
          [
           5.42,
           "1"
          ],
          [
           4.86,
           "1"
          ],
          [
           0.63,
           "1"
          ],
          [
           5.17,
           "1"
          ],
          [
           0.45,
           "1"
          ],
          [
           4.08,
           "1"
          ],
          [
           4.81,
           "1"
          ],
          [
           0.17,
           "1"
          ],
          [
           6.1,
           "1"
          ],
          [
           1.77,
           "1"
          ],
          [
           6.42,
           "1"
          ],
          [
           0.88,
           "1"
          ],
          [
           4.27,
           "1"
          ],
          [
           6.95,
           "1"
          ],
          [
           3.99,
           "1"
          ],
          [
           7.96,
           "1"
          ],
          [
           2.38,
           "1"
          ],
          [
           2.83,
           "1"
          ],
          [
           2.46,
           "1"
          ],
          [
           7.78,
           "1"
          ],
          [
           2.16,
           "1"
          ],
          [
           2.83,
           "1"
          ],
          [
           3.54,
           "1"
          ],
          [
           4.57,
           "1"
          ],
          [
           3.15,
           "1"
          ],
          [
           4.71,
           "1"
          ],
          [
           6.48,
           "1"
          ],
          [
           2.73,
           "1"
          ],
          [
           0.06,
           "1"
          ],
          [
           4.36,
           "1"
          ],
          [
           7.79,
           "1"
          ],
          [
           1.43,
           "1"
          ],
          [
           1.73,
           "1"
          ],
          [
           6.89,
           "1"
          ],
          [
           0.81,
           "1"
          ],
          [
           6.93,
           "1"
          ],
          [
           5.85,
           "1"
          ],
          [
           5.14,
           "1"
          ],
          [
           6.71,
           "1"
          ],
          [
           1.78,
           "1"
          ],
          [
           5.24,
           "1"
          ],
          [
           5.89,
           "1"
          ],
          [
           1.23,
           "1"
          ],
          [
           5.47,
           "1"
          ],
          [
           3.29,
           "1"
          ],
          [
           4.07,
           "1"
          ],
          [
           7.59,
           "1"
          ],
          [
           4.18,
           "1"
          ],
          [
           0.81,
           "1"
          ],
          [
           0.71,
           "1"
          ],
          [
           5.57,
           "1"
          ],
          [
           7.3,
           "1"
          ],
          [
           4.16,
           "1"
          ],
          [
           4.11,
           "1"
          ],
          [
           3.42,
           "1"
          ],
          [
           3.51,
           "1"
          ],
          [
           7.21,
           "1"
          ],
          [
           6.26,
           "1"
          ],
          [
           4.51,
           "1"
          ],
          [
           1.74,
           "1"
          ],
          [
           4.75,
           "1"
          ],
          [
           6.81,
           "1"
          ],
          [
           0.12,
           "1"
          ],
          [
           2.4,
           "1"
          ],
          [
           4.52,
           "1"
          ],
          [
           6.99,
           "1"
          ],
          [
           7.17,
           "1"
          ],
          [
           1.22,
           "1"
          ],
          [
           6.13,
           "1"
          ],
          [
           4.1,
           "1"
          ],
          [
           1.04,
           "1"
          ],
          [
           2.29,
           "1"
          ],
          [
           5.67,
           "1"
          ],
          [
           3.31,
           "1"
          ],
          [
           4.74,
           "1"
          ],
          [
           0.21,
           "1"
          ],
          [
           0.6,
           "1"
          ],
          [
           2.16,
           "1"
          ],
          [
           0.4,
           "1"
          ],
          [
           1.67,
           "1"
          ],
          [
           0.2,
           "1"
          ],
          [
           5.35,
           "1"
          ],
          [
           1.09,
           "1"
          ],
          [
           3.41,
           "1"
          ],
          [
           3.04,
           "1"
          ],
          [
           2.14,
           "1"
          ],
          [
           6.16,
           "1"
          ],
          [
           6,
           "1"
          ],
          [
           1.84,
           "1"
          ],
          [
           0.23,
           "1"
          ],
          [
           4.02,
           "1"
          ],
          [
           3.96,
           "1"
          ],
          [
           5.68,
           "1"
          ],
          [
           5.12,
           "1"
          ],
          [
           0.78,
           "1"
          ],
          [
           1.36,
           "1"
          ],
          [
           4.7,
           "1"
          ],
          [
           4.56,
           "1"
          ],
          [
           3.75,
           "1"
          ],
          [
           5.1,
           "1"
          ],
          [
           1.84,
           "1"
          ],
          [
           7.43,
           "1"
          ],
          [
           7.81,
           "1"
          ],
          [
           1.8,
           "1"
          ],
          [
           1.58,
           "1"
          ],
          [
           3.05,
           "1"
          ],
          [
           2.5,
           "1"
          ],
          [
           7.24,
           "1"
          ],
          [
           6.85,
           "1"
          ],
          [
           1.81,
           "1"
          ],
          [
           4.26,
           "1"
          ],
          [
           4.85,
           "1"
          ],
          [
           6.53,
           "1"
          ],
          [
           0,
           "1"
          ],
          [
           2.71,
           "1"
          ],
          [
           2.98,
           "1"
          ],
          [
           2.83,
           "1"
          ],
          [
           6.13,
           "1"
          ],
          [
           2.34,
           "1"
          ],
          [
           3.41,
           "1"
          ],
          [
           5,
           "1"
          ],
          [
           0.08,
           "1"
          ],
          [
           5.21,
           "1"
          ],
          [
           1.51,
           "1"
          ],
          [
           3.96,
           "1"
          ],
          [
           2.52,
           "1"
          ],
          [
           3.78,
           "1"
          ],
          [
           0.32,
           "1"
          ],
          [
           1.57,
           "1"
          ],
          [
           3.17,
           "1"
          ],
          [
           3.21,
           "1"
          ],
          [
           4.58,
           "1"
          ],
          [
           2.41,
           "1"
          ],
          [
           5.73,
           "1"
          ],
          [
           6.21,
           "1"
          ],
          [
           6.07,
           "1"
          ],
          [
           0.64,
           "1"
          ],
          [
           1.53,
           "1"
          ],
          [
           0.48,
           "1"
          ],
          [
           5.88,
           "1"
          ],
          [
           4.55,
           "1"
          ],
          [
           2.94,
           "1"
          ],
          [
           6.12,
           "1"
          ],
          [
           2.01,
           "1"
          ],
          [
           2.55,
           "1"
          ],
          [
           3.33,
           "1"
          ],
          [
           3.29,
           "1"
          ],
          [
           7.85,
           "1"
          ],
          [
           6.2,
           "1"
          ],
          [
           7.99,
           "1"
          ],
          [
           2.12,
           "1"
          ],
          [
           6.86,
           "1"
          ],
          [
           4.77,
           "1"
          ],
          [
           0.1,
           "1"
          ],
          [
           5.42,
           "1"
          ],
          [
           4.54,
           "1"
          ],
          [
           4.43,
           "1"
          ],
          [
           7.12,
           "1"
          ],
          [
           0.73,
           "1"
          ],
          [
           2.8,
           "1"
          ],
          [
           2.51,
           "1"
          ],
          [
           3.1,
           "1"
          ],
          [
           6.5,
           "1"
          ],
          [
           5.33,
           "1"
          ],
          [
           7.78,
           "1"
          ],
          [
           6.68,
           "1"
          ],
          [
           5.21,
           "1"
          ],
          [
           5.17,
           "1"
          ],
          [
           2.37,
           "1"
          ],
          [
           3.01,
           "1"
          ],
          [
           3.16,
           "1"
          ],
          [
           4.54,
           "1"
          ],
          [
           4.24,
           "1"
          ],
          [
           4.63,
           "1"
          ],
          [
           7.86,
           "1"
          ],
          [
           0.96,
           "1"
          ],
          [
           6.78,
           "1"
          ],
          [
           0.34,
           "1"
          ],
          [
           6.07,
           "1"
          ],
          [
           2.19,
           "1"
          ],
          [
           2.35,
           "1"
          ],
          [
           5.23,
           "1"
          ],
          [
           4.24,
           "1"
          ],
          [
           6.23,
           "1"
          ],
          [
           4.39,
           "1"
          ],
          [
           5.65,
           "1"
          ],
          [
           6.26,
           "1"
          ],
          [
           7.54,
           "1"
          ],
          [
           3.33,
           "1"
          ],
          [
           6.32,
           "1"
          ],
          [
           6.83,
           "1"
          ],
          [
           5.67,
           "1"
          ],
          [
           2.03,
           "1"
          ],
          [
           1.82,
           "1"
          ],
          [
           6.25,
           "1"
          ],
          [
           2.92,
           "1"
          ],
          [
           7.52,
           "1"
          ],
          [
           1.39,
           "1"
          ],
          [
           6.92,
           "1"
          ],
          [
           0.5,
           "1"
          ],
          [
           6.36,
           "1"
          ],
          [
           3.53,
           "1"
          ],
          [
           6.5,
           "1"
          ],
          [
           2.77,
           "1"
          ],
          [
           1.9,
           "1"
          ],
          [
           1.49,
           "1"
          ],
          [
           0.7,
           "1"
          ],
          [
           6.81,
           "1"
          ],
          [
           3.82,
           "1"
          ],
          [
           3.08,
           "1"
          ],
          [
           5.71,
           "1"
          ],
          [
           0.17,
           "1"
          ],
          [
           4.93,
           "1"
          ],
          [
           6.28,
           "1"
          ],
          [
           3.98,
           "1"
          ],
          [
           1.39,
           "1"
          ],
          [
           2.32,
           "1"
          ],
          [
           7.15,
           "1"
          ],
          [
           6.79,
           "1"
          ],
          [
           0.51,
           "1"
          ],
          [
           1.55,
           "1"
          ],
          [
           6.56,
           "1"
          ],
          [
           5.68,
           "1"
          ],
          [
           3.02,
           "1"
          ],
          [
           3.21,
           "1"
          ],
          [
           6.58,
           "1"
          ],
          [
           6.14,
           "1"
          ],
          [
           4.05,
           "1"
          ],
          [
           1.65,
           "1"
          ],
          [
           6.69,
           "1"
          ],
          [
           7.74,
           "1"
          ],
          [
           4.59,
           "1"
          ],
          [
           1.45,
           "1"
          ],
          [
           7.17,
           "1"
          ],
          [
           1.41,
           "1"
          ],
          [
           6.1,
           "1"
          ],
          [
           5.79,
           "1"
          ],
          [
           6.76,
           "1"
          ],
          [
           3.07,
           "1"
          ],
          [
           3.76,
           "1"
          ],
          [
           6.97,
           "1"
          ],
          [
           0.14,
           "1"
          ],
          [
           5.1,
           "1"
          ],
          [
           0.4,
           "1"
          ],
          [
           1.11,
           "1"
          ],
          [
           3.33,
           "1"
          ],
          [
           6.09,
           "1"
          ],
          [
           2.56,
           "1"
          ],
          [
           5.6,
           "1"
          ],
          [
           4.14,
           "1"
          ],
          [
           4.47,
           "1"
          ],
          [
           1.1,
           "1"
          ],
          [
           2.56,
           "1"
          ],
          [
           4.05,
           "1"
          ],
          [
           6.43,
           "1"
          ],
          [
           6.3,
           "1"
          ],
          [
           7.34,
           "1"
          ],
          [
           1.07,
           "1"
          ],
          [
           3.09,
           "1"
          ],
          [
           5.98,
           "1"
          ],
          [
           0.57,
           "1"
          ],
          [
           7.49,
           "1"
          ],
          [
           7.37,
           "1"
          ],
          [
           1.03,
           "1"
          ],
          [
           7.72,
           "1"
          ],
          [
           2.25,
           "1"
          ],
          [
           5.64,
           "1"
          ],
          [
           0.83,
           "1"
          ],
          [
           0.11,
           "1"
          ],
          [
           3.84,
           "1"
          ],
          [
           5.66,
           "1"
          ],
          [
           1.82,
           "1"
          ],
          [
           5.54,
           "1"
          ],
          [
           2.92,
           "1"
          ],
          [
           1.02,
           "1"
          ],
          [
           0.65,
           "1"
          ],
          [
           1.77,
           "1"
          ],
          [
           2.14,
           "1"
          ],
          [
           1.45,
           "1"
          ],
          [
           1.51,
           "1"
          ],
          [
           2.54,
           "1"
          ],
          [
           1.58,
           "1"
          ],
          [
           1.36,
           "1"
          ],
          [
           1.35,
           "1"
          ],
          [
           5.83,
           "1"
          ],
          [
           7.85,
           "1"
          ],
          [
           4.96,
           "1"
          ],
          [
           7.18,
           "1"
          ],
          [
           5.87,
           "1"
          ],
          [
           1.99,
           "1"
          ],
          [
           0.51,
           "1"
          ],
          [
           4.47,
           "1"
          ],
          [
           7.93,
           "1"
          ],
          [
           3.83,
           "1"
          ],
          [
           1.96,
           "1"
          ],
          [
           6.26,
           "1"
          ],
          [
           1.18,
           "1"
          ],
          [
           4.79,
           "1"
          ],
          [
           3.7,
           "1"
          ],
          [
           6.25,
           "1"
          ],
          [
           4.37,
           "1"
          ],
          [
           2.81,
           "1"
          ],
          [
           7.66,
           "1"
          ],
          [
           0.26,
           "1"
          ],
          [
           1.9,
           "1"
          ],
          [
           3.49,
           "1"
          ],
          [
           3.35,
           "1"
          ],
          [
           4.98,
           "1"
          ],
          [
           0.41,
           "1"
          ],
          [
           0.38,
           "1"
          ],
          [
           4.49,
           "1"
          ],
          [
           3.37,
           "1"
          ],
          [
           7.67,
           "1"
          ],
          [
           4.97,
           "1"
          ],
          [
           6.39,
           "1"
          ],
          [
           1.79,
           "1"
          ],
          [
           5.42,
           "1"
          ],
          [
           5.18,
           "1"
          ],
          [
           2.47,
           "1"
          ],
          [
           6.12,
           "1"
          ],
          [
           4.08,
           "1"
          ],
          [
           4.13,
           "1"
          ],
          [
           1.89,
           "1"
          ],
          [
           0.65,
           "1"
          ],
          [
           6.6,
           "1"
          ],
          [
           1.87,
           "1"
          ],
          [
           1.78,
           "1"
          ],
          [
           1.99,
           "1"
          ],
          [
           7.42,
           "1"
          ],
          [
           4.27,
           "1"
          ],
          [
           2.96,
           "1"
          ],
          [
           1.87,
           "1"
          ],
          [
           4.4,
           "1"
          ],
          [
           6.9,
           "1"
          ],
          [
           4.01,
           "1"
          ],
          [
           7.78,
           "1"
          ],
          [
           7.93,
           "1"
          ],
          [
           3.53,
           "1"
          ],
          [
           3.16,
           "1"
          ],
          [
           5.06,
           "1"
          ],
          [
           1.19,
           "1"
          ],
          [
           4.06,
           "1"
          ],
          [
           4.18,
           "1"
          ],
          [
           0.63,
           "1"
          ],
          [
           0.46,
           "1"
          ],
          [
           2.35,
           "1"
          ],
          [
           5.09,
           "1"
          ],
          [
           3.9,
           "1"
          ],
          [
           7.43,
           "1"
          ],
          [
           3.7,
           "1"
          ],
          [
           3.53,
           "1"
          ],
          [
           5.43,
           "1"
          ],
          [
           6.15,
           "1"
          ],
          [
           1.01,
           "1"
          ],
          [
           3.02,
           "1"
          ],
          [
           4.43,
           "1"
          ],
          [
           5.61,
           "1"
          ],
          [
           2.69,
           "1"
          ],
          [
           5.37,
           "1"
          ],
          [
           7.87,
           "1"
          ],
          [
           6.54,
           "1"
          ],
          [
           3.63,
           "1"
          ],
          [
           5.22,
           "1"
          ],
          [
           2.46,
           "1"
          ],
          [
           2.91,
           "1"
          ],
          [
           3.17,
           "1"
          ],
          [
           5.79,
           "1"
          ],
          [
           7.89,
           "1"
          ],
          [
           6.24,
           "1"
          ],
          [
           4.64,
           "1"
          ],
          [
           2.58,
           "1"
          ],
          [
           0.94,
           "1"
          ],
          [
           6.39,
           "1"
          ],
          [
           0.85,
           "1"
          ],
          [
           6.51,
           "1"
          ],
          [
           3.28,
           "1"
          ],
          [
           4.15,
           "1"
          ],
          [
           7.89,
           "1"
          ],
          [
           3.75,
           "1"
          ],
          [
           1.43,
           "1"
          ],
          [
           1.45,
           "1"
          ],
          [
           5.08,
           "1"
          ],
          [
           4.83,
           "1"
          ],
          [
           0.45,
           "1"
          ],
          [
           3.17,
           "1"
          ],
          [
           8.13,
           "1"
          ],
          [
           5.79,
           "1"
          ],
          [
           2.03,
           "1"
          ],
          [
           1.3,
           "1"
          ],
          [
           2.32,
           "1"
          ],
          [
           2.77,
           "1"
          ],
          [
           5.64,
           "1"
          ],
          [
           6.13,
           "1"
          ],
          [
           7.18,
           "1"
          ],
          [
           3.7,
           "1"
          ],
          [
           2.06,
           "1"
          ],
          [
           1.16,
           "1"
          ],
          [
           4.09,
           "1"
          ],
          [
           4.65,
           "1"
          ],
          [
           1.6,
           "1"
          ],
          [
           4.7,
           "1"
          ],
          [
           4.09,
           "1"
          ],
          [
           5.93,
           "1"
          ],
          [
           8.33,
           "1"
          ],
          [
           2.11,
           "1"
          ],
          [
           8.66,
           "1"
          ],
          [
           7.02,
           "1"
          ],
          [
           2.03,
           "1"
          ],
          [
           0.4,
           "1"
          ],
          [
           3.21,
           "1"
          ],
          [
           4.17,
           "1"
          ],
          [
           5.36,
           "1"
          ],
          [
           4.54,
           "1"
          ],
          [
           2.67,
           "1"
          ],
          [
           2.99,
           "1"
          ],
          [
           5.71,
           "1"
          ],
          [
           7.52,
           "1"
          ],
          [
           1.12,
           "1"
          ],
          [
           4.43,
           "1"
          ],
          [
           2.52,
           "1"
          ],
          [
           0.79,
           "1"
          ],
          [
           6.21,
           "1"
          ],
          [
           7.91,
           "1"
          ],
          [
           0.54,
           "1"
          ],
          [
           6.29,
           "1"
          ],
          [
           5.25,
           "1"
          ],
          [
           2.84,
           "1"
          ],
          [
           3.45,
           "1"
          ],
          [
           7.43,
           "1"
          ],
          [
           3.67,
           "1"
          ],
          [
           0.71,
           "1"
          ],
          [
           1.27,
           "1"
          ],
          [
           4.99,
           "1"
          ],
          [
           4.78,
           "1"
          ],
          [
           0.17,
           "1"
          ],
          [
           2.83,
           "1"
          ],
          [
           7.57,
           "1"
          ],
          [
           5.47,
           "1"
          ],
          [
           1.22,
           "1"
          ],
          [
           2.16,
           "1"
          ],
          [
           2.71,
           "1"
          ],
          [
           5.59,
           "1"
          ],
          [
           5.88,
           "1"
          ],
          [
           6.2,
           "1"
          ],
          [
           3.65,
           "1"
          ],
          [
           2.03,
           "1"
          ],
          [
           0.96,
           "1"
          ],
          [
           4.05,
           "1"
          ],
          [
           4.62,
           "1"
          ],
          [
           1.11,
           "1"
          ],
          [
           4.47,
           "1"
          ],
          [
           4.05,
           "1"
          ],
          [
           5.66,
           "1"
          ],
          [
           7.85,
           "1"
          ],
          [
           1.99,
           "1"
          ],
          [
           7.93,
           "1"
          ],
          [
           6.6,
           "1"
          ],
          [
           0.21,
           "1"
          ],
          [
           3.16,
           "1"
          ],
          [
           4,
           "1"
          ],
          [
           5.09,
           "1"
          ],
          [
           4.43,
           "1"
          ],
          [
           2.77,
           "1"
          ],
          [
           3.8,
           "1"
          ],
          [
           5.73,
           "1"
          ],
          [
           7.54,
           "1"
          ],
          [
           6.25,
           "1"
          ],
          [
           4.55,
           "1"
          ],
          [
           2.72,
           "1"
          ],
          [
           0.94,
           "1"
          ],
          [
           6.22,
           "1"
          ],
          [
           0.84,
           "1"
          ],
          [
           6.78,
           "1"
          ],
          [
           3.34,
           "1"
          ],
          [
           3.52,
           "1"
          ],
          [
           7.45,
           "1"
          ],
          [
           3.7,
           "1"
          ],
          [
           0.88,
           "1"
          ],
          [
           1.37,
           "1"
          ],
          [
           5.07,
           "1"
          ],
          [
           4.81,
           "1"
          ],
          [
           0.52,
           "1"
          ],
          [
           2.92,
           "1"
          ],
          [
           7.59,
           "1"
          ],
          [
           5.57,
           "1"
          ],
          [
           1.21,
           "1"
          ],
          [
           1.3,
           "1"
          ],
          [
           2.23,
           "1"
          ],
          [
           2.91,
           "1"
          ],
          [
           5.72,
           "1"
          ],
          [
           6.86,
           "1"
          ],
          [
           6.26,
           "1"
          ],
          [
           4.01,
           "1"
          ],
          [
           2.04,
           "1"
          ],
          [
           1.18,
           "1"
          ],
          [
           4.85,
           "1"
          ],
          [
           4.7,
           "1"
          ],
          [
           1.29,
           "1"
          ],
          [
           4.62,
           "1"
          ],
          [
           4.25,
           "1"
          ],
          [
           6.2,
           "1"
          ],
          [
           8.05,
           "1"
          ],
          [
           2.16,
           "1"
          ],
          [
           8.13,
           "1"
          ],
          [
           6.7,
           "1"
          ],
          [
           2.89,
           "1"
          ],
          [
           0.32,
           "1"
          ],
          [
           3.19,
           "1"
          ],
          [
           4.21,
           "1"
          ],
          [
           5.14,
           "1"
          ],
          [
           4.94,
           "1"
          ],
          [
           0.02,
           "1"
          ],
          [
           0.21,
           "1"
          ],
          [
           0.49,
           "1"
          ],
          [
           0.38,
           "1"
          ],
          [
           0.09,
           "1"
          ],
          [
           0.3,
           "1"
          ],
          [
           0.2,
           "1"
          ],
          [
           0.23,
           "1"
          ],
          [
           0.2,
           "1"
          ],
          [
           0.02,
           "1"
          ],
          [
           0.07,
           "1"
          ],
          [
           0.02,
           "1"
          ],
          [
           0.06,
           "1"
          ],
          [
           0.7,
           "1"
          ],
          [
           0.3,
           "1"
          ],
          [
           0.01,
           "1"
          ],
          [
           0.2,
           "1"
          ],
          [
           0.03,
           "1"
          ],
          [
           0.52,
           "1"
          ],
          [
           0.23,
           "1"
          ],
          [
           0.17,
           "1"
          ],
          [
           0.25,
           "1"
          ],
          [
           0.32,
           "1"
          ],
          [
           0.55,
           "1"
          ],
          [
           0.08,
           "1"
          ],
          [
           0.05,
           "1"
          ],
          [
           0.01,
           "1"
          ],
          [
           0.2,
           "1"
          ],
          [
           0.04,
           "1"
          ],
          [
           0.08,
           "1"
          ],
          [
           0.12,
           "1"
          ],
          [
           0.56,
           "1"
          ],
          [
           0.46,
           "1"
          ],
          [
           0.32,
           "1"
          ],
          [
           0.04,
           "1"
          ],
          [
           0.35,
           "1"
          ],
          [
           0.02,
           "1"
          ],
          [
           0.47,
           "1"
          ],
          [
           0.01,
           "1"
          ],
          [
           0.27,
           "1"
          ],
          [
           0.23,
           "1"
          ],
          [
           0.05,
           "1"
          ],
          [
           0.08,
           "1"
          ],
          [
           0.06,
           "1"
          ],
          [
           0.49,
           "1"
          ],
          [
           0.08,
           "1"
          ],
          [
           0.06,
           "1"
          ],
          [
           0.42,
           "1"
          ],
          [
           0.15,
           "1"
          ],
          [
           0.04,
           "1"
          ],
          [
           0.67,
           "1"
          ],
          [
           0,
           "1"
          ],
          [
           0.01,
           "1"
          ],
          [
           0.09,
           "1"
          ],
          [
           0.44,
           "1"
          ],
          [
           0.04,
           "1"
          ],
          [
           0.17,
           "1"
          ],
          [
           0.01,
           "1"
          ],
          [
           0.02,
           "1"
          ],
          [
           0.32,
           "1"
          ],
          [
           0.04,
           "1"
          ],
          [
           0.04,
           "1"
          ],
          [
           0.07,
           "1"
          ],
          [
           0.1,
           "1"
          ],
          [
           0.07,
           "1"
          ],
          [
           0.06,
           "1"
          ],
          [
           0.16,
           "1"
          ],
          [
           0.11,
           "1"
          ],
          [
           0.01,
           "1"
          ],
          [
           0.09,
           "1"
          ],
          [
           0.12,
           "1"
          ],
          [
           0.5,
           "1"
          ],
          [
           0.27,
           "1"
          ],
          [
           0.59,
           "1"
          ],
          [
           0.09,
           "1"
          ],
          [
           0.12,
           "1"
          ],
          [
           0.26,
           "1"
          ],
          [
           0.1,
           "1"
          ],
          [
           0.01,
           "1"
          ],
          [
           0.72,
           "1"
          ],
          [
           0.34,
           "1"
          ],
          [
           0.49,
           "1"
          ],
          [
           0.16,
           "1"
          ],
          [
           0.06,
           "1"
          ],
          [
           0.54,
           "1"
          ],
          [
           0.2,
           "1"
          ],
          [
           0.13,
           "1"
          ],
          [
           0.1,
           "1"
          ],
          [
           0.08,
           "1"
          ],
          [
           0.22,
           "1"
          ],
          [
           0.05,
           "1"
          ],
          [
           0.45,
           "1"
          ],
          [
           0.07,
           "1"
          ],
          [
           0,
           "1"
          ],
          [
           0.18,
           "1"
          ],
          [
           0.02,
           "1"
          ],
          [
           0.01,
           "1"
          ],
          [
           0.28,
           "1"
          ],
          [
           0.32,
           "1"
          ],
          [
           0.06,
           "1"
          ],
          [
           0.09,
           "1"
          ],
          [
           0.48,
           "1"
          ],
          [
           0.03,
           "1"
          ],
          [
           0.08,
           "1"
          ],
          [
           0.04,
           "1"
          ],
          [
           0.01,
           "1"
          ],
          [
           0.22,
           "1"
          ],
          [
           0.08,
           "1"
          ],
          [
           0.57,
           "1"
          ],
          [
           0.1,
           "1"
          ],
          [
           0.45,
           "1"
          ],
          [
           0.05,
           "1"
          ],
          [
           2,
           "1"
          ],
          [
           0.05,
           "1"
          ]
         ],
         "hovertemplate": "is_safe=%{customdata[1]}<br>aluminium=%{x}<br>cadmium=%{y}<br>uranium=%{z}<br>chloramine=%{customdata[0]}<extra></extra>",
         "legendgroup": "1",
         "marker": {
          "color": "#EF553B",
          "size": 2,
          "symbol": "circle"
         },
         "mode": "markers",
         "name": "1",
         "scene": "scene",
         "showlegend": true,
         "type": "scatter3d",
         "x": [
          1.65,
          2.32,
          1.36,
          0.92,
          0.94,
          0.6,
          0.22,
          1.35,
          1.88,
          4.93,
          2.89,
          0.61,
          3.47,
          2.11,
          4.12,
          0.68,
          1.15,
          0.27,
          3.31,
          1.82,
          4.41,
          1.69,
          1.87,
          2.71,
          4.49,
          3.52,
          4.35,
          3.37,
          1.51,
          2.68,
          0.3,
          0.23,
          2.55,
          4.32,
          0.24,
          0.42,
          0.77,
          0.6,
          0.58,
          3.82,
          2.78,
          3.62,
          4.64,
          2.25,
          0.54,
          4.62,
          2.5,
          3.08,
          2.73,
          3.02,
          2.35,
          2.45,
          3.3,
          1.19,
          0.85,
          0.5,
          1.89,
          3.75,
          1.75,
          0.94,
          2.76,
          0.43,
          2.63,
          0.88,
          3.03,
          4.91,
          1.15,
          4.8,
          1.62,
          2.68,
          0.09,
          4.66,
          2.74,
          3.52,
          1.82,
          2.91,
          3.53,
          3.04,
          2.21,
          1.92,
          2.12,
          4.21,
          2.56,
          3.94,
          1.22,
          0.8,
          3.31,
          2.59,
          3.9,
          0.18,
          0.07,
          2.71,
          4.34,
          0.92,
          2.39,
          0.9,
          0.89,
          4.91,
          3.37,
          3.69,
          4.71,
          4.5,
          2.69,
          4.3,
          2.17,
          5,
          2.6,
          0.35,
          3.83,
          2.9,
          1.56,
          4.34,
          2.23,
          3.81,
          1.12,
          4,
          1.55,
          2.56,
          2.99,
          1.36,
          3.83,
          0.47,
          0.01,
          3.62,
          2.82,
          1.05,
          1.21,
          3.35,
          1.75,
          1.86,
          0.54,
          0.29,
          3.29,
          0.22,
          2.35,
          4.04,
          3.6,
          3.71,
          0.61,
          3.05,
          0.84,
          1.98,
          4.18,
          3.27,
          0.59,
          0.36,
          1.4,
          1.46,
          0.93,
          0.78,
          4.48,
          0.71,
          0.87,
          2.69,
          1.21,
          4.36,
          0.57,
          2.14,
          0.15,
          2.01,
          1.72,
          4.38,
          3.73,
          2.97,
          2.32,
          3.95,
          2.22,
          3.84,
          3.97,
          3.73,
          2.71,
          3.24,
          3.85,
          2.91,
          3.44,
          2.2,
          1.14,
          0,
          1.14,
          0.09,
          2.9,
          4.07,
          1.44,
          3.89,
          2.09,
          4.79,
          0.19,
          4.77,
          3.81,
          0.76,
          3.36,
          4.27,
          1.9,
          1.44,
          4.26,
          3.19,
          1.24,
          3.36,
          3.29,
          2.94,
          0.49,
          2.82,
          4.19,
          2.26,
          3.05,
          0.78,
          3.67,
          2.94,
          0.93,
          3.59,
          3.46,
          2.79,
          1.77,
          0.39,
          1.07,
          0.62,
          4.64,
          1.09,
          2.5,
          3.96,
          3.49,
          3.46,
          2.89,
          0.27,
          0.9,
          0.83,
          0.72,
          3.12,
          3.98,
          4.39,
          1.09,
          4.44,
          0.78,
          2.06,
          0.95,
          2.24,
          4,
          0.39,
          2.33,
          2.54,
          1.93,
          3.91,
          3.09,
          4.53,
          4.71,
          1.81,
          4.62,
          4.18,
          1.12,
          0.14,
          3.01,
          3.51,
          1.4,
          1.77,
          1.99,
          0.84,
          2.14,
          3.93,
          4.73,
          3.69,
          3.01,
          1.15,
          4.66,
          4.73,
          2.33,
          1.34,
          3.62,
          1.82,
          1.79,
          0.18,
          3.01,
          2.04,
          2.8,
          3.34,
          1.92,
          0.93,
          2.46,
          1.36,
          1.77,
          2.92,
          1.38,
          1.55,
          2.78,
          0.63,
          0.24,
          3.79,
          3,
          4.79,
          2.64,
          1.36,
          0.65,
          0.24,
          2.65,
          4.84,
          4.29,
          4.3,
          4.13,
          2.01,
          2.02,
          3.81,
          4.35,
          4.39,
          0.99,
          3.38,
          1.66,
          0.33,
          1.65,
          3.25,
          3.72,
          4.04,
          0.35,
          4.15,
          1.54,
          1.71,
          0.15,
          4.76,
          0.7,
          0.87,
          2.99,
          4.96,
          2.79,
          3.13,
          4.7,
          0.36,
          3.57,
          0.01,
          2.06,
          4.05,
          4.98,
          4.55,
          2.77,
          1.52,
          4.95,
          0.19,
          1.45,
          2.69,
          2.45,
          0.5,
          3.52,
          2.24,
          0.95,
          1.65,
          2.08,
          1.49,
          1.08,
          4.11,
          3.36,
          2.1,
          4.85,
          0.71,
          4.77,
          2.2,
          0.11,
          2.22,
          2.08,
          2.88,
          2.21,
          2.1,
          1.08,
          4.08,
          4.5,
          2.05,
          1.55,
          0.41,
          0.97,
          4.25,
          1.19,
          0.96,
          4.65,
          2.78,
          3.97,
          0.46,
          3,
          1.87,
          3.59,
          4.03,
          1.06,
          1.22,
          4.03,
          2.67,
          2.24,
          2.63,
          4.38,
          3.59,
          2.01,
          3.15,
          3.25,
          4.06,
          4.49,
          1.88,
          1.39,
          1.92,
          3.38,
          1.03,
          0.92,
          4.93,
          1.48,
          3.69,
          3.85,
          3.61,
          3.18,
          3.74,
          4.82,
          4.98,
          2.38,
          0.92,
          3.01,
          3.62,
          0.71,
          0.25,
          0.53,
          3.79,
          2.47,
          1.82,
          4.35,
          3.99,
          0.21,
          1.93,
          0.55,
          1.08,
          0.41,
          0.54,
          0.92,
          2.97,
          0.32,
          2.91,
          1.37,
          4.72,
          0.31,
          1.37,
          2.33,
          4.74,
          4.61,
          1.2,
          1.28,
          3.48,
          1.79,
          3.62,
          1.19,
          3.48,
          1.35,
          2.63,
          3.14,
          3.54,
          0.43,
          0.56,
          1.81,
          4.1,
          3.47,
          4.27,
          0.76,
          0.69,
          3.85,
          0.36,
          4.59,
          0.93,
          0.26,
          2.04,
          1.54,
          1.4,
          1.08,
          0.81,
          0.94,
          0.43,
          0.32,
          0.58,
          0.16,
          0.45,
          0.45,
          3.2,
          1.27,
          4.39,
          1.86,
          2.41,
          1.51,
          3.13,
          2.85,
          0.23,
          2.25,
          2.54,
          2.45,
          3.13,
          4.39,
          1.55,
          2.56,
          0.42,
          2.13,
          4.75,
          3.93,
          0.86,
          2.06,
          4.78,
          3.43,
          4.81,
          0.48,
          2.67,
          3.21,
          3.83,
          1.14,
          0.17,
          2.27,
          1.32,
          2.89,
          4.2,
          2.29,
          0.43,
          2.99,
          1.75,
          1.25,
          1.01,
          1.95,
          4.35,
          3.2,
          0.85,
          0.05,
          2.93,
          3.99,
          1.4,
          0.31,
          4.36,
          2.46,
          3.6,
          3.88,
          1.41,
          1.01,
          2.91,
          0.42,
          0.29,
          1.7,
          4.36,
          3.18,
          0.19,
          2.73,
          3.65,
          2.91,
          2.24,
          1.86,
          0.53,
          4.98,
          1.16,
          1.06,
          1.27,
          4.13,
          3.82,
          3.52,
          4.19,
          3.47,
          0.5,
          0.03,
          0.31,
          0.49,
          4.76,
          3.42,
          3.79,
          0.06,
          1.72,
          0.6,
          4.55,
          2.25,
          0.67,
          4.27,
          2.16,
          3.47,
          2.66,
          4.87,
          3.88,
          0.34,
          0.02,
          0.93,
          3.67,
          2.74,
          2.36,
          2.72,
          3.54,
          0.52,
          2.46,
          0.18,
          2.5,
          2.36,
          2.48,
          0.68,
          3.72,
          4.76,
          2.54,
          0.91,
          0.42,
          4.32,
          0.44,
          3.5,
          0.75,
          3.26,
          2.76,
          0.75,
          4.55,
          1.12,
          0.99,
          3.71,
          3.56,
          1.5,
          0.56,
          1.05,
          4.96,
          0.22,
          3.28,
          3.92,
          4.19,
          2.75,
          2.82,
          1.34,
          3.45,
          2.58,
          2.64,
          2.72,
          4.69,
          3.51,
          3.73,
          2.17,
          0.36,
          3.68,
          3.62,
          0.15,
          2.1,
          1.34,
          1.74,
          3.68,
          3.87,
          1.32,
          2.54,
          0,
          0.16,
          3.57,
          4.39,
          2.59,
          0.47,
          4.7,
          1.13,
          0.28,
          4.4,
          0.8,
          3.59,
          1.69,
          4.51,
          4.91,
          3.94,
          0.05,
          2.72,
          4.57,
          1.14,
          2.47,
          2.26,
          4.33,
          0.97,
          0.34,
          1.56,
          0.9,
          3.37,
          4.2,
          3.09,
          3.95,
          0.12,
          4.47,
          2.16,
          0.83,
          0.76,
          0.24,
          3.41,
          2.75,
          1.14,
          1.98,
          3.06,
          4.34,
          3.77,
          1.56,
          2.82,
          0.24,
          2.13,
          1.02,
          3.79,
          3.4,
          1.42,
          3.53,
          2.02,
          2.71,
          0.99,
          0.1,
          2.03,
          0.24,
          0.58,
          1.11,
          4.6,
          2.77,
          0.23,
          2.53,
          2.69,
          3.56,
          4.95,
          3.92,
          0.98,
          0.52,
          4.96,
          0.09,
          0.01,
          0.06,
          0.07,
          0.17,
          0.27,
          0.06,
          0.1,
          0.08,
          0.09,
          0.08,
          0.03,
          0.07,
          0.24,
          0.02,
          0.34,
          0.03,
          0.12,
          0.16,
          0.24,
          0.05,
          0.17,
          0.01,
          0.05,
          0.03,
          0.1,
          0.29,
          0.01,
          0.05,
          0.1,
          0.07,
          0.28,
          0.01,
          0.05,
          0.18,
          0.08,
          0.03,
          0.07,
          0.09,
          0.29,
          0.1,
          0.09,
          0.04,
          0.13,
          0.16,
          0.09,
          0.02,
          0.05,
          0,
          0.04,
          0.02,
          0.09,
          0.09,
          0.06,
          0.05,
          0.13,
          0.27,
          0.09,
          0.14,
          0.03,
          0.22,
          0.07,
          0.13,
          0.12,
          0.18,
          0.12,
          0.39,
          0.01,
          0.11,
          0.05,
          0.03,
          0.04,
          0.33,
          0.03,
          0.03,
          0.05,
          0.12,
          0.26,
          0.02,
          0.02,
          0.03,
          0.07,
          0.16,
          0.05,
          0.19,
          0.05,
          0.08,
          0.06,
          0.09,
          0.2,
          0.06,
          0.19,
          0.02,
          0.22,
          0.01,
          0.06,
          0.39,
          0.02,
          0.06,
          0.06,
          0.05,
          0.1,
          0.07,
          0.07,
          0.06,
          0.05,
          0.07,
          0.02,
          0.07,
          0.03,
          0.02,
          0.05,
          0.06,
          0.06,
          0.01,
          0.09,
          0.05,
          0.03,
          0.1,
          0.03,
          0.08,
          0.02,
          0.04,
          0.09,
          0.04,
          0.05,
          0.08,
          0.04,
          0.03,
          0.09,
          0.04,
          0.01,
          0.07,
          0.08,
          0.06,
          0,
          0.04,
          0.07,
          0.09,
          0.01,
          0.06,
          0.02,
          0.02,
          0.04,
          0.06,
          0.03,
          0.03,
          0.03,
          0.06,
          0.05,
          0.06,
          0.04,
          0.06,
          0.03,
          0.05,
          0.06,
          0.09,
          0,
          0.03,
          0.01,
          0.07,
          0.04,
          0.05,
          0.08,
          0.06,
          0.04,
          0.08,
          0.01,
          0.07,
          0.09,
          0.1,
          0.06,
          0.04,
          0.01,
          0.02,
          0.06,
          0.01,
          0.1,
          0.04,
          0.01,
          0.07,
          0.09,
          0.08,
          0.07,
          0.08,
          0.08,
          0.01,
          0.09,
          0,
          0.04,
          0.03,
          0.09,
          0.05,
          0.07,
          0.08,
          0.09,
          0.02,
          0.09,
          0.1,
          0.05,
          0.02,
          0.03,
          0.04,
          0.07,
          0.03,
          0.04,
          0.02,
          0.05,
          0.05,
          0.09,
          0.01,
          0.04
         ],
         "y": [
          0.007,
          0.002,
          0.001,
          0.006,
          0.003,
          0.005,
          0.007,
          0.002,
          0.008,
          0.008,
          0.008,
          0.002,
          0.001,
          0.009,
          0.006,
          0.006,
          0.007,
          0.001,
          0.001,
          0.006,
          0.007,
          0.002,
          0.008,
          0.006,
          0.005,
          0.006,
          0.004,
          0.003,
          0.003,
          0.002,
          0.007,
          0.002,
          0.004,
          0.001,
          0.008,
          0.008,
          0.006,
          0.002,
          0.007,
          0.001,
          0.009,
          0.003,
          0.008,
          0.002,
          0.001,
          0.005,
          0.004,
          0.003,
          0.005,
          0.004,
          0.009,
          0.004,
          0.008,
          0.008,
          0.006,
          0.004,
          0.001,
          0.006,
          0.001,
          0.005,
          0.005,
          0.001,
          0.007,
          0.009,
          0.006,
          0.005,
          0.005,
          0.006,
          0.001,
          0.007,
          0.001,
          0.001,
          0.005,
          0.007,
          0.009,
          0.008,
          0.002,
          0.001,
          0.008,
          0.008,
          0.003,
          0.008,
          0.003,
          0.006,
          0.001,
          0.002,
          0.002,
          0.003,
          0.008,
          0.006,
          0.002,
          0.003,
          0.005,
          0.004,
          0.005,
          0.001,
          0.008,
          0.001,
          0.004,
          0.008,
          0.003,
          0.009,
          0.005,
          0.004,
          0.002,
          0.005,
          0.003,
          0.004,
          0.003,
          0.005,
          0.008,
          0.005,
          0.001,
          0.003,
          0.003,
          0.001,
          0.006,
          0.004,
          0.007,
          0.005,
          0.003,
          0.001,
          0.009,
          0.004,
          0.007,
          0.005,
          0.007,
          0.006,
          0.001,
          0.006,
          0.003,
          0.007,
          0.006,
          0.006,
          0.005,
          0.004,
          0.003,
          0.004,
          0.002,
          0.005,
          0.003,
          0.005,
          0.004,
          0.005,
          0.007,
          0.003,
          0.008,
          0.002,
          0.002,
          0.008,
          0.008,
          0.003,
          0.003,
          0.005,
          0.007,
          0.008,
          0.001,
          0.008,
          0.002,
          0.004,
          0.004,
          0.003,
          0.004,
          0.008,
          0.009,
          0.007,
          0.009,
          0.004,
          0.008,
          0.008,
          0.005,
          0.003,
          0.007,
          0.007,
          0.001,
          0.006,
          0.007,
          0.007,
          0.003,
          0.007,
          0.003,
          0.004,
          0.006,
          0.008,
          0.004,
          0.003,
          0.001,
          0.002,
          0.005,
          0.002,
          0.006,
          0.004,
          0.005,
          0.008,
          0.002,
          0.006,
          0.004,
          0.008,
          0.008,
          0.004,
          0.005,
          0.004,
          0.004,
          0.003,
          0.001,
          0.005,
          0.002,
          0.001,
          0.004,
          0.007,
          0.006,
          0.005,
          0.001,
          0.005,
          0.006,
          0.003,
          0.005,
          0.003,
          0.003,
          0.004,
          0.003,
          0.001,
          0.002,
          0.001,
          0.008,
          0.001,
          0.001,
          0.006,
          0.001,
          0.005,
          0.002,
          0.003,
          0.006,
          0.006,
          0.003,
          0.001,
          0.003,
          0.006,
          0.008,
          0.002,
          0.009,
          0.002,
          0.006,
          0.001,
          0.007,
          0.001,
          0.002,
          0.002,
          0.001,
          0.007,
          0.004,
          0.001,
          0.009,
          0.007,
          0.001,
          0.005,
          0.007,
          0.001,
          0.006,
          0.009,
          0.008,
          0.005,
          0.003,
          0.003,
          0.006,
          0.003,
          0.009,
          0.001,
          0.001,
          0.004,
          0.002,
          0.005,
          0.006,
          0.005,
          0.001,
          0.001,
          0.002,
          0.005,
          0.007,
          0.001,
          0.008,
          0.002,
          0.008,
          0.003,
          0.001,
          0.005,
          0.001,
          0.007,
          0.005,
          0.008,
          0.001,
          0.003,
          0.007,
          0.005,
          0.002,
          0.001,
          0.001,
          0.006,
          0.001,
          0.002,
          0.005,
          0.007,
          0.002,
          0.003,
          0.009,
          0.005,
          0.007,
          0.005,
          0.002,
          0.003,
          0.004,
          0.007,
          0.004,
          0.006,
          0.002,
          0.001,
          0.008,
          0.005,
          0.008,
          0.001,
          0.005,
          0.002,
          0.005,
          0.006,
          0.001,
          0.002,
          0.007,
          0.005,
          0.001,
          0.001,
          0.002,
          0.006,
          0.001,
          0.008,
          0.005,
          0.001,
          0.006,
          0.002,
          0.001,
          0.003,
          0.007,
          0.002,
          0.002,
          0.001,
          0.008,
          0.007,
          0.005,
          0.008,
          0.001,
          0.002,
          0.001,
          0.003,
          0.001,
          0.007,
          0.003,
          0.002,
          0.007,
          0.005,
          0.006,
          0.005,
          0.005,
          0.005,
          0.006,
          0.005,
          0.006,
          0.008,
          0.002,
          0.006,
          0.008,
          0.006,
          0.001,
          0.001,
          0.001,
          0.008,
          0.004,
          0.008,
          0.006,
          0.007,
          0.005,
          0.006,
          0.008,
          0.007,
          0.009,
          0.004,
          0.005,
          0.003,
          0.001,
          0.003,
          0.002,
          0.008,
          0.007,
          0.008,
          0.009,
          0.005,
          0.001,
          0.005,
          0.005,
          0.004,
          0.001,
          0.009,
          0.008,
          0.005,
          0.007,
          0.007,
          0.002,
          0.007,
          0.003,
          0.003,
          0.006,
          0.005,
          0.001,
          0.001,
          0.002,
          0.001,
          0.001,
          0.003,
          0.005,
          0.006,
          0.006,
          0.001,
          0.005,
          0.001,
          0.005,
          0.001,
          0.002,
          0.009,
          0.001,
          0.005,
          0.007,
          0.002,
          0.003,
          0.001,
          0.001,
          0.006,
          0.009,
          0.002,
          0.001,
          0.004,
          0.007,
          0.002,
          0.006,
          0.005,
          0.008,
          0.006,
          0.002,
          0.006,
          0.002,
          0.004,
          0.009,
          0.006,
          0.001,
          0.007,
          0.005,
          0.001,
          0.009,
          0.007,
          0.005,
          0.002,
          0.002,
          0.009,
          0.009,
          0.007,
          0.002,
          0.003,
          0.008,
          0.006,
          0.004,
          0.003,
          0.006,
          0.002,
          0.008,
          0.008,
          0.001,
          0.008,
          0.001,
          0.006,
          0.002,
          0.002,
          0.009,
          0.002,
          0.001,
          0.008,
          0.003,
          0.007,
          0.001,
          0.008,
          0.005,
          0.001,
          0.004,
          0.008,
          0.004,
          0.008,
          0.008,
          0.005,
          0.003,
          0.002,
          0.006,
          0.003,
          0.001,
          0.004,
          0.004,
          0.006,
          0.005,
          0.004,
          0.003,
          0.006,
          0.006,
          0.009,
          0.008,
          0.002,
          0.001,
          0.007,
          0.006,
          0.003,
          0.005,
          0.008,
          0.007,
          0.007,
          0.004,
          0.003,
          0.001,
          0.004,
          0.005,
          0.001,
          0.003,
          0.005,
          0.004,
          0.005,
          0.008,
          0.001,
          0.008,
          0.004,
          0.003,
          0.004,
          0.003,
          0.006,
          0.003,
          0.008,
          0.003,
          0.002,
          0.007,
          0.008,
          0.001,
          0.004,
          0.003,
          0.003,
          0.007,
          0.008,
          0.004,
          0.009,
          0.001,
          0.005,
          0.001,
          0.008,
          0.008,
          0.007,
          0.003,
          0.004,
          0.009,
          0.004,
          0.007,
          0.009,
          0.001,
          0.005,
          0.004,
          0.008,
          0.002,
          0.003,
          0.004,
          0.007,
          0.001,
          0.001,
          0.001,
          0.008,
          0.008,
          0.008,
          0.005,
          0.003,
          0.006,
          0.006,
          0.005,
          0.002,
          0.005,
          0.005,
          0.005,
          0.009,
          0.006,
          0.008,
          0.004,
          0.005,
          0.006,
          0.009,
          0.006,
          0.007,
          0.008,
          0.004,
          0.004,
          0.007,
          0.004,
          0.007,
          0.001,
          0.002,
          0.001,
          0.006,
          0.008,
          0.004,
          0.004,
          0.001,
          0.004,
          0.004,
          0.007,
          0.002,
          0.006,
          0.003,
          0.005,
          0.001,
          0.003,
          0.008,
          0.006,
          0.001,
          0.007,
          0.005,
          0.009,
          0.008,
          0.007,
          0.001,
          0.009,
          0.001,
          0.006,
          0.001,
          0.002,
          0.001,
          0.001,
          0.006,
          0.002,
          0.006,
          0.003,
          0.006,
          0.006,
          0.007,
          0.001,
          0.002,
          0.007,
          0.006,
          0.008,
          0.005,
          0.001,
          0.001,
          0.002,
          0.006,
          0.002,
          0.04,
          0.02,
          0.12,
          0.09,
          0.12,
          0.12,
          0.02,
          0.05,
          0.02,
          0.08,
          0.01,
          0.13,
          0.06,
          0.1,
          0.05,
          0.13,
          0.04,
          0.07,
          0.06,
          0.11,
          0.03,
          0.12,
          0.11,
          0.1,
          0.12,
          0.11,
          0.1,
          0.05,
          0.05,
          0.12,
          0.12,
          0.07,
          0.1,
          0.13,
          0.11,
          0.03,
          0.11,
          0.11,
          0.09,
          0.1,
          0.11,
          0.03,
          0.06,
          0.04,
          0.04,
          0.03,
          0.01,
          0.04,
          0.04,
          0.006,
          0.007,
          0.003,
          0.006,
          0.006,
          0.006,
          0.001,
          0.008,
          0.002,
          0.001,
          0.003,
          0.002,
          0.006,
          0.008,
          0.003,
          0.001,
          0.001,
          0.007,
          0.003,
          0.009,
          0.004,
          0.002,
          0.002,
          0.007,
          0.002,
          0.003,
          0.006,
          0.005,
          0.006,
          0.001,
          0.002,
          0.006,
          0.004,
          0.002,
          0.005,
          0.004,
          0.004,
          0.008,
          0.007,
          0.004,
          0.001,
          0.005,
          0.006,
          0.002,
          0.007,
          0.001,
          0.004,
          0.006,
          0.007,
          0.05,
          0.11,
          0.07,
          0.07,
          0.03,
          0.04,
          0.02,
          0.05,
          0.04,
          0.06,
          0.07,
          0.02,
          0.08,
          0.06,
          0.05,
          0.01,
          0.03,
          0.03,
          0.04,
          0.04,
          0.03,
          0.1,
          0.09,
          0.12,
          0.06,
          0.02,
          0.05,
          0.13,
          0.11,
          0.04,
          0.11,
          0.1,
          0.11,
          0.09,
          0.08,
          0.09,
          0.03,
          0.09,
          0.02,
          0.09,
          0.08,
          0.07,
          0.03,
          0.03,
          0.09,
          0.02,
          0.12,
          0.12,
          0.08,
          0.04,
          0.01,
          0.06,
          0.03,
          0.06,
          0.05,
          0.01,
          0.02,
          0,
          0.09,
          0.01,
          0.08,
          0.05,
          0.08,
          0.07,
          0.01,
          0.01,
          0.06,
          0.09,
          0,
          0.04,
          0.06,
          0,
          0.02,
          0.03,
          0.06,
          0.08,
          0.09,
          0.06,
          0.03,
          0.06,
          0.07,
          0.05,
          0.04,
          0.04,
          0.06,
          0.09,
          0.03,
          0.07,
          0.02,
          0.05,
          0.09,
          0.04,
          0.05,
          0.06,
          0.03,
          0.07,
          0.08,
          0.06,
          0.01,
          0.04,
          0.03,
          0.05,
          0.07,
          0.03,
          0.09,
          0.08,
          0.08,
          0.09,
          0.03,
          0.08,
          0.08,
          0.06,
          0.02,
          0.03,
          0.05,
          0.02,
          0.02,
          0.04,
          0.07,
          0.03,
          0.06,
          0.09,
          0.05,
          0.02,
          0.02,
          0.02,
          0.06,
          0.03,
          0.05,
          0.04,
          0.05,
          0.03,
          0.06,
          0.02,
          0.05,
          0.01,
          0.08,
          0.09,
          0.03,
          0.09,
          0.04,
          0.08,
          0.09,
          0.06,
          0.02,
          0.09,
          0.01,
          0.06,
          0.02,
          0.05,
          0.08,
          0.07,
          0.09,
          0.09,
          0.01,
          0.08,
          0.04,
          0.02,
          0.04,
          0.01,
          0.03,
          0,
          0.03
         ],
         "z": [
          0.02,
          0.05,
          0.05,
          0.02,
          0.02,
          0.08,
          0.01,
          0.08,
          0.05,
          0.03,
          0.02,
          0.03,
          0.08,
          0.01,
          0.07,
          0.08,
          0.06,
          0.06,
          0.05,
          0.08,
          0.05,
          0.05,
          0.04,
          0.08,
          0.04,
          0.06,
          0,
          0.08,
          0,
          0.09,
          0.01,
          0.08,
          0.06,
          0.01,
          0.05,
          0.05,
          0,
          0.08,
          0.02,
          0.05,
          0.08,
          0.03,
          0.09,
          0.06,
          0.05,
          0.01,
          0.03,
          0.05,
          0.06,
          0.02,
          0.01,
          0.03,
          0.09,
          0,
          0.02,
          0.01,
          0.05,
          0.01,
          0.07,
          0.02,
          0.08,
          0.07,
          0.08,
          0.02,
          0.08,
          0.07,
          0.02,
          0,
          0.01,
          0.01,
          0.04,
          0.08,
          0.05,
          0.04,
          0.04,
          0.03,
          0.09,
          0.02,
          0.04,
          0.02,
          0.03,
          0.03,
          0.07,
          0.03,
          0.01,
          0.03,
          0.04,
          0.02,
          0.02,
          0.04,
          0.03,
          0.01,
          0,
          0.07,
          0,
          0.08,
          0.02,
          0.09,
          0.04,
          0.07,
          0.02,
          0.08,
          0.08,
          0.05,
          0.01,
          0.08,
          0.08,
          0.02,
          0.03,
          0.02,
          0.07,
          0.04,
          0,
          0,
          0.01,
          0.03,
          0.01,
          0.01,
          0.03,
          0.08,
          0.04,
          0,
          0.04,
          0.06,
          0.06,
          0.02,
          0.07,
          0.01,
          0.04,
          0.08,
          0.01,
          0.08,
          0,
          0.01,
          0.05,
          0.02,
          0.07,
          0,
          0,
          0.05,
          0.04,
          0.05,
          0.04,
          0,
          0.08,
          0,
          0.08,
          0.02,
          0.07,
          0.02,
          0.04,
          0.03,
          0.03,
          0.08,
          0.02,
          0.05,
          0.07,
          0.07,
          0.01,
          0.07,
          0.06,
          0.09,
          0.03,
          0.09,
          0.08,
          0.03,
          0.04,
          0.05,
          0.02,
          0.09,
          0.07,
          0.06,
          0,
          0.08,
          0.06,
          0.04,
          0.02,
          0.06,
          0.03,
          0.09,
          0.07,
          0.06,
          0.04,
          0.08,
          0.02,
          0.06,
          0.01,
          0.05,
          0.05,
          0.03,
          0.04,
          0.06,
          0.01,
          0.08,
          0.08,
          0.05,
          0.01,
          0,
          0.01,
          0.06,
          0.02,
          0.06,
          0.06,
          0.05,
          0.05,
          0.05,
          0.09,
          0,
          0.05,
          0.04,
          0.05,
          0,
          0.04,
          0.01,
          0.05,
          0.03,
          0.06,
          0.02,
          0.03,
          0.03,
          0.04,
          0,
          0.02,
          0.05,
          0.09,
          0.07,
          0.04,
          0.02,
          0.08,
          0.06,
          0.01,
          0.06,
          0.09,
          0.01,
          0.02,
          0.05,
          0.09,
          0.07,
          0.05,
          0.01,
          0.02,
          0,
          0.03,
          0.04,
          0.07,
          0.09,
          0.05,
          0.04,
          0.04,
          0.06,
          0.01,
          0.05,
          0,
          0,
          0.04,
          0.08,
          0.02,
          0.03,
          0.01,
          0.09,
          0.04,
          0.01,
          0,
          0.07,
          0.08,
          0.06,
          0.08,
          0.04,
          0.02,
          0.03,
          0.03,
          0.03,
          0.08,
          0.03,
          0.08,
          0.02,
          0.09,
          0.06,
          0.05,
          0.04,
          0.02,
          0,
          0.08,
          0.06,
          0.09,
          0.07,
          0.09,
          0.03,
          0.08,
          0.02,
          0.06,
          0.04,
          0.01,
          0.03,
          0.02,
          0.07,
          0.06,
          0,
          0,
          0.03,
          0.07,
          0.08,
          0.08,
          0.05,
          0.04,
          0.09,
          0.05,
          0.06,
          0.02,
          0.08,
          0.08,
          0.06,
          0.09,
          0.04,
          0.01,
          0.03,
          0.02,
          0.05,
          0,
          0.05,
          0.01,
          0.05,
          0.09,
          0.02,
          0.05,
          0.05,
          0.05,
          0.07,
          0.02,
          0.06,
          0.01,
          0.07,
          0.08,
          0.06,
          0.02,
          0.08,
          0,
          0.08,
          0.05,
          0.08,
          0.05,
          0.02,
          0.04,
          0.04,
          0.05,
          0.09,
          0.07,
          0.02,
          0.04,
          0.03,
          0.01,
          0.01,
          0.01,
          0.07,
          0.02,
          0.06,
          0.08,
          0.04,
          0.07,
          0.05,
          0.06,
          0.06,
          0.05,
          0.01,
          0.01,
          0.03,
          0.02,
          0.03,
          0.05,
          0.09,
          0.02,
          0.01,
          0.08,
          0.07,
          0.06,
          0.05,
          0.08,
          0.02,
          0.07,
          0.01,
          0.08,
          0.05,
          0.06,
          0.01,
          0.08,
          0,
          0.03,
          0.05,
          0.03,
          0.05,
          0.03,
          0,
          0.06,
          0.07,
          0.08,
          0.04,
          0.08,
          0.08,
          0.07,
          0.02,
          0,
          0.02,
          0.02,
          0.04,
          0.03,
          0.07,
          0.07,
          0,
          0.03,
          0.04,
          0.06,
          0.01,
          0.02,
          0.09,
          0.08,
          0.07,
          0.07,
          0.04,
          0.06,
          0.02,
          0.04,
          0.08,
          0.02,
          0.01,
          0.06,
          0,
          0.01,
          0.05,
          0.08,
          0.05,
          0.08,
          0.06,
          0.01,
          0.04,
          0.05,
          0,
          0.04,
          0.09,
          0.09,
          0,
          0.08,
          0.06,
          0.03,
          0.08,
          0.06,
          0.06,
          0.07,
          0,
          0.01,
          0.07,
          0.03,
          0.04,
          0.07,
          0.06,
          0.09,
          0.02,
          0,
          0,
          0.06,
          0.03,
          0.06,
          0.02,
          0.02,
          0.06,
          0.02,
          0.05,
          0,
          0.06,
          0.02,
          0.08,
          0.04,
          0.07,
          0.01,
          0.07,
          0.04,
          0.02,
          0.05,
          0.04,
          0.09,
          0.04,
          0.07,
          0.09,
          0.05,
          0.02,
          0,
          0.03,
          0.09,
          0.06,
          0.08,
          0.01,
          0.06,
          0.07,
          0.04,
          0.05,
          0.01,
          0.06,
          0.02,
          0.02,
          0.04,
          0.09,
          0.03,
          0.08,
          0.04,
          0.08,
          0.06,
          0.06,
          0.02,
          0.06,
          0.04,
          0.07,
          0.04,
          0.04,
          0.07,
          0,
          0.03,
          0.03,
          0.01,
          0.04,
          0,
          0.06,
          0.04,
          0.01,
          0.07,
          0.07,
          0.05,
          0.09,
          0.01,
          0.02,
          0.06,
          0.01,
          0.05,
          0.03,
          0.06,
          0.05,
          0.06,
          0.07,
          0.01,
          0.01,
          0.02,
          0.08,
          0.02,
          0.07,
          0.09,
          0.05,
          0,
          0.06,
          0.08,
          0,
          0.06,
          0.05,
          0.06,
          0.01,
          0.04,
          0.02,
          0.02,
          0.02,
          0.07,
          0.01,
          0,
          0.05,
          0.02,
          0.07,
          0.03,
          0.07,
          0.01,
          0.04,
          0.03,
          0.02,
          0.06,
          0.07,
          0.07,
          0.04,
          0.01,
          0.01,
          0.05,
          0.02,
          0.01,
          0.06,
          0.08,
          0,
          0.04,
          0.03,
          0.08,
          0.02,
          0.04,
          0.03,
          0.02,
          0.05,
          0.08,
          0.03,
          0.07,
          0.02,
          0.08,
          0.03,
          0.07,
          0.04,
          0.07,
          0,
          0.02,
          0,
          0.06,
          0.09,
          0.06,
          0.06,
          0.07,
          0.08,
          0,
          0.03,
          0.07,
          0.09,
          0.05,
          0,
          0.05,
          0.07,
          0.03,
          0.02,
          0,
          0.09,
          0,
          0.03,
          0.03,
          0.06,
          0.01,
          0.06,
          0.06,
          0.01,
          0.03,
          0.07,
          0.04,
          0.02,
          0.07,
          0.03,
          0.09,
          0.01,
          0.07,
          0.05,
          0.07,
          0.07,
          0.04,
          0.06,
          0.02,
          0.01,
          0.02,
          0.09,
          0.06,
          0.06,
          0,
          0.06,
          0.03,
          0.08,
          0.05,
          0.02,
          0.02,
          0,
          0.02,
          0,
          0.01,
          0.02,
          0.02,
          0.03,
          0.02,
          0.02,
          0.02,
          0.03,
          0.01,
          0.01,
          0.02,
          0.02,
          0.02,
          0.01,
          0.02,
          0.02,
          0.03,
          0.01,
          0,
          0.02,
          0.01,
          0.02,
          0.02,
          0.01,
          0,
          0.02,
          0.03,
          0.02,
          0.03,
          0.02,
          0.03,
          0.01,
          0.02,
          0.01,
          0.01,
          0.01,
          0,
          0,
          0.03,
          0.03,
          0.01,
          0.01,
          0.01,
          0.02,
          0.02,
          0.02,
          0,
          0.02,
          0.01,
          0.01,
          0.02,
          0.02,
          0.03,
          0.03,
          0.02,
          0.02,
          0.01,
          0.02,
          0.03,
          0.01,
          0.01,
          0.02,
          0.02,
          0.02,
          0.01,
          0.02,
          0.02,
          0.03,
          0.01,
          0.02,
          0.01,
          0.02,
          0.02,
          0.01,
          0,
          0.02,
          0.03,
          0.02,
          0.03,
          0.02,
          0.03,
          0.01,
          0.02,
          0.01,
          0.01,
          0.01,
          0,
          0,
          0.03,
          0.01,
          0.01,
          0.01,
          0.02,
          0.02,
          0.02,
          0,
          0.02,
          0,
          0.01,
          0.02,
          0.02,
          0.03,
          0.02,
          0.02,
          0.02,
          0.03,
          0.01,
          0.01,
          0.02,
          0.02,
          0.02,
          0.01,
          0.02,
          0.02,
          0.03,
          0.01,
          0,
          0.02,
          0.01,
          0.02,
          0.02,
          0.01,
          0,
          0.02,
          0.03,
          0.02,
          0.03,
          0.02,
          0.03,
          0.01,
          0.02,
          0.01,
          0.01,
          0.01,
          0,
          0,
          0.03,
          0.03,
          0.01,
          0.01,
          0.01,
          0.02,
          0.02,
          0.05,
          0.05,
          0,
          0.04,
          0.01,
          0.05,
          0.02,
          0.01,
          0.05,
          0.07,
          0.02,
          0.08,
          0.07,
          0.08,
          0.07,
          0.08,
          0.05,
          0.02,
          0.03,
          0.07,
          0.08,
          0.04,
          0.04,
          0.02,
          0.02,
          0.02,
          0.03,
          0.04,
          0.08,
          0.02,
          0.05,
          0.02,
          0.06,
          0.02,
          0.05,
          0.02,
          0.06,
          0.08,
          0.04,
          0.05,
          0.03,
          0.07,
          0.08,
          0.03,
          0.05,
          0.01,
          0.03,
          0.06,
          0,
          0.04,
          0.06,
          0.08,
          0.02,
          0.05,
          0.03,
          0.02,
          0.01,
          0.01,
          0,
          0.04,
          0.05,
          0.03,
          0.02,
          0.02,
          0.02,
          0.05,
          0.05,
          0,
          0.04,
          0.01,
          0.02,
          0.05,
          0.02,
          0.01,
          0.05,
          0.07,
          0.02,
          0.08,
          0.07,
          0.07,
          0,
          0.07,
          0.08,
          0.05,
          0.03,
          0.01,
          0.02,
          0.04,
          0.08,
          0.05,
          0.02,
          0.02,
          0.02,
          0.06,
          0.08,
          0.04,
          0.03,
          0.02,
          0.02,
          0.09,
          0,
          0.03,
          0.06,
          0.06,
          0,
          0.06,
          0.05,
          0.07,
          0.03,
          0.08,
          0.05,
          0,
          0.05
         ]
        }
       ],
       "layout": {
        "height": 900,
        "legend": {
         "orientation": "h",
         "title": {
          "text": "is_safe"
         },
         "tracegroupgap": 0,
         "x": 0.5,
         "xanchor": "center",
         "y": 0,
         "yanchor": "top"
        },
        "margin": {
         "b": 0,
         "l": 0,
         "r": 0,
         "t": 0
        },
        "scene": {
         "camera": {
          "center": {
           "x": 0,
           "y": 0,
           "z": -0.2
          },
          "eye": {
           "x": -1.5,
           "y": 1.5,
           "z": 0.5
          },
          "up": {
           "x": 0,
           "y": 0,
           "z": 1
          }
         },
         "domain": {
          "x": [
           0,
           1
          ],
          "y": [
           0,
           1
          ]
         },
         "xaxis": {
          "backgroundcolor": "white",
          "color": "black",
          "gridcolor": "#f0f0f0",
          "tickfont": {
           "size": 10
          },
          "title": {
           "font": {
            "size": 10
           },
           "text": "aluminium"
          }
         },
         "yaxis": {
          "backgroundcolor": "white",
          "color": "black",
          "gridcolor": "#f0f0f0",
          "tickfont": {
           "size": 10
          },
          "title": {
           "font": {
            "size": 10
           },
           "text": "cadmium"
          }
         },
         "zaxis": {
          "backgroundcolor": "lightgrey",
          "color": "black",
          "gridcolor": "#f0f0f0",
          "tickfont": {
           "size": 10
          },
          "title": {
           "font": {
            "size": 10
           },
           "text": "uranium"
          }
         }
        },
        "showlegend": true,
        "template": {
         "data": {
          "bar": [
           {
            "error_x": {
             "color": "#2a3f5f"
            },
            "error_y": {
             "color": "#2a3f5f"
            },
            "marker": {
             "line": {
              "color": "#E5ECF6",
              "width": 0.5
             },
             "pattern": {
              "fillmode": "overlay",
              "size": 10,
              "solidity": 0.2
             }
            },
            "type": "bar"
           }
          ],
          "barpolar": [
           {
            "marker": {
             "line": {
              "color": "#E5ECF6",
              "width": 0.5
             },
             "pattern": {
              "fillmode": "overlay",
              "size": 10,
              "solidity": 0.2
             }
            },
            "type": "barpolar"
           }
          ],
          "carpet": [
           {
            "aaxis": {
             "endlinecolor": "#2a3f5f",
             "gridcolor": "white",
             "linecolor": "white",
             "minorgridcolor": "white",
             "startlinecolor": "#2a3f5f"
            },
            "baxis": {
             "endlinecolor": "#2a3f5f",
             "gridcolor": "white",
             "linecolor": "white",
             "minorgridcolor": "white",
             "startlinecolor": "#2a3f5f"
            },
            "type": "carpet"
           }
          ],
          "choropleth": [
           {
            "colorbar": {
             "outlinewidth": 0,
             "ticks": ""
            },
            "type": "choropleth"
           }
          ],
          "contour": [
           {
            "colorbar": {
             "outlinewidth": 0,
             "ticks": ""
            },
            "colorscale": [
             [
              0,
              "#0d0887"
             ],
             [
              0.1111111111111111,
              "#46039f"
             ],
             [
              0.2222222222222222,
              "#7201a8"
             ],
             [
              0.3333333333333333,
              "#9c179e"
             ],
             [
              0.4444444444444444,
              "#bd3786"
             ],
             [
              0.5555555555555556,
              "#d8576b"
             ],
             [
              0.6666666666666666,
              "#ed7953"
             ],
             [
              0.7777777777777778,
              "#fb9f3a"
             ],
             [
              0.8888888888888888,
              "#fdca26"
             ],
             [
              1,
              "#f0f921"
             ]
            ],
            "type": "contour"
           }
          ],
          "contourcarpet": [
           {
            "colorbar": {
             "outlinewidth": 0,
             "ticks": ""
            },
            "type": "contourcarpet"
           }
          ],
          "heatmap": [
           {
            "colorbar": {
             "outlinewidth": 0,
             "ticks": ""
            },
            "colorscale": [
             [
              0,
              "#0d0887"
             ],
             [
              0.1111111111111111,
              "#46039f"
             ],
             [
              0.2222222222222222,
              "#7201a8"
             ],
             [
              0.3333333333333333,
              "#9c179e"
             ],
             [
              0.4444444444444444,
              "#bd3786"
             ],
             [
              0.5555555555555556,
              "#d8576b"
             ],
             [
              0.6666666666666666,
              "#ed7953"
             ],
             [
              0.7777777777777778,
              "#fb9f3a"
             ],
             [
              0.8888888888888888,
              "#fdca26"
             ],
             [
              1,
              "#f0f921"
             ]
            ],
            "type": "heatmap"
           }
          ],
          "heatmapgl": [
           {
            "colorbar": {
             "outlinewidth": 0,
             "ticks": ""
            },
            "colorscale": [
             [
              0,
              "#0d0887"
             ],
             [
              0.1111111111111111,
              "#46039f"
             ],
             [
              0.2222222222222222,
              "#7201a8"
             ],
             [
              0.3333333333333333,
              "#9c179e"
             ],
             [
              0.4444444444444444,
              "#bd3786"
             ],
             [
              0.5555555555555556,
              "#d8576b"
             ],
             [
              0.6666666666666666,
              "#ed7953"
             ],
             [
              0.7777777777777778,
              "#fb9f3a"
             ],
             [
              0.8888888888888888,
              "#fdca26"
             ],
             [
              1,
              "#f0f921"
             ]
            ],
            "type": "heatmapgl"
           }
          ],
          "histogram": [
           {
            "marker": {
             "pattern": {
              "fillmode": "overlay",
              "size": 10,
              "solidity": 0.2
             }
            },
            "type": "histogram"
           }
          ],
          "histogram2d": [
           {
            "colorbar": {
             "outlinewidth": 0,
             "ticks": ""
            },
            "colorscale": [
             [
              0,
              "#0d0887"
             ],
             [
              0.1111111111111111,
              "#46039f"
             ],
             [
              0.2222222222222222,
              "#7201a8"
             ],
             [
              0.3333333333333333,
              "#9c179e"
             ],
             [
              0.4444444444444444,
              "#bd3786"
             ],
             [
              0.5555555555555556,
              "#d8576b"
             ],
             [
              0.6666666666666666,
              "#ed7953"
             ],
             [
              0.7777777777777778,
              "#fb9f3a"
             ],
             [
              0.8888888888888888,
              "#fdca26"
             ],
             [
              1,
              "#f0f921"
             ]
            ],
            "type": "histogram2d"
           }
          ],
          "histogram2dcontour": [
           {
            "colorbar": {
             "outlinewidth": 0,
             "ticks": ""
            },
            "colorscale": [
             [
              0,
              "#0d0887"
             ],
             [
              0.1111111111111111,
              "#46039f"
             ],
             [
              0.2222222222222222,
              "#7201a8"
             ],
             [
              0.3333333333333333,
              "#9c179e"
             ],
             [
              0.4444444444444444,
              "#bd3786"
             ],
             [
              0.5555555555555556,
              "#d8576b"
             ],
             [
              0.6666666666666666,
              "#ed7953"
             ],
             [
              0.7777777777777778,
              "#fb9f3a"
             ],
             [
              0.8888888888888888,
              "#fdca26"
             ],
             [
              1,
              "#f0f921"
             ]
            ],
            "type": "histogram2dcontour"
           }
          ],
          "mesh3d": [
           {
            "colorbar": {
             "outlinewidth": 0,
             "ticks": ""
            },
            "type": "mesh3d"
           }
          ],
          "parcoords": [
           {
            "line": {
             "colorbar": {
              "outlinewidth": 0,
              "ticks": ""
             }
            },
            "type": "parcoords"
           }
          ],
          "pie": [
           {
            "automargin": true,
            "type": "pie"
           }
          ],
          "scatter": [
           {
            "marker": {
             "colorbar": {
              "outlinewidth": 0,
              "ticks": ""
             }
            },
            "type": "scatter"
           }
          ],
          "scatter3d": [
           {
            "line": {
             "colorbar": {
              "outlinewidth": 0,
              "ticks": ""
             }
            },
            "marker": {
             "colorbar": {
              "outlinewidth": 0,
              "ticks": ""
             }
            },
            "type": "scatter3d"
           }
          ],
          "scattercarpet": [
           {
            "marker": {
             "colorbar": {
              "outlinewidth": 0,
              "ticks": ""
             }
            },
            "type": "scattercarpet"
           }
          ],
          "scattergeo": [
           {
            "marker": {
             "colorbar": {
              "outlinewidth": 0,
              "ticks": ""
             }
            },
            "type": "scattergeo"
           }
          ],
          "scattergl": [
           {
            "marker": {
             "colorbar": {
              "outlinewidth": 0,
              "ticks": ""
             }
            },
            "type": "scattergl"
           }
          ],
          "scattermapbox": [
           {
            "marker": {
             "colorbar": {
              "outlinewidth": 0,
              "ticks": ""
             }
            },
            "type": "scattermapbox"
           }
          ],
          "scatterpolar": [
           {
            "marker": {
             "colorbar": {
              "outlinewidth": 0,
              "ticks": ""
             }
            },
            "type": "scatterpolar"
           }
          ],
          "scatterpolargl": [
           {
            "marker": {
             "colorbar": {
              "outlinewidth": 0,
              "ticks": ""
             }
            },
            "type": "scatterpolargl"
           }
          ],
          "scatterternary": [
           {
            "marker": {
             "colorbar": {
              "outlinewidth": 0,
              "ticks": ""
             }
            },
            "type": "scatterternary"
           }
          ],
          "surface": [
           {
            "colorbar": {
             "outlinewidth": 0,
             "ticks": ""
            },
            "colorscale": [
             [
              0,
              "#0d0887"
             ],
             [
              0.1111111111111111,
              "#46039f"
             ],
             [
              0.2222222222222222,
              "#7201a8"
             ],
             [
              0.3333333333333333,
              "#9c179e"
             ],
             [
              0.4444444444444444,
              "#bd3786"
             ],
             [
              0.5555555555555556,
              "#d8576b"
             ],
             [
              0.6666666666666666,
              "#ed7953"
             ],
             [
              0.7777777777777778,
              "#fb9f3a"
             ],
             [
              0.8888888888888888,
              "#fdca26"
             ],
             [
              1,
              "#f0f921"
             ]
            ],
            "type": "surface"
           }
          ],
          "table": [
           {
            "cells": {
             "fill": {
              "color": "#EBF0F8"
             },
             "line": {
              "color": "white"
             }
            },
            "header": {
             "fill": {
              "color": "#C8D4E3"
             },
             "line": {
              "color": "white"
             }
            },
            "type": "table"
           }
          ]
         },
         "layout": {
          "annotationdefaults": {
           "arrowcolor": "#2a3f5f",
           "arrowhead": 0,
           "arrowwidth": 1
          },
          "autotypenumbers": "strict",
          "coloraxis": {
           "colorbar": {
            "outlinewidth": 0,
            "ticks": ""
           }
          },
          "colorscale": {
           "diverging": [
            [
             0,
             "#8e0152"
            ],
            [
             0.1,
             "#c51b7d"
            ],
            [
             0.2,
             "#de77ae"
            ],
            [
             0.3,
             "#f1b6da"
            ],
            [
             0.4,
             "#fde0ef"
            ],
            [
             0.5,
             "#f7f7f7"
            ],
            [
             0.6,
             "#e6f5d0"
            ],
            [
             0.7,
             "#b8e186"
            ],
            [
             0.8,
             "#7fbc41"
            ],
            [
             0.9,
             "#4d9221"
            ],
            [
             1,
             "#276419"
            ]
           ],
           "sequential": [
            [
             0,
             "#0d0887"
            ],
            [
             0.1111111111111111,
             "#46039f"
            ],
            [
             0.2222222222222222,
             "#7201a8"
            ],
            [
             0.3333333333333333,
             "#9c179e"
            ],
            [
             0.4444444444444444,
             "#bd3786"
            ],
            [
             0.5555555555555556,
             "#d8576b"
            ],
            [
             0.6666666666666666,
             "#ed7953"
            ],
            [
             0.7777777777777778,
             "#fb9f3a"
            ],
            [
             0.8888888888888888,
             "#fdca26"
            ],
            [
             1,
             "#f0f921"
            ]
           ],
           "sequentialminus": [
            [
             0,
             "#0d0887"
            ],
            [
             0.1111111111111111,
             "#46039f"
            ],
            [
             0.2222222222222222,
             "#7201a8"
            ],
            [
             0.3333333333333333,
             "#9c179e"
            ],
            [
             0.4444444444444444,
             "#bd3786"
            ],
            [
             0.5555555555555556,
             "#d8576b"
            ],
            [
             0.6666666666666666,
             "#ed7953"
            ],
            [
             0.7777777777777778,
             "#fb9f3a"
            ],
            [
             0.8888888888888888,
             "#fdca26"
            ],
            [
             1,
             "#f0f921"
            ]
           ]
          },
          "colorway": [
           "#636efa",
           "#EF553B",
           "#00cc96",
           "#ab63fa",
           "#FFA15A",
           "#19d3f3",
           "#FF6692",
           "#B6E880",
           "#FF97FF",
           "#FECB52"
          ],
          "font": {
           "color": "#2a3f5f"
          },
          "geo": {
           "bgcolor": "white",
           "lakecolor": "white",
           "landcolor": "#E5ECF6",
           "showlakes": true,
           "showland": true,
           "subunitcolor": "white"
          },
          "hoverlabel": {
           "align": "left"
          },
          "hovermode": "closest",
          "mapbox": {
           "style": "light"
          },
          "paper_bgcolor": "white",
          "plot_bgcolor": "#E5ECF6",
          "polar": {
           "angularaxis": {
            "gridcolor": "white",
            "linecolor": "white",
            "ticks": ""
           },
           "bgcolor": "#E5ECF6",
           "radialaxis": {
            "gridcolor": "white",
            "linecolor": "white",
            "ticks": ""
           }
          },
          "scene": {
           "xaxis": {
            "backgroundcolor": "#E5ECF6",
            "gridcolor": "white",
            "gridwidth": 2,
            "linecolor": "white",
            "showbackground": true,
            "ticks": "",
            "zerolinecolor": "white"
           },
           "yaxis": {
            "backgroundcolor": "#E5ECF6",
            "gridcolor": "white",
            "gridwidth": 2,
            "linecolor": "white",
            "showbackground": true,
            "ticks": "",
            "zerolinecolor": "white"
           },
           "zaxis": {
            "backgroundcolor": "#E5ECF6",
            "gridcolor": "white",
            "gridwidth": 2,
            "linecolor": "white",
            "showbackground": true,
            "ticks": "",
            "zerolinecolor": "white"
           }
          },
          "shapedefaults": {
           "line": {
            "color": "#2a3f5f"
           }
          },
          "ternary": {
           "aaxis": {
            "gridcolor": "white",
            "linecolor": "white",
            "ticks": ""
           },
           "baxis": {
            "gridcolor": "white",
            "linecolor": "white",
            "ticks": ""
           },
           "bgcolor": "#E5ECF6",
           "caxis": {
            "gridcolor": "white",
            "linecolor": "white",
            "ticks": ""
           }
          },
          "title": {
           "x": 0.05
          },
          "xaxis": {
           "automargin": true,
           "gridcolor": "white",
           "linecolor": "white",
           "ticks": "",
           "title": {
            "standoff": 15
           },
           "zerolinecolor": "white",
           "zerolinewidth": 2
          },
          "yaxis": {
           "automargin": true,
           "gridcolor": "white",
           "linecolor": "white",
           "ticks": "",
           "title": {
            "standoff": 15
           },
           "zerolinecolor": "white",
           "zerolinewidth": 2
          }
         }
        },
        "width": 900
       }
      },
      "text/html": [
       "<div>                            <div id=\"02e2f677-e051-4ceb-929c-da5f0837a258\" class=\"plotly-graph-div\" style=\"height:900px; width:900px;\"></div>            <script type=\"text/javascript\">                require([\"plotly\"], function(Plotly) {                    window.PLOTLYENV=window.PLOTLYENV || {};                                    if (document.getElementById(\"02e2f677-e051-4ceb-929c-da5f0837a258\")) {                    Plotly.newPlot(                        \"02e2f677-e051-4ceb-929c-da5f0837a258\",                        [{\"customdata\":[[0.45,\"0\"],[1.03,\"0\"],[6.27,\"0\"],[7.24,\"0\"],[2.02,\"0\"],[4.3,\"0\"],[0.11,\"0\"],[0.08,\"0\"],[1.73,\"0\"],[0.28,\"0\"],[0.19,\"0\"],[0.22,\"0\"],[0.2,\"0\"],[3.5,\"0\"],[2.86,\"0\"],[0.05,\"0\"],[5.72,\"0\"],[0.09,\"0\"],[0.08,\"0\"],[0.07,\"0\"],[5.23,\"0\"],[2.83,\"0\"],[7.42,\"0\"],[6.47,\"0\"],[0.06,\"0\"],[0.05,\"0\"],[6.58,\"0\"],[4.4,\"0\"],[0.01,\"0\"],[3.66,\"0\"],[6.98,\"0\"],[0.03,\"0\"],[5.28,\"0\"],[0.23,\"0\"],[6.63,\"0\"],[0.29,\"0\"],[0.47,\"0\"],[0.27,\"0\"],[0.3,\"0\"],[0.46,\"0\"],[0.15,\"0\"],[3.4,\"0\"],[0.01,\"0\"],[4.24,\"0\"],[0.21,\"0\"],[0.07,\"0\"],[2.88,\"0\"],[0.04,\"0\"],[0.09,\"0\"],[1.88,\"0\"],[2.56,\"0\"],[0.07,\"0\"],[0.15,\"0\"],[0.22,\"0\"],[0.19,\"0\"],[4.58,\"0\"],[0.36,\"0\"],[0.3,\"0\"],[7.71,\"0\"],[0.06,\"0\"],[0.03,\"0\"],[0.04,\"0\"],[0.0,\"0\"],[4.68,\"0\"],[0.43,\"0\"],[0.05,\"0\"],[0.24,\"0\"],[0.09,\"0\"],[0.93,\"0\"],[0.53,\"0\"],[0.01,\"0\"],[1.82,\"0\"],[0.15,\"0\"],[0.02,\"0\"],[1.81,\"0\"],[5.05,\"0\"],[6.76,\"0\"],[0.27,\"0\"],[0.09,\"0\"],[7.08,\"0\"],[0.34,\"0\"],[0.13,\"0\"],[0.28,\"0\"],[6.96,\"0\"],[0.13,\"0\"],[0.05,\"0\"],[3.04,\"0\"],[0.02,\"0\"],[0.23,\"0\"],[0.06,\"0\"],[0.02,\"0\"],[7.49,\"0\"],[0.0,\"0\"],[0.8,\"0\"],[5.22,\"0\"],[0.04,\"0\"],[0.27,\"0\"],[1.84,\"0\"],[0.08,\"0\"],[0.15,\"0\"],[0.4,\"0\"],[0.36,\"0\"],[4.15,\"0\"],[0.06,\"0\"],[6.89,\"0\"],[1.3,\"0\"],[0.09,\"0\"],[2.13,\"0\"],[3.33,\"0\"],[7.88,\"0\"],[3.96,\"0\"],[0.02,\"0\"],[3.61,\"0\"],[0.05,\"0\"],[4.65,\"0\"],[0.3,\"0\"],[0.08,\"0\"],[4.83,\"0\"],[0.08,\"0\"],[0.04,\"0\"],[0.2,\"0\"],[6.69,\"0\"],[4.05,\"0\"],[3.58,\"0\"],[0.09,\"0\"],[0.22,\"0\"],[4.07,\"0\"],[0.03,\"0\"],[0.03,\"0\"],[0.06,\"0\"],[3.49,\"0\"],[0.32,\"0\"],[6.35,\"0\"],[5.54,\"0\"],[0.22,\"0\"],[0.35,\"0\"],[0.09,\"0\"],[0.8,\"0\"],[0.03,\"0\"],[0.08,\"0\"],[7.48,\"0\"],[1.56,\"0\"],[0.06,\"0\"],[0.23,\"0\"],[0.09,\"0\"],[1.51,\"0\"],[7.3,\"0\"],[0.08,\"0\"],[0.12,\"0\"],[0.27,\"0\"],[0.38,\"0\"],[4.16,\"0\"],[6.95,\"0\"],[4.98,\"0\"],[0.39,\"0\"],[0.09,\"0\"],[0.42,\"0\"],[1.12,\"0\"],[2.03,\"0\"],[0.0,\"0\"],[6.55,\"0\"],[1.45,\"0\"],[0.38,\"0\"],[0.26,\"0\"],[5.42,\"0\"],[0.07,\"0\"],[0.03,\"0\"],[6.72,\"0\"],[7.02,\"0\"],[0.09,\"0\"],[0.61,\"0\"],[1.8,\"0\"],[7.79,\"0\"],[0.03,\"0\"],[3.7,\"0\"],[0.01,\"0\"],[0.02,\"0\"],[4.43,\"0\"],[0.04,\"0\"],[0.01,\"0\"],[0.19,\"0\"],[0.1,\"0\"],[2.55,\"0\"],[4.3,\"0\"],[2.74,\"0\"],[6.45,\"0\"],[0.27,\"0\"],[2.99,\"0\"],[0.08,\"0\"],[5.31,\"0\"],[0.29,\"0\"],[0.6,\"0\"],[0.76,\"0\"],[5.76,\"0\"],[4.68,\"0\"],[0.51,\"0\"],[3.01,\"0\"],[0.38,\"0\"],[0.05,\"0\"],[7.49,\"0\"],[0.18,\"0\"],[2.56,\"0\"],[5.67,\"0\"],[6.06,\"0\"],[0.05,\"0\"],[7.73,\"0\"],[1.54,\"0\"],[7.23,\"0\"],[0.02,\"0\"],[0.12,\"0\"],[0.39,\"0\"],[0.2,\"0\"],[3.48,\"0\"],[3.98,\"0\"],[0.1,\"0\"],[2.41,\"0\"],[4.36,\"0\"],[6.05,\"0\"],[4.54,\"0\"],[0.22,\"0\"],[6.64,\"0\"],[0.09,\"0\"],[0.09,\"0\"],[8.68,\"0\"],[7.49,\"0\"],[3.65,\"0\"],[0.36,\"0\"],[0.08,\"0\"],[0.39,\"0\"],[6.69,\"0\"],[0.11,\"0\"],[0.01,\"0\"],[0.28,\"0\"],[0.42,\"0\"],[3.8,\"0\"],[0.44,\"0\"],[3.16,\"0\"],[0.09,\"0\"],[0.48,\"0\"],[0.07,\"0\"],[0.05,\"0\"],[0.14,\"0\"],[0.01,\"0\"],[1.81,\"0\"],[3.05,\"0\"],[0.06,\"0\"],[0.12,\"0\"],[0.37,\"0\"],[7.78,\"0\"],[1.61,\"0\"],[0.19,\"0\"],[0.39,\"0\"],[0.03,\"0\"],[0.62,\"0\"],[7.42,\"0\"],[6.11,\"0\"],[0.45,\"0\"],[0.01,\"0\"],[0.35,\"0\"],[2.04,\"0\"],[0.67,\"0\"],[0.58,\"0\"],[2.33,\"0\"],[0.05,\"0\"],[4.74,\"0\"],[0.16,\"0\"],[1.25,\"0\"],[6.24,\"0\"],[7.76,\"0\"],[0.37,\"0\"],[7.09,\"0\"],[0.49,\"0\"],[0.08,\"0\"],[7.41,\"0\"],[0.08,\"0\"],[0.05,\"0\"],[2.73,\"0\"],[0.06,\"0\"],[0.22,\"0\"],[2.32,\"0\"],[0.04,\"0\"],[6.29,\"0\"],[2.03,\"0\"],[0.15,\"0\"],[0.07,\"0\"],[6.17,\"0\"],[0.08,\"0\"],[0.05,\"0\"],[0.11,\"0\"],[1.49,\"0\"],[5.45,\"0\"],[0.39,\"0\"],[0.69,\"0\"],[6.95,\"0\"],[6.6,\"0\"],[5.4,\"0\"],[7.12,\"0\"],[0.01,\"0\"],[0.07,\"0\"],[0.05,\"0\"],[4.18,\"0\"],[6.28,\"0\"],[5.23,\"0\"],[0.05,\"0\"],[1.59,\"0\"],[0.31,\"0\"],[0.09,\"0\"],[0.19,\"0\"],[0.41,\"0\"],[0.04,\"0\"],[0.02,\"0\"],[0.25,\"0\"],[0.01,\"0\"],[2.5,\"0\"],[0.12,\"0\"],[0.06,\"0\"],[0.29,\"0\"],[0.24,\"0\"],[0.15,\"0\"],[2.86,\"0\"],[0.1,\"0\"],[0.01,\"0\"],[6.72,\"0\"],[0.02,\"0\"],[0.07,\"0\"],[0.02,\"0\"],[0.05,\"0\"],[0.1,\"0\"],[4.3,\"0\"],[2.4,\"0\"],[0.25,\"0\"],[0.45,\"0\"],[0.15,\"0\"],[4.23,\"0\"],[0.06,\"0\"],[4.01,\"0\"],[2.69,\"0\"],[0.65,\"0\"],[0.51,\"0\"],[3.93,\"0\"],[0.1,\"0\"],[5.65,\"0\"],[0.48,\"0\"],[0.04,\"0\"],[6.23,\"0\"],[0.19,\"0\"],[0.34,\"0\"],[5.61,\"0\"],[0.09,\"0\"],[7.67,\"0\"],[0.45,\"0\"],[0.01,\"0\"],[0.05,\"0\"],[0.02,\"0\"],[5.9,\"0\"],[0.23,\"0\"],[0.06,\"0\"],[0.5,\"0\"],[0.88,\"0\"],[2.94,\"0\"],[0.22,\"0\"],[0.05,\"0\"],[0.0,\"0\"],[0.07,\"0\"],[0.17,\"0\"],[5.92,\"0\"],[0.43,\"0\"],[2.45,\"0\"],[0.37,\"0\"],[0.1,\"0\"],[0.0,\"0\"],[4.37,\"0\"],[5.22,\"0\"],[4.55,\"0\"],[4.24,\"0\"],[0.5,\"0\"],[0.93,\"0\"],[1.01,\"0\"],[0.0,\"0\"],[7.76,\"0\"],[0.02,\"0\"],[7.48,\"0\"],[0.32,\"0\"],[4.4,\"0\"],[0.04,\"0\"],[2.03,\"0\"],[0.18,\"0\"],[0.01,\"0\"],[0.01,\"0\"],[0.02,\"0\"],[0.42,\"0\"],[0.03,\"0\"],[0.32,\"0\"],[0.09,\"0\"],[4.67,\"0\"],[7.34,\"0\"],[0.43,\"0\"],[0.2,\"0\"],[0.12,\"0\"],[4.61,\"0\"],[0.01,\"0\"],[5.28,\"0\"],[0.02,\"0\"],[0.44,\"0\"],[0.05,\"0\"],[0.39,\"0\"],[0.01,\"0\"],[2.06,\"0\"],[0.63,\"0\"],[6.47,\"0\"],[4.95,\"0\"],[7.06,\"0\"],[0.19,\"0\"],[1.42,\"0\"],[0.21,\"0\"],[0.44,\"0\"],[3.5,\"0\"],[2.07,\"0\"],[7.3,\"0\"],[0.1,\"0\"],[0.04,\"0\"],[0.49,\"0\"],[1.38,\"0\"],[0.05,\"0\"],[5.1,\"0\"],[0.12,\"0\"],[0.28,\"0\"],[0.45,\"0\"],[0.32,\"0\"],[1.64,\"0\"],[0.49,\"0\"],[0.27,\"0\"],[8.0,\"0\"],[0.02,\"0\"],[1.57,\"0\"],[0.2,\"0\"],[6.58,\"0\"],[0.32,\"0\"],[0.09,\"0\"],[0.32,\"0\"],[6.21,\"0\"],[0.04,\"0\"],[6.1,\"0\"],[0.46,\"0\"],[1.86,\"0\"],[0.04,\"0\"],[1.33,\"0\"],[0.36,\"0\"],[0.06,\"0\"],[6.29,\"0\"],[1.82,\"0\"],[0.1,\"0\"],[6.16,\"0\"],[3.69,\"0\"],[0.14,\"0\"],[0.55,\"0\"],[6.29,\"0\"],[0.28,\"0\"],[0.08,\"0\"],[3.7,\"0\"],[0.52,\"0\"],[0.12,\"0\"],[0.09,\"0\"],[6.12,\"0\"],[0.2,\"0\"],[6.37,\"0\"],[4.8,\"0\"],[6.82,\"0\"],[0.15,\"0\"],[6.03,\"0\"],[2.57,\"0\"],[0.03,\"0\"],[6.8,\"0\"],[3.91,\"0\"],[0.23,\"0\"],[4.3,\"0\"],[0.03,\"0\"],[0.29,\"0\"],[2.03,\"0\"],[0.07,\"0\"],[0.04,\"0\"],[0.93,\"0\"],[0.05,\"0\"],[0.37,\"0\"],[0.09,\"0\"],[5.81,\"0\"],[0.06,\"0\"],[0.07,\"0\"],[4.45,\"0\"],[3.79,\"0\"],[0.33,\"0\"],[6.69,\"0\"],[2.96,\"0\"],[0.63,\"0\"],[0.06,\"0\"],[0.26,\"0\"],[1.68,\"0\"],[0.15,\"0\"],[0.23,\"0\"],[0.13,\"0\"],[5.42,\"0\"],[5.54,\"0\"],[0.05,\"0\"],[0.07,\"0\"],[2.46,\"0\"],[0.07,\"0\"],[6.1,\"0\"],[0.03,\"0\"],[0.06,\"0\"],[0.57,\"0\"],[7.68,\"0\"],[5.58,\"0\"],[0.07,\"0\"],[0.37,\"0\"],[0.24,\"0\"],[5.49,\"0\"],[1.21,\"0\"],[0.87,\"0\"],[7.49,\"0\"],[0.01,\"0\"],[0.08,\"0\"],[2.03,\"0\"],[5.99,\"0\"],[0.79,\"0\"],[5.47,\"0\"],[0.01,\"0\"],[0.03,\"0\"],[0.28,\"0\"],[0.02,\"0\"],[0.15,\"0\"],[0.0,\"0\"],[0.05,\"0\"],[0.52,\"0\"],[0.1,\"0\"],[0.01,\"0\"],[0.34,\"0\"],[0.03,\"0\"],[1.49,\"0\"],[2.14,\"0\"],[0.04,\"0\"],[0.02,\"0\"],[2.4,\"0\"],[0.01,\"0\"],[0.01,\"0\"],[0.03,\"0\"],[3.18,\"0\"],[0.04,\"0\"],[0.3,\"0\"],[0.51,\"0\"],[0.02,\"0\"],[0.07,\"0\"],[4.85,\"0\"],[0.02,\"0\"],[0.16,\"0\"],[0.09,\"0\"],[5.1,\"0\"],[4.02,\"0\"],[6.59,\"0\"],[0.35,\"0\"],[0.04,\"0\"],[0.43,\"0\"],[0.09,\"0\"],[0.39,\"0\"],[0.17,\"0\"],[0.04,\"0\"],[0.18,\"0\"],[5.75,\"0\"],[0.26,\"0\"],[0.13,\"0\"],[0.09,\"0\"],[0.01,\"0\"],[1.41,\"0\"],[0.06,\"0\"],[0.19,\"0\"],[0.26,\"0\"],[0.56,\"0\"],[0.03,\"0\"],[5.83,\"0\"],[3.54,\"0\"],[0.55,\"0\"],[7.04,\"0\"],[0.05,\"0\"],[6.86,\"0\"],[0.7,\"0\"],[2.56,\"0\"],[2.25,\"0\"],[3.1,\"0\"],[5.45,\"0\"],[0.37,\"0\"],[0.01,\"0\"],[2.51,\"0\"],[3.7,\"0\"],[6.53,\"0\"],[1.98,\"0\"],[3.41,\"0\"],[0.17,\"0\"],[0.02,\"0\"],[0.02,\"0\"],[0.08,\"0\"],[0.01,\"0\"],[0.39,\"0\"],[0.52,\"0\"],[0.49,\"0\"],[0.05,\"0\"],[0.6,\"0\"],[4.54,\"0\"],[7.41,\"0\"],[0.04,\"0\"],[6.62,\"0\"],[0.59,\"0\"],[0.02,\"0\"],[0.16,\"0\"],[1.93,\"0\"],[8.19,\"0\"],[0.4,\"0\"],[5.62,\"0\"],[0.06,\"0\"],[6.62,\"0\"],[0.01,\"0\"],[4.36,\"0\"],[1.55,\"0\"],[3.14,\"0\"],[3.83,\"0\"],[0.09,\"0\"],[0.15,\"0\"],[0.51,\"0\"],[3.13,\"0\"],[6.32,\"0\"],[0.1,\"0\"],[0.16,\"0\"],[0.09,\"0\"],[0.07,\"0\"],[3.03,\"0\"],[0.5,\"0\"],[4.16,\"0\"],[0.46,\"0\"],[0.31,\"0\"],[5.76,\"0\"],[7.89,\"0\"],[0.07,\"0\"],[0.0,\"0\"],[0.06,\"0\"],[4.45,\"0\"],[0.16,\"0\"],[4.09,\"0\"],[0.01,\"0\"],[0.03,\"0\"],[7.99,\"0\"],[4.46,\"0\"],[0.1,\"0\"],[3.07,\"0\"],[0.52,\"0\"],[4.66,\"0\"],[1.78,\"0\"],[0.2,\"0\"],[0.09,\"0\"],[0.09,\"0\"],[6.5,\"0\"],[6.52,\"0\"],[6.54,\"0\"],[0.08,\"0\"],[0.04,\"0\"],[0.41,\"0\"],[4.03,\"0\"],[5.02,\"0\"],[5.11,\"0\"],[0.06,\"0\"],[0.25,\"0\"],[5.58,\"0\"],[0.07,\"0\"],[3.29,\"0\"],[0.1,\"0\"],[5.34,\"0\"],[0.03,\"0\"],[0.7,\"0\"],[6.62,\"0\"],[0.47,\"0\"],[1.72,\"0\"],[7.53,\"0\"],[0.23,\"0\"],[0.2,\"0\"],[5.2,\"0\"],[0.17,\"0\"],[2.13,\"0\"],[4.36,\"0\"],[0.07,\"0\"],[0.3,\"0\"],[0.21,\"0\"],[0.08,\"0\"],[0.03,\"0\"],[0.63,\"0\"],[3.1,\"0\"],[6.54,\"0\"],[7.97,\"0\"],[0.04,\"0\"],[3.05,\"0\"],[0.04,\"0\"],[3.59,\"0\"],[7.53,\"0\"],[7.38,\"0\"],[6.95,\"0\"],[1.97,\"0\"],[0.03,\"0\"],[3.8,\"0\"],[0.08,\"0\"],[0.81,\"0\"],[0.37,\"0\"],[0.05,\"0\"],[0.09,\"0\"],[4.24,\"0\"],[0.12,\"0\"],[0.07,\"0\"],[0.04,\"0\"],[0.88,\"0\"],[1.95,\"0\"],[0.16,\"0\"],[6.44,\"0\"],[0.03,\"0\"],[0.09,\"0\"],[0.06,\"0\"],[0.13,\"0\"],[7.36,\"0\"],[0.44,\"0\"],[0.21,\"0\"],[0.2,\"0\"],[1.58,\"0\"],[0.3,\"0\"],[0.26,\"0\"],[0.28,\"0\"],[3.69,\"0\"],[0.65,\"0\"],[0.06,\"0\"],[4.52,\"0\"],[2.15,\"0\"],[0.08,\"0\"],[0.13,\"0\"],[4.35,\"0\"],[1.14,\"0\"],[7.97,\"0\"],[0.24,\"0\"],[4.91,\"0\"],[0.4,\"0\"],[4.97,\"0\"],[0.07,\"0\"],[0.06,\"0\"],[0.06,\"0\"],[1.45,\"0\"],[0.56,\"0\"],[5.75,\"0\"],[4.82,\"0\"],[5.52,\"0\"],[4.7,\"0\"],[7.41,\"0\"],[2.35,\"0\"],[3.42,\"0\"],[0.3,\"0\"],[6.56,\"0\"],[6.18,\"0\"],[7.97,\"0\"],[0.23,\"0\"],[0.2,\"0\"],[0.15,\"0\"],[1.62,\"0\"],[8.26,\"0\"],[5.24,\"0\"],[0.25,\"0\"],[4.9,\"0\"],[4.15,\"0\"],[0.03,\"0\"],[7.38,\"0\"],[0.06,\"0\"],[0.09,\"0\"],[0.64,\"0\"],[0.03,\"0\"],[0.45,\"0\"],[0.07,\"0\"],[0.02,\"0\"],[0.11,\"0\"],[0.11,\"0\"],[0.28,\"0\"],[0.0,\"0\"],[0.05,\"0\"],[0.19,\"0\"],[0.41,\"0\"],[0.04,\"0\"],[0.03,\"0\"],[0.07,\"0\"],[4.52,\"0\"],[4.54,\"0\"],[0.34,\"0\"],[4.41,\"0\"],[0.01,\"0\"],[6.19,\"0\"],[3.3,\"0\"],[3.78,\"0\"],[0.39,\"0\"],[0.07,\"0\"],[0.39,\"0\"],[4.83,\"0\"],[0.06,\"0\"],[0.23,\"0\"],[0.08,\"0\"],[5.1,\"0\"],[2.94,\"0\"],[0.12,\"0\"],[0.24,\"0\"],[0.56,\"0\"],[0.38,\"0\"],[0.23,\"0\"],[0.02,\"0\"],[4.84,\"0\"],[0.22,\"0\"],[3.81,\"0\"],[5.9,\"0\"],[6.31,\"0\"],[0.01,\"0\"],[0.06,\"0\"],[3.23,\"0\"],[0.08,\"0\"],[0.21,\"0\"],[0.87,\"0\"],[0.39,\"0\"],[0.02,\"0\"],[0.02,\"0\"],[5.83,\"0\"],[5.62,\"0\"],[0.98,\"0\"],[0.09,\"0\"],[0.02,\"0\"],[0.28,\"0\"],[4.15,\"0\"],[0.16,\"0\"],[0.43,\"0\"],[0.17,\"0\"],[3.33,\"0\"],[0.3,\"0\"],[0.55,\"0\"],[4.55,\"0\"],[0.08,\"0\"],[1.21,\"0\"],[0.18,\"0\"],[0.46,\"0\"],[0.17,\"0\"],[3.16,\"0\"],[4.3,\"0\"],[0.09,\"0\"],[0.06,\"0\"],[5.71,\"0\"],[0.15,\"0\"],[0.02,\"0\"],[4.09,\"0\"],[3.42,\"0\"],[4.04,\"0\"],[0.04,\"0\"],[0.18,\"0\"],[5.28,\"0\"],[3.68,\"0\"],[4.91,\"0\"],[0.1,\"0\"],[4.54,\"0\"],[0.21,\"0\"],[4.85,\"0\"],[0.62,\"0\"],[7.2,\"0\"],[5.3,\"0\"],[0.18,\"0\"],[2.73,\"0\"],[0.05,\"0\"],[7.46,\"0\"],[0.12,\"0\"],[1.14,\"0\"],[0.0,\"0\"],[5.17,\"0\"],[6.71,\"0\"],[0.12,\"0\"],[0.0,\"0\"],[0.17,\"0\"],[0.33,\"0\"],[5.07,\"0\"],[0.04,\"0\"],[4.92,\"0\"],[0.09,\"0\"],[7.83,\"0\"],[0.19,\"0\"],[0.6,\"0\"],[6.78,\"0\"],[4.8,\"0\"],[0.18,\"0\"],[7.87,\"0\"],[0.65,\"0\"],[3.58,\"0\"],[0.04,\"0\"],[0.15,\"0\"],[0.09,\"0\"],[0.74,\"0\"],[6.75,\"0\"],[0.0,\"0\"],[4.02,\"0\"],[1.45,\"0\"],[0.48,\"0\"],[2.44,\"0\"],[0.09,\"0\"],[0.08,\"0\"],[5.23,\"0\"],[0.15,\"0\"],[7.25,\"0\"],[0.03,\"0\"],[2.03,\"0\"],[4.39,\"0\"],[0.24,\"0\"],[0.18,\"0\"],[1.29,\"0\"]],\"hovertemplate\":\"is_safe=%{customdata[1]}<br>aluminium=%{x}<br>cadmium=%{y}<br>uranium=%{z}<br>chloramine=%{customdata[0]}<extra></extra>\",\"legendgroup\":\"0\",\"marker\":{\"color\":\"#636EFA\",\"symbol\":\"circle\",\"size\":2},\"mode\":\"markers\",\"name\":\"0\",\"scene\":\"scene\",\"showlegend\":true,\"x\":[0.06,0.19,4.37,0.22,3.57,0.06,0.08,0.05,0.02,0.09,0.03,0.03,0.09,4.66,0.13,0.05,0.06,0.07,0.07,0.04,0.18,0.06,0.36,0.06,0.06,0.08,4.94,0.07,0.07,2.95,0.37,0.09,0.14,0.04,0.05,3.49,0.05,0.07,0.08,0.07,0.1,4.2,0.05,0.19,0.0,0.09,4.5,0.05,0.05,4.08,0.04,0.08,0.04,0.08,0.04,0.04,0.01,0.06,4.46,0.07,0.07,0.03,0.07,0.05,0.06,0.08,0.01,0.08,0.99,0.04,0.01,0.06,0.02,0.09,3.41,0.18,0.03,0.08,0.03,4.4,0.02,0.09,0.03,0.48,0.03,0.03,0.04,0.01,0.1,0.04,0.03,0.04,0.09,0.03,3.62,0.03,0.05,4.11,0.04,0.09,3.24,0.08,3.44,0.07,0.03,4.13,0.04,0.03,0.02,0.24,0.07,0.08,0.02,0.03,0.89,0.02,0.04,3.64,0.09,0.08,0.02,2.04,0.06,4.4,0.01,0.0,0.48,0.04,0.09,0.05,0.77,0.06,1.17,4.7,0.04,0.04,0.1,0.08,0.07,0.04,3.57,0.09,0.05,0.08,0.03,0.02,0.44,0.09,0.09,0.05,0.01,0.6,0.05,0.07,0.01,0.1,0.06,0.19,2.66,0.09,0.41,0.04,0.08,0.01,0.05,0.02,0.06,3.12,0.01,0.08,0.04,0.08,0.0,0.04,0.01,0.02,0.09,1.88,0.04,0.01,0.05,0.04,3.69,2.22,0.12,0.06,0.01,0.15,0.03,2.69,1.42,0.29,0.09,0.72,0.07,0.07,0.06,0.03,0.08,0.04,0.21,0.37,0.04,1.48,0.02,0.23,2.44,0.02,0.04,0.1,0.05,0.03,2.5,0.32,0.04,0.06,2.94,2.14,4.84,0.1,0.02,0.01,0.03,0.03,0.17,3.98,0.1,0.05,0.03,2.04,0.04,0.07,0.02,0.1,0.02,1.11,0.14,0.0,0.18,0.02,0.07,0.09,0.1,3.41,0.07,0.05,0.03,0.95,0.07,0.09,0.03,0.1,0.07,0.06,0.04,0.08,0.04,0.09,0.09,1.53,0.02,0.05,0.15,0.06,0.03,0.0,0.26,2.69,1.6,0.09,0.12,0.09,0.02,0.09,0.03,0.0,1.95,0.07,0.05,0.02,0.0,2.11,2.69,0.02,0.03,0.35,0.08,0.08,0.06,4.05,1.5,0.09,0.02,0.02,3.78,0.14,0.02,0.03,0.03,0.08,3.44,0.13,1.48,0.05,3.67,0.04,0.0,0.06,0.04,0.02,0.07,0.07,0.02,0.01,0.04,0.07,0.09,0.02,0.09,0.08,0.04,0.08,0.04,0.0,0.09,0.04,0.09,0.1,2.22,0.0,0.07,0.09,4.81,0.1,0.05,0.1,2.67,0.0,0.07,1.41,0.08,0.01,0.0,0.0,0.59,0.09,0.07,0.26,0.08,0.25,0.06,0.06,0.02,0.08,2.99,0.06,0.04,0.0,0.06,2.7,0.01,0.03,0.03,0.01,0.09,0.0,0.06,0.08,0.04,0.04,0.09,0.17,3.62,0.01,5.0,0.0,0.09,0.08,0.02,1.6,0.01,3.57,0.05,0.07,0.03,0.07,0.02,0.09,0.09,0.06,0.06,0.03,0.03,0.02,0.19,3.88,0.0,0.08,0.01,0.93,0.04,3.53,0.01,0.03,0.09,0.09,0.03,3.73,0.04,0.06,0.24,0.07,0.01,0.08,0.06,0.02,4.66,0.06,0.44,0.04,0.05,0.09,0.26,0.07,3.56,0.05,0.03,0.09,0.03,0.17,0.02,0.08,2.08,0.06,3.07,0.06,4.94,0.03,0.01,0.08,0.04,0.04,2.61,0.03,0.15,0.02,0.03,0.06,0.1,0.03,0.06,0.05,0.06,2.61,0.04,0.09,2.32,0.08,0.02,0.07,0.05,0.09,0.02,0.0,0.15,0.3,0.09,0.2,0.05,0.01,0.03,0.12,0.09,0.1,0.04,0.73,0.1,0.05,0.27,0.04,0.02,3.09,0.06,0.09,0.05,0.03,0.02,0.05,1.45,0.33,0.01,0.91,0.08,0.29,0.04,0.03,3.42,0.04,0.05,0.03,0.06,0.07,0.02,0.03,0.38,0.07,0.15,0.01,0.09,0.02,2.27,3.64,0.02,0.07,0.02,0.19,1.74,0.17,0.95,0.08,0.05,3.04,0.0,0.0,0.01,0.02,0.07,0.03,0.06,4.81,0.16,0.04,0.37,0.07,0.1,0.09,0.08,4.05,2.74,0.07,0.05,3.45,0.03,0.04,0.03,2.97,0.04,0.1,0.02,0.05,0.01,3.49,0.05,0.1,0.07,0.28,0.07,0.08,0.01,0.03,0.02,0.05,0.06,0.06,0.04,0.04,2.31,0.08,0.05,0.02,0.02,4.04,0.01,0.01,0.1,0.3,0.09,1.15,0.25,0.07,0.0,0.09,0.07,0.06,0.07,2.11,0.01,4.62,0.01,0.03,0.08,0.01,2.96,0.07,0.28,0.01,0.08,0.05,0.06,0.09,0.04,4.12,0.02,0.01,0.04,0.05,0.19,0.06,0.15,0.11,0.09,0.04,4.57,1.39,0.05,0.08,0.09,1.76,0.04,0.07,0.11,0.05,0.0,0.05,0.07,0.27,0.02,0.01,0.03,0.01,0.07,0.07,0.41,0.02,3.56,0.01,0.07,1.56,0.05,0.02,0.02,0.07,1.45,0.04,0.53,0.01,0.01,0.11,1.86,0.0,0.1,0.04,1.13,0.12,0.08,0.08,0.04,0.03,0.01,3.23,0.01,0.0,0.07,4.44,3.1,0.81,0.01,0.08,2.63,0.03,0.37,0.0,0.36,0.09,0.02,1.76,0.08,4.43,1.77,0.03,0.06,4.89,0.1,0.03,0.06,0.03,0.01,0.03,0.05,0.03,0.04,0.03,3.23,2.16,0.08,0.07,0.1,2.14,0.06,0.02,4.9,0.23,0.02,3.02,0.03,0.07,0.04,0.05,0.08,0.06,0.06,0.01,0.02,0.11,2.23,0.1,0.0,0.09,0.04,0.06,0.02,0.47,0.1,0.07,0.08,0.14,0.1,0.06,0.09,2.78,0.08,0.0,0.06,0.04,0.03,0.05,0.06,0.09,0.01,0.01,0.09,0.07,0.17,0.1,0.04,0.06,0.04,0.01,0.68,4.08,0.09,0.08,0.11,0.0,0.1,0.06,0.09,0.28,2.16,0.03,0.06,0.07,4.09,0.13,0.6,0.08,2.02,3.51,0.09,0.02,0.21,0.05,0.06,0.09,0.02,0.02,0.08,0.02,0.01,0.05,0.01,0.07,0.01,0.07,0.04,0.04,0.01,0.0,0.03,0.04,0.08,0.09,1.92,0.06,0.32,4.87,0.04,0.09,0.36,0.03,0.03,0.02,0.02,0.01,0.03,0.09,0.0,0.03,0.04,0.0,3.75,0.07,0.92,1.13,0.06,0.05,0.07,0.05,0.08,0.09,0.04,0.04,0.06,0.0,0.46,3.33,0.08,0.02,0.02,0.09,3.51,0.03,0.06,0.05,0.07,0.09,0.06,3.48,0.05,4.88,0.09,0.02,0.03,0.08,2.34,0.1,0.04,0.05,0.1,0.1,0.53,0.1,0.07,0.03,0.04,0.2,0.28,2.27,0.03,0.25,0.0,0.14,0.04,0.12,0.01,0.04,1.95,0.02,4.84,0.05,0.09,0.04,0.31,0.27,0.07,0.03,0.06,0.03,2.29,0.06,0.3,0.07,3.2,0.08,0.04,3.9,3.61,0.04,0.01,0.01,2.67,0.1,0.01,0.09,0.03,0.07,0.02,0.21,0.04,0.04,2.66,0.05,0.06,0.09,0.07,0.04,0.08,3.04,0.04,0.02,0.01,4.02],\"y\":[0.07,0.002,0.13,0.005,0.02,0.003,0.08,0.07,0.001,0.02,0.04,0.0,0.06,0.01,0.008,0.01,0.06,0.05,0.08,0.04,0.03,0.009,0.07,0.03,0.06,0.09,0.004,0.008,0.05,0.12,0.002,0.01,0.07,0.04,0.04,0.006,0.05,0.07,0.02,0.05,0.05,0.01,0.08,0.06,0.06,0.09,0.008,0.02,0.04,0.004,0.11,0.09,0.04,0.05,0.05,0.1,0.05,0.02,0.09,0.08,0.05,0.02,0.06,0.11,0.0,0.03,0.03,0.01,0.07,0.04,0.0,0.06,0.04,0.01,0.1,0.03,0.06,0.02,0.02,0.03,0.05,0.08,0.09,0.02,0.07,0.05,0.12,0.03,0.05,0.04,0.07,0.004,0.01,0.005,0.01,0.0,0.1,0.03,0.09,0.03,0.002,0.09,0.004,0.02,0.07,0.006,0.02,0.002,0.003,0.004,0.001,0.05,0.009,0.01,0.1,0.03,0.0,0.05,0.09,0.0,0.09,0.11,0.01,0.12,0.01,0.02,0.001,0.03,0.02,0.04,0.09,0.09,0.04,0.08,0.09,0.01,0.01,0.09,0.09,0.02,0.07,0.004,0.04,0.09,0.03,0.001,0.04,0.07,0.05,0.08,0.02,0.004,0.01,0.001,0.001,0.05,0.05,0.07,0.004,0.07,0.07,0.05,0.07,0.1,0.006,0.04,0.06,0.1,0.02,0.05,0.02,0.006,0.02,0.04,0.07,0.09,0.05,0.12,0.1,0.06,0.03,0.09,0.005,0.03,0.007,0.002,0.03,0.005,0.02,0.009,0.13,0.09,0.02,0.05,0.09,0.02,0.005,0.05,0.03,0.004,0.08,0.003,0.009,0.005,0.01,0.11,0.1,0.001,0.02,0.06,0.0,0.01,0.07,0.006,0.09,0.05,0.001,0.11,0.07,0.04,0.001,0.1,0.0,0.03,0.008,0.05,0.02,0.01,0.1,0.11,0.06,0.04,0.06,0.06,0.01,0.04,0.03,0.03,0.04,0.02,0.05,0.05,0.04,0.1,0.006,0.08,0.09,0.001,0.009,0.01,0.0,0.08,0.01,0.04,0.001,0.007,0.1,0.03,0.03,0.12,0.08,0.07,0.09,0.02,0.07,0.04,0.11,0.002,0.12,0.06,0.006,0.09,0.03,0.09,0.0,0.0,0.0,0.06,0.002,0.13,0.05,0.002,0.001,0.07,0.04,0.001,0.06,0.0,0.07,0.09,0.001,0.07,0.06,0.01,0.006,0.002,0.005,0.04,0.08,0.1,0.001,0.01,0.03,0.01,0.08,0.09,0.03,0.05,0.08,0.05,0.04,0.09,0.06,0.002,0.04,0.06,0.01,0.1,0.03,0.13,0.08,0.1,0.04,0.05,0.09,0.01,0.06,0.07,0.03,0.004,0.03,0.01,0.09,0.07,0.06,0.04,0.004,0.02,0.08,0.1,0.05,0.006,0.09,0.05,0.09,0.09,0.1,0.01,0.09,0.1,0.08,0.09,0.01,0.04,0.009,0.08,0.01,0.08,0.002,0.009,0.01,0.03,0.0,0.03,0.03,0.04,0.07,0.004,0.01,0.03,0.07,0.008,0.01,0.005,0.09,0.08,0.12,0.02,0.05,0.12,0.09,0.07,0.01,0.008,0.07,0.12,0.07,0.04,0.09,0.02,0.05,0.03,0.05,0.04,0.07,0.06,0.09,0.07,0.07,0.09,0.05,0.005,0.09,0.03,0.06,0.08,0.08,0.12,0.008,0.03,0.001,0.007,0.01,0.004,0.04,0.06,0.01,0.007,0.04,0.09,0.04,0.09,0.04,0.05,0.01,0.07,0.05,0.01,0.07,0.12,0.07,0.02,0.06,0.04,0.001,0.07,0.004,0.09,0.07,0.08,0.001,0.08,0.006,0.07,0.04,0.09,0.07,0.05,0.04,0.004,0.06,0.01,0.12,0.06,0.1,0.03,0.02,0.01,0.04,0.009,0.07,0.07,0.05,0.004,0.006,0.02,0.001,0.08,0.06,0.1,0.11,0.07,0.02,0.002,0.08,0.09,0.04,0.04,0.01,0.05,0.05,0.005,0.02,0.03,0.09,0.11,0.08,0.1,0.01,0.08,0.13,0.09,0.12,0.01,0.02,0.05,0.13,0.06,0.08,0.06,0.13,0.06,0.09,0.03,0.002,0.07,0.001,0.08,0.03,0.07,0.04,0.001,0.03,0.04,0.06,0.07,0.05,0.01,0.008,0.06,0.1,0.11,0.005,0.1,0.004,0.0,0.0,0.09,0.02,0.09,0.008,0.08,0.1,0.04,0.07,0.06,0.07,0.09,0.06,0.03,0.09,0.004,0.06,0.06,0.03,0.004,0.0,0.09,0.03,0.03,0.09,0.13,0.06,0.09,0.06,0.07,0.001,0.11,0.07,0.01,0.04,0.1,0.1,0.0,0.09,0.0,0.06,0.09,0.07,0.06,0.04,0.009,0.03,0.01,0.07,0.03,0.06,0.08,0.03,0.1,0.05,0.06,0.1,0.03,0.002,0.07,0.01,0.09,0.09,0.1,0.03,0.07,0.001,0.03,0.008,0.07,0.05,0.03,0.07,0.03,0.0,0.01,0.04,0.01,0.04,0.006,0.05,0.03,0.007,0.11,0.0,0.02,0.02,0.08,0.04,0.02,0.08,0.11,0.06,0.008,0.009,0.03,0.003,0.04,0.07,0.06,0.002,0.002,0.01,0.07,0.1,0.07,0.02,0.003,0.04,0.02,0.09,0.11,0.002,0.02,0.07,0.03,0.01,0.03,0.06,0.0,0.07,0.001,0.02,0.09,0.001,0.01,0.03,0.003,0.02,0.08,0.1,0.008,0.1,0.01,0.09,0.03,0.03,0.03,0.09,0.005,0.03,0.02,0.13,0.08,0.006,0.01,0.002,0.06,0.0,0.11,0.09,0.13,0.08,0.05,0.04,0.03,0.02,0.002,0.001,0.04,0.04,0.05,0.05,0.04,0.02,0.02,0.01,0.04,0.09,0.006,0.02,0.07,0.01,0.001,0.03,0.02,0.01,0.12,0.05,0.001,0.0,0.02,0.01,0.008,0.02,0.08,0.02,0.001,0.06,0.07,0.008,0.02,0.05,0.07,0.09,0.006,0.0,0.04,0.06,0.008,0.09,0.006,0.02,0.11,0.05,0.07,0.002,0.02,0.01,0.02,0.002,0.04,0.007,0.08,0.01,0.04,0.06,0.01,0.07,0.07,0.05,0.02,0.1,0.03,0.08,0.004,0.007,0.05,0.01,0.07,0.13,0.03,0.04,0.09,0.08,0.06,0.07,0.04,0.008,0.03,0.005,0.09,0.07,0.001,0.001,0.09,0.02,0.01,0.03,0.04,0.05,0.09,0.01,0.01,0.1,0.09,0.01,0.03,0.0,0.07,0.06,0.003,0.002,0.1,0.008,0.05,0.08,0.05,0.12,0.001,0.1,0.03,0.07,0.05,0.05,0.01,0.001,0.007,0.05,0.01,0.1,0.05,0.08,0.06,0.002,0.08,0.11,0.11,0.001,0.08,0.06,0.001,0.06,0.03,0.01,0.01,0.01,0.09,0.06,0.11,0.005,0.05,0.05,0.05,0.09,0.01,0.07,0.09,0.09,0.02,0.1,0.05,0.0,0.001,0.07,0.05,0.04,0.04,0.006,0.07,0.01,0.002,0.01,0.07,0.06,0.01,0.07,0.07,0.03,0.05,0.12,0.05,0.04,0.004,0.006,0.001,0.01,0.04,0.01,0.03,0.0,0.06,0.13,0.06,0.04,0.0,0.009,0.001,0.07,0.01,0.04,0.08,0.006,0.02,0.02,0.04,0.06,0.1,0.04,0.05,0.05,0.08,0.09,0.001,0.001,0.02,0.01,0.07,0.12,0.02,0.02,0.02,0.05,0.06,0.08,0.04,0.01,0.007,0.06,0.07,0.06,0.11,0.008,0.06,0.1,0.07],\"z\":[0.04,0.0,0.02,0.05,0.04,0.03,0.07,0.05,0.05,0.04,0.01,0.04,0.05,0.01,0.04,0.05,0.06,0.06,0.02,0.07,0.07,0.04,0.05,0.03,0.08,0.06,0.03,0.09,0.03,0.07,0.06,0.09,0.01,0.07,0.01,0.05,0.01,0.01,0.07,0.08,0.02,0.06,0.05,0.03,0.07,0.03,0.03,0.08,0.06,0.03,0.0,0.09,0.03,0.07,0.09,0.01,0.08,0.02,0.03,0.0,0.04,0.09,0.06,0.03,0.02,0.07,0.08,0.05,0.02,0.09,0.04,0.07,0.03,0.02,0.07,0.08,0.04,0.03,0.02,0.07,0.04,0.02,0.01,0.06,0.09,0.08,0.02,0.0,0.03,0.08,0.01,0.06,0.07,0.0,0.05,0.07,0.05,0.05,0.08,0.0,0.08,0.09,0.07,0.08,0.08,0.06,0.04,0.09,0.06,0.06,0.01,0.07,0.08,0.06,0.04,0.02,0.05,0.01,0.06,0.07,0.04,0.09,0.06,0.07,0.05,0.01,0.09,0.08,0.07,0.08,0.04,0.02,0.02,0.05,0.05,0.06,0.02,0.03,0.08,0.0,0.05,0.05,0.01,0.05,0.01,0.06,0.08,0.08,0.06,0.04,0.0,0.03,0.04,0.01,0.05,0.03,0.01,0.02,0.03,0.05,0.0,0.0,0.04,0.03,0.06,0.03,0.05,0.07,0.04,0.03,0.03,0.09,0.06,0.04,0.02,0.04,0.09,0.01,0.02,0.02,0.07,0.07,0.03,0.0,0.08,0.06,0.02,0.07,0.06,0.03,0.03,0.04,0.03,0.05,0.09,0.07,0.0,0.08,0.07,0.06,0.06,0.06,0.09,0.08,0.0,0.03,0.0,0.05,0.07,0.09,0.01,0.04,0.03,0.08,0.01,0.02,0.03,0.02,0.06,0.02,0.07,0.06,0.03,0.01,0.06,0.08,0.0,0.07,0.02,0.09,0.07,0.08,0.01,0.08,0.02,0.08,0.06,0.05,0.0,0.09,0.02,0.04,0.03,0.07,0.01,0.01,0.0,0.05,0.01,0.0,0.06,0.01,0.03,0.05,0.02,0.01,0.06,0.05,0.06,0.08,0.03,0.07,0.08,0.02,0.05,0.08,0.05,0.05,0.02,0.05,0.02,0.01,0.01,0.08,0.08,0.0,0.08,0.03,0.09,0.07,0.06,0.02,0.04,0.07,0.07,0.04,0.04,0.05,0.04,0.05,0.07,0.01,0.03,0.01,0.02,0.09,0.07,0.0,0.04,0.08,0.09,0.05,0.0,0.05,0.06,0.03,0.03,0.04,0.05,0.07,0.03,0.08,0.07,0.02,0.04,0.03,0.01,0.07,0.0,0.06,0.04,0.08,0.07,0.05,0.02,0.07,0.02,0.05,0.0,0.07,0.08,0.08,0.03,0.04,0.07,0.06,0.05,0.03,0.08,0.08,0.02,0.03,0.08,0.08,0.08,0.0,0.0,0.07,0.08,0.06,0.08,0.04,0.0,0.05,0.03,0.07,0.02,0.0,0.08,0.02,0.05,0.06,0.0,0.02,0.03,0.02,0.04,0.04,0.03,0.05,0.05,0.05,0.05,0.05,0.08,0.0,0.02,0.06,0.06,0.02,0.04,0.05,0.01,0.09,0.04,0.06,0.04,0.0,0.0,0.0,0.01,0.03,0.0,0.09,0.01,0.03,0.01,0.09,0.02,0.02,0.05,0.04,0.07,0.05,0.02,0.02,0.09,0.0,0.02,0.03,0.0,0.08,0.03,0.05,0.05,0.08,0.01,0.05,0.08,0.01,0.08,0.01,0.09,0.08,0.02,0.09,0.01,0.08,0.03,0.02,0.07,0.07,0.0,0.03,0.03,0.06,0.03,0.07,0.08,0.02,0.08,0.06,0.03,0.03,0.07,0.09,0.06,0.06,0.05,0.01,0.07,0.05,0.08,0.07,0.0,0.04,0.03,0.03,0.03,0.03,0.05,0.0,0.04,0.0,0.03,0.06,0.04,0.08,0.02,0.02,0.09,0.08,0.06,0.02,0.04,0.04,0.05,0.01,0.06,0.02,0.0,0.07,0.0,0.08,0.01,0.06,0.05,0.08,0.03,0.07,0.03,0.01,0.08,0.07,0.08,0.04,0.04,0.01,0.06,0.0,0.05,0.04,0.06,0.06,0.05,0.07,0.07,0.01,0.03,0.06,0.07,0.06,0.07,0.03,0.03,0.09,0.02,0.04,0.06,0.07,0.09,0.0,0.05,0.0,0.01,0.01,0.05,0.01,0.0,0.03,0.0,0.03,0.02,0.01,0.0,0.06,0.03,0.05,0.08,0.06,0.08,0.07,0.07,0.02,0.03,0.06,0.03,0.0,0.05,0.04,0.08,0.07,0.03,0.06,0.02,0.09,0.03,0.09,0.08,0.09,0.02,0.06,0.05,0.01,0.05,0.07,0.08,0.07,0.08,0.03,0.08,0.06,0.0,0.03,0.08,0.0,0.01,0.0,0.06,0.06,0.09,0.02,0.04,0.07,0.08,0.05,0.04,0.06,0.02,0.07,0.02,0.02,0.05,0.0,0.07,0.06,0.06,0.04,0.02,0.04,0.05,0.05,0.05,0.07,0.02,0.05,0.04,0.08,0.05,0.08,0.03,0.03,0.02,0.01,0.05,0.09,0.02,0.04,0.02,0.02,0.06,0.05,0.05,0.01,0.06,0.08,0.04,0.05,0.02,0.06,0.05,0.06,0.09,0.07,0.05,0.07,0.03,0.07,0.09,0.06,0.03,0.02,0.03,0.04,0.09,0.04,0.06,0.04,0.09,0.03,0.01,0.05,0.06,0.07,0.05,0.03,0.05,0.01,0.03,0.02,0.09,0.03,0.01,0.08,0.0,0.08,0.07,0.04,0.06,0.03,0.07,0.02,0.07,0.01,0.07,0.04,0.01,0.06,0.03,0.07,0.06,0.03,0.0,0.09,0.03,0.07,0.0,0.02,0.05,0.08,0.06,0.04,0.02,0.01,0.02,0.01,0.02,0.01,0.0,0.04,0.04,0.05,0.08,0.05,0.07,0.08,0.05,0.04,0.05,0.01,0.08,0.08,0.07,0.0,0.02,0.04,0.08,0.0,0.06,0.07,0.07,0.06,0.01,0.03,0.08,0.01,0.0,0.07,0.04,0.06,0.0,0.05,0.01,0.03,0.01,0.05,0.01,0.05,0.07,0.07,0.08,0.08,0.05,0.02,0.02,0.08,0.0,0.06,0.06,0.07,0.03,0.01,0.03,0.0,0.07,0.04,0.09,0.05,0.01,0.03,0.05,0.08,0.06,0.03,0.05,0.04,0.0,0.05,0.0,0.04,0.03,0.03,0.01,0.06,0.09,0.03,0.03,0.08,0.0,0.02,0.09,0.01,0.03,0.04,0.03,0.05,0.05,0.01,0.06,0.06,0.04,0.0,0.07,0.05,0.05,0.07,0.09,0.07,0.0,0.01,0.07,0.06,0.03,0.08,0.08,0.03,0.04,0.08,0.04,0.04,0.07,0.04,0.03,0.08,0.0,0.03,0.03,0.04,0.04,0.04,0.02,0.03,0.06,0.0,0.04,0.06,0.0,0.01,0.01,0.09,0.05,0.06,0.03,0.07,0.04,0.05,0.01,0.02,0.05,0.05,0.08,0.05,0.07,0.02,0.05,0.02,0.03,0.01,0.09,0.05,0.09,0.07,0.06,0.07,0.01,0.07,0.04,0.05,0.0,0.02,0.05,0.07,0.05,0.08,0.04,0.01,0.08,0.03,0.02,0.01,0.05,0.08,0.09,0.04,0.07,0.05,0.06,0.06,0.08,0.03,0.03,0.06,0.01,0.03,0.02,0.07,0.0,0.08,0.01,0.03,0.05,0.02,0.08,0.04,0.08,0.04,0.0,0.0,0.0,0.07,0.02,0.01,0.05,0.02,0.08,0.01,0.05,0.0,0.07,0.05,0.07,0.02],\"type\":\"scatter3d\"},{\"customdata\":[[0.35,\"1\"],[5.28,\"1\"],[7.23,\"1\"],[2.67,\"1\"],[0.8,\"1\"],[3.14,\"1\"],[6.4,\"1\"],[0.1,\"1\"],[0.05,\"1\"],[0.7,\"1\"],[5.99,\"1\"],[1.94,\"1\"],[5.29,\"1\"],[7.78,\"1\"],[0.01,\"1\"],[4.57,\"1\"],[3.47,\"1\"],[3.74,\"1\"],[7.22,\"1\"],[2.55,\"1\"],[6.63,\"1\"],[5.87,\"1\"],[2.86,\"1\"],[4.0,\"1\"],[4.55,\"1\"],[4.94,\"1\"],[0.64,\"1\"],[2.9,\"1\"],[5.71,\"1\"],[0.22,\"1\"],[6.11,\"1\"],[0.68,\"1\"],[7.7,\"1\"],[7.97,\"1\"],[6.19,\"1\"],[0.9,\"1\"],[4.5,\"1\"],[0.88,\"1\"],[1.13,\"1\"],[3.85,\"1\"],[6.16,\"1\"],[7.06,\"1\"],[4.4,\"1\"],[4.89,\"1\"],[6.57,\"1\"],[2.15,\"1\"],[2.38,\"1\"],[4.77,\"1\"],[1.97,\"1\"],[3.4,\"1\"],[5.27,\"1\"],[3.35,\"1\"],[7.56,\"1\"],[0.13,\"1\"],[7.52,\"1\"],[3.57,\"1\"],[6.02,\"1\"],[1.12,\"1\"],[0.19,\"1\"],[1.85,\"1\"],[4.25,\"1\"],[2.38,\"1\"],[1.89,\"1\"],[4.59,\"1\"],[6.25,\"1\"],[5.22,\"1\"],[1.86,\"1\"],[7.37,\"1\"],[3.07,\"1\"],[2.89,\"1\"],[3.58,\"1\"],[6.75,\"1\"],[7.97,\"1\"],[1.33,\"1\"],[0.63,\"1\"],[5.07,\"1\"],[4.13,\"1\"],[2.52,\"1\"],[3.71,\"1\"],[1.87,\"1\"],[4.3,\"1\"],[2.26,\"1\"],[3.42,\"1\"],[5.65,\"1\"],[5.72,\"1\"],[0.89,\"1\"],[1.57,\"1\"],[2.74,\"1\"],[0.79,\"1\"],[1.69,\"1\"],[6.21,\"1\"],[1.07,\"1\"],[3.95,\"1\"],[7.59,\"1\"],[0.98,\"1\"],[4.95,\"1\"],[0.8,\"1\"],[2.45,\"1\"],[1.36,\"1\"],[6.5,\"1\"],[6.75,\"1\"],[3.61,\"1\"],[0.81,\"1\"],[4.06,\"1\"],[4.42,\"1\"],[0.09,\"1\"],[3.26,\"1\"],[0.85,\"1\"],[7.12,\"1\"],[3.69,\"1\"],[3.41,\"1\"],[3.1,\"1\"],[1.53,\"1\"],[2.4,\"1\"],[3.08,\"1\"],[7.91,\"1\"],[0.07,\"1\"],[5.48,\"1\"],[0.67,\"1\"],[3.91,\"1\"],[4.95,\"1\"],[0.4,\"1\"],[4.69,\"1\"],[1.49,\"1\"],[2.91,\"1\"],[0.88,\"1\"],[6.8,\"1\"],[7.51,\"1\"],[5.92,\"1\"],[5.83,\"1\"],[5.17,\"1\"],[6.13,\"1\"],[4.36,\"1\"],[5.25,\"1\"],[7.24,\"1\"],[4.54,\"1\"],[1.44,\"1\"],[0.0,\"1\"],[7.33,\"1\"],[5.99,\"1\"],[4.62,\"1\"],[3.62,\"1\"],[5.23,\"1\"],[4.57,\"1\"],[6.69,\"1\"],[6.52,\"1\"],[0.83,\"1\"],[6.93,\"1\"],[5.34,\"1\"],[2.84,\"1\"],[6.11,\"1\"],[3.45,\"1\"],[3.71,\"1\"],[2.1,\"1\"],[1.83,\"1\"],[6.81,\"1\"],[7.02,\"1\"],[7.96,\"1\"],[7.07,\"1\"],[6.55,\"1\"],[6.76,\"1\"],[3.5,\"1\"],[6.99,\"1\"],[1.37,\"1\"],[3.47,\"1\"],[7.17,\"1\"],[6.68,\"1\"],[1.48,\"1\"],[1.09,\"1\"],[1.87,\"1\"],[4.6,\"1\"],[5.67,\"1\"],[3.74,\"1\"],[5.06,\"1\"],[0.75,\"1\"],[0.76,\"1\"],[1.77,\"1\"],[3.61,\"1\"],[1.63,\"1\"],[5.61,\"1\"],[3.33,\"1\"],[6.56,\"1\"],[3.04,\"1\"],[1.26,\"1\"],[5.95,\"1\"],[4.38,\"1\"],[7.43,\"1\"],[0.71,\"1\"],[6.03,\"1\"],[3.0,\"1\"],[3.25,\"1\"],[4.79,\"1\"],[5.23,\"1\"],[3.49,\"1\"],[3.48,\"1\"],[6.66,\"1\"],[6.84,\"1\"],[7.58,\"1\"],[3.95,\"1\"],[2.2,\"1\"],[2.11,\"1\"],[4.78,\"1\"],[2.37,\"1\"],[0.19,\"1\"],[4.22,\"1\"],[1.91,\"1\"],[5.4,\"1\"],[2.21,\"1\"],[1.42,\"1\"],[4.84,\"1\"],[3.7,\"1\"],[6.89,\"1\"],[7.18,\"1\"],[4.02,\"1\"],[6.12,\"1\"],[7.12,\"1\"],[0.1,\"1\"],[1.27,\"1\"],[0.83,\"1\"],[7.65,\"1\"],[3.67,\"1\"],[2.13,\"1\"],[2.5,\"1\"],[5.98,\"1\"],[4.76,\"1\"],[6.98,\"1\"],[3.23,\"1\"],[1.87,\"1\"],[7.18,\"1\"],[4.93,\"1\"],[3.03,\"1\"],[5.6,\"1\"],[1.8,\"1\"],[3.05,\"1\"],[1.7,\"1\"],[7.51,\"1\"],[0.73,\"1\"],[7.44,\"1\"],[6.37,\"1\"],[4.52,\"1\"],[4.99,\"1\"],[4.41,\"1\"],[5.66,\"1\"],[6.17,\"1\"],[1.54,\"1\"],[4.34,\"1\"],[3.31,\"1\"],[2.2,\"1\"],[7.38,\"1\"],[4.86,\"1\"],[4.78,\"1\"],[4.16,\"1\"],[1.1,\"1\"],[2.05,\"1\"],[1.68,\"1\"],[1.75,\"1\"],[5.23,\"1\"],[7.93,\"1\"],[3.09,\"1\"],[7.24,\"1\"],[1.41,\"1\"],[3.01,\"1\"],[6.9,\"1\"],[3.15,\"1\"],[6.06,\"1\"],[5.3,\"1\"],[4.33,\"1\"],[3.23,\"1\"],[0.26,\"1\"],[7.25,\"1\"],[4.62,\"1\"],[5.98,\"1\"],[3.67,\"1\"],[4.49,\"1\"],[1.19,\"1\"],[3.66,\"1\"],[7.17,\"1\"],[2.2,\"1\"],[6.12,\"1\"],[4.91,\"1\"],[5.38,\"1\"],[7.83,\"1\"],[6.44,\"1\"],[5.61,\"1\"],[2.59,\"1\"],[2.99,\"1\"],[1.64,\"1\"],[5.42,\"1\"],[4.86,\"1\"],[0.63,\"1\"],[5.17,\"1\"],[0.45,\"1\"],[4.08,\"1\"],[4.81,\"1\"],[0.17,\"1\"],[6.1,\"1\"],[1.77,\"1\"],[6.42,\"1\"],[0.88,\"1\"],[4.27,\"1\"],[6.95,\"1\"],[3.99,\"1\"],[7.96,\"1\"],[2.38,\"1\"],[2.83,\"1\"],[2.46,\"1\"],[7.78,\"1\"],[2.16,\"1\"],[2.83,\"1\"],[3.54,\"1\"],[4.57,\"1\"],[3.15,\"1\"],[4.71,\"1\"],[6.48,\"1\"],[2.73,\"1\"],[0.06,\"1\"],[4.36,\"1\"],[7.79,\"1\"],[1.43,\"1\"],[1.73,\"1\"],[6.89,\"1\"],[0.81,\"1\"],[6.93,\"1\"],[5.85,\"1\"],[5.14,\"1\"],[6.71,\"1\"],[1.78,\"1\"],[5.24,\"1\"],[5.89,\"1\"],[1.23,\"1\"],[5.47,\"1\"],[3.29,\"1\"],[4.07,\"1\"],[7.59,\"1\"],[4.18,\"1\"],[0.81,\"1\"],[0.71,\"1\"],[5.57,\"1\"],[7.3,\"1\"],[4.16,\"1\"],[4.11,\"1\"],[3.42,\"1\"],[3.51,\"1\"],[7.21,\"1\"],[6.26,\"1\"],[4.51,\"1\"],[1.74,\"1\"],[4.75,\"1\"],[6.81,\"1\"],[0.12,\"1\"],[2.4,\"1\"],[4.52,\"1\"],[6.99,\"1\"],[7.17,\"1\"],[1.22,\"1\"],[6.13,\"1\"],[4.1,\"1\"],[1.04,\"1\"],[2.29,\"1\"],[5.67,\"1\"],[3.31,\"1\"],[4.74,\"1\"],[0.21,\"1\"],[0.6,\"1\"],[2.16,\"1\"],[0.4,\"1\"],[1.67,\"1\"],[0.2,\"1\"],[5.35,\"1\"],[1.09,\"1\"],[3.41,\"1\"],[3.04,\"1\"],[2.14,\"1\"],[6.16,\"1\"],[6.0,\"1\"],[1.84,\"1\"],[0.23,\"1\"],[4.02,\"1\"],[3.96,\"1\"],[5.68,\"1\"],[5.12,\"1\"],[0.78,\"1\"],[1.36,\"1\"],[4.7,\"1\"],[4.56,\"1\"],[3.75,\"1\"],[5.1,\"1\"],[1.84,\"1\"],[7.43,\"1\"],[7.81,\"1\"],[1.8,\"1\"],[1.58,\"1\"],[3.05,\"1\"],[2.5,\"1\"],[7.24,\"1\"],[6.85,\"1\"],[1.81,\"1\"],[4.26,\"1\"],[4.85,\"1\"],[6.53,\"1\"],[0.0,\"1\"],[2.71,\"1\"],[2.98,\"1\"],[2.83,\"1\"],[6.13,\"1\"],[2.34,\"1\"],[3.41,\"1\"],[5.0,\"1\"],[0.08,\"1\"],[5.21,\"1\"],[1.51,\"1\"],[3.96,\"1\"],[2.52,\"1\"],[3.78,\"1\"],[0.32,\"1\"],[1.57,\"1\"],[3.17,\"1\"],[3.21,\"1\"],[4.58,\"1\"],[2.41,\"1\"],[5.73,\"1\"],[6.21,\"1\"],[6.07,\"1\"],[0.64,\"1\"],[1.53,\"1\"],[0.48,\"1\"],[5.88,\"1\"],[4.55,\"1\"],[2.94,\"1\"],[6.12,\"1\"],[2.01,\"1\"],[2.55,\"1\"],[3.33,\"1\"],[3.29,\"1\"],[7.85,\"1\"],[6.2,\"1\"],[7.99,\"1\"],[2.12,\"1\"],[6.86,\"1\"],[4.77,\"1\"],[0.1,\"1\"],[5.42,\"1\"],[4.54,\"1\"],[4.43,\"1\"],[7.12,\"1\"],[0.73,\"1\"],[2.8,\"1\"],[2.51,\"1\"],[3.1,\"1\"],[6.5,\"1\"],[5.33,\"1\"],[7.78,\"1\"],[6.68,\"1\"],[5.21,\"1\"],[5.17,\"1\"],[2.37,\"1\"],[3.01,\"1\"],[3.16,\"1\"],[4.54,\"1\"],[4.24,\"1\"],[4.63,\"1\"],[7.86,\"1\"],[0.96,\"1\"],[6.78,\"1\"],[0.34,\"1\"],[6.07,\"1\"],[2.19,\"1\"],[2.35,\"1\"],[5.23,\"1\"],[4.24,\"1\"],[6.23,\"1\"],[4.39,\"1\"],[5.65,\"1\"],[6.26,\"1\"],[7.54,\"1\"],[3.33,\"1\"],[6.32,\"1\"],[6.83,\"1\"],[5.67,\"1\"],[2.03,\"1\"],[1.82,\"1\"],[6.25,\"1\"],[2.92,\"1\"],[7.52,\"1\"],[1.39,\"1\"],[6.92,\"1\"],[0.5,\"1\"],[6.36,\"1\"],[3.53,\"1\"],[6.5,\"1\"],[2.77,\"1\"],[1.9,\"1\"],[1.49,\"1\"],[0.7,\"1\"],[6.81,\"1\"],[3.82,\"1\"],[3.08,\"1\"],[5.71,\"1\"],[0.17,\"1\"],[4.93,\"1\"],[6.28,\"1\"],[3.98,\"1\"],[1.39,\"1\"],[2.32,\"1\"],[7.15,\"1\"],[6.79,\"1\"],[0.51,\"1\"],[1.55,\"1\"],[6.56,\"1\"],[5.68,\"1\"],[3.02,\"1\"],[3.21,\"1\"],[6.58,\"1\"],[6.14,\"1\"],[4.05,\"1\"],[1.65,\"1\"],[6.69,\"1\"],[7.74,\"1\"],[4.59,\"1\"],[1.45,\"1\"],[7.17,\"1\"],[1.41,\"1\"],[6.1,\"1\"],[5.79,\"1\"],[6.76,\"1\"],[3.07,\"1\"],[3.76,\"1\"],[6.97,\"1\"],[0.14,\"1\"],[5.1,\"1\"],[0.4,\"1\"],[1.11,\"1\"],[3.33,\"1\"],[6.09,\"1\"],[2.56,\"1\"],[5.6,\"1\"],[4.14,\"1\"],[4.47,\"1\"],[1.1,\"1\"],[2.56,\"1\"],[4.05,\"1\"],[6.43,\"1\"],[6.3,\"1\"],[7.34,\"1\"],[1.07,\"1\"],[3.09,\"1\"],[5.98,\"1\"],[0.57,\"1\"],[7.49,\"1\"],[7.37,\"1\"],[1.03,\"1\"],[7.72,\"1\"],[2.25,\"1\"],[5.64,\"1\"],[0.83,\"1\"],[0.11,\"1\"],[3.84,\"1\"],[5.66,\"1\"],[1.82,\"1\"],[5.54,\"1\"],[2.92,\"1\"],[1.02,\"1\"],[0.65,\"1\"],[1.77,\"1\"],[2.14,\"1\"],[1.45,\"1\"],[1.51,\"1\"],[2.54,\"1\"],[1.58,\"1\"],[1.36,\"1\"],[1.35,\"1\"],[5.83,\"1\"],[7.85,\"1\"],[4.96,\"1\"],[7.18,\"1\"],[5.87,\"1\"],[1.99,\"1\"],[0.51,\"1\"],[4.47,\"1\"],[7.93,\"1\"],[3.83,\"1\"],[1.96,\"1\"],[6.26,\"1\"],[1.18,\"1\"],[4.79,\"1\"],[3.7,\"1\"],[6.25,\"1\"],[4.37,\"1\"],[2.81,\"1\"],[7.66,\"1\"],[0.26,\"1\"],[1.9,\"1\"],[3.49,\"1\"],[3.35,\"1\"],[4.98,\"1\"],[0.41,\"1\"],[0.38,\"1\"],[4.49,\"1\"],[3.37,\"1\"],[7.67,\"1\"],[4.97,\"1\"],[6.39,\"1\"],[1.79,\"1\"],[5.42,\"1\"],[5.18,\"1\"],[2.47,\"1\"],[6.12,\"1\"],[4.08,\"1\"],[4.13,\"1\"],[1.89,\"1\"],[0.65,\"1\"],[6.6,\"1\"],[1.87,\"1\"],[1.78,\"1\"],[1.99,\"1\"],[7.42,\"1\"],[4.27,\"1\"],[2.96,\"1\"],[1.87,\"1\"],[4.4,\"1\"],[6.9,\"1\"],[4.01,\"1\"],[7.78,\"1\"],[7.93,\"1\"],[3.53,\"1\"],[3.16,\"1\"],[5.06,\"1\"],[1.19,\"1\"],[4.06,\"1\"],[4.18,\"1\"],[0.63,\"1\"],[0.46,\"1\"],[2.35,\"1\"],[5.09,\"1\"],[3.9,\"1\"],[7.43,\"1\"],[3.7,\"1\"],[3.53,\"1\"],[5.43,\"1\"],[6.15,\"1\"],[1.01,\"1\"],[3.02,\"1\"],[4.43,\"1\"],[5.61,\"1\"],[2.69,\"1\"],[5.37,\"1\"],[7.87,\"1\"],[6.54,\"1\"],[3.63,\"1\"],[5.22,\"1\"],[2.46,\"1\"],[2.91,\"1\"],[3.17,\"1\"],[5.79,\"1\"],[7.89,\"1\"],[6.24,\"1\"],[4.64,\"1\"],[2.58,\"1\"],[0.94,\"1\"],[6.39,\"1\"],[0.85,\"1\"],[6.51,\"1\"],[3.28,\"1\"],[4.15,\"1\"],[7.89,\"1\"],[3.75,\"1\"],[1.43,\"1\"],[1.45,\"1\"],[5.08,\"1\"],[4.83,\"1\"],[0.45,\"1\"],[3.17,\"1\"],[8.13,\"1\"],[5.79,\"1\"],[2.03,\"1\"],[1.3,\"1\"],[2.32,\"1\"],[2.77,\"1\"],[5.64,\"1\"],[6.13,\"1\"],[7.18,\"1\"],[3.7,\"1\"],[2.06,\"1\"],[1.16,\"1\"],[4.09,\"1\"],[4.65,\"1\"],[1.6,\"1\"],[4.7,\"1\"],[4.09,\"1\"],[5.93,\"1\"],[8.33,\"1\"],[2.11,\"1\"],[8.66,\"1\"],[7.02,\"1\"],[2.03,\"1\"],[0.4,\"1\"],[3.21,\"1\"],[4.17,\"1\"],[5.36,\"1\"],[4.54,\"1\"],[2.67,\"1\"],[2.99,\"1\"],[5.71,\"1\"],[7.52,\"1\"],[1.12,\"1\"],[4.43,\"1\"],[2.52,\"1\"],[0.79,\"1\"],[6.21,\"1\"],[7.91,\"1\"],[0.54,\"1\"],[6.29,\"1\"],[5.25,\"1\"],[2.84,\"1\"],[3.45,\"1\"],[7.43,\"1\"],[3.67,\"1\"],[0.71,\"1\"],[1.27,\"1\"],[4.99,\"1\"],[4.78,\"1\"],[0.17,\"1\"],[2.83,\"1\"],[7.57,\"1\"],[5.47,\"1\"],[1.22,\"1\"],[2.16,\"1\"],[2.71,\"1\"],[5.59,\"1\"],[5.88,\"1\"],[6.2,\"1\"],[3.65,\"1\"],[2.03,\"1\"],[0.96,\"1\"],[4.05,\"1\"],[4.62,\"1\"],[1.11,\"1\"],[4.47,\"1\"],[4.05,\"1\"],[5.66,\"1\"],[7.85,\"1\"],[1.99,\"1\"],[7.93,\"1\"],[6.6,\"1\"],[0.21,\"1\"],[3.16,\"1\"],[4.0,\"1\"],[5.09,\"1\"],[4.43,\"1\"],[2.77,\"1\"],[3.8,\"1\"],[5.73,\"1\"],[7.54,\"1\"],[6.25,\"1\"],[4.55,\"1\"],[2.72,\"1\"],[0.94,\"1\"],[6.22,\"1\"],[0.84,\"1\"],[6.78,\"1\"],[3.34,\"1\"],[3.52,\"1\"],[7.45,\"1\"],[3.7,\"1\"],[0.88,\"1\"],[1.37,\"1\"],[5.07,\"1\"],[4.81,\"1\"],[0.52,\"1\"],[2.92,\"1\"],[7.59,\"1\"],[5.57,\"1\"],[1.21,\"1\"],[1.3,\"1\"],[2.23,\"1\"],[2.91,\"1\"],[5.72,\"1\"],[6.86,\"1\"],[6.26,\"1\"],[4.01,\"1\"],[2.04,\"1\"],[1.18,\"1\"],[4.85,\"1\"],[4.7,\"1\"],[1.29,\"1\"],[4.62,\"1\"],[4.25,\"1\"],[6.2,\"1\"],[8.05,\"1\"],[2.16,\"1\"],[8.13,\"1\"],[6.7,\"1\"],[2.89,\"1\"],[0.32,\"1\"],[3.19,\"1\"],[4.21,\"1\"],[5.14,\"1\"],[4.94,\"1\"],[0.02,\"1\"],[0.21,\"1\"],[0.49,\"1\"],[0.38,\"1\"],[0.09,\"1\"],[0.3,\"1\"],[0.2,\"1\"],[0.23,\"1\"],[0.2,\"1\"],[0.02,\"1\"],[0.07,\"1\"],[0.02,\"1\"],[0.06,\"1\"],[0.7,\"1\"],[0.3,\"1\"],[0.01,\"1\"],[0.2,\"1\"],[0.03,\"1\"],[0.52,\"1\"],[0.23,\"1\"],[0.17,\"1\"],[0.25,\"1\"],[0.32,\"1\"],[0.55,\"1\"],[0.08,\"1\"],[0.05,\"1\"],[0.01,\"1\"],[0.2,\"1\"],[0.04,\"1\"],[0.08,\"1\"],[0.12,\"1\"],[0.56,\"1\"],[0.46,\"1\"],[0.32,\"1\"],[0.04,\"1\"],[0.35,\"1\"],[0.02,\"1\"],[0.47,\"1\"],[0.01,\"1\"],[0.27,\"1\"],[0.23,\"1\"],[0.05,\"1\"],[0.08,\"1\"],[0.06,\"1\"],[0.49,\"1\"],[0.08,\"1\"],[0.06,\"1\"],[0.42,\"1\"],[0.15,\"1\"],[0.04,\"1\"],[0.67,\"1\"],[0.0,\"1\"],[0.01,\"1\"],[0.09,\"1\"],[0.44,\"1\"],[0.04,\"1\"],[0.17,\"1\"],[0.01,\"1\"],[0.02,\"1\"],[0.32,\"1\"],[0.04,\"1\"],[0.04,\"1\"],[0.07,\"1\"],[0.1,\"1\"],[0.07,\"1\"],[0.06,\"1\"],[0.16,\"1\"],[0.11,\"1\"],[0.01,\"1\"],[0.09,\"1\"],[0.12,\"1\"],[0.5,\"1\"],[0.27,\"1\"],[0.59,\"1\"],[0.09,\"1\"],[0.12,\"1\"],[0.26,\"1\"],[0.1,\"1\"],[0.01,\"1\"],[0.72,\"1\"],[0.34,\"1\"],[0.49,\"1\"],[0.16,\"1\"],[0.06,\"1\"],[0.54,\"1\"],[0.2,\"1\"],[0.13,\"1\"],[0.1,\"1\"],[0.08,\"1\"],[0.22,\"1\"],[0.05,\"1\"],[0.45,\"1\"],[0.07,\"1\"],[0.0,\"1\"],[0.18,\"1\"],[0.02,\"1\"],[0.01,\"1\"],[0.28,\"1\"],[0.32,\"1\"],[0.06,\"1\"],[0.09,\"1\"],[0.48,\"1\"],[0.03,\"1\"],[0.08,\"1\"],[0.04,\"1\"],[0.01,\"1\"],[0.22,\"1\"],[0.08,\"1\"],[0.57,\"1\"],[0.1,\"1\"],[0.45,\"1\"],[0.05,\"1\"],[2.0,\"1\"],[0.05,\"1\"]],\"hovertemplate\":\"is_safe=%{customdata[1]}<br>aluminium=%{x}<br>cadmium=%{y}<br>uranium=%{z}<br>chloramine=%{customdata[0]}<extra></extra>\",\"legendgroup\":\"1\",\"marker\":{\"color\":\"#EF553B\",\"symbol\":\"circle\",\"size\":2},\"mode\":\"markers\",\"name\":\"1\",\"scene\":\"scene\",\"showlegend\":true,\"x\":[1.65,2.32,1.36,0.92,0.94,0.6,0.22,1.35,1.88,4.93,2.89,0.61,3.47,2.11,4.12,0.68,1.15,0.27,3.31,1.82,4.41,1.69,1.87,2.71,4.49,3.52,4.35,3.37,1.51,2.68,0.3,0.23,2.55,4.32,0.24,0.42,0.77,0.6,0.58,3.82,2.78,3.62,4.64,2.25,0.54,4.62,2.5,3.08,2.73,3.02,2.35,2.45,3.3,1.19,0.85,0.5,1.89,3.75,1.75,0.94,2.76,0.43,2.63,0.88,3.03,4.91,1.15,4.8,1.62,2.68,0.09,4.66,2.74,3.52,1.82,2.91,3.53,3.04,2.21,1.92,2.12,4.21,2.56,3.94,1.22,0.8,3.31,2.59,3.9,0.18,0.07,2.71,4.34,0.92,2.39,0.9,0.89,4.91,3.37,3.69,4.71,4.5,2.69,4.3,2.17,5.0,2.6,0.35,3.83,2.9,1.56,4.34,2.23,3.81,1.12,4.0,1.55,2.56,2.99,1.36,3.83,0.47,0.01,3.62,2.82,1.05,1.21,3.35,1.75,1.86,0.54,0.29,3.29,0.22,2.35,4.04,3.6,3.71,0.61,3.05,0.84,1.98,4.18,3.27,0.59,0.36,1.4,1.46,0.93,0.78,4.48,0.71,0.87,2.69,1.21,4.36,0.57,2.14,0.15,2.01,1.72,4.38,3.73,2.97,2.32,3.95,2.22,3.84,3.97,3.73,2.71,3.24,3.85,2.91,3.44,2.2,1.14,0.0,1.14,0.09,2.9,4.07,1.44,3.89,2.09,4.79,0.19,4.77,3.81,0.76,3.36,4.27,1.9,1.44,4.26,3.19,1.24,3.36,3.29,2.94,0.49,2.82,4.19,2.26,3.05,0.78,3.67,2.94,0.93,3.59,3.46,2.79,1.77,0.39,1.07,0.62,4.64,1.09,2.5,3.96,3.49,3.46,2.89,0.27,0.9,0.83,0.72,3.12,3.98,4.39,1.09,4.44,0.78,2.06,0.95,2.24,4.0,0.39,2.33,2.54,1.93,3.91,3.09,4.53,4.71,1.81,4.62,4.18,1.12,0.14,3.01,3.51,1.4,1.77,1.99,0.84,2.14,3.93,4.73,3.69,3.01,1.15,4.66,4.73,2.33,1.34,3.62,1.82,1.79,0.18,3.01,2.04,2.8,3.34,1.92,0.93,2.46,1.36,1.77,2.92,1.38,1.55,2.78,0.63,0.24,3.79,3.0,4.79,2.64,1.36,0.65,0.24,2.65,4.84,4.29,4.3,4.13,2.01,2.02,3.81,4.35,4.39,0.99,3.38,1.66,0.33,1.65,3.25,3.72,4.04,0.35,4.15,1.54,1.71,0.15,4.76,0.7,0.87,2.99,4.96,2.79,3.13,4.7,0.36,3.57,0.01,2.06,4.05,4.98,4.55,2.77,1.52,4.95,0.19,1.45,2.69,2.45,0.5,3.52,2.24,0.95,1.65,2.08,1.49,1.08,4.11,3.36,2.1,4.85,0.71,4.77,2.2,0.11,2.22,2.08,2.88,2.21,2.1,1.08,4.08,4.5,2.05,1.55,0.41,0.97,4.25,1.19,0.96,4.65,2.78,3.97,0.46,3.0,1.87,3.59,4.03,1.06,1.22,4.03,2.67,2.24,2.63,4.38,3.59,2.01,3.15,3.25,4.06,4.49,1.88,1.39,1.92,3.38,1.03,0.92,4.93,1.48,3.69,3.85,3.61,3.18,3.74,4.82,4.98,2.38,0.92,3.01,3.62,0.71,0.25,0.53,3.79,2.47,1.82,4.35,3.99,0.21,1.93,0.55,1.08,0.41,0.54,0.92,2.97,0.32,2.91,1.37,4.72,0.31,1.37,2.33,4.74,4.61,1.2,1.28,3.48,1.79,3.62,1.19,3.48,1.35,2.63,3.14,3.54,0.43,0.56,1.81,4.1,3.47,4.27,0.76,0.69,3.85,0.36,4.59,0.93,0.26,2.04,1.54,1.4,1.08,0.81,0.94,0.43,0.32,0.58,0.16,0.45,0.45,3.2,1.27,4.39,1.86,2.41,1.51,3.13,2.85,0.23,2.25,2.54,2.45,3.13,4.39,1.55,2.56,0.42,2.13,4.75,3.93,0.86,2.06,4.78,3.43,4.81,0.48,2.67,3.21,3.83,1.14,0.17,2.27,1.32,2.89,4.2,2.29,0.43,2.99,1.75,1.25,1.01,1.95,4.35,3.2,0.85,0.05,2.93,3.99,1.4,0.31,4.36,2.46,3.6,3.88,1.41,1.01,2.91,0.42,0.29,1.7,4.36,3.18,0.19,2.73,3.65,2.91,2.24,1.86,0.53,4.98,1.16,1.06,1.27,4.13,3.82,3.52,4.19,3.47,0.5,0.03,0.31,0.49,4.76,3.42,3.79,0.06,1.72,0.6,4.55,2.25,0.67,4.27,2.16,3.47,2.66,4.87,3.88,0.34,0.02,0.93,3.67,2.74,2.36,2.72,3.54,0.52,2.46,0.18,2.5,2.36,2.48,0.68,3.72,4.76,2.54,0.91,0.42,4.32,0.44,3.5,0.75,3.26,2.76,0.75,4.55,1.12,0.99,3.71,3.56,1.5,0.56,1.05,4.96,0.22,3.28,3.92,4.19,2.75,2.82,1.34,3.45,2.58,2.64,2.72,4.69,3.51,3.73,2.17,0.36,3.68,3.62,0.15,2.1,1.34,1.74,3.68,3.87,1.32,2.54,0.0,0.16,3.57,4.39,2.59,0.47,4.7,1.13,0.28,4.4,0.8,3.59,1.69,4.51,4.91,3.94,0.05,2.72,4.57,1.14,2.47,2.26,4.33,0.97,0.34,1.56,0.9,3.37,4.2,3.09,3.95,0.12,4.47,2.16,0.83,0.76,0.24,3.41,2.75,1.14,1.98,3.06,4.34,3.77,1.56,2.82,0.24,2.13,1.02,3.79,3.4,1.42,3.53,2.02,2.71,0.99,0.1,2.03,0.24,0.58,1.11,4.6,2.77,0.23,2.53,2.69,3.56,4.95,3.92,0.98,0.52,4.96,0.09,0.01,0.06,0.07,0.17,0.27,0.06,0.1,0.08,0.09,0.08,0.03,0.07,0.24,0.02,0.34,0.03,0.12,0.16,0.24,0.05,0.17,0.01,0.05,0.03,0.1,0.29,0.01,0.05,0.1,0.07,0.28,0.01,0.05,0.18,0.08,0.03,0.07,0.09,0.29,0.1,0.09,0.04,0.13,0.16,0.09,0.02,0.05,0.0,0.04,0.02,0.09,0.09,0.06,0.05,0.13,0.27,0.09,0.14,0.03,0.22,0.07,0.13,0.12,0.18,0.12,0.39,0.01,0.11,0.05,0.03,0.04,0.33,0.03,0.03,0.05,0.12,0.26,0.02,0.02,0.03,0.07,0.16,0.05,0.19,0.05,0.08,0.06,0.09,0.2,0.06,0.19,0.02,0.22,0.01,0.06,0.39,0.02,0.06,0.06,0.05,0.1,0.07,0.07,0.06,0.05,0.07,0.02,0.07,0.03,0.02,0.05,0.06,0.06,0.01,0.09,0.05,0.03,0.1,0.03,0.08,0.02,0.04,0.09,0.04,0.05,0.08,0.04,0.03,0.09,0.04,0.01,0.07,0.08,0.06,0.0,0.04,0.07,0.09,0.01,0.06,0.02,0.02,0.04,0.06,0.03,0.03,0.03,0.06,0.05,0.06,0.04,0.06,0.03,0.05,0.06,0.09,0.0,0.03,0.01,0.07,0.04,0.05,0.08,0.06,0.04,0.08,0.01,0.07,0.09,0.1,0.06,0.04,0.01,0.02,0.06,0.01,0.1,0.04,0.01,0.07,0.09,0.08,0.07,0.08,0.08,0.01,0.09,0.0,0.04,0.03,0.09,0.05,0.07,0.08,0.09,0.02,0.09,0.1,0.05,0.02,0.03,0.04,0.07,0.03,0.04,0.02,0.05,0.05,0.09,0.01,0.04],\"y\":[0.007,0.002,0.001,0.006,0.003,0.005,0.007,0.002,0.008,0.008,0.008,0.002,0.001,0.009,0.006,0.006,0.007,0.001,0.001,0.006,0.007,0.002,0.008,0.006,0.005,0.006,0.004,0.003,0.003,0.002,0.007,0.002,0.004,0.001,0.008,0.008,0.006,0.002,0.007,0.001,0.009,0.003,0.008,0.002,0.001,0.005,0.004,0.003,0.005,0.004,0.009,0.004,0.008,0.008,0.006,0.004,0.001,0.006,0.001,0.005,0.005,0.001,0.007,0.009,0.006,0.005,0.005,0.006,0.001,0.007,0.001,0.001,0.005,0.007,0.009,0.008,0.002,0.001,0.008,0.008,0.003,0.008,0.003,0.006,0.001,0.002,0.002,0.003,0.008,0.006,0.002,0.003,0.005,0.004,0.005,0.001,0.008,0.001,0.004,0.008,0.003,0.009,0.005,0.004,0.002,0.005,0.003,0.004,0.003,0.005,0.008,0.005,0.001,0.003,0.003,0.001,0.006,0.004,0.007,0.005,0.003,0.001,0.009,0.004,0.007,0.005,0.007,0.006,0.001,0.006,0.003,0.007,0.006,0.006,0.005,0.004,0.003,0.004,0.002,0.005,0.003,0.005,0.004,0.005,0.007,0.003,0.008,0.002,0.002,0.008,0.008,0.003,0.003,0.005,0.007,0.008,0.001,0.008,0.002,0.004,0.004,0.003,0.004,0.008,0.009,0.007,0.009,0.004,0.008,0.008,0.005,0.003,0.007,0.007,0.001,0.006,0.007,0.007,0.003,0.007,0.003,0.004,0.006,0.008,0.004,0.003,0.001,0.002,0.005,0.002,0.006,0.004,0.005,0.008,0.002,0.006,0.004,0.008,0.008,0.004,0.005,0.004,0.004,0.003,0.001,0.005,0.002,0.001,0.004,0.007,0.006,0.005,0.001,0.005,0.006,0.003,0.005,0.003,0.003,0.004,0.003,0.001,0.002,0.001,0.008,0.001,0.001,0.006,0.001,0.005,0.002,0.003,0.006,0.006,0.003,0.001,0.003,0.006,0.008,0.002,0.009,0.002,0.006,0.001,0.007,0.001,0.002,0.002,0.001,0.007,0.004,0.001,0.009,0.007,0.001,0.005,0.007,0.001,0.006,0.009,0.008,0.005,0.003,0.003,0.006,0.003,0.009,0.001,0.001,0.004,0.002,0.005,0.006,0.005,0.001,0.001,0.002,0.005,0.007,0.001,0.008,0.002,0.008,0.003,0.001,0.005,0.001,0.007,0.005,0.008,0.001,0.003,0.007,0.005,0.002,0.001,0.001,0.006,0.001,0.002,0.005,0.007,0.002,0.003,0.009,0.005,0.007,0.005,0.002,0.003,0.004,0.007,0.004,0.006,0.002,0.001,0.008,0.005,0.008,0.001,0.005,0.002,0.005,0.006,0.001,0.002,0.007,0.005,0.001,0.001,0.002,0.006,0.001,0.008,0.005,0.001,0.006,0.002,0.001,0.003,0.007,0.002,0.002,0.001,0.008,0.007,0.005,0.008,0.001,0.002,0.001,0.003,0.001,0.007,0.003,0.002,0.007,0.005,0.006,0.005,0.005,0.005,0.006,0.005,0.006,0.008,0.002,0.006,0.008,0.006,0.001,0.001,0.001,0.008,0.004,0.008,0.006,0.007,0.005,0.006,0.008,0.007,0.009,0.004,0.005,0.003,0.001,0.003,0.002,0.008,0.007,0.008,0.009,0.005,0.001,0.005,0.005,0.004,0.001,0.009,0.008,0.005,0.007,0.007,0.002,0.007,0.003,0.003,0.006,0.005,0.001,0.001,0.002,0.001,0.001,0.003,0.005,0.006,0.006,0.001,0.005,0.001,0.005,0.001,0.002,0.009,0.001,0.005,0.007,0.002,0.003,0.001,0.001,0.006,0.009,0.002,0.001,0.004,0.007,0.002,0.006,0.005,0.008,0.006,0.002,0.006,0.002,0.004,0.009,0.006,0.001,0.007,0.005,0.001,0.009,0.007,0.005,0.002,0.002,0.009,0.009,0.007,0.002,0.003,0.008,0.006,0.004,0.003,0.006,0.002,0.008,0.008,0.001,0.008,0.001,0.006,0.002,0.002,0.009,0.002,0.001,0.008,0.003,0.007,0.001,0.008,0.005,0.001,0.004,0.008,0.004,0.008,0.008,0.005,0.003,0.002,0.006,0.003,0.001,0.004,0.004,0.006,0.005,0.004,0.003,0.006,0.006,0.009,0.008,0.002,0.001,0.007,0.006,0.003,0.005,0.008,0.007,0.007,0.004,0.003,0.001,0.004,0.005,0.001,0.003,0.005,0.004,0.005,0.008,0.001,0.008,0.004,0.003,0.004,0.003,0.006,0.003,0.008,0.003,0.002,0.007,0.008,0.001,0.004,0.003,0.003,0.007,0.008,0.004,0.009,0.001,0.005,0.001,0.008,0.008,0.007,0.003,0.004,0.009,0.004,0.007,0.009,0.001,0.005,0.004,0.008,0.002,0.003,0.004,0.007,0.001,0.001,0.001,0.008,0.008,0.008,0.005,0.003,0.006,0.006,0.005,0.002,0.005,0.005,0.005,0.009,0.006,0.008,0.004,0.005,0.006,0.009,0.006,0.007,0.008,0.004,0.004,0.007,0.004,0.007,0.001,0.002,0.001,0.006,0.008,0.004,0.004,0.001,0.004,0.004,0.007,0.002,0.006,0.003,0.005,0.001,0.003,0.008,0.006,0.001,0.007,0.005,0.009,0.008,0.007,0.001,0.009,0.001,0.006,0.001,0.002,0.001,0.001,0.006,0.002,0.006,0.003,0.006,0.006,0.007,0.001,0.002,0.007,0.006,0.008,0.005,0.001,0.001,0.002,0.006,0.002,0.04,0.02,0.12,0.09,0.12,0.12,0.02,0.05,0.02,0.08,0.01,0.13,0.06,0.1,0.05,0.13,0.04,0.07,0.06,0.11,0.03,0.12,0.11,0.1,0.12,0.11,0.1,0.05,0.05,0.12,0.12,0.07,0.1,0.13,0.11,0.03,0.11,0.11,0.09,0.1,0.11,0.03,0.06,0.04,0.04,0.03,0.01,0.04,0.04,0.006,0.007,0.003,0.006,0.006,0.006,0.001,0.008,0.002,0.001,0.003,0.002,0.006,0.008,0.003,0.001,0.001,0.007,0.003,0.009,0.004,0.002,0.002,0.007,0.002,0.003,0.006,0.005,0.006,0.001,0.002,0.006,0.004,0.002,0.005,0.004,0.004,0.008,0.007,0.004,0.001,0.005,0.006,0.002,0.007,0.001,0.004,0.006,0.007,0.05,0.11,0.07,0.07,0.03,0.04,0.02,0.05,0.04,0.06,0.07,0.02,0.08,0.06,0.05,0.01,0.03,0.03,0.04,0.04,0.03,0.1,0.09,0.12,0.06,0.02,0.05,0.13,0.11,0.04,0.11,0.1,0.11,0.09,0.08,0.09,0.03,0.09,0.02,0.09,0.08,0.07,0.03,0.03,0.09,0.02,0.12,0.12,0.08,0.04,0.01,0.06,0.03,0.06,0.05,0.01,0.02,0.0,0.09,0.01,0.08,0.05,0.08,0.07,0.01,0.01,0.06,0.09,0.0,0.04,0.06,0.0,0.02,0.03,0.06,0.08,0.09,0.06,0.03,0.06,0.07,0.05,0.04,0.04,0.06,0.09,0.03,0.07,0.02,0.05,0.09,0.04,0.05,0.06,0.03,0.07,0.08,0.06,0.01,0.04,0.03,0.05,0.07,0.03,0.09,0.08,0.08,0.09,0.03,0.08,0.08,0.06,0.02,0.03,0.05,0.02,0.02,0.04,0.07,0.03,0.06,0.09,0.05,0.02,0.02,0.02,0.06,0.03,0.05,0.04,0.05,0.03,0.06,0.02,0.05,0.01,0.08,0.09,0.03,0.09,0.04,0.08,0.09,0.06,0.02,0.09,0.01,0.06,0.02,0.05,0.08,0.07,0.09,0.09,0.01,0.08,0.04,0.02,0.04,0.01,0.03,0.0,0.03],\"z\":[0.02,0.05,0.05,0.02,0.02,0.08,0.01,0.08,0.05,0.03,0.02,0.03,0.08,0.01,0.07,0.08,0.06,0.06,0.05,0.08,0.05,0.05,0.04,0.08,0.04,0.06,0.0,0.08,0.0,0.09,0.01,0.08,0.06,0.01,0.05,0.05,0.0,0.08,0.02,0.05,0.08,0.03,0.09,0.06,0.05,0.01,0.03,0.05,0.06,0.02,0.01,0.03,0.09,0.0,0.02,0.01,0.05,0.01,0.07,0.02,0.08,0.07,0.08,0.02,0.08,0.07,0.02,0.0,0.01,0.01,0.04,0.08,0.05,0.04,0.04,0.03,0.09,0.02,0.04,0.02,0.03,0.03,0.07,0.03,0.01,0.03,0.04,0.02,0.02,0.04,0.03,0.01,0.0,0.07,0.0,0.08,0.02,0.09,0.04,0.07,0.02,0.08,0.08,0.05,0.01,0.08,0.08,0.02,0.03,0.02,0.07,0.04,0.0,0.0,0.01,0.03,0.01,0.01,0.03,0.08,0.04,0.0,0.04,0.06,0.06,0.02,0.07,0.01,0.04,0.08,0.01,0.08,0.0,0.01,0.05,0.02,0.07,0.0,0.0,0.05,0.04,0.05,0.04,0.0,0.08,0.0,0.08,0.02,0.07,0.02,0.04,0.03,0.03,0.08,0.02,0.05,0.07,0.07,0.01,0.07,0.06,0.09,0.03,0.09,0.08,0.03,0.04,0.05,0.02,0.09,0.07,0.06,0.0,0.08,0.06,0.04,0.02,0.06,0.03,0.09,0.07,0.06,0.04,0.08,0.02,0.06,0.01,0.05,0.05,0.03,0.04,0.06,0.01,0.08,0.08,0.05,0.01,0.0,0.01,0.06,0.02,0.06,0.06,0.05,0.05,0.05,0.09,0.0,0.05,0.04,0.05,0.0,0.04,0.01,0.05,0.03,0.06,0.02,0.03,0.03,0.04,0.0,0.02,0.05,0.09,0.07,0.04,0.02,0.08,0.06,0.01,0.06,0.09,0.01,0.02,0.05,0.09,0.07,0.05,0.01,0.02,0.0,0.03,0.04,0.07,0.09,0.05,0.04,0.04,0.06,0.01,0.05,0.0,0.0,0.04,0.08,0.02,0.03,0.01,0.09,0.04,0.01,0.0,0.07,0.08,0.06,0.08,0.04,0.02,0.03,0.03,0.03,0.08,0.03,0.08,0.02,0.09,0.06,0.05,0.04,0.02,0.0,0.08,0.06,0.09,0.07,0.09,0.03,0.08,0.02,0.06,0.04,0.01,0.03,0.02,0.07,0.06,0.0,0.0,0.03,0.07,0.08,0.08,0.05,0.04,0.09,0.05,0.06,0.02,0.08,0.08,0.06,0.09,0.04,0.01,0.03,0.02,0.05,0.0,0.05,0.01,0.05,0.09,0.02,0.05,0.05,0.05,0.07,0.02,0.06,0.01,0.07,0.08,0.06,0.02,0.08,0.0,0.08,0.05,0.08,0.05,0.02,0.04,0.04,0.05,0.09,0.07,0.02,0.04,0.03,0.01,0.01,0.01,0.07,0.02,0.06,0.08,0.04,0.07,0.05,0.06,0.06,0.05,0.01,0.01,0.03,0.02,0.03,0.05,0.09,0.02,0.01,0.08,0.07,0.06,0.05,0.08,0.02,0.07,0.01,0.08,0.05,0.06,0.01,0.08,0.0,0.03,0.05,0.03,0.05,0.03,0.0,0.06,0.07,0.08,0.04,0.08,0.08,0.07,0.02,0.0,0.02,0.02,0.04,0.03,0.07,0.07,0.0,0.03,0.04,0.06,0.01,0.02,0.09,0.08,0.07,0.07,0.04,0.06,0.02,0.04,0.08,0.02,0.01,0.06,0.0,0.01,0.05,0.08,0.05,0.08,0.06,0.01,0.04,0.05,0.0,0.04,0.09,0.09,0.0,0.08,0.06,0.03,0.08,0.06,0.06,0.07,0.0,0.01,0.07,0.03,0.04,0.07,0.06,0.09,0.02,0.0,0.0,0.06,0.03,0.06,0.02,0.02,0.06,0.02,0.05,0.0,0.06,0.02,0.08,0.04,0.07,0.01,0.07,0.04,0.02,0.05,0.04,0.09,0.04,0.07,0.09,0.05,0.02,0.0,0.03,0.09,0.06,0.08,0.01,0.06,0.07,0.04,0.05,0.01,0.06,0.02,0.02,0.04,0.09,0.03,0.08,0.04,0.08,0.06,0.06,0.02,0.06,0.04,0.07,0.04,0.04,0.07,0.0,0.03,0.03,0.01,0.04,0.0,0.06,0.04,0.01,0.07,0.07,0.05,0.09,0.01,0.02,0.06,0.01,0.05,0.03,0.06,0.05,0.06,0.07,0.01,0.01,0.02,0.08,0.02,0.07,0.09,0.05,0.0,0.06,0.08,0.0,0.06,0.05,0.06,0.01,0.04,0.02,0.02,0.02,0.07,0.01,0.0,0.05,0.02,0.07,0.03,0.07,0.01,0.04,0.03,0.02,0.06,0.07,0.07,0.04,0.01,0.01,0.05,0.02,0.01,0.06,0.08,0.0,0.04,0.03,0.08,0.02,0.04,0.03,0.02,0.05,0.08,0.03,0.07,0.02,0.08,0.03,0.07,0.04,0.07,0.0,0.02,0.0,0.06,0.09,0.06,0.06,0.07,0.08,0.0,0.03,0.07,0.09,0.05,0.0,0.05,0.07,0.03,0.02,0.0,0.09,0.0,0.03,0.03,0.06,0.01,0.06,0.06,0.01,0.03,0.07,0.04,0.02,0.07,0.03,0.09,0.01,0.07,0.05,0.07,0.07,0.04,0.06,0.02,0.01,0.02,0.09,0.06,0.06,0.0,0.06,0.03,0.08,0.05,0.02,0.02,0.0,0.02,0.0,0.01,0.02,0.02,0.03,0.02,0.02,0.02,0.03,0.01,0.01,0.02,0.02,0.02,0.01,0.02,0.02,0.03,0.01,0.0,0.02,0.01,0.02,0.02,0.01,0.0,0.02,0.03,0.02,0.03,0.02,0.03,0.01,0.02,0.01,0.01,0.01,0.0,0.0,0.03,0.03,0.01,0.01,0.01,0.02,0.02,0.02,0.0,0.02,0.01,0.01,0.02,0.02,0.03,0.03,0.02,0.02,0.01,0.02,0.03,0.01,0.01,0.02,0.02,0.02,0.01,0.02,0.02,0.03,0.01,0.02,0.01,0.02,0.02,0.01,0.0,0.02,0.03,0.02,0.03,0.02,0.03,0.01,0.02,0.01,0.01,0.01,0.0,0.0,0.03,0.01,0.01,0.01,0.02,0.02,0.02,0.0,0.02,0.0,0.01,0.02,0.02,0.03,0.02,0.02,0.02,0.03,0.01,0.01,0.02,0.02,0.02,0.01,0.02,0.02,0.03,0.01,0.0,0.02,0.01,0.02,0.02,0.01,0.0,0.02,0.03,0.02,0.03,0.02,0.03,0.01,0.02,0.01,0.01,0.01,0.0,0.0,0.03,0.03,0.01,0.01,0.01,0.02,0.02,0.05,0.05,0.0,0.04,0.01,0.05,0.02,0.01,0.05,0.07,0.02,0.08,0.07,0.08,0.07,0.08,0.05,0.02,0.03,0.07,0.08,0.04,0.04,0.02,0.02,0.02,0.03,0.04,0.08,0.02,0.05,0.02,0.06,0.02,0.05,0.02,0.06,0.08,0.04,0.05,0.03,0.07,0.08,0.03,0.05,0.01,0.03,0.06,0.0,0.04,0.06,0.08,0.02,0.05,0.03,0.02,0.01,0.01,0.0,0.04,0.05,0.03,0.02,0.02,0.02,0.05,0.05,0.0,0.04,0.01,0.02,0.05,0.02,0.01,0.05,0.07,0.02,0.08,0.07,0.07,0.0,0.07,0.08,0.05,0.03,0.01,0.02,0.04,0.08,0.05,0.02,0.02,0.02,0.06,0.08,0.04,0.03,0.02,0.02,0.09,0.0,0.03,0.06,0.06,0.0,0.06,0.05,0.07,0.03,0.08,0.05,0.0,0.05],\"type\":\"scatter3d\"}],                        {\"template\":{\"data\":{\"bar\":[{\"error_x\":{\"color\":\"#2a3f5f\"},\"error_y\":{\"color\":\"#2a3f5f\"},\"marker\":{\"line\":{\"color\":\"#E5ECF6\",\"width\":0.5},\"pattern\":{\"fillmode\":\"overlay\",\"size\":10,\"solidity\":0.2}},\"type\":\"bar\"}],\"barpolar\":[{\"marker\":{\"line\":{\"color\":\"#E5ECF6\",\"width\":0.5},\"pattern\":{\"fillmode\":\"overlay\",\"size\":10,\"solidity\":0.2}},\"type\":\"barpolar\"}],\"carpet\":[{\"aaxis\":{\"endlinecolor\":\"#2a3f5f\",\"gridcolor\":\"white\",\"linecolor\":\"white\",\"minorgridcolor\":\"white\",\"startlinecolor\":\"#2a3f5f\"},\"baxis\":{\"endlinecolor\":\"#2a3f5f\",\"gridcolor\":\"white\",\"linecolor\":\"white\",\"minorgridcolor\":\"white\",\"startlinecolor\":\"#2a3f5f\"},\"type\":\"carpet\"}],\"choropleth\":[{\"colorbar\":{\"outlinewidth\":0,\"ticks\":\"\"},\"type\":\"choropleth\"}],\"contour\":[{\"colorbar\":{\"outlinewidth\":0,\"ticks\":\"\"},\"colorscale\":[[0.0,\"#0d0887\"],[0.1111111111111111,\"#46039f\"],[0.2222222222222222,\"#7201a8\"],[0.3333333333333333,\"#9c179e\"],[0.4444444444444444,\"#bd3786\"],[0.5555555555555556,\"#d8576b\"],[0.6666666666666666,\"#ed7953\"],[0.7777777777777778,\"#fb9f3a\"],[0.8888888888888888,\"#fdca26\"],[1.0,\"#f0f921\"]],\"type\":\"contour\"}],\"contourcarpet\":[{\"colorbar\":{\"outlinewidth\":0,\"ticks\":\"\"},\"type\":\"contourcarpet\"}],\"heatmap\":[{\"colorbar\":{\"outlinewidth\":0,\"ticks\":\"\"},\"colorscale\":[[0.0,\"#0d0887\"],[0.1111111111111111,\"#46039f\"],[0.2222222222222222,\"#7201a8\"],[0.3333333333333333,\"#9c179e\"],[0.4444444444444444,\"#bd3786\"],[0.5555555555555556,\"#d8576b\"],[0.6666666666666666,\"#ed7953\"],[0.7777777777777778,\"#fb9f3a\"],[0.8888888888888888,\"#fdca26\"],[1.0,\"#f0f921\"]],\"type\":\"heatmap\"}],\"heatmapgl\":[{\"colorbar\":{\"outlinewidth\":0,\"ticks\":\"\"},\"colorscale\":[[0.0,\"#0d0887\"],[0.1111111111111111,\"#46039f\"],[0.2222222222222222,\"#7201a8\"],[0.3333333333333333,\"#9c179e\"],[0.4444444444444444,\"#bd3786\"],[0.5555555555555556,\"#d8576b\"],[0.6666666666666666,\"#ed7953\"],[0.7777777777777778,\"#fb9f3a\"],[0.8888888888888888,\"#fdca26\"],[1.0,\"#f0f921\"]],\"type\":\"heatmapgl\"}],\"histogram\":[{\"marker\":{\"pattern\":{\"fillmode\":\"overlay\",\"size\":10,\"solidity\":0.2}},\"type\":\"histogram\"}],\"histogram2d\":[{\"colorbar\":{\"outlinewidth\":0,\"ticks\":\"\"},\"colorscale\":[[0.0,\"#0d0887\"],[0.1111111111111111,\"#46039f\"],[0.2222222222222222,\"#7201a8\"],[0.3333333333333333,\"#9c179e\"],[0.4444444444444444,\"#bd3786\"],[0.5555555555555556,\"#d8576b\"],[0.6666666666666666,\"#ed7953\"],[0.7777777777777778,\"#fb9f3a\"],[0.8888888888888888,\"#fdca26\"],[1.0,\"#f0f921\"]],\"type\":\"histogram2d\"}],\"histogram2dcontour\":[{\"colorbar\":{\"outlinewidth\":0,\"ticks\":\"\"},\"colorscale\":[[0.0,\"#0d0887\"],[0.1111111111111111,\"#46039f\"],[0.2222222222222222,\"#7201a8\"],[0.3333333333333333,\"#9c179e\"],[0.4444444444444444,\"#bd3786\"],[0.5555555555555556,\"#d8576b\"],[0.6666666666666666,\"#ed7953\"],[0.7777777777777778,\"#fb9f3a\"],[0.8888888888888888,\"#fdca26\"],[1.0,\"#f0f921\"]],\"type\":\"histogram2dcontour\"}],\"mesh3d\":[{\"colorbar\":{\"outlinewidth\":0,\"ticks\":\"\"},\"type\":\"mesh3d\"}],\"parcoords\":[{\"line\":{\"colorbar\":{\"outlinewidth\":0,\"ticks\":\"\"}},\"type\":\"parcoords\"}],\"pie\":[{\"automargin\":true,\"type\":\"pie\"}],\"scatter\":[{\"marker\":{\"colorbar\":{\"outlinewidth\":0,\"ticks\":\"\"}},\"type\":\"scatter\"}],\"scatter3d\":[{\"line\":{\"colorbar\":{\"outlinewidth\":0,\"ticks\":\"\"}},\"marker\":{\"colorbar\":{\"outlinewidth\":0,\"ticks\":\"\"}},\"type\":\"scatter3d\"}],\"scattercarpet\":[{\"marker\":{\"colorbar\":{\"outlinewidth\":0,\"ticks\":\"\"}},\"type\":\"scattercarpet\"}],\"scattergeo\":[{\"marker\":{\"colorbar\":{\"outlinewidth\":0,\"ticks\":\"\"}},\"type\":\"scattergeo\"}],\"scattergl\":[{\"marker\":{\"colorbar\":{\"outlinewidth\":0,\"ticks\":\"\"}},\"type\":\"scattergl\"}],\"scattermapbox\":[{\"marker\":{\"colorbar\":{\"outlinewidth\":0,\"ticks\":\"\"}},\"type\":\"scattermapbox\"}],\"scatterpolar\":[{\"marker\":{\"colorbar\":{\"outlinewidth\":0,\"ticks\":\"\"}},\"type\":\"scatterpolar\"}],\"scatterpolargl\":[{\"marker\":{\"colorbar\":{\"outlinewidth\":0,\"ticks\":\"\"}},\"type\":\"scatterpolargl\"}],\"scatterternary\":[{\"marker\":{\"colorbar\":{\"outlinewidth\":0,\"ticks\":\"\"}},\"type\":\"scatterternary\"}],\"surface\":[{\"colorbar\":{\"outlinewidth\":0,\"ticks\":\"\"},\"colorscale\":[[0.0,\"#0d0887\"],[0.1111111111111111,\"#46039f\"],[0.2222222222222222,\"#7201a8\"],[0.3333333333333333,\"#9c179e\"],[0.4444444444444444,\"#bd3786\"],[0.5555555555555556,\"#d8576b\"],[0.6666666666666666,\"#ed7953\"],[0.7777777777777778,\"#fb9f3a\"],[0.8888888888888888,\"#fdca26\"],[1.0,\"#f0f921\"]],\"type\":\"surface\"}],\"table\":[{\"cells\":{\"fill\":{\"color\":\"#EBF0F8\"},\"line\":{\"color\":\"white\"}},\"header\":{\"fill\":{\"color\":\"#C8D4E3\"},\"line\":{\"color\":\"white\"}},\"type\":\"table\"}]},\"layout\":{\"annotationdefaults\":{\"arrowcolor\":\"#2a3f5f\",\"arrowhead\":0,\"arrowwidth\":1},\"autotypenumbers\":\"strict\",\"coloraxis\":{\"colorbar\":{\"outlinewidth\":0,\"ticks\":\"\"}},\"colorscale\":{\"diverging\":[[0,\"#8e0152\"],[0.1,\"#c51b7d\"],[0.2,\"#de77ae\"],[0.3,\"#f1b6da\"],[0.4,\"#fde0ef\"],[0.5,\"#f7f7f7\"],[0.6,\"#e6f5d0\"],[0.7,\"#b8e186\"],[0.8,\"#7fbc41\"],[0.9,\"#4d9221\"],[1,\"#276419\"]],\"sequential\":[[0.0,\"#0d0887\"],[0.1111111111111111,\"#46039f\"],[0.2222222222222222,\"#7201a8\"],[0.3333333333333333,\"#9c179e\"],[0.4444444444444444,\"#bd3786\"],[0.5555555555555556,\"#d8576b\"],[0.6666666666666666,\"#ed7953\"],[0.7777777777777778,\"#fb9f3a\"],[0.8888888888888888,\"#fdca26\"],[1.0,\"#f0f921\"]],\"sequentialminus\":[[0.0,\"#0d0887\"],[0.1111111111111111,\"#46039f\"],[0.2222222222222222,\"#7201a8\"],[0.3333333333333333,\"#9c179e\"],[0.4444444444444444,\"#bd3786\"],[0.5555555555555556,\"#d8576b\"],[0.6666666666666666,\"#ed7953\"],[0.7777777777777778,\"#fb9f3a\"],[0.8888888888888888,\"#fdca26\"],[1.0,\"#f0f921\"]]},\"colorway\":[\"#636efa\",\"#EF553B\",\"#00cc96\",\"#ab63fa\",\"#FFA15A\",\"#19d3f3\",\"#FF6692\",\"#B6E880\",\"#FF97FF\",\"#FECB52\"],\"font\":{\"color\":\"#2a3f5f\"},\"geo\":{\"bgcolor\":\"white\",\"lakecolor\":\"white\",\"landcolor\":\"#E5ECF6\",\"showlakes\":true,\"showland\":true,\"subunitcolor\":\"white\"},\"hoverlabel\":{\"align\":\"left\"},\"hovermode\":\"closest\",\"mapbox\":{\"style\":\"light\"},\"paper_bgcolor\":\"white\",\"plot_bgcolor\":\"#E5ECF6\",\"polar\":{\"angularaxis\":{\"gridcolor\":\"white\",\"linecolor\":\"white\",\"ticks\":\"\"},\"bgcolor\":\"#E5ECF6\",\"radialaxis\":{\"gridcolor\":\"white\",\"linecolor\":\"white\",\"ticks\":\"\"}},\"scene\":{\"xaxis\":{\"backgroundcolor\":\"#E5ECF6\",\"gridcolor\":\"white\",\"gridwidth\":2,\"linecolor\":\"white\",\"showbackground\":true,\"ticks\":\"\",\"zerolinecolor\":\"white\"},\"yaxis\":{\"backgroundcolor\":\"#E5ECF6\",\"gridcolor\":\"white\",\"gridwidth\":2,\"linecolor\":\"white\",\"showbackground\":true,\"ticks\":\"\",\"zerolinecolor\":\"white\"},\"zaxis\":{\"backgroundcolor\":\"#E5ECF6\",\"gridcolor\":\"white\",\"gridwidth\":2,\"linecolor\":\"white\",\"showbackground\":true,\"ticks\":\"\",\"zerolinecolor\":\"white\"}},\"shapedefaults\":{\"line\":{\"color\":\"#2a3f5f\"}},\"ternary\":{\"aaxis\":{\"gridcolor\":\"white\",\"linecolor\":\"white\",\"ticks\":\"\"},\"baxis\":{\"gridcolor\":\"white\",\"linecolor\":\"white\",\"ticks\":\"\"},\"bgcolor\":\"#E5ECF6\",\"caxis\":{\"gridcolor\":\"white\",\"linecolor\":\"white\",\"ticks\":\"\"}},\"title\":{\"x\":0.05},\"xaxis\":{\"automargin\":true,\"gridcolor\":\"white\",\"linecolor\":\"white\",\"ticks\":\"\",\"title\":{\"standoff\":15},\"zerolinecolor\":\"white\",\"zerolinewidth\":2},\"yaxis\":{\"automargin\":true,\"gridcolor\":\"white\",\"linecolor\":\"white\",\"ticks\":\"\",\"title\":{\"standoff\":15},\"zerolinecolor\":\"white\",\"zerolinewidth\":2}}},\"scene\":{\"domain\":{\"x\":[0.0,1.0],\"y\":[0.0,1.0]},\"xaxis\":{\"title\":{\"text\":\"aluminium\",\"font\":{\"size\":10}},\"tickfont\":{\"size\":10},\"backgroundcolor\":\"white\",\"color\":\"black\",\"gridcolor\":\"#f0f0f0\"},\"yaxis\":{\"title\":{\"text\":\"cadmium\",\"font\":{\"size\":10}},\"tickfont\":{\"size\":10},\"backgroundcolor\":\"white\",\"color\":\"black\",\"gridcolor\":\"#f0f0f0\"},\"zaxis\":{\"title\":{\"text\":\"uranium\",\"font\":{\"size\":10}},\"tickfont\":{\"size\":10},\"backgroundcolor\":\"lightgrey\",\"color\":\"black\",\"gridcolor\":\"#f0f0f0\"},\"camera\":{\"up\":{\"x\":0,\"y\":0,\"z\":1},\"center\":{\"x\":0,\"y\":0,\"z\":-0.2},\"eye\":{\"x\":-1.5,\"y\":1.5,\"z\":0.5}}},\"legend\":{\"title\":{\"text\":\"is_safe\"},\"tracegroupgap\":0,\"orientation\":\"h\",\"yanchor\":\"top\",\"y\":0,\"xanchor\":\"center\",\"x\":0.5},\"margin\":{\"t\":0,\"l\":0,\"r\":0,\"b\":0},\"height\":900,\"width\":900,\"showlegend\":true},                        {\"responsive\": true}                    ).then(function(){\n",
       "                            \n",
       "var gd = document.getElementById('02e2f677-e051-4ceb-929c-da5f0837a258');\n",
       "var x = new MutationObserver(function (mutations, observer) {{\n",
       "        var display = window.getComputedStyle(gd).display;\n",
       "        if (!display || display === 'none') {{\n",
       "            console.log([gd, 'removed!']);\n",
       "            Plotly.purge(gd);\n",
       "            observer.disconnect();\n",
       "        }}\n",
       "}});\n",
       "\n",
       "// Listen for the removal of the full notebook cells\n",
       "var notebookContainer = gd.closest('#notebook-container');\n",
       "if (notebookContainer) {{\n",
       "    x.observe(notebookContainer, {childList: true});\n",
       "}}\n",
       "\n",
       "// Listen for the clearing of the current output cell\n",
       "var outputEl = gd.closest('.output');\n",
       "if (outputEl) {{\n",
       "    x.observe(outputEl, {childList: true});\n",
       "}}\n",
       "\n",
       "                        })                };                });            </script>        </div>"
      ]
     },
     "metadata": {},
     "output_type": "display_data"
    }
   ],
   "source": [
    "fig = px.scatter_3d(OriginalDataForLDA, \n",
    "                    x=OriginalDataForLDA['aluminium'], y=OriginalDataForLDA['cadmium'], z=OriginalDataForLDA['uranium'],\n",
    "                    color=OriginalDataForLDA['is_safe'],\n",
    "                    color_discrete_sequence=['#636EFA','#EF553B','#00CC96'], \n",
    "                    hover_data=['chloramine','aluminium', 'cadmium','is_safe'],\n",
    "                    height=900, width=900\n",
    "                   )\n",
    "\n",
    "# Update chart looks\n",
    "fig.update_layout(#title_text=\"Scatter 3D Plot\",\n",
    "                  showlegend=True,\n",
    "                  legend=dict(orientation=\"h\", yanchor=\"top\", y=0, xanchor=\"center\", x=0.5),\n",
    "                  scene_camera=dict(up=dict(x=0, y=0, z=1), \n",
    "                                        center=dict(x=0, y=0, z=-0.2),\n",
    "                                        eye=dict(x=-1.5, y=1.5, z=0.5)),\n",
    "                                        margin=dict(l=0, r=0, b=0, t=0),\n",
    "                  scene = dict(xaxis=dict(backgroundcolor='white',\n",
    "                                          color='black',\n",
    "                                          gridcolor='#f0f0f0',\n",
    "                                          title_font=dict(size=10),\n",
    "                                          tickfont=dict(size=10),\n",
    "                                         ),\n",
    "                               yaxis=dict(backgroundcolor='white',\n",
    "                                          color='black',\n",
    "                                          gridcolor='#f0f0f0',\n",
    "                                          title_font=dict(size=10),\n",
    "                                          tickfont=dict(size=10),\n",
    "                                          ),\n",
    "                               zaxis=dict(backgroundcolor='lightgrey',\n",
    "                                          color='black', \n",
    "                                          gridcolor='#f0f0f0',\n",
    "                                          title_font=dict(size=10),\n",
    "                                          tickfont=dict(size=10),\n",
    "                                         )))\n",
    "\n",
    "# Update marker size\n",
    "fig.update_traces(marker=dict(size=2))\n",
    "\n",
    "fig.show()"
   ]
  },
  {
   "cell_type": "code",
   "execution_count": 68,
   "id": "63cd8f5b",
   "metadata": {},
   "outputs": [],
   "source": [
    "# Select features\n",
    "X=OriginalDataForLDA[['aluminium', 'cadmium', 'uranium']]\n",
    "# Select target\n",
    "y=OriginalDataForLDA['is_safe'].astype('category')\n",
    "X_train, X_test, y_train, y_test = train_test_split(X, y, test_size = 0.25)\n",
    "# Get scaler\n",
    "scaler=StandardScaler()\n",
    "# Perform standard scaling on model features\n",
    "X_std_train=scaler.fit_transform(X_train)"
   ]
  },
  {
   "cell_type": "code",
   "execution_count": 69,
   "id": "a660685c",
   "metadata": {},
   "outputs": [
    {
     "name": "stdout",
     "output_type": "stream",
     "text": [
      "*************** PCA Summary ***************\n",
      "No. of features:  3\n",
      "No. of samples:  1368\n",
      "No. of components:  2\n",
      "Explained variance ratio:  [0.43362181 0.33052186]\n"
     ]
    }
   ],
   "source": [
    "# Select the model and its parameters\n",
    "pca = PCA(n_components=2) # reducing from 3 dimensions to 2\n",
    "\n",
    "# Fit the model\n",
    "X_trans_pca_train=pca.fit_transform(X_std_train)\n",
    "\n",
    "# Print the results\n",
    "print('*************** PCA Summary ***************')\n",
    "print('No. of features: ', pca.n_features_)\n",
    "print('No. of samples: ', pca.n_samples_)\n",
    "print('No. of components: ', pca.n_components_)\n",
    "print('Explained variance ratio: ', pca.explained_variance_ratio_)"
   ]
  },
  {
   "cell_type": "code",
   "execution_count": 70,
   "id": "fa9e7081",
   "metadata": {},
   "outputs": [
    {
     "data": {
      "application/vnd.plotly.v1+json": {
       "config": {
        "plotlyServerURL": "https://plot.ly"
       },
       "data": [
        {
         "hovertemplate": "is_safe=1<br>PC1=%{x}<br>PC2=%{y}<extra></extra>",
         "legendgroup": "1",
         "marker": {
          "color": "#636efa",
          "opacity": 1,
          "size": 3,
          "symbol": "circle"
         },
         "mode": "markers",
         "name": "1",
         "showlegend": true,
         "type": "scattergl",
         "x": [
          -1.1726817371371916,
          -0.31567160588790333,
          0.12110506565838376,
          -1.775144863347565,
          -1.1783302860425149,
          -0.6742219851712482,
          0.218875510584906,
          0.6111116888721346,
          -1.86135278960596,
          -1.1366728851059997,
          0.14431854115413612,
          -0.19957497763937576,
          -2.1592074832261203,
          -0.6150488661607113,
          -2.2233563325699,
          -1.2419240589329743,
          -2.237507325122821,
          -0.5166056026621096,
          1.7199234327031998,
          -1.330597754115491,
          -1.5541851870902166,
          -1.5788427167629457,
          -0.8755833374066951,
          -0.6195629742315395,
          -1.051825537706998,
          0.2074407129088581,
          -0.30823010663053724,
          0.02019107039374761,
          1.6510984874953367,
          0.015004143750839928,
          -0.3004054975864282,
          -0.8091898943217789,
          0.1279914884624285,
          1.6972207879862717,
          -0.14087345976457621,
          -1.4959110246766578,
          1.0515477575667687,
          1.582234312644386,
          -0.6633422639485209,
          -0.606001324933114,
          -2.0373788307546863,
          -0.7884913962665572,
          1.788149055783246,
          0.8358584832699111,
          -0.30644217230990434,
          -0.41454222484774494,
          1.2529141258336256,
          -0.6254669651210233,
          -1.826237931329832,
          1.9758702994340942,
          -1.9843701074597067,
          1.0372248515367681,
          0.2681463774453649,
          1.2294944700596189,
          -0.9175796556449556,
          -1.1746266964091687,
          -2.0090276371324354,
          -1.9048374076956927,
          -2.307859799825245,
          -0.8013652852776696,
          -2.252596503915807,
          -1.4041722916316994,
          -1.1447872029354444,
          -0.7200053683604383,
          -1.341428266821809,
          -0.5419801965814145,
          -0.9324184084851899,
          -0.3510761729493664,
          -0.3708464104483473,
          0.06635761655917959,
          -1.7922774184453454,
          0.42015840353417944,
          -2.2292603234593837,
          -0.7862318608101873,
          -1.538074293550085,
          -0.6936483425265724,
          0.25904962770135875,
          2.2415524676798984,
          -1.1538839526794507,
          -1.825093511622016,
          -1.5897274008275848,
          -1.4253473536645702,
          -1.597330887878206,
          0.5390547019771635,
          1.4451837443564763,
          -1.9323438160792874,
          0.5026284733580523,
          -2.127285383804516,
          0.001275543817247225,
          -0.5123518994173544,
          0.8410846395559058,
          -0.03689938947941017,
          1.851030780458539,
          0.4188420703492838,
          -0.08373875421692155,
          1.618582081977324,
          -0.5756510006805656,
          -0.039576354713196704,
          -0.7101031162103606,
          0.17951191190593538,
          0.6215247718010364,
          -1.2545867516344222,
          -0.2887595036007161,
          -1.8837507838223184,
          -1.188993848113666,
          0.2158154355643762,
          -1.8646240609361537,
          -1.509128793831427,
          -0.47588142512374615,
          0.9651678646417973,
          -0.8049361910770236,
          -1.4237755784955135,
          0.1824885116088816,
          -0.9255319856811454,
          0.1204665138874792,
          -0.13105468293208186,
          -0.023804378474809814,
          -1.3542728518736582,
          -0.04038185711926849,
          -0.4631695239058893,
          1.3301972690145911,
          0.7592531215029372,
          -1.6886422654619242,
          -1.4748686464777798,
          1.8160778567861688,
          -1.0218141307561945,
          2.1967072707307724,
          -2.083712327555286,
          0.2453160117363557,
          -0.9577930024044948,
          2.0733018270588723,
          -1.0333324037498257,
          -1.4970554443844746,
          -0.45135161644309785,
          1.0794765585696917,
          -2.090814909510907,
          -2.578129572586139,
          -0.07528055624381984,
          -0.3845700475400282,
          -0.5569024247392326,
          -1.9185660076292856,
          -0.4815742197035658,
          -0.7499283371517467,
          -1.6855329819249847,
          1.2529141258336256,
          -0.9984337046252747,
          0.24995287795735263,
          -0.4118260299708718,
          0.9956509259178362,
          -1.5603102999731888,
          -1.7674086924629524,
          0.10830968912294306,
          -0.3031709009797102,
          -0.6561169238427313,
          -1.9166503523165728,
          0.1688433869928725,
          -1.4440959296059028,
          -0.9925639805369655,
          -0.22138362860123867,
          1.673604930807333,
          -0.4540385073607083,
          -2.3668609521692043,
          -2.3436082470303647,
          -0.8192641131384342,
          -1.9815212287488406,
          0.09551431258750262,
          -2.2591047797750203,
          -0.8283608628824403,
          0.007439939532803952,
          0.6565562079490783,
          -0.01224185980668148,
          0.7026785084400136,
          -2.0098281766965957,
          -0.7956232821814413,
          0.3103980844782881,
          -0.33530419671097944,
          1.4224418699964612,
          -1.181218447585966,
          -0.6704448459041419,
          -1.0283616362584946,
          -1.070569150806419,
          -1.8614362649235436,
          -0.4857002019562404,
          -2.0787415600639547,
          -0.8366078645458775,
          -1.7464940352561547,
          0.6579117707770609,
          -0.06639996565138989,
          -0.18286977800283663,
          -2.4760219490972775,
          -0.2330345854288628,
          0.007690365485554941,
          -2.334300300976695,
          -2.1318337586765184,
          1.5179185126654386,
          -0.9094653378155101,
          -1.491573846114319,
          -1.5669805636256577,
          -2.116061782438131,
          2.3343963907895864,
          -2.124009149632409,
          -0.7795615971577186,
          -1.4253473536645702,
          -1.161625086405976,
          -2.124863860554889,
          -1.5453880718153712,
          -0.5588965925276178,
          -0.8752051904618632,
          -1.0777552080796238,
          -1.5514247465388469,
          -1.2551418280877435,
          -0.5878913007626856,
          -1.3009694569514305,
          -0.3858913967563341,
          -1.8203339404403485,
          0.037662542793271726,
          -0.47545406966250586,
          -1.9796105362780394,
          -1.020620502531969,
          -1.7407569950018384,
          -1.5040745510225115,
          -1.8408162793439933,
          -0.1835083297737411,
          -2.297702105691006,
          1.0323233034979877,
          -1.6054944142240597,
          0.9705224809595715,
          -1.2416244244638144,
          -0.774369707672899,
          -1.0122115130752762,
          1.3273291184072826,
          0.767672089832952,
          -1.2008560012509544,
          -1.3731834156082465,
          1.0501921947387862,
          -2.2912380755062896,
          -1.1231554814820708,
          -1.6545490687434445,
          -1.9022881634539872,
          -1.3466644019811256,
          0.13559993835496148,
          -1.26602154931047,
          -1.1403665490555217,
          -1.3291879667396893,
          -0.6999796888772967,
          -0.4747370054159296,
          -1.440136897988396,
          -0.6942034189798935,
          0.15128843927576463,
          -2.1720471054360573,
          0.8047368702229681,
          -1.1556326573569966,
          2.589704705749576,
          0.46496437084021885,
          -0.30465920083118336,
          8.191559302185538e-05,
          -1.096714980330621,
          -0.18635720848460682,
          -0.25199435767985995,
          -1.4026054793045546,
          -2.059992984122621,
          -1.387555530154656,
          -2.030408932633058,
          -0.9496786845750497,
          0.2218078646133556,
          -1.358693505753581,
          0.05215741548984959,
          -1.650295365498689,
          -1.9863642752480914,
          0.44222249648020356,
          2.218810593319883,
          0.9144971892788591,
          0.5740469084821189,
          -1.9688928028485677,
          0.45586762109621276,
          0.708582446139999,
          0.2362192619923497,
          0.8228911400678935,
          -0.6012417537514467,
          -0.5232808291564902,
          -1.571317742187996,
          1.5861049061023977,
          -0.44106620131677843,
          -1.1078943360225082,
          -0.7803229070787917,
          -0.9304192778548929,
          0.8565669601984546,
          -0.636985238114655,
          -0.9261605585787274,
          -0.2943737857048639,
          -2.4001044008071153,
          -0.39299397871195496,
          -0.017851179068917398,
          -0.8907167618741774,
          1.170404826366666,
          -0.5818496631972974,
          0.3974557588172509,
          1.2717461770925422,
          -1.7093899720335541,
          -0.3807094329553383,
          -0.5270579684235963,
          -0.40191379894747187,
          -1.6312963636046052,
          0.07098946674876626,
          0.1876754382517892,
          0.5240540145331717,
          -0.507636573910184,
          -2.186920125077467,
          -0.3036817317585342,
          -0.6990121986779692,
          -1.0675090757858894,
          -1.5062356694460641,
          -1.3715331279635183,
          -1.3103608783226848,
          0.16645185355271103,
          -2.075209883907687,
          -1.7080686228172475,
          0.062231634306504906,
          0.08322976683088608,
          0.08633408752591283,
          0.018191939763450623,
          -0.2823789487335833,
          0.8456330144279088,
          1.6919946317002774,
          -1.9329331593337833,
          -0.3176657736762882,
          -0.23439020144634345,
          0.32268764626631485,
          -1.009956940460818,
          -0.8027258641370623,
          1.723833255804298,
          1.6420017377513307,
          -0.35078150132211844,
          -1.3412662790285539,
          0.3141801865873061,
          -0.7088260126685515,
          0.09755768889229652,
          -1.9999259245465166,
          1.6035421117007476,
          1.5004027945914173,
          -1.7003717347652196,
          -2.159757596837529,
          -1.7259624878361006,
          -0.8326980414447789,
          -1.9866639097172514,
          -1.5856014185749099,
          -0.2952235337854326,
          -1.249399824991515,
          -0.10652983709334558,
          -0.03383931445888022,
          -0.13746950460038962,
          -1.0761834329105668,
          -0.47670619942626097,
          -1.997587876614476,
          -1.930772040910231,
          1.6926331834711816,
          -1.5229066022814286,
          -1.2496602298175878,
          -1.1421987290506517,
          -2.096168786788982,
          -1.1681333622651893,
          -1.927151926594468,
          -0.6326038138778192,
          -0.20161835394416963,
          -0.05900271206852111,
          -0.8081239870896341,
          0.3415589271683184,
          -2.169876008139183,
          -1.5441601767899704,
          -2.1836488537472727,
          -1.13496842610295,
          -0.4914422050524688,
          0.12960750930598217,
          -0.038810081950211635,
          -1.7828367885576824,
          -0.33147784892746457,
          -1.7076412673560082,
          1.1060890263877188,
          -2.532007272095205,
          1.6374533628793273,
          -0.6090613999536441,
          -0.5337824034343858,
          -0.5390478425529651,
          -0.9882268019746269,
          -0.3172433810569597,
          1.2028820022415923,
          0.19762193607636394,
          0.2755828606713205,
          -0.7880197951308203,
          -0.9659565287503488,
          -0.09895565400198751,
          -1.571823610124908,
          -1.5629430195324783,
          -0.8838745847446292,
          1.7660849628372217,
          -1.0714238617288998,
          -1.4456184962585512,
          -0.17092341050826565,
          -0.449784804115953,
          1.8803936567651165,
          -0.4383007979234963,
          -2.0350407828226444,
          -1.0298499361099676,
          1.5815565312303947,
          1.2574625007056288,
          -0.8204134956881627,
          -1.0627495046042217,
          -0.5671878398655522,
          -1.9036487423133799,
          -0.36599840110718446,
          -1.850846252486152,
          -1.5661308155450888,
          1.5647185945703654,
          1.8665523307441751,
          0.14861152723147622,
          0.6026927205421198,
          0.03255909146794783,
          -1.1589039286871907,
          1.1931467007266814,
          0.05428426711222712,
          -1.2555691835489833,
          -1.7660481136035595,
          0.2720169709033767,
          -2.240439679151271,
          -1.370128303429629,
          2.5344856555146342,
          -0.33331002892259437,
          -1.3755264263822002,
          -1.1538496858782756,
          -0.9312247802609649,
          -1.4147623040690906,
          0.5058605150451595,
          -0.07094834052339295,
          -1.2600340831034031,
          -1.9121069402864819,
          0.15201046636425278,
          -0.45300686692973846,
          -0.09394565686756932,
          -0.9356896798153841,
          -2.328263626253219,
          -1.4596025381763051,
          -1.6657726701098283,
          -1.6526334134307308,
          -0.21470840210685807,
          -2.1702984007585115,
          0.32464253122211506,
          -2.044987280647219,
          -2.3175508556656585,
          -0.7417648108058927,
          -1.4361435995697136,
          0.24927509654336136,
          -0.06423388438592546,
          -0.43813384728832894,
          -0.6158151389236964,
          -1.8462144022965654,
          -0.7120530383242489,
          0.3961001959892683,
          1.0432964789116206,
          -1.1640416468136894,
          0.717001414470014,
          -0.473116021730464,
          1.834271356274181,
          -1.251182796470236,
          -1.074645924542685,
          -0.00930950577823204,
          -1.7010937618537076,
          0.005185366918345861,
          -1.2153508739475325,
          0.3603909784272352,
          -1.9753568330332842,
          0.4881878252092932,
          0.024312089804510315,
          2.2415524676798984,
          -1.6374999889632489,
          -0.2828505498693203,
          -0.9321580036591173,
          -0.06092766040435541,
          -1.8833234283610785,
          -1.7952490553063791,
          -1.8446475899694208,
          -0.7904413183804457,
          -0.5838980023440031,
          -0.7136690591678025,
          0.46496437084021885,
          -1.3027032199137425,
          1.5640408131563739,
          0.3792622593292386,
          -0.253011056395596,
          -0.6485084739501984,
          -0.3991141287530148,
          -1.1160578623683617,
          -0.6899154489339632,
          -2.119121857458661,
          -0.6917818957302677,
          -0.29351907478238326,
          -1.1676617611294522,
          1.1015406515157153,
          -0.9472571613254243,
          -0.7977550966457309,
          0.20973451516640315,
          -1.8142972657168726,
          -1.6307462499931957,
          -0.21042043206092806,
          -0.6319652621069146,
          -0.8997300363005998,
          -1.7165710664648468,
          -0.4882986547143552,
          1.8297229814021783,
          0.246038038824844,
          -0.30814663131295356,
          -1.3291879667396893,
          -2.4038865029161336,
          -0.7026616169529948,
          -1.1541443575055235,
          -1.8446426271275087,
          -1.4491501724148181,
          -1.1657461058167389,
          0.07511048615952902,
          -0.706193293109262,
          0.14861152723147622,
          0.0719226901469186,
          1.0592889444827922,
          1.9758702994340942,
          -1.3990688403063758,
          1.7790523060392394,
          -0.07115953683305713,
          -0.26223552713168263,
          0.09700261243897573,
          1.6335435397782287,
          -0.906488738112564,
          -2.0385282133044154,
          0.13615501480828227,
          -0.4515677755946739,
          -2.3124081746972482,
          -2.1966554265923772,
          1.5510734699543556,
          -1.4860480021696665,
          -1.858847791038751,
          -1.2694255044746567,
          -1.019819962967809,
          -0.6763488367936258,
          -0.5015506906702988,
          -1.6722317374526328,
          0.7858655893209644,
          1.7062783080871908,
          -0.43082503186495574,
          -0.7819781575654324,
          -1.5170319153512075,
          -1.4531434708335003,
          -1.6731649608507848,
          -0.09751656266692307,
          0.07128413837601413,
          0.11136976414347312,
          -1.2527203048381177,
          -0.541813245946247,
          -1.3473864290696136,
          -2.120393998158558,
          0.2195975376733943,
          -0.1616996788118781,
          0.9924581138738158,
          -0.9471244774914319,
          -0.07936730885340781,
          0.12416514067891357,
          1.5286954866741396,
          0.03787373910293589,
          -1.9944492891182735,
          -0.14499447917533895,
          -0.6642804501885853,
          -0.16951932501407532,
          -1.7418179393920712,
          -2.370770775270303,
          0.1452517645522884,
          -0.3754732977960221,
          0.9865541761738297,
          -1.6887257407795078,
          -1.379175844657226,
          -0.45347846806547565,
          -0.5158835755736214,
          -1.9917673610425757,
          0.6617823642350726,
          -1.7257512915264361,
          2.4260024400005524,
          0.1287135155509166,
          0.2766545229745747,
          1.6465501126233333,
          -0.736072016226073,
          -2.1199716055392295,
          -1.210807461917441,
          0.12110506565838376,
          0.19451761538133705,
          0.22342388545690922,
          0.07638758970133798,
          -1.591210737837146,
          -1.7696190194029138,
          0.456545402510204,
          -1.4072373294941412,
          -1.3642193496982329,
          0.16650533906083065,
          -0.2873989247413234,
          0.717679195884005,
          -0.10057663768745302,
          0.6747497074370905,
          -2.15572005274435,
          -1.756823642867473,
          0.20595241305738496,
          -2.095657956010158,
          -1.4571859777685912,
          1.4786633630821058,
          0.839729076727923,
          -1.9557192793682954,
          -1.531826422516945,
          -1.5109167281520595,
          -1.4625006254035795,
          -2.581189647606669,
          -1.1746316592510808,
          -1.038632056480082,
          -1.4767350932740844,
          -1.5247680862358206,
          -1.8134475176363039,
          -0.4016191273202239,
          -0.3748004792239427,
          -1.3397730163351689,
          0.8670193259599415,
          -1.8619863785349517,
          1.3158743629845904,
          -0.2972177015738177,
          0.19443414006375354,
          -1.103257522991009,
          -0.00676026153652607,
          0.17568556412242048,
          -0.6559499732075642,
          -0.3269294740554615,
          -1.9104024812834322,
          -2.018335583186106,
          -1.219899248819535,
          -0.4475744771759918,
          -0.8374576126264464,
          -0.35847342653223513,
          -1.5579722520411472,
          -0.8049361910770236,
          0.461093777382207,
          -1.5733168728182938,
          0.09088246239791593,
          -1.3944369901167883,
          -0.113283576063398,
          0.37922302968615196,
          -0.3729283305460264,
          -1.7113841398219394,
          1.0333542580787565,
          -1.899866640204362,
          -1.6613028077134961,
          -0.4162466838507943,
          0.5254095773611542,
          0.4383519030221916,
          0.3544085282515779,
          -0.6164586535365129,
          -1.005619761898479,
          0.1181284659554374,
          1.0326764766647651,
          2.2103523953467814,
          1.9031355311251315,
          1.44973211922848,
          -0.9563047025530216,
          -1.3149092531946875,
          -1.0370310305412602,
          1.4626994624304976,
          -0.7976666584862352,
          0.31881705280830314,
          -1.8654738090167224,
          0.4987186502569538,
          1.3892869127075442,
          -1.5862399703458143,
          -0.6910598686417797,
          0.17167800983870532,
          1.0508699761527773,
          -1.8550214432552352,
          0.9469351355106981,
          2.0511592748266745,
          -0.2587038509754156,
          0.13636621111794653,
          -1.0412404881115187,
          -0.2849774014916979,
          -0.579855495408912,
          -1.0235971022349155,
          -0.9862818427026502,
          0.15362648720780644,
          -0.8106139907521112,
          -0.5031716743557645,
          2.266770089837358,
          -0.38525284498542967,
          -0.25386080447616466,
          -1.1430042314567235,
          -0.14997020950858234,
          -1.1894654492494032
         ],
         "xaxis": "x",
         "y": [
          1.565088012871338,
          0.5452683509726631,
          -1.273240823915267,
          -0.0011704112633540748,
          1.2064198051080457,
          -1.7449936983748846,
          -0.876049272654908,
          0.7401480188995775,
          0.739963929986156,
          0.8304281066944582,
          -1.6325882091049002,
          -0.9270736547813823,
          1.0826165751591246,
          -0.9735365695371104,
          1.4369724447059506,
          1.1923676370123149,
          -0.06174777640338263,
          0.9081361878711415,
          -0.14400505761159918,
          0.7962853114503582,
          -1.4796190861065381,
          -0.3583052728041145,
          -0.2557582502426046,
          0.8850856496110578,
          0.8449726053508193,
          -1.2564155915735322,
          0.5566720193995293,
          -1.6624186661325342,
          -0.5481633745052182,
          -1.2882776531322584,
          -1.322539085205569,
          0.8703602318369164,
          -0.8934291178458433,
          -0.9173128718626858,
          0.20650392349202923,
          0.7803261034006749,
          -0.6842481526689173,
          -0.18178694139375448,
          -0.9962193418137034,
          0.8930370763655793,
          -0.037344811038547004,
          1.2392606000401036,
          -0.13568586487358714,
          0.41377192096707244,
          -1.3253744317401428,
          -0.21003679520178786,
          -0.6387016889979508,
          -0.989501705334724,
          -1.1359194975237377,
          -0.09180323975022275,
          -0.026682602326591316,
          0.4593183846380391,
          0.281569432747779,
          0.5037556226106042,
          -1.3893981108045863,
          -1.7997135235800545,
          1.0946312109758325,
          -0.3959566642611994,
          0.3023479230227077,
          -1.0088508727681818,
          0.6985548131618055,
          -1.455029273875992,
          -0.6654567678803017,
          0.13378735795815302,
          -1.817953465315111,
          -0.21927836677249135,
          -0.6479582858601562,
          -0.9539442006973016,
          1.6775557844298923,
          -1.267321001691838,
          1.125259482259017,
          -0.824215220777022,
          -0.43761491023983023,
          -1.004906300535206,
          -0.3407385807474687,
          -0.23357373627457217,
          0.28046020704937746,
          -0.41318782203992077,
          -0.6665659935787033,
          -0.013558740811482239,
          1.5226319526371563,
          1.1679023893589093,
          -1.1059081213783235,
          -1.184490912547277,
          -0.5942644510253857,
          1.478755255261722,
          -0.4183930653358006,
          1.080211276896611,
          -1.283653903472942,
          0.16330640354293618,
          -0.7309038420382854,
          0.5939556448731236,
          -0.8355801529206661,
          0.6957107809270124,
          -1.2856232257154647,
          0.5931847114049349,
          0.8946386326246117,
          -1.2949330073226684,
          -0.25237421860675974,
          -0.8850476428192612,
          -0.7786687571060553,
          -0.30407185041164514,
          -0.1905007809026194,
          -0.3828891572867303,
          -1.4203941480712614,
          -0.8743231518187354,
          -0.009981934561996942,
          -0.34770534638072903,
          0.16145571812962348,
          -1.465320546808815,
          0.12553044750871098,
          1.1638955348373634,
          -0.8804861754485145,
          -0.26814657979073275,
          -0.8985451980657913,
          -0.17337006486596426,
          -1.665684060939169,
          0.42282347587642366,
          -0.9076622050593541,
          -0.20756921465070421,
          0.14126147944354606,
          -1.511421623328983,
          0.003079644664542058,
          0.02914644857698015,
          -0.5070538136278583,
          -0.6630573973657183,
          -0.7934295763814045,
          -0.4198672990654044,
          -1.2496979550945522,
          -1.775372840503789,
          -1.2042432474654334,
          -1.0371361280774234,
          -0.34203465331158067,
          -1.7178176687640447,
          -1.0556161014231882,
          1.0783605914832983,
          1.3937126424682873,
          -0.909818374167587,
          -0.9475320479132423,
          0.5284490463788579,
          -0.39133291460188263,
          -0.9614596514318327,
          -0.9941818095346805,
          -1.8641108963759185,
          -0.6387016889979508,
          -1.0349799589691904,
          0.2793509813509758,
          0.9083171069889217,
          0.8290224948447075,
          1.1535447375682584,
          0.7556176543409188,
          -0.8979283029280201,
          -0.5754285671919901,
          0.8932239232312896,
          -1.5154197921503105,
          -0.8821500139961169,
          1.5340919756046627,
          -1.0195694360207774,
          -0.5591579476994565,
          -0.08667530403441488,
          1.6527168430450658,
          1.0530975295743417,
          -0.0767846056203746,
          -0.26568492698757923,
          -0.7800807085470891,
          -0.5226157819407731,
          1.0578399160628689,
          -0.26679415268598083,
          -0.5228589833471234,
          1.5162288973966687,
          -0.5273581684293002,
          1.1470794000392013,
          -1.147809568763305,
          -1.7513999234110138,
          -1.2333650533134488,
          -1.3246952543138018,
          -0.5970375152713897,
          -1.4341408324720717,
          0.5020085487349992,
          0.4667624555404278,
          -1.418549390405879,
          0.7462515181930749,
          0.5413297064876168,
          1.0840312845524467,
          0.1090729811504669,
          -0.7535215740740203,
          -0.774231854312449,
          0.969330448148941,
          -0.9271359370699528,
          1.0397868211935224,
          0.9385153300000459,
          -0.541721747967881,
          0.6759966054623524,
          1.0796566640474106,
          0.18514410456691022,
          0.1064867637701732,
          0.029208730865550214,
          -1.1043065651192918,
          0.7089056104309107,
          -0.7556476925992491,
          -0.7995544405576877,
          1.2529450021523434,
          1.1679023893589093,
          1.2063575228194752,
          1.4531807819099147,
          0.4058173244169088,
          -0.9708880698682466,
          0.4833385587278821,
          0.0859660883497432,
          0.4029819778823347,
          0.06433618723091158,
          0.9015431159693019,
          1.1788700817657853,
          -0.9623879580124539,
          0.7386678574220442,
          -1.2792170006793353,
          -0.9649118931041778,
          0.7255439959069347,
          -1.4061610608577506,
          1.1336409572855992,
          1.149905649030203,
          -1.50827210739927,
          -0.5524403112204767,
          1.4321054936402837,
          -0.935410465776812,
          -0.7363285757487954,
          -1.296727173208968,
          -0.6919595478127305,
          -1.7509075928503834,
          0.835108210894415,
          -0.5246650047292837,
          -0.3650820217760227,
          -0.6743928557560848,
          -1.8281233434664363,
          1.6062125990402003,
          0.30857322894105677,
          0.07413237165081586,
          0.3925066160360895,
          0.7349724143433486,
          0.421651967889452,
          -0.894600625832815,
          -0.6844381693302696,
          -1.422861728622345,
          -1.824857948659801,
          -0.9817934799865523,
          1.2838164748418788,
          0.043877794099051695,
          0.13483430136798458,
          -1.259064091242396,
          0.6936819343482084,
          -1.5058754948369746,
          0.4449457075558859,
          -0.3287502488883971,
          0.3265612835695449,
          -0.5777093008773635,
          -0.5405502399809095,
          -0.2995163107888286,
          0.20095779500002114,
          0.5530329308614739,
          1.1706754536049133,
          0.7178416983066938,
          1.1809076140448085,
          0.3361793068239571,
          -0.27948796592902947,
          -1.6357349670823247,
          1.1802284366184674,
          -0.9005768025968836,
          -0.35232316829211563,
          -1.526019718573696,
          0.3237882193235408,
          -0.4159608862859249,
          -1.0967256623005484,
          1.8809414919605303,
          -1.1428180531204977,
          0.32545205787114323,
          -1.1428267388207158,
          -1.2508071807929542,
          -0.733122293435089,
          1.645263674599105,
          1.2799964671860433,
          -0.353189192584167,
          0.9639980473100052,
          0.16989947544477582,
          0.8360365174750362,
          -1.7600305275918766,
          -1.778332751615503,
          -0.31225738102894524,
          -1.3635804360464285,
          -0.9883806241404619,
          1.3100078433314568,
          1.0406469177376436,
          0.5358399325362487,
          -1.6565611261976754,
          -0.25970282247558035,
          -0.27398909443408936,
          -1.725333119498576,
          -1.5975230350281089,
          -1.0111788634506231,
          1.4996436966656423,
          1.2931826109897226,
          -0.967005779923841,
          -0.5727741397751963,
          -0.737375519158627,
          -1.2730539770495561,
          -1.2546271884487896,
          1.1043060006142387,
          0.1512858399782986,
          -0.4240550727047304,
          0.5572266322487301,
          1.2480721233387462,
          -1.4202755112420513,
          -0.3368562908030631,
          0.7912937958075511,
          0.4323764588899776,
          -0.3754150358013373,
          0.7201847142806371,
          1.5144996067648542,
          0.23546835622761156,
          -1.2799584603942467,
          -0.5174374194322555,
          -0.5320442003771869,
          -1.307745457394927,
          -0.7303492291890847,
          0.22736289114267194,
          -0.01201353909308986,
          -0.9540687652744417,
          -0.9355174120965348,
          1.0587595369432719,
          1.2206528923215565,
          -0.2531720328623109,
          0.23124518108707745,
          -0.5492726002036199,
          -0.20855980351989578,
          0.7991829402735025,
          -1.616074388206016,
          -1.0017654703057117,
          -0.8887430858979564,
          -1.5339711453282177,
          -0.5119771192341652,
          -0.9623047226844517,
          -1.122671071431488,
          -1.1786869692007698,
          -0.37204602945699455,
          0.4843232198491435,
          0.3583074662513495,
          0.01984259471770654,
          0.9330314837966079,
          -0.6782128634119203,
          0.577068130242819,
          0.5922295240369511,
          -0.9153022203710253,
          0.08195923382819728,
          -0.8705980700003895,
          -1.154714052107995,
          1.474748400740176,
          -0.1473327347068041,
          1.5223828234828753,
          0.4355795714080423,
          -0.3050624392808367,
          1.465076780897412,
          1.5656426257205391,
          -1.5250973397410046,
          -1.3504506467833892,
          -0.5609463508241991,
          0.2164869547776439,
          -0.630703005246361,
          -0.08425238751448398,
          1.0855142039822687,
          1.5218904929222448,
          0.32589079184342196,
          -1.0453307562382952,
          1.2838787571304486,
          -0.13318881056922563,
          -0.9116690595808999,
          0.00628868493053684,
          -0.943157427408206,
          0.388131995531053,
          0.09294195152657529,
          1.0245631451108201,
          -0.5498272130528207,
          0.8947631972017521,
          1.2703189195953488,
          -0.9789640611999084,
          -1.7706868085559022,
          0.5492752054942085,
          -0.6448024303391597,
          -0.8765416032155386,
          -1.2418088106286007,
          0.8771401506044663,
          -1.4057932948742602,
          -1.2832802097415208,
          -1.8502455751458982,
          0.028903247170629823,
          -0.6441382782043208,
          -1.2836893049741496,
          0.8341858320617236,
          -0.32736559007807925,
          -1.1241152545780877,
          0.9078870587168612,
          -0.8739848595885225,
          -0.5772110425688028,
          0.3419122821816756,
          0.4644817218550546,
          0.963443434460804,
          -0.63814707614875,
          1.2416658983026172,
          -0.6680489130085256,
          -1.3592680978299625,
          1.4906512542492192,
          -0.20621678754595227,
          -1.8800701044256019,
          -0.7273302055844422,
          -1.3292357686451162,
          -1.1874684419164088,
          1.01654075036751,
          -0.40619158265338284,
          -0.9113635758859793,
          -0.3050001569922665,
          -0.27121603018808527,
          -1.2729916947609863,
          1.1907037984647129,
          -6.118556495249554e-05,
          1.4273544214515388,
          0.6979379180240345,
          0.7998621176998435,
          0.039290022770669134,
          0.17464186193330275,
          0.422331145315793,
          1.1926108384186653,
          -1.3910619493521887,
          1.1712923487426843,
          1.1020875492174353,
          0.9687758352997404,
          1.1838615974085924,
          1.1148464027013418,
          -1.6400473052987912,
          -1.70752322603558,
          -0.5499163761287532,
          -1.397904150408309,
          0.6788319519969266,
          -1.8386609876012512,
          0.7638122825017908,
          -0.7315802615123383,
          -0.9310182270143583,
          -0.4178297667863814,
          -0.8358620906102393,
          -0.03617330305157523,
          1.4401814849719456,
          -1.3637613551642087,
          0.41284044459080904,
          1.4245813572055346,
          -0.1736191940202448,
          -0.5897862189826414,
          -1.3568005172788788,
          -1.8858030797833198,
          -0.9874641730557009,
          0.6929377166810086,
          -1.2878533676217552,
          -1.7963235641962796,
          0.0035128627322444225,
          -0.5856547998839552,
          -0.504835362231055,
          -1.4258779942746995,
          -1.7812244526907173,
          -1.287043862856717,
          -0.7416878573750932,
          -0.908403664774265,
          -1.0530330538385366,
          -0.45672956196715664,
          -0.019285788421270527,
          -1.1277157718192938,
          -0.535496442049532,
          -0.41318782203992077,
          -0.7276356892793626,
          -0.9456250079592896,
          -1.761750720680119,
          -1.1736804282664606,
          -1.5092567685205314,
          -1.5090135671141807,
          0.7399016476975857,
          0.5041706455911625,
          1.270505766461059,
          -1.7477044803323187,
          0.3265612835695449,
          -1.4342594693012818,
          -0.18400539279055772,
          -1.5997414864249124,
          0.18863174774046318,
          0.8920524152443181,
          0.5392921742085938,
          1.2056160631045643,
          1.249181349037148,
          0.710631731267083,
          0.5078038063812877,
          -0.9427273791361455,
          1.2035221762849013,
          0.09238733867737453,
          0.09348153908427412,
          1.25072655075554,
          -1.6414056601514733,
          0.7415032039566182,
          1.5239280252012677,
          0.18332882065480532,
          -1.7251462726328655,
          -0.2670996363809013,
          0.37444759341881295,
          1.2758650480873572,
          -0.5053899750802557,
          -1.6306811691509477,
          0.5503844311926099,
          -1.824857948659801,
          1.423356252630211,
          -0.24097055017989305,
          0.4472264412412593,
          -1.889809934304866,
          0.036480980193730854,
          0.07943529873647366,
          -0.1461317529665545,
          0.12287602009191702,
          1.01654075036751,
          -0.9023652057216264,
          1.6073218247386023,
          -0.09180323975022275,
          -1.8228826986693483,
          -0.13679509057198871,
          0.21710384991541468,
          -0.5704370515491832,
          -0.5203350482553999,
          -0.9250774517514974,
          0.11104823114091984,
          1.4700060142516496,
          -1.2630086634753717,
          0.16022192785408165,
          0.3017933101735069,
          -0.05046867255365605,
          -1.3308996071927188,
          1.1646992768408446,
          1.1066458467925395,
          0.43736797453278503,
          0.8362797188813865,
          -1.3725788062107818,
          -1.7113432336914154,
          -0.7423670348014343,
          -0.36286357037921946,
          -0.14566889615920162,
          1.2933694578554327,
          -1.7497360848634116,
          -1.0919182355711632,
          -0.33248167029802667,
          -1.113055806129364,
          0.5844649441481398,
          -0.5276695798721505,
          -0.8996544237641925,
          0.4373056922442148,
          -0.2318535431863298,
          0.8026351819458475,
          -1.1696885990364168,
          -1.257032486711303,
          -0.9203560183024029,
          -1.4619928697136109,
          -1.7782704693269331,
          -0.1775637662532205,
          -1.2749669447514393,
          -0.4791185410583169,
          -0.5275450152950102,
          1.466983820851365,
          -0.920418300590973,
          1.2628034688608178,
          -1.6708564956997565,
          0.004992612366424884,
          0.6778472908756653,
          -1.2618994377769697,
          -0.9464228222148406,
          0.8279132691463058,
          0.009367232871461295,
          -1.0667115282028465,
          -1.3454027765999421,
          0.5271529738147461,
          0.7261608910447058,
          0.37155313439131066,
          0.37962595592733067,
          -1.1192510614647089,
          -1.2744123319022385,
          -0.6527805728946706,
          -0.5487179873544192,
          -0.24084598560275283,
          0.33365537173223353,
          1.5772331410131157,
          -1.273240823915267,
          -1.6390626441775298,
          -0.8754946598057072,
          -0.8955230046655064,
          -1.1093603630506685,
          1.13432013471194,
          -0.8197783179834155,
          1.1764084289626315,
          0.04473789064317293,
          -1.2614071072163393,
          -0.9461796208084904,
          -1.1417175131223145,
          0.5861910649843124,
          1.5184473487934718,
          -0.045477156910848755,
          0.7590076137246937,
          -1.2586963252589054,
          0.3324215814566916,
          1.1640200994145036,
          -0.485219282399526,
          1.559556909670832,
          -0.7790337651372577,
          0.41376875117143047,
          1.534341104758943,
          0.7802015388235347,
          1.3954387633044603,
          0.8299980584223974,
          -0.9811024470643513,
          -0.71223109407888,
          -1.8487063011754359,
          1.1184795634914673,
          0.17261025740220975,
          0.5380583839330519,
          -1.8282479080435758,
          1.5628845867660366,
          -1.5150520261668199,
          1.2848280167505028,
          -0.5663056324504969,
          -1.6327750559706105,
          -1.799408039885134,
          -0.15611478425216915,
          -1.266585469724857,
          0.8806487468174514,
          -0.9426028145590052,
          -0.7609124602314112,
          0.3418499998931053,
          -1.0535876666877373,
          0.5291845783458391,
          -0.26790337838438233,
          -0.20110070732600474,
          1.5328018307884808,
          0.12553044750871098,
          -0.8192237051342149,
          0.7771852731711804,
          -0.5168828065830547,
          -1.8286156740270667,
          -1.674495584237812,
          -0.8292067364198293,
          -0.7949660923995787,
          0.00030658041853802426,
          -0.6864666040657206,
          1.1079419193566515,
          -1.859057098444541,
          1.665722067730965,
          -1.1861547510948793,
          -0.8219967693802189,
          -0.7902474169027722,
          1.6476066905730489,
          0.46953551978643193,
          -1.2778022912860132,
          0.4587637717888382,
          -0.7917657378338022,
          -0.8712117953425186,
          -0.5937098381761847,
          -1.7730921068184153,
          0.43182184604077684,
          -0.6607143813917749,
          0.5531843762259764,
          -1.3852726194538303,
          -0.08702545176048804,
          -0.38695829409684623,
          -0.7936433040344775,
          0.9190061964882394,
          0.39453822056718235,
          0.12682059232489284,
          -1.5200907988066956,
          0.46098222318564147,
          1.4881836736981355,
          -0.6970042482005359,
          -0.8111771875558306,
          -0.9342836218209929,
          -0.5113366780910465,
          0.8483625647345941,
          -0.5732101157951868,
          -0.2259960032514711,
          -1.4107225282284972,
          1.5941147278954904,
          -0.8798069980221734,
          -0.5575326804487037,
          0.15812804103441858,
          -0.3681277611816546,
          -1.33708358386193,
          -0.18834461179438622,
          0.08220836298247772,
          0.20539469779362768,
          -1.0582736986356245
         ],
         "yaxis": "y"
        },
        {
         "hovertemplate": "is_safe=0<br>PC1=%{x}<br>PC2=%{y}<extra></extra>",
         "legendgroup": "0",
         "marker": {
          "color": "#EF553B",
          "opacity": 1,
          "size": 3,
          "symbol": "circle"
         },
         "mode": "markers",
         "name": "0",
         "showlegend": true,
         "type": "scattergl",
         "x": [
          0.9313351259388889,
          0.6435888647470605,
          1.0333542580787565,
          1.719727231298268,
          1.1931467007266814,
          0.734517132544035,
          1.0729340690988014,
          -1.1866558001816243,
          1.3656710555286056,
          -1.4437520494622464,
          0.1258696528714609,
          0.8001884953509648,
          0.011560958943566733,
          0.9320129073528802,
          -1.9095184664016889,
          1.1067668078017099,
          0.9144971892788591,
          0.013727040209031085,
          -1.5155436154997346,
          1.5203942604628828,
          0.8546905345288281,
          0.3107227459150003,
          1.1788237946966809,
          1.0379026329507595,
          0.7813172144489614,
          0.3058497096062851,
          0.48315787032823104,
          1.6315494251793419,
          0.31813927139431175,
          1.7783745246252487,
          -0.34793758545316467,
          -0.015729290288451676,
          0.32791380255230923,
          0.8033813073949853,
          0.83518070185592,
          -1.6812300169743224,
          0.734517132544035,
          0.13951477748747007,
          1.7888268371972376,
          -0.29271853521822333,
          1.405525474050258,
          1.4640157956153936,
          1.5549440634123675,
          0.07120066305843051,
          0.8547297641719149,
          0.18125639278126893,
          0.7995107139369735,
          0.4787771851310946,
          0.5752847823808408,
          0.062231634306504906,
          -0.07626298815838105,
          0.34542952062633014,
          -0.09512429018706245,
          0.13157738916651443,
          1.4301830569124845,
          1.0130881315161855,
          -0.44136087294402626,
          0.6013371577141371,
          0.734517132544035,
          1.1099596198457304,
          1.4028928076804663,
          0.5844992210541076,
          -1.784408563726739,
          1.2256238766016072,
          0.07587675892251407,
          1.1742754198246779,
          0.2989632868022403,
          1.4990472317634351,
          1.971999705976082,
          1.124960307289722,
          -0.04604038489791324,
          1.9531284250740784,
          1.8933609999671346,
          1.157437483164648,
          1.979740892892106,
          0.959941708355803,
          -0.26729473278250965,
          1.7277038492623105,
          -0.2861267840414265,
          0.8274395149398965,
          1.4360869946124706,
          -0.08004509026739916,
          0.8858121475757715,
          0.6390404898750573,
          0.4653282619200176,
          0.5163128276171483,
          -0.8985021412751996,
          1.2483657509616228,
          1.350788057013874,
          0.8729232636599272,
          1.6315494251793419,
          -1.2914453517461841,
          0.19995998400840578,
          1.3815457257915205,
          -0.8749939941521993,
          1.577685937772383,
          0.7313243205000142,
          -0.834692209233164,
          -0.09147988794344696,
          -0.06495591147441357,
          0.10907596188592807,
          0.24927509654336136,
          1.3704156318055405,
          0.2801312355433236,
          0.6702013325650876,
          0.21292732721042362,
          1.842690324604196,
          0.3967779774032596,
          0.8638265139159209,
          0.13781026529492274,
          -0.21322506509729686,
          0.30972030306429704,
          0.9054004395348529,
          1.1619858580366513,
          0.2688241588593561,
          1.6458723312093422,
          1.124960307289722,
          -0.17802599246388648,
          0.9267475214237992,
          0.8725701436826476,
          0.7767688395769584,
          -0.10895136034297107,
          -0.14610463208198066,
          1.1742754198246779,
          -0.06423388438592546,
          -0.5631995042887816,
          0.44912887703089216,
          0.12132127799945781,
          -0.17101258770746033,
          0.0667800091785079,
          -0.34793758545316467,
          -0.6402514934134387,
          0.18172725487730673,
          -1.2962049229278512,
          -0.39507088277822416,
          0.22202407695442994,
          0.27852023073118,
          0.15315990210347935,
          -0.6541712787205539,
          -0.01343548803090674,
          0.9176900013228796,
          0.9820058013018268,
          0.8001884953509648,
          -0.1572005124562838,
          0.21360510862441495,
          -1.1871766098337704,
          0.4642865894262275,
          -0.14436089024634643,
          0.5331507642771779,
          1.396350265020078,
          1.2294944700596189,
          0.03646891456904639,
          -0.0006401114954662136,
          -1.8320191640691472,
          1.8335935748601901,
          0.12460326724267343,
          -0.20500235136171244,
          -0.44359047178043054,
          1.2027643133123316,
          0.9144971892788591,
          1.0326764766647651,
          1.2522363444196345,
          1.8160778567861688,
          0.9274645324808772,
          -0.047528684749386305,
          1.32150363999347,
          -0.007310321958436871,
          -0.3655902643528891,
          1.6451945497953506,
          1.170404826366666,
          1.1885198665685048,
          -0.24502445955823157,
          0.5897253773401017,
          -0.09671106026085143,
          -0.03774913755997882,
          0.3142686779363001,
          0.07132838405051097,
          0.030393010202483407,
          0.4688349642982306,
          0.9144971892788591,
          1.1379276504917402,
          0.46496437084021885,
          -1.9022046881364036,
          0.40200413368925403,
          -0.12548960934434297,
          -1.0250411564118915,
          0.8809105995369909,
          0.9774574264298236,
          0.5493108663337183,
          0.999521519375848,
          0.33701055229631544,
          0.5981443456701167,
          0.011560958943566733,
          1.2476879695476315,
          0.08557283079433793,
          0.40200413368925403,
          0.5124030045160497,
          0.1044833413394282,
          0.9606194897697943,
          1.5140479192074272,
          1.1924689193126903,
          -0.0436580912913746,
          -1.0476995554543231,
          0.708582446139999,
          1.0242575083347503,
          1.3022292383685812,
          0.1310958091574553,
          0.03192053969704333,
          -0.04825071183787439,
          1.5133701377934357,
          0.0667800091785079,
          1.7186070995183045,
          0.12722521569944342,
          0.13487791126647333,
          1.270429843907647,
          0.9601093980306696,
          1.2256238766016072,
          -0.27231470879025,
          1.5308858558674563,
          -0.06950428634641669,
          1.5542662819983766,
          0.8725701436826476,
          -0.3388408357091584,
          0.4051969457332746,
          -0.1859790615397754,
          1.462021681016506,
          1.0463216012807743,
          0.24995287795735263,
          1.036547070122777,
          0.7728982461189464,
          -2.146834499310008,
          1.8297229814021783,
          1.378156765532066,
          -0.0020841656724424613,
          -0.22534266021874616,
          0.14019255890146148,
          0.611789470286126,
          0.9358835008108917,
          -0.28817016034622034,
          0.43380352815018863,
          -0.18525703445128708,
          0.0675862506242791,
          0.19995998400840578,
          -0.25412120930223775,
          0.46951274571222185,
          0.18393256578585782,
          0.9267867510668855,
          -0.008887113158903672,
          1.0266155672029345,
          1.265763726916885,
          -1.3020304013416633,
          1.2294944700596189,
          -0.3138886344091819,
          0.6682856240628761,
          0.12416514067891357,
          0.31813927139431175,
          0.735323373989806,
          -0.07248088604936294,
          0.24540450308534956,
          1.2195237374966894,
          -1.1866558001816243,
          1.1892761072686695,
          0.19995998400840578,
          0.5708540964380981,
          -0.012713460942418578,
          0.9176900013228796,
          1.3074553946545757,
          1.7231554743903073,
          0.1923072884413759,
          1.6828586523131843,
          0.7767688395769584,
          0.6344921150030544,
          -0.11107821196534871,
          1.4581510875584942,
          -0.04520990871378745,
          1.6790272884982598,
          1.7640516185952482,
          1.2438173760896194,
          0.406552508561257,
          -0.08459346513940219,
          1.5179185126654386,
          -1.0257039429211512,
          0.5669835029800864,
          0.21747570208242664,
          0.22414591254539737,
          -0.10797389127032192,
          1.723833255804298,
          0.4831186406851443,
          1.4867576699754081,
          0.5844992210541076,
          1.2347206263456132,
          0.7117752581840195,
          2.424047555044752,
          1.9076839059971349,
          -0.5215513963753873,
          0.3967779774032596,
          1.5126923563794439,
          0.9962894776887405,
          -0.20561661520476388,
          0.16722736614931885,
          1.3801901629635382,
          -1.3553337962638912,
          0.07651531069341859,
          1.190799412961017,
          0.7851878079069732,
          0.9001742832488585,
          1.111315182673713,
          0.010794686180581615,
          0.5752847823808408,
          0.23698553475533476,
          0.0675862506242791,
          -0.20204570940540995,
          -0.14436089024634643,
          0.47406112058422484,
          -1.5765881441484875,
          1.774503931167237,
          0.5247317959471631,
          1.769955556295234,
          0.5929181893841222,
          -0.1610268602397987,
          -1.5993200396351808,
          0.28246928347536543,
          1.7517620568072216,
          0.45518983968222143,
          1.7563104316792248,
          0.8124780571389916,
          0.44287176616412954,
          0.27265552267428117,
          0.3051326985492071,
          -1.8075385639049082,
          0.22491218530838222,
          0.01610933381556976,
          -0.5130931984022856,
          0.05313488456249871,
          0.6792980823090938,
          0.9320129073528802,
          0.6344921150030544,
          1.0326764766647651,
          2.3136094545748698,
          -1.246811351106722,
          0.7390655074160379,
          0.7494785903449399,
          1.4997250131774265,
          -0.16701928928877807,
          -1.1614924025719837,
          -0.14436089024634643,
          1.5088217629214327,
          0.5785952833541218,
          1.2899396765805544,
          1.0690634756407897,
          0.3324621774243123,
          1.1327014942057456,
          -0.44625312795968597,
          1.5867826875163893,
          0.5806286275960956,
          0.5838214396401162,
          1.1931467007266814,
          0.14928930864546752,
          0.9222383761948822,
          0.31881705280830314,
          0.611789470286126,
          0.5065382964591507,
          0.07808708586247527,
          0.5331507642771779,
          0.2619677258647754,
          1.32150363999347,
          1.2567847192916377,
          0.38768122765925345,
          0.7841176236831173,
          0.21360510862441495,
          0.3240432090942974,
          0.5756486202711413,
          0.2868999694181081,
          1.3769581212764306,
          0.5883698145121191,
          1.619259863391315,
          0.07065060263651973,
          2.3610873178937872,
          1.036547070122777,
          1.3899646941215351,
          1.0922869300098643,
          -0.23894353916025846,
          0.5981443456701167,
          0.8547297641719149,
          0.06610222776451666,
          1.4282673484102733,
          1.1327014942057456,
          -0.09216268538884836,
          -0.12548960934434297,
          0.18108870310640218,
          0.34997789549833325,
          1.3074553946545757,
          -0.14512716300933148,
          1.8894904065091225,
          2.350635005321798,
          -0.23587776225811719,
          -0.18138644099327536,
          0.7767688395769584,
          -1.2237305594449621,
          0.7222275707560082,
          1.719284880932296,
          0.26427578398735296,
          -0.1466154628608046,
          -0.3277007096603585,
          -1.7263898432973408,
          1.2697520624936556,
          1.2983586449105697,
          -1.1098050284933092,
          0.5785952833541218,
          1.590653280974401,
          1.1281531193337428,
          1.3854163192495323,
          1.1099596198457304,
          0.7995107139369735,
          1.0515477575667687,
          -0.08459346513940219,
          1.596478759388213,
          -0.3124003345577088,
          0.01543155240157856,
          2.0908567747759794,
          1.170404826366666,
          0.667008520521067,
          1.487278532817053,
          0.78063943303497,
          1.0229019455067678,
          -1.7727576068991147,
          0.1204665138874792,
          1.0547405696107892,
          0.1620404395064112,
          -0.20582781151442808,
          -0.26632154070157105,
          0.5701763150241069,
          1.619259863391315,
          1.9031355311251315,
          0.29904676211982395,
          0.8495036078859206,
          1.9031355311251315,
          0.18563707797840526,
          1.1015406515157153,
          0.18125639278126893,
          -0.12460490861239844,
          0.27832402932624783,
          1.792019649241258,
          0.20833972269533385,
          0.7578583290318677,
          0.7708649018769727,
          1.3256488941425877,
          1.8803936567651165,
          1.1145079947177334,
          1.4340143675379116,
          0.0849735086665202,
          0.26359800257336186,
          1.1931467007266814,
          0.7995107139369735,
          0.5292801708191661,
          0.25227165399295154,
          1.2620108755776316,
          0.41361591406328946,
          0.9138194078648678,
          1.8206262316581716,
          0.7908170849158531,
          -1.5569898201265862,
          1.7888268371972376,
          0.5988221270841078,
          1.2476879695476315,
          0.21360510862441495,
          1.1015406515157153,
          1.0638373193547954,
          0.8488258264719292,
          1.179501576110672,
          -0.284471533554786,
          -0.9392455907100059,
          -0.1574066927345378,
          0.007690365485554941,
          0.6520078330770753,
          -0.24214559103790176,
          -0.05449858287101481,
          1.719284880932296,
          1.4412739212553778,
          1.884942031637119,
          -1.1871766098337704,
          1.7926974306552492,
          -0.4811368321795053,
          1.2256238766016072,
          0.29301008739634776,
          0.603370501956111,
          1.719727231298268,
          -1.242985003323207,
          1.3074161650114888,
          0.6715568953930702,
          0.8676971073739328,
          -0.8030690052410197,
          0.23698553475533476,
          1.1963395127707022,
          0.37209193600046575,
          0.2733725337313592,
          0.8586003576299266,
          2.0342821617130555,
          1.517240731251447,
          1.2938102700385663,
          -1.5429665485657453,
          -1.5012106774069136,
          1.925199624071156,
          0.2629202211593706,
          1.829045199988187,
          -1.5586058409701395,
          0.009178665337028042,
          -0.17001014485675722,
          -0.10270348930983082,
          0.6708791139790787,
          0.07519897750852277,
          0.37403610304324436,
          1.1742754198246779,
          0.20383057746641745,
          0.728937803091263,
          0.8533742013439322,
          0.9904247696318419,
          0.26427578398735296,
          0.6702013325650876,
          -0.11252226614232493,
          -1.5569898201265862,
          0.0849735086665202,
          1.4483765564004965,
          1.582234312644386,
          -0.017841147006097215,
          1.7783745246252487,
          1.3074553946545757,
          -0.20574433619684437,
          1.5133701377934357,
          0.5331507642771779,
          1.3081331760685666,
          -0.2828555127112323,
          0.05534521150246,
          1.8524648557621934,
          -0.056625434493392426,
          2.081720795388886,
          0.34610730204032153,
          0.2583718462873675,
          1.4392798066564905,
          0.9767796450158326,
          0.6526856144910665,
          1.458828868972486,
          1.1190563695897366,
          1.0726593552181978,
          -1.0535250338681352,
          2.040186099413042,
          0.908593251578873,
          -0.2086766902252938,
          0.9144971892788591,
          -0.20500235136171244,
          0.18631485939239656,
          0.5543408212147805,
          0.5156350462031569,
          0.0037020830982828065,
          0.9879097390018128,
          2.035637724541038,
          0.7267759456280113,
          -0.23146281025980597,
          0.21679792066843548,
          2.1914811144447777,
          1.3847385378355408,
          0.5806286275960956,
          1.0501921947387862,
          0.40451916431928325,
          1.2015656690566965,
          1.3717711946335231,
          1.944709456744064,
          0.6572339893630695,
          0.11677290312745478,
          -1.4339332726297522,
          0.38700344624526223,
          0.285662095519386,
          2.575421029362662,
          1.3074553946545757,
          1.124282525875731,
          1.767882929220675,
          -0.044507839371943254,
          0.5883698145121191,
          0.05309063888800187,
          1.5263374809954535,
          0.6520078330770753,
          -1.8851113626817109,
          0.7638014963749402,
          -0.09760003798450684,
          1.2899396765805544,
          -0.03239526028190401,
          1.7790523060392394,
          0.7995107139369735,
          0.31315926406935773,
          1.2015656690566965,
          1.4711184307605123,
          -0.14589343577231637,
          0.33313995883830355,
          1.1931467007266814,
          -0.23894353916025846,
          0.6566453851482736,
          0.0031419906135518017,
          0.061553852892513646,
          1.8381419497321934,
          0.8365362646839025,
          0.959941708355803,
          1.3977058810375589,
          0.41497147689127206,
          -1.7727576068991147,
          1.8985871562531285,
          2.4292737113307465,
          1.786793492955264,
          -0.047528684749386305,
          -1.7345533696431945,
          0.003186236288048654,
          0.3558033739121452,
          -0.3650694547007425,
          0.2415339096273377,
          -0.9952993941207833,
          -1.3367521709577255,
          0.5247317959471631,
          -0.2987552099416997,
          1.9401610818720605,
          1.458828868972486,
          2.164269324498933,
          -0.03239526028190401,
          0.47338333917023373,
          1.5510734699543556,
          -2.146834499310008,
          2.1583653867989474,
          1.031998695250774,
          1.197017294184693,
          1.619259863391315,
          -0.01194718817943371,
          -0.17283980486067804,
          0.9965748562928676,
          1.2483657509616228,
          1.2470101881336402,
          0.2362192619923497,
          -0.04520990871378745,
          1.2892618951665633,
          0.6397182712890486,
          0.6442666461610518,
          0.44222249648020356,
          0.6838464571810967,
          1.9401610818720605,
          0.3967779774032596,
          -0.1595385603883256,
          2.025185411969049,
          -0.05730321590738381,
          1.5588146568703791,
          2.1824628239869455,
          1.9213290306131436,
          -1.273114152392769,
          -0.14368310883235516,
          2.406531836970731,
          0.9449802505548978,
          0.10686563494596686,
          0.31359089652230876,
          1.4392798066564905,
          0.20901248807791498,
          1.321100519270585,
          -0.5197099233571364,
          -0.360305606527365,
          0.6702013325650876,
          -0.18249163105800512,
          0.4503275212865276,
          1.4347314317844877,
          -1.9319999359356308,
          1.3704156318055405,
          1.9394440708149827,
          0.7260981642140201,
          0.13781026529492274,
          0.5624351281080833,
          0.8488258264719292,
          1.8803936567651165,
          -0.5015991601470086,
          0.3376883337103066,
          1.120411932417719
         ],
         "xaxis": "x",
         "y": [
          1.1959535408053714,
          0.36933468299450745,
          -0.6864666040657206,
          -0.45582480139188264,
          -0.27121603018808527,
          1.1509616899836068,
          1.6089856632862045,
          -1.0411370548510392,
          1.7496437643165101,
          0.4140119525777808,
          1.0137676861215061,
          -1.5064301076861752,
          0.6040632407358785,
          0.05072316495081351,
          1.4752407313008065,
          -1.0522884243279835,
          -1.0967256623005484,
          -0.5388864014333069,
          -1.08963750188579,
          0.2274311011791723,
          0.04129474651439976,
          0.3917238270720405,
          0.872350507118871,
          -0.6859119912165197,
          -0.36341818322842023,
          -1.2339196661626493,
          0.32877973496634816,
          1.740078925807097,
          1.058204924094071,
          1.0084352852825702,
          1.6677536722620578,
          0.6007355636406736,
          -0.08591622606208643,
          0.7845852568721428,
          1.559002296821631,
          -0.3099116071027135,
          1.1509616899836068,
          1.0154315246691084,
          -1.2809162407281458,
          1.2997134006029918,
          -1.3486472183671447,
          -0.9667416254780581,
          -0.1851146184889594,
          -0.5213819916652314,
          -0.7292400034906832,
          1.188461801062562,
          -0.36119973183161697,
          0.8709595087172697,
          1.902084990266661,
          0.23546835622761156,
          0.5849572747087706,
          1.0615326011892758,
          0.6330395289673211,
          -1.5879581965186946,
          1.6945324621361297,
          -0.6469526716994627,
          -0.5754849217326301,
          1.8842691690557352,
          1.1509616899836068,
          1.2387269402303356,
          1.6912047850409246,
          -0.408410034050186,
          0.01029553945208275,
          -0.6420293660931555,
          0.23713219477521408,
          0.8717958942696701,
          -1.6137313722320732,
          1.3281560290246666,
          -1.2375882284539828,
          -1.0500699729311802,
          -0.17140074262344157,
          -0.09457630399622671,
          0.27290935481363865,
          -1.4208833088362507,
          1.0539817489535368,
          -0.32064478380345757,
          0.5616635350423366,
          1.3770301697908376,
          0.9341407094950096,
          -0.7325676805858882,
          -0.5953736767237873,
          0.9676666096013387,
          1.9609421623184469,
          0.3687800701453066,
          1.181115413949951,
          -1.1872639767932809,
          0.8489735321244352,
          -0.6392563018471517,
          1.7268364274627768,
          -0.7270215520938801,
          1.740078925807097,
          0.053611696230385884,
          -0.49728450999531604,
          -1.3725637809192799,
          1.2350105441122075,
          -0.18234155424295534,
          -1.1400536745747119,
          -1.0150138963979611,
          0.587300290682714,
          0.20736402003615043,
          -0.5146643551862514,
          1.4245813572055346,
          2.0620181209459947,
          -1.2412541977794003,
          1.5178927359442709,
          0.6496097044068451,
          0.6415042393219058,
          -0.45229265917355016,
          -0.7281307777922815,
          -1.2733031062038365,
          1.7009740886734668,
          -0.0881346774588897,
          -1.0978348879989501,
          -1.4203286959870496,
          -0.8636609431067799,
          0.5965123885001398,
          -1.0500699729311802,
          0.3741126359706149,
          1.9659336779612542,
          2.0432977041461675,
          -0.36397279607762106,
          0.2040986252295158,
          -0.18360222530585937,
          0.8717958942696701,
          -0.1736191940202448,
          1.6394061346642466,
          -1.4862594150054462,
          1.0132130732723053,
          0.9565743526173225,
          0.23602296907681247,
          1.6677536722620578,
          -0.578744388791335,
          0.2710317886129636,
          -0.6986149020031405,
          -0.40190003248997597,
          0.6507189301052466,
          -0.46671259325277137,
          1.017095363216711,
          0.6488415288909445,
          0.21574549506273275,
          1.1942897022577699,
          0.8273586562971051,
          -1.5064301076861752,
          0.9456630147510864,
          -0.4956206714477135,
          1.1864478147888862,
          1.4717916594241038,
          1.3345976555620025,
          1.1054152263126402,
          0.19131305594461934,
          0.5037556226106042,
          -0.536113337187303,
          -0.15956702592451413,
          0.3771643031241769,
          0.6403950136235042,
          1.2235388306352135,
          -1.6289995473595549,
          -1.616107031754936,
          1.666801819676089,
          -1.0967256623005484,
          0.4587637717888382,
          0.5065286868566081,
          -0.5070538136278583,
          0.05016855210161272,
          -0.1736814763088149,
          0.22417163412046742,
          1.747075165193634,
          1.4125845046326173,
          1.7417427643546985,
          -0.27398909443408936,
          1.2692988569728798,
          0.9265570487239785,
          -1.553085797055544,
          0.19719414188482562,
          0.21697928533827454,
          -0.0875800646096889,
          0.23657758192601328,
          0.23158606628320594,
          1.4723462722733047,
          -1.0967256623005484,
          0.09682424147098095,
          0.3265612835695449,
          0.7286848261364296,
          -1.5969684221789082,
          0.19158573110424743,
          -0.6487561001157072,
          0.5662133119035959,
          0.8268040434479044,
          0.37883131146742144,
          1.9748074835484668,
          -0.08480700036368481,
          -0.40674619550258356,
          0.6040632407358785,
          0.5059740740074075,
          0.6340805446292224,
          -1.5969684221789082,
          -1.5625142154919578,
          -1.2794661298336156,
          -1.4658751596580162,
          -0.9606408841368493,
          0.8740143456664736,
          0.972103512394945,
          -0.6578167525686306,
          -1.1428267388207158,
          -0.6875758297641221,
          1.2831641782029002,
          -0.13090807688385228,
          -0.5366679500365036,
          0.2073017377475803,
          0.18458949171770936,
          0.23602296907681247,
          1.3759209440924356,
          -1.2766930655876114,
          -0.51361741177642,
          0.5087471382534113,
          0.22208960279666515,
          -0.6420293660931555,
          0.9232293716287736,
          1.3320383189690717,
          0.20680940718694973,
          0.9601157573655997,
          2.0432977041461675,
          1.6688628979604594,
          0.6940469423794102,
          0.9400546039705082,
          1.698414752080535,
          0.4604276103364408,
          0.2793509813509758,
          1.604548760492598,
          -1.5097577847813803,
          -0.7960399165967724,
          -0.5053899750802557,
          0.18909460454781604,
          0.602399402188276,
          0.931056233806155,
          -0.1297988511854506,
          -0.40508235695498124,
          1.1965081536545734,
          1.3002680134521925,
          -0.8225513822294198,
          0.5590713899141125,
          0.4040617298274587,
          -0.49728450999531604,
          0.9254478230255769,
          0.32711589641874567,
          -1.6424526035613047,
          1.1953989279561716,
          0.21630010791193358,
          1.6663154168633887,
          -1.344696718386239,
          0.05022173684661094,
          0.5037556226106042,
          1.2929334818354419,
          -1.5225138803129996,
          -1.2749669447514393,
          1.058204924094071,
          1.3190004507342534,
          0.202247939816203,
          0.27879636850177497,
          1.336057028986478,
          -1.0411370548510392,
          -1.417001018891845,
          -0.49728450999531604,
          -0.4100738725977884,
          -0.16523771899366244,
          1.1942897022577699,
          0.13848841519754193,
          1.376475556941637,
          -1.2603601638065078,
          0.9967884154493531,
          -0.36397279607762106,
          0.3682254572961059,
          0.5765135173936182,
          0.5526297633767755,
          -1.2137489734819193,
          -0.919531323259489,
          2.152001822589526,
          -0.6398109146963524,
          -1.5964138093297076,
          0.9671119967521379,
          0.18514410456691022,
          0.936326517342893,
          -1.555858861301548,
          0.6501643172560458,
          -1.256477873862102,
          1.3390345583556091,
          0.23124518108707745,
          1.0993144849714314,
          -0.9639685612320541,
          -0.408410034050186,
          -0.640920140394754,
          1.1481886257376026,
          0.7753705660888017,
          -0.8706571824933176,
          -1.2508398243418732,
          -0.45229265917355016,
          1.329819867572268,
          0.45432686899523184,
          1.6998025806864943,
          -1.6423903212727349,
          0.9178969707898376,
          -0.7058248690427509,
          -0.137563431074262,
          0.9997661098048578,
          0.7823668054753393,
          0.04684087500640784,
          -1.0517338114787824,
          0.22079929299411022,
          1.902084990266661,
          -0.8675432330511855,
          0.4040617298274587,
          0.5654212604096021,
          1.3345976555620025,
          0.32767050926794644,
          0.027239408623027414,
          -0.13734970342118946,
          -0.040924375240320575,
          -0.1379043162703903,
          0.7379295675027743,
          0.5641251878454899,
          -1.0704633258221816,
          -0.8619971045591776,
          -0.14012276766719348,
          1.470682433725702,
          -0.1395681548179927,
          0.7856944825705443,
          -0.5905275137111794,
          1.052658795602063,
          0.6818454596969924,
          0.3633553364347968,
          -0.8732139261203339,
          0.6046178535850794,
          -0.875034972793996,
          0.23435913052921,
          1.5190019616426726,
          0.05072316495081351,
          0.3682254572961059,
          0.4587637717888382,
          1.5114511094069347,
          -0.31781853481245537,
          1.1515163028328077,
          -0.3673004731728259,
          0.18292565317010684,
          1.3255370031090796,
          -0.6653944855917318,
          1.3345976555620025,
          0.18403487886850847,
          1.8814961048097307,
          -1.00896041205382,
          0.46320067458244474,
          -0.08536161321288563,
          1.2415000044763393,
          0.5440404884450507,
          -0.18123232854455365,
          -1.5541950227539456,
          0.7368203418043728,
          -0.27121603018808527,
          -0.1286896254870489,
          1.194844315106971,
          -0.08702545176048804,
          -0.40508235695498124,
          -0.04314282663712381,
          -0.1415702855958078,
          1.1054152263126402,
          -0.3637681659681203,
          0.22417163412046742,
          0.507083299705809,
          -0.45340188487195193,
          1.3039576937693311,
          -0.4956206714477135,
          -1.231701214765846,
          -1.407854373158631,
          1.4501617583052724,
          -0.6025836437633978,
          0.7373749546535735,
          -0.5520456644496239,
          1.3818079577805722,
          -1.1481591396596513,
          1.604548760492598,
          -0.2262241793663194,
          -0.9910763808063935,
          1.6936395570567158,
          -0.40674619550258356,
          -0.7292400034906832,
          1.381253344931371,
          -1.3458741541211408,
          1.2415000044763393,
          0.1977487547340264,
          0.19158573110424743,
          0.6457274144624394,
          1.0620872140384767,
          0.13848841519754193,
          0.9513337078202346,
          -0.8728756338901209,
          1.1411923863510647,
          -0.3824885827679475,
          1.7048563786178725,
          -0.36397279607762106,
          1.1945860884091186,
          -1.1411629002731136,
          0.2306905682378767,
          -0.8642155559559807,
          0.9490529741348613,
          1.303844819701678,
          0.7543215817768069,
          1.6539775141079702,
          0.13737918949914035,
          -0.6695881869789876,
          1.8814961048097307,
          0.9645526601592058,
          1.240945391627139,
          -0.22677879221552025,
          1.2387269402303356,
          -0.36119973183161697,
          -0.6842481526689173,
          0.9671119967521379,
          0.21571602130945486,
          1.2952142155208155,
          1.749848229439638,
          -0.8273291702191543,
          -0.27398909443408936,
          -0.7731226286140476,
          0.9729400629337185,
          0.7818121926261384,
          1.6028849219449957,
          -1.4873777382474194,
          -0.8985451980657913,
          1.6067672118894014,
          -1.2682493082724597,
          0.9481305953021699,
          0.7171271193791449,
          0.7351565032567702,
          -0.5520456644496239,
          -0.8712117953425186,
          -1.6200189604389923,
          0.41543575951467493,
          -0.8712117953425186,
          0.6462820273116403,
          0.09238733867737453,
          1.188461801062562,
          -1.181445008155272,
          -0.7785323370330549,
          1.0100991238301729,
          1.419589841562727,
          1.549573878385217,
          1.925933342782296,
          0.1407068665943452,
          -0.8739848595885225,
          1.2392815530795362,
          -0.5536412929607262,
          0.23824142047361568,
          0.2810148198985783,
          -0.27121603018808527,
          -0.36119973183161697,
          -0.04036976239111978,
          -0.7607165158221291,
          -0.637592463299549,
          1.8403865439323708,
          0.04850471355401029,
          -0.5064992007786574,
          -0.27828957715469543,
          0.03802618191212318,
          -1.2809162407281458,
          -1.5519765713571418,
          0.5059740740074075,
          -0.4956206714477135,
          0.09238733867737453,
          1.607876437587803,
          1.5606661353692335,
          -0.27287986873568776,
          0.9238462667665447,
          0.1763294114726256,
          1.7287729411700075,
          -0.541721747967881,
          1.5156742845474678,
          1.0528634257115632,
          -0.5472055941713192,
          0.2306905682378767,
          -0.9695146897240622,
          -0.8734302467393218,
          1.1864478147888862,
          -0.13513125202438625,
          0.9817365609408596,
          -0.6420293660931555,
          -1.622854306973566,
          -1.5514219585079412,
          -0.45582480139188264,
          0.06371929209314071,
          0.9090231652026244,
          -0.7725680157648463,
          0.41765421091147814,
          1.422217553178532,
          -0.8675432330511855,
          2.019799334370233,
          0.8999357969487123,
          -0.863106330257579,
          0.4165449852130765,
          1.8311718531490295,
          1.330374480421469,
          0.13682457664993955,
          0.7787868294302126,
          0.8363597844137469,
          0.2767916447580444,
          1.426245195753137,
          0.6398404007743035,
          -0.7222141253644946,
          -0.5394410142825077,
          1.4364328571482523,
          0.9586059571484155,
          0.3726623600897124,
          1.3823625706297729,
          -0.45506572341955426,
          0.8717958942696701,
          0.6485004787084435,
          0.9014632154233142,
          1.5612207482184344,
          1.9736982578500653,
          -0.8642155559559807,
          1.5178927359442709,
          1.3384799455064087,
          0.03802618191212318,
          0.23824142047361568,
          1.6967509135329328,
          -0.18178694139375448,
          1.413002697408818,
          1.0084352852825702,
          0.13848841519754193,
          0.9418430070952508,
          0.18458949171770936,
          1.1054152263126402,
          -1.0067419606570167,
          1.6840865740431614,
          -0.1443433498418119,
          -0.5026169108342518,
          -0.17479070200721641,
          -0.057903645912473226,
          -0.08369777466528319,
          1.4256905829039361,
          1.6956416878345315,
          1.972034419302463,
          0.3704439086929091,
          -0.5926006124777832,
          1.2398361659287374,
          -1.3262580742896115,
          0.09101988628112058,
          -0.4587342857108874,
          1.1931804765593685,
          1.7015287015226674,
          -1.0967256623005484,
          -1.6289995473595549,
          -0.49894834854291836,
          -1.0776641953182202,
          -0.042033600938722174,
          0.624097513343608,
          -1.4625474825628118,
          -0.45928889856008825,
          -1.1406082874239125,
          0.9345084754785001,
          1.7953946931106046,
          0.35124618662395335,
          0.9184515836390384,
          -1.5541950227539456,
          1.6062125990402003,
          1.8392773182339688,
          0.8751235713648752,
          -0.22844263076312266,
          -1.2409159055491872,
          0.3709985215421099,
          1.0126584604231046,
          0.03413796421978745,
          0.691828490982607,
          1.4290182599991408,
          0.04428153841347636,
          0.13848841519754193,
          0.09516040292337855,
          -0.09617193250732911,
          0.5951271528600954,
          0.7373749546535735,
          -0.5298880312689538,
          1.3314837061198708,
          1.5156742845474678,
          0.37278968261914086,
          -1.5108670104797821,
          0.590752532355059,
          -1.00896041205382,
          -0.16973690407583908,
          -0.13679509057198871,
          -0.36119973183161697,
          1.2045455736893858,
          0.8751235713648752,
          1.6995239777789375,
          0.5680697600784658,
          -1.2305919890674446,
          -0.27121603018808527,
          1.6936395570567158,
          -0.5644607097987414,
          -0.5422763608170821,
          1.3806987320821704,
          0.6409496264727047,
          -0.7314584548874864,
          -0.32064478380345757,
          2.0653457980411996,
          -0.45007420777674706,
          -1.4873777382474194,
          -0.8717664081917192,
          -0.36930519691655656,
          2.154774886835531,
          -0.1736814763088149,
          1.123901127406335,
          0.22197080098108185,
          0.3132505751887254,
          -0.8150003650073081,
          -0.8669886202019847,
          0.6072455652008839,
          -1.0594392788746658,
          -0.040924375240320575,
          1.2968780540684175,
          -1.2414705183983878,
          -0.5926006124777832,
          -1.1931509904814173,
          -0.16973690407583908,
          1.4729008851225052,
          -1.3308996071927188,
          -0.7960399165967724,
          1.0967551483784994,
          1.6039941476433974,
          0.8745689585156744,
          -0.5520456644496239,
          0.2180262287481061,
          -0.555337940043621,
          -1.3145429944198943,
          -0.6392563018471517,
          1.651204449861966,
          -1.2508071807929542,
          -1.2137489734819193,
          0.1362699638007387,
          -0.7764503057092522,
          -0.7758956928600514,
          0.3237882193235408,
          1.5195565744918733,
          -1.2414705183983878,
          -0.45229265917355016,
          0.5664059215308633,
          1.8300626274506278,
          0.9704396738473429,
          0.9606703702148001,
          -1.190932539084614,
          -0.8689933439457151,
          -0.2811399489807716,
          0.1893672797074441,
          -0.37207826116256054,
          1.1976173793529752,
          -0.13596187481522964,
          1.05765031124487,
          1.6956416878345315,
          -1.2604224460950781,
          0.14015225374514448,
          0.14561514690915028,
          0.9166985820155038,
          1.5178927359442709,
          -0.18803912809946577,
          -0.6945811666942321,
          1.6950870749853302,
          0.35867523223484,
          2.0620181209459947,
          0.6742946074612536,
          0.00462208843064604,
          -1.2733031062038365,
          -1.5564134741507487,
          1.5606661353692335,
          -0.8739848595885225,
          0.7094307495268334,
          -1.2300373762182437,
          -1.0506245857803809
         ],
         "yaxis": "y"
        }
       ],
       "layout": {
        "legend": {
         "title": {
          "text": "is_safe"
         },
         "tracegroupgap": 0
        },
        "margin": {
         "t": 60
        },
        "plot_bgcolor": "white",
        "template": {
         "data": {
          "bar": [
           {
            "error_x": {
             "color": "#2a3f5f"
            },
            "error_y": {
             "color": "#2a3f5f"
            },
            "marker": {
             "line": {
              "color": "#E5ECF6",
              "width": 0.5
             },
             "pattern": {
              "fillmode": "overlay",
              "size": 10,
              "solidity": 0.2
             }
            },
            "type": "bar"
           }
          ],
          "barpolar": [
           {
            "marker": {
             "line": {
              "color": "#E5ECF6",
              "width": 0.5
             },
             "pattern": {
              "fillmode": "overlay",
              "size": 10,
              "solidity": 0.2
             }
            },
            "type": "barpolar"
           }
          ],
          "carpet": [
           {
            "aaxis": {
             "endlinecolor": "#2a3f5f",
             "gridcolor": "white",
             "linecolor": "white",
             "minorgridcolor": "white",
             "startlinecolor": "#2a3f5f"
            },
            "baxis": {
             "endlinecolor": "#2a3f5f",
             "gridcolor": "white",
             "linecolor": "white",
             "minorgridcolor": "white",
             "startlinecolor": "#2a3f5f"
            },
            "type": "carpet"
           }
          ],
          "choropleth": [
           {
            "colorbar": {
             "outlinewidth": 0,
             "ticks": ""
            },
            "type": "choropleth"
           }
          ],
          "contour": [
           {
            "colorbar": {
             "outlinewidth": 0,
             "ticks": ""
            },
            "colorscale": [
             [
              0,
              "#0d0887"
             ],
             [
              0.1111111111111111,
              "#46039f"
             ],
             [
              0.2222222222222222,
              "#7201a8"
             ],
             [
              0.3333333333333333,
              "#9c179e"
             ],
             [
              0.4444444444444444,
              "#bd3786"
             ],
             [
              0.5555555555555556,
              "#d8576b"
             ],
             [
              0.6666666666666666,
              "#ed7953"
             ],
             [
              0.7777777777777778,
              "#fb9f3a"
             ],
             [
              0.8888888888888888,
              "#fdca26"
             ],
             [
              1,
              "#f0f921"
             ]
            ],
            "type": "contour"
           }
          ],
          "contourcarpet": [
           {
            "colorbar": {
             "outlinewidth": 0,
             "ticks": ""
            },
            "type": "contourcarpet"
           }
          ],
          "heatmap": [
           {
            "colorbar": {
             "outlinewidth": 0,
             "ticks": ""
            },
            "colorscale": [
             [
              0,
              "#0d0887"
             ],
             [
              0.1111111111111111,
              "#46039f"
             ],
             [
              0.2222222222222222,
              "#7201a8"
             ],
             [
              0.3333333333333333,
              "#9c179e"
             ],
             [
              0.4444444444444444,
              "#bd3786"
             ],
             [
              0.5555555555555556,
              "#d8576b"
             ],
             [
              0.6666666666666666,
              "#ed7953"
             ],
             [
              0.7777777777777778,
              "#fb9f3a"
             ],
             [
              0.8888888888888888,
              "#fdca26"
             ],
             [
              1,
              "#f0f921"
             ]
            ],
            "type": "heatmap"
           }
          ],
          "heatmapgl": [
           {
            "colorbar": {
             "outlinewidth": 0,
             "ticks": ""
            },
            "colorscale": [
             [
              0,
              "#0d0887"
             ],
             [
              0.1111111111111111,
              "#46039f"
             ],
             [
              0.2222222222222222,
              "#7201a8"
             ],
             [
              0.3333333333333333,
              "#9c179e"
             ],
             [
              0.4444444444444444,
              "#bd3786"
             ],
             [
              0.5555555555555556,
              "#d8576b"
             ],
             [
              0.6666666666666666,
              "#ed7953"
             ],
             [
              0.7777777777777778,
              "#fb9f3a"
             ],
             [
              0.8888888888888888,
              "#fdca26"
             ],
             [
              1,
              "#f0f921"
             ]
            ],
            "type": "heatmapgl"
           }
          ],
          "histogram": [
           {
            "marker": {
             "pattern": {
              "fillmode": "overlay",
              "size": 10,
              "solidity": 0.2
             }
            },
            "type": "histogram"
           }
          ],
          "histogram2d": [
           {
            "colorbar": {
             "outlinewidth": 0,
             "ticks": ""
            },
            "colorscale": [
             [
              0,
              "#0d0887"
             ],
             [
              0.1111111111111111,
              "#46039f"
             ],
             [
              0.2222222222222222,
              "#7201a8"
             ],
             [
              0.3333333333333333,
              "#9c179e"
             ],
             [
              0.4444444444444444,
              "#bd3786"
             ],
             [
              0.5555555555555556,
              "#d8576b"
             ],
             [
              0.6666666666666666,
              "#ed7953"
             ],
             [
              0.7777777777777778,
              "#fb9f3a"
             ],
             [
              0.8888888888888888,
              "#fdca26"
             ],
             [
              1,
              "#f0f921"
             ]
            ],
            "type": "histogram2d"
           }
          ],
          "histogram2dcontour": [
           {
            "colorbar": {
             "outlinewidth": 0,
             "ticks": ""
            },
            "colorscale": [
             [
              0,
              "#0d0887"
             ],
             [
              0.1111111111111111,
              "#46039f"
             ],
             [
              0.2222222222222222,
              "#7201a8"
             ],
             [
              0.3333333333333333,
              "#9c179e"
             ],
             [
              0.4444444444444444,
              "#bd3786"
             ],
             [
              0.5555555555555556,
              "#d8576b"
             ],
             [
              0.6666666666666666,
              "#ed7953"
             ],
             [
              0.7777777777777778,
              "#fb9f3a"
             ],
             [
              0.8888888888888888,
              "#fdca26"
             ],
             [
              1,
              "#f0f921"
             ]
            ],
            "type": "histogram2dcontour"
           }
          ],
          "mesh3d": [
           {
            "colorbar": {
             "outlinewidth": 0,
             "ticks": ""
            },
            "type": "mesh3d"
           }
          ],
          "parcoords": [
           {
            "line": {
             "colorbar": {
              "outlinewidth": 0,
              "ticks": ""
             }
            },
            "type": "parcoords"
           }
          ],
          "pie": [
           {
            "automargin": true,
            "type": "pie"
           }
          ],
          "scatter": [
           {
            "marker": {
             "colorbar": {
              "outlinewidth": 0,
              "ticks": ""
             }
            },
            "type": "scatter"
           }
          ],
          "scatter3d": [
           {
            "line": {
             "colorbar": {
              "outlinewidth": 0,
              "ticks": ""
             }
            },
            "marker": {
             "colorbar": {
              "outlinewidth": 0,
              "ticks": ""
             }
            },
            "type": "scatter3d"
           }
          ],
          "scattercarpet": [
           {
            "marker": {
             "colorbar": {
              "outlinewidth": 0,
              "ticks": ""
             }
            },
            "type": "scattercarpet"
           }
          ],
          "scattergeo": [
           {
            "marker": {
             "colorbar": {
              "outlinewidth": 0,
              "ticks": ""
             }
            },
            "type": "scattergeo"
           }
          ],
          "scattergl": [
           {
            "marker": {
             "colorbar": {
              "outlinewidth": 0,
              "ticks": ""
             }
            },
            "type": "scattergl"
           }
          ],
          "scattermapbox": [
           {
            "marker": {
             "colorbar": {
              "outlinewidth": 0,
              "ticks": ""
             }
            },
            "type": "scattermapbox"
           }
          ],
          "scatterpolar": [
           {
            "marker": {
             "colorbar": {
              "outlinewidth": 0,
              "ticks": ""
             }
            },
            "type": "scatterpolar"
           }
          ],
          "scatterpolargl": [
           {
            "marker": {
             "colorbar": {
              "outlinewidth": 0,
              "ticks": ""
             }
            },
            "type": "scatterpolargl"
           }
          ],
          "scatterternary": [
           {
            "marker": {
             "colorbar": {
              "outlinewidth": 0,
              "ticks": ""
             }
            },
            "type": "scatterternary"
           }
          ],
          "surface": [
           {
            "colorbar": {
             "outlinewidth": 0,
             "ticks": ""
            },
            "colorscale": [
             [
              0,
              "#0d0887"
             ],
             [
              0.1111111111111111,
              "#46039f"
             ],
             [
              0.2222222222222222,
              "#7201a8"
             ],
             [
              0.3333333333333333,
              "#9c179e"
             ],
             [
              0.4444444444444444,
              "#bd3786"
             ],
             [
              0.5555555555555556,
              "#d8576b"
             ],
             [
              0.6666666666666666,
              "#ed7953"
             ],
             [
              0.7777777777777778,
              "#fb9f3a"
             ],
             [
              0.8888888888888888,
              "#fdca26"
             ],
             [
              1,
              "#f0f921"
             ]
            ],
            "type": "surface"
           }
          ],
          "table": [
           {
            "cells": {
             "fill": {
              "color": "#EBF0F8"
             },
             "line": {
              "color": "white"
             }
            },
            "header": {
             "fill": {
              "color": "#C8D4E3"
             },
             "line": {
              "color": "white"
             }
            },
            "type": "table"
           }
          ]
         },
         "layout": {
          "annotationdefaults": {
           "arrowcolor": "#2a3f5f",
           "arrowhead": 0,
           "arrowwidth": 1
          },
          "autotypenumbers": "strict",
          "coloraxis": {
           "colorbar": {
            "outlinewidth": 0,
            "ticks": ""
           }
          },
          "colorscale": {
           "diverging": [
            [
             0,
             "#8e0152"
            ],
            [
             0.1,
             "#c51b7d"
            ],
            [
             0.2,
             "#de77ae"
            ],
            [
             0.3,
             "#f1b6da"
            ],
            [
             0.4,
             "#fde0ef"
            ],
            [
             0.5,
             "#f7f7f7"
            ],
            [
             0.6,
             "#e6f5d0"
            ],
            [
             0.7,
             "#b8e186"
            ],
            [
             0.8,
             "#7fbc41"
            ],
            [
             0.9,
             "#4d9221"
            ],
            [
             1,
             "#276419"
            ]
           ],
           "sequential": [
            [
             0,
             "#0d0887"
            ],
            [
             0.1111111111111111,
             "#46039f"
            ],
            [
             0.2222222222222222,
             "#7201a8"
            ],
            [
             0.3333333333333333,
             "#9c179e"
            ],
            [
             0.4444444444444444,
             "#bd3786"
            ],
            [
             0.5555555555555556,
             "#d8576b"
            ],
            [
             0.6666666666666666,
             "#ed7953"
            ],
            [
             0.7777777777777778,
             "#fb9f3a"
            ],
            [
             0.8888888888888888,
             "#fdca26"
            ],
            [
             1,
             "#f0f921"
            ]
           ],
           "sequentialminus": [
            [
             0,
             "#0d0887"
            ],
            [
             0.1111111111111111,
             "#46039f"
            ],
            [
             0.2222222222222222,
             "#7201a8"
            ],
            [
             0.3333333333333333,
             "#9c179e"
            ],
            [
             0.4444444444444444,
             "#bd3786"
            ],
            [
             0.5555555555555556,
             "#d8576b"
            ],
            [
             0.6666666666666666,
             "#ed7953"
            ],
            [
             0.7777777777777778,
             "#fb9f3a"
            ],
            [
             0.8888888888888888,
             "#fdca26"
            ],
            [
             1,
             "#f0f921"
            ]
           ]
          },
          "colorway": [
           "#636efa",
           "#EF553B",
           "#00cc96",
           "#ab63fa",
           "#FFA15A",
           "#19d3f3",
           "#FF6692",
           "#B6E880",
           "#FF97FF",
           "#FECB52"
          ],
          "font": {
           "color": "#2a3f5f"
          },
          "geo": {
           "bgcolor": "white",
           "lakecolor": "white",
           "landcolor": "#E5ECF6",
           "showlakes": true,
           "showland": true,
           "subunitcolor": "white"
          },
          "hoverlabel": {
           "align": "left"
          },
          "hovermode": "closest",
          "mapbox": {
           "style": "light"
          },
          "paper_bgcolor": "white",
          "plot_bgcolor": "#E5ECF6",
          "polar": {
           "angularaxis": {
            "gridcolor": "white",
            "linecolor": "white",
            "ticks": ""
           },
           "bgcolor": "#E5ECF6",
           "radialaxis": {
            "gridcolor": "white",
            "linecolor": "white",
            "ticks": ""
           }
          },
          "scene": {
           "xaxis": {
            "backgroundcolor": "#E5ECF6",
            "gridcolor": "white",
            "gridwidth": 2,
            "linecolor": "white",
            "showbackground": true,
            "ticks": "",
            "zerolinecolor": "white"
           },
           "yaxis": {
            "backgroundcolor": "#E5ECF6",
            "gridcolor": "white",
            "gridwidth": 2,
            "linecolor": "white",
            "showbackground": true,
            "ticks": "",
            "zerolinecolor": "white"
           },
           "zaxis": {
            "backgroundcolor": "#E5ECF6",
            "gridcolor": "white",
            "gridwidth": 2,
            "linecolor": "white",
            "showbackground": true,
            "ticks": "",
            "zerolinecolor": "white"
           }
          },
          "shapedefaults": {
           "line": {
            "color": "#2a3f5f"
           }
          },
          "ternary": {
           "aaxis": {
            "gridcolor": "white",
            "linecolor": "white",
            "ticks": ""
           },
           "baxis": {
            "gridcolor": "white",
            "linecolor": "white",
            "ticks": ""
           },
           "bgcolor": "#E5ECF6",
           "caxis": {
            "gridcolor": "white",
            "linecolor": "white",
            "ticks": ""
           }
          },
          "title": {
           "x": 0.05
          },
          "xaxis": {
           "automargin": true,
           "gridcolor": "white",
           "linecolor": "white",
           "ticks": "",
           "title": {
            "standoff": 15
           },
           "zerolinecolor": "white",
           "zerolinewidth": 2
          },
          "yaxis": {
           "automargin": true,
           "gridcolor": "white",
           "linecolor": "white",
           "ticks": "",
           "title": {
            "standoff": 15
           },
           "zerolinecolor": "white",
           "zerolinewidth": 2
          }
         }
        },
        "title": {
         "text": "PCA scatter plot"
        },
        "xaxis": {
         "anchor": "y",
         "domain": [
          0,
          1
         ],
         "gridcolor": "lightgrey",
         "gridwidth": 1,
         "linecolor": "black",
         "linewidth": 1,
         "showgrid": true,
         "showline": true,
         "title": {
          "text": "PC1"
         },
         "zeroline": true,
         "zerolinecolor": "lightgrey",
         "zerolinewidth": 1
        },
        "yaxis": {
         "anchor": "x",
         "domain": [
          0,
          1
         ],
         "gridcolor": "lightgrey",
         "gridwidth": 1,
         "linecolor": "black",
         "linewidth": 1,
         "showgrid": true,
         "showline": true,
         "title": {
          "text": "PC2"
         },
         "zeroline": true,
         "zerolinecolor": "lightgrey",
         "zerolinewidth": 1
        }
       }
      },
      "text/html": [
       "<div>                            <div id=\"b70bb8ff-988f-45d9-84e0-7616fa502bc2\" class=\"plotly-graph-div\" style=\"height:525px; width:100%;\"></div>            <script type=\"text/javascript\">                require([\"plotly\"], function(Plotly) {                    window.PLOTLYENV=window.PLOTLYENV || {};                                    if (document.getElementById(\"b70bb8ff-988f-45d9-84e0-7616fa502bc2\")) {                    Plotly.newPlot(                        \"b70bb8ff-988f-45d9-84e0-7616fa502bc2\",                        [{\"hovertemplate\":\"is_safe=1<br>PC1=%{x}<br>PC2=%{y}<extra></extra>\",\"legendgroup\":\"1\",\"marker\":{\"color\":\"#636efa\",\"opacity\":1,\"symbol\":\"circle\",\"size\":3},\"mode\":\"markers\",\"name\":\"1\",\"showlegend\":true,\"x\":[-1.1726817371371916,-0.31567160588790333,0.12110506565838376,-1.775144863347565,-1.1783302860425149,-0.6742219851712482,0.218875510584906,0.6111116888721346,-1.86135278960596,-1.1366728851059997,0.14431854115413612,-0.19957497763937576,-2.1592074832261203,-0.6150488661607113,-2.2233563325699,-1.2419240589329743,-2.237507325122821,-0.5166056026621096,1.7199234327031998,-1.330597754115491,-1.5541851870902166,-1.5788427167629457,-0.8755833374066951,-0.6195629742315395,-1.051825537706998,0.2074407129088581,-0.30823010663053724,0.02019107039374761,1.6510984874953367,0.015004143750839928,-0.3004054975864282,-0.8091898943217789,0.1279914884624285,1.6972207879862717,-0.14087345976457621,-1.4959110246766578,1.0515477575667687,1.582234312644386,-0.6633422639485209,-0.606001324933114,-2.0373788307546863,-0.7884913962665572,1.788149055783246,0.8358584832699111,-0.30644217230990434,-0.41454222484774494,1.2529141258336256,-0.6254669651210233,-1.826237931329832,1.9758702994340942,-1.9843701074597067,1.0372248515367681,0.2681463774453649,1.2294944700596189,-0.9175796556449556,-1.1746266964091687,-2.0090276371324354,-1.9048374076956927,-2.307859799825245,-0.8013652852776696,-2.252596503915807,-1.4041722916316994,-1.1447872029354444,-0.7200053683604383,-1.341428266821809,-0.5419801965814145,-0.9324184084851899,-0.3510761729493664,-0.3708464104483473,0.06635761655917959,-1.7922774184453454,0.42015840353417944,-2.2292603234593837,-0.7862318608101873,-1.538074293550085,-0.6936483425265724,0.25904962770135875,2.2415524676798984,-1.1538839526794507,-1.825093511622016,-1.5897274008275848,-1.4253473536645702,-1.597330887878206,0.5390547019771635,1.4451837443564763,-1.9323438160792874,0.5026284733580523,-2.127285383804516,0.001275543817247225,-0.5123518994173544,0.8410846395559058,-0.03689938947941017,1.851030780458539,0.4188420703492838,-0.08373875421692155,1.618582081977324,-0.5756510006805656,-0.039576354713196704,-0.7101031162103606,0.17951191190593538,0.6215247718010364,-1.2545867516344222,-0.2887595036007161,-1.8837507838223184,-1.188993848113666,0.2158154355643762,-1.8646240609361537,-1.509128793831427,-0.47588142512374615,0.9651678646417973,-0.8049361910770236,-1.4237755784955135,0.1824885116088816,-0.9255319856811454,0.1204665138874792,-0.13105468293208186,-0.023804378474809814,-1.3542728518736582,-0.04038185711926849,-0.4631695239058893,1.3301972690145911,0.7592531215029372,-1.6886422654619242,-1.4748686464777798,1.8160778567861688,-1.0218141307561945,2.1967072707307724,-2.083712327555286,0.2453160117363557,-0.9577930024044948,2.0733018270588723,-1.0333324037498257,-1.4970554443844746,-0.45135161644309785,1.0794765585696917,-2.090814909510907,-2.578129572586139,-0.07528055624381984,-0.3845700475400282,-0.5569024247392326,-1.9185660076292856,-0.4815742197035658,-0.7499283371517467,-1.6855329819249847,1.2529141258336256,-0.9984337046252747,0.24995287795735263,-0.4118260299708718,0.9956509259178362,-1.5603102999731888,-1.7674086924629524,0.10830968912294306,-0.3031709009797102,-0.6561169238427313,-1.9166503523165728,0.1688433869928725,-1.4440959296059028,-0.9925639805369655,-0.22138362860123867,1.673604930807333,-0.4540385073607083,-2.3668609521692043,-2.3436082470303647,-0.8192641131384342,-1.9815212287488406,0.09551431258750262,-2.2591047797750203,-0.8283608628824403,0.007439939532803952,0.6565562079490783,-0.01224185980668148,0.7026785084400136,-2.0098281766965957,-0.7956232821814413,0.3103980844782881,-0.33530419671097944,1.4224418699964612,-1.181218447585966,-0.6704448459041419,-1.0283616362584946,-1.070569150806419,-1.8614362649235436,-0.4857002019562404,-2.0787415600639547,-0.8366078645458775,-1.7464940352561547,0.6579117707770609,-0.06639996565138989,-0.18286977800283663,-2.4760219490972775,-0.2330345854288628,0.007690365485554941,-2.334300300976695,-2.1318337586765184,1.5179185126654386,-0.9094653378155101,-1.491573846114319,-1.5669805636256577,-2.116061782438131,2.3343963907895864,-2.124009149632409,-0.7795615971577186,-1.4253473536645702,-1.161625086405976,-2.124863860554889,-1.5453880718153712,-0.5588965925276178,-0.8752051904618632,-1.0777552080796238,-1.5514247465388469,-1.2551418280877435,-0.5878913007626856,-1.3009694569514305,-0.3858913967563341,-1.8203339404403485,0.037662542793271726,-0.47545406966250586,-1.9796105362780394,-1.020620502531969,-1.7407569950018384,-1.5040745510225115,-1.8408162793439933,-0.1835083297737411,-2.297702105691006,1.0323233034979877,-1.6054944142240597,0.9705224809595715,-1.2416244244638144,-0.774369707672899,-1.0122115130752762,1.3273291184072826,0.767672089832952,-1.2008560012509544,-1.3731834156082465,1.0501921947387862,-2.2912380755062896,-1.1231554814820708,-1.6545490687434445,-1.9022881634539872,-1.3466644019811256,0.13559993835496148,-1.26602154931047,-1.1403665490555217,-1.3291879667396893,-0.6999796888772967,-0.4747370054159296,-1.440136897988396,-0.6942034189798935,0.15128843927576463,-2.1720471054360573,0.8047368702229681,-1.1556326573569966,2.589704705749576,0.46496437084021885,-0.30465920083118336,8.191559302185538e-05,-1.096714980330621,-0.18635720848460682,-0.25199435767985995,-1.4026054793045546,-2.059992984122621,-1.387555530154656,-2.030408932633058,-0.9496786845750497,0.2218078646133556,-1.358693505753581,0.05215741548984959,-1.650295365498689,-1.9863642752480914,0.44222249648020356,2.218810593319883,0.9144971892788591,0.5740469084821189,-1.9688928028485677,0.45586762109621276,0.708582446139999,0.2362192619923497,0.8228911400678935,-0.6012417537514467,-0.5232808291564902,-1.571317742187996,1.5861049061023977,-0.44106620131677843,-1.1078943360225082,-0.7803229070787917,-0.9304192778548929,0.8565669601984546,-0.636985238114655,-0.9261605585787274,-0.2943737857048639,-2.4001044008071153,-0.39299397871195496,-0.017851179068917398,-0.8907167618741774,1.170404826366666,-0.5818496631972974,0.3974557588172509,1.2717461770925422,-1.7093899720335541,-0.3807094329553383,-0.5270579684235963,-0.40191379894747187,-1.6312963636046052,0.07098946674876626,0.1876754382517892,0.5240540145331717,-0.507636573910184,-2.186920125077467,-0.3036817317585342,-0.6990121986779692,-1.0675090757858894,-1.5062356694460641,-1.3715331279635183,-1.3103608783226848,0.16645185355271103,-2.075209883907687,-1.7080686228172475,0.062231634306504906,0.08322976683088608,0.08633408752591283,0.018191939763450623,-0.2823789487335833,0.8456330144279088,1.6919946317002774,-1.9329331593337833,-0.3176657736762882,-0.23439020144634345,0.32268764626631485,-1.009956940460818,-0.8027258641370623,1.723833255804298,1.6420017377513307,-0.35078150132211844,-1.3412662790285539,0.3141801865873061,-0.7088260126685515,0.09755768889229652,-1.9999259245465166,1.6035421117007476,1.5004027945914173,-1.7003717347652196,-2.159757596837529,-1.7259624878361006,-0.8326980414447789,-1.9866639097172514,-1.5856014185749099,-0.2952235337854326,-1.249399824991515,-0.10652983709334558,-0.03383931445888022,-0.13746950460038962,-1.0761834329105668,-0.47670619942626097,-1.997587876614476,-1.930772040910231,1.6926331834711816,-1.5229066022814286,-1.2496602298175878,-1.1421987290506517,-2.096168786788982,-1.1681333622651893,-1.927151926594468,-0.6326038138778192,-0.20161835394416963,-0.05900271206852111,-0.8081239870896341,0.3415589271683184,-2.169876008139183,-1.5441601767899704,-2.1836488537472727,-1.13496842610295,-0.4914422050524688,0.12960750930598217,-0.038810081950211635,-1.7828367885576824,-0.33147784892746457,-1.7076412673560082,1.1060890263877188,-2.532007272095205,1.6374533628793273,-0.6090613999536441,-0.5337824034343858,-0.5390478425529651,-0.9882268019746269,-0.3172433810569597,1.2028820022415923,0.19762193607636394,0.2755828606713205,-0.7880197951308203,-0.9659565287503488,-0.09895565400198751,-1.571823610124908,-1.5629430195324783,-0.8838745847446292,1.7660849628372217,-1.0714238617288998,-1.4456184962585512,-0.17092341050826565,-0.449784804115953,1.8803936567651165,-0.4383007979234963,-2.0350407828226444,-1.0298499361099676,1.5815565312303947,1.2574625007056288,-0.8204134956881627,-1.0627495046042217,-0.5671878398655522,-1.9036487423133799,-0.36599840110718446,-1.850846252486152,-1.5661308155450888,1.5647185945703654,1.8665523307441751,0.14861152723147622,0.6026927205421198,0.03255909146794783,-1.1589039286871907,1.1931467007266814,0.05428426711222712,-1.2555691835489833,-1.7660481136035595,0.2720169709033767,-2.240439679151271,-1.370128303429629,2.5344856555146342,-0.33331002892259437,-1.3755264263822002,-1.1538496858782756,-0.9312247802609649,-1.4147623040690906,0.5058605150451595,-0.07094834052339295,-1.2600340831034031,-1.9121069402864819,0.15201046636425278,-0.45300686692973846,-0.09394565686756932,-0.9356896798153841,-2.328263626253219,-1.4596025381763051,-1.6657726701098283,-1.6526334134307308,-0.21470840210685807,-2.1702984007585115,0.32464253122211506,-2.044987280647219,-2.3175508556656585,-0.7417648108058927,-1.4361435995697136,0.24927509654336136,-0.06423388438592546,-0.43813384728832894,-0.6158151389236964,-1.8462144022965654,-0.7120530383242489,0.3961001959892683,1.0432964789116206,-1.1640416468136894,0.717001414470014,-0.473116021730464,1.834271356274181,-1.251182796470236,-1.074645924542685,-0.00930950577823204,-1.7010937618537076,0.005185366918345861,-1.2153508739475325,0.3603909784272352,-1.9753568330332842,0.4881878252092932,0.024312089804510315,2.2415524676798984,-1.6374999889632489,-0.2828505498693203,-0.9321580036591173,-0.06092766040435541,-1.8833234283610785,-1.7952490553063791,-1.8446475899694208,-0.7904413183804457,-0.5838980023440031,-0.7136690591678025,0.46496437084021885,-1.3027032199137425,1.5640408131563739,0.3792622593292386,-0.253011056395596,-0.6485084739501984,-0.3991141287530148,-1.1160578623683617,-0.6899154489339632,-2.119121857458661,-0.6917818957302677,-0.29351907478238326,-1.1676617611294522,1.1015406515157153,-0.9472571613254243,-0.7977550966457309,0.20973451516640315,-1.8142972657168726,-1.6307462499931957,-0.21042043206092806,-0.6319652621069146,-0.8997300363005998,-1.7165710664648468,-0.4882986547143552,1.8297229814021783,0.246038038824844,-0.30814663131295356,-1.3291879667396893,-2.4038865029161336,-0.7026616169529948,-1.1541443575055235,-1.8446426271275087,-1.4491501724148181,-1.1657461058167389,0.07511048615952902,-0.706193293109262,0.14861152723147622,0.0719226901469186,1.0592889444827922,1.9758702994340942,-1.3990688403063758,1.7790523060392394,-0.07115953683305713,-0.26223552713168263,0.09700261243897573,1.6335435397782287,-0.906488738112564,-2.0385282133044154,0.13615501480828227,-0.4515677755946739,-2.3124081746972482,-2.1966554265923772,1.5510734699543556,-1.4860480021696665,-1.858847791038751,-1.2694255044746567,-1.019819962967809,-0.6763488367936258,-0.5015506906702988,-1.6722317374526328,0.7858655893209644,1.7062783080871908,-0.43082503186495574,-0.7819781575654324,-1.5170319153512075,-1.4531434708335003,-1.6731649608507848,-0.09751656266692307,0.07128413837601413,0.11136976414347312,-1.2527203048381177,-0.541813245946247,-1.3473864290696136,-2.120393998158558,0.2195975376733943,-0.1616996788118781,0.9924581138738158,-0.9471244774914319,-0.07936730885340781,0.12416514067891357,1.5286954866741396,0.03787373910293589,-1.9944492891182735,-0.14499447917533895,-0.6642804501885853,-0.16951932501407532,-1.7418179393920712,-2.370770775270303,0.1452517645522884,-0.3754732977960221,0.9865541761738297,-1.6887257407795078,-1.379175844657226,-0.45347846806547565,-0.5158835755736214,-1.9917673610425757,0.6617823642350726,-1.7257512915264361,2.4260024400005524,0.1287135155509166,0.2766545229745747,1.6465501126233333,-0.736072016226073,-2.1199716055392295,-1.210807461917441,0.12110506565838376,0.19451761538133705,0.22342388545690922,0.07638758970133798,-1.591210737837146,-1.7696190194029138,0.456545402510204,-1.4072373294941412,-1.3642193496982329,0.16650533906083065,-0.2873989247413234,0.717679195884005,-0.10057663768745302,0.6747497074370905,-2.15572005274435,-1.756823642867473,0.20595241305738496,-2.095657956010158,-1.4571859777685912,1.4786633630821058,0.839729076727923,-1.9557192793682954,-1.531826422516945,-1.5109167281520595,-1.4625006254035795,-2.581189647606669,-1.1746316592510808,-1.038632056480082,-1.4767350932740844,-1.5247680862358206,-1.8134475176363039,-0.4016191273202239,-0.3748004792239427,-1.3397730163351689,0.8670193259599415,-1.8619863785349517,1.3158743629845904,-0.2972177015738177,0.19443414006375354,-1.103257522991009,-0.00676026153652607,0.17568556412242048,-0.6559499732075642,-0.3269294740554615,-1.9104024812834322,-2.018335583186106,-1.219899248819535,-0.4475744771759918,-0.8374576126264464,-0.35847342653223513,-1.5579722520411472,-0.8049361910770236,0.461093777382207,-1.5733168728182938,0.09088246239791593,-1.3944369901167883,-0.113283576063398,0.37922302968615196,-0.3729283305460264,-1.7113841398219394,1.0333542580787565,-1.899866640204362,-1.6613028077134961,-0.4162466838507943,0.5254095773611542,0.4383519030221916,0.3544085282515779,-0.6164586535365129,-1.005619761898479,0.1181284659554374,1.0326764766647651,2.2103523953467814,1.9031355311251315,1.44973211922848,-0.9563047025530216,-1.3149092531946875,-1.0370310305412602,1.4626994624304976,-0.7976666584862352,0.31881705280830314,-1.8654738090167224,0.4987186502569538,1.3892869127075442,-1.5862399703458143,-0.6910598686417797,0.17167800983870532,1.0508699761527773,-1.8550214432552352,0.9469351355106981,2.0511592748266745,-0.2587038509754156,0.13636621111794653,-1.0412404881115187,-0.2849774014916979,-0.579855495408912,-1.0235971022349155,-0.9862818427026502,0.15362648720780644,-0.8106139907521112,-0.5031716743557645,2.266770089837358,-0.38525284498542967,-0.25386080447616466,-1.1430042314567235,-0.14997020950858234,-1.1894654492494032],\"xaxis\":\"x\",\"y\":[1.565088012871338,0.5452683509726631,-1.273240823915267,-0.0011704112633540748,1.2064198051080457,-1.7449936983748846,-0.876049272654908,0.7401480188995775,0.739963929986156,0.8304281066944582,-1.6325882091049002,-0.9270736547813823,1.0826165751591246,-0.9735365695371104,1.4369724447059506,1.1923676370123149,-0.06174777640338263,0.9081361878711415,-0.14400505761159918,0.7962853114503582,-1.4796190861065381,-0.3583052728041145,-0.2557582502426046,0.8850856496110578,0.8449726053508193,-1.2564155915735322,0.5566720193995293,-1.6624186661325342,-0.5481633745052182,-1.2882776531322584,-1.322539085205569,0.8703602318369164,-0.8934291178458433,-0.9173128718626858,0.20650392349202923,0.7803261034006749,-0.6842481526689173,-0.18178694139375448,-0.9962193418137034,0.8930370763655793,-0.037344811038547004,1.2392606000401036,-0.13568586487358714,0.41377192096707244,-1.3253744317401428,-0.21003679520178786,-0.6387016889979508,-0.989501705334724,-1.1359194975237377,-0.09180323975022275,-0.026682602326591316,0.4593183846380391,0.281569432747779,0.5037556226106042,-1.3893981108045863,-1.7997135235800545,1.0946312109758325,-0.3959566642611994,0.3023479230227077,-1.0088508727681818,0.6985548131618055,-1.455029273875992,-0.6654567678803017,0.13378735795815302,-1.817953465315111,-0.21927836677249135,-0.6479582858601562,-0.9539442006973016,1.6775557844298923,-1.267321001691838,1.125259482259017,-0.824215220777022,-0.43761491023983023,-1.004906300535206,-0.3407385807474687,-0.23357373627457217,0.28046020704937746,-0.41318782203992077,-0.6665659935787033,-0.013558740811482239,1.5226319526371563,1.1679023893589093,-1.1059081213783235,-1.184490912547277,-0.5942644510253857,1.478755255261722,-0.4183930653358006,1.080211276896611,-1.283653903472942,0.16330640354293618,-0.7309038420382854,0.5939556448731236,-0.8355801529206661,0.6957107809270124,-1.2856232257154647,0.5931847114049349,0.8946386326246117,-1.2949330073226684,-0.25237421860675974,-0.8850476428192612,-0.7786687571060553,-0.30407185041164514,-0.1905007809026194,-0.3828891572867303,-1.4203941480712614,-0.8743231518187354,-0.009981934561996942,-0.34770534638072903,0.16145571812962348,-1.465320546808815,0.12553044750871098,1.1638955348373634,-0.8804861754485145,-0.26814657979073275,-0.8985451980657913,-0.17337006486596426,-1.665684060939169,0.42282347587642366,-0.9076622050593541,-0.20756921465070421,0.14126147944354606,-1.511421623328983,0.003079644664542058,0.02914644857698015,-0.5070538136278583,-0.6630573973657183,-0.7934295763814045,-0.4198672990654044,-1.2496979550945522,-1.775372840503789,-1.2042432474654334,-1.0371361280774234,-0.34203465331158067,-1.7178176687640447,-1.0556161014231882,1.0783605914832983,1.3937126424682873,-0.909818374167587,-0.9475320479132423,0.5284490463788579,-0.39133291460188263,-0.9614596514318327,-0.9941818095346805,-1.8641108963759185,-0.6387016889979508,-1.0349799589691904,0.2793509813509758,0.9083171069889217,0.8290224948447075,1.1535447375682584,0.7556176543409188,-0.8979283029280201,-0.5754285671919901,0.8932239232312896,-1.5154197921503105,-0.8821500139961169,1.5340919756046627,-1.0195694360207774,-0.5591579476994565,-0.08667530403441488,1.6527168430450658,1.0530975295743417,-0.0767846056203746,-0.26568492698757923,-0.7800807085470891,-0.5226157819407731,1.0578399160628689,-0.26679415268598083,-0.5228589833471234,1.5162288973966687,-0.5273581684293002,1.1470794000392013,-1.147809568763305,-1.7513999234110138,-1.2333650533134488,-1.3246952543138018,-0.5970375152713897,-1.4341408324720717,0.5020085487349992,0.4667624555404278,-1.418549390405879,0.7462515181930749,0.5413297064876168,1.0840312845524467,0.1090729811504669,-0.7535215740740203,-0.774231854312449,0.969330448148941,-0.9271359370699528,1.0397868211935224,0.9385153300000459,-0.541721747967881,0.6759966054623524,1.0796566640474106,0.18514410456691022,0.1064867637701732,0.029208730865550214,-1.1043065651192918,0.7089056104309107,-0.7556476925992491,-0.7995544405576877,1.2529450021523434,1.1679023893589093,1.2063575228194752,1.4531807819099147,0.4058173244169088,-0.9708880698682466,0.4833385587278821,0.0859660883497432,0.4029819778823347,0.06433618723091158,0.9015431159693019,1.1788700817657853,-0.9623879580124539,0.7386678574220442,-1.2792170006793353,-0.9649118931041778,0.7255439959069347,-1.4061610608577506,1.1336409572855992,1.149905649030203,-1.50827210739927,-0.5524403112204767,1.4321054936402837,-0.935410465776812,-0.7363285757487954,-1.296727173208968,-0.6919595478127305,-1.7509075928503834,0.835108210894415,-0.5246650047292837,-0.3650820217760227,-0.6743928557560848,-1.8281233434664363,1.6062125990402003,0.30857322894105677,0.07413237165081586,0.3925066160360895,0.7349724143433486,0.421651967889452,-0.894600625832815,-0.6844381693302696,-1.422861728622345,-1.824857948659801,-0.9817934799865523,1.2838164748418788,0.043877794099051695,0.13483430136798458,-1.259064091242396,0.6936819343482084,-1.5058754948369746,0.4449457075558859,-0.3287502488883971,0.3265612835695449,-0.5777093008773635,-0.5405502399809095,-0.2995163107888286,0.20095779500002114,0.5530329308614739,1.1706754536049133,0.7178416983066938,1.1809076140448085,0.3361793068239571,-0.27948796592902947,-1.6357349670823247,1.1802284366184674,-0.9005768025968836,-0.35232316829211563,-1.526019718573696,0.3237882193235408,-0.4159608862859249,-1.0967256623005484,1.8809414919605303,-1.1428180531204977,0.32545205787114323,-1.1428267388207158,-1.2508071807929542,-0.733122293435089,1.645263674599105,1.2799964671860433,-0.353189192584167,0.9639980473100052,0.16989947544477582,0.8360365174750362,-1.7600305275918766,-1.778332751615503,-0.31225738102894524,-1.3635804360464285,-0.9883806241404619,1.3100078433314568,1.0406469177376436,0.5358399325362487,-1.6565611261976754,-0.25970282247558035,-0.27398909443408936,-1.725333119498576,-1.5975230350281089,-1.0111788634506231,1.4996436966656423,1.2931826109897226,-0.967005779923841,-0.5727741397751963,-0.737375519158627,-1.2730539770495561,-1.2546271884487896,1.1043060006142387,0.1512858399782986,-0.4240550727047304,0.5572266322487301,1.2480721233387462,-1.4202755112420513,-0.3368562908030631,0.7912937958075511,0.4323764588899776,-0.3754150358013373,0.7201847142806371,1.5144996067648542,0.23546835622761156,-1.2799584603942467,-0.5174374194322555,-0.5320442003771869,-1.307745457394927,-0.7303492291890847,0.22736289114267194,-0.01201353909308986,-0.9540687652744417,-0.9355174120965348,1.0587595369432719,1.2206528923215565,-0.2531720328623109,0.23124518108707745,-0.5492726002036199,-0.20855980351989578,0.7991829402735025,-1.616074388206016,-1.0017654703057117,-0.8887430858979564,-1.5339711453282177,-0.5119771192341652,-0.9623047226844517,-1.122671071431488,-1.1786869692007698,-0.37204602945699455,0.4843232198491435,0.3583074662513495,0.01984259471770654,0.9330314837966079,-0.6782128634119203,0.577068130242819,0.5922295240369511,-0.9153022203710253,0.08195923382819728,-0.8705980700003895,-1.154714052107995,1.474748400740176,-0.1473327347068041,1.5223828234828753,0.4355795714080423,-0.3050624392808367,1.465076780897412,1.5656426257205391,-1.5250973397410046,-1.3504506467833892,-0.5609463508241991,0.2164869547776439,-0.630703005246361,-0.08425238751448398,1.0855142039822687,1.5218904929222448,0.32589079184342196,-1.0453307562382952,1.2838787571304486,-0.13318881056922563,-0.9116690595808999,0.00628868493053684,-0.943157427408206,0.388131995531053,0.09294195152657529,1.0245631451108201,-0.5498272130528207,0.8947631972017521,1.2703189195953488,-0.9789640611999084,-1.7706868085559022,0.5492752054942085,-0.6448024303391597,-0.8765416032155386,-1.2418088106286007,0.8771401506044663,-1.4057932948742602,-1.2832802097415208,-1.8502455751458982,0.028903247170629823,-0.6441382782043208,-1.2836893049741496,0.8341858320617236,-0.32736559007807925,-1.1241152545780877,0.9078870587168612,-0.8739848595885225,-0.5772110425688028,0.3419122821816756,0.4644817218550546,0.963443434460804,-0.63814707614875,1.2416658983026172,-0.6680489130085256,-1.3592680978299625,1.4906512542492192,-0.20621678754595227,-1.8800701044256019,-0.7273302055844422,-1.3292357686451162,-1.1874684419164088,1.01654075036751,-0.40619158265338284,-0.9113635758859793,-0.3050001569922665,-0.27121603018808527,-1.2729916947609863,1.1907037984647129,-6.118556495249554e-05,1.4273544214515388,0.6979379180240345,0.7998621176998435,0.039290022770669134,0.17464186193330275,0.422331145315793,1.1926108384186653,-1.3910619493521887,1.1712923487426843,1.1020875492174353,0.9687758352997404,1.1838615974085924,1.1148464027013418,-1.6400473052987912,-1.70752322603558,-0.5499163761287532,-1.397904150408309,0.6788319519969266,-1.8386609876012512,0.7638122825017908,-0.7315802615123383,-0.9310182270143583,-0.4178297667863814,-0.8358620906102393,-0.03617330305157523,1.4401814849719456,-1.3637613551642087,0.41284044459080904,1.4245813572055346,-0.1736191940202448,-0.5897862189826414,-1.3568005172788788,-1.8858030797833198,-0.9874641730557009,0.6929377166810086,-1.2878533676217552,-1.7963235641962796,0.0035128627322444225,-0.5856547998839552,-0.504835362231055,-1.4258779942746995,-1.7812244526907173,-1.287043862856717,-0.7416878573750932,-0.908403664774265,-1.0530330538385366,-0.45672956196715664,-0.019285788421270527,-1.1277157718192938,-0.535496442049532,-0.41318782203992077,-0.7276356892793626,-0.9456250079592896,-1.761750720680119,-1.1736804282664606,-1.5092567685205314,-1.5090135671141807,0.7399016476975857,0.5041706455911625,1.270505766461059,-1.7477044803323187,0.3265612835695449,-1.4342594693012818,-0.18400539279055772,-1.5997414864249124,0.18863174774046318,0.8920524152443181,0.5392921742085938,1.2056160631045643,1.249181349037148,0.710631731267083,0.5078038063812877,-0.9427273791361455,1.2035221762849013,0.09238733867737453,0.09348153908427412,1.25072655075554,-1.6414056601514733,0.7415032039566182,1.5239280252012677,0.18332882065480532,-1.7251462726328655,-0.2670996363809013,0.37444759341881295,1.2758650480873572,-0.5053899750802557,-1.6306811691509477,0.5503844311926099,-1.824857948659801,1.423356252630211,-0.24097055017989305,0.4472264412412593,-1.889809934304866,0.036480980193730854,0.07943529873647366,-0.1461317529665545,0.12287602009191702,1.01654075036751,-0.9023652057216264,1.6073218247386023,-0.09180323975022275,-1.8228826986693483,-0.13679509057198871,0.21710384991541468,-0.5704370515491832,-0.5203350482553999,-0.9250774517514974,0.11104823114091984,1.4700060142516496,-1.2630086634753717,0.16022192785408165,0.3017933101735069,-0.05046867255365605,-1.3308996071927188,1.1646992768408446,1.1066458467925395,0.43736797453278503,0.8362797188813865,-1.3725788062107818,-1.7113432336914154,-0.7423670348014343,-0.36286357037921946,-0.14566889615920162,1.2933694578554327,-1.7497360848634116,-1.0919182355711632,-0.33248167029802667,-1.113055806129364,0.5844649441481398,-0.5276695798721505,-0.8996544237641925,0.4373056922442148,-0.2318535431863298,0.8026351819458475,-1.1696885990364168,-1.257032486711303,-0.9203560183024029,-1.4619928697136109,-1.7782704693269331,-0.1775637662532205,-1.2749669447514393,-0.4791185410583169,-0.5275450152950102,1.466983820851365,-0.920418300590973,1.2628034688608178,-1.6708564956997565,0.004992612366424884,0.6778472908756653,-1.2618994377769697,-0.9464228222148406,0.8279132691463058,0.009367232871461295,-1.0667115282028465,-1.3454027765999421,0.5271529738147461,0.7261608910447058,0.37155313439131066,0.37962595592733067,-1.1192510614647089,-1.2744123319022385,-0.6527805728946706,-0.5487179873544192,-0.24084598560275283,0.33365537173223353,1.5772331410131157,-1.273240823915267,-1.6390626441775298,-0.8754946598057072,-0.8955230046655064,-1.1093603630506685,1.13432013471194,-0.8197783179834155,1.1764084289626315,0.04473789064317293,-1.2614071072163393,-0.9461796208084904,-1.1417175131223145,0.5861910649843124,1.5184473487934718,-0.045477156910848755,0.7590076137246937,-1.2586963252589054,0.3324215814566916,1.1640200994145036,-0.485219282399526,1.559556909670832,-0.7790337651372577,0.41376875117143047,1.534341104758943,0.7802015388235347,1.3954387633044603,0.8299980584223974,-0.9811024470643513,-0.71223109407888,-1.8487063011754359,1.1184795634914673,0.17261025740220975,0.5380583839330519,-1.8282479080435758,1.5628845867660366,-1.5150520261668199,1.2848280167505028,-0.5663056324504969,-1.6327750559706105,-1.799408039885134,-0.15611478425216915,-1.266585469724857,0.8806487468174514,-0.9426028145590052,-0.7609124602314112,0.3418499998931053,-1.0535876666877373,0.5291845783458391,-0.26790337838438233,-0.20110070732600474,1.5328018307884808,0.12553044750871098,-0.8192237051342149,0.7771852731711804,-0.5168828065830547,-1.8286156740270667,-1.674495584237812,-0.8292067364198293,-0.7949660923995787,0.00030658041853802426,-0.6864666040657206,1.1079419193566515,-1.859057098444541,1.665722067730965,-1.1861547510948793,-0.8219967693802189,-0.7902474169027722,1.6476066905730489,0.46953551978643193,-1.2778022912860132,0.4587637717888382,-0.7917657378338022,-0.8712117953425186,-0.5937098381761847,-1.7730921068184153,0.43182184604077684,-0.6607143813917749,0.5531843762259764,-1.3852726194538303,-0.08702545176048804,-0.38695829409684623,-0.7936433040344775,0.9190061964882394,0.39453822056718235,0.12682059232489284,-1.5200907988066956,0.46098222318564147,1.4881836736981355,-0.6970042482005359,-0.8111771875558306,-0.9342836218209929,-0.5113366780910465,0.8483625647345941,-0.5732101157951868,-0.2259960032514711,-1.4107225282284972,1.5941147278954904,-0.8798069980221734,-0.5575326804487037,0.15812804103441858,-0.3681277611816546,-1.33708358386193,-0.18834461179438622,0.08220836298247772,0.20539469779362768,-1.0582736986356245],\"yaxis\":\"y\",\"type\":\"scattergl\"},{\"hovertemplate\":\"is_safe=0<br>PC1=%{x}<br>PC2=%{y}<extra></extra>\",\"legendgroup\":\"0\",\"marker\":{\"color\":\"#EF553B\",\"opacity\":1,\"symbol\":\"circle\",\"size\":3},\"mode\":\"markers\",\"name\":\"0\",\"showlegend\":true,\"x\":[0.9313351259388889,0.6435888647470605,1.0333542580787565,1.719727231298268,1.1931467007266814,0.734517132544035,1.0729340690988014,-1.1866558001816243,1.3656710555286056,-1.4437520494622464,0.1258696528714609,0.8001884953509648,0.011560958943566733,0.9320129073528802,-1.9095184664016889,1.1067668078017099,0.9144971892788591,0.013727040209031085,-1.5155436154997346,1.5203942604628828,0.8546905345288281,0.3107227459150003,1.1788237946966809,1.0379026329507595,0.7813172144489614,0.3058497096062851,0.48315787032823104,1.6315494251793419,0.31813927139431175,1.7783745246252487,-0.34793758545316467,-0.015729290288451676,0.32791380255230923,0.8033813073949853,0.83518070185592,-1.6812300169743224,0.734517132544035,0.13951477748747007,1.7888268371972376,-0.29271853521822333,1.405525474050258,1.4640157956153936,1.5549440634123675,0.07120066305843051,0.8547297641719149,0.18125639278126893,0.7995107139369735,0.4787771851310946,0.5752847823808408,0.062231634306504906,-0.07626298815838105,0.34542952062633014,-0.09512429018706245,0.13157738916651443,1.4301830569124845,1.0130881315161855,-0.44136087294402626,0.6013371577141371,0.734517132544035,1.1099596198457304,1.4028928076804663,0.5844992210541076,-1.784408563726739,1.2256238766016072,0.07587675892251407,1.1742754198246779,0.2989632868022403,1.4990472317634351,1.971999705976082,1.124960307289722,-0.04604038489791324,1.9531284250740784,1.8933609999671346,1.157437483164648,1.979740892892106,0.959941708355803,-0.26729473278250965,1.7277038492623105,-0.2861267840414265,0.8274395149398965,1.4360869946124706,-0.08004509026739916,0.8858121475757715,0.6390404898750573,0.4653282619200176,0.5163128276171483,-0.8985021412751996,1.2483657509616228,1.350788057013874,0.8729232636599272,1.6315494251793419,-1.2914453517461841,0.19995998400840578,1.3815457257915205,-0.8749939941521993,1.577685937772383,0.7313243205000142,-0.834692209233164,-0.09147988794344696,-0.06495591147441357,0.10907596188592807,0.24927509654336136,1.3704156318055405,0.2801312355433236,0.6702013325650876,0.21292732721042362,1.842690324604196,0.3967779774032596,0.8638265139159209,0.13781026529492274,-0.21322506509729686,0.30972030306429704,0.9054004395348529,1.1619858580366513,0.2688241588593561,1.6458723312093422,1.124960307289722,-0.17802599246388648,0.9267475214237992,0.8725701436826476,0.7767688395769584,-0.10895136034297107,-0.14610463208198066,1.1742754198246779,-0.06423388438592546,-0.5631995042887816,0.44912887703089216,0.12132127799945781,-0.17101258770746033,0.0667800091785079,-0.34793758545316467,-0.6402514934134387,0.18172725487730673,-1.2962049229278512,-0.39507088277822416,0.22202407695442994,0.27852023073118,0.15315990210347935,-0.6541712787205539,-0.01343548803090674,0.9176900013228796,0.9820058013018268,0.8001884953509648,-0.1572005124562838,0.21360510862441495,-1.1871766098337704,0.4642865894262275,-0.14436089024634643,0.5331507642771779,1.396350265020078,1.2294944700596189,0.03646891456904639,-0.0006401114954662136,-1.8320191640691472,1.8335935748601901,0.12460326724267343,-0.20500235136171244,-0.44359047178043054,1.2027643133123316,0.9144971892788591,1.0326764766647651,1.2522363444196345,1.8160778567861688,0.9274645324808772,-0.047528684749386305,1.32150363999347,-0.007310321958436871,-0.3655902643528891,1.6451945497953506,1.170404826366666,1.1885198665685048,-0.24502445955823157,0.5897253773401017,-0.09671106026085143,-0.03774913755997882,0.3142686779363001,0.07132838405051097,0.030393010202483407,0.4688349642982306,0.9144971892788591,1.1379276504917402,0.46496437084021885,-1.9022046881364036,0.40200413368925403,-0.12548960934434297,-1.0250411564118915,0.8809105995369909,0.9774574264298236,0.5493108663337183,0.999521519375848,0.33701055229631544,0.5981443456701167,0.011560958943566733,1.2476879695476315,0.08557283079433793,0.40200413368925403,0.5124030045160497,0.1044833413394282,0.9606194897697943,1.5140479192074272,1.1924689193126903,-0.0436580912913746,-1.0476995554543231,0.708582446139999,1.0242575083347503,1.3022292383685812,0.1310958091574553,0.03192053969704333,-0.04825071183787439,1.5133701377934357,0.0667800091785079,1.7186070995183045,0.12722521569944342,0.13487791126647333,1.270429843907647,0.9601093980306696,1.2256238766016072,-0.27231470879025,1.5308858558674563,-0.06950428634641669,1.5542662819983766,0.8725701436826476,-0.3388408357091584,0.4051969457332746,-0.1859790615397754,1.462021681016506,1.0463216012807743,0.24995287795735263,1.036547070122777,0.7728982461189464,-2.146834499310008,1.8297229814021783,1.378156765532066,-0.0020841656724424613,-0.22534266021874616,0.14019255890146148,0.611789470286126,0.9358835008108917,-0.28817016034622034,0.43380352815018863,-0.18525703445128708,0.0675862506242791,0.19995998400840578,-0.25412120930223775,0.46951274571222185,0.18393256578585782,0.9267867510668855,-0.008887113158903672,1.0266155672029345,1.265763726916885,-1.3020304013416633,1.2294944700596189,-0.3138886344091819,0.6682856240628761,0.12416514067891357,0.31813927139431175,0.735323373989806,-0.07248088604936294,0.24540450308534956,1.2195237374966894,-1.1866558001816243,1.1892761072686695,0.19995998400840578,0.5708540964380981,-0.012713460942418578,0.9176900013228796,1.3074553946545757,1.7231554743903073,0.1923072884413759,1.6828586523131843,0.7767688395769584,0.6344921150030544,-0.11107821196534871,1.4581510875584942,-0.04520990871378745,1.6790272884982598,1.7640516185952482,1.2438173760896194,0.406552508561257,-0.08459346513940219,1.5179185126654386,-1.0257039429211512,0.5669835029800864,0.21747570208242664,0.22414591254539737,-0.10797389127032192,1.723833255804298,0.4831186406851443,1.4867576699754081,0.5844992210541076,1.2347206263456132,0.7117752581840195,2.424047555044752,1.9076839059971349,-0.5215513963753873,0.3967779774032596,1.5126923563794439,0.9962894776887405,-0.20561661520476388,0.16722736614931885,1.3801901629635382,-1.3553337962638912,0.07651531069341859,1.190799412961017,0.7851878079069732,0.9001742832488585,1.111315182673713,0.010794686180581615,0.5752847823808408,0.23698553475533476,0.0675862506242791,-0.20204570940540995,-0.14436089024634643,0.47406112058422484,-1.5765881441484875,1.774503931167237,0.5247317959471631,1.769955556295234,0.5929181893841222,-0.1610268602397987,-1.5993200396351808,0.28246928347536543,1.7517620568072216,0.45518983968222143,1.7563104316792248,0.8124780571389916,0.44287176616412954,0.27265552267428117,0.3051326985492071,-1.8075385639049082,0.22491218530838222,0.01610933381556976,-0.5130931984022856,0.05313488456249871,0.6792980823090938,0.9320129073528802,0.6344921150030544,1.0326764766647651,2.3136094545748698,-1.246811351106722,0.7390655074160379,0.7494785903449399,1.4997250131774265,-0.16701928928877807,-1.1614924025719837,-0.14436089024634643,1.5088217629214327,0.5785952833541218,1.2899396765805544,1.0690634756407897,0.3324621774243123,1.1327014942057456,-0.44625312795968597,1.5867826875163893,0.5806286275960956,0.5838214396401162,1.1931467007266814,0.14928930864546752,0.9222383761948822,0.31881705280830314,0.611789470286126,0.5065382964591507,0.07808708586247527,0.5331507642771779,0.2619677258647754,1.32150363999347,1.2567847192916377,0.38768122765925345,0.7841176236831173,0.21360510862441495,0.3240432090942974,0.5756486202711413,0.2868999694181081,1.3769581212764306,0.5883698145121191,1.619259863391315,0.07065060263651973,2.3610873178937872,1.036547070122777,1.3899646941215351,1.0922869300098643,-0.23894353916025846,0.5981443456701167,0.8547297641719149,0.06610222776451666,1.4282673484102733,1.1327014942057456,-0.09216268538884836,-0.12548960934434297,0.18108870310640218,0.34997789549833325,1.3074553946545757,-0.14512716300933148,1.8894904065091225,2.350635005321798,-0.23587776225811719,-0.18138644099327536,0.7767688395769584,-1.2237305594449621,0.7222275707560082,1.719284880932296,0.26427578398735296,-0.1466154628608046,-0.3277007096603585,-1.7263898432973408,1.2697520624936556,1.2983586449105697,-1.1098050284933092,0.5785952833541218,1.590653280974401,1.1281531193337428,1.3854163192495323,1.1099596198457304,0.7995107139369735,1.0515477575667687,-0.08459346513940219,1.596478759388213,-0.3124003345577088,0.01543155240157856,2.0908567747759794,1.170404826366666,0.667008520521067,1.487278532817053,0.78063943303497,1.0229019455067678,-1.7727576068991147,0.1204665138874792,1.0547405696107892,0.1620404395064112,-0.20582781151442808,-0.26632154070157105,0.5701763150241069,1.619259863391315,1.9031355311251315,0.29904676211982395,0.8495036078859206,1.9031355311251315,0.18563707797840526,1.1015406515157153,0.18125639278126893,-0.12460490861239844,0.27832402932624783,1.792019649241258,0.20833972269533385,0.7578583290318677,0.7708649018769727,1.3256488941425877,1.8803936567651165,1.1145079947177334,1.4340143675379116,0.0849735086665202,0.26359800257336186,1.1931467007266814,0.7995107139369735,0.5292801708191661,0.25227165399295154,1.2620108755776316,0.41361591406328946,0.9138194078648678,1.8206262316581716,0.7908170849158531,-1.5569898201265862,1.7888268371972376,0.5988221270841078,1.2476879695476315,0.21360510862441495,1.1015406515157153,1.0638373193547954,0.8488258264719292,1.179501576110672,-0.284471533554786,-0.9392455907100059,-0.1574066927345378,0.007690365485554941,0.6520078330770753,-0.24214559103790176,-0.05449858287101481,1.719284880932296,1.4412739212553778,1.884942031637119,-1.1871766098337704,1.7926974306552492,-0.4811368321795053,1.2256238766016072,0.29301008739634776,0.603370501956111,1.719727231298268,-1.242985003323207,1.3074161650114888,0.6715568953930702,0.8676971073739328,-0.8030690052410197,0.23698553475533476,1.1963395127707022,0.37209193600046575,0.2733725337313592,0.8586003576299266,2.0342821617130555,1.517240731251447,1.2938102700385663,-1.5429665485657453,-1.5012106774069136,1.925199624071156,0.2629202211593706,1.829045199988187,-1.5586058409701395,0.009178665337028042,-0.17001014485675722,-0.10270348930983082,0.6708791139790787,0.07519897750852277,0.37403610304324436,1.1742754198246779,0.20383057746641745,0.728937803091263,0.8533742013439322,0.9904247696318419,0.26427578398735296,0.6702013325650876,-0.11252226614232493,-1.5569898201265862,0.0849735086665202,1.4483765564004965,1.582234312644386,-0.017841147006097215,1.7783745246252487,1.3074553946545757,-0.20574433619684437,1.5133701377934357,0.5331507642771779,1.3081331760685666,-0.2828555127112323,0.05534521150246,1.8524648557621934,-0.056625434493392426,2.081720795388886,0.34610730204032153,0.2583718462873675,1.4392798066564905,0.9767796450158326,0.6526856144910665,1.458828868972486,1.1190563695897366,1.0726593552181978,-1.0535250338681352,2.040186099413042,0.908593251578873,-0.2086766902252938,0.9144971892788591,-0.20500235136171244,0.18631485939239656,0.5543408212147805,0.5156350462031569,0.0037020830982828065,0.9879097390018128,2.035637724541038,0.7267759456280113,-0.23146281025980597,0.21679792066843548,2.1914811144447777,1.3847385378355408,0.5806286275960956,1.0501921947387862,0.40451916431928325,1.2015656690566965,1.3717711946335231,1.944709456744064,0.6572339893630695,0.11677290312745478,-1.4339332726297522,0.38700344624526223,0.285662095519386,2.575421029362662,1.3074553946545757,1.124282525875731,1.767882929220675,-0.044507839371943254,0.5883698145121191,0.05309063888800187,1.5263374809954535,0.6520078330770753,-1.8851113626817109,0.7638014963749402,-0.09760003798450684,1.2899396765805544,-0.03239526028190401,1.7790523060392394,0.7995107139369735,0.31315926406935773,1.2015656690566965,1.4711184307605123,-0.14589343577231637,0.33313995883830355,1.1931467007266814,-0.23894353916025846,0.6566453851482736,0.0031419906135518017,0.061553852892513646,1.8381419497321934,0.8365362646839025,0.959941708355803,1.3977058810375589,0.41497147689127206,-1.7727576068991147,1.8985871562531285,2.4292737113307465,1.786793492955264,-0.047528684749386305,-1.7345533696431945,0.003186236288048654,0.3558033739121452,-0.3650694547007425,0.2415339096273377,-0.9952993941207833,-1.3367521709577255,0.5247317959471631,-0.2987552099416997,1.9401610818720605,1.458828868972486,2.164269324498933,-0.03239526028190401,0.47338333917023373,1.5510734699543556,-2.146834499310008,2.1583653867989474,1.031998695250774,1.197017294184693,1.619259863391315,-0.01194718817943371,-0.17283980486067804,0.9965748562928676,1.2483657509616228,1.2470101881336402,0.2362192619923497,-0.04520990871378745,1.2892618951665633,0.6397182712890486,0.6442666461610518,0.44222249648020356,0.6838464571810967,1.9401610818720605,0.3967779774032596,-0.1595385603883256,2.025185411969049,-0.05730321590738381,1.5588146568703791,2.1824628239869455,1.9213290306131436,-1.273114152392769,-0.14368310883235516,2.406531836970731,0.9449802505548978,0.10686563494596686,0.31359089652230876,1.4392798066564905,0.20901248807791498,1.321100519270585,-0.5197099233571364,-0.360305606527365,0.6702013325650876,-0.18249163105800512,0.4503275212865276,1.4347314317844877,-1.9319999359356308,1.3704156318055405,1.9394440708149827,0.7260981642140201,0.13781026529492274,0.5624351281080833,0.8488258264719292,1.8803936567651165,-0.5015991601470086,0.3376883337103066,1.120411932417719],\"xaxis\":\"x\",\"y\":[1.1959535408053714,0.36933468299450745,-0.6864666040657206,-0.45582480139188264,-0.27121603018808527,1.1509616899836068,1.6089856632862045,-1.0411370548510392,1.7496437643165101,0.4140119525777808,1.0137676861215061,-1.5064301076861752,0.6040632407358785,0.05072316495081351,1.4752407313008065,-1.0522884243279835,-1.0967256623005484,-0.5388864014333069,-1.08963750188579,0.2274311011791723,0.04129474651439976,0.3917238270720405,0.872350507118871,-0.6859119912165197,-0.36341818322842023,-1.2339196661626493,0.32877973496634816,1.740078925807097,1.058204924094071,1.0084352852825702,1.6677536722620578,0.6007355636406736,-0.08591622606208643,0.7845852568721428,1.559002296821631,-0.3099116071027135,1.1509616899836068,1.0154315246691084,-1.2809162407281458,1.2997134006029918,-1.3486472183671447,-0.9667416254780581,-0.1851146184889594,-0.5213819916652314,-0.7292400034906832,1.188461801062562,-0.36119973183161697,0.8709595087172697,1.902084990266661,0.23546835622761156,0.5849572747087706,1.0615326011892758,0.6330395289673211,-1.5879581965186946,1.6945324621361297,-0.6469526716994627,-0.5754849217326301,1.8842691690557352,1.1509616899836068,1.2387269402303356,1.6912047850409246,-0.408410034050186,0.01029553945208275,-0.6420293660931555,0.23713219477521408,0.8717958942696701,-1.6137313722320732,1.3281560290246666,-1.2375882284539828,-1.0500699729311802,-0.17140074262344157,-0.09457630399622671,0.27290935481363865,-1.4208833088362507,1.0539817489535368,-0.32064478380345757,0.5616635350423366,1.3770301697908376,0.9341407094950096,-0.7325676805858882,-0.5953736767237873,0.9676666096013387,1.9609421623184469,0.3687800701453066,1.181115413949951,-1.1872639767932809,0.8489735321244352,-0.6392563018471517,1.7268364274627768,-0.7270215520938801,1.740078925807097,0.053611696230385884,-0.49728450999531604,-1.3725637809192799,1.2350105441122075,-0.18234155424295534,-1.1400536745747119,-1.0150138963979611,0.587300290682714,0.20736402003615043,-0.5146643551862514,1.4245813572055346,2.0620181209459947,-1.2412541977794003,1.5178927359442709,0.6496097044068451,0.6415042393219058,-0.45229265917355016,-0.7281307777922815,-1.2733031062038365,1.7009740886734668,-0.0881346774588897,-1.0978348879989501,-1.4203286959870496,-0.8636609431067799,0.5965123885001398,-1.0500699729311802,0.3741126359706149,1.9659336779612542,2.0432977041461675,-0.36397279607762106,0.2040986252295158,-0.18360222530585937,0.8717958942696701,-0.1736191940202448,1.6394061346642466,-1.4862594150054462,1.0132130732723053,0.9565743526173225,0.23602296907681247,1.6677536722620578,-0.578744388791335,0.2710317886129636,-0.6986149020031405,-0.40190003248997597,0.6507189301052466,-0.46671259325277137,1.017095363216711,0.6488415288909445,0.21574549506273275,1.1942897022577699,0.8273586562971051,-1.5064301076861752,0.9456630147510864,-0.4956206714477135,1.1864478147888862,1.4717916594241038,1.3345976555620025,1.1054152263126402,0.19131305594461934,0.5037556226106042,-0.536113337187303,-0.15956702592451413,0.3771643031241769,0.6403950136235042,1.2235388306352135,-1.6289995473595549,-1.616107031754936,1.666801819676089,-1.0967256623005484,0.4587637717888382,0.5065286868566081,-0.5070538136278583,0.05016855210161272,-0.1736814763088149,0.22417163412046742,1.747075165193634,1.4125845046326173,1.7417427643546985,-0.27398909443408936,1.2692988569728798,0.9265570487239785,-1.553085797055544,0.19719414188482562,0.21697928533827454,-0.0875800646096889,0.23657758192601328,0.23158606628320594,1.4723462722733047,-1.0967256623005484,0.09682424147098095,0.3265612835695449,0.7286848261364296,-1.5969684221789082,0.19158573110424743,-0.6487561001157072,0.5662133119035959,0.8268040434479044,0.37883131146742144,1.9748074835484668,-0.08480700036368481,-0.40674619550258356,0.6040632407358785,0.5059740740074075,0.6340805446292224,-1.5969684221789082,-1.5625142154919578,-1.2794661298336156,-1.4658751596580162,-0.9606408841368493,0.8740143456664736,0.972103512394945,-0.6578167525686306,-1.1428267388207158,-0.6875758297641221,1.2831641782029002,-0.13090807688385228,-0.5366679500365036,0.2073017377475803,0.18458949171770936,0.23602296907681247,1.3759209440924356,-1.2766930655876114,-0.51361741177642,0.5087471382534113,0.22208960279666515,-0.6420293660931555,0.9232293716287736,1.3320383189690717,0.20680940718694973,0.9601157573655997,2.0432977041461675,1.6688628979604594,0.6940469423794102,0.9400546039705082,1.698414752080535,0.4604276103364408,0.2793509813509758,1.604548760492598,-1.5097577847813803,-0.7960399165967724,-0.5053899750802557,0.18909460454781604,0.602399402188276,0.931056233806155,-0.1297988511854506,-0.40508235695498124,1.1965081536545734,1.3002680134521925,-0.8225513822294198,0.5590713899141125,0.4040617298274587,-0.49728450999531604,0.9254478230255769,0.32711589641874567,-1.6424526035613047,1.1953989279561716,0.21630010791193358,1.6663154168633887,-1.344696718386239,0.05022173684661094,0.5037556226106042,1.2929334818354419,-1.5225138803129996,-1.2749669447514393,1.058204924094071,1.3190004507342534,0.202247939816203,0.27879636850177497,1.336057028986478,-1.0411370548510392,-1.417001018891845,-0.49728450999531604,-0.4100738725977884,-0.16523771899366244,1.1942897022577699,0.13848841519754193,1.376475556941637,-1.2603601638065078,0.9967884154493531,-0.36397279607762106,0.3682254572961059,0.5765135173936182,0.5526297633767755,-1.2137489734819193,-0.919531323259489,2.152001822589526,-0.6398109146963524,-1.5964138093297076,0.9671119967521379,0.18514410456691022,0.936326517342893,-1.555858861301548,0.6501643172560458,-1.256477873862102,1.3390345583556091,0.23124518108707745,1.0993144849714314,-0.9639685612320541,-0.408410034050186,-0.640920140394754,1.1481886257376026,0.7753705660888017,-0.8706571824933176,-1.2508398243418732,-0.45229265917355016,1.329819867572268,0.45432686899523184,1.6998025806864943,-1.6423903212727349,0.9178969707898376,-0.7058248690427509,-0.137563431074262,0.9997661098048578,0.7823668054753393,0.04684087500640784,-1.0517338114787824,0.22079929299411022,1.902084990266661,-0.8675432330511855,0.4040617298274587,0.5654212604096021,1.3345976555620025,0.32767050926794644,0.027239408623027414,-0.13734970342118946,-0.040924375240320575,-0.1379043162703903,0.7379295675027743,0.5641251878454899,-1.0704633258221816,-0.8619971045591776,-0.14012276766719348,1.470682433725702,-0.1395681548179927,0.7856944825705443,-0.5905275137111794,1.052658795602063,0.6818454596969924,0.3633553364347968,-0.8732139261203339,0.6046178535850794,-0.875034972793996,0.23435913052921,1.5190019616426726,0.05072316495081351,0.3682254572961059,0.4587637717888382,1.5114511094069347,-0.31781853481245537,1.1515163028328077,-0.3673004731728259,0.18292565317010684,1.3255370031090796,-0.6653944855917318,1.3345976555620025,0.18403487886850847,1.8814961048097307,-1.00896041205382,0.46320067458244474,-0.08536161321288563,1.2415000044763393,0.5440404884450507,-0.18123232854455365,-1.5541950227539456,0.7368203418043728,-0.27121603018808527,-0.1286896254870489,1.194844315106971,-0.08702545176048804,-0.40508235695498124,-0.04314282663712381,-0.1415702855958078,1.1054152263126402,-0.3637681659681203,0.22417163412046742,0.507083299705809,-0.45340188487195193,1.3039576937693311,-0.4956206714477135,-1.231701214765846,-1.407854373158631,1.4501617583052724,-0.6025836437633978,0.7373749546535735,-0.5520456644496239,1.3818079577805722,-1.1481591396596513,1.604548760492598,-0.2262241793663194,-0.9910763808063935,1.6936395570567158,-0.40674619550258356,-0.7292400034906832,1.381253344931371,-1.3458741541211408,1.2415000044763393,0.1977487547340264,0.19158573110424743,0.6457274144624394,1.0620872140384767,0.13848841519754193,0.9513337078202346,-0.8728756338901209,1.1411923863510647,-0.3824885827679475,1.7048563786178725,-0.36397279607762106,1.1945860884091186,-1.1411629002731136,0.2306905682378767,-0.8642155559559807,0.9490529741348613,1.303844819701678,0.7543215817768069,1.6539775141079702,0.13737918949914035,-0.6695881869789876,1.8814961048097307,0.9645526601592058,1.240945391627139,-0.22677879221552025,1.2387269402303356,-0.36119973183161697,-0.6842481526689173,0.9671119967521379,0.21571602130945486,1.2952142155208155,1.749848229439638,-0.8273291702191543,-0.27398909443408936,-0.7731226286140476,0.9729400629337185,0.7818121926261384,1.6028849219449957,-1.4873777382474194,-0.8985451980657913,1.6067672118894014,-1.2682493082724597,0.9481305953021699,0.7171271193791449,0.7351565032567702,-0.5520456644496239,-0.8712117953425186,-1.6200189604389923,0.41543575951467493,-0.8712117953425186,0.6462820273116403,0.09238733867737453,1.188461801062562,-1.181445008155272,-0.7785323370330549,1.0100991238301729,1.419589841562727,1.549573878385217,1.925933342782296,0.1407068665943452,-0.8739848595885225,1.2392815530795362,-0.5536412929607262,0.23824142047361568,0.2810148198985783,-0.27121603018808527,-0.36119973183161697,-0.04036976239111978,-0.7607165158221291,-0.637592463299549,1.8403865439323708,0.04850471355401029,-0.5064992007786574,-0.27828957715469543,0.03802618191212318,-1.2809162407281458,-1.5519765713571418,0.5059740740074075,-0.4956206714477135,0.09238733867737453,1.607876437587803,1.5606661353692335,-0.27287986873568776,0.9238462667665447,0.1763294114726256,1.7287729411700075,-0.541721747967881,1.5156742845474678,1.0528634257115632,-0.5472055941713192,0.2306905682378767,-0.9695146897240622,-0.8734302467393218,1.1864478147888862,-0.13513125202438625,0.9817365609408596,-0.6420293660931555,-1.622854306973566,-1.5514219585079412,-0.45582480139188264,0.06371929209314071,0.9090231652026244,-0.7725680157648463,0.41765421091147814,1.422217553178532,-0.8675432330511855,2.019799334370233,0.8999357969487123,-0.863106330257579,0.4165449852130765,1.8311718531490295,1.330374480421469,0.13682457664993955,0.7787868294302126,0.8363597844137469,0.2767916447580444,1.426245195753137,0.6398404007743035,-0.7222141253644946,-0.5394410142825077,1.4364328571482523,0.9586059571484155,0.3726623600897124,1.3823625706297729,-0.45506572341955426,0.8717958942696701,0.6485004787084435,0.9014632154233142,1.5612207482184344,1.9736982578500653,-0.8642155559559807,1.5178927359442709,1.3384799455064087,0.03802618191212318,0.23824142047361568,1.6967509135329328,-0.18178694139375448,1.413002697408818,1.0084352852825702,0.13848841519754193,0.9418430070952508,0.18458949171770936,1.1054152263126402,-1.0067419606570167,1.6840865740431614,-0.1443433498418119,-0.5026169108342518,-0.17479070200721641,-0.057903645912473226,-0.08369777466528319,1.4256905829039361,1.6956416878345315,1.972034419302463,0.3704439086929091,-0.5926006124777832,1.2398361659287374,-1.3262580742896115,0.09101988628112058,-0.4587342857108874,1.1931804765593685,1.7015287015226674,-1.0967256623005484,-1.6289995473595549,-0.49894834854291836,-1.0776641953182202,-0.042033600938722174,0.624097513343608,-1.4625474825628118,-0.45928889856008825,-1.1406082874239125,0.9345084754785001,1.7953946931106046,0.35124618662395335,0.9184515836390384,-1.5541950227539456,1.6062125990402003,1.8392773182339688,0.8751235713648752,-0.22844263076312266,-1.2409159055491872,0.3709985215421099,1.0126584604231046,0.03413796421978745,0.691828490982607,1.4290182599991408,0.04428153841347636,0.13848841519754193,0.09516040292337855,-0.09617193250732911,0.5951271528600954,0.7373749546535735,-0.5298880312689538,1.3314837061198708,1.5156742845474678,0.37278968261914086,-1.5108670104797821,0.590752532355059,-1.00896041205382,-0.16973690407583908,-0.13679509057198871,-0.36119973183161697,1.2045455736893858,0.8751235713648752,1.6995239777789375,0.5680697600784658,-1.2305919890674446,-0.27121603018808527,1.6936395570567158,-0.5644607097987414,-0.5422763608170821,1.3806987320821704,0.6409496264727047,-0.7314584548874864,-0.32064478380345757,2.0653457980411996,-0.45007420777674706,-1.4873777382474194,-0.8717664081917192,-0.36930519691655656,2.154774886835531,-0.1736814763088149,1.123901127406335,0.22197080098108185,0.3132505751887254,-0.8150003650073081,-0.8669886202019847,0.6072455652008839,-1.0594392788746658,-0.040924375240320575,1.2968780540684175,-1.2414705183983878,-0.5926006124777832,-1.1931509904814173,-0.16973690407583908,1.4729008851225052,-1.3308996071927188,-0.7960399165967724,1.0967551483784994,1.6039941476433974,0.8745689585156744,-0.5520456644496239,0.2180262287481061,-0.555337940043621,-1.3145429944198943,-0.6392563018471517,1.651204449861966,-1.2508071807929542,-1.2137489734819193,0.1362699638007387,-0.7764503057092522,-0.7758956928600514,0.3237882193235408,1.5195565744918733,-1.2414705183983878,-0.45229265917355016,0.5664059215308633,1.8300626274506278,0.9704396738473429,0.9606703702148001,-1.190932539084614,-0.8689933439457151,-0.2811399489807716,0.1893672797074441,-0.37207826116256054,1.1976173793529752,-0.13596187481522964,1.05765031124487,1.6956416878345315,-1.2604224460950781,0.14015225374514448,0.14561514690915028,0.9166985820155038,1.5178927359442709,-0.18803912809946577,-0.6945811666942321,1.6950870749853302,0.35867523223484,2.0620181209459947,0.6742946074612536,0.00462208843064604,-1.2733031062038365,-1.5564134741507487,1.5606661353692335,-0.8739848595885225,0.7094307495268334,-1.2300373762182437,-1.0506245857803809],\"yaxis\":\"y\",\"type\":\"scattergl\"}],                        {\"template\":{\"data\":{\"bar\":[{\"error_x\":{\"color\":\"#2a3f5f\"},\"error_y\":{\"color\":\"#2a3f5f\"},\"marker\":{\"line\":{\"color\":\"#E5ECF6\",\"width\":0.5},\"pattern\":{\"fillmode\":\"overlay\",\"size\":10,\"solidity\":0.2}},\"type\":\"bar\"}],\"barpolar\":[{\"marker\":{\"line\":{\"color\":\"#E5ECF6\",\"width\":0.5},\"pattern\":{\"fillmode\":\"overlay\",\"size\":10,\"solidity\":0.2}},\"type\":\"barpolar\"}],\"carpet\":[{\"aaxis\":{\"endlinecolor\":\"#2a3f5f\",\"gridcolor\":\"white\",\"linecolor\":\"white\",\"minorgridcolor\":\"white\",\"startlinecolor\":\"#2a3f5f\"},\"baxis\":{\"endlinecolor\":\"#2a3f5f\",\"gridcolor\":\"white\",\"linecolor\":\"white\",\"minorgridcolor\":\"white\",\"startlinecolor\":\"#2a3f5f\"},\"type\":\"carpet\"}],\"choropleth\":[{\"colorbar\":{\"outlinewidth\":0,\"ticks\":\"\"},\"type\":\"choropleth\"}],\"contour\":[{\"colorbar\":{\"outlinewidth\":0,\"ticks\":\"\"},\"colorscale\":[[0.0,\"#0d0887\"],[0.1111111111111111,\"#46039f\"],[0.2222222222222222,\"#7201a8\"],[0.3333333333333333,\"#9c179e\"],[0.4444444444444444,\"#bd3786\"],[0.5555555555555556,\"#d8576b\"],[0.6666666666666666,\"#ed7953\"],[0.7777777777777778,\"#fb9f3a\"],[0.8888888888888888,\"#fdca26\"],[1.0,\"#f0f921\"]],\"type\":\"contour\"}],\"contourcarpet\":[{\"colorbar\":{\"outlinewidth\":0,\"ticks\":\"\"},\"type\":\"contourcarpet\"}],\"heatmap\":[{\"colorbar\":{\"outlinewidth\":0,\"ticks\":\"\"},\"colorscale\":[[0.0,\"#0d0887\"],[0.1111111111111111,\"#46039f\"],[0.2222222222222222,\"#7201a8\"],[0.3333333333333333,\"#9c179e\"],[0.4444444444444444,\"#bd3786\"],[0.5555555555555556,\"#d8576b\"],[0.6666666666666666,\"#ed7953\"],[0.7777777777777778,\"#fb9f3a\"],[0.8888888888888888,\"#fdca26\"],[1.0,\"#f0f921\"]],\"type\":\"heatmap\"}],\"heatmapgl\":[{\"colorbar\":{\"outlinewidth\":0,\"ticks\":\"\"},\"colorscale\":[[0.0,\"#0d0887\"],[0.1111111111111111,\"#46039f\"],[0.2222222222222222,\"#7201a8\"],[0.3333333333333333,\"#9c179e\"],[0.4444444444444444,\"#bd3786\"],[0.5555555555555556,\"#d8576b\"],[0.6666666666666666,\"#ed7953\"],[0.7777777777777778,\"#fb9f3a\"],[0.8888888888888888,\"#fdca26\"],[1.0,\"#f0f921\"]],\"type\":\"heatmapgl\"}],\"histogram\":[{\"marker\":{\"pattern\":{\"fillmode\":\"overlay\",\"size\":10,\"solidity\":0.2}},\"type\":\"histogram\"}],\"histogram2d\":[{\"colorbar\":{\"outlinewidth\":0,\"ticks\":\"\"},\"colorscale\":[[0.0,\"#0d0887\"],[0.1111111111111111,\"#46039f\"],[0.2222222222222222,\"#7201a8\"],[0.3333333333333333,\"#9c179e\"],[0.4444444444444444,\"#bd3786\"],[0.5555555555555556,\"#d8576b\"],[0.6666666666666666,\"#ed7953\"],[0.7777777777777778,\"#fb9f3a\"],[0.8888888888888888,\"#fdca26\"],[1.0,\"#f0f921\"]],\"type\":\"histogram2d\"}],\"histogram2dcontour\":[{\"colorbar\":{\"outlinewidth\":0,\"ticks\":\"\"},\"colorscale\":[[0.0,\"#0d0887\"],[0.1111111111111111,\"#46039f\"],[0.2222222222222222,\"#7201a8\"],[0.3333333333333333,\"#9c179e\"],[0.4444444444444444,\"#bd3786\"],[0.5555555555555556,\"#d8576b\"],[0.6666666666666666,\"#ed7953\"],[0.7777777777777778,\"#fb9f3a\"],[0.8888888888888888,\"#fdca26\"],[1.0,\"#f0f921\"]],\"type\":\"histogram2dcontour\"}],\"mesh3d\":[{\"colorbar\":{\"outlinewidth\":0,\"ticks\":\"\"},\"type\":\"mesh3d\"}],\"parcoords\":[{\"line\":{\"colorbar\":{\"outlinewidth\":0,\"ticks\":\"\"}},\"type\":\"parcoords\"}],\"pie\":[{\"automargin\":true,\"type\":\"pie\"}],\"scatter\":[{\"marker\":{\"colorbar\":{\"outlinewidth\":0,\"ticks\":\"\"}},\"type\":\"scatter\"}],\"scatter3d\":[{\"line\":{\"colorbar\":{\"outlinewidth\":0,\"ticks\":\"\"}},\"marker\":{\"colorbar\":{\"outlinewidth\":0,\"ticks\":\"\"}},\"type\":\"scatter3d\"}],\"scattercarpet\":[{\"marker\":{\"colorbar\":{\"outlinewidth\":0,\"ticks\":\"\"}},\"type\":\"scattercarpet\"}],\"scattergeo\":[{\"marker\":{\"colorbar\":{\"outlinewidth\":0,\"ticks\":\"\"}},\"type\":\"scattergeo\"}],\"scattergl\":[{\"marker\":{\"colorbar\":{\"outlinewidth\":0,\"ticks\":\"\"}},\"type\":\"scattergl\"}],\"scattermapbox\":[{\"marker\":{\"colorbar\":{\"outlinewidth\":0,\"ticks\":\"\"}},\"type\":\"scattermapbox\"}],\"scatterpolar\":[{\"marker\":{\"colorbar\":{\"outlinewidth\":0,\"ticks\":\"\"}},\"type\":\"scatterpolar\"}],\"scatterpolargl\":[{\"marker\":{\"colorbar\":{\"outlinewidth\":0,\"ticks\":\"\"}},\"type\":\"scatterpolargl\"}],\"scatterternary\":[{\"marker\":{\"colorbar\":{\"outlinewidth\":0,\"ticks\":\"\"}},\"type\":\"scatterternary\"}],\"surface\":[{\"colorbar\":{\"outlinewidth\":0,\"ticks\":\"\"},\"colorscale\":[[0.0,\"#0d0887\"],[0.1111111111111111,\"#46039f\"],[0.2222222222222222,\"#7201a8\"],[0.3333333333333333,\"#9c179e\"],[0.4444444444444444,\"#bd3786\"],[0.5555555555555556,\"#d8576b\"],[0.6666666666666666,\"#ed7953\"],[0.7777777777777778,\"#fb9f3a\"],[0.8888888888888888,\"#fdca26\"],[1.0,\"#f0f921\"]],\"type\":\"surface\"}],\"table\":[{\"cells\":{\"fill\":{\"color\":\"#EBF0F8\"},\"line\":{\"color\":\"white\"}},\"header\":{\"fill\":{\"color\":\"#C8D4E3\"},\"line\":{\"color\":\"white\"}},\"type\":\"table\"}]},\"layout\":{\"annotationdefaults\":{\"arrowcolor\":\"#2a3f5f\",\"arrowhead\":0,\"arrowwidth\":1},\"autotypenumbers\":\"strict\",\"coloraxis\":{\"colorbar\":{\"outlinewidth\":0,\"ticks\":\"\"}},\"colorscale\":{\"diverging\":[[0,\"#8e0152\"],[0.1,\"#c51b7d\"],[0.2,\"#de77ae\"],[0.3,\"#f1b6da\"],[0.4,\"#fde0ef\"],[0.5,\"#f7f7f7\"],[0.6,\"#e6f5d0\"],[0.7,\"#b8e186\"],[0.8,\"#7fbc41\"],[0.9,\"#4d9221\"],[1,\"#276419\"]],\"sequential\":[[0.0,\"#0d0887\"],[0.1111111111111111,\"#46039f\"],[0.2222222222222222,\"#7201a8\"],[0.3333333333333333,\"#9c179e\"],[0.4444444444444444,\"#bd3786\"],[0.5555555555555556,\"#d8576b\"],[0.6666666666666666,\"#ed7953\"],[0.7777777777777778,\"#fb9f3a\"],[0.8888888888888888,\"#fdca26\"],[1.0,\"#f0f921\"]],\"sequentialminus\":[[0.0,\"#0d0887\"],[0.1111111111111111,\"#46039f\"],[0.2222222222222222,\"#7201a8\"],[0.3333333333333333,\"#9c179e\"],[0.4444444444444444,\"#bd3786\"],[0.5555555555555556,\"#d8576b\"],[0.6666666666666666,\"#ed7953\"],[0.7777777777777778,\"#fb9f3a\"],[0.8888888888888888,\"#fdca26\"],[1.0,\"#f0f921\"]]},\"colorway\":[\"#636efa\",\"#EF553B\",\"#00cc96\",\"#ab63fa\",\"#FFA15A\",\"#19d3f3\",\"#FF6692\",\"#B6E880\",\"#FF97FF\",\"#FECB52\"],\"font\":{\"color\":\"#2a3f5f\"},\"geo\":{\"bgcolor\":\"white\",\"lakecolor\":\"white\",\"landcolor\":\"#E5ECF6\",\"showlakes\":true,\"showland\":true,\"subunitcolor\":\"white\"},\"hoverlabel\":{\"align\":\"left\"},\"hovermode\":\"closest\",\"mapbox\":{\"style\":\"light\"},\"paper_bgcolor\":\"white\",\"plot_bgcolor\":\"#E5ECF6\",\"polar\":{\"angularaxis\":{\"gridcolor\":\"white\",\"linecolor\":\"white\",\"ticks\":\"\"},\"bgcolor\":\"#E5ECF6\",\"radialaxis\":{\"gridcolor\":\"white\",\"linecolor\":\"white\",\"ticks\":\"\"}},\"scene\":{\"xaxis\":{\"backgroundcolor\":\"#E5ECF6\",\"gridcolor\":\"white\",\"gridwidth\":2,\"linecolor\":\"white\",\"showbackground\":true,\"ticks\":\"\",\"zerolinecolor\":\"white\"},\"yaxis\":{\"backgroundcolor\":\"#E5ECF6\",\"gridcolor\":\"white\",\"gridwidth\":2,\"linecolor\":\"white\",\"showbackground\":true,\"ticks\":\"\",\"zerolinecolor\":\"white\"},\"zaxis\":{\"backgroundcolor\":\"#E5ECF6\",\"gridcolor\":\"white\",\"gridwidth\":2,\"linecolor\":\"white\",\"showbackground\":true,\"ticks\":\"\",\"zerolinecolor\":\"white\"}},\"shapedefaults\":{\"line\":{\"color\":\"#2a3f5f\"}},\"ternary\":{\"aaxis\":{\"gridcolor\":\"white\",\"linecolor\":\"white\",\"ticks\":\"\"},\"baxis\":{\"gridcolor\":\"white\",\"linecolor\":\"white\",\"ticks\":\"\"},\"bgcolor\":\"#E5ECF6\",\"caxis\":{\"gridcolor\":\"white\",\"linecolor\":\"white\",\"ticks\":\"\"}},\"title\":{\"x\":0.05},\"xaxis\":{\"automargin\":true,\"gridcolor\":\"white\",\"linecolor\":\"white\",\"ticks\":\"\",\"title\":{\"standoff\":15},\"zerolinecolor\":\"white\",\"zerolinewidth\":2},\"yaxis\":{\"automargin\":true,\"gridcolor\":\"white\",\"linecolor\":\"white\",\"ticks\":\"\",\"title\":{\"standoff\":15},\"zerolinecolor\":\"white\",\"zerolinewidth\":2}}},\"xaxis\":{\"anchor\":\"y\",\"domain\":[0.0,1.0],\"title\":{\"text\":\"PC1\"},\"showgrid\":true,\"gridwidth\":1,\"gridcolor\":\"lightgrey\",\"zeroline\":true,\"zerolinewidth\":1,\"zerolinecolor\":\"lightgrey\",\"showline\":true,\"linewidth\":1,\"linecolor\":\"black\"},\"yaxis\":{\"anchor\":\"x\",\"domain\":[0.0,1.0],\"title\":{\"text\":\"PC2\"},\"showgrid\":true,\"gridwidth\":1,\"gridcolor\":\"lightgrey\",\"zeroline\":true,\"zerolinewidth\":1,\"zerolinecolor\":\"lightgrey\",\"showline\":true,\"linewidth\":1,\"linecolor\":\"black\"},\"legend\":{\"title\":{\"text\":\"is_safe\"},\"tracegroupgap\":0},\"margin\":{\"t\":60},\"plot_bgcolor\":\"white\",\"title\":{\"text\":\"PCA scatter plot\"}},                        {\"responsive\": true}                    ).then(function(){\n",
       "                            \n",
       "var gd = document.getElementById('b70bb8ff-988f-45d9-84e0-7616fa502bc2');\n",
       "var x = new MutationObserver(function (mutations, observer) {{\n",
       "        var display = window.getComputedStyle(gd).display;\n",
       "        if (!display || display === 'none') {{\n",
       "            console.log([gd, 'removed!']);\n",
       "            Plotly.purge(gd);\n",
       "            observer.disconnect();\n",
       "        }}\n",
       "}});\n",
       "\n",
       "// Listen for the removal of the full notebook cells\n",
       "var notebookContainer = gd.closest('#notebook-container');\n",
       "if (notebookContainer) {{\n",
       "    x.observe(notebookContainer, {childList: true});\n",
       "}}\n",
       "\n",
       "// Listen for the clearing of the current output cell\n",
       "var outputEl = gd.closest('.output');\n",
       "if (outputEl) {{\n",
       "    x.observe(outputEl, {childList: true});\n",
       "}}\n",
       "\n",
       "                        })                };                });            </script>        </div>"
      ]
     },
     "metadata": {},
     "output_type": "display_data"
    }
   ],
   "source": [
    "# Create a scatter plot\n",
    "fig = px.scatter(OriginalDataForLDA, x=X_trans_pca_train[:,0], y=X_trans_pca_train[:,1], \n",
    "                 labels={\n",
    "                     \"x\": \"PC1\",\n",
    "                     \"y\": \"PC2\",\n",
    "                     \"color\" : \"is_safe\"\n",
    "                 },\n",
    "                 opacity=1, color=y_train)\n",
    "\n",
    "# Change chart background color\n",
    "fig.update_layout(dict(plot_bgcolor = 'white'))\n",
    "\n",
    "# Update axes lines\n",
    "fig.update_xaxes(showgrid=True, gridwidth=1, gridcolor='lightgrey', \n",
    "                 zeroline=True, zerolinewidth=1, zerolinecolor='lightgrey', \n",
    "                 showline=True, linewidth=1, linecolor='black')\n",
    "\n",
    "fig.update_yaxes(showgrid=True, gridwidth=1, gridcolor='lightgrey', \n",
    "                 zeroline=True, zerolinewidth=1, zerolinecolor='lightgrey', \n",
    "                 showline=True, linewidth=1, linecolor='black')\n",
    "\n",
    "# Set figure title\n",
    "fig.update_layout(title_text=\"PCA scatter plot\")\n",
    "\n",
    "# Update marker size\n",
    "fig.update_traces(marker=dict(size=3))\n",
    "\n",
    "fig.show()"
   ]
  },
  {
   "cell_type": "code",
   "execution_count": 71,
   "id": "8579c7e7",
   "metadata": {},
   "outputs": [
    {
     "name": "stdout",
     "output_type": "stream",
     "text": [
      "*************** PCA Summary ***************\n",
      "No. of features:  3\n",
      "No. of samples:  1368\n",
      "No. of components:  2\n",
      "Explained variance ratio:  [0.43362181 0.33052186]\n"
     ]
    }
   ],
   "source": [
    "pca = PCA(n_components=2)                       \n",
    "\n",
    "# Fit the model\n",
    "X_trans_pca_train=pca.fit_transform(X_std_train)\n",
    "\n",
    "# Print the results\n",
    "print('*************** PCA Summary ***************')\n",
    "print('No. of features: ', pca.n_features_)\n",
    "print('No. of samples: ', pca.n_samples_)\n",
    "print('No. of components: ', pca.n_components_)\n",
    "print('Explained variance ratio: ', pca.explained_variance_ratio_)"
   ]
  },
  {
   "cell_type": "code",
   "execution_count": 72,
   "id": "eeee41f1",
   "metadata": {},
   "outputs": [
    {
     "name": "stdout",
     "output_type": "stream",
     "text": [
      "Goodness of Fit of Model for PCA with ALL variables \tTrain Dataset\n",
      "Classification Accuracy \t: 0.8055555555555556\n",
      "\n",
      "RECALL==TRUE POSITIVE RATE\n",
      "              precision    recall  f1-score   support\n",
      "\n",
      "           0       0.77      0.86      0.81       674\n",
      "           1       0.84      0.76      0.80       694\n",
      "\n",
      "    accuracy                           0.81      1368\n",
      "   macro avg       0.81      0.81      0.81      1368\n",
      "weighted avg       0.81      0.81      0.81      1368\n",
      "\n"
     ]
    }
   ],
   "source": [
    "# Decision Tree using Train Data\n",
    "dectree = DecisionTreeClassifier(max_depth = 4)  # create the decision tree object\n",
    "dectree.fit(X_trans_pca_train, y_train)                    # train the decision tree model\n",
    "\n",
    "# Predict Response corresponding to Predictors\n",
    "y_train_pred = dectree.predict(X_trans_pca_train)\n",
    "\n",
    "\n",
    "print(\"Goodness of Fit of Model for PCA with ALL variables \\tTrain Dataset\")\n",
    "print(\"Classification Accuracy \\t:\", dectree.score(X_trans_pca_train, y_train))\n",
    "print()\n",
    "print(\"RECALL==TRUE POSITIVE RATE\")\n",
    "\n",
    "print(classification_report(y_train, y_train_pred))"
   ]
  },
  {
   "cell_type": "code",
   "execution_count": null,
   "id": "5f560baf",
   "metadata": {},
   "outputs": [],
   "source": []
  },
  {
   "cell_type": "code",
   "execution_count": null,
   "id": "538fa8e4",
   "metadata": {},
   "outputs": [],
   "source": []
  }
 ],
 "metadata": {
  "kernelspec": {
   "display_name": "Python 3 (ipykernel)",
   "language": "python",
   "name": "python3"
  },
  "language_info": {
   "codemirror_mode": {
    "name": "ipython",
    "version": 3
   },
   "file_extension": ".py",
   "mimetype": "text/x-python",
   "name": "python",
   "nbconvert_exporter": "python",
   "pygments_lexer": "ipython3",
   "version": "3.9.7"
  }
 },
 "nbformat": 4,
 "nbformat_minor": 5
}
