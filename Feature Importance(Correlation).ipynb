{
 "cells": [
  {
   "cell_type": "markdown",
   "id": "c02348a3",
   "metadata": {},
   "source": [
    "# INTRODUCTION"
   ]
  },
  {
   "cell_type": "markdown",
   "id": "3e06beaa",
   "metadata": {},
   "source": []
  },
  {
   "cell_type": "markdown",
   "id": "66eb9819",
   "metadata": {},
   "source": [
    "### Data Preparation"
   ]
  },
  {
   "cell_type": "code",
   "execution_count": 46,
   "id": "2bf3bfa2",
   "metadata": {},
   "outputs": [],
   "source": [
    "# Basic Libraries\n",
    "import numpy as np\n",
    "import pandas as pd\n",
    "import seaborn as sb\n",
    "import matplotlib.pyplot as plt # we only need pyplot\n",
    "sb.set() # set the default Seaborn style for graphics\n",
    "from scipy import stats\n",
    "from sklearn.tree import DecisionTreeClassifier\n",
    "from sklearn.model_selection import train_test_split\n",
    "from collections import Counter"
   ]
  },
  {
   "cell_type": "code",
   "execution_count": 47,
   "id": "8fcf16db",
   "metadata": {},
   "outputs": [],
   "source": [
    "txtdata=\"aluminium - dangerous if greater than 2.8 ammonia - dangerous if greater than 32.5 arsenic - dangerous if greater than 0.01 barium - dangerous if greater than 2 cadmium - dangerous if greater than 0.005chloramine - dangerous if greater than 4 chromium - dangerous if greater than 0.1 copper - dangerous if greater than 1.3 flouride - dangerous if greater than 1.5 bacteria - dangerous if greater than 0 viruses - dangerous if greater than 0 lead - dangerous if greater than 0.015 nitrates - dangerous if greater than 10 nitrites - dangerous if greater than 1 mercury - dangerous if greater than 0.002 perchlorate - dangerous if greater than 56 radium - dangerous if greater than 5 selenium - dangerous if greater than 0.5 silver - dangerous if greater than 0.1 uranium - dangerous if greater than 0.3 is_safe - class attribute {0 - not safe, 1 - safe} \""
   ]
  },
  {
   "cell_type": "code",
   "execution_count": 48,
   "id": "e93d7747",
   "metadata": {},
   "outputs": [
    {
     "name": "stdout",
     "output_type": "stream",
     "text": [
      "['2.8', '32.5', '0.01', '2', '0.005', '4', '0.1', '1.3', '1.5', '0', '0', '0.015', '10', '1', '0.002', '56', '5', '0.5', '0.1', '0.3', '0', '1']\n"
     ]
    }
   ],
   "source": [
    "#print(txtdata)\n",
    "#res = [float(i) for i in txtdata.split() if isinstance(i, float)]\n",
    "import re\n",
    "result = re.findall(r\"[-+]?\\d*\\.\\d+|\\d+\", txtdata)\n",
    "print (result)\n",
    "\n",
    "#print(str(res))"
   ]
  },
  {
   "cell_type": "code",
   "execution_count": 49,
   "id": "d19fb475",
   "metadata": {},
   "outputs": [
    {
     "data": {
      "text/html": [
       "<div>\n",
       "<style scoped>\n",
       "    .dataframe tbody tr th:only-of-type {\n",
       "        vertical-align: middle;\n",
       "    }\n",
       "\n",
       "    .dataframe tbody tr th {\n",
       "        vertical-align: top;\n",
       "    }\n",
       "\n",
       "    .dataframe thead th {\n",
       "        text-align: right;\n",
       "    }\n",
       "</style>\n",
       "<table border=\"1\" class=\"dataframe\">\n",
       "  <thead>\n",
       "    <tr style=\"text-align: right;\">\n",
       "      <th></th>\n",
       "      <th>aluminium</th>\n",
       "      <th>ammonia</th>\n",
       "      <th>arsenic</th>\n",
       "      <th>barium</th>\n",
       "      <th>cadmium</th>\n",
       "      <th>chloramine</th>\n",
       "      <th>chromium</th>\n",
       "      <th>copper</th>\n",
       "      <th>flouride</th>\n",
       "      <th>bacteria</th>\n",
       "      <th>...</th>\n",
       "      <th>lead</th>\n",
       "      <th>nitrates</th>\n",
       "      <th>nitrites</th>\n",
       "      <th>mercury</th>\n",
       "      <th>perchlorate</th>\n",
       "      <th>radium</th>\n",
       "      <th>selenium</th>\n",
       "      <th>silver</th>\n",
       "      <th>uranium</th>\n",
       "      <th>is_safe</th>\n",
       "    </tr>\n",
       "  </thead>\n",
       "  <tbody>\n",
       "    <tr>\n",
       "      <th>0</th>\n",
       "      <td>1.65</td>\n",
       "      <td>9.08</td>\n",
       "      <td>0.04</td>\n",
       "      <td>2.85</td>\n",
       "      <td>0.007</td>\n",
       "      <td>0.35</td>\n",
       "      <td>0.83</td>\n",
       "      <td>0.17</td>\n",
       "      <td>0.05</td>\n",
       "      <td>0.20</td>\n",
       "      <td>...</td>\n",
       "      <td>0.054</td>\n",
       "      <td>16.08</td>\n",
       "      <td>1.13</td>\n",
       "      <td>0.007</td>\n",
       "      <td>37.75</td>\n",
       "      <td>6.78</td>\n",
       "      <td>0.08</td>\n",
       "      <td>0.34</td>\n",
       "      <td>0.02</td>\n",
       "      <td>1</td>\n",
       "    </tr>\n",
       "    <tr>\n",
       "      <th>1</th>\n",
       "      <td>2.32</td>\n",
       "      <td>21.16</td>\n",
       "      <td>0.01</td>\n",
       "      <td>3.31</td>\n",
       "      <td>0.002</td>\n",
       "      <td>5.28</td>\n",
       "      <td>0.68</td>\n",
       "      <td>0.66</td>\n",
       "      <td>0.90</td>\n",
       "      <td>0.65</td>\n",
       "      <td>...</td>\n",
       "      <td>0.100</td>\n",
       "      <td>2.01</td>\n",
       "      <td>1.93</td>\n",
       "      <td>0.003</td>\n",
       "      <td>32.26</td>\n",
       "      <td>3.21</td>\n",
       "      <td>0.08</td>\n",
       "      <td>0.27</td>\n",
       "      <td>0.05</td>\n",
       "      <td>1</td>\n",
       "    </tr>\n",
       "    <tr>\n",
       "      <th>2</th>\n",
       "      <td>1.01</td>\n",
       "      <td>14.02</td>\n",
       "      <td>0.04</td>\n",
       "      <td>0.58</td>\n",
       "      <td>0.008</td>\n",
       "      <td>4.24</td>\n",
       "      <td>0.53</td>\n",
       "      <td>0.02</td>\n",
       "      <td>0.99</td>\n",
       "      <td>0.05</td>\n",
       "      <td>...</td>\n",
       "      <td>0.078</td>\n",
       "      <td>14.16</td>\n",
       "      <td>1.11</td>\n",
       "      <td>0.006</td>\n",
       "      <td>50.28</td>\n",
       "      <td>7.07</td>\n",
       "      <td>0.07</td>\n",
       "      <td>0.44</td>\n",
       "      <td>0.01</td>\n",
       "      <td>0</td>\n",
       "    </tr>\n",
       "    <tr>\n",
       "      <th>3</th>\n",
       "      <td>1.36</td>\n",
       "      <td>11.33</td>\n",
       "      <td>0.04</td>\n",
       "      <td>2.96</td>\n",
       "      <td>0.001</td>\n",
       "      <td>7.23</td>\n",
       "      <td>0.03</td>\n",
       "      <td>1.66</td>\n",
       "      <td>1.08</td>\n",
       "      <td>0.71</td>\n",
       "      <td>...</td>\n",
       "      <td>0.016</td>\n",
       "      <td>1.41</td>\n",
       "      <td>1.29</td>\n",
       "      <td>0.004</td>\n",
       "      <td>9.12</td>\n",
       "      <td>1.72</td>\n",
       "      <td>0.02</td>\n",
       "      <td>0.45</td>\n",
       "      <td>0.05</td>\n",
       "      <td>1</td>\n",
       "    </tr>\n",
       "    <tr>\n",
       "      <th>4</th>\n",
       "      <td>0.92</td>\n",
       "      <td>24.33</td>\n",
       "      <td>0.03</td>\n",
       "      <td>0.20</td>\n",
       "      <td>0.006</td>\n",
       "      <td>2.67</td>\n",
       "      <td>0.69</td>\n",
       "      <td>0.57</td>\n",
       "      <td>0.61</td>\n",
       "      <td>0.13</td>\n",
       "      <td>...</td>\n",
       "      <td>0.117</td>\n",
       "      <td>6.74</td>\n",
       "      <td>1.11</td>\n",
       "      <td>0.003</td>\n",
       "      <td>16.90</td>\n",
       "      <td>2.41</td>\n",
       "      <td>0.02</td>\n",
       "      <td>0.06</td>\n",
       "      <td>0.02</td>\n",
       "      <td>1</td>\n",
       "    </tr>\n",
       "    <tr>\n",
       "      <th>...</th>\n",
       "      <td>...</td>\n",
       "      <td>...</td>\n",
       "      <td>...</td>\n",
       "      <td>...</td>\n",
       "      <td>...</td>\n",
       "      <td>...</td>\n",
       "      <td>...</td>\n",
       "      <td>...</td>\n",
       "      <td>...</td>\n",
       "      <td>...</td>\n",
       "      <td>...</td>\n",
       "      <td>...</td>\n",
       "      <td>...</td>\n",
       "      <td>...</td>\n",
       "      <td>...</td>\n",
       "      <td>...</td>\n",
       "      <td>...</td>\n",
       "      <td>...</td>\n",
       "      <td>...</td>\n",
       "      <td>...</td>\n",
       "      <td>...</td>\n",
       "    </tr>\n",
       "    <tr>\n",
       "      <th>7994</th>\n",
       "      <td>0.05</td>\n",
       "      <td>7.78</td>\n",
       "      <td>0.00</td>\n",
       "      <td>1.95</td>\n",
       "      <td>0.040</td>\n",
       "      <td>0.10</td>\n",
       "      <td>0.03</td>\n",
       "      <td>0.03</td>\n",
       "      <td>1.37</td>\n",
       "      <td>0.00</td>\n",
       "      <td>...</td>\n",
       "      <td>0.197</td>\n",
       "      <td>14.29</td>\n",
       "      <td>1.00</td>\n",
       "      <td>0.005</td>\n",
       "      <td>3.57</td>\n",
       "      <td>2.13</td>\n",
       "      <td>0.09</td>\n",
       "      <td>0.06</td>\n",
       "      <td>0.03</td>\n",
       "      <td>1</td>\n",
       "    </tr>\n",
       "    <tr>\n",
       "      <th>7995</th>\n",
       "      <td>0.05</td>\n",
       "      <td>24.22</td>\n",
       "      <td>0.02</td>\n",
       "      <td>0.59</td>\n",
       "      <td>0.010</td>\n",
       "      <td>0.45</td>\n",
       "      <td>0.02</td>\n",
       "      <td>0.02</td>\n",
       "      <td>1.48</td>\n",
       "      <td>0.00</td>\n",
       "      <td>...</td>\n",
       "      <td>0.031</td>\n",
       "      <td>10.27</td>\n",
       "      <td>1.00</td>\n",
       "      <td>0.001</td>\n",
       "      <td>1.48</td>\n",
       "      <td>1.11</td>\n",
       "      <td>0.09</td>\n",
       "      <td>0.10</td>\n",
       "      <td>0.08</td>\n",
       "      <td>1</td>\n",
       "    </tr>\n",
       "    <tr>\n",
       "      <th>7996</th>\n",
       "      <td>0.09</td>\n",
       "      <td>6.85</td>\n",
       "      <td>0.00</td>\n",
       "      <td>0.61</td>\n",
       "      <td>0.030</td>\n",
       "      <td>0.05</td>\n",
       "      <td>0.05</td>\n",
       "      <td>0.02</td>\n",
       "      <td>0.91</td>\n",
       "      <td>0.00</td>\n",
       "      <td>...</td>\n",
       "      <td>0.182</td>\n",
       "      <td>15.92</td>\n",
       "      <td>1.00</td>\n",
       "      <td>0.000</td>\n",
       "      <td>1.35</td>\n",
       "      <td>4.84</td>\n",
       "      <td>0.00</td>\n",
       "      <td>0.04</td>\n",
       "      <td>0.05</td>\n",
       "      <td>1</td>\n",
       "    </tr>\n",
       "    <tr>\n",
       "      <th>7997</th>\n",
       "      <td>0.01</td>\n",
       "      <td>10</td>\n",
       "      <td>0.01</td>\n",
       "      <td>2.00</td>\n",
       "      <td>0.000</td>\n",
       "      <td>2.00</td>\n",
       "      <td>0.00</td>\n",
       "      <td>0.09</td>\n",
       "      <td>0.00</td>\n",
       "      <td>0.00</td>\n",
       "      <td>...</td>\n",
       "      <td>0.000</td>\n",
       "      <td>0.00</td>\n",
       "      <td>0.00</td>\n",
       "      <td>0.000</td>\n",
       "      <td>0.00</td>\n",
       "      <td>0.00</td>\n",
       "      <td>0.00</td>\n",
       "      <td>0.00</td>\n",
       "      <td>0.00</td>\n",
       "      <td>1</td>\n",
       "    </tr>\n",
       "    <tr>\n",
       "      <th>7998</th>\n",
       "      <td>0.04</td>\n",
       "      <td>6.85</td>\n",
       "      <td>0.01</td>\n",
       "      <td>0.70</td>\n",
       "      <td>0.030</td>\n",
       "      <td>0.05</td>\n",
       "      <td>0.01</td>\n",
       "      <td>0.03</td>\n",
       "      <td>1.00</td>\n",
       "      <td>0.00</td>\n",
       "      <td>...</td>\n",
       "      <td>0.182</td>\n",
       "      <td>15.92</td>\n",
       "      <td>1.00</td>\n",
       "      <td>0.000</td>\n",
       "      <td>1.35</td>\n",
       "      <td>4.84</td>\n",
       "      <td>0.00</td>\n",
       "      <td>0.04</td>\n",
       "      <td>0.05</td>\n",
       "      <td>1</td>\n",
       "    </tr>\n",
       "  </tbody>\n",
       "</table>\n",
       "<p>7999 rows × 21 columns</p>\n",
       "</div>"
      ],
      "text/plain": [
       "      aluminium ammonia  arsenic  barium  cadmium  chloramine  chromium  \\\n",
       "0          1.65    9.08     0.04    2.85    0.007        0.35      0.83   \n",
       "1          2.32   21.16     0.01    3.31    0.002        5.28      0.68   \n",
       "2          1.01   14.02     0.04    0.58    0.008        4.24      0.53   \n",
       "3          1.36   11.33     0.04    2.96    0.001        7.23      0.03   \n",
       "4          0.92   24.33     0.03    0.20    0.006        2.67      0.69   \n",
       "...         ...     ...      ...     ...      ...         ...       ...   \n",
       "7994       0.05    7.78     0.00    1.95    0.040        0.10      0.03   \n",
       "7995       0.05   24.22     0.02    0.59    0.010        0.45      0.02   \n",
       "7996       0.09    6.85     0.00    0.61    0.030        0.05      0.05   \n",
       "7997       0.01      10     0.01    2.00    0.000        2.00      0.00   \n",
       "7998       0.04    6.85     0.01    0.70    0.030        0.05      0.01   \n",
       "\n",
       "      copper  flouride  bacteria  ...   lead  nitrates  nitrites  mercury  \\\n",
       "0       0.17      0.05      0.20  ...  0.054     16.08      1.13    0.007   \n",
       "1       0.66      0.90      0.65  ...  0.100      2.01      1.93    0.003   \n",
       "2       0.02      0.99      0.05  ...  0.078     14.16      1.11    0.006   \n",
       "3       1.66      1.08      0.71  ...  0.016      1.41      1.29    0.004   \n",
       "4       0.57      0.61      0.13  ...  0.117      6.74      1.11    0.003   \n",
       "...      ...       ...       ...  ...    ...       ...       ...      ...   \n",
       "7994    0.03      1.37      0.00  ...  0.197     14.29      1.00    0.005   \n",
       "7995    0.02      1.48      0.00  ...  0.031     10.27      1.00    0.001   \n",
       "7996    0.02      0.91      0.00  ...  0.182     15.92      1.00    0.000   \n",
       "7997    0.09      0.00      0.00  ...  0.000      0.00      0.00    0.000   \n",
       "7998    0.03      1.00      0.00  ...  0.182     15.92      1.00    0.000   \n",
       "\n",
       "      perchlorate  radium  selenium  silver  uranium  is_safe  \n",
       "0           37.75    6.78      0.08    0.34     0.02        1  \n",
       "1           32.26    3.21      0.08    0.27     0.05        1  \n",
       "2           50.28    7.07      0.07    0.44     0.01        0  \n",
       "3            9.12    1.72      0.02    0.45     0.05        1  \n",
       "4           16.90    2.41      0.02    0.06     0.02        1  \n",
       "...           ...     ...       ...     ...      ...      ...  \n",
       "7994         3.57    2.13      0.09    0.06     0.03        1  \n",
       "7995         1.48    1.11      0.09    0.10     0.08        1  \n",
       "7996         1.35    4.84      0.00    0.04     0.05        1  \n",
       "7997         0.00    0.00      0.00    0.00     0.00        1  \n",
       "7998         1.35    4.84      0.00    0.04     0.05        1  \n",
       "\n",
       "[7999 rows x 21 columns]"
      ]
     },
     "execution_count": 49,
     "metadata": {},
     "output_type": "execute_result"
    }
   ],
   "source": [
    "Data=pd.read_csv('waterQuality1.csv')\n",
    "Data"
   ]
  },
  {
   "cell_type": "code",
   "execution_count": 50,
   "id": "c2049a1a",
   "metadata": {},
   "outputs": [
    {
     "name": "stdout",
     "output_type": "stream",
     "text": [
      "<class 'pandas.core.frame.DataFrame'>\n",
      "RangeIndex: 7999 entries, 0 to 7998\n",
      "Data columns (total 21 columns):\n",
      " #   Column       Non-Null Count  Dtype  \n",
      "---  ------       --------------  -----  \n",
      " 0   aluminium    7999 non-null   float64\n",
      " 1   ammonia      7999 non-null   float64\n",
      " 2   arsenic      7999 non-null   float64\n",
      " 3   barium       7999 non-null   float64\n",
      " 4   cadmium      7999 non-null   float64\n",
      " 5   chloramine   7999 non-null   float64\n",
      " 6   chromium     7999 non-null   float64\n",
      " 7   copper       7999 non-null   float64\n",
      " 8   flouride     7999 non-null   float64\n",
      " 9   bacteria     7999 non-null   float64\n",
      " 10  viruses      7999 non-null   float64\n",
      " 11  lead         7999 non-null   float64\n",
      " 12  nitrates     7999 non-null   float64\n",
      " 13  nitrites     7999 non-null   float64\n",
      " 14  mercury      7999 non-null   float64\n",
      " 15  perchlorate  7999 non-null   float64\n",
      " 16  radium       7999 non-null   float64\n",
      " 17  selenium     7999 non-null   float64\n",
      " 18  silver       7999 non-null   float64\n",
      " 19  uranium      7999 non-null   float64\n",
      " 20  is_safe      7999 non-null   object \n",
      "dtypes: float64(20), object(1)\n",
      "memory usage: 1.3+ MB\n"
     ]
    }
   ],
   "source": [
    "AmmoniaData=[]\n",
    "for i in range(len(Data)):\n",
    "    k=Data.loc[i,'ammonia']\n",
    "    if k=='#NUM!':\n",
    "        AmmoniaData+=[0]\n",
    "    else:\n",
    "        AmmoniaData+=[float(k)]\n",
    "Data['ammonia']=AmmoniaData\n",
    "\n",
    "Data.info()"
   ]
  },
  {
   "cell_type": "code",
   "execution_count": 51,
   "id": "1848796f",
   "metadata": {},
   "outputs": [],
   "source": [
    "OriginalDataForLDA=Data.copy()\n",
    "OriginalData=Data.copy()"
   ]
  },
  {
   "cell_type": "code",
   "execution_count": 52,
   "id": "a4773213",
   "metadata": {},
   "outputs": [],
   "source": [
    "indexNames = OriginalDataForLDA[OriginalDataForLDA['is_safe'] == \"#NUM!\" ].index\n",
    "#Delete these row indexes from dataFrame\n",
    "OriginalDataForLDA.drop(indexNames , inplace=True)"
   ]
  },
  {
   "cell_type": "code",
   "execution_count": 53,
   "id": "bf2ec5d4",
   "metadata": {},
   "outputs": [],
   "source": [
    "# separate safe and not safe data\n",
    "data_0 = OriginalDataForLDA[OriginalDataForLDA['is_safe'] == '0']\n",
    "data_1 = OriginalDataForLDA[OriginalDataForLDA['is_safe'] == '1']"
   ]
  },
  {
   "cell_type": "code",
   "execution_count": 54,
   "id": "8ba153f2",
   "metadata": {},
   "outputs": [],
   "source": [
    "data_0 = data_0.sample(n=7084)"
   ]
  },
  {
   "cell_type": "code",
   "execution_count": 55,
   "id": "8cad3015",
   "metadata": {},
   "outputs": [
    {
     "data": {
      "text/plain": [
       "0    7084\n",
       "1     912\n",
       "Name: is_safe, dtype: int64"
      ]
     },
     "execution_count": 55,
     "metadata": {},
     "output_type": "execute_result"
    }
   ],
   "source": [
    "#put the issafe column together again\n",
    "data_isSafe = data_1.append(data_0)\n",
    "data_isSafe.is_safe.value_counts()"
   ]
  },
  {
   "cell_type": "code",
   "execution_count": 56,
   "id": "a7678f07",
   "metadata": {},
   "outputs": [],
   "source": [
    "u = data_isSafe.iloc[:, :-1]\n",
    "v = data_isSafe.iloc[:, -1]"
   ]
  },
  {
   "cell_type": "markdown",
   "id": "968a8b23",
   "metadata": {},
   "source": [
    "### Resampling"
   ]
  },
  {
   "cell_type": "code",
   "execution_count": 57,
   "id": "c085b894",
   "metadata": {},
   "outputs": [
    {
     "name": "stdout",
     "output_type": "stream",
     "text": [
      "original dataset shape: Counter({'0': 7084, '1': 912})\n",
      "Resample dataset shape Counter({'0': 912, '1': 912})\n"
     ]
    }
   ],
   "source": [
    "# import library\n",
    "import imblearn\n",
    "# import library\n",
    "from imblearn.under_sampling import RandomUnderSampler\n",
    "\n",
    "rus = RandomUnderSampler(random_state=42, replacement=True)\n",
    "\n",
    "# fit predictor and target varialbe\n",
    "u_rus, v_rus = rus.fit_resample(u, v)\n",
    "\n",
    "print('original dataset shape:', Counter(v))\n",
    "print('Resample dataset shape', Counter(v_rus))"
   ]
  },
  {
   "cell_type": "code",
   "execution_count": 58,
   "id": "d3ce0807",
   "metadata": {},
   "outputs": [],
   "source": [
    "resampled=v_rus\n",
    "resampled_variable=u_rus"
   ]
  },
  {
   "cell_type": "code",
   "execution_count": 59,
   "id": "a12c7932",
   "metadata": {},
   "outputs": [],
   "source": [
    "resampled = resampled.to_frame(name=\"is_safe\")"
   ]
  },
  {
   "cell_type": "code",
   "execution_count": 60,
   "id": "7e106e10",
   "metadata": {},
   "outputs": [
    {
     "data": {
      "text/plain": [
       "<seaborn.axisgrid.FacetGrid at 0x23a058ef9a0>"
      ]
     },
     "execution_count": 60,
     "metadata": {},
     "output_type": "execute_result"
    },
    {
     "data": {
      "image/png": "[encoded data removed]",
      "text/plain": [
       "<Figure size 360x360 with 1 Axes>"
      ]
     },
     "metadata": {},
     "output_type": "display_data"
    }
   ],
   "source": [
    "sb.catplot(y = 'is_safe', data = resampled, kind = \"count\")"
   ]
  },
  {
   "cell_type": "markdown",
   "id": "2aae74a9",
   "metadata": {},
   "source": [
    "The number of safe data and not safe data are now equal"
   ]
  },
  {
   "cell_type": "code",
   "execution_count": 61,
   "id": "71768144",
   "metadata": {},
   "outputs": [
    {
     "data": {
      "text/html": [
       "<div>\n",
       "<style scoped>\n",
       "    .dataframe tbody tr th:only-of-type {\n",
       "        vertical-align: middle;\n",
       "    }\n",
       "\n",
       "    .dataframe tbody tr th {\n",
       "        vertical-align: top;\n",
       "    }\n",
       "\n",
       "    .dataframe thead th {\n",
       "        text-align: right;\n",
       "    }\n",
       "</style>\n",
       "<table border=\"1\" class=\"dataframe\">\n",
       "  <thead>\n",
       "    <tr style=\"text-align: right;\">\n",
       "      <th></th>\n",
       "      <th>aluminium</th>\n",
       "      <th>ammonia</th>\n",
       "      <th>arsenic</th>\n",
       "      <th>barium</th>\n",
       "      <th>cadmium</th>\n",
       "      <th>chloramine</th>\n",
       "      <th>chromium</th>\n",
       "      <th>copper</th>\n",
       "      <th>flouride</th>\n",
       "      <th>bacteria</th>\n",
       "      <th>...</th>\n",
       "      <th>lead</th>\n",
       "      <th>nitrates</th>\n",
       "      <th>nitrites</th>\n",
       "      <th>mercury</th>\n",
       "      <th>perchlorate</th>\n",
       "      <th>radium</th>\n",
       "      <th>selenium</th>\n",
       "      <th>silver</th>\n",
       "      <th>uranium</th>\n",
       "      <th>is_safe</th>\n",
       "    </tr>\n",
       "  </thead>\n",
       "  <tbody>\n",
       "    <tr>\n",
       "      <th>0</th>\n",
       "      <td>0.04</td>\n",
       "      <td>8.30</td>\n",
       "      <td>0.07</td>\n",
       "      <td>2.89</td>\n",
       "      <td>0.070</td>\n",
       "      <td>4.96</td>\n",
       "      <td>0.20</td>\n",
       "      <td>0.37</td>\n",
       "      <td>0.36</td>\n",
       "      <td>0.41</td>\n",
       "      <td>...</td>\n",
       "      <td>0.060</td>\n",
       "      <td>0.02</td>\n",
       "      <td>1.31</td>\n",
       "      <td>0.003</td>\n",
       "      <td>14.08</td>\n",
       "      <td>0.60</td>\n",
       "      <td>0.04</td>\n",
       "      <td>0.31</td>\n",
       "      <td>0.06</td>\n",
       "      <td>0</td>\n",
       "    </tr>\n",
       "    <tr>\n",
       "      <th>1</th>\n",
       "      <td>0.06</td>\n",
       "      <td>0.13</td>\n",
       "      <td>0.03</td>\n",
       "      <td>1.36</td>\n",
       "      <td>0.003</td>\n",
       "      <td>2.38</td>\n",
       "      <td>0.01</td>\n",
       "      <td>0.93</td>\n",
       "      <td>1.44</td>\n",
       "      <td>0.53</td>\n",
       "      <td>...</td>\n",
       "      <td>0.199</td>\n",
       "      <td>12.84</td>\n",
       "      <td>1.25</td>\n",
       "      <td>0.010</td>\n",
       "      <td>47.83</td>\n",
       "      <td>2.74</td>\n",
       "      <td>0.03</td>\n",
       "      <td>0.24</td>\n",
       "      <td>0.05</td>\n",
       "      <td>0</td>\n",
       "    </tr>\n",
       "    <tr>\n",
       "      <th>2</th>\n",
       "      <td>0.08</td>\n",
       "      <td>21.43</td>\n",
       "      <td>0.04</td>\n",
       "      <td>0.44</td>\n",
       "      <td>0.090</td>\n",
       "      <td>0.32</td>\n",
       "      <td>0.07</td>\n",
       "      <td>1.92</td>\n",
       "      <td>1.36</td>\n",
       "      <td>0.00</td>\n",
       "      <td>...</td>\n",
       "      <td>0.128</td>\n",
       "      <td>8.16</td>\n",
       "      <td>0.22</td>\n",
       "      <td>0.008</td>\n",
       "      <td>5.43</td>\n",
       "      <td>0.56</td>\n",
       "      <td>0.07</td>\n",
       "      <td>0.01</td>\n",
       "      <td>0.03</td>\n",
       "      <td>0</td>\n",
       "    </tr>\n",
       "    <tr>\n",
       "      <th>3</th>\n",
       "      <td>0.07</td>\n",
       "      <td>13.48</td>\n",
       "      <td>0.03</td>\n",
       "      <td>0.38</td>\n",
       "      <td>0.020</td>\n",
       "      <td>0.07</td>\n",
       "      <td>0.04</td>\n",
       "      <td>1.06</td>\n",
       "      <td>0.53</td>\n",
       "      <td>0.00</td>\n",
       "      <td>...</td>\n",
       "      <td>0.158</td>\n",
       "      <td>12.43</td>\n",
       "      <td>0.59</td>\n",
       "      <td>0.002</td>\n",
       "      <td>0.91</td>\n",
       "      <td>0.68</td>\n",
       "      <td>0.03</td>\n",
       "      <td>0.04</td>\n",
       "      <td>0.03</td>\n",
       "      <td>0</td>\n",
       "    </tr>\n",
       "    <tr>\n",
       "      <th>4</th>\n",
       "      <td>3.41</td>\n",
       "      <td>14.05</td>\n",
       "      <td>0.01</td>\n",
       "      <td>2.76</td>\n",
       "      <td>0.001</td>\n",
       "      <td>3.15</td>\n",
       "      <td>0.52</td>\n",
       "      <td>1.67</td>\n",
       "      <td>0.62</td>\n",
       "      <td>0.00</td>\n",
       "      <td>...</td>\n",
       "      <td>0.090</td>\n",
       "      <td>13.71</td>\n",
       "      <td>1.89</td>\n",
       "      <td>0.008</td>\n",
       "      <td>35.99</td>\n",
       "      <td>3.78</td>\n",
       "      <td>0.07</td>\n",
       "      <td>0.07</td>\n",
       "      <td>0.06</td>\n",
       "      <td>0</td>\n",
       "    </tr>\n",
       "    <tr>\n",
       "      <th>...</th>\n",
       "      <td>...</td>\n",
       "      <td>...</td>\n",
       "      <td>...</td>\n",
       "      <td>...</td>\n",
       "      <td>...</td>\n",
       "      <td>...</td>\n",
       "      <td>...</td>\n",
       "      <td>...</td>\n",
       "      <td>...</td>\n",
       "      <td>...</td>\n",
       "      <td>...</td>\n",
       "      <td>...</td>\n",
       "      <td>...</td>\n",
       "      <td>...</td>\n",
       "      <td>...</td>\n",
       "      <td>...</td>\n",
       "      <td>...</td>\n",
       "      <td>...</td>\n",
       "      <td>...</td>\n",
       "      <td>...</td>\n",
       "      <td>...</td>\n",
       "    </tr>\n",
       "    <tr>\n",
       "      <th>1819</th>\n",
       "      <td>0.05</td>\n",
       "      <td>7.78</td>\n",
       "      <td>0.00</td>\n",
       "      <td>1.95</td>\n",
       "      <td>0.040</td>\n",
       "      <td>0.10</td>\n",
       "      <td>0.03</td>\n",
       "      <td>0.03</td>\n",
       "      <td>1.37</td>\n",
       "      <td>0.00</td>\n",
       "      <td>...</td>\n",
       "      <td>0.197</td>\n",
       "      <td>14.29</td>\n",
       "      <td>1.00</td>\n",
       "      <td>0.005</td>\n",
       "      <td>3.57</td>\n",
       "      <td>2.13</td>\n",
       "      <td>0.09</td>\n",
       "      <td>0.06</td>\n",
       "      <td>0.03</td>\n",
       "      <td>1</td>\n",
       "    </tr>\n",
       "    <tr>\n",
       "      <th>1820</th>\n",
       "      <td>0.05</td>\n",
       "      <td>24.22</td>\n",
       "      <td>0.02</td>\n",
       "      <td>0.59</td>\n",
       "      <td>0.010</td>\n",
       "      <td>0.45</td>\n",
       "      <td>0.02</td>\n",
       "      <td>0.02</td>\n",
       "      <td>1.48</td>\n",
       "      <td>0.00</td>\n",
       "      <td>...</td>\n",
       "      <td>0.031</td>\n",
       "      <td>10.27</td>\n",
       "      <td>1.00</td>\n",
       "      <td>0.001</td>\n",
       "      <td>1.48</td>\n",
       "      <td>1.11</td>\n",
       "      <td>0.09</td>\n",
       "      <td>0.10</td>\n",
       "      <td>0.08</td>\n",
       "      <td>1</td>\n",
       "    </tr>\n",
       "    <tr>\n",
       "      <th>1821</th>\n",
       "      <td>0.09</td>\n",
       "      <td>6.85</td>\n",
       "      <td>0.00</td>\n",
       "      <td>0.61</td>\n",
       "      <td>0.030</td>\n",
       "      <td>0.05</td>\n",
       "      <td>0.05</td>\n",
       "      <td>0.02</td>\n",
       "      <td>0.91</td>\n",
       "      <td>0.00</td>\n",
       "      <td>...</td>\n",
       "      <td>0.182</td>\n",
       "      <td>15.92</td>\n",
       "      <td>1.00</td>\n",
       "      <td>0.000</td>\n",
       "      <td>1.35</td>\n",
       "      <td>4.84</td>\n",
       "      <td>0.00</td>\n",
       "      <td>0.04</td>\n",
       "      <td>0.05</td>\n",
       "      <td>1</td>\n",
       "    </tr>\n",
       "    <tr>\n",
       "      <th>1822</th>\n",
       "      <td>0.01</td>\n",
       "      <td>10.00</td>\n",
       "      <td>0.01</td>\n",
       "      <td>2.00</td>\n",
       "      <td>0.000</td>\n",
       "      <td>2.00</td>\n",
       "      <td>0.00</td>\n",
       "      <td>0.09</td>\n",
       "      <td>0.00</td>\n",
       "      <td>0.00</td>\n",
       "      <td>...</td>\n",
       "      <td>0.000</td>\n",
       "      <td>0.00</td>\n",
       "      <td>0.00</td>\n",
       "      <td>0.000</td>\n",
       "      <td>0.00</td>\n",
       "      <td>0.00</td>\n",
       "      <td>0.00</td>\n",
       "      <td>0.00</td>\n",
       "      <td>0.00</td>\n",
       "      <td>1</td>\n",
       "    </tr>\n",
       "    <tr>\n",
       "      <th>1823</th>\n",
       "      <td>0.04</td>\n",
       "      <td>6.85</td>\n",
       "      <td>0.01</td>\n",
       "      <td>0.70</td>\n",
       "      <td>0.030</td>\n",
       "      <td>0.05</td>\n",
       "      <td>0.01</td>\n",
       "      <td>0.03</td>\n",
       "      <td>1.00</td>\n",
       "      <td>0.00</td>\n",
       "      <td>...</td>\n",
       "      <td>0.182</td>\n",
       "      <td>15.92</td>\n",
       "      <td>1.00</td>\n",
       "      <td>0.000</td>\n",
       "      <td>1.35</td>\n",
       "      <td>4.84</td>\n",
       "      <td>0.00</td>\n",
       "      <td>0.04</td>\n",
       "      <td>0.05</td>\n",
       "      <td>1</td>\n",
       "    </tr>\n",
       "  </tbody>\n",
       "</table>\n",
       "<p>1824 rows × 21 columns</p>\n",
       "</div>"
      ],
      "text/plain": [
       "      aluminium  ammonia  arsenic  barium  cadmium  chloramine  chromium  \\\n",
       "0          0.04     8.30     0.07    2.89    0.070        4.96      0.20   \n",
       "1          0.06     0.13     0.03    1.36    0.003        2.38      0.01   \n",
       "2          0.08    21.43     0.04    0.44    0.090        0.32      0.07   \n",
       "3          0.07    13.48     0.03    0.38    0.020        0.07      0.04   \n",
       "4          3.41    14.05     0.01    2.76    0.001        3.15      0.52   \n",
       "...         ...      ...      ...     ...      ...         ...       ...   \n",
       "1819       0.05     7.78     0.00    1.95    0.040        0.10      0.03   \n",
       "1820       0.05    24.22     0.02    0.59    0.010        0.45      0.02   \n",
       "1821       0.09     6.85     0.00    0.61    0.030        0.05      0.05   \n",
       "1822       0.01    10.00     0.01    2.00    0.000        2.00      0.00   \n",
       "1823       0.04     6.85     0.01    0.70    0.030        0.05      0.01   \n",
       "\n",
       "      copper  flouride  bacteria  ...   lead  nitrates  nitrites  mercury  \\\n",
       "0       0.37      0.36      0.41  ...  0.060      0.02      1.31    0.003   \n",
       "1       0.93      1.44      0.53  ...  0.199     12.84      1.25    0.010   \n",
       "2       1.92      1.36      0.00  ...  0.128      8.16      0.22    0.008   \n",
       "3       1.06      0.53      0.00  ...  0.158     12.43      0.59    0.002   \n",
       "4       1.67      0.62      0.00  ...  0.090     13.71      1.89    0.008   \n",
       "...      ...       ...       ...  ...    ...       ...       ...      ...   \n",
       "1819    0.03      1.37      0.00  ...  0.197     14.29      1.00    0.005   \n",
       "1820    0.02      1.48      0.00  ...  0.031     10.27      1.00    0.001   \n",
       "1821    0.02      0.91      0.00  ...  0.182     15.92      1.00    0.000   \n",
       "1822    0.09      0.00      0.00  ...  0.000      0.00      0.00    0.000   \n",
       "1823    0.03      1.00      0.00  ...  0.182     15.92      1.00    0.000   \n",
       "\n",
       "      perchlorate  radium  selenium  silver  uranium  is_safe  \n",
       "0           14.08    0.60      0.04    0.31     0.06        0  \n",
       "1           47.83    2.74      0.03    0.24     0.05        0  \n",
       "2            5.43    0.56      0.07    0.01     0.03        0  \n",
       "3            0.91    0.68      0.03    0.04     0.03        0  \n",
       "4           35.99    3.78      0.07    0.07     0.06        0  \n",
       "...           ...     ...       ...     ...      ...      ...  \n",
       "1819         3.57    2.13      0.09    0.06     0.03        1  \n",
       "1820         1.48    1.11      0.09    0.10     0.08        1  \n",
       "1821         1.35    4.84      0.00    0.04     0.05        1  \n",
       "1822         0.00    0.00      0.00    0.00     0.00        1  \n",
       "1823         1.35    4.84      0.00    0.04     0.05        1  \n",
       "\n",
       "[1824 rows x 21 columns]"
      ]
     },
     "execution_count": 61,
     "metadata": {},
     "output_type": "execute_result"
    }
   ],
   "source": [
    "# combine the data together again\n",
    "OriginalDataForLDA=resampled_variable\n",
    "OriginalDataForLDA[\"is_safe\"]=resampled\n",
    "OriginalDataForLDA"
   ]
  },
  {
   "cell_type": "code",
   "execution_count": 62,
   "id": "0c466bd7",
   "metadata": {},
   "outputs": [],
   "source": [
    "DescribeFrame=Data.describe()"
   ]
  },
  {
   "cell_type": "code",
   "execution_count": 63,
   "id": "ccbb0c7d",
   "metadata": {},
   "outputs": [
    {
     "name": "stdout",
     "output_type": "stream",
     "text": [
      "['aluminium', 'ammonia', 'arsenic', 'barium', 'cadmium', 'chloramine', 'chromium', 'copper', 'flouride', 'bacteria', 'viruses', 'lead', 'nitrates', 'nitrites', 'mercury', 'perchlorate', 'radium', 'selenium', 'silver', 'uranium', 'is_safe']\n",
      "[5.05, 29.84, 1.05, 4.94, 0.13, 8.68, 0.9, 2.0, 1.5, 1.0, 1.0, 0.2, 19.83, 2.93, 0.01, 60.01, 7.99, 0.1, 0.5, 0.09]\n",
      "['2.8', '32.5', '0.01', '2', '0.005', '4', '0.1', '1.3', '1.5', '0', '0', '0.015', '10', '1', '0.002', '56', '5', '0.5', '0.1', '0.3', '0', '1']\n"
     ]
    }
   ],
   "source": [
    "ColList=list(Data.columns)\n",
    "print(ColList)\n",
    "MaxCount=DescribeFrame.iloc[7]\n",
    "Max_list =MaxCount.tolist()\n",
    "print(Max_list)\n",
    "print (result)"
   ]
  },
  {
   "cell_type": "code",
   "execution_count": 64,
   "id": "06c12029",
   "metadata": {},
   "outputs": [],
   "source": [
    "for j in range (19):\n",
    "    if float(Max_list[j])<=float(result[j]):\n",
    "        OriginalDataForLDA[str(ColList[j]+'_bin')]= pd.cut(Data.iloc[:,j],\n",
    "                           [-0.001, float(result[j]), 100.00],\n",
    "                           labels=['Safe', 'Dangerous'])\n",
    "    else:\n",
    "        OriginalDataForLDA[str(ColList[j]+'_bin')]= pd.cut(Data.iloc[:,j],\n",
    "                           [-0.001, float(result[j]), float(Max_list[j])],\n",
    "                           labels=['Safe', 'Dangerous'])"
   ]
  },
  {
   "cell_type": "code",
   "execution_count": 65,
   "id": "646194c6",
   "metadata": {},
   "outputs": [
    {
     "data": {
      "text/html": [
       "<div>\n",
       "<style scoped>\n",
       "    .dataframe tbody tr th:only-of-type {\n",
       "        vertical-align: middle;\n",
       "    }\n",
       "\n",
       "    .dataframe tbody tr th {\n",
       "        vertical-align: top;\n",
       "    }\n",
       "\n",
       "    .dataframe thead th {\n",
       "        text-align: right;\n",
       "    }\n",
       "</style>\n",
       "<table border=\"1\" class=\"dataframe\">\n",
       "  <thead>\n",
       "    <tr style=\"text-align: right;\">\n",
       "      <th></th>\n",
       "      <th>aluminium</th>\n",
       "      <th>ammonia</th>\n",
       "      <th>arsenic</th>\n",
       "      <th>barium</th>\n",
       "      <th>cadmium</th>\n",
       "      <th>chloramine</th>\n",
       "      <th>chromium</th>\n",
       "      <th>copper</th>\n",
       "      <th>flouride</th>\n",
       "      <th>bacteria</th>\n",
       "      <th>...</th>\n",
       "      <th>bacteria_bin</th>\n",
       "      <th>viruses_bin</th>\n",
       "      <th>lead_bin</th>\n",
       "      <th>nitrates_bin</th>\n",
       "      <th>nitrites_bin</th>\n",
       "      <th>mercury_bin</th>\n",
       "      <th>perchlorate_bin</th>\n",
       "      <th>radium_bin</th>\n",
       "      <th>selenium_bin</th>\n",
       "      <th>silver_bin</th>\n",
       "    </tr>\n",
       "  </thead>\n",
       "  <tbody>\n",
       "    <tr>\n",
       "      <th>0</th>\n",
       "      <td>0.04</td>\n",
       "      <td>8.30</td>\n",
       "      <td>0.07</td>\n",
       "      <td>2.89</td>\n",
       "      <td>0.070</td>\n",
       "      <td>4.96</td>\n",
       "      <td>0.20</td>\n",
       "      <td>0.37</td>\n",
       "      <td>0.36</td>\n",
       "      <td>0.41</td>\n",
       "      <td>...</td>\n",
       "      <td>Dangerous</td>\n",
       "      <td>Safe</td>\n",
       "      <td>Dangerous</td>\n",
       "      <td>Dangerous</td>\n",
       "      <td>Dangerous</td>\n",
       "      <td>Dangerous</td>\n",
       "      <td>Safe</td>\n",
       "      <td>Dangerous</td>\n",
       "      <td>Safe</td>\n",
       "      <td>Dangerous</td>\n",
       "    </tr>\n",
       "    <tr>\n",
       "      <th>1</th>\n",
       "      <td>0.06</td>\n",
       "      <td>0.13</td>\n",
       "      <td>0.03</td>\n",
       "      <td>1.36</td>\n",
       "      <td>0.003</td>\n",
       "      <td>2.38</td>\n",
       "      <td>0.01</td>\n",
       "      <td>0.93</td>\n",
       "      <td>1.44</td>\n",
       "      <td>0.53</td>\n",
       "      <td>...</td>\n",
       "      <td>Dangerous</td>\n",
       "      <td>Dangerous</td>\n",
       "      <td>Dangerous</td>\n",
       "      <td>Safe</td>\n",
       "      <td>Dangerous</td>\n",
       "      <td>Dangerous</td>\n",
       "      <td>Safe</td>\n",
       "      <td>Safe</td>\n",
       "      <td>Safe</td>\n",
       "      <td>Dangerous</td>\n",
       "    </tr>\n",
       "    <tr>\n",
       "      <th>2</th>\n",
       "      <td>0.08</td>\n",
       "      <td>21.43</td>\n",
       "      <td>0.04</td>\n",
       "      <td>0.44</td>\n",
       "      <td>0.090</td>\n",
       "      <td>0.32</td>\n",
       "      <td>0.07</td>\n",
       "      <td>1.92</td>\n",
       "      <td>1.36</td>\n",
       "      <td>0.00</td>\n",
       "      <td>...</td>\n",
       "      <td>Dangerous</td>\n",
       "      <td>Dangerous</td>\n",
       "      <td>Dangerous</td>\n",
       "      <td>Dangerous</td>\n",
       "      <td>Dangerous</td>\n",
       "      <td>Dangerous</td>\n",
       "      <td>Safe</td>\n",
       "      <td>Dangerous</td>\n",
       "      <td>Safe</td>\n",
       "      <td>Dangerous</td>\n",
       "    </tr>\n",
       "    <tr>\n",
       "      <th>3</th>\n",
       "      <td>0.07</td>\n",
       "      <td>13.48</td>\n",
       "      <td>0.03</td>\n",
       "      <td>0.38</td>\n",
       "      <td>0.020</td>\n",
       "      <td>0.07</td>\n",
       "      <td>0.04</td>\n",
       "      <td>1.06</td>\n",
       "      <td>0.53</td>\n",
       "      <td>0.00</td>\n",
       "      <td>...</td>\n",
       "      <td>Dangerous</td>\n",
       "      <td>Dangerous</td>\n",
       "      <td>Dangerous</td>\n",
       "      <td>Safe</td>\n",
       "      <td>Dangerous</td>\n",
       "      <td>Dangerous</td>\n",
       "      <td>Safe</td>\n",
       "      <td>Safe</td>\n",
       "      <td>Safe</td>\n",
       "      <td>Dangerous</td>\n",
       "    </tr>\n",
       "    <tr>\n",
       "      <th>4</th>\n",
       "      <td>3.41</td>\n",
       "      <td>14.05</td>\n",
       "      <td>0.01</td>\n",
       "      <td>2.76</td>\n",
       "      <td>0.001</td>\n",
       "      <td>3.15</td>\n",
       "      <td>0.52</td>\n",
       "      <td>1.67</td>\n",
       "      <td>0.62</td>\n",
       "      <td>0.00</td>\n",
       "      <td>...</td>\n",
       "      <td>Dangerous</td>\n",
       "      <td>Dangerous</td>\n",
       "      <td>Dangerous</td>\n",
       "      <td>Safe</td>\n",
       "      <td>Dangerous</td>\n",
       "      <td>Dangerous</td>\n",
       "      <td>Safe</td>\n",
       "      <td>Safe</td>\n",
       "      <td>Safe</td>\n",
       "      <td>Safe</td>\n",
       "    </tr>\n",
       "    <tr>\n",
       "      <th>...</th>\n",
       "      <td>...</td>\n",
       "      <td>...</td>\n",
       "      <td>...</td>\n",
       "      <td>...</td>\n",
       "      <td>...</td>\n",
       "      <td>...</td>\n",
       "      <td>...</td>\n",
       "      <td>...</td>\n",
       "      <td>...</td>\n",
       "      <td>...</td>\n",
       "      <td>...</td>\n",
       "      <td>...</td>\n",
       "      <td>...</td>\n",
       "      <td>...</td>\n",
       "      <td>...</td>\n",
       "      <td>...</td>\n",
       "      <td>...</td>\n",
       "      <td>...</td>\n",
       "      <td>...</td>\n",
       "      <td>...</td>\n",
       "      <td>...</td>\n",
       "    </tr>\n",
       "    <tr>\n",
       "      <th>1819</th>\n",
       "      <td>0.05</td>\n",
       "      <td>7.78</td>\n",
       "      <td>0.00</td>\n",
       "      <td>1.95</td>\n",
       "      <td>0.040</td>\n",
       "      <td>0.10</td>\n",
       "      <td>0.03</td>\n",
       "      <td>0.03</td>\n",
       "      <td>1.37</td>\n",
       "      <td>0.00</td>\n",
       "      <td>...</td>\n",
       "      <td>Dangerous</td>\n",
       "      <td>Dangerous</td>\n",
       "      <td>Dangerous</td>\n",
       "      <td>Dangerous</td>\n",
       "      <td>Dangerous</td>\n",
       "      <td>Safe</td>\n",
       "      <td>Dangerous</td>\n",
       "      <td>Dangerous</td>\n",
       "      <td>Safe</td>\n",
       "      <td>Dangerous</td>\n",
       "    </tr>\n",
       "    <tr>\n",
       "      <th>1820</th>\n",
       "      <td>0.05</td>\n",
       "      <td>24.22</td>\n",
       "      <td>0.02</td>\n",
       "      <td>0.59</td>\n",
       "      <td>0.010</td>\n",
       "      <td>0.45</td>\n",
       "      <td>0.02</td>\n",
       "      <td>0.02</td>\n",
       "      <td>1.48</td>\n",
       "      <td>0.00</td>\n",
       "      <td>...</td>\n",
       "      <td>Dangerous</td>\n",
       "      <td>Dangerous</td>\n",
       "      <td>Dangerous</td>\n",
       "      <td>Safe</td>\n",
       "      <td>Dangerous</td>\n",
       "      <td>Dangerous</td>\n",
       "      <td>Safe</td>\n",
       "      <td>Safe</td>\n",
       "      <td>Safe</td>\n",
       "      <td>Dangerous</td>\n",
       "    </tr>\n",
       "    <tr>\n",
       "      <th>1821</th>\n",
       "      <td>0.09</td>\n",
       "      <td>6.85</td>\n",
       "      <td>0.00</td>\n",
       "      <td>0.61</td>\n",
       "      <td>0.030</td>\n",
       "      <td>0.05</td>\n",
       "      <td>0.05</td>\n",
       "      <td>0.02</td>\n",
       "      <td>0.91</td>\n",
       "      <td>0.00</td>\n",
       "      <td>...</td>\n",
       "      <td>Dangerous</td>\n",
       "      <td>Dangerous</td>\n",
       "      <td>Dangerous</td>\n",
       "      <td>Safe</td>\n",
       "      <td>Dangerous</td>\n",
       "      <td>Dangerous</td>\n",
       "      <td>Safe</td>\n",
       "      <td>Safe</td>\n",
       "      <td>Safe</td>\n",
       "      <td>Dangerous</td>\n",
       "    </tr>\n",
       "    <tr>\n",
       "      <th>1822</th>\n",
       "      <td>0.01</td>\n",
       "      <td>10.00</td>\n",
       "      <td>0.01</td>\n",
       "      <td>2.00</td>\n",
       "      <td>0.000</td>\n",
       "      <td>2.00</td>\n",
       "      <td>0.00</td>\n",
       "      <td>0.09</td>\n",
       "      <td>0.00</td>\n",
       "      <td>0.00</td>\n",
       "      <td>...</td>\n",
       "      <td>Dangerous</td>\n",
       "      <td>Dangerous</td>\n",
       "      <td>Dangerous</td>\n",
       "      <td>Dangerous</td>\n",
       "      <td>Dangerous</td>\n",
       "      <td>Safe</td>\n",
       "      <td>Safe</td>\n",
       "      <td>Safe</td>\n",
       "      <td>Safe</td>\n",
       "      <td>Dangerous</td>\n",
       "    </tr>\n",
       "    <tr>\n",
       "      <th>1823</th>\n",
       "      <td>0.04</td>\n",
       "      <td>6.85</td>\n",
       "      <td>0.01</td>\n",
       "      <td>0.70</td>\n",
       "      <td>0.030</td>\n",
       "      <td>0.05</td>\n",
       "      <td>0.01</td>\n",
       "      <td>0.03</td>\n",
       "      <td>1.00</td>\n",
       "      <td>0.00</td>\n",
       "      <td>...</td>\n",
       "      <td>Dangerous</td>\n",
       "      <td>Dangerous</td>\n",
       "      <td>Dangerous</td>\n",
       "      <td>Safe</td>\n",
       "      <td>Dangerous</td>\n",
       "      <td>Dangerous</td>\n",
       "      <td>Safe</td>\n",
       "      <td>Dangerous</td>\n",
       "      <td>Safe</td>\n",
       "      <td>Safe</td>\n",
       "    </tr>\n",
       "  </tbody>\n",
       "</table>\n",
       "<p>1824 rows × 40 columns</p>\n",
       "</div>"
      ],
      "text/plain": [
       "      aluminium  ammonia  arsenic  barium  cadmium  chloramine  chromium  \\\n",
       "0          0.04     8.30     0.07    2.89    0.070        4.96      0.20   \n",
       "1          0.06     0.13     0.03    1.36    0.003        2.38      0.01   \n",
       "2          0.08    21.43     0.04    0.44    0.090        0.32      0.07   \n",
       "3          0.07    13.48     0.03    0.38    0.020        0.07      0.04   \n",
       "4          3.41    14.05     0.01    2.76    0.001        3.15      0.52   \n",
       "...         ...      ...      ...     ...      ...         ...       ...   \n",
       "1819       0.05     7.78     0.00    1.95    0.040        0.10      0.03   \n",
       "1820       0.05    24.22     0.02    0.59    0.010        0.45      0.02   \n",
       "1821       0.09     6.85     0.00    0.61    0.030        0.05      0.05   \n",
       "1822       0.01    10.00     0.01    2.00    0.000        2.00      0.00   \n",
       "1823       0.04     6.85     0.01    0.70    0.030        0.05      0.01   \n",
       "\n",
       "      copper  flouride  bacteria  ...  bacteria_bin  viruses_bin   lead_bin  \\\n",
       "0       0.37      0.36      0.41  ...     Dangerous         Safe  Dangerous   \n",
       "1       0.93      1.44      0.53  ...     Dangerous    Dangerous  Dangerous   \n",
       "2       1.92      1.36      0.00  ...     Dangerous    Dangerous  Dangerous   \n",
       "3       1.06      0.53      0.00  ...     Dangerous    Dangerous  Dangerous   \n",
       "4       1.67      0.62      0.00  ...     Dangerous    Dangerous  Dangerous   \n",
       "...      ...       ...       ...  ...           ...          ...        ...   \n",
       "1819    0.03      1.37      0.00  ...     Dangerous    Dangerous  Dangerous   \n",
       "1820    0.02      1.48      0.00  ...     Dangerous    Dangerous  Dangerous   \n",
       "1821    0.02      0.91      0.00  ...     Dangerous    Dangerous  Dangerous   \n",
       "1822    0.09      0.00      0.00  ...     Dangerous    Dangerous  Dangerous   \n",
       "1823    0.03      1.00      0.00  ...     Dangerous    Dangerous  Dangerous   \n",
       "\n",
       "      nitrates_bin  nitrites_bin  mercury_bin  perchlorate_bin  radium_bin  \\\n",
       "0        Dangerous     Dangerous    Dangerous             Safe   Dangerous   \n",
       "1             Safe     Dangerous    Dangerous             Safe        Safe   \n",
       "2        Dangerous     Dangerous    Dangerous             Safe   Dangerous   \n",
       "3             Safe     Dangerous    Dangerous             Safe        Safe   \n",
       "4             Safe     Dangerous    Dangerous             Safe        Safe   \n",
       "...            ...           ...          ...              ...         ...   \n",
       "1819     Dangerous     Dangerous         Safe        Dangerous   Dangerous   \n",
       "1820          Safe     Dangerous    Dangerous             Safe        Safe   \n",
       "1821          Safe     Dangerous    Dangerous             Safe        Safe   \n",
       "1822     Dangerous     Dangerous         Safe             Safe        Safe   \n",
       "1823          Safe     Dangerous    Dangerous             Safe   Dangerous   \n",
       "\n",
       "      selenium_bin  silver_bin  \n",
       "0             Safe   Dangerous  \n",
       "1             Safe   Dangerous  \n",
       "2             Safe   Dangerous  \n",
       "3             Safe   Dangerous  \n",
       "4             Safe        Safe  \n",
       "...            ...         ...  \n",
       "1819          Safe   Dangerous  \n",
       "1820          Safe   Dangerous  \n",
       "1821          Safe   Dangerous  \n",
       "1822          Safe   Dangerous  \n",
       "1823          Safe        Safe  \n",
       "\n",
       "[1824 rows x 40 columns]"
      ]
     },
     "execution_count": 65,
     "metadata": {},
     "output_type": "execute_result"
    }
   ],
   "source": [
    "OriginalDataForLDA"
   ]
  },
  {
   "cell_type": "markdown",
   "id": "cd40da5c",
   "metadata": {},
   "source": [
    "Through Correlation, we take the top 3 highest correlation with is_safe variable, which is `cadmium`, `aluminium` and `chloramine`. We will now apply this to LDA and Random Forrest to compare accuracy."
   ]
  },
  {
   "cell_type": "markdown",
   "id": "c75f8757",
   "metadata": {},
   "source": [
    "### Random Forest"
   ]
  },
  {
   "cell_type": "code",
   "execution_count": 66,
   "id": "9b2aa6e3",
   "metadata": {},
   "outputs": [],
   "source": [
    "# Extract Response and Predictors\n",
    "y = pd.DataFrame(OriginalDataForLDA[\"is_safe\"])\n",
    "X = pd.DataFrame(OriginalDataForLDA[[\"aluminium\",\"cadmium\",\"chloramine\"]])"
   ]
  },
  {
   "cell_type": "code",
   "execution_count": 67,
   "id": "4b95fcc2",
   "metadata": {},
   "outputs": [],
   "source": [
    "# necessary imports\n",
    "from sklearn.tree import DecisionTreeClassifier\n",
    "from sklearn.model_selection import train_test_split\n",
    "from sklearn.metrics import confusion_matrix\n",
    "from sklearn.metrics import classification_report\n",
    "from sklearn.ensemble import RandomForestClassifier"
   ]
  },
  {
   "cell_type": "code",
   "execution_count": 68,
   "id": "bb3a32ed",
   "metadata": {},
   "outputs": [],
   "source": [
    "X_train, X_test, y_train, y_test = train_test_split(X, y, test_size = 0.25)"
   ]
  },
  {
   "cell_type": "code",
   "execution_count": 69,
   "id": "9b9522cd",
   "metadata": {},
   "outputs": [
    {
     "name": "stdout",
     "output_type": "stream",
     "text": [
      "Train Accuracy: 0.9941520467836257\n",
      "Test Accuracy: 0.7807017543859649\n"
     ]
    }
   ],
   "source": [
    "#Create a Gaussian Classifier\n",
    "clf=RandomForestClassifier(n_estimators=100)\n",
    "\n",
    "#Train the model using the training sets y_pred=clf.predict(X_test)\n",
    "clf.fit(X_train,y_train.values.ravel())\n",
    "\n",
    "# prediction on test set\n",
    "y_pred=clf.predict(X_test)\n",
    "\n",
    "#Import scikit-learn metrics module for accuracy calculation\n",
    "from sklearn import metrics\n",
    "# Model Accuracy, how often is the classifier correct?\n",
    "y_pred_train= clf.predict(X_train)\n",
    "y_pred_test=clf.predict(X_test)\n",
    "print(\"Train Accuracy:\",metrics.accuracy_score(y_train, y_pred_train))\n",
    "print(\"Test Accuracy:\",metrics.accuracy_score(y_test, y_pred))"
   ]
  },
  {
   "cell_type": "code",
   "execution_count": 70,
   "id": "6250feca",
   "metadata": {},
   "outputs": [
    {
     "name": "stdout",
     "output_type": "stream",
     "text": [
      "[[401 291]\n",
      " [375 301]]\n"
     ]
    }
   ],
   "source": [
    "print(confusion_matrix(y_train, y_train_pred))"
   ]
  },
  {
   "cell_type": "markdown",
   "id": "34e27165",
   "metadata": {},
   "source": [
    "### LDA"
   ]
  },
  {
   "cell_type": "code",
   "execution_count": 71,
   "id": "d5d0b75e",
   "metadata": {},
   "outputs": [],
   "source": [
    "import plotly.express as px # for data visualization\n",
    "\n",
    "# Skleran\n",
    "from sklearn.preprocessing import StandardScaler # for data standardization\n",
    "from sklearn.metrics import classification_report # for model evaluation metrics\n",
    "from sklearn.tree import DecisionTreeClassifier # for decision tree models\n",
    "\n",
    "# Sklearn dimensionality reduction\n",
    "from sklearn.discriminant_analysis import LinearDiscriminantAnalysis as LDA # for LDA analysis\n",
    "from sklearn.decomposition import PCA # for PCA analysis"
   ]
  },
  {
   "cell_type": "code",
   "execution_count": 72,
   "id": "d2031445",
   "metadata": {},
   "outputs": [
    {
     "data": {
      "application/vnd.plotly.v1+json": {
       "config": {
        "plotlyServerURL": "https://plot.ly"
       },
       "data": [
        {
         "customdata": [
          [
           "0"
          ],
          [
           "0"
          ],
          [
           "0"
          ],
          [
           "0"
          ],
          [
           "0"
          ],
          [
           "0"
          ],
          [
           "0"
          ],
          [
           "0"
          ],
          [
           "0"
          ],
          [
           "0"
          ],
          [
           "0"
          ],
          [
           "0"
          ],
          [
           "0"
          ],
          [
           "0"
          ],
          [
           "0"
          ],
          [
           "0"
          ],
          [
           "0"
          ],
          [
           "0"
          ],
          [
           "0"
          ],
          [
           "0"
          ],
          [
           "0"
          ],
          [
           "0"
          ],
          [
           "0"
          ],
          [
           "0"
          ],
          [
           "0"
          ],
          [
           "0"
          ],
          [
           "0"
          ],
          [
           "0"
          ],
          [
           "0"
          ],
          [
           "0"
          ],
          [
           "0"
          ],
          [
           "0"
          ],
          [
           "0"
          ],
          [
           "0"
          ],
          [
           "0"
          ],
          [
           "0"
          ],
          [
           "0"
          ],
          [
           "0"
          ],
          [
           "0"
          ],
          [
           "0"
          ],
          [
           "0"
          ],
          [
           "0"
          ],
          [
           "0"
          ],
          [
           "0"
          ],
          [
           "0"
          ],
          [
           "0"
          ],
          [
           "0"
          ],
          [
           "0"
          ],
          [
           "0"
          ],
          [
           "0"
          ],
          [
           "0"
          ],
          [
           "0"
          ],
          [
           "0"
          ],
          [
           "0"
          ],
          [
           "0"
          ],
          [
           "0"
          ],
          [
           "0"
          ],
          [
           "0"
          ],
          [
           "0"
          ],
          [
           "0"
          ],
          [
           "0"
          ],
          [
           "0"
          ],
          [
           "0"
          ],
          [
           "0"
          ],
          [
           "0"
          ],
          [
           "0"
          ],
          [
           "0"
          ],
          [
           "0"
          ],
          [
           "0"
          ],
          [
           "0"
          ],
          [
           "0"
          ],
          [
           "0"
          ],
          [
           "0"
          ],
          [
           "0"
          ],
          [
           "0"
          ],
          [
           "0"
          ],
          [
           "0"
          ],
          [
           "0"
          ],
          [
           "0"
          ],
          [
           "0"
          ],
          [
           "0"
          ],
          [
           "0"
          ],
          [
           "0"
          ],
          [
           "0"
          ],
          [
           "0"
          ],
          [
           "0"
          ],
          [
           "0"
          ],
          [
           "0"
          ],
          [
           "0"
          ],
          [
           "0"
          ],
          [
           "0"
          ],
          [
           "0"
          ],
          [
           "0"
          ],
          [
           "0"
          ],
          [
           "0"
          ],
          [
           "0"
          ],
          [
           "0"
          ],
          [
           "0"
          ],
          [
           "0"
          ],
          [
           "0"
          ],
          [
           "0"
          ],
          [
           "0"
          ],
          [
           "0"
          ],
          [
           "0"
          ],
          [
           "0"
          ],
          [
           "0"
          ],
          [
           "0"
          ],
          [
           "0"
          ],
          [
           "0"
          ],
          [
           "0"
          ],
          [
           "0"
          ],
          [
           "0"
          ],
          [
           "0"
          ],
          [
           "0"
          ],
          [
           "0"
          ],
          [
           "0"
          ],
          [
           "0"
          ],
          [
           "0"
          ],
          [
           "0"
          ],
          [
           "0"
          ],
          [
           "0"
          ],
          [
           "0"
          ],
          [
           "0"
          ],
          [
           "0"
          ],
          [
           "0"
          ],
          [
           "0"
          ],
          [
           "0"
          ],
          [
           "0"
          ],
          [
           "0"
          ],
          [
           "0"
          ],
          [
           "0"
          ],
          [
           "0"
          ],
          [
           "0"
          ],
          [
           "0"
          ],
          [
           "0"
          ],
          [
           "0"
          ],
          [
           "0"
          ],
          [
           "0"
          ],
          [
           "0"
          ],
          [
           "0"
          ],
          [
           "0"
          ],
          [
           "0"
          ],
          [
           "0"
          ],
          [
           "0"
          ],
          [
           "0"
          ],
          [
           "0"
          ],
          [
           "0"
          ],
          [
           "0"
          ],
          [
           "0"
          ],
          [
           "0"
          ],
          [
           "0"
          ],
          [
           "0"
          ],
          [
           "0"
          ],
          [
           "0"
          ],
          [
           "0"
          ],
          [
           "0"
          ],
          [
           "0"
          ],
          [
           "0"
          ],
          [
           "0"
          ],
          [
           "0"
          ],
          [
           "0"
          ],
          [
           "0"
          ],
          [
           "0"
          ],
          [
           "0"
          ],
          [
           "0"
          ],
          [
           "0"
          ],
          [
           "0"
          ],
          [
           "0"
          ],
          [
           "0"
          ],
          [
           "0"
          ],
          [
           "0"
          ],
          [
           "0"
          ],
          [
           "0"
          ],
          [
           "0"
          ],
          [
           "0"
          ],
          [
           "0"
          ],
          [
           "0"
          ],
          [
           "0"
          ],
          [
           "0"
          ],
          [
           "0"
          ],
          [
           "0"
          ],
          [
           "0"
          ],
          [
           "0"
          ],
          [
           "0"
          ],
          [
           "0"
          ],
          [
           "0"
          ],
          [
           "0"
          ],
          [
           "0"
          ],
          [
           "0"
          ],
          [
           "0"
          ],
          [
           "0"
          ],
          [
           "0"
          ],
          [
           "0"
          ],
          [
           "0"
          ],
          [
           "0"
          ],
          [
           "0"
          ],
          [
           "0"
          ],
          [
           "0"
          ],
          [
           "0"
          ],
          [
           "0"
          ],
          [
           "0"
          ],
          [
           "0"
          ],
          [
           "0"
          ],
          [
           "0"
          ],
          [
           "0"
          ],
          [
           "0"
          ],
          [
           "0"
          ],
          [
           "0"
          ],
          [
           "0"
          ],
          [
           "0"
          ],
          [
           "0"
          ],
          [
           "0"
          ],
          [
           "0"
          ],
          [
           "0"
          ],
          [
           "0"
          ],
          [
           "0"
          ],
          [
           "0"
          ],
          [
           "0"
          ],
          [
           "0"
          ],
          [
           "0"
          ],
          [
           "0"
          ],
          [
           "0"
          ],
          [
           "0"
          ],
          [
           "0"
          ],
          [
           "0"
          ],
          [
           "0"
          ],
          [
           "0"
          ],
          [
           "0"
          ],
          [
           "0"
          ],
          [
           "0"
          ],
          [
           "0"
          ],
          [
           "0"
          ],
          [
           "0"
          ],
          [
           "0"
          ],
          [
           "0"
          ],
          [
           "0"
          ],
          [
           "0"
          ],
          [
           "0"
          ],
          [
           "0"
          ],
          [
           "0"
          ],
          [
           "0"
          ],
          [
           "0"
          ],
          [
           "0"
          ],
          [
           "0"
          ],
          [
           "0"
          ],
          [
           "0"
          ],
          [
           "0"
          ],
          [
           "0"
          ],
          [
           "0"
          ],
          [
           "0"
          ],
          [
           "0"
          ],
          [
           "0"
          ],
          [
           "0"
          ],
          [
           "0"
          ],
          [
           "0"
          ],
          [
           "0"
          ],
          [
           "0"
          ],
          [
           "0"
          ],
          [
           "0"
          ],
          [
           "0"
          ],
          [
           "0"
          ],
          [
           "0"
          ],
          [
           "0"
          ],
          [
           "0"
          ],
          [
           "0"
          ],
          [
           "0"
          ],
          [
           "0"
          ],
          [
           "0"
          ],
          [
           "0"
          ],
          [
           "0"
          ],
          [
           "0"
          ],
          [
           "0"
          ],
          [
           "0"
          ],
          [
           "0"
          ],
          [
           "0"
          ],
          [
           "0"
          ],
          [
           "0"
          ],
          [
           "0"
          ],
          [
           "0"
          ],
          [
           "0"
          ],
          [
           "0"
          ],
          [
           "0"
          ],
          [
           "0"
          ],
          [
           "0"
          ],
          [
           "0"
          ],
          [
           "0"
          ],
          [
           "0"
          ],
          [
           "0"
          ],
          [
           "0"
          ],
          [
           "0"
          ],
          [
           "0"
          ],
          [
           "0"
          ],
          [
           "0"
          ],
          [
           "0"
          ],
          [
           "0"
          ],
          [
           "0"
          ],
          [
           "0"
          ],
          [
           "0"
          ],
          [
           "0"
          ],
          [
           "0"
          ],
          [
           "0"
          ],
          [
           "0"
          ],
          [
           "0"
          ],
          [
           "0"
          ],
          [
           "0"
          ],
          [
           "0"
          ],
          [
           "0"
          ],
          [
           "0"
          ],
          [
           "0"
          ],
          [
           "0"
          ],
          [
           "0"
          ],
          [
           "0"
          ],
          [
           "0"
          ],
          [
           "0"
          ],
          [
           "0"
          ],
          [
           "0"
          ],
          [
           "0"
          ],
          [
           "0"
          ],
          [
           "0"
          ],
          [
           "0"
          ],
          [
           "0"
          ],
          [
           "0"
          ],
          [
           "0"
          ],
          [
           "0"
          ],
          [
           "0"
          ],
          [
           "0"
          ],
          [
           "0"
          ],
          [
           "0"
          ],
          [
           "0"
          ],
          [
           "0"
          ],
          [
           "0"
          ],
          [
           "0"
          ],
          [
           "0"
          ],
          [
           "0"
          ],
          [
           "0"
          ],
          [
           "0"
          ],
          [
           "0"
          ],
          [
           "0"
          ],
          [
           "0"
          ],
          [
           "0"
          ],
          [
           "0"
          ],
          [
           "0"
          ],
          [
           "0"
          ],
          [
           "0"
          ],
          [
           "0"
          ],
          [
           "0"
          ],
          [
           "0"
          ],
          [
           "0"
          ],
          [
           "0"
          ],
          [
           "0"
          ],
          [
           "0"
          ],
          [
           "0"
          ],
          [
           "0"
          ],
          [
           "0"
          ],
          [
           "0"
          ],
          [
           "0"
          ],
          [
           "0"
          ],
          [
           "0"
          ],
          [
           "0"
          ],
          [
           "0"
          ],
          [
           "0"
          ],
          [
           "0"
          ],
          [
           "0"
          ],
          [
           "0"
          ],
          [
           "0"
          ],
          [
           "0"
          ],
          [
           "0"
          ],
          [
           "0"
          ],
          [
           "0"
          ],
          [
           "0"
          ],
          [
           "0"
          ],
          [
           "0"
          ],
          [
           "0"
          ],
          [
           "0"
          ],
          [
           "0"
          ],
          [
           "0"
          ],
          [
           "0"
          ],
          [
           "0"
          ],
          [
           "0"
          ],
          [
           "0"
          ],
          [
           "0"
          ],
          [
           "0"
          ],
          [
           "0"
          ],
          [
           "0"
          ],
          [
           "0"
          ],
          [
           "0"
          ],
          [
           "0"
          ],
          [
           "0"
          ],
          [
           "0"
          ],
          [
           "0"
          ],
          [
           "0"
          ],
          [
           "0"
          ],
          [
           "0"
          ],
          [
           "0"
          ],
          [
           "0"
          ],
          [
           "0"
          ],
          [
           "0"
          ],
          [
           "0"
          ],
          [
           "0"
          ],
          [
           "0"
          ],
          [
           "0"
          ],
          [
           "0"
          ],
          [
           "0"
          ],
          [
           "0"
          ],
          [
           "0"
          ],
          [
           "0"
          ],
          [
           "0"
          ],
          [
           "0"
          ],
          [
           "0"
          ],
          [
           "0"
          ],
          [
           "0"
          ],
          [
           "0"
          ],
          [
           "0"
          ],
          [
           "0"
          ],
          [
           "0"
          ],
          [
           "0"
          ],
          [
           "0"
          ],
          [
           "0"
          ],
          [
           "0"
          ],
          [
           "0"
          ],
          [
           "0"
          ],
          [
           "0"
          ],
          [
           "0"
          ],
          [
           "0"
          ],
          [
           "0"
          ],
          [
           "0"
          ],
          [
           "0"
          ],
          [
           "0"
          ],
          [
           "0"
          ],
          [
           "0"
          ],
          [
           "0"
          ],
          [
           "0"
          ],
          [
           "0"
          ],
          [
           "0"
          ],
          [
           "0"
          ],
          [
           "0"
          ],
          [
           "0"
          ],
          [
           "0"
          ],
          [
           "0"
          ],
          [
           "0"
          ],
          [
           "0"
          ],
          [
           "0"
          ],
          [
           "0"
          ],
          [
           "0"
          ],
          [
           "0"
          ],
          [
           "0"
          ],
          [
           "0"
          ],
          [
           "0"
          ],
          [
           "0"
          ],
          [
           "0"
          ],
          [
           "0"
          ],
          [
           "0"
          ],
          [
           "0"
          ],
          [
           "0"
          ],
          [
           "0"
          ],
          [
           "0"
          ],
          [
           "0"
          ],
          [
           "0"
          ],
          [
           "0"
          ],
          [
           "0"
          ],
          [
           "0"
          ],
          [
           "0"
          ],
          [
           "0"
          ],
          [
           "0"
          ],
          [
           "0"
          ],
          [
           "0"
          ],
          [
           "0"
          ],
          [
           "0"
          ],
          [
           "0"
          ],
          [
           "0"
          ],
          [
           "0"
          ],
          [
           "0"
          ],
          [
           "0"
          ],
          [
           "0"
          ],
          [
           "0"
          ],
          [
           "0"
          ],
          [
           "0"
          ],
          [
           "0"
          ],
          [
           "0"
          ],
          [
           "0"
          ],
          [
           "0"
          ],
          [
           "0"
          ],
          [
           "0"
          ],
          [
           "0"
          ],
          [
           "0"
          ],
          [
           "0"
          ],
          [
           "0"
          ],
          [
           "0"
          ],
          [
           "0"
          ],
          [
           "0"
          ],
          [
           "0"
          ],
          [
           "0"
          ],
          [
           "0"
          ],
          [
           "0"
          ],
          [
           "0"
          ],
          [
           "0"
          ],
          [
           "0"
          ],
          [
           "0"
          ],
          [
           "0"
          ],
          [
           "0"
          ],
          [
           "0"
          ],
          [
           "0"
          ],
          [
           "0"
          ],
          [
           "0"
          ],
          [
           "0"
          ],
          [
           "0"
          ],
          [
           "0"
          ],
          [
           "0"
          ],
          [
           "0"
          ],
          [
           "0"
          ],
          [
           "0"
          ],
          [
           "0"
          ],
          [
           "0"
          ],
          [
           "0"
          ],
          [
           "0"
          ],
          [
           "0"
          ],
          [
           "0"
          ],
          [
           "0"
          ],
          [
           "0"
          ],
          [
           "0"
          ],
          [
           "0"
          ],
          [
           "0"
          ],
          [
           "0"
          ],
          [
           "0"
          ],
          [
           "0"
          ],
          [
           "0"
          ],
          [
           "0"
          ],
          [
           "0"
          ],
          [
           "0"
          ],
          [
           "0"
          ],
          [
           "0"
          ],
          [
           "0"
          ],
          [
           "0"
          ],
          [
           "0"
          ],
          [
           "0"
          ],
          [
           "0"
          ],
          [
           "0"
          ],
          [
           "0"
          ],
          [
           "0"
          ],
          [
           "0"
          ],
          [
           "0"
          ],
          [
           "0"
          ],
          [
           "0"
          ],
          [
           "0"
          ],
          [
           "0"
          ],
          [
           "0"
          ],
          [
           "0"
          ],
          [
           "0"
          ],
          [
           "0"
          ],
          [
           "0"
          ],
          [
           "0"
          ],
          [
           "0"
          ],
          [
           "0"
          ],
          [
           "0"
          ],
          [
           "0"
          ],
          [
           "0"
          ],
          [
           "0"
          ],
          [
           "0"
          ],
          [
           "0"
          ],
          [
           "0"
          ],
          [
           "0"
          ],
          [
           "0"
          ],
          [
           "0"
          ],
          [
           "0"
          ],
          [
           "0"
          ],
          [
           "0"
          ],
          [
           "0"
          ],
          [
           "0"
          ],
          [
           "0"
          ],
          [
           "0"
          ],
          [
           "0"
          ],
          [
           "0"
          ],
          [
           "0"
          ],
          [
           "0"
          ],
          [
           "0"
          ],
          [
           "0"
          ],
          [
           "0"
          ],
          [
           "0"
          ],
          [
           "0"
          ],
          [
           "0"
          ],
          [
           "0"
          ],
          [
           "0"
          ],
          [
           "0"
          ],
          [
           "0"
          ],
          [
           "0"
          ],
          [
           "0"
          ],
          [
           "0"
          ],
          [
           "0"
          ],
          [
           "0"
          ],
          [
           "0"
          ],
          [
           "0"
          ],
          [
           "0"
          ],
          [
           "0"
          ],
          [
           "0"
          ],
          [
           "0"
          ],
          [
           "0"
          ],
          [
           "0"
          ],
          [
           "0"
          ],
          [
           "0"
          ],
          [
           "0"
          ],
          [
           "0"
          ],
          [
           "0"
          ],
          [
           "0"
          ],
          [
           "0"
          ],
          [
           "0"
          ],
          [
           "0"
          ],
          [
           "0"
          ],
          [
           "0"
          ],
          [
           "0"
          ],
          [
           "0"
          ],
          [
           "0"
          ],
          [
           "0"
          ],
          [
           "0"
          ],
          [
           "0"
          ],
          [
           "0"
          ],
          [
           "0"
          ],
          [
           "0"
          ],
          [
           "0"
          ],
          [
           "0"
          ],
          [
           "0"
          ],
          [
           "0"
          ],
          [
           "0"
          ],
          [
           "0"
          ],
          [
           "0"
          ],
          [
           "0"
          ],
          [
           "0"
          ],
          [
           "0"
          ],
          [
           "0"
          ],
          [
           "0"
          ],
          [
           "0"
          ],
          [
           "0"
          ],
          [
           "0"
          ],
          [
           "0"
          ],
          [
           "0"
          ],
          [
           "0"
          ],
          [
           "0"
          ],
          [
           "0"
          ],
          [
           "0"
          ],
          [
           "0"
          ],
          [
           "0"
          ],
          [
           "0"
          ],
          [
           "0"
          ],
          [
           "0"
          ],
          [
           "0"
          ],
          [
           "0"
          ],
          [
           "0"
          ],
          [
           "0"
          ],
          [
           "0"
          ],
          [
           "0"
          ],
          [
           "0"
          ],
          [
           "0"
          ],
          [
           "0"
          ],
          [
           "0"
          ],
          [
           "0"
          ],
          [
           "0"
          ],
          [
           "0"
          ],
          [
           "0"
          ],
          [
           "0"
          ],
          [
           "0"
          ],
          [
           "0"
          ],
          [
           "0"
          ],
          [
           "0"
          ],
          [
           "0"
          ],
          [
           "0"
          ],
          [
           "0"
          ],
          [
           "0"
          ],
          [
           "0"
          ],
          [
           "0"
          ],
          [
           "0"
          ],
          [
           "0"
          ],
          [
           "0"
          ],
          [
           "0"
          ],
          [
           "0"
          ],
          [
           "0"
          ],
          [
           "0"
          ],
          [
           "0"
          ],
          [
           "0"
          ],
          [
           "0"
          ],
          [
           "0"
          ],
          [
           "0"
          ],
          [
           "0"
          ],
          [
           "0"
          ],
          [
           "0"
          ],
          [
           "0"
          ],
          [
           "0"
          ],
          [
           "0"
          ],
          [
           "0"
          ],
          [
           "0"
          ],
          [
           "0"
          ],
          [
           "0"
          ],
          [
           "0"
          ],
          [
           "0"
          ],
          [
           "0"
          ],
          [
           "0"
          ],
          [
           "0"
          ],
          [
           "0"
          ],
          [
           "0"
          ],
          [
           "0"
          ],
          [
           "0"
          ],
          [
           "0"
          ],
          [
           "0"
          ],
          [
           "0"
          ],
          [
           "0"
          ],
          [
           "0"
          ],
          [
           "0"
          ],
          [
           "0"
          ],
          [
           "0"
          ],
          [
           "0"
          ],
          [
           "0"
          ],
          [
           "0"
          ],
          [
           "0"
          ],
          [
           "0"
          ],
          [
           "0"
          ],
          [
           "0"
          ],
          [
           "0"
          ],
          [
           "0"
          ],
          [
           "0"
          ],
          [
           "0"
          ],
          [
           "0"
          ],
          [
           "0"
          ],
          [
           "0"
          ],
          [
           "0"
          ],
          [
           "0"
          ],
          [
           "0"
          ],
          [
           "0"
          ],
          [
           "0"
          ],
          [
           "0"
          ],
          [
           "0"
          ],
          [
           "0"
          ],
          [
           "0"
          ],
          [
           "0"
          ],
          [
           "0"
          ],
          [
           "0"
          ],
          [
           "0"
          ],
          [
           "0"
          ],
          [
           "0"
          ],
          [
           "0"
          ],
          [
           "0"
          ],
          [
           "0"
          ],
          [
           "0"
          ],
          [
           "0"
          ],
          [
           "0"
          ],
          [
           "0"
          ],
          [
           "0"
          ],
          [
           "0"
          ],
          [
           "0"
          ],
          [
           "0"
          ],
          [
           "0"
          ],
          [
           "0"
          ],
          [
           "0"
          ],
          [
           "0"
          ],
          [
           "0"
          ],
          [
           "0"
          ],
          [
           "0"
          ],
          [
           "0"
          ],
          [
           "0"
          ],
          [
           "0"
          ],
          [
           "0"
          ],
          [
           "0"
          ],
          [
           "0"
          ],
          [
           "0"
          ],
          [
           "0"
          ],
          [
           "0"
          ],
          [
           "0"
          ],
          [
           "0"
          ],
          [
           "0"
          ],
          [
           "0"
          ],
          [
           "0"
          ],
          [
           "0"
          ],
          [
           "0"
          ],
          [
           "0"
          ],
          [
           "0"
          ],
          [
           "0"
          ],
          [
           "0"
          ],
          [
           "0"
          ],
          [
           "0"
          ],
          [
           "0"
          ],
          [
           "0"
          ],
          [
           "0"
          ],
          [
           "0"
          ],
          [
           "0"
          ],
          [
           "0"
          ],
          [
           "0"
          ],
          [
           "0"
          ],
          [
           "0"
          ],
          [
           "0"
          ],
          [
           "0"
          ],
          [
           "0"
          ],
          [
           "0"
          ],
          [
           "0"
          ],
          [
           "0"
          ],
          [
           "0"
          ],
          [
           "0"
          ],
          [
           "0"
          ],
          [
           "0"
          ],
          [
           "0"
          ],
          [
           "0"
          ],
          [
           "0"
          ],
          [
           "0"
          ],
          [
           "0"
          ],
          [
           "0"
          ],
          [
           "0"
          ],
          [
           "0"
          ],
          [
           "0"
          ],
          [
           "0"
          ],
          [
           "0"
          ],
          [
           "0"
          ],
          [
           "0"
          ],
          [
           "0"
          ],
          [
           "0"
          ],
          [
           "0"
          ],
          [
           "0"
          ],
          [
           "0"
          ],
          [
           "0"
          ],
          [
           "0"
          ],
          [
           "0"
          ],
          [
           "0"
          ],
          [
           "0"
          ],
          [
           "0"
          ],
          [
           "0"
          ],
          [
           "0"
          ],
          [
           "0"
          ],
          [
           "0"
          ],
          [
           "0"
          ],
          [
           "0"
          ],
          [
           "0"
          ],
          [
           "0"
          ],
          [
           "0"
          ],
          [
           "0"
          ],
          [
           "0"
          ],
          [
           "0"
          ],
          [
           "0"
          ],
          [
           "0"
          ],
          [
           "0"
          ],
          [
           "0"
          ],
          [
           "0"
          ],
          [
           "0"
          ],
          [
           "0"
          ],
          [
           "0"
          ],
          [
           "0"
          ],
          [
           "0"
          ],
          [
           "0"
          ],
          [
           "0"
          ],
          [
           "0"
          ],
          [
           "0"
          ],
          [
           "0"
          ],
          [
           "0"
          ],
          [
           "0"
          ],
          [
           "0"
          ],
          [
           "0"
          ],
          [
           "0"
          ],
          [
           "0"
          ],
          [
           "0"
          ],
          [
           "0"
          ],
          [
           "0"
          ],
          [
           "0"
          ],
          [
           "0"
          ],
          [
           "0"
          ],
          [
           "0"
          ],
          [
           "0"
          ],
          [
           "0"
          ],
          [
           "0"
          ],
          [
           "0"
          ],
          [
           "0"
          ],
          [
           "0"
          ],
          [
           "0"
          ],
          [
           "0"
          ],
          [
           "0"
          ],
          [
           "0"
          ],
          [
           "0"
          ],
          [
           "0"
          ],
          [
           "0"
          ],
          [
           "0"
          ],
          [
           "0"
          ],
          [
           "0"
          ],
          [
           "0"
          ],
          [
           "0"
          ],
          [
           "0"
          ],
          [
           "0"
          ],
          [
           "0"
          ],
          [
           "0"
          ],
          [
           "0"
          ],
          [
           "0"
          ],
          [
           "0"
          ],
          [
           "0"
          ],
          [
           "0"
          ],
          [
           "0"
          ],
          [
           "0"
          ],
          [
           "0"
          ],
          [
           "0"
          ],
          [
           "0"
          ],
          [
           "0"
          ],
          [
           "0"
          ],
          [
           "0"
          ],
          [
           "0"
          ],
          [
           "0"
          ],
          [
           "0"
          ],
          [
           "0"
          ],
          [
           "0"
          ],
          [
           "0"
          ],
          [
           "0"
          ],
          [
           "0"
          ],
          [
           "0"
          ],
          [
           "0"
          ],
          [
           "0"
          ],
          [
           "0"
          ],
          [
           "0"
          ],
          [
           "0"
          ],
          [
           "0"
          ],
          [
           "0"
          ],
          [
           "0"
          ],
          [
           "0"
          ]
         ],
         "hovertemplate": "is_safe=%{customdata[0]}<br>aluminium=%{x}<br>cadmium=%{y}<br>chloramine=%{z}<extra></extra>",
         "legendgroup": "0",
         "marker": {
          "color": "#636EFA",
          "size": 2,
          "symbol": "circle"
         },
         "mode": "markers",
         "name": "0",
         "scene": "scene",
         "showlegend": true,
         "type": "scatter3d",
         "x": [
          0.04,
          0.06,
          0.08,
          0.07,
          3.41,
          0.07,
          3.51,
          2.76,
          4.45,
          0.08,
          0.08,
          0.14,
          2.83,
          0.06,
          0.07,
          3.54,
          0.01,
          0.08,
          0.01,
          0.03,
          0.11,
          0.89,
          0.03,
          0.07,
          2.61,
          1.97,
          4.09,
          0.05,
          0.02,
          0.19,
          0.02,
          0.55,
          2.06,
          0.17,
          0.06,
          3.74,
          0.09,
          2.55,
          0,
          0.09,
          0.03,
          0.05,
          0.02,
          0.08,
          0.06,
          0,
          0.04,
          0.01,
          0.01,
          0.08,
          0.03,
          1.71,
          0.07,
          0,
          2.67,
          0.07,
          0.07,
          0.03,
          0.04,
          0.07,
          0.09,
          0.08,
          0,
          0.03,
          0.05,
          0.08,
          0.09,
          0.13,
          0.03,
          0.01,
          0.06,
          0.03,
          0.02,
          0.37,
          0.06,
          0.01,
          0.04,
          1.18,
          0.04,
          0.23,
          2.11,
          0.06,
          0.01,
          0.01,
          4.63,
          0.01,
          0.05,
          0,
          0.06,
          0.03,
          0.01,
          0.93,
          1.41,
          0,
          0.05,
          0.01,
          0.02,
          0.05,
          0.37,
          0.05,
          2.66,
          1.39,
          0.01,
          0.02,
          0.19,
          4.3,
          0.04,
          0.09,
          0.77,
          0.05,
          1.06,
          0.06,
          0.03,
          0.01,
          0.06,
          0.02,
          0,
          0.05,
          0.05,
          0.11,
          0.02,
          0.24,
          1.8,
          0.06,
          0.04,
          0.03,
          0.09,
          0.07,
          2.37,
          0.08,
          0.05,
          0.03,
          0.09,
          1.04,
          0.1,
          0.02,
          0.93,
          0.11,
          0.08,
          0.01,
          0.76,
          0.03,
          0.78,
          0.08,
          2.21,
          0.04,
          0.06,
          0.17,
          2.61,
          3.56,
          0.09,
          0.05,
          0.74,
          0.05,
          0.08,
          4.64,
          0.03,
          4.13,
          0.07,
          0.08,
          1.67,
          0.02,
          0.09,
          0.08,
          0.02,
          4.11,
          0.02,
          4.04,
          0.17,
          0.14,
          0.08,
          0.1,
          0.07,
          0.08,
          1.74,
          0.05,
          0.12,
          0.03,
          3.9,
          0.08,
          0.09,
          0.05,
          0.04,
          0.03,
          0.01,
          2.45,
          0.48,
          0.02,
          0.06,
          4.41,
          0.06,
          0.02,
          0.09,
          0.18,
          0.06,
          0.08,
          0.04,
          0.09,
          0.08,
          0.93,
          0.06,
          0,
          0.06,
          0.08,
          0.3,
          0.01,
          0.05,
          2.15,
          0.2,
          0.1,
          2.97,
          0.07,
          0.06,
          0.04,
          0.04,
          0.26,
          0.01,
          0.02,
          0.06,
          0.1,
          0.09,
          0.02,
          0.08,
          0.03,
          0.1,
          0.02,
          0.25,
          0.1,
          0.02,
          0.24,
          0.01,
          0.01,
          2.64,
          0.07,
          0.08,
          0.07,
          0.6,
          2.43,
          0.08,
          0.02,
          0.04,
          0.06,
          0.09,
          0.06,
          0.26,
          0.08,
          3.48,
          0.03,
          0.09,
          0.02,
          0.02,
          0.06,
          0.08,
          4.18,
          0.05,
          0.07,
          0.02,
          0.01,
          0.05,
          0.01,
          0.03,
          0.07,
          0.09,
          0.06,
          0.18,
          0.59,
          0.16,
          0.02,
          1.13,
          0.01,
          0.03,
          0.09,
          0.08,
          4.92,
          0.09,
          0.04,
          0.03,
          0.07,
          0.06,
          0.04,
          2.54,
          0.01,
          0.09,
          3.55,
          0.03,
          0.05,
          0.03,
          4.88,
          0.01,
          0.02,
          0.08,
          3.2,
          3.42,
          0.02,
          0.01,
          0.09,
          0.04,
          3.96,
          1.21,
          3.84,
          0.03,
          0.05,
          0.01,
          3.54,
          0,
          0.04,
          3.43,
          0.03,
          0.02,
          0,
          0.03,
          0.1,
          0.08,
          3.63,
          0.02,
          0.07,
          0.02,
          0.09,
          0.05,
          0.08,
          0.02,
          0.04,
          0.01,
          0.02,
          0.02,
          2.25,
          0.34,
          0.07,
          0.03,
          0.07,
          0.03,
          0.13,
          0.04,
          0.02,
          0.05,
          0.04,
          3.69,
          3.06,
          0.09,
          0.1,
          0.06,
          0.02,
          0.05,
          0.05,
          0.04,
          0.08,
          1.88,
          0.06,
          0.1,
          0.11,
          0,
          0.07,
          0.3,
          0.05,
          0.07,
          0.01,
          0.02,
          0.02,
          0,
          0.12,
          5.05,
          0.06,
          0.07,
          0.09,
          4.23,
          0.06,
          0.08,
          0.09,
          0.1,
          0.01,
          0.08,
          0.07,
          0.05,
          2.42,
          0,
          0.02,
          0.03,
          0.03,
          3.88,
          1.13,
          0.05,
          0.76,
          0.18,
          0.05,
          0.06,
          0.06,
          0.17,
          0.01,
          0.04,
          0.01,
          1.96,
          0.02,
          0.05,
          2.7,
          0.05,
          3.93,
          0.02,
          0.04,
          4.76,
          0.05,
          1,
          2.3,
          0.01,
          0.07,
          0.34,
          0.02,
          0,
          0.02,
          0.01,
          0.07,
          0.03,
          2.5,
          0.05,
          0.02,
          4.39,
          2.17,
          0.06,
          0.01,
          0.06,
          0.04,
          0.1,
          0.09,
          0.07,
          3.67,
          0.07,
          0.1,
          0.06,
          0.13,
          0.05,
          4.08,
          0.92,
          0.04,
          0.32,
          0.02,
          5.01,
          0.06,
          4.09,
          0.04,
          0.08,
          4.44,
          0.2,
          0.02,
          0.01,
          0.03,
          1.14,
          2.96,
          2.64,
          0.06,
          0.05,
          0.07,
          0.03,
          0.02,
          0.11,
          0.06,
          0.96,
          0.08,
          0.05,
          0.07,
          0.04,
          0.05,
          0.05,
          0.05,
          0.1,
          0.09,
          0.06,
          0.02,
          0.05,
          0.03,
          4.87,
          0.07,
          0.01,
          0.25,
          0.02,
          4.96,
          2.41,
          0.09,
          0.01,
          0,
          0.17,
          0.08,
          0.04,
          1.11,
          0.01,
          0.07,
          0.09,
          4.08,
          0.03,
          0.39,
          0.02,
          0.05,
          0.09,
          0.03,
          0.08,
          0.05,
          0.01,
          0.2,
          2.61,
          0.06,
          0,
          0.06,
          0.09,
          3.42,
          0.03,
          0.05,
          0.23,
          0.05,
          0.08,
          4.44,
          0.3,
          0.02,
          2.84,
          0.01,
          0.09,
          0.02,
          0.09,
          1.25,
          0.02,
          0.02,
          0.01,
          0.09,
          0.08,
          0.02,
          0.07,
          0.06,
          0.05,
          0.07,
          0.73,
          0.01,
          0.01,
          0.04,
          0.25,
          0.04,
          0.06,
          0.07,
          0.06,
          0.36,
          0.03,
          0.02,
          0.08,
          0.03,
          0.08,
          0.04,
          0,
          0.28,
          0.08,
          0.02,
          0.03,
          0.08,
          0.06,
          0.1,
          0.03,
          4.8,
          0.02,
          0,
          0.06,
          0.1,
          0.06,
          0.05,
          0.06,
          0.05,
          0.97,
          0.1,
          0.06,
          0.09,
          0.13,
          0.06,
          0.06,
          0.09,
          2.61,
          0.08,
          0.07,
          0.02,
          1.49,
          0.05,
          0.08,
          0.05,
          0.03,
          0.09,
          0.05,
          0.05,
          0.1,
          0.34,
          0.09,
          3.56,
          0.1,
          0.03,
          0.18,
          1.59,
          0.05,
          0.06,
          4.12,
          1.74,
          0.05,
          0.09,
          0.05,
          0.08,
          0.09,
          0.1,
          1.74,
          0.01,
          3.49,
          0.81,
          0.28,
          0.07,
          0.03,
          0.03,
          0.01,
          0.39,
          0.08,
          0.29,
          0.21,
          0.09,
          0.03,
          0.1,
          0.01,
          0.06,
          0.06,
          0.07,
          0.28,
          0.02,
          2.01,
          0.09,
          0.86,
          0.02,
          0.1,
          0.07,
          0.09,
          0,
          1.5,
          0.02,
          0.02,
          0.06,
          4.78,
          0,
          0.04,
          0.05,
          0.03,
          0.05,
          0.1,
          0.1,
          0.05,
          0.05,
          0.02,
          0.07,
          0.25,
          0.06,
          0.07,
          0.02,
          0.04,
          0.03,
          0.1,
          0.01,
          0.04,
          0.09,
          0.1,
          0.95,
          0.07,
          0.06,
          0.01,
          0.33,
          0.1,
          0.07,
          0.01,
          0.02,
          0.07,
          0.03,
          3.55,
          0.07,
          0.02,
          0.06,
          0.03,
          0.03,
          2.74,
          0.03,
          0.09,
          0.07,
          3.91,
          0.09,
          0.02,
          0.08,
          0.06,
          0.31,
          0.03,
          0.09,
          0.01,
          0.09,
          4.44,
          3.15,
          0.08,
          0,
          0.09,
          2.73,
          0.33,
          0.09,
          0.02,
          0.26,
          0.08,
          0.04,
          0.94,
          0.01,
          0.03,
          0.09,
          0.03,
          0.11,
          0.05,
          0.07,
          2.81,
          0,
          0.13,
          0.05,
          0.07,
          0.03,
          3.88,
          0.03,
          0.15,
          0,
          0.6,
          0.05,
          0.08,
          0.03,
          0.1,
          0.09,
          0.02,
          0.18,
          0.03,
          0.09,
          0.08,
          0.07,
          0.08,
          0,
          0.27,
          0.02,
          0.03,
          0.09,
          0.06,
          0.01,
          0.06,
          0.08,
          0.89,
          0.06,
          0.08,
          1.75,
          0.08,
          0.06,
          0.24,
          0.08,
          0.02,
          0.65,
          0.01,
          2.77,
          0.08,
          0.01,
          0.09,
          0.15,
          0.77,
          0.07,
          0.25,
          0.03,
          0.09,
          0.83,
          0.07,
          0,
          0.08,
          0.06,
          0.1,
          0.01,
          0,
          0.07,
          0.1,
          0.01,
          2.37,
          0,
          0,
          0.07,
          0.08,
          4.11,
          0.03,
          0.07,
          0.06,
          0.09,
          3.17,
          0.1,
          0.05,
          0.82,
          0.03,
          0.01,
          0.06,
          0.02,
          3.19,
          0.07,
          0.03,
          0.02,
          0.09,
          0,
          0.04,
          0,
          0.01,
          0.01,
          4.31,
          0.04,
          0.08,
          0.32,
          0.05,
          0.05,
          0.09,
          0.06,
          0.02,
          0.09,
          2.41,
          0.09,
          1.91,
          0.05,
          0.02,
          0.04,
          0.1,
          0.07,
          1.66,
          0.01,
          0.03,
          0.02,
          0.08,
          0.01,
          0.07,
          0.15,
          1.43,
          0.03,
          0.09,
          0.03,
          0.01,
          0.07,
          0.07,
          0.04,
          2.31,
          0,
          0.07,
          0.09,
          0.01,
          0.03,
          0.17,
          0.1,
          0.07,
          0.01,
          0.1,
          0.04,
          0.04,
          0.08,
          0.07,
          0.07,
          0.03,
          3.64,
          0.25,
          0.77,
          2.51,
          0.1,
          0.02,
          0.01,
          0.07,
          0.08,
          0.06,
          0.21,
          0.1,
          0.08,
          0.12,
          0.02,
          0.06,
          0.02,
          0.03,
          0.06,
          0.05,
          0.04,
          0.08,
          0.02,
          4.31,
          0.01,
          0.58,
          0.04,
          0.06,
          2.02,
          0,
          0.06,
          0.09,
          0.07,
          0.04,
          0.06,
          0.03,
          0.1,
          3.33,
          0.03,
          0.03,
          0.09,
          0.07,
          0.08,
          0.15,
          0.1,
          2.74,
          0.09,
          0.07,
          0.02,
          0.02,
          2.76,
          0.14,
          0.02,
          0.08,
          0.08,
          0,
          0,
          0,
          0.02,
          0.03,
          0.19,
          0.1,
          0.16
         ],
         "y": [
          0.07,
          0.003,
          0.09,
          0.02,
          0.001,
          0.08,
          0.09,
          0.02,
          0.04,
          0.09,
          0.05,
          0.005,
          0.1,
          0.06,
          0.01,
          0.01,
          0.008,
          0.03,
          0.1,
          0.08,
          0.006,
          0.12,
          0.01,
          0.08,
          0.001,
          0.1,
          0.01,
          0.05,
          0.03,
          0.005,
          0.03,
          0.03,
          0.1,
          0.02,
          0.13,
          0.11,
          0.08,
          0.006,
          0.1,
          0,
          0.02,
          0.009,
          0.01,
          0.08,
          0.08,
          0.001,
          0.08,
          0.07,
          0.006,
          0.02,
          0.06,
          0.05,
          0.02,
          0.05,
          0.12,
          0.07,
          0.09,
          0.004,
          0.1,
          0.03,
          0.05,
          0.09,
          0.09,
          0.09,
          0.06,
          0.05,
          0.01,
          0.1,
          0.06,
          0.007,
          0.02,
          0.04,
          0.02,
          0.05,
          0.001,
          0.1,
          0.03,
          0.001,
          0.05,
          0.11,
          0.07,
          0.05,
          0.07,
          0.005,
          0.1,
          0.004,
          0,
          0.08,
          0.02,
          0.03,
          0.07,
          0.09,
          0.05,
          0.005,
          0.03,
          0.01,
          0.005,
          0.01,
          0.003,
          0.1,
          0.01,
          0.08,
          0.05,
          0.05,
          0.009,
          0.02,
          0.001,
          0.07,
          0.008,
          0,
          0.1,
          0.02,
          0.12,
          0.01,
          0.07,
          0.02,
          0.09,
          0.1,
          0.08,
          0.005,
          0.07,
          0.001,
          0.01,
          0.01,
          0.006,
          0.03,
          0.07,
          0.005,
          0.06,
          0.02,
          0.05,
          0.005,
          0.003,
          0.02,
          0.09,
          0,
          0.004,
          0.04,
          0.09,
          0.05,
          0.007,
          0.05,
          0.08,
          0.07,
          0.03,
          0.06,
          0.1,
          0.04,
          0.006,
          0.009,
          0.08,
          0.05,
          0.05,
          0.002,
          0.07,
          0.007,
          0.02,
          0.001,
          0.05,
          0.07,
          0.08,
          0.09,
          0.07,
          0.11,
          0.08,
          0.002,
          0.008,
          0.02,
          0.02,
          0.001,
          0.06,
          0.01,
          0.002,
          0.02,
          0.05,
          0.05,
          0.003,
          0.007,
          0.05,
          0.09,
          0.09,
          0.04,
          0.005,
          0.08,
          0.02,
          0.07,
          0.001,
          0.03,
          0.06,
          0.002,
          0.02,
          0.09,
          0.03,
          0.006,
          0.05,
          0.02,
          0.01,
          0.04,
          0.05,
          0.09,
          0.07,
          0.04,
          0.09,
          0,
          0.002,
          0.006,
          0.09,
          0.06,
          0.001,
          0.04,
          0.009,
          0,
          0.09,
          0.02,
          0.02,
          0.003,
          0.09,
          0.008,
          0.06,
          0.05,
          0.02,
          0.06,
          0.05,
          0.05,
          0.07,
          0.09,
          0.06,
          0.06,
          0.09,
          0.001,
          0.01,
          0,
          0.11,
          0.007,
          0.01,
          0.05,
          0.11,
          0.03,
          0.1,
          0.05,
          0.001,
          0.07,
          0.08,
          0.001,
          0.004,
          0.005,
          0.05,
          0.007,
          0.05,
          0.03,
          0.05,
          0.03,
          0.08,
          0.05,
          0.02,
          0.09,
          0.006,
          0.01,
          0.002,
          0.07,
          0,
          0.04,
          0.09,
          0.05,
          0.11,
          0.09,
          0.007,
          0.09,
          0.06,
          0.01,
          0.04,
          0.04,
          0,
          0.06,
          0.1,
          0.01,
          0.01,
          0.02,
          0.002,
          0.04,
          0.003,
          0.09,
          0.09,
          0.06,
          0.02,
          0.007,
          0.01,
          0.001,
          0.07,
          0.12,
          0.05,
          0.06,
          0.009,
          0.07,
          0.05,
          0.06,
          0.09,
          0.12,
          0.001,
          0.09,
          0,
          0.05,
          0.02,
          0.01,
          0.09,
          0.006,
          0.11,
          0.01,
          0.13,
          0.08,
          0.12,
          0.07,
          0.04,
          0.007,
          0.05,
          0.02,
          0,
          0.007,
          0.1,
          0.1,
          0.11,
          0.01,
          0.05,
          0.03,
          0.02,
          0.12,
          0.006,
          0.05,
          0.08,
          0,
          0.07,
          0.008,
          0,
          0.06,
          0.06,
          0.04,
          0.08,
          0.07,
          0.04,
          0.04,
          0.1,
          0,
          0.08,
          0.006,
          0.008,
          0.01,
          0.12,
          0.06,
          0.07,
          0.007,
          0.02,
          0.08,
          0.002,
          0.01,
          0.04,
          0.07,
          0.03,
          0.01,
          0.05,
          0.06,
          0.05,
          0.03,
          0.06,
          0.002,
          0.12,
          0.03,
          0.06,
          0.006,
          0.09,
          0.04,
          0.07,
          0.07,
          0.03,
          0.07,
          0.09,
          0.01,
          0.09,
          0.08,
          0.01,
          0.06,
          0,
          0.007,
          0.03,
          0.05,
          0.12,
          0.01,
          0.09,
          0.1,
          0.07,
          0.03,
          0.08,
          0.04,
          0.004,
          0.08,
          0.02,
          0.04,
          0.09,
          0.02,
          0.005,
          0.007,
          0.01,
          0.03,
          0.002,
          0.004,
          0.006,
          0.1,
          0.001,
          0.006,
          0.002,
          0.08,
          0.01,
          0.005,
          0.12,
          0.005,
          0.1,
          0.005,
          0.06,
          0.05,
          0.1,
          0.02,
          0.07,
          0.04,
          0.009,
          0.04,
          0.09,
          0.03,
          0.08,
          0.008,
          0,
          0.03,
          0.05,
          0.08,
          0.06,
          0.08,
          0.03,
          0.09,
          0.01,
          0.1,
          0.08,
          0.03,
          0.06,
          0.04,
          0.001,
          0.05,
          0.06,
          0.001,
          0.12,
          0.05,
          0.001,
          0.05,
          0.04,
          0.1,
          0.001,
          0.08,
          0.06,
          0.05,
          0.02,
          0.02,
          0.04,
          0.07,
          0.08,
          0.09,
          0.08,
          0,
          0.04,
          0.06,
          0.01,
          0.003,
          0.12,
          0.03,
          0.05,
          0.001,
          0.06,
          0.04,
          0.04,
          0.01,
          0.02,
          0,
          0.003,
          0.09,
          0,
          0.04,
          0.04,
          0.1,
          0.08,
          0.004,
          0.02,
          0.02,
          0.002,
          0.05,
          0.02,
          0.06,
          0.06,
          0.09,
          0.03,
          0.09,
          0.008,
          0.05,
          0.02,
          0.06,
          0.04,
          0.003,
          0.02,
          0.04,
          0.007,
          0.03,
          0.004,
          0.03,
          0.03,
          0.03,
          0.04,
          0.02,
          0.09,
          0.06,
          0.02,
          0.04,
          0.02,
          0.003,
          0.05,
          0.04,
          0.01,
          0.07,
          0.12,
          0.07,
          0.02,
          0.01,
          0.001,
          0.07,
          0.03,
          0,
          0.03,
          0.1,
          0.09,
          0.09,
          0.01,
          0.06,
          0.01,
          0.12,
          0.11,
          0.02,
          0.1,
          0.04,
          0.002,
          0.11,
          0.11,
          0.001,
          0.02,
          0.09,
          0.01,
          0.1,
          0.08,
          0.05,
          0.008,
          0.004,
          0.03,
          0.05,
          0,
          0.06,
          0,
          0.07,
          0.06,
          0.09,
          0.01,
          0.05,
          0.008,
          0.09,
          0.02,
          0.02,
          0.06,
          0.01,
          0.02,
          0.06,
          0.06,
          0.12,
          0.03,
          0.02,
          0.04,
          0.04,
          0.006,
          0.03,
          0.09,
          0.006,
          0.03,
          0.01,
          0.005,
          0.06,
          0.1,
          0.09,
          0.1,
          0.04,
          0.008,
          0.05,
          0.07,
          0.06,
          0,
          0.09,
          0.05,
          0.1,
          0.001,
          0.09,
          0.006,
          0,
          0.008,
          0.04,
          0.01,
          0.07,
          0.05,
          0.07,
          0.02,
          0.006,
          0.05,
          0.05,
          0.06,
          0.002,
          0.001,
          0.002,
          0.06,
          0.08,
          0.11,
          0.03,
          0.002,
          0.01,
          0.1,
          0.001,
          0.05,
          0.08,
          0.08,
          0.02,
          0.02,
          0.07,
          0.04,
          0.04,
          0.01,
          0.07,
          0.1,
          0.02,
          0.02,
          0.05,
          0.01,
          0.02,
          0.06,
          0.008,
          0.002,
          0.07,
          0.004,
          0.02,
          0.07,
          0.008,
          0.09,
          0.02,
          0.001,
          0.02,
          0.01,
          0.05,
          0.07,
          0.007,
          0.03,
          0.04,
          0.04,
          0.09,
          0.03,
          0.02,
          0.02,
          0.03,
          0.05,
          0.02,
          0.005,
          0.05,
          0.07,
          0.09,
          0.11,
          0.02,
          0.06,
          0.04,
          0.001,
          0.08,
          0.1,
          0.06,
          0.08,
          0.13,
          0.06,
          0.009,
          0.04,
          0.07,
          0.03,
          0.08,
          0.03,
          0.003,
          0.009,
          0.01,
          0,
          0.05,
          0.09,
          0.1,
          0.02,
          0.004,
          0.002,
          0.06,
          0.008,
          0.01,
          0.01,
          0.03,
          0.003,
          0.06,
          0.003,
          0.07,
          0.09,
          0.06,
          0.1,
          0.09,
          0.09,
          0.03,
          0.008,
          0.07,
          0.008,
          0.005,
          0.004,
          0.09,
          0.01,
          0.08,
          0.06,
          0,
          0.13,
          0.04,
          0.03,
          0.002,
          0.09,
          0.09,
          0.09,
          0.04,
          0.01,
          0.07,
          0.04,
          0.08,
          0.1,
          0.05,
          0.08,
          0.03,
          0.1,
          0.12,
          0.02,
          0.005,
          0.02,
          0.07,
          0.01,
          0.07,
          0.09,
          0.01,
          0.04,
          0.06,
          0.08,
          0.13,
          0.03,
          0.001,
          0.07,
          0.03,
          0.009,
          0.005,
          0.1,
          0.11,
          0.008,
          0.04,
          0.01,
          0.03,
          0.002,
          0.06,
          0.06,
          0.1,
          0.07,
          0.01,
          0.08,
          0.006,
          0.01,
          0.006,
          0.01,
          0.002,
          0.05,
          0,
          0.04,
          0.09,
          0.01,
          0.05,
          0.12,
          0.01,
          0.02,
          0.04,
          0.05,
          0.01,
          0.05,
          0.02,
          0.09,
          0.002,
          0.03,
          0.05,
          0.04,
          0.08,
          0.004,
          0,
          0.03,
          0.09,
          0.13,
          0.08,
          0.06,
          0.07,
          0.08,
          0.03,
          0.006,
          0.04,
          0.04,
          0.03,
          0.008,
          0.01,
          0.02,
          0.06,
          0.1,
          0.05,
          0.09,
          0.08,
          0.01,
          0.1,
          0.08,
          0.1,
          0.07,
          0.02,
          0.001,
          0.005,
          0.05,
          0.01,
          0.04,
          0.1,
          0.1,
          0.04,
          0.06,
          0.04,
          0.03,
          0.05,
          0.001,
          0.04,
          0.002,
          0.001,
          0.08,
          0.03,
          0.001,
          0.03,
          0.08,
          0,
          0.01,
          0.04,
          0.007,
          0.05,
          0.004,
          0.07,
          0.12,
          0.04,
          0.06,
          0.09,
          0.04,
          0.02,
          0.01,
          0.12,
          0.07,
          0.05,
          0.1,
          0.03,
          0.06,
          0.06,
          0.01,
          0.06,
          0.02,
          0.08,
          0.03,
          0.1,
          0.008,
          0.09,
          0.03,
          0.01,
          0.03,
          0.005,
          0.04,
          0.003,
          0.003,
          0.05,
          0.08,
          0.05,
          0.01,
          0.08,
          0.11,
          0.03,
          0.02,
          0.01,
          0.02,
          0.002,
          0.007,
          0.04,
          0.1,
          0.02,
          0.07,
          0.07,
          0.09,
          0.01,
          0.02,
          0.001,
          0.08,
          0.07,
          0.04,
          0.04,
          0.06,
          0.07,
          0.04,
          0.01,
          0.01,
          0.1
         ],
         "z": [
          4.96,
          2.38,
          0.32,
          0.07,
          3.15,
          0.12,
          4.15,
          4.12,
          4.68,
          0.02,
          0.18,
          3.1,
          6.53,
          0.06,
          0.04,
          4.03,
          2.97,
          0.27,
          3.42,
          6.72,
          5.42,
          1.94,
          0.45,
          0.58,
          2.38,
          1.31,
          3.67,
          0.38,
          0.04,
          2.28,
          0.06,
          3.67,
          4.46,
          7.68,
          7.12,
          6.53,
          0.21,
          7.48,
          0.13,
          0.25,
          0.29,
          5.9,
          0.15,
          0.08,
          0.38,
          0.19,
          0.17,
          0.09,
          3.04,
          0.12,
          0.31,
          3.7,
          2.76,
          0.04,
          1.34,
          0.08,
          0.03,
          2.77,
          0.42,
          0.29,
          0.01,
          0.24,
          0.62,
          0.32,
          0.02,
          0.02,
          3.99,
          4,
          0.17,
          7.97,
          0.05,
          0.19,
          0.06,
          2.25,
          7.17,
          2.41,
          0.04,
          5.21,
          2.38,
          7.73,
          2.25,
          0.03,
          0.07,
          3.83,
          6.96,
          5.47,
          0.03,
          0.07,
          0.1,
          4.66,
          0.06,
          4.61,
          2.22,
          2.15,
          0.01,
          5.3,
          7.12,
          0.01,
          2.56,
          0.04,
          6.34,
          8.19,
          0.08,
          0.06,
          6.68,
          1.05,
          7.42,
          0.04,
          3.51,
          0.09,
          7.07,
          0.36,
          5.3,
          0.19,
          0,
          0.3,
          7.38,
          0.19,
          0.1,
          3.01,
          7.98,
          4.95,
          0.5,
          0.18,
          0.23,
          0.44,
          0.58,
          4.96,
          3.63,
          0.07,
          0.25,
          6.77,
          3.7,
          8.32,
          0.09,
          0.09,
          4,
          3.57,
          0.26,
          0.27,
          7.87,
          0.04,
          6.05,
          0.03,
          6.55,
          0.35,
          0.17,
          4.55,
          6.1,
          5.02,
          0.07,
          0.14,
          7.85,
          5.71,
          0,
          6.57,
          0.01,
          6.7,
          0.04,
          0.09,
          6.89,
          0.46,
          0.06,
          4.91,
          0.05,
          6.98,
          3.43,
          6.86,
          6.07,
          5.33,
          5.61,
          0.07,
          4.73,
          6.97,
          1.21,
          0.47,
          4.38,
          0.67,
          5.06,
          0.36,
          0.57,
          0.06,
          4.57,
          0.08,
          0.01,
          5.34,
          4.07,
          0.07,
          0.27,
          5.71,
          2.91,
          0,
          0.06,
          6.79,
          0.25,
          0.4,
          0.19,
          0.14,
          0.02,
          4.61,
          0.19,
          0.16,
          3.43,
          0.09,
          2.73,
          1.87,
          0,
          1.09,
          1.12,
          0.07,
          3.48,
          0.04,
          0.32,
          0.08,
          0.13,
          3.44,
          0.08,
          2.26,
          0.28,
          0.1,
          0.18,
          0.48,
          0.02,
          0.13,
          0.16,
          0.06,
          1.4,
          0.05,
          0.38,
          4.95,
          0.24,
          0.36,
          2.84,
          5.98,
          0.22,
          0.19,
          4.69,
          6.3,
          0.03,
          0.07,
          4.18,
          0.02,
          0.1,
          7.17,
          1.36,
          3.95,
          4.55,
          6.69,
          0.16,
          0.16,
          0.36,
          0.4,
          3.28,
          6.49,
          0.02,
          0.07,
          3.7,
          0.62,
          7.89,
          0.06,
          0.02,
          5.8,
          0.01,
          0.07,
          6.51,
          6.23,
          7.4,
          0.1,
          7,
          0.08,
          0.07,
          0.05,
          0.48,
          0.64,
          0.69,
          0.07,
          0.08,
          0.44,
          6.45,
          0.6,
          7.83,
          0.07,
          0.03,
          2.87,
          4.02,
          1.36,
          0.39,
          1.21,
          0.55,
          3.19,
          0.34,
          7.83,
          7.55,
          0.39,
          4.82,
          0.05,
          0.16,
          4.57,
          1.16,
          4.06,
          0.08,
          0.01,
          0.04,
          4.03,
          0.1,
          5.89,
          1.1,
          0.04,
          1.66,
          0.27,
          5.18,
          0.03,
          0.17,
          4.08,
          0.05,
          0.44,
          0.02,
          2.37,
          0.04,
          8.52,
          3.67,
          0.03,
          0.19,
          0.09,
          0.14,
          4.68,
          4.93,
          0.52,
          0.08,
          5.79,
          0.52,
          6.25,
          0.24,
          0.05,
          0.09,
          0.07,
          5.65,
          2.36,
          6.98,
          0.25,
          0.26,
          0.07,
          0.71,
          5.42,
          7.81,
          0.04,
          4.43,
          0.14,
          0.1,
          6.63,
          0.01,
          0.08,
          2.73,
          0.6,
          0.3,
          0.03,
          0.46,
          0.08,
          0.01,
          5.25,
          1.02,
          0.2,
          0.19,
          3.16,
          0.79,
          0.55,
          0.06,
          6.48,
          0.44,
          0.59,
          0.09,
          0.29,
          0.01,
          2.66,
          0.02,
          0.08,
          0.05,
          0.25,
          6.85,
          7,
          0.41,
          7.87,
          1.53,
          0.38,
          2.1,
          4.05,
          3.43,
          0.26,
          0.1,
          0.06,
          3.97,
          0.38,
          3.76,
          4.21,
          0.32,
          6.11,
          0.12,
          0.06,
          5.99,
          4.1,
          4.93,
          5.86,
          1.94,
          1.67,
          4.93,
          0.21,
          6.2,
          0.08,
          2.5,
          0.58,
          0.34,
          3.11,
          4.19,
          1.18,
          3.49,
          7.08,
          0.06,
          0.44,
          0.17,
          0.13,
          0.09,
          0.05,
          7.78,
          4.67,
          0.02,
          0.14,
          2.74,
          6.25,
          0.44,
          4.82,
          8.19,
          0.01,
          7.12,
          4.69,
          1.82,
          0.03,
          3.67,
          0.05,
          0.1,
          3.07,
          0.97,
          0.02,
          5.72,
          0.32,
          1.43,
          6.53,
          2.51,
          0.31,
          4.08,
          0.06,
          0.19,
          0.06,
          0.88,
          0.61,
          4.82,
          0.09,
          0.05,
          0.09,
          0.04,
          0.04,
          4.44,
          0.07,
          0.02,
          0.24,
          0.02,
          0.01,
          0,
          2.01,
          3.44,
          0.38,
          0.02,
          5.07,
          0.09,
          3.03,
          1.5,
          0.02,
          0.12,
          0.1,
          0.05,
          0.05,
          0.38,
          0.44,
          0.15,
          0.13,
          0.03,
          1.88,
          0.08,
          6.95,
          6.13,
          7.02,
          0.07,
          7.33,
          0.16,
          0.05,
          0.07,
          6.91,
          0.53,
          8.31,
          0.09,
          0.06,
          0.17,
          2.87,
          0.12,
          0.13,
          6.37,
          0.03,
          5.59,
          4.03,
          0.56,
          5.81,
          7.08,
          0.61,
          0.16,
          0.26,
          0.04,
          6.68,
          0.04,
          7.16,
          0.03,
          0.25,
          0.08,
          6.2,
          6.37,
          7.03,
          0.28,
          0.12,
          5.92,
          0.07,
          0.06,
          0.24,
          4.99,
          0.1,
          0.11,
          0.22,
          0.24,
          2.02,
          0.23,
          3.19,
          3.77,
          0.11,
          0.5,
          0.15,
          3.36,
          3.04,
          6.59,
          3.58,
          4.37,
          0.11,
          0.06,
          6.98,
          0.07,
          1.3,
          1.9,
          2.4,
          0.11,
          2.21,
          0.05,
          0.44,
          0.43,
          0.08,
          6.08,
          0.3,
          0.04,
          0.05,
          2.95,
          0.5,
          0.3,
          0.04,
          3.69,
          0.16,
          0.24,
          0.09,
          3.53,
          4.19,
          4.6,
          0.04,
          0.25,
          0.1,
          6.12,
          0.06,
          0.04,
          4.93,
          0.39,
          5.1,
          5.29,
          0.09,
          4.35,
          4.8,
          0.08,
          0.01,
          1.58,
          1.21,
          6.41,
          0.05,
          0.08,
          0.46,
          0.01,
          6.98,
          5.33,
          0.05,
          0.29,
          2.36,
          3.41,
          0.34,
          0.08,
          0.02,
          0.42,
          5.41,
          0.04,
          6.25,
          5.86,
          0.41,
          0.06,
          3.42,
          5.68,
          7.12,
          0.03,
          0.32,
          3.04,
          0.08,
          4.42,
          0.08,
          5.27,
          3.41,
          0.03,
          0.06,
          0.09,
          0.18,
          4.42,
          0.06,
          0.68,
          0.02,
          3.31,
          0.24,
          0.04,
          0.17,
          0.23,
          0.29,
          0.07,
          0.09,
          0.05,
          7,
          6.13,
          0.15,
          4.54,
          0.05,
          0.1,
          1.94,
          0.62,
          0.07,
          6.7,
          0.06,
          0.06,
          0.18,
          6.12,
          4.9,
          0.05,
          0.25,
          0.02,
          5.67,
          0.08,
          0.4,
          0.63,
          0.12,
          2.96,
          0.02,
          0.01,
          0.06,
          0.04,
          0.12,
          2.57,
          2.61,
          2.14,
          0.25,
          3.78,
          0.32,
          4.05,
          0.07,
          0.11,
          8.22,
          0.18,
          5.17,
          0.07,
          0.04,
          0,
          0.02,
          0.8,
          7.8,
          3.47,
          0.08,
          0.07,
          2.94,
          5.67,
          0.04,
          0.21,
          1.36,
          7.83,
          0.12,
          5.38,
          0.06,
          0.09,
          0.36,
          6.14,
          4.52,
          0.94,
          0.01,
          2.55,
          0.1,
          4,
          0.32,
          0.08,
          5.69,
          3.43,
          0.02,
          3.71,
          0.68,
          4.16,
          0.05,
          0.04,
          6,
          0.29,
          0.02,
          3.83,
          0.48,
          5.97,
          4.37,
          0.11,
          0.01,
          0.02,
          0.02,
          2.03,
          0.03,
          0.17,
          0.06,
          0.1,
          0.05,
          0.16,
          0.01,
          4.65,
          6.16,
          0.22,
          0.46,
          0.61,
          0.48,
          5.83,
          0.09,
          0.46,
          3.54,
          0.03,
          3.48,
          0.07,
          0.33,
          0.41,
          0.26,
          6.13,
          0.06,
          1.36,
          7.08,
          0.04,
          2.1,
          4.4,
          0.09,
          6.71,
          0.4,
          3.91,
          7.61,
          0.29,
          6.86,
          0.08,
          0.06,
          5.64,
          5.43,
          0.21,
          2.29,
          0.09,
          6.98,
          0.04,
          0.07,
          0.2,
          0.08,
          7.9,
          0.22,
          4.19,
          4.5,
          4.37,
          0.08,
          0.01,
          0.08,
          4.65,
          0.24,
          0.12,
          7.33,
          0.38,
          0.59,
          0.01,
          0.1,
          6.58,
          0,
          3.74,
          6.72,
          8.22,
          5.58,
          0.4,
          0.04,
          0.11,
          0.02,
          3.49,
          0.14,
          1.5,
          0.04,
          6.24,
          0,
          0.08,
          3.93,
          7.94,
          0.02,
          6.77,
          0.27,
          0.39,
          0.96,
          0.08,
          0.59,
          0.54,
          5.58,
          5.07,
          6.1,
          0.3,
          0.04,
          0.23,
          0.28,
          6.86,
          6.72,
          5.75,
          0.29,
          1.98,
          0.06,
          1.62,
          0.25,
          4.24,
          3.07,
          0.1,
          0.47,
          3.15,
          0.14,
          2.45,
          0.56,
          6.06,
          7.83,
          7.52,
          4.83,
          4.54,
          6.13,
          5.92,
          0.14,
          0.03,
          0.2,
          0.03,
          0.03,
          0.07,
          5.49,
          0.09,
          0.05,
          2.8,
          0.11,
          1.88,
          0.03,
          0.08,
          0.06,
          0.25,
          0.31,
          0.01,
          0.27,
          7.35,
          0.01,
          1.87,
          0.19,
          6.47,
          4.9,
          0.01,
          2.54,
          2.4,
          5.58,
          0.01,
          0.26,
          0.08,
          0.21,
          5.62,
          7.12,
          3.1,
          0.44,
          6.29,
          7.83,
          2.8,
          0.14,
          2.17,
          0.15,
          0.09,
          3.55,
          0.46,
          1.16,
          6.77,
          3.41,
          0.09,
          0.01,
          0.09,
          0.01,
          0.06,
          6.2,
          0.09,
          5.22,
          0.03,
          0.31
         ]
        },
        {
         "customdata": [
          [
           "1"
          ],
          [
           "1"
          ],
          [
           "1"
          ],
          [
           "1"
          ],
          [
           "1"
          ],
          [
           "1"
          ],
          [
           "1"
          ],
          [
           "1"
          ],
          [
           "1"
          ],
          [
           "1"
          ],
          [
           "1"
          ],
          [
           "1"
          ],
          [
           "1"
          ],
          [
           "1"
          ],
          [
           "1"
          ],
          [
           "1"
          ],
          [
           "1"
          ],
          [
           "1"
          ],
          [
           "1"
          ],
          [
           "1"
          ],
          [
           "1"
          ],
          [
           "1"
          ],
          [
           "1"
          ],
          [
           "1"
          ],
          [
           "1"
          ],
          [
           "1"
          ],
          [
           "1"
          ],
          [
           "1"
          ],
          [
           "1"
          ],
          [
           "1"
          ],
          [
           "1"
          ],
          [
           "1"
          ],
          [
           "1"
          ],
          [
           "1"
          ],
          [
           "1"
          ],
          [
           "1"
          ],
          [
           "1"
          ],
          [
           "1"
          ],
          [
           "1"
          ],
          [
           "1"
          ],
          [
           "1"
          ],
          [
           "1"
          ],
          [
           "1"
          ],
          [
           "1"
          ],
          [
           "1"
          ],
          [
           "1"
          ],
          [
           "1"
          ],
          [
           "1"
          ],
          [
           "1"
          ],
          [
           "1"
          ],
          [
           "1"
          ],
          [
           "1"
          ],
          [
           "1"
          ],
          [
           "1"
          ],
          [
           "1"
          ],
          [
           "1"
          ],
          [
           "1"
          ],
          [
           "1"
          ],
          [
           "1"
          ],
          [
           "1"
          ],
          [
           "1"
          ],
          [
           "1"
          ],
          [
           "1"
          ],
          [
           "1"
          ],
          [
           "1"
          ],
          [
           "1"
          ],
          [
           "1"
          ],
          [
           "1"
          ],
          [
           "1"
          ],
          [
           "1"
          ],
          [
           "1"
          ],
          [
           "1"
          ],
          [
           "1"
          ],
          [
           "1"
          ],
          [
           "1"
          ],
          [
           "1"
          ],
          [
           "1"
          ],
          [
           "1"
          ],
          [
           "1"
          ],
          [
           "1"
          ],
          [
           "1"
          ],
          [
           "1"
          ],
          [
           "1"
          ],
          [
           "1"
          ],
          [
           "1"
          ],
          [
           "1"
          ],
          [
           "1"
          ],
          [
           "1"
          ],
          [
           "1"
          ],
          [
           "1"
          ],
          [
           "1"
          ],
          [
           "1"
          ],
          [
           "1"
          ],
          [
           "1"
          ],
          [
           "1"
          ],
          [
           "1"
          ],
          [
           "1"
          ],
          [
           "1"
          ],
          [
           "1"
          ],
          [
           "1"
          ],
          [
           "1"
          ],
          [
           "1"
          ],
          [
           "1"
          ],
          [
           "1"
          ],
          [
           "1"
          ],
          [
           "1"
          ],
          [
           "1"
          ],
          [
           "1"
          ],
          [
           "1"
          ],
          [
           "1"
          ],
          [
           "1"
          ],
          [
           "1"
          ],
          [
           "1"
          ],
          [
           "1"
          ],
          [
           "1"
          ],
          [
           "1"
          ],
          [
           "1"
          ],
          [
           "1"
          ],
          [
           "1"
          ],
          [
           "1"
          ],
          [
           "1"
          ],
          [
           "1"
          ],
          [
           "1"
          ],
          [
           "1"
          ],
          [
           "1"
          ],
          [
           "1"
          ],
          [
           "1"
          ],
          [
           "1"
          ],
          [
           "1"
          ],
          [
           "1"
          ],
          [
           "1"
          ],
          [
           "1"
          ],
          [
           "1"
          ],
          [
           "1"
          ],
          [
           "1"
          ],
          [
           "1"
          ],
          [
           "1"
          ],
          [
           "1"
          ],
          [
           "1"
          ],
          [
           "1"
          ],
          [
           "1"
          ],
          [
           "1"
          ],
          [
           "1"
          ],
          [
           "1"
          ],
          [
           "1"
          ],
          [
           "1"
          ],
          [
           "1"
          ],
          [
           "1"
          ],
          [
           "1"
          ],
          [
           "1"
          ],
          [
           "1"
          ],
          [
           "1"
          ],
          [
           "1"
          ],
          [
           "1"
          ],
          [
           "1"
          ],
          [
           "1"
          ],
          [
           "1"
          ],
          [
           "1"
          ],
          [
           "1"
          ],
          [
           "1"
          ],
          [
           "1"
          ],
          [
           "1"
          ],
          [
           "1"
          ],
          [
           "1"
          ],
          [
           "1"
          ],
          [
           "1"
          ],
          [
           "1"
          ],
          [
           "1"
          ],
          [
           "1"
          ],
          [
           "1"
          ],
          [
           "1"
          ],
          [
           "1"
          ],
          [
           "1"
          ],
          [
           "1"
          ],
          [
           "1"
          ],
          [
           "1"
          ],
          [
           "1"
          ],
          [
           "1"
          ],
          [
           "1"
          ],
          [
           "1"
          ],
          [
           "1"
          ],
          [
           "1"
          ],
          [
           "1"
          ],
          [
           "1"
          ],
          [
           "1"
          ],
          [
           "1"
          ],
          [
           "1"
          ],
          [
           "1"
          ],
          [
           "1"
          ],
          [
           "1"
          ],
          [
           "1"
          ],
          [
           "1"
          ],
          [
           "1"
          ],
          [
           "1"
          ],
          [
           "1"
          ],
          [
           "1"
          ],
          [
           "1"
          ],
          [
           "1"
          ],
          [
           "1"
          ],
          [
           "1"
          ],
          [
           "1"
          ],
          [
           "1"
          ],
          [
           "1"
          ],
          [
           "1"
          ],
          [
           "1"
          ],
          [
           "1"
          ],
          [
           "1"
          ],
          [
           "1"
          ],
          [
           "1"
          ],
          [
           "1"
          ],
          [
           "1"
          ],
          [
           "1"
          ],
          [
           "1"
          ],
          [
           "1"
          ],
          [
           "1"
          ],
          [
           "1"
          ],
          [
           "1"
          ],
          [
           "1"
          ],
          [
           "1"
          ],
          [
           "1"
          ],
          [
           "1"
          ],
          [
           "1"
          ],
          [
           "1"
          ],
          [
           "1"
          ],
          [
           "1"
          ],
          [
           "1"
          ],
          [
           "1"
          ],
          [
           "1"
          ],
          [
           "1"
          ],
          [
           "1"
          ],
          [
           "1"
          ],
          [
           "1"
          ],
          [
           "1"
          ],
          [
           "1"
          ],
          [
           "1"
          ],
          [
           "1"
          ],
          [
           "1"
          ],
          [
           "1"
          ],
          [
           "1"
          ],
          [
           "1"
          ],
          [
           "1"
          ],
          [
           "1"
          ],
          [
           "1"
          ],
          [
           "1"
          ],
          [
           "1"
          ],
          [
           "1"
          ],
          [
           "1"
          ],
          [
           "1"
          ],
          [
           "1"
          ],
          [
           "1"
          ],
          [
           "1"
          ],
          [
           "1"
          ],
          [
           "1"
          ],
          [
           "1"
          ],
          [
           "1"
          ],
          [
           "1"
          ],
          [
           "1"
          ],
          [
           "1"
          ],
          [
           "1"
          ],
          [
           "1"
          ],
          [
           "1"
          ],
          [
           "1"
          ],
          [
           "1"
          ],
          [
           "1"
          ],
          [
           "1"
          ],
          [
           "1"
          ],
          [
           "1"
          ],
          [
           "1"
          ],
          [
           "1"
          ],
          [
           "1"
          ],
          [
           "1"
          ],
          [
           "1"
          ],
          [
           "1"
          ],
          [
           "1"
          ],
          [
           "1"
          ],
          [
           "1"
          ],
          [
           "1"
          ],
          [
           "1"
          ],
          [
           "1"
          ],
          [
           "1"
          ],
          [
           "1"
          ],
          [
           "1"
          ],
          [
           "1"
          ],
          [
           "1"
          ],
          [
           "1"
          ],
          [
           "1"
          ],
          [
           "1"
          ],
          [
           "1"
          ],
          [
           "1"
          ],
          [
           "1"
          ],
          [
           "1"
          ],
          [
           "1"
          ],
          [
           "1"
          ],
          [
           "1"
          ],
          [
           "1"
          ],
          [
           "1"
          ],
          [
           "1"
          ],
          [
           "1"
          ],
          [
           "1"
          ],
          [
           "1"
          ],
          [
           "1"
          ],
          [
           "1"
          ],
          [
           "1"
          ],
          [
           "1"
          ],
          [
           "1"
          ],
          [
           "1"
          ],
          [
           "1"
          ],
          [
           "1"
          ],
          [
           "1"
          ],
          [
           "1"
          ],
          [
           "1"
          ],
          [
           "1"
          ],
          [
           "1"
          ],
          [
           "1"
          ],
          [
           "1"
          ],
          [
           "1"
          ],
          [
           "1"
          ],
          [
           "1"
          ],
          [
           "1"
          ],
          [
           "1"
          ],
          [
           "1"
          ],
          [
           "1"
          ],
          [
           "1"
          ],
          [
           "1"
          ],
          [
           "1"
          ],
          [
           "1"
          ],
          [
           "1"
          ],
          [
           "1"
          ],
          [
           "1"
          ],
          [
           "1"
          ],
          [
           "1"
          ],
          [
           "1"
          ],
          [
           "1"
          ],
          [
           "1"
          ],
          [
           "1"
          ],
          [
           "1"
          ],
          [
           "1"
          ],
          [
           "1"
          ],
          [
           "1"
          ],
          [
           "1"
          ],
          [
           "1"
          ],
          [
           "1"
          ],
          [
           "1"
          ],
          [
           "1"
          ],
          [
           "1"
          ],
          [
           "1"
          ],
          [
           "1"
          ],
          [
           "1"
          ],
          [
           "1"
          ],
          [
           "1"
          ],
          [
           "1"
          ],
          [
           "1"
          ],
          [
           "1"
          ],
          [
           "1"
          ],
          [
           "1"
          ],
          [
           "1"
          ],
          [
           "1"
          ],
          [
           "1"
          ],
          [
           "1"
          ],
          [
           "1"
          ],
          [
           "1"
          ],
          [
           "1"
          ],
          [
           "1"
          ],
          [
           "1"
          ],
          [
           "1"
          ],
          [
           "1"
          ],
          [
           "1"
          ],
          [
           "1"
          ],
          [
           "1"
          ],
          [
           "1"
          ],
          [
           "1"
          ],
          [
           "1"
          ],
          [
           "1"
          ],
          [
           "1"
          ],
          [
           "1"
          ],
          [
           "1"
          ],
          [
           "1"
          ],
          [
           "1"
          ],
          [
           "1"
          ],
          [
           "1"
          ],
          [
           "1"
          ],
          [
           "1"
          ],
          [
           "1"
          ],
          [
           "1"
          ],
          [
           "1"
          ],
          [
           "1"
          ],
          [
           "1"
          ],
          [
           "1"
          ],
          [
           "1"
          ],
          [
           "1"
          ],
          [
           "1"
          ],
          [
           "1"
          ],
          [
           "1"
          ],
          [
           "1"
          ],
          [
           "1"
          ],
          [
           "1"
          ],
          [
           "1"
          ],
          [
           "1"
          ],
          [
           "1"
          ],
          [
           "1"
          ],
          [
           "1"
          ],
          [
           "1"
          ],
          [
           "1"
          ],
          [
           "1"
          ],
          [
           "1"
          ],
          [
           "1"
          ],
          [
           "1"
          ],
          [
           "1"
          ],
          [
           "1"
          ],
          [
           "1"
          ],
          [
           "1"
          ],
          [
           "1"
          ],
          [
           "1"
          ],
          [
           "1"
          ],
          [
           "1"
          ],
          [
           "1"
          ],
          [
           "1"
          ],
          [
           "1"
          ],
          [
           "1"
          ],
          [
           "1"
          ],
          [
           "1"
          ],
          [
           "1"
          ],
          [
           "1"
          ],
          [
           "1"
          ],
          [
           "1"
          ],
          [
           "1"
          ],
          [
           "1"
          ],
          [
           "1"
          ],
          [
           "1"
          ],
          [
           "1"
          ],
          [
           "1"
          ],
          [
           "1"
          ],
          [
           "1"
          ],
          [
           "1"
          ],
          [
           "1"
          ],
          [
           "1"
          ],
          [
           "1"
          ],
          [
           "1"
          ],
          [
           "1"
          ],
          [
           "1"
          ],
          [
           "1"
          ],
          [
           "1"
          ],
          [
           "1"
          ],
          [
           "1"
          ],
          [
           "1"
          ],
          [
           "1"
          ],
          [
           "1"
          ],
          [
           "1"
          ],
          [
           "1"
          ],
          [
           "1"
          ],
          [
           "1"
          ],
          [
           "1"
          ],
          [
           "1"
          ],
          [
           "1"
          ],
          [
           "1"
          ],
          [
           "1"
          ],
          [
           "1"
          ],
          [
           "1"
          ],
          [
           "1"
          ],
          [
           "1"
          ],
          [
           "1"
          ],
          [
           "1"
          ],
          [
           "1"
          ],
          [
           "1"
          ],
          [
           "1"
          ],
          [
           "1"
          ],
          [
           "1"
          ],
          [
           "1"
          ],
          [
           "1"
          ],
          [
           "1"
          ],
          [
           "1"
          ],
          [
           "1"
          ],
          [
           "1"
          ],
          [
           "1"
          ],
          [
           "1"
          ],
          [
           "1"
          ],
          [
           "1"
          ],
          [
           "1"
          ],
          [
           "1"
          ],
          [
           "1"
          ],
          [
           "1"
          ],
          [
           "1"
          ],
          [
           "1"
          ],
          [
           "1"
          ],
          [
           "1"
          ],
          [
           "1"
          ],
          [
           "1"
          ],
          [
           "1"
          ],
          [
           "1"
          ],
          [
           "1"
          ],
          [
           "1"
          ],
          [
           "1"
          ],
          [
           "1"
          ],
          [
           "1"
          ],
          [
           "1"
          ],
          [
           "1"
          ],
          [
           "1"
          ],
          [
           "1"
          ],
          [
           "1"
          ],
          [
           "1"
          ],
          [
           "1"
          ],
          [
           "1"
          ],
          [
           "1"
          ],
          [
           "1"
          ],
          [
           "1"
          ],
          [
           "1"
          ],
          [
           "1"
          ],
          [
           "1"
          ],
          [
           "1"
          ],
          [
           "1"
          ],
          [
           "1"
          ],
          [
           "1"
          ],
          [
           "1"
          ],
          [
           "1"
          ],
          [
           "1"
          ],
          [
           "1"
          ],
          [
           "1"
          ],
          [
           "1"
          ],
          [
           "1"
          ],
          [
           "1"
          ],
          [
           "1"
          ],
          [
           "1"
          ],
          [
           "1"
          ],
          [
           "1"
          ],
          [
           "1"
          ],
          [
           "1"
          ],
          [
           "1"
          ],
          [
           "1"
          ],
          [
           "1"
          ],
          [
           "1"
          ],
          [
           "1"
          ],
          [
           "1"
          ],
          [
           "1"
          ],
          [
           "1"
          ],
          [
           "1"
          ],
          [
           "1"
          ],
          [
           "1"
          ],
          [
           "1"
          ],
          [
           "1"
          ],
          [
           "1"
          ],
          [
           "1"
          ],
          [
           "1"
          ],
          [
           "1"
          ],
          [
           "1"
          ],
          [
           "1"
          ],
          [
           "1"
          ],
          [
           "1"
          ],
          [
           "1"
          ],
          [
           "1"
          ],
          [
           "1"
          ],
          [
           "1"
          ],
          [
           "1"
          ],
          [
           "1"
          ],
          [
           "1"
          ],
          [
           "1"
          ],
          [
           "1"
          ],
          [
           "1"
          ],
          [
           "1"
          ],
          [
           "1"
          ],
          [
           "1"
          ],
          [
           "1"
          ],
          [
           "1"
          ],
          [
           "1"
          ],
          [
           "1"
          ],
          [
           "1"
          ],
          [
           "1"
          ],
          [
           "1"
          ],
          [
           "1"
          ],
          [
           "1"
          ],
          [
           "1"
          ],
          [
           "1"
          ],
          [
           "1"
          ],
          [
           "1"
          ],
          [
           "1"
          ],
          [
           "1"
          ],
          [
           "1"
          ],
          [
           "1"
          ],
          [
           "1"
          ],
          [
           "1"
          ],
          [
           "1"
          ],
          [
           "1"
          ],
          [
           "1"
          ],
          [
           "1"
          ],
          [
           "1"
          ],
          [
           "1"
          ],
          [
           "1"
          ],
          [
           "1"
          ],
          [
           "1"
          ],
          [
           "1"
          ],
          [
           "1"
          ],
          [
           "1"
          ],
          [
           "1"
          ],
          [
           "1"
          ],
          [
           "1"
          ],
          [
           "1"
          ],
          [
           "1"
          ],
          [
           "1"
          ],
          [
           "1"
          ],
          [
           "1"
          ],
          [
           "1"
          ],
          [
           "1"
          ],
          [
           "1"
          ],
          [
           "1"
          ],
          [
           "1"
          ],
          [
           "1"
          ],
          [
           "1"
          ],
          [
           "1"
          ],
          [
           "1"
          ],
          [
           "1"
          ],
          [
           "1"
          ],
          [
           "1"
          ],
          [
           "1"
          ],
          [
           "1"
          ],
          [
           "1"
          ],
          [
           "1"
          ],
          [
           "1"
          ],
          [
           "1"
          ],
          [
           "1"
          ],
          [
           "1"
          ],
          [
           "1"
          ],
          [
           "1"
          ],
          [
           "1"
          ],
          [
           "1"
          ],
          [
           "1"
          ],
          [
           "1"
          ],
          [
           "1"
          ],
          [
           "1"
          ],
          [
           "1"
          ],
          [
           "1"
          ],
          [
           "1"
          ],
          [
           "1"
          ],
          [
           "1"
          ],
          [
           "1"
          ],
          [
           "1"
          ],
          [
           "1"
          ],
          [
           "1"
          ],
          [
           "1"
          ],
          [
           "1"
          ],
          [
           "1"
          ],
          [
           "1"
          ],
          [
           "1"
          ],
          [
           "1"
          ],
          [
           "1"
          ],
          [
           "1"
          ],
          [
           "1"
          ],
          [
           "1"
          ],
          [
           "1"
          ],
          [
           "1"
          ],
          [
           "1"
          ],
          [
           "1"
          ],
          [
           "1"
          ],
          [
           "1"
          ],
          [
           "1"
          ],
          [
           "1"
          ],
          [
           "1"
          ],
          [
           "1"
          ],
          [
           "1"
          ],
          [
           "1"
          ],
          [
           "1"
          ],
          [
           "1"
          ],
          [
           "1"
          ],
          [
           "1"
          ],
          [
           "1"
          ],
          [
           "1"
          ],
          [
           "1"
          ],
          [
           "1"
          ],
          [
           "1"
          ],
          [
           "1"
          ],
          [
           "1"
          ],
          [
           "1"
          ],
          [
           "1"
          ],
          [
           "1"
          ],
          [
           "1"
          ],
          [
           "1"
          ],
          [
           "1"
          ],
          [
           "1"
          ],
          [
           "1"
          ],
          [
           "1"
          ],
          [
           "1"
          ],
          [
           "1"
          ],
          [
           "1"
          ],
          [
           "1"
          ],
          [
           "1"
          ],
          [
           "1"
          ],
          [
           "1"
          ],
          [
           "1"
          ],
          [
           "1"
          ],
          [
           "1"
          ],
          [
           "1"
          ],
          [
           "1"
          ],
          [
           "1"
          ],
          [
           "1"
          ],
          [
           "1"
          ],
          [
           "1"
          ],
          [
           "1"
          ],
          [
           "1"
          ],
          [
           "1"
          ],
          [
           "1"
          ],
          [
           "1"
          ],
          [
           "1"
          ],
          [
           "1"
          ],
          [
           "1"
          ],
          [
           "1"
          ],
          [
           "1"
          ],
          [
           "1"
          ],
          [
           "1"
          ],
          [
           "1"
          ],
          [
           "1"
          ],
          [
           "1"
          ],
          [
           "1"
          ],
          [
           "1"
          ],
          [
           "1"
          ],
          [
           "1"
          ],
          [
           "1"
          ],
          [
           "1"
          ],
          [
           "1"
          ],
          [
           "1"
          ],
          [
           "1"
          ],
          [
           "1"
          ],
          [
           "1"
          ],
          [
           "1"
          ],
          [
           "1"
          ],
          [
           "1"
          ],
          [
           "1"
          ],
          [
           "1"
          ],
          [
           "1"
          ],
          [
           "1"
          ],
          [
           "1"
          ],
          [
           "1"
          ],
          [
           "1"
          ],
          [
           "1"
          ],
          [
           "1"
          ],
          [
           "1"
          ],
          [
           "1"
          ],
          [
           "1"
          ],
          [
           "1"
          ],
          [
           "1"
          ],
          [
           "1"
          ],
          [
           "1"
          ],
          [
           "1"
          ],
          [
           "1"
          ],
          [
           "1"
          ],
          [
           "1"
          ],
          [
           "1"
          ],
          [
           "1"
          ],
          [
           "1"
          ],
          [
           "1"
          ],
          [
           "1"
          ],
          [
           "1"
          ],
          [
           "1"
          ],
          [
           "1"
          ],
          [
           "1"
          ],
          [
           "1"
          ],
          [
           "1"
          ],
          [
           "1"
          ],
          [
           "1"
          ],
          [
           "1"
          ],
          [
           "1"
          ],
          [
           "1"
          ],
          [
           "1"
          ],
          [
           "1"
          ],
          [
           "1"
          ],
          [
           "1"
          ],
          [
           "1"
          ],
          [
           "1"
          ],
          [
           "1"
          ],
          [
           "1"
          ],
          [
           "1"
          ],
          [
           "1"
          ],
          [
           "1"
          ],
          [
           "1"
          ],
          [
           "1"
          ],
          [
           "1"
          ],
          [
           "1"
          ],
          [
           "1"
          ],
          [
           "1"
          ],
          [
           "1"
          ],
          [
           "1"
          ],
          [
           "1"
          ],
          [
           "1"
          ],
          [
           "1"
          ],
          [
           "1"
          ],
          [
           "1"
          ],
          [
           "1"
          ],
          [
           "1"
          ],
          [
           "1"
          ],
          [
           "1"
          ],
          [
           "1"
          ],
          [
           "1"
          ],
          [
           "1"
          ],
          [
           "1"
          ],
          [
           "1"
          ],
          [
           "1"
          ],
          [
           "1"
          ],
          [
           "1"
          ],
          [
           "1"
          ],
          [
           "1"
          ],
          [
           "1"
          ],
          [
           "1"
          ],
          [
           "1"
          ],
          [
           "1"
          ],
          [
           "1"
          ],
          [
           "1"
          ],
          [
           "1"
          ],
          [
           "1"
          ],
          [
           "1"
          ],
          [
           "1"
          ],
          [
           "1"
          ],
          [
           "1"
          ],
          [
           "1"
          ],
          [
           "1"
          ],
          [
           "1"
          ],
          [
           "1"
          ],
          [
           "1"
          ],
          [
           "1"
          ],
          [
           "1"
          ],
          [
           "1"
          ],
          [
           "1"
          ],
          [
           "1"
          ],
          [
           "1"
          ],
          [
           "1"
          ],
          [
           "1"
          ],
          [
           "1"
          ],
          [
           "1"
          ],
          [
           "1"
          ],
          [
           "1"
          ],
          [
           "1"
          ],
          [
           "1"
          ],
          [
           "1"
          ],
          [
           "1"
          ],
          [
           "1"
          ],
          [
           "1"
          ],
          [
           "1"
          ],
          [
           "1"
          ],
          [
           "1"
          ],
          [
           "1"
          ],
          [
           "1"
          ],
          [
           "1"
          ],
          [
           "1"
          ],
          [
           "1"
          ],
          [
           "1"
          ],
          [
           "1"
          ],
          [
           "1"
          ],
          [
           "1"
          ],
          [
           "1"
          ],
          [
           "1"
          ],
          [
           "1"
          ],
          [
           "1"
          ],
          [
           "1"
          ],
          [
           "1"
          ],
          [
           "1"
          ],
          [
           "1"
          ],
          [
           "1"
          ],
          [
           "1"
          ],
          [
           "1"
          ],
          [
           "1"
          ],
          [
           "1"
          ],
          [
           "1"
          ],
          [
           "1"
          ],
          [
           "1"
          ],
          [
           "1"
          ],
          [
           "1"
          ],
          [
           "1"
          ],
          [
           "1"
          ],
          [
           "1"
          ],
          [
           "1"
          ],
          [
           "1"
          ],
          [
           "1"
          ],
          [
           "1"
          ],
          [
           "1"
          ],
          [
           "1"
          ],
          [
           "1"
          ],
          [
           "1"
          ],
          [
           "1"
          ],
          [
           "1"
          ],
          [
           "1"
          ],
          [
           "1"
          ],
          [
           "1"
          ],
          [
           "1"
          ],
          [
           "1"
          ],
          [
           "1"
          ],
          [
           "1"
          ],
          [
           "1"
          ],
          [
           "1"
          ],
          [
           "1"
          ],
          [
           "1"
          ],
          [
           "1"
          ],
          [
           "1"
          ],
          [
           "1"
          ],
          [
           "1"
          ],
          [
           "1"
          ],
          [
           "1"
          ],
          [
           "1"
          ],
          [
           "1"
          ],
          [
           "1"
          ],
          [
           "1"
          ],
          [
           "1"
          ],
          [
           "1"
          ],
          [
           "1"
          ],
          [
           "1"
          ],
          [
           "1"
          ],
          [
           "1"
          ],
          [
           "1"
          ],
          [
           "1"
          ],
          [
           "1"
          ],
          [
           "1"
          ],
          [
           "1"
          ],
          [
           "1"
          ],
          [
           "1"
          ],
          [
           "1"
          ],
          [
           "1"
          ],
          [
           "1"
          ]
         ],
         "hovertemplate": "is_safe=%{customdata[0]}<br>aluminium=%{x}<br>cadmium=%{y}<br>chloramine=%{z}<extra></extra>",
         "legendgroup": "1",
         "marker": {
          "color": "#EF553B",
          "size": 2,
          "symbol": "circle"
         },
         "mode": "markers",
         "name": "1",
         "scene": "scene",
         "showlegend": true,
         "type": "scatter3d",
         "x": [
          1.65,
          2.32,
          1.36,
          0.92,
          0.94,
          0.6,
          0.22,
          1.35,
          1.88,
          4.93,
          2.89,
          0.61,
          3.47,
          2.11,
          4.12,
          0.68,
          1.15,
          0.27,
          3.31,
          1.82,
          4.41,
          1.69,
          1.87,
          2.71,
          4.49,
          3.52,
          4.35,
          3.37,
          1.51,
          2.68,
          0.3,
          0.23,
          2.55,
          4.32,
          0.24,
          0.42,
          0.77,
          0.6,
          0.58,
          3.82,
          2.78,
          3.62,
          4.64,
          2.25,
          0.54,
          4.62,
          2.5,
          3.08,
          2.73,
          3.02,
          2.35,
          2.45,
          3.3,
          1.19,
          0.85,
          0.5,
          1.89,
          3.75,
          1.75,
          0.94,
          2.76,
          0.43,
          2.63,
          0.88,
          3.03,
          4.91,
          1.15,
          4.8,
          1.62,
          2.68,
          0.09,
          4.66,
          2.74,
          3.52,
          1.82,
          2.91,
          3.53,
          3.04,
          2.21,
          1.92,
          2.12,
          4.21,
          2.56,
          3.94,
          1.22,
          0.8,
          3.31,
          2.59,
          3.9,
          0.18,
          0.07,
          2.71,
          4.34,
          0.92,
          2.39,
          0.9,
          0.89,
          4.91,
          3.37,
          3.69,
          4.71,
          4.5,
          2.69,
          4.3,
          2.17,
          5,
          2.6,
          0.35,
          3.83,
          2.9,
          1.56,
          4.34,
          2.23,
          3.81,
          1.12,
          4,
          1.55,
          2.56,
          2.99,
          1.36,
          3.83,
          0.47,
          0.01,
          3.62,
          2.82,
          1.05,
          1.21,
          3.35,
          1.75,
          1.86,
          0.54,
          0.29,
          3.29,
          0.22,
          2.35,
          4.04,
          3.6,
          3.71,
          0.61,
          3.05,
          0.84,
          1.98,
          4.18,
          3.27,
          0.59,
          0.36,
          1.4,
          1.46,
          0.93,
          0.78,
          4.48,
          0.71,
          0.87,
          2.69,
          1.21,
          4.36,
          0.57,
          2.14,
          0.15,
          2.01,
          1.72,
          4.38,
          3.73,
          2.97,
          2.32,
          3.95,
          2.22,
          3.84,
          3.97,
          3.73,
          2.71,
          3.24,
          3.85,
          2.91,
          3.44,
          2.2,
          1.14,
          0,
          1.14,
          0.09,
          2.9,
          4.07,
          1.44,
          3.89,
          2.09,
          4.79,
          0.19,
          4.77,
          3.81,
          0.76,
          3.36,
          4.27,
          1.9,
          1.44,
          4.26,
          3.19,
          1.24,
          3.36,
          3.29,
          2.94,
          0.49,
          2.82,
          4.19,
          2.26,
          3.05,
          0.78,
          3.67,
          2.94,
          0.93,
          3.59,
          3.46,
          2.79,
          1.77,
          0.39,
          1.07,
          0.62,
          4.64,
          1.09,
          2.5,
          3.96,
          3.49,
          3.46,
          2.89,
          0.27,
          0.9,
          0.83,
          0.72,
          3.12,
          3.98,
          4.39,
          1.09,
          4.44,
          0.78,
          2.06,
          0.95,
          2.24,
          4,
          0.39,
          2.33,
          2.54,
          1.93,
          3.91,
          3.09,
          4.53,
          4.71,
          1.81,
          4.62,
          4.18,
          1.12,
          0.14,
          3.01,
          3.51,
          1.4,
          1.77,
          1.99,
          0.84,
          2.14,
          3.93,
          4.73,
          3.69,
          3.01,
          1.15,
          4.66,
          4.73,
          2.33,
          1.34,
          3.62,
          1.82,
          1.79,
          0.18,
          3.01,
          2.04,
          2.8,
          3.34,
          1.92,
          0.93,
          2.46,
          1.36,
          1.77,
          2.92,
          1.38,
          1.55,
          2.78,
          0.63,
          0.24,
          3.79,
          3,
          4.79,
          2.64,
          1.36,
          0.65,
          0.24,
          2.65,
          4.84,
          4.29,
          4.3,
          4.13,
          2.01,
          2.02,
          3.81,
          4.35,
          4.39,
          0.99,
          3.38,
          1.66,
          0.33,
          1.65,
          3.25,
          3.72,
          4.04,
          0.35,
          4.15,
          1.54,
          1.71,
          0.15,
          4.76,
          0.7,
          0.87,
          2.99,
          4.96,
          2.79,
          3.13,
          4.7,
          0.36,
          3.57,
          0.01,
          2.06,
          4.05,
          4.98,
          4.55,
          2.77,
          1.52,
          4.95,
          0.19,
          1.45,
          2.69,
          2.45,
          0.5,
          3.52,
          2.24,
          0.95,
          1.65,
          2.08,
          1.49,
          1.08,
          4.11,
          3.36,
          2.1,
          4.85,
          0.71,
          4.77,
          2.2,
          0.11,
          2.22,
          2.08,
          2.88,
          2.21,
          2.1,
          1.08,
          4.08,
          4.5,
          2.05,
          1.55,
          0.41,
          0.97,
          4.25,
          1.19,
          0.96,
          4.65,
          2.78,
          3.97,
          0.46,
          3,
          1.87,
          3.59,
          4.03,
          1.06,
          1.22,
          4.03,
          2.67,
          2.24,
          2.63,
          4.38,
          3.59,
          2.01,
          3.15,
          3.25,
          4.06,
          4.49,
          1.88,
          1.39,
          1.92,
          3.38,
          1.03,
          0.92,
          4.93,
          1.48,
          3.69,
          3.85,
          3.61,
          3.18,
          3.74,
          4.82,
          4.98,
          2.38,
          0.92,
          3.01,
          3.62,
          0.71,
          0.25,
          0.53,
          3.79,
          2.47,
          1.82,
          4.35,
          3.99,
          0.21,
          1.93,
          0.55,
          1.08,
          0.41,
          0.54,
          0.92,
          2.97,
          0.32,
          2.91,
          1.37,
          4.72,
          0.31,
          1.37,
          2.33,
          4.74,
          4.61,
          1.2,
          1.28,
          3.48,
          1.79,
          3.62,
          1.19,
          3.48,
          1.35,
          2.63,
          3.14,
          3.54,
          0.43,
          0.56,
          1.81,
          4.1,
          3.47,
          4.27,
          0.76,
          0.69,
          3.85,
          0.36,
          4.59,
          0.93,
          0.26,
          2.04,
          1.54,
          1.4,
          1.08,
          0.81,
          0.94,
          0.43,
          0.32,
          0.58,
          0.16,
          0.45,
          0.45,
          3.2,
          1.27,
          4.39,
          1.86,
          2.41,
          1.51,
          3.13,
          2.85,
          0.23,
          2.25,
          2.54,
          2.45,
          3.13,
          4.39,
          1.55,
          2.56,
          0.42,
          2.13,
          4.75,
          3.93,
          0.86,
          2.06,
          4.78,
          3.43,
          4.81,
          0.48,
          2.67,
          3.21,
          3.83,
          1.14,
          0.17,
          2.27,
          1.32,
          2.89,
          4.2,
          2.29,
          0.43,
          2.99,
          1.75,
          1.25,
          1.01,
          1.95,
          4.35,
          3.2,
          0.85,
          0.05,
          2.93,
          3.99,
          1.4,
          0.31,
          4.36,
          2.46,
          3.6,
          3.88,
          1.41,
          1.01,
          2.91,
          0.42,
          0.29,
          1.7,
          4.36,
          3.18,
          0.19,
          2.73,
          3.65,
          2.91,
          2.24,
          1.86,
          0.53,
          4.98,
          1.16,
          1.06,
          1.27,
          4.13,
          3.82,
          3.52,
          4.19,
          3.47,
          0.5,
          0.03,
          0.31,
          0.49,
          4.76,
          3.42,
          3.79,
          0.06,
          1.72,
          0.6,
          4.55,
          2.25,
          0.67,
          4.27,
          2.16,
          3.47,
          2.66,
          4.87,
          3.88,
          0.34,
          0.02,
          0.93,
          3.67,
          2.74,
          2.36,
          2.72,
          3.54,
          0.52,
          2.46,
          0.18,
          2.5,
          2.36,
          2.48,
          0.68,
          3.72,
          4.76,
          2.54,
          0.91,
          0.42,
          4.32,
          0.44,
          3.5,
          0.75,
          3.26,
          2.76,
          0.75,
          4.55,
          1.12,
          0.99,
          3.71,
          3.56,
          1.5,
          0.56,
          1.05,
          4.96,
          0.22,
          3.28,
          3.92,
          4.19,
          2.75,
          2.82,
          1.34,
          3.45,
          2.58,
          2.64,
          2.72,
          4.69,
          3.51,
          3.73,
          2.17,
          0.36,
          3.68,
          3.62,
          0.15,
          2.1,
          1.34,
          1.74,
          3.68,
          3.87,
          1.32,
          2.54,
          0,
          0.16,
          3.57,
          4.39,
          2.59,
          0.47,
          4.7,
          1.13,
          0.28,
          4.4,
          0.8,
          3.59,
          1.69,
          4.51,
          4.91,
          3.94,
          0.05,
          2.72,
          4.57,
          1.14,
          2.47,
          2.26,
          4.33,
          0.97,
          0.34,
          1.56,
          0.9,
          3.37,
          4.2,
          3.09,
          3.95,
          0.12,
          4.47,
          2.16,
          0.83,
          0.76,
          0.24,
          3.41,
          2.75,
          1.14,
          1.98,
          3.06,
          4.34,
          3.77,
          1.56,
          2.82,
          0.24,
          2.13,
          1.02,
          3.79,
          3.4,
          1.42,
          3.53,
          2.02,
          2.71,
          0.99,
          0.1,
          2.03,
          0.24,
          0.58,
          1.11,
          4.6,
          2.77,
          0.23,
          2.53,
          2.69,
          3.56,
          4.95,
          3.92,
          0.98,
          0.52,
          4.96,
          0.09,
          0.01,
          0.06,
          0.07,
          0.17,
          0.27,
          0.06,
          0.1,
          0.08,
          0.09,
          0.08,
          0.03,
          0.07,
          0.24,
          0.02,
          0.34,
          0.03,
          0.12,
          0.16,
          0.24,
          0.05,
          0.17,
          0.01,
          0.05,
          0.03,
          0.1,
          0.29,
          0.01,
          0.05,
          0.1,
          0.07,
          0.28,
          0.01,
          0.05,
          0.18,
          0.08,
          0.03,
          0.07,
          0.09,
          0.29,
          0.1,
          0.09,
          0.04,
          0.13,
          0.16,
          0.09,
          0.02,
          0.05,
          0,
          0.04,
          0.02,
          0.09,
          0.09,
          0.06,
          0.05,
          0.13,
          0.27,
          0.09,
          0.14,
          0.03,
          0.22,
          0.07,
          0.13,
          0.12,
          0.18,
          0.12,
          0.39,
          0.01,
          0.11,
          0.05,
          0.03,
          0.04,
          0.33,
          0.03,
          0.03,
          0.05,
          0.12,
          0.26,
          0.02,
          0.02,
          0.03,
          0.07,
          0.16,
          0.05,
          0.19,
          0.05,
          0.08,
          0.06,
          0.09,
          0.2,
          0.06,
          0.19,
          0.02,
          0.22,
          0.01,
          0.06,
          0.39,
          0.02,
          0.06,
          0.06,
          0.05,
          0.1,
          0.07,
          0.07,
          0.06,
          0.05,
          0.07,
          0.02,
          0.07,
          0.03,
          0.02,
          0.05,
          0.06,
          0.06,
          0.01,
          0.09,
          0.05,
          0.03,
          0.1,
          0.03,
          0.08,
          0.02,
          0.04,
          0.09,
          0.04,
          0.05,
          0.08,
          0.04,
          0.03,
          0.09,
          0.04,
          0.01,
          0.07,
          0.08,
          0.06,
          0,
          0.04,
          0.07,
          0.09,
          0.01,
          0.06,
          0.02,
          0.02,
          0.04,
          0.06,
          0.03,
          0.03,
          0.03,
          0.06,
          0.05,
          0.06,
          0.04,
          0.06,
          0.03,
          0.05,
          0.06,
          0.09,
          0,
          0.03,
          0.01,
          0.07,
          0.04,
          0.05,
          0.08,
          0.06,
          0.04,
          0.08,
          0.01,
          0.07,
          0.09,
          0.1,
          0.06,
          0.04,
          0.01,
          0.02,
          0.06,
          0.01,
          0.1,
          0.04,
          0.01,
          0.07,
          0.09,
          0.08,
          0.07,
          0.08,
          0.08,
          0.01,
          0.09,
          0,
          0.04,
          0.03,
          0.09,
          0.05,
          0.07,
          0.08,
          0.09,
          0.02,
          0.09,
          0.1,
          0.05,
          0.02,
          0.03,
          0.04,
          0.07,
          0.03,
          0.04,
          0.02,
          0.05,
          0.05,
          0.09,
          0.01,
          0.04
         ],
         "y": [
          0.007,
          0.002,
          0.001,
          0.006,
          0.003,
          0.005,
          0.007,
          0.002,
          0.008,
          0.008,
          0.008,
          0.002,
          0.001,
          0.009,
          0.006,
          0.006,
          0.007,
          0.001,
          0.001,
          0.006,
          0.007,
          0.002,
          0.008,
          0.006,
          0.005,
          0.006,
          0.004,
          0.003,
          0.003,
          0.002,
          0.007,
          0.002,
          0.004,
          0.001,
          0.008,
          0.008,
          0.006,
          0.002,
          0.007,
          0.001,
          0.009,
          0.003,
          0.008,
          0.002,
          0.001,
          0.005,
          0.004,
          0.003,
          0.005,
          0.004,
          0.009,
          0.004,
          0.008,
          0.008,
          0.006,
          0.004,
          0.001,
          0.006,
          0.001,
          0.005,
          0.005,
          0.001,
          0.007,
          0.009,
          0.006,
          0.005,
          0.005,
          0.006,
          0.001,
          0.007,
          0.001,
          0.001,
          0.005,
          0.007,
          0.009,
          0.008,
          0.002,
          0.001,
          0.008,
          0.008,
          0.003,
          0.008,
          0.003,
          0.006,
          0.001,
          0.002,
          0.002,
          0.003,
          0.008,
          0.006,
          0.002,
          0.003,
          0.005,
          0.004,
          0.005,
          0.001,
          0.008,
          0.001,
          0.004,
          0.008,
          0.003,
          0.009,
          0.005,
          0.004,
          0.002,
          0.005,
          0.003,
          0.004,
          0.003,
          0.005,
          0.008,
          0.005,
          0.001,
          0.003,
          0.003,
          0.001,
          0.006,
          0.004,
          0.007,
          0.005,
          0.003,
          0.001,
          0.009,
          0.004,
          0.007,
          0.005,
          0.007,
          0.006,
          0.001,
          0.006,
          0.003,
          0.007,
          0.006,
          0.006,
          0.005,
          0.004,
          0.003,
          0.004,
          0.002,
          0.005,
          0.003,
          0.005,
          0.004,
          0.005,
          0.007,
          0.003,
          0.008,
          0.002,
          0.002,
          0.008,
          0.008,
          0.003,
          0.003,
          0.005,
          0.007,
          0.008,
          0.001,
          0.008,
          0.002,
          0.004,
          0.004,
          0.003,
          0.004,
          0.008,
          0.009,
          0.007,
          0.009,
          0.004,
          0.008,
          0.008,
          0.005,
          0.003,
          0.007,
          0.007,
          0.001,
          0.006,
          0.007,
          0.007,
          0.003,
          0.007,
          0.003,
          0.004,
          0.006,
          0.008,
          0.004,
          0.003,
          0.001,
          0.002,
          0.005,
          0.002,
          0.006,
          0.004,
          0.005,
          0.008,
          0.002,
          0.006,
          0.004,
          0.008,
          0.008,
          0.004,
          0.005,
          0.004,
          0.004,
          0.003,
          0.001,
          0.005,
          0.002,
          0.001,
          0.004,
          0.007,
          0.006,
          0.005,
          0.001,
          0.005,
          0.006,
          0.003,
          0.005,
          0.003,
          0.003,
          0.004,
          0.003,
          0.001,
          0.002,
          0.001,
          0.008,
          0.001,
          0.001,
          0.006,
          0.001,
          0.005,
          0.002,
          0.003,
          0.006,
          0.006,
          0.003,
          0.001,
          0.003,
          0.006,
          0.008,
          0.002,
          0.009,
          0.002,
          0.006,
          0.001,
          0.007,
          0.001,
          0.002,
          0.002,
          0.001,
          0.007,
          0.004,
          0.001,
          0.009,
          0.007,
          0.001,
          0.005,
          0.007,
          0.001,
          0.006,
          0.009,
          0.008,
          0.005,
          0.003,
          0.003,
          0.006,
          0.003,
          0.009,
          0.001,
          0.001,
          0.004,
          0.002,
          0.005,
          0.006,
          0.005,
          0.001,
          0.001,
          0.002,
          0.005,
          0.007,
          0.001,
          0.008,
          0.002,
          0.008,
          0.003,
          0.001,
          0.005,
          0.001,
          0.007,
          0.005,
          0.008,
          0.001,
          0.003,
          0.007,
          0.005,
          0.002,
          0.001,
          0.001,
          0.006,
          0.001,
          0.002,
          0.005,
          0.007,
          0.002,
          0.003,
          0.009,
          0.005,
          0.007,
          0.005,
          0.002,
          0.003,
          0.004,
          0.007,
          0.004,
          0.006,
          0.002,
          0.001,
          0.008,
          0.005,
          0.008,
          0.001,
          0.005,
          0.002,
          0.005,
          0.006,
          0.001,
          0.002,
          0.007,
          0.005,
          0.001,
          0.001,
          0.002,
          0.006,
          0.001,
          0.008,
          0.005,
          0.001,
          0.006,
          0.002,
          0.001,
          0.003,
          0.007,
          0.002,
          0.002,
          0.001,
          0.008,
          0.007,
          0.005,
          0.008,
          0.001,
          0.002,
          0.001,
          0.003,
          0.001,
          0.007,
          0.003,
          0.002,
          0.007,
          0.005,
          0.006,
          0.005,
          0.005,
          0.005,
          0.006,
          0.005,
          0.006,
          0.008,
          0.002,
          0.006,
          0.008,
          0.006,
          0.001,
          0.001,
          0.001,
          0.008,
          0.004,
          0.008,
          0.006,
          0.007,
          0.005,
          0.006,
          0.008,
          0.007,
          0.009,
          0.004,
          0.005,
          0.003,
          0.001,
          0.003,
          0.002,
          0.008,
          0.007,
          0.008,
          0.009,
          0.005,
          0.001,
          0.005,
          0.005,
          0.004,
          0.001,
          0.009,
          0.008,
          0.005,
          0.007,
          0.007,
          0.002,
          0.007,
          0.003,
          0.003,
          0.006,
          0.005,
          0.001,
          0.001,
          0.002,
          0.001,
          0.001,
          0.003,
          0.005,
          0.006,
          0.006,
          0.001,
          0.005,
          0.001,
          0.005,
          0.001,
          0.002,
          0.009,
          0.001,
          0.005,
          0.007,
          0.002,
          0.003,
          0.001,
          0.001,
          0.006,
          0.009,
          0.002,
          0.001,
          0.004,
          0.007,
          0.002,
          0.006,
          0.005,
          0.008,
          0.006,
          0.002,
          0.006,
          0.002,
          0.004,
          0.009,
          0.006,
          0.001,
          0.007,
          0.005,
          0.001,
          0.009,
          0.007,
          0.005,
          0.002,
          0.002,
          0.009,
          0.009,
          0.007,
          0.002,
          0.003,
          0.008,
          0.006,
          0.004,
          0.003,
          0.006,
          0.002,
          0.008,
          0.008,
          0.001,
          0.008,
          0.001,
          0.006,
          0.002,
          0.002,
          0.009,
          0.002,
          0.001,
          0.008,
          0.003,
          0.007,
          0.001,
          0.008,
          0.005,
          0.001,
          0.004,
          0.008,
          0.004,
          0.008,
          0.008,
          0.005,
          0.003,
          0.002,
          0.006,
          0.003,
          0.001,
          0.004,
          0.004,
          0.006,
          0.005,
          0.004,
          0.003,
          0.006,
          0.006,
          0.009,
          0.008,
          0.002,
          0.001,
          0.007,
          0.006,
          0.003,
          0.005,
          0.008,
          0.007,
          0.007,
          0.004,
          0.003,
          0.001,
          0.004,
          0.005,
          0.001,
          0.003,
          0.005,
          0.004,
          0.005,
          0.008,
          0.001,
          0.008,
          0.004,
          0.003,
          0.004,
          0.003,
          0.006,
          0.003,
          0.008,
          0.003,
          0.002,
          0.007,
          0.008,
          0.001,
          0.004,
          0.003,
          0.003,
          0.007,
          0.008,
          0.004,
          0.009,
          0.001,
          0.005,
          0.001,
          0.008,
          0.008,
          0.007,
          0.003,
          0.004,
          0.009,
          0.004,
          0.007,
          0.009,
          0.001,
          0.005,
          0.004,
          0.008,
          0.002,
          0.003,
          0.004,
          0.007,
          0.001,
          0.001,
          0.001,
          0.008,
          0.008,
          0.008,
          0.005,
          0.003,
          0.006,
          0.006,
          0.005,
          0.002,
          0.005,
          0.005,
          0.005,
          0.009,
          0.006,
          0.008,
          0.004,
          0.005,
          0.006,
          0.009,
          0.006,
          0.007,
          0.008,
          0.004,
          0.004,
          0.007,
          0.004,
          0.007,
          0.001,
          0.002,
          0.001,
          0.006,
          0.008,
          0.004,
          0.004,
          0.001,
          0.004,
          0.004,
          0.007,
          0.002,
          0.006,
          0.003,
          0.005,
          0.001,
          0.003,
          0.008,
          0.006,
          0.001,
          0.007,
          0.005,
          0.009,
          0.008,
          0.007,
          0.001,
          0.009,
          0.001,
          0.006,
          0.001,
          0.002,
          0.001,
          0.001,
          0.006,
          0.002,
          0.006,
          0.003,
          0.006,
          0.006,
          0.007,
          0.001,
          0.002,
          0.007,
          0.006,
          0.008,
          0.005,
          0.001,
          0.001,
          0.002,
          0.006,
          0.002,
          0.04,
          0.02,
          0.12,
          0.09,
          0.12,
          0.12,
          0.02,
          0.05,
          0.02,
          0.08,
          0.01,
          0.13,
          0.06,
          0.1,
          0.05,
          0.13,
          0.04,
          0.07,
          0.06,
          0.11,
          0.03,
          0.12,
          0.11,
          0.1,
          0.12,
          0.11,
          0.1,
          0.05,
          0.05,
          0.12,
          0.12,
          0.07,
          0.1,
          0.13,
          0.11,
          0.03,
          0.11,
          0.11,
          0.09,
          0.1,
          0.11,
          0.03,
          0.06,
          0.04,
          0.04,
          0.03,
          0.01,
          0.04,
          0.04,
          0.006,
          0.007,
          0.003,
          0.006,
          0.006,
          0.006,
          0.001,
          0.008,
          0.002,
          0.001,
          0.003,
          0.002,
          0.006,
          0.008,
          0.003,
          0.001,
          0.001,
          0.007,
          0.003,
          0.009,
          0.004,
          0.002,
          0.002,
          0.007,
          0.002,
          0.003,
          0.006,
          0.005,
          0.006,
          0.001,
          0.002,
          0.006,
          0.004,
          0.002,
          0.005,
          0.004,
          0.004,
          0.008,
          0.007,
          0.004,
          0.001,
          0.005,
          0.006,
          0.002,
          0.007,
          0.001,
          0.004,
          0.006,
          0.007,
          0.05,
          0.11,
          0.07,
          0.07,
          0.03,
          0.04,
          0.02,
          0.05,
          0.04,
          0.06,
          0.07,
          0.02,
          0.08,
          0.06,
          0.05,
          0.01,
          0.03,
          0.03,
          0.04,
          0.04,
          0.03,
          0.1,
          0.09,
          0.12,
          0.06,
          0.02,
          0.05,
          0.13,
          0.11,
          0.04,
          0.11,
          0.1,
          0.11,
          0.09,
          0.08,
          0.09,
          0.03,
          0.09,
          0.02,
          0.09,
          0.08,
          0.07,
          0.03,
          0.03,
          0.09,
          0.02,
          0.12,
          0.12,
          0.08,
          0.04,
          0.01,
          0.06,
          0.03,
          0.06,
          0.05,
          0.01,
          0.02,
          0,
          0.09,
          0.01,
          0.08,
          0.05,
          0.08,
          0.07,
          0.01,
          0.01,
          0.06,
          0.09,
          0,
          0.04,
          0.06,
          0,
          0.02,
          0.03,
          0.06,
          0.08,
          0.09,
          0.06,
          0.03,
          0.06,
          0.07,
          0.05,
          0.04,
          0.04,
          0.06,
          0.09,
          0.03,
          0.07,
          0.02,
          0.05,
          0.09,
          0.04,
          0.05,
          0.06,
          0.03,
          0.07,
          0.08,
          0.06,
          0.01,
          0.04,
          0.03,
          0.05,
          0.07,
          0.03,
          0.09,
          0.08,
          0.08,
          0.09,
          0.03,
          0.08,
          0.08,
          0.06,
          0.02,
          0.03,
          0.05,
          0.02,
          0.02,
          0.04,
          0.07,
          0.03,
          0.06,
          0.09,
          0.05,
          0.02,
          0.02,
          0.02,
          0.06,
          0.03,
          0.05,
          0.04,
          0.05,
          0.03,
          0.06,
          0.02,
          0.05,
          0.01,
          0.08,
          0.09,
          0.03,
          0.09,
          0.04,
          0.08,
          0.09,
          0.06,
          0.02,
          0.09,
          0.01,
          0.06,
          0.02,
          0.05,
          0.08,
          0.07,
          0.09,
          0.09,
          0.01,
          0.08,
          0.04,
          0.02,
          0.04,
          0.01,
          0.03,
          0,
          0.03
         ],
         "z": [
          0.35,
          5.28,
          7.23,
          2.67,
          0.8,
          3.14,
          6.4,
          0.1,
          0.05,
          0.7,
          5.99,
          1.94,
          5.29,
          7.78,
          0.01,
          4.57,
          3.47,
          3.74,
          7.22,
          2.55,
          6.63,
          5.87,
          2.86,
          4,
          4.55,
          4.94,
          0.64,
          2.9,
          5.71,
          0.22,
          6.11,
          0.68,
          7.7,
          7.97,
          6.19,
          0.9,
          4.5,
          0.88,
          1.13,
          3.85,
          6.16,
          7.06,
          4.4,
          4.89,
          6.57,
          2.15,
          2.38,
          4.77,
          1.97,
          3.4,
          5.27,
          3.35,
          7.56,
          0.13,
          7.52,
          3.57,
          6.02,
          1.12,
          0.19,
          1.85,
          4.25,
          2.38,
          1.89,
          4.59,
          6.25,
          5.22,
          1.86,
          7.37,
          3.07,
          2.89,
          3.58,
          6.75,
          7.97,
          1.33,
          0.63,
          5.07,
          4.13,
          2.52,
          3.71,
          1.87,
          4.3,
          2.26,
          3.42,
          5.65,
          5.72,
          0.89,
          1.57,
          2.74,
          0.79,
          1.69,
          6.21,
          1.07,
          3.95,
          7.59,
          0.98,
          4.95,
          0.8,
          2.45,
          1.36,
          6.5,
          6.75,
          3.61,
          0.81,
          4.06,
          4.42,
          0.09,
          3.26,
          0.85,
          7.12,
          3.69,
          3.41,
          3.1,
          1.53,
          2.4,
          3.08,
          7.91,
          0.07,
          5.48,
          0.67,
          3.91,
          4.95,
          0.4,
          4.69,
          1.49,
          2.91,
          0.88,
          6.8,
          7.51,
          5.92,
          5.83,
          5.17,
          6.13,
          4.36,
          5.25,
          7.24,
          4.54,
          1.44,
          0,
          7.33,
          5.99,
          4.62,
          3.62,
          5.23,
          4.57,
          6.69,
          6.52,
          0.83,
          6.93,
          5.34,
          2.84,
          6.11,
          3.45,
          3.71,
          2.1,
          1.83,
          6.81,
          7.02,
          7.96,
          7.07,
          6.55,
          6.76,
          3.5,
          6.99,
          1.37,
          3.47,
          7.17,
          6.68,
          1.48,
          1.09,
          1.87,
          4.6,
          5.67,
          3.74,
          5.06,
          0.75,
          0.76,
          1.77,
          3.61,
          1.63,
          5.61,
          3.33,
          6.56,
          3.04,
          1.26,
          5.95,
          4.38,
          7.43,
          0.71,
          6.03,
          3,
          3.25,
          4.79,
          5.23,
          3.49,
          3.48,
          6.66,
          6.84,
          7.58,
          3.95,
          2.2,
          2.11,
          4.78,
          2.37,
          0.19,
          4.22,
          1.91,
          5.4,
          2.21,
          1.42,
          4.84,
          3.7,
          6.89,
          7.18,
          4.02,
          6.12,
          7.12,
          0.1,
          1.27,
          0.83,
          7.65,
          3.67,
          2.13,
          2.5,
          5.98,
          4.76,
          6.98,
          3.23,
          1.87,
          7.18,
          4.93,
          3.03,
          5.6,
          1.8,
          3.05,
          1.7,
          7.51,
          0.73,
          7.44,
          6.37,
          4.52,
          4.99,
          4.41,
          5.66,
          6.17,
          1.54,
          4.34,
          3.31,
          2.2,
          7.38,
          4.86,
          4.78,
          4.16,
          1.1,
          2.05,
          1.68,
          1.75,
          5.23,
          7.93,
          3.09,
          7.24,
          1.41,
          3.01,
          6.9,
          3.15,
          6.06,
          5.3,
          4.33,
          3.23,
          0.26,
          7.25,
          4.62,
          5.98,
          3.67,
          4.49,
          1.19,
          3.66,
          7.17,
          2.2,
          6.12,
          4.91,
          5.38,
          7.83,
          6.44,
          5.61,
          2.59,
          2.99,
          1.64,
          5.42,
          4.86,
          0.63,
          5.17,
          0.45,
          4.08,
          4.81,
          0.17,
          6.1,
          1.77,
          6.42,
          0.88,
          4.27,
          6.95,
          3.99,
          7.96,
          2.38,
          2.83,
          2.46,
          7.78,
          2.16,
          2.83,
          3.54,
          4.57,
          3.15,
          4.71,
          6.48,
          2.73,
          0.06,
          4.36,
          7.79,
          1.43,
          1.73,
          6.89,
          0.81,
          6.93,
          5.85,
          5.14,
          6.71,
          1.78,
          5.24,
          5.89,
          1.23,
          5.47,
          3.29,
          4.07,
          7.59,
          4.18,
          0.81,
          0.71,
          5.57,
          7.3,
          4.16,
          4.11,
          3.42,
          3.51,
          7.21,
          6.26,
          4.51,
          1.74,
          4.75,
          6.81,
          0.12,
          2.4,
          4.52,
          6.99,
          7.17,
          1.22,
          6.13,
          4.1,
          1.04,
          2.29,
          5.67,
          3.31,
          4.74,
          0.21,
          0.6,
          2.16,
          0.4,
          1.67,
          0.2,
          5.35,
          1.09,
          3.41,
          3.04,
          2.14,
          6.16,
          6,
          1.84,
          0.23,
          4.02,
          3.96,
          5.68,
          5.12,
          0.78,
          1.36,
          4.7,
          4.56,
          3.75,
          5.1,
          1.84,
          7.43,
          7.81,
          1.8,
          1.58,
          3.05,
          2.5,
          7.24,
          6.85,
          1.81,
          4.26,
          4.85,
          6.53,
          0,
          2.71,
          2.98,
          2.83,
          6.13,
          2.34,
          3.41,
          5,
          0.08,
          5.21,
          1.51,
          3.96,
          2.52,
          3.78,
          0.32,
          1.57,
          3.17,
          3.21,
          4.58,
          2.41,
          5.73,
          6.21,
          6.07,
          0.64,
          1.53,
          0.48,
          5.88,
          4.55,
          2.94,
          6.12,
          2.01,
          2.55,
          3.33,
          3.29,
          7.85,
          6.2,
          7.99,
          2.12,
          6.86,
          4.77,
          0.1,
          5.42,
          4.54,
          4.43,
          7.12,
          0.73,
          2.8,
          2.51,
          3.1,
          6.5,
          5.33,
          7.78,
          6.68,
          5.21,
          5.17,
          2.37,
          3.01,
          3.16,
          4.54,
          4.24,
          4.63,
          7.86,
          0.96,
          6.78,
          0.34,
          6.07,
          2.19,
          2.35,
          5.23,
          4.24,
          6.23,
          4.39,
          5.65,
          6.26,
          7.54,
          3.33,
          6.32,
          6.83,
          5.67,
          2.03,
          1.82,
          6.25,
          2.92,
          7.52,
          1.39,
          6.92,
          0.5,
          6.36,
          3.53,
          6.5,
          2.77,
          1.9,
          1.49,
          0.7,
          6.81,
          3.82,
          3.08,
          5.71,
          0.17,
          4.93,
          6.28,
          3.98,
          1.39,
          2.32,
          7.15,
          6.79,
          0.51,
          1.55,
          6.56,
          5.68,
          3.02,
          3.21,
          6.58,
          6.14,
          4.05,
          1.65,
          6.69,
          7.74,
          4.59,
          1.45,
          7.17,
          1.41,
          6.1,
          5.79,
          6.76,
          3.07,
          3.76,
          6.97,
          0.14,
          5.1,
          0.4,
          1.11,
          3.33,
          6.09,
          2.56,
          5.6,
          4.14,
          4.47,
          1.1,
          2.56,
          4.05,
          6.43,
          6.3,
          7.34,
          1.07,
          3.09,
          5.98,
          0.57,
          7.49,
          7.37,
          1.03,
          7.72,
          2.25,
          5.64,
          0.83,
          0.11,
          3.84,
          5.66,
          1.82,
          5.54,
          2.92,
          1.02,
          0.65,
          1.77,
          2.14,
          1.45,
          1.51,
          2.54,
          1.58,
          1.36,
          1.35,
          5.83,
          7.85,
          4.96,
          7.18,
          5.87,
          1.99,
          0.51,
          4.47,
          7.93,
          3.83,
          1.96,
          6.26,
          1.18,
          4.79,
          3.7,
          6.25,
          4.37,
          2.81,
          7.66,
          0.26,
          1.9,
          3.49,
          3.35,
          4.98,
          0.41,
          0.38,
          4.49,
          3.37,
          7.67,
          4.97,
          6.39,
          1.79,
          5.42,
          5.18,
          2.47,
          6.12,
          4.08,
          4.13,
          1.89,
          0.65,
          6.6,
          1.87,
          1.78,
          1.99,
          7.42,
          4.27,
          2.96,
          1.87,
          4.4,
          6.9,
          4.01,
          7.78,
          7.93,
          3.53,
          3.16,
          5.06,
          1.19,
          4.06,
          4.18,
          0.63,
          0.46,
          2.35,
          5.09,
          3.9,
          7.43,
          3.7,
          3.53,
          5.43,
          6.15,
          1.01,
          3.02,
          4.43,
          5.61,
          2.69,
          5.37,
          7.87,
          6.54,
          3.63,
          5.22,
          2.46,
          2.91,
          3.17,
          5.79,
          7.89,
          6.24,
          4.64,
          2.58,
          0.94,
          6.39,
          0.85,
          6.51,
          3.28,
          4.15,
          7.89,
          3.75,
          1.43,
          1.45,
          5.08,
          4.83,
          0.45,
          3.17,
          8.13,
          5.79,
          2.03,
          1.3,
          2.32,
          2.77,
          5.64,
          6.13,
          7.18,
          3.7,
          2.06,
          1.16,
          4.09,
          4.65,
          1.6,
          4.7,
          4.09,
          5.93,
          8.33,
          2.11,
          8.66,
          7.02,
          2.03,
          0.4,
          3.21,
          4.17,
          5.36,
          4.54,
          2.67,
          2.99,
          5.71,
          7.52,
          1.12,
          4.43,
          2.52,
          0.79,
          6.21,
          7.91,
          0.54,
          6.29,
          5.25,
          2.84,
          3.45,
          7.43,
          3.67,
          0.71,
          1.27,
          4.99,
          4.78,
          0.17,
          2.83,
          7.57,
          5.47,
          1.22,
          2.16,
          2.71,
          5.59,
          5.88,
          6.2,
          3.65,
          2.03,
          0.96,
          4.05,
          4.62,
          1.11,
          4.47,
          4.05,
          5.66,
          7.85,
          1.99,
          7.93,
          6.6,
          0.21,
          3.16,
          4,
          5.09,
          4.43,
          2.77,
          3.8,
          5.73,
          7.54,
          6.25,
          4.55,
          2.72,
          0.94,
          6.22,
          0.84,
          6.78,
          3.34,
          3.52,
          7.45,
          3.7,
          0.88,
          1.37,
          5.07,
          4.81,
          0.52,
          2.92,
          7.59,
          5.57,
          1.21,
          1.3,
          2.23,
          2.91,
          5.72,
          6.86,
          6.26,
          4.01,
          2.04,
          1.18,
          4.85,
          4.7,
          1.29,
          4.62,
          4.25,
          6.2,
          8.05,
          2.16,
          8.13,
          6.7,
          2.89,
          0.32,
          3.19,
          4.21,
          5.14,
          4.94,
          0.02,
          0.21,
          0.49,
          0.38,
          0.09,
          0.3,
          0.2,
          0.23,
          0.2,
          0.02,
          0.07,
          0.02,
          0.06,
          0.7,
          0.3,
          0.01,
          0.2,
          0.03,
          0.52,
          0.23,
          0.17,
          0.25,
          0.32,
          0.55,
          0.08,
          0.05,
          0.01,
          0.2,
          0.04,
          0.08,
          0.12,
          0.56,
          0.46,
          0.32,
          0.04,
          0.35,
          0.02,
          0.47,
          0.01,
          0.27,
          0.23,
          0.05,
          0.08,
          0.06,
          0.49,
          0.08,
          0.06,
          0.42,
          0.15,
          0.04,
          0.67,
          0,
          0.01,
          0.09,
          0.44,
          0.04,
          0.17,
          0.01,
          0.02,
          0.32,
          0.04,
          0.04,
          0.07,
          0.1,
          0.07,
          0.06,
          0.16,
          0.11,
          0.01,
          0.09,
          0.12,
          0.5,
          0.27,
          0.59,
          0.09,
          0.12,
          0.26,
          0.1,
          0.01,
          0.72,
          0.34,
          0.49,
          0.16,
          0.06,
          0.54,
          0.2,
          0.13,
          0.1,
          0.08,
          0.22,
          0.05,
          0.45,
          0.07,
          0,
          0.18,
          0.02,
          0.01,
          0.28,
          0.32,
          0.06,
          0.09,
          0.48,
          0.03,
          0.08,
          0.04,
          0.01,
          0.22,
          0.08,
          0.57,
          0.1,
          0.45,
          0.05,
          2,
          0.05
         ]
        }
       ],
       "layout": {
        "height": 900,
        "legend": {
         "orientation": "h",
         "title": {
          "text": "is_safe"
         },
         "tracegroupgap": 0,
         "x": 0.5,
         "xanchor": "center",
         "y": 0,
         "yanchor": "top"
        },
        "margin": {
         "b": 0,
         "l": 0,
         "r": 0,
         "t": 0
        },
        "scene": {
         "camera": {
          "center": {
           "x": 0,
           "y": 0,
           "z": -0.2
          },
          "eye": {
           "x": -1.5,
           "y": 1.5,
           "z": 0.5
          },
          "up": {
           "x": 0,
           "y": 0,
           "z": 1
          }
         },
         "domain": {
          "x": [
           0,
           1
          ],
          "y": [
           0,
           1
          ]
         },
         "xaxis": {
          "backgroundcolor": "white",
          "color": "black",
          "gridcolor": "#f0f0f0",
          "tickfont": {
           "size": 10
          },
          "title": {
           "font": {
            "size": 10
           },
           "text": "aluminium"
          }
         },
         "yaxis": {
          "backgroundcolor": "white",
          "color": "black",
          "gridcolor": "#f0f0f0",
          "tickfont": {
           "size": 10
          },
          "title": {
           "font": {
            "size": 10
           },
           "text": "cadmium"
          }
         },
         "zaxis": {
          "backgroundcolor": "lightgrey",
          "color": "black",
          "gridcolor": "#f0f0f0",
          "tickfont": {
           "size": 10
          },
          "title": {
           "font": {
            "size": 10
           },
           "text": "chloramine"
          }
         }
        },
        "showlegend": true,
        "template": {
         "data": {
          "bar": [
           {
            "error_x": {
             "color": "#2a3f5f"
            },
            "error_y": {
             "color": "#2a3f5f"
            },
            "marker": {
             "line": {
              "color": "#E5ECF6",
              "width": 0.5
             },
             "pattern": {
              "fillmode": "overlay",
              "size": 10,
              "solidity": 0.2
             }
            },
            "type": "bar"
           }
          ],
          "barpolar": [
           {
            "marker": {
             "line": {
              "color": "#E5ECF6",
              "width": 0.5
             },
             "pattern": {
              "fillmode": "overlay",
              "size": 10,
              "solidity": 0.2
             }
            },
            "type": "barpolar"
           }
          ],
          "carpet": [
           {
            "aaxis": {
             "endlinecolor": "#2a3f5f",
             "gridcolor": "white",
             "linecolor": "white",
             "minorgridcolor": "white",
             "startlinecolor": "#2a3f5f"
            },
            "baxis": {
             "endlinecolor": "#2a3f5f",
             "gridcolor": "white",
             "linecolor": "white",
             "minorgridcolor": "white",
             "startlinecolor": "#2a3f5f"
            },
            "type": "carpet"
           }
          ],
          "choropleth": [
           {
            "colorbar": {
             "outlinewidth": 0,
             "ticks": ""
            },
            "type": "choropleth"
           }
          ],
          "contour": [
           {
            "colorbar": {
             "outlinewidth": 0,
             "ticks": ""
            },
            "colorscale": [
             [
              0,
              "#0d0887"
             ],
             [
              0.1111111111111111,
              "#46039f"
             ],
             [
              0.2222222222222222,
              "#7201a8"
             ],
             [
              0.3333333333333333,
              "#9c179e"
             ],
             [
              0.4444444444444444,
              "#bd3786"
             ],
             [
              0.5555555555555556,
              "#d8576b"
             ],
             [
              0.6666666666666666,
              "#ed7953"
             ],
             [
              0.7777777777777778,
              "#fb9f3a"
             ],
             [
              0.8888888888888888,
              "#fdca26"
             ],
             [
              1,
              "#f0f921"
             ]
            ],
            "type": "contour"
           }
          ],
          "contourcarpet": [
           {
            "colorbar": {
             "outlinewidth": 0,
             "ticks": ""
            },
            "type": "contourcarpet"
           }
          ],
          "heatmap": [
           {
            "colorbar": {
             "outlinewidth": 0,
             "ticks": ""
            },
            "colorscale": [
             [
              0,
              "#0d0887"
             ],
             [
              0.1111111111111111,
              "#46039f"
             ],
             [
              0.2222222222222222,
              "#7201a8"
             ],
             [
              0.3333333333333333,
              "#9c179e"
             ],
             [
              0.4444444444444444,
              "#bd3786"
             ],
             [
              0.5555555555555556,
              "#d8576b"
             ],
             [
              0.6666666666666666,
              "#ed7953"
             ],
             [
              0.7777777777777778,
              "#fb9f3a"
             ],
             [
              0.8888888888888888,
              "#fdca26"
             ],
             [
              1,
              "#f0f921"
             ]
            ],
            "type": "heatmap"
           }
          ],
          "heatmapgl": [
           {
            "colorbar": {
             "outlinewidth": 0,
             "ticks": ""
            },
            "colorscale": [
             [
              0,
              "#0d0887"
             ],
             [
              0.1111111111111111,
              "#46039f"
             ],
             [
              0.2222222222222222,
              "#7201a8"
             ],
             [
              0.3333333333333333,
              "#9c179e"
             ],
             [
              0.4444444444444444,
              "#bd3786"
             ],
             [
              0.5555555555555556,
              "#d8576b"
             ],
             [
              0.6666666666666666,
              "#ed7953"
             ],
             [
              0.7777777777777778,
              "#fb9f3a"
             ],
             [
              0.8888888888888888,
              "#fdca26"
             ],
             [
              1,
              "#f0f921"
             ]
            ],
            "type": "heatmapgl"
           }
          ],
          "histogram": [
           {
            "marker": {
             "pattern": {
              "fillmode": "overlay",
              "size": 10,
              "solidity": 0.2
             }
            },
            "type": "histogram"
           }
          ],
          "histogram2d": [
           {
            "colorbar": {
             "outlinewidth": 0,
             "ticks": ""
            },
            "colorscale": [
             [
              0,
              "#0d0887"
             ],
             [
              0.1111111111111111,
              "#46039f"
             ],
             [
              0.2222222222222222,
              "#7201a8"
             ],
             [
              0.3333333333333333,
              "#9c179e"
             ],
             [
              0.4444444444444444,
              "#bd3786"
             ],
             [
              0.5555555555555556,
              "#d8576b"
             ],
             [
              0.6666666666666666,
              "#ed7953"
             ],
             [
              0.7777777777777778,
              "#fb9f3a"
             ],
             [
              0.8888888888888888,
              "#fdca26"
             ],
             [
              1,
              "#f0f921"
             ]
            ],
            "type": "histogram2d"
           }
          ],
          "histogram2dcontour": [
           {
            "colorbar": {
             "outlinewidth": 0,
             "ticks": ""
            },
            "colorscale": [
             [
              0,
              "#0d0887"
             ],
             [
              0.1111111111111111,
              "#46039f"
             ],
             [
              0.2222222222222222,
              "#7201a8"
             ],
             [
              0.3333333333333333,
              "#9c179e"
             ],
             [
              0.4444444444444444,
              "#bd3786"
             ],
             [
              0.5555555555555556,
              "#d8576b"
             ],
             [
              0.6666666666666666,
              "#ed7953"
             ],
             [
              0.7777777777777778,
              "#fb9f3a"
             ],
             [
              0.8888888888888888,
              "#fdca26"
             ],
             [
              1,
              "#f0f921"
             ]
            ],
            "type": "histogram2dcontour"
           }
          ],
          "mesh3d": [
           {
            "colorbar": {
             "outlinewidth": 0,
             "ticks": ""
            },
            "type": "mesh3d"
           }
          ],
          "parcoords": [
           {
            "line": {
             "colorbar": {
              "outlinewidth": 0,
              "ticks": ""
             }
            },
            "type": "parcoords"
           }
          ],
          "pie": [
           {
            "automargin": true,
            "type": "pie"
           }
          ],
          "scatter": [
           {
            "marker": {
             "colorbar": {
              "outlinewidth": 0,
              "ticks": ""
             }
            },
            "type": "scatter"
           }
          ],
          "scatter3d": [
           {
            "line": {
             "colorbar": {
              "outlinewidth": 0,
              "ticks": ""
             }
            },
            "marker": {
             "colorbar": {
              "outlinewidth": 0,
              "ticks": ""
             }
            },
            "type": "scatter3d"
           }
          ],
          "scattercarpet": [
           {
            "marker": {
             "colorbar": {
              "outlinewidth": 0,
              "ticks": ""
             }
            },
            "type": "scattercarpet"
           }
          ],
          "scattergeo": [
           {
            "marker": {
             "colorbar": {
              "outlinewidth": 0,
              "ticks": ""
             }
            },
            "type": "scattergeo"
           }
          ],
          "scattergl": [
           {
            "marker": {
             "colorbar": {
              "outlinewidth": 0,
              "ticks": ""
             }
            },
            "type": "scattergl"
           }
          ],
          "scattermapbox": [
           {
            "marker": {
             "colorbar": {
              "outlinewidth": 0,
              "ticks": ""
             }
            },
            "type": "scattermapbox"
           }
          ],
          "scatterpolar": [
           {
            "marker": {
             "colorbar": {
              "outlinewidth": 0,
              "ticks": ""
             }
            },
            "type": "scatterpolar"
           }
          ],
          "scatterpolargl": [
           {
            "marker": {
             "colorbar": {
              "outlinewidth": 0,
              "ticks": ""
             }
            },
            "type": "scatterpolargl"
           }
          ],
          "scatterternary": [
           {
            "marker": {
             "colorbar": {
              "outlinewidth": 0,
              "ticks": ""
             }
            },
            "type": "scatterternary"
           }
          ],
          "surface": [
           {
            "colorbar": {
             "outlinewidth": 0,
             "ticks": ""
            },
            "colorscale": [
             [
              0,
              "#0d0887"
             ],
             [
              0.1111111111111111,
              "#46039f"
             ],
             [
              0.2222222222222222,
              "#7201a8"
             ],
             [
              0.3333333333333333,
              "#9c179e"
             ],
             [
              0.4444444444444444,
              "#bd3786"
             ],
             [
              0.5555555555555556,
              "#d8576b"
             ],
             [
              0.6666666666666666,
              "#ed7953"
             ],
             [
              0.7777777777777778,
              "#fb9f3a"
             ],
             [
              0.8888888888888888,
              "#fdca26"
             ],
             [
              1,
              "#f0f921"
             ]
            ],
            "type": "surface"
           }
          ],
          "table": [
           {
            "cells": {
             "fill": {
              "color": "#EBF0F8"
             },
             "line": {
              "color": "white"
             }
            },
            "header": {
             "fill": {
              "color": "#C8D4E3"
             },
             "line": {
              "color": "white"
             }
            },
            "type": "table"
           }
          ]
         },
         "layout": {
          "annotationdefaults": {
           "arrowcolor": "#2a3f5f",
           "arrowhead": 0,
           "arrowwidth": 1
          },
          "autotypenumbers": "strict",
          "coloraxis": {
           "colorbar": {
            "outlinewidth": 0,
            "ticks": ""
           }
          },
          "colorscale": {
           "diverging": [
            [
             0,
             "#8e0152"
            ],
            [
             0.1,
             "#c51b7d"
            ],
            [
             0.2,
             "#de77ae"
            ],
            [
             0.3,
             "#f1b6da"
            ],
            [
             0.4,
             "#fde0ef"
            ],
            [
             0.5,
             "#f7f7f7"
            ],
            [
             0.6,
             "#e6f5d0"
            ],
            [
             0.7,
             "#b8e186"
            ],
            [
             0.8,
             "#7fbc41"
            ],
            [
             0.9,
             "#4d9221"
            ],
            [
             1,
             "#276419"
            ]
           ],
           "sequential": [
            [
             0,
             "#0d0887"
            ],
            [
             0.1111111111111111,
             "#46039f"
            ],
            [
             0.2222222222222222,
             "#7201a8"
            ],
            [
             0.3333333333333333,
             "#9c179e"
            ],
            [
             0.4444444444444444,
             "#bd3786"
            ],
            [
             0.5555555555555556,
             "#d8576b"
            ],
            [
             0.6666666666666666,
             "#ed7953"
            ],
            [
             0.7777777777777778,
             "#fb9f3a"
            ],
            [
             0.8888888888888888,
             "#fdca26"
            ],
            [
             1,
             "#f0f921"
            ]
           ],
           "sequentialminus": [
            [
             0,
             "#0d0887"
            ],
            [
             0.1111111111111111,
             "#46039f"
            ],
            [
             0.2222222222222222,
             "#7201a8"
            ],
            [
             0.3333333333333333,
             "#9c179e"
            ],
            [
             0.4444444444444444,
             "#bd3786"
            ],
            [
             0.5555555555555556,
             "#d8576b"
            ],
            [
             0.6666666666666666,
             "#ed7953"
            ],
            [
             0.7777777777777778,
             "#fb9f3a"
            ],
            [
             0.8888888888888888,
             "#fdca26"
            ],
            [
             1,
             "#f0f921"
            ]
           ]
          },
          "colorway": [
           "#636efa",
           "#EF553B",
           "#00cc96",
           "#ab63fa",
           "#FFA15A",
           "#19d3f3",
           "#FF6692",
           "#B6E880",
           "#FF97FF",
           "#FECB52"
          ],
          "font": {
           "color": "#2a3f5f"
          },
          "geo": {
           "bgcolor": "white",
           "lakecolor": "white",
           "landcolor": "#E5ECF6",
           "showlakes": true,
           "showland": true,
           "subunitcolor": "white"
          },
          "hoverlabel": {
           "align": "left"
          },
          "hovermode": "closest",
          "mapbox": {
           "style": "light"
          },
          "paper_bgcolor": "white",
          "plot_bgcolor": "#E5ECF6",
          "polar": {
           "angularaxis": {
            "gridcolor": "white",
            "linecolor": "white",
            "ticks": ""
           },
           "bgcolor": "#E5ECF6",
           "radialaxis": {
            "gridcolor": "white",
            "linecolor": "white",
            "ticks": ""
           }
          },
          "scene": {
           "xaxis": {
            "backgroundcolor": "#E5ECF6",
            "gridcolor": "white",
            "gridwidth": 2,
            "linecolor": "white",
            "showbackground": true,
            "ticks": "",
            "zerolinecolor": "white"
           },
           "yaxis": {
            "backgroundcolor": "#E5ECF6",
            "gridcolor": "white",
            "gridwidth": 2,
            "linecolor": "white",
            "showbackground": true,
            "ticks": "",
            "zerolinecolor": "white"
           },
           "zaxis": {
            "backgroundcolor": "#E5ECF6",
            "gridcolor": "white",
            "gridwidth": 2,
            "linecolor": "white",
            "showbackground": true,
            "ticks": "",
            "zerolinecolor": "white"
           }
          },
          "shapedefaults": {
           "line": {
            "color": "#2a3f5f"
           }
          },
          "ternary": {
           "aaxis": {
            "gridcolor": "white",
            "linecolor": "white",
            "ticks": ""
           },
           "baxis": {
            "gridcolor": "white",
            "linecolor": "white",
            "ticks": ""
           },
           "bgcolor": "#E5ECF6",
           "caxis": {
            "gridcolor": "white",
            "linecolor": "white",
            "ticks": ""
           }
          },
          "title": {
           "x": 0.05
          },
          "xaxis": {
           "automargin": true,
           "gridcolor": "white",
           "linecolor": "white",
           "ticks": "",
           "title": {
            "standoff": 15
           },
           "zerolinecolor": "white",
           "zerolinewidth": 2
          },
          "yaxis": {
           "automargin": true,
           "gridcolor": "white",
           "linecolor": "white",
           "ticks": "",
           "title": {
            "standoff": 15
           },
           "zerolinecolor": "white",
           "zerolinewidth": 2
          }
         }
        },
        "width": 900
       }
      },
      "text/html": [
       "<div>                            <div id=\"7a44943d-3da6-4f54-ac65-71e28fbdba2a\" class=\"plotly-graph-div\" style=\"height:900px; width:900px;\"></div>            <script type=\"text/javascript\">                require([\"plotly\"], function(Plotly) {                    window.PLOTLYENV=window.PLOTLYENV || {};                                    if (document.getElementById(\"7a44943d-3da6-4f54-ac65-71e28fbdba2a\")) {                    Plotly.newPlot(                        \"7a44943d-3da6-4f54-ac65-71e28fbdba2a\",                        [{\"customdata\":[[\"0\"],[\"0\"],[\"0\"],[\"0\"],[\"0\"],[\"0\"],[\"0\"],[\"0\"],[\"0\"],[\"0\"],[\"0\"],[\"0\"],[\"0\"],[\"0\"],[\"0\"],[\"0\"],[\"0\"],[\"0\"],[\"0\"],[\"0\"],[\"0\"],[\"0\"],[\"0\"],[\"0\"],[\"0\"],[\"0\"],[\"0\"],[\"0\"],[\"0\"],[\"0\"],[\"0\"],[\"0\"],[\"0\"],[\"0\"],[\"0\"],[\"0\"],[\"0\"],[\"0\"],[\"0\"],[\"0\"],[\"0\"],[\"0\"],[\"0\"],[\"0\"],[\"0\"],[\"0\"],[\"0\"],[\"0\"],[\"0\"],[\"0\"],[\"0\"],[\"0\"],[\"0\"],[\"0\"],[\"0\"],[\"0\"],[\"0\"],[\"0\"],[\"0\"],[\"0\"],[\"0\"],[\"0\"],[\"0\"],[\"0\"],[\"0\"],[\"0\"],[\"0\"],[\"0\"],[\"0\"],[\"0\"],[\"0\"],[\"0\"],[\"0\"],[\"0\"],[\"0\"],[\"0\"],[\"0\"],[\"0\"],[\"0\"],[\"0\"],[\"0\"],[\"0\"],[\"0\"],[\"0\"],[\"0\"],[\"0\"],[\"0\"],[\"0\"],[\"0\"],[\"0\"],[\"0\"],[\"0\"],[\"0\"],[\"0\"],[\"0\"],[\"0\"],[\"0\"],[\"0\"],[\"0\"],[\"0\"],[\"0\"],[\"0\"],[\"0\"],[\"0\"],[\"0\"],[\"0\"],[\"0\"],[\"0\"],[\"0\"],[\"0\"],[\"0\"],[\"0\"],[\"0\"],[\"0\"],[\"0\"],[\"0\"],[\"0\"],[\"0\"],[\"0\"],[\"0\"],[\"0\"],[\"0\"],[\"0\"],[\"0\"],[\"0\"],[\"0\"],[\"0\"],[\"0\"],[\"0\"],[\"0\"],[\"0\"],[\"0\"],[\"0\"],[\"0\"],[\"0\"],[\"0\"],[\"0\"],[\"0\"],[\"0\"],[\"0\"],[\"0\"],[\"0\"],[\"0\"],[\"0\"],[\"0\"],[\"0\"],[\"0\"],[\"0\"],[\"0\"],[\"0\"],[\"0\"],[\"0\"],[\"0\"],[\"0\"],[\"0\"],[\"0\"],[\"0\"],[\"0\"],[\"0\"],[\"0\"],[\"0\"],[\"0\"],[\"0\"],[\"0\"],[\"0\"],[\"0\"],[\"0\"],[\"0\"],[\"0\"],[\"0\"],[\"0\"],[\"0\"],[\"0\"],[\"0\"],[\"0\"],[\"0\"],[\"0\"],[\"0\"],[\"0\"],[\"0\"],[\"0\"],[\"0\"],[\"0\"],[\"0\"],[\"0\"],[\"0\"],[\"0\"],[\"0\"],[\"0\"],[\"0\"],[\"0\"],[\"0\"],[\"0\"],[\"0\"],[\"0\"],[\"0\"],[\"0\"],[\"0\"],[\"0\"],[\"0\"],[\"0\"],[\"0\"],[\"0\"],[\"0\"],[\"0\"],[\"0\"],[\"0\"],[\"0\"],[\"0\"],[\"0\"],[\"0\"],[\"0\"],[\"0\"],[\"0\"],[\"0\"],[\"0\"],[\"0\"],[\"0\"],[\"0\"],[\"0\"],[\"0\"],[\"0\"],[\"0\"],[\"0\"],[\"0\"],[\"0\"],[\"0\"],[\"0\"],[\"0\"],[\"0\"],[\"0\"],[\"0\"],[\"0\"],[\"0\"],[\"0\"],[\"0\"],[\"0\"],[\"0\"],[\"0\"],[\"0\"],[\"0\"],[\"0\"],[\"0\"],[\"0\"],[\"0\"],[\"0\"],[\"0\"],[\"0\"],[\"0\"],[\"0\"],[\"0\"],[\"0\"],[\"0\"],[\"0\"],[\"0\"],[\"0\"],[\"0\"],[\"0\"],[\"0\"],[\"0\"],[\"0\"],[\"0\"],[\"0\"],[\"0\"],[\"0\"],[\"0\"],[\"0\"],[\"0\"],[\"0\"],[\"0\"],[\"0\"],[\"0\"],[\"0\"],[\"0\"],[\"0\"],[\"0\"],[\"0\"],[\"0\"],[\"0\"],[\"0\"],[\"0\"],[\"0\"],[\"0\"],[\"0\"],[\"0\"],[\"0\"],[\"0\"],[\"0\"],[\"0\"],[\"0\"],[\"0\"],[\"0\"],[\"0\"],[\"0\"],[\"0\"],[\"0\"],[\"0\"],[\"0\"],[\"0\"],[\"0\"],[\"0\"],[\"0\"],[\"0\"],[\"0\"],[\"0\"],[\"0\"],[\"0\"],[\"0\"],[\"0\"],[\"0\"],[\"0\"],[\"0\"],[\"0\"],[\"0\"],[\"0\"],[\"0\"],[\"0\"],[\"0\"],[\"0\"],[\"0\"],[\"0\"],[\"0\"],[\"0\"],[\"0\"],[\"0\"],[\"0\"],[\"0\"],[\"0\"],[\"0\"],[\"0\"],[\"0\"],[\"0\"],[\"0\"],[\"0\"],[\"0\"],[\"0\"],[\"0\"],[\"0\"],[\"0\"],[\"0\"],[\"0\"],[\"0\"],[\"0\"],[\"0\"],[\"0\"],[\"0\"],[\"0\"],[\"0\"],[\"0\"],[\"0\"],[\"0\"],[\"0\"],[\"0\"],[\"0\"],[\"0\"],[\"0\"],[\"0\"],[\"0\"],[\"0\"],[\"0\"],[\"0\"],[\"0\"],[\"0\"],[\"0\"],[\"0\"],[\"0\"],[\"0\"],[\"0\"],[\"0\"],[\"0\"],[\"0\"],[\"0\"],[\"0\"],[\"0\"],[\"0\"],[\"0\"],[\"0\"],[\"0\"],[\"0\"],[\"0\"],[\"0\"],[\"0\"],[\"0\"],[\"0\"],[\"0\"],[\"0\"],[\"0\"],[\"0\"],[\"0\"],[\"0\"],[\"0\"],[\"0\"],[\"0\"],[\"0\"],[\"0\"],[\"0\"],[\"0\"],[\"0\"],[\"0\"],[\"0\"],[\"0\"],[\"0\"],[\"0\"],[\"0\"],[\"0\"],[\"0\"],[\"0\"],[\"0\"],[\"0\"],[\"0\"],[\"0\"],[\"0\"],[\"0\"],[\"0\"],[\"0\"],[\"0\"],[\"0\"],[\"0\"],[\"0\"],[\"0\"],[\"0\"],[\"0\"],[\"0\"],[\"0\"],[\"0\"],[\"0\"],[\"0\"],[\"0\"],[\"0\"],[\"0\"],[\"0\"],[\"0\"],[\"0\"],[\"0\"],[\"0\"],[\"0\"],[\"0\"],[\"0\"],[\"0\"],[\"0\"],[\"0\"],[\"0\"],[\"0\"],[\"0\"],[\"0\"],[\"0\"],[\"0\"],[\"0\"],[\"0\"],[\"0\"],[\"0\"],[\"0\"],[\"0\"],[\"0\"],[\"0\"],[\"0\"],[\"0\"],[\"0\"],[\"0\"],[\"0\"],[\"0\"],[\"0\"],[\"0\"],[\"0\"],[\"0\"],[\"0\"],[\"0\"],[\"0\"],[\"0\"],[\"0\"],[\"0\"],[\"0\"],[\"0\"],[\"0\"],[\"0\"],[\"0\"],[\"0\"],[\"0\"],[\"0\"],[\"0\"],[\"0\"],[\"0\"],[\"0\"],[\"0\"],[\"0\"],[\"0\"],[\"0\"],[\"0\"],[\"0\"],[\"0\"],[\"0\"],[\"0\"],[\"0\"],[\"0\"],[\"0\"],[\"0\"],[\"0\"],[\"0\"],[\"0\"],[\"0\"],[\"0\"],[\"0\"],[\"0\"],[\"0\"],[\"0\"],[\"0\"],[\"0\"],[\"0\"],[\"0\"],[\"0\"],[\"0\"],[\"0\"],[\"0\"],[\"0\"],[\"0\"],[\"0\"],[\"0\"],[\"0\"],[\"0\"],[\"0\"],[\"0\"],[\"0\"],[\"0\"],[\"0\"],[\"0\"],[\"0\"],[\"0\"],[\"0\"],[\"0\"],[\"0\"],[\"0\"],[\"0\"],[\"0\"],[\"0\"],[\"0\"],[\"0\"],[\"0\"],[\"0\"],[\"0\"],[\"0\"],[\"0\"],[\"0\"],[\"0\"],[\"0\"],[\"0\"],[\"0\"],[\"0\"],[\"0\"],[\"0\"],[\"0\"],[\"0\"],[\"0\"],[\"0\"],[\"0\"],[\"0\"],[\"0\"],[\"0\"],[\"0\"],[\"0\"],[\"0\"],[\"0\"],[\"0\"],[\"0\"],[\"0\"],[\"0\"],[\"0\"],[\"0\"],[\"0\"],[\"0\"],[\"0\"],[\"0\"],[\"0\"],[\"0\"],[\"0\"],[\"0\"],[\"0\"],[\"0\"],[\"0\"],[\"0\"],[\"0\"],[\"0\"],[\"0\"],[\"0\"],[\"0\"],[\"0\"],[\"0\"],[\"0\"],[\"0\"],[\"0\"],[\"0\"],[\"0\"],[\"0\"],[\"0\"],[\"0\"],[\"0\"],[\"0\"],[\"0\"],[\"0\"],[\"0\"],[\"0\"],[\"0\"],[\"0\"],[\"0\"],[\"0\"],[\"0\"],[\"0\"],[\"0\"],[\"0\"],[\"0\"],[\"0\"],[\"0\"],[\"0\"],[\"0\"],[\"0\"],[\"0\"],[\"0\"],[\"0\"],[\"0\"],[\"0\"],[\"0\"],[\"0\"],[\"0\"],[\"0\"],[\"0\"],[\"0\"],[\"0\"],[\"0\"],[\"0\"],[\"0\"],[\"0\"],[\"0\"],[\"0\"],[\"0\"],[\"0\"],[\"0\"],[\"0\"],[\"0\"],[\"0\"],[\"0\"],[\"0\"],[\"0\"],[\"0\"],[\"0\"],[\"0\"],[\"0\"],[\"0\"],[\"0\"],[\"0\"],[\"0\"],[\"0\"],[\"0\"],[\"0\"],[\"0\"],[\"0\"],[\"0\"],[\"0\"],[\"0\"],[\"0\"],[\"0\"],[\"0\"],[\"0\"],[\"0\"],[\"0\"],[\"0\"],[\"0\"],[\"0\"],[\"0\"],[\"0\"],[\"0\"],[\"0\"],[\"0\"],[\"0\"],[\"0\"],[\"0\"],[\"0\"],[\"0\"],[\"0\"],[\"0\"],[\"0\"],[\"0\"],[\"0\"],[\"0\"],[\"0\"],[\"0\"],[\"0\"],[\"0\"],[\"0\"],[\"0\"],[\"0\"],[\"0\"],[\"0\"],[\"0\"],[\"0\"],[\"0\"],[\"0\"],[\"0\"],[\"0\"],[\"0\"],[\"0\"],[\"0\"],[\"0\"],[\"0\"],[\"0\"],[\"0\"],[\"0\"],[\"0\"],[\"0\"],[\"0\"],[\"0\"],[\"0\"],[\"0\"],[\"0\"],[\"0\"],[\"0\"],[\"0\"],[\"0\"],[\"0\"],[\"0\"],[\"0\"],[\"0\"],[\"0\"],[\"0\"],[\"0\"],[\"0\"],[\"0\"],[\"0\"],[\"0\"],[\"0\"],[\"0\"],[\"0\"],[\"0\"],[\"0\"],[\"0\"],[\"0\"],[\"0\"],[\"0\"],[\"0\"],[\"0\"],[\"0\"],[\"0\"],[\"0\"],[\"0\"],[\"0\"],[\"0\"],[\"0\"],[\"0\"],[\"0\"],[\"0\"],[\"0\"],[\"0\"],[\"0\"],[\"0\"],[\"0\"],[\"0\"],[\"0\"],[\"0\"],[\"0\"],[\"0\"],[\"0\"],[\"0\"],[\"0\"],[\"0\"],[\"0\"],[\"0\"],[\"0\"],[\"0\"],[\"0\"],[\"0\"],[\"0\"],[\"0\"],[\"0\"],[\"0\"],[\"0\"],[\"0\"],[\"0\"],[\"0\"],[\"0\"],[\"0\"],[\"0\"],[\"0\"],[\"0\"],[\"0\"],[\"0\"],[\"0\"],[\"0\"],[\"0\"],[\"0\"],[\"0\"],[\"0\"],[\"0\"],[\"0\"],[\"0\"],[\"0\"],[\"0\"],[\"0\"],[\"0\"],[\"0\"],[\"0\"],[\"0\"],[\"0\"],[\"0\"],[\"0\"],[\"0\"],[\"0\"],[\"0\"],[\"0\"],[\"0\"],[\"0\"],[\"0\"],[\"0\"],[\"0\"],[\"0\"],[\"0\"],[\"0\"],[\"0\"],[\"0\"],[\"0\"],[\"0\"],[\"0\"],[\"0\"],[\"0\"],[\"0\"],[\"0\"],[\"0\"],[\"0\"],[\"0\"],[\"0\"],[\"0\"],[\"0\"],[\"0\"],[\"0\"],[\"0\"],[\"0\"],[\"0\"],[\"0\"],[\"0\"],[\"0\"],[\"0\"],[\"0\"],[\"0\"],[\"0\"],[\"0\"],[\"0\"],[\"0\"],[\"0\"],[\"0\"],[\"0\"],[\"0\"],[\"0\"],[\"0\"],[\"0\"],[\"0\"],[\"0\"],[\"0\"],[\"0\"],[\"0\"],[\"0\"],[\"0\"],[\"0\"],[\"0\"],[\"0\"],[\"0\"],[\"0\"],[\"0\"],[\"0\"],[\"0\"],[\"0\"],[\"0\"],[\"0\"],[\"0\"],[\"0\"],[\"0\"],[\"0\"],[\"0\"],[\"0\"],[\"0\"],[\"0\"],[\"0\"],[\"0\"],[\"0\"],[\"0\"],[\"0\"],[\"0\"],[\"0\"],[\"0\"],[\"0\"],[\"0\"],[\"0\"],[\"0\"],[\"0\"],[\"0\"],[\"0\"],[\"0\"],[\"0\"],[\"0\"],[\"0\"],[\"0\"],[\"0\"],[\"0\"],[\"0\"],[\"0\"],[\"0\"],[\"0\"],[\"0\"],[\"0\"],[\"0\"],[\"0\"],[\"0\"],[\"0\"],[\"0\"],[\"0\"],[\"0\"]],\"hovertemplate\":\"is_safe=%{customdata[0]}<br>aluminium=%{x}<br>cadmium=%{y}<br>chloramine=%{z}<extra></extra>\",\"legendgroup\":\"0\",\"marker\":{\"color\":\"#636EFA\",\"symbol\":\"circle\",\"size\":2},\"mode\":\"markers\",\"name\":\"0\",\"scene\":\"scene\",\"showlegend\":true,\"x\":[0.04,0.06,0.08,0.07,3.41,0.07,3.51,2.76,4.45,0.08,0.08,0.14,2.83,0.06,0.07,3.54,0.01,0.08,0.01,0.03,0.11,0.89,0.03,0.07,2.61,1.97,4.09,0.05,0.02,0.19,0.02,0.55,2.06,0.17,0.06,3.74,0.09,2.55,0.0,0.09,0.03,0.05,0.02,0.08,0.06,0.0,0.04,0.01,0.01,0.08,0.03,1.71,0.07,0.0,2.67,0.07,0.07,0.03,0.04,0.07,0.09,0.08,0.0,0.03,0.05,0.08,0.09,0.13,0.03,0.01,0.06,0.03,0.02,0.37,0.06,0.01,0.04,1.18,0.04,0.23,2.11,0.06,0.01,0.01,4.63,0.01,0.05,0.0,0.06,0.03,0.01,0.93,1.41,0.0,0.05,0.01,0.02,0.05,0.37,0.05,2.66,1.39,0.01,0.02,0.19,4.3,0.04,0.09,0.77,0.05,1.06,0.06,0.03,0.01,0.06,0.02,0.0,0.05,0.05,0.11,0.02,0.24,1.8,0.06,0.04,0.03,0.09,0.07,2.37,0.08,0.05,0.03,0.09,1.04,0.1,0.02,0.93,0.11,0.08,0.01,0.76,0.03,0.78,0.08,2.21,0.04,0.06,0.17,2.61,3.56,0.09,0.05,0.74,0.05,0.08,4.64,0.03,4.13,0.07,0.08,1.67,0.02,0.09,0.08,0.02,4.11,0.02,4.04,0.17,0.14,0.08,0.1,0.07,0.08,1.74,0.05,0.12,0.03,3.9,0.08,0.09,0.05,0.04,0.03,0.01,2.45,0.48,0.02,0.06,4.41,0.06,0.02,0.09,0.18,0.06,0.08,0.04,0.09,0.08,0.93,0.06,0.0,0.06,0.08,0.3,0.01,0.05,2.15,0.2,0.1,2.97,0.07,0.06,0.04,0.04,0.26,0.01,0.02,0.06,0.1,0.09,0.02,0.08,0.03,0.1,0.02,0.25,0.1,0.02,0.24,0.01,0.01,2.64,0.07,0.08,0.07,0.6,2.43,0.08,0.02,0.04,0.06,0.09,0.06,0.26,0.08,3.48,0.03,0.09,0.02,0.02,0.06,0.08,4.18,0.05,0.07,0.02,0.01,0.05,0.01,0.03,0.07,0.09,0.06,0.18,0.59,0.16,0.02,1.13,0.01,0.03,0.09,0.08,4.92,0.09,0.04,0.03,0.07,0.06,0.04,2.54,0.01,0.09,3.55,0.03,0.05,0.03,4.88,0.01,0.02,0.08,3.2,3.42,0.02,0.01,0.09,0.04,3.96,1.21,3.84,0.03,0.05,0.01,3.54,0.0,0.04,3.43,0.03,0.02,0.0,0.03,0.1,0.08,3.63,0.02,0.07,0.02,0.09,0.05,0.08,0.02,0.04,0.01,0.02,0.02,2.25,0.34,0.07,0.03,0.07,0.03,0.13,0.04,0.02,0.05,0.04,3.69,3.06,0.09,0.1,0.06,0.02,0.05,0.05,0.04,0.08,1.88,0.06,0.1,0.11,0.0,0.07,0.3,0.05,0.07,0.01,0.02,0.02,0.0,0.12,5.05,0.06,0.07,0.09,4.23,0.06,0.08,0.09,0.1,0.01,0.08,0.07,0.05,2.42,0.0,0.02,0.03,0.03,3.88,1.13,0.05,0.76,0.18,0.05,0.06,0.06,0.17,0.01,0.04,0.01,1.96,0.02,0.05,2.7,0.05,3.93,0.02,0.04,4.76,0.05,1.0,2.3,0.01,0.07,0.34,0.02,0.0,0.02,0.01,0.07,0.03,2.5,0.05,0.02,4.39,2.17,0.06,0.01,0.06,0.04,0.1,0.09,0.07,3.67,0.07,0.1,0.06,0.13,0.05,4.08,0.92,0.04,0.32,0.02,5.01,0.06,4.09,0.04,0.08,4.44,0.2,0.02,0.01,0.03,1.14,2.96,2.64,0.06,0.05,0.07,0.03,0.02,0.11,0.06,0.96,0.08,0.05,0.07,0.04,0.05,0.05,0.05,0.1,0.09,0.06,0.02,0.05,0.03,4.87,0.07,0.01,0.25,0.02,4.96,2.41,0.09,0.01,0.0,0.17,0.08,0.04,1.11,0.01,0.07,0.09,4.08,0.03,0.39,0.02,0.05,0.09,0.03,0.08,0.05,0.01,0.2,2.61,0.06,0.0,0.06,0.09,3.42,0.03,0.05,0.23,0.05,0.08,4.44,0.3,0.02,2.84,0.01,0.09,0.02,0.09,1.25,0.02,0.02,0.01,0.09,0.08,0.02,0.07,0.06,0.05,0.07,0.73,0.01,0.01,0.04,0.25,0.04,0.06,0.07,0.06,0.36,0.03,0.02,0.08,0.03,0.08,0.04,0.0,0.28,0.08,0.02,0.03,0.08,0.06,0.1,0.03,4.8,0.02,0.0,0.06,0.1,0.06,0.05,0.06,0.05,0.97,0.1,0.06,0.09,0.13,0.06,0.06,0.09,2.61,0.08,0.07,0.02,1.49,0.05,0.08,0.05,0.03,0.09,0.05,0.05,0.1,0.34,0.09,3.56,0.1,0.03,0.18,1.59,0.05,0.06,4.12,1.74,0.05,0.09,0.05,0.08,0.09,0.1,1.74,0.01,3.49,0.81,0.28,0.07,0.03,0.03,0.01,0.39,0.08,0.29,0.21,0.09,0.03,0.1,0.01,0.06,0.06,0.07,0.28,0.02,2.01,0.09,0.86,0.02,0.1,0.07,0.09,0.0,1.5,0.02,0.02,0.06,4.78,0.0,0.04,0.05,0.03,0.05,0.1,0.1,0.05,0.05,0.02,0.07,0.25,0.06,0.07,0.02,0.04,0.03,0.1,0.01,0.04,0.09,0.1,0.95,0.07,0.06,0.01,0.33,0.1,0.07,0.01,0.02,0.07,0.03,3.55,0.07,0.02,0.06,0.03,0.03,2.74,0.03,0.09,0.07,3.91,0.09,0.02,0.08,0.06,0.31,0.03,0.09,0.01,0.09,4.44,3.15,0.08,0.0,0.09,2.73,0.33,0.09,0.02,0.26,0.08,0.04,0.94,0.01,0.03,0.09,0.03,0.11,0.05,0.07,2.81,0.0,0.13,0.05,0.07,0.03,3.88,0.03,0.15,0.0,0.6,0.05,0.08,0.03,0.1,0.09,0.02,0.18,0.03,0.09,0.08,0.07,0.08,0.0,0.27,0.02,0.03,0.09,0.06,0.01,0.06,0.08,0.89,0.06,0.08,1.75,0.08,0.06,0.24,0.08,0.02,0.65,0.01,2.77,0.08,0.01,0.09,0.15,0.77,0.07,0.25,0.03,0.09,0.83,0.07,0.0,0.08,0.06,0.1,0.01,0.0,0.07,0.1,0.01,2.37,0.0,0.0,0.07,0.08,4.11,0.03,0.07,0.06,0.09,3.17,0.1,0.05,0.82,0.03,0.01,0.06,0.02,3.19,0.07,0.03,0.02,0.09,0.0,0.04,0.0,0.01,0.01,4.31,0.04,0.08,0.32,0.05,0.05,0.09,0.06,0.02,0.09,2.41,0.09,1.91,0.05,0.02,0.04,0.1,0.07,1.66,0.01,0.03,0.02,0.08,0.01,0.07,0.15,1.43,0.03,0.09,0.03,0.01,0.07,0.07,0.04,2.31,0.0,0.07,0.09,0.01,0.03,0.17,0.1,0.07,0.01,0.1,0.04,0.04,0.08,0.07,0.07,0.03,3.64,0.25,0.77,2.51,0.1,0.02,0.01,0.07,0.08,0.06,0.21,0.1,0.08,0.12,0.02,0.06,0.02,0.03,0.06,0.05,0.04,0.08,0.02,4.31,0.01,0.58,0.04,0.06,2.02,0.0,0.06,0.09,0.07,0.04,0.06,0.03,0.1,3.33,0.03,0.03,0.09,0.07,0.08,0.15,0.1,2.74,0.09,0.07,0.02,0.02,2.76,0.14,0.02,0.08,0.08,0.0,0.0,0.0,0.02,0.03,0.19,0.1,0.16],\"y\":[0.07,0.003,0.09,0.02,0.001,0.08,0.09,0.02,0.04,0.09,0.05,0.005,0.1,0.06,0.01,0.01,0.008,0.03,0.1,0.08,0.006,0.12,0.01,0.08,0.001,0.1,0.01,0.05,0.03,0.005,0.03,0.03,0.1,0.02,0.13,0.11,0.08,0.006,0.1,0.0,0.02,0.009,0.01,0.08,0.08,0.001,0.08,0.07,0.006,0.02,0.06,0.05,0.02,0.05,0.12,0.07,0.09,0.004,0.1,0.03,0.05,0.09,0.09,0.09,0.06,0.05,0.01,0.1,0.06,0.007,0.02,0.04,0.02,0.05,0.001,0.1,0.03,0.001,0.05,0.11,0.07,0.05,0.07,0.005,0.1,0.004,0.0,0.08,0.02,0.03,0.07,0.09,0.05,0.005,0.03,0.01,0.005,0.01,0.003,0.1,0.01,0.08,0.05,0.05,0.009,0.02,0.001,0.07,0.008,0.0,0.1,0.02,0.12,0.01,0.07,0.02,0.09,0.1,0.08,0.005,0.07,0.001,0.01,0.01,0.006,0.03,0.07,0.005,0.06,0.02,0.05,0.005,0.003,0.02,0.09,0.0,0.004,0.04,0.09,0.05,0.007,0.05,0.08,0.07,0.03,0.06,0.1,0.04,0.006,0.009,0.08,0.05,0.05,0.002,0.07,0.007,0.02,0.001,0.05,0.07,0.08,0.09,0.07,0.11,0.08,0.002,0.008,0.02,0.02,0.001,0.06,0.01,0.002,0.02,0.05,0.05,0.003,0.007,0.05,0.09,0.09,0.04,0.005,0.08,0.02,0.07,0.001,0.03,0.06,0.002,0.02,0.09,0.03,0.006,0.05,0.02,0.01,0.04,0.05,0.09,0.07,0.04,0.09,0.0,0.002,0.006,0.09,0.06,0.001,0.04,0.009,0.0,0.09,0.02,0.02,0.003,0.09,0.008,0.06,0.05,0.02,0.06,0.05,0.05,0.07,0.09,0.06,0.06,0.09,0.001,0.01,0.0,0.11,0.007,0.01,0.05,0.11,0.03,0.1,0.05,0.001,0.07,0.08,0.001,0.004,0.005,0.05,0.007,0.05,0.03,0.05,0.03,0.08,0.05,0.02,0.09,0.006,0.01,0.002,0.07,0.0,0.04,0.09,0.05,0.11,0.09,0.007,0.09,0.06,0.01,0.04,0.04,0.0,0.06,0.1,0.01,0.01,0.02,0.002,0.04,0.003,0.09,0.09,0.06,0.02,0.007,0.01,0.001,0.07,0.12,0.05,0.06,0.009,0.07,0.05,0.06,0.09,0.12,0.001,0.09,0.0,0.05,0.02,0.01,0.09,0.006,0.11,0.01,0.13,0.08,0.12,0.07,0.04,0.007,0.05,0.02,0.0,0.007,0.1,0.1,0.11,0.01,0.05,0.03,0.02,0.12,0.006,0.05,0.08,0.0,0.07,0.008,0.0,0.06,0.06,0.04,0.08,0.07,0.04,0.04,0.1,0.0,0.08,0.006,0.008,0.01,0.12,0.06,0.07,0.007,0.02,0.08,0.002,0.01,0.04,0.07,0.03,0.01,0.05,0.06,0.05,0.03,0.06,0.002,0.12,0.03,0.06,0.006,0.09,0.04,0.07,0.07,0.03,0.07,0.09,0.01,0.09,0.08,0.01,0.06,0.0,0.007,0.03,0.05,0.12,0.01,0.09,0.1,0.07,0.03,0.08,0.04,0.004,0.08,0.02,0.04,0.09,0.02,0.005,0.007,0.01,0.03,0.002,0.004,0.006,0.1,0.001,0.006,0.002,0.08,0.01,0.005,0.12,0.005,0.1,0.005,0.06,0.05,0.1,0.02,0.07,0.04,0.009,0.04,0.09,0.03,0.08,0.008,0.0,0.03,0.05,0.08,0.06,0.08,0.03,0.09,0.01,0.1,0.08,0.03,0.06,0.04,0.001,0.05,0.06,0.001,0.12,0.05,0.001,0.05,0.04,0.1,0.001,0.08,0.06,0.05,0.02,0.02,0.04,0.07,0.08,0.09,0.08,0.0,0.04,0.06,0.01,0.003,0.12,0.03,0.05,0.001,0.06,0.04,0.04,0.01,0.02,0.0,0.003,0.09,0.0,0.04,0.04,0.1,0.08,0.004,0.02,0.02,0.002,0.05,0.02,0.06,0.06,0.09,0.03,0.09,0.008,0.05,0.02,0.06,0.04,0.003,0.02,0.04,0.007,0.03,0.004,0.03,0.03,0.03,0.04,0.02,0.09,0.06,0.02,0.04,0.02,0.003,0.05,0.04,0.01,0.07,0.12,0.07,0.02,0.01,0.001,0.07,0.03,0.0,0.03,0.1,0.09,0.09,0.01,0.06,0.01,0.12,0.11,0.02,0.1,0.04,0.002,0.11,0.11,0.001,0.02,0.09,0.01,0.1,0.08,0.05,0.008,0.004,0.03,0.05,0.0,0.06,0.0,0.07,0.06,0.09,0.01,0.05,0.008,0.09,0.02,0.02,0.06,0.01,0.02,0.06,0.06,0.12,0.03,0.02,0.04,0.04,0.006,0.03,0.09,0.006,0.03,0.01,0.005,0.06,0.1,0.09,0.1,0.04,0.008,0.05,0.07,0.06,0.0,0.09,0.05,0.1,0.001,0.09,0.006,0.0,0.008,0.04,0.01,0.07,0.05,0.07,0.02,0.006,0.05,0.05,0.06,0.002,0.001,0.002,0.06,0.08,0.11,0.03,0.002,0.01,0.1,0.001,0.05,0.08,0.08,0.02,0.02,0.07,0.04,0.04,0.01,0.07,0.1,0.02,0.02,0.05,0.01,0.02,0.06,0.008,0.002,0.07,0.004,0.02,0.07,0.008,0.09,0.02,0.001,0.02,0.01,0.05,0.07,0.007,0.03,0.04,0.04,0.09,0.03,0.02,0.02,0.03,0.05,0.02,0.005,0.05,0.07,0.09,0.11,0.02,0.06,0.04,0.001,0.08,0.1,0.06,0.08,0.13,0.06,0.009,0.04,0.07,0.03,0.08,0.03,0.003,0.009,0.01,0.0,0.05,0.09,0.1,0.02,0.004,0.002,0.06,0.008,0.01,0.01,0.03,0.003,0.06,0.003,0.07,0.09,0.06,0.1,0.09,0.09,0.03,0.008,0.07,0.008,0.005,0.004,0.09,0.01,0.08,0.06,0.0,0.13,0.04,0.03,0.002,0.09,0.09,0.09,0.04,0.01,0.07,0.04,0.08,0.1,0.05,0.08,0.03,0.1,0.12,0.02,0.005,0.02,0.07,0.01,0.07,0.09,0.01,0.04,0.06,0.08,0.13,0.03,0.001,0.07,0.03,0.009,0.005,0.1,0.11,0.008,0.04,0.01,0.03,0.002,0.06,0.06,0.1,0.07,0.01,0.08,0.006,0.01,0.006,0.01,0.002,0.05,0.0,0.04,0.09,0.01,0.05,0.12,0.01,0.02,0.04,0.05,0.01,0.05,0.02,0.09,0.002,0.03,0.05,0.04,0.08,0.004,0.0,0.03,0.09,0.13,0.08,0.06,0.07,0.08,0.03,0.006,0.04,0.04,0.03,0.008,0.01,0.02,0.06,0.1,0.05,0.09,0.08,0.01,0.1,0.08,0.1,0.07,0.02,0.001,0.005,0.05,0.01,0.04,0.1,0.1,0.04,0.06,0.04,0.03,0.05,0.001,0.04,0.002,0.001,0.08,0.03,0.001,0.03,0.08,0.0,0.01,0.04,0.007,0.05,0.004,0.07,0.12,0.04,0.06,0.09,0.04,0.02,0.01,0.12,0.07,0.05,0.1,0.03,0.06,0.06,0.01,0.06,0.02,0.08,0.03,0.1,0.008,0.09,0.03,0.01,0.03,0.005,0.04,0.003,0.003,0.05,0.08,0.05,0.01,0.08,0.11,0.03,0.02,0.01,0.02,0.002,0.007,0.04,0.1,0.02,0.07,0.07,0.09,0.01,0.02,0.001,0.08,0.07,0.04,0.04,0.06,0.07,0.04,0.01,0.01,0.1],\"z\":[4.96,2.38,0.32,0.07,3.15,0.12,4.15,4.12,4.68,0.02,0.18,3.1,6.53,0.06,0.04,4.03,2.97,0.27,3.42,6.72,5.42,1.94,0.45,0.58,2.38,1.31,3.67,0.38,0.04,2.28,0.06,3.67,4.46,7.68,7.12,6.53,0.21,7.48,0.13,0.25,0.29,5.9,0.15,0.08,0.38,0.19,0.17,0.09,3.04,0.12,0.31,3.7,2.76,0.04,1.34,0.08,0.03,2.77,0.42,0.29,0.01,0.24,0.62,0.32,0.02,0.02,3.99,4.0,0.17,7.97,0.05,0.19,0.06,2.25,7.17,2.41,0.04,5.21,2.38,7.73,2.25,0.03,0.07,3.83,6.96,5.47,0.03,0.07,0.1,4.66,0.06,4.61,2.22,2.15,0.01,5.3,7.12,0.01,2.56,0.04,6.34,8.19,0.08,0.06,6.68,1.05,7.42,0.04,3.51,0.09,7.07,0.36,5.3,0.19,0.0,0.3,7.38,0.19,0.1,3.01,7.98,4.95,0.5,0.18,0.23,0.44,0.58,4.96,3.63,0.07,0.25,6.77,3.7,8.32,0.09,0.09,4.0,3.57,0.26,0.27,7.87,0.04,6.05,0.03,6.55,0.35,0.17,4.55,6.1,5.02,0.07,0.14,7.85,5.71,0.0,6.57,0.01,6.7,0.04,0.09,6.89,0.46,0.06,4.91,0.05,6.98,3.43,6.86,6.07,5.33,5.61,0.07,4.73,6.97,1.21,0.47,4.38,0.67,5.06,0.36,0.57,0.06,4.57,0.08,0.01,5.34,4.07,0.07,0.27,5.71,2.91,0.0,0.06,6.79,0.25,0.4,0.19,0.14,0.02,4.61,0.19,0.16,3.43,0.09,2.73,1.87,0.0,1.09,1.12,0.07,3.48,0.04,0.32,0.08,0.13,3.44,0.08,2.26,0.28,0.1,0.18,0.48,0.02,0.13,0.16,0.06,1.4,0.05,0.38,4.95,0.24,0.36,2.84,5.98,0.22,0.19,4.69,6.3,0.03,0.07,4.18,0.02,0.1,7.17,1.36,3.95,4.55,6.69,0.16,0.16,0.36,0.4,3.28,6.49,0.02,0.07,3.7,0.62,7.89,0.06,0.02,5.8,0.01,0.07,6.51,6.23,7.4,0.1,7.0,0.08,0.07,0.05,0.48,0.64,0.69,0.07,0.08,0.44,6.45,0.6,7.83,0.07,0.03,2.87,4.02,1.36,0.39,1.21,0.55,3.19,0.34,7.83,7.55,0.39,4.82,0.05,0.16,4.57,1.16,4.06,0.08,0.01,0.04,4.03,0.1,5.89,1.1,0.04,1.66,0.27,5.18,0.03,0.17,4.08,0.05,0.44,0.02,2.37,0.04,8.52,3.67,0.03,0.19,0.09,0.14,4.68,4.93,0.52,0.08,5.79,0.52,6.25,0.24,0.05,0.09,0.07,5.65,2.36,6.98,0.25,0.26,0.07,0.71,5.42,7.81,0.04,4.43,0.14,0.1,6.63,0.01,0.08,2.73,0.6,0.3,0.03,0.46,0.08,0.01,5.25,1.02,0.2,0.19,3.16,0.79,0.55,0.06,6.48,0.44,0.59,0.09,0.29,0.01,2.66,0.02,0.08,0.05,0.25,6.85,7.0,0.41,7.87,1.53,0.38,2.1,4.05,3.43,0.26,0.1,0.06,3.97,0.38,3.76,4.21,0.32,6.11,0.12,0.06,5.99,4.1,4.93,5.86,1.94,1.67,4.93,0.21,6.2,0.08,2.5,0.58,0.34,3.11,4.19,1.18,3.49,7.08,0.06,0.44,0.17,0.13,0.09,0.05,7.78,4.67,0.02,0.14,2.74,6.25,0.44,4.82,8.19,0.01,7.12,4.69,1.82,0.03,3.67,0.05,0.1,3.07,0.97,0.02,5.72,0.32,1.43,6.53,2.51,0.31,4.08,0.06,0.19,0.06,0.88,0.61,4.82,0.09,0.05,0.09,0.04,0.04,4.44,0.07,0.02,0.24,0.02,0.01,0.0,2.01,3.44,0.38,0.02,5.07,0.09,3.03,1.5,0.02,0.12,0.1,0.05,0.05,0.38,0.44,0.15,0.13,0.03,1.88,0.08,6.95,6.13,7.02,0.07,7.33,0.16,0.05,0.07,6.91,0.53,8.31,0.09,0.06,0.17,2.87,0.12,0.13,6.37,0.03,5.59,4.03,0.56,5.81,7.08,0.61,0.16,0.26,0.04,6.68,0.04,7.16,0.03,0.25,0.08,6.2,6.37,7.03,0.28,0.12,5.92,0.07,0.06,0.24,4.99,0.1,0.11,0.22,0.24,2.02,0.23,3.19,3.77,0.11,0.5,0.15,3.36,3.04,6.59,3.58,4.37,0.11,0.06,6.98,0.07,1.3,1.9,2.4,0.11,2.21,0.05,0.44,0.43,0.08,6.08,0.3,0.04,0.05,2.95,0.5,0.3,0.04,3.69,0.16,0.24,0.09,3.53,4.19,4.6,0.04,0.25,0.1,6.12,0.06,0.04,4.93,0.39,5.1,5.29,0.09,4.35,4.8,0.08,0.01,1.58,1.21,6.41,0.05,0.08,0.46,0.01,6.98,5.33,0.05,0.29,2.36,3.41,0.34,0.08,0.02,0.42,5.41,0.04,6.25,5.86,0.41,0.06,3.42,5.68,7.12,0.03,0.32,3.04,0.08,4.42,0.08,5.27,3.41,0.03,0.06,0.09,0.18,4.42,0.06,0.68,0.02,3.31,0.24,0.04,0.17,0.23,0.29,0.07,0.09,0.05,7.0,6.13,0.15,4.54,0.05,0.1,1.94,0.62,0.07,6.7,0.06,0.06,0.18,6.12,4.9,0.05,0.25,0.02,5.67,0.08,0.4,0.63,0.12,2.96,0.02,0.01,0.06,0.04,0.12,2.57,2.61,2.14,0.25,3.78,0.32,4.05,0.07,0.11,8.22,0.18,5.17,0.07,0.04,0.0,0.02,0.8,7.8,3.47,0.08,0.07,2.94,5.67,0.04,0.21,1.36,7.83,0.12,5.38,0.06,0.09,0.36,6.14,4.52,0.94,0.01,2.55,0.1,4.0,0.32,0.08,5.69,3.43,0.02,3.71,0.68,4.16,0.05,0.04,6.0,0.29,0.02,3.83,0.48,5.97,4.37,0.11,0.01,0.02,0.02,2.03,0.03,0.17,0.06,0.1,0.05,0.16,0.01,4.65,6.16,0.22,0.46,0.61,0.48,5.83,0.09,0.46,3.54,0.03,3.48,0.07,0.33,0.41,0.26,6.13,0.06,1.36,7.08,0.04,2.1,4.4,0.09,6.71,0.4,3.91,7.61,0.29,6.86,0.08,0.06,5.64,5.43,0.21,2.29,0.09,6.98,0.04,0.07,0.2,0.08,7.9,0.22,4.19,4.5,4.37,0.08,0.01,0.08,4.65,0.24,0.12,7.33,0.38,0.59,0.01,0.1,6.58,0.0,3.74,6.72,8.22,5.58,0.4,0.04,0.11,0.02,3.49,0.14,1.5,0.04,6.24,0.0,0.08,3.93,7.94,0.02,6.77,0.27,0.39,0.96,0.08,0.59,0.54,5.58,5.07,6.1,0.3,0.04,0.23,0.28,6.86,6.72,5.75,0.29,1.98,0.06,1.62,0.25,4.24,3.07,0.1,0.47,3.15,0.14,2.45,0.56,6.06,7.83,7.52,4.83,4.54,6.13,5.92,0.14,0.03,0.2,0.03,0.03,0.07,5.49,0.09,0.05,2.8,0.11,1.88,0.03,0.08,0.06,0.25,0.31,0.01,0.27,7.35,0.01,1.87,0.19,6.47,4.9,0.01,2.54,2.4,5.58,0.01,0.26,0.08,0.21,5.62,7.12,3.1,0.44,6.29,7.83,2.8,0.14,2.17,0.15,0.09,3.55,0.46,1.16,6.77,3.41,0.09,0.01,0.09,0.01,0.06,6.2,0.09,5.22,0.03,0.31],\"type\":\"scatter3d\"},{\"customdata\":[[\"1\"],[\"1\"],[\"1\"],[\"1\"],[\"1\"],[\"1\"],[\"1\"],[\"1\"],[\"1\"],[\"1\"],[\"1\"],[\"1\"],[\"1\"],[\"1\"],[\"1\"],[\"1\"],[\"1\"],[\"1\"],[\"1\"],[\"1\"],[\"1\"],[\"1\"],[\"1\"],[\"1\"],[\"1\"],[\"1\"],[\"1\"],[\"1\"],[\"1\"],[\"1\"],[\"1\"],[\"1\"],[\"1\"],[\"1\"],[\"1\"],[\"1\"],[\"1\"],[\"1\"],[\"1\"],[\"1\"],[\"1\"],[\"1\"],[\"1\"],[\"1\"],[\"1\"],[\"1\"],[\"1\"],[\"1\"],[\"1\"],[\"1\"],[\"1\"],[\"1\"],[\"1\"],[\"1\"],[\"1\"],[\"1\"],[\"1\"],[\"1\"],[\"1\"],[\"1\"],[\"1\"],[\"1\"],[\"1\"],[\"1\"],[\"1\"],[\"1\"],[\"1\"],[\"1\"],[\"1\"],[\"1\"],[\"1\"],[\"1\"],[\"1\"],[\"1\"],[\"1\"],[\"1\"],[\"1\"],[\"1\"],[\"1\"],[\"1\"],[\"1\"],[\"1\"],[\"1\"],[\"1\"],[\"1\"],[\"1\"],[\"1\"],[\"1\"],[\"1\"],[\"1\"],[\"1\"],[\"1\"],[\"1\"],[\"1\"],[\"1\"],[\"1\"],[\"1\"],[\"1\"],[\"1\"],[\"1\"],[\"1\"],[\"1\"],[\"1\"],[\"1\"],[\"1\"],[\"1\"],[\"1\"],[\"1\"],[\"1\"],[\"1\"],[\"1\"],[\"1\"],[\"1\"],[\"1\"],[\"1\"],[\"1\"],[\"1\"],[\"1\"],[\"1\"],[\"1\"],[\"1\"],[\"1\"],[\"1\"],[\"1\"],[\"1\"],[\"1\"],[\"1\"],[\"1\"],[\"1\"],[\"1\"],[\"1\"],[\"1\"],[\"1\"],[\"1\"],[\"1\"],[\"1\"],[\"1\"],[\"1\"],[\"1\"],[\"1\"],[\"1\"],[\"1\"],[\"1\"],[\"1\"],[\"1\"],[\"1\"],[\"1\"],[\"1\"],[\"1\"],[\"1\"],[\"1\"],[\"1\"],[\"1\"],[\"1\"],[\"1\"],[\"1\"],[\"1\"],[\"1\"],[\"1\"],[\"1\"],[\"1\"],[\"1\"],[\"1\"],[\"1\"],[\"1\"],[\"1\"],[\"1\"],[\"1\"],[\"1\"],[\"1\"],[\"1\"],[\"1\"],[\"1\"],[\"1\"],[\"1\"],[\"1\"],[\"1\"],[\"1\"],[\"1\"],[\"1\"],[\"1\"],[\"1\"],[\"1\"],[\"1\"],[\"1\"],[\"1\"],[\"1\"],[\"1\"],[\"1\"],[\"1\"],[\"1\"],[\"1\"],[\"1\"],[\"1\"],[\"1\"],[\"1\"],[\"1\"],[\"1\"],[\"1\"],[\"1\"],[\"1\"],[\"1\"],[\"1\"],[\"1\"],[\"1\"],[\"1\"],[\"1\"],[\"1\"],[\"1\"],[\"1\"],[\"1\"],[\"1\"],[\"1\"],[\"1\"],[\"1\"],[\"1\"],[\"1\"],[\"1\"],[\"1\"],[\"1\"],[\"1\"],[\"1\"],[\"1\"],[\"1\"],[\"1\"],[\"1\"],[\"1\"],[\"1\"],[\"1\"],[\"1\"],[\"1\"],[\"1\"],[\"1\"],[\"1\"],[\"1\"],[\"1\"],[\"1\"],[\"1\"],[\"1\"],[\"1\"],[\"1\"],[\"1\"],[\"1\"],[\"1\"],[\"1\"],[\"1\"],[\"1\"],[\"1\"],[\"1\"],[\"1\"],[\"1\"],[\"1\"],[\"1\"],[\"1\"],[\"1\"],[\"1\"],[\"1\"],[\"1\"],[\"1\"],[\"1\"],[\"1\"],[\"1\"],[\"1\"],[\"1\"],[\"1\"],[\"1\"],[\"1\"],[\"1\"],[\"1\"],[\"1\"],[\"1\"],[\"1\"],[\"1\"],[\"1\"],[\"1\"],[\"1\"],[\"1\"],[\"1\"],[\"1\"],[\"1\"],[\"1\"],[\"1\"],[\"1\"],[\"1\"],[\"1\"],[\"1\"],[\"1\"],[\"1\"],[\"1\"],[\"1\"],[\"1\"],[\"1\"],[\"1\"],[\"1\"],[\"1\"],[\"1\"],[\"1\"],[\"1\"],[\"1\"],[\"1\"],[\"1\"],[\"1\"],[\"1\"],[\"1\"],[\"1\"],[\"1\"],[\"1\"],[\"1\"],[\"1\"],[\"1\"],[\"1\"],[\"1\"],[\"1\"],[\"1\"],[\"1\"],[\"1\"],[\"1\"],[\"1\"],[\"1\"],[\"1\"],[\"1\"],[\"1\"],[\"1\"],[\"1\"],[\"1\"],[\"1\"],[\"1\"],[\"1\"],[\"1\"],[\"1\"],[\"1\"],[\"1\"],[\"1\"],[\"1\"],[\"1\"],[\"1\"],[\"1\"],[\"1\"],[\"1\"],[\"1\"],[\"1\"],[\"1\"],[\"1\"],[\"1\"],[\"1\"],[\"1\"],[\"1\"],[\"1\"],[\"1\"],[\"1\"],[\"1\"],[\"1\"],[\"1\"],[\"1\"],[\"1\"],[\"1\"],[\"1\"],[\"1\"],[\"1\"],[\"1\"],[\"1\"],[\"1\"],[\"1\"],[\"1\"],[\"1\"],[\"1\"],[\"1\"],[\"1\"],[\"1\"],[\"1\"],[\"1\"],[\"1\"],[\"1\"],[\"1\"],[\"1\"],[\"1\"],[\"1\"],[\"1\"],[\"1\"],[\"1\"],[\"1\"],[\"1\"],[\"1\"],[\"1\"],[\"1\"],[\"1\"],[\"1\"],[\"1\"],[\"1\"],[\"1\"],[\"1\"],[\"1\"],[\"1\"],[\"1\"],[\"1\"],[\"1\"],[\"1\"],[\"1\"],[\"1\"],[\"1\"],[\"1\"],[\"1\"],[\"1\"],[\"1\"],[\"1\"],[\"1\"],[\"1\"],[\"1\"],[\"1\"],[\"1\"],[\"1\"],[\"1\"],[\"1\"],[\"1\"],[\"1\"],[\"1\"],[\"1\"],[\"1\"],[\"1\"],[\"1\"],[\"1\"],[\"1\"],[\"1\"],[\"1\"],[\"1\"],[\"1\"],[\"1\"],[\"1\"],[\"1\"],[\"1\"],[\"1\"],[\"1\"],[\"1\"],[\"1\"],[\"1\"],[\"1\"],[\"1\"],[\"1\"],[\"1\"],[\"1\"],[\"1\"],[\"1\"],[\"1\"],[\"1\"],[\"1\"],[\"1\"],[\"1\"],[\"1\"],[\"1\"],[\"1\"],[\"1\"],[\"1\"],[\"1\"],[\"1\"],[\"1\"],[\"1\"],[\"1\"],[\"1\"],[\"1\"],[\"1\"],[\"1\"],[\"1\"],[\"1\"],[\"1\"],[\"1\"],[\"1\"],[\"1\"],[\"1\"],[\"1\"],[\"1\"],[\"1\"],[\"1\"],[\"1\"],[\"1\"],[\"1\"],[\"1\"],[\"1\"],[\"1\"],[\"1\"],[\"1\"],[\"1\"],[\"1\"],[\"1\"],[\"1\"],[\"1\"],[\"1\"],[\"1\"],[\"1\"],[\"1\"],[\"1\"],[\"1\"],[\"1\"],[\"1\"],[\"1\"],[\"1\"],[\"1\"],[\"1\"],[\"1\"],[\"1\"],[\"1\"],[\"1\"],[\"1\"],[\"1\"],[\"1\"],[\"1\"],[\"1\"],[\"1\"],[\"1\"],[\"1\"],[\"1\"],[\"1\"],[\"1\"],[\"1\"],[\"1\"],[\"1\"],[\"1\"],[\"1\"],[\"1\"],[\"1\"],[\"1\"],[\"1\"],[\"1\"],[\"1\"],[\"1\"],[\"1\"],[\"1\"],[\"1\"],[\"1\"],[\"1\"],[\"1\"],[\"1\"],[\"1\"],[\"1\"],[\"1\"],[\"1\"],[\"1\"],[\"1\"],[\"1\"],[\"1\"],[\"1\"],[\"1\"],[\"1\"],[\"1\"],[\"1\"],[\"1\"],[\"1\"],[\"1\"],[\"1\"],[\"1\"],[\"1\"],[\"1\"],[\"1\"],[\"1\"],[\"1\"],[\"1\"],[\"1\"],[\"1\"],[\"1\"],[\"1\"],[\"1\"],[\"1\"],[\"1\"],[\"1\"],[\"1\"],[\"1\"],[\"1\"],[\"1\"],[\"1\"],[\"1\"],[\"1\"],[\"1\"],[\"1\"],[\"1\"],[\"1\"],[\"1\"],[\"1\"],[\"1\"],[\"1\"],[\"1\"],[\"1\"],[\"1\"],[\"1\"],[\"1\"],[\"1\"],[\"1\"],[\"1\"],[\"1\"],[\"1\"],[\"1\"],[\"1\"],[\"1\"],[\"1\"],[\"1\"],[\"1\"],[\"1\"],[\"1\"],[\"1\"],[\"1\"],[\"1\"],[\"1\"],[\"1\"],[\"1\"],[\"1\"],[\"1\"],[\"1\"],[\"1\"],[\"1\"],[\"1\"],[\"1\"],[\"1\"],[\"1\"],[\"1\"],[\"1\"],[\"1\"],[\"1\"],[\"1\"],[\"1\"],[\"1\"],[\"1\"],[\"1\"],[\"1\"],[\"1\"],[\"1\"],[\"1\"],[\"1\"],[\"1\"],[\"1\"],[\"1\"],[\"1\"],[\"1\"],[\"1\"],[\"1\"],[\"1\"],[\"1\"],[\"1\"],[\"1\"],[\"1\"],[\"1\"],[\"1\"],[\"1\"],[\"1\"],[\"1\"],[\"1\"],[\"1\"],[\"1\"],[\"1\"],[\"1\"],[\"1\"],[\"1\"],[\"1\"],[\"1\"],[\"1\"],[\"1\"],[\"1\"],[\"1\"],[\"1\"],[\"1\"],[\"1\"],[\"1\"],[\"1\"],[\"1\"],[\"1\"],[\"1\"],[\"1\"],[\"1\"],[\"1\"],[\"1\"],[\"1\"],[\"1\"],[\"1\"],[\"1\"],[\"1\"],[\"1\"],[\"1\"],[\"1\"],[\"1\"],[\"1\"],[\"1\"],[\"1\"],[\"1\"],[\"1\"],[\"1\"],[\"1\"],[\"1\"],[\"1\"],[\"1\"],[\"1\"],[\"1\"],[\"1\"],[\"1\"],[\"1\"],[\"1\"],[\"1\"],[\"1\"],[\"1\"],[\"1\"],[\"1\"],[\"1\"],[\"1\"],[\"1\"],[\"1\"],[\"1\"],[\"1\"],[\"1\"],[\"1\"],[\"1\"],[\"1\"],[\"1\"],[\"1\"],[\"1\"],[\"1\"],[\"1\"],[\"1\"],[\"1\"],[\"1\"],[\"1\"],[\"1\"],[\"1\"],[\"1\"],[\"1\"],[\"1\"],[\"1\"],[\"1\"],[\"1\"],[\"1\"],[\"1\"],[\"1\"],[\"1\"],[\"1\"],[\"1\"],[\"1\"],[\"1\"],[\"1\"],[\"1\"],[\"1\"],[\"1\"],[\"1\"],[\"1\"],[\"1\"],[\"1\"],[\"1\"],[\"1\"],[\"1\"],[\"1\"],[\"1\"],[\"1\"],[\"1\"],[\"1\"],[\"1\"],[\"1\"],[\"1\"],[\"1\"],[\"1\"],[\"1\"],[\"1\"],[\"1\"],[\"1\"],[\"1\"],[\"1\"],[\"1\"],[\"1\"],[\"1\"],[\"1\"],[\"1\"],[\"1\"],[\"1\"],[\"1\"],[\"1\"],[\"1\"],[\"1\"],[\"1\"],[\"1\"],[\"1\"],[\"1\"],[\"1\"],[\"1\"],[\"1\"],[\"1\"],[\"1\"],[\"1\"],[\"1\"],[\"1\"],[\"1\"],[\"1\"],[\"1\"],[\"1\"],[\"1\"],[\"1\"],[\"1\"],[\"1\"],[\"1\"],[\"1\"],[\"1\"],[\"1\"],[\"1\"],[\"1\"],[\"1\"],[\"1\"],[\"1\"],[\"1\"],[\"1\"],[\"1\"],[\"1\"],[\"1\"],[\"1\"],[\"1\"],[\"1\"],[\"1\"],[\"1\"],[\"1\"],[\"1\"],[\"1\"],[\"1\"],[\"1\"],[\"1\"],[\"1\"],[\"1\"],[\"1\"],[\"1\"],[\"1\"],[\"1\"],[\"1\"],[\"1\"],[\"1\"],[\"1\"],[\"1\"],[\"1\"],[\"1\"],[\"1\"],[\"1\"],[\"1\"],[\"1\"],[\"1\"],[\"1\"],[\"1\"],[\"1\"],[\"1\"],[\"1\"],[\"1\"],[\"1\"],[\"1\"],[\"1\"],[\"1\"],[\"1\"],[\"1\"],[\"1\"],[\"1\"],[\"1\"],[\"1\"],[\"1\"],[\"1\"],[\"1\"],[\"1\"],[\"1\"],[\"1\"],[\"1\"],[\"1\"],[\"1\"],[\"1\"],[\"1\"],[\"1\"],[\"1\"],[\"1\"],[\"1\"],[\"1\"],[\"1\"],[\"1\"],[\"1\"],[\"1\"],[\"1\"],[\"1\"],[\"1\"],[\"1\"],[\"1\"],[\"1\"],[\"1\"],[\"1\"],[\"1\"],[\"1\"],[\"1\"],[\"1\"],[\"1\"],[\"1\"],[\"1\"],[\"1\"],[\"1\"],[\"1\"],[\"1\"],[\"1\"],[\"1\"],[\"1\"],[\"1\"],[\"1\"],[\"1\"],[\"1\"],[\"1\"],[\"1\"],[\"1\"],[\"1\"],[\"1\"],[\"1\"],[\"1\"],[\"1\"],[\"1\"],[\"1\"],[\"1\"],[\"1\"],[\"1\"],[\"1\"],[\"1\"],[\"1\"],[\"1\"]],\"hovertemplate\":\"is_safe=%{customdata[0]}<br>aluminium=%{x}<br>cadmium=%{y}<br>chloramine=%{z}<extra></extra>\",\"legendgroup\":\"1\",\"marker\":{\"color\":\"#EF553B\",\"symbol\":\"circle\",\"size\":2},\"mode\":\"markers\",\"name\":\"1\",\"scene\":\"scene\",\"showlegend\":true,\"x\":[1.65,2.32,1.36,0.92,0.94,0.6,0.22,1.35,1.88,4.93,2.89,0.61,3.47,2.11,4.12,0.68,1.15,0.27,3.31,1.82,4.41,1.69,1.87,2.71,4.49,3.52,4.35,3.37,1.51,2.68,0.3,0.23,2.55,4.32,0.24,0.42,0.77,0.6,0.58,3.82,2.78,3.62,4.64,2.25,0.54,4.62,2.5,3.08,2.73,3.02,2.35,2.45,3.3,1.19,0.85,0.5,1.89,3.75,1.75,0.94,2.76,0.43,2.63,0.88,3.03,4.91,1.15,4.8,1.62,2.68,0.09,4.66,2.74,3.52,1.82,2.91,3.53,3.04,2.21,1.92,2.12,4.21,2.56,3.94,1.22,0.8,3.31,2.59,3.9,0.18,0.07,2.71,4.34,0.92,2.39,0.9,0.89,4.91,3.37,3.69,4.71,4.5,2.69,4.3,2.17,5.0,2.6,0.35,3.83,2.9,1.56,4.34,2.23,3.81,1.12,4.0,1.55,2.56,2.99,1.36,3.83,0.47,0.01,3.62,2.82,1.05,1.21,3.35,1.75,1.86,0.54,0.29,3.29,0.22,2.35,4.04,3.6,3.71,0.61,3.05,0.84,1.98,4.18,3.27,0.59,0.36,1.4,1.46,0.93,0.78,4.48,0.71,0.87,2.69,1.21,4.36,0.57,2.14,0.15,2.01,1.72,4.38,3.73,2.97,2.32,3.95,2.22,3.84,3.97,3.73,2.71,3.24,3.85,2.91,3.44,2.2,1.14,0.0,1.14,0.09,2.9,4.07,1.44,3.89,2.09,4.79,0.19,4.77,3.81,0.76,3.36,4.27,1.9,1.44,4.26,3.19,1.24,3.36,3.29,2.94,0.49,2.82,4.19,2.26,3.05,0.78,3.67,2.94,0.93,3.59,3.46,2.79,1.77,0.39,1.07,0.62,4.64,1.09,2.5,3.96,3.49,3.46,2.89,0.27,0.9,0.83,0.72,3.12,3.98,4.39,1.09,4.44,0.78,2.06,0.95,2.24,4.0,0.39,2.33,2.54,1.93,3.91,3.09,4.53,4.71,1.81,4.62,4.18,1.12,0.14,3.01,3.51,1.4,1.77,1.99,0.84,2.14,3.93,4.73,3.69,3.01,1.15,4.66,4.73,2.33,1.34,3.62,1.82,1.79,0.18,3.01,2.04,2.8,3.34,1.92,0.93,2.46,1.36,1.77,2.92,1.38,1.55,2.78,0.63,0.24,3.79,3.0,4.79,2.64,1.36,0.65,0.24,2.65,4.84,4.29,4.3,4.13,2.01,2.02,3.81,4.35,4.39,0.99,3.38,1.66,0.33,1.65,3.25,3.72,4.04,0.35,4.15,1.54,1.71,0.15,4.76,0.7,0.87,2.99,4.96,2.79,3.13,4.7,0.36,3.57,0.01,2.06,4.05,4.98,4.55,2.77,1.52,4.95,0.19,1.45,2.69,2.45,0.5,3.52,2.24,0.95,1.65,2.08,1.49,1.08,4.11,3.36,2.1,4.85,0.71,4.77,2.2,0.11,2.22,2.08,2.88,2.21,2.1,1.08,4.08,4.5,2.05,1.55,0.41,0.97,4.25,1.19,0.96,4.65,2.78,3.97,0.46,3.0,1.87,3.59,4.03,1.06,1.22,4.03,2.67,2.24,2.63,4.38,3.59,2.01,3.15,3.25,4.06,4.49,1.88,1.39,1.92,3.38,1.03,0.92,4.93,1.48,3.69,3.85,3.61,3.18,3.74,4.82,4.98,2.38,0.92,3.01,3.62,0.71,0.25,0.53,3.79,2.47,1.82,4.35,3.99,0.21,1.93,0.55,1.08,0.41,0.54,0.92,2.97,0.32,2.91,1.37,4.72,0.31,1.37,2.33,4.74,4.61,1.2,1.28,3.48,1.79,3.62,1.19,3.48,1.35,2.63,3.14,3.54,0.43,0.56,1.81,4.1,3.47,4.27,0.76,0.69,3.85,0.36,4.59,0.93,0.26,2.04,1.54,1.4,1.08,0.81,0.94,0.43,0.32,0.58,0.16,0.45,0.45,3.2,1.27,4.39,1.86,2.41,1.51,3.13,2.85,0.23,2.25,2.54,2.45,3.13,4.39,1.55,2.56,0.42,2.13,4.75,3.93,0.86,2.06,4.78,3.43,4.81,0.48,2.67,3.21,3.83,1.14,0.17,2.27,1.32,2.89,4.2,2.29,0.43,2.99,1.75,1.25,1.01,1.95,4.35,3.2,0.85,0.05,2.93,3.99,1.4,0.31,4.36,2.46,3.6,3.88,1.41,1.01,2.91,0.42,0.29,1.7,4.36,3.18,0.19,2.73,3.65,2.91,2.24,1.86,0.53,4.98,1.16,1.06,1.27,4.13,3.82,3.52,4.19,3.47,0.5,0.03,0.31,0.49,4.76,3.42,3.79,0.06,1.72,0.6,4.55,2.25,0.67,4.27,2.16,3.47,2.66,4.87,3.88,0.34,0.02,0.93,3.67,2.74,2.36,2.72,3.54,0.52,2.46,0.18,2.5,2.36,2.48,0.68,3.72,4.76,2.54,0.91,0.42,4.32,0.44,3.5,0.75,3.26,2.76,0.75,4.55,1.12,0.99,3.71,3.56,1.5,0.56,1.05,4.96,0.22,3.28,3.92,4.19,2.75,2.82,1.34,3.45,2.58,2.64,2.72,4.69,3.51,3.73,2.17,0.36,3.68,3.62,0.15,2.1,1.34,1.74,3.68,3.87,1.32,2.54,0.0,0.16,3.57,4.39,2.59,0.47,4.7,1.13,0.28,4.4,0.8,3.59,1.69,4.51,4.91,3.94,0.05,2.72,4.57,1.14,2.47,2.26,4.33,0.97,0.34,1.56,0.9,3.37,4.2,3.09,3.95,0.12,4.47,2.16,0.83,0.76,0.24,3.41,2.75,1.14,1.98,3.06,4.34,3.77,1.56,2.82,0.24,2.13,1.02,3.79,3.4,1.42,3.53,2.02,2.71,0.99,0.1,2.03,0.24,0.58,1.11,4.6,2.77,0.23,2.53,2.69,3.56,4.95,3.92,0.98,0.52,4.96,0.09,0.01,0.06,0.07,0.17,0.27,0.06,0.1,0.08,0.09,0.08,0.03,0.07,0.24,0.02,0.34,0.03,0.12,0.16,0.24,0.05,0.17,0.01,0.05,0.03,0.1,0.29,0.01,0.05,0.1,0.07,0.28,0.01,0.05,0.18,0.08,0.03,0.07,0.09,0.29,0.1,0.09,0.04,0.13,0.16,0.09,0.02,0.05,0.0,0.04,0.02,0.09,0.09,0.06,0.05,0.13,0.27,0.09,0.14,0.03,0.22,0.07,0.13,0.12,0.18,0.12,0.39,0.01,0.11,0.05,0.03,0.04,0.33,0.03,0.03,0.05,0.12,0.26,0.02,0.02,0.03,0.07,0.16,0.05,0.19,0.05,0.08,0.06,0.09,0.2,0.06,0.19,0.02,0.22,0.01,0.06,0.39,0.02,0.06,0.06,0.05,0.1,0.07,0.07,0.06,0.05,0.07,0.02,0.07,0.03,0.02,0.05,0.06,0.06,0.01,0.09,0.05,0.03,0.1,0.03,0.08,0.02,0.04,0.09,0.04,0.05,0.08,0.04,0.03,0.09,0.04,0.01,0.07,0.08,0.06,0.0,0.04,0.07,0.09,0.01,0.06,0.02,0.02,0.04,0.06,0.03,0.03,0.03,0.06,0.05,0.06,0.04,0.06,0.03,0.05,0.06,0.09,0.0,0.03,0.01,0.07,0.04,0.05,0.08,0.06,0.04,0.08,0.01,0.07,0.09,0.1,0.06,0.04,0.01,0.02,0.06,0.01,0.1,0.04,0.01,0.07,0.09,0.08,0.07,0.08,0.08,0.01,0.09,0.0,0.04,0.03,0.09,0.05,0.07,0.08,0.09,0.02,0.09,0.1,0.05,0.02,0.03,0.04,0.07,0.03,0.04,0.02,0.05,0.05,0.09,0.01,0.04],\"y\":[0.007,0.002,0.001,0.006,0.003,0.005,0.007,0.002,0.008,0.008,0.008,0.002,0.001,0.009,0.006,0.006,0.007,0.001,0.001,0.006,0.007,0.002,0.008,0.006,0.005,0.006,0.004,0.003,0.003,0.002,0.007,0.002,0.004,0.001,0.008,0.008,0.006,0.002,0.007,0.001,0.009,0.003,0.008,0.002,0.001,0.005,0.004,0.003,0.005,0.004,0.009,0.004,0.008,0.008,0.006,0.004,0.001,0.006,0.001,0.005,0.005,0.001,0.007,0.009,0.006,0.005,0.005,0.006,0.001,0.007,0.001,0.001,0.005,0.007,0.009,0.008,0.002,0.001,0.008,0.008,0.003,0.008,0.003,0.006,0.001,0.002,0.002,0.003,0.008,0.006,0.002,0.003,0.005,0.004,0.005,0.001,0.008,0.001,0.004,0.008,0.003,0.009,0.005,0.004,0.002,0.005,0.003,0.004,0.003,0.005,0.008,0.005,0.001,0.003,0.003,0.001,0.006,0.004,0.007,0.005,0.003,0.001,0.009,0.004,0.007,0.005,0.007,0.006,0.001,0.006,0.003,0.007,0.006,0.006,0.005,0.004,0.003,0.004,0.002,0.005,0.003,0.005,0.004,0.005,0.007,0.003,0.008,0.002,0.002,0.008,0.008,0.003,0.003,0.005,0.007,0.008,0.001,0.008,0.002,0.004,0.004,0.003,0.004,0.008,0.009,0.007,0.009,0.004,0.008,0.008,0.005,0.003,0.007,0.007,0.001,0.006,0.007,0.007,0.003,0.007,0.003,0.004,0.006,0.008,0.004,0.003,0.001,0.002,0.005,0.002,0.006,0.004,0.005,0.008,0.002,0.006,0.004,0.008,0.008,0.004,0.005,0.004,0.004,0.003,0.001,0.005,0.002,0.001,0.004,0.007,0.006,0.005,0.001,0.005,0.006,0.003,0.005,0.003,0.003,0.004,0.003,0.001,0.002,0.001,0.008,0.001,0.001,0.006,0.001,0.005,0.002,0.003,0.006,0.006,0.003,0.001,0.003,0.006,0.008,0.002,0.009,0.002,0.006,0.001,0.007,0.001,0.002,0.002,0.001,0.007,0.004,0.001,0.009,0.007,0.001,0.005,0.007,0.001,0.006,0.009,0.008,0.005,0.003,0.003,0.006,0.003,0.009,0.001,0.001,0.004,0.002,0.005,0.006,0.005,0.001,0.001,0.002,0.005,0.007,0.001,0.008,0.002,0.008,0.003,0.001,0.005,0.001,0.007,0.005,0.008,0.001,0.003,0.007,0.005,0.002,0.001,0.001,0.006,0.001,0.002,0.005,0.007,0.002,0.003,0.009,0.005,0.007,0.005,0.002,0.003,0.004,0.007,0.004,0.006,0.002,0.001,0.008,0.005,0.008,0.001,0.005,0.002,0.005,0.006,0.001,0.002,0.007,0.005,0.001,0.001,0.002,0.006,0.001,0.008,0.005,0.001,0.006,0.002,0.001,0.003,0.007,0.002,0.002,0.001,0.008,0.007,0.005,0.008,0.001,0.002,0.001,0.003,0.001,0.007,0.003,0.002,0.007,0.005,0.006,0.005,0.005,0.005,0.006,0.005,0.006,0.008,0.002,0.006,0.008,0.006,0.001,0.001,0.001,0.008,0.004,0.008,0.006,0.007,0.005,0.006,0.008,0.007,0.009,0.004,0.005,0.003,0.001,0.003,0.002,0.008,0.007,0.008,0.009,0.005,0.001,0.005,0.005,0.004,0.001,0.009,0.008,0.005,0.007,0.007,0.002,0.007,0.003,0.003,0.006,0.005,0.001,0.001,0.002,0.001,0.001,0.003,0.005,0.006,0.006,0.001,0.005,0.001,0.005,0.001,0.002,0.009,0.001,0.005,0.007,0.002,0.003,0.001,0.001,0.006,0.009,0.002,0.001,0.004,0.007,0.002,0.006,0.005,0.008,0.006,0.002,0.006,0.002,0.004,0.009,0.006,0.001,0.007,0.005,0.001,0.009,0.007,0.005,0.002,0.002,0.009,0.009,0.007,0.002,0.003,0.008,0.006,0.004,0.003,0.006,0.002,0.008,0.008,0.001,0.008,0.001,0.006,0.002,0.002,0.009,0.002,0.001,0.008,0.003,0.007,0.001,0.008,0.005,0.001,0.004,0.008,0.004,0.008,0.008,0.005,0.003,0.002,0.006,0.003,0.001,0.004,0.004,0.006,0.005,0.004,0.003,0.006,0.006,0.009,0.008,0.002,0.001,0.007,0.006,0.003,0.005,0.008,0.007,0.007,0.004,0.003,0.001,0.004,0.005,0.001,0.003,0.005,0.004,0.005,0.008,0.001,0.008,0.004,0.003,0.004,0.003,0.006,0.003,0.008,0.003,0.002,0.007,0.008,0.001,0.004,0.003,0.003,0.007,0.008,0.004,0.009,0.001,0.005,0.001,0.008,0.008,0.007,0.003,0.004,0.009,0.004,0.007,0.009,0.001,0.005,0.004,0.008,0.002,0.003,0.004,0.007,0.001,0.001,0.001,0.008,0.008,0.008,0.005,0.003,0.006,0.006,0.005,0.002,0.005,0.005,0.005,0.009,0.006,0.008,0.004,0.005,0.006,0.009,0.006,0.007,0.008,0.004,0.004,0.007,0.004,0.007,0.001,0.002,0.001,0.006,0.008,0.004,0.004,0.001,0.004,0.004,0.007,0.002,0.006,0.003,0.005,0.001,0.003,0.008,0.006,0.001,0.007,0.005,0.009,0.008,0.007,0.001,0.009,0.001,0.006,0.001,0.002,0.001,0.001,0.006,0.002,0.006,0.003,0.006,0.006,0.007,0.001,0.002,0.007,0.006,0.008,0.005,0.001,0.001,0.002,0.006,0.002,0.04,0.02,0.12,0.09,0.12,0.12,0.02,0.05,0.02,0.08,0.01,0.13,0.06,0.1,0.05,0.13,0.04,0.07,0.06,0.11,0.03,0.12,0.11,0.1,0.12,0.11,0.1,0.05,0.05,0.12,0.12,0.07,0.1,0.13,0.11,0.03,0.11,0.11,0.09,0.1,0.11,0.03,0.06,0.04,0.04,0.03,0.01,0.04,0.04,0.006,0.007,0.003,0.006,0.006,0.006,0.001,0.008,0.002,0.001,0.003,0.002,0.006,0.008,0.003,0.001,0.001,0.007,0.003,0.009,0.004,0.002,0.002,0.007,0.002,0.003,0.006,0.005,0.006,0.001,0.002,0.006,0.004,0.002,0.005,0.004,0.004,0.008,0.007,0.004,0.001,0.005,0.006,0.002,0.007,0.001,0.004,0.006,0.007,0.05,0.11,0.07,0.07,0.03,0.04,0.02,0.05,0.04,0.06,0.07,0.02,0.08,0.06,0.05,0.01,0.03,0.03,0.04,0.04,0.03,0.1,0.09,0.12,0.06,0.02,0.05,0.13,0.11,0.04,0.11,0.1,0.11,0.09,0.08,0.09,0.03,0.09,0.02,0.09,0.08,0.07,0.03,0.03,0.09,0.02,0.12,0.12,0.08,0.04,0.01,0.06,0.03,0.06,0.05,0.01,0.02,0.0,0.09,0.01,0.08,0.05,0.08,0.07,0.01,0.01,0.06,0.09,0.0,0.04,0.06,0.0,0.02,0.03,0.06,0.08,0.09,0.06,0.03,0.06,0.07,0.05,0.04,0.04,0.06,0.09,0.03,0.07,0.02,0.05,0.09,0.04,0.05,0.06,0.03,0.07,0.08,0.06,0.01,0.04,0.03,0.05,0.07,0.03,0.09,0.08,0.08,0.09,0.03,0.08,0.08,0.06,0.02,0.03,0.05,0.02,0.02,0.04,0.07,0.03,0.06,0.09,0.05,0.02,0.02,0.02,0.06,0.03,0.05,0.04,0.05,0.03,0.06,0.02,0.05,0.01,0.08,0.09,0.03,0.09,0.04,0.08,0.09,0.06,0.02,0.09,0.01,0.06,0.02,0.05,0.08,0.07,0.09,0.09,0.01,0.08,0.04,0.02,0.04,0.01,0.03,0.0,0.03],\"z\":[0.35,5.28,7.23,2.67,0.8,3.14,6.4,0.1,0.05,0.7,5.99,1.94,5.29,7.78,0.01,4.57,3.47,3.74,7.22,2.55,6.63,5.87,2.86,4.0,4.55,4.94,0.64,2.9,5.71,0.22,6.11,0.68,7.7,7.97,6.19,0.9,4.5,0.88,1.13,3.85,6.16,7.06,4.4,4.89,6.57,2.15,2.38,4.77,1.97,3.4,5.27,3.35,7.56,0.13,7.52,3.57,6.02,1.12,0.19,1.85,4.25,2.38,1.89,4.59,6.25,5.22,1.86,7.37,3.07,2.89,3.58,6.75,7.97,1.33,0.63,5.07,4.13,2.52,3.71,1.87,4.3,2.26,3.42,5.65,5.72,0.89,1.57,2.74,0.79,1.69,6.21,1.07,3.95,7.59,0.98,4.95,0.8,2.45,1.36,6.5,6.75,3.61,0.81,4.06,4.42,0.09,3.26,0.85,7.12,3.69,3.41,3.1,1.53,2.4,3.08,7.91,0.07,5.48,0.67,3.91,4.95,0.4,4.69,1.49,2.91,0.88,6.8,7.51,5.92,5.83,5.17,6.13,4.36,5.25,7.24,4.54,1.44,0.0,7.33,5.99,4.62,3.62,5.23,4.57,6.69,6.52,0.83,6.93,5.34,2.84,6.11,3.45,3.71,2.1,1.83,6.81,7.02,7.96,7.07,6.55,6.76,3.5,6.99,1.37,3.47,7.17,6.68,1.48,1.09,1.87,4.6,5.67,3.74,5.06,0.75,0.76,1.77,3.61,1.63,5.61,3.33,6.56,3.04,1.26,5.95,4.38,7.43,0.71,6.03,3.0,3.25,4.79,5.23,3.49,3.48,6.66,6.84,7.58,3.95,2.2,2.11,4.78,2.37,0.19,4.22,1.91,5.4,2.21,1.42,4.84,3.7,6.89,7.18,4.02,6.12,7.12,0.1,1.27,0.83,7.65,3.67,2.13,2.5,5.98,4.76,6.98,3.23,1.87,7.18,4.93,3.03,5.6,1.8,3.05,1.7,7.51,0.73,7.44,6.37,4.52,4.99,4.41,5.66,6.17,1.54,4.34,3.31,2.2,7.38,4.86,4.78,4.16,1.1,2.05,1.68,1.75,5.23,7.93,3.09,7.24,1.41,3.01,6.9,3.15,6.06,5.3,4.33,3.23,0.26,7.25,4.62,5.98,3.67,4.49,1.19,3.66,7.17,2.2,6.12,4.91,5.38,7.83,6.44,5.61,2.59,2.99,1.64,5.42,4.86,0.63,5.17,0.45,4.08,4.81,0.17,6.1,1.77,6.42,0.88,4.27,6.95,3.99,7.96,2.38,2.83,2.46,7.78,2.16,2.83,3.54,4.57,3.15,4.71,6.48,2.73,0.06,4.36,7.79,1.43,1.73,6.89,0.81,6.93,5.85,5.14,6.71,1.78,5.24,5.89,1.23,5.47,3.29,4.07,7.59,4.18,0.81,0.71,5.57,7.3,4.16,4.11,3.42,3.51,7.21,6.26,4.51,1.74,4.75,6.81,0.12,2.4,4.52,6.99,7.17,1.22,6.13,4.1,1.04,2.29,5.67,3.31,4.74,0.21,0.6,2.16,0.4,1.67,0.2,5.35,1.09,3.41,3.04,2.14,6.16,6.0,1.84,0.23,4.02,3.96,5.68,5.12,0.78,1.36,4.7,4.56,3.75,5.1,1.84,7.43,7.81,1.8,1.58,3.05,2.5,7.24,6.85,1.81,4.26,4.85,6.53,0.0,2.71,2.98,2.83,6.13,2.34,3.41,5.0,0.08,5.21,1.51,3.96,2.52,3.78,0.32,1.57,3.17,3.21,4.58,2.41,5.73,6.21,6.07,0.64,1.53,0.48,5.88,4.55,2.94,6.12,2.01,2.55,3.33,3.29,7.85,6.2,7.99,2.12,6.86,4.77,0.1,5.42,4.54,4.43,7.12,0.73,2.8,2.51,3.1,6.5,5.33,7.78,6.68,5.21,5.17,2.37,3.01,3.16,4.54,4.24,4.63,7.86,0.96,6.78,0.34,6.07,2.19,2.35,5.23,4.24,6.23,4.39,5.65,6.26,7.54,3.33,6.32,6.83,5.67,2.03,1.82,6.25,2.92,7.52,1.39,6.92,0.5,6.36,3.53,6.5,2.77,1.9,1.49,0.7,6.81,3.82,3.08,5.71,0.17,4.93,6.28,3.98,1.39,2.32,7.15,6.79,0.51,1.55,6.56,5.68,3.02,3.21,6.58,6.14,4.05,1.65,6.69,7.74,4.59,1.45,7.17,1.41,6.1,5.79,6.76,3.07,3.76,6.97,0.14,5.1,0.4,1.11,3.33,6.09,2.56,5.6,4.14,4.47,1.1,2.56,4.05,6.43,6.3,7.34,1.07,3.09,5.98,0.57,7.49,7.37,1.03,7.72,2.25,5.64,0.83,0.11,3.84,5.66,1.82,5.54,2.92,1.02,0.65,1.77,2.14,1.45,1.51,2.54,1.58,1.36,1.35,5.83,7.85,4.96,7.18,5.87,1.99,0.51,4.47,7.93,3.83,1.96,6.26,1.18,4.79,3.7,6.25,4.37,2.81,7.66,0.26,1.9,3.49,3.35,4.98,0.41,0.38,4.49,3.37,7.67,4.97,6.39,1.79,5.42,5.18,2.47,6.12,4.08,4.13,1.89,0.65,6.6,1.87,1.78,1.99,7.42,4.27,2.96,1.87,4.4,6.9,4.01,7.78,7.93,3.53,3.16,5.06,1.19,4.06,4.18,0.63,0.46,2.35,5.09,3.9,7.43,3.7,3.53,5.43,6.15,1.01,3.02,4.43,5.61,2.69,5.37,7.87,6.54,3.63,5.22,2.46,2.91,3.17,5.79,7.89,6.24,4.64,2.58,0.94,6.39,0.85,6.51,3.28,4.15,7.89,3.75,1.43,1.45,5.08,4.83,0.45,3.17,8.13,5.79,2.03,1.3,2.32,2.77,5.64,6.13,7.18,3.7,2.06,1.16,4.09,4.65,1.6,4.7,4.09,5.93,8.33,2.11,8.66,7.02,2.03,0.4,3.21,4.17,5.36,4.54,2.67,2.99,5.71,7.52,1.12,4.43,2.52,0.79,6.21,7.91,0.54,6.29,5.25,2.84,3.45,7.43,3.67,0.71,1.27,4.99,4.78,0.17,2.83,7.57,5.47,1.22,2.16,2.71,5.59,5.88,6.2,3.65,2.03,0.96,4.05,4.62,1.11,4.47,4.05,5.66,7.85,1.99,7.93,6.6,0.21,3.16,4.0,5.09,4.43,2.77,3.8,5.73,7.54,6.25,4.55,2.72,0.94,6.22,0.84,6.78,3.34,3.52,7.45,3.7,0.88,1.37,5.07,4.81,0.52,2.92,7.59,5.57,1.21,1.3,2.23,2.91,5.72,6.86,6.26,4.01,2.04,1.18,4.85,4.7,1.29,4.62,4.25,6.2,8.05,2.16,8.13,6.7,2.89,0.32,3.19,4.21,5.14,4.94,0.02,0.21,0.49,0.38,0.09,0.3,0.2,0.23,0.2,0.02,0.07,0.02,0.06,0.7,0.3,0.01,0.2,0.03,0.52,0.23,0.17,0.25,0.32,0.55,0.08,0.05,0.01,0.2,0.04,0.08,0.12,0.56,0.46,0.32,0.04,0.35,0.02,0.47,0.01,0.27,0.23,0.05,0.08,0.06,0.49,0.08,0.06,0.42,0.15,0.04,0.67,0.0,0.01,0.09,0.44,0.04,0.17,0.01,0.02,0.32,0.04,0.04,0.07,0.1,0.07,0.06,0.16,0.11,0.01,0.09,0.12,0.5,0.27,0.59,0.09,0.12,0.26,0.1,0.01,0.72,0.34,0.49,0.16,0.06,0.54,0.2,0.13,0.1,0.08,0.22,0.05,0.45,0.07,0.0,0.18,0.02,0.01,0.28,0.32,0.06,0.09,0.48,0.03,0.08,0.04,0.01,0.22,0.08,0.57,0.1,0.45,0.05,2.0,0.05],\"type\":\"scatter3d\"}],                        {\"template\":{\"data\":{\"bar\":[{\"error_x\":{\"color\":\"#2a3f5f\"},\"error_y\":{\"color\":\"#2a3f5f\"},\"marker\":{\"line\":{\"color\":\"#E5ECF6\",\"width\":0.5},\"pattern\":{\"fillmode\":\"overlay\",\"size\":10,\"solidity\":0.2}},\"type\":\"bar\"}],\"barpolar\":[{\"marker\":{\"line\":{\"color\":\"#E5ECF6\",\"width\":0.5},\"pattern\":{\"fillmode\":\"overlay\",\"size\":10,\"solidity\":0.2}},\"type\":\"barpolar\"}],\"carpet\":[{\"aaxis\":{\"endlinecolor\":\"#2a3f5f\",\"gridcolor\":\"white\",\"linecolor\":\"white\",\"minorgridcolor\":\"white\",\"startlinecolor\":\"#2a3f5f\"},\"baxis\":{\"endlinecolor\":\"#2a3f5f\",\"gridcolor\":\"white\",\"linecolor\":\"white\",\"minorgridcolor\":\"white\",\"startlinecolor\":\"#2a3f5f\"},\"type\":\"carpet\"}],\"choropleth\":[{\"colorbar\":{\"outlinewidth\":0,\"ticks\":\"\"},\"type\":\"choropleth\"}],\"contour\":[{\"colorbar\":{\"outlinewidth\":0,\"ticks\":\"\"},\"colorscale\":[[0.0,\"#0d0887\"],[0.1111111111111111,\"#46039f\"],[0.2222222222222222,\"#7201a8\"],[0.3333333333333333,\"#9c179e\"],[0.4444444444444444,\"#bd3786\"],[0.5555555555555556,\"#d8576b\"],[0.6666666666666666,\"#ed7953\"],[0.7777777777777778,\"#fb9f3a\"],[0.8888888888888888,\"#fdca26\"],[1.0,\"#f0f921\"]],\"type\":\"contour\"}],\"contourcarpet\":[{\"colorbar\":{\"outlinewidth\":0,\"ticks\":\"\"},\"type\":\"contourcarpet\"}],\"heatmap\":[{\"colorbar\":{\"outlinewidth\":0,\"ticks\":\"\"},\"colorscale\":[[0.0,\"#0d0887\"],[0.1111111111111111,\"#46039f\"],[0.2222222222222222,\"#7201a8\"],[0.3333333333333333,\"#9c179e\"],[0.4444444444444444,\"#bd3786\"],[0.5555555555555556,\"#d8576b\"],[0.6666666666666666,\"#ed7953\"],[0.7777777777777778,\"#fb9f3a\"],[0.8888888888888888,\"#fdca26\"],[1.0,\"#f0f921\"]],\"type\":\"heatmap\"}],\"heatmapgl\":[{\"colorbar\":{\"outlinewidth\":0,\"ticks\":\"\"},\"colorscale\":[[0.0,\"#0d0887\"],[0.1111111111111111,\"#46039f\"],[0.2222222222222222,\"#7201a8\"],[0.3333333333333333,\"#9c179e\"],[0.4444444444444444,\"#bd3786\"],[0.5555555555555556,\"#d8576b\"],[0.6666666666666666,\"#ed7953\"],[0.7777777777777778,\"#fb9f3a\"],[0.8888888888888888,\"#fdca26\"],[1.0,\"#f0f921\"]],\"type\":\"heatmapgl\"}],\"histogram\":[{\"marker\":{\"pattern\":{\"fillmode\":\"overlay\",\"size\":10,\"solidity\":0.2}},\"type\":\"histogram\"}],\"histogram2d\":[{\"colorbar\":{\"outlinewidth\":0,\"ticks\":\"\"},\"colorscale\":[[0.0,\"#0d0887\"],[0.1111111111111111,\"#46039f\"],[0.2222222222222222,\"#7201a8\"],[0.3333333333333333,\"#9c179e\"],[0.4444444444444444,\"#bd3786\"],[0.5555555555555556,\"#d8576b\"],[0.6666666666666666,\"#ed7953\"],[0.7777777777777778,\"#fb9f3a\"],[0.8888888888888888,\"#fdca26\"],[1.0,\"#f0f921\"]],\"type\":\"histogram2d\"}],\"histogram2dcontour\":[{\"colorbar\":{\"outlinewidth\":0,\"ticks\":\"\"},\"colorscale\":[[0.0,\"#0d0887\"],[0.1111111111111111,\"#46039f\"],[0.2222222222222222,\"#7201a8\"],[0.3333333333333333,\"#9c179e\"],[0.4444444444444444,\"#bd3786\"],[0.5555555555555556,\"#d8576b\"],[0.6666666666666666,\"#ed7953\"],[0.7777777777777778,\"#fb9f3a\"],[0.8888888888888888,\"#fdca26\"],[1.0,\"#f0f921\"]],\"type\":\"histogram2dcontour\"}],\"mesh3d\":[{\"colorbar\":{\"outlinewidth\":0,\"ticks\":\"\"},\"type\":\"mesh3d\"}],\"parcoords\":[{\"line\":{\"colorbar\":{\"outlinewidth\":0,\"ticks\":\"\"}},\"type\":\"parcoords\"}],\"pie\":[{\"automargin\":true,\"type\":\"pie\"}],\"scatter\":[{\"marker\":{\"colorbar\":{\"outlinewidth\":0,\"ticks\":\"\"}},\"type\":\"scatter\"}],\"scatter3d\":[{\"line\":{\"colorbar\":{\"outlinewidth\":0,\"ticks\":\"\"}},\"marker\":{\"colorbar\":{\"outlinewidth\":0,\"ticks\":\"\"}},\"type\":\"scatter3d\"}],\"scattercarpet\":[{\"marker\":{\"colorbar\":{\"outlinewidth\":0,\"ticks\":\"\"}},\"type\":\"scattercarpet\"}],\"scattergeo\":[{\"marker\":{\"colorbar\":{\"outlinewidth\":0,\"ticks\":\"\"}},\"type\":\"scattergeo\"}],\"scattergl\":[{\"marker\":{\"colorbar\":{\"outlinewidth\":0,\"ticks\":\"\"}},\"type\":\"scattergl\"}],\"scattermapbox\":[{\"marker\":{\"colorbar\":{\"outlinewidth\":0,\"ticks\":\"\"}},\"type\":\"scattermapbox\"}],\"scatterpolar\":[{\"marker\":{\"colorbar\":{\"outlinewidth\":0,\"ticks\":\"\"}},\"type\":\"scatterpolar\"}],\"scatterpolargl\":[{\"marker\":{\"colorbar\":{\"outlinewidth\":0,\"ticks\":\"\"}},\"type\":\"scatterpolargl\"}],\"scatterternary\":[{\"marker\":{\"colorbar\":{\"outlinewidth\":0,\"ticks\":\"\"}},\"type\":\"scatterternary\"}],\"surface\":[{\"colorbar\":{\"outlinewidth\":0,\"ticks\":\"\"},\"colorscale\":[[0.0,\"#0d0887\"],[0.1111111111111111,\"#46039f\"],[0.2222222222222222,\"#7201a8\"],[0.3333333333333333,\"#9c179e\"],[0.4444444444444444,\"#bd3786\"],[0.5555555555555556,\"#d8576b\"],[0.6666666666666666,\"#ed7953\"],[0.7777777777777778,\"#fb9f3a\"],[0.8888888888888888,\"#fdca26\"],[1.0,\"#f0f921\"]],\"type\":\"surface\"}],\"table\":[{\"cells\":{\"fill\":{\"color\":\"#EBF0F8\"},\"line\":{\"color\":\"white\"}},\"header\":{\"fill\":{\"color\":\"#C8D4E3\"},\"line\":{\"color\":\"white\"}},\"type\":\"table\"}]},\"layout\":{\"annotationdefaults\":{\"arrowcolor\":\"#2a3f5f\",\"arrowhead\":0,\"arrowwidth\":1},\"autotypenumbers\":\"strict\",\"coloraxis\":{\"colorbar\":{\"outlinewidth\":0,\"ticks\":\"\"}},\"colorscale\":{\"diverging\":[[0,\"#8e0152\"],[0.1,\"#c51b7d\"],[0.2,\"#de77ae\"],[0.3,\"#f1b6da\"],[0.4,\"#fde0ef\"],[0.5,\"#f7f7f7\"],[0.6,\"#e6f5d0\"],[0.7,\"#b8e186\"],[0.8,\"#7fbc41\"],[0.9,\"#4d9221\"],[1,\"#276419\"]],\"sequential\":[[0.0,\"#0d0887\"],[0.1111111111111111,\"#46039f\"],[0.2222222222222222,\"#7201a8\"],[0.3333333333333333,\"#9c179e\"],[0.4444444444444444,\"#bd3786\"],[0.5555555555555556,\"#d8576b\"],[0.6666666666666666,\"#ed7953\"],[0.7777777777777778,\"#fb9f3a\"],[0.8888888888888888,\"#fdca26\"],[1.0,\"#f0f921\"]],\"sequentialminus\":[[0.0,\"#0d0887\"],[0.1111111111111111,\"#46039f\"],[0.2222222222222222,\"#7201a8\"],[0.3333333333333333,\"#9c179e\"],[0.4444444444444444,\"#bd3786\"],[0.5555555555555556,\"#d8576b\"],[0.6666666666666666,\"#ed7953\"],[0.7777777777777778,\"#fb9f3a\"],[0.8888888888888888,\"#fdca26\"],[1.0,\"#f0f921\"]]},\"colorway\":[\"#636efa\",\"#EF553B\",\"#00cc96\",\"#ab63fa\",\"#FFA15A\",\"#19d3f3\",\"#FF6692\",\"#B6E880\",\"#FF97FF\",\"#FECB52\"],\"font\":{\"color\":\"#2a3f5f\"},\"geo\":{\"bgcolor\":\"white\",\"lakecolor\":\"white\",\"landcolor\":\"#E5ECF6\",\"showlakes\":true,\"showland\":true,\"subunitcolor\":\"white\"},\"hoverlabel\":{\"align\":\"left\"},\"hovermode\":\"closest\",\"mapbox\":{\"style\":\"light\"},\"paper_bgcolor\":\"white\",\"plot_bgcolor\":\"#E5ECF6\",\"polar\":{\"angularaxis\":{\"gridcolor\":\"white\",\"linecolor\":\"white\",\"ticks\":\"\"},\"bgcolor\":\"#E5ECF6\",\"radialaxis\":{\"gridcolor\":\"white\",\"linecolor\":\"white\",\"ticks\":\"\"}},\"scene\":{\"xaxis\":{\"backgroundcolor\":\"#E5ECF6\",\"gridcolor\":\"white\",\"gridwidth\":2,\"linecolor\":\"white\",\"showbackground\":true,\"ticks\":\"\",\"zerolinecolor\":\"white\"},\"yaxis\":{\"backgroundcolor\":\"#E5ECF6\",\"gridcolor\":\"white\",\"gridwidth\":2,\"linecolor\":\"white\",\"showbackground\":true,\"ticks\":\"\",\"zerolinecolor\":\"white\"},\"zaxis\":{\"backgroundcolor\":\"#E5ECF6\",\"gridcolor\":\"white\",\"gridwidth\":2,\"linecolor\":\"white\",\"showbackground\":true,\"ticks\":\"\",\"zerolinecolor\":\"white\"}},\"shapedefaults\":{\"line\":{\"color\":\"#2a3f5f\"}},\"ternary\":{\"aaxis\":{\"gridcolor\":\"white\",\"linecolor\":\"white\",\"ticks\":\"\"},\"baxis\":{\"gridcolor\":\"white\",\"linecolor\":\"white\",\"ticks\":\"\"},\"bgcolor\":\"#E5ECF6\",\"caxis\":{\"gridcolor\":\"white\",\"linecolor\":\"white\",\"ticks\":\"\"}},\"title\":{\"x\":0.05},\"xaxis\":{\"automargin\":true,\"gridcolor\":\"white\",\"linecolor\":\"white\",\"ticks\":\"\",\"title\":{\"standoff\":15},\"zerolinecolor\":\"white\",\"zerolinewidth\":2},\"yaxis\":{\"automargin\":true,\"gridcolor\":\"white\",\"linecolor\":\"white\",\"ticks\":\"\",\"title\":{\"standoff\":15},\"zerolinecolor\":\"white\",\"zerolinewidth\":2}}},\"scene\":{\"domain\":{\"x\":[0.0,1.0],\"y\":[0.0,1.0]},\"xaxis\":{\"title\":{\"text\":\"aluminium\",\"font\":{\"size\":10}},\"tickfont\":{\"size\":10},\"backgroundcolor\":\"white\",\"color\":\"black\",\"gridcolor\":\"#f0f0f0\"},\"yaxis\":{\"title\":{\"text\":\"cadmium\",\"font\":{\"size\":10}},\"tickfont\":{\"size\":10},\"backgroundcolor\":\"white\",\"color\":\"black\",\"gridcolor\":\"#f0f0f0\"},\"zaxis\":{\"title\":{\"text\":\"chloramine\",\"font\":{\"size\":10}},\"tickfont\":{\"size\":10},\"backgroundcolor\":\"lightgrey\",\"color\":\"black\",\"gridcolor\":\"#f0f0f0\"},\"camera\":{\"up\":{\"x\":0,\"y\":0,\"z\":1},\"center\":{\"x\":0,\"y\":0,\"z\":-0.2},\"eye\":{\"x\":-1.5,\"y\":1.5,\"z\":0.5}}},\"legend\":{\"title\":{\"text\":\"is_safe\"},\"tracegroupgap\":0,\"orientation\":\"h\",\"yanchor\":\"top\",\"y\":0,\"xanchor\":\"center\",\"x\":0.5},\"margin\":{\"t\":0,\"l\":0,\"r\":0,\"b\":0},\"height\":900,\"width\":900,\"showlegend\":true},                        {\"responsive\": true}                    ).then(function(){\n",
       "                            \n",
       "var gd = document.getElementById('7a44943d-3da6-4f54-ac65-71e28fbdba2a');\n",
       "var x = new MutationObserver(function (mutations, observer) {{\n",
       "        var display = window.getComputedStyle(gd).display;\n",
       "        if (!display || display === 'none') {{\n",
       "            console.log([gd, 'removed!']);\n",
       "            Plotly.purge(gd);\n",
       "            observer.disconnect();\n",
       "        }}\n",
       "}});\n",
       "\n",
       "// Listen for the removal of the full notebook cells\n",
       "var notebookContainer = gd.closest('#notebook-container');\n",
       "if (notebookContainer) {{\n",
       "    x.observe(notebookContainer, {childList: true});\n",
       "}}\n",
       "\n",
       "// Listen for the clearing of the current output cell\n",
       "var outputEl = gd.closest('.output');\n",
       "if (outputEl) {{\n",
       "    x.observe(outputEl, {childList: true});\n",
       "}}\n",
       "\n",
       "                        })                };                });            </script>        </div>"
      ]
     },
     "metadata": {},
     "output_type": "display_data"
    }
   ],
   "source": [
    "fig = px.scatter_3d(OriginalDataForLDA, \n",
    "                    x=OriginalDataForLDA['aluminium'], y=OriginalDataForLDA['cadmium'], z=OriginalDataForLDA['chloramine'],\n",
    "                    color=OriginalDataForLDA['is_safe'],\n",
    "                    color_discrete_sequence=['#636EFA','#EF553B','#00CC96'], \n",
    "                    hover_data=['chloramine','aluminium', 'cadmium','is_safe'],\n",
    "                    height=900, width=900\n",
    "                   )\n",
    "\n",
    "# Update chart looks\n",
    "fig.update_layout(#title_text=\"Scatter 3D Plot\",\n",
    "                  showlegend=True,\n",
    "                  legend=dict(orientation=\"h\", yanchor=\"top\", y=0, xanchor=\"center\", x=0.5),\n",
    "                  scene_camera=dict(up=dict(x=0, y=0, z=1), \n",
    "                                        center=dict(x=0, y=0, z=-0.2),\n",
    "                                        eye=dict(x=-1.5, y=1.5, z=0.5)),\n",
    "                                        margin=dict(l=0, r=0, b=0, t=0),\n",
    "                  scene = dict(xaxis=dict(backgroundcolor='white',\n",
    "                                          color='black',\n",
    "                                          gridcolor='#f0f0f0',\n",
    "                                          title_font=dict(size=10),\n",
    "                                          tickfont=dict(size=10),\n",
    "                                         ),\n",
    "                               yaxis=dict(backgroundcolor='white',\n",
    "                                          color='black',\n",
    "                                          gridcolor='#f0f0f0',\n",
    "                                          title_font=dict(size=10),\n",
    "                                          tickfont=dict(size=10),\n",
    "                                          ),\n",
    "                               zaxis=dict(backgroundcolor='lightgrey',\n",
    "                                          color='black', \n",
    "                                          gridcolor='#f0f0f0',\n",
    "                                          title_font=dict(size=10),\n",
    "                                          tickfont=dict(size=10),\n",
    "                                         )))\n",
    "\n",
    "# Update marker size\n",
    "fig.update_traces(marker=dict(size=2))\n",
    "\n",
    "fig.show()"
   ]
  },
  {
   "cell_type": "code",
   "execution_count": 73,
   "id": "b4bc0cfd",
   "metadata": {},
   "outputs": [],
   "source": [
    "# Select features\n",
    "X=OriginalDataForLDA[['aluminium', 'cadmium', 'chloramine']]\n",
    "# Select target\n",
    "y=OriginalDataForLDA['is_safe'].astype('category')\n",
    "X_train, X_test, y_train, y_test = train_test_split(X, y, test_size = 0.25)\n",
    "# Get scaler\n",
    "scaler=StandardScaler()\n",
    "# Perform standard scaling on model features\n",
    "X_std_train=scaler.fit_transform(X_train)"
   ]
  },
  {
   "cell_type": "code",
   "execution_count": 74,
   "id": "80bbf565",
   "metadata": {},
   "outputs": [
    {
     "name": "stdout",
     "output_type": "stream",
     "text": [
      "*************** PCA Summary ***************\n",
      "No. of features:  3\n",
      "No. of samples:  1368\n",
      "No. of components:  2\n",
      "Explained variance ratio:  [0.52623928 0.25771004]\n"
     ]
    }
   ],
   "source": [
    "# Select the model and its parameters\n",
    "pca = PCA(n_components=2) # reducing from 3 dimensions to 2\n",
    "\n",
    "# Fit the model\n",
    "X_trans_pca_train=pca.fit_transform(X_std_train)\n",
    "\n",
    "# Print the results\n",
    "print('*************** PCA Summary ***************')\n",
    "print('No. of features: ', pca.n_features_)\n",
    "print('No. of samples: ', pca.n_samples_)\n",
    "print('No. of components: ', pca.n_components_)\n",
    "print('Explained variance ratio: ', pca.explained_variance_ratio_)"
   ]
  },
  {
   "cell_type": "code",
   "execution_count": 75,
   "id": "5ff36e7a",
   "metadata": {},
   "outputs": [
    {
     "data": {
      "application/vnd.plotly.v1+json": {
       "config": {
        "plotlyServerURL": "https://plot.ly"
       },
       "data": [
        {
         "hovertemplate": "is_safe=0<br>PC1=%{x}<br>PC2=%{y}<extra></extra>",
         "legendgroup": "0",
         "marker": {
          "color": "#636efa",
          "opacity": 1,
          "size": 3,
          "symbol": "circle"
         },
         "mode": "markers",
         "name": "0",
         "showlegend": true,
         "type": "scattergl",
         "x": [
          1.6108637576914138,
          -2.611380313492497,
          0.35864021592950973,
          -1.0398517239811764,
          -1.155792454514076,
          -0.4401727383529463,
          -0.6858145989682024,
          1.7411419303970448,
          -0.7052946202519768,
          -1.1915279849388698,
          -0.3187442896763142,
          -0.8417620235466939,
          -1.3375566476013547,
          -0.8114843046331112,
          -0.8202164186587052,
          -0.5712503031097121,
          -0.8703316614043005,
          -1.5281008819006556,
          -0.2263892012825792,
          -1.0276075934707738,
          0.6825815144236189,
          0.6897398261322037,
          -0.7264006762592019,
          -0.42308808386975305,
          -1.43508421616308,
          1.8035817897662723,
          -1.5020463994214428,
          -1.045689109060382,
          -0.353670720545765,
          -1.6599396190263362,
          -1.6828616585887348,
          0.2247922813431177,
          -1.1235689405740914,
          -1.9041131377889664,
          0.3670675798864062,
          -1.9856947725714826,
          -1.1666601503500689,
          -1.2818417337469794,
          -1.1998805253964688,
          -0.6964925080201981,
          -1.9885395490985174,
          -1.1975551568020724,
          -0.7264012958864673,
          -0.8524399325986897,
          -1.154036446271672,
          0.5123440566442392,
          -1.6952955758831352,
          -2.159815619917798,
          -1.0044957671243775,
          0.907902222780144,
          -0.8204062054427022,
          0.5913510770916465,
          -1.777256784233646,
          -0.9526724433228055,
          0.10168160777718031,
          -0.7124384417994071,
          0.4285271417550393,
          0.15596894476716558,
          0.04245872790384685,
          -0.690958887922963,
          -1.1719281750772825,
          -1.3659364986749638,
          -0.854195940841094,
          -1.260677727659911,
          0.595257939566955,
          -2.110507451494621,
          -2.030302251386514,
          -0.19735867571553958,
          0.19304580749206554,
          -0.8559519490834987,
          0.15171304427626076,
          -1.2142602377172709,
          -0.5077522091497298,
          0.2835996053171586,
          0.8677272873216464,
          0.4868767410944141,
          -0.41853756133329933,
          0.22668812395016621,
          -1.2204771963644707,
          -0.6674235080167841,
          0.13248278508925282,
          0.9819407283325586,
          -1.2663233007221935,
          -1.8222937890360253,
          1.3019079254277093,
          -1.2055281236916766,
          -0.558816385815312,
          -1.9803767954249156,
          -1.5009076787174591,
          0.03545229868624729,
          0.8495839870213769,
          -1.1897719766964652,
          -0.9381029442180066,
          0.4718105766327836,
          0.9566529701308937,
          -0.8833349390506929,
          -2.005434416797714,
          -0.9455165736490346,
          -0.18747117225040777,
          -1.7194062885688706,
          1.028001387283011,
          -0.24371842397927965,
          -1.4977752358006444,
          -1.035580560360378,
          -1.0414179454395835,
          -0.875361972161088,
          -1.3065197815517826,
          -0.6879501807786015,
          0.2680237422856277,
          -1.4803110077494563,
          -1.3476651963013586,
          1.4287444453141878,
          2.243220237525024,
          -1.7916364965544471,
          -0.6819230089153989,
          -1.8165043311432478,
          -1.3367975004653654,
          -0.5318129694161126,
          -1.4051062117656166,
          -2.007000638256121,
          -0.562897762652113,
          -0.36250102399077266,
          -1.304763773309378,
          -1.5366432091422522,
          -0.8979044381554921,
          0.07368195547439788,
          -1.9301196930817515,
          -1.695105789099138,
          -0.5392785764994193,
          -1.947204347564945,
          -0.2820498024381181,
          -1.680116786900406,
          -1.8124229543064472,
          -1.7021318473016804,
          -1.2915827570053293,
          -1.5885164853631775,
          1.5909166196579474,
          2.411501884818675,
          -1.50982957952705,
          -1.023146643065978,
          -0.1939655678515489,
          -0.8707112349722952,
          -1.3092247237141736,
          0.21671800958471318,
          -1.3562075235429552,
          1.6638775714482958,
          -0.7085468517466035,
          0.6211115165767267,
          -1.661885414052738,
          0.5597423091011025,
          -0.022160483008101854,
          -1.6830514453727323,
          -0.5485180503313111,
          -1.6791598553199287,
          -0.6747571163482119,
          -1.8265649526568237,
          -0.07476590492241449,
          -1.3070891419037747,
          -0.06686584142891469,
          -1.5220737100374526,
          -1.264527362953851,
          -0.7165198186362081,
          -0.4391822627589401,
          -0.9487808532700023,
          -1.6828616585887348,
          -0.5460028949529172,
          1.6952000767961988,
          1.0026734930129864,
          -2.032248046412916,
          -0.714953597177801,
          -0.5336514871461495,
          -1.721731657163268,
          -0.8547653011930861,
          -0.7083570649626061,
          -1.6885092568839428,
          -1.3162008294973633,
          -1.1763891254820784,
          -0.8262435905219077,
          -0.8258640169539128,
          -1.8598453030159925,
          -1.5121549481214467,
          -1.2226127781748701,
          -0.9524826565388085,
          -0.26379065146206454,
          0.10529555433362099,
          -0.18254185654878718,
          -1.2628112842373846,
          -0.9212281223056419,
          1.4728906746773676,
          -1.5121549481214467,
          1.405360741356572,
          0.1511436839242688,
          0.20701582749436231,
          -1.0398517239811764,
          -0.6421540288402323,
          0.7119923939614816,
          -0.6109793536589412,
          -0.7172789657721974,
          -1.6743193313471376,
          -0.7207909822570064,
          -1.3639907036485623,
          -0.944509689649204,
          0.5319712791747494,
          -1.6599396190263362,
          -1.3396922294117541,
          -0.7224233579981693,
          0.35283528278885073,
          -2.0135971704713156,
          0.1655004452683192,
          -1.1591146842148876,
          0.21969706485071566,
          0.8721882377264419,
          -1.0200621273355917,
          -1.1468705537044848,
          -0.05415993953503963,
          -1.9995970317185077,
          0.7094718894998323,
          -0.547948689979319,
          1.1564813904449613,
          -1.1354334975164997,
          -1.7685246702080515,
          -0.46045983395913836,
          -0.8588466780298871,
          -0.86487384989309,
          -1.503992194447845,
          -1.7885040536376335,
          -0.2827493910632267,
          -0.6930284187218173,
          -2.153598661270598,
          0.14487059388772863,
          -1.4436265434046762,
          -0.53821971484731,
          -0.4852097431553259,
          -1.3352312790069585,
          0.16499599065194148,
          -0.6073002929659423,
          -1.5306160372790496,
          0.7945155939233706,
          -2.028356456360112,
          -0.7206011954730089,
          -0.7003840980730017,
          -1.1305450463572813,
          1.2747969219185122,
          -1.5121549481214467,
          -1.5247786521998443,
          0.6365016470071553,
          1.7049055827368806,
          1.0970090582884946,
          -0.6966822948041954,
          -1.1689855189444658,
          -1.2055281236916766,
          -1.8324023377360283,
          -1.7460363103700625,
          0.5579988653410932,
          -0.02929200167502854,
          -1.8246191576304216,
          0.6166679615230053,
          -1.0291738149291807,
          -2.1778971355074064,
          -1.6517768653527345,
          0.6546387701959604,
          -0.4748213173250903,
          0.04545336168894199,
          -2.153598661270598,
          -0.05711189008722915,
          -0.3795873938932587,
          -0.8978366272299576,
          -0.22576552823175056,
          -1.0161705372827883,
          -0.46525050878378615,
          -0.18941826589421418,
          -1.9477737079169362,
          -1.2611032031814082,
          0.09765262539454587,
          -0.0698256845118615,
          -1.993190286287311,
          -0.15512630951331374,
          -0.7775047824507219,
          0.06266087198759304,
          -1.3785602027533614,
          1.301227237313502,
          -1.8448362550304291,
          1.7153558007118666,
          -1.5179923332006522,
          -1.666536151241531,
          0.5296363044888253,
          0.6014390117199789,
          -2.0928534366594347,
          0.5634989432833216,
          -0.23489170226944917,
          0.5861678987571459,
          0.4735207880514181,
          0.04108774930094776,
          -0.8978366272299576,
          -2.169924168617802,
          -0.86487384989309,
          1.1062796928756162,
          -1.666156577673536,
          0.052247469947680765,
          0.4313094508642293,
          0.5634989432833216,
          0.605311389589727,
          -2.1740055454546026,
          -0.6528319378922282,
          1.1277734233825374,
          -0.12829409105936582,
          -1.9995970317185077,
          -1.134646468980913,
          -0.08843320380598346,
          1.3137341668507838,
          -1.1959889353436655,
          -0.8747926118090962,
          2.6078565027545793,
          0.7478452227175338,
          0.3438155023734782,
          -2.1718699636442036,
          1.2568575775986284,
          -0.6763233378066188,
          -1.828510747683225,
          0.1448290540722313,
          -1.32536044427738,
          0.2592571510885623,
          -0.7005738848569991,
          -0.6421540288402323,
          0.07920072924362741,
          0.3549743987090461,
          -0.7124384417994071,
          -1.8215346419000353,
          -1.1410431915186952,
          -1.8290801080352175,
          -1.6727531098887316,
          -1.4651721482926656,
          0.5850463650032918,
          -1.037146781818785,
          0.07980243454591014,
          -1.6873226089935311,
          -0.8400060153042894,
          0.6825815144236189,
          0.8015242511992724,
          0.3982538863921505,
          0.6255247481960382,
          -0.8198368450907103,
          -0.40564026422438926,
          -1.2964112328517787,
          1.3847049268210543,
          -1.5693062719630004,
          -1.8244293708464239,
          -0.7046552616938,
          -1.9976512366921064,
          -0.09204995228113307,
          0.031196505183597886,
          -1.8199684204416287,
          -2.0153531787137196,
          -0.8522501458146924,
          0.7433630348967573,
          -0.9720824664003955,
          -0.920448929382821,
          -0.9100672007371488,
          -2.138080228245812,
          1.1300046530233707,
          -0.9055598320227959,
          -0.9951942927467914,
          -0.8710908085402901,
          0.5589497193642725,
          -1.4644230240500915,
          -0.34670666288891605,
          -0.7986708137707161,
          -2.014785843594653,
          0.29758941136291756,
          -0.34507895724086934,
          -0.7656881526947419,
          -0.8709010217562927,
          -1.0583128131387793,
          0.5188644630256879,
          -1.9764852053721123,
          1.0975784186404862,
          0.47321017440193247,
          0.7451862876383781,
          -0.0297960394895185,
          -0.8666298581354941,
          -2.0058139903657084,
          -0.8248671558474981,
          -1.5391583645206461,
          0.9372199960765525,
          -0.8203603034891999,
          -0.16687824193462344,
          1.495386823774903,
          -2.139266876136224,
          -1.6213093596551542,
          -0.1560529139423369,
          -2.017488760524119,
          0.7094718894998323,
          -0.49436935793534276,
          0.02816889752833583,
          -1.5679198143951751,
          -0.6819230089153989,
          -1.1591146842148876,
          -1.0454993222763844,
          2.524881349618734,
          -1.1147570707678331,
          -1.1234790586288006,
          -0.03647305595942028,
          0.06860439466279974,
          -1.2474826379965955,
          -0.8835247258346901,
          -1.1964305094573544,
          0.31743160714656793,
          0.2823105109990604,
          -0.7775047824507219,
          1.0049063329433794,
          -1.3682618672693607,
          -0.5439766156718084,
          -0.6580520354330134,
          -0.5378401412793152,
          -1.1591146842148876,
          0.09765262539454587,
          0.14830648825583567,
          -1.8448362550304291,
          1.7019192564259082,
          -0.3375292340974153,
          -1.8201582072256257,
          -1.8139412485784254,
          -0.5522198536001173,
          -1.188633255992481,
          -1.8224835758200224,
          0.2788407590867468,
          0.7652576815173872,
          0.8100991355091484,
          0.4066461498332655,
          -0.46240765421846547,
          1.4463545834287954,
          -0.5850827260982786,
          -1.9056314320609455,
          -2.015542965497717,
          -1.293326717121393,
          1.9654221056104773,
          0.8135882065927725,
          1.5677610198621852,
          -0.5805718232741297,
          -1.8001388942701066,
          -0.8619791209467013,
          -0.7555856796935141,
          -0.2563910953903027,
          -1.9860243937201236,
          -1.4857688192606673,
          -1.534887200899848,
          0.30262013520454917,
          -1.9656175095361192,
          -2.171110816508214,
          -0.6938475411705758,
          -1.8327819113040236,
          -0.48734532496572514,
          -0.5234604289585134,
          -1.5075042109326535,
          -0.7787915417222625,
          -1.03752635538678,
          -0.661943625485817,
          -1.8557039508664224,
          -1.721731657163268,
          -0.09128119905361563,
          0.970637843895285,
          -0.6165511433681242,
          1.7153558007118666,
          -0.08843320380598346,
          -1.697241370909537,
          -1.0144145290403839,
          -1.1628164874836937,
          -1.982702164019312,
          -2.005434416797714,
          -0.690958887922963,
          -1.3398820161957519,
          -1.3663160722429588,
          2.6235110313503136,
          0.3357776297482596,
          0.07920072924362741,
          -1.9930004995033137,
          -1.8528092219200336,
          -1.1905790510188827,
          1.0970090582884946,
          0.6038372837104798,
          0.126886648090269,
          0.6213008902758808,
          -0.7168993922042027,
          -0.6823505096698217,
          0.1037410711879223,
          0.1865415955399302,
          -1.3604786871637535,
          0.3603234240470208,
          -0.6708655262954083,
          0.163380233576069,
          1.0791881099504186,
          -1.3501803516797524,
          -1.2654383925808255,
          -0.2707543974467584,
          -1.21639581952767,
          0.602888141389549,
          -1.6949160023151402,
          -0.7083570649626061,
          -2.0011632531769155,
          -1.3645600640005546,
          0.08073662355058008,
          2.5654401137949776,
          -1.4467110591350625,
          -1.9301196930817515,
          -0.7614169890739437,
          -1.9483430682689284,
          -0.6011984008746537,
          -1.6770242735095298,
          1.285238832419375,
          0.15000699031173179,
          -1.3020588311469867,
          0.7826643762906192,
          -1.2795263880459984,
          0.4546340149713738,
          0.47038418953902034,
          -1.0454993222763844,
          -1.6952955758831352,
          -1.1409133800474667,
          -1.2855435370157857,
          -2.0687926763930524,
          -0.04737554249756189,
          -1.37661440772696,
          1.920089857276762,
          -1.3794792300408265,
          -1.952614231889727,
          -0.6838688039418005,
          -2.145863408351419,
          -1.3249329435229573,
          -1.590272493605582,
          0.13729693282227315,
          -0.40288635658789473,
          0.49301129538371485,
          -0.6772388309842874,
          0.8273774206997675,
          1.4264177818194306,
          -1.6927804205047412,
          0.9686018533929153,
          -0.7371185148371352,
          -1.9301196930817515,
          -1.6539124471631337,
          0.33816910314150883,
          -0.7124384417994071,
          -1.5220737100374526,
          -1.3661262854589615,
          -1.311929665876565,
          -0.8470300482739072,
          -0.3304090369413092,
          -2.138080228245812,
          -1.6368277926799406,
          0.4421878430082109,
          1.2339009575935478,
          0.43131521489085034,
          -0.8112945178491136,
          -1.3499905648957549,
          -0.8874163158874936,
          -0.29129171830482337,
          -1.6203604257351671,
          -1.905251858492951,
          -1.6645903562151299,
          0.593527422031759,
          0.47598183541487527,
          -0.957940468050019,
          0.04545336168894199,
          -0.8743251815287361,
          -1.0307400363875878,
          -1.8085313642536434,
          -1.1959889353436655,
          0.6320215839734707,
          -1.990864917692914,
          -1.8341683688718489,
          -1.177338059402065,
          0.12195494169626069,
          -1.0286044545771884,
          -1.8469718368408279,
          0.8384667356310391,
          0.3001571658793775,
          -1.5512147334799768,
          -0.2550615477561235,
          -1.1975551568020724,
          0.8094702166462752,
          -1.6512075050007424,
          -1.9897261969889297,
          -1.0392823636291844,
          0.5188644630256879,
          0.634067075437635,
          -0.8856603076450895,
          0.362179128727188,
          -1.0171194712027751,
          -0.46095919610494585,
          -1.777256784233646,
          -1.3346219891290285,
          -1.824239584062427,
          0.5091680449619582,
          -0.6724479496172175,
          -1.5848146820943714,
          -0.8559519490834987,
          0.9205836703959639,
          -1.1150809260313312,
          -0.6621853899220931,
          -0.3289768858209251,
          -2.1378904414618143,
          -1.3179568377397677,
          -0.8609822598402861,
          -0.4263205348964847,
          -0.8790637754298944,
          -1.674129544563141,
          -0.6058196445157683,
          -1.818212412199224,
          -1.8557039508664224,
          -0.8643044895410977,
          -1.9803767954249156,
          0.000546168357790869,
          0.794136014779809,
          0.7232936662506735,
          -0.4673659415361432,
          -1.3457194012749567,
          -0.706221483152207,
          -2.005624203581711,
          0.5140277811178041,
          -1.955936461590538,
          -0.3587407524275463,
          -0.6171548739033326,
          0.8800864843879607,
          1.5677610198621852,
          -0.8547653011930861,
          -0.9561844598076146,
          -0.37813358855500573,
          -2.1613818413762047,
          -0.5343281247945064,
          0.5188644630256879,
          -1.2890555535005945,
          1.4069310095637848,
          0.9132013989699767,
          -0.8312739012786956,
          -1.9355295774065335,
          0.6994534311460636,
          -1.2863026841517753,
          0.7324936254999939,
          -0.8278098119803148,
          -0.24371842397927965,
          -1.0713660432045249,
          -1.5121549481214467,
          -1.8553243772984276,
          0.9789998853146786,
          -0.69283863193782,
          -1.2226127781748701,
          -0.7151433839617983,
          -1.2123144426908692,
          -0.21441077313045379,
          -0.7172789657721974,
          -0.6807842882114146,
          -1.943692331080135,
          -1.8780586553097538,
          -1.6622649876207332,
          -1.2855435370157857,
          -0.5077522091497298,
          0.10377372966889024,
          -0.47920464231187976,
          -0.9711396081791848,
          -2.059443274829038,
          -1.177338059402065,
          0.7690208601290556,
          -1.132111267815688,
          -1.0128483075819767,
          -1.6083660573215304,
          -0.5236502157425107,
          -1.0802879440141162,
          -1.6811056503463306,
          2.5602794696353404,
          -1.9017398420081422,
          -1.4979650225846424,
          -0.6674235080167841,
          -1.2915827570053293,
          -1.3501803516797524,
          -1.2800058664526999,
          -1.6927804205047412,
          -1.842510886436033,
          -0.8433282450051011,
          -0.5891440571482482,
          -0.6964925080201981,
          -0.8202164186587052,
          -1.6467465545959468,
          -1.1581178231084728,
          -1.6517768653527345,
          -1.9609667723473263,
          -0.9524826565388085,
          -1.534887200899848
         ],
         "xaxis": "x",
         "y": [
          -0.28348812220234504,
          1.3905382318485728,
          -0.2644282727932105,
          -0.757804440792121,
          -0.5083313134952344,
          -1.2492479771930982,
          -1.1485176959851155,
          0.6401892721760055,
          2.537721876857526,
          -0.5380997299033299,
          1.37499505031761,
          -0.934220913718179,
          -0.33188176191865143,
          -0.8855660954467472,
          -0.9017816116496808,
          -1.3790961517560338,
          -0.9342788013565969,
          -0.11495544230446789,
          1.3454693785684657,
          -0.7577796318042275,
          0.47592868999252325,
          0.18654880224675016,
          0.4522513489250488,
          -1.2276162627056788,
          -0.02297930741977866,
          0.16679606296433652,
          -0.12840083689542545,
          -0.7497173568472316,
          0.9551390927817692,
          0.08859164001980734,
          0.07504700947727684,
          0.8537417491953814,
          -0.4623721898720987,
          0.6442053698662212,
          -0.19124599145386334,
          0.9423415850971707,
          -0.5272507940090956,
          -0.2561790308753137,
          -0.5435159281878157,
          -1.1620375175397526,
          0.5063528079847072,
          -0.5354123049176646,
          1.189201929741522,
          -0.9477407352728162,
          -0.5164266671027542,
          0.6369784020564867,
          0.06962254153015973,
          0.6909225221567039,
          -0.7388353423024729,
          0.9118014522126998,
          -0.9071812706089045,
          1.775043964364861,
          0.3569594388426615,
          -0.6577412219625427,
          1.7834921331708034,
          -1.1512712782718293,
          1.5101328133002987,
          -1.1501824274884784,
          1.0139923238942932,
          2.009980245751414,
          -0.5029647331865349,
          -0.3265399905978454,
          -0.9396453816652962,
          0.12045484599884344,
          0.03512730450012757,
          0.7585133602672595,
          0.4792718165622772,
          -0.694659649902185,
          0.8415038694965007,
          -0.9315500280577762,
          -0.07776436818310464,
          -0.5462447014866366,
          -1.314176199305882,
          -0.2151786379451686,
          0.6384195643729451,
          0.21285913301543638,
          -0.019561371827858488,
          1.262732231511726,
          -0.5489569354601951,
          2.5701942575765493,
          1.5500443198363345,
          -0.7127840445377919,
          -0.22105230382115026,
          0.29477652935396126,
          0.893873408175117,
          -0.530029185283703,
          -1.3736716838089167,
          0.5063693473099696,
          -0.09600288314008183,
          -0.2866802119779622,
          0.007304823735612211,
          -0.54619508351085,
          -0.6496127897044979,
          0.7341167964614308,
          0.7662909058036591,
          -0.9559022461813855,
          0.49012075245651177,
          1.024113673624921,
          0.8137364960756874,
          0.4353661341969266,
          -0.4330116603953683,
          -0.9286763081704601,
          -0.12299290827357034,
          -0.7523965121702663,
          -0.7443094282253768,
          -0.9612853658153471,
          -0.2616283078103244,
          -1.1512216602960426,
          -0.2805347013528875,
          -0.0905618758677031,
          -0.3292026065956173,
          1.9778552620844163,
          0.9658337566022464,
          0.3542306655438404,
          -1.1539090852817078,
          0.3433817296496065,
          -0.3102831260817559,
          -1.3601187836037554,
          2.495792572639496,
          0.5036157650232559,
          -1.3736799534715483,
          1.775777328192247,
          -0.26972366141784443,
          -0.12577129954817767,
          -0.9640306784394301,
          -0.6247281135036383,
          0.6009584802166443,
          0.07502220048938349,
          1.0802877494144103,
          0.5793267657292247,
          -0.22038260529596163,
          1.3344081405190211,
          0.3433899993122375,
          0.46239750764357007,
          1.7644377019080604,
          0.20482075707653255,
          0.7147704333028503,
          0.2097430992080694,
          -0.11761805830223997,
          -0.746972044223149,
          -0.6237914960751973,
          -0.9450781192750443,
          -0.28053124899892284,
          -0.3868702204309646,
          -0.34001846383932705,
          -0.12855567249125702,
          -1.156662667568422,
          0.9179946392671289,
          0.0912873346681041,
          2.6577109101166965,
          -0.4163795326135376,
          0.0696473505180531,
          -1.3709511801727272,
          0.0642559612214607,
          -1.1241985565120305,
          0.2893686007321061,
          -0.6682230930321493,
          -0.2778272846879954,
          -0.41107083994325627,
          -0.1176428672901333,
          1.011310532424475,
          -1.1512795479344602,
          0.15451500194304205,
          -0.6631326112591353,
          0.07504700947727684,
          -1.3574478979433522,
          0.3961831237942995,
          0.05125529369842811,
          0.4819675112105739,
          -1.1647745605012048,
          -1.0535845810647244,
          0.4272625109267756,
          -0.9558443585429676,
          -1.1512630086091982,
          0.08853375238138966,
          -0.3048421188093766,
          -0.5137723207676136,
          -0.8990941866640155,
          -0.8882948687455682,
          2.336934010335813,
          -0.12572168157239103,
          -0.5516608997711228,
          -0.6523415630033188,
          1.9069181350509041,
          0.5889351793023755,
          -0.7737273191341069,
          -0.23724301103619047,
          2.6709079994592697,
          -0.5039172195858878,
          -0.12572168157239103,
          0.07323902024674424,
          -0.09396334506077575,
          -0.12610828309134473,
          -0.757804440792121,
          -1.0674401149704473,
          1.2529170034463821,
          -0.22510693221414946,
          -1.172878183771356,
          0.08586286672098663,
          -1.1566874765563153,
          -0.3292356852461416,
          -0.6577246826372803,
          0.18244628205494637,
          0.08859164001980734,
          -0.33458572622957894,
          2.1084448547679195,
          0.5422014876866303,
          0.4901042131312493,
          -0.24038537600374116,
          -0.4867409473209702,
          -0.20787991663419364,
          0.6492271519540235,
          -0.7172697851161022,
          -0.4867161383330768,
          0.23225998013888466,
          0.48203366851162255,
          0.319679218371959,
          -1.3547522032950559,
          -0.14105301593304265,
          -0.45159768094154445,
          0.37317495504559517,
          2.472085244053182,
          -0.9558526282055984,
          -0.9531652032199336,
          -0.12570514224712864,
          0.327240640410353,
          -0.6895708943061531,
          -1.1215359405142589,
          0.6936347561302626,
          1.5028173729053707,
          -0.03379516466348869,
          -1.3682306765365375,
          -1.311430886681799,
          -0.3237781386484999,
          0.7780307484894127,
          -1.1931692300163168,
          -0.1284587245338431,
          -1.2703722822066124,
          0.4765761219139812,
          -1.1512878175970918,
          -1.15664612824316,
          -0.4866830596825523,
          0.9449572904874574,
          -0.12572168157239103,
          -0.1365458084787318,
          -0.8569772451307361,
          1.410149582023833,
          0.7794027692054137,
          -1.1674371764989764,
          -0.5353544172792464,
          -0.530029185283703,
          0.2974556846769953,
          1.620419326885277,
          0.04454252016859637,
          0.12028381923037336,
          0.28667290608380985,
          0.38225354668827977,
          -0.7442846192374835,
          0.6989847971136999,
          0.08860817934506963,
          0.39947401878258665,
          -1.2880588154616692,
          0.2149225701128346,
          0.6936347561302626,
          -0.6303924016670581,
          1.740664216020698,
          3.524023960808754,
          -0.1284808973749525,
          -0.722661174412695,
          2.1616172583917614,
          -0.8132900975692768,
          0.5631277888515528,
          -0.18864608040317646,
          -0.5994370967897049,
          -0.6618680961573392,
          0.4901455614444051,
          -0.6361277729773672,
          -0.8477023254311317,
          -0.43766726508724085,
          -0.33736411750418643,
          1.2838237088549236,
          0.29203121672987825,
          -0.1771823379580053,
          -0.1176345976275019,
          0.07508008812780155,
          0.2102461349934514,
          0.3372745699686239,
          0.7963440516323508,
          -0.01982512667301152,
          2.697936807980647,
          0.21495174142449391,
          -0.25757551413148067,
          0.7048558980644152,
          3.524023960808754,
          0.6936016774797383,
          -0.9531652032199336,
          0.14958108023794484,
          0.08587940604624901,
          -0.2551962478250503,
          0.06521220910684844,
          -0.01982512667301152,
          0.40369013308934293,
          0.693593407817107,
          -1.0809599365250846,
          0.8258753551924446,
          1.1621096000658797,
          0.48203366851162255,
          2.8175974042903884,
          1.7223566905415393,
          -0.7835230478207807,
          -0.5489073174844084,
          -0.9450863889376756,
          0.545566676855423,
          0.49684981262649963,
          0.9889647737296481,
          0.6962973721280344,
          0.08416596653690041,
          -1.1107035439452866,
          0.2920642953804025,
          -0.4364175631337246,
          -0.2751646686902238,
          -0.7402990013666646,
          -1.1620457872023837,
          -1.0674401149704473,
          -0.1467772287488307,
          0.44904315056307303,
          -1.1512712782718293,
          0.3163751651908563,
          1.15734114453982,
          0.2758653185027314,
          0.07236785415424282,
          -0.06623446673198688,
          0.46574072797594557,
          -0.7389014996035218,
          1.9157300248646834,
          0.06423942189619833,
          -0.9423162673256992,
          0.47592868999252325,
          0.5545966707341935,
          0.2601898223696719,
          0.17737406578417694,
          -0.8909822937312333,
          1.8904161050985302,
          -0.2643074631333583,
          -0.5383829727623943,
          1.8813008026926652,
          0.2920725650430336,
          -1.1620540568650148,
          0.4793379738633262,
          -0.6593509902701368,
          -0.4620277528734814,
          0.30288015262411283,
          0.4981995667387695,
          -0.9423410763135927,
          0.912843070186839,
          -0.6874765597201136,
          -0.6117820983394069,
          1.7759924835685885,
          0.7287614831844266,
          0.9608449446277948,
          1.4709761956195118,
          -0.706420849221868,
          -0.9558774371934922,
          0.40184227074242845,
          1.6075085359226937,
          2.9865882221341153,
          -0.8693423095811822,
          0.8693924363405475,
          1.7973704746612273,
          1.1683942570745662,
          -0.8017845501211516,
          -0.950477778234268,
          -0.7605414837535724,
          0.0779420859985214,
          0.5009779580133772,
          0.7956017460830848,
          -1.0686880195254638,
          0.09095313141965347,
          -0.4775409468856027,
          -0.9450698496124134,
          0.4793214345380642,
          -0.9179888581899832,
          -0.1392745817775526,
          0.5874047638043017,
          -0.6088796621253325,
          1.1606899983880428,
          0.2542971234646793,
          0.7530558136696178,
          0.14266265657572583,
          0.7854455689838471,
          0.4954956024278422,
          0.319679218371959,
          -1.2817534365626457,
          1.8400355634839773,
          0.210261764348912,
          -1.1539090852817078,
          -0.4867409473209702,
          -0.744317697888008,
          0.45658552650280065,
          2.157584802839871,
          0.3663998230164063,
          -0.5476075425702048,
          2.3341007270869527,
          -0.20751594294125061,
          -0.9613019051406091,
          1.8591178011036766,
          -0.22819577186704829,
          1.6016074232071382,
          -0.8477023254311317,
          0.8850016293197278,
          -0.33464361386799674,
          -1.3035885487990526,
          -1.1133661599430584,
          -1.35743135861809,
          -0.4867409473209702,
          -0.5994370967897049,
          -0.21086170565778872,
          0.29203121672987825,
          0.543593571303375,
          0.25326612470898774,
          0.2974804936648886,
          0.300192727638447,
          -1.3601601319169108,
          -0.513797129755507,
          0.2893768703947372,
          2.1347871371429803,
          0.48784046941654857,
          0.6786598560110337,
          1.7517144041127948,
          2.829774831425585,
          1.3623904522418286,
          2.293656678182494,
          0.6010080981924311,
          0.4927999077795458,
          -0.23460520402631177,
          0.7692805807265022,
          -1.1740924105430146,
          -0.08029445420932856,
          1.892778088798933,
          1.5838729981532762,
          -0.9288626030721108,
          0.2605179727281332,
          2.5953238239874845,
          0.5198560902140826,
          -0.07167547400436639,
          -0.13386665315569782,
          1.3330766519089954,
          0.5198974385272381,
          0.7178960079649298,
          0.9206959674312726,
          0.2866563667585479,
          -1.3141348509927264,
          -1.3547025853192691,
          -0.10951443503208848,
          0.24561455258883197,
          -0.7497008175219694,
          -1.107974770646466,
          0.273111736216017,
          0.4272625109267756,
          -0.6736558306418974,
          0.24286462495587677,
          2.9792839758444667,
          -0.1771823379580053,
          1.7223566905415393,
          0.07231823617845613,
          -0.7307565280202151,
          -0.47594989906515384,
          0.4982657240398185,
          0.49012075245651177,
          2.009980245751414,
          -0.3399853851888025,
          -0.33733930851629285,
          0.7768214831743531,
          -0.04026720800721568,
          -0.1467772287488307,
          0.4955452204036288,
          0.2974143363638396,
          -0.5111014351072105,
          0.7794027692054137,
          0.08284282051592061,
          1.410976477065428,
          1.4146946854373348,
          -1.1620788658529082,
          -1.1080161189596214,
          -1.0362327772645363,
          0.8104700505579113,
          -0.3454263924611819,
          -0.13281335048061932,
          -1.1295899458086232,
          -0.4130289525883329,
          -0.6792624351715913,
          -0.34270588882499226,
          2.579764320205608,
          -1.055476536408752,
          -0.5489486657975641,
          0.8639649710243666,
          0.08042185944860725,
          -1.1512630086091982,
          0.4955286810783668,
          -0.34543466212381296,
          -0.31169340397922796,
          0.34759900490637324,
          -0.06349742377053469,
          0.6009584802166443,
          -0.796376621499297,
          0.5469288119738817,
          -1.0052654751443781,
          0.06695992553238811,
          1.0232511350075353,
          -1.0438254432392993,
          -0.2508207202292457,
          0.6128672622716059,
          1.4040689592126232,
          0.2387069618096125,
          1.1646976449520392,
          -0.744317697888008,
          0.06962254153015973,
          3.226571347281471,
          -0.24538798261949737,
          0.8422866359302239,
          0.4833399869114754,
          -0.3400598121524828,
          -0.27395444642984584,
          2.5282401443706255,
          0.5415208833520265,
          -1.1512133906334117,
          0.7395442617776116,
          -0.32105763501231016,
          0.212916110684053,
          -0.29187312937140775,
          -1.0630349610780827,
          -0.17128513258131411,
          1.659038416495041,
          0.24135363761495543,
          -0.7849111528771432,
          0.08312582375953494,
          0.9102041005220529,
          -0.8017266624827338,
          0.6009584802166443,
          0.08590421503414264,
          1.6300583983316188,
          -1.1512712782718293,
          -0.1176428672901333,
          -0.33193964955706906,
          -0.29943419018752193,
          -0.9099348528956188,
          -0.260975148610398,
          0.7287614831844266,
          0.10753592952156199,
          2.4860709470098787,
          -0.250102351013728,
          -0.0688239269581602,
          -0.8801664364875234,
          -0.33730622986576847,
          -0.9559105158440169,
          -0.700386751549863,
          0.16966095137184448,
          0.6118074161108785,
          0.07238439347950507,
          -0.2142756626893263,
          1.5628970790125671,
          -0.6334551611399822,
          0.2149225701128346,
          0.24947883459338327,
          -0.7307896066707394,
          0.3379986100156451,
          -0.5489073174844084,
          0.20613752630089932,
          0.49824918471455654,
          1.957695405102301,
          -0.5407706155637327,
          -0.5066544779167896,
          -0.728085642359812,
          0.2893272524189505,
          1.8011660344394633,
          -0.2552271453136917,
          0.221094160917884,
          -0.8450105381217006,
          -0.5354123049176646,
          1.1100505323066592,
          0.10480715622274142,
          0.5306471384698989,
          -0.7416054639144495,
          0.0779420859985214,
          0.18818992302788684,
          -0.9640058694515369,
          -0.15616061271285556,
          -0.749659469208814,
          -1.2600886434247014,
          0.3569594388426615,
          0.9328790280823164,
          0.29747222400225765,
          0.20466788727313331,
          1.7238562085509714,
          0.19402970882071627,
          -0.9315500280577762,
          -0.5405608783337884,
          1.038592920192701,
          -0.34669435991694264,
          -0.8255921331660145,
          0.7341611421436498,
          -0.2967467652018569,
          -0.9585565925165263,
          -0.2544287868401642,
          -0.9504943175595306,
          0.09126252568021077,
          2.3624302221972333,
          0.29478479901659227,
          0.273111736216017,
          -0.9369662263422621,
          0.5063693473099696,
          2.2219698633657847,
          0.40623915497216223,
          0.16096183946583728,
          -1.268200536357484,
          -0.33189830124391373,
          -1.148559044298271,
          0.48472109349728804,
          0.15446784035534775,
          0.5631112495262907,
          -1.1204461068346911,
          1.271770614955059,
          0.45325285246245794,
          -0.08029445420932856,
          -0.9558443585429676,
          -0.6415505147475025,
          -0.8669945042854675,
          0.7044175347234478,
          -1.3736220658331306,
          0.0779420859985214,
          -0.22919727540445717,
          0.47469672562993587,
          0.6188060313309028,
          -0.9261007511227657,
          0.563152597839446,
          0.3430099412789328,
          -0.26698661845639254,
          0.31797194028977366,
          -0.8855991740972717,
          -0.9286763081704601,
          -0.37047875161372057,
          -0.12572168157239103,
          0.28391105413446444,
          0.8976726955335264,
          -1.1161362815550349,
          -0.5516608997711228,
          -1.1701742194604283,
          -0.5489403961349327,
          -0.6030440363564746,
          -1.172878183771356,
          -1.1215111315263655,
          0.5631360585141838,
          0.6307599752752638,
          0.08048801674965626,
          -0.24538798261949737,
          -1.314176199305882,
          -0.483340294335078,
          2.345164314692215,
          0.40450341324832456,
          0.8180088447702943,
          -0.5407706155637327,
          0.48258632056789436,
          -0.4731880471158088,
          -0.744251540586959,
          2.2281166451829404,
          -1.360102244278493,
          -0.39209392677587807,
          0.06695165586975667,
          0.5528984768169226,
          0.595616708895838,
          -0.1283925672327941,
          2.5701942575765493,
          1.7644377019080604,
          -0.34270588882499226,
          2.216641995223457,
          0.08312582375953494,
          0.3001348400000294,
          -0.9207259011514352,
          -1.0106403251157081,
          -1.1620375175397526,
          -0.9017816116496808,
          0.11561474380382003,
          -0.5164349367653854,
          0.08860817934506963,
          0.5361046850675409,
          -0.6523415630033188,
          -0.13386665315569782
         ],
         "yaxis": "y"
        },
        {
         "hovertemplate": "is_safe=1<br>PC1=%{x}<br>PC2=%{y}<extra></extra>",
         "legendgroup": "1",
         "marker": {
          "color": "#EF553B",
          "opacity": 1,
          "size": 3,
          "symbol": "circle"
         },
         "mode": "markers",
         "name": "1",
         "showlegend": true,
         "type": "scattergl",
         "x": [
          2.4280822930864345,
          0.284218812958771,
          1.3184002722992039,
          2.341389966563634,
          0.5735595685139417,
          -0.47628986757866004,
          2.2663264068330538,
          -0.0695419634582005,
          0.12222329263177292,
          1.1515238816715894,
          0.15429534088266042,
          0.030007937189993436,
          0.7995286126002948,
          1.6166820320002433,
          0.5329892781429788,
          1.7890813501341485,
          1.186795510350252,
          0.9632744785557653,
          0.8547393797934029,
          1.2378232841656045,
          -2.021759924144917,
          -1.341638024438156,
          -0.36871128359488714,
          -0.49569028456472214,
          1.0370977010414064,
          -1.555485897100775,
          1.2318344333973021,
          1.1073141484614106,
          2.8736463994386447,
          1.9110587572090902,
          1.6516986583456623,
          -1.5470895831938096,
          1.2703803664488704,
          2.0010963676806637,
          0.9999991896742042,
          1.6726768229848512,
          1.0181880858313883,
          -1.0289840281451832,
          -0.3909796364856799,
          1.909203050670401,
          1.4259481179052007,
          1.809856281691428,
          1.3751886857327498,
          0.7235007432560119,
          -1.2725402593693935,
          -0.411561145736477,
          2.106290022700637,
          2.229770352070886,
          2.368193990087309,
          -0.49380882141352767,
          2.2983389979857485,
          -1.312928552215905,
          2.1585466112832523,
          1.2010352850351993,
          -1.9380447327849277,
          0.7146631687660344,
          2.115493722602175,
          0.7886264358757861,
          1.5148393216844542,
          2.3012587031418135,
          0.552826694986736,
          -1.8469718368408279,
          1.483405588128502,
          0.4841488498137938,
          1.6152710150246297,
          0.2453931079067033,
          1.5288720175055412,
          1.285450164574464,
          0.09205103418257372,
          2.7416965429516917,
          1.718125960282027,
          -1.294465437825377,
          0.3196035918071973,
          1.574857954369385,
          1.5723791981241768,
          2.3351614817217143,
          -1.8783903016913208,
          0.6060916708704863,
          1.876922005310983,
          -0.4883767683733444,
          1.1862989464061096,
          1.906994565463897,
          1.1662754797135286,
          1.5544683622652429,
          -0.3226831817127139,
          0.7510448050038311,
          -0.7701491030995377,
          1.2875416649803861,
          1.3621892501512638,
          1.2065429401189858,
          1.753516394310297,
          -1.6000135168639318,
          2.4040522711978265,
          0.02622258614587954,
          0.6025336491609642,
          0.09460964762113476,
          0.000648515231310586,
          0.06973475410535296,
          -0.8305147541427059,
          2.04609494625841,
          2.284898613493406,
          0.7554290118061378,
          0.29683270254469685,
          0.018517191647481297,
          1.984671163895697,
          1.5693599035186048,
          2.1365773477057473,
          1.2847696885782445,
          -0.28828960693233646,
          -0.14413394102988142,
          1.4563944913165334,
          -1.9050620717089541,
          -0.4159462875552482,
          1.1644102759300892,
          1.315875510829282,
          -0.5040504058809235,
          1.4416064848487977,
          1.5563125370336461,
          -1.4906093432334577,
          1.958363597327911,
          1.4486688426303598,
          2.8422318817827916,
          0.5414529342448052,
          -0.028912219706089703,
          0.03650861689085465,
          -1.8475411971928204,
          0.9634834830983846,
          1.4680366988310982,
          -0.10040249088020989,
          2.4543764096392646,
          -1.0347417607149352,
          -1.0571761176677206,
          -1.1207842426310357,
          -0.08998524677539084,
          0.47881945160224043,
          1.9264832541056909,
          1.4531700323747259,
          1.6037247614370869,
          2.515388166495436,
          0.19430203306972993,
          0.8311502054029639,
          1.8043716789970816,
          1.951613677461904,
          0.3786771326370478,
          -1.67626512637354,
          -0.2147080456117601,
          -0.05278127122676079,
          -0.3256776070968651,
          -0.9940555720428074,
          0.8193718986004064,
          -0.8623586945146959,
          0.3238056940967978,
          0.3173376747354266,
          1.0740046162267185,
          0.8279640731316231,
          -0.7208429599092849,
          -0.00591353795389089,
          1.1735142756768198,
          0.41583126275457977,
          0.6278270625424729,
          1.9536112398811183,
          -1.7716691612512063,
          1.0069580015190083,
          1.472039517091951,
          1.7897178517141463,
          -0.14865818688073176,
          -0.2661038686589091,
          1.3201792278013151,
          1.3024312824135102,
          1.3926625235925099,
          -1.4966964904094298,
          0.5764753246168449,
          0.07384676604871855,
          1.4773975233186218,
          1.981764906896066,
          1.0724478957301062,
          0.33407531457742623,
          -1.8557039508664224,
          1.3326898942737708,
          -1.2366149421606027,
          1.1103516720218332,
          2.526798326370553,
          0.7252395664068084,
          0.19567846960266183,
          1.8453292233488086,
          0.7959936432802126,
          0.0654041352448846,
          -0.05534850938716628,
          -1.0289840281451832,
          0.41234614258263996,
          2.462220966946256,
          0.059192942482827776,
          -0.15806320161950943,
          -1.5051788423382573,
          0.7049687759352299,
          0.9673712292277592,
          1.409028270279284,
          -0.6941671394258014,
          1.331436105155353,
          0.08485632334080341,
          1.0882309390381868,
          0.5807503303025499,
          1.4961769139725676,
          0.5015646306054549,
          -0.6503850653007262,
          0.8739174585027552,
          1.828664387348746,
          1.5841211095105934,
          1.8767456648248972,
          -0.8703316614043005,
          -1.4494721326867934,
          1.9962423936929168,
          1.4374100433146075,
          -0.14656284812694717,
          1.1527815109963917,
          0.6617449014268889,
          1.2541180512765104,
          1.4561242202778288,
          1.6459302276093992,
          0.9384641809619648,
          1.0864250872232064,
          0.3835157346481238,
          -1.8533785822720261,
          1.7768391434439825,
          0.5696238914810945,
          -0.06581144704454402,
          -0.6411571677338175,
          0.19672133593379032,
          -0.9996552431515873,
          0.7133097939151535,
          -0.19479559315071765,
          0.49083547237522346,
          -0.9439403292972118,
          0.3611688194643384,
          1.2050337355824796,
          -1.7509705602115728,
          -1.2783776444485988,
          1.1714266229113712,
          -0.7520675875099294,
          0.18933886354094784,
          1.2639026414418049,
          1.2233036342089478,
          -0.04635926080714743,
          -2.007190425040118,
          -1.3158212559293683,
          1.5495913321710124,
          1.2391479514472015,
          -0.34159482587270174,
          1.722866787817055,
          2.0432769627730325,
          0.8198550125295925,
          0.6597131679327918,
          0.9246844640997195,
          0.72888960042428,
          2.0896174988537175,
          0.7081126436340751,
          1.3735208477333878,
          1.2707100945857672,
          1.3290437041797278,
          1.2583221806575584,
          -1.1925268712782098,
          0.8568826475921374,
          0.422680879058349,
          0.18623321366579174,
          1.5523902086030672,
          1.8012027281003045,
          -0.19099985561224778,
          0.767583050111784,
          -0.07343739743443292,
          1.2116671851454373,
          -1.8201582072256257,
          1.4306985496732338,
          0.4257860107189285,
          2.374851897645366,
          -2.130490885390053,
          -0.06047539741528598,
          1.0569486767468979,
          0.7857853962839243,
          -1.0419873057915754,
          2.346092474862284,
          0.9993857404836464,
          1.8047224305734488,
          2.421788692249434,
          1.5743786843636278,
          -0.28064346113118604,
          1.4033998897426985,
          -1.3661262854589615,
          -1.5059379894742464,
          -2.0157327522817146,
          1.3631247377733386,
          0.7880474712907883,
          1.465433375068184,
          -1.973400689641726,
          0.5028284426172888,
          1.5341553053626475,
          1.178592513620036,
          0.10617958251799355,
          -0.25164227205330675,
          0.7378402143787214,
          1.2617133665598346,
          0.9830813709982573,
          -0.47606549849345814,
          1.7691686929892065,
          1.8681227481988603,
          -0.5788303515460984,
          1.258605905428264,
          1.5053767718091986,
          1.6702613677612645,
          0.09220057790995631,
          0.24013266403809277,
          -1.3661262854589615,
          -0.8504941375722878,
          0.9902836608401077,
          1.8677892887023568,
          0.25709275100357987,
          0.12028860699820322,
          0.4556596962108942,
          2.182651456671156,
          1.3355366941752091,
          0.9941177176149555,
          0.5509978903364822,
          0.1811773033550176,
          -0.6211777843042356,
          1.5680410021221503,
          0.1321550859023256,
          2.277059927201291,
          1.9050775887120788,
          1.3265553381259476,
          0.8107701179776615,
          1.2521704449936941,
          1.356631747777858,
          -0.17498870442526987,
          2.73022884979862,
          0.958493411681167,
          0.6946569960118388,
          0.8133868880384881,
          0.6179427796564602,
          -1.152328365215695,
          1.6969714532982305,
          2.261039169922785,
          2.458131904121119,
          0.33892928856517335,
          0.5135732789207793,
          0.7778181934209408,
          0.2729428304099328,
          2.609671964378131,
          1.2204089052625589,
          0.529828013234537,
          2.7053169319468195,
          1.3013443309608606,
          1.1333197168089453,
          0.8205048571362918,
          -0.5020011756230637,
          2.186251641540485,
          2.7398082812032456,
          0.9814882476514146,
          1.3404001691247507,
          1.8861141771592789,
          0.9120855296885767,
          -1.5115855877694544,
          0.668778850301667,
          1.9146474158836995,
          1.8778441461893116,
          -0.8306746342941812,
          0.6278213003743739,
          1.363981768232154,
          0.2097035827066235,
          1.8240270983163882,
          0.16324990389026392,
          0.19452448391026175,
          1.0319045016720123,
          0.8150337007398577,
          0.07671662391516378,
          -0.5657226554400421,
          0.9890701166368264,
          2.528596497772764,
          0.0727617384163055,
          0.8328698145121828,
          -0.7901026303624479,
          0.4819518908020099,
          1.6847867817445428,
          -1.6933497808567333,
          1.1495416819364355,
          0.7561748159154261,
          2.015520163264464,
          0.2196376114695676,
          -0.015606112094191698,
          0.03643197284253201,
          1.729398205895691,
          -2.0077597853921096,
          1.578889482058043,
          1.6349494904504203,
          1.2899284107761675,
          1.7175681279832764,
          1.5668274560603466,
          0.6992368550374527,
          0.8492470929692432,
          2.2978962341014326,
          0.21006778801499146,
          -1.0270382331187815,
          0.531917591678745,
          -0.3823797759661276,
          2.3307388505532964,
          -0.17112593264704962,
          0.972595170691973,
          1.6984609292956263,
          0.5214256254873175,
          -1.5016668258534482,
          0.2818666513227163,
          -1.3312518322417892,
          0.8883393321248417,
          -1.751250228940861,
          -1.5020463994214428,
          1.1147934121020957,
          0.003529796021264786,
          0.8367441162021674,
          0.7159591210442591,
          1.1435873101981264,
          0.3638968177332142,
          1.9631734843356137,
          2.4394580772027674,
          1.05523291341963,
          -0.8363521392219114,
          0.21266342578957034,
          -1.3604786871637535,
          0.40605243661590656,
          1.6299939017802405,
          1.3568176906384262,
          1.859095493913141,
          1.7755125560591922,
          -1.0149838893923762,
          2.466129847220401,
          -1.7722264734768582,
          -1.6232551546815561,
          1.7482982168727041,
          0.36838648314138234,
          2.425492417479955,
          -0.6227480562284933,
          1.0261993700988485,
          1.140249813650377,
          1.5281359264760357,
          -0.8110248720132412,
          1.2058987562676964,
          0.6780860905643963,
          -0.04003299777213482,
          1.6061114002446129,
          1.8196079975407218,
          0.8898537843319139,
          1.0411139693172158,
          2.42348524711069,
          1.0192290302008022,
          0.18443504226358062,
          1.681058080304345,
          2.038509237066614,
          1.1880185592323727,
          0.8784167281439285,
          0.944671529800593,
          1.243041465320242,
          1.096957294612726,
          -0.20740049998942542,
          1.5793054566177458,
          0.015778753683301942,
          1.6540623480349588,
          0.4025155490511541,
          1.8022514673048318,
          0.47776313525615527,
          -0.08429377361812782,
          -1.3766228184722937,
          0.6680005923953105,
          0.4459917828910708,
          -0.3794180109214664,
          1.0316974283837184,
          -1.096245925919666,
          1.0220125365147086,
          1.1532643113949013,
          1.4666641080801173,
          0.7105224455363405,
          -0.45139010112441236,
          1.7459537430835073,
          -1.26671897288238,
          -0.5139691677969298,
          0.9907130835562452,
          0.3779563084544807,
          -1.0938706049059164,
          0.5687381534529957,
          2.163847191220222,
          1.4624389515425549,
          1.562228489981411,
          0.9837906708446262,
          0.7335709727196377,
          -1.3270685253333565,
          0.7970461175613912,
          0.4076148160094068,
          0.5855352448176214,
          -1.068802960639703,
          1.3644206881930414,
          0.700452214214193,
          1.4906405457439313,
          -0.9354600026013097,
          -1.5036126208798501,
          -1.817453265063235,
          0.4657030256446066,
          0.1844453236282038,
          2.032953649220833,
          -0.6772722717266056,
          -1.4729553283982728,
          0.5458141882118385,
          -0.07368471749638604,
          0.47121837229229496,
          1.680714905869536,
          0.8292542576661825,
          -0.10727890208415919,
          0.23452349196751804,
          0.4854294319738698,
          -0.2923977768107953,
          0.8410364121092134,
          -0.8602231127042969,
          -1.8149381096848403,
          0.7106076518129493,
          -1.4838230242342658,
          2.024029830166571,
          1.879164965830436,
          1.935606473469566,
          2.188941213584728,
          2.9543250022546763,
          -1.1358130710844943,
          0.004716445770199205,
          -0.7168993922042027,
          0.955069567297923,
          1.3300808027671909,
          0.7957080002648371,
          1.5652056214271768,
          0.366408129188179,
          1.2164923427171228,
          1.651443656012418,
          -0.2109389978437374,
          0.1403159176142131,
          -1.05617723132838,
          0.8983616306849949,
          -0.1658278942990594,
          0.74772257530302,
          1.4588674798180763,
          1.4077342418212957,
          0.09241715773561172,
          1.486936711666633,
          2.044875739441196,
          0.9617829773254439,
          -0.539662510346897,
          1.1301393485642255,
          1.9298074076267386,
          -0.7110620071249975,
          1.309407390055222,
          1.569122189548179,
          0.12674177631452432,
          0.5726048668502892,
          0.8154189313462185,
          1.2637359107642918,
          1.5353534794477801,
          1.3561199151282544,
          0.313879351322189,
          0.8429993959442675,
          1.0885932242433625,
          1.2801303705959162,
          1.1794130398159326,
          1.4956861214891346,
          -0.09696540488295333,
          1.921211389172093,
          1.79127638904274,
          1.677500058594823,
          1.072716348078307,
          0.6198675438093029,
          0.9789960432497721,
          2.0009160818584606,
          1.7149187971371267,
          -0.03546082287633422,
          -0.19176860883976518,
          -1.0289840281451832,
          -1.1829856576972728,
          0.8162912230764048,
          1.87404648854765,
          -0.0007567377176823976,
          -0.0930985826388824,
          0.26273650723388103,
          1.1319106199365236,
          1.1056108444868056,
          0.7383021923046158,
          1.0993248263669297,
          1.8009651211181343,
          1.192439264722031,
          -0.54796073810566,
          2.4596636465495325,
          -0.6683503709170144,
          0.5282273164631809,
          0.792046441911168,
          -0.4370482930966228,
          -0.6704859527274135,
          1.8311891488186678,
          0.3790164631484279,
          0.6565021645815075,
          1.7808342719994552,
          0.0425473149487773,
          0.4409080944519108,
          -0.7452413389847996,
          1.017427014875162,
          -1.18317544448127,
          0.13173485990991762,
          0.44850896350239017,
          0.8457925027741351,
          -1.147629700840474,
          0.9480627157028693,
          -1.4999108176110438,
          2.7514351241752286,
          0.18150651141881602,
          2.751872231021179,
          0.40094164160441165,
          0.6453239546501951,
          -0.15045443817975077,
          -0.19345213234647513,
          1.643401732921349,
          0.9528150712911387,
          -1.6467107788070703,
          2.219567870959741,
          -0.025181699575388856,
          -0.3658817720562675,
          0.12000914666985907,
          2.128199832896993,
          1.883466768274843,
          1.9543934431235923,
          2.811472970901737,
          1.6004331668428404,
          2.141922014622761,
          -0.09122558587885214,
          -0.4183974171550225,
          -0.4743420473193328,
          -0.7792208611671887,
          1.9781570360384018,
          1.9274283459607708,
          1.6090291852974858,
          2.705930375561812,
          1.245065820781114,
          0.4664813849636517,
          0.9152909755556619,
          -0.20266886360255962,
          1.1279136726905472,
          1.6273445709340906,
          0.6146397639972263,
          2.6031195172844575,
          1.3151202057581985,
          2.566168623965879,
          0.277959691151764,
          1.1344105066094574,
          0.4461914911557951,
          0.8602738334944138,
          0.3430566687681657,
          -0.36103740601857054,
          -1.6673972284491525,
          1.175513761916271,
          1.8255473145500813,
          1.2983940976864863,
          1.867524674702018,
          -1.4244063071110842,
          1.6655473314093718,
          0.6868258850027594,
          -1.8576497458928236,
          2.81848355571492,
          -0.3159007047784283,
          1.0476120999950085,
          0.6793053987942986,
          -1.2581690610651364,
          0.9460997337263369,
          0.38746293973421325,
          1.1478700055892113,
          2.146461527320549,
          -0.8644942763250951,
          1.7286907228813033,
          -0.9786789986155903,
          -1.442060321946269,
          0.05546434431384145,
          -0.6908928369114181,
          -1.7042674291120794,
          -0.17161470547312388
         ],
         "xaxis": "x",
         "y": [
          0.4416704928840778,
          0.07462951046968158,
          -0.374785161855069,
          0.5334200030609354,
          -1.0907525011536592,
          -0.9348218187955349,
          -0.12895141803188448,
          -1.1001544614568968,
          -0.7750012309426829,
          -0.8702401080109757,
          -0.7552305743106497,
          -0.7680348781660029,
          -0.8412573095528365,
          0.21987690116640302,
          -1.2761639591262892,
          0.3604698498261593,
          -0.4434884614712018,
          0.573959369213345,
          0.4468565072744917,
          0.5295675385404989,
          0.490087673805987,
          -0.33189003158128244,
          -1.1538076681682516,
          -1.0004606327617618,
          0.8888832893978256,
          0.2156862322960293,
          0.5114661554942853,
          2.0838144637790177,
          0.8001461175805787,
          -0.36723933356137684,
          -0.024910922215636098,
          0.9972230285909389,
          0.41084946840125536,
          -0.45425350247345864,
          -0.7471720269338277,
          0.3216308587529041,
          -0.5742208908028347,
          -0.7388849602782595,
          -0.9964656181841625,
          0.21857818036993337,
          -0.8163620383795307,
          0.0769125364887046,
          0.754586467078245,
          0.32672334192911007,
          -0.22376453779470853,
          -0.3637257924256413,
          0.32871692975604433,
          0.3766148820150365,
          0.5774767205155299,
          1.0141967888306702,
          0.7780540466697742,
          0.08525369198099962,
          0.2298819477088796,
          -0.7350204272934999,
          0.5496493156100712,
          0.45979587041590114,
          0.14421453554000438,
          -0.17878507047939335,
          -0.569569229060586,
          0.5965135583352761,
          -0.044555987489911714,
          0.2893272524189505,
          0.3139566588067383,
          -0.5176648641140226,
          0.4805181373833471,
          -0.5361003774822711,
          -0.4643924456470828,
          0.7958449101161784,
          -0.9729440939038395,
          0.6017220321577681,
          -0.05460983750589188,
          -0.26700315778165495,
          -1.1390523230647862,
          0.18725901033681064,
          0.38513571599691804,
          0.23630978951831993,
          0.5632683731162822,
          0.1213130205875656,
          -0.297255434503086,
          -1.0426942968573347,
          0.5255427891291655,
          0.4784095887818603,
          0.0719631668917359,
          -0.21489074617136997,
          -0.9872826120589582,
          0.34136055083516537,
          -0.8125921377022305,
          -0.17156668487415547,
          0.8310956821098086,
          0.6446428457784904,
          0.40790804479459974,
          2.233532843467426,
          0.6183189357379496,
          2.4568567421460012,
          -0.03797278387822072,
          1.872565831841418,
          -0.5726372738967329,
          -0.7589097596792165,
          -0.9045021152858704,
          0.31401356354893956,
          0.8382270443757279,
          -0.0458994004163277,
          0.9294775588892438,
          -1.1748951669510665,
          -0.43903467249926675,
          -0.6658374872447617,
          0.34146827181882017,
          -0.7472657379067277,
          -1.0575409920131258,
          -0.8383032895705426,
          -1.0208020645092764,
          0.6172070750701024,
          2.816370785147783,
          -1.1165516948682657,
          -0.352384967875788,
          -1.3249672475616978,
          0.6379659311938995,
          0.5923045154254841,
          -0.09328237950389248,
          -0.20435704035333505,
          -0.5401447946662071,
          0.48692454963244347,
          0.2561639103034313,
          -0.6770373081557438,
          -1.2036090094920027,
          0.27312827554127933,
          -1.1798586793419654,
          0.5371871946650376,
          -1.2272374402536965,
          0.7072339287895234,
          1.995768696978411,
          -0.3731496372741235,
          2.1602722278255366,
          -1.3115757976595348,
          -1.0613859543976982,
          0.6740436694506424,
          0.3426456923597803,
          -0.188740283676633,
          0.6509401703843328,
          -0.15758397758162554,
          0.20019601255764544,
          -0.7139547774451703,
          -0.01188826331508272,
          -0.3110897186071562,
          0.088558561369283,
          -0.10416175790186764,
          -0.9497490294157543,
          -0.9963333035820645,
          -0.6740228954665253,
          -0.42898082248328695,
          -0.9396619209905583,
          -0.7729763618637243,
          -0.3469799993073404,
          -0.18346861260650021,
          -0.14455579370239852,
          -0.39000740686756863,
          -0.7050702936769698,
          -0.1608616770614412,
          -0.7853423735996283,
          0.1591519816152879,
          0.589326669351513,
          2.4073032397209757,
          0.24171750277072487,
          -0.8764688787844356,
          -0.3143006616530898,
          -1.184949232336497,
          -0.23114884456388463,
          0.8912107921773448,
          0.1721256216728876,
          -0.37382648012269193,
          1.973235589264199,
          -0.12266004914361592,
          -0.41348536606209435,
          0.930132479876911,
          -0.19526500051707274,
          0.47941827225340744,
          -0.7853705264043124,
          0.273111736216017,
          -0.39270795614018794,
          -0.18859646242738945,
          -0.622627619195333,
          0.561600260480472,
          -0.5270292036842785,
          -0.738948900806667,
          0.80346182155676,
          -0.4117471548805088,
          -0.43955313193052037,
          0.488723106545437,
          -0.7388849602782595,
          -0.6446932990891953,
          0.13951779790442595,
          -1.138771753668161,
          -0.7377742249496642,
          -0.1014108117619369,
          0.2315277789664062,
          -0.7209124767958363,
          0.49818949797274165,
          -1.1539338942696014,
          0.32255586270192366,
          -0.8949441940475492,
          0.5877107413216534,
          -0.01911946066540859,
          0.8153068445469027,
          1.3105244399442548,
          2.6619996539886333,
          -1.2935624208488568,
          -0.022798430664525172,
          -0.32200794024978036,
          0.32204434188446046,
          -0.9342788013565969,
          1.517092586980571,
          0.024380660078392617,
          0.2606789307305749,
          -0.9292876640723304,
          -0.9249010152976603,
          -0.0025161090670961467,
          0.8694798417383515,
          -1.082756767261096,
          0.8702737293509397,
          -0.6544258305282278,
          -0.8027435800061533,
          -0.05731401718626929,
          0.2812153594861685,
          -0.43419400678216885,
          -0.368065916061106,
          -0.5333605898368619,
          -1.0971341044148626,
          -0.5931663785702558,
          -0.7172284368029465,
          -1.1823945057163123,
          -0.7378486519133445,
          -0.4835017446380763,
          -0.641525705759609,
          -0.18869580691613688,
          1.1796675819097717,
          1.2343780003399676,
          -0.21567745384981973,
          -0.7827281773119766,
          -0.820654412659226,
          -0.8755600303972955,
          -0.12936609942910726,
          0.23257802612055903,
          -0.4262814002548167,
          0.49821610606403177,
          -0.2940428008909294,
          0.7998879606405143,
          -0.09323776030036135,
          -0.9704523961373639,
          -0.017751023381649172,
          0.1253082505346149,
          -0.897771005032277,
          -0.29081461255462393,
          -0.29553950299488635,
          -0.5792606275559132,
          0.43113186122020203,
          0.0592905785056472,
          0.4530319324919917,
          -0.4144306369165501,
          -0.8048141241112751,
          0.31809165851623344,
          -0.153411847734808,
          0.08335553959905034,
          -0.9930630592625967,
          -0.6012865411656692,
          0.37510487757033173,
          0.9118911116988015,
          -1.1923257244279422,
          0.4959440926866997,
          -0.6304254803175827,
          0.2279633859784586,
          0.2974804936648886,
          -0.25293644876487015,
          -0.09074081278142118,
          0.5965251718146981,
          1.4225668310802293,
          1.4348767881869742,
          -0.18998565891714198,
          0.16865416076631554,
          -0.7605084051030482,
          0.02859737351798255,
          0.5163944436835356,
          0.5294954724973928,
          0.4805358749742753,
          0.19171160104307908,
          2.653325279849003,
          -1.2475414666376792,
          -0.33193964955706906,
          -0.1230094475988327,
          0.487400248820322,
          0.23339454155915712,
          -0.7215508228474828,
          0.2708635489303618,
          0.5306802171204235,
          -1.056883745715643,
          0.5891474814575858,
          -0.19054739684322528,
          -0.41868162727233066,
          1.897502415717121,
          0.01993946748209602,
          0.6211286082645816,
          -0.91255488670381,
          -1.1711687245272873,
          0.6773366857440524,
          0.9399687893499744,
          -1.1778594337531831,
          -1.2451352101814726,
          0.532671790474511,
          -0.8320648354993346,
          -0.7145868309913768,
          -0.19272390014426052,
          -0.33193964955706906,
          -0.9504364299211129,
          -0.10899411834557585,
          -0.7055898687876145,
          -0.6352925370516238,
          1.1383333338838009,
          -0.4611677079598445,
          0.12099958790986617,
          0.2507571799472427,
          -0.02178974719297833,
          -1.0216908613604305,
          1.4394410670725222,
          -1.0511997897796206,
          -0.7395385761679846,
          0.8953900290318856,
          0.02414143899492347,
          0.3733948548041887,
          0.5539065611556364,
          -0.6775023750555199,
          -1.2683617712910327,
          -0.8221767624993606,
          -1.099422404432351,
          0.7836577025108188,
          -0.33488234435580644,
          -0.9583624117156279,
          0.21352070602592627,
          0.04830932800931486,
          -0.46782973646974046,
          0.780618409612189,
          -0.03285840479201255,
          0.5057144602281646,
          -1.2640046889561631,
          0.7611977878838612,
          0.0400011443352685,
          -0.5326742078384786,
          0.7751770185764264,
          0.2082754259727364,
          -0.01652300196868571,
          0.36516345901439734,
          0.18116804353336316,
          -0.43360647697197563,
          -0.8250169843620099,
          -1.121957094175613,
          0.3576292442001268,
          0.5118219663568737,
          0.6638925136647632,
          0.42151488968855527,
          -0.2136855565891094,
          -0.2665565247780563,
          -0.10952270469471939,
          -0.43927629011406927,
          -0.4250076568401739,
          -0.5175406038051055,
          1.982700782425837,
          -0.2692821340187777,
          -1.3383257872072707,
          -0.39039228220954003,
          0.023223506442868233,
          -1.3056634196171812,
          -1.2867025907901648,
          0.4184651815761707,
          -0.9911848629491153,
          -0.8686350259337711,
          2.7350781929047057,
          -0.20915815515577724,
          0.6308487586974261,
          -1.1990819918220539,
          -0.019279328939357344,
          2.7440638897816707,
          0.036564523866961705,
          -0.6691114591444033,
          0.06692684688186341,
          0.6084863538450601,
          -0.7718252967289485,
          -0.04387942157245047,
          -0.44558561196271673,
          -1.0426820842450795,
          -0.5995611417291719,
          -0.23073412755590303,
          0.48201712918636025,
          0.47612836016133675,
          0.6815518770113526,
          -0.7203964138959161,
          -0.3388810865135796,
          -0.27723236127911155,
          -1.034613685176577,
          -0.5402761263720887,
          -0.25387897493536865,
          -0.772123603716502,
          -0.7415806549265561,
          -0.7517658010376591,
          -1.0782455213896431,
          0.7671836456044373,
          -0.9971033651029756,
          -1.152843845220584,
          0.9315261099119472,
          -0.29554837179035065,
          -0.11760151897697761,
          -0.18075757689860797,
          0.8545963776675184,
          -0.6510195440264884,
          0.4002063284922385,
          -0.12840083689542545,
          -1.1024833308960162,
          -0.6105638573966068,
          -0.7475028134390729,
          -0.17812409660173661,
          0.4714635029106166,
          -0.7059374099875714,
          0.03430399289077443,
          0.34842695406570234,
          -0.9973181609619348,
          -0.8964150313409814,
          -0.13959502599545742,
          -0.3454263924611819,
          0.07946743150282248,
          0.28266624071113294,
          -0.35243951169741516,
          -0.18012394132335263,
          -0.14169016371902216,
          -0.7469555048978866,
          0.29448825211188223,
          0.38396600330141173,
          0.14535835122402177,
          0.7058032771543389,
          -0.6800151542297148,
          0.23757603079709827,
          -0.3277169917646637,
          0.5245476849294732,
          0.5401683845557995,
          -1.0221356257440115,
          1.6061496021779913,
          0.5606777858459602,
          -1.1033681847975467,
          -1.037194802813704,
          0.5101955875025,
          1.5831755644926484,
          -0.70595493220905,
          -1.0250138521030256,
          0.2347348260382326,
          -0.1962695726450629,
          -0.6705350393826232,
          -0.22030852648490595,
          0.5264613208140533,
          -0.818873055765985,
          -0.7410733896005824,
          0.5091303830521348,
          -0.8932681972173886,
          -0.9494483615076261,
          0.23329090767305902,
          0.13583741427019266,
          2.610731693547284,
          -0.037596106977362924,
          -0.38379412130163654,
          -0.8865983540297626,
          -0.7069274085827318,
          -0.10929678765689547,
          1.4483910491521788,
          0.05057718136267588,
          1.0512634584951843,
          -1.059617061096921,
          -0.8722368242852502,
          1.6258105720339373,
          -0.4511130434415813,
          0.09972459595973353,
          0.09174427434828342,
          -1.0256836947761465,
          1.613635781045525,
          -0.478258993899394,
          2.485274423250507,
          -1.3168884332794406,
          -0.38705588058902346,
          -0.9159474141750036,
          1.222228018339448,
          -1.061341262267752,
          0.8813134666185227,
          -0.3006573942918188,
          -0.8144694839026703,
          -1.1645654224040936,
          -0.21763725706111975,
          -0.3237615993232378,
          -0.8643383605518273,
          -0.032160240920273905,
          -0.6995558423371268,
          -0.4136677536248799,
          0.15794482624059336,
          0.0811471559131569,
          -1.1419413484009395,
          1.7881145879906337,
          -0.11490582432868084,
          0.31638343485348774,
          -0.005046170847319446,
          2.785174856916602,
          0.8909010870798194,
          -1.1377018387414055,
          -0.055451688138801594,
          0.282223406509226,
          -0.5432293788276163,
          -0.6789985848589198,
          -0.019727856513871028,
          0.4765008787431204,
          -0.7043299669897927,
          -0.8853213137738457,
          -0.9856452188579956,
          -1.3048327257738952,
          -0.4836003814568166,
          -0.936957956679631,
          0.3298867170828623,
          2.9374374394742664,
          -0.07437116865266252,
          -0.02348579555912517,
          0.44893219259490375,
          -0.691954271956141,
          0.5464717976623897,
          0.7733132160370827,
          -0.462396998859992,
          -1.1973284395808723,
          -1.1620788658529082,
          -1.1908117770336133,
          0.5999450375882927,
          0.25870800634041036,
          0.15915986751453562,
          -0.22809653591547477,
          -0.7054305996464982,
          -0.6964503921374483,
          -0.92874739131735,
          1.1275753642785085,
          -0.7578375194426453,
          -0.013747355378035812,
          0.6234475305445021,
          0.3629509170094295,
          0.04029786929377239,
          0.34147041736994427,
          -0.4619037079340144,
          0.9112543476762055,
          0.7875308177000755,
          0.7780455616376926,
          2.1479515073524125,
          -0.9123944192970276,
          -0.1421857443440569,
          -1.1701659497977972,
          -0.3660337602157328,
          -0.6145448619634516,
          -0.8567894038107946,
          0.14122584351337772,
          0.13334391910521745,
          -0.6709103026483645,
          0.859251130541452,
          0.7564392552709998,
          -1.083987964096917,
          -0.7655793874973926,
          -0.12432203596302188,
          0.7786905953229206,
          -1.2883523649973163,
          -0.5995790477140336,
          -0.06342863032270225,
          0.03772681871777611,
          -0.524060993932538,
          -0.3795943309506923,
          0.6507166741238423,
          0.22676428489694578,
          0.7995400356771737,
          0.18973871086048089,
          -0.2182109922300082,
          -1.3097113959873579,
          -1.1780208840561817,
          -0.7388849602782595,
          -0.5272838726596197,
          0.20191982996509295,
          -0.3933649870682211,
          -0.44603217374479737,
          -0.6710973764415397,
          -0.7469119398120893,
          0.1573362150226811,
          -0.6594864333195757,
          0.4175952849708527,
          -0.8640008864130009,
          -0.28458186322078083,
          0.007362387467406991,
          0.6523860562468365,
          0.6111409155496511,
          -1.1160866635792484,
          -1.009047024911859,
          -0.5459288010560867,
          0.020912471767093727,
          -1.1187906278901756,
          -0.04519862464380643,
          -0.04733279673546944,
          -1.1150186788341665,
          -0.35670464484712516,
          -0.9118984549086104,
          -0.2784304794644082,
          0.4387149880451496,
          0.19881952098070466,
          -0.5326835316188435,
          0.5039081988795115,
          0.7097728480004528,
          0.6310844205946549,
          -0.508314774169972,
          0.8121673328004834,
          -0.1256968725844977,
          0.5523400827076302,
          2.3532269491665923,
          0.47054364017688743,
          -0.004094176748523626,
          -0.9429352581466083,
          -0.9238962747757378,
          0.746250239136688,
          -1.015694588426099,
          0.5809538747947086,
          2.1888858159079234,
          0.2605098098977787,
          -1.2351839399338562,
          -1.2331746272839432,
          -0.5039587832684932,
          -0.02057508968241921,
          -0.3251842582268981,
          0.07478076092837514,
          0.6748911179886411,
          0.17826620645212202,
          0.27560459493250344,
          -1.0965530468688007,
          0.02904917368776923,
          -1.292511406167938,
          0.4008512180295339,
          -0.06568972482096445,
          0.6029093043904088,
          -0.0016463566097108945,
          0.7890077434942553,
          -0.04476980045265456,
          -0.05525448742773609,
          0.44603348396100345,
          -0.747717440904099,
          0.18919055220625286,
          0.4033363349947046,
          -0.5643775099328069,
          0.6068405225875334,
          -0.2758509438563305,
          0.5862517684878521,
          -0.005426575328350963,
          0.7804242644220494,
          -1.0351264042597066,
          0.3863924893473988,
          -0.526049655913632,
          -1.1134350619280646,
          1.2318476989442932,
          -0.35428579201528004,
          -0.16574801780470172,
          -1.2304731922875236,
          0.34618489259645163,
          -0.009459485865141656,
          -0.05916993382636446,
          0.23405315451623976,
          0.2758074308643133,
          0.5802805199108637,
          -1.0665040610640806,
          1.7584124001051051,
          -1.1372402840523537,
          1.6902401936115194,
          0.5316760871419854,
          -1.048072874408839,
          -0.9161413439956931,
          0.5751360222275385,
          -0.942365885301486,
          0.4744029607248391,
          -0.7009881116121194,
          -0.047290177230232405,
          -0.8127939178114092,
          -1.1188319762033312,
          0.4596935433326426,
          -1.0795723949907965
         ],
         "yaxis": "y"
        }
       ],
       "layout": {
        "legend": {
         "title": {
          "text": "is_safe"
         },
         "tracegroupgap": 0
        },
        "margin": {
         "t": 60
        },
        "plot_bgcolor": "white",
        "template": {
         "data": {
          "bar": [
           {
            "error_x": {
             "color": "#2a3f5f"
            },
            "error_y": {
             "color": "#2a3f5f"
            },
            "marker": {
             "line": {
              "color": "#E5ECF6",
              "width": 0.5
             },
             "pattern": {
              "fillmode": "overlay",
              "size": 10,
              "solidity": 0.2
             }
            },
            "type": "bar"
           }
          ],
          "barpolar": [
           {
            "marker": {
             "line": {
              "color": "#E5ECF6",
              "width": 0.5
             },
             "pattern": {
              "fillmode": "overlay",
              "size": 10,
              "solidity": 0.2
             }
            },
            "type": "barpolar"
           }
          ],
          "carpet": [
           {
            "aaxis": {
             "endlinecolor": "#2a3f5f",
             "gridcolor": "white",
             "linecolor": "white",
             "minorgridcolor": "white",
             "startlinecolor": "#2a3f5f"
            },
            "baxis": {
             "endlinecolor": "#2a3f5f",
             "gridcolor": "white",
             "linecolor": "white",
             "minorgridcolor": "white",
             "startlinecolor": "#2a3f5f"
            },
            "type": "carpet"
           }
          ],
          "choropleth": [
           {
            "colorbar": {
             "outlinewidth": 0,
             "ticks": ""
            },
            "type": "choropleth"
           }
          ],
          "contour": [
           {
            "colorbar": {
             "outlinewidth": 0,
             "ticks": ""
            },
            "colorscale": [
             [
              0,
              "#0d0887"
             ],
             [
              0.1111111111111111,
              "#46039f"
             ],
             [
              0.2222222222222222,
              "#7201a8"
             ],
             [
              0.3333333333333333,
              "#9c179e"
             ],
             [
              0.4444444444444444,
              "#bd3786"
             ],
             [
              0.5555555555555556,
              "#d8576b"
             ],
             [
              0.6666666666666666,
              "#ed7953"
             ],
             [
              0.7777777777777778,
              "#fb9f3a"
             ],
             [
              0.8888888888888888,
              "#fdca26"
             ],
             [
              1,
              "#f0f921"
             ]
            ],
            "type": "contour"
           }
          ],
          "contourcarpet": [
           {
            "colorbar": {
             "outlinewidth": 0,
             "ticks": ""
            },
            "type": "contourcarpet"
           }
          ],
          "heatmap": [
           {
            "colorbar": {
             "outlinewidth": 0,
             "ticks": ""
            },
            "colorscale": [
             [
              0,
              "#0d0887"
             ],
             [
              0.1111111111111111,
              "#46039f"
             ],
             [
              0.2222222222222222,
              "#7201a8"
             ],
             [
              0.3333333333333333,
              "#9c179e"
             ],
             [
              0.4444444444444444,
              "#bd3786"
             ],
             [
              0.5555555555555556,
              "#d8576b"
             ],
             [
              0.6666666666666666,
              "#ed7953"
             ],
             [
              0.7777777777777778,
              "#fb9f3a"
             ],
             [
              0.8888888888888888,
              "#fdca26"
             ],
             [
              1,
              "#f0f921"
             ]
            ],
            "type": "heatmap"
           }
          ],
          "heatmapgl": [
           {
            "colorbar": {
             "outlinewidth": 0,
             "ticks": ""
            },
            "colorscale": [
             [
              0,
              "#0d0887"
             ],
             [
              0.1111111111111111,
              "#46039f"
             ],
             [
              0.2222222222222222,
              "#7201a8"
             ],
             [
              0.3333333333333333,
              "#9c179e"
             ],
             [
              0.4444444444444444,
              "#bd3786"
             ],
             [
              0.5555555555555556,
              "#d8576b"
             ],
             [
              0.6666666666666666,
              "#ed7953"
             ],
             [
              0.7777777777777778,
              "#fb9f3a"
             ],
             [
              0.8888888888888888,
              "#fdca26"
             ],
             [
              1,
              "#f0f921"
             ]
            ],
            "type": "heatmapgl"
           }
          ],
          "histogram": [
           {
            "marker": {
             "pattern": {
              "fillmode": "overlay",
              "size": 10,
              "solidity": 0.2
             }
            },
            "type": "histogram"
           }
          ],
          "histogram2d": [
           {
            "colorbar": {
             "outlinewidth": 0,
             "ticks": ""
            },
            "colorscale": [
             [
              0,
              "#0d0887"
             ],
             [
              0.1111111111111111,
              "#46039f"
             ],
             [
              0.2222222222222222,
              "#7201a8"
             ],
             [
              0.3333333333333333,
              "#9c179e"
             ],
             [
              0.4444444444444444,
              "#bd3786"
             ],
             [
              0.5555555555555556,
              "#d8576b"
             ],
             [
              0.6666666666666666,
              "#ed7953"
             ],
             [
              0.7777777777777778,
              "#fb9f3a"
             ],
             [
              0.8888888888888888,
              "#fdca26"
             ],
             [
              1,
              "#f0f921"
             ]
            ],
            "type": "histogram2d"
           }
          ],
          "histogram2dcontour": [
           {
            "colorbar": {
             "outlinewidth": 0,
             "ticks": ""
            },
            "colorscale": [
             [
              0,
              "#0d0887"
             ],
             [
              0.1111111111111111,
              "#46039f"
             ],
             [
              0.2222222222222222,
              "#7201a8"
             ],
             [
              0.3333333333333333,
              "#9c179e"
             ],
             [
              0.4444444444444444,
              "#bd3786"
             ],
             [
              0.5555555555555556,
              "#d8576b"
             ],
             [
              0.6666666666666666,
              "#ed7953"
             ],
             [
              0.7777777777777778,
              "#fb9f3a"
             ],
             [
              0.8888888888888888,
              "#fdca26"
             ],
             [
              1,
              "#f0f921"
             ]
            ],
            "type": "histogram2dcontour"
           }
          ],
          "mesh3d": [
           {
            "colorbar": {
             "outlinewidth": 0,
             "ticks": ""
            },
            "type": "mesh3d"
           }
          ],
          "parcoords": [
           {
            "line": {
             "colorbar": {
              "outlinewidth": 0,
              "ticks": ""
             }
            },
            "type": "parcoords"
           }
          ],
          "pie": [
           {
            "automargin": true,
            "type": "pie"
           }
          ],
          "scatter": [
           {
            "marker": {
             "colorbar": {
              "outlinewidth": 0,
              "ticks": ""
             }
            },
            "type": "scatter"
           }
          ],
          "scatter3d": [
           {
            "line": {
             "colorbar": {
              "outlinewidth": 0,
              "ticks": ""
             }
            },
            "marker": {
             "colorbar": {
              "outlinewidth": 0,
              "ticks": ""
             }
            },
            "type": "scatter3d"
           }
          ],
          "scattercarpet": [
           {
            "marker": {
             "colorbar": {
              "outlinewidth": 0,
              "ticks": ""
             }
            },
            "type": "scattercarpet"
           }
          ],
          "scattergeo": [
           {
            "marker": {
             "colorbar": {
              "outlinewidth": 0,
              "ticks": ""
             }
            },
            "type": "scattergeo"
           }
          ],
          "scattergl": [
           {
            "marker": {
             "colorbar": {
              "outlinewidth": 0,
              "ticks": ""
             }
            },
            "type": "scattergl"
           }
          ],
          "scattermapbox": [
           {
            "marker": {
             "colorbar": {
              "outlinewidth": 0,
              "ticks": ""
             }
            },
            "type": "scattermapbox"
           }
          ],
          "scatterpolar": [
           {
            "marker": {
             "colorbar": {
              "outlinewidth": 0,
              "ticks": ""
             }
            },
            "type": "scatterpolar"
           }
          ],
          "scatterpolargl": [
           {
            "marker": {
             "colorbar": {
              "outlinewidth": 0,
              "ticks": ""
             }
            },
            "type": "scatterpolargl"
           }
          ],
          "scatterternary": [
           {
            "marker": {
             "colorbar": {
              "outlinewidth": 0,
              "ticks": ""
             }
            },
            "type": "scatterternary"
           }
          ],
          "surface": [
           {
            "colorbar": {
             "outlinewidth": 0,
             "ticks": ""
            },
            "colorscale": [
             [
              0,
              "#0d0887"
             ],
             [
              0.1111111111111111,
              "#46039f"
             ],
             [
              0.2222222222222222,
              "#7201a8"
             ],
             [
              0.3333333333333333,
              "#9c179e"
             ],
             [
              0.4444444444444444,
              "#bd3786"
             ],
             [
              0.5555555555555556,
              "#d8576b"
             ],
             [
              0.6666666666666666,
              "#ed7953"
             ],
             [
              0.7777777777777778,
              "#fb9f3a"
             ],
             [
              0.8888888888888888,
              "#fdca26"
             ],
             [
              1,
              "#f0f921"
             ]
            ],
            "type": "surface"
           }
          ],
          "table": [
           {
            "cells": {
             "fill": {
              "color": "#EBF0F8"
             },
             "line": {
              "color": "white"
             }
            },
            "header": {
             "fill": {
              "color": "#C8D4E3"
             },
             "line": {
              "color": "white"
             }
            },
            "type": "table"
           }
          ]
         },
         "layout": {
          "annotationdefaults": {
           "arrowcolor": "#2a3f5f",
           "arrowhead": 0,
           "arrowwidth": 1
          },
          "autotypenumbers": "strict",
          "coloraxis": {
           "colorbar": {
            "outlinewidth": 0,
            "ticks": ""
           }
          },
          "colorscale": {
           "diverging": [
            [
             0,
             "#8e0152"
            ],
            [
             0.1,
             "#c51b7d"
            ],
            [
             0.2,
             "#de77ae"
            ],
            [
             0.3,
             "#f1b6da"
            ],
            [
             0.4,
             "#fde0ef"
            ],
            [
             0.5,
             "#f7f7f7"
            ],
            [
             0.6,
             "#e6f5d0"
            ],
            [
             0.7,
             "#b8e186"
            ],
            [
             0.8,
             "#7fbc41"
            ],
            [
             0.9,
             "#4d9221"
            ],
            [
             1,
             "#276419"
            ]
           ],
           "sequential": [
            [
             0,
             "#0d0887"
            ],
            [
             0.1111111111111111,
             "#46039f"
            ],
            [
             0.2222222222222222,
             "#7201a8"
            ],
            [
             0.3333333333333333,
             "#9c179e"
            ],
            [
             0.4444444444444444,
             "#bd3786"
            ],
            [
             0.5555555555555556,
             "#d8576b"
            ],
            [
             0.6666666666666666,
             "#ed7953"
            ],
            [
             0.7777777777777778,
             "#fb9f3a"
            ],
            [
             0.8888888888888888,
             "#fdca26"
            ],
            [
             1,
             "#f0f921"
            ]
           ],
           "sequentialminus": [
            [
             0,
             "#0d0887"
            ],
            [
             0.1111111111111111,
             "#46039f"
            ],
            [
             0.2222222222222222,
             "#7201a8"
            ],
            [
             0.3333333333333333,
             "#9c179e"
            ],
            [
             0.4444444444444444,
             "#bd3786"
            ],
            [
             0.5555555555555556,
             "#d8576b"
            ],
            [
             0.6666666666666666,
             "#ed7953"
            ],
            [
             0.7777777777777778,
             "#fb9f3a"
            ],
            [
             0.8888888888888888,
             "#fdca26"
            ],
            [
             1,
             "#f0f921"
            ]
           ]
          },
          "colorway": [
           "#636efa",
           "#EF553B",
           "#00cc96",
           "#ab63fa",
           "#FFA15A",
           "#19d3f3",
           "#FF6692",
           "#B6E880",
           "#FF97FF",
           "#FECB52"
          ],
          "font": {
           "color": "#2a3f5f"
          },
          "geo": {
           "bgcolor": "white",
           "lakecolor": "white",
           "landcolor": "#E5ECF6",
           "showlakes": true,
           "showland": true,
           "subunitcolor": "white"
          },
          "hoverlabel": {
           "align": "left"
          },
          "hovermode": "closest",
          "mapbox": {
           "style": "light"
          },
          "paper_bgcolor": "white",
          "plot_bgcolor": "#E5ECF6",
          "polar": {
           "angularaxis": {
            "gridcolor": "white",
            "linecolor": "white",
            "ticks": ""
           },
           "bgcolor": "#E5ECF6",
           "radialaxis": {
            "gridcolor": "white",
            "linecolor": "white",
            "ticks": ""
           }
          },
          "scene": {
           "xaxis": {
            "backgroundcolor": "#E5ECF6",
            "gridcolor": "white",
            "gridwidth": 2,
            "linecolor": "white",
            "showbackground": true,
            "ticks": "",
            "zerolinecolor": "white"
           },
           "yaxis": {
            "backgroundcolor": "#E5ECF6",
            "gridcolor": "white",
            "gridwidth": 2,
            "linecolor": "white",
            "showbackground": true,
            "ticks": "",
            "zerolinecolor": "white"
           },
           "zaxis": {
            "backgroundcolor": "#E5ECF6",
            "gridcolor": "white",
            "gridwidth": 2,
            "linecolor": "white",
            "showbackground": true,
            "ticks": "",
            "zerolinecolor": "white"
           }
          },
          "shapedefaults": {
           "line": {
            "color": "#2a3f5f"
           }
          },
          "ternary": {
           "aaxis": {
            "gridcolor": "white",
            "linecolor": "white",
            "ticks": ""
           },
           "baxis": {
            "gridcolor": "white",
            "linecolor": "white",
            "ticks": ""
           },
           "bgcolor": "#E5ECF6",
           "caxis": {
            "gridcolor": "white",
            "linecolor": "white",
            "ticks": ""
           }
          },
          "title": {
           "x": 0.05
          },
          "xaxis": {
           "automargin": true,
           "gridcolor": "white",
           "linecolor": "white",
           "ticks": "",
           "title": {
            "standoff": 15
           },
           "zerolinecolor": "white",
           "zerolinewidth": 2
          },
          "yaxis": {
           "automargin": true,
           "gridcolor": "white",
           "linecolor": "white",
           "ticks": "",
           "title": {
            "standoff": 15
           },
           "zerolinecolor": "white",
           "zerolinewidth": 2
          }
         }
        },
        "title": {
         "text": "PCA scatter plot"
        },
        "xaxis": {
         "anchor": "y",
         "domain": [
          0,
          1
         ],
         "gridcolor": "lightgrey",
         "gridwidth": 1,
         "linecolor": "black",
         "linewidth": 1,
         "showgrid": true,
         "showline": true,
         "title": {
          "text": "PC1"
         },
         "zeroline": true,
         "zerolinecolor": "lightgrey",
         "zerolinewidth": 1
        },
        "yaxis": {
         "anchor": "x",
         "domain": [
          0,
          1
         ],
         "gridcolor": "lightgrey",
         "gridwidth": 1,
         "linecolor": "black",
         "linewidth": 1,
         "showgrid": true,
         "showline": true,
         "title": {
          "text": "PC2"
         },
         "zeroline": true,
         "zerolinecolor": "lightgrey",
         "zerolinewidth": 1
        }
       }
      },
      "text/html": [
       "<div>                            <div id=\"1683f803-04ce-4229-99c0-671355a6d559\" class=\"plotly-graph-div\" style=\"height:525px; width:100%;\"></div>            <script type=\"text/javascript\">                require([\"plotly\"], function(Plotly) {                    window.PLOTLYENV=window.PLOTLYENV || {};                                    if (document.getElementById(\"1683f803-04ce-4229-99c0-671355a6d559\")) {                    Plotly.newPlot(                        \"1683f803-04ce-4229-99c0-671355a6d559\",                        [{\"hovertemplate\":\"is_safe=0<br>PC1=%{x}<br>PC2=%{y}<extra></extra>\",\"legendgroup\":\"0\",\"marker\":{\"color\":\"#636efa\",\"opacity\":1,\"symbol\":\"circle\",\"size\":3},\"mode\":\"markers\",\"name\":\"0\",\"showlegend\":true,\"x\":[1.6108637576914138,-2.611380313492497,0.35864021592950973,-1.0398517239811764,-1.155792454514076,-0.4401727383529463,-0.6858145989682024,1.7411419303970448,-0.7052946202519768,-1.1915279849388698,-0.3187442896763142,-0.8417620235466939,-1.3375566476013547,-0.8114843046331112,-0.8202164186587052,-0.5712503031097121,-0.8703316614043005,-1.5281008819006556,-0.2263892012825792,-1.0276075934707738,0.6825815144236189,0.6897398261322037,-0.7264006762592019,-0.42308808386975305,-1.43508421616308,1.8035817897662723,-1.5020463994214428,-1.045689109060382,-0.353670720545765,-1.6599396190263362,-1.6828616585887348,0.2247922813431177,-1.1235689405740914,-1.9041131377889664,0.3670675798864062,-1.9856947725714826,-1.1666601503500689,-1.2818417337469794,-1.1998805253964688,-0.6964925080201981,-1.9885395490985174,-1.1975551568020724,-0.7264012958864673,-0.8524399325986897,-1.154036446271672,0.5123440566442392,-1.6952955758831352,-2.159815619917798,-1.0044957671243775,0.907902222780144,-0.8204062054427022,0.5913510770916465,-1.777256784233646,-0.9526724433228055,0.10168160777718031,-0.7124384417994071,0.4285271417550393,0.15596894476716558,0.04245872790384685,-0.690958887922963,-1.1719281750772825,-1.3659364986749638,-0.854195940841094,-1.260677727659911,0.595257939566955,-2.110507451494621,-2.030302251386514,-0.19735867571553958,0.19304580749206554,-0.8559519490834987,0.15171304427626076,-1.2142602377172709,-0.5077522091497298,0.2835996053171586,0.8677272873216464,0.4868767410944141,-0.41853756133329933,0.22668812395016621,-1.2204771963644707,-0.6674235080167841,0.13248278508925282,0.9819407283325586,-1.2663233007221935,-1.8222937890360253,1.3019079254277093,-1.2055281236916766,-0.558816385815312,-1.9803767954249156,-1.5009076787174591,0.03545229868624729,0.8495839870213769,-1.1897719766964652,-0.9381029442180066,0.4718105766327836,0.9566529701308937,-0.8833349390506929,-2.005434416797714,-0.9455165736490346,-0.18747117225040777,-1.7194062885688706,1.028001387283011,-0.24371842397927965,-1.4977752358006444,-1.035580560360378,-1.0414179454395835,-0.875361972161088,-1.3065197815517826,-0.6879501807786015,0.2680237422856277,-1.4803110077494563,-1.3476651963013586,1.4287444453141878,2.243220237525024,-1.7916364965544471,-0.6819230089153989,-1.8165043311432478,-1.3367975004653654,-0.5318129694161126,-1.4051062117656166,-2.007000638256121,-0.562897762652113,-0.36250102399077266,-1.304763773309378,-1.5366432091422522,-0.8979044381554921,0.07368195547439788,-1.9301196930817515,-1.695105789099138,-0.5392785764994193,-1.947204347564945,-0.2820498024381181,-1.680116786900406,-1.8124229543064472,-1.7021318473016804,-1.2915827570053293,-1.5885164853631775,1.5909166196579474,2.411501884818675,-1.50982957952705,-1.023146643065978,-0.1939655678515489,-0.8707112349722952,-1.3092247237141736,0.21671800958471318,-1.3562075235429552,1.6638775714482958,-0.7085468517466035,0.6211115165767267,-1.661885414052738,0.5597423091011025,-0.022160483008101854,-1.6830514453727323,-0.5485180503313111,-1.6791598553199287,-0.6747571163482119,-1.8265649526568237,-0.07476590492241449,-1.3070891419037747,-0.06686584142891469,-1.5220737100374526,-1.264527362953851,-0.7165198186362081,-0.4391822627589401,-0.9487808532700023,-1.6828616585887348,-0.5460028949529172,1.6952000767961988,1.0026734930129864,-2.032248046412916,-0.714953597177801,-0.5336514871461495,-1.721731657163268,-0.8547653011930861,-0.7083570649626061,-1.6885092568839428,-1.3162008294973633,-1.1763891254820784,-0.8262435905219077,-0.8258640169539128,-1.8598453030159925,-1.5121549481214467,-1.2226127781748701,-0.9524826565388085,-0.26379065146206454,0.10529555433362099,-0.18254185654878718,-1.2628112842373846,-0.9212281223056419,1.4728906746773676,-1.5121549481214467,1.405360741356572,0.1511436839242688,0.20701582749436231,-1.0398517239811764,-0.6421540288402323,0.7119923939614816,-0.6109793536589412,-0.7172789657721974,-1.6743193313471376,-0.7207909822570064,-1.3639907036485623,-0.944509689649204,0.5319712791747494,-1.6599396190263362,-1.3396922294117541,-0.7224233579981693,0.35283528278885073,-2.0135971704713156,0.1655004452683192,-1.1591146842148876,0.21969706485071566,0.8721882377264419,-1.0200621273355917,-1.1468705537044848,-0.05415993953503963,-1.9995970317185077,0.7094718894998323,-0.547948689979319,1.1564813904449613,-1.1354334975164997,-1.7685246702080515,-0.46045983395913836,-0.8588466780298871,-0.86487384989309,-1.503992194447845,-1.7885040536376335,-0.2827493910632267,-0.6930284187218173,-2.153598661270598,0.14487059388772863,-1.4436265434046762,-0.53821971484731,-0.4852097431553259,-1.3352312790069585,0.16499599065194148,-0.6073002929659423,-1.5306160372790496,0.7945155939233706,-2.028356456360112,-0.7206011954730089,-0.7003840980730017,-1.1305450463572813,1.2747969219185122,-1.5121549481214467,-1.5247786521998443,0.6365016470071553,1.7049055827368806,1.0970090582884946,-0.6966822948041954,-1.1689855189444658,-1.2055281236916766,-1.8324023377360283,-1.7460363103700625,0.5579988653410932,-0.02929200167502854,-1.8246191576304216,0.6166679615230053,-1.0291738149291807,-2.1778971355074064,-1.6517768653527345,0.6546387701959604,-0.4748213173250903,0.04545336168894199,-2.153598661270598,-0.05711189008722915,-0.3795873938932587,-0.8978366272299576,-0.22576552823175056,-1.0161705372827883,-0.46525050878378615,-0.18941826589421418,-1.9477737079169362,-1.2611032031814082,0.09765262539454587,-0.0698256845118615,-1.993190286287311,-0.15512630951331374,-0.7775047824507219,0.06266087198759304,-1.3785602027533614,1.301227237313502,-1.8448362550304291,1.7153558007118666,-1.5179923332006522,-1.666536151241531,0.5296363044888253,0.6014390117199789,-2.0928534366594347,0.5634989432833216,-0.23489170226944917,0.5861678987571459,0.4735207880514181,0.04108774930094776,-0.8978366272299576,-2.169924168617802,-0.86487384989309,1.1062796928756162,-1.666156577673536,0.052247469947680765,0.4313094508642293,0.5634989432833216,0.605311389589727,-2.1740055454546026,-0.6528319378922282,1.1277734233825374,-0.12829409105936582,-1.9995970317185077,-1.134646468980913,-0.08843320380598346,1.3137341668507838,-1.1959889353436655,-0.8747926118090962,2.6078565027545793,0.7478452227175338,0.3438155023734782,-2.1718699636442036,1.2568575775986284,-0.6763233378066188,-1.828510747683225,0.1448290540722313,-1.32536044427738,0.2592571510885623,-0.7005738848569991,-0.6421540288402323,0.07920072924362741,0.3549743987090461,-0.7124384417994071,-1.8215346419000353,-1.1410431915186952,-1.8290801080352175,-1.6727531098887316,-1.4651721482926656,0.5850463650032918,-1.037146781818785,0.07980243454591014,-1.6873226089935311,-0.8400060153042894,0.6825815144236189,0.8015242511992724,0.3982538863921505,0.6255247481960382,-0.8198368450907103,-0.40564026422438926,-1.2964112328517787,1.3847049268210543,-1.5693062719630004,-1.8244293708464239,-0.7046552616938,-1.9976512366921064,-0.09204995228113307,0.031196505183597886,-1.8199684204416287,-2.0153531787137196,-0.8522501458146924,0.7433630348967573,-0.9720824664003955,-0.920448929382821,-0.9100672007371488,-2.138080228245812,1.1300046530233707,-0.9055598320227959,-0.9951942927467914,-0.8710908085402901,0.5589497193642725,-1.4644230240500915,-0.34670666288891605,-0.7986708137707161,-2.014785843594653,0.29758941136291756,-0.34507895724086934,-0.7656881526947419,-0.8709010217562927,-1.0583128131387793,0.5188644630256879,-1.9764852053721123,1.0975784186404862,0.47321017440193247,0.7451862876383781,-0.0297960394895185,-0.8666298581354941,-2.0058139903657084,-0.8248671558474981,-1.5391583645206461,0.9372199960765525,-0.8203603034891999,-0.16687824193462344,1.495386823774903,-2.139266876136224,-1.6213093596551542,-0.1560529139423369,-2.017488760524119,0.7094718894998323,-0.49436935793534276,0.02816889752833583,-1.5679198143951751,-0.6819230089153989,-1.1591146842148876,-1.0454993222763844,2.524881349618734,-1.1147570707678331,-1.1234790586288006,-0.03647305595942028,0.06860439466279974,-1.2474826379965955,-0.8835247258346901,-1.1964305094573544,0.31743160714656793,0.2823105109990604,-0.7775047824507219,1.0049063329433794,-1.3682618672693607,-0.5439766156718084,-0.6580520354330134,-0.5378401412793152,-1.1591146842148876,0.09765262539454587,0.14830648825583567,-1.8448362550304291,1.7019192564259082,-0.3375292340974153,-1.8201582072256257,-1.8139412485784254,-0.5522198536001173,-1.188633255992481,-1.8224835758200224,0.2788407590867468,0.7652576815173872,0.8100991355091484,0.4066461498332655,-0.46240765421846547,1.4463545834287954,-0.5850827260982786,-1.9056314320609455,-2.015542965497717,-1.293326717121393,1.9654221056104773,0.8135882065927725,1.5677610198621852,-0.5805718232741297,-1.8001388942701066,-0.8619791209467013,-0.7555856796935141,-0.2563910953903027,-1.9860243937201236,-1.4857688192606673,-1.534887200899848,0.30262013520454917,-1.9656175095361192,-2.171110816508214,-0.6938475411705758,-1.8327819113040236,-0.48734532496572514,-0.5234604289585134,-1.5075042109326535,-0.7787915417222625,-1.03752635538678,-0.661943625485817,-1.8557039508664224,-1.721731657163268,-0.09128119905361563,0.970637843895285,-0.6165511433681242,1.7153558007118666,-0.08843320380598346,-1.697241370909537,-1.0144145290403839,-1.1628164874836937,-1.982702164019312,-2.005434416797714,-0.690958887922963,-1.3398820161957519,-1.3663160722429588,2.6235110313503136,0.3357776297482596,0.07920072924362741,-1.9930004995033137,-1.8528092219200336,-1.1905790510188827,1.0970090582884946,0.6038372837104798,0.126886648090269,0.6213008902758808,-0.7168993922042027,-0.6823505096698217,0.1037410711879223,0.1865415955399302,-1.3604786871637535,0.3603234240470208,-0.6708655262954083,0.163380233576069,1.0791881099504186,-1.3501803516797524,-1.2654383925808255,-0.2707543974467584,-1.21639581952767,0.602888141389549,-1.6949160023151402,-0.7083570649626061,-2.0011632531769155,-1.3645600640005546,0.08073662355058008,2.5654401137949776,-1.4467110591350625,-1.9301196930817515,-0.7614169890739437,-1.9483430682689284,-0.6011984008746537,-1.6770242735095298,1.285238832419375,0.15000699031173179,-1.3020588311469867,0.7826643762906192,-1.2795263880459984,0.4546340149713738,0.47038418953902034,-1.0454993222763844,-1.6952955758831352,-1.1409133800474667,-1.2855435370157857,-2.0687926763930524,-0.04737554249756189,-1.37661440772696,1.920089857276762,-1.3794792300408265,-1.952614231889727,-0.6838688039418005,-2.145863408351419,-1.3249329435229573,-1.590272493605582,0.13729693282227315,-0.40288635658789473,0.49301129538371485,-0.6772388309842874,0.8273774206997675,1.4264177818194306,-1.6927804205047412,0.9686018533929153,-0.7371185148371352,-1.9301196930817515,-1.6539124471631337,0.33816910314150883,-0.7124384417994071,-1.5220737100374526,-1.3661262854589615,-1.311929665876565,-0.8470300482739072,-0.3304090369413092,-2.138080228245812,-1.6368277926799406,0.4421878430082109,1.2339009575935478,0.43131521489085034,-0.8112945178491136,-1.3499905648957549,-0.8874163158874936,-0.29129171830482337,-1.6203604257351671,-1.905251858492951,-1.6645903562151299,0.593527422031759,0.47598183541487527,-0.957940468050019,0.04545336168894199,-0.8743251815287361,-1.0307400363875878,-1.8085313642536434,-1.1959889353436655,0.6320215839734707,-1.990864917692914,-1.8341683688718489,-1.177338059402065,0.12195494169626069,-1.0286044545771884,-1.8469718368408279,0.8384667356310391,0.3001571658793775,-1.5512147334799768,-0.2550615477561235,-1.1975551568020724,0.8094702166462752,-1.6512075050007424,-1.9897261969889297,-1.0392823636291844,0.5188644630256879,0.634067075437635,-0.8856603076450895,0.362179128727188,-1.0171194712027751,-0.46095919610494585,-1.777256784233646,-1.3346219891290285,-1.824239584062427,0.5091680449619582,-0.6724479496172175,-1.5848146820943714,-0.8559519490834987,0.9205836703959639,-1.1150809260313312,-0.6621853899220931,-0.3289768858209251,-2.1378904414618143,-1.3179568377397677,-0.8609822598402861,-0.4263205348964847,-0.8790637754298944,-1.674129544563141,-0.6058196445157683,-1.818212412199224,-1.8557039508664224,-0.8643044895410977,-1.9803767954249156,0.000546168357790869,0.794136014779809,0.7232936662506735,-0.4673659415361432,-1.3457194012749567,-0.706221483152207,-2.005624203581711,0.5140277811178041,-1.955936461590538,-0.3587407524275463,-0.6171548739033326,0.8800864843879607,1.5677610198621852,-0.8547653011930861,-0.9561844598076146,-0.37813358855500573,-2.1613818413762047,-0.5343281247945064,0.5188644630256879,-1.2890555535005945,1.4069310095637848,0.9132013989699767,-0.8312739012786956,-1.9355295774065335,0.6994534311460636,-1.2863026841517753,0.7324936254999939,-0.8278098119803148,-0.24371842397927965,-1.0713660432045249,-1.5121549481214467,-1.8553243772984276,0.9789998853146786,-0.69283863193782,-1.2226127781748701,-0.7151433839617983,-1.2123144426908692,-0.21441077313045379,-0.7172789657721974,-0.6807842882114146,-1.943692331080135,-1.8780586553097538,-1.6622649876207332,-1.2855435370157857,-0.5077522091497298,0.10377372966889024,-0.47920464231187976,-0.9711396081791848,-2.059443274829038,-1.177338059402065,0.7690208601290556,-1.132111267815688,-1.0128483075819767,-1.6083660573215304,-0.5236502157425107,-1.0802879440141162,-1.6811056503463306,2.5602794696353404,-1.9017398420081422,-1.4979650225846424,-0.6674235080167841,-1.2915827570053293,-1.3501803516797524,-1.2800058664526999,-1.6927804205047412,-1.842510886436033,-0.8433282450051011,-0.5891440571482482,-0.6964925080201981,-0.8202164186587052,-1.6467465545959468,-1.1581178231084728,-1.6517768653527345,-1.9609667723473263,-0.9524826565388085,-1.534887200899848],\"xaxis\":\"x\",\"y\":[-0.28348812220234504,1.3905382318485728,-0.2644282727932105,-0.757804440792121,-0.5083313134952344,-1.2492479771930982,-1.1485176959851155,0.6401892721760055,2.537721876857526,-0.5380997299033299,1.37499505031761,-0.934220913718179,-0.33188176191865143,-0.8855660954467472,-0.9017816116496808,-1.3790961517560338,-0.9342788013565969,-0.11495544230446789,1.3454693785684657,-0.7577796318042275,0.47592868999252325,0.18654880224675016,0.4522513489250488,-1.2276162627056788,-0.02297930741977866,0.16679606296433652,-0.12840083689542545,-0.7497173568472316,0.9551390927817692,0.08859164001980734,0.07504700947727684,0.8537417491953814,-0.4623721898720987,0.6442053698662212,-0.19124599145386334,0.9423415850971707,-0.5272507940090956,-0.2561790308753137,-0.5435159281878157,-1.1620375175397526,0.5063528079847072,-0.5354123049176646,1.189201929741522,-0.9477407352728162,-0.5164266671027542,0.6369784020564867,0.06962254153015973,0.6909225221567039,-0.7388353423024729,0.9118014522126998,-0.9071812706089045,1.775043964364861,0.3569594388426615,-0.6577412219625427,1.7834921331708034,-1.1512712782718293,1.5101328133002987,-1.1501824274884784,1.0139923238942932,2.009980245751414,-0.5029647331865349,-0.3265399905978454,-0.9396453816652962,0.12045484599884344,0.03512730450012757,0.7585133602672595,0.4792718165622772,-0.694659649902185,0.8415038694965007,-0.9315500280577762,-0.07776436818310464,-0.5462447014866366,-1.314176199305882,-0.2151786379451686,0.6384195643729451,0.21285913301543638,-0.019561371827858488,1.262732231511726,-0.5489569354601951,2.5701942575765493,1.5500443198363345,-0.7127840445377919,-0.22105230382115026,0.29477652935396126,0.893873408175117,-0.530029185283703,-1.3736716838089167,0.5063693473099696,-0.09600288314008183,-0.2866802119779622,0.007304823735612211,-0.54619508351085,-0.6496127897044979,0.7341167964614308,0.7662909058036591,-0.9559022461813855,0.49012075245651177,1.024113673624921,0.8137364960756874,0.4353661341969266,-0.4330116603953683,-0.9286763081704601,-0.12299290827357034,-0.7523965121702663,-0.7443094282253768,-0.9612853658153471,-0.2616283078103244,-1.1512216602960426,-0.2805347013528875,-0.0905618758677031,-0.3292026065956173,1.9778552620844163,0.9658337566022464,0.3542306655438404,-1.1539090852817078,0.3433817296496065,-0.3102831260817559,-1.3601187836037554,2.495792572639496,0.5036157650232559,-1.3736799534715483,1.775777328192247,-0.26972366141784443,-0.12577129954817767,-0.9640306784394301,-0.6247281135036383,0.6009584802166443,0.07502220048938349,1.0802877494144103,0.5793267657292247,-0.22038260529596163,1.3344081405190211,0.3433899993122375,0.46239750764357007,1.7644377019080604,0.20482075707653255,0.7147704333028503,0.2097430992080694,-0.11761805830223997,-0.746972044223149,-0.6237914960751973,-0.9450781192750443,-0.28053124899892284,-0.3868702204309646,-0.34001846383932705,-0.12855567249125702,-1.156662667568422,0.9179946392671289,0.0912873346681041,2.6577109101166965,-0.4163795326135376,0.0696473505180531,-1.3709511801727272,0.0642559612214607,-1.1241985565120305,0.2893686007321061,-0.6682230930321493,-0.2778272846879954,-0.41107083994325627,-0.1176428672901333,1.011310532424475,-1.1512795479344602,0.15451500194304205,-0.6631326112591353,0.07504700947727684,-1.3574478979433522,0.3961831237942995,0.05125529369842811,0.4819675112105739,-1.1647745605012048,-1.0535845810647244,0.4272625109267756,-0.9558443585429676,-1.1512630086091982,0.08853375238138966,-0.3048421188093766,-0.5137723207676136,-0.8990941866640155,-0.8882948687455682,2.336934010335813,-0.12572168157239103,-0.5516608997711228,-0.6523415630033188,1.9069181350509041,0.5889351793023755,-0.7737273191341069,-0.23724301103619047,2.6709079994592697,-0.5039172195858878,-0.12572168157239103,0.07323902024674424,-0.09396334506077575,-0.12610828309134473,-0.757804440792121,-1.0674401149704473,1.2529170034463821,-0.22510693221414946,-1.172878183771356,0.08586286672098663,-1.1566874765563153,-0.3292356852461416,-0.6577246826372803,0.18244628205494637,0.08859164001980734,-0.33458572622957894,2.1084448547679195,0.5422014876866303,0.4901042131312493,-0.24038537600374116,-0.4867409473209702,-0.20787991663419364,0.6492271519540235,-0.7172697851161022,-0.4867161383330768,0.23225998013888466,0.48203366851162255,0.319679218371959,-1.3547522032950559,-0.14105301593304265,-0.45159768094154445,0.37317495504559517,2.472085244053182,-0.9558526282055984,-0.9531652032199336,-0.12570514224712864,0.327240640410353,-0.6895708943061531,-1.1215359405142589,0.6936347561302626,1.5028173729053707,-0.03379516466348869,-1.3682306765365375,-1.311430886681799,-0.3237781386484999,0.7780307484894127,-1.1931692300163168,-0.1284587245338431,-1.2703722822066124,0.4765761219139812,-1.1512878175970918,-1.15664612824316,-0.4866830596825523,0.9449572904874574,-0.12572168157239103,-0.1365458084787318,-0.8569772451307361,1.410149582023833,0.7794027692054137,-1.1674371764989764,-0.5353544172792464,-0.530029185283703,0.2974556846769953,1.620419326885277,0.04454252016859637,0.12028381923037336,0.28667290608380985,0.38225354668827977,-0.7442846192374835,0.6989847971136999,0.08860817934506963,0.39947401878258665,-1.2880588154616692,0.2149225701128346,0.6936347561302626,-0.6303924016670581,1.740664216020698,3.524023960808754,-0.1284808973749525,-0.722661174412695,2.1616172583917614,-0.8132900975692768,0.5631277888515528,-0.18864608040317646,-0.5994370967897049,-0.6618680961573392,0.4901455614444051,-0.6361277729773672,-0.8477023254311317,-0.43766726508724085,-0.33736411750418643,1.2838237088549236,0.29203121672987825,-0.1771823379580053,-0.1176345976275019,0.07508008812780155,0.2102461349934514,0.3372745699686239,0.7963440516323508,-0.01982512667301152,2.697936807980647,0.21495174142449391,-0.25757551413148067,0.7048558980644152,3.524023960808754,0.6936016774797383,-0.9531652032199336,0.14958108023794484,0.08587940604624901,-0.2551962478250503,0.06521220910684844,-0.01982512667301152,0.40369013308934293,0.693593407817107,-1.0809599365250846,0.8258753551924446,1.1621096000658797,0.48203366851162255,2.8175974042903884,1.7223566905415393,-0.7835230478207807,-0.5489073174844084,-0.9450863889376756,0.545566676855423,0.49684981262649963,0.9889647737296481,0.6962973721280344,0.08416596653690041,-1.1107035439452866,0.2920642953804025,-0.4364175631337246,-0.2751646686902238,-0.7402990013666646,-1.1620457872023837,-1.0674401149704473,-0.1467772287488307,0.44904315056307303,-1.1512712782718293,0.3163751651908563,1.15734114453982,0.2758653185027314,0.07236785415424282,-0.06623446673198688,0.46574072797594557,-0.7389014996035218,1.9157300248646834,0.06423942189619833,-0.9423162673256992,0.47592868999252325,0.5545966707341935,0.2601898223696719,0.17737406578417694,-0.8909822937312333,1.8904161050985302,-0.2643074631333583,-0.5383829727623943,1.8813008026926652,0.2920725650430336,-1.1620540568650148,0.4793379738633262,-0.6593509902701368,-0.4620277528734814,0.30288015262411283,0.4981995667387695,-0.9423410763135927,0.912843070186839,-0.6874765597201136,-0.6117820983394069,1.7759924835685885,0.7287614831844266,0.9608449446277948,1.4709761956195118,-0.706420849221868,-0.9558774371934922,0.40184227074242845,1.6075085359226937,2.9865882221341153,-0.8693423095811822,0.8693924363405475,1.7973704746612273,1.1683942570745662,-0.8017845501211516,-0.950477778234268,-0.7605414837535724,0.0779420859985214,0.5009779580133772,0.7956017460830848,-1.0686880195254638,0.09095313141965347,-0.4775409468856027,-0.9450698496124134,0.4793214345380642,-0.9179888581899832,-0.1392745817775526,0.5874047638043017,-0.6088796621253325,1.1606899983880428,0.2542971234646793,0.7530558136696178,0.14266265657572583,0.7854455689838471,0.4954956024278422,0.319679218371959,-1.2817534365626457,1.8400355634839773,0.210261764348912,-1.1539090852817078,-0.4867409473209702,-0.744317697888008,0.45658552650280065,2.157584802839871,0.3663998230164063,-0.5476075425702048,2.3341007270869527,-0.20751594294125061,-0.9613019051406091,1.8591178011036766,-0.22819577186704829,1.6016074232071382,-0.8477023254311317,0.8850016293197278,-0.33464361386799674,-1.3035885487990526,-1.1133661599430584,-1.35743135861809,-0.4867409473209702,-0.5994370967897049,-0.21086170565778872,0.29203121672987825,0.543593571303375,0.25326612470898774,0.2974804936648886,0.300192727638447,-1.3601601319169108,-0.513797129755507,0.2893768703947372,2.1347871371429803,0.48784046941654857,0.6786598560110337,1.7517144041127948,2.829774831425585,1.3623904522418286,2.293656678182494,0.6010080981924311,0.4927999077795458,-0.23460520402631177,0.7692805807265022,-1.1740924105430146,-0.08029445420932856,1.892778088798933,1.5838729981532762,-0.9288626030721108,0.2605179727281332,2.5953238239874845,0.5198560902140826,-0.07167547400436639,-0.13386665315569782,1.3330766519089954,0.5198974385272381,0.7178960079649298,0.9206959674312726,0.2866563667585479,-1.3141348509927264,-1.3547025853192691,-0.10951443503208848,0.24561455258883197,-0.7497008175219694,-1.107974770646466,0.273111736216017,0.4272625109267756,-0.6736558306418974,0.24286462495587677,2.9792839758444667,-0.1771823379580053,1.7223566905415393,0.07231823617845613,-0.7307565280202151,-0.47594989906515384,0.4982657240398185,0.49012075245651177,2.009980245751414,-0.3399853851888025,-0.33733930851629285,0.7768214831743531,-0.04026720800721568,-0.1467772287488307,0.4955452204036288,0.2974143363638396,-0.5111014351072105,0.7794027692054137,0.08284282051592061,1.410976477065428,1.4146946854373348,-1.1620788658529082,-1.1080161189596214,-1.0362327772645363,0.8104700505579113,-0.3454263924611819,-0.13281335048061932,-1.1295899458086232,-0.4130289525883329,-0.6792624351715913,-0.34270588882499226,2.579764320205608,-1.055476536408752,-0.5489486657975641,0.8639649710243666,0.08042185944860725,-1.1512630086091982,0.4955286810783668,-0.34543466212381296,-0.31169340397922796,0.34759900490637324,-0.06349742377053469,0.6009584802166443,-0.796376621499297,0.5469288119738817,-1.0052654751443781,0.06695992553238811,1.0232511350075353,-1.0438254432392993,-0.2508207202292457,0.6128672622716059,1.4040689592126232,0.2387069618096125,1.1646976449520392,-0.744317697888008,0.06962254153015973,3.226571347281471,-0.24538798261949737,0.8422866359302239,0.4833399869114754,-0.3400598121524828,-0.27395444642984584,2.5282401443706255,0.5415208833520265,-1.1512133906334117,0.7395442617776116,-0.32105763501231016,0.212916110684053,-0.29187312937140775,-1.0630349610780827,-0.17128513258131411,1.659038416495041,0.24135363761495543,-0.7849111528771432,0.08312582375953494,0.9102041005220529,-0.8017266624827338,0.6009584802166443,0.08590421503414264,1.6300583983316188,-1.1512712782718293,-0.1176428672901333,-0.33193964955706906,-0.29943419018752193,-0.9099348528956188,-0.260975148610398,0.7287614831844266,0.10753592952156199,2.4860709470098787,-0.250102351013728,-0.0688239269581602,-0.8801664364875234,-0.33730622986576847,-0.9559105158440169,-0.700386751549863,0.16966095137184448,0.6118074161108785,0.07238439347950507,-0.2142756626893263,1.5628970790125671,-0.6334551611399822,0.2149225701128346,0.24947883459338327,-0.7307896066707394,0.3379986100156451,-0.5489073174844084,0.20613752630089932,0.49824918471455654,1.957695405102301,-0.5407706155637327,-0.5066544779167896,-0.728085642359812,0.2893272524189505,1.8011660344394633,-0.2552271453136917,0.221094160917884,-0.8450105381217006,-0.5354123049176646,1.1100505323066592,0.10480715622274142,0.5306471384698989,-0.7416054639144495,0.0779420859985214,0.18818992302788684,-0.9640058694515369,-0.15616061271285556,-0.749659469208814,-1.2600886434247014,0.3569594388426615,0.9328790280823164,0.29747222400225765,0.20466788727313331,1.7238562085509714,0.19402970882071627,-0.9315500280577762,-0.5405608783337884,1.038592920192701,-0.34669435991694264,-0.8255921331660145,0.7341611421436498,-0.2967467652018569,-0.9585565925165263,-0.2544287868401642,-0.9504943175595306,0.09126252568021077,2.3624302221972333,0.29478479901659227,0.273111736216017,-0.9369662263422621,0.5063693473099696,2.2219698633657847,0.40623915497216223,0.16096183946583728,-1.268200536357484,-0.33189830124391373,-1.148559044298271,0.48472109349728804,0.15446784035534775,0.5631112495262907,-1.1204461068346911,1.271770614955059,0.45325285246245794,-0.08029445420932856,-0.9558443585429676,-0.6415505147475025,-0.8669945042854675,0.7044175347234478,-1.3736220658331306,0.0779420859985214,-0.22919727540445717,0.47469672562993587,0.6188060313309028,-0.9261007511227657,0.563152597839446,0.3430099412789328,-0.26698661845639254,0.31797194028977366,-0.8855991740972717,-0.9286763081704601,-0.37047875161372057,-0.12572168157239103,0.28391105413446444,0.8976726955335264,-1.1161362815550349,-0.5516608997711228,-1.1701742194604283,-0.5489403961349327,-0.6030440363564746,-1.172878183771356,-1.1215111315263655,0.5631360585141838,0.6307599752752638,0.08048801674965626,-0.24538798261949737,-1.314176199305882,-0.483340294335078,2.345164314692215,0.40450341324832456,0.8180088447702943,-0.5407706155637327,0.48258632056789436,-0.4731880471158088,-0.744251540586959,2.2281166451829404,-1.360102244278493,-0.39209392677587807,0.06695165586975667,0.5528984768169226,0.595616708895838,-0.1283925672327941,2.5701942575765493,1.7644377019080604,-0.34270588882499226,2.216641995223457,0.08312582375953494,0.3001348400000294,-0.9207259011514352,-1.0106403251157081,-1.1620375175397526,-0.9017816116496808,0.11561474380382003,-0.5164349367653854,0.08860817934506963,0.5361046850675409,-0.6523415630033188,-0.13386665315569782],\"yaxis\":\"y\",\"type\":\"scattergl\"},{\"hovertemplate\":\"is_safe=1<br>PC1=%{x}<br>PC2=%{y}<extra></extra>\",\"legendgroup\":\"1\",\"marker\":{\"color\":\"#EF553B\",\"opacity\":1,\"symbol\":\"circle\",\"size\":3},\"mode\":\"markers\",\"name\":\"1\",\"showlegend\":true,\"x\":[2.4280822930864345,0.284218812958771,1.3184002722992039,2.341389966563634,0.5735595685139417,-0.47628986757866004,2.2663264068330538,-0.0695419634582005,0.12222329263177292,1.1515238816715894,0.15429534088266042,0.030007937189993436,0.7995286126002948,1.6166820320002433,0.5329892781429788,1.7890813501341485,1.186795510350252,0.9632744785557653,0.8547393797934029,1.2378232841656045,-2.021759924144917,-1.341638024438156,-0.36871128359488714,-0.49569028456472214,1.0370977010414064,-1.555485897100775,1.2318344333973021,1.1073141484614106,2.8736463994386447,1.9110587572090902,1.6516986583456623,-1.5470895831938096,1.2703803664488704,2.0010963676806637,0.9999991896742042,1.6726768229848512,1.0181880858313883,-1.0289840281451832,-0.3909796364856799,1.909203050670401,1.4259481179052007,1.809856281691428,1.3751886857327498,0.7235007432560119,-1.2725402593693935,-0.411561145736477,2.106290022700637,2.229770352070886,2.368193990087309,-0.49380882141352767,2.2983389979857485,-1.312928552215905,2.1585466112832523,1.2010352850351993,-1.9380447327849277,0.7146631687660344,2.115493722602175,0.7886264358757861,1.5148393216844542,2.3012587031418135,0.552826694986736,-1.8469718368408279,1.483405588128502,0.4841488498137938,1.6152710150246297,0.2453931079067033,1.5288720175055412,1.285450164574464,0.09205103418257372,2.7416965429516917,1.718125960282027,-1.294465437825377,0.3196035918071973,1.574857954369385,1.5723791981241768,2.3351614817217143,-1.8783903016913208,0.6060916708704863,1.876922005310983,-0.4883767683733444,1.1862989464061096,1.906994565463897,1.1662754797135286,1.5544683622652429,-0.3226831817127139,0.7510448050038311,-0.7701491030995377,1.2875416649803861,1.3621892501512638,1.2065429401189858,1.753516394310297,-1.6000135168639318,2.4040522711978265,0.02622258614587954,0.6025336491609642,0.09460964762113476,0.000648515231310586,0.06973475410535296,-0.8305147541427059,2.04609494625841,2.284898613493406,0.7554290118061378,0.29683270254469685,0.018517191647481297,1.984671163895697,1.5693599035186048,2.1365773477057473,1.2847696885782445,-0.28828960693233646,-0.14413394102988142,1.4563944913165334,-1.9050620717089541,-0.4159462875552482,1.1644102759300892,1.315875510829282,-0.5040504058809235,1.4416064848487977,1.5563125370336461,-1.4906093432334577,1.958363597327911,1.4486688426303598,2.8422318817827916,0.5414529342448052,-0.028912219706089703,0.03650861689085465,-1.8475411971928204,0.9634834830983846,1.4680366988310982,-0.10040249088020989,2.4543764096392646,-1.0347417607149352,-1.0571761176677206,-1.1207842426310357,-0.08998524677539084,0.47881945160224043,1.9264832541056909,1.4531700323747259,1.6037247614370869,2.515388166495436,0.19430203306972993,0.8311502054029639,1.8043716789970816,1.951613677461904,0.3786771326370478,-1.67626512637354,-0.2147080456117601,-0.05278127122676079,-0.3256776070968651,-0.9940555720428074,0.8193718986004064,-0.8623586945146959,0.3238056940967978,0.3173376747354266,1.0740046162267185,0.8279640731316231,-0.7208429599092849,-0.00591353795389089,1.1735142756768198,0.41583126275457977,0.6278270625424729,1.9536112398811183,-1.7716691612512063,1.0069580015190083,1.472039517091951,1.7897178517141463,-0.14865818688073176,-0.2661038686589091,1.3201792278013151,1.3024312824135102,1.3926625235925099,-1.4966964904094298,0.5764753246168449,0.07384676604871855,1.4773975233186218,1.981764906896066,1.0724478957301062,0.33407531457742623,-1.8557039508664224,1.3326898942737708,-1.2366149421606027,1.1103516720218332,2.526798326370553,0.7252395664068084,0.19567846960266183,1.8453292233488086,0.7959936432802126,0.0654041352448846,-0.05534850938716628,-1.0289840281451832,0.41234614258263996,2.462220966946256,0.059192942482827776,-0.15806320161950943,-1.5051788423382573,0.7049687759352299,0.9673712292277592,1.409028270279284,-0.6941671394258014,1.331436105155353,0.08485632334080341,1.0882309390381868,0.5807503303025499,1.4961769139725676,0.5015646306054549,-0.6503850653007262,0.8739174585027552,1.828664387348746,1.5841211095105934,1.8767456648248972,-0.8703316614043005,-1.4494721326867934,1.9962423936929168,1.4374100433146075,-0.14656284812694717,1.1527815109963917,0.6617449014268889,1.2541180512765104,1.4561242202778288,1.6459302276093992,0.9384641809619648,1.0864250872232064,0.3835157346481238,-1.8533785822720261,1.7768391434439825,0.5696238914810945,-0.06581144704454402,-0.6411571677338175,0.19672133593379032,-0.9996552431515873,0.7133097939151535,-0.19479559315071765,0.49083547237522346,-0.9439403292972118,0.3611688194643384,1.2050337355824796,-1.7509705602115728,-1.2783776444485988,1.1714266229113712,-0.7520675875099294,0.18933886354094784,1.2639026414418049,1.2233036342089478,-0.04635926080714743,-2.007190425040118,-1.3158212559293683,1.5495913321710124,1.2391479514472015,-0.34159482587270174,1.722866787817055,2.0432769627730325,0.8198550125295925,0.6597131679327918,0.9246844640997195,0.72888960042428,2.0896174988537175,0.7081126436340751,1.3735208477333878,1.2707100945857672,1.3290437041797278,1.2583221806575584,-1.1925268712782098,0.8568826475921374,0.422680879058349,0.18623321366579174,1.5523902086030672,1.8012027281003045,-0.19099985561224778,0.767583050111784,-0.07343739743443292,1.2116671851454373,-1.8201582072256257,1.4306985496732338,0.4257860107189285,2.374851897645366,-2.130490885390053,-0.06047539741528598,1.0569486767468979,0.7857853962839243,-1.0419873057915754,2.346092474862284,0.9993857404836464,1.8047224305734488,2.421788692249434,1.5743786843636278,-0.28064346113118604,1.4033998897426985,-1.3661262854589615,-1.5059379894742464,-2.0157327522817146,1.3631247377733386,0.7880474712907883,1.465433375068184,-1.973400689641726,0.5028284426172888,1.5341553053626475,1.178592513620036,0.10617958251799355,-0.25164227205330675,0.7378402143787214,1.2617133665598346,0.9830813709982573,-0.47606549849345814,1.7691686929892065,1.8681227481988603,-0.5788303515460984,1.258605905428264,1.5053767718091986,1.6702613677612645,0.09220057790995631,0.24013266403809277,-1.3661262854589615,-0.8504941375722878,0.9902836608401077,1.8677892887023568,0.25709275100357987,0.12028860699820322,0.4556596962108942,2.182651456671156,1.3355366941752091,0.9941177176149555,0.5509978903364822,0.1811773033550176,-0.6211777843042356,1.5680410021221503,0.1321550859023256,2.277059927201291,1.9050775887120788,1.3265553381259476,0.8107701179776615,1.2521704449936941,1.356631747777858,-0.17498870442526987,2.73022884979862,0.958493411681167,0.6946569960118388,0.8133868880384881,0.6179427796564602,-1.152328365215695,1.6969714532982305,2.261039169922785,2.458131904121119,0.33892928856517335,0.5135732789207793,0.7778181934209408,0.2729428304099328,2.609671964378131,1.2204089052625589,0.529828013234537,2.7053169319468195,1.3013443309608606,1.1333197168089453,0.8205048571362918,-0.5020011756230637,2.186251641540485,2.7398082812032456,0.9814882476514146,1.3404001691247507,1.8861141771592789,0.9120855296885767,-1.5115855877694544,0.668778850301667,1.9146474158836995,1.8778441461893116,-0.8306746342941812,0.6278213003743739,1.363981768232154,0.2097035827066235,1.8240270983163882,0.16324990389026392,0.19452448391026175,1.0319045016720123,0.8150337007398577,0.07671662391516378,-0.5657226554400421,0.9890701166368264,2.528596497772764,0.0727617384163055,0.8328698145121828,-0.7901026303624479,0.4819518908020099,1.6847867817445428,-1.6933497808567333,1.1495416819364355,0.7561748159154261,2.015520163264464,0.2196376114695676,-0.015606112094191698,0.03643197284253201,1.729398205895691,-2.0077597853921096,1.578889482058043,1.6349494904504203,1.2899284107761675,1.7175681279832764,1.5668274560603466,0.6992368550374527,0.8492470929692432,2.2978962341014326,0.21006778801499146,-1.0270382331187815,0.531917591678745,-0.3823797759661276,2.3307388505532964,-0.17112593264704962,0.972595170691973,1.6984609292956263,0.5214256254873175,-1.5016668258534482,0.2818666513227163,-1.3312518322417892,0.8883393321248417,-1.751250228940861,-1.5020463994214428,1.1147934121020957,0.003529796021264786,0.8367441162021674,0.7159591210442591,1.1435873101981264,0.3638968177332142,1.9631734843356137,2.4394580772027674,1.05523291341963,-0.8363521392219114,0.21266342578957034,-1.3604786871637535,0.40605243661590656,1.6299939017802405,1.3568176906384262,1.859095493913141,1.7755125560591922,-1.0149838893923762,2.466129847220401,-1.7722264734768582,-1.6232551546815561,1.7482982168727041,0.36838648314138234,2.425492417479955,-0.6227480562284933,1.0261993700988485,1.140249813650377,1.5281359264760357,-0.8110248720132412,1.2058987562676964,0.6780860905643963,-0.04003299777213482,1.6061114002446129,1.8196079975407218,0.8898537843319139,1.0411139693172158,2.42348524711069,1.0192290302008022,0.18443504226358062,1.681058080304345,2.038509237066614,1.1880185592323727,0.8784167281439285,0.944671529800593,1.243041465320242,1.096957294612726,-0.20740049998942542,1.5793054566177458,0.015778753683301942,1.6540623480349588,0.4025155490511541,1.8022514673048318,0.47776313525615527,-0.08429377361812782,-1.3766228184722937,0.6680005923953105,0.4459917828910708,-0.3794180109214664,1.0316974283837184,-1.096245925919666,1.0220125365147086,1.1532643113949013,1.4666641080801173,0.7105224455363405,-0.45139010112441236,1.7459537430835073,-1.26671897288238,-0.5139691677969298,0.9907130835562452,0.3779563084544807,-1.0938706049059164,0.5687381534529957,2.163847191220222,1.4624389515425549,1.562228489981411,0.9837906708446262,0.7335709727196377,-1.3270685253333565,0.7970461175613912,0.4076148160094068,0.5855352448176214,-1.068802960639703,1.3644206881930414,0.700452214214193,1.4906405457439313,-0.9354600026013097,-1.5036126208798501,-1.817453265063235,0.4657030256446066,0.1844453236282038,2.032953649220833,-0.6772722717266056,-1.4729553283982728,0.5458141882118385,-0.07368471749638604,0.47121837229229496,1.680714905869536,0.8292542576661825,-0.10727890208415919,0.23452349196751804,0.4854294319738698,-0.2923977768107953,0.8410364121092134,-0.8602231127042969,-1.8149381096848403,0.7106076518129493,-1.4838230242342658,2.024029830166571,1.879164965830436,1.935606473469566,2.188941213584728,2.9543250022546763,-1.1358130710844943,0.004716445770199205,-0.7168993922042027,0.955069567297923,1.3300808027671909,0.7957080002648371,1.5652056214271768,0.366408129188179,1.2164923427171228,1.651443656012418,-0.2109389978437374,0.1403159176142131,-1.05617723132838,0.8983616306849949,-0.1658278942990594,0.74772257530302,1.4588674798180763,1.4077342418212957,0.09241715773561172,1.486936711666633,2.044875739441196,0.9617829773254439,-0.539662510346897,1.1301393485642255,1.9298074076267386,-0.7110620071249975,1.309407390055222,1.569122189548179,0.12674177631452432,0.5726048668502892,0.8154189313462185,1.2637359107642918,1.5353534794477801,1.3561199151282544,0.313879351322189,0.8429993959442675,1.0885932242433625,1.2801303705959162,1.1794130398159326,1.4956861214891346,-0.09696540488295333,1.921211389172093,1.79127638904274,1.677500058594823,1.072716348078307,0.6198675438093029,0.9789960432497721,2.0009160818584606,1.7149187971371267,-0.03546082287633422,-0.19176860883976518,-1.0289840281451832,-1.1829856576972728,0.8162912230764048,1.87404648854765,-0.0007567377176823976,-0.0930985826388824,0.26273650723388103,1.1319106199365236,1.1056108444868056,0.7383021923046158,1.0993248263669297,1.8009651211181343,1.192439264722031,-0.54796073810566,2.4596636465495325,-0.6683503709170144,0.5282273164631809,0.792046441911168,-0.4370482930966228,-0.6704859527274135,1.8311891488186678,0.3790164631484279,0.6565021645815075,1.7808342719994552,0.0425473149487773,0.4409080944519108,-0.7452413389847996,1.017427014875162,-1.18317544448127,0.13173485990991762,0.44850896350239017,0.8457925027741351,-1.147629700840474,0.9480627157028693,-1.4999108176110438,2.7514351241752286,0.18150651141881602,2.751872231021179,0.40094164160441165,0.6453239546501951,-0.15045443817975077,-0.19345213234647513,1.643401732921349,0.9528150712911387,-1.6467107788070703,2.219567870959741,-0.025181699575388856,-0.3658817720562675,0.12000914666985907,2.128199832896993,1.883466768274843,1.9543934431235923,2.811472970901737,1.6004331668428404,2.141922014622761,-0.09122558587885214,-0.4183974171550225,-0.4743420473193328,-0.7792208611671887,1.9781570360384018,1.9274283459607708,1.6090291852974858,2.705930375561812,1.245065820781114,0.4664813849636517,0.9152909755556619,-0.20266886360255962,1.1279136726905472,1.6273445709340906,0.6146397639972263,2.6031195172844575,1.3151202057581985,2.566168623965879,0.277959691151764,1.1344105066094574,0.4461914911557951,0.8602738334944138,0.3430566687681657,-0.36103740601857054,-1.6673972284491525,1.175513761916271,1.8255473145500813,1.2983940976864863,1.867524674702018,-1.4244063071110842,1.6655473314093718,0.6868258850027594,-1.8576497458928236,2.81848355571492,-0.3159007047784283,1.0476120999950085,0.6793053987942986,-1.2581690610651364,0.9460997337263369,0.38746293973421325,1.1478700055892113,2.146461527320549,-0.8644942763250951,1.7286907228813033,-0.9786789986155903,-1.442060321946269,0.05546434431384145,-0.6908928369114181,-1.7042674291120794,-0.17161470547312388],\"xaxis\":\"x\",\"y\":[0.4416704928840778,0.07462951046968158,-0.374785161855069,0.5334200030609354,-1.0907525011536592,-0.9348218187955349,-0.12895141803188448,-1.1001544614568968,-0.7750012309426829,-0.8702401080109757,-0.7552305743106497,-0.7680348781660029,-0.8412573095528365,0.21987690116640302,-1.2761639591262892,0.3604698498261593,-0.4434884614712018,0.573959369213345,0.4468565072744917,0.5295675385404989,0.490087673805987,-0.33189003158128244,-1.1538076681682516,-1.0004606327617618,0.8888832893978256,0.2156862322960293,0.5114661554942853,2.0838144637790177,0.8001461175805787,-0.36723933356137684,-0.024910922215636098,0.9972230285909389,0.41084946840125536,-0.45425350247345864,-0.7471720269338277,0.3216308587529041,-0.5742208908028347,-0.7388849602782595,-0.9964656181841625,0.21857818036993337,-0.8163620383795307,0.0769125364887046,0.754586467078245,0.32672334192911007,-0.22376453779470853,-0.3637257924256413,0.32871692975604433,0.3766148820150365,0.5774767205155299,1.0141967888306702,0.7780540466697742,0.08525369198099962,0.2298819477088796,-0.7350204272934999,0.5496493156100712,0.45979587041590114,0.14421453554000438,-0.17878507047939335,-0.569569229060586,0.5965135583352761,-0.044555987489911714,0.2893272524189505,0.3139566588067383,-0.5176648641140226,0.4805181373833471,-0.5361003774822711,-0.4643924456470828,0.7958449101161784,-0.9729440939038395,0.6017220321577681,-0.05460983750589188,-0.26700315778165495,-1.1390523230647862,0.18725901033681064,0.38513571599691804,0.23630978951831993,0.5632683731162822,0.1213130205875656,-0.297255434503086,-1.0426942968573347,0.5255427891291655,0.4784095887818603,0.0719631668917359,-0.21489074617136997,-0.9872826120589582,0.34136055083516537,-0.8125921377022305,-0.17156668487415547,0.8310956821098086,0.6446428457784904,0.40790804479459974,2.233532843467426,0.6183189357379496,2.4568567421460012,-0.03797278387822072,1.872565831841418,-0.5726372738967329,-0.7589097596792165,-0.9045021152858704,0.31401356354893956,0.8382270443757279,-0.0458994004163277,0.9294775588892438,-1.1748951669510665,-0.43903467249926675,-0.6658374872447617,0.34146827181882017,-0.7472657379067277,-1.0575409920131258,-0.8383032895705426,-1.0208020645092764,0.6172070750701024,2.816370785147783,-1.1165516948682657,-0.352384967875788,-1.3249672475616978,0.6379659311938995,0.5923045154254841,-0.09328237950389248,-0.20435704035333505,-0.5401447946662071,0.48692454963244347,0.2561639103034313,-0.6770373081557438,-1.2036090094920027,0.27312827554127933,-1.1798586793419654,0.5371871946650376,-1.2272374402536965,0.7072339287895234,1.995768696978411,-0.3731496372741235,2.1602722278255366,-1.3115757976595348,-1.0613859543976982,0.6740436694506424,0.3426456923597803,-0.188740283676633,0.6509401703843328,-0.15758397758162554,0.20019601255764544,-0.7139547774451703,-0.01188826331508272,-0.3110897186071562,0.088558561369283,-0.10416175790186764,-0.9497490294157543,-0.9963333035820645,-0.6740228954665253,-0.42898082248328695,-0.9396619209905583,-0.7729763618637243,-0.3469799993073404,-0.18346861260650021,-0.14455579370239852,-0.39000740686756863,-0.7050702936769698,-0.1608616770614412,-0.7853423735996283,0.1591519816152879,0.589326669351513,2.4073032397209757,0.24171750277072487,-0.8764688787844356,-0.3143006616530898,-1.184949232336497,-0.23114884456388463,0.8912107921773448,0.1721256216728876,-0.37382648012269193,1.973235589264199,-0.12266004914361592,-0.41348536606209435,0.930132479876911,-0.19526500051707274,0.47941827225340744,-0.7853705264043124,0.273111736216017,-0.39270795614018794,-0.18859646242738945,-0.622627619195333,0.561600260480472,-0.5270292036842785,-0.738948900806667,0.80346182155676,-0.4117471548805088,-0.43955313193052037,0.488723106545437,-0.7388849602782595,-0.6446932990891953,0.13951779790442595,-1.138771753668161,-0.7377742249496642,-0.1014108117619369,0.2315277789664062,-0.7209124767958363,0.49818949797274165,-1.1539338942696014,0.32255586270192366,-0.8949441940475492,0.5877107413216534,-0.01911946066540859,0.8153068445469027,1.3105244399442548,2.6619996539886333,-1.2935624208488568,-0.022798430664525172,-0.32200794024978036,0.32204434188446046,-0.9342788013565969,1.517092586980571,0.024380660078392617,0.2606789307305749,-0.9292876640723304,-0.9249010152976603,-0.0025161090670961467,0.8694798417383515,-1.082756767261096,0.8702737293509397,-0.6544258305282278,-0.8027435800061533,-0.05731401718626929,0.2812153594861685,-0.43419400678216885,-0.368065916061106,-0.5333605898368619,-1.0971341044148626,-0.5931663785702558,-0.7172284368029465,-1.1823945057163123,-0.7378486519133445,-0.4835017446380763,-0.641525705759609,-0.18869580691613688,1.1796675819097717,1.2343780003399676,-0.21567745384981973,-0.7827281773119766,-0.820654412659226,-0.8755600303972955,-0.12936609942910726,0.23257802612055903,-0.4262814002548167,0.49821610606403177,-0.2940428008909294,0.7998879606405143,-0.09323776030036135,-0.9704523961373639,-0.017751023381649172,0.1253082505346149,-0.897771005032277,-0.29081461255462393,-0.29553950299488635,-0.5792606275559132,0.43113186122020203,0.0592905785056472,0.4530319324919917,-0.4144306369165501,-0.8048141241112751,0.31809165851623344,-0.153411847734808,0.08335553959905034,-0.9930630592625967,-0.6012865411656692,0.37510487757033173,0.9118911116988015,-1.1923257244279422,0.4959440926866997,-0.6304254803175827,0.2279633859784586,0.2974804936648886,-0.25293644876487015,-0.09074081278142118,0.5965251718146981,1.4225668310802293,1.4348767881869742,-0.18998565891714198,0.16865416076631554,-0.7605084051030482,0.02859737351798255,0.5163944436835356,0.5294954724973928,0.4805358749742753,0.19171160104307908,2.653325279849003,-1.2475414666376792,-0.33193964955706906,-0.1230094475988327,0.487400248820322,0.23339454155915712,-0.7215508228474828,0.2708635489303618,0.5306802171204235,-1.056883745715643,0.5891474814575858,-0.19054739684322528,-0.41868162727233066,1.897502415717121,0.01993946748209602,0.6211286082645816,-0.91255488670381,-1.1711687245272873,0.6773366857440524,0.9399687893499744,-1.1778594337531831,-1.2451352101814726,0.532671790474511,-0.8320648354993346,-0.7145868309913768,-0.19272390014426052,-0.33193964955706906,-0.9504364299211129,-0.10899411834557585,-0.7055898687876145,-0.6352925370516238,1.1383333338838009,-0.4611677079598445,0.12099958790986617,0.2507571799472427,-0.02178974719297833,-1.0216908613604305,1.4394410670725222,-1.0511997897796206,-0.7395385761679846,0.8953900290318856,0.02414143899492347,0.3733948548041887,0.5539065611556364,-0.6775023750555199,-1.2683617712910327,-0.8221767624993606,-1.099422404432351,0.7836577025108188,-0.33488234435580644,-0.9583624117156279,0.21352070602592627,0.04830932800931486,-0.46782973646974046,0.780618409612189,-0.03285840479201255,0.5057144602281646,-1.2640046889561631,0.7611977878838612,0.0400011443352685,-0.5326742078384786,0.7751770185764264,0.2082754259727364,-0.01652300196868571,0.36516345901439734,0.18116804353336316,-0.43360647697197563,-0.8250169843620099,-1.121957094175613,0.3576292442001268,0.5118219663568737,0.6638925136647632,0.42151488968855527,-0.2136855565891094,-0.2665565247780563,-0.10952270469471939,-0.43927629011406927,-0.4250076568401739,-0.5175406038051055,1.982700782425837,-0.2692821340187777,-1.3383257872072707,-0.39039228220954003,0.023223506442868233,-1.3056634196171812,-1.2867025907901648,0.4184651815761707,-0.9911848629491153,-0.8686350259337711,2.7350781929047057,-0.20915815515577724,0.6308487586974261,-1.1990819918220539,-0.019279328939357344,2.7440638897816707,0.036564523866961705,-0.6691114591444033,0.06692684688186341,0.6084863538450601,-0.7718252967289485,-0.04387942157245047,-0.44558561196271673,-1.0426820842450795,-0.5995611417291719,-0.23073412755590303,0.48201712918636025,0.47612836016133675,0.6815518770113526,-0.7203964138959161,-0.3388810865135796,-0.27723236127911155,-1.034613685176577,-0.5402761263720887,-0.25387897493536865,-0.772123603716502,-0.7415806549265561,-0.7517658010376591,-1.0782455213896431,0.7671836456044373,-0.9971033651029756,-1.152843845220584,0.9315261099119472,-0.29554837179035065,-0.11760151897697761,-0.18075757689860797,0.8545963776675184,-0.6510195440264884,0.4002063284922385,-0.12840083689542545,-1.1024833308960162,-0.6105638573966068,-0.7475028134390729,-0.17812409660173661,0.4714635029106166,-0.7059374099875714,0.03430399289077443,0.34842695406570234,-0.9973181609619348,-0.8964150313409814,-0.13959502599545742,-0.3454263924611819,0.07946743150282248,0.28266624071113294,-0.35243951169741516,-0.18012394132335263,-0.14169016371902216,-0.7469555048978866,0.29448825211188223,0.38396600330141173,0.14535835122402177,0.7058032771543389,-0.6800151542297148,0.23757603079709827,-0.3277169917646637,0.5245476849294732,0.5401683845557995,-1.0221356257440115,1.6061496021779913,0.5606777858459602,-1.1033681847975467,-1.037194802813704,0.5101955875025,1.5831755644926484,-0.70595493220905,-1.0250138521030256,0.2347348260382326,-0.1962695726450629,-0.6705350393826232,-0.22030852648490595,0.5264613208140533,-0.818873055765985,-0.7410733896005824,0.5091303830521348,-0.8932681972173886,-0.9494483615076261,0.23329090767305902,0.13583741427019266,2.610731693547284,-0.037596106977362924,-0.38379412130163654,-0.8865983540297626,-0.7069274085827318,-0.10929678765689547,1.4483910491521788,0.05057718136267588,1.0512634584951843,-1.059617061096921,-0.8722368242852502,1.6258105720339373,-0.4511130434415813,0.09972459595973353,0.09174427434828342,-1.0256836947761465,1.613635781045525,-0.478258993899394,2.485274423250507,-1.3168884332794406,-0.38705588058902346,-0.9159474141750036,1.222228018339448,-1.061341262267752,0.8813134666185227,-0.3006573942918188,-0.8144694839026703,-1.1645654224040936,-0.21763725706111975,-0.3237615993232378,-0.8643383605518273,-0.032160240920273905,-0.6995558423371268,-0.4136677536248799,0.15794482624059336,0.0811471559131569,-1.1419413484009395,1.7881145879906337,-0.11490582432868084,0.31638343485348774,-0.005046170847319446,2.785174856916602,0.8909010870798194,-1.1377018387414055,-0.055451688138801594,0.282223406509226,-0.5432293788276163,-0.6789985848589198,-0.019727856513871028,0.4765008787431204,-0.7043299669897927,-0.8853213137738457,-0.9856452188579956,-1.3048327257738952,-0.4836003814568166,-0.936957956679631,0.3298867170828623,2.9374374394742664,-0.07437116865266252,-0.02348579555912517,0.44893219259490375,-0.691954271956141,0.5464717976623897,0.7733132160370827,-0.462396998859992,-1.1973284395808723,-1.1620788658529082,-1.1908117770336133,0.5999450375882927,0.25870800634041036,0.15915986751453562,-0.22809653591547477,-0.7054305996464982,-0.6964503921374483,-0.92874739131735,1.1275753642785085,-0.7578375194426453,-0.013747355378035812,0.6234475305445021,0.3629509170094295,0.04029786929377239,0.34147041736994427,-0.4619037079340144,0.9112543476762055,0.7875308177000755,0.7780455616376926,2.1479515073524125,-0.9123944192970276,-0.1421857443440569,-1.1701659497977972,-0.3660337602157328,-0.6145448619634516,-0.8567894038107946,0.14122584351337772,0.13334391910521745,-0.6709103026483645,0.859251130541452,0.7564392552709998,-1.083987964096917,-0.7655793874973926,-0.12432203596302188,0.7786905953229206,-1.2883523649973163,-0.5995790477140336,-0.06342863032270225,0.03772681871777611,-0.524060993932538,-0.3795943309506923,0.6507166741238423,0.22676428489694578,0.7995400356771737,0.18973871086048089,-0.2182109922300082,-1.3097113959873579,-1.1780208840561817,-0.7388849602782595,-0.5272838726596197,0.20191982996509295,-0.3933649870682211,-0.44603217374479737,-0.6710973764415397,-0.7469119398120893,0.1573362150226811,-0.6594864333195757,0.4175952849708527,-0.8640008864130009,-0.28458186322078083,0.007362387467406991,0.6523860562468365,0.6111409155496511,-1.1160866635792484,-1.009047024911859,-0.5459288010560867,0.020912471767093727,-1.1187906278901756,-0.04519862464380643,-0.04733279673546944,-1.1150186788341665,-0.35670464484712516,-0.9118984549086104,-0.2784304794644082,0.4387149880451496,0.19881952098070466,-0.5326835316188435,0.5039081988795115,0.7097728480004528,0.6310844205946549,-0.508314774169972,0.8121673328004834,-0.1256968725844977,0.5523400827076302,2.3532269491665923,0.47054364017688743,-0.004094176748523626,-0.9429352581466083,-0.9238962747757378,0.746250239136688,-1.015694588426099,0.5809538747947086,2.1888858159079234,0.2605098098977787,-1.2351839399338562,-1.2331746272839432,-0.5039587832684932,-0.02057508968241921,-0.3251842582268981,0.07478076092837514,0.6748911179886411,0.17826620645212202,0.27560459493250344,-1.0965530468688007,0.02904917368776923,-1.292511406167938,0.4008512180295339,-0.06568972482096445,0.6029093043904088,-0.0016463566097108945,0.7890077434942553,-0.04476980045265456,-0.05525448742773609,0.44603348396100345,-0.747717440904099,0.18919055220625286,0.4033363349947046,-0.5643775099328069,0.6068405225875334,-0.2758509438563305,0.5862517684878521,-0.005426575328350963,0.7804242644220494,-1.0351264042597066,0.3863924893473988,-0.526049655913632,-1.1134350619280646,1.2318476989442932,-0.35428579201528004,-0.16574801780470172,-1.2304731922875236,0.34618489259645163,-0.009459485865141656,-0.05916993382636446,0.23405315451623976,0.2758074308643133,0.5802805199108637,-1.0665040610640806,1.7584124001051051,-1.1372402840523537,1.6902401936115194,0.5316760871419854,-1.048072874408839,-0.9161413439956931,0.5751360222275385,-0.942365885301486,0.4744029607248391,-0.7009881116121194,-0.047290177230232405,-0.8127939178114092,-1.1188319762033312,0.4596935433326426,-1.0795723949907965],\"yaxis\":\"y\",\"type\":\"scattergl\"}],                        {\"template\":{\"data\":{\"bar\":[{\"error_x\":{\"color\":\"#2a3f5f\"},\"error_y\":{\"color\":\"#2a3f5f\"},\"marker\":{\"line\":{\"color\":\"#E5ECF6\",\"width\":0.5},\"pattern\":{\"fillmode\":\"overlay\",\"size\":10,\"solidity\":0.2}},\"type\":\"bar\"}],\"barpolar\":[{\"marker\":{\"line\":{\"color\":\"#E5ECF6\",\"width\":0.5},\"pattern\":{\"fillmode\":\"overlay\",\"size\":10,\"solidity\":0.2}},\"type\":\"barpolar\"}],\"carpet\":[{\"aaxis\":{\"endlinecolor\":\"#2a3f5f\",\"gridcolor\":\"white\",\"linecolor\":\"white\",\"minorgridcolor\":\"white\",\"startlinecolor\":\"#2a3f5f\"},\"baxis\":{\"endlinecolor\":\"#2a3f5f\",\"gridcolor\":\"white\",\"linecolor\":\"white\",\"minorgridcolor\":\"white\",\"startlinecolor\":\"#2a3f5f\"},\"type\":\"carpet\"}],\"choropleth\":[{\"colorbar\":{\"outlinewidth\":0,\"ticks\":\"\"},\"type\":\"choropleth\"}],\"contour\":[{\"colorbar\":{\"outlinewidth\":0,\"ticks\":\"\"},\"colorscale\":[[0.0,\"#0d0887\"],[0.1111111111111111,\"#46039f\"],[0.2222222222222222,\"#7201a8\"],[0.3333333333333333,\"#9c179e\"],[0.4444444444444444,\"#bd3786\"],[0.5555555555555556,\"#d8576b\"],[0.6666666666666666,\"#ed7953\"],[0.7777777777777778,\"#fb9f3a\"],[0.8888888888888888,\"#fdca26\"],[1.0,\"#f0f921\"]],\"type\":\"contour\"}],\"contourcarpet\":[{\"colorbar\":{\"outlinewidth\":0,\"ticks\":\"\"},\"type\":\"contourcarpet\"}],\"heatmap\":[{\"colorbar\":{\"outlinewidth\":0,\"ticks\":\"\"},\"colorscale\":[[0.0,\"#0d0887\"],[0.1111111111111111,\"#46039f\"],[0.2222222222222222,\"#7201a8\"],[0.3333333333333333,\"#9c179e\"],[0.4444444444444444,\"#bd3786\"],[0.5555555555555556,\"#d8576b\"],[0.6666666666666666,\"#ed7953\"],[0.7777777777777778,\"#fb9f3a\"],[0.8888888888888888,\"#fdca26\"],[1.0,\"#f0f921\"]],\"type\":\"heatmap\"}],\"heatmapgl\":[{\"colorbar\":{\"outlinewidth\":0,\"ticks\":\"\"},\"colorscale\":[[0.0,\"#0d0887\"],[0.1111111111111111,\"#46039f\"],[0.2222222222222222,\"#7201a8\"],[0.3333333333333333,\"#9c179e\"],[0.4444444444444444,\"#bd3786\"],[0.5555555555555556,\"#d8576b\"],[0.6666666666666666,\"#ed7953\"],[0.7777777777777778,\"#fb9f3a\"],[0.8888888888888888,\"#fdca26\"],[1.0,\"#f0f921\"]],\"type\":\"heatmapgl\"}],\"histogram\":[{\"marker\":{\"pattern\":{\"fillmode\":\"overlay\",\"size\":10,\"solidity\":0.2}},\"type\":\"histogram\"}],\"histogram2d\":[{\"colorbar\":{\"outlinewidth\":0,\"ticks\":\"\"},\"colorscale\":[[0.0,\"#0d0887\"],[0.1111111111111111,\"#46039f\"],[0.2222222222222222,\"#7201a8\"],[0.3333333333333333,\"#9c179e\"],[0.4444444444444444,\"#bd3786\"],[0.5555555555555556,\"#d8576b\"],[0.6666666666666666,\"#ed7953\"],[0.7777777777777778,\"#fb9f3a\"],[0.8888888888888888,\"#fdca26\"],[1.0,\"#f0f921\"]],\"type\":\"histogram2d\"}],\"histogram2dcontour\":[{\"colorbar\":{\"outlinewidth\":0,\"ticks\":\"\"},\"colorscale\":[[0.0,\"#0d0887\"],[0.1111111111111111,\"#46039f\"],[0.2222222222222222,\"#7201a8\"],[0.3333333333333333,\"#9c179e\"],[0.4444444444444444,\"#bd3786\"],[0.5555555555555556,\"#d8576b\"],[0.6666666666666666,\"#ed7953\"],[0.7777777777777778,\"#fb9f3a\"],[0.8888888888888888,\"#fdca26\"],[1.0,\"#f0f921\"]],\"type\":\"histogram2dcontour\"}],\"mesh3d\":[{\"colorbar\":{\"outlinewidth\":0,\"ticks\":\"\"},\"type\":\"mesh3d\"}],\"parcoords\":[{\"line\":{\"colorbar\":{\"outlinewidth\":0,\"ticks\":\"\"}},\"type\":\"parcoords\"}],\"pie\":[{\"automargin\":true,\"type\":\"pie\"}],\"scatter\":[{\"marker\":{\"colorbar\":{\"outlinewidth\":0,\"ticks\":\"\"}},\"type\":\"scatter\"}],\"scatter3d\":[{\"line\":{\"colorbar\":{\"outlinewidth\":0,\"ticks\":\"\"}},\"marker\":{\"colorbar\":{\"outlinewidth\":0,\"ticks\":\"\"}},\"type\":\"scatter3d\"}],\"scattercarpet\":[{\"marker\":{\"colorbar\":{\"outlinewidth\":0,\"ticks\":\"\"}},\"type\":\"scattercarpet\"}],\"scattergeo\":[{\"marker\":{\"colorbar\":{\"outlinewidth\":0,\"ticks\":\"\"}},\"type\":\"scattergeo\"}],\"scattergl\":[{\"marker\":{\"colorbar\":{\"outlinewidth\":0,\"ticks\":\"\"}},\"type\":\"scattergl\"}],\"scattermapbox\":[{\"marker\":{\"colorbar\":{\"outlinewidth\":0,\"ticks\":\"\"}},\"type\":\"scattermapbox\"}],\"scatterpolar\":[{\"marker\":{\"colorbar\":{\"outlinewidth\":0,\"ticks\":\"\"}},\"type\":\"scatterpolar\"}],\"scatterpolargl\":[{\"marker\":{\"colorbar\":{\"outlinewidth\":0,\"ticks\":\"\"}},\"type\":\"scatterpolargl\"}],\"scatterternary\":[{\"marker\":{\"colorbar\":{\"outlinewidth\":0,\"ticks\":\"\"}},\"type\":\"scatterternary\"}],\"surface\":[{\"colorbar\":{\"outlinewidth\":0,\"ticks\":\"\"},\"colorscale\":[[0.0,\"#0d0887\"],[0.1111111111111111,\"#46039f\"],[0.2222222222222222,\"#7201a8\"],[0.3333333333333333,\"#9c179e\"],[0.4444444444444444,\"#bd3786\"],[0.5555555555555556,\"#d8576b\"],[0.6666666666666666,\"#ed7953\"],[0.7777777777777778,\"#fb9f3a\"],[0.8888888888888888,\"#fdca26\"],[1.0,\"#f0f921\"]],\"type\":\"surface\"}],\"table\":[{\"cells\":{\"fill\":{\"color\":\"#EBF0F8\"},\"line\":{\"color\":\"white\"}},\"header\":{\"fill\":{\"color\":\"#C8D4E3\"},\"line\":{\"color\":\"white\"}},\"type\":\"table\"}]},\"layout\":{\"annotationdefaults\":{\"arrowcolor\":\"#2a3f5f\",\"arrowhead\":0,\"arrowwidth\":1},\"autotypenumbers\":\"strict\",\"coloraxis\":{\"colorbar\":{\"outlinewidth\":0,\"ticks\":\"\"}},\"colorscale\":{\"diverging\":[[0,\"#8e0152\"],[0.1,\"#c51b7d\"],[0.2,\"#de77ae\"],[0.3,\"#f1b6da\"],[0.4,\"#fde0ef\"],[0.5,\"#f7f7f7\"],[0.6,\"#e6f5d0\"],[0.7,\"#b8e186\"],[0.8,\"#7fbc41\"],[0.9,\"#4d9221\"],[1,\"#276419\"]],\"sequential\":[[0.0,\"#0d0887\"],[0.1111111111111111,\"#46039f\"],[0.2222222222222222,\"#7201a8\"],[0.3333333333333333,\"#9c179e\"],[0.4444444444444444,\"#bd3786\"],[0.5555555555555556,\"#d8576b\"],[0.6666666666666666,\"#ed7953\"],[0.7777777777777778,\"#fb9f3a\"],[0.8888888888888888,\"#fdca26\"],[1.0,\"#f0f921\"]],\"sequentialminus\":[[0.0,\"#0d0887\"],[0.1111111111111111,\"#46039f\"],[0.2222222222222222,\"#7201a8\"],[0.3333333333333333,\"#9c179e\"],[0.4444444444444444,\"#bd3786\"],[0.5555555555555556,\"#d8576b\"],[0.6666666666666666,\"#ed7953\"],[0.7777777777777778,\"#fb9f3a\"],[0.8888888888888888,\"#fdca26\"],[1.0,\"#f0f921\"]]},\"colorway\":[\"#636efa\",\"#EF553B\",\"#00cc96\",\"#ab63fa\",\"#FFA15A\",\"#19d3f3\",\"#FF6692\",\"#B6E880\",\"#FF97FF\",\"#FECB52\"],\"font\":{\"color\":\"#2a3f5f\"},\"geo\":{\"bgcolor\":\"white\",\"lakecolor\":\"white\",\"landcolor\":\"#E5ECF6\",\"showlakes\":true,\"showland\":true,\"subunitcolor\":\"white\"},\"hoverlabel\":{\"align\":\"left\"},\"hovermode\":\"closest\",\"mapbox\":{\"style\":\"light\"},\"paper_bgcolor\":\"white\",\"plot_bgcolor\":\"#E5ECF6\",\"polar\":{\"angularaxis\":{\"gridcolor\":\"white\",\"linecolor\":\"white\",\"ticks\":\"\"},\"bgcolor\":\"#E5ECF6\",\"radialaxis\":{\"gridcolor\":\"white\",\"linecolor\":\"white\",\"ticks\":\"\"}},\"scene\":{\"xaxis\":{\"backgroundcolor\":\"#E5ECF6\",\"gridcolor\":\"white\",\"gridwidth\":2,\"linecolor\":\"white\",\"showbackground\":true,\"ticks\":\"\",\"zerolinecolor\":\"white\"},\"yaxis\":{\"backgroundcolor\":\"#E5ECF6\",\"gridcolor\":\"white\",\"gridwidth\":2,\"linecolor\":\"white\",\"showbackground\":true,\"ticks\":\"\",\"zerolinecolor\":\"white\"},\"zaxis\":{\"backgroundcolor\":\"#E5ECF6\",\"gridcolor\":\"white\",\"gridwidth\":2,\"linecolor\":\"white\",\"showbackground\":true,\"ticks\":\"\",\"zerolinecolor\":\"white\"}},\"shapedefaults\":{\"line\":{\"color\":\"#2a3f5f\"}},\"ternary\":{\"aaxis\":{\"gridcolor\":\"white\",\"linecolor\":\"white\",\"ticks\":\"\"},\"baxis\":{\"gridcolor\":\"white\",\"linecolor\":\"white\",\"ticks\":\"\"},\"bgcolor\":\"#E5ECF6\",\"caxis\":{\"gridcolor\":\"white\",\"linecolor\":\"white\",\"ticks\":\"\"}},\"title\":{\"x\":0.05},\"xaxis\":{\"automargin\":true,\"gridcolor\":\"white\",\"linecolor\":\"white\",\"ticks\":\"\",\"title\":{\"standoff\":15},\"zerolinecolor\":\"white\",\"zerolinewidth\":2},\"yaxis\":{\"automargin\":true,\"gridcolor\":\"white\",\"linecolor\":\"white\",\"ticks\":\"\",\"title\":{\"standoff\":15},\"zerolinecolor\":\"white\",\"zerolinewidth\":2}}},\"xaxis\":{\"anchor\":\"y\",\"domain\":[0.0,1.0],\"title\":{\"text\":\"PC1\"},\"showgrid\":true,\"gridwidth\":1,\"gridcolor\":\"lightgrey\",\"zeroline\":true,\"zerolinewidth\":1,\"zerolinecolor\":\"lightgrey\",\"showline\":true,\"linewidth\":1,\"linecolor\":\"black\"},\"yaxis\":{\"anchor\":\"x\",\"domain\":[0.0,1.0],\"title\":{\"text\":\"PC2\"},\"showgrid\":true,\"gridwidth\":1,\"gridcolor\":\"lightgrey\",\"zeroline\":true,\"zerolinewidth\":1,\"zerolinecolor\":\"lightgrey\",\"showline\":true,\"linewidth\":1,\"linecolor\":\"black\"},\"legend\":{\"title\":{\"text\":\"is_safe\"},\"tracegroupgap\":0},\"margin\":{\"t\":60},\"plot_bgcolor\":\"white\",\"title\":{\"text\":\"PCA scatter plot\"}},                        {\"responsive\": true}                    ).then(function(){\n",
       "                            \n",
       "var gd = document.getElementById('1683f803-04ce-4229-99c0-671355a6d559');\n",
       "var x = new MutationObserver(function (mutations, observer) {{\n",
       "        var display = window.getComputedStyle(gd).display;\n",
       "        if (!display || display === 'none') {{\n",
       "            console.log([gd, 'removed!']);\n",
       "            Plotly.purge(gd);\n",
       "            observer.disconnect();\n",
       "        }}\n",
       "}});\n",
       "\n",
       "// Listen for the removal of the full notebook cells\n",
       "var notebookContainer = gd.closest('#notebook-container');\n",
       "if (notebookContainer) {{\n",
       "    x.observe(notebookContainer, {childList: true});\n",
       "}}\n",
       "\n",
       "// Listen for the clearing of the current output cell\n",
       "var outputEl = gd.closest('.output');\n",
       "if (outputEl) {{\n",
       "    x.observe(outputEl, {childList: true});\n",
       "}}\n",
       "\n",
       "                        })                };                });            </script>        </div>"
      ]
     },
     "metadata": {},
     "output_type": "display_data"
    }
   ],
   "source": [
    "# Create a scatter plot\n",
    "fig = px.scatter(OriginalDataForLDA, x=X_trans_pca_train[:,0], y=X_trans_pca_train[:,1], \n",
    "                 labels={\n",
    "                     \"x\": \"PC1\",\n",
    "                     \"y\": \"PC2\",\n",
    "                     \"color\" : \"is_safe\"\n",
    "                 },\n",
    "                 opacity=1, color=y_train)\n",
    "\n",
    "# Change chart background color\n",
    "fig.update_layout(dict(plot_bgcolor = 'white'))\n",
    "\n",
    "# Update axes lines\n",
    "fig.update_xaxes(showgrid=True, gridwidth=1, gridcolor='lightgrey', \n",
    "                 zeroline=True, zerolinewidth=1, zerolinecolor='lightgrey', \n",
    "                 showline=True, linewidth=1, linecolor='black')\n",
    "\n",
    "fig.update_yaxes(showgrid=True, gridwidth=1, gridcolor='lightgrey', \n",
    "                 zeroline=True, zerolinewidth=1, zerolinecolor='lightgrey', \n",
    "                 showline=True, linewidth=1, linecolor='black')\n",
    "\n",
    "# Set figure title\n",
    "fig.update_layout(title_text=\"PCA scatter plot\")\n",
    "\n",
    "# Update marker size\n",
    "fig.update_traces(marker=dict(size=3))\n",
    "\n",
    "fig.show()"
   ]
  },
  {
   "cell_type": "code",
   "execution_count": 76,
   "id": "39da1f3c",
   "metadata": {},
   "outputs": [
    {
     "name": "stdout",
     "output_type": "stream",
     "text": [
      "*************** PCA Summary ***************\n",
      "No. of features:  3\n",
      "No. of samples:  1368\n",
      "No. of components:  2\n",
      "Explained variance ratio:  [0.52623928 0.25771004]\n"
     ]
    }
   ],
   "source": [
    "pca = PCA(n_components=2)                       \n",
    "\n",
    "# Fit the model\n",
    "X_trans_pca_train=pca.fit_transform(X_std_train)\n",
    "\n",
    "# Print the results\n",
    "print('*************** PCA Summary ***************')\n",
    "print('No. of features: ', pca.n_features_)\n",
    "print('No. of samples: ', pca.n_samples_)\n",
    "print('No. of components: ', pca.n_components_)\n",
    "print('Explained variance ratio: ', pca.explained_variance_ratio_)"
   ]
  },
  {
   "cell_type": "code",
   "execution_count": 77,
   "id": "d7360714",
   "metadata": {},
   "outputs": [
    {
     "name": "stdout",
     "output_type": "stream",
     "text": [
      "Goodness of Fit of Model for PCA with ALL variables \tTrain Dataset\n",
      "Classification Accuracy \t: 0.7945906432748538\n",
      "\n",
      "RECALL==TRUE POSITIVE RATE\n",
      "              precision    recall  f1-score   support\n",
      "\n",
      "           0       0.78      0.83      0.80       687\n",
      "           1       0.81      0.76      0.79       681\n",
      "\n",
      "    accuracy                           0.79      1368\n",
      "   macro avg       0.80      0.79      0.79      1368\n",
      "weighted avg       0.80      0.79      0.79      1368\n",
      "\n"
     ]
    }
   ],
   "source": [
    "# Decision Tree using Train Data\n",
    "dectree = DecisionTreeClassifier(max_depth = 4)  # create the decision tree object\n",
    "dectree.fit(X_trans_pca_train, y_train)                    # train the decision tree model\n",
    "\n",
    "# Predict Response corresponding to Predictors\n",
    "y_train_pred = dectree.predict(X_trans_pca_train)\n",
    "\n",
    "\n",
    "print(\"Goodness of Fit of Model for PCA with ALL variables \\tTrain Dataset\")\n",
    "print(\"Classification Accuracy \\t:\", dectree.score(X_trans_pca_train, y_train))\n",
    "print()\n",
    "print(\"RECALL==TRUE POSITIVE RATE\")\n",
    "\n",
    "print(classification_report(y_train, y_train_pred))"
   ]
  },
  {
   "cell_type": "code",
   "execution_count": null,
   "id": "0796d0f4",
   "metadata": {},
   "outputs": [],
   "source": []
  },
  {
   "cell_type": "code",
   "execution_count": null,
   "id": "ba371fef",
   "metadata": {},
   "outputs": [],
   "source": []
  },
  {
   "cell_type": "code",
   "execution_count": null,
   "id": "ce0ddb45",
   "metadata": {},
   "outputs": [],
   "source": []
  }
 ],
 "metadata": {
  "kernelspec": {
   "display_name": "Python 3 (ipykernel)",
   "language": "python",
   "name": "python3"
  },
  "language_info": {
   "codemirror_mode": {
    "name": "ipython",
    "version": 3
   },
   "file_extension": ".py",
   "mimetype": "text/x-python",
   "name": "python",
   "nbconvert_exporter": "python",
   "pygments_lexer": "ipython3",
   "version": "3.9.7"
  }
 },
 "nbformat": 4,
 "nbformat_minor": 5
}
